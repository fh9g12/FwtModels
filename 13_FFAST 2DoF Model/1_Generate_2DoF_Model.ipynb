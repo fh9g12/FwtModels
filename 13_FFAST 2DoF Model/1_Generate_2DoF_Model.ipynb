{
 "cells": [
  {
   "cell_type": "code",
   "execution_count": 2,
   "metadata": {},
   "outputs": [],
   "source": [
    "import sympy as sym\n",
    "import sympy.physics.mechanics as me\n",
    "from sympy.abc import t as time\n",
    "import pandas as pd\n",
    "import seaborn as sns\n",
    "\n",
    "import numpy as np\n",
    "from scipy.integrate import solve_ivp\n",
    "import matplotlib.pyplot as plt\n",
    "\n",
    "import sys, os\n",
    "\n",
    "sys.path.insert(1, os.path.join(sys.path[0], '..'))\n",
    "import custom_plot_objects as cpo\n",
    "\n",
    "import ModelFramework as mf\n",
    "import ModelFramework.Elements as ele\n",
    "import ModelFramework.ExternalForces as ef\n",
    "import FwtModels.RectWing as rw\n",
    "import FwtModels.TwoDoF as TwoDof\n",
    "import FwtModels as fm\n",
    "\n",
    "from matplotlib.lines import Line2D\n",
    "\n",
    "me.mechanics_printing()"
   ]
  },
  {
   "cell_type": "code",
   "execution_count": 3,
   "metadata": {},
   "outputs": [],
   "source": [
    "half = sym.Rational(1,2)\n",
    "\n",
    "p = TwoDof.base_params()"
   ]
  },
  {
   "cell_type": "code",
   "execution_count": 35,
   "metadata": {},
   "outputs": [],
   "source": [
    "#define refernce frames\n",
    "wing_root_frame = mf.HomogenousTransform().Translate(0,0,p.q[0]).R_x(-p.q[1])\n",
    "wing_aero_frame = wing_root_frame.Translate(0,p.y_0,0)\n",
    "wing_com_frame = wing_root_frame.Translate(0,p.l_com,0)\n",
    "\n",
    "#Create Elemnts\n",
    "M_fwt = ele.MassMatrix(p.m,I_xx = p.I_xx)\n",
    "M_innerWing = ele.RigidElement.PointMass(wing_root_frame,p.m_w,True)\n",
    "\n",
    "fwt_ele = ele.RigidElement(wing_com_frame,M_fwt,True)\n",
    "spring_ele = ele.Spring(p.q[0],p.k_w)\n",
    "spring_ele_fwt = ele.Spring(p.q[1],p.k_fwt)\n",
    "\n",
    "\n",
    "# Create AeroForces\n",
    "wing_AeroForces = ef.AeroForce.PerUnitSpan(p,wing_aero_frame,p.a_0,\n",
    "                               alphadot = p.alphadot_1,\n",
    "                               M_thetadot = p.M_thetadot,\n",
    "                               e = 0,\n",
    "                               w_g = 0,\n",
    "                               rootAlpha = p.alpha_1,\n",
    "                               alpha_zero = 0,\n",
    "                               c = p.c,\n",
    "                            c_d_max = 0,stall_angle=0,linear=True)#.integrate((p.y_0,0,p.s))\n",
    "\n",
    "# Setup AoA of FWT\n",
    "#fwt_aoa = fm.GetAoA(p.alpha_r,0,p.Lambda,p.q[1])\n",
    "\n",
    "## Sub in Aero Forces\n",
    "#wing_AeroForces = wing_AeroForces.subs({p.alpha_1:fwt_aoa,p.alphadot_1:fwt_aoa.diff(time)})\n",
    "\n",
    "forces = [wing_AeroForces]\n",
    "forces = []\n",
    "segments = 1\n",
    "for i in range(segments):\n",
    "    seg_width = p.s/segments\n",
    "    yi = seg_width/2 + i*seg_width\n",
    "    forces.append(wing_AeroForces.subs({p.y_0:yi})*seg_width)\n",
    "Q = sym.Matrix([0]*p.qs)\n",
    "for f in forces:\n",
    "    Q += f.Q()\n",
    "c_forces = ef.ExternalForce(Q)"
   ]
  },
  {
   "cell_type": "code",
   "execution_count": 36,
   "metadata": {},
   "outputs": [],
   "source": [
    "sm = mf.SymbolicModel.FromElementsAndForces(p,[M_innerWing,fwt_ele,spring_ele,spring_ele_fwt],c_forces)"
   ]
  },
  {
   "cell_type": "code",
   "execution_count": 37,
   "metadata": {},
   "outputs": [],
   "source": [
    "sm.to_file('2Dof_Model.py')"
   ]
  },
  {
   "cell_type": "code",
   "execution_count": 38,
   "metadata": {},
   "outputs": [
    {
     "data": {
      "text/latex": [
       "$\\displaystyle \\left[\\begin{matrix}m + m_{w} & - l_{com} m \\cos{\\left(q_{1} \\right)}\\\\- l_{com} m \\cos{\\left(q_{1} \\right)} & I_{xx} + l_{com}^{2} m\\end{matrix}\\right]$"
      ],
      "text/plain": [
       "⎡    m + m_w       -l_com⋅m⋅cos(q₁)⎤\n",
       "⎢                                  ⎥\n",
       "⎢                              2   ⎥\n",
       "⎣-l_com⋅m⋅cos(q₁)   Iₓₓ + l_com ⋅m ⎦"
      ]
     },
     "execution_count": 38,
     "metadata": {},
     "output_type": "execute_result"
    }
   ],
   "source": [
    "sm.M"
   ]
  },
  {
   "cell_type": "code",
   "execution_count": 39,
   "metadata": {},
   "outputs": [
    {
     "data": {
      "text/latex": [
       "$\\displaystyle \\left[\\begin{matrix}g m + g m_{w} + k_{w} q_{0} + l_{com} m \\sin{\\left(q_{1} \\right)} \\dot{q}_{1}^{2}\\\\- g l_{com} m \\cos{\\left(q_{1} \\right)} + k_{fwt} q_{1}\\end{matrix}\\right]$"
      ],
      "text/plain": [
       "⎡                                         2⎤\n",
       "⎢g⋅m + g⋅m_w + k_w⋅q₀ + l_com⋅m⋅sin(q₁)⋅q₁̇ ⎥\n",
       "⎢                                          ⎥\n",
       "⎣      -g⋅l_com⋅m⋅cos(q₁) + k_fwt⋅q₁       ⎦"
      ]
     },
     "execution_count": 39,
     "metadata": {},
     "output_type": "execute_result"
    }
   ],
   "source": [
    "sm.f"
   ]
  },
  {
   "cell_type": "code",
   "execution_count": 40,
   "metadata": {},
   "outputs": [
    {
     "data": {
      "text/latex": [
       "$\\displaystyle \\left[\\begin{matrix}\\frac{V^{2} a_{0} c \\rho s \\left(\\alpha_{1} - \\frac{- \\frac{s \\dot{q}_{1}}{2} + \\cos{\\left(q_{1} \\right)} \\dot{q}_{0}}{V}\\right) \\cos{\\left(q_{1} \\right)}}{2}\\\\- \\frac{V^{2} a_{0} c \\rho s^{2} \\left(\\alpha_{1} - \\frac{- \\frac{s \\dot{q}_{1}}{2} + \\cos{\\left(q_{1} \\right)} \\dot{q}_{0}}{V}\\right)}{4}\\end{matrix}\\right]$"
      ],
      "text/plain": [
       "⎡            ⎛       s⋅q₁̇             ⎞        ⎤\n",
       "⎢            ⎜     - ──── + cos(q₁)⋅q₀̇⎟        ⎥\n",
       "⎢ 2          ⎜        2               ⎟        ⎥\n",
       "⎢V ⋅a₀⋅c⋅ρ⋅s⋅⎜α₁ - ───────────────────⎟⋅cos(q₁)⎥\n",
       "⎢            ⎝              V         ⎠        ⎥\n",
       "⎢──────────────────────────────────────────────⎥\n",
       "⎢                      2                       ⎥\n",
       "⎢                                              ⎥\n",
       "⎢                ⎛       s⋅q₁̇             ⎞    ⎥\n",
       "⎢                ⎜     - ──── + cos(q₁)⋅q₀̇⎟    ⎥\n",
       "⎢    2         2 ⎜        2               ⎟    ⎥\n",
       "⎢  -V ⋅a₀⋅c⋅ρ⋅s ⋅⎜α₁ - ───────────────────⎟    ⎥\n",
       "⎢                ⎝              V         ⎠    ⎥\n",
       "⎢  ─────────────────────────────────────────   ⎥\n",
       "⎣                      4                       ⎦"
      ]
     },
     "execution_count": 40,
     "metadata": {},
     "output_type": "execute_result"
    }
   ],
   "source": [
    "sm.ExtForces.Q()"
   ]
  },
  {
   "cell_type": "code",
   "execution_count": null,
   "metadata": {},
   "outputs": [],
   "source": []
  }
 ],
 "metadata": {
  "kernelspec": {
   "display_name": "Python 3",
   "language": "python",
   "name": "python3"
  },
  "language_info": {
   "codemirror_mode": {
    "name": "ipython",
    "version": 3
   },
   "file_extension": ".py",
   "mimetype": "text/x-python",
   "name": "python",
   "nbconvert_exporter": "python",
   "pygments_lexer": "ipython3",
   "version": "3.7.7"
  }
 },
 "nbformat": 4,
 "nbformat_minor": 4
}
