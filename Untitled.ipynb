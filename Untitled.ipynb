{
 "cells": [
  {
   "cell_type": "code",
   "execution_count": 1,
   "metadata": {},
   "outputs": [],
   "source": [
    "from FwtModels import AssumedShape\n",
    "import numpy as np\n",
    "import sympy as sym\n",
    "import sympy.physics.mechanics as me\n",
    "from sympy.abc import y,x"
   ]
  },
  {
   "cell_type": "code",
   "execution_count": 2,
   "metadata": {},
   "outputs": [
    {
     "data": {
      "text/plain": [
       "[m_w, 0]"
      ]
     },
     "execution_count": 2,
     "metadata": {},
     "output_type": "execute_result"
    }
   ],
   "source": [
    "p = AssumedShape.FwtParameters()\n",
    "[p.m_w,p.m_w.value]"
   ]
  },
  {
   "cell_type": "code",
   "execution_count": 3,
   "metadata": {},
   "outputs": [],
   "source": [
    "me.mechanics_printing()\n",
    "\n",
    "q0,q1,q2 = me.dynamicsymbols('q:3')\n",
    "_t = me.dynamicsymbols._t\n",
    "q = sym.Matrix([q0,q1,q2])\n",
    "\n",
    "z_w = q0*y**2+q1*(x-p.x_f)*y\n",
    "alpha_w = sym.Rational(0,1)\n",
    "z_t = z_w.subs(y,p.s_w) + q2*(y)\n",
    "alpha_t = alpha_w.subs(y,p.s_w) + q2*sym.sin(p.Lambda)\n",
    "\n",
    "sModel = AssumedShape.SymbolicModel(q,z_w,alpha_w,z_t,alpha_t,p)\n",
    "sModel.GenerateEoM()\n",
    "nModel = sModel.createNumericInstance()"
   ]
  },
  {
   "cell_type": "code",
   "execution_count": 18,
   "metadata": {},
   "outputs": [
    {
     "data": {
      "text/latex": [
       "$\\displaystyle \\left[\\begin{matrix}\\ddot{q}_{0}\\\\\\ddot{q}_{1}\\\\\\ddot{q}_{2}\\end{matrix}\\right]$"
      ],
      "text/plain": [
       "⎡q₀̈⎤\n",
       "⎢  ⎥\n",
       "⎢q₁̈⎥\n",
       "⎢  ⎥\n",
       "⎣q₂̈⎦"
      ]
     },
     "execution_count": 18,
     "metadata": {},
     "output_type": "execute_result"
    }
   ],
   "source": [
    "q.diff(_t,_t)"
   ]
  },
  {
   "cell_type": "code",
   "execution_count": 4,
   "metadata": {},
   "outputs": [
    {
     "data": {
      "image/png": "[encoded data removed]",
      "text/latex": [
       "$\\displaystyle 1$"
      ],
      "text/plain": [
       "1"
      ]
     },
     "execution_count": 4,
     "metadata": {},
     "output_type": "execute_result"
    }
   ],
   "source": []
  },
  {
   "cell_type": "code",
   "execution_count": 8,
   "metadata": {},
   "outputs": [
    {
     "data": {
      "text/plain": [
       "<FwtModels.AssumedShape.FwtParameters at 0x2926321f948>"
      ]
     },
     "execution_count": 8,
     "metadata": {},
     "output_type": "execute_result"
    }
   ],
   "source": [
    "p"
   ]
  },
  {
   "cell_type": "code",
   "execution_count": 12,
   "metadata": {},
   "outputs": [
    {
     "data": {
      "image/png": "[encoded data removed]",
      "text/latex": [
       "$\\displaystyle \\left( 0, \\  0, \\  0, \\  0, \\  0, \\  0, \\  0, \\  0, \\  0, \\  0, \\  0, \\  0, \\  0, \\  0, \\  0, \\  0, \\  0, \\  0\\right)$"
      ],
      "text/plain": [
       "(0, 0, 0, 0, 0, 0, 0, 0, 0, 0, 0, 0, 0, 0, 0, 0, 0, 0)"
      ]
     },
     "execution_count": 12,
     "metadata": {},
     "output_type": "execute_result"
    }
   ],
   "source": [
    "tuple(map(lambda x:x.value,p.GetTuple()))"
   ]
  },
  {
   "cell_type": "code",
   "execution_count": null,
   "metadata": {},
   "outputs": [],
   "source": []
  }
 ],
 "metadata": {
  "kernelspec": {
   "display_name": "Python 3.7.6 64-bit ('base': conda)",
   "language": "python",
   "name": "python37664bitbasecondac656017b161743c29c94367edc1c83c4"
  },
  "language_info": {
   "codemirror_mode": {
    "name": "ipython",
    "version": 3
   },
   "file_extension": ".py",
   "mimetype": "text/x-python",
   "name": "python",
   "nbconvert_exporter": "python",
   "pygments_lexer": "ipython3",
   "version": "3.7.6"
  }
 },
 "nbformat": 4,
 "nbformat_minor": 2
}
