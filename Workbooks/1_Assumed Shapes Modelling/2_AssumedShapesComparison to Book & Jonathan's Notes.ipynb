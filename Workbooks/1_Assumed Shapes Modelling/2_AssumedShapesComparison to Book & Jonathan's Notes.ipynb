{
 "cells": [
  {
   "cell_type": "markdown",
   "metadata": {},
   "source": [
    "# Comparison To Matricies from Jonathans Book / Notes ( Continous Beam )\n",
    "\n",
    "Firstly we will compare the symbolic matricies with those created by Jonathan\n",
    "\n",
    "## Preamble"
   ]
  },
  {
   "cell_type": "code",
   "execution_count": 1,
   "metadata": {},
   "outputs": [],
   "source": [
    "import sympy as sym\n",
    "import sympy.physics.mechanics as me\n",
    "from sympy.abc import t as time\n",
    "import pandas as pd\n",
    "import seaborn as sns\n",
    "\n",
    "import numpy as np\n",
    "from scipy.integrate import odeint,LSODA,BDF,solve_ivp\n",
    "from scipy.linalg import eig\n",
    "from scipy.optimize import fsolve\n",
    "import matplotlib.pyplot as plt\n",
    "\n",
    "import moyra as ma\n",
    "import moyra.elements as ele\n",
    "import moyra.forces as ef\n",
    "\n",
    "import sys, os\n",
    "sys.path.insert(1, os.path.join(sys.path[0], '../..'))\n",
    "import custom_plot_objects as cpo\n",
    "import FwtModels as mf\n",
    "\n",
    "me.mechanics_printing()"
   ]
  },
  {
   "cell_type": "markdown",
   "metadata": {},
   "source": [
    "## 1 Bending and 1 Torsion\n",
    "\n",
    "Within Jonathans book (section 11.6) the following equation is 'derived' for a rectangluar wing with one mode in both bending and torsion\n",
    "\n",
    "$m\\left[\\begin{array}{cc}{\\frac{c s^{5}}{5}} & {\\frac{s^{4}}{4}\\left(\\frac{c^{2}}{2}-c x_{\\mathrm{f}}\\right)} \\\\ {\\frac{s^{4}}{4}\\left(\\frac{c^{2}}{2}-c x_{\\mathrm{f}}\\right)} & {\\frac{s^{3}}{3}\\left(\\frac{c^{3}}{3}-c^{2} x_{\\mathrm{f}}+c x_{\\mathrm{f}}^{2}\\right)}\\end{array}\\right]\\left\\{\\begin{array}{c}{\\dot{q}_{1}} \\\\ {\\ddot{q}_{2}}\\end{array}\\right\\}+\\rho V\\left[\\begin{array}{cc}{\\frac{c a_{\\mathrm{WS}} 5}{10}} & {0} \\\\ {-\\frac{c^{2} e a_{\\mathrm{WS}}^{4}}{8}} & {-\\frac{c^{3} s^{3} M_{\\theta}}{24}}\\end{array}\\right]\\left\\{\\begin{array}{c}{\\dot{q}_{1}} \\\\ {\\dot{q}_{2}}\\end{array}\\right\\}+\\left(\\rho V^{2}\\left[\\begin{array}{cc}{0} & {\\frac{c s^{4} a_{\\mathrm{W}}}{8}} \\\\ {0} & {-\\frac{e c^{2} s^{3} a_{W}}{6}}\\end{array}\\right]+\\left[\\begin{array}{cc}{4 E I s} & {0} \\\\ {0} & {G J s}\\end{array}\\right]\\right)\\left\\{\\begin{array}{l}{q_{1}} \\\\ {q_{2}}\\end{array}\\right\\}=\\left\\{\\begin{array}{l}{0} \\\\ {0}\\end{array}\\right\\}$\n",
    "\n",
    "Which is the explict version of this equation\n",
    "\n",
    "$A \\ddot{q}+(\\rho v \\mathbf{B}+\\mathbf{D}) \\dot{q}+\\left(\\rho v^{2} \\mathbf{C}+\\mathbf{E}\\right) \\boldsymbol{q}=0$\n",
    "\n",
    "This is slightly different to I I have formulated the equations as my equation was\n",
    "\n",
    "$\\mathbf{A} \\ddot{q}+\\mathbf{K} q=\\mathbf{B} \\dot{q} + \\mathbf{C} \\dot{q}$\n",
    "\n",
    "Which leads to:\n",
    "\n",
    "$\\mathbf{A} \\ddot{q} - \\mathbf{B} \\dot{q}  +(\\mathbf{K}-\\mathbf{C}) q=0$\n",
    "\n",
    "This section will aim to recreate each of these equations from my generalised model by setting the FWTD's size to 0\n",
    "\n",
    "First, need to generate a symbolic model for the generalised case"
   ]
  },
  {
   "cell_type": "code",
   "execution_count": 8,
   "metadata": {},
   "outputs": [],
   "source": [
    "b_modes = 3\n",
    "t_modes = 2\n",
    "modes = b_modes + t_modes\n",
    "main_panels = 20\n",
    "panels = main_panels\n",
    "\n",
    "p = ma.DynamicModelParameters(modes)\n",
    "\n",
    "## Create some global parameters\n",
    "p.c = ma.ModelSymbol(value = 0.15,string = 'c') # chord of wing\n",
    "p.s = ma.ModelSymbol(value = 1.345,string = 's_t') # total semi-span of wing\n",
    "p.rho_t = ma.ModelSymbol(value = 19.53,string = 'rho_t') # per per unit area (kg/m^2)\n",
    "\n",
    "p.b_modes = ma.ModelSymbol(value = b_modes,string = 'b_modes') # percentage of wing that is a FWT\n",
    "p.t_modes = ma.ModelSymbol(value = t_modes,string = 't_modes') # percentage of wing that is a FWT\n",
    "\n",
    "# Inner Wing stiffness Properties\n",
    "p.EI = ma.ModelSymbol(value = 9.77e6,string = 'EI') # Bending stiffness for the wing\n",
    "p.GJ = ma.ModelSymbol(value = 0.99e6,string = 'GJ') # Torsional Stiffness for the wing\n",
    "\n",
    "# Location of flexural axes\n",
    "p.e_0 = ma.ModelSymbol(value = 0.08,string = 'e_0')\n",
    "p.x_f = ma.ModelSymbol(value = 0.08,string = 'x_f')\n",
    "\n",
    "# Symbols to translate along inner wing and FWT\n",
    "p.y_0 = sym.Symbol('y_0') # inner wing y chord\n",
    "p.x_0 = sym.Symbol('x_0') # inner wing x chord\n",
    "\n",
    "## Aero Parameters\n",
    "p.rho = ma.ModelSymbol(value = 1.225,string = 'rho')                 # density\n",
    "p.V = ma.ModelSymbol(value = 10,string = 'V')                        # velocity\n",
    "p.g  = ma.ModelSymbol(value = 9.81,string = 'g')                     # gravity\n",
    "p.g_v = ma.ModelMatrix(value = [0,0,-1],length=3,string='g_v')       # gravity vector\n",
    "p.alpha_r = ma.ModelSymbol(value = np.deg2rad(3),string = 'alpha_r') # root AoA\n",
    "p.M_thetadot = ma.ModelSymbol(value = -1.2,string = 'M_thetadot')    # Unsteady Torsional Term\n",
    "\n",
    "## Main Wing Specific\n",
    "p.a_i = ma.ModelSymbol(value = 2*np.pi,string = 'a_i')               # C_L slope of main wing\n",
    "p.a_0i = ma.ModelSymbol(value = 2*np.pi,string = 'a_0i')               # C_L slope of main wing\n",
    "p.a = ma.ModelMatrix(value =[np.pi*2]*panels,length=panels, string='a') # local C_l\n",
    "\n",
    "## Numeric Model Constants\n",
    "p.fp = ma.ModelMatrix(value =[0]*p.qs*2,length=p.qs*2,string='fp') # The stationary point\n",
    "\n",
    "# Factor to change the size of joint values\n",
    "p.eta = ma.ModelMatrix(value = [1]*modes,length=modes,string='eta')"
   ]
  },
  {
   "cell_type": "code",
   "execution_count": 14,
   "metadata": {},
   "outputs": [],
   "source": [
    "#get shape functions for main wing\n",
    "z_0,tau_0 = ele.FlexiElement.ShapeFunctions_BN_TM(b_modes,t_modes,p.q,p.y_0,p.x_0,p.x_f,0,factor=p.eta,type='taylor')\n",
    "\n",
    "# apply weighting function\n",
    "#define wrefernce frames\n",
    "wing_root_frame = ma.HomogenousTransform().R_y(p.alpha_r)\n",
    "wing_frame = wing_root_frame.Translate(p.x_0,p.y_0,z_0)\n",
    "wing_flexural_frame = wing_frame.subs({p.x_0:p.x_f})\n",
    "\n",
    "#Create Elemnts\n",
    "M_wing = ele.MassMatrix(p.rho_t)\n",
    "\n",
    "wing_stiffness_ele = ele.FlexiElement(wing_frame,M_wing,p.x_0,p.y_0,(p.x_0,0,p.c),(p.y_0,0,p.s),p.x_f,p.EI,p.GJ,gravityPot=True)"
   ]
  },
  {
   "cell_type": "code",
   "execution_count": 15,
   "metadata": {},
   "outputs": [],
   "source": [
    "# Main Wing Aero Forces \n",
    "wing_AeroForces = ef.AeroForce.PerUnitSpan(p,wing_flexural_frame,p.a_i,\n",
    "                               alphadot = 0 if isinstance(tau_0,int) else tau_0.diff(me.dynamicsymbols._t),\n",
    "                               M_thetadot = p.M_thetadot,\n",
    "                               e = p.e_0,\n",
    "                               w_g = 0,\n",
    "                               root_alpha = p.alpha_r,\n",
    "                                delta_alpha = tau_0,\n",
    "                               alpha_zero = 0,\n",
    "                                stall_angle=0,\n",
    "                               c = p.c,\n",
    "                                V = p.V,\n",
    "                                           c_d_max = 0,\n",
    "                               linear = True,\n",
    "                                z_inverted=False).integrate((p.y_0,0,p.s))"
   ]
  },
  {
   "cell_type": "code",
   "execution_count": 16,
   "metadata": {},
   "outputs": [
    {
     "data": {
      "image/png": "[encoded data removed]",
      "text/latex": [
       "$\\displaystyle \\left[\\begin{matrix}- \\frac{\\eta_{0} \\eta_{2} V a_{i} c \\rho s_{t}^{3} \\dot{q}_{2}}{3} + s_{t}^{2} \\left(\\frac{\\eta_{0} \\eta_{1} V^{2} a_{i} c \\rho q_{4}}{4} - \\frac{\\eta_{0} \\eta_{1} V a_{i} c \\rho \\dot{q}_{1}}{4}\\right) + s_{t} \\left(\\frac{\\eta_{0}^{2} V^{2} a_{i} c \\rho q_{3}}{2} - \\frac{\\eta_{0}^{2} V a_{i} c \\rho \\dot{q}_{0}}{2} + \\frac{\\eta_{0} \\eta_{2} V a_{i} c \\rho \\dot{q}_{2}}{2} + \\frac{\\eta_{0} V^{2} a_{i} \\alpha_{r} c \\rho}{2}\\right)\\\\- \\frac{\\eta_{1} \\eta_{2} V a_{i} c \\rho s_{t}^{4} \\dot{q}_{2}}{4} + s_{t}^{3} \\left(\\frac{\\eta_{1}^{2} V^{2} a_{i} c \\rho q_{4}}{6} - \\frac{\\eta_{1}^{2} V a_{i} c \\rho \\dot{q}_{1}}{6}\\right) + s_{t}^{2} \\left(\\frac{\\eta_{0} \\eta_{1} V^{2} a_{i} c \\rho q_{3}}{4} - \\frac{\\eta_{0} \\eta_{1} V a_{i} c \\rho \\dot{q}_{0}}{4} + \\frac{\\eta_{1} \\eta_{2} V a_{i} c \\rho \\dot{q}_{2}}{4} + \\frac{\\eta_{1} V^{2} a_{i} \\alpha_{r} c \\rho}{4}\\right)\\\\- \\frac{2 \\eta_{2}^{2} V a_{i} c \\rho s_{t}^{5} \\dot{q}_{2}}{5} + s_{t}^{4} \\left(\\frac{\\eta_{1} \\eta_{2} V^{2} a_{i} c \\rho q_{4}}{4} - \\frac{\\eta_{1} \\eta_{2} V a_{i} c \\rho \\dot{q}_{1}}{4}\\right) + s_{t}^{3} \\left(\\frac{\\eta_{0} \\eta_{2} V^{2} a_{i} c \\rho q_{3}}{3} - \\frac{\\eta_{0} \\eta_{2} V a_{i} c \\rho \\dot{q}_{0}}{3} + \\frac{2 \\eta_{2}^{2} V a_{i} c \\rho \\dot{q}_{2}}{3} + \\frac{\\eta_{2} V^{2} a_{i} \\alpha_{r} c \\rho}{3}\\right) + s_{t}^{2} \\left(- \\frac{\\eta_{1} \\eta_{2} V^{2} a_{i} c \\rho q_{4}}{4} + \\frac{\\eta_{1} \\eta_{2} V a_{i} c \\rho \\dot{q}_{1}}{4}\\right) + s_{t} \\left(- \\frac{\\eta_{0} \\eta_{2} V^{2} a_{i} c \\rho q_{3}}{2} + \\frac{\\eta_{0} \\eta_{2} V a_{i} c \\rho \\dot{q}_{0}}{2} - \\frac{\\eta_{2}^{2} V a_{i} c \\rho \\dot{q}_{2}}{2} - \\frac{\\eta_{2} V^{2} a_{i} \\alpha_{r} c \\rho}{2}\\right)\\\\\\frac{\\eta_{0} \\eta_{2} V a_{i} c^{2} e_{0} \\rho s_{t}^{3} \\dot{q}_{2}}{3} + s_{t}^{2} \\left(\\frac{\\eta_{0} \\eta_{1} M_{\\dot{\\theta}} V c^{3} \\rho \\dot{q}_{4}}{16} - \\frac{\\eta_{0} \\eta_{1} V^{2} a_{i} c^{2} e_{0} \\rho q_{4}}{4} + \\frac{\\eta_{0} \\eta_{1} V a_{i} c^{2} e_{0} \\rho \\dot{q}_{1}}{4}\\right) + s_{t} \\left(\\frac{\\eta_{0}^{2} M_{\\dot{\\theta}} V c^{3} \\rho \\dot{q}_{3}}{8} - \\frac{\\eta_{0}^{2} V^{2} a_{i} c^{2} e_{0} \\rho q_{3}}{2} + \\frac{\\eta_{0}^{2} V a_{i} c^{2} e_{0} \\rho \\dot{q}_{0}}{2} - \\frac{\\eta_{0} \\eta_{2} V a_{i} c^{2} e_{0} \\rho \\dot{q}_{2}}{2} - \\frac{\\eta_{0} V^{2} a_{i} \\alpha_{r} c^{2} e_{0} \\rho}{2}\\right)\\\\\\frac{\\eta_{1} \\eta_{2} V a_{i} c^{2} e_{0} \\rho s_{t}^{4} \\dot{q}_{2}}{4} + s_{t}^{3} \\left(\\frac{\\eta_{1}^{2} M_{\\dot{\\theta}} V c^{3} \\rho \\dot{q}_{4}}{24} - \\frac{\\eta_{1}^{2} V^{2} a_{i} c^{2} e_{0} \\rho q_{4}}{6} + \\frac{\\eta_{1}^{2} V a_{i} c^{2} e_{0} \\rho \\dot{q}_{1}}{6}\\right) + s_{t}^{2} \\left(\\frac{\\eta_{0} \\eta_{1} M_{\\dot{\\theta}} V c^{3} \\rho \\dot{q}_{3}}{16} - \\frac{\\eta_{0} \\eta_{1} V^{2} a_{i} c^{2} e_{0} \\rho q_{3}}{4} + \\frac{\\eta_{0} \\eta_{1} V a_{i} c^{2} e_{0} \\rho \\dot{q}_{0}}{4} - \\frac{\\eta_{1} \\eta_{2} V a_{i} c^{2} e_{0} \\rho \\dot{q}_{2}}{4} - \\frac{\\eta_{1} V^{2} a_{i} \\alpha_{r} c^{2} e_{0} \\rho}{4}\\right)\\end{matrix}\\right]$"
      ],
      "text/plain": [
       "⎡                                                                             \n",
       "⎢                                                                       η₀⋅η₂⋅\n",
       "⎢                                                                     - ──────\n",
       "⎢                                                                             \n",
       "⎢                                                                             \n",
       "⎢                                                                             \n",
       "⎢                                                                      η₁⋅η₂⋅V\n",
       "⎢                                                                    - ───────\n",
       "⎢                                                                             \n",
       "⎢                                                                             \n",
       "⎢      2            5          ⎛       2                              ⎞       \n",
       "⎢  2⋅η₂ ⋅V⋅aᵢ⋅c⋅ρ⋅sₜ ⋅q₂̇     4 ⎜η₁⋅η₂⋅V ⋅aᵢ⋅c⋅ρ⋅q₄   η₁⋅η₂⋅V⋅aᵢ⋅c⋅ρ⋅q₁̇⎟     \n",
       "⎢- ───────────────────── + sₜ ⋅⎜────────────────── - ─────────────────⎟ + sₜ ⋅\n",
       "⎢            5                 ⎝        4                    4        ⎠       \n",
       "⎢                                                                             \n",
       "⎢                                               2        3          ⎛         \n",
       "⎢                                   η₀⋅η₂⋅V⋅aᵢ⋅c ⋅e₀⋅ρ⋅sₜ ⋅q₂̇     2 ⎜η₀⋅η₁⋅M_\n",
       "⎢                                   ───────────────────────── + sₜ ⋅⎜─────────\n",
       "⎢                                               3                   ⎝         \n",
       "⎢                                                                             \n",
       "⎢                                              2        4          ⎛  2       \n",
       "⎢                                  η₁⋅η₂⋅V⋅aᵢ⋅c ⋅e₀⋅ρ⋅sₜ ⋅q₂̇     3 ⎜η₁ ⋅M_θ̇⋅\n",
       "⎢                                  ───────────────────────── + sₜ ⋅⎜──────────\n",
       "⎣                                              4                   ⎝        24\n",
       "\n",
       "           3          ⎛       2                              ⎞      ⎛  2  2   \n",
       "V⋅aᵢ⋅c⋅ρ⋅sₜ ⋅q₂̇     2 ⎜η₀⋅η₁⋅V ⋅aᵢ⋅c⋅ρ⋅q₄   η₀⋅η₁⋅V⋅aᵢ⋅c⋅ρ⋅q₁̇⎟      ⎜η₀ ⋅V ⋅\n",
       "─────────────── + sₜ ⋅⎜────────────────── - ─────────────────⎟ + sₜ⋅⎜─────────\n",
       "    3                 ⎝        4                    4        ⎠      ⎝       2 \n",
       "                                                                              \n",
       "          4          ⎛  2  2               2            ⎞       ⎛       2     \n",
       "⋅aᵢ⋅c⋅ρ⋅sₜ ⋅q₂̇     3 ⎜η₁ ⋅V ⋅aᵢ⋅c⋅ρ⋅q₄   η₁ ⋅V⋅aᵢ⋅c⋅ρ⋅q₁̇⎟     2 ⎜η₀⋅η₁⋅V ⋅aᵢ\n",
       "────────────── + sₜ ⋅⎜──────────────── - ───────────────⎟ + sₜ ⋅⎜─────────────\n",
       "   4                 ⎝       6                  6       ⎠       ⎝        4    \n",
       "                                                                              \n",
       "⎛       2                                     2                   2          ⎞\n",
       "3 ⎜η₀⋅η₂⋅V ⋅aᵢ⋅c⋅ρ⋅q₃   η₀⋅η₂⋅V⋅aᵢ⋅c⋅ρ⋅q₀̇   2⋅η₂ ⋅V⋅aᵢ⋅c⋅ρ⋅q₂̇   η₂⋅V ⋅aᵢ⋅αᵣ⋅\n",
       "⎜────────────────── - ───────────────── + ───────────────── + ───────────────⎟\n",
       "⎝        3                    3                   3                  3       ⎠\n",
       "                                                                              \n",
       "    3               2     2                       2        ⎞      ⎛  2        \n",
       "θ̇⋅V⋅c ⋅ρ⋅q₄̇   η₀⋅η₁⋅V ⋅aᵢ⋅c ⋅e₀⋅ρ⋅q₄   η₀⋅η₁⋅V⋅aᵢ⋅c ⋅e₀⋅ρ⋅q₁̇⎟      ⎜η₀ ⋅M_θ\n",
       "────────── - ────────────────────── + ─────────────────────⎟ + sₜ⋅⎜───────────\n",
       "16                     4                        4          ⎠      ⎝        8  \n",
       "                                                                              \n",
       " 3          2  2     2             2       2        ⎞       ⎛             3   \n",
       "V⋅c ⋅ρ⋅q₄̇   η₁ ⋅V ⋅aᵢ⋅c ⋅e₀⋅ρ⋅q₄   η₁ ⋅V⋅aᵢ⋅c ⋅e₀⋅ρ⋅q₁̇⎟     2 ⎜η₀⋅η₁⋅M_θ̇⋅V⋅\n",
       "─────── - ──────────────────── + ───────────────────⎟ + sₜ ⋅⎜─────────────────\n",
       "                   6                      6         ⎠       ⎝         16      \n",
       "\n",
       "            2                                       2          ⎞              \n",
       "aᵢ⋅c⋅ρ⋅q₃   η₀ ⋅V⋅aᵢ⋅c⋅ρ⋅q₀̇   η₀⋅η₂⋅V⋅aᵢ⋅c⋅ρ⋅q₂̇   η₀⋅V ⋅aᵢ⋅αᵣ⋅c⋅ρ⎟          \n",
       "─────── - ─────────────── + ───────────────── + ───────────────⎟              \n",
       "                 2                  2                  2       ⎠              \n",
       "                                                                              \n",
       "                                                    2          ⎞              \n",
       "⋅c⋅ρ⋅q₃   η₀⋅η₁⋅V⋅aᵢ⋅c⋅ρ⋅q₀̇   η₁⋅η₂⋅V⋅aᵢ⋅c⋅ρ⋅q₂̇   η₁⋅V ⋅aᵢ⋅αᵣ⋅c⋅ρ⎟          \n",
       "───── - ───────────────── + ───────────────── + ───────────────⎟              \n",
       "                4                   4                  4       ⎠              \n",
       "                                                                              \n",
       "       ⎛         2                              ⎞      ⎛         2            \n",
       "c⋅ρ⎟     2 ⎜  η₁⋅η₂⋅V ⋅aᵢ⋅c⋅ρ⋅q₄   η₁⋅η₂⋅V⋅aᵢ⋅c⋅ρ⋅q₁̇⎟      ⎜  η₀⋅η₂⋅V ⋅aᵢ⋅c⋅ρ\n",
       " + sₜ ⋅⎜- ────────────────── + ─────────────────⎟ + sₜ⋅⎜- ────────────────── +\n",
       "       ⎝          4                    4        ⎠      ⎝          2           \n",
       "                                                                              \n",
       "3          2  2     2             2       2                       2           \n",
       "̇⋅V⋅c ⋅ρ⋅q₃̇   η₀ ⋅V ⋅aᵢ⋅c ⋅e₀⋅ρ⋅q₃   η₀ ⋅V⋅aᵢ⋅c ⋅e₀⋅ρ⋅q₀̇   η₀⋅η₂⋅V⋅aᵢ⋅c ⋅e₀⋅\n",
       "────── - ──────────────────── + ─────────────────── - ───────────────────── - \n",
       "                  2                      2                      2             \n",
       "                                                                              \n",
       "            2     2                       2                       2           \n",
       "c ⋅ρ⋅q₃̇   η₀⋅η₁⋅V ⋅aᵢ⋅c ⋅e₀⋅ρ⋅q₃   η₀⋅η₁⋅V⋅aᵢ⋅c ⋅e₀⋅ρ⋅q₀̇   η₁⋅η₂⋅V⋅aᵢ⋅c ⋅e₀⋅\n",
       "── - ────────────────────── + ───────────────────── - ───────────────────── - \n",
       "               4                        4                       4             \n",
       "\n",
       "                                                       ⎤\n",
       "                                                           ⎥\n",
       "                                                       ⎥\n",
       "                                                       ⎥\n",
       "                                                       ⎥\n",
       "                                                       ⎥\n",
       "                                                           ⎥\n",
       "                                                       ⎥\n",
       "                                                       ⎥\n",
       "                                                       ⎥\n",
       "                       2                   2          ⎞⎥\n",
       "⋅q₃   η₀⋅η₂⋅V⋅aᵢ⋅c⋅ρ⋅q₀̇   η₂ ⋅V⋅aᵢ⋅c⋅ρ⋅q₂̇   η₂⋅V ⋅aᵢ⋅αᵣ⋅c⋅ρ⎟⎥\n",
       " ───────────────── - ─────────────── - ───────────────⎟⎥\n",
       "         2                  2                 2       ⎠⎥\n",
       "                                                       ⎥\n",
       "    2        2     ⎞                                   ⎥\n",
       "ρ⋅q₂̇   η₀⋅V ⋅aᵢ⋅αᵣ⋅c ⋅e₀⋅ρ⎟                                   ⎥\n",
       "───────────────────⎟                                   ⎥\n",
       "         2         ⎠                                   ⎥\n",
       "                                                       ⎥\n",
       "    2        2     ⎞                                   ⎥\n",
       "ρ⋅q₂̇   η₁⋅V ⋅aᵢ⋅αᵣ⋅c ⋅e₀⋅ρ⎟                                   ⎥\n",
       "───────────────────⎟                                   ⎥\n",
       "         4         ⎠                                   ⎦"
      ]
     },
     "execution_count": 16,
     "metadata": {},
     "output_type": "execute_result"
    }
   ],
   "source": [
    "wing_AeroForces.Q()"
   ]
  },
  {
   "cell_type": "code",
   "execution_count": 17,
   "metadata": {},
   "outputs": [
    {
     "name": "stdout",
     "output_type": "stream",
     "text": [
      "0\n"
     ]
    }
   ],
   "source": [
    "sm = ma.SymbolicModel.FromElementsAndForces(p,[wing_stiffness_ele],wing_AeroForces).subs({i:1 for i in p.eta})\n",
    "(A,B,C,D,E) = sm.extract_matrices(p)"
   ]
  },
  {
   "cell_type": "code",
   "execution_count": 18,
   "metadata": {},
   "outputs": [
    {
     "data": {
      "image/png": "[encoded data removed]",
      "text/latex": [
       "$\\displaystyle \\left[\\begin{matrix}c s_{t} & \\frac{c s_{t}^{2}}{2} & \\frac{c s_{t} \\left(2 s_{t}^{2} - 3\\right)}{3} & \\frac{c s_{t} \\left(- c + 2 x_{f}\\right)}{2} & \\frac{c s_{t}^{2} \\left(- c + 2 x_{f}\\right)}{4}\\\\\\frac{c s_{t}^{2}}{2} & \\frac{c s_{t}^{3}}{3} & \\frac{c s_{t}^{2} \\left(s_{t}^{2} - 1\\right)}{2} & \\frac{c s_{t}^{2} \\left(- c + 2 x_{f}\\right)}{4} & \\frac{c s_{t}^{3} \\left(- c + 2 x_{f}\\right)}{6}\\\\\\frac{c s_{t} \\left(2 s_{t}^{2} - 3\\right)}{3} & \\frac{c s_{t}^{2} \\left(s_{t}^{2} - 1\\right)}{2} & \\frac{c s_{t} \\left(12 s_{t}^{4} - 20 s_{t}^{2} + 15\\right)}{15} & \\frac{c s_{t} \\left(- 2 c s_{t}^{2} + 3 c + 4 s_{t}^{2} x_{f} - 6 x_{f}\\right)}{6} & \\frac{c s_{t}^{2} \\left(- c s_{t}^{2} + c + 2 s_{t}^{2} x_{f} - 2 x_{f}\\right)}{4}\\\\\\frac{c s_{t} \\left(- c + 2 x_{f}\\right)}{2} & \\frac{c s_{t}^{2} \\left(- c + 2 x_{f}\\right)}{4} & \\frac{c s_{t} \\left(- 2 c s_{t}^{2} + 3 c + 4 s_{t}^{2} x_{f} - 6 x_{f}\\right)}{6} & \\frac{c s_{t} \\left(c^{2} - 3 c x_{f} + 3 x_{f}^{2}\\right)}{3} & \\frac{c s_{t}^{2} \\left(c^{2} - 3 c x_{f} + 3 x_{f}^{2}\\right)}{6}\\\\\\frac{c s_{t}^{2} \\left(- c + 2 x_{f}\\right)}{4} & \\frac{c s_{t}^{3} \\left(- c + 2 x_{f}\\right)}{6} & \\frac{c s_{t}^{2} \\left(- c s_{t}^{2} + c + 2 s_{t}^{2} x_{f} - 2 x_{f}\\right)}{4} & \\frac{c s_{t}^{2} \\left(c^{2} - 3 c x_{f} + 3 x_{f}^{2}\\right)}{6} & \\frac{c s_{t}^{3} \\left(c^{2} - 3 c x_{f} + 3 x_{f}^{2}\\right)}{9}\\end{matrix}\\right]$"
      ],
      "text/plain": [
       "⎡                              2                           ⎛    2    ⎞        \n",
       "⎢                          c⋅sₜ                       c⋅sₜ⋅⎝2⋅sₜ  - 3⎠        \n",
       "⎢       c⋅sₜ               ─────                      ────────────────        \n",
       "⎢                            2                               3                \n",
       "⎢                                                                             \n",
       "⎢          2                   3                          2 ⎛  2    ⎞         \n",
       "⎢      c⋅sₜ                c⋅sₜ                       c⋅sₜ ⋅⎝sₜ  - 1⎠         \n",
       "⎢      ─────               ─────                      ───────────────         \n",
       "⎢        2                   3                               2                \n",
       "⎢                                                                             \n",
       "⎢      ⎛    2    ⎞        2 ⎛  2    ⎞                ⎛     4        2     ⎞   \n",
       "⎢ c⋅sₜ⋅⎝2⋅sₜ  - 3⎠    c⋅sₜ ⋅⎝sₜ  - 1⎠           c⋅sₜ⋅⎝12⋅sₜ  - 20⋅sₜ  + 15⎠   \n",
       "⎢ ────────────────    ───────────────           ───────────────────────────   \n",
       "⎢        3                   2                               15               \n",
       "⎢                                                                             \n",
       "⎢                        2                    ⎛        2             2        \n",
       "⎢c⋅sₜ⋅(-c + 2⋅x_f)   c⋅sₜ ⋅(-c + 2⋅x_f)  c⋅sₜ⋅⎝- 2⋅c⋅sₜ  + 3⋅c + 4⋅sₜ ⋅x_f - 6\n",
       "⎢─────────────────   ──────────────────  ─────────────────────────────────────\n",
       "⎢        2                   4                               6                \n",
       "⎢                                                                             \n",
       "⎢    2                   3                    2 ⎛      2           2          \n",
       "⎢c⋅sₜ ⋅(-c + 2⋅x_f)  c⋅sₜ ⋅(-c + 2⋅x_f)   c⋅sₜ ⋅⎝- c⋅sₜ  + c + 2⋅sₜ ⋅x_f - 2⋅x\n",
       "⎢──────────────────  ──────────────────   ────────────────────────────────────\n",
       "⎣        4                   6                               4                \n",
       "\n",
       "                                                                 2            \n",
       "                   c⋅sₜ⋅(-c + 2⋅x_f)                         c⋅sₜ ⋅(-c + 2⋅x_f\n",
       "                   ─────────────────                         ─────────────────\n",
       "                           2                                         4        \n",
       "                                                                              \n",
       "                       2                                         3            \n",
       "                   c⋅sₜ ⋅(-c + 2⋅x_f)                        c⋅sₜ ⋅(-c + 2⋅x_f\n",
       "                   ──────────────────                        ─────────────────\n",
       "                           4                                         6        \n",
       "                                                                              \n",
       "            ⎛        2             2            ⎞      2 ⎛      2           2 \n",
       "       c⋅sₜ⋅⎝- 2⋅c⋅sₜ  + 3⋅c + 4⋅sₜ ⋅x_f - 6⋅x_f⎠  c⋅sₜ ⋅⎝- c⋅sₜ  + c + 2⋅sₜ ⋅\n",
       "       ──────────────────────────────────────────  ───────────────────────────\n",
       "                           6                                          4       \n",
       "                                                                              \n",
       "    ⎞              ⎛ 2                  2⎞                  2 ⎛ 2             \n",
       "⋅x_f⎠         c⋅sₜ⋅⎝c  - 3⋅c⋅x_f + 3⋅x_f ⎠              c⋅sₜ ⋅⎝c  - 3⋅c⋅x_f + \n",
       "─────         ────────────────────────────              ──────────────────────\n",
       "                           3                                          6       \n",
       "                                                                              \n",
       "  ⎞              2 ⎛ 2                  2⎞                  3 ⎛ 2             \n",
       "_f⎠          c⋅sₜ ⋅⎝c  - 3⋅c⋅x_f + 3⋅x_f ⎠              c⋅sₜ ⋅⎝c  - 3⋅c⋅x_f + \n",
       "───          ─────────────────────────────              ──────────────────────\n",
       "                           6                                          9       \n",
       "\n",
       "            ⎤\n",
       ")           ⎥\n",
       "─           ⎥\n",
       "            ⎥\n",
       "            ⎥\n",
       "            ⎥\n",
       ")           ⎥\n",
       "─           ⎥\n",
       "            ⎥\n",
       "            ⎥\n",
       "           ⎞⎥\n",
       "x_f - 2⋅x_f⎠⎥\n",
       "────────────⎥\n",
       "            ⎥\n",
       "            ⎥\n",
       "     2⎞     ⎥\n",
       "3⋅x_f ⎠     ⎥\n",
       "───────     ⎥\n",
       "            ⎥\n",
       "            ⎥\n",
       "     2⎞     ⎥\n",
       "3⋅x_f ⎠     ⎥\n",
       "───────     ⎥\n",
       "            ⎦"
      ]
     },
     "execution_count": 18,
     "metadata": {},
     "output_type": "execute_result"
    }
   ],
   "source": [
    "sym.simplify(A/p.rho_t)"
   ]
  },
  {
   "cell_type": "markdown",
   "metadata": {},
   "source": [
    "for each matrix set $s_t$ to zero and print the result to compare with the original equation"
   ]
  },
  {
   "cell_type": "markdown",
   "metadata": {},
   "source": [
    "comparing against the equation above:\n",
    "\n",
    "$m\\left[\\begin{array}{cc}{\\frac{c s^{5}}{5}} & {\\frac{s^{4}}{4}\\left(\\frac{c^{2}}{2}-c x_{\\mathrm{f}}\\right)} \\\\ {\\frac{s^{4}}{4}\\left(\\frac{c^{2}}{2}-c x_{\\mathrm{f}}\\right)} & {\\frac{s^{3}}{3}\\left(\\frac{c^{3}}{3}-c^{2} x_{\\mathrm{f}}+c x_{\\mathrm{f}}^{2}\\right)}\\end{array}\\right]\\left\\{\\begin{array}{c}{\\dot{q}_{1}} \\\\ {\\ddot{q}_{2}}\\end{array}\\right\\}+\\rho V\\left[\\begin{array}{cc}{\\frac{c a_{\\mathrm{WS}} 5}{10}} & {0} \\\\ {-\\frac{c^{2} e a_{\\mathrm{WS}}^{4}}{8}} & {-\\frac{c^{3} s^{3} M_{\\theta}}{24}}\\end{array}\\right]\\left\\{\\begin{array}{c}{\\dot{q}_{1}} \\\\ {\\dot{q}_{2}}\\end{array}\\right\\}+\\left(\\rho V^{2}\\left[\\begin{array}{cc}{0} & {\\frac{c s^{4} a_{\\mathrm{W}}}{8}} \\\\ {0} & {-\\frac{e c^{2} s^{3} a_{W}}{6}}\\end{array}\\right]+\\left[\\begin{array}{cc}{4 E I s} & {0} \\\\ {0} & {G J s}\\end{array}\\right]\\right)\\left\\{\\begin{array}{l}{q_{1}} \\\\ {q_{2}}\\end{array}\\right\\}=\\left\\{\\begin{array}{l}{0} \\\\ {0}\\end{array}\\right\\}$"
   ]
  },
  {
   "cell_type": "code",
   "execution_count": 8,
   "metadata": {},
   "outputs": [
    {
     "data": {
      "text/latex": [
       "$$m\\left[\\begin{matrix}\\frac{c s_{t}^{5}}{5} & \\frac{c s_{t}^{4} \\left(- c + 2 x_{f}\\right)}{8}\\\\\\frac{c s_{t}^{4} \\left(- c + 2 x_{f}\\right)}{8} & \\frac{c s_{t}^{3} \\left(c^{2} - 3 c x_{f} + 3 x_{f}^{2}\\right)}{9}\\end{matrix}\\right]\\ddot{\\left\\{\\begin{array}{l}{q_{1}} \\\\ {q_{2}}\\end{array}\\right\\}} = \\rho V\\left[\\begin{matrix}- \\frac{a_{i} c s_{t}^{5}}{10} & 0\\\\- \\frac{a_{i} c^{2} e_{0} s_{t}^{4}}{8} & - \\frac{M_{\\dot{\\theta}} c^{3} s_{t}^{3}}{24}\\end{matrix}\\right]\\dot{\\left\\{\\begin{array}{l}{q_{1}} \\\\ {q_{2}}\\end{array}\\right\\}} + \\left(\\rho V^2\\left[\\begin{matrix}0 & \\frac{a_{i} c s_{t}^{4}}{8}\\\\0 & \\frac{a_{i} c^{2} e_{0} s_{t}^{3}}{6}\\end{matrix}\\right] + \\left[\\begin{matrix}- 4 EI s_{t} & 0\\\\0 & - GJ s_{t}\\end{matrix}\\right] \\right)\\left\\{\\begin{array}{l}{q_{1}} \\\\ {q_{2}}\\end{array}\\right\\}$$"
      ],
      "text/plain": [
       "<IPython.core.display.Latex object>"
      ]
     },
     "metadata": {},
     "output_type": "display_data"
    }
   ],
   "source": [
    "from IPython.display import display, Math, Latex\n",
    "A_prime = sym.latex(sym.simplify(A/p.rho_t))\n",
    "B_prime = sym.latex(sym.simplify(B/(p.rho*p.V)))\n",
    "C_prime = sym.latex(sym.simplify(C/(p.rho*p.V**2)))\n",
    "D_prime = sym.latex(sym.simplify(D))\n",
    "E_prime = sym.latex(sym.simplify(-E))\n",
    "\n",
    "q = '\\\\left\\\\{\\\\begin{array}{l}{q_{1}} \\\\\\\\ {q_{2}}\\\\end{array}\\\\right\\\\}'\n",
    "qd = '\\\\dot{\\\\left\\\\{\\\\begin{array}{l}{q_{1}} \\\\\\\\ {q_{2}}\\\\end{array}\\\\right\\\\}}'\n",
    "qdd = '\\\\ddot{\\\\left\\\\{\\\\begin{array}{l}{q_{1}} \\\\\\\\ {q_{2}}\\\\end{array}\\\\right\\\\}}'\n",
    "zero = '\\\\left\\\\{\\\\begin{array}{l}{0} \\\\\\\\ {0}\\\\end{array}\\\\right\\\\}'\n",
    "\n",
    "display(Latex(f'$$m{A_prime}{qdd} = \\\\rho V{B_prime}{qd} + \\\\left(\\\\rho V^2{C_prime} + {E_prime} \\\\right){q}$$'))"
   ]
  },
  {
   "cell_type": "markdown",
   "metadata": {},
   "source": [
    "Inspection shows all of these matrices are the same as that from the book with the exception of the aero damping matrix (bottum left reads a_w^4*s in the book which is a mistake as no mechanism in the maths can really raise a_w to the power of anything)"
   ]
  },
  {
   "cell_type": "markdown",
   "metadata": {},
   "source": [
    "## 2 Bending and 2 Torsion\n",
    "\n",
    "Within Jonathans book (section 11.6) the following equation is 'derived' for a rectangluar wing with one mode in both bending and torsion the LHS of the equation (free-bending problem) is:\n",
    "\n",
    "$m\\left[\\begin{array}{ccc}\n",
    "{\\frac{s^{5} c}{5}} & {\\frac{s^{6} c}{6}} & {\\frac{s^{4}}{4}\\left(\\frac{c^{2}}{2}-c x_{f}\\right)} & {\\frac{s^{5}}{5}\\left(\\frac{c^{2}}{2}-c x_{f}\\right)} \\\\\n",
    "{\\frac{s^{6} c}{6}} & {\\frac{s^{7} c}{7}} & {\\frac{s^{5} c}{5}\\left(\\frac{c^{2}}{2}-c x_{i}\\right)} & {\\frac{s^{6} c}{6}\\left(\\frac{c^{2}}{2}-c x_{i}\\right)} \\\\\n",
    "{\\frac{s^{4}}{4}\\left(\\frac{c^{2}}{2}-c x_{i}\\right)} & {\\frac{s^{5}}{5}\\left(\\frac{c^{2}}{2}-c x_{i}\\right)} & {\\frac{s^{3}}{3}\\left(\\frac{c^{3}}{3}-c 2 x_{i}+c x_{i}^{2}\\right)} & {\\frac{s^{4}}{4}\\left(\\frac{c^{3}}{3}-c 2 x_{i}+c x_{i}^{2}\\right)} \\\\\n",
    "{\\frac{s^{5}}{5}\\left(\\frac{c^{2}}{2}-c x_{i}\\right)} & {\\frac{s^{6}}{6}\\left(\\frac{c^{2}}{2}-c x_{i}\\right)} & {\\frac{s^{4}}{4}\\left(\\frac{c^{3}}{3}-c 2 x_{i}+c x_{f}^{2}\\right)} & {\\frac{s^{5}}{5}\\left(\\frac{c^{3}}{3}-c 2 x_{i}+c x_{f}^{2}\\right)}\n",
    "\\end{array}\\right]\\mathbf{\\ddot{q}} + \\left[\\begin{array}{cccc}\n",
    "{4 \\mathrm{EIs}} & {6 \\mathrm{s}^{2} \\mathrm{EI}} & {0} & {0} \\\\\n",
    "{6 \\mathrm{s}^{2} \\mathrm{EI}} & {12 \\mathrm{s}^{3} \\mathrm{EI}} & {0} & {0} \\\\\n",
    "{0} & {0} & {\\mathrm{GJs}} & {\\mathrm{GJs}^{2}} \\\\\n",
    "{0} & {0} & {\\mathrm{GJs}^{2}} & {\\frac{4}{3} \\mathrm{GJs}^{3}}\n",
    "\\end{array}\\right]\\mathbf{q} = \\rho V\\left[\\begin{array}{cccc}{-\\frac{\\mathrm{ca}_{\\mathrm{w}} \\mathrm{s}^{5}}{10}} & {-\\frac{\\mathrm{ca}_{\\mathrm{w}} \\mathrm{s}^{6}}{12}} & {0} & {0} \\\\ {-\\frac{\\mathrm{ca}_{\\mathrm{w}} \\mathrm{s}^{6}}{12}} & {-\\frac{\\mathrm{ca}_{\\mathrm{w}} \\mathrm{s}^{7}}{14}} & {0} & {0} \\\\ {\\frac{\\mathrm{c}^{2} \\mathrm{ea}_{\\mathrm{w}} \\mathrm{s}^{4}}{8}} & {\\frac{\\mathrm{c}^{2} \\mathrm{ea}_{\\mathrm{c}} \\mathrm{s}^{5}}{10}} & {\\frac{\\mathrm{c}^{3} \\mathrm{M}_{6} \\mathrm{s}^{3}}{24}} & {\\frac{\\mathrm{c}^{3} \\mathrm{M}_{6} \\mathrm{s}^{4}}{32}} \\\\ {\\frac{\\mathrm{c}^{2} \\mathrm{ea}_{0}}{10}} & {\\frac{\\mathrm{c}^{2} \\mathrm{ea}_{0} \\mathrm{s}^{6}}{12}} & {\\frac{\\mathrm{c}^{3} \\mathrm{M}_{6} \\mathrm{s}^{4}}{32}} & {\\frac{\\mathrm{c}^{3} \\mathrm{M}_{6} \\mathrm{s}^{5}}{40}}\\end{array}\\right]\\mathbf{\\dot{q}} + \\rho V^{2}\\left[\\begin{array}{cccc}\n",
    "{0} & {0} & {-\\frac{\\mathrm{ca}_{\\mathrm{w}} \\mathrm{s}^{4}}{8}} & {-\\frac{\\mathrm{ca}_{\\mathrm{w}} \\mathrm{s}^{5}}{10}} \\\\\n",
    "{0} & {0} & {-\\frac{\\mathrm{ca}_{\\mathrm{w}} \\mathrm{s}^{5}}{10}} & {-\\frac{\\mathrm{ca}_{\\mathrm{w}} \\mathrm{s}^{6}}{12}} \\\\\n",
    "{0} & {0} & {\\frac{\\mathrm{c}^{2} \\mathrm{ea}_{\\mathrm{w}} \\mathrm{s}^{3}}{6}} & {\\frac{\\mathrm{c}^{2} \\mathrm{ea}_{\\mathrm{w}} \\mathrm{s}^{4}}{8}} \\\\\n",
    "{0} & {0} & {\\frac{\\mathrm{c}^{2} \\mathrm{ea}_{\\mathrm{w}} \\mathrm{s}^{4}}{8}} & {\\frac{\\mathrm{c}^{2} \\mathrm{ea}_{\\mathrm{w}} \\mathrm{s}^{5}}{10}}\n",
    "\\end{array}\\right]\\mathbf{q}$\n",
    "\n",
    "recreating this with my library\n"
   ]
  },
  {
   "cell_type": "code",
   "execution_count": 9,
   "metadata": {},
   "outputs": [],
   "source": [
    "b_modes = 2\n",
    "t_modes = 2\n",
    "modes = b_modes + t_modes\n",
    "main_panels = 20\n",
    "panels = main_panels\n",
    "\n",
    "p = ma.DynamicModelParameters(modes)\n",
    "\n",
    "## Create some global parameters\n",
    "p.c = ma.ModelSymbol(value = 0.15,string = 'c') # chord of wing\n",
    "p.s = ma.ModelSymbol(value = 1.345,string = 's_t') # total semi-span of wing\n",
    "p.rho_t = ma.ModelSymbol(value = 19.53,string = 'rho_t') # per per unit area (kg/m^2)\n",
    "\n",
    "p.b_modes = ma.ModelSymbol(value = b_modes,string = 'b_modes') # percentage of wing that is a FWT\n",
    "p.t_modes = ma.ModelSymbol(value = t_modes,string = 't_modes') # percentage of wing that is a FWT\n",
    "\n",
    "# Inner Wing stiffness Properties\n",
    "p.EI = ma.ModelSymbol(value = 9.77e6,string = 'EI') # Bending stiffness for the wing\n",
    "p.GJ = ma.ModelSymbol(value = 0.99e6,string = 'GJ') # Torsional Stiffness for the wing\n",
    "\n",
    "# Location of flexural axes\n",
    "p.e_0 = ma.ModelSymbol(value = 0.08,string = 'e_0')\n",
    "p.x_f = ma.ModelSymbol(value = 0.08,string = 'x_f')\n",
    "\n",
    "# Symbols to translate along inner wing and FWT\n",
    "p.y_0 = sym.Symbol('y_0') # inner wing y chord\n",
    "p.x_0 = sym.Symbol('x_0') # inner wing x chord\n",
    "\n",
    "## Aero Parameters\n",
    "p.rho = ma.ModelSymbol(value = 1.225,string = 'rho')                 # density\n",
    "p.V = ma.ModelSymbol(value = 10,string = 'V')                        # velocity\n",
    "p.g  = ma.ModelSymbol(value = 9.81,string = 'g')                     # gravity\n",
    "p.g_v = ma.ModelMatrix(value = [0,0,-1],length=3,string='g_v')       # gravity vector\n",
    "p.alpha_r = ma.ModelSymbol(value = np.deg2rad(3),string = 'alpha_r') # root AoA\n",
    "p.M_thetadot = ma.ModelSymbol(value = -1.2,string = 'M_thetadot')    # Unsteady Torsional Term\n",
    "\n",
    "## Main Wing Specific\n",
    "p.a_i = ma.ModelSymbol(value = 2*np.pi,string = 'a_i')               # C_L slope of main wing\n",
    "p.a_0i = ma.ModelSymbol(value = 2*np.pi,string = 'a_0i')               # C_L slope of main wing\n",
    "p.a = ma.ModelMatrix(value =[np.pi*2]*panels,length=panels, string='a') # local C_l\n",
    "\n",
    "## Numeric Model Constants\n",
    "p.fp = ma.ModelMatrix(value =[0]*p.qs*2,length=p.qs*2,string='fp') # The stationary point\n",
    "\n",
    "# Factor to change the size of joint values\n",
    "p.eta = ma.ModelMatrix(value = [1]*modes,length=modes,string='eta')"
   ]
  },
  {
   "cell_type": "markdown",
   "metadata": {},
   "source": [
    "for each matrix set $s_t$ to zero and print the result to compare with the original equation"
   ]
  },
  {
   "cell_type": "code",
   "execution_count": 10,
   "metadata": {},
   "outputs": [],
   "source": [
    "#get shape functions for main wing\n",
    "z_0,tau_0 = ele.FlexiElement.ShapeFunctions_BN_TM(b_modes,t_modes,p.q,p.y_0,p.x_0,p.x_f,0,factor=p.eta)\n",
    "\n",
    "# apply weighting function\n",
    "#define wrefernce frames\n",
    "wing_root_frame = ma.HomogenousTransform().R_y(p.alpha_r)\n",
    "wing_frame = wing_root_frame.Translate(p.x_0,p.y_0,z_0)\n",
    "wing_flexural_frame = wing_frame.subs({p.x_0:p.x_f})\n",
    "\n",
    "#Create Elemnts\n",
    "M_wing = ele.MassMatrix(p.rho_t)\n",
    "\n",
    "wing_stiffness_ele = ele.FlexiElement(wing_frame,M_wing,p.x_0,p.y_0,(p.x_0,0,p.c),(p.y_0,0,p.s),p.x_f,p.EI,p.GJ,gravityPot=True)"
   ]
  },
  {
   "cell_type": "code",
   "execution_count": 11,
   "metadata": {},
   "outputs": [],
   "source": [
    "# Main Wing Aero Forces \n",
    "wing_AeroForces = ef.AeroForce.PerUnitSpan(p,wing_flexural_frame,p.a_i,\n",
    "                               alphadot = 0 if isinstance(tau_0,int) else tau_0.diff(me.dynamicsymbols._t),\n",
    "                               M_thetadot = p.M_thetadot,\n",
    "                               e = p.e_0,\n",
    "                               w_g = 0,\n",
    "                               root_alpha = 0,\n",
    "                                delta_alpha = tau_0,\n",
    "                               alpha_zero = 0,\n",
    "                                stall_angle=0,\n",
    "                               c = p.c,\n",
    "                                V = p.V,\n",
    "                                c_d_max = 0,\n",
    "                               linear = True,\n",
    "                                z_inverted=False).integrate((p.y_0,0,p.s))"
   ]
  },
  {
   "cell_type": "code",
   "execution_count": 12,
   "metadata": {},
   "outputs": [
    {
     "data": {
      "image/png": "[encoded data removed]",
      "text/latex": [
       "$\\displaystyle \\left[\\begin{matrix}- \\frac{\\eta_{0} \\eta_{1} V a_{i} c \\rho s_{t}^{6} \\dot{q}_{1}}{12} + \\frac{\\eta_{0} \\eta_{2} V^{2} a_{i} c \\rho s_{t}^{4} q_{2}}{8} + s_{t}^{5} \\left(- \\frac{\\eta_{0}^{2} V a_{i} c \\rho \\dot{q}_{0}}{10} + \\frac{\\eta_{0} \\eta_{3} V^{2} a_{i} c \\rho q_{3}}{10}\\right)\\\\- \\frac{\\eta_{1}^{2} V a_{i} c \\rho s_{t}^{7} \\dot{q}_{1}}{14} + \\frac{\\eta_{1} \\eta_{2} V^{2} a_{i} c \\rho s_{t}^{5} q_{2}}{10} + s_{t}^{6} \\left(- \\frac{\\eta_{0} \\eta_{1} V a_{i} c \\rho \\dot{q}_{0}}{12} + \\frac{\\eta_{1} \\eta_{3} V^{2} a_{i} c \\rho q_{3}}{12}\\right)\\\\- \\frac{\\eta_{1} \\eta_{2} V a_{i} c^{2} e_{0} \\rho s_{t}^{5} \\dot{q}_{1}}{10} + s_{t}^{4} \\left(- \\frac{\\eta_{0} \\eta_{2} V a_{i} c^{2} e_{0} \\rho \\dot{q}_{0}}{8} - \\frac{\\eta_{2} \\eta_{3} M_{\\dot{\\theta}} V c^{3} \\rho \\dot{q}_{3}}{32} + \\frac{\\eta_{2} \\eta_{3} V^{2} a_{i} c^{2} e_{0} \\rho q_{3}}{8}\\right) + s_{t}^{3} \\left(- \\frac{\\eta_{2}^{2} M_{\\dot{\\theta}} V c^{3} \\rho \\dot{q}_{2}}{24} + \\frac{\\eta_{2}^{2} V^{2} a_{i} c^{2} e_{0} \\rho q_{2}}{6}\\right)\\\\- \\frac{\\eta_{1} \\eta_{3} V a_{i} c^{2} e_{0} \\rho s_{t}^{6} \\dot{q}_{1}}{12} + s_{t}^{5} \\left(- \\frac{\\eta_{0} \\eta_{3} V a_{i} c^{2} e_{0} \\rho \\dot{q}_{0}}{10} - \\frac{\\eta_{3}^{2} M_{\\dot{\\theta}} V c^{3} \\rho \\dot{q}_{3}}{40} + \\frac{\\eta_{3}^{2} V^{2} a_{i} c^{2} e_{0} \\rho q_{3}}{10}\\right) + s_{t}^{4} \\left(- \\frac{\\eta_{2} \\eta_{3} M_{\\dot{\\theta}} V c^{3} \\rho \\dot{q}_{2}}{32} + \\frac{\\eta_{2} \\eta_{3} V^{2} a_{i} c^{2} e_{0} \\rho q_{2}}{8}\\right)\\end{matrix}\\right]$"
      ],
      "text/plain": [
       "⎡                                                  6             2          4 \n",
       "⎢                                 η₀⋅η₁⋅V⋅aᵢ⋅c⋅ρ⋅sₜ ⋅q₁̇   η₀⋅η₂⋅V ⋅aᵢ⋅c⋅ρ⋅sₜ \n",
       "⎢                               - ───────────────────── + ────────────────────\n",
       "⎢                                           12                      8         \n",
       "⎢                                                                             \n",
       "⎢                                   2            7             2          5   \n",
       "⎢                                 η₁ ⋅V⋅aᵢ⋅c⋅ρ⋅sₜ ⋅q₁̇   η₁⋅η₂⋅V ⋅aᵢ⋅c⋅ρ⋅sₜ ⋅q\n",
       "⎢                               - ─────────────────── + ──────────────────────\n",
       "⎢                                          14                     10          \n",
       "⎢                                                                             \n",
       "⎢              2        5          ⎛              2                        3  \n",
       "⎢  η₁⋅η₂⋅V⋅aᵢ⋅c ⋅e₀⋅ρ⋅sₜ ⋅q₁̇     4 ⎜  η₀⋅η₂⋅V⋅aᵢ⋅c ⋅e₀⋅ρ⋅q₀̇   η₂⋅η₃⋅M_θ̇⋅V⋅c\n",
       "⎢- ───────────────────────── + sₜ ⋅⎜- ───────────────────── - ────────────────\n",
       "⎢              10                  ⎝            8                      32     \n",
       "⎢                                                                             \n",
       "⎢              2        6          ⎛              2             2        3    \n",
       "⎢  η₁⋅η₃⋅V⋅aᵢ⋅c ⋅e₀⋅ρ⋅sₜ ⋅q₁̇     5 ⎜  η₀⋅η₃⋅V⋅aᵢ⋅c ⋅e₀⋅ρ⋅q₀̇   η₃ ⋅M_θ̇⋅V⋅c ⋅\n",
       "⎢- ───────────────────────── + sₜ ⋅⎜- ───────────────────── - ────────────────\n",
       "⎣              12                  ⎝            10                    40      \n",
       "\n",
       "         ⎛    2                      2          ⎞                             \n",
       "⋅q₂     5 ⎜  η₀ ⋅V⋅aᵢ⋅c⋅ρ⋅q₀̇   η₀⋅η₃⋅V ⋅aᵢ⋅c⋅ρ⋅q₃⎟                           \n",
       "── + sₜ ⋅⎜- ─────────────── + ──────────────────⎟                             \n",
       "         ⎝         10                 10        ⎠                             \n",
       "                                                                              \n",
       "       ⎛                             2          ⎞                             \n",
       "₂     6 ⎜  η₀⋅η₁⋅V⋅aᵢ⋅c⋅ρ⋅q₀̇   η₁⋅η₃⋅V ⋅aᵢ⋅c⋅ρ⋅q₃⎟                           \n",
       " + sₜ ⋅⎜- ───────────────── + ──────────────────⎟                             \n",
       "       ⎝          12                  12        ⎠                             \n",
       "                                                                              \n",
       "             2     2        ⎞       ⎛    2        3          2  2     2       \n",
       " ⋅ρ⋅q₃̇   η₂⋅η₃⋅V ⋅aᵢ⋅c ⋅e₀⋅ρ⋅q₃⎟     3 ⎜  η₂ ⋅M_θ̇⋅V⋅c ⋅ρ⋅q₂̇   η₂ ⋅V ⋅aᵢ⋅c ⋅\n",
       "─── + ──────────────────────⎟ + sₜ ⋅⎜- ───────────────── + ───────────────────\n",
       "                8           ⎠       ⎝          24                   6         \n",
       "                                                                              \n",
       "      2  2     2        ⎞       ⎛               3               2     2       \n",
       "ρ⋅q₃̇   η₃ ⋅V ⋅aᵢ⋅c ⋅e₀⋅ρ⋅q₃⎟     4 ⎜  η₂⋅η₃⋅M_θ̇⋅V⋅c ⋅ρ⋅q₂̇   η₂⋅η₃⋅V ⋅aᵢ⋅c ⋅\n",
       "─ + ────────────────────⎟ + sₜ ⋅⎜- ─────────────────── + ─────────────────────\n",
       "             10         ⎠       ⎝           32                     8          \n",
       "\n",
       "  ⎤\n",
       "    ⎥\n",
       "  ⎥\n",
       "  ⎥\n",
       "  ⎥\n",
       "  ⎥\n",
       "    ⎥\n",
       "  ⎥\n",
       "  ⎥\n",
       "  ⎥\n",
       " ⎞⎥\n",
       "e₀⋅ρ⋅q₂⎟⎥\n",
       "─⎟⎥\n",
       " ⎠⎥\n",
       "  ⎥\n",
       " ⎞⎥\n",
       "e₀⋅ρ⋅q₂⎟⎥\n",
       "─⎟⎥\n",
       " ⎠⎦"
      ]
     },
     "execution_count": 12,
     "metadata": {},
     "output_type": "execute_result"
    }
   ],
   "source": [
    "wing_AeroForces.Q()"
   ]
  },
  {
   "cell_type": "code",
   "execution_count": 13,
   "metadata": {},
   "outputs": [
    {
     "name": "stdout",
     "output_type": "stream",
     "text": [
      "0\n"
     ]
    }
   ],
   "source": [
    "sm = ma.SymbolicModel.FromElementsAndForces(p,[wing_stiffness_ele],wing_AeroForces).subs({i:1 for i in p.eta})\n",
    "(A,B,C,D,E) = sm.extract_matrices(p)"
   ]
  },
  {
   "cell_type": "code",
   "execution_count": 14,
   "metadata": {},
   "outputs": [
    {
     "data": {
      "text/latex": [
       "$$m\\left[\\begin{matrix}\\frac{c s_{t}^{5}}{5} & \\frac{c s_{t}^{6}}{6} & \\frac{c s_{t}^{4} \\left(- c + 2 x_{f}\\right)}{8} & \\frac{c s_{t}^{5} \\left(- c + 2 x_{f}\\right)}{10}\\\\\\frac{c s_{t}^{6}}{6} & \\frac{c s_{t}^{7}}{7} & \\frac{c s_{t}^{5} \\left(- c + 2 x_{f}\\right)}{10} & \\frac{c s_{t}^{6} \\left(- c + 2 x_{f}\\right)}{12}\\\\\\frac{c s_{t}^{4} \\left(- c + 2 x_{f}\\right)}{8} & \\frac{c s_{t}^{5} \\left(- c + 2 x_{f}\\right)}{10} & \\frac{c s_{t}^{3} \\left(c^{2} - 3 c x_{f} + 3 x_{f}^{2}\\right)}{9} & \\frac{c s_{t}^{4} \\left(c^{2} - 3 c x_{f} + 3 x_{f}^{2}\\right)}{12}\\\\\\frac{c s_{t}^{5} \\left(- c + 2 x_{f}\\right)}{10} & \\frac{c s_{t}^{6} \\left(- c + 2 x_{f}\\right)}{12} & \\frac{c s_{t}^{4} \\left(c^{2} - 3 c x_{f} + 3 x_{f}^{2}\\right)}{12} & \\frac{c s_{t}^{5} \\left(c^{2} - 3 c x_{f} + 3 x_{f}^{2}\\right)}{15}\\end{matrix}\\right]\\ddot{\\vec{q}} + \\left[\\begin{matrix}4 EI s_{t} & 6 EI s_{t}^{2} & 0 & 0\\\\6 EI s_{t}^{2} & 12 EI s_{t}^{3} & 0 & 0\\\\0 & 0 & GJ s_{t} & GJ s_{t}^{2}\\\\0 & 0 & GJ s_{t}^{2} & \\frac{4 GJ s_{t}^{3}}{3}\\end{matrix}\\right]\\vec{q} = \\rho V\\left[\\begin{matrix}- \\frac{a_{i} c s_{t}^{5}}{10} & - \\frac{a_{i} c s_{t}^{6}}{12} & 0 & 0\\\\- \\frac{a_{i} c s_{t}^{6}}{12} & - \\frac{a_{i} c s_{t}^{7}}{14} & 0 & 0\\\\- \\frac{a_{i} c^{2} e_{0} s_{t}^{4}}{8} & - \\frac{a_{i} c^{2} e_{0} s_{t}^{5}}{10} & - \\frac{M_{\\dot{\\theta}} c^{3} s_{t}^{3}}{24} & - \\frac{M_{\\dot{\\theta}} c^{3} s_{t}^{4}}{32}\\\\- \\frac{a_{i} c^{2} e_{0} s_{t}^{5}}{10} & - \\frac{a_{i} c^{2} e_{0} s_{t}^{6}}{12} & - \\frac{M_{\\dot{\\theta}} c^{3} s_{t}^{4}}{32} & - \\frac{M_{\\dot{\\theta}} c^{3} s_{t}^{5}}{40}\\end{matrix}\\right]\\dot{\\vec{q}} + \\left(\\rho V^2\\left[\\begin{matrix}0 & 0 & \\frac{a_{i} c s_{t}^{4}}{8} & \\frac{a_{i} c s_{t}^{5}}{10}\\\\0 & 0 & \\frac{a_{i} c s_{t}^{5}}{10} & \\frac{a_{i} c s_{t}^{6}}{12}\\\\0 & 0 & \\frac{a_{i} c^{2} e_{0} s_{t}^{3}}{6} & \\frac{a_{i} c^{2} e_{0} s_{t}^{4}}{8}\\\\0 & 0 & \\frac{a_{i} c^{2} e_{0} s_{t}^{4}}{8} & \\frac{a_{i} c^{2} e_{0} s_{t}^{5}}{10}\\end{matrix}\\right] \\right)\\vec{q}$$"
      ],
      "text/plain": [
       "<IPython.core.display.Latex object>"
      ]
     },
     "metadata": {},
     "output_type": "display_data"
    }
   ],
   "source": [
    "from IPython.display import display, Math, Latex\n",
    "A_prime = sym.latex(sym.simplify(A/p.rho_t))\n",
    "B_prime = sym.latex(sym.simplify(B/(p.rho*p.V)))\n",
    "C_prime = sym.latex(sym.simplify(C/(p.rho*p.V**2)))\n",
    "D_prime = sym.latex(sym.simplify(D))\n",
    "E_prime = sym.latex(sym.simplify(E))\n",
    "\n",
    "q = '\\\\vec{q}'\n",
    "qd = '\\\\dot{\\\\vec{q}}'\n",
    "qdd = '\\\\ddot{\\\\vec{q}}'\n",
    "zero = '\\\\vec{0}'\n",
    "\n",
    "display(Latex(f'$$m{A_prime}{qdd} + {E_prime}{q} = \\\\rho V{B_prime}{qd} + \\\\left(\\\\rho V^2{C_prime} \\\\right){q}$$'))"
   ]
  },
  {
   "cell_type": "markdown",
   "metadata": {},
   "source": [
    "As a reminded Jonathan's equations were\n",
    "\n",
    "$m\\left[\\begin{array}{ccc}\n",
    "{\\frac{s^{5} c}{5}} & {\\frac{s^{6} c}{6}} & {\\frac{s^{4}}{4}\\left(\\frac{c^{2}}{2}-c x_{f}\\right)} & {\\frac{s^{5}}{5}\\left(\\frac{c^{2}}{2}-c x_{f}\\right)} \\\\\n",
    "{\\frac{s^{6} c}{6}} & {\\frac{s^{7} c}{7}} & {\\frac{s^{5} c}{5}\\left(\\frac{c^{2}}{2}-c x_{i}\\right)} & {\\frac{s^{6} c}{6}\\left(\\frac{c^{2}}{2}-c x_{i}\\right)} \\\\\n",
    "{\\frac{s^{4}}{4}\\left(\\frac{c^{2}}{2}-c x_{i}\\right)} & {\\frac{s^{5}}{5}\\left(\\frac{c^{2}}{2}-c x_{i}\\right)} & {\\frac{s^{3}}{3}\\left(\\frac{c^{3}}{3}-c 2 x_{i}+c x_{i}^{2}\\right)} & {\\frac{s^{4}}{4}\\left(\\frac{c^{3}}{3}-c 2 x_{i}+c x_{i}^{2}\\right)} \\\\\n",
    "{\\frac{s^{5}}{5}\\left(\\frac{c^{2}}{2}-c x_{i}\\right)} & {\\frac{s^{6}}{6}\\left(\\frac{c^{2}}{2}-c x_{i}\\right)} & {\\frac{s^{4}}{4}\\left(\\frac{c^{3}}{3}-c 2 x_{i}+c x_{f}^{2}\\right)} & {\\frac{s^{5}}{5}\\left(\\frac{c^{3}}{3}-c 2 x_{i}+c x_{f}^{2}\\right)}\n",
    "\\end{array}\\right]\\mathbf{\\ddot{q}} + \\left[\\begin{array}{cccc}\n",
    "{4 \\mathrm{EIs}} & {6 \\mathrm{s}^{2} \\mathrm{EI}} & {0} & {0} \\\\\n",
    "{6 \\mathrm{s}^{2} \\mathrm{EI}} & {12 \\mathrm{s}^{3} \\mathrm{EI}} & {0} & {0} \\\\\n",
    "{0} & {0} & {\\mathrm{GJs}} & {\\mathrm{GJs}^{2}} \\\\\n",
    "{0} & {0} & {\\mathrm{GJs}^{2}} & {\\frac{4}{3} \\mathrm{GJs}^{3}}\n",
    "\\end{array}\\right]\\mathbf{q} = \\rho V\\left[\\begin{array}{cccc}{-\\frac{\\mathrm{ca}_{\\mathrm{w}} \\mathrm{s}^{5}}{10}} & {-\\frac{\\mathrm{ca}_{\\mathrm{w}} \\mathrm{s}^{6}}{12}} & {0} & {0} \\\\ {-\\frac{\\mathrm{ca}_{\\mathrm{w}} \\mathrm{s}^{6}}{12}} & {-\\frac{\\mathrm{ca}_{\\mathrm{w}} \\mathrm{s}^{7}}{14}} & {0} & {0} \\\\ {\\frac{\\mathrm{c}^{2} \\mathrm{ea}_{\\mathrm{w}} \\mathrm{s}^{4}}{8}} & {\\frac{\\mathrm{c}^{2} \\mathrm{ea}_{\\mathrm{c}} \\mathrm{s}^{5}}{10}} & {\\frac{\\mathrm{c}^{3} \\mathrm{M}_{6} \\mathrm{s}^{3}}{24}} & {\\frac{\\mathrm{c}^{3} \\mathrm{M}_{6} \\mathrm{s}^{4}}{32}} \\\\ {\\frac{\\mathrm{c}^{2} \\mathrm{ea}_{0}}{10}} & {\\frac{\\mathrm{c}^{2} \\mathrm{ea}_{0} \\mathrm{s}^{6}}{12}} & {\\frac{\\mathrm{c}^{3} \\mathrm{M}_{6} \\mathrm{s}^{4}}{32}} & {\\frac{\\mathrm{c}^{3} \\mathrm{M}_{6} \\mathrm{s}^{5}}{40}}\\end{array}\\right]\\mathbf{\\dot{q}} + \\rho V^{2}\\left[\\begin{array}{cccc}\n",
    "{0} & {0} & {-\\frac{\\mathrm{ca}_{\\mathrm{w}} \\mathrm{s}^{4}}{8}} & {-\\frac{\\mathrm{ca}_{\\mathrm{w}} \\mathrm{s}^{5}}{10}} \\\\\n",
    "{0} & {0} & {-\\frac{\\mathrm{ca}_{\\mathrm{w}} \\mathrm{s}^{5}}{10}} & {-\\frac{\\mathrm{ca}_{\\mathrm{w}} \\mathrm{s}^{6}}{12}} \\\\\n",
    "{0} & {0} & {\\frac{\\mathrm{c}^{2} \\mathrm{ea}_{\\mathrm{w}} \\mathrm{s}^{3}}{6}} & {\\frac{\\mathrm{c}^{2} \\mathrm{ea}_{\\mathrm{w}} \\mathrm{s}^{4}}{8}} \\\\\n",
    "{0} & {0} & {\\frac{\\mathrm{c}^{2} \\mathrm{ea}_{\\mathrm{w}} \\mathrm{s}^{4}}{8}} & {\\frac{\\mathrm{c}^{2} \\mathrm{ea}_{\\mathrm{w}} \\mathrm{s}^{5}}{10}}\n",
    "\\end{array}\\right]\\mathbf{q}$\n",
    "\n",
    "A comparison of the two equations shows they are exactly the same except for a $c2$ term in each of the terms M[2:,2:] in Jonathans which are a $c^2$ in mine\n",
    "\n",
    "Looking at were these are derived from in Jonathans, namely:\n",
    "\n",
    "$\\frac{\\mathrm{d}}{\\mathrm{dt}}\\left(\\frac{\\partial T}{\\partial \\dot{q}_{4}}\\right)=m\\left[\\frac{s^{5}}{5}\\left(\\frac{c^{2}}{2}-\\alpha_{t}\\right) \\ddot{\\mathrm{q}}_{1}+\\frac{s^{6}}{6}\\left(\\frac{\\mathrm{c}^{2}}{2}-\\mathrm{cx}_{t}\\right) \\ddot{\\mathrm{q}}_{2}+\\frac{\\mathrm{s}^{4}}{4}\\left(\\frac{\\mathrm{c}^{3}}{3}-\\mathrm{c}^{2} \\mathrm{x}_{\\mathrm{f}}+\\mathrm{cx}_{\\mathrm{f}}^{2}\\right) \\ddot{\\mathrm{q}}_{3}+\\frac{\\mathrm{s}^{5}}{5}\\left(\\frac{\\mathrm{c}^{3}}{3}-\\mathrm{c}^{2} \\mathrm{x}_{\\mathrm{t}}+\\mathrm{cx}_{\\mathrm{f}}^{2}\\right) \\ddot{\\mathrm{q}}_{4}\\right]$\n",
    "\n",
    "it is clear this is just an presentation error in the final matrix, and it should infact be $c^2$"
   ]
  },
  {
   "cell_type": "markdown",
   "metadata": {},
   "source": [
    "## Test a couple of Numeric Models\n",
    "\n",
    "### Compare Frequency values for a SDoF system\n",
    "\n",
    "with Jonathan's book, in section 3.2.1, a model is built of a continous wing with a single assumed shape:\n",
    "\n",
    "$z(y, t)=\\psi(y) q(t)=\\left(\\frac{y}{s}\\right)^{2} q(t)$\n",
    "\n",
    "The natural frequency of this system is found to be $\\omega=4.47 \\sqrt{\\frac{E I}{\\mu s^{4}}}$ and the exact answer is shown as $\\omega=3.516 \\sqrt{\\frac{E I}{\\mu s^{4}}}$\n",
    "\n",
    "#### Compare model with the answer for one assumed shape in bending"
   ]
  },
  {
   "cell_type": "code",
   "execution_count": 15,
   "metadata": {},
   "outputs": [
    {
     "ename": "NameError",
     "evalue": "name 'AssumedShapes' is not defined",
     "output_type": "error",
     "traceback": [
      "\u001b[1;31m---------------------------------------------------------------------------\u001b[0m",
      "\u001b[1;31mNameError\u001b[0m                                 Traceback (most recent call last)",
      "\u001b[1;32m<ipython-input-15-8b3e72b794d3>\u001b[0m in \u001b[0;36m<module>\u001b[1;34m\u001b[0m\n\u001b[0;32m      4\u001b[0m \u001b[1;33m\u001b[0m\u001b[0m\n\u001b[0;32m      5\u001b[0m \u001b[1;31m# create instance of Fwt parameters\u001b[0m\u001b[1;33m\u001b[0m\u001b[1;33m\u001b[0m\u001b[1;33m\u001b[0m\u001b[0m\n\u001b[1;32m----> 6\u001b[1;33m \u001b[0mp\u001b[0m \u001b[1;33m=\u001b[0m \u001b[0mAssumedShapes\u001b[0m\u001b[1;33m.\u001b[0m\u001b[0mFwtParameters\u001b[0m\u001b[1;33m(\u001b[0m\u001b[1;33m)\u001b[0m\u001b[1;33m\u001b[0m\u001b[1;33m\u001b[0m\u001b[0m\n\u001b[0m\u001b[0;32m      7\u001b[0m \u001b[0mp\u001b[0m\u001b[1;33m.\u001b[0m\u001b[0mThetaLocked\u001b[0m \u001b[1;33m=\u001b[0m \u001b[1;32mTrue\u001b[0m\u001b[1;33m\u001b[0m\u001b[1;33m\u001b[0m\u001b[0m\n\u001b[0;32m      8\u001b[0m \u001b[1;33m\u001b[0m\u001b[0m\n",
      "\u001b[1;31mNameError\u001b[0m: name 'AssumedShapes' is not defined"
     ]
    }
   ],
   "source": [
    "# create generalised coordinates\n",
    "q0 = me.dynamicsymbols('q0') \n",
    "q = sym.Matrix([q0])\n",
    "\n",
    "# create instance of Fwt parameters\n",
    "p = AssumedShapes.FwtParameters()\n",
    "p.ThetaLocked = True\n",
    "\n",
    "# define shape Functions\n",
    "z_w = q0*y**2\n",
    "alpha_w = sym.Rational(0,1)\n",
    "\n",
    "# FWT is locked so is parrallel to the end of the main wing\n",
    "z_t = z_w.subs(y,p.s_w) + z_w.diff(t).subs(y,p.s_w)*y\n",
    "alpha_t = alpha_w.subs(y,p.s_w)\n",
    "\n",
    "# create the model\n",
    "sModel = AssumedShapes.SymbolicModel(q,z_w,alpha_w,z_t,alpha_t,p)\n",
    "sModel.GenerateEoM()\n",
    "\n",
    "eSet = (sModel.M**-1*sModel.K).eigenvals()\n",
    "eVal = sym.sqrt(((eSet.popitem())[0]).subs({p.k_theta:0,p.s_t:0}))\n",
    "eVal"
   ]
  },
  {
   "cell_type": "markdown",
   "metadata": {},
   "source": [
    "#### What about 2 shapes for bending"
   ]
  },
  {
   "cell_type": "code",
   "execution_count": null,
   "metadata": {},
   "outputs": [],
   "source": [
    "# create generalised coordinates\n",
    "q0,q1 = me.dynamicsymbols('q0,q1') \n",
    "q = sym.Matrix([q0,q1])\n",
    "\n",
    "# create instance of Fwt parameters\n",
    "p = AssumedShapes.FwtParameters()\n",
    "p.ThetaLocked = True\n",
    "\n",
    "# define shape Functions\n",
    "z_w = q0*y**2+q1*y**3\n",
    "alpha_w = sym.Rational(0,1)\n",
    "\n",
    "# FWT is locked so is parrallel to the end of the main wing\n",
    "z_t = z_w.subs(y,p.s_w) + z_w.diff(t).subs(y,p.s_w)*y\n",
    "alpha_t = alpha_w.subs(y,p.s_w)\n",
    "\n",
    "# create the model\n",
    "sModel = AssumedShapes.SymbolicModel(q,z_w,alpha_w,z_t,alpha_t,p)\n",
    "sModel.GenerateEoM()\n",
    "\n",
    "\n",
    "\n",
    "eSet = (sModel.M**-1*sModel.K).eigenvals()\n",
    "freqs = []\n",
    "for key,value in eSet.items():\n",
    "    freqs.append(sym.simplify(sym.sqrt(key.subs({p.k_theta:0,p.s_t:0}))))\n",
    "freqs"
   ]
  },
  {
   "cell_type": "markdown",
   "metadata": {},
   "source": [
    "Thats getting more complicated and doesnt really simplify well. So lets swap to numerical analysis.\n",
    "\n",
    "\n",
    "If we set $E,I,m_w,s_w,c$ to 1 the frequecy of the lowest mode shape should start at 4.47 and tend to 3.516"
   ]
  },
  {
   "cell_type": "code",
   "execution_count": null,
   "metadata": {},
   "outputs": [],
   "source": [
    "# create generalised coordinates\n",
    "q0,q1,q2 = me.dynamicsymbols('q:3') \n",
    "q = sym.Matrix([q0,q1,q2])\n",
    "\n",
    "# create instance of Fwt parameters\n",
    "p = AssumedShapes.FwtParameters()\n",
    "p.ThetaLocked = True\n",
    "p.EI.value = 1\n",
    "p.m_w.value = 1\n",
    "p.s_w.value = 1\n",
    "p.c.value = 1\n",
    "\n",
    "\n",
    "# created assumed shapes for ever higher order models then create a numerical model and find the minimium modal frequency\n",
    "Freqs = []\n",
    "Vecs = []\n",
    "Df = pd.DataFrame();\n",
    "for i in np.arange(0,3):\n",
    "    # define shape Functions\n",
    "    z_w = sym.Rational(0,1)\n",
    "    for j in np.arange(0,i+1):\n",
    "        z_w = z_w + q[j]*y**(2+j)\n",
    "\n",
    "    alpha_w = sym.Rational(0,1)\n",
    "\n",
    "    # FWT is locked so is parrallel to the end of the main wing\n",
    "    z_t = z_w.subs(y,p.s_w) + z_w.diff(t).subs(y,p.s_w)*y\n",
    "    alpha_t = alpha_w.subs(y,p.s_w)\n",
    "\n",
    "    # create the model\n",
    "    sModel = AssumedShapes.SymbolicModel(q,z_w,alpha_w,z_t,alpha_t,p)\n",
    "    sModel.GenerateEoM()\n",
    "\n",
    "    nModel = sModel.createNumericInstance()\n",
    "\n",
    "    df = nModel.FreeVibrationValsPd()\n",
    "    withS = 's' if i>0 else ''\n",
    "    df['Shapes'] = f'{i+1} Shape{withS}'\n",
    "    df['Mode'] = df.index\n",
    "    Df = pd.concat((Df,df),axis=0)"
   ]
  },
  {
   "cell_type": "code",
   "execution_count": null,
   "metadata": {},
   "outputs": [],
   "source": [
    "pd.options.display.float_format = '{:,.2f}'.format\n",
    "Df['% Error'] = ((Df['Freq'] / 3.516) -1)*100"
   ]
  },
  {
   "cell_type": "code",
   "execution_count": null,
   "metadata": {},
   "outputs": [],
   "source": [
    "# plot mode shapes\n",
    "import seaborn as sns; sns.set()\n",
    "import matplotlib.pyplot as plt\n",
    "\n",
    "# make a data frame to calulaate the positon at each y station\n",
    "ModeDf = pd.DataFrame()\n",
    "ModeDf['y'] = np.linspace(0,1,100)\n",
    "ShapeDf = Df[Df['Mode']==0].reset_index(drop=True)\n",
    "# make a new series for each MOde shape to show as a combination of the values in ShapeDf\n",
    "for i in np.arange(0,3):\n",
    "    ModeDf[f'Mode Shape ({i+1} Shape)'] = ModeDf['y'] **2 * ShapeDf['Comp 0'][i] + ModeDf['y'] **3 * ShapeDf['Comp 1'][i] + ModeDf['y'] **4 * ShapeDf['Comp 2'][i]\n",
    "\n",
    "# set the index of the data frame\n",
    "ModeDf = ModeDf.set_index('y')\n",
    "\n",
    "# ensure the end of the beam is deflecting up\n",
    "cols = list(ModeDf)\n",
    "for i in range(0,len(cols)):\n",
    "    if ModeDf[cols[i]].iloc[-1] < 0:\n",
    "        ModeDf[cols[i]] = ModeDf[cols[i]]*-1\n",
    "\n",
    "#normalise shapes to max value\n",
    "ModeDf = ModeDf.apply(lambda x : x/x.max())\n",
    "\n",
    "sns.lineplot(data = ModeDf)\n"
   ]
  },
  {
   "cell_type": "code",
   "execution_count": null,
   "metadata": {},
   "outputs": [],
   "source": []
  }
 ],
 "metadata": {
  "kernelspec": {
   "display_name": "fwt_models",
   "language": "python",
   "name": "fwt_models"
  },
  "language_info": {
   "codemirror_mode": {
    "name": "ipython",
    "version": 3
   },
   "file_extension": ".py",
   "mimetype": "text/x-python",
   "name": "python",
   "nbconvert_exporter": "python",
   "pygments_lexer": "ipython3",
   "version": "3.8.8"
  }
 },
 "nbformat": 4,
 "nbformat_minor": 4
}
