{
 "cells": [
  {
   "cell_type": "markdown",
   "metadata": {},
   "source": []
  },
  {
   "cell_type": "code",
   "execution_count": null,
   "metadata": {},
   "outputs": [],
   "source": [
    "import sympy as sym\n",
    "import sympy.physics.mechanics as me\n",
    "from sympy.physics.vector.printing import vpprint, vlatex\n",
    "from sympy.utilities.codegen import codegen\n",
    "from sympy.utilities.autowrap import autowrap"
   ]
  },
  {
   "cell_type": "code",
   "execution_count": 2,
   "metadata": {},
   "outputs": [],
   "source": [
    "# initial coordinates\n",
    "\n",
    "# generalised coordinates\n",
    "a, b, theta = me.dynamicsymbols('a b theta')\n",
    "\n",
    "m_w, m_t, x, y, x_f, s_w, s_t, Lambda, c, EI, GJ, g, t, k_theta = sym.symbols('m_w m_t x y x_f s_w s_t Lambda c EI GJ g t k_theta')\n",
    "\n",
    "q = sym.Matrix([a,b,theta])\n",
    "qd = q.diff(t)\n",
    "qdd = qd.diff(t)"
   ]
  },
  {
   "cell_type": "code",
   "execution_count": 3,
   "metadata": {},
   "outputs": [],
   "source": [
    "# wing z and alpha formulas\n",
    "\n",
    "z_w = a*y**2+b*(x-x_f)*y\n",
    "alpha_w = b*y"
   ]
  },
  {
   "cell_type": "code",
   "execution_count": 4,
   "metadata": {},
   "outputs": [],
   "source": [
    "# wing tip equations\n",
    "\n",
    "# z_t = z_w.subs(y,s_w) + theta*(y+sym.tan(Lambda)*(x-c/2))\n",
    "z_t = z_w.subs(y,s_w) + theta*(y)\n",
    "\n",
    "\n",
    "alpha_t = alpha_w.subs(y,s_w) + theta*sym.sin(Lambda)"
   ]
  },
  {
   "cell_type": "markdown",
   "metadata": {},
   "source": [
    "## Calculate the Equations of Motion using the Euler Lagrange Equations\n",
    "\n",
    "$\\frac{d}{dt}\\frac{\\partial L}{\\partial \\dot{q}} - \\frac{\\partial L}{\\partial q} = 0$\n",
    "\n",
    "$L = T - U$\n",
    "\n",
    "### Calculate the Potential Energy"
   ]
  },
  {
   "cell_type": "code",
   "execution_count": 5,
   "metadata": {},
   "outputs": [
    {
     "data": {
      "image/png": "[encoded data removed]",
      "text/latex": [
       "$\\displaystyle \\frac{c g m_{w} s_{w}^{3} a}{3} + s_{w}^{2} \\left(\\frac{c^{2} g m_{w} b}{4} - \\frac{c g m_{w} x_{f} b}{2}\\right)$"
      ],
      "text/plain": [
       "           3          ⎛ 2                        ⎞\n",
       "c⋅g⋅m_w⋅s_w ⋅a      2 ⎜c ⋅g⋅m_w⋅b   c⋅g⋅m_w⋅x_f⋅b⎟\n",
       "────────────── + s_w ⋅⎜────────── - ─────────────⎟\n",
       "      3               ⎝    4              2      ⎠"
      ]
     },
     "execution_count": 5,
     "metadata": {},
     "output_type": "execute_result"
    }
   ],
   "source": [
    "# calculate the potential energy\n",
    "me.mechanics_printing()\n",
    "# potential energy stored in main wing from bend and twisting\n",
    "U = sym.Rational(1,2)*(z_w.diff(y,y)**2*EI).integrate((y,0,s_w))\n",
    "U = U + sym.Rational(1,2)*(alpha_w.diff(y)**2*GJ).integrate((y,0,s_w))\n",
    "# potential energy stored in hinge spring\n",
    "U = U + sym.Rational(1,2)*k_theta*theta**2\n",
    "\n",
    "# potential energy stored in main wing from gravitational forces\n",
    "U = U + (z_w*g*m_w).integrate((x,0,c),(y,0,s_w))\n",
    "U = U + (z_t*g*m_t).integrate((x,0,c),(y,0,s_t))\n",
    "\n",
    "(z_w*g*m_w).integrate((x,0,c),(y,0,s_w))"
   ]
  },
  {
   "cell_type": "code",
   "execution_count": 6,
   "metadata": {},
   "outputs": [
    {
     "data": {
      "image/png": "[encoded data removed]",
      "text/latex": [
       "$\\displaystyle 2 EI s_{w} a^{2} + \\frac{GJ s_{w} b^{2}}{2} + \\frac{c g m_{t} s_{t}^{2} \\theta}{2} + \\frac{c g m_{w} s_{w}^{3} a}{3} + \\frac{k_{\\theta} \\theta^{2}}{2} + s_{t} \\left(\\frac{c^{2} g m_{t} s_{w} b}{2} + c g m_{t} s_{w}^{2} a - c g m_{t} s_{w} x_{f} b\\right) + s_{w}^{2} \\left(\\frac{c^{2} g m_{w} b}{4} - \\frac{c g m_{w} x_{f} b}{2}\\right)$"
      ],
      "text/plain": [
       "                      2            2                3             2      ⎛ 2  \n",
       "          2   GJ⋅s_w⋅b    c⋅g⋅mₜ⋅sₜ ⋅θ   c⋅g⋅m_w⋅s_w ⋅a   kₜₕₑₜₐ⋅θ       ⎜c ⋅g\n",
       "2⋅EI⋅s_w⋅a  + ───────── + ──────────── + ────────────── + ───────── + sₜ⋅⎜────\n",
       "                  2            2               3              2          ⎝    \n",
       "\n",
       "                                            ⎞        ⎛ 2                      \n",
       "⋅mₜ⋅s_w⋅b             2                     ⎟      2 ⎜c ⋅g⋅m_w⋅b   c⋅g⋅m_w⋅x_f\n",
       "───────── + c⋅g⋅mₜ⋅s_w ⋅a - c⋅g⋅mₜ⋅s_w⋅x_f⋅b⎟ + s_w ⋅⎜────────── - ───────────\n",
       "  2                                         ⎠        ⎝    4              2    \n",
       "\n",
       "  ⎞\n",
       "⋅b⎟\n",
       "──⎟\n",
       "  ⎠"
      ]
     },
     "execution_count": 6,
     "metadata": {},
     "output_type": "execute_result"
    }
   ],
   "source": [
    "U"
   ]
  },
  {
   "cell_type": "markdown",
   "metadata": {},
   "source": [
    "### Calculate the Potential Energy"
   ]
  },
  {
   "cell_type": "code",
   "execution_count": 7,
   "metadata": {},
   "outputs": [
    {
     "data": {
      "image/png": "[encoded data removed]",
      "text/latex": [
       "$\\displaystyle \\frac{c m_{t} s_{t}^{3} \\dot{\\theta}^{2}}{6} + \\frac{c m_{w} s_{w}^{5} \\dot{a}^{2}}{10} + s_{t}^{2} \\left(\\frac{c^{2} m_{t} s_{w} \\dot{b} \\dot{\\theta}}{4} + \\frac{c m_{t} s_{w}^{2} \\dot{a} \\dot{\\theta}}{2} - \\frac{c m_{t} s_{w} x_{f} \\dot{b} \\dot{\\theta}}{2}\\right) + s_{t} \\left(\\frac{c^{3} m_{t} s_{w}^{2} \\dot{b}^{2}}{6} + \\frac{c^{2} m_{t} s_{w}^{3} \\dot{a} \\dot{b}}{2} - \\frac{c^{2} m_{t} s_{w}^{2} x_{f} \\dot{b}^{2}}{2} + \\frac{c m_{t} s_{w}^{4} \\dot{a}^{2}}{2} - c m_{t} s_{w}^{3} x_{f} \\dot{a} \\dot{b} + \\frac{c m_{t} s_{w}^{2} x_{f}^{2} \\dot{b}^{2}}{2}\\right) + s_{w}^{4} \\left(\\frac{c^{2} m_{w} \\dot{a} \\dot{b}}{8} - \\frac{c m_{w} x_{f} \\dot{a} \\dot{b}}{4}\\right) + s_{w}^{3} \\left(\\frac{c^{3} m_{w} \\dot{b}^{2}}{18} - \\frac{c^{2} m_{w} x_{f} \\dot{b}^{2}}{6} + \\frac{c m_{w} x_{f}^{2} \\dot{b}^{2}}{6}\\right)$"
      ],
      "text/plain": [
       "       3  2            5  2       ⎛ 2                      2                  \n",
       "c⋅mₜ⋅sₜ ⋅θ̇    c⋅m_w⋅s_w ⋅ȧ      2 ⎜c ⋅mₜ⋅s_w⋅ḃ⋅θ̇   c⋅mₜ⋅s_w ⋅ȧ⋅θ̇   c⋅mₜ⋅\n",
       "─────────── + ───────────── + sₜ ⋅⎜───────────── + ───────────── - ───────────\n",
       "     6              10            ⎝      4               2                2   \n",
       "\n",
       "     ⎞      ⎛ 3       2  2    2       3        2       2      2           4  2\n",
       "s_w⋅x_f⋅ḃ⋅θ̇⎟      ⎜c ⋅mₜ⋅s_w ⋅ḃ    c ⋅mₜ⋅s_w ⋅ȧ⋅ḃ   c ⋅mₜ⋅s_w ⋅x_f⋅ḃ    \n",
       "─────⎟ + sₜ⋅⎜───────────── + ────────────── - ───────────────── + ────────────\n",
       "     ⎠      ⎝      6               2                  2                2      \n",
       "\n",
       "                               2    2  2⎞        ⎛ 2                        ⎞ \n",
       "c⋅mₜ⋅s_w ⋅ȧ            3           c⋅mₜ⋅s_w ⋅x_f ⋅ḃ ⎟      4 ⎜c ⋅m_w⋅ȧ⋅ḃ  \n",
       " - c⋅mₜ⋅s_w ⋅x_f⋅ȧ⋅ḃ + ─────────────────⎟ + s_w ⋅⎜────────── - ─────────────\n",
       "                               2        ⎠        ⎝    8              4      ⎠ \n",
       "\n",
       "       ⎛ 3      2    2          2            2  2⎞\n",
       " c⋅m_w⋅x_f⋅ȧ⋅ḃ⎟      3 ⎜c ⋅m_w⋅ḃ    c ⋅m_w⋅x_f⋅ḃ    c⋅m_w⋅x_f ⋅ḃ ⎟\n",
       "⎟ + s_w ⋅⎜───────── - ───────────── + ─────────────⎟\n",
       "       ⎝    18            6               6      ⎠"
      ]
     },
     "execution_count": 7,
     "metadata": {},
     "output_type": "execute_result"
    }
   ],
   "source": [
    "# calculate the kinetic energy\n",
    "# T = sym.Rational(1,2) * m_w\n",
    "\n",
    "T = (z_w.diff(t)**2*sym.Rational(1,2)*m_w).integrate((x,0,c),(y,0,s_w))\n",
    "T = T + (z_t.diff(t)**2*sym.Rational(1,2)*m_t).integrate((x,0,c),(y,0,s_t))\n",
    "T"
   ]
  },
  {
   "cell_type": "markdown",
   "metadata": {},
   "source": [
    "### Calculate the Terms on the LHS of the Euler-lagrange equation"
   ]
  },
  {
   "cell_type": "code",
   "execution_count": 8,
   "metadata": {},
   "outputs": [
    {
     "data": {
      "text/latex": [
       "$\\displaystyle \\left[\\begin{matrix}- 4 EI s_{w} a - c g m_{t} s_{t} s_{w}^{2} - \\frac{c g m_{w} s_{w}^{3}}{3} & - GJ s_{w} b - s_{t} \\left(\\frac{c^{2} g m_{t} s_{w}}{2} - c g m_{t} s_{w} x_{f}\\right) - s_{w}^{2} \\left(\\frac{c^{2} g m_{w}}{4} - \\frac{c g m_{w} x_{f}}{2}\\right) & - \\frac{c g m_{t} s_{t}^{2}}{2} - k_{\\theta} \\theta\\end{matrix}\\right]$"
      ],
      "text/plain": [
       "⎡                                          3                 ⎛ 2              \n",
       "⎢                           2   c⋅g⋅m_w⋅s_w                  ⎜c ⋅g⋅mₜ⋅s_w     \n",
       "⎢-4⋅EI⋅s_w⋅a - c⋅g⋅mₜ⋅sₜ⋅s_w  - ────────────  -GJ⋅s_w⋅b - sₜ⋅⎜─────────── - c⋅\n",
       "⎣                                    3                       ⎝     2          \n",
       "\n",
       "            ⎞        ⎛ 2                    ⎞             2           ⎤\n",
       "            ⎟      2 ⎜c ⋅g⋅m_w   c⋅g⋅m_w⋅x_f⎟    c⋅g⋅mₜ⋅sₜ            ⎥\n",
       "g⋅mₜ⋅s_w⋅x_f⎟ - s_w ⋅⎜──────── - ───────────⎟  - ────────── - kₜₕₑₜₐ⋅θ⎥\n",
       "            ⎠        ⎝   4            2     ⎠        2                ⎦"
      ]
     },
     "execution_count": 8,
     "metadata": {},
     "output_type": "execute_result"
    }
   ],
   "source": [
    "# from classic larange equation calulate the first two terms\n",
    "L = sym.Matrix([T-U])\n",
    "\n",
    "term_1 = L.jacobian(qd).diff(me.dynamicsymbols._t).T\n",
    "term_2 = L.jacobian(q).T\n",
    "LHS = term_1-term_2\n",
    "\n",
    "#Extract the mass matrix (using the fact highest order term is second derivative)\n",
    "M = sym.simplify(LHS.jacobian(qdd))\n",
    "\n",
    "# use the Mass Matrix to find the remainder of the LHS \n",
    "K = sym.simplify(LHS - M*qdd).jacobian(q)\n",
    "\n",
    "#Show m\n",
    "sym.simplify((LHS - M*qdd) - K*q)\n",
    "L.jacobian(q)"
   ]
  },
  {
   "cell_type": "code",
   "execution_count": 9,
   "metadata": {},
   "outputs": [
    {
     "data": {
      "text/latex": [
       "$\\displaystyle \\left[\\begin{matrix}4 EI s_{w} a + c g m_{t} s_{t} s_{w}^{2} + \\frac{c g m_{w} s_{w}^{3}}{3} + \\frac{c m_{t} s_{t}^{2} s_{w}^{2} \\ddot{\\theta}}{2} + \\frac{c m_{w} s_{w}^{5} \\ddot{a}}{5} + s_{t} \\left(\\frac{c^{2} m_{t} s_{w}^{3} \\ddot{b}}{2} + c m_{t} s_{w}^{4} \\ddot{a} - c m_{t} s_{w}^{3} x_{f} \\ddot{b}\\right) + s_{w}^{4} \\left(\\frac{c^{2} m_{w} \\ddot{b}}{8} - \\frac{c m_{w} x_{f} \\ddot{b}}{4}\\right)\\\\GJ s_{w} b + s_{t}^{2} \\left(\\frac{c^{2} m_{t} s_{w} \\ddot{\\theta}}{4} - \\frac{c m_{t} s_{w} x_{f} \\ddot{\\theta}}{2}\\right) + s_{t} \\left(\\frac{c^{2} g m_{t} s_{w}}{2} - c g m_{t} s_{w} x_{f}\\right) + s_{t} \\left(\\frac{c^{3} m_{t} s_{w}^{2} \\ddot{b}}{3} + \\frac{c^{2} m_{t} s_{w}^{3} \\ddot{a}}{2} - c^{2} m_{t} s_{w}^{2} x_{f} \\ddot{b} - c m_{t} s_{w}^{3} x_{f} \\ddot{a} + c m_{t} s_{w}^{2} x_{f}^{2} \\ddot{b}\\right) + s_{w}^{4} \\left(\\frac{c^{2} m_{w} \\ddot{a}}{8} - \\frac{c m_{w} x_{f} \\ddot{a}}{4}\\right) + s_{w}^{3} \\left(\\frac{c^{3} m_{w} \\ddot{b}}{9} - \\frac{c^{2} m_{w} x_{f} \\ddot{b}}{3} + \\frac{c m_{w} x_{f}^{2} \\ddot{b}}{3}\\right) + s_{w}^{2} \\left(\\frac{c^{2} g m_{w}}{4} - \\frac{c g m_{w} x_{f}}{2}\\right)\\\\\\frac{c g m_{t} s_{t}^{2}}{2} + \\frac{c m_{t} s_{t}^{3} \\ddot{\\theta}}{3} + k_{\\theta} \\theta + s_{t}^{2} \\left(\\frac{c^{2} m_{t} s_{w} \\ddot{b}}{4} + \\frac{c m_{t} s_{w}^{2} \\ddot{a}}{2} - \\frac{c m_{t} s_{w} x_{f} \\ddot{b}}{2}\\right)\\end{matrix}\\right]$"
      ],
      "text/plain": [
       "⎡                                                                             \n",
       "⎢                                                                             \n",
       "⎢                                                              4⋅EI⋅s_w⋅a + c⋅\n",
       "⎢                                                                             \n",
       "⎢                                                                             \n",
       "⎢               ⎛ 2                          ⎞      ⎛ 2                       \n",
       "⎢             2 ⎜c ⋅mₜ⋅s_w⋅θ̈   c⋅mₜ⋅s_w⋅x_f⋅θ̈⎟      ⎜c ⋅g⋅mₜ⋅s_w            \n",
       "⎢GJ⋅s_w⋅b + sₜ ⋅⎜─────────── - ──────────────⎟ + sₜ⋅⎜─────────── - c⋅g⋅mₜ⋅s_w⋅\n",
       "⎢               ⎝     4              2       ⎠      ⎝     2                   \n",
       "⎢                                                                             \n",
       "⎢                                                                             \n",
       "⎢                                                                             \n",
       "⎢                                                                             \n",
       "⎣                                                                             \n",
       "\n",
       "                          3          2    2              5        ⎛ 2       3 \n",
       "           2   c⋅g⋅m_w⋅s_w    c⋅mₜ⋅sₜ ⋅s_w ⋅θ̈   c⋅m_w⋅s_w ⋅ä      ⎜c ⋅mₜ⋅s_w\n",
       "g⋅mₜ⋅sₜ⋅s_w  + ──────────── + ─────────────── + ──────────── + sₜ⋅⎜───────────\n",
       "                    3                2               5            ⎝     2     \n",
       "                                                                              \n",
       "   ⎞      ⎛ 3       2      2       3                                          \n",
       "     ⎟      ⎜c ⋅mₜ⋅s_w ⋅b̈   c ⋅mₜ⋅s_w ⋅ä    2       2                 3     \n",
       "x_f⎟ + sₜ⋅⎜──────────── + ──────────── - c ⋅mₜ⋅s_w ⋅x_f⋅b̈ - c⋅mₜ⋅s_w ⋅x_f⋅ä \n",
       "   ⎠      ⎝     3              2                                              \n",
       "                                                                              \n",
       "                               2          3                    ⎛ 2            \n",
       "                      c⋅g⋅mₜ⋅sₜ    c⋅mₜ⋅sₜ ⋅θ̈                2 ⎜c ⋅mₜ⋅s_w⋅b̈ \n",
       "                      ────────── + ────────── + kₜₕₑₜₐ⋅θ + sₜ ⋅⎜─────────── + \n",
       "                          2            3                       ⎝     4        \n",
       "\n",
       "                                 ⎞        ⎛ 2                    ⎞            \n",
       " ⋅b̈           4             3      ⎟      4 ⎜c ⋅m_w⋅b̈   c⋅m_w⋅x_f⋅b̈⎟       \n",
       "─ + c⋅mₜ⋅s_w ⋅ä - c⋅mₜ⋅s_w ⋅x_f⋅b̈⎟ + s_w ⋅⎜──────── - ───────────⎟          \n",
       "                                 ⎠        ⎝   8            4     ⎠            \n",
       "                                                                              \n",
       "                ⎞        ⎛ 2                    ⎞        ⎛ 3          2       \n",
       "            2    2  ⎟      4 ⎜c ⋅m_w⋅ä   c⋅m_w⋅x_f⋅ä⎟      3 ⎜c ⋅m_w⋅b̈   c \n",
       "+ c⋅mₜ⋅s_w ⋅x_f ⋅b̈⎟ + s_w ⋅⎜──────── - ───────────⎟ + s_w ⋅⎜──────── - ──────\n",
       "                ⎠        ⎝   8            4     ⎠        ⎝   9            3   \n",
       "                                                                              \n",
       "        2                   ⎞                                                 \n",
       "  c⋅mₜ⋅s_w ⋅ä   c⋅mₜ⋅s_w⋅x_f⋅b̈⎟                                             \n",
       "─────────── - ──────────────⎟                                                 \n",
       "     2              2       ⎠                                                 \n",
       "\n",
       "                                                   ⎤\n",
       "                                                        ⎥\n",
       "                                                     ⎥\n",
       "                                                   ⎥\n",
       "                                                   ⎥\n",
       "               2  ⎞        ⎛ 2                    ⎞⎥\n",
       "⋅m_w⋅x_f⋅b̈   c⋅m_w⋅x_f ⋅b̈⎟      2 ⎜c ⋅g⋅m_w   c⋅g⋅m_w⋅x_f⎟⎥\n",
       "────── + ────────────⎟ + s_w ⋅⎜──────── - ───────────⎟⎥\n",
       "           3      ⎠        ⎝   4            2     ⎠⎥\n",
       "                                                   ⎥\n",
       "                                                   ⎥\n",
       "                                                       ⎥\n",
       "                                                   ⎥\n",
       "                                                   ⎦"
      ]
     },
     "execution_count": 9,
     "metadata": {},
     "output_type": "execute_result"
    }
   ],
   "source": [
    "# Show K\n",
    "LHS"
   ]
  },
  {
   "cell_type": "markdown",
   "metadata": {},
   "source": [
    "### Calculate the RHS of the Euler-Lagrange Equation"
   ]
  },
  {
   "cell_type": "code",
   "execution_count": 10,
   "metadata": {},
   "outputs": [
    {
     "data": {
      "image/png": "[encoded data removed]",
      "text/latex": [
       "$\\displaystyle \\left[ y^{2} a, \\  s_{w}^{2} a + y \\theta\\right]$"
      ],
      "text/plain": [
       "⎡ 2       2        ⎤\n",
       "⎣y ⋅a, s_w ⋅a + y⋅θ⎦"
      ]
     },
     "execution_count": 10,
     "metadata": {},
     "output_type": "execute_result"
    }
   ],
   "source": [
    "### Calculate the RHS of the Lagrangian (forcing functions)\n",
    "\n",
    "#create new symbols\n",
    "rho, V, a_g, a_w, a_t, alpha_0, e = sym.symbols('rho V a_g a_w a_t alpha_0 e ')\n",
    "Malphadot = sym.symbols('M_alphadot')\n",
    "w_g, kappa, alpha = me.dynamicsymbols('w_g kappa alpha')\n",
    "\n",
    "extraTerms = sym.Matrix([alpha_0,w_g])\n",
    "\n",
    "# create dynamic symbol for gust\n",
    "\n",
    "kappad = kappa.diff(me.dynamicsymbols._t)\n",
    "alphad = alpha.diff(me.dynamicsymbols._t)\n",
    "\n",
    "# forces act on flexural axis, so alter z eqns (new unit kappa)\n",
    "kappa_w = z_w.subs(x,x_f)\n",
    "kappa_t = z_t.subs(x,x_f)\n",
    "[kappa_w,kappa_t]"
   ]
  },
  {
   "cell_type": "code",
   "execution_count": 11,
   "metadata": {},
   "outputs": [
    {
     "data": {
      "image/png": "[encoded data removed]",
      "text/latex": [
       "$\\displaystyle s_{w}^{2} a + y \\theta$"
      ],
      "text/plain": [
       "   2        \n",
       "s_w ⋅a + y⋅θ"
      ]
     },
     "execution_count": 11,
     "metadata": {},
     "output_type": "execute_result"
    }
   ],
   "source": [
    "# to simplify expression make a constant of the term in kappa_t\n",
    "lamda = sym.symbols('lamda')\n",
    "kappa_t = kappa_t.subs({(x_f-c/2)*sym.tan(Lambda):lamda})\n",
    "kappa_t"
   ]
  },
  {
   "cell_type": "markdown",
   "metadata": {},
   "source": [
    "#### Calculate the external forces on the Main Wing"
   ]
  },
  {
   "cell_type": "code",
   "execution_count": 12,
   "metadata": {},
   "outputs": [],
   "source": [
    "# Calc forces on main wing\n",
    "dL_w = sym.Rational(1,2)*rho*V**2*c*a_w*(alpha_w + kappa_w.diff(t)/V+alpha_0+w_g/V)\n",
    "dM_w = sym.Rational(1,2)*rho*V**2*c**2*(e*a_w*(alpha_w + kappa_w.diff(t)/V+alpha_0)+Malphadot*alpha_w.diff(t)*c/(4*V)+w_g/V)\n",
    "\n",
    "Q = (sym.Matrix([kappa_w]).jacobian(q).T*dL_w).integrate((y,0,s_w))\n",
    "Q = Q + (sym.Matrix([alpha_w]).jacobian(q).T*dM_w).integrate((y,0,s_w))\n",
    "\n",
    "# get the B and C matrices\n",
    "remainder = Q\n",
    "B_w = Q.jacobian(qd)\n",
    "remainder = (Q - B_w*qd)\n",
    "C_w = remainder.jacobian(q)\n",
    "remainder = remainder - C_w*q\n",
    "G_w = sym.simplify((Q-B_w*qd) - C_w*q).jacobian(extraTerms)\n",
    "remainder = remainder - G_w*extraTerms"
   ]
  },
  {
   "cell_type": "code",
   "execution_count": 13,
   "metadata": {},
   "outputs": [
    {
     "data": {
      "text/latex": [
       "$\\displaystyle \\left[\\begin{matrix}\\frac{V a_{w} c \\rho s_{w}^{5}}{10} & 0 & 0\\\\\\frac{V a_{w} c^{2} e \\rho s_{w}^{4}}{8} & \\frac{M_{\\dot{\\alpha}} V c^{3} \\rho s_{w}^{3}}{24} & 0\\\\0 & 0 & 0\\end{matrix}\\right]$"
      ],
      "text/plain": [
       "⎡              5                      ⎤\n",
       "⎢ V⋅a_w⋅c⋅ρ⋅s_w                       ⎥\n",
       "⎢ ──────────────           0         0⎥\n",
       "⎢       10                            ⎥\n",
       "⎢                                     ⎥\n",
       "⎢       2        4         3      3   ⎥\n",
       "⎢V⋅a_w⋅c ⋅e⋅ρ⋅s_w   M_α̇⋅V⋅c ⋅ρ⋅s_w    ⎥\n",
       "⎢─────────────────  ───────────────  0⎥\n",
       "⎢        8                 24         ⎥\n",
       "⎢                                     ⎥\n",
       "⎣        0                 0         0⎦"
      ]
     },
     "execution_count": 13,
     "metadata": {},
     "output_type": "execute_result"
    }
   ],
   "source": [
    "# Show B\n",
    "B_w\n"
   ]
  },
  {
   "cell_type": "code",
   "execution_count": 14,
   "metadata": {},
   "outputs": [
    {
     "data": {
      "text/latex": [
       "$\\displaystyle \\left[\\begin{matrix}0 & \\frac{V^{2} a_{w} c \\rho s_{w}^{4}}{8} & 0\\\\0 & \\frac{V^{2} a_{w} c^{2} e \\rho s_{w}^{3}}{6} & 0\\\\0 & 0 & 0\\end{matrix}\\right]$"
      ],
      "text/plain": [
       "⎡     2            4     ⎤\n",
       "⎢    V ⋅a_w⋅c⋅ρ⋅s_w      ⎥\n",
       "⎢0   ───────────────    0⎥\n",
       "⎢           8            ⎥\n",
       "⎢                        ⎥\n",
       "⎢    2      2        3   ⎥\n",
       "⎢   V ⋅a_w⋅c ⋅e⋅ρ⋅s_w    ⎥\n",
       "⎢0  ──────────────────  0⎥\n",
       "⎢           6            ⎥\n",
       "⎢                        ⎥\n",
       "⎣0          0           0⎦"
      ]
     },
     "execution_count": 14,
     "metadata": {},
     "output_type": "execute_result"
    }
   ],
   "source": [
    "# Show C\n",
    "C_w"
   ]
  },
  {
   "cell_type": "code",
   "execution_count": 15,
   "metadata": {},
   "outputs": [
    {
     "data": {
      "text/latex": [
       "$\\displaystyle \\left[\\begin{matrix}\\frac{V^{2} a_{w} c \\rho s_{w}^{3}}{6} & \\frac{V a_{w} c \\rho s_{w}^{3}}{6}\\\\\\frac{V^{2} a_{w} c^{2} e \\rho s_{w}^{2}}{4} & \\frac{V c^{2} \\rho s_{w}^{2}}{4}\\\\0 & 0\\end{matrix}\\right]$"
      ],
      "text/plain": [
       "⎡  2            3                 3⎤\n",
       "⎢ V ⋅a_w⋅c⋅ρ⋅s_w     V⋅a_w⋅c⋅ρ⋅s_w ⎥\n",
       "⎢ ───────────────    ──────────────⎥\n",
       "⎢        6                 6       ⎥\n",
       "⎢                                  ⎥\n",
       "⎢ 2      2        2      2      2  ⎥\n",
       "⎢V ⋅a_w⋅c ⋅e⋅ρ⋅s_w    V⋅c ⋅ρ⋅s_w   ⎥\n",
       "⎢──────────────────   ───────────  ⎥\n",
       "⎢        4                 4       ⎥\n",
       "⎢                                  ⎥\n",
       "⎣        0                 0       ⎦"
      ]
     },
     "execution_count": 15,
     "metadata": {},
     "output_type": "execute_result"
    }
   ],
   "source": [
    "# Show G\n",
    "G_w"
   ]
  },
  {
   "cell_type": "markdown",
   "metadata": {},
   "source": [
    "#### Calculate external Forces on the wing-tip"
   ]
  },
  {
   "cell_type": "code",
   "execution_count": 16,
   "metadata": {},
   "outputs": [],
   "source": [
    "# Calc forces on main wing\n",
    "dL_t = sym.Rational(1,2)*rho*V**2*c*a_t*(alpha_t + kappa_t.diff(t)/V+alpha_0+w_g/V)\n",
    "dM_t = sym.Rational(1,2)*rho*V**2*c**2*(e*a_t*(alpha_t + kappa_t.diff(t)/V+alpha_0)+Malphadot*alpha_t.diff(t)*c/(4*V)+w_g/V)\n",
    "\n",
    "Q = (sym.Matrix([kappa_t]).jacobian(q).T*dL_t).integrate((y,0,s_t))\n",
    "Q = Q + (sym.Matrix([alpha_t]).jacobian(q).T*dM_t).integrate((y,0,s_t))\n",
    "\n",
    "# get the B and C matrices\n",
    "remainder = Q\n",
    "B_t = Q.jacobian(qd)\n",
    "remainder = (Q - B_t*qd)\n",
    "C_t = remainder.jacobian(q)\n",
    "remainder = remainder - C_t*q\n",
    "G_t = sym.simplify((Q-B_t*qd) - C_t*q).jacobian(extraTerms)\n",
    "remainder = remainder - G_t*extraTerms"
   ]
  },
  {
   "cell_type": "code",
   "execution_count": 17,
   "metadata": {},
   "outputs": [
    {
     "data": {
      "text/latex": [
       "$\\displaystyle \\left[\\begin{matrix}\\frac{V a_{t} c \\rho s_{t} s_{w}^{4}}{2} & 0 & \\frac{V a_{t} c \\rho s_{t}^{2} s_{w}^{2}}{4}\\\\\\frac{V a_{t} c^{2} e \\rho s_{t} s_{w}^{3}}{2} & \\frac{M_{\\dot{\\alpha}} V c^{3} \\rho s_{t} s_{w}^{2}}{8} & \\frac{V c^{2} \\rho s_{t} s_{w} \\left(M_{\\dot{\\alpha}} c \\operatorname{sin}\\left(\\Lambda\\right) + 2 a_{t} e s_{t}\\right)}{8}\\\\\\frac{V a_{t} c \\rho s_{t} s_{w}^{2} \\left(2 c e \\operatorname{sin}\\left(\\Lambda\\right) + s_{t}\\right)}{4} & \\frac{M_{\\dot{\\alpha}} V c^{3} \\rho s_{t} s_{w} \\operatorname{sin}\\left(\\Lambda\\right)}{8} & \\frac{V c \\rho s_{t} \\left(3 M_{\\dot{\\alpha}} c^{2} \\operatorname{sin}^{2}\\left(\\Lambda\\right) + 6 a_{t} c e s_{t} \\operatorname{sin}\\left(\\Lambda\\right) + 4 a_{t} s_{t}^{2}\\right)}{24}\\end{matrix}\\right]$"
      ],
      "text/plain": [
       "⎡                         4                                                   \n",
       "⎢          V⋅aₜ⋅c⋅ρ⋅sₜ⋅s_w                                                    \n",
       "⎢          ────────────────                       0                           \n",
       "⎢                 2                                                           \n",
       "⎢                                                                             \n",
       "⎢              2           3                     3         2                 2\n",
       "⎢        V⋅aₜ⋅c ⋅e⋅ρ⋅sₜ⋅s_w               M_α̇⋅V⋅c ⋅ρ⋅sₜ⋅s_w               V⋅c\n",
       "⎢        ───────────────────              ──────────────────              ────\n",
       "⎢                 2                               8                           \n",
       "⎢                                                                             \n",
       "⎢               2                             3                           ⎛   \n",
       "⎢V⋅aₜ⋅c⋅ρ⋅sₜ⋅s_w ⋅(2⋅c⋅e⋅sin(Λ) + sₜ)  M_α̇⋅V⋅c ⋅ρ⋅sₜ⋅s_w⋅sin(Λ)  V⋅c⋅ρ⋅sₜ⋅⎝3⋅\n",
       "⎢────────────────────────────────────  ────────────────────────  ─────────────\n",
       "⎣                 4                               8                           \n",
       "\n",
       "                   2    2                     ⎤\n",
       "        V⋅aₜ⋅c⋅ρ⋅sₜ ⋅s_w                      ⎥\n",
       "        ─────────────────                     ⎥\n",
       "                4                             ⎥\n",
       "                                              ⎥\n",
       "                                              ⎥\n",
       " ⋅ρ⋅sₜ⋅s_w⋅(M_α̇⋅c⋅sin(Λ) + 2⋅aₜ⋅e⋅sₜ)          ⎥\n",
       "────────────────────────────────────          ⎥\n",
       "               8                              ⎥\n",
       "                                              ⎥\n",
       "    2    2                                  2⎞⎥\n",
       "M_α̇⋅c ⋅sin (Λ) + 6⋅aₜ⋅c⋅e⋅sₜ⋅sin(Λ) + 4⋅aₜ⋅sₜ ⎠⎥\n",
       "──────────────────────────────────────────────⎥\n",
       "                24                            ⎦"
      ]
     },
     "execution_count": 17,
     "metadata": {},
     "output_type": "execute_result"
    }
   ],
   "source": [
    "# show B\n",
    "sym.simplify(B_t)"
   ]
  },
  {
   "cell_type": "code",
   "execution_count": 18,
   "metadata": {},
   "outputs": [
    {
     "data": {
      "text/latex": [
       "$\\displaystyle \\left[\\begin{matrix}0 & \\frac{V^{2} a_{t} c \\rho s_{t} s_{w}^{3}}{2} & \\frac{V^{2} a_{t} c \\rho s_{t} s_{w}^{2} \\operatorname{sin}\\left(\\Lambda\\right)}{2}\\\\0 & \\frac{V^{2} a_{t} c^{2} e \\rho s_{t} s_{w}^{2}}{2} & \\frac{V^{2} a_{t} c^{2} e \\rho s_{t} s_{w} \\operatorname{sin}\\left(\\Lambda\\right)}{2}\\\\0 & \\frac{V^{2} a_{t} c \\rho s_{t} s_{w} \\left(2 c e \\operatorname{sin}\\left(\\Lambda\\right) + s_{t}\\right)}{4} & \\frac{V^{2} a_{t} c \\rho s_{t} \\left(2 c e \\operatorname{sin}\\left(\\Lambda\\right) + s_{t}\\right) \\operatorname{sin}\\left(\\Lambda\\right)}{4}\\end{matrix}\\right]$"
      ],
      "text/plain": [
       "⎡             2              3                    2              2            \n",
       "⎢            V ⋅aₜ⋅c⋅ρ⋅sₜ⋅s_w                    V ⋅aₜ⋅c⋅ρ⋅sₜ⋅s_w ⋅sin(Λ)     \n",
       "⎢0           ─────────────────                   ────────────────────────     \n",
       "⎢                    2                                      2                 \n",
       "⎢                                                                             \n",
       "⎢            2     2           2                 2     2                      \n",
       "⎢           V ⋅aₜ⋅c ⋅e⋅ρ⋅sₜ⋅s_w                 V ⋅aₜ⋅c ⋅e⋅ρ⋅sₜ⋅s_w⋅sin(Λ)    \n",
       "⎢0          ────────────────────                ──────────────────────────    \n",
       "⎢                    2                                      2                 \n",
       "⎢                                                                             \n",
       "⎢    2                                     2                                  \n",
       "⎢   V ⋅aₜ⋅c⋅ρ⋅sₜ⋅s_w⋅(2⋅c⋅e⋅sin(Λ) + sₜ)  V ⋅aₜ⋅c⋅ρ⋅sₜ⋅(2⋅c⋅e⋅sin(Λ) + sₜ)⋅sin\n",
       "⎢0  ────────────────────────────────────  ────────────────────────────────────\n",
       "⎣                    4                                       4                \n",
       "\n",
       "   ⎤\n",
       "   ⎥\n",
       "   ⎥\n",
       "   ⎥\n",
       "   ⎥\n",
       "   ⎥\n",
       "   ⎥\n",
       "   ⎥\n",
       "   ⎥\n",
       "   ⎥\n",
       "   ⎥\n",
       "(Λ)⎥\n",
       "───⎥\n",
       "   ⎦"
      ]
     },
     "execution_count": 18,
     "metadata": {},
     "output_type": "execute_result"
    }
   ],
   "source": [
    "# show C\n",
    "sym.simplify(C_t)"
   ]
  },
  {
   "cell_type": "code",
   "execution_count": 19,
   "metadata": {},
   "outputs": [
    {
     "data": {
      "text/latex": [
       "$\\displaystyle \\left[\\begin{matrix}\\frac{V^{2} a_{t} c \\rho s_{t} s_{w}^{2}}{2} & \\frac{V a_{t} c \\rho s_{t} s_{w}^{2}}{2}\\\\\\frac{V^{2} a_{t} c^{2} e \\rho s_{t} s_{w}}{2} & \\frac{V c^{2} \\rho s_{t} s_{w}}{2}\\\\\\frac{V^{2} a_{t} c \\rho s_{t} \\left(2 c e \\operatorname{sin}\\left(\\Lambda\\right) + s_{t}\\right)}{4} & \\frac{V c \\rho s_{t} \\left(a_{t} s_{t} + 2 c \\operatorname{sin}\\left(\\Lambda\\right)\\right)}{4}\\end{matrix}\\right]$"
      ],
      "text/plain": [
       "⎡        2              2                               2       ⎤\n",
       "⎢       V ⋅aₜ⋅c⋅ρ⋅sₜ⋅s_w                 V⋅aₜ⋅c⋅ρ⋅sₜ⋅s_w        ⎥\n",
       "⎢       ─────────────────                ────────────────       ⎥\n",
       "⎢               2                               2               ⎥\n",
       "⎢                                                               ⎥\n",
       "⎢       2     2                               2                 ⎥\n",
       "⎢      V ⋅aₜ⋅c ⋅e⋅ρ⋅sₜ⋅s_w                 V⋅c ⋅ρ⋅sₜ⋅s_w        ⎥\n",
       "⎢      ───────────────────                 ─────────────        ⎥\n",
       "⎢               2                                2              ⎥\n",
       "⎢                                                               ⎥\n",
       "⎢ 2                                                             ⎥\n",
       "⎢V ⋅aₜ⋅c⋅ρ⋅sₜ⋅(2⋅c⋅e⋅sin(Λ) + sₜ)  V⋅c⋅ρ⋅sₜ⋅(aₜ⋅sₜ + 2⋅c⋅sin(Λ))⎥\n",
       "⎢────────────────────────────────  ─────────────────────────────⎥\n",
       "⎣               4                                4              ⎦"
      ]
     },
     "execution_count": 19,
     "metadata": {},
     "output_type": "execute_result"
    }
   ],
   "source": [
    "# show G\n",
    "sym.simplify(G_t)"
   ]
  },
  {
   "cell_type": "code",
   "execution_count": 20,
   "metadata": {},
   "outputs": [
    {
     "data": {
      "text/latex": [
       "$\\displaystyle \\left[\\begin{matrix}\\frac{c s_{w}^{4} \\left(5 m_{t} s_{t} + m_{w} s_{w}\\right)}{5} & \\frac{c s_{w}^{3} \\left(c - 2 x_{f}\\right) \\left(4 m_{t} s_{t} + m_{w} s_{w}\\right)}{8} & \\frac{c m_{t} s_{t}^{2} s_{w}^{2}}{2}\\\\\\frac{c s_{w}^{3} \\left(c - 2 x_{f}\\right) \\left(4 m_{t} s_{t} + m_{w} s_{w}\\right)}{8} & \\frac{c s_{w}^{2} \\left(3 m_{t} s_{t} + m_{w} s_{w}\\right) \\left(c^{2} - 3 c x_{f} + 3 x_{f}^{2}\\right)}{9} & \\frac{c m_{t} s_{t}^{2} s_{w} \\left(c - 2 x_{f}\\right)}{4}\\\\\\frac{c m_{t} s_{t}^{2} s_{w}^{2}}{2} & \\frac{c m_{t} s_{t}^{2} s_{w} \\left(c - 2 x_{f}\\right)}{4} & \\frac{c m_{t} s_{t}^{3}}{3}\\end{matrix}\\right]$"
      ],
      "text/plain": [
       "⎡           4                                       3                         \n",
       "⎢      c⋅s_w ⋅(5⋅mₜ⋅sₜ + m_w⋅s_w)              c⋅s_w ⋅(c - 2⋅x_f)⋅(4⋅mₜ⋅sₜ + m\n",
       "⎢      ──────────────────────────              ───────────────────────────────\n",
       "⎢                  5                                             8            \n",
       "⎢                                                                             \n",
       "⎢     3                                       2                     ⎛ 2       \n",
       "⎢c⋅s_w ⋅(c - 2⋅x_f)⋅(4⋅mₜ⋅sₜ + m_w⋅s_w)  c⋅s_w ⋅(3⋅mₜ⋅sₜ + m_w⋅s_w)⋅⎝c  - 3⋅c⋅\n",
       "⎢──────────────────────────────────────  ─────────────────────────────────────\n",
       "⎢                  8                                             9            \n",
       "⎢                                                                             \n",
       "⎢                   2    2                                   2                \n",
       "⎢            c⋅mₜ⋅sₜ ⋅s_w                             c⋅mₜ⋅sₜ ⋅s_w⋅(c - 2⋅x_f)\n",
       "⎢            ─────────────                            ────────────────────────\n",
       "⎣                  2                                             4            \n",
       "\n",
       "                           2    2      ⎤\n",
       "_w⋅s_w)             c⋅mₜ⋅sₜ ⋅s_w       ⎥\n",
       "───────             ─────────────      ⎥\n",
       "                          2            ⎥\n",
       "                                       ⎥\n",
       "           2⎞         2                ⎥\n",
       "x_f + 3⋅x_f ⎠  c⋅mₜ⋅sₜ ⋅s_w⋅(c - 2⋅x_f)⎥\n",
       "─────────────  ────────────────────────⎥\n",
       "                          4            ⎥\n",
       "                                       ⎥\n",
       "                              3        ⎥\n",
       "                       c⋅mₜ⋅sₜ         ⎥\n",
       "                       ────────        ⎥\n",
       "                          3            ⎦"
      ]
     },
     "execution_count": 20,
     "metadata": {},
     "output_type": "execute_result"
    }
   ],
   "source": [
    "M"
   ]
  },
  {
   "cell_type": "code",
   "execution_count": 69,
   "metadata": {},
   "outputs": [],
   "source": [
    "M_matrix = sym.MatrixSymbol('M', *M.shape)\n",
    "K_matrix = sym.MatrixSymbol('K', *M.shape)\n",
    "Bw_matrix = sym.MatrixSymbol('B_w', *M.shape)\n",
    "Cw_matrix = sym.MatrixSymbol('C_w', *M.shape)\n",
    "Gw_matrix = sym.MatrixSymbol('G_w', *M.shape)\n",
    "Bt_matrix = sym.MatrixSymbol('B_t', *M.shape)\n",
    "Ct_matrix = sym.MatrixSymbol('C_t', *M.shape)\n",
    "Gt_matrix = sym.MatrixSymbol('G_t', *M.shape)\n",
    "\n",
    "M_eq = sym.Eq(M_matrix, M)\n",
    "K_eq = sym.Eq(K_matrix, K)\n",
    "Bw_eq = sym.Eq(Bw_matrix, B_w)\n",
    "Cw_eq = sym.Eq(Cw_matrix, C_w)\n",
    "Gw_eq = sym.Eq(Gw_matrix, G_w)\n",
    "Bt_eq = sym.Eq(Bt_matrix, B_t)\n",
    "Ct_eq = sym.Eq(Ct_matrix, C_t)\n",
    "Gt_eq = sym.Eq(Gt_matrix, G_t)"
   ]
  },
  {
   "cell_type": "code",
   "execution_count": 91,
   "metadata": {},
   "outputs": [
    {
     "ename": "TypeError",
     "evalue": "OctaveCodePrinter cannot assign to object of type <class 'tuple'>",
     "output_type": "error",
     "traceback": [
      "\u001b[1;31m---------------------------------------------------------------------------\u001b[0m",
      "\u001b[1;31mTypeError\u001b[0m                                 Traceback (most recent call last)",
      "\u001b[1;32m<ipython-input-91-524e60f69e9e>\u001b[0m in \u001b[0;36m<module>\u001b[1;34m\u001b[0m\n\u001b[1;32m----> 1\u001b[1;33m \u001b[0mMs\u001b[0m \u001b[1;33m=\u001b[0m \u001b[0msym\u001b[0m\u001b[1;33m.\u001b[0m\u001b[0mprinting\u001b[0m\u001b[1;33m.\u001b[0m\u001b[0moctave_code\u001b[0m\u001b[1;33m(\u001b[0m\u001b[1;33m(\u001b[0m\u001b[0mM\u001b[0m\u001b[1;33m,\u001b[0m\u001b[0mK\u001b[0m\u001b[1;33m)\u001b[0m\u001b[1;33m,\u001b[0m\u001b[0massign_to\u001b[0m \u001b[1;33m=\u001b[0m \u001b[1;33m(\u001b[0m\u001b[1;34m'M'\u001b[0m\u001b[1;33m,\u001b[0m\u001b[1;34m'K'\u001b[0m\u001b[1;33m)\u001b[0m\u001b[1;33m)\u001b[0m\u001b[1;33m\u001b[0m\u001b[1;33m\u001b[0m\u001b[0m\n\u001b[0m\u001b[0;32m      2\u001b[0m \u001b[0mMs\u001b[0m\u001b[1;33m\u001b[0m\u001b[1;33m\u001b[0m\u001b[0m\n",
      "\u001b[1;32m~\\AppData\\Local\\Continuum\\anaconda3\\lib\\site-packages\\sympy\\printing\\octave.py\u001b[0m in \u001b[0;36moctave_code\u001b[1;34m(expr, assign_to, **settings)\u001b[0m\n\u001b[0;32m    721\u001b[0m     \u001b[1;34m'Dy(i) = (y(i + 1) - y(i))./(t(i + 1) - t(i));'\u001b[0m\u001b[1;33m\u001b[0m\u001b[1;33m\u001b[0m\u001b[0m\n\u001b[0;32m    722\u001b[0m     \"\"\"\n\u001b[1;32m--> 723\u001b[1;33m     \u001b[1;32mreturn\u001b[0m \u001b[0mOctaveCodePrinter\u001b[0m\u001b[1;33m(\u001b[0m\u001b[0msettings\u001b[0m\u001b[1;33m)\u001b[0m\u001b[1;33m.\u001b[0m\u001b[0mdoprint\u001b[0m\u001b[1;33m(\u001b[0m\u001b[0mexpr\u001b[0m\u001b[1;33m,\u001b[0m \u001b[0massign_to\u001b[0m\u001b[1;33m)\u001b[0m\u001b[1;33m\u001b[0m\u001b[1;33m\u001b[0m\u001b[0m\n\u001b[0m\u001b[0;32m    724\u001b[0m \u001b[1;33m\u001b[0m\u001b[0m\n\u001b[0;32m    725\u001b[0m \u001b[1;33m\u001b[0m\u001b[0m\n",
      "\u001b[1;32m~\\AppData\\Local\\Continuum\\anaconda3\\lib\\site-packages\\sympy\\printing\\codeprinter.py\u001b[0m in \u001b[0;36mdoprint\u001b[1;34m(self, expr, assign_to)\u001b[0m\n\u001b[0;32m     93\u001b[0m         \u001b[1;32melif\u001b[0m \u001b[1;32mnot\u001b[0m \u001b[0misinstance\u001b[0m\u001b[1;33m(\u001b[0m\u001b[0massign_to\u001b[0m\u001b[1;33m,\u001b[0m \u001b[1;33m(\u001b[0m\u001b[0mBasic\u001b[0m\u001b[1;33m,\u001b[0m \u001b[0mtype\u001b[0m\u001b[1;33m(\u001b[0m\u001b[1;32mNone\u001b[0m\u001b[1;33m)\u001b[0m\u001b[1;33m)\u001b[0m\u001b[1;33m)\u001b[0m\u001b[1;33m:\u001b[0m\u001b[1;33m\u001b[0m\u001b[1;33m\u001b[0m\u001b[0m\n\u001b[0;32m     94\u001b[0m             raise TypeError(\"{0} cannot assign to object of type {1}\".format(\n\u001b[1;32m---> 95\u001b[1;33m                     type(self).__name__, type(assign_to)))\n\u001b[0m\u001b[0;32m     96\u001b[0m \u001b[1;33m\u001b[0m\u001b[0m\n\u001b[0;32m     97\u001b[0m         \u001b[1;32mif\u001b[0m \u001b[0massign_to\u001b[0m\u001b[1;33m:\u001b[0m\u001b[1;33m\u001b[0m\u001b[1;33m\u001b[0m\u001b[0m\n",
      "\u001b[1;31mTypeError\u001b[0m: OctaveCodePrinter cannot assign to object of type <class 'tuple'>"
     ]
    }
   ],
   "source": [
    "Ms = sym.printing.octave_code((M,K),assign_to = ('M','K'))"
   ]
  },
  {
   "cell_type": "code",
   "execution_count": 82,
   "metadata": {},
   "outputs": [
    {
     "data": {
      "text/latex": [
       "$\\displaystyle \\left[\\begin{matrix}\\frac{V^{2} a_{t} c \\rho s_{t} s_{w}^{2}}{2} & \\frac{V a_{t} c \\rho s_{t} s_{w}^{2}}{2}\\\\\\frac{V^{2} a_{t} c^{2} e \\rho s_{t} s_{w}}{2} & \\frac{V c^{2} \\rho s_{t} s_{w}}{2}\\\\\\frac{V c \\rho s_{t} \\left(2 V a_{t} c e \\operatorname{sin}\\left(\\Lambda\\right) + V a_{t} s_{t}\\right)}{4} & \\frac{V c \\rho s_{t} \\left(a_{t} s_{t} + 2 c \\operatorname{sin}\\left(\\Lambda\\right)\\right)}{4}\\end{matrix}\\right]$"
      ],
      "text/plain": [
       "⎡           2              2                                  2       ⎤\n",
       "⎢          V ⋅aₜ⋅c⋅ρ⋅sₜ⋅s_w                    V⋅aₜ⋅c⋅ρ⋅sₜ⋅s_w        ⎥\n",
       "⎢          ─────────────────                   ────────────────       ⎥\n",
       "⎢                  2                                  2               ⎥\n",
       "⎢                                                                     ⎥\n",
       "⎢          2     2                                  2                 ⎥\n",
       "⎢         V ⋅aₜ⋅c ⋅e⋅ρ⋅sₜ⋅s_w                    V⋅c ⋅ρ⋅sₜ⋅s_w        ⎥\n",
       "⎢         ───────────────────                    ─────────────        ⎥\n",
       "⎢                  2                                   2              ⎥\n",
       "⎢                                                                     ⎥\n",
       "⎢V⋅c⋅ρ⋅sₜ⋅(2⋅V⋅aₜ⋅c⋅e⋅sin(Λ) + V⋅aₜ⋅sₜ)  V⋅c⋅ρ⋅sₜ⋅(aₜ⋅sₜ + 2⋅c⋅sin(Λ))⎥\n",
       "⎢──────────────────────────────────────  ─────────────────────────────⎥\n",
       "⎣                  4                                   4              ⎦"
      ]
     },
     "execution_count": 82,
     "metadata": {},
     "output_type": "execute_result"
    }
   ],
   "source": [
    "G_t"
   ]
  },
  {
   "cell_type": "code",
   "execution_count": 83,
   "metadata": {},
   "outputs": [],
   "source": [
    "f = autowrap((M_eq,K_eq,Bw_eq,Cw_eq,Bt_eq,Ct_eq), backend = 'cython',tempdir ='C:\\\\Users\\\\qe19391\\\\OneDrive - University of Bristol\\\\Documents\\\\Projects\\\\FWTD modelling\\\\1 - PyDy Equations of Motion\\\\test', args = [c,s_w,s_t,m_w,m_t,x_f,e,EI,GJ,k_theta,Lambda, Malphadot, V, a_t, a_w, rho])"
   ]
  },
  {
   "cell_type": "code",
   "execution_count": 58,
   "metadata": {},
   "outputs": [
    {
     "data": {
      "text/plain": [
       "(array([[4.e+03, 0.e+00, 0.e+00],\n",
       "        [0.e+00, 1.e+03, 0.e+00],\n",
       "        [0.e+00, 0.e+00, 1.e+00]]),\n",
       " array([[ 2.10000000e+05, -1.30000000e+03,  5.00000000e+01],\n",
       "        [-1.30000000e+03,  2.94694444e+02, -2.50000000e-01],\n",
       "        [ 5.00000000e+01, -2.50000000e-01,  3.33333333e-01]]))"
      ]
     },
     "execution_count": 58,
     "metadata": {},
     "output_type": "execute_result"
    }
   ],
   "source": [
    "f(1,10,1,10,1,0.55,0.2,100,100,1)"
   ]
  },
  {
   "cell_type": "code",
   "execution_count": 59,
   "metadata": {},
   "outputs": [
    {
     "data": {
      "text/latex": [
       "$\\displaystyle \\left( \\left[ \\left( x_{0}, \\  m_{w} s_{w}\\right), \\  \\left( x_{1}, \\  m_{t} s_{t}\\right), \\  \\left( x_{2}, \\  s_{w}^{4}\\right), \\  \\left( x_{3}, \\  c x_{2}\\right), \\  \\left( x_{4}, \\  c - 2 x_{f}\\right), \\  \\left( x_{5}, \\  s_{w}^{3}\\right), \\  \\left( x_{6}, \\  c x_{5}\\right), \\  \\left( x_{7}, \\  \\frac{x_{4} x_{6} \\left(x_{0} + 4 x_{1}\\right)}{8}\\right), \\  \\left( x_{8}, \\  s_{t}^{2}\\right), \\  \\left( x_{9}, \\  c m_{t}\\right), \\  \\left( x_{10}, \\  x_{8} x_{9}\\right), \\  \\left( x_{11}, \\  s_{w}^{2}\\right), \\  \\left( x_{12}, \\  \\frac{x_{11}}{2}\\right), \\  \\left( x_{13}, \\  x_{10} x_{12}\\right), \\  \\left( x_{14}, \\  c^{2}\\right), \\  \\left( x_{15}, \\  c x_{11}\\right), \\  \\left( x_{16}, \\  \\frac{s_{w}}{4}\\right), \\  \\left( x_{17}, \\  x_{10} x_{16} x_{4}\\right), \\  \\left( x_{18}, \\  s_{t}^{3}\\right), \\  \\left( x_{19}, \\  V \\rho\\right), \\  \\left( x_{20}, \\  a_{w} x_{19}\\right), \\  \\left( x_{21}, \\  x_{14} x_{19}\\right), \\  \\left( x_{22}, \\  \\frac{a_{w}}{8}\\right), \\  \\left( x_{23}, \\  M_{\\dot{\\alpha}} c^{3} x_{19}\\right), \\  \\left( x_{24}, \\  V^{2}\\right), \\  \\left( x_{25}, \\  \\rho x_{3}\\right), \\  \\left( x_{26}, \\  \\rho x_{24}\\right), \\  \\left( x_{27}, \\  a_{w} x_{26}\\right), \\  \\left( x_{28}, \\  e x_{14}\\right), \\  \\left( x_{29}, \\  x_{27} x_{28}\\right), \\  \\left( x_{30}, \\  \\frac{x_{6}}{6}\\right), \\  \\left( x_{31}, \\  \\frac{x_{11}}{4}\\right), \\  \\left( x_{32}, \\  a_{t} s_{t}\\right), \\  \\left( x_{33}, \\  V x_{32}\\right), \\  \\left( x_{34}, \\  \\frac{x_{33}}{2}\\right), \\  \\left( x_{35}, \\  a_{t} x_{8}\\right), \\  \\left( x_{36}, \\  \\frac{x_{35}}{4}\\right), \\  \\left( x_{37}, \\  x_{15} x_{19} x_{36}\\right), \\  \\left( x_{38}, \\  \\frac{x_{23}}{8}\\right), \\  \\left( x_{39}, \\  s_{t} x_{38}\\right), \\  \\left( x_{40}, \\  \\operatorname{sin}\\left(\\Lambda\\right)\\right), \\  \\left( x_{41}, \\  s_{t} s_{w}\\right), \\  \\left( x_{42}, \\  x_{38} x_{40} x_{41}\\right), \\  \\left( x_{43}, \\  a_{t} e\\right), \\  \\left( x_{44}, \\  x_{21} x_{43} x_{8}\\right), \\  \\left( x_{45}, \\  \\rho x_{33}\\right), \\  \\left( x_{46}, \\  c x_{19}\\right), \\  \\left( x_{47}, \\  x_{40}^{2}\\right), \\  \\left( x_{48}, \\  x_{26} x_{32}\\right), \\  \\left( x_{49}, \\  \\frac{x_{48}}{2}\\right), \\  \\left( x_{50}, \\  c x_{40}\\right), \\  \\left( x_{51}, \\  x_{12} x_{48}\\right), \\  \\left( x_{52}, \\  x_{28} x_{49}\\right), \\  \\left( x_{53}, \\  s_{w} x_{52}\\right), \\  \\left( x_{54}, \\  x_{40} x_{53}\\right), \\  \\left( x_{55}, \\  c x_{12}\\right), \\  \\left( x_{56}, \\  2 x_{50}\\right), \\  \\left( x_{57}, \\  \\frac{s_{t} x_{46}}{4}\\right)\\right], \\  \\left[ \\left[\\begin{matrix}\\frac{x_{3} \\left(x_{0} + 5 x_{1}\\right)}{5} & x_{7} & x_{13}\\\\x_{7} & \\frac{x_{15} \\left(x_{0} + 3 x_{1}\\right) \\left(- 3 c x_{f} + x_{14} + 3 x_{f}^{2}\\right)}{9} & x_{17}\\\\x_{13} & x_{17} & \\frac{x_{18} x_{9}}{3}\\end{matrix}\\right], \\  \\left[\\begin{matrix}4 EI s_{w} & 0 & 0\\\\0 & GJ s_{w} & 0\\\\0 & 0 & k_{\\theta}\\end{matrix}\\right], \\  \\left[\\begin{matrix}\\frac{c s_{w}^{5} x_{20}}{10} & 0 & 0\\\\e x_{2} x_{21} x_{22} & \\frac{x_{23} x_{5}}{24} & 0\\\\0 & 0 & 0\\end{matrix}\\right], \\  \\left[\\begin{matrix}0 & x_{22} x_{24} x_{25} & 0\\\\0 & \\frac{x_{29} x_{5}}{6} & 0\\\\0 & 0 & 0\\end{matrix}\\right], \\  \\left[\\begin{matrix}x_{27} x_{30} & x_{20} x_{30}\\\\x_{29} x_{31} & x_{21} x_{31}\\\\0 & 0\\end{matrix}\\right], \\  \\left[\\begin{matrix}x_{25} x_{34} & 0 & x_{37}\\\\\\rho x_{28} x_{34} x_{5} & x_{11} x_{39} & x_{16} x_{44} + x_{42}\\\\x_{12} x_{28} x_{40} x_{45} + x_{37} & x_{42} & \\frac{a_{t} x_{18} x_{46}}{6} + x_{39} x_{47} + \\frac{x_{40} x_{44}}{4}\\end{matrix}\\right], \\  \\left[\\begin{matrix}0 & x_{49} x_{6} & x_{50} x_{51}\\\\0 & x_{28} x_{51} & x_{54}\\\\0 & c x_{16} x_{26} x_{35} + x_{54} & x_{26} x_{36} x_{50} + x_{47} x_{52}\\end{matrix}\\right], \\  \\left[\\begin{matrix}x_{48} x_{55} & x_{45} x_{55}\\\\x_{53} & \\frac{x_{21} x_{41}}{2}\\\\x_{57} \\left(V x_{43} x_{56} + x_{33}\\right) & x_{57} \\left(x_{32} + x_{56}\\right)\\end{matrix}\\right]\\right]\\right)$"
      ],
      "text/plain": [
       "⎛                                                                             \n",
       "⎜                                                                             \n",
       "⎜                                                                             \n",
       "⎜                                                                             \n",
       "⎜                                                                             \n",
       "⎜⎡                            ⎛       4⎞                               ⎛      \n",
       "⎜⎢(x₀, m_w⋅s_w), (x₁, mₜ⋅sₜ), ⎝x₂, s_w ⎠, (x₃, c⋅x₂), (x₄, c - 2⋅x_f), ⎝x₅, s_\n",
       "⎜⎣                                                                            \n",
       "⎜                                                                             \n",
       "⎜                                                                             \n",
       "⎜                                                                             \n",
       "⎝                                                                             \n",
       "\n",
       "                                                                              \n",
       "                                                                              \n",
       "                                                                              \n",
       "                                                                              \n",
       "                                                                              \n",
       " 3⎞              ⎛    x₄⋅x₆⋅(x₀ + 4⋅x₁)⎞  ⎛      2⎞                           \n",
       "w ⎠, (x₆, c⋅x₅), ⎜x₇, ─────────────────⎟, ⎝x₈, sₜ ⎠, (x₉, c⋅mₜ), (x₁₀, x₈⋅x₉),\n",
       "                 ⎝            8        ⎠                                      \n",
       "                                                                              \n",
       "                                                                              \n",
       "                                                                              \n",
       "                                                                              \n",
       "\n",
       "                                                                              \n",
       "                                                                              \n",
       "                                                                              \n",
       "                                                                              \n",
       "                                                                              \n",
       " ⎛        2⎞  ⎛     x₁₁⎞                  ⎛      2⎞                ⎛     s_w⎞ \n",
       " ⎝x₁₁, s_w ⎠, ⎜x₁₂, ───⎟, (x₁₃, x₁₀⋅x₁₂), ⎝x₁₄, c ⎠, (x₁₅, c⋅x₁₁), ⎜x₁₆, ───⎟,\n",
       "              ⎝      2 ⎠                                           ⎝      4 ⎠ \n",
       "                                                                              \n",
       "                                                                              \n",
       "                                                                              \n",
       "                                                                              \n",
       "\n",
       "                                                                              \n",
       "                                                                              \n",
       "                                                                              \n",
       "                                                                              \n",
       "                                                                              \n",
       "                    ⎛       3⎞                                              ⎛ \n",
       " (x₁₇, x₁₀⋅x₁₆⋅x₄), ⎝x₁₈, sₜ ⎠, (x₁₉, V⋅ρ), (x₂₀, a_w⋅x₁₉), (x₂₁, x₁₄⋅x₁₉), ⎜x\n",
       "                                                                            ⎝ \n",
       "                                                                              \n",
       "                                                                              \n",
       "                                                                              \n",
       "                                                                              \n",
       "\n",
       "                                                                              \n",
       "                                                                              \n",
       "                                                                              \n",
       "                                                                              \n",
       "                                                                              \n",
       "    a_w⎞  ⎛          3    ⎞  ⎛      2⎞                                        \n",
       "₂₂, ───⎟, ⎝x₂₃, M_α̇⋅c ⋅x₁₉⎠, ⎝x₂₄, V ⎠, (x₂₅, ρ⋅x₃), (x₂₆, ρ⋅x₂₄), (x₂₇, a_w⋅\n",
       "     8 ⎠                                                                      \n",
       "                                                                              \n",
       "                                                                              \n",
       "                                                                              \n",
       "                                                                              \n",
       "\n",
       "                                                                              \n",
       "                                                                              \n",
       "                                                                              \n",
       "                                                                              \n",
       "                                                                              \n",
       "                                   ⎛     x₆⎞  ⎛     x₁₁⎞                      \n",
       "x₂₆), (x₂₈, e⋅x₁₄), (x₂₉, x₂₇⋅x₂₈), ⎜x₃₀, ──⎟, ⎜x₃₁, ───⎟, (x₃₂, aₜ⋅sₜ), (x₃₃,\n",
       "                                   ⎝     6 ⎠  ⎝      4 ⎠                      \n",
       "                                                                              \n",
       "                                                                              \n",
       "                                                                              \n",
       "                                                                              \n",
       "\n",
       "                                                                              \n",
       "                                                                              \n",
       "                                                                              \n",
       "                                                                              \n",
       "                                                                              \n",
       "        ⎛     x₃₃⎞                ⎛     x₃₅⎞                      ⎛     x₂₃⎞  \n",
       " V⋅x₃₂), ⎜x₃₄, ───⎟, (x₃₅, aₜ⋅x₈), ⎜x₃₆, ───⎟, (x₃₇, x₁₅⋅x₁₉⋅x₃₆), ⎜x₃₈, ───⎟,\n",
       "        ⎝      2 ⎠                ⎝      4 ⎠                      ⎝      8 ⎠  \n",
       "                                                                              \n",
       "                                                                              \n",
       "                                                                              \n",
       "                                                                              \n",
       "\n",
       "                                                                              \n",
       "                                                                              \n",
       "                                                                              \n",
       "                                                                              \n",
       "                                                                              \n",
       "                                                                              \n",
       " (x₃₉, sₜ⋅x₃₈), (x₄₀, sin(Λ)), (x₄₁, sₜ⋅s_w), (x₄₂, x₃₈⋅x₄₀⋅x₄₁), (x₄₃, aₜ⋅e),\n",
       "                                                                              \n",
       "                                                                              \n",
       "                                                                              \n",
       "                                                                              \n",
       "                                                                              \n",
       "\n",
       "                                                                              \n",
       "                                                                              \n",
       "                                                                              \n",
       "                                                                              \n",
       "                                                                              \n",
       "                                               ⎛        2⎞                  ⎛ \n",
       " (x₄₄, x₂₁⋅x₄₃⋅x₈), (x₄₅, ρ⋅x₃₃), (x₄₆, c⋅x₁₉), ⎝x₄₇, x₄₀ ⎠, (x₄₈, x₂₆⋅x₃₂), ⎜\n",
       "                                                                            ⎝ \n",
       "                                                                              \n",
       "                                                                              \n",
       "                                                                              \n",
       "                                                                              \n",
       "\n",
       "                                                                              \n",
       "                                                                              \n",
       "                                                                              \n",
       "                                                                              \n",
       "                                                                              \n",
       "    x₄₈⎞                                                                      \n",
       "x₄₉, ───⎟, (x₅₀, c⋅x₄₀), (x₅₁, x₁₂⋅x₄₈), (x₅₂, x₂₈⋅x₄₉), (x₅₃, s_w⋅x₅₂), (x₅₄,\n",
       "     2 ⎠                                                                      \n",
       "                                                                              \n",
       "                                                                              \n",
       "                                                                              \n",
       "                                                                              \n",
       "\n",
       "                                                      ⎡⎡x₃⋅(x₀ + 5⋅x₁)        \n",
       "                                                      ⎢⎢──────────────        \n",
       "                                                      ⎢⎢      5               \n",
       "                                                      ⎢⎢                      \n",
       "                                                      ⎢⎢                      \n",
       "                                      ⎛     sₜ⋅x₄₆⎞⎤  ⎢⎢                x₁₅⋅(x\n",
       " x₄₀⋅x₅₃), (x₅₅, c⋅x₁₂), (x₅₆, 2⋅x₅₀), ⎜x₅₇, ──────⎟⎥, ⎢⎢      x₇        ─────\n",
       "                                      ⎝       4   ⎠⎦  ⎢⎢                      \n",
       "                                                      ⎢⎢                      \n",
       "                                                      ⎢⎢                      \n",
       "                                                      ⎢⎢     x₁₃              \n",
       "                                                      ⎣⎣                      \n",
       "\n",
       "                                           ⎤                                  \n",
       "             x₇                       x₁₃  ⎥                              ⎡   \n",
       "                                           ⎥                              ⎢ c⋅\n",
       "                                           ⎥                              ⎢ ──\n",
       "          ⎛                      2⎞        ⎥  ⎡4⋅EI⋅s_w    0       0   ⎤  ⎢   \n",
       "₀ + 3⋅x₁)⋅⎝-3⋅c⋅x_f + x₁₄ + 3⋅x_f ⎠        ⎥  ⎢                        ⎥  ⎢   \n",
       "────────────────────────────────────   x₁₇  ⎥, ⎢   0      GJ⋅s_w    0   ⎥, ⎢  \n",
       "              9                            ⎥  ⎢                        ⎥  ⎢e⋅x\n",
       "                                           ⎥  ⎣   0        0     kₜₕₑₜₐ⎦  ⎢   \n",
       "                                     x₁₈⋅x₉⎥                              ⎢   \n",
       "             x₁₇                     ──────⎥                              ⎣   \n",
       "                                       3   ⎦                                  \n",
       "\n",
       "                                                                              \n",
       "   5                ⎤                                                         \n",
       "s_w ⋅x₂₀            ⎥                                                         \n",
       "────────     0     0⎥  ⎡0  x₂₂⋅x₂₄⋅x₂₅  0⎤                      ⎡       x₂₅⋅x₃\n",
       "  10                ⎥  ⎢                 ⎥  ⎡x₂₇⋅x₃₀  x₂₀⋅x₃₀⎤  ⎢             \n",
       "                    ⎥  ⎢     x₂₉⋅x₅      ⎥  ⎢                ⎥  ⎢    ρ⋅x₂₈⋅x₃₄\n",
       "            x₂₃⋅x₅   ⎥, ⎢0    ──────     0⎥, ⎢x₂₉⋅x₃₁  x₂₁⋅x₃₁⎥, ⎢            \n",
       "₂⋅x₂₁⋅x₂₂  ──────  0⎥  ⎢       6         ⎥  ⎢                ⎥  ⎢             \n",
       "             24     ⎥  ⎢                 ⎥  ⎣   0        0   ⎦  ⎢x₁₂⋅x₂₈⋅x₄₀⋅x\n",
       "                    ⎥  ⎣0       0       0⎦                      ⎣             \n",
       "  0          0     0⎦                                                         \n",
       "                                                                              \n",
       "\n",
       "                                                                              \n",
       "                                                                              \n",
       "                                                                              \n",
       "₄            0                  x₃₇              ⎤                            \n",
       "                                                 ⎥  ⎡0        x₄₉⋅x₆          \n",
       "⋅x₅       x₁₁⋅x₃₉          x₁₆⋅x₄₄ + x₄₂         ⎥  ⎢                         \n",
       "                                                  ⎥, ⎢0        x₂₈⋅x₅₁        \n",
       "                   aₜ⋅x₁₈⋅x₄₆             x₄₀⋅x₄₄⎥  ⎢                         \n",
       "₄₅ + x₃₇    x₄₂    ────────── + x₃₉⋅x₄₇ + ───────⎥  ⎣0  c⋅x₁₆⋅x₂₆⋅x₃₅ + x₅₄  x\n",
       "                       6                     4   ⎦                            \n",
       "                                                                              \n",
       "                                                                              \n",
       "\n",
       "                                                               ⎤⎞\n",
       "                                                               ⎥⎟\n",
       "                                                               ⎥⎟\n",
       "                       ⎡       x₄₈⋅x₅₅             x₄₅⋅x₅₅    ⎤⎥⎟\n",
       "      x₅₀⋅x₅₁       ⎤  ⎢                                      ⎥⎥⎟\n",
       "                    ⎥  ⎢                           x₂₁⋅x₄₁    ⎥⎥⎟\n",
       "         x₅₄         ⎥, ⎢         x₅₃               ───────    ⎥⎥⎟\n",
       "                    ⎥  ⎢                              2       ⎥⎥⎟\n",
       "₂₆⋅x₃₆⋅x₅₀ + x₄₇⋅x₅₂⎦  ⎢                                      ⎥⎥⎟\n",
       "                       ⎣x₅₇⋅(V⋅x₄₃⋅x₅₆ + x₃₃)  x₅₇⋅(x₃₂ + x₅₆)⎦⎥⎟\n",
       "                                                               ⎥⎟\n",
       "                                                               ⎦⎠"
      ]
     },
     "execution_count": 59,
     "metadata": {},
     "output_type": "execute_result"
    }
   ],
   "source": [
    "sym.cse((M,K,B_w,C_w,G_w,B_t,C_t,G_t))\n"
   ]
  },
  {
   "cell_type": "code",
   "execution_count": 54,
   "metadata": {},
   "outputs": [
    {
     "data": {
      "text/latex": [
       "$\\displaystyle \\left[\\begin{matrix}\\frac{V a_{t} c \\rho s_{t} s_{w}^{4}}{2} & 0 & \\frac{V a_{t} c \\rho s_{t}^{2} s_{w}^{2}}{4}\\\\\\frac{V a_{t} c^{2} e \\rho s_{t} s_{w}^{3}}{2} & \\frac{M_{\\dot{\\alpha}} V c^{3} \\rho s_{t} s_{w}^{2}}{8} & \\frac{M_{\\dot{\\alpha}} V c^{3} \\rho s_{t} s_{w} \\operatorname{sin}\\left(\\Lambda\\right)}{8} + \\frac{V a_{t} c^{2} e \\rho s_{t}^{2} s_{w}}{4}\\\\\\frac{V a_{t} c^{2} e \\rho s_{t} s_{w}^{2} \\operatorname{sin}\\left(\\Lambda\\right)}{2} + \\frac{V a_{t} c \\rho s_{t}^{2} s_{w}^{2}}{4} & \\frac{M_{\\dot{\\alpha}} V c^{3} \\rho s_{t} s_{w} \\operatorname{sin}\\left(\\Lambda\\right)}{8} & \\frac{M_{\\dot{\\alpha}} V c^{3} \\rho s_{t} \\operatorname{sin}^{2}\\left(\\Lambda\\right)}{8} + \\frac{V a_{t} c^{2} e \\rho s_{t}^{2} \\operatorname{sin}\\left(\\Lambda\\right)}{4} + \\frac{V a_{t} c \\rho s_{t}^{3}}{6}\\end{matrix}\\right]$"
      ],
      "text/plain": [
       "⎡                              4                                              \n",
       "⎢               V⋅aₜ⋅c⋅ρ⋅sₜ⋅s_w                                               \n",
       "⎢               ────────────────                            0                 \n",
       "⎢                      2                                                      \n",
       "⎢                                                                             \n",
       "⎢                   2           3                          3         2        \n",
       "⎢             V⋅aₜ⋅c ⋅e⋅ρ⋅sₜ⋅s_w                    M_α̇⋅V⋅c ⋅ρ⋅sₜ⋅s_w        \n",
       "⎢             ───────────────────                   ──────────────────        \n",
       "⎢                      2                                    8                 \n",
       "⎢                                                                             \n",
       "⎢      2           2                     2    2         3                     \n",
       "⎢V⋅aₜ⋅c ⋅e⋅ρ⋅sₜ⋅s_w ⋅sin(Λ)   V⋅aₜ⋅c⋅ρ⋅sₜ ⋅s_w   M_α̇⋅V⋅c ⋅ρ⋅sₜ⋅s_w⋅sin(Λ)  M_\n",
       "⎢────────────────────────── + ─────────────────  ────────────────────────  ───\n",
       "⎣            2                        4                     8                 \n",
       "\n",
       "                              2    2                      ⎤\n",
       "                   V⋅aₜ⋅c⋅ρ⋅sₜ ⋅s_w                       ⎥\n",
       "                   ─────────────────                      ⎥\n",
       "                           4                              ⎥\n",
       "                                                          ⎥\n",
       "           3                         2       2            ⎥\n",
       "     M_α̇⋅V⋅c ⋅ρ⋅sₜ⋅s_w⋅sin(Λ)   V⋅aₜ⋅c ⋅e⋅ρ⋅sₜ ⋅s_w        ⎥\n",
       "    ──────────────────────── + ───────────────────        ⎥\n",
       "               8                        4                 ⎥\n",
       "                                                          ⎥\n",
       "    3         2            2       2                     3⎥\n",
       "α̇⋅V⋅c ⋅ρ⋅sₜ⋅sin (Λ)   V⋅aₜ⋅c ⋅e⋅ρ⋅sₜ ⋅sin(Λ)   V⋅aₜ⋅c⋅ρ⋅sₜ ⎥\n",
       "────────────────── + ────────────────────── + ────────────⎥\n",
       "       8                       4                   6      ⎦"
      ]
     },
     "execution_count": 54,
     "metadata": {},
     "output_type": "execute_result"
    }
   ],
   "source": [
    "B_t"
   ]
  },
  {
   "cell_type": "code",
   "execution_count": null,
   "metadata": {},
   "outputs": [],
   "source": []
  }
 ],
 "metadata": {
  "kernelspec": {
   "display_name": "Python 3 (ipykernel)",
   "language": "python",
   "name": "python3"
  },
  "language_info": {
   "codemirror_mode": {
    "name": "ipython",
    "version": 3
   },
   "file_extension": ".py",
   "mimetype": "text/x-python",
   "name": "python",
   "nbconvert_exporter": "python",
   "pygments_lexer": "ipython3",
   "version": "3.9.12"
  }
 },
 "nbformat": 4,
 "nbformat_minor": 4
}
