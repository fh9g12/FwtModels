{
 "cells": [
  {
   "cell_type": "code",
   "execution_count": 1,
   "id": "c9f0bd18-a135-4f5c-a24a-04060eae6780",
   "metadata": {},
   "outputs": [],
   "source": [
    "import sympy as sym\n",
    "from os import path\n",
    "import sympy.physics.mechanics as me\n",
    "from sympy.abc import t\n",
    "import moyra as ma\n",
    "me.mechanics_printing()"
   ]
  },
  {
   "cell_type": "code",
   "execution_count": 2,
   "id": "39dbd535-d6f2-40fb-95b2-7fa03ad0266e",
   "metadata": {},
   "outputs": [],
   "source": [
    "DoFs = 1\n",
    "# heave and fold angle as degrres of freedom\n",
    "p = ma.DynamicModelParameters(DoFs)\n",
    "p.DoFs  = ma.ModelSymbol(value = DoFs,string = 'DoFs')\n",
    "#gravity vector\n",
    "p.g  = ma.ModelSymbol(value = 9.81,string = 'g')                     # gravity\n",
    "p.g_v = ma.ModelMatrix(value =[0,0,-1],length=3,string='g_v')        # gravity vector\n",
    "p.alpha = ma.ModelSymbol(value = 0,string = 'alpha')                 # AoA\n",
    "p.beta = ma.ModelSymbol(value = 0,string = 'beta')                   # SideSlip\n",
    "p.v_c = ma.ModelMatrix(value =[0,0,0],length=3,string='v_c')         # CoM of Wingtip\n",
    "p.v_lc = ma.ModelMatrix(value =[0,0,0],length=3,string='v_lc')       # CoM of Liquid\n",
    "p.v_h = ma.ModelMatrix(value =[0,0,0],length=3,string='v_h')         # Location of hinge in wing frame\n",
    "p.m = ma.ModelSymbol(value = 0,string = 'm')                         # mass of wingtip\n",
    "p.m_l = ma.ModelSymbol(value = 0,string = 'm_l')                     # mass of liquid\n",
    "p.I_xx = ma.ModelSymbol(value = 0,string = 'I_xx')                   # wingtip I_xx\n",
    "p.I_yy = ma.ModelSymbol(value = 0,string = 'I_yy')                   # wingtip I_yy\n",
    "p.I_zz = ma.ModelSymbol(value = 0,string = 'I_zz')                   # wingtip I_zz\n",
    "p.Lambda = ma.ModelSymbol(value = 0,string = 'Lambda')               # flare angle\n",
    "\n",
    "y_0,x_0,z_0 = sym.symbols('y_0,x_0,z_0')\n",
    "F_x,F_y,F_z,M_x,M_y,M_z = sym.symbols('F_x,F_y,F_z,M_x,M_y,M_z')"
   ]
  },
  {
   "cell_type": "code",
   "execution_count": 3,
   "id": "df64bab4-6f82-4894-8fea-d5a11b5c518d",
   "metadata": {},
   "outputs": [],
   "source": [
    "body_frame = ma.frames.HomogenousFrame().R_z(p.beta).R_y(p.alpha).simplify()\n",
    "hinge_frame = body_frame.Translate(*p.v_h).R_z(p.Lambda).R_x(-p.q[0]).simplify()\n",
    "fwt_frame = hinge_frame.R_z(-p.Lambda).simplify()"
   ]
  },
  {
   "cell_type": "code",
   "execution_count": 4,
   "id": "34bb18a5-fd29-4331-a543-cf55ed743b8b",
   "metadata": {},
   "outputs": [],
   "source": [
    "#Create Elemnts\n",
    "M = ma.elements.MassMatrix(p.m,p.I_xx,p.I_yy,0,0,0,0)\n",
    "M_l = ma.elements.MassMatrix(p.m_l,0,0,0,0,0,0)\n",
    "## FWT mass element\n",
    "fwt_ele = ma.elements.RigidElement(p.q, fwt_frame, M, grav_vec=p.g_v*p.g, com_pos=p.v_c, name='fwt',simplify = False)\n",
    "## liquid mass element\n",
    "liquid_ele = ma.elements.RigidElement(p.q, fwt_frame, M_l, grav_vec=p.g_v*p.g, com_pos=p.v_lc, name='liquid',simplify = False)"
   ]
  },
  {
   "cell_type": "code",
   "execution_count": 5,
   "id": "55613294-3697-49e4-a1a6-78a99d961acd",
   "metadata": {},
   "outputs": [
    {
     "name": "stdout",
     "output_type": "stream",
     "text": [
      "CPU times: total: 3.67 s\n",
      "Wall time: 3.69 s\n"
     ]
    }
   ],
   "source": [
    "%%time\n",
    "Lag = sym.Matrix([fwt_ele.ke-fwt_ele.pe])\n",
    "D = sym.Matrix([fwt_ele.rdf])\n",
    "# legacy method is a lot slower but can produce more compact results\n",
    "Q_v = (fwt_ele.M.diff(t))*p.qd\n",
    "term_2 = Lag.jacobian(p.q).T\n",
    "term_3 = D.jacobian(p.qd).T\n",
    "f = Q_v - term_2 + term_3"
   ]
  },
  {
   "cell_type": "code",
   "execution_count": 24,
   "id": "2695f677-1a09-49bf-8da2-e65c6af7f0d9",
   "metadata": {},
   "outputs": [
    {
     "name": "stdout",
     "output_type": "stream",
     "text": [
      "CPU times: total: 1.62 s\n",
      "Wall time: 1.62 s\n"
     ]
    }
   ],
   "source": [
    "%%time\n",
    "Lag = fwt_ele.ke-fwt_ele.pe\n",
    "D = sym.Matrix([fwt_ele.rdf])\n",
    "# legacy method is a lot slower but can produce more compact results\n",
    "Q_v = (fwt_ele.M.diff(t))*p.qd\n",
    "term_2 = sym.Matrix([[Lag.diff(x)] for x in p.q])\n",
    "term_3 = sym.Matrix([[D.diff(x)] for x in p.qd])\n",
    "f = Q_v - term_2 + term_3"
   ]
  },
  {
   "cell_type": "code",
   "execution_count": 29,
   "id": "e5942017-b8ce-452e-90b9-e65dd7e9fc5f",
   "metadata": {},
   "outputs": [
    {
     "data": {
      "text/latex": [
       "$\\displaystyle \\left( 1, \\  1\\right)$"
      ],
      "text/plain": [
       "(1, 1)"
      ]
     },
     "execution_count": 29,
     "metadata": {},
     "output_type": "execute_result"
    }
   ],
   "source": [
    "term_2.shape"
   ]
  },
  {
   "cell_type": "code",
   "execution_count": 20,
   "id": "96a5feca-c173-4cb0-8edd-d5a6ef100dbb",
   "metadata": {},
   "outputs": [],
   "source": [
    "Lag = fwt_ele.ke-fwt_ele.pe\n",
    "term_2 = sym.Matrix([[Lag.diff(x)] for x in p.q])"
   ]
  },
  {
   "cell_type": "code",
   "execution_count": 18,
   "id": "85c791ad-c962-4bac-9f3e-380055dd10e8",
   "metadata": {},
   "outputs": [
    {
     "data": {
      "text/latex": [
       "$\\displaystyle \\left[\\begin{matrix}1 & 0\\\\1 & 0\\\\1 & 0\\end{matrix}\\right]$"
      ],
      "text/plain": [
       "⎡1  0⎤\n",
       "⎢    ⎥\n",
       "⎢1  0⎥\n",
       "⎢    ⎥\n",
       "⎣1  0⎦"
      ]
     },
     "execution_count": 18,
     "metadata": {},
     "output_type": "execute_result"
    }
   ],
   "source": [
    "sym.Matrix([[1,0] for i in range(3)])"
   ]
  },
  {
   "cell_type": "code",
   "execution_count": 5,
   "id": "5ae5820a-449f-4c6c-846b-ae663df32a2e",
   "metadata": {},
   "outputs": [
    {
     "name": "stdout",
     "output_type": "stream",
     "text": [
      "Generating EoM for Element 1 out of 2 - fwt:RigidElement\n",
      "Generating EoM for Element 2 out of 2 - liquid:RigidElement\n"
     ]
    }
   ],
   "source": [
    "sm = ma.SymbolicModel.FromElementsAndForces(p.q,[fwt_ele,liquid_ele])"
   ]
  },
  {
   "cell_type": "code",
   "execution_count": 6,
   "id": "bc1d7d34-2b37-44f6-97b7-aef72a5e3e49",
   "metadata": {},
   "outputs": [],
   "source": [
    "funcs = []\n",
    "fwt_pos = [x_0,y_0,z_0]\n",
    "funcs.append(('get_fwt_V_b',fwt_ele.frame.A.T*fwt_ele.frame.transform_point([x_0,y_0,z_0]).diff(t)))\n",
    "funcs.append(('get_fwt_V_global',fwt_ele.frame.transform_point([x_0,y_0,z_0]).diff(t)))\n",
    "funcs.append(('get_pos_global2fwt',fwt_ele.frame.transform_global_point([x_0,y_0,z_0])))\n",
    "funcs.append(('get_pos_fwt2global',fwt_ele.frame.transform_point([x_0,y_0,z_0])))\n",
    "funcs.append(('get_fwt_V_b_body',body_frame.A.T*fwt_ele.frame.transform_point([x_0,y_0,z_0]).diff(t)))\n",
    "funcs.append(('get_fwt_A',fwt_ele.frame.A))\n",
    "funcs.append(('get_body_A',body_frame.A))"
   ]
  },
  {
   "cell_type": "code",
   "execution_count": 7,
   "id": "ac726f82-1d09-470d-a2b5-9dd5650aad2d",
   "metadata": {},
   "outputs": [],
   "source": [
    "#create function for an arbitary force of FWT\n",
    "F_x,F_y,F_z,M_x,M_y,M_z = sym.symbols('F_x,F_y,F_z,M_x,M_y,M_z')\n",
    "W = sym.Matrix([F_x,F_y,F_z,M_x,M_y,M_z])\n",
    "fwt_Q_tmp = fwt_ele.frame.Translate(*fwt_pos).BodyJacobian(p.q).T*W\n",
    "idx = [i for i, e in enumerate(p.q) if e in fwt_ele.q]\n",
    "fwt_Q = sym.zeros(len(p.q),1)\n",
    "for i,i_fwt in zip(idx,fwt_ele._idx):\n",
    "    fwt_Q[i] += fwt_Q_tmp[i_fwt]\n",
    "funcs.append(('get_fwt_Q',fwt_Q))"
   ]
  },
  {
   "cell_type": "code",
   "execution_count": 8,
   "id": "b184e394-f65b-4399-9d3f-a6aa853f7768",
   "metadata": {},
   "outputs": [],
   "source": [
    "#create function for a moment about the hinge\n",
    "M_h = sym.symbols('M_h')\n",
    "fwt_Q = sym.zeros(len(p.q),1)\n",
    "fwt_Q[0] = M_h\n",
    "funcs.append(('get_hinge_Q',fwt_Q))"
   ]
  },
  {
   "cell_type": "code",
   "execution_count": 9,
   "id": "8bbee4d3-08e6-4961-8271-9315a69c69d2",
   "metadata": {},
   "outputs": [],
   "source": [
    "funcs.append(('get_fold',p.q[0]))\n",
    "funcs.append(('get_fold_dt',p.qd[0]))"
   ]
  },
  {
   "cell_type": "code",
   "execution_count": 10,
   "id": "38917098-ee57-4629-b787-02bbeac58a26",
   "metadata": {},
   "outputs": [
    {
     "name": "stdout",
     "output_type": "stream",
     "text": [
      "Unknown variable x_0 found in function get_fwt_V_b. It will be added to the function signature.\n",
      "Unknown variable z_0 found in function get_fwt_V_b. It will be added to the function signature.\n",
      "Unknown variable y_0 found in function get_fwt_V_b. It will be added to the function signature.\n",
      "Unknown variable x_0 found in function get_fwt_V_global. It will be added to the function signature.\n",
      "Unknown variable z_0 found in function get_fwt_V_global. It will be added to the function signature.\n",
      "Unknown variable y_0 found in function get_fwt_V_global. It will be added to the function signature.\n",
      "Unknown variable x_0 found in function get_pos_global2fwt. It will be added to the function signature.\n",
      "Unknown variable y_0 found in function get_pos_global2fwt. It will be added to the function signature.\n",
      "Unknown variable z_0 found in function get_pos_global2fwt. It will be added to the function signature.\n",
      "Unknown variable x_0 found in function get_pos_fwt2global. It will be added to the function signature.\n",
      "Unknown variable y_0 found in function get_pos_fwt2global. It will be added to the function signature.\n",
      "Unknown variable z_0 found in function get_pos_fwt2global. It will be added to the function signature.\n",
      "Unknown variable x_0 found in function get_fwt_V_b_body. It will be added to the function signature.\n",
      "Unknown variable z_0 found in function get_fwt_V_b_body. It will be added to the function signature.\n",
      "Unknown variable y_0 found in function get_fwt_V_b_body. It will be added to the function signature.\n",
      "Unknown variable x_0 found in function get_fwt_Q. It will be added to the function signature.\n",
      "Unknown variable F_y found in function get_fwt_Q. It will be added to the function signature.\n",
      "Unknown variable F_z found in function get_fwt_Q. It will be added to the function signature.\n",
      "Unknown variable M_z found in function get_fwt_Q. It will be added to the function signature.\n",
      "Unknown variable F_x found in function get_fwt_Q. It will be added to the function signature.\n",
      "Unknown variable y_0 found in function get_fwt_Q. It will be added to the function signature.\n",
      "Unknown variable M_y found in function get_fwt_Q. It will be added to the function signature.\n",
      "Unknown variable z_0 found in function get_fwt_Q. It will be added to the function signature.\n",
      "Unknown variable M_x found in function get_fwt_Q. It will be added to the function signature.\n",
      "Unknown variable M_h found in function get_hinge_Q. It will be added to the function signature.\n"
     ]
    }
   ],
   "source": [
    "base_dir = \"C:\\\\Git\\\\ForJDC\"\n",
    "class_name = \"OneDof_RC_fwt\"\n",
    "base_class = \"mbd.BaseRC\"\n",
    "sm.to_matlab_class(p,base_dir,class_name,base_class,additional_funcs=funcs)"
   ]
  },
  {
   "cell_type": "code",
   "execution_count": null,
   "id": "8229f45c-c432-45a0-b843-9e6a86461fb6",
   "metadata": {},
   "outputs": [],
   "source": []
  }
 ],
 "metadata": {
  "kernelspec": {
   "display_name": "Moyra_Playground",
   "language": "python",
   "name": "moyra_playground"
  },
  "language_info": {
   "codemirror_mode": {
    "name": "ipython",
    "version": 3
   },
   "file_extension": ".py",
   "mimetype": "text/x-python",
   "name": "python",
   "nbconvert_exporter": "python",
   "pygments_lexer": "ipython3",
   "version": "3.9.13"
  }
 },
 "nbformat": 4,
 "nbformat_minor": 5
}
