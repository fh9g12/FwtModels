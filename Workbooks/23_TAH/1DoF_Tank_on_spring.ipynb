{
 "cells": [
  {
   "cell_type": "code",
   "execution_count": 1,
   "id": "c9f0bd18-a135-4f5c-a24a-04060eae6780",
   "metadata": {},
   "outputs": [],
   "source": [
    "import sympy as sym\n",
    "from os import path\n",
    "import sympy.physics.mechanics as me\n",
    "from sympy.abc import t\n",
    "import moyra as ma\n",
    "me.mechanics_printing()"
   ]
  },
  {
   "cell_type": "code",
   "execution_count": 2,
   "id": "39dbd535-d6f2-40fb-95b2-7fa03ad0266e",
   "metadata": {},
   "outputs": [],
   "source": [
    "DoFs = 1\n",
    "# heave and fold angle as degrres of freedom\n",
    "p = ma.DynamicModelParameters(DoFs)\n",
    "p.DoFs  = ma.ModelSymbol(value = DoFs,string = 'DoFs')\n",
    "#gravity vector\n",
    "p.g  = ma.ModelSymbol(value = 9.81,string = 'g', real=True)                     # gravity\n",
    "p.g_v = ma.ModelMatrix(value =[0,0,-1],length=3,string='g_v',real=True)         # gravity vector\n",
    "p.alpha = ma.ModelSymbol(value = 0,string = 'alpha', real=True)                 # AoA\n",
    "p.beta = ma.ModelSymbol(value = 0,string = 'beta', real=True)                   # SideSlip\n",
    "p.v_c = ma.ModelMatrix(value =[0,0,0],length=3,string='v_c', real=True)         # CoM of Wingtip\n",
    "p.v_lc = ma.ModelMatrix(value =[0,0,0],length=3,string='v_lc', real=True)       # CoM of Liquid\n",
    "p.v_h = ma.ModelMatrix(value =[0,0,0],length=3,string='v_h', real=True)         # Location of hinge in wing frame\n",
    "p.m = ma.ModelSymbol(value = 0,string = 'm', real=True)                         # mass of wingtip\n",
    "p.m_i = ma.ModelSymbol(value = 0,string = 'm_i', real=True)                     # mass of inner wing\n",
    "p.k_i = ma.ModelSymbol(value = 0,string = 'k_i', real=True)                     # stiffness of inner wing spring\n",
    "p.m_l = ma.ModelSymbol(value = 0,string = 'm_l', real=True)                     # mass of liquid\n",
    "p.I_xx = ma.ModelSymbol(value = 0,string = 'I_xx', real=True)                   # wingtip I_xx\n",
    "p.I_yy = ma.ModelSymbol(value = 0,string = 'I_yy', real=True)                   # wingtip I_yy\n",
    "p.I_zz = ma.ModelSymbol(value = 0,string = 'I_zz', real=True)                   # wingtip I_zz\n",
    "p.Lambda = ma.ModelSymbol(value = 0,string = 'Lambda', real=True)               # flare angle\n",
    "\n",
    "y_0,x_0,z_0 = sym.symbols('y_0,x_0,z_0')\n",
    "F_x,F_y,F_z,M_x,M_y,M_z = sym.symbols('F_x,F_y,F_z,M_x,M_y,M_z')"
   ]
  },
  {
   "cell_type": "code",
   "execution_count": 3,
   "id": "df64bab4-6f82-4894-8fea-d5a11b5c518d",
   "metadata": {},
   "outputs": [],
   "source": [
    "body_frame = ma.frames.HomogenousFrame().Translate(0,0,p.q[0]).R_z(p.beta).R_y(p.alpha).simplify()\n",
    "hinge_frame = body_frame.Translate(*p.v_h).simplify()\n",
    "fwt_frame = hinge_frame.simplify()\n",
    "# body_frame = ma.frames.HomogenousFrame().Translate(0,0,p.q[0]).simplify()\n",
    "# hinge_frame = body_frame.Translate(*p.v_h).R_x(-p.q[1]).simplify()\n",
    "# fwt_frame = hinge_frame.simplify()"
   ]
  },
  {
   "cell_type": "code",
   "execution_count": 4,
   "id": "34bb18a5-fd29-4331-a543-cf55ed743b8b",
   "metadata": {},
   "outputs": [],
   "source": [
    "#Create Elemnts\n",
    "M = ma.elements.MassMatrix(p.m,p.I_xx,p.I_yy,0,0,0,0)\n",
    "M_l = ma.elements.MassMatrix(p.m_l,0,0,0,0,0,0)\n",
    "## FWT mass element\n",
    "fwt_ele = ma.elements.RigidElement(p.q, fwt_frame, M, grav_vec=p.g_v*p.g, com_pos=p.v_c, name='fwt',simplify = False)\n",
    "## liquid mass element\n",
    "liquid_ele = ma.elements.RigidElement(p.q, fwt_frame, M_l, grav_vec=p.g_v*p.g, com_pos=p.v_lc, name='liquid',simplify = False)\n",
    "\n",
    "spring_ele = ma.elements.Spring(p.q, p.q[0], p.k_i,'Inner Spring')"
   ]
  },
  {
   "cell_type": "code",
   "execution_count": 5,
   "id": "5ae5820a-449f-4c6c-846b-ae663df32a2e",
   "metadata": {},
   "outputs": [
    {
     "name": "stdout",
     "output_type": "stream",
     "text": [
      "Generating EoM for Element 1 out of 3 - fwt:RigidElement\n",
      "Generating EoM for Element 2 out of 3 - liquid:RigidElement\n",
      "Generating EoM for Element 3 out of 3 - Inner Spring:Spring\n"
     ]
    }
   ],
   "source": [
    "sm = ma.SymbolicModel.FromElementsAndForces(p.q,[fwt_ele,liquid_ele,spring_ele])"
   ]
  },
  {
   "cell_type": "code",
   "execution_count": 6,
   "id": "bc1d7d34-2b37-44f6-97b7-aef72a5e3e49",
   "metadata": {},
   "outputs": [],
   "source": [
    "funcs = []\n",
    "X = sym.MatrixSymbol('X',3,1)\n",
    "funcs.append(('get_fwt_V_b',fwt_ele.frame.A.T*fwt_ele.frame.transform_point(X).diff(t)))\n",
    "funcs.append(('get_fwt_V_global',fwt_ele.frame.transform_point(X).diff(t)))\n",
    "funcs.append(('get_pos_global2fwt',fwt_ele.frame.transform_global_point(X)))\n",
    "funcs.append(('get_pos_fwt2global',fwt_ele.frame.transform_point(X)))\n",
    "funcs.append(('get_fwt_V_b_body',body_frame.A.T*fwt_ele.frame.transform_point(X).diff(t)))\n",
    "funcs.append(('get_fwt_A',fwt_ele.frame.A))\n",
    "funcs.append(('get_body_A',body_frame.A))"
   ]
  },
  {
   "cell_type": "code",
   "execution_count": 7,
   "id": "ac726f82-1d09-470d-a2b5-9dd5650aad2d",
   "metadata": {},
   "outputs": [],
   "source": [
    "#create function for an arbitary force of FWT\n",
    "F_x,F_y,F_z,M_x,M_y,M_z = sym.symbols('F_x,F_y,F_z,M_x,M_y,M_z')\n",
    "W_n = sym.Matrix([F_x,F_y,F_z,M_x,M_y,M_z])\n",
    "W = sym.MatrixSymbol('W',6,1)\n",
    "fwt_Q_tmp = fwt_ele.frame.Translate(*X).BodyJacobian(p.q).T*W_n\n",
    "fwt_Q_tmp = me.msubs(fwt_Q_tmp,{**{W_n[i]:W[i,0] for i in range(6)}})\n",
    "idx = [i for i, e in enumerate(p.q) if e in fwt_ele.q]\n",
    "fwt_Q = sym.zeros(len(p.q),1)\n",
    "for i,i_fwt in zip(idx,fwt_ele._idx):\n",
    "    fwt_Q[i] += fwt_Q_tmp[i_fwt]\n",
    "funcs.append(('get_fwt_Q',fwt_Q))"
   ]
  },
  {
   "cell_type": "code",
   "execution_count": 8,
   "id": "b184e394-f65b-4399-9d3f-a6aa853f7768",
   "metadata": {},
   "outputs": [],
   "source": [
    "#create function for a moment about the hinge\n",
    "M_h = sym.symbols('M_h')\n",
    "fwt_Q = sym.zeros(len(p.q),1)\n",
    "fwt_Q[0] = M_h\n",
    "funcs.append(('get_hinge_Q',fwt_Q))"
   ]
  },
  {
   "cell_type": "code",
   "execution_count": 9,
   "id": "8bbee4d3-08e6-4961-8271-9315a69c69d2",
   "metadata": {},
   "outputs": [],
   "source": [
    "funcs.append(('get_fold',p.q[0]))\n",
    "funcs.append(('get_fold_dt',p.qd[0]))"
   ]
  },
  {
   "cell_type": "code",
   "execution_count": 10,
   "id": "6cebf252-6e15-4102-82a1-c96378f6fef6",
   "metadata": {},
   "outputs": [],
   "source": [
    "# create function for acceleration of the fuel tank \n",
    "acc = fwt_ele.frame.transform_point(X).diff(t,2) + p.g_v*p.g\n",
    "A = sym.MatrixSymbol('A',p.DoFs,1)\n",
    "acc = me.msubs(acc,{p.q[i].diff(t,2):A[i,0] for i in range(DoFs)})\n",
    "funcs.append(('get_tank_accel',acc))"
   ]
  },
  {
   "cell_type": "code",
   "execution_count": 11,
   "id": "38917098-ee57-4629-b787-02bbeac58a26",
   "metadata": {},
   "outputs": [
    {
     "name": "stdout",
     "output_type": "stream",
     "text": [
      "Unknown variable X found in function get_pos_global2fwt. It will be added to the function signature.\n",
      "Unknown variable X found in function get_pos_fwt2global. It will be added to the function signature.\n",
      "Unknown variable W found in function get_fwt_Q. It will be added to the function signature.\n",
      "Unknown variable M_h found in function get_hinge_Q. It will be added to the function signature.\n",
      "Unknown variable A found in function get_tank_accel. It will be added to the function signature.\n",
      "Unknown variable X found in function get_pos_global2fwt. It will be added to the function signature.\n",
      "Unknown variable X found in function get_pos_fwt2global. It will be added to the function signature.\n",
      "Unknown variable W found in function get_fwt_Q. It will be added to the function signature.\n",
      "Unknown variable M_h found in function get_hinge_Q. It will be added to the function signature.\n",
      "Unknown variable A found in function get_tank_accel. It will be added to the function signature.\n"
     ]
    }
   ],
   "source": [
    "base_dir = \"C:\\\\Git\\\\ForJDC_cxx\\src_cxx\"\n",
    "class_name = \"OneDof_spring\"\n",
    "base_class = \"BaseRC\"\n",
    "sm.to_cxx_class(p,base_dir,class_name,base_class,additional_funcs=funcs,additional_includes=['\"../BaseRC/BaseRC.hpp\"'])\n",
    "base_class = \"mbd.BaseRC\"\n",
    "base_dir = \"C:\\\\Git\\\\ForJDC_cxx\\src_matlab\"\n",
    "sm.to_matlab_class(p,base_dir,class_name,base_class,additional_funcs=funcs)"
   ]
  },
  {
   "cell_type": "code",
   "execution_count": 12,
   "id": "f4e7da68-3564-4116-81f1-cc16330ebb43",
   "metadata": {},
   "outputs": [],
   "source": [
    "# sm.to_cxx_class(p,base_dir,class_name,base_class,additional_funcs=funcs)\n",
    "# sm.to_cxx_class(p,base_dir,class_name,base_class)"
   ]
  }
 ],
 "metadata": {
  "kernelspec": {
   "display_name": "Moyra_Playground",
   "language": "python",
   "name": "moyra_playground"
  },
  "language_info": {
   "codemirror_mode": {
    "name": "ipython",
    "version": 3
   },
   "file_extension": ".py",
   "mimetype": "text/x-python",
   "name": "python",
   "nbconvert_exporter": "python",
   "pygments_lexer": "ipython3",
   "version": "3.9.13"
  }
 },
 "nbformat": 4,
 "nbformat_minor": 5
}
