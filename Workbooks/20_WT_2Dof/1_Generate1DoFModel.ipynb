{
 "cells": [
  {
   "cell_type": "code",
   "execution_count": 11,
   "metadata": {},
   "outputs": [],
   "source": [
    "import sympy as sym\n",
    "import sympy.physics.mechanics as me\n",
    "from sympy.abc import t as time\n",
    "import pandas as pd\n",
    "import seaborn as sns\n",
    "\n",
    "import numpy as np\n",
    "from scipy.integrate import solve_ivp\n",
    "import matplotlib.pyplot as plt\n",
    "\n",
    "import sys, os\n",
    "\n",
    "sys.path.insert(1, os.path.join(sys.path[0], '../..'))\n",
    "import custom_plot_objects as cpo\n",
    "\n",
    "import ModelFramework as mf\n",
    "import ModelFramework.Elements as ele\n",
    "import ModelFramework.ExternalForces as ef\n",
    "import FwtModels.RectWing as rw\n",
    "import FwtModels.TwoDoF as TwoDoF\n",
    "\n",
    "from matplotlib.lines import Line2D\n",
    "\n",
    "me.mechanics_printing()"
   ]
  },
  {
   "cell_type": "code",
   "execution_count": null,
   "metadata": {},
   "outputs": [],
   "source": []
  },
  {
   "cell_type": "code",
   "execution_count": null,
   "metadata": {},
   "outputs": [],
   "source": []
  },
  {
   "cell_type": "code",
   "execution_count": 12,
   "metadata": {},
   "outputs": [],
   "source": [
    "half = sym.Rational(1,2)\n",
    "fwt_panels = 1\n",
    "p = TwoDoF.base_params(panels = fwt_panels,dofs = 1)"
   ]
  },
  {
   "cell_type": "code",
   "execution_count": 13,
   "metadata": {},
   "outputs": [],
   "source": [
    "#Define refernce frames\n",
    "wing_root_frame = mf.HomogenousTransform().R_x(p.q[0])\n",
    "\n",
    "# Define Elements\n",
    "M_innerWing = ele.RigidElement.PointMass(wing_root_frame,p.m_w,True)\n",
    "M_Wingtip = ele.RigidElement.PointMass(wing_root_frame.Translate(0,p.l_com,0),p.m,True)\n",
    "M_WingtipWeight = ele.RigidElement.PointMass(wing_root_frame.Translate(0,p.l_m,0),p.m_1,True)\n",
    "\n",
    "# Define Aero Forces\n",
    "wing_AeroForces = ef.AeroForce.PerUnitSpan(p,wing_root_frame.Translate(0,p.y_i,0),p.a_0,\n",
    "                               alphadot = 0,\n",
    "                               M_thetadot = 0,\n",
    "                               e = 0,\n",
    "                               w_g = 0,\n",
    "                               rootAlpha = p.alpha_1,\n",
    "                               alpha_zero = 0,\n",
    "                               stall_angle = 0,\n",
    "                               c = p.c,\n",
    "                               c_d_max = p.c_d_max,\n",
    "                               linear = False)\n",
    "\n",
    "# split Main Wing into segments\n",
    "forces = []\n",
    "for i in range(fwt_panels):\n",
    "    seg_width = p.s/fwt_panels\n",
    "    yi = seg_width/2 + i*seg_width\n",
    "    forces.append(wing_AeroForces.subs({p.y_i:yi,p.a_0:p.a[i]})*seg_width)\n",
    "\n",
    "Q = sym.Matrix([0]*p.qs)\n",
    "for f in forces:\n",
    "    Q += f.Q()\n",
    "wing_AeroForces = ef.ExternalForce(Q)"
   ]
  },
  {
   "cell_type": "code",
   "execution_count": 14,
   "metadata": {},
   "outputs": [],
   "source": [
    "# create instance of the model\n",
    "sm = mf.SymbolicModel.FromElementsAndForces(p,[M_innerWing,M_Wingtip,M_WingtipWeight],ExtForces = wing_AeroForces)"
   ]
  },
  {
   "cell_type": "code",
   "execution_count": 15,
   "metadata": {},
   "outputs": [],
   "source": [
    "sm.to_file('1Dof_Model.py')"
   ]
  },
  {
   "cell_type": "code",
   "execution_count": null,
   "metadata": {},
   "outputs": [],
   "source": []
  },
  {
   "cell_type": "code",
   "execution_count": null,
   "metadata": {},
   "outputs": [],
   "source": []
  }
 ],
 "metadata": {
  "kernelspec": {
   "display_name": "Python 3",
   "language": "python",
   "name": "python3"
  },
  "language_info": {
   "codemirror_mode": {
    "name": "ipython",
    "version": 3
   },
   "file_extension": ".py",
   "mimetype": "text/x-python",
   "name": "python",
   "nbconvert_exporter": "python",
   "pygments_lexer": "ipython3",
   "version": "3.7.7"
  }
 },
 "nbformat": 4,
 "nbformat_minor": 4
}
