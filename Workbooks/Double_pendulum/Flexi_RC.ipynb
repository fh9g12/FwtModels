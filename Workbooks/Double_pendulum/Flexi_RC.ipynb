{
 "cells": [
  {
   "cell_type": "code",
   "execution_count": 1,
   "id": "90884cd8-2844-4911-b7ba-338c7368597a",
   "metadata": {},
   "outputs": [],
   "source": [
    "import sympy as sym\n",
    "import sympy.physics.mechanics as me\n",
    "from sympy.abc import t\n",
    "import numpy as np\n",
    "import moyra as ma\n",
    "import sys, os\n",
    "me.mechanics_printing()"
   ]
  },
  {
   "cell_type": "code",
   "execution_count": 2,
   "id": "c33c6591-c354-47a4-80c2-dfa50fd00aa4",
   "metadata": {},
   "outputs": [],
   "source": [
    "DoFs = 3\n",
    "\n",
    "# heave and fold angle as degrres of freedom\n",
    "p = ma.DynamicModelParameters(DoFs)\n",
    "\n",
    "## pendulum mass\n",
    "p.m_1 = ma.ModelSymbol(value = 0.3,string = 'm_1')\n",
    "p.m_2 = ma.ModelSymbol(value = 0.3,string = 'm_2')\n",
    "p.EI = ma.ModelSymbol(value = 0.3,string = 'EI')\n",
    "\n",
    "## pendulum moment of inertia\n",
    "p.I_2 = ma.ModelSymbol(value = 0.3,string = 'I_2')\n",
    "\n",
    "# pendulum length\n",
    "p.L_1 = ma.ModelSymbol(value = 0.3,string = 'L_1')\n",
    "p.L_2 = ma.ModelSymbol(value = 0.3,string = 'L_2')\n",
    "\n",
    "\n",
    "p.y_0,p.x_0 = sym.symbols('y_0,x_0')\n",
    "\n",
    "#gravity vector\n",
    "p.g  = ma.ModelSymbol(value = 9.81,string = 'g')                     # gravity\n",
    "p.g_v = ma.ModelMatrix(value =[0,0,-1],length=3,string='g_v') # The stationary point"
   ]
  },
  {
   "cell_type": "code",
   "execution_count": 3,
   "id": "2763cc4e-9926-4792-bf86-c493114b66c5",
   "metadata": {},
   "outputs": [],
   "source": [
    "#get shape functinos for flexi element\n",
    "q_f = sym.Matrix([p.q[1]])\n",
    "S,tau_0 = ma.elements.FlexiElement.ShapeFunctions_OBM_IBN_TO(1,0,0,q_f,p.y_0,p.x_0,0,1,type='taylor')\n",
    "z_0 = (S*q_f)[2].subs({p.x_0:0})\n",
    "#define refernce frames\n",
    "body_1 = ma.frames.HomogenousFrame().R_x(p.q[0]).Translate(0,z_0,-p.y_0)\n",
    "body_2 = body_1.subs({p.y_0:p.L_1}).R_x(p.q[2]).Translate(0,0,-p.L_2/2)"
   ]
  },
  {
   "cell_type": "code",
   "execution_count": 4,
   "id": "84e8fc68-1dd8-4d55-b02b-9ae18c4beebb",
   "metadata": {},
   "outputs": [],
   "source": [
    "#Create Elemnts\n",
    "# Link 1\n",
    "link1_x_int = (p.x_0,sym.Rational(-1,2),sym.Rational(1,2))\n",
    "link1_x_int = (p.x_0,0,1)\n",
    "link1_y_int = (p.y_0,0,p.L_1)\n",
    "link_1 = ma.elements.FlexiElement(p.q,body_1,p.m_1/p.L_1,S,link1_x_int,link1_y_int,0,q_f,p.EI,0,grav_vec = p.g*p.g_v,name='flexi-link')\n",
    "\n",
    "## Link 2\n",
    "link_2 = ma.elements.RigidElement(p.q,body_2,ma.elements.MassMatrix(p.m_2,I_xx=p.I_2),grav_vec = p.g*p.g_v,name='rigid-link')"
   ]
  },
  {
   "cell_type": "code",
   "execution_count": 5,
   "id": "2585c67e-a883-44a7-a5fd-2edcaa6b3145",
   "metadata": {},
   "outputs": [
    {
     "name": "stdout",
     "output_type": "stream",
     "text": [
      "Generating EoM for Element flexi-link:FlexiElement\n",
      "Generating EoM for Element rigid-link:RigidElement\n"
     ]
    }
   ],
   "source": [
    "# %%timeit -n 3 -r 1\n",
    "# Create the SYmbolic Model\n",
    "sm = ma.SymbolicModel.FromElementsAndForces(p.q,[link_1,link_2]).subs({p.g_v[0]:0,p.g_v[1]:0,p.g_v[2]:-1})"
   ]
  },
  {
   "cell_type": "code",
   "execution_count": 6,
   "id": "95d6437a-3403-416f-a562-e33ea84a22ab",
   "metadata": {},
   "outputs": [],
   "source": [
    "base_dir = \"C:\\\\Git\\\\NastranMBD\\\\\"\n",
    "class_name = \"flexi_pendulum_reduced\"\n",
    "base_class = \"BaseMBD\"\n",
    "sm.to_matlab_class(p,base_dir,class_name,base_class)"
   ]
  }
 ],
 "metadata": {
  "kernelspec": {
   "display_name": "Python [conda env:test_moyra_3_9]",
   "language": "python",
   "name": "conda-env-test_moyra_3_9-py"
  },
  "language_info": {
   "codemirror_mode": {
    "name": "ipython",
    "version": 3
   },
   "file_extension": ".py",
   "mimetype": "text/x-python",
   "name": "python",
   "nbconvert_exporter": "python",
   "pygments_lexer": "ipython3",
   "version": "3.9.4"
  }
 },
 "nbformat": 4,
 "nbformat_minor": 5
}
