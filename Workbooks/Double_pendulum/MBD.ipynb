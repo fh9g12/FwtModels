{
 "cells": [
  {
   "cell_type": "code",
   "execution_count": 13,
   "id": "90884cd8-2844-4911-b7ba-338c7368597a",
   "metadata": {},
   "outputs": [],
   "source": [
    "import sympy as sym\n",
    "import sympy.physics.mechanics as me\n",
    "from sympy.abc import t\n",
    "\n",
    "import numpy as np\n",
    "\n",
    "import moyra as ma\n",
    "\n",
    "import sys, os\n",
    "me.mechanics_printing()"
   ]
  },
  {
   "cell_type": "code",
   "execution_count": 14,
   "id": "c33c6591-c354-47a4-80c2-dfa50fd00aa4",
   "metadata": {},
   "outputs": [],
   "source": [
    "DoFs = 6\n",
    "\n",
    "# heave and fold angle as degrres of freedom\n",
    "p = ma.DynamicModelParameters(DoFs)\n",
    "\n",
    "## pendulum mass\n",
    "p.m_1 = ma.ModelSymbol(value = 0.3,string = 'm_1')\n",
    "p.m_2 = ma.ModelSymbol(value = 0.3,string = 'm_2')\n",
    "\n",
    "## pendulum moment of inertia\n",
    "p.I_1 = ma.ModelSymbol(value = 0.3,string = 'I_1')\n",
    "p.I_2 = ma.ModelSymbol(value = 0.3,string = 'I_2')\n",
    "\n",
    "# pendulum length\n",
    "p.L_1 = ma.ModelSymbol(value = 0.3,string = 'L_1')\n",
    "p.L_2 = ma.ModelSymbol(value = 0.3,string = 'L_2')\n",
    "\n",
    "#gravity vector\n",
    "p.g  = ma.ModelSymbol(value = 9.81,string = 'g')                     # gravity\n",
    "p.g_v = ma.ModelMatrix(value =[0,0,-1],length=3,string='g_v') # The stationary point\n",
    "\n",
    "## Numeric Model Constants\n",
    "p.fp = ma.ModelMatrix(value =[0]*p.qs*2,length=p.qs*2,string='fp') # The stationary point"
   ]
  },
  {
   "cell_type": "code",
   "execution_count": 15,
   "id": "2763cc4e-9926-4792-bf86-c493114b66c5",
   "metadata": {},
   "outputs": [],
   "source": [
    "#define refernce frames\n",
    "body_1 = ma.frames.HomogenousFrame().Translate(0,p.q[0],p.q[1]).R_x(p.q[2])\n",
    "body_2 = ma.frames.HomogenousFrame().Translate(0,p.q[3],p.q[4]).R_x(p.q[5])"
   ]
  },
  {
   "cell_type": "code",
   "execution_count": 16,
   "id": "263f202b-db3d-4543-8326-809a5ccd9706",
   "metadata": {},
   "outputs": [],
   "source": [
    "#Create Elemnts\n",
    "link_1 = ma.elements.RigidElement(p.q,body_1,ma.elements.MassMatrix(p.m_1,I_xx=p.I_1), grav_vec=p.g*p.g_v)\n",
    "link_2 = ma.elements.RigidElement(p.q,body_2,ma.elements.MassMatrix(p.m_2,I_xx=p.I_2), grav_vec=p.g*p.g_v)"
   ]
  },
  {
   "cell_type": "code",
   "execution_count": 17,
   "id": "52d1feb7-7cb1-4f0f-8753-7624d3c6f3f2",
   "metadata": {},
   "outputs": [
    {
     "data": {
      "image/png": "[encoded data removed]",
      "text/latex": [
       "$\\displaystyle \\left[\\begin{matrix}- \\frac{L_{1} \\sin{\\left(q_{2} \\right)}}{2} + q_{0}\\\\\\frac{L_{1} \\cos{\\left(q_{2} \\right)}}{2} + q_{1}\\\\\\frac{L_{1} \\sin{\\left(q_{2} \\right)}}{2} + \\frac{L_{1} \\sin{\\left(q_{5} \\right)}}{2} + q_{0} - q_{3}\\\\- \\frac{L_{1} \\cos{\\left(q_{2} \\right)}}{2} - \\frac{L_{1} \\cos{\\left(q_{5} \\right)}}{2} + q_{1} - q_{4}\\end{matrix}\\right]$"
      ],
      "text/plain": [
       "⎡           L₁⋅sin(q₂)              ⎤\n",
       "⎢         - ────────── + q₀         ⎥\n",
       "⎢               2                   ⎥\n",
       "⎢                                   ⎥\n",
       "⎢          L₁⋅cos(q₂)               ⎥\n",
       "⎢          ────────── + q₁          ⎥\n",
       "⎢              2                    ⎥\n",
       "⎢                                   ⎥\n",
       "⎢ L₁⋅sin(q₂)   L₁⋅sin(q₅)           ⎥\n",
       "⎢ ────────── + ────────── + q₀ - q₃ ⎥\n",
       "⎢     2            2                ⎥\n",
       "⎢                                   ⎥\n",
       "⎢  L₁⋅cos(q₂)   L₁⋅cos(q₅)          ⎥\n",
       "⎢- ────────── - ────────── + q₁ - q₄⎥\n",
       "⎣      2            2               ⎦"
      ]
     },
     "execution_count": 17,
     "metadata": {},
     "output_type": "execute_result"
    }
   ],
   "source": [
    "C = []\n",
    "tmp = body_1.transform_point([0,0,p.L_1/2])\n",
    "C.append(tmp[1])\n",
    "C.append(tmp[2])\n",
    "tmp = body_1.transform_point([0,0,-p.L_1/2])-body_2.transform_point([0,0,p.L_1/2])\n",
    "C.append(tmp[1])\n",
    "C.append(tmp[2])\n",
    "C = sym.Matrix(C)\n",
    "C"
   ]
  },
  {
   "cell_type": "code",
   "execution_count": 18,
   "id": "2585c67e-a883-44a7-a5fd-2edcaa6b3145",
   "metadata": {},
   "outputs": [
    {
     "name": "stdout",
     "output_type": "stream",
     "text": [
      "Generating EoM for Element default:RigidElement\n",
      "Generating EoM for Element default:RigidElement\n"
     ]
    }
   ],
   "source": [
    "# Create the SYmbolic Model\n",
    "sm = ma.SymbolicModel.FromElementsAndForces(p.q,[link_1,link_2],C=C).subs({p.g_v[0]:0,p.g_v[1]:0,p.g_v[2]:-1})"
   ]
  },
  {
   "cell_type": "code",
   "execution_count": 10,
   "id": "3b68f97a-b903-47fa-90d8-d832265c6d39",
   "metadata": {},
   "outputs": [
    {
     "data": {
      "image/png": "[encoded data removed]",
      "text/latex": [
       "$\\displaystyle \\left[\\begin{matrix}m_{1} & 0 & 0 & 0 & 0 & 0\\\\0 & m_{1} & 0 & 0 & 0 & 0\\\\0 & 0 & I_{1} & 0 & 0 & 0\\\\0 & 0 & 0 & m_{2} & 0 & 0\\\\0 & 0 & 0 & 0 & m_{2} & 0\\\\0 & 0 & 0 & 0 & 0 & I_{2}\\end{matrix}\\right]$"
      ],
      "text/plain": [
       "⎡m₁  0   0   0   0   0 ⎤\n",
       "⎢                      ⎥\n",
       "⎢0   m₁  0   0   0   0 ⎥\n",
       "⎢                      ⎥\n",
       "⎢0   0   I₁  0   0   0 ⎥\n",
       "⎢                      ⎥\n",
       "⎢0   0   0   m₂  0   0 ⎥\n",
       "⎢                      ⎥\n",
       "⎢0   0   0   0   m₂  0 ⎥\n",
       "⎢                      ⎥\n",
       "⎣0   0   0   0   0   I₂⎦"
      ]
     },
     "execution_count": 10,
     "metadata": {},
     "output_type": "execute_result"
    }
   ],
   "source": [
    "sm.M"
   ]
  },
  {
   "cell_type": "code",
   "execution_count": 11,
   "id": "fe4d3ae6-219e-4d89-99f9-7fba86fb06c2",
   "metadata": {},
   "outputs": [
    {
     "data": {
      "image/png": "[encoded data removed]",
      "text/latex": [
       "$\\displaystyle \\left[\\begin{matrix}0\\\\g m_{1}\\\\0\\\\0\\\\g m_{2}\\\\0\\end{matrix}\\right]$"
      ],
      "text/plain": [
       "⎡ 0  ⎤\n",
       "⎢    ⎥\n",
       "⎢g⋅m₁⎥\n",
       "⎢    ⎥\n",
       "⎢ 0  ⎥\n",
       "⎢    ⎥\n",
       "⎢ 0  ⎥\n",
       "⎢    ⎥\n",
       "⎢g⋅m₂⎥\n",
       "⎢    ⎥\n",
       "⎣ 0  ⎦"
      ]
     },
     "execution_count": 11,
     "metadata": {},
     "output_type": "execute_result"
    }
   ],
   "source": [
    "sym.simplify(sm.f)"
   ]
  },
  {
   "cell_type": "code",
   "execution_count": 12,
   "id": "18c26f0e-2ba5-4530-b807-3ab7bccc0daa",
   "metadata": {},
   "outputs": [],
   "source": [
    "base_dir = \"C:\\\\Git\\\\NastranMBD\\\\\"\n",
    "class_name = \"pendulum_MBD\"\n",
    "base_class = \"BaseMBD\"\n",
    "sm.to_matlab_class(p,base_dir,class_name,base_class)"
   ]
  },
  {
   "cell_type": "code",
   "execution_count": null,
   "id": "c913568d-05b0-4708-9796-515ffcff3b05",
   "metadata": {},
   "outputs": [],
   "source": []
  }
 ],
 "metadata": {
  "kernelspec": {
   "display_name": "Python [conda env:test_moyra_3_9]",
   "language": "python",
   "name": "conda-env-test_moyra_3_9-py"
  },
  "language_info": {
   "codemirror_mode": {
    "name": "ipython",
    "version": 3
   },
   "file_extension": ".py",
   "mimetype": "text/x-python",
   "name": "python",
   "nbconvert_exporter": "python",
   "pygments_lexer": "ipython3",
   "version": "3.9.4"
  }
 },
 "nbformat": 4,
 "nbformat_minor": 5
}
