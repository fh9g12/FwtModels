{
 "cells": [
  {
   "cell_type": "code",
   "execution_count": 2,
   "id": "c7d24bc5-da67-4024-813c-7c0457775e6d",
   "metadata": {},
   "outputs": [],
   "source": [
    "import sympy as sym\n",
    "import moyra as ma\n",
    "from sympy.abc import t"
   ]
  },
  {
   "cell_type": "code",
   "execution_count": 3,
   "id": "27c5b5b6-987e-4406-8010-f6cc8f6fb880",
   "metadata": {},
   "outputs": [
    {
     "data": {
      "text/latex": [
       "$\\displaystyle F{\\left(q{\\left(t \\right)},t \\right)}$"
      ],
      "text/plain": [
       "F(q(t), t)"
      ]
     },
     "execution_count": 3,
     "metadata": {},
     "output_type": "execute_result"
    }
   ],
   "source": [
    "q = sym.Function('q')(t)\n",
    "F = sym.Function('F')(q,t)\n",
    "F"
   ]
  },
  {
   "cell_type": "code",
   "execution_count": 4,
   "id": "1648e2fd-61a1-4667-b378-93a83f73419f",
   "metadata": {},
   "outputs": [
    {
     "data": {
      "text/latex": [
       "$\\displaystyle \\frac{d}{d q{\\left(t \\right)}} F{\\left(q{\\left(t \\right)},t \\right)} \\frac{d}{d t} q{\\left(t \\right)} + \\left. \\frac{\\partial}{\\partial \\xi_{2}} F{\\left(q{\\left(t \\right)},\\xi_{2} \\right)} \\right|_{\\substack{ \\xi_{2}=t }}$"
      ],
      "text/plain": [
       "Derivative(F(q(t), t), q(t))*Derivative(q(t), t) + Subs(Derivative(F(q(t), _xi_2), _xi_2), _xi_2, t)"
      ]
     },
     "execution_count": 4,
     "metadata": {},
     "output_type": "execute_result"
    }
   ],
   "source": [
    "F.diff(t)"
   ]
  },
  {
   "cell_type": "code",
   "execution_count": 5,
   "id": "ccee06e0-61e0-4e4d-9469-5e23a0d5058a",
   "metadata": {},
   "outputs": [
    {
     "data": {
      "text/latex": [
       "$\\displaystyle t^{2} + q^{2}{\\left(t \\right)}$"
      ],
      "text/plain": [
       "t**2 + q(t)**2"
      ]
     },
     "execution_count": 5,
     "metadata": {},
     "output_type": "execute_result"
    }
   ],
   "source": [
    "f = q**2 + t**2\n",
    "f"
   ]
  },
  {
   "cell_type": "code",
   "execution_count": 6,
   "id": "77619cc3-282e-4c56-a7f3-af8fa4f108cc",
   "metadata": {},
   "outputs": [
    {
     "data": {
      "text/latex": [
       "$\\displaystyle 2 q{\\left(t \\right)}$"
      ],
      "text/plain": [
       "2*q(t)"
      ]
     },
     "execution_count": 6,
     "metadata": {},
     "output_type": "execute_result"
    }
   ],
   "source": [
    "f.diff(q)"
   ]
  },
  {
   "cell_type": "code",
   "execution_count": 7,
   "id": "a7634cf4-bead-4fd2-ac74-0f2fb82b1a1f",
   "metadata": {},
   "outputs": [
    {
     "data": {
      "text/latex": [
       "$\\displaystyle 2 t$"
      ],
      "text/plain": [
       "2*t"
      ]
     },
     "execution_count": 7,
     "metadata": {},
     "output_type": "execute_result"
    }
   ],
   "source": [
    "dummy = sym.Symbol('dummy')\n",
    "f.subs({q:dummy}).diff(t)"
   ]
  },
  {
   "cell_type": "code",
   "execution_count": 9,
   "id": "5d95f495-c8ac-4754-8a65-c9e7eba8b8b1",
   "metadata": {},
   "outputs": [
    {
     "data": {
      "text/latex": [
       "$\\displaystyle 2 t$"
      ],
      "text/plain": [
       "2*t"
      ]
     },
     "execution_count": 9,
     "metadata": {},
     "output_type": "execute_result"
    }
   ],
   "source": [
    "ma.partial_wrt_t(f,sym.Matrix([q]))"
   ]
  },
  {
   "cell_type": "code",
   "execution_count": null,
   "id": "2c8c6704-f774-46b4-a3b8-c32cf51f8fd2",
   "metadata": {},
   "outputs": [],
   "source": []
  }
 ],
 "metadata": {
  "kernelspec": {
   "display_name": "Python [conda env:test_moyra_3_9]",
   "language": "python",
   "name": "conda-env-test_moyra_3_9-py"
  },
  "language_info": {
   "codemirror_mode": {
    "name": "ipython",
    "version": 3
   },
   "file_extension": ".py",
   "mimetype": "text/x-python",
   "name": "python",
   "nbconvert_exporter": "python",
   "pygments_lexer": "ipython3",
   "version": "3.9.4"
  }
 },
 "nbformat": 4,
 "nbformat_minor": 5
}
