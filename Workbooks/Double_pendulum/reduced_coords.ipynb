{
 "cells": [
  {
   "cell_type": "code",
   "execution_count": 1,
   "id": "90884cd8-2844-4911-b7ba-338c7368597a",
   "metadata": {},
   "outputs": [],
   "source": [
    "import sympy as sym\n",
    "import sympy.physics.mechanics as me\n",
    "from sympy.abc import t as time\n",
    "\n",
    "import moyra as ma\n",
    "# import moyra.elements as ele\n",
    "# import moyra.forces as ef\n",
    "# import moyra.frames as fr\n",
    "import numpy as np\n",
    "\n",
    "import sys, os\n",
    "me.mechanics_printing()"
   ]
  },
  {
   "cell_type": "code",
   "execution_count": 2,
   "id": "c33c6591-c354-47a4-80c2-dfa50fd00aa4",
   "metadata": {},
   "outputs": [],
   "source": [
    "DoFs = 2\n",
    "\n",
    "# heave and fold angle as degrres of freedom\n",
    "p = ma.DynamicModelParameters(DoFs)\n",
    "\n",
    "## pendulum mass\n",
    "p.m_1 = ma.ModelSymbol(value = 0.3,string = 'm_1')\n",
    "p.m_2 = ma.ModelSymbol(value = 0.3,string = 'm_2')\n",
    "\n",
    "## pendulum moment of inertia\n",
    "p.I_1 = ma.ModelSymbol(value = 0.3,string = 'I_1')\n",
    "p.I_2 = ma.ModelSymbol(value = 0.3,string = 'I_2')\n",
    "\n",
    "# pendulum length\n",
    "p.L_1 = ma.ModelSymbol(value = 0.3,string = 'L_1')\n",
    "p.L_2 = ma.ModelSymbol(value = 0.3,string = 'L_2')\n",
    "\n",
    "#gravity vector\n",
    "p.g  = ma.ModelSymbol(value = 9.81,string = 'g')                     # gravity\n",
    "p.g_v = ma.ModelMatrix(value =[0,0,-1],length=3,string='g_v') # The stationary point"
   ]
  },
  {
   "cell_type": "code",
   "execution_count": 3,
   "id": "2763cc4e-9926-4792-bf86-c493114b66c5",
   "metadata": {},
   "outputs": [],
   "source": [
    "#define refernce frames\n",
    "body_1 = ma.frames.HomogenousFrame().R_x(p.q[0]).Translate(0,0,-p.L_1/2)\n",
    "body_2 = body_1.Translate(0,0,-p.L_1/2).R_x(p.q[1]).Translate(0,0,-p.L_2/2)"
   ]
  },
  {
   "cell_type": "code",
   "execution_count": 4,
   "id": "263f202b-db3d-4543-8326-809a5ccd9706",
   "metadata": {},
   "outputs": [],
   "source": [
    "#Create Elemnts\n",
    "link_1 = ma.elements.RigidElement(p.q,body_1,ma.elements.MassMatrix(p.m_1,I_xx=p.I_1),grav_vec=p.g_v*p.g,name='inner link')\n",
    "link_2 = ma.elements.RigidElement(p.q,body_2,ma.elements.MassMatrix(p.m_2,I_xx=p.I_2),grav_vec=p.g_v*p.g, name ='outer_link')"
   ]
  },
  {
   "cell_type": "code",
   "execution_count": 5,
   "id": "2585c67e-a883-44a7-a5fd-2edcaa6b3145",
   "metadata": {},
   "outputs": [
    {
     "name": "stdout",
     "output_type": "stream",
     "text": [
      "Generating EoM for Element inner link:RigidElement\n",
      "Generating EoM for Element outer_link:RigidElement\n"
     ]
    }
   ],
   "source": [
    "# %%timeit -n 3 -r 1\n",
    "# Create the SYmbolic Model\n",
    "eles = [link_1,link_2]\n",
    "sm = ma.SymbolicModel.FromElementsAndForces(p.q,eles).subs({p.g_v[0]:0,p.g_v[1]:0,p.g_v[2]:-1})"
   ]
  },
  {
   "cell_type": "code",
   "execution_count": 6,
   "id": "fb394105-82f5-4fce-9dda-76ae9cec1b95",
   "metadata": {},
   "outputs": [],
   "source": [
    "base_dir = \"C:\\\\Git\\\\NastranMBD\\\\\"\n",
    "class_name = \"pendulum_reduced\"\n",
    "base_class = \"BaseMBD\"\n",
    "sm.to_matlab_class(p,base_dir,class_name,base_class)"
   ]
  },
  {
   "cell_type": "code",
   "execution_count": null,
   "id": "7de582d0-6014-4658-a65b-b2ba346ed45d",
   "metadata": {},
   "outputs": [],
   "source": []
  }
 ],
 "metadata": {
  "kernelspec": {
   "display_name": "Python [conda env:test_moyra_3_9]",
   "language": "python",
   "name": "conda-env-test_moyra_3_9-py"
  },
  "language_info": {
   "codemirror_mode": {
    "name": "ipython",
    "version": 3
   },
   "file_extension": ".py",
   "mimetype": "text/x-python",
   "name": "python",
   "nbconvert_exporter": "python",
   "pygments_lexer": "ipython3",
   "version": "3.9.4"
  }
 },
 "nbformat": 4,
 "nbformat_minor": 5
}
