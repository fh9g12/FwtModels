{
 "cells": [
  {
   "cell_type": "code",
   "execution_count": 1,
   "metadata": {},
   "outputs": [],
   "source": [
    "import sympy as sym\n",
    "import sympy.physics.mechanics as me\n",
    "from sympy.abc import t as time\n",
    "import pandas as pd\n",
    "import seaborn as sns\n",
    "\n",
    "import numpy as np\n",
    "from scipy.integrate import solve_ivp\n",
    "import matplotlib.pyplot as plt\n",
    "\n",
    "import sys, os\n",
    "\n",
    "sys.path.insert(1, os.path.join(sys.path[0], '../..'))\n",
    "import custom_plot_objects as cpo\n",
    "\n",
    "import ModelFramework as mf\n",
    "import ModelFramework.Elements as ele\n",
    "import ModelFramework.ExternalForces as ef\n",
    "import FwtModels.RectWing as rw\n",
    "import FwtModels.TwoDoF as TwoDof\n",
    "import FwtModels as fm\n",
    "\n",
    "from matplotlib.lines import Line2D\n",
    "\n",
    "me.mechanics_printing()"
   ]
  },
  {
   "cell_type": "code",
   "execution_count": 2,
   "metadata": {},
   "outputs": [],
   "source": [
    "half = sym.Rational(1,2)\n",
    "\n",
    "p = TwoDof.base_params()"
   ]
  },
  {
   "cell_type": "code",
   "execution_count": 44,
   "metadata": {},
   "outputs": [],
   "source": [
    "# p = mf.ModelParameters.DynamicModel(2)\n",
    "# p.y_0 = sym.Symbol('y_0')\n",
    "\n",
    "# p.m_w = mf.ModelSymbol(value = 1,string = 'm_b')      # mass of ball\n",
    "# p.m = mf.ModelSymbol(value = 1,string = 'm_p')      # mass of pendulum\n",
    "# p.l_com = mf.ModelSymbol(value = 1,string = 'l_p')      # pivot\n",
    "# p.k = mf.ModelSymbol(value = 0,string = 'k')      # spring const\n",
    "# p.g  = mf.ModelSymbol(value = 9.81,string = 'g')                     # gravity\n",
    "\n",
    "#define refernce frames\n",
    "wing_root_frame = mf.HomogenousTransform().R_x(-p.q[1])\n",
    "wing_aero_frame = wing_root_frame.Translate(p.y_0,0,0)\n",
    "wing_com_frame = wing_root_frame.Translate(0,p.l_com,0)\n",
    "\n",
    "#Create Elemnts\n",
    "M_fwt = ele.MassMatrix(p.m,I_xx = 0)\n",
    "M_innerWing = ele.RigidElement.PointMass(wing_root_frame,p.m_w,True)\n",
    "\n",
    "fwt_ele = ele.RigidElement(wing_com_frame,M_fwt,True)\n",
    "#spring_ele = ele.Spring(p.q[0],p.k_w)\n",
    "#spring_ele_fwt = ele.Spring(p.q[1],p.k_fwt)\n",
    "\n",
    "\n",
    "# Create AeroForces\n",
    "wing_AeroForces = ef.AeroForce.PerUnitSpan(p,wing_aero_frame,p.a_0,\n",
    "                               alphadot = p.alphadot_1,\n",
    "                               M_thetadot = p.M_thetadot,\n",
    "                               e = 0,\n",
    "                               w_g = p.w_g,\n",
    "                               rootAlpha = p.alpha_1,\n",
    "                               alpha_zero = 0,\n",
    "                               c = p.c_root-((p.c_root-p.c_tip)*p.y_0/p.s),\n",
    "                            c_d_max = p.c_d_max)#.integrate((p.y_0,0,p.s))\n",
    "\n",
    "# Setup AoA of FWT\n",
    "fwt_aoa = fm.GetAoA(p.alpha_r,0,p.Lambda,p.q[1])\n",
    "\n",
    "## Sub in Aero Forces\n",
    "wing_AeroForces = wing_AeroForces.subs({p.alpha_1:fwt_aoa,p.alphadot_1:fwt_aoa.diff(time)})\n",
    "\n",
    "forces = [wing_AeroForces]\n",
    "forces = []\n",
    "segments = 5\n",
    "for i in range(segments):\n",
    "    seg_width = p.s/segments\n",
    "    yi = seg_width/2 + i*seg_width\n",
    "    forces.append(wing_AeroForces.subs({p.y_0:yi})*seg_width)\n",
    "Q = sym.Matrix([0]*p.qs)\n",
    "for f in forces:\n",
    "    Q += f.Q()\n",
    "c_forces = ef.ExternalForce(Q)"
   ]
  },
  {
   "cell_type": "code",
   "execution_count": 45,
   "metadata": {},
   "outputs": [],
   "source": [
    "#sm = mf.SymbolicModel.FromElementsAndForces(p,[M_innerWing,fwt_ele,spring_ele,spring_ele_fwt],c_forces)\n",
    "sm = mf.SymbolicModel.FromElementsAndForces(p,[M_innerWing,fwt_ele],c_forces)"
   ]
  },
  {
   "cell_type": "code",
   "execution_count": 46,
   "metadata": {},
   "outputs": [
    {
     "data": {
      "text/latex": [
       "$\\displaystyle \\left[\\begin{matrix}0 & 0\\\\0 & l_{com}^{2} m\\end{matrix}\\right]$"
      ],
      "text/plain": [
       "⎡0     0    ⎤\n",
       "⎢           ⎥\n",
       "⎢        2  ⎥\n",
       "⎣0  l_com ⋅m⎦"
      ]
     },
     "execution_count": 46,
     "metadata": {},
     "output_type": "execute_result"
    }
   ],
   "source": [
    "sm.M"
   ]
  },
  {
   "cell_type": "code",
   "execution_count": null,
   "metadata": {},
   "outputs": [],
   "source": []
  },
  {
   "cell_type": "code",
   "execution_count": null,
   "metadata": {},
   "outputs": [],
   "source": []
  },
  {
   "cell_type": "code",
   "execution_count": 9,
   "metadata": {},
   "outputs": [],
   "source": [
    "sm.to_file('2Dof_Model.py')"
   ]
  },
  {
   "cell_type": "code",
   "execution_count": null,
   "metadata": {},
   "outputs": [],
   "source": []
  }
 ],
 "metadata": {
  "kernelspec": {
   "display_name": "Python 3",
   "language": "python",
   "name": "python3"
  },
  "language_info": {
   "codemirror_mode": {
    "name": "ipython",
    "version": 3
   },
   "file_extension": ".py",
   "mimetype": "text/x-python",
   "name": "python",
   "nbconvert_exporter": "python",
   "pygments_lexer": "ipython3",
   "version": "3.7.7"
  }
 },
 "nbformat": 4,
 "nbformat_minor": 4
}
