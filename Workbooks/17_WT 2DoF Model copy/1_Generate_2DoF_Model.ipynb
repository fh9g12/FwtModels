{
 "cells": [
  {
   "cell_type": "code",
   "execution_count": 47,
   "metadata": {},
   "outputs": [],
   "source": [
    "import sympy as sym\n",
    "import sympy.physics.mechanics as me\n",
    "from sympy.abc import t as time\n",
    "import pandas as pd\n",
    "import seaborn as sns\n",
    "\n",
    "import numpy as np\n",
    "from scipy.integrate import solve_ivp\n",
    "import matplotlib.pyplot as plt\n",
    "\n",
    "import sys, os\n",
    "\n",
    "sys.path.insert(1, os.path.join(sys.path[0], '../..'))\n",
    "import custom_plot_objects as cpo\n",
    "\n",
    "import ModelFramework as mf\n",
    "import ModelFramework.Elements as ele\n",
    "import ModelFramework.ExternalForces as ef\n",
    "import FwtModels.RectWing as rw\n",
    "import FwtModels.TwoDoF as TwoDof\n",
    "import FwtModels as fm\n",
    "\n",
    "from matplotlib.lines import Line2D\n",
    "\n",
    "me.mechanics_printing()"
   ]
  },
  {
   "cell_type": "code",
   "execution_count": 49,
   "metadata": {},
   "outputs": [],
   "source": [
    "half = sym.Rational(1,2)\n",
    "panels = 10\n",
    "p = TwoDof.base_params(panels)"
   ]
  },
  {
   "cell_type": "code",
   "execution_count": 50,
   "metadata": {},
   "outputs": [],
   "source": [
    "#Define refernce frames\n",
    "wing_root_frame = mf.HomogenousTransform().Translate(0,0,p.q[0]).R_x(-p.q[1])\n",
    "wing_aero_frame = wing_root_frame.Translate(0,p.y_0,0)\n",
    "wing_com_frame = wing_root_frame.Translate(0,p.l_com,0)\n",
    "\n",
    "#Define Mass Matrices\n",
    "M_fwt = ele.MassMatrix(p.m,I_xx = 0)\n",
    "\n",
    "# Define Elements\n",
    "M_innerWing = ele.RigidElement.PointMass(wing_root_frame,p.m_w,True)\n",
    "fwt_ele = ele.RigidElement(wing_com_frame,M_fwt,True)\n",
    "spring_ele = ele.Spring(p.q[0],p.k_w)\n",
    "\n",
    "# Create AeroForces\n",
    "wing_AeroForces = ef.AeroForce.PerUnitSpan(p,wing_aero_frame,p.a_0,\n",
    "                               alphadot = 0,\n",
    "                               M_thetadot = 0,\n",
    "                               e = 0,\n",
    "                               w_g = 0,\n",
    "                               rootAlpha = p.alpha_1,\n",
    "                               alpha_zero = p.alpha_r,\n",
    "                               stall_angle = 0,\n",
    "                               c = p.c_root,\n",
    "                               c_d_max = 0,\n",
    "                               linear = True)\n",
    "# Split FWT into Segments\n",
    "forces = []\n",
    "for i in range(panels):\n",
    "    seg_width = p.s/panels\n",
    "    yi = seg_width/2 + i*seg_width\n",
    "    forces.append(wing_AeroForces.subs({p.y_0:yi,p.a_0:p.a[i]})*seg_width)\n",
    "Q = sym.Matrix([0]*p.qs)\n",
    "for f in forces:\n",
    "    Q += f.Q()\n",
    "c_forces = ef.ExternalForce(Q)"
   ]
  },
  {
   "cell_type": "code",
   "execution_count": 51,
   "metadata": {},
   "outputs": [],
   "source": [
    "#sm = mf.SymbolicModel.FromElementsAndForces(p,[M_innerWing,fwt_ele,spring_ele,spring_ele_fwt],c_forces)\n",
    "sm = mf.SymbolicModel.FromElementsAndForces(p,[M_innerWing,fwt_ele,spring_ele],c_forces)"
   ]
  },
  {
   "cell_type": "code",
   "execution_count": 52,
   "metadata": {},
   "outputs": [],
   "source": [
    "sm.to_file('2Dof_Model.py')"
   ]
  },
  {
   "cell_type": "code",
   "execution_count": 37,
   "metadata": {},
   "outputs": [
    {
     "data": {
      "image/png": "[encoded data removed]",
      "text/latex": [
       "$\\displaystyle - \\frac{V^{2} c_{root} \\rho s^{2} a_{0} \\left(\\alpha_{1} + \\alpha_{r} - \\frac{- \\frac{s \\dot{q}_{1}}{20} + \\cos{\\left(q_{1} \\right)} \\dot{q}_{0}}{V}\\right)}{400} - \\frac{3 V^{2} c_{root} \\rho s^{2} a_{1} \\left(\\alpha_{1} + \\alpha_{r} - \\frac{- \\frac{3 s \\dot{q}_{1}}{20} + \\cos{\\left(q_{1} \\right)} \\dot{q}_{0}}{V}\\right)}{400} - \\frac{V^{2} c_{root} \\rho s^{2} a_{2} \\left(\\alpha_{1} + \\alpha_{r} - \\frac{- \\frac{s \\dot{q}_{1}}{4} + \\cos{\\left(q_{1} \\right)} \\dot{q}_{0}}{V}\\right)}{80} - \\frac{7 V^{2} c_{root} \\rho s^{2} a_{3} \\left(\\alpha_{1} + \\alpha_{r} - \\frac{- \\frac{7 s \\dot{q}_{1}}{20} + \\cos{\\left(q_{1} \\right)} \\dot{q}_{0}}{V}\\right)}{400} - \\frac{9 V^{2} c_{root} \\rho s^{2} a_{4} \\left(\\alpha_{1} + \\alpha_{r} - \\frac{- \\frac{9 s \\dot{q}_{1}}{20} + \\cos{\\left(q_{1} \\right)} \\dot{q}_{0}}{V}\\right)}{400} - \\frac{11 V^{2} c_{root} \\rho s^{2} a_{5} \\left(\\alpha_{1} + \\alpha_{r} - \\frac{- \\frac{11 s \\dot{q}_{1}}{20} + \\cos{\\left(q_{1} \\right)} \\dot{q}_{0}}{V}\\right)}{400} - \\frac{13 V^{2} c_{root} \\rho s^{2} a_{6} \\left(\\alpha_{1} + \\alpha_{r} - \\frac{- \\frac{13 s \\dot{q}_{1}}{20} + \\cos{\\left(q_{1} \\right)} \\dot{q}_{0}}{V}\\right)}{400} - \\frac{3 V^{2} c_{root} \\rho s^{2} a_{7} \\left(\\alpha_{1} + \\alpha_{r} - \\frac{- \\frac{3 s \\dot{q}_{1}}{4} + \\cos{\\left(q_{1} \\right)} \\dot{q}_{0}}{V}\\right)}{80} - \\frac{17 V^{2} c_{root} \\rho s^{2} a_{8} \\left(\\alpha_{1} + \\alpha_{r} - \\frac{- \\frac{17 s \\dot{q}_{1}}{20} + \\cos{\\left(q_{1} \\right)} \\dot{q}_{0}}{V}\\right)}{400} - \\frac{19 V^{2} c_{root} \\rho s^{2} a_{9} \\left(\\alpha_{1} + \\alpha_{r} - \\frac{- \\frac{19 s \\dot{q}_{1}}{20} + \\cos{\\left(q_{1} \\right)} \\dot{q}_{0}}{V}\\right)}{400}$"
      ],
      "text/plain": [
       "                   ⎛            s⋅q₁̇             ⎞                      ⎛    \n",
       "                   ⎜          - ──── + cos(q₁)⋅q₀̇⎟                      ⎜    \n",
       "   2          2    ⎜             20              ⎟      2          2    ⎜     \n",
       "  V ⋅cᵣₒₒₜ⋅ρ⋅s ⋅a₀⋅⎜α₁ + αᵣ - ───────────────────⎟   3⋅V ⋅cᵣₒₒₜ⋅ρ⋅s ⋅a₁⋅⎜α₁ + \n",
       "                   ⎝                   V         ⎠                      ⎝     \n",
       "- ──────────────────────────────────────────────── - ─────────────────────────\n",
       "                        400                                                  4\n",
       "\n",
       "        3⋅s⋅q₁̇             ⎞                    ⎛            s⋅q₁̇           \n",
       "      - ────── + cos(q₁)⋅q₀̇⎟                    ⎜          - ──── + cos(q₁)⋅q\n",
       "         20               ⎟    2          2    ⎜             4               ⎟\n",
       "αᵣ - ─────────────────────⎟   V ⋅cᵣₒₒₜ⋅ρ⋅s ⋅a₂⋅⎜α₁ + αᵣ - ───────────────────⎟\n",
       "               V          ⎠                    ⎝                   V         ⎠\n",
       "─────────────────────────── - ────────────────────────────────────────────────\n",
       "00                                                   80                       \n",
       "\n",
       "  ⎞                      ⎛            7⋅s⋅q₁̇             ⎞                   \n",
       "₀̇⎟                      ⎜          - ────── + cos(q₁)⋅q₀̇⎟                   \n",
       "      2          2    ⎜              20               ⎟      2          2    ⎜\n",
       "   7⋅V ⋅cᵣₒₒₜ⋅ρ⋅s ⋅a₃⋅⎜α₁ + αᵣ - ─────────────────────⎟   9⋅V ⋅cᵣₒₒₜ⋅ρ⋅s ⋅a₄⋅⎜\n",
       "                      ⎝                    V          ⎠                      ⎝\n",
       " - ──────────────────────────────────────────────────── - ────────────────────\n",
       "                           400                                                \n",
       "\n",
       "   ⎛            9⋅s⋅q₁̇             ⎞                       ⎛            11⋅s⋅\n",
       "   ⎜          - ────── + cos(q₁)⋅q₀̇⎟                       ⎜          - ─────\n",
       "              20               ⎟       2          2    ⎜               20     \n",
       "α₁ + αᵣ - ─────────────────────⎟   11⋅V ⋅cᵣₒₒₜ⋅ρ⋅s ⋅a₅⋅⎜α₁ + αᵣ - ────────────\n",
       "                    V          ⎠                       ⎝                    V \n",
       "──────────────────────────────── - ───────────────────────────────────────────\n",
       "    400                                                     400               \n",
       "\n",
       "q₁̇             ⎞                       ⎛            13⋅s⋅q₁̇             ⎞   \n",
       "── + cos(q₁)⋅q₀̇⎟                       ⎜          - ─────── + cos(q₁)⋅q₀̇⎟   \n",
       "          ⎟       2          2    ⎜               20               ⎟      2   \n",
       "──────────⎟   13⋅V ⋅cᵣₒₒₜ⋅ρ⋅s ⋅a₆⋅⎜α₁ + αᵣ - ──────────────────────⎟   3⋅V ⋅cᵣ\n",
       "          ⎠                       ⎝                    V           ⎠          \n",
       "─────────── - ────────────────────────────────────────────────────── - ───────\n",
       "                                       400                                    \n",
       "\n",
       "                   ⎛            3⋅s⋅q₁̇             ⎞                       ⎛ \n",
       "                   ⎜          - ────── + cos(q₁)⋅q₀̇⎟                       ⎜ \n",
       "       2    ⎜              4                ⎟       2          2    ⎜         \n",
       "ₒₒₜ⋅ρ⋅s ⋅a₇⋅⎜α₁ + αᵣ - ─────────────────────⎟   17⋅V ⋅cᵣₒₒₜ⋅ρ⋅s ⋅a₈⋅⎜α₁ + αᵣ -\n",
       "            ⎝                    V          ⎠                       ⎝         \n",
       "───────────────────────────────────────────── - ──────────────────────────────\n",
       "                  80                                                     400  \n",
       "\n",
       "           17⋅s⋅q₁̇             ⎞                       ⎛            19⋅s⋅q₁̇ \n",
       "         - ─────── + cos(q₁)⋅q₀̇⎟                       ⎜          - ─────── +\n",
       "      20               ⎟       2          2    ⎜               20             \n",
       " ──────────────────────⎟   19⋅V ⋅cᵣₒₒₜ⋅ρ⋅s ⋅a₉⋅⎜α₁ + αᵣ - ────────────────────\n",
       "           V           ⎠                       ⎝                    V         \n",
       "──────────────────────── - ───────────────────────────────────────────────────\n",
       "                                                    400                       \n",
       "\n",
       "            ⎞\n",
       " cos(q₁)⋅q₀̇⎟\n",
       "  ⎟\n",
       "──⎟\n",
       "  ⎠\n",
       "───\n",
       "   "
      ]
     },
     "execution_count": 37,
     "metadata": {},
     "output_type": "execute_result"
    }
   ],
   "source": [
    "sm.ExtForces.Q()[1]"
   ]
  },
  {
   "cell_type": "code",
   "execution_count": 31,
   "metadata": {},
   "outputs": [
    {
     "data": {
      "text/latex": [
       "$\\displaystyle \\left[\\begin{matrix}0\\\\0\\\\q_{0}\\end{matrix}\\right]$"
      ],
      "text/plain": [
       "⎡0 ⎤\n",
       "⎢  ⎥\n",
       "⎢0 ⎥\n",
       "⎢  ⎥\n",
       "⎣q₀⎦"
      ]
     },
     "execution_count": 31,
     "metadata": {},
     "output_type": "execute_result"
    }
   ],
   "source": [
    "wing_root_frame.Transform_point([0,0,0])"
   ]
  },
  {
   "cell_type": "code",
   "execution_count": null,
   "metadata": {},
   "outputs": [],
   "source": []
  }
 ],
 "metadata": {
  "kernelspec": {
   "display_name": "Python 3",
   "language": "python",
   "name": "python3"
  },
  "language_info": {
   "codemirror_mode": {
    "name": "ipython",
    "version": 3
   },
   "file_extension": ".py",
   "mimetype": "text/x-python",
   "name": "python",
   "nbconvert_exporter": "python",
   "pygments_lexer": "ipython3",
   "version": "3.7.7"
  }
 },
 "nbformat": 4,
 "nbformat_minor": 4
}
