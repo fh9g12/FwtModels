{
 "cells": [
  {
   "cell_type": "code",
   "execution_count": 386,
   "metadata": {},
   "outputs": [],
   "source": [
    "import sympy as sym\n",
    "import sympy.physics.mechanics as me\n",
    "from sympy.abc import t as time\n",
    "import pandas as pd\n",
    "import seaborn as sns\n",
    "\n",
    "import numpy as np\n",
    "from scipy.integrate import solve_ivp\n",
    "import matplotlib.pyplot as plt\n",
    "\n",
    "import sys, os\n",
    "\n",
    "sys.path.insert(1, os.path.join(sys.path[0], '../..'))\n",
    "import custom_plot_objects as cpo\n",
    "\n",
    "import ModelFramework as mf\n",
    "import ModelFramework.Elements as ele\n",
    "import ModelFramework.ExternalForces as ef\n",
    "import FwtModels.RectWing as rw\n",
    "import FwtModels.TwoDoF as TwoDof\n",
    "from scipy.optimize import minimize\n",
    "from matplotlib.lines import Line2D\n",
    "import multiprocessing as mp\n",
    "\n",
    "me.mechanics_printing()"
   ]
  },
  {
   "cell_type": "code",
   "execution_count": 387,
   "metadata": {},
   "outputs": [
    {
     "name": "stderr",
     "output_type": "stream",
     "text": [
      "/Users/fintan/opt/anaconda3/lib/python3.7/site-packages/scipy/optimize/minpack.py:162: RuntimeWarning: The iteration is not making good progress, as measured by the \n",
      "  improvement from the last ten iterations.\n",
      "  warnings.warn(msg, RuntimeWarning)\n"
     ]
    }
   ],
   "source": [
    "dataset_name = 'Test'\n",
    "panels = 10\n",
    "# Set JEC Specific parameters\n",
    "sm = mf.SymbolicModel.from_file('2DoF_Model.py')\n",
    "p = TwoDof.base_params(panels)\n",
    "sm = sm.subs({p.alpha_1.name:sym.atan(sym.sin(p.Lambda)*sym.sin(p.q[1]))})\n",
    "\n",
    "p.rho.value = 1.225\n",
    "p.s.value = 0.325\n",
    "p.c_root.value = 0.15\n",
    "p.c_tip.value = 0.15\n",
    "p.m.value = 0.53\n",
    "p.m_w.value = 1.5\n",
    "p.f_0.value = 2.4\n",
    "p.Lambda.value = np.deg2rad(10)\n",
    "#p.a.value = [5.2,5.2,5.2,5.2,5.2,5.2,5,4,3,1]\n",
    "p.a.value = [5,4.5,4,3.5,3,2.5,2,1.5,1,0.5]\n",
    "p.c_d_max.value = 0\n",
    "\n",
    "p.k_w.value = (p.f_0.value*2*np.pi)**2*(p.m_w.value+p.m.value)*0.9             # Stiffness of the inner wing\n",
    "p.I_xx.value = 1/12*p.m.value*p.s.value**2          # FWT polar moment of inetia\n",
    "#p.I_xx.value = 6.5/81*p.m.value*p.s.value**2 \n",
    "p.l_com.value = p.s.value/2\n",
    "\n",
    "vars_ls =[]\n",
    "vars_ls.append((p.Lambda,np.deg2rad([10])))\n",
    "vars_ls.append((p.V,np.linspace(0,40,80))) # V must be second\n",
    "vars_ls.append((p.alpha_r,np.deg2rad([2.5,5,7.5,10])))\n",
    "\n",
    "variables = [k for k,v in vars_ls]\n",
    "\n",
    "flutdf = rw.eigen_perm_params(p,sm,vars_ls,calc_fixed_points=True,fp = np.array([0,np.deg2rad(-30)]))\n",
    "flutdf.to_pickle(f'Test_FWT_free.pkl')"
   ]
  },
  {
   "cell_type": "code",
   "execution_count": 388,
   "metadata": {},
   "outputs": [],
   "source": [
    "#get list of symbols to key in model\n",
    "variables = [k for k,v in vars_ls]\n",
    "model_mini = sm.msubs(p.GetSubs(0,p.fp,ignore=variables))"
   ]
  },
  {
   "cell_type": "code",
   "execution_count": 389,
   "metadata": {},
   "outputs": [],
   "source": [
    "nm = mf.NumericModel.from_SymbolicModel(p, model_mini)"
   ]
  },
  {
   "cell_type": "code",
   "execution_count": 390,
   "metadata": {},
   "outputs": [
    {
     "data": {
      "image/png": "[encoded data removed]",
      "text/latex": [
       "$\\displaystyle 9.81$"
      ],
      "text/plain": [
       "9.81"
      ]
     },
     "execution_count": 390,
     "metadata": {},
     "output_type": "execute_result"
    }
   ],
   "source": [
    "(model_mini.ExtForces.Q()[0])\n",
    "sm.f\n",
    "p.g.value"
   ]
  },
  {
   "cell_type": "code",
   "execution_count": 391,
   "metadata": {},
   "outputs": [
    {
     "data": {
      "image/png": "[encoded data removed]",
      "text/latex": [
       "$\\displaystyle \\left( 0, \\  5.70317695490775, \\  0, \\  84.0052023822529\\right)$"
      ],
      "text/plain": [
       "(0, 5.703176954907747, 0, 84.00520238225292)"
      ]
     },
     "execution_count": 391,
     "metadata": {},
     "output_type": "execute_result"
    }
   ],
   "source": [
    "p.V.value = 10\n",
    "p.alpha_r.value = np.deg2rad(10)\n",
    "x = [-0.055,0,np.deg2rad(-1),0]\n",
    "nm.deriv(0,x,p.GetNumericTuple(x,0))"
   ]
  },
  {
   "cell_type": "code",
   "execution_count": 392,
   "metadata": {},
   "outputs": [
    {
     "data": {
      "text/plain": [
       "array([[-19.9143   ],\n",
       "       [ -0.3236132]])"
      ]
     },
     "execution_count": 392,
     "metadata": {},
     "output_type": "execute_result"
    }
   ],
   "source": [
    "p.V.value = 10\n",
    "p.alpha_r.value = np.deg2rad(10)\n",
    "x = [0,0,np.deg2rad(90),0]\n",
    "tup = p.GetNumericTuple(x,0)\n",
    "-nm.f_func(tup,x)+nm.ExtForces(tup,x,0)"
   ]
  },
  {
   "cell_type": "code",
   "execution_count": 393,
   "metadata": {},
   "outputs": [],
   "source": [
    "def Calc_coast(numeric_model,p,ic):\n",
    "    # Create Objetive Function\n",
    "    def objective_func(x, ic):\n",
    "        y=[0]*4\n",
    "        y[0] = ic[0]\n",
    "        y[1] = ic[1]\n",
    "        y[2] = x[0]\n",
    "        tup = p.GetNumericTuple(y, 0)  \n",
    "        forces = -numeric_model.f_func(tup,y)+numeric_model.ExtForces(tup,y,0)\n",
    "        return forces[1][0]**2\n",
    "    # find left and right cruise angle\n",
    "    res = minimize(objective_func, [0], args=(ic,))\n",
    "    if res.success:\n",
    "        return [ic[0],ic[1],res.x[0],0]\n",
    "    raise Exception('Failed to calulate coast angles')"
   ]
  },
  {
   "cell_type": "code",
   "execution_count": 394,
   "metadata": {},
   "outputs": [
    {
     "data": {
      "image/png": "[encoded data removed]",
      "text/latex": [
       "$\\displaystyle \\left[ 0, \\  0, \\  1.19200836464296, \\  0\\right]$"
      ],
      "text/plain": [
       "[0, 0, 1.19200836464296, 0]"
      ]
     },
     "execution_count": 394,
     "metadata": {},
     "output_type": "execute_result"
    }
   ],
   "source": [
    "p.V.value = 10\n",
    "p.alpha_r.value = np.deg2rad(10)\n",
    "Calc_coast(nm,p,[0,0])"
   ]
  },
  {
   "cell_type": "code",
   "execution_count": 395,
   "metadata": {},
   "outputs": [
    {
     "data": {
      "image/png": "[encoded data removed]",
      "text/latex": [
       "$\\displaystyle 1.5707963267949$"
      ],
      "text/plain": [
       "1.5707963267948966"
      ]
     },
     "execution_count": 395,
     "metadata": {},
     "output_type": "execute_result"
    }
   ],
   "source": [
    "np.pi/2"
   ]
  },
  {
   "cell_type": "code",
   "execution_count": null,
   "metadata": {},
   "outputs": [],
   "source": []
  },
  {
   "cell_type": "code",
   "execution_count": null,
   "metadata": {},
   "outputs": [],
   "source": []
  },
  {
   "cell_type": "code",
   "execution_count": null,
   "metadata": {},
   "outputs": [],
   "source": []
  },
  {
   "cell_type": "code",
   "execution_count": 396,
   "metadata": {},
   "outputs": [
    {
     "data": {
      "text/latex": [
       "$\\displaystyle \\left[\\begin{matrix}\\frac{V^{2} a_{0} c_{root} \\rho s \\left(\\alpha_{r} + \\operatorname{atan}{\\left(\\sin{\\left(\\Lambda \\right)} \\sin{\\left(q_{1} \\right)} \\right)} - \\frac{- \\frac{s \\dot{q}_{1}}{20} + \\cos{\\left(q_{1} \\right)} \\dot{q}_{0}}{V}\\right) \\cos{\\left(q_{1} \\right)}}{20} + \\frac{V^{2} a_{1} c_{root} \\rho s \\left(\\alpha_{r} + \\operatorname{atan}{\\left(\\sin{\\left(\\Lambda \\right)} \\sin{\\left(q_{1} \\right)} \\right)} - \\frac{- \\frac{3 s \\dot{q}_{1}}{20} + \\cos{\\left(q_{1} \\right)} \\dot{q}_{0}}{V}\\right) \\cos{\\left(q_{1} \\right)}}{20} + \\frac{V^{2} a_{2} c_{root} \\rho s \\left(\\alpha_{r} + \\operatorname{atan}{\\left(\\sin{\\left(\\Lambda \\right)} \\sin{\\left(q_{1} \\right)} \\right)} - \\frac{- \\frac{s \\dot{q}_{1}}{4} + \\cos{\\left(q_{1} \\right)} \\dot{q}_{0}}{V}\\right) \\cos{\\left(q_{1} \\right)}}{20} + \\frac{V^{2} a_{3} c_{root} \\rho s \\left(\\alpha_{r} + \\operatorname{atan}{\\left(\\sin{\\left(\\Lambda \\right)} \\sin{\\left(q_{1} \\right)} \\right)} - \\frac{- \\frac{7 s \\dot{q}_{1}}{20} + \\cos{\\left(q_{1} \\right)} \\dot{q}_{0}}{V}\\right) \\cos{\\left(q_{1} \\right)}}{20} + \\frac{V^{2} a_{4} c_{root} \\rho s \\left(\\alpha_{r} + \\operatorname{atan}{\\left(\\sin{\\left(\\Lambda \\right)} \\sin{\\left(q_{1} \\right)} \\right)} - \\frac{- \\frac{9 s \\dot{q}_{1}}{20} + \\cos{\\left(q_{1} \\right)} \\dot{q}_{0}}{V}\\right) \\cos{\\left(q_{1} \\right)}}{20} + \\frac{V^{2} a_{5} c_{root} \\rho s \\left(\\alpha_{r} + \\operatorname{atan}{\\left(\\sin{\\left(\\Lambda \\right)} \\sin{\\left(q_{1} \\right)} \\right)} - \\frac{- \\frac{11 s \\dot{q}_{1}}{20} + \\cos{\\left(q_{1} \\right)} \\dot{q}_{0}}{V}\\right) \\cos{\\left(q_{1} \\right)}}{20} + \\frac{V^{2} a_{6} c_{root} \\rho s \\left(\\alpha_{r} + \\operatorname{atan}{\\left(\\sin{\\left(\\Lambda \\right)} \\sin{\\left(q_{1} \\right)} \\right)} - \\frac{- \\frac{13 s \\dot{q}_{1}}{20} + \\cos{\\left(q_{1} \\right)} \\dot{q}_{0}}{V}\\right) \\cos{\\left(q_{1} \\right)}}{20} + \\frac{V^{2} a_{7} c_{root} \\rho s \\left(\\alpha_{r} + \\operatorname{atan}{\\left(\\sin{\\left(\\Lambda \\right)} \\sin{\\left(q_{1} \\right)} \\right)} - \\frac{- \\frac{3 s \\dot{q}_{1}}{4} + \\cos{\\left(q_{1} \\right)} \\dot{q}_{0}}{V}\\right) \\cos{\\left(q_{1} \\right)}}{20} + \\frac{V^{2} a_{8} c_{root} \\rho s \\left(\\alpha_{r} + \\operatorname{atan}{\\left(\\sin{\\left(\\Lambda \\right)} \\sin{\\left(q_{1} \\right)} \\right)} - \\frac{- \\frac{17 s \\dot{q}_{1}}{20} + \\cos{\\left(q_{1} \\right)} \\dot{q}_{0}}{V}\\right) \\cos{\\left(q_{1} \\right)}}{20} + \\frac{V^{2} a_{9} c_{root} \\rho s \\left(\\alpha_{r} + \\operatorname{atan}{\\left(\\sin{\\left(\\Lambda \\right)} \\sin{\\left(q_{1} \\right)} \\right)} - \\frac{- \\frac{19 s \\dot{q}_{1}}{20} + \\cos{\\left(q_{1} \\right)} \\dot{q}_{0}}{V}\\right) \\cos{\\left(q_{1} \\right)}}{20}\\\\- \\frac{V^{2} a_{0} c_{root} \\rho s^{2} \\left(\\alpha_{r} + \\operatorname{atan}{\\left(\\sin{\\left(\\Lambda \\right)} \\sin{\\left(q_{1} \\right)} \\right)} - \\frac{- \\frac{s \\dot{q}_{1}}{20} + \\cos{\\left(q_{1} \\right)} \\dot{q}_{0}}{V}\\right)}{400} - \\frac{3 V^{2} a_{1} c_{root} \\rho s^{2} \\left(\\alpha_{r} + \\operatorname{atan}{\\left(\\sin{\\left(\\Lambda \\right)} \\sin{\\left(q_{1} \\right)} \\right)} - \\frac{- \\frac{3 s \\dot{q}_{1}}{20} + \\cos{\\left(q_{1} \\right)} \\dot{q}_{0}}{V}\\right)}{400} - \\frac{V^{2} a_{2} c_{root} \\rho s^{2} \\left(\\alpha_{r} + \\operatorname{atan}{\\left(\\sin{\\left(\\Lambda \\right)} \\sin{\\left(q_{1} \\right)} \\right)} - \\frac{- \\frac{s \\dot{q}_{1}}{4} + \\cos{\\left(q_{1} \\right)} \\dot{q}_{0}}{V}\\right)}{80} - \\frac{7 V^{2} a_{3} c_{root} \\rho s^{2} \\left(\\alpha_{r} + \\operatorname{atan}{\\left(\\sin{\\left(\\Lambda \\right)} \\sin{\\left(q_{1} \\right)} \\right)} - \\frac{- \\frac{7 s \\dot{q}_{1}}{20} + \\cos{\\left(q_{1} \\right)} \\dot{q}_{0}}{V}\\right)}{400} - \\frac{9 V^{2} a_{4} c_{root} \\rho s^{2} \\left(\\alpha_{r} + \\operatorname{atan}{\\left(\\sin{\\left(\\Lambda \\right)} \\sin{\\left(q_{1} \\right)} \\right)} - \\frac{- \\frac{9 s \\dot{q}_{1}}{20} + \\cos{\\left(q_{1} \\right)} \\dot{q}_{0}}{V}\\right)}{400} - \\frac{11 V^{2} a_{5} c_{root} \\rho s^{2} \\left(\\alpha_{r} + \\operatorname{atan}{\\left(\\sin{\\left(\\Lambda \\right)} \\sin{\\left(q_{1} \\right)} \\right)} - \\frac{- \\frac{11 s \\dot{q}_{1}}{20} + \\cos{\\left(q_{1} \\right)} \\dot{q}_{0}}{V}\\right)}{400} - \\frac{13 V^{2} a_{6} c_{root} \\rho s^{2} \\left(\\alpha_{r} + \\operatorname{atan}{\\left(\\sin{\\left(\\Lambda \\right)} \\sin{\\left(q_{1} \\right)} \\right)} - \\frac{- \\frac{13 s \\dot{q}_{1}}{20} + \\cos{\\left(q_{1} \\right)} \\dot{q}_{0}}{V}\\right)}{400} - \\frac{3 V^{2} a_{7} c_{root} \\rho s^{2} \\left(\\alpha_{r} + \\operatorname{atan}{\\left(\\sin{\\left(\\Lambda \\right)} \\sin{\\left(q_{1} \\right)} \\right)} - \\frac{- \\frac{3 s \\dot{q}_{1}}{4} + \\cos{\\left(q_{1} \\right)} \\dot{q}_{0}}{V}\\right)}{80} - \\frac{17 V^{2} a_{8} c_{root} \\rho s^{2} \\left(\\alpha_{r} + \\operatorname{atan}{\\left(\\sin{\\left(\\Lambda \\right)} \\sin{\\left(q_{1} \\right)} \\right)} - \\frac{- \\frac{17 s \\dot{q}_{1}}{20} + \\cos{\\left(q_{1} \\right)} \\dot{q}_{0}}{V}\\right)}{400} - \\frac{19 V^{2} a_{9} c_{root} \\rho s^{2} \\left(\\alpha_{r} + \\operatorname{atan}{\\left(\\sin{\\left(\\Lambda \\right)} \\sin{\\left(q_{1} \\right)} \\right)} - \\frac{- \\frac{19 s \\dot{q}_{1}}{20} + \\cos{\\left(q_{1} \\right)} \\dot{q}_{0}}{V}\\right)}{400}\\end{matrix}\\right]$"
      ],
      "text/plain": [
       "⎡                ⎛                              s⋅q₁̇             ⎞           \n",
       "⎢                ⎜                            - ──── + cos(q₁)⋅q₀̇⎟           \n",
       "⎢ 2              ⎜                               20              ⎟            \n",
       "⎢V ⋅a₀⋅cᵣₒₒₜ⋅ρ⋅s⋅⎜αᵣ + atan(sin(Λ)⋅sin(q₁)) - ───────────────────⎟⋅cos(q₁)   V\n",
       "⎢                ⎝                                     V         ⎠            \n",
       "⎢───────────────────────────────────────────────────────────────────────── + ─\n",
       "⎢                                    20                                       \n",
       "⎢                                                                             \n",
       "⎢                                           ⎛                              s⋅q\n",
       "⎢                                           ⎜                            - ───\n",
       "⎢                           2             2 ⎜                               20\n",
       "⎢                          V ⋅a₀⋅cᵣₒₒₜ⋅ρ⋅s ⋅⎜αᵣ + atan(sin(Λ)⋅sin(q₁)) - ─────\n",
       "⎢                                           ⎝                                 \n",
       "⎢                        - ───────────────────────────────────────────────────\n",
       "⎣                                                         400                 \n",
       "\n",
       "                ⎛                              3⋅s⋅q₁̇             ⎞          \n",
       "                ⎜                            - ────── + cos(q₁)⋅q₀̇⎟          \n",
       "2              ⎜                                20               ⎟            \n",
       " ⋅a₁⋅cᵣₒₒₜ⋅ρ⋅s⋅⎜αᵣ + atan(sin(Λ)⋅sin(q₁)) - ─────────────────────⎟⋅cos(q₁)   V\n",
       "               ⎝                                      V          ⎠            \n",
       "────────────────────────────────────────────────────────────────────────── + ─\n",
       "                                    20                                        \n",
       "                                                                              \n",
       "₁̇             ⎞                      ⎛                              3⋅s⋅q₁̇  \n",
       "─ + cos(q₁)⋅q₀̇⎟                      ⎜                            - ────── + \n",
       "              ⎟      2             2 ⎜                                20      \n",
       "──────────────⎟   3⋅V ⋅a₁⋅cᵣₒₒₜ⋅ρ⋅s ⋅⎜αᵣ + atan(sin(Λ)⋅sin(q₁)) - ────────────\n",
       "    V         ⎠                      ⎝                                      V \n",
       "─────────────── - ────────────────────────────────────────────────────────────\n",
       "                                                   400                        \n",
       "\n",
       "                 ⎛                              s⋅q₁̇             ⎞           \n",
       "                 ⎜                            - ──── + cos(q₁)⋅q₀̇⎟           \n",
       "2              ⎜                               4               ⎟            2 \n",
       " ⋅a₂⋅cᵣₒₒₜ⋅ρ⋅s⋅⎜αᵣ + atan(sin(Λ)⋅sin(q₁)) - ───────────────────⎟⋅cos(q₁)   V ⋅\n",
       "               ⎝                                     V         ⎠              \n",
       "──────────────────────────────────────────────────────────────────────── + ───\n",
       "                                   20                                         \n",
       "                                                                              \n",
       "           ⎞                    ⎛                              s⋅q₁̇          \n",
       "cos(q₁)⋅q₀̇⎟                    ⎜                            - ──── + cos(q₁)⋅\n",
       "         ⎟    2             2 ⎜                               4               \n",
       "─────────⎟   V ⋅a₂⋅cᵣₒₒₜ⋅ρ⋅s ⋅⎜αᵣ + atan(sin(Λ)⋅sin(q₁)) - ───────────────────\n",
       "         ⎠                    ⎝                                     V         \n",
       "────────── - ─────────────────────────────────────────────────────────────────\n",
       "                                             80                               \n",
       "\n",
       "                ⎛                              7⋅s⋅q₁̇             ⎞          \n",
       "                ⎜                            - ────── + cos(q₁)⋅q₀̇⎟          \n",
       "             ⎜                                20               ⎟            2 \n",
       "a₃⋅cᵣₒₒₜ⋅ρ⋅s⋅⎜αᵣ + atan(sin(Λ)⋅sin(q₁)) - ─────────────────────⎟⋅cos(q₁)   V ⋅\n",
       "             ⎝                                      V          ⎠              \n",
       "──────────────────────────────────────────────────────────────────────── + ───\n",
       "                                  20                                          \n",
       "                                                                              \n",
       "   ⎞                      ⎛                              7⋅s⋅q₁̇             ⎞\n",
       "q₀̇⎟                      ⎜                            - ────── + cos(q₁)⋅q₀̇⎟\n",
       "⎟      2             2 ⎜                                20               ⎟    \n",
       "⎟   7⋅V ⋅a₃⋅cᵣₒₒₜ⋅ρ⋅s ⋅⎜αᵣ + atan(sin(Λ)⋅sin(q₁)) - ─────────────────────⎟   9\n",
       "⎠                      ⎝                                      V          ⎠    \n",
       "─ - ────────────────────────────────────────────────────────────────────── - ─\n",
       "                                     400                                      \n",
       "\n",
       "                 ⎛                              9⋅s⋅q₁̇             ⎞         \n",
       "                 ⎜                            - ────── + cos(q₁)⋅q₀̇⎟         \n",
       "             ⎜                                20               ⎟            2 \n",
       "a₄⋅cᵣₒₒₜ⋅ρ⋅s⋅⎜αᵣ + atan(sin(Λ)⋅sin(q₁)) - ─────────────────────⎟⋅cos(q₁)   V ⋅\n",
       "             ⎝                                      V          ⎠              \n",
       "──────────────────────────────────────────────────────────────────────── + ───\n",
       "                                  20                                          \n",
       "                                                                              \n",
       "                      ⎛                              9⋅s⋅q₁̇             ⎞    \n",
       "                      ⎜                            - ────── + cos(q₁)⋅q₀̇⎟    \n",
       "  2             2 ⎜                                20               ⎟       2 \n",
       "⋅V ⋅a₄⋅cᵣₒₒₜ⋅ρ⋅s ⋅⎜αᵣ + atan(sin(Λ)⋅sin(q₁)) - ─────────────────────⎟   11⋅V ⋅\n",
       "                  ⎝                                      V          ⎠         \n",
       "───────────────────────────────────────────────────────────────────── - ──────\n",
       "                                400                                           \n",
       "\n",
       "                  ⎛                              11⋅s⋅q₁̇             ⎞       \n",
       "                  ⎜                            - ─────── + cos(q₁)⋅q₀̇⎟       \n",
       "             ⎜                                 20               ⎟            2\n",
       "a₅⋅cᵣₒₒₜ⋅ρ⋅s⋅⎜αᵣ + atan(sin(Λ)⋅sin(q₁)) - ──────────────────────⎟⋅cos(q₁)   V \n",
       "             ⎝                                      V           ⎠             \n",
       "───────────────────────────────────────────────────────────────────────── + ──\n",
       "                                  20                                          \n",
       "                                                                              \n",
       "                   ⎛                              11⋅s⋅q₁̇             ⎞      \n",
       "                   ⎜                            - ─────── + cos(q₁)⋅q₀̇⎟      \n",
       "            2 ⎜                                 20               ⎟       2    \n",
       "a₅⋅cᵣₒₒₜ⋅ρ⋅s ⋅⎜αᵣ + atan(sin(Λ)⋅sin(q₁)) - ──────────────────────⎟   13⋅V ⋅a₆⋅\n",
       "              ⎝                                      V           ⎠            \n",
       "────────────────────────────────────────────────────────────────── - ─────────\n",
       "                            400                                               \n",
       "\n",
       "                    ⎛                              13⋅s⋅q₁̇             ⎞     \n",
       "                    ⎜                            - ─────── + cos(q₁)⋅q₀̇⎟     \n",
       "              ⎜                                 20               ⎟            \n",
       "⋅a₆⋅cᵣₒₒₜ⋅ρ⋅s⋅⎜αᵣ + atan(sin(Λ)⋅sin(q₁)) - ──────────────────────⎟⋅cos(q₁)   V\n",
       "              ⎝                                      V           ⎠            \n",
       "────────────────────────────────────────────────────────────────────────── + ─\n",
       "                                   20                                         \n",
       "                                                                              \n",
       "                 ⎛                              13⋅s⋅q₁̇             ⎞        \n",
       "                 ⎜                            - ─────── + cos(q₁)⋅q₀̇⎟        \n",
       "         2 ⎜                                 20               ⎟      2        \n",
       "cᵣₒₒₜ⋅ρ⋅s ⋅⎜αᵣ + atan(sin(Λ)⋅sin(q₁)) - ──────────────────────⎟   3⋅V ⋅a₇⋅cᵣₒₒ\n",
       "           ⎝                                      V           ⎠               \n",
       "─────────────────────────────────────────────────────────────── - ────────────\n",
       "                         400                                                  \n",
       "\n",
       "                      ⎛                              3⋅s⋅q₁̇             ⎞    \n",
       "                      ⎜                            - ────── + cos(q₁)⋅q₀̇⎟    \n",
       "2              ⎜                                4                ⎟            \n",
       " ⋅a₇⋅cᵣₒₒₜ⋅ρ⋅s⋅⎜αᵣ + atan(sin(Λ)⋅sin(q₁)) - ─────────────────────⎟⋅cos(q₁)   V\n",
       "               ⎝                                      V          ⎠            \n",
       "────────────────────────────────────────────────────────────────────────── + ─\n",
       "                                    20                                        \n",
       "                                                                              \n",
       "              ⎛                              3⋅s⋅q₁̇             ⎞            \n",
       "              ⎜                            - ────── + cos(q₁)⋅q₀̇⎟            \n",
       "     2 ⎜                                4                ⎟       2            \n",
       "ₜ⋅ρ⋅s ⋅⎜αᵣ + atan(sin(Λ)⋅sin(q₁)) - ─────────────────────⎟   17⋅V ⋅a₈⋅cᵣₒₒₜ⋅ρ⋅\n",
       "       ⎝                                      V          ⎠                    \n",
       "────────────────────────────────────────────────────────── - ─────────────────\n",
       "                      80                                                      \n",
       "\n",
       "                       ⎛                              17⋅s⋅q₁̇             ⎞  \n",
       "                       ⎜                            - ─────── + cos(q₁)⋅q₀̇⎟  \n",
       "2              ⎜                                 20               ⎟           \n",
       " ⋅a₈⋅cᵣₒₒₜ⋅ρ⋅s⋅⎜αᵣ + atan(sin(Λ)⋅sin(q₁)) - ──────────────────────⎟⋅cos(q₁)   \n",
       "               ⎝                                      V           ⎠           \n",
       "─────────────────────────────────────────────────────────────────────────── + \n",
       "                                    20                                        \n",
       "                                                                              \n",
       "           ⎛                              17⋅s⋅q₁̇             ⎞              \n",
       "           ⎜                            - ─────── + cos(q₁)⋅q₀̇⎟              \n",
       " 2 ⎜                                 20               ⎟       2             2 \n",
       "s ⋅⎜αᵣ + atan(sin(Λ)⋅sin(q₁)) - ──────────────────────⎟   19⋅V ⋅a₉⋅cᵣₒₒₜ⋅ρ⋅s ⋅\n",
       "   ⎝                                      V           ⎠                       \n",
       "─────────────────────────────────────────────────────── - ────────────────────\n",
       "                 400                                                          \n",
       "\n",
       "                         ⎛                              19⋅s⋅q₁̇             ⎞\n",
       "                         ⎜                            - ─────── + cos(q₁)⋅q₀̇⎟\n",
       " 2              ⎜                                 20               ⎟        ⎥\n",
       "V ⋅a₉⋅cᵣₒₒₜ⋅ρ⋅s⋅⎜αᵣ + atan(sin(Λ)⋅sin(q₁)) - ──────────────────────⎟⋅cos(q₁)⎥\n",
       "                ⎝                                      V           ⎠        ⎥\n",
       "────────────────────────────────────────────────────────────────────────────⎥\n",
       "                                     20                                     ⎥\n",
       "                                                                            ⎥\n",
       "         ⎛                              19⋅s⋅q₁̇             ⎞                \n",
       "         ⎜                            - ─────── + cos(q₁)⋅q₀̇⎟                \n",
       "⎜                                 20               ⎟                        ⎥\n",
       "⎜αᵣ + atan(sin(Λ)⋅sin(q₁)) - ──────────────────────⎟                        ⎥\n",
       "⎝                                      V           ⎠                        ⎥\n",
       "────────────────────────────────────────────────────                        ⎥\n",
       "              400                                                           ⎦"
      ]
     },
     "execution_count": 396,
     "metadata": {},
     "output_type": "execute_result"
    }
   ],
   "source": [
    "sm.ExtForces.Q()"
   ]
  },
  {
   "cell_type": "code",
   "execution_count": 397,
   "metadata": {},
   "outputs": [
    {
     "data": {
      "text/latex": [
       "$\\displaystyle \\left[\\begin{matrix}g m + g m_{w} + k_{w} q_{0} + l_{com} m \\sin{\\left(q_{1} \\right)} \\dot{q}_{1}^{2}\\\\- g l_{com} m \\cos{\\left(q_{1} \\right)}\\end{matrix}\\right]$"
      ],
      "text/plain": [
       "⎡                                         2⎤\n",
       "⎢g⋅m + g⋅m_w + k_w⋅q₀ + l_com⋅m⋅sin(q₁)⋅q₁̇ ⎥\n",
       "⎢                                          ⎥\n",
       "⎣            -g⋅l_com⋅m⋅cos(q₁)            ⎦"
      ]
     },
     "execution_count": 397,
     "metadata": {},
     "output_type": "execute_result"
    }
   ],
   "source": [
    "sm.f"
   ]
  },
  {
   "cell_type": "code",
   "execution_count": 398,
   "metadata": {},
   "outputs": [],
   "source": [
    "flutdf = pd.DataFrame()\n",
    "\n",
    "\n",
    "angles = [-30,-15,0,15,30]\n",
    "\n",
    "ls = []\n",
    "#for ang in angles:\n",
    "dat = pd.read_pickle(f'Test_FWT_free.pkl')\n",
    "ls.append(dat)\n",
    "    \n",
    "flutdf = pd.concat(ls, ignore_index=True, sort=False)\n",
    "\n",
    "flutdf = flutdf.reset_index(drop=True)\n",
    "flutdf['Damping [%]'] = flutdf['Damping']*-100\n",
    "flutdf['Coast Angle [Deg]'] = np.rad2deg([i[-1] for i in flutdf['q']])\n",
    "flutdf['Flare Angle [Deg]'] = pd.Categorical(np.rad2deg(flutdf['Lambda']))\n",
    "flutdf['AoA [Deg]'] = pd.Categorical(np.rad2deg(flutdf['alpha_r']))\n",
    "flutdf['Mode'] = pd.Categorical(flutdf['Mode'])\n",
    "flutdf['Stable'] = pd.Categorical(flutdf['Stable'])"
   ]
  },
  {
   "cell_type": "code",
   "execution_count": 399,
   "metadata": {},
   "outputs": [],
   "source": [
    "filter_dict = {'Flare Angle [Deg]':[10],'Mode':[0,1],'Stable':None}\n",
    "\n",
    "data = cpo.GetReducedDataSet(flutdf,filter_dict)"
   ]
  },
  {
   "cell_type": "code",
   "execution_count": 400,
   "metadata": {},
   "outputs": [
    {
     "data": {
      "text/html": [
       "<div>\n",
       "<style scoped>\n",
       "    .dataframe tbody tr th:only-of-type {\n",
       "        vertical-align: middle;\n",
       "    }\n",
       "\n",
       "    .dataframe tbody tr th {\n",
       "        vertical-align: top;\n",
       "    }\n",
       "\n",
       "    .dataframe thead th {\n",
       "        text-align: right;\n",
       "    }\n",
       "</style>\n",
       "<table border=\"1\" class=\"dataframe\">\n",
       "  <thead>\n",
       "    <tr style=\"text-align: right;\">\n",
       "      <th></th>\n",
       "      <th>Real</th>\n",
       "      <th>Imag</th>\n",
       "      <th>Frequency</th>\n",
       "      <th>Damping</th>\n",
       "      <th>Stable</th>\n",
       "      <th>Eigen Vector</th>\n",
       "      <th>Mode</th>\n",
       "      <th>Lambda</th>\n",
       "      <th>V</th>\n",
       "      <th>alpha_r</th>\n",
       "      <th>q</th>\n",
       "      <th>Damping [%]</th>\n",
       "      <th>Coast Angle [Deg]</th>\n",
       "      <th>Flare Angle [Deg]</th>\n",
       "      <th>AoA [Deg]</th>\n",
       "    </tr>\n",
       "  </thead>\n",
       "  <tbody>\n",
       "    <tr>\n",
       "      <th>0</th>\n",
       "      <td>0.000000e+00</td>\n",
       "      <td>7.769764</td>\n",
       "      <td>1.236596</td>\n",
       "      <td>6.123234e-17</td>\n",
       "      <td>True</td>\n",
       "      <td>[1.3874824369796132e-19j, -0.1276511289785803j...</td>\n",
       "      <td>0</td>\n",
       "      <td>0.174533</td>\n",
       "      <td>0.000000</td>\n",
       "      <td>0.043633</td>\n",
       "      <td>[-0.04793406691412676, 1.5707963267948966]</td>\n",
       "      <td>-6.123234e-15</td>\n",
       "      <td>90.000000</td>\n",
       "      <td>10.0</td>\n",
       "      <td>2.5</td>\n",
       "    </tr>\n",
       "    <tr>\n",
       "      <th>1</th>\n",
       "      <td>0.000000e+00</td>\n",
       "      <td>14.305807</td>\n",
       "      <td>2.276840</td>\n",
       "      <td>6.123234e-17</td>\n",
       "      <td>True</td>\n",
       "      <td>[0.06973152840171891j, 0j, (-0.997565794294672...</td>\n",
       "      <td>1</td>\n",
       "      <td>0.174533</td>\n",
       "      <td>0.000000</td>\n",
       "      <td>0.043633</td>\n",
       "      <td>[-0.04793406691412676, 1.5707963267948966]</td>\n",
       "      <td>-6.123234e-15</td>\n",
       "      <td>90.000000</td>\n",
       "      <td>10.0</td>\n",
       "      <td>2.5</td>\n",
       "    </tr>\n",
       "    <tr>\n",
       "      <th>2</th>\n",
       "      <td>-2.863276e-02</td>\n",
       "      <td>7.769711</td>\n",
       "      <td>1.236596</td>\n",
       "      <td>-3.685152e-03</td>\n",
       "      <td>True</td>\n",
       "      <td>[(1.6026870095732971e-09+3.3620535382303144e-0...</td>\n",
       "      <td>0</td>\n",
       "      <td>0.174533</td>\n",
       "      <td>0.506329</td>\n",
       "      <td>0.043633</td>\n",
       "      <td>[-0.04793406024060602, 1.5701853643726633]</td>\n",
       "      <td>3.685152e-01</td>\n",
       "      <td>89.964994</td>\n",
       "      <td>10.0</td>\n",
       "      <td>2.5</td>\n",
       "    </tr>\n",
       "    <tr>\n",
       "      <th>3</th>\n",
       "      <td>-2.612214e-09</td>\n",
       "      <td>14.305809</td>\n",
       "      <td>2.276840</td>\n",
       "      <td>-1.825981e-10</td>\n",
       "      <td>True</td>\n",
       "      <td>[(-1.1793184164239458e-09+0.0697305300674967j)...</td>\n",
       "      <td>1</td>\n",
       "      <td>0.174533</td>\n",
       "      <td>0.506329</td>\n",
       "      <td>0.043633</td>\n",
       "      <td>[-0.04793406024060602, 1.5701853643726633]</td>\n",
       "      <td>1.825981e-08</td>\n",
       "      <td>89.964994</td>\n",
       "      <td>10.0</td>\n",
       "      <td>2.5</td>\n",
       "    </tr>\n",
       "    <tr>\n",
       "      <th>4</th>\n",
       "      <td>-5.726549e-02</td>\n",
       "      <td>7.769553</td>\n",
       "      <td>1.236596</td>\n",
       "      <td>-7.370299e-03</td>\n",
       "      <td>True</td>\n",
       "      <td>[(1.2788740520305429e-08+1.3447455281513572e-0...</td>\n",
       "      <td>0</td>\n",
       "      <td>0.174533</td>\n",
       "      <td>1.012658</td>\n",
       "      <td>0.043633</td>\n",
       "      <td>[-0.047933960138262476, 1.56835248017535]</td>\n",
       "      <td>7.370299e-01</td>\n",
       "      <td>89.859978</td>\n",
       "      <td>10.0</td>\n",
       "      <td>2.5</td>\n",
       "    </tr>\n",
       "    <tr>\n",
       "      <th>...</th>\n",
       "      <td>...</td>\n",
       "      <td>...</td>\n",
       "      <td>...</td>\n",
       "      <td>...</td>\n",
       "      <td>...</td>\n",
       "      <td>...</td>\n",
       "      <td>...</td>\n",
       "      <td>...</td>\n",
       "      <td>...</td>\n",
       "      <td>...</td>\n",
       "      <td>...</td>\n",
       "      <td>...</td>\n",
       "      <td>...</td>\n",
       "      <td>...</td>\n",
       "      <td>...</td>\n",
       "    </tr>\n",
       "    <tr>\n",
       "      <th>635</th>\n",
       "      <td>-2.433422e-02</td>\n",
       "      <td>14.287857</td>\n",
       "      <td>2.273986</td>\n",
       "      <td>-1.703137e-03</td>\n",
       "      <td>True</td>\n",
       "      <td>[(-0.001689982118276106-0.014428084240752233j)...</td>\n",
       "      <td>1</td>\n",
       "      <td>0.174533</td>\n",
       "      <td>38.987342</td>\n",
       "      <td>0.174533</td>\n",
       "      <td>[-0.041751772641303746, -0.9421546164557674]</td>\n",
       "      <td>1.703137e-01</td>\n",
       "      <td>-53.981483</td>\n",
       "      <td>10.0</td>\n",
       "      <td>10.0</td>\n",
       "    </tr>\n",
       "    <tr>\n",
       "      <th>636</th>\n",
       "      <td>-2.304558e+00</td>\n",
       "      <td>7.214526</td>\n",
       "      <td>1.205386</td>\n",
       "      <td>-3.042858e-01</td>\n",
       "      <td>True</td>\n",
       "      <td>[(0.0003146754058035002-0.0031687375193199603j...</td>\n",
       "      <td>0</td>\n",
       "      <td>0.174533</td>\n",
       "      <td>39.493671</td>\n",
       "      <td>0.174533</td>\n",
       "      <td>[-0.04204321492921939, -0.9593911148350961]</td>\n",
       "      <td>3.042858e+01</td>\n",
       "      <td>-54.969062</td>\n",
       "      <td>10.0</td>\n",
       "      <td>10.0</td>\n",
       "    </tr>\n",
       "    <tr>\n",
       "      <th>637</th>\n",
       "      <td>-2.382429e-02</td>\n",
       "      <td>14.284736</td>\n",
       "      <td>2.273489</td>\n",
       "      <td>-1.667812e-03</td>\n",
       "      <td>True</td>\n",
       "      <td>[(-0.001742682172814958-0.014816545989492743j)...</td>\n",
       "      <td>1</td>\n",
       "      <td>0.174533</td>\n",
       "      <td>39.493671</td>\n",
       "      <td>0.174533</td>\n",
       "      <td>[-0.04204321492921939, -0.9593911148350961]</td>\n",
       "      <td>1.667812e-01</td>\n",
       "      <td>-54.969062</td>\n",
       "      <td>10.0</td>\n",
       "      <td>10.0</td>\n",
       "    </tr>\n",
       "    <tr>\n",
       "      <th>638</th>\n",
       "      <td>-2.329830e+00</td>\n",
       "      <td>7.151295</td>\n",
       "      <td>1.197043</td>\n",
       "      <td>-3.097665e-01</td>\n",
       "      <td>True</td>\n",
       "      <td>[(0.00028938583915424075-0.0031278628986177036...</td>\n",
       "      <td>0</td>\n",
       "      <td>0.174533</td>\n",
       "      <td>40.000000</td>\n",
       "      <td>0.174533</td>\n",
       "      <td>[-0.04232325379568561, -0.9761585739996986]</td>\n",
       "      <td>3.097665e+01</td>\n",
       "      <td>-55.929766</td>\n",
       "      <td>10.0</td>\n",
       "      <td>10.0</td>\n",
       "    </tr>\n",
       "    <tr>\n",
       "      <th>639</th>\n",
       "      <td>-2.342044e-02</td>\n",
       "      <td>14.282494</td>\n",
       "      <td>2.273133</td>\n",
       "      <td>-1.639798e-03</td>\n",
       "      <td>True</td>\n",
       "      <td>[(-0.0017961803571367233-0.015218627380075667j...</td>\n",
       "      <td>1</td>\n",
       "      <td>0.174533</td>\n",
       "      <td>40.000000</td>\n",
       "      <td>0.174533</td>\n",
       "      <td>[-0.04232325379568561, -0.9761585739996986]</td>\n",
       "      <td>1.639798e-01</td>\n",
       "      <td>-55.929766</td>\n",
       "      <td>10.0</td>\n",
       "      <td>10.0</td>\n",
       "    </tr>\n",
       "  </tbody>\n",
       "</table>\n",
       "<p>640 rows × 15 columns</p>\n",
       "</div>"
      ],
      "text/plain": [
       "             Real       Imag  Frequency       Damping Stable  \\\n",
       "0    0.000000e+00   7.769764   1.236596  6.123234e-17   True   \n",
       "1    0.000000e+00  14.305807   2.276840  6.123234e-17   True   \n",
       "2   -2.863276e-02   7.769711   1.236596 -3.685152e-03   True   \n",
       "3   -2.612214e-09  14.305809   2.276840 -1.825981e-10   True   \n",
       "4   -5.726549e-02   7.769553   1.236596 -7.370299e-03   True   \n",
       "..            ...        ...        ...           ...    ...   \n",
       "635 -2.433422e-02  14.287857   2.273986 -1.703137e-03   True   \n",
       "636 -2.304558e+00   7.214526   1.205386 -3.042858e-01   True   \n",
       "637 -2.382429e-02  14.284736   2.273489 -1.667812e-03   True   \n",
       "638 -2.329830e+00   7.151295   1.197043 -3.097665e-01   True   \n",
       "639 -2.342044e-02  14.282494   2.273133 -1.639798e-03   True   \n",
       "\n",
       "                                          Eigen Vector Mode    Lambda  \\\n",
       "0    [1.3874824369796132e-19j, -0.1276511289785803j...    0  0.174533   \n",
       "1    [0.06973152840171891j, 0j, (-0.997565794294672...    1  0.174533   \n",
       "2    [(1.6026870095732971e-09+3.3620535382303144e-0...    0  0.174533   \n",
       "3    [(-1.1793184164239458e-09+0.0697305300674967j)...    1  0.174533   \n",
       "4    [(1.2788740520305429e-08+1.3447455281513572e-0...    0  0.174533   \n",
       "..                                                 ...  ...       ...   \n",
       "635  [(-0.001689982118276106-0.014428084240752233j)...    1  0.174533   \n",
       "636  [(0.0003146754058035002-0.0031687375193199603j...    0  0.174533   \n",
       "637  [(-0.001742682172814958-0.014816545989492743j)...    1  0.174533   \n",
       "638  [(0.00028938583915424075-0.0031278628986177036...    0  0.174533   \n",
       "639  [(-0.0017961803571367233-0.015218627380075667j...    1  0.174533   \n",
       "\n",
       "             V   alpha_r                                             q  \\\n",
       "0     0.000000  0.043633    [-0.04793406691412676, 1.5707963267948966]   \n",
       "1     0.000000  0.043633    [-0.04793406691412676, 1.5707963267948966]   \n",
       "2     0.506329  0.043633    [-0.04793406024060602, 1.5701853643726633]   \n",
       "3     0.506329  0.043633    [-0.04793406024060602, 1.5701853643726633]   \n",
       "4     1.012658  0.043633     [-0.047933960138262476, 1.56835248017535]   \n",
       "..         ...       ...                                           ...   \n",
       "635  38.987342  0.174533  [-0.041751772641303746, -0.9421546164557674]   \n",
       "636  39.493671  0.174533   [-0.04204321492921939, -0.9593911148350961]   \n",
       "637  39.493671  0.174533   [-0.04204321492921939, -0.9593911148350961]   \n",
       "638  40.000000  0.174533   [-0.04232325379568561, -0.9761585739996986]   \n",
       "639  40.000000  0.174533   [-0.04232325379568561, -0.9761585739996986]   \n",
       "\n",
       "      Damping [%]  Coast Angle [Deg] Flare Angle [Deg] AoA [Deg]  \n",
       "0   -6.123234e-15          90.000000              10.0       2.5  \n",
       "1   -6.123234e-15          90.000000              10.0       2.5  \n",
       "2    3.685152e-01          89.964994              10.0       2.5  \n",
       "3    1.825981e-08          89.964994              10.0       2.5  \n",
       "4    7.370299e-01          89.859978              10.0       2.5  \n",
       "..            ...                ...               ...       ...  \n",
       "635  1.703137e-01         -53.981483              10.0      10.0  \n",
       "636  3.042858e+01         -54.969062              10.0      10.0  \n",
       "637  1.667812e-01         -54.969062              10.0      10.0  \n",
       "638  3.097665e+01         -55.929766              10.0      10.0  \n",
       "639  1.639798e-01         -55.929766              10.0      10.0  \n",
       "\n",
       "[640 rows x 15 columns]"
      ]
     },
     "execution_count": 400,
     "metadata": {},
     "output_type": "execute_result"
    }
   ],
   "source": [
    "data"
   ]
  },
  {
   "cell_type": "code",
   "execution_count": 401,
   "metadata": {},
   "outputs": [
    {
     "data": {
      "image/png": "[encoded data removed]",
      "text/plain": [
       "<Figure size 432x864 with 3 Axes>"
      ]
     },
     "metadata": {
      "needs_background": "light"
     },
     "output_type": "display_data"
    }
   ],
   "source": [
    "fig, axes = plt.subplots(3,1,figsize=(6,12))  \n",
    "cpo.FlutterPlot(data,x = 'V',style=None, Modes = 'Mode',hue = 'AoA [Deg]',y = 'Frequency',ax = axes[0],legend=True)\n",
    "cpo.FlutterPlot(data,x = 'V',style=None, Modes = 'Mode',hue = 'AoA [Deg]',y = 'Damping',ax = axes[1],legend=False)"
   ]
  },
  {
   "cell_type": "code",
   "execution_count": null,
   "metadata": {},
   "outputs": [],
   "source": []
  },
  {
   "cell_type": "code",
   "execution_count": null,
   "metadata": {},
   "outputs": [],
   "source": []
  }
 ],
 "metadata": {
  "kernelspec": {
   "display_name": "Python 3",
   "language": "python",
   "name": "python3"
  },
  "language_info": {
   "codemirror_mode": {
    "name": "ipython",
    "version": 3
   },
   "file_extension": ".py",
   "mimetype": "text/x-python",
   "name": "python",
   "nbconvert_exporter": "python",
   "pygments_lexer": "ipython3",
   "version": "3.7.7"
  }
 },
 "nbformat": 4,
 "nbformat_minor": 4
}
