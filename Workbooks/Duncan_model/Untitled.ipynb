{
 "cells": [
  {
   "cell_type": "code",
   "execution_count": 1,
   "id": "3cbfa1c2-e300-4b37-b9d4-a26337292456",
   "metadata": {},
   "outputs": [],
   "source": [
    "import sympy as sym\n",
    "import sympy.physics.mechanics as me\n",
    "from sympy.abc import t\n",
    "import moyra as ma\n",
    "me.mechanics_printing()"
   ]
  },
  {
   "cell_type": "code",
   "execution_count": 2,
   "id": "9a27ad4e-5984-4412-8097-81367c47dc1a",
   "metadata": {},
   "outputs": [],
   "source": [
    "DoFs = 3\n",
    "\n",
    "# heave and fold angle as degrres of freedom\n",
    "p = ma.DynamicModelParameters(DoFs)\n",
    "p.DoFs  = ma.ModelSymbol(value = DoFs,string = 'DoFs')\n",
    "#gravity vector\n",
    "p.g  = ma.ModelSymbol(value = 9.81,string = 'g')                     # gravity\n",
    "p.g_v = ma.ModelMatrix(value =[0,0,-1],length=3,string='g_v') # The stationary point"
   ]
  },
  {
   "cell_type": "code",
   "execution_count": 3,
   "id": "2ebae314-e55e-41b4-beee-483f3fb6b5e3",
   "metadata": {},
   "outputs": [],
   "source": [
    "# inner wing properites\n",
    "p.l_ac = ma.ModelSymbol(value = 0.3,string = 'l_ac')\n",
    "p.l_htp = ma.ModelSymbol(value = 0.3,string = 'l_htp')\n",
    "p.H = ma.ModelMatrix(value = [1]*3,length=3,string='H')\n",
    "p.P = ma.ModelMatrix(value = [1]*3,length=3,string='P')\n",
    "p.Lambda = ma.ModelSymbol(value = 0.3,string = 'Lambda')\n",
    "p.m_ac = ma.ModelSymbol(value = 0.3,string = 'm_ac')\n",
    "p.m_wt = ma.ModelSymbol(value = 0.3,string = 'm_wt')\n",
    "\n",
    "p.I_xxwt = ma.ModelSymbol(value = 0.3,string = 'I_xxwt')\n",
    "# p.I_xx = ma.ModelSymbol(value = 0.3,string = 'I_{xx}')\n",
    "p.I_yy = ma.ModelSymbol(value = 0.3,string = 'I_yy')\n",
    "\n",
    "p.y_0,p.x_0,p.z_0,p.F_z,p.M_y = sym.symbols('y_0,x_0,z_0,F_z,M_y')"
   ]
  },
  {
   "cell_type": "code",
   "execution_count": 4,
   "id": "865d2c20-3549-4582-9116-327f127f59e9",
   "metadata": {},
   "outputs": [],
   "source": [
    "ac_frame = ma.frames.HomogenousFrame().R_y(p.q[2]).Translate(0,0,p.q[1])\n",
    "wing_aero_frame = ac_frame.Translate(p.x_0,p.y_0,p.z_0)\n",
    "\n",
    "# starboard_hinge_frame = ac_frame.Translate(*p.H)\n",
    "# starboard_wt_frame = starboard_hinge_frame.R_x(p.q[4]).Translate(p.x_0,p.y_0,p.z_0)\n",
    "# starboard_wt_com_frame = starboard_hinge_frame.R_x(p.q[4]).Translate(*p.P)\n",
    "\n",
    "# port_hinge_frame = ac_frame.Translate(p.H[0],-p.H[1],p.H[2])\n",
    "# port_wt_frame = port_hinge_frame.R_x(p.q[3]).Translate(p.x_0,p.y_0,p.z_0)\n",
    "# port_wt_com_frame = port_hinge_frame.R_x(p.q[3]).Translate(p.P[0],-p.P[1],p.P[2])\n",
    "\n",
    "starboard_hinge_frame = ac_frame.Translate(*p.H)\n",
    "starboard_wt_frame = starboard_hinge_frame.R_z(p.Lambda).R_x(p.q[0]).R_z(-p.Lambda).Translate(p.x_0,p.y_0,p.z_0)\n",
    "starboard_wt_com_frame = starboard_hinge_frame.R_z(p.Lambda).R_x(p.q[0]).R_z(-p.Lambda).Translate(*p.P)\n",
    "\n",
    "port_hinge_frame = ac_frame.Translate(p.H[0],-p.H[1],p.H[2])\n",
    "port_wt_frame = port_hinge_frame.R_x(0).Translate(p.x_0,p.y_0,p.z_0)\n",
    "port_wt_com_frame = port_hinge_frame.R_x(0).Translate(p.P[0],-p.P[1],p.P[2])"
   ]
  },
  {
   "cell_type": "code",
   "execution_count": 5,
   "id": "d42c5863-92ab-491e-a374-06a5df7a8054",
   "metadata": {},
   "outputs": [
    {
     "data": {
      "image/png": "[encoded data removed]",
      "text/latex": [
       "$\\displaystyle \\left[\\begin{matrix}q_{1} \\sin{\\left(q_{2} \\right)}\\\\0\\\\q_{1} \\cos{\\left(q_{2} \\right)}\\end{matrix}\\right]$"
      ],
      "text/plain": [
       "⎡q₁⋅sin(q₂)⎤\n",
       "⎢          ⎥\n",
       "⎢    0     ⎥\n",
       "⎢          ⎥\n",
       "⎣q₁⋅cos(q₂)⎦"
      ]
     },
     "execution_count": 5,
     "metadata": {},
     "output_type": "execute_result"
    }
   ],
   "source": [
    "ac_frame.transform_point([0,0,0])"
   ]
  },
  {
   "cell_type": "code",
   "execution_count": 6,
   "id": "a5088f68-8960-462d-bb57-f67c140925ee",
   "metadata": {},
   "outputs": [],
   "source": [
    "M = ma.elements.MassMatrix(p.m_wt,0,0,0,0,0,0)\n",
    "port_fwt_ele = ma.elements.RigidElement(p.q,port_wt_com_frame,M,grav_vec =  p.g*p.g_v)\n",
    "starboard_fwt_ele = ma.elements.RigidElement(p.q,starboard_wt_com_frame,M,grav_vec =  p.g*p.g_v,simplify = False)\n",
    "\n",
    "M = ma.elements.MassMatrix(p.m_ac,0,p.I_yy,0,0,0,0)\n",
    "ac_ele = ma.elements.RigidElement(p.q,ac_frame,M,grav_vec = p.g*p.g_v)"
   ]
  },
  {
   "cell_type": "code",
   "execution_count": 7,
   "id": "88d58017-520d-4bff-a9d7-a766b22414ad",
   "metadata": {},
   "outputs": [
    {
     "data": {
      "text/plain": [
       "False"
      ]
     },
     "execution_count": 7,
     "metadata": {},
     "output_type": "execute_result"
    }
   ],
   "source": [
    "starboard_fwt_ele.simplify"
   ]
  },
  {
   "cell_type": "code",
   "execution_count": 8,
   "id": "9796ba77-02ab-4fbd-8c91-a56fe0f4ef4e",
   "metadata": {},
   "outputs": [
    {
     "data": {
      "image/png": "[encoded data removed]",
      "text/latex": [
       "$\\displaystyle \\frac{H_{0}^{2} m_{wt} \\dot{q}_{2}^{2}}{2} + H_{0} P_{0} m_{wt} \\dot{q}_{2}^{2} - H_{0} m_{wt} \\dot{q}_{1} \\dot{q}_{2} + \\frac{H_{2}^{2} m_{wt} \\dot{q}_{2}^{2}}{2} + H_{2} P_{2} m_{wt} \\dot{q}_{2}^{2} + H_{2} m_{wt} q_{1} \\dot{q}_{2}^{2} + \\frac{P_{0}^{2} m_{wt} \\dot{q}_{2}^{2}}{2} - P_{0} m_{wt} \\dot{q}_{1} \\dot{q}_{2} + \\frac{P_{2}^{2} m_{wt} \\dot{q}_{2}^{2}}{2} + P_{2} m_{wt} q_{1} \\dot{q}_{2}^{2} + \\frac{m_{wt} q_{1}^{2} \\dot{q}_{2}^{2}}{2} + \\frac{m_{wt} \\dot{q}_{1}^{2}}{2}$"
      ],
      "text/plain": [
       "  2        2                                      2        2                  \n",
       "H₀ ⋅m_wt⋅q₂̇                 2                   H₂ ⋅m_wt⋅q₂̇                 \n",
       "──────────── + H₀⋅P₀⋅m_wt⋅q₂̇  - H₀⋅m_wt⋅q₁̇⋅q₂̇ + ──────────── + H₂⋅P₂⋅m_wt⋅q\n",
       "     2                                               2                        \n",
       "\n",
       "                     2        2                     2        2                \n",
       "2                2   P₀ ⋅m_wt⋅q₂̇                    P₂ ⋅m_wt⋅q₂̇             \n",
       "₂̇  + H₂⋅m_wt⋅q₁⋅q₂̇  + ──────────── - P₀⋅m_wt⋅q₁̇⋅q₂̇ + ──────────── + P₂⋅m_w\n",
       "                        2                              2                      \n",
       "\n",
       "           2   2          2\n",
       "    2   m_wt⋅q₁ ⋅q₂̇    m_wt⋅q₁̇ \n",
       "t⋅q₁⋅q₂̇  + ──────────── + ────────\n",
       "         2            2    "
      ]
     },
     "execution_count": 8,
     "metadata": {},
     "output_type": "execute_result"
    }
   ],
   "source": [
    "port_fwt_ele.ke"
   ]
  },
  {
   "cell_type": "code",
   "execution_count": 9,
   "id": "9efdad60-c559-479f-b087-6518e8331283",
   "metadata": {},
   "outputs": [
    {
     "data": {
      "image/png": "[encoded data removed]",
      "text/latex": [
       "$\\displaystyle \\left[\\begin{matrix}m_{wt} & 0 & 0 & 0 & 0 & 0\\\\0 & m_{wt} & 0 & 0 & 0 & 0\\\\0 & 0 & m_{wt} & 0 & 0 & 0\\\\0 & 0 & 0 & 0 & 0 & 0\\\\0 & 0 & 0 & 0 & 0 & 0\\\\0 & 0 & 0 & 0 & 0 & 0\\end{matrix}\\right]$"
      ],
      "text/plain": [
       "⎡m_wt   0     0    0  0  0⎤\n",
       "⎢                         ⎥\n",
       "⎢ 0    m_wt   0    0  0  0⎥\n",
       "⎢                         ⎥\n",
       "⎢ 0     0    m_wt  0  0  0⎥\n",
       "⎢                         ⎥\n",
       "⎢ 0     0     0    0  0  0⎥\n",
       "⎢                         ⎥\n",
       "⎢ 0     0     0    0  0  0⎥\n",
       "⎢                         ⎥\n",
       "⎣ 0     0     0    0  0  0⎦"
      ]
     },
     "execution_count": 9,
     "metadata": {},
     "output_type": "execute_result"
    }
   ],
   "source": [
    "starboard_fwt_ele.M_e"
   ]
  },
  {
   "cell_type": "code",
   "execution_count": 10,
   "id": "d8935ff6-a044-4fd8-8432-54a5cd5515dd",
   "metadata": {},
   "outputs": [],
   "source": [
    "tt = starboard_wt_com_frame.InvAdjoint()*starboard_wt_com_frame.ManipJacobian(p.q)\n",
    "M = tt.T*starboard_fwt_ele.M_e*tt\n",
    "ke = sym.Rational(1,2)*p.qd.T*M*p.qd"
   ]
  },
  {
   "cell_type": "code",
   "execution_count": 11,
   "id": "1a9c5ed2-ed55-43cf-a8ee-3752a37df942",
   "metadata": {},
   "outputs": [],
   "source": [
    "M = starboard_fwt_ele.M"
   ]
  },
  {
   "cell_type": "code",
   "execution_count": 12,
   "id": "d36ca589-12fe-4b50-a013-0886d63c5420",
   "metadata": {},
   "outputs": [],
   "source": [
    "a = starboard_fwt_ele.ke"
   ]
  },
  {
   "cell_type": "code",
   "execution_count": 13,
   "id": "d428c24b-5cfb-497b-ae50-0540623f3456",
   "metadata": {},
   "outputs": [
    {
     "name": "stdout",
     "output_type": "stream",
     "text": [
      "Generating EoM for Element 1 out of 3 - default:RigidElement\n",
      "Generating EoM for Element 2 out of 3 - default:RigidElement\n",
      "Generating EoM for Element 3 out of 3 - default:RigidElement\n"
     ]
    }
   ],
   "source": [
    "sm = ma.SymbolicModel.FromElementsAndForces_2(p.q,[ac_ele,starboard_fwt_ele,port_fwt_ele])"
   ]
  },
  {
   "cell_type": "code",
   "execution_count": 14,
   "id": "0acdc9af-b972-4a5e-9dcd-23b3d3028398",
   "metadata": {},
   "outputs": [],
   "source": [
    "funcs = []\n",
    "# funcs.append(('get_main_wing_aero_force',sym.simplify(wing_aero_frame.BodyJacobian(p.q)).T*sym.Matrix([0,0,p.F_z,0,p.M_y,0])))\n",
    "# funcs.append(('get_port_wt_aero_force',sym.simplify(port_wt_frame.BodyJacobian(p.q)).T*sym.Matrix([0,0,p.F_z,0,p.M_y,0])))\n",
    "# funcs.append(('get_starboard_wt_aero_force',sym.simplify(starboard_wt_frame.BodyJacobian(p.q)).T*sym.Matrix([0,0,p.F_z,0,p.M_y,0])))\n",
    "# funcs.append(('get_main_body_vel',sym.simplify(wing_aero_frame.transform_point([0,0,0]).diff(t))))\n",
    "# funcs.append(('get_port_wt_body_vel',sym.simplify(port_wt_frame.transform_point([0,0,0]).diff(t))))\n",
    "# funcs.append(('get_starboard_wt_body_vel',sym.simplify(starboard_wt_frame.transform_point([0,0,0]).diff(t))))"
   ]
  },
  {
   "cell_type": "code",
   "execution_count": 16,
   "id": "82bdcd7d-7f69-4cb5-ac78-79a35730c694",
   "metadata": {},
   "outputs": [],
   "source": [
    "%timeit -r 1 -n 1\n",
    "base_dir = \"C:\\\\Users\\\\qe19391\\\\OneDrive - University of Bristol\\\\Documents\\\\MATLAB\\\\Duncan_code_22022022\\\\Duncan_EOM\\\\Calculations\\\\FH_test\\\\\"\n",
    "class_name = \"DuncanModelBaseline\"\n",
    "base_class = \"\"\n",
    "sm.to_matlab_class(p,base_dir,class_name,base_class, additional_funcs=funcs, octave_user_functions=[])"
   ]
  },
  {
   "cell_type": "code",
   "execution_count": 4,
   "id": "6c40c683-250a-4360-8270-cc45027dcb4c",
   "metadata": {},
   "outputs": [],
   "source": [
    "theta = sym.symbols('theta')\n",
    "Lambda = sym.symbols('Lambda')\n",
    "K = sym.Matrix([sym.cos(Lambda),sym.sin(Lambda),0])"
   ]
  },
  {
   "cell_type": "code",
   "execution_count": 8,
   "id": "2cf87371-44f0-441d-98d5-ed3aa3a1d17c",
   "metadata": {},
   "outputs": [
    {
     "data": {
      "image/png": "[encoded data removed]",
      "text/latex": [
       "$\\displaystyle \\left[\\begin{matrix}- \\left(1 - \\cos{\\left(\\theta \\right)}\\right) \\sin^{2}{\\left(\\Lambda \\right)} + 1 & \\left(1 - \\cos{\\left(\\theta \\right)}\\right) \\sin{\\left(\\Lambda \\right)} \\cos{\\left(\\Lambda \\right)} & \\sin{\\left(\\Lambda \\right)} \\sin{\\left(\\theta \\right)}\\\\\\left(1 - \\cos{\\left(\\theta \\right)}\\right) \\sin{\\left(\\Lambda \\right)} \\cos{\\left(\\Lambda \\right)} & - \\left(1 - \\cos{\\left(\\theta \\right)}\\right) \\cos^{2}{\\left(\\Lambda \\right)} + 1 & - \\sin{\\left(\\theta \\right)} \\cos{\\left(\\Lambda \\right)}\\\\- \\sin{\\left(\\Lambda \\right)} \\sin{\\left(\\theta \\right)} & \\sin{\\left(\\theta \\right)} \\cos{\\left(\\Lambda \\right)} & \\left(1 - \\cos{\\left(\\theta \\right)}\\right) \\left(- \\sin^{2}{\\left(\\Lambda \\right)} - \\cos^{2}{\\left(\\Lambda \\right)}\\right) + 1\\end{matrix}\\right]$"
      ],
      "text/plain": [
       "⎡                  2                                                          \n",
       "⎢- (1 - cos(θ))⋅sin (Λ) + 1  (1 - cos(θ))⋅sin(Λ)⋅cos(Λ)              sin(Λ)⋅si\n",
       "⎢                                                                             \n",
       "⎢                                              2                              \n",
       "⎢(1 - cos(θ))⋅sin(Λ)⋅cos(Λ)  - (1 - cos(θ))⋅cos (Λ) + 1              -sin(θ)⋅c\n",
       "⎢                                                                             \n",
       "⎢                                                                     ⎛     2 \n",
       "⎣      -sin(Λ)⋅sin(θ)              sin(θ)⋅cos(Λ)         (1 - cos(θ))⋅⎝- sin (\n",
       "\n",
       "                 ⎤\n",
       "n(θ)             ⎥\n",
       "                 ⎥\n",
       "                 ⎥\n",
       "os(Λ)            ⎥\n",
       "                 ⎥\n",
       "        2   ⎞    ⎥\n",
       "Λ) - cos (Λ)⎠ + 1⎦"
      ]
     },
     "execution_count": 8,
     "metadata": {},
     "output_type": "execute_result"
    }
   ],
   "source": [
    "Rod = ma.frames.HomogenousFrame().R_rodriguez(K,theta).A\n",
    "Rod"
   ]
  },
  {
   "cell_type": "code",
   "execution_count": 9,
   "id": "1ad92dfd-79ac-479f-a3ac-75c570674073",
   "metadata": {},
   "outputs": [
    {
     "data": {
      "image/png": "[encoded data removed]",
      "text/latex": [
       "$\\displaystyle \\left[\\begin{matrix}\\sin^{2}{\\left(\\Lambda \\right)} \\cos{\\left(\\theta \\right)} + \\cos^{2}{\\left(\\Lambda \\right)} & - \\sin{\\left(\\Lambda \\right)} \\cos{\\left(\\Lambda \\right)} \\cos{\\left(\\theta \\right)} + \\sin{\\left(\\Lambda \\right)} \\cos{\\left(\\Lambda \\right)} & \\sin{\\left(\\Lambda \\right)} \\sin{\\left(\\theta \\right)}\\\\- \\sin{\\left(\\Lambda \\right)} \\cos{\\left(\\Lambda \\right)} \\cos{\\left(\\theta \\right)} + \\sin{\\left(\\Lambda \\right)} \\cos{\\left(\\Lambda \\right)} & \\sin^{2}{\\left(\\Lambda \\right)} + \\cos^{2}{\\left(\\Lambda \\right)} \\cos{\\left(\\theta \\right)} & - \\sin{\\left(\\theta \\right)} \\cos{\\left(\\Lambda \\right)}\\\\- \\sin{\\left(\\Lambda \\right)} \\sin{\\left(\\theta \\right)} & \\sin{\\left(\\theta \\right)} \\cos{\\left(\\Lambda \\right)} & \\cos{\\left(\\theta \\right)}\\end{matrix}\\right]$"
      ],
      "text/plain": [
       "⎡         2                2                                                  \n",
       "⎢      sin (Λ)⋅cos(θ) + cos (Λ)         -sin(Λ)⋅cos(Λ)⋅cos(θ) + sin(Λ)⋅cos(Λ) \n",
       "⎢                                                                             \n",
       "⎢                                                2         2                  \n",
       "⎢-sin(Λ)⋅cos(Λ)⋅cos(θ) + sin(Λ)⋅cos(Λ)        sin (Λ) + cos (Λ)⋅cos(θ)        \n",
       "⎢                                                                             \n",
       "⎣           -sin(Λ)⋅sin(θ)                          sin(θ)⋅cos(Λ)             \n",
       "\n",
       "               ⎤\n",
       " sin(Λ)⋅sin(θ) ⎥\n",
       "               ⎥\n",
       "               ⎥\n",
       " -sin(θ)⋅cos(Λ)⎥\n",
       "               ⎥\n",
       "     cos(θ)    ⎦"
      ]
     },
     "execution_count": 9,
     "metadata": {},
     "output_type": "execute_result"
    }
   ],
   "source": [
    "Rot = ma.frames.HomogenousFrame().R_z(Lambda).R_x(theta).R_z(-Lambda).A\n",
    "Rot"
   ]
  },
  {
   "cell_type": "code",
   "execution_count": 10,
   "id": "9c3386cc-3722-4642-bb55-910e43fcecb1",
   "metadata": {},
   "outputs": [
    {
     "data": {
      "image/png": "[encoded data removed]",
      "text/latex": [
       "$\\displaystyle \\left[\\begin{matrix}0 & 0 & 0\\\\0 & 0 & 0\\\\0 & 0 & 0\\end{matrix}\\right]$"
      ],
      "text/plain": [
       "⎡0  0  0⎤\n",
       "⎢       ⎥\n",
       "⎢0  0  0⎥\n",
       "⎢       ⎥\n",
       "⎣0  0  0⎦"
      ]
     },
     "execution_count": 10,
     "metadata": {},
     "output_type": "execute_result"
    }
   ],
   "source": [
    "sym.simplify(Rod-Rot)"
   ]
  },
  {
   "cell_type": "code",
   "execution_count": null,
   "id": "5498bbe2-e634-4bda-965f-54848d166e13",
   "metadata": {},
   "outputs": [],
   "source": []
  }
 ],
 "metadata": {
  "kernelspec": {
   "display_name": "Python [conda env:test_moyra_3_9]",
   "language": "python",
   "name": "conda-env-test_moyra_3_9-py"
  },
  "language_info": {
   "codemirror_mode": {
    "name": "ipython",
    "version": 3
   },
   "file_extension": ".py",
   "mimetype": "text/x-python",
   "name": "python",
   "nbconvert_exporter": "python",
   "pygments_lexer": "ipython3",
   "version": "3.9.4"
  }
 },
 "nbformat": 4,
 "nbformat_minor": 5
}
