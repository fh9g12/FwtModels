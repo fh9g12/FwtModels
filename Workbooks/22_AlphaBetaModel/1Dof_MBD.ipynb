{
 "cells": [
  {
   "cell_type": "code",
   "execution_count": 17,
   "id": "c9f0bd18-a135-4f5c-a24a-04060eae6780",
   "metadata": {},
   "outputs": [],
   "source": [
    "import sympy as sym\n",
    "from os import path\n",
    "import sympy.physics.mechanics as me\n",
    "from sympy.abc import t\n",
    "import moyra as ma\n",
    "me.mechanics_printing()"
   ]
  },
  {
   "cell_type": "code",
   "execution_count": 18,
   "id": "39dbd535-d6f2-40fb-95b2-7fa03ad0266e",
   "metadata": {},
   "outputs": [],
   "source": [
    "DoFs = 3\n",
    "# heave and fold angle as degrres of freedom\n",
    "p = ma.DynamicModelParameters(DoFs)\n",
    "p.DoFs  = ma.ModelSymbol(value = DoFs,string = 'DoFs')\n",
    "#gravity vector\n",
    "p.g  = ma.ModelSymbol(value = 9.81,string = 'g')                     # gravity\n",
    "p.g_v = ma.ModelMatrix(value =[0,0,-1],length=3,string='g_v') # The stationary point\n",
    "p.alpha = ma.ModelSymbol(value = 0,string = 'alpha')                     # AoA\n",
    "p.beta = ma.ModelSymbol(value = 0,string = 'beta')                     # SideSlip\n",
    "p.v_c = ma.ModelMatrix(value =[0,0,0],length=3,string='v_c') # The stationary point\n",
    "p.v_h = ma.ModelMatrix(value =[0,0,0],length=3,string='v_h') # The stationary point\n",
    "p.m = ma.ModelSymbol(value = 0,string = 'm') # The stationary point\n",
    "p.I_xx = ma.ModelSymbol(value = 0,string = 'I_xx') # The stationary point\n",
    "p.I_yy = ma.ModelSymbol(value = 0,string = 'I_yy') # The stationary point\n",
    "p.I_zz = ma.ModelSymbol(value = 0,string = 'I_zz') # The stationary point\n",
    "p.Lambda = ma.ModelSymbol(value = 0,string = 'Lambda') # The stationary point\n",
    "p.Wrench = ma.ModelMatrix(value =[0]*6,length=6,string='W') # The stationary point\n",
    "\n",
    "y_0,x_0,z_0 = sym.symbols('y_0,x_0,z_0')\n",
    "F_x,F_y,F_z,M_x,M_y,M_z = sym.symbols('F_x,F_y,F_z,M_x,M_y,M_z')"
   ]
  },
  {
   "cell_type": "code",
   "execution_count": 19,
   "id": "df64bab4-6f82-4894-8fea-d5a11b5c518d",
   "metadata": {},
   "outputs": [],
   "source": [
    "# fwt_frame = ma.frames.HomogenousFrame().R_y(p.q[0]).R_z(p.q[1]).R_x(p.q[2]).simplify()\n",
    "fwt_frame = ma.frames.ReferenceFrame.EulerAnglesXYZ(p.v_h,p.q[:3])\n",
    "body_frame = ma.frames.HomogenousFrame().R_z(p.beta).R_y(p.alpha).simplify()\n",
    "hinge_frame = body_frame.Translate(*p.v_h).R_z(p.Lambda).simplify()"
   ]
  },
  {
   "cell_type": "code",
   "execution_count": 20,
   "id": "14b950d0-7414-4ac3-9397-8ecc5cf3cf13",
   "metadata": {},
   "outputs": [
    {
     "data": {
      "text/plain": [
       "[False, False, False, True, True, True]"
      ]
     },
     "execution_count": 20,
     "metadata": {},
     "output_type": "execute_result"
    }
   ],
   "source": [
    "test = [*p.v_h,*p.q]\n",
    "[False if not isinstance(i,sym.Function) else i.args[0] == t  for i in test ]"
   ]
  },
  {
   "cell_type": "code",
   "execution_count": 21,
   "id": "794d39cc-af05-45a2-9891-67d194b7972d",
   "metadata": {},
   "outputs": [],
   "source": [
    "#Create Elemnts\n",
    "M = ma.elements.MassMatrix(p.m,p.I_xx,p.I_yy,0,0,0,0)\n",
    "## FWT mass element\n",
    "fwt_ele = ma.elements.RigidElement(p.q, fwt_frame, M, grav_vec=p.g_v*p.g, com_pos=p.v_c, name='fwt')"
   ]
  },
  {
   "cell_type": "code",
   "execution_count": 22,
   "id": "52f726b0-32e3-45f9-8f44-0c616e02aea3",
   "metadata": {},
   "outputs": [
    {
     "data": {
      "image/png": "[encoded data removed]",
      "text/latex": [
       "$\\displaystyle \\left[\\begin{matrix}\\left(\\sin{\\left(\\Lambda \\right)} \\sin{\\left(\\beta \\right)} - \\cos{\\left(\\Lambda \\right)} \\cos{\\left(\\alpha \\right)} \\cos{\\left(\\beta \\right)}\\right) \\sin{\\left(\\Lambda + q_{2} \\right)} \\cos{\\left(q_{1} \\right)} - \\left(\\sin{\\left(\\Lambda \\right)} \\cos{\\left(\\beta \\right)} + \\sin{\\left(\\beta \\right)} \\cos{\\left(\\Lambda \\right)} \\cos{\\left(\\alpha \\right)}\\right) \\left(\\sin{\\left(\\Lambda + q_{2} \\right)} \\sin{\\left(q_{0} \\right)} \\sin{\\left(q_{1} \\right)} - \\cos{\\left(\\Lambda + q_{2} \\right)} \\cos{\\left(q_{0} \\right)}\\right) - \\left(\\sin{\\left(\\Lambda + q_{2} \\right)} \\sin{\\left(q_{1} \\right)} \\cos{\\left(q_{0} \\right)} + \\sin{\\left(q_{0} \\right)} \\cos{\\left(\\Lambda + q_{2} \\right)}\\right) \\sin{\\left(\\alpha \\right)} \\cos{\\left(\\Lambda \\right)}\\\\- \\left(\\sin{\\left(\\Lambda \\right)} \\sin{\\left(\\beta \\right)} - \\cos{\\left(\\Lambda \\right)} \\cos{\\left(\\alpha \\right)} \\cos{\\left(\\beta \\right)}\\right) \\sin{\\left(q_{1} \\right)} - \\left(\\sin{\\left(\\Lambda \\right)} \\cos{\\left(\\beta \\right)} + \\sin{\\left(\\beta \\right)} \\cos{\\left(\\Lambda \\right)} \\cos{\\left(\\alpha \\right)}\\right) \\sin{\\left(q_{0} \\right)} \\cos{\\left(q_{1} \\right)} - \\sin{\\left(\\alpha \\right)} \\cos{\\left(\\Lambda \\right)} \\cos{\\left(q_{0} \\right)} \\cos{\\left(q_{1} \\right)}\\end{matrix}\\right]$"
      ],
      "text/plain": [
       "⎡(sin(Λ)⋅sin(β) - cos(Λ)⋅cos(α)⋅cos(β))⋅sin(Λ + q₂)⋅cos(q₁) - (sin(Λ)⋅cos(β) +\n",
       "⎢                                                                             \n",
       "⎣                                         -(sin(Λ)⋅sin(β) - cos(Λ)⋅cos(α)⋅cos(\n",
       "\n",
       " sin(β)⋅cos(Λ)⋅cos(α))⋅(sin(Λ + q₂)⋅sin(q₀)⋅sin(q₁) - cos(Λ + q₂)⋅cos(q₀)) - (\n",
       "                                                                              \n",
       "β))⋅sin(q₁) - (sin(Λ)⋅cos(β) + sin(β)⋅cos(Λ)⋅cos(α))⋅sin(q₀)⋅cos(q₁) - sin(α)⋅\n",
       "\n",
       "sin(Λ + q₂)⋅sin(q₁)⋅cos(q₀) + sin(q₀)⋅cos(Λ + q₂))⋅sin(α)⋅cos(Λ)⎤\n",
       "                                                                ⎥\n",
       "cos(Λ)⋅cos(q₀)⋅cos(q₁)                                          ⎦"
      ]
     },
     "execution_count": 22,
     "metadata": {},
     "output_type": "execute_result"
    }
   ],
   "source": [
    "C =[]\n",
    "# xyz = sym.simplify(hinge_frame.transform_point([0,0,0])-fwt_frame.transform_point([0,0,0]))\n",
    "ydot = sym.simplify(hinge_frame.transform_vector([1,0,0]).T*fwt_frame.transform_vector([-sym.sin(p.Lambda),sym.cos(p.Lambda),0]))\n",
    "zdot = sym.simplify(hinge_frame.transform_vector([1,0,0]).T*fwt_frame.transform_vector([0,0,1]))\n",
    "# C = sym.BlockMatrix([[xyz],[ydot],[zdot]]).as_explicit()\n",
    "C = sym.BlockMatrix([[ydot],[zdot]]).as_explicit()\n",
    "C"
   ]
  },
  {
   "cell_type": "code",
   "execution_count": 23,
   "id": "34bb18a5-fd29-4331-a543-cf55ed743b8b",
   "metadata": {},
   "outputs": [
    {
     "name": "stdout",
     "output_type": "stream",
     "text": [
      "Generating EoM for Element 1 out of 1 - fwt:RigidElement\n"
     ]
    }
   ],
   "source": [
    "sm = ma.SymbolicModel.FromElementsAndForces(p.q,[fwt_ele],C=C)"
   ]
  },
  {
   "cell_type": "code",
   "execution_count": 24,
   "id": "ff38127c-71ea-472d-9df1-e86bf67f0434",
   "metadata": {},
   "outputs": [
    {
     "data": {
      "image/png": "[encoded data removed]",
      "text/latex": [
       "$\\displaystyle \\left[\\begin{matrix}x_{0}\\\\y_{0}\\\\z_{0}\\end{matrix}\\right]$"
      ],
      "text/plain": [
       "⎡x₀⎤\n",
       "⎢  ⎥\n",
       "⎢y₀⎥\n",
       "⎢  ⎥\n",
       "⎣z₀⎦"
      ]
     },
     "execution_count": 24,
     "metadata": {},
     "output_type": "execute_result"
    }
   ],
   "source": [
    "sym.simplify(fwt_ele.frame.transform_point(fwt_ele.frame.transform_global_point([x_0,y_0,z_0])))"
   ]
  },
  {
   "cell_type": "code",
   "execution_count": 33,
   "id": "bc1d7d34-2b37-44f6-97b7-aef72a5e3e49",
   "metadata": {},
   "outputs": [],
   "source": [
    "funcs = []\n",
    "fwt_pos = [x_0,y_0,z_0]\n",
    "funcs.append(('get_fwt_V_b',fwt_ele.frame.A.T*fwt_ele.frame.transform_point([x_0,y_0,z_0]).diff(t)))\n",
    "funcs.append(('get_pos_fwt',fwt_ele.frame.transform_global_point([x_0,y_0,z_0])))\n",
    "funcs.append(('get_fwt_V_b_body',body_frame.A.T*fwt_ele.frame.transform_point([x_0,y_0,z_0]).diff(t)))\n",
    "funcs.append(('get_fwt_A',fwt_ele.frame.A))\n",
    "funcs.append(('get_body_A',body_frame.A))"
   ]
  },
  {
   "cell_type": "code",
   "execution_count": 34,
   "id": "ac726f82-1d09-470d-a2b5-9dd5650aad2d",
   "metadata": {},
   "outputs": [],
   "source": [
    "#create function for an arbitary force of FWT\n",
    "F_x,F_y,F_z,M_x,M_y,M_z = sym.symbols('F_x,F_y,F_z,M_x,M_y,M_z')\n",
    "W = sym.Matrix([F_x,F_y,F_z,M_x,M_y,M_z])\n",
    "fwt_Q_tmp = fwt_ele.frame.BodyJacobian(p.q,sym.Matrix(fwt_pos)).T*W\n",
    "idx = [i for i, e in enumerate(p.q) if e in fwt_ele.q]\n",
    "fwt_Q = sym.zeros(len(p.q),1)\n",
    "for i,i_fwt in zip(idx,fwt_ele._idx):\n",
    "    fwt_Q[i] += fwt_Q_tmp[i_fwt]\n",
    "funcs.append(('get_fwt_Q',fwt_Q))"
   ]
  },
  {
   "cell_type": "code",
   "execution_count": 35,
   "id": "b507e4ab-9071-4107-9f0a-0a89099ff658",
   "metadata": {},
   "outputs": [],
   "source": [
    "#create function for a moment about the hinge\n",
    "M_h = sym.symbols('M_h')\n",
    "tt = ma.frames.HomogenousFrame().R_z(p.Lambda);\n",
    "M = tt.A*sym.Matrix([M_h,0,0])\n",
    "W = sym.Matrix([0,0,0,*M])\n",
    "fwt_Q_tmp = fwt_ele.frame.BodyJacobian(p.q,sym.Matrix([0]*3)).T*W\n",
    "idx = [i for i, e in enumerate(p.q) if e in fwt_ele.q]\n",
    "fwt_Q = sym.zeros(len(p.q),1)\n",
    "for i,i_fwt in zip(idx,fwt_ele._idx):\n",
    "    fwt_Q[i] += fwt_Q_tmp[i_fwt]\n",
    "funcs.append(('get_hinge_Q',fwt_Q))"
   ]
  },
  {
   "cell_type": "code",
   "execution_count": 36,
   "id": "3b6b1485-e53b-41b7-abe9-7ffc7d3604f3",
   "metadata": {},
   "outputs": [],
   "source": [
    "hinge_normal = sym.Matrix([0,0,1])\n",
    "fwt_normal = fwt_frame.transform_vector([0,0,1])\n",
    "fwt_hinge_vector = fwt_frame.transform_vector([sym.cos(p.Lambda),sym.sin(p.Lambda),0])\n",
    "fold = -sym.atan2(hinge_normal.cross(fwt_normal).dot(fwt_hinge_vector),hinge_normal.dot(fwt_normal))\n",
    "fold_dt = fold.diff(t)\n",
    "funcs.append(('get_fold',fold))\n",
    "funcs.append(('get_fold_dt',fold_dt))"
   ]
  },
  {
   "cell_type": "code",
   "execution_count": 38,
   "id": "38917098-ee57-4629-b787-02bbeac58a26",
   "metadata": {},
   "outputs": [
    {
     "name": "stdout",
     "output_type": "stream",
     "text": [
      "Unknown variable z_0 found in function get_fwt_V_b. It will be added to the function signature.\n",
      "Unknown variable x_0 found in function get_fwt_V_b. It will be added to the function signature.\n",
      "Unknown variable y_0 found in function get_fwt_V_b. It will be added to the function signature.\n",
      "Unknown variable z_0 found in function get_pos_fwt. It will be added to the function signature.\n",
      "Unknown variable y_0 found in function get_pos_fwt. It will be added to the function signature.\n",
      "Unknown variable x_0 found in function get_pos_fwt. It will be added to the function signature.\n",
      "Unknown variable z_0 found in function get_fwt_V_b_body. It will be added to the function signature.\n",
      "Unknown variable y_0 found in function get_fwt_V_b_body. It will be added to the function signature.\n",
      "Unknown variable x_0 found in function get_fwt_V_b_body. It will be added to the function signature.\n",
      "Unknown variable z_0 found in function get_fwt_Q. It will be added to the function signature.\n",
      "Unknown variable M_y found in function get_fwt_Q. It will be added to the function signature.\n",
      "Unknown variable y_0 found in function get_fwt_Q. It will be added to the function signature.\n",
      "Unknown variable M_x found in function get_fwt_Q. It will be added to the function signature.\n",
      "Unknown variable M_z found in function get_fwt_Q. It will be added to the function signature.\n",
      "Unknown variable F_x found in function get_fwt_Q. It will be added to the function signature.\n",
      "Unknown variable x_0 found in function get_fwt_Q. It will be added to the function signature.\n",
      "Unknown variable F_y found in function get_fwt_Q. It will be added to the function signature.\n",
      "Unknown variable F_z found in function get_fwt_Q. It will be added to the function signature.\n",
      "Unknown variable M_h found in function get_hinge_Q. It will be added to the function signature.\n"
     ]
    }
   ],
   "source": [
    "base_dir = \"D:\\\\AlphaBetaData\\\\EoM\"\n",
    "class_name = \"OneDof_fwt\"\n",
    "base_class = \"mbd.BaseMBD\"\n",
    "sm.to_matlab_class(p,base_dir,class_name,base_class,additional_funcs=funcs)"
   ]
  },
  {
   "cell_type": "code",
   "execution_count": null,
   "id": "b0ece2d1-6807-4b66-af52-1a3960e28845",
   "metadata": {},
   "outputs": [],
   "source": []
  }
 ],
 "metadata": {
  "kernelspec": {
   "display_name": "Python [conda env:test_moyra_3_9]",
   "language": "python",
   "name": "conda-env-test_moyra_3_9-py"
  },
  "language_info": {
   "codemirror_mode": {
    "name": "ipython",
    "version": 3
   },
   "file_extension": ".py",
   "mimetype": "text/x-python",
   "name": "python",
   "nbconvert_exporter": "python",
   "pygments_lexer": "ipython3",
   "version": "3.9.4"
  }
 },
 "nbformat": 4,
 "nbformat_minor": 5
}
