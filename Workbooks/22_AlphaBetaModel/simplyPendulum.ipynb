{
 "cells": [
  {
   "cell_type": "code",
   "execution_count": 1,
   "id": "c9f0bd18-a135-4f5c-a24a-04060eae6780",
   "metadata": {},
   "outputs": [],
   "source": [
    "import sympy as sym\n",
    "from os import path\n",
    "import sympy.physics.mechanics as me\n",
    "from sympy.abc import t\n",
    "import moyra as ma\n",
    "me.mechanics_printing()"
   ]
  },
  {
   "cell_type": "code",
   "execution_count": 2,
   "id": "39dbd535-d6f2-40fb-95b2-7fa03ad0266e",
   "metadata": {},
   "outputs": [],
   "source": [
    "DoFs = 1\n",
    "# heave and fold angle as degrres of freedom\n",
    "p = ma.DynamicModelParameters(DoFs)\n",
    "p.DoFs  = ma.ModelSymbol(value = DoFs,string = 'DoFs')\n",
    "#gravity vector\n",
    "p.g  = ma.ModelSymbol(value = 9.81,string = 'g')    \n",
    "p.L = ma.ModelSymbol(value = 0,string = 'L') # The stationary point# gravity\n",
    "p.m = ma.ModelSymbol(value = 0,string = 'm') # The stationary point\n",
    "p.I_xx = ma.ModelSymbol(value = 0,string = 'I_xx') # The stationary point"
   ]
  },
  {
   "cell_type": "code",
   "execution_count": 3,
   "id": "df64bab4-6f82-4894-8fea-d5a11b5c518d",
   "metadata": {},
   "outputs": [],
   "source": [
    "frame = ma.frames.HomogenousFrame().R_x(-p.q[0]).Translate(0,0,p.L).simplify()"
   ]
  },
  {
   "cell_type": "code",
   "execution_count": 4,
   "id": "34bb18a5-fd29-4331-a543-cf55ed743b8b",
   "metadata": {},
   "outputs": [],
   "source": [
    "M = ma.elements.MassMatrix(p.m,p.I_xx,0,0,0,0,0)\n",
    "ele = ma.elements.RigidElement(p.q,frame,M,grav_vec = sym.Matrix([0,0,p.g]))"
   ]
  },
  {
   "cell_type": "code",
   "execution_count": 5,
   "id": "5ae5820a-449f-4c6c-846b-ae663df32a2e",
   "metadata": {},
   "outputs": [
    {
     "name": "stdout",
     "output_type": "stream",
     "text": [
      "Generating EoM for Element 1 out of 1 - default:RigidElement\n"
     ]
    }
   ],
   "source": [
    "sm = ma.SymbolicModel.FromElementsAndForces(p.q,ele)"
   ]
  },
  {
   "cell_type": "code",
   "execution_count": 6,
   "id": "38917098-ee57-4629-b787-02bbeac58a26",
   "metadata": {},
   "outputs": [],
   "source": [
    "base_dir = \"D:\\\\AlphaBetaData\\\\EoM\"\n",
    "class_name = \"Simple_pendulum\"\n",
    "base_class = \"mbd.BaseMBD\"\n",
    "sm.to_matlab_class(p,base_dir,class_name,base_class)"
   ]
  },
  {
   "cell_type": "code",
   "execution_count": 7,
   "id": "83446097-aeb3-44d4-b398-61a9bd8b63be",
   "metadata": {},
   "outputs": [
    {
     "data": {
      "image/png": "[encoded data removed]",
      "text/latex": [
       "$\\displaystyle \\left[\\begin{matrix}L g m \\sin{\\left(q_{0} \\right)}\\end{matrix}\\right]$"
      ],
      "text/plain": [
       "[L⋅g⋅m⋅sin(q₀)]"
      ]
     },
     "execution_count": 7,
     "metadata": {},
     "output_type": "execute_result"
    }
   ],
   "source": [
    "sm.f"
   ]
  },
  {
   "cell_type": "code",
   "execution_count": 8,
   "id": "4c023d8c-7095-4139-850f-4a8de0c093e4",
   "metadata": {},
   "outputs": [
    {
     "data": {
      "image/png": "[encoded data removed]",
      "text/latex": [
       "$\\displaystyle \\left[\\begin{matrix}I_{xx} + L^{2} m\\end{matrix}\\right]$"
      ],
      "text/plain": [
       "⎡       2  ⎤\n",
       "⎣Iₓₓ + L ⋅m⎦"
      ]
     },
     "execution_count": 8,
     "metadata": {},
     "output_type": "execute_result"
    }
   ],
   "source": [
    "sm.M"
   ]
  },
  {
   "cell_type": "code",
   "execution_count": 9,
   "id": "9933dd72-1d65-4d36-adee-fe45b9a18e7a",
   "metadata": {},
   "outputs": [],
   "source": [
    "sm_lin = sm.subs({sym.sin(p.q[0]):p.q[0]})"
   ]
  },
  {
   "cell_type": "code",
   "execution_count": 10,
   "id": "38db0d17-2d73-45d2-984a-06cd0459f165",
   "metadata": {},
   "outputs": [
    {
     "data": {
      "image/png": "[encoded data removed]",
      "text/latex": [
       "$\\displaystyle \\left[\\begin{matrix}L g m q_{0}\\end{matrix}\\right]$"
      ],
      "text/plain": [
       "[L⋅g⋅m⋅q₀]"
      ]
     },
     "execution_count": 10,
     "metadata": {},
     "output_type": "execute_result"
    }
   ],
   "source": [
    "sm_lin.f"
   ]
  },
  {
   "cell_type": "code",
   "execution_count": 17,
   "id": "343940c6-46eb-4b6e-b2c8-1f19bf6dd0ea",
   "metadata": {},
   "outputs": [],
   "source": [
    "a = sym.solvers.ode.dsolve(sm_lin.M[0]*p.qdd[0]+sm_lin.f[0],p.q[0],isc={p.q[0]:1,p.qd[0]:0})"
   ]
  },
  {
   "cell_type": "code",
   "execution_count": 18,
   "id": "b9f42e89-d388-4435-8379-effd003aff37",
   "metadata": {},
   "outputs": [
    {
     "data": {
      "image/png": "[encoded data removed]",
      "text/latex": [
       "$\\displaystyle q_{0} = C_{1} e^{- t \\sqrt{- \\frac{L g m}{I_{xx} + L^{2} m}}} + C_{2} e^{t \\sqrt{- \\frac{L g m}{I_{xx} + L^{2} m}}}$"
      ],
      "text/plain": [
       "                 ____________              ____________\n",
       "                ╱  -L⋅g⋅m                 ╱  -L⋅g⋅m    \n",
       "         -t⋅   ╱  ──────────        t⋅   ╱  ────────── \n",
       "              ╱          2              ╱          2   \n",
       "            ╲╱    Iₓₓ + L ⋅m          ╲╱    Iₓₓ + L ⋅m \n",
       "q₀ = C₁⋅ℯ                     + C₂⋅ℯ                   "
      ]
     },
     "execution_count": 18,
     "metadata": {},
     "output_type": "execute_result"
    }
   ],
   "source": [
    "a\n"
   ]
  },
  {
   "cell_type": "code",
   "execution_count": null,
   "id": "6342c086-5528-4605-97ab-e35aeffcaf6d",
   "metadata": {},
   "outputs": [],
   "source": []
  }
 ],
 "metadata": {
  "kernelspec": {
   "display_name": "Python [conda env:test_moyra_3_9]",
   "language": "python",
   "name": "conda-env-test_moyra_3_9-py"
  },
  "language_info": {
   "codemirror_mode": {
    "name": "ipython",
    "version": 3
   },
   "file_extension": ".py",
   "mimetype": "text/x-python",
   "name": "python",
   "nbconvert_exporter": "python",
   "pygments_lexer": "ipython3",
   "version": "3.9.4"
  }
 },
 "nbformat": 4,
 "nbformat_minor": 5
}
