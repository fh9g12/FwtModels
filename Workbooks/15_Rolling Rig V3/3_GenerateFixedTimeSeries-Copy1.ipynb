{
 "cells": [
  {
   "cell_type": "code",
   "execution_count": 1,
   "metadata": {},
   "outputs": [],
   "source": [
    "import sympy as sym\n",
    "import sympy.physics.mechanics as me\n",
    "from sympy.abc import t as time\n",
    "import pandas as pd\n",
    "import seaborn as sns\n",
    "\n",
    "import numpy as np\n",
    "from scipy.integrate import solve_ivp\n",
    "import matplotlib.pyplot as plt\n",
    "from scipy.interpolate import interp1d\n",
    "from scipy.optimize import fsolve,least_squares,root\n",
    "\n",
    "import sys, os\n",
    "import pickle\n",
    "\n",
    "sys.path.insert(1, os.path.join(sys.path[0], '../..'))\n",
    "import custom_plot_objects as cpo\n",
    "\n",
    "import ModelFramework as mf\n",
    "import ModelFramework.Elements as ele\n",
    "import ModelFramework.ExternalForces as ef\n",
    "import FwtModels.RectWing as rw\n",
    "import FwtModels.RollRig as RollRig\n",
    "import multiprocessing as mp\n",
    "from multiprocessing import set_start_method\n",
    "#set_start_method(\"spawn\")\n",
    "\n",
    "from matplotlib.lines import Line2D\n",
    "\n",
    "me.mechanics_printing()"
   ]
  },
  {
   "cell_type": "code",
   "execution_count": 2,
   "metadata": {},
   "outputs": [],
   "source": [
    "# Add fixed params to dict\n",
    "\n",
    "main_panels = 20\n",
    "params = {}\n",
    "params['c'] = 0.067\n",
    "params['alpha_r'] = 0\n",
    "params['c_d_max'] = 1\n",
    "params['Lambda'] = np.deg2rad(0)\n",
    "params['alpha_c'] = np.deg2rad(0)\n",
    "params['p'] = 1\n",
    "params['sigma'] = 0"
   ]
  },
  {
   "cell_type": "code",
   "execution_count": 3,
   "metadata": {},
   "outputs": [],
   "source": [
    "# create lift distribution\n",
    "def create_lift_dist_from_file(filename,span,sigma,main_panels):\n",
    "    s_w = span*(1-sigma)\n",
    "    delta = s_w / main_panels\n",
    "    y_panel = np.linspace(-s_w/2+delta/2,s_w/2-delta/2,main_panels)\n",
    "\n",
    "    ## load lift distribution\n",
    "    df = pd.read_csv(filename)\n",
    "    y_span = df['y'].to_numpy()/df['span']*span*100\n",
    "    y_c_l = df['C_l'].to_numpy()\n",
    "\n",
    "    # interpolate on each panel\n",
    "    return list(np.interp(np.abs(y_panel),y_span,y_c_l,left=0,right=0))\n",
    "\n",
    "def create_const_lift_dist(main_panels):   \n",
    "    return [np.pi*2]*main_panels"
   ]
  },
  {
   "cell_type": "code",
   "execution_count": 12,
   "metadata": {},
   "outputs": [],
   "source": [
    "# create configs\n",
    "configs = []\n",
    "locked_params = {}\n",
    "locked_params['m_w'] = 0.884\n",
    "locked_params['I_xx_w'] = 0.03978611\n",
    "locked_params['y_w'] = 0.00047\n",
    "locked_params['z_w'] = 0.00238\n",
    "locked_params['s'] = 1\n",
    "locked_params['a'] = create_lift_dist_from_file(r'LiftDistribution_aoa_0_rr_60_span_100.csv',\n",
    "                                                locked_params['s'],params['sigma'],main_panels)\n",
    "configs.append(({'Mode':'Locked','LiftDist':'Roll60'},locked_params))\n",
    "\n",
    "removed_params = {}\n",
    "removed_params['m_w'] = 0.735\n",
    "removed_params['I_xx_w'] = 0.014820479\n",
    "removed_params['y_w'] = 0.0020145\n",
    "removed_params['z_w'] = 0.002775\n",
    "removed_params['s'] = 0.728\n",
    "removed_params['a'] = create_lift_dist_from_file(r'LiftDistribution_aoa_0_rr_60_span_73.csv',\n",
    "                                                 removed_params['s'],params['sigma'],main_panels)\n",
    "configs.append(({'Mode':'Removed','LiftDist':'Roll60'},removed_params))"
   ]
  },
  {
   "cell_type": "code",
   "execution_count": 13,
   "metadata": {},
   "outputs": [],
   "source": [
    "# create Jobs\n",
    "attitudes=[]\n",
    "vs = [25]\n",
    "T = [0.12]\n",
    "for time_const in T: \n",
    "    for v in vs:\n",
    "        aas = [2]\n",
    "        offset = [0]\n",
    "        for i,tm in enumerate([0.3]):\n",
    "            beta = (tm)*8.4e-4*v**2+offset[i]\n",
    "            attitudes.append(({\"AileronAngle\":aas[i],},{\"V\":v,\"beta\":beta,\"T\":time_const}))\n",
    "jobs=[({**config,**att},{**params,**config_params,**att_params}) for config,config_params in configs for att,att_params in attitudes]"
   ]
  },
  {
   "cell_type": "code",
   "execution_count": 14,
   "metadata": {},
   "outputs": [
    {
     "data": {
      "image/png": "[encoded data removed]",
      "text/latex": [
       "$\\displaystyle 2$"
      ],
      "text/plain": [
       "2"
      ]
     },
     "execution_count": 14,
     "metadata": {},
     "output_type": "execute_result"
    }
   ],
   "source": [
    "len(jobs)"
   ]
  },
  {
   "cell_type": "code",
   "execution_count": 15,
   "metadata": {},
   "outputs": [
    {
     "name": "stdout",
     "output_type": "stream",
     "text": [
      "CPU times: user 456 ms, sys: 66.2 ms, total: 522 ms\n",
      "Wall time: 519 ms\n"
     ]
    }
   ],
   "source": [
    "%%time\n",
    "# for each job edit the parameters and pool it \n",
    "pool = mp.Pool(mp.cpu_count())\n",
    "names = ['Roll','Roll Rate','Right FWT Angle','Right FWT Velocity','Left FWT Angle','Left FWT Velocity']\n",
    "\n",
    "def stop_event(t,y):\n",
    "    if t<=10:\n",
    "        return 1\n",
    "    else:\n",
    "        return np.deg2rad(360*3+5) - abs(y[0])\n",
    "stop_event.terminal = True\n",
    "\n",
    "\n",
    "res=[]\n",
    "ls = []\n",
    "for job in jobs:\n",
    "    ls += RollRig.GenRunData_StepTorque('RollRigModel-Fixed.py',1,[0,0],30,params=job[1],\n",
    "                                     panels=main_panels,\n",
    "                                     calc_coast=False,\n",
    "                                     xNames=names[:2],\n",
    "                                     additional_cols={**job[0],**{n:0 for n in names[2:]}},\n",
    "                                     sample_freq=100,\n",
    "                                    events = [stop_event])\n",
    "#     res.append(pool.apply_async(RollRig.GenRunData_StepTorque, args = ('RollRigModel-Fixed.py',1,[0]*2,60,job[1],\n",
    "#                                                                        main_panels,False,names[:2],\n",
    "#                                                                        {**job[0],**{n:0 for n in names[2:]}},500,[stop_event])))\n",
    "# pool.close()\n",
    "# pool.join()\n",
    "\n",
    "# ls = []\n",
    "# for i in res:\n",
    "#     ls += i.get()\n",
    "df = pd.DataFrame(ls)\n",
    "df.to_pickle('FixedData.pkl')"
   ]
  },
  {
   "cell_type": "code",
   "execution_count": 16,
   "metadata": {},
   "outputs": [
    {
     "data": {
      "text/plain": [
       "Mode     V   AileronAngle\n",
       "Locked   25  2              -23.658066\n",
       "Removed  25  2              -67.164661\n",
       "Name: Roll Rate [Deg], dtype: float64"
      ]
     },
     "execution_count": 16,
     "metadata": {},
     "output_type": "execute_result"
    }
   ],
   "source": [
    "df['Roll Rate [Deg]']=np.rad2deg(df['Roll Rate'])\n",
    "df[df['t']>4].groupby(['Mode','V','AileronAngle'])['Roll Rate [Deg]'].mean()"
   ]
  },
  {
   "cell_type": "code",
   "execution_count": 17,
   "metadata": {},
   "outputs": [],
   "source": [
    "df.to_csv(r'/Users/fintan/Git/FlexiFWT_DAQ/Analysis/RollingRigV3/ModelComparisonV2/FixedData_ExtraSpan.csv', index = False)"
   ]
  },
  {
   "cell_type": "code",
   "execution_count": 17,
   "metadata": {},
   "outputs": [
    {
     "data": {
      "text/plain": [
       "{'Left FWT Angle': 0,\n",
       " 'Left FWT Velocity': 0,\n",
       " 'Right FWT Angle': 0,\n",
       " 'Right FWT Velocity': 0}"
      ]
     },
     "execution_count": 17,
     "metadata": {},
     "output_type": "execute_result"
    }
   ],
   "source": [
    "{n:0 for n in names[2:]}"
   ]
  },
  {
   "cell_type": "code",
   "execution_count": null,
   "metadata": {},
   "outputs": [],
   "source": []
  }
 ],
 "metadata": {
  "kernelspec": {
   "display_name": "Python 3",
   "language": "python",
   "name": "python3"
  },
  "language_info": {
   "codemirror_mode": {
    "name": "ipython",
    "version": 3
   },
   "file_extension": ".py",
   "mimetype": "text/x-python",
   "name": "python",
   "nbconvert_exporter": "python",
   "pygments_lexer": "ipython3",
   "version": "3.7.7"
  }
 },
 "nbformat": 4,
 "nbformat_minor": 4
}
