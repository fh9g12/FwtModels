{
 "cells": [
  {
   "cell_type": "code",
   "execution_count": 24,
   "metadata": {},
   "outputs": [],
   "source": [
    "import copy\n",
    "from aerosandbox import *\n",
    "from aerosandbox.library.airfoils import e216, naca0008\n",
    "import time\n",
    "import plotly.express as px\n",
    "import pandas as pd\n",
    "import plotly.graph_objects as go\n",
    "\n",
    "opti = cas.Opti()  # Initialize an analysis/optimization environment"
   ]
  },
  {
   "cell_type": "code",
   "execution_count": 25,
   "metadata": {},
   "outputs": [],
   "source": [
    "## define constants\n",
    "v = 15 \n",
    "aoa = 5"
   ]
  },
  {
   "cell_type": "code",
   "execution_count": 26,
   "metadata": {},
   "outputs": [],
   "source": [
    "# Define Geometry\n",
    "# Here, all distances are in meters and all angles are in degrees.\n",
    "airplane = Airplane(\n",
    "    name=\"RollingRigSimple\",\n",
    "    x_ref=0,  # CG location\n",
    "    y_ref=0,  # CG location\n",
    "    z_ref=0,  # CG location\n",
    "    wings=[\n",
    "        Wing(\n",
    "            name=\"Main Wing\",\n",
    "            x_le=0,  # Coordinates of the wing's leading edge\n",
    "            y_le=0,  # Coordinates of the wing's leading edge\n",
    "            z_le=0,  # Coordinates of the wing's leading edge\n",
    "            symmetric=True,\n",
    "            xsecs=[  # The wing's cross (\"X\") sections\n",
    "                WingXSec(  # left tip\n",
    "                    x_le=0,  # Coordinates of the XSec's leading edge, relative to the wing's leading edge.\n",
    "                    y_le=0,  # Coordinates of the XSec's leading edge, relative to the wing's leading edge.\n",
    "                    z_le=0,  # Coordinates of the XSec's leading edge, relative to the wing's leading edge.\n",
    "                    chord=0.067,\n",
    "                    twist=0,  # degrees\n",
    "                    airfoil=naca0008,  # Airfoils are blended between a given XSec and the next one.\n",
    "                    spanwise_panels = 30,\n",
    "                ),\n",
    "                WingXSec(  # left tip\n",
    "                    x_le=0,  # Coordinates of the XSec's leading edge, relative to the wing's leading edge.\n",
    "                    y_le=0.5,  # Coordinates of the XSec's leading edge, relative to the wing's leading edge.\n",
    "                    z_le=0,  # Coordinates of the XSec's leading edge, relative to the wing's leading edge.\n",
    "                    chord=0.067,\n",
    "                    twist=0,  # degrees\n",
    "                    airfoil=naca0008,  # Airfoils are blended between a given XSec and the next one.\n",
    "                ),\n",
    "            ]\n",
    "        ),\n",
    "    ]\n",
    ")"
   ]
  },
  {
   "cell_type": "code",
   "execution_count": 27,
   "metadata": {},
   "outputs": [],
   "source": [
    "ap = Casll1(  # Set up the AeroProblem\n",
    "    airplane=airplane,\n",
    "    op_point=OperatingPoint(\n",
    "        density=1.225,  # kg/m^3\n",
    "        viscosity=1.81e-5,  # kg/m-s\n",
    "        velocity=v,  # m/s\n",
    "        mach=0,  # Freestream mach number\n",
    "        alpha=aoa,  # In degrees\n",
    "        beta=0,  # In degrees\n",
    "        p=np.deg2rad(0),  # About the body x-axis, in rad/sec\n",
    "        q=0,  # About the body y-axis, in rad/sec\n",
    "        r=0,  # About the body z-axis, in rad/sec\n",
    "    ),\n",
    "    opti=opti,  # Pass it an optimization environment to work in\n",
    "    run_setup=False\n",
    ")\n",
    "ap.setup(verbose=False)\n",
    "# Solver options\n",
    "opti.solver('ipopt')"
   ]
  },
  {
   "cell_type": "code",
   "execution_count": 28,
   "metadata": {},
   "outputs": [
    {
     "name": "stdout",
     "output_type": "stream",
     "text": [
      "This is Ipopt version 3.12.3, running with linear solver mumps.\n",
      "NOTE: Other linear solvers might be more efficient (see Ipopt documentation).\n",
      "\n",
      "Number of nonzeros in equality constraint Jacobian...:      900\n",
      "Number of nonzeros in inequality constraint Jacobian.:        0\n",
      "Number of nonzeros in Lagrangian Hessian.............:      465\n",
      "\n",
      "Total number of variables............................:       30\n",
      "                     variables with only lower bounds:        0\n",
      "                variables with lower and upper bounds:        0\n",
      "                     variables with only upper bounds:        0\n",
      "Total number of equality constraints.................:       30\n",
      "Total number of inequality constraints...............:        0\n",
      "        inequality constraints with only lower bounds:        0\n",
      "   inequality constraints with lower and upper bounds:        0\n",
      "        inequality constraints with only upper bounds:        0\n",
      "\n",
      "iter    objective    inf_pr   inf_du lg(mu)  ||d||  lg(rg) alpha_du alpha_pr  ls\n",
      "   0  0.0000000e+00 5.48e-01 0.00e+00  -1.0 0.00e+00    -  0.00e+00 0.00e+00   0\n",
      "   1  0.0000000e+00 2.01e-03 0.00e+00  -1.7 2.54e-01    -  1.00e+00 1.00e+00h  1\n",
      "   2  0.0000000e+00 2.83e-08 0.00e+00  -3.8 5.11e-04    -  1.00e+00 1.00e+00h  1\n",
      "   3  0.0000000e+00 1.11e-15 0.00e+00  -8.6 4.61e-09    -  1.00e+00 1.00e+00h  1\n",
      "\n",
      "Number of Iterations....: 3\n",
      "\n",
      "                                   (scaled)                 (unscaled)\n",
      "Objective...............:   0.0000000000000000e+00    0.0000000000000000e+00\n",
      "Dual infeasibility......:   0.0000000000000000e+00    0.0000000000000000e+00\n",
      "Constraint violation....:   1.1102230246251565e-15    1.1102230246251565e-15\n",
      "Complementarity.........:   0.0000000000000000e+00    0.0000000000000000e+00\n",
      "Overall NLP error.......:   1.1102230246251565e-15    1.1102230246251565e-15\n",
      "\n",
      "\n",
      "Number of objective function evaluations             = 4\n",
      "Number of objective gradient evaluations             = 4\n",
      "Number of equality constraint evaluations            = 4\n",
      "Number of inequality constraint evaluations          = 0\n",
      "Number of equality constraint Jacobian evaluations   = 4\n",
      "Number of inequality constraint Jacobian evaluations = 0\n",
      "Number of Lagrangian Hessian evaluations             = 3\n",
      "Total CPU secs in IPOPT (w/o function evaluations)   =      0.004\n",
      "Total CPU secs in NLP function evaluations           =      0.005\n",
      "\n",
      "EXIT: Optimal Solution Found.\n",
      "      solver  :   t_proc      (avg)   t_wall      (avg)    n_eval\n",
      "       nlp_f  |   9.00us (  2.25us)   8.47us (  2.12us)         4\n",
      "       nlp_g  | 209.00us ( 52.25us) 164.26us ( 41.07us)         4\n",
      "  nlp_grad_f  |  15.00us (  3.00us)  13.39us (  2.68us)         5\n",
      "  nlp_hess_l  |   1.58ms (526.67us)   1.63ms (542.15us)         3\n",
      "   nlp_jac_g  |   4.97ms (993.60us)   4.54ms (908.83us)         5\n",
      "       total  |  12.12ms ( 12.12ms)  10.89ms ( 10.89ms)         1\n",
      "--- 0.07742190361022949 seconds ---\n"
     ]
    },
    {
     "data": {
      "text/plain": [
       "<aerosandbox.aerodynamics.casll1.Casll1 at 0x7facf5cf2710>"
      ]
     },
     "execution_count": 28,
     "metadata": {},
     "output_type": "execute_result"
    }
   ],
   "source": [
    "# Solve\n",
    "start_time = time.time()\n",
    "sol = opti.solve()\n",
    "print(\"--- %s seconds ---\" % (time.time() - start_time))\n",
    "# left_fwt_vert_L =np.sum(ap_sol.) \n",
    "# Postprocess\n",
    "\n",
    "# Create solved object\n",
    "ap_sol = copy.deepcopy(ap)\n",
    "ap_sol.substitute_solution(sol)"
   ]
  },
  {
   "cell_type": "code",
   "execution_count": 29,
   "metadata": {},
   "outputs": [],
   "source": [
    "# Plot Geometry\n",
    "ap_sol.draw()"
   ]
  },
  {
   "cell_type": "code",
   "execution_count": 30,
   "metadata": {},
   "outputs": [],
   "source": [
    "# Generate Lift Distrobution\n",
    "x = list([i[1] for i in ap_sol.vortex_centers])\n",
    "y = list([np.sqrt(x[1]**2 + x[2]**2) for x in 2*ap_sol.forces_inviscid_geometry]/(v**2*ap_sol.areas*1.225*np.deg2rad(aoa)))\n",
    "x.append(0.5)\n",
    "y.append(0)"
   ]
  },
  {
   "cell_type": "code",
   "execution_count": 33,
   "metadata": {},
   "outputs": [],
   "source": [
    "# Plot Lift Distributuion\n",
    "fig = px.scatter(x=x, y=y)\n",
    "fig.add_trace(go.Line(x=[0.5*0.782]*2,y=[0,2*np.pi]))\n",
    "fig.add_trace(go.Line(x=[0,0.5*0.782,0.5]*2,y=[2*np.pi,2*np.pi,2*np.pi]))\n",
    "fig.add_trace(go.Line(x=[0,0.5*0.782,0.5]*2,y=[2*np.pi,2*np.pi,0]))\n",
    "fig.show()"
   ]
  },
  {
   "cell_type": "code",
   "execution_count": 37,
   "metadata": {},
   "outputs": [],
   "source": [
    "# save Lift Distrobution\n",
    "record = [{\"y\":x_i,\"C_l\":y[i]} for i,x_i in enumerate(x)]\n",
    "\n",
    "df = pd.DataFrame(record)\n",
    "df.to_csv(r'LiftDistribution.csv', index = False)"
   ]
  },
  {
   "cell_type": "code",
   "execution_count": null,
   "metadata": {},
   "outputs": [],
   "source": []
  }
 ],
 "metadata": {
  "kernelspec": {
   "display_name": "Python 3",
   "language": "python",
   "name": "python3"
  },
  "language_info": {
   "codemirror_mode": {
    "name": "ipython",
    "version": 3
   },
   "file_extension": ".py",
   "mimetype": "text/x-python",
   "name": "python",
   "nbconvert_exporter": "python",
   "pygments_lexer": "ipython3",
   "version": "3.7.7"
  }
 },
 "nbformat": 4,
 "nbformat_minor": 4
}
