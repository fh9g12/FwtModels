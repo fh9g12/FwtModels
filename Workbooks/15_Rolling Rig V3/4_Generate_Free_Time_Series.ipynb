{
 "cells": [
  {
   "cell_type": "code",
   "execution_count": 1,
   "metadata": {},
   "outputs": [],
   "source": [
    "import sympy as sym\n",
    "import sympy.physics.mechanics as me\n",
    "from sympy.abc import t as time\n",
    "import pandas as pd\n",
    "import seaborn as sns\n",
    "\n",
    "import numpy as np\n",
    "from scipy.integrate import solve_ivp\n",
    "import matplotlib.pyplot as plt\n",
    "from scipy.interpolate import interp1d\n",
    "from scipy.optimize import fsolve,least_squares,root\n",
    "\n",
    "import sys, os\n",
    "import pickle\n",
    "\n",
    "sys.path.insert(1, os.path.join(sys.path[0], '../..'))\n",
    "import custom_plot_objects as cpo\n",
    "\n",
    "import ModelFramework as mf\n",
    "import ModelFramework.Elements as ele\n",
    "import ModelFramework.ExternalForces as ef\n",
    "import FwtModels.RectWing as rw\n",
    "import FwtModels.RollRig as RollRig\n",
    "import multiprocessing as mp\n",
    "from multiprocessing import set_start_method\n",
    "#set_start_method(\"spawn\")\n",
    "\n",
    "from matplotlib.lines import Line2D\n",
    "\n",
    "me.mechanics_printing()"
   ]
  },
  {
   "cell_type": "code",
   "execution_count": 2,
   "metadata": {},
   "outputs": [],
   "source": [
    "# Create simplified model\n",
    "p = RollRig.base_params(3)  \n",
    "sm = mf.SymbolicModel.from_file('RollRigModel.py')\n"
   ]
  },
  {
   "cell_type": "code",
   "execution_count": 3,
   "metadata": {},
   "outputs": [
    {
     "data": {
      "text/latex": [
       "$\\displaystyle \\left[\\begin{matrix}2 I_{xxf} + I_{xxw} + \\eta_{0}^{2} m_{w} + \\eta_{1}^{2} m_{w} + 2 \\eta_{2}^{2} m_{f} - \\eta_{2} m_{f} s \\sigma \\operatorname{cos}\\left(q_{1}\\right) - \\eta_{2} m_{f} s \\sigma \\operatorname{cos}\\left(q_{2}\\right) + \\eta_{2} m_{f} s \\operatorname{cos}\\left(q_{1}\\right) + \\eta_{2} m_{f} s \\operatorname{cos}\\left(q_{2}\\right) + \\frac{m_{f} s^{2} \\sigma^{2}}{2} - m_{f} s^{2} \\sigma + \\frac{m_{f} s^{2}}{2} & - I_{xxf} - \\eta_{2}^{2} m_{f} + \\frac{\\eta_{2} m_{f} s \\sigma \\operatorname{cos}\\left(q_{1}\\right)}{2} - \\frac{\\eta_{2} m_{f} s \\operatorname{cos}\\left(q_{1}\\right)}{2} & I_{xxf} + \\eta_{2}^{2} m_{f} - \\frac{\\eta_{2} m_{f} s \\sigma \\operatorname{cos}\\left(q_{2}\\right)}{2} + \\frac{\\eta_{2} m_{f} s \\operatorname{cos}\\left(q_{2}\\right)}{2}\\\\- I_{xxf} - \\eta_{2}^{2} m_{f} + \\frac{\\eta_{2} m_{f} s \\sigma \\operatorname{cos}\\left(q_{1}\\right)}{2} - \\frac{\\eta_{2} m_{f} s \\operatorname{cos}\\left(q_{1}\\right)}{2} & I_{xxf} + \\eta_{2}^{2} m_{f} & 0\\\\I_{xxf} + \\eta_{2}^{2} m_{f} - \\frac{\\eta_{2} m_{f} s \\sigma \\operatorname{cos}\\left(q_{2}\\right)}{2} + \\frac{\\eta_{2} m_{f} s \\operatorname{cos}\\left(q_{2}\\right)}{2} & 0 & I_{xxf} + \\eta_{2}^{2} m_{f}\\end{matrix}\\right]$"
      ],
      "text/plain": [
       "⎡                                                                             \n",
       "⎢                    2         2           2                                  \n",
       "⎢2⋅I_xxf + I_xxw + η₀ ⋅m_w + η₁ ⋅m_w + 2⋅η₂ ⋅m_f - η₂⋅m_f⋅s⋅σ⋅cos(q₁) - η₂⋅m_f\n",
       "⎢                                                                             \n",
       "⎢                                                                             \n",
       "⎢                                                              2       η₂⋅m_f⋅\n",
       "⎢                                                   -I_xxf - η₂ ⋅m_f + ───────\n",
       "⎢                                                                             \n",
       "⎢                                                                             \n",
       "⎢                                                              2       η₂⋅m_f⋅\n",
       "⎢                                                    I_xxf + η₂ ⋅m_f - ───────\n",
       "⎣                                                                             \n",
       "\n",
       "                                                          2  2                \n",
       "                                                     m_f⋅s ⋅σ         2     m_\n",
       "⋅s⋅σ⋅cos(q₂) + η₂⋅m_f⋅s⋅cos(q₁) + η₂⋅m_f⋅s⋅cos(q₂) + ───────── - m_f⋅s ⋅σ + ──\n",
       "                                                         2                    \n",
       "                                                                              \n",
       "s⋅σ⋅cos(q₁)   η₂⋅m_f⋅s⋅cos(q₁)                                                \n",
       "─────────── - ────────────────                                                \n",
       " 2                   2                                                        \n",
       "                                                                              \n",
       "s⋅σ⋅cos(q₂)   η₂⋅m_f⋅s⋅cos(q₂)                                                \n",
       "─────────── + ────────────────                                                \n",
       " 2                   2                                                        \n",
       "\n",
       "   2                                                                          \n",
       "f⋅s              2       η₂⋅m_f⋅s⋅σ⋅cos(q₁)   η₂⋅m_f⋅s⋅cos(q₁)            2   \n",
       "────  -I_xxf - η₂ ⋅m_f + ────────────────── - ────────────────  I_xxf + η₂ ⋅m_\n",
       "2                                2                   2                        \n",
       "                                                                              \n",
       "                                    2                                         \n",
       "                          I_xxf + η₂ ⋅m_f                                     \n",
       "                                                                              \n",
       "                                                                              \n",
       "                                                                              \n",
       "                                 0                                            \n",
       "                                                                              \n",
       "\n",
       "                                         ⎤\n",
       "    η₂⋅m_f⋅s⋅σ⋅cos(q₂)   η₂⋅m_f⋅s⋅cos(q₂)⎥\n",
       "f - ────────────────── + ────────────────⎥\n",
       "            2                   2        ⎥\n",
       "                                         ⎥\n",
       "                                         ⎥\n",
       "             0                           ⎥\n",
       "                                         ⎥\n",
       "                                         ⎥\n",
       "                2                        ⎥\n",
       "      I_xxf + η₂ ⋅m_f                    ⎥\n",
       "                                         ⎦"
      ]
     },
     "execution_count": 3,
     "metadata": {},
     "output_type": "execute_result"
    }
   ],
   "source": [
    "sm.M"
   ]
  },
  {
   "cell_type": "code",
   "execution_count": 4,
   "metadata": {},
   "outputs": [],
   "source": [
    "sm.ExtForces = ef.CompositeForce([sm.ExtForces,ef.CustomForce(None)])\n",
    "sm = sm.subs({p.alpha_r.name:0,p.alpha_1.name:sym.atan(sym.sin(p.Lambda)*sym.sin(p.q[1])),\n",
    "             p.alpha_2.name:sym.atan(sym.sin(p.Lambda)*sym.sin(p.q[2]))})\n",
    "sm.to_file('tempModel_free.py')"
   ]
  },
  {
   "cell_type": "code",
   "execution_count": null,
   "metadata": {},
   "outputs": [],
   "source": []
  },
  {
   "cell_type": "code",
   "execution_count": 26,
   "metadata": {},
   "outputs": [],
   "source": [
    "# Add fixed params to dict\n",
    "params = {}\n",
    "params['c'] = 0.067\n",
    "params['s'] = 1\n",
    "params['sigma'] = 0.272\n",
    "params['alpha_r'] = 0\n",
    "params['c_d_max'] = 1\n",
    "params['a_0'] = 2*np.pi\n",
    "params['a_1'] = 2*np.pi\n",
    "params['m_w'] = 0.773\n",
    "params['I_xx_w'] = 0.019480411\n",
    "params['eta_0'] = 0.00198\n",
    "params['eta_1'] = -0.00273\n",
    "params['c_d_max'] = 0"
   ]
  },
  {
   "cell_type": "code",
   "execution_count": 31,
   "metadata": {},
   "outputs": [],
   "source": [
    "# create configs\n",
    "configs = []\n",
    "tmp_params = {}\n",
    "tmp_params['Lambda'] = np.deg2rad(10)\n",
    "tmp_params['alpha_c'] = np.deg2rad(0)\n",
    "tmp_params['eta_2'] = 0.0766*np.cos(tmp_params['Lambda'])\n",
    "tmp_params['I_xx_f'] = 8.85e-5\n",
    "tmp_params['m_f'] = 0.031\n",
    "configs.append(({'Mode':'Free'},tmp_params.copy()))\n",
    "\n",
    "tmp_params = {}\n",
    "tmp_params['Lambda'] = np.deg2rad(20)\n",
    "tmp_params['alpha_c'] = np.deg2rad(0)\n",
    "tmp_params['eta_2'] = 0.0786*np.cos(tmp_params['Lambda'])\n",
    "tmp_params['I_xx_f'] = 8.55e-5\n",
    "tmp_params['m_f'] = 0.0485\n",
    "configs.append(({'Mode':'Free'},tmp_params.copy()))\n",
    "\n",
    "tmp_params = {}\n",
    "tmp_params['Lambda'] = np.deg2rad(30)\n",
    "tmp_params['alpha_c'] = np.deg2rad(0)\n",
    "tmp_params['eta_2'] = 0.0766*np.cos(tmp_params['Lambda'])\n",
    "tmp_params['I_xx_f'] = 8.68e-5\n",
    "tmp_params['m_f'] = 0.05\n",
    "configs.append(({'Mode':'Free'},tmp_params.copy()))"
   ]
  },
  {
   "cell_type": "code",
   "execution_count": 32,
   "metadata": {},
   "outputs": [],
   "source": [
    "# create Jobs\n",
    "attitudes=[]\n",
    "vs = [15,20,25,30]\n",
    "for v in vs:\n",
    "    aas = [7,14,21]\n",
    "    offset = [-0.13,-0.10,0.05]\n",
    "    for i,tm in enumerate([1.57,2.31,2.75]):\n",
    "        beta = (tm)*8.4e-4*v**2+offset[i]\n",
    "        attitudes.append(({\"AileronAngle\":aas[i],},{\"V\":v,\"beta\":beta}))"
   ]
  },
  {
   "cell_type": "code",
   "execution_count": 33,
   "metadata": {},
   "outputs": [
    {
     "data": {
      "text/plain": [
       "({'Mode': 'Free', 'AileronAngle': 7},\n",
       " {'c': 0.067,\n",
       "  's': 1,\n",
       "  'sigma': 0.272,\n",
       "  'alpha_r': 0,\n",
       "  'c_d_max': 0,\n",
       "  'a_0': 6.283185307179586,\n",
       "  'a_1': 6.283185307179586,\n",
       "  'm_w': 0.773,\n",
       "  'I_xx_w': 0.019480411,\n",
       "  'eta_0': 0.00198,\n",
       "  'eta_1': -0.00273,\n",
       "  'Lambda': 0.17453292519943295,\n",
       "  'alpha_c': 0.0,\n",
       "  'eta_2': 0.07543627388073514,\n",
       "  'I_xx_f': 8.85e-05,\n",
       "  'm_f': 0.031,\n",
       "  'V': 15,\n",
       "  'beta': 0.16673000000000004})"
      ]
     },
     "execution_count": 33,
     "metadata": {},
     "output_type": "execute_result"
    }
   ],
   "source": [
    "jobs=[({**config,**att},{**params,**config_params,**att_params}) for config,config_params in configs for att,att_params in attitudes]\n",
    "jobs[0]"
   ]
  },
  {
   "cell_type": "code",
   "execution_count": 34,
   "metadata": {},
   "outputs": [
    {
     "name": "stdout",
     "output_type": "stream",
     "text": [
      "139.9788663750493\n"
     ]
    },
    {
     "data": {
      "text/plain": [
       "{'Mode': 'Free',\n",
       " 'AileronAngle': 14,\n",
       " 'c': 0.067,\n",
       " 's': 1,\n",
       " 'sigma': 0.272,\n",
       " 'alpha_r': 0,\n",
       " 'c_d_max': 0,\n",
       " 'a_0': 6.283185307179586,\n",
       " 'a_1': 6.283185307179586,\n",
       " 'm_w': 0.773,\n",
       " 'I_xx_w': 0.019480411,\n",
       " 'eta_0': 0.00198,\n",
       " 'eta_1': -0.00273,\n",
       " 'Lambda': 0.17453292519943295,\n",
       " 'alpha_c': 0.0,\n",
       " 'eta_2': 0.07543627388073514,\n",
       " 'I_xx_f': 8.85e-05,\n",
       " 'm_f': 0.031,\n",
       " 'V': 15,\n",
       " 'beta': 0.33659000000000006}"
      ]
     },
     "execution_count": 34,
     "metadata": {},
     "output_type": "execute_result"
    },
    {
     "data": {
      "image/png": "[encoded data removed]",
      "text/plain": [
       "<Figure size 432x288 with 1 Axes>"
      ]
     },
     "metadata": {
      "needs_background": "light"
     },
     "output_type": "display_data"
    }
   ],
   "source": [
    "j_i = 1\n",
    "names = ['Roll','Roll Rate','Left FWT Angle','Left FWT Velocity','Right FWT Angle','Right FWT Velocity']\n",
    "#GenRunData('tempModel.py',3,[0]*p.qs*2,10,{**params,**jobs[0]},names,{'Mode':'Free'},100)[100]\n",
    "data = RollRig.GenRunData_StepTorque('tempModel_free.py',3,[0]*6,10,jobs[j_i][1],names,{**jobs[j_i][0]},100)\n",
    "df = pd.DataFrame(data)\n",
    "plt.plot(df['t'],df['torque'])\n",
    "plt.plot(df['t'],np.rad2deg(df['Roll Rate']))\n",
    "plt.plot(df['t'],np.rad2deg(df['Left FWT Angle']))\n",
    "plt.plot(df['t'],np.rad2deg(df['Right FWT Angle']))\n",
    "\n",
    "\n",
    "print(np.rad2deg(df[df['t']>4]['Roll Rate'].mean()))\n",
    "{**jobs[j_i][0],**jobs[j_i][1]}"
   ]
  },
  {
   "cell_type": "code",
   "execution_count": 35,
   "metadata": {},
   "outputs": [
    {
     "name": "stdout",
     "output_type": "stream",
     "text": [
      "CPU times: user 1.03 s, sys: 269 ms, total: 1.3 s\n",
      "Wall time: 39.1 s\n"
     ]
    }
   ],
   "source": [
    "%%time\n",
    "# for each job edit the parameters and pool it \n",
    "pool = mp.Pool(mp.cpu_count())\n",
    "names = ['Roll','Roll Rate','Left FWT Angle','Left FWT Velocity','Right FWT Angle','Right FWT Velocity']\n",
    "\n",
    "res=[]\n",
    "for job in jobs:\n",
    "    res.append(pool.apply_async(RollRig.GenRunData_StepTorque, args = ('tempModel_free.py',3,[0]*6,15,job[1],names,job[0],100)))\n",
    "pool.close()\n",
    "pool.join()\n",
    "\n",
    "ls = []\n",
    "for i in res:\n",
    "    ls += i.get()\n",
    "df = pd.DataFrame(ls)\n",
    "df.to_pickle('FixedData.pkl')"
   ]
  },
  {
   "cell_type": "code",
   "execution_count": 36,
   "metadata": {},
   "outputs": [
    {
     "data": {
      "text/plain": [
       "Lambda    V   AileronAngle\n",
       "0.174533  15  7                72.534116\n",
       "              14              140.263211\n",
       "              21              221.635060\n",
       "          20  7               128.049352\n",
       "              14              210.933945\n",
       "              21              289.264643\n",
       "          25  7               183.320767\n",
       "              14              278.948826\n",
       "              21              358.606275\n",
       "          30  7               233.121827\n",
       "              14              344.001185\n",
       "              21              427.605241\n",
       "0.349066  15  7                64.579178\n",
       "              14              139.013837\n",
       "              21              227.072840\n",
       "          20  7               129.564998\n",
       "              14              213.495631\n",
       "              21              291.807949\n",
       "          25  7               182.715427\n",
       "              14              282.157206\n",
       "              21              357.074110\n",
       "          30  7               228.337334\n",
       "              14              337.428622\n",
       "              21              417.432789\n",
       "0.523599  15  7                64.629967\n",
       "              14              141.740437\n",
       "              21              232.810423\n",
       "          20  7               134.374390\n",
       "              14              221.886807\n",
       "              21              305.078783\n",
       "          25  7               187.395194\n",
       "              14              291.903212\n",
       "              21              375.328912\n",
       "          30  7               235.922032\n",
       "              14              357.529470\n",
       "              21              443.625286\n",
       "Name: Roll Rate [Deg], dtype: float64"
      ]
     },
     "execution_count": 36,
     "metadata": {},
     "output_type": "execute_result"
    }
   ],
   "source": [
    "df['Roll Rate [Deg]']=np.rad2deg(df['Roll Rate'])\n",
    "df[df['t']>4].groupby(['Lambda','V','AileronAngle'])['Roll Rate [Deg]'].mean()"
   ]
  },
  {
   "cell_type": "code",
   "execution_count": 37,
   "metadata": {},
   "outputs": [],
   "source": [
    "df.to_csv(r'/Users/fintan/Git/FlexiFWT_DAQ/Analysis/RollingRigV3/ModelComparison/FreeData.csv', index = False)"
   ]
  },
  {
   "cell_type": "code",
   "execution_count": null,
   "metadata": {},
   "outputs": [],
   "source": []
  }
 ],
 "metadata": {
  "kernelspec": {
   "display_name": "Python 3",
   "language": "python",
   "name": "python3"
  },
  "language_info": {
   "codemirror_mode": {
    "name": "ipython",
    "version": 3
   },
   "file_extension": ".py",
   "mimetype": "text/x-python",
   "name": "python",
   "nbconvert_exporter": "python",
   "pygments_lexer": "ipython3",
   "version": "3.7.7"
  }
 },
 "nbformat": 4,
 "nbformat_minor": 4
}
