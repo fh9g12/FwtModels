{
 "cells": [
  {
   "cell_type": "code",
   "execution_count": 1,
   "metadata": {},
   "outputs": [],
   "source": [
    "import copy\n",
    "from aerosandbox import *\n",
    "from aerosandbox.library.airfoils import e216, naca0008\n",
    "import time\n",
    "import plotly.express as px\n",
    "import pandas as pd\n",
    "import plotly.graph_objects as go\n",
    "\n",
    "opti = cas.Opti()  # Initialize an analysis/optimization environment"
   ]
  },
  {
   "cell_type": "code",
   "execution_count": 2,
   "metadata": {},
   "outputs": [],
   "source": [
    "## define constants\n",
    "v = 22.5 \n",
    "aoa = 0\n",
    "rr = 0\n",
    "span = 1 #* 0.728\n",
    "sigma = 0.728\n",
    "fwt_angle = 2"
   ]
  },
  {
   "cell_type": "code",
   "execution_count": 3,
   "metadata": {},
   "outputs": [],
   "source": [
    "# Define Geometry\n",
    "# Here, all distances are in meters and all angles are in degrees.\n",
    "airplane = Airplane(\n",
    "    name=\"RollingRigSimple\",\n",
    "    x_ref=0,  # CG location\n",
    "    y_ref=0,  # CG location\n",
    "    z_ref=0,  # CG location\n",
    "    wings=[\n",
    "        Wing(\n",
    "            name=\"Main Wing\",\n",
    "            x_le=0,  # Coordinates of the wing's leading edge\n",
    "            y_le=0,  # Coordinates of the wing's leading edge\n",
    "            z_le=0,  # Coordinates of the wing's leading edge\n",
    "            symmetric=True,\n",
    "            xsecs=[  # The wing's cross (\"X\") sections\n",
    "                WingXSec(  # left tip\n",
    "                    x_le=0,  # Coordinates of the XSec's leading edge, relative to the wing's leading edge.\n",
    "                    y_le=0,  # Coordinates of the XSec's leading edge, relative to the wing's leading edge.\n",
    "                    z_le=0,  # Coordinates of the XSec's leading edge, relative to the wing's leading edge.\n",
    "                    chord=0.067,\n",
    "                    twist=0,  # degrees\n",
    "                    airfoil=naca0008,  # Airfoils are blended between a given XSec and the next one.\n",
    "                    spanwise_panels = 30,\n",
    "                ),\n",
    "                WingXSec(  # left tip\n",
    "                    x_le=0,  # Coordinates of the XSec's leading edge, relative to the wing's leading edge.\n",
    "                    y_le=span/2*sigma-0.001,  # Coordinates of the XSec's leading edge, relative to the wing's leading edge.\n",
    "                    z_le=0,  # Coordinates of the XSec's leading edge, relative to the wing's leading edge.\n",
    "                    chord=0.067,\n",
    "                    twist=0,  # degrees\n",
    "                    airfoil=naca0008,  # Airfoils are blended between a given XSec and the next one.\n",
    "                ),\n",
    "                WingXSec(  # left tip\n",
    "                    x_le=0,  # Coordinates of the XSec's leading edge, relative to the wing's leading edge.\n",
    "                    y_le=span/2*sigma,  # Coordinates of the XSec's leading edge, relative to the wing's leading edge.\n",
    "                    z_le=0,  # Coordinates of the XSec's leading edge, relative to the wing's leading edge.\n",
    "                    chord=0.067,\n",
    "                    twist=fwt_angle,  # degrees\n",
    "                    airfoil=naca0008,  # Airfoils are blended between a given XSec and the next one.\n",
    "                ),\n",
    "                WingXSec(  # left tip\n",
    "                    x_le=0,  # Coordinates of the XSec's leading edge, relative to the wing's leading edge.\n",
    "                    y_le=span/2,  # Coordinates of the XSec's leading edge, relative to the wing's leading edge.\n",
    "                    z_le=0,  # Coordinates of the XSec's leading edge, relative to the wing's leading edge.\n",
    "                    chord=0.067,\n",
    "                    twist=fwt_angle,  # degrees\n",
    "                    airfoil=naca0008,  # Airfoils are blended between a given XSec and the next one.\n",
    "                ),\n",
    "            ]\n",
    "        ),\n",
    "    ]\n",
    ")"
   ]
  },
  {
   "cell_type": "code",
   "execution_count": 4,
   "metadata": {},
   "outputs": [],
   "source": [
    "ap = Casll1(  # Set up the AeroProblem\n",
    "    airplane=airplane,\n",
    "    op_point=OperatingPoint(\n",
    "        density=1.225,  # kg/m^3\n",
    "        viscosity=1.81e-5,  # kg/m-s\n",
    "        velocity=v,  # m/s\n",
    "        mach=0,  # Freestream mach number\n",
    "        alpha=aoa,  # In degrees\n",
    "        beta=0,  # In degrees\n",
    "        p=np.deg2rad(rr),  # About the body x-axis, in rad/sec\n",
    "        q=0,  # About the body y-axis, in rad/sec\n",
    "        r=0,  # About the body z-axis, in rad/sec\n",
    "    ),\n",
    "    opti=opti,  # Pass it an optimization environment to work in\n",
    "    run_setup=False\n",
    ")\n",
    "ap.setup(verbose=False)\n",
    "# Solver options\n",
    "opti.solver('ipopt')"
   ]
  },
  {
   "cell_type": "code",
   "execution_count": 5,
   "metadata": {},
   "outputs": [
    {
     "name": "stdout",
     "output_type": "stream",
     "text": [
      "\n",
      "******************************************************************************\n",
      "This program contains Ipopt, a library for large-scale nonlinear optimization.\n",
      " Ipopt is released as open source code under the Eclipse Public License (EPL).\n",
      "         For more information visit http://projects.coin-or.org/Ipopt\n",
      "******************************************************************************\n",
      "\n",
      "This is Ipopt version 3.12.3, running with linear solver mumps.\n",
      "NOTE: Other linear solvers might be more efficient (see Ipopt documentation).\n",
      "\n",
      "Number of nonzeros in equality constraint Jacobian...:     2116\n",
      "Number of nonzeros in inequality constraint Jacobian.:        0\n",
      "Number of nonzeros in Lagrangian Hessian.............:     1081\n",
      "\n",
      "Total number of variables............................:       46\n",
      "                     variables with only lower bounds:        0\n",
      "                variables with lower and upper bounds:        0\n",
      "                     variables with only upper bounds:        0\n",
      "Total number of equality constraints.................:       46\n",
      "Total number of inequality constraints...............:        0\n",
      "        inequality constraints with only lower bounds:        0\n",
      "   inequality constraints with lower and upper bounds:        0\n",
      "        inequality constraints with only upper bounds:        0\n",
      "\n",
      "iter    objective    inf_pr   inf_du lg(mu)  ||d||  lg(rg) alpha_du alpha_pr  ls\n",
      "   0  0.0000000e+00 2.19e-01 0.00e+00  -1.0 0.00e+00    -  0.00e+00 0.00e+00   0\n",
      "   1  0.0000000e+00 1.29e-04 0.00e+00  -1.7 1.06e-01    -  1.00e+00 1.00e+00h  1\n",
      "   2  0.0000000e+00 4.58e-11 0.00e+00  -5.7 5.71e-05    -  1.00e+00 1.00e+00h  1\n",
      "\n",
      "Number of Iterations....: 2\n",
      "\n",
      "                                   (scaled)                 (unscaled)\n",
      "Objective...............:   0.0000000000000000e+00    0.0000000000000000e+00\n",
      "Dual infeasibility......:   0.0000000000000000e+00    0.0000000000000000e+00\n",
      "Constraint violation....:   4.5750167543268105e-11    4.5750167543268105e-11\n",
      "Complementarity.........:   0.0000000000000000e+00    0.0000000000000000e+00\n",
      "Overall NLP error.......:   4.5750167543268105e-11    4.5750167543268105e-11\n",
      "\n",
      "\n",
      "Number of objective function evaluations             = 3\n",
      "Number of objective gradient evaluations             = 3\n",
      "Number of equality constraint evaluations            = 3\n",
      "Number of inequality constraint evaluations          = 0\n",
      "Number of equality constraint Jacobian evaluations   = 3\n",
      "Number of inequality constraint Jacobian evaluations = 0\n",
      "Number of Lagrangian Hessian evaluations             = 2\n",
      "Total CPU secs in IPOPT (w/o function evaluations)   =      0.006\n",
      "Total CPU secs in NLP function evaluations           =      0.009\n",
      "\n",
      "EXIT: Optimal Solution Found.\n",
      "      solver  :   t_proc      (avg)   t_wall      (avg)    n_eval\n",
      "       nlp_f  |   8.00us (  2.67us)   8.08us (  2.69us)         3\n",
      "       nlp_g  | 260.00us ( 86.67us) 198.88us ( 66.29us)         3\n",
      "  nlp_grad_f  |  31.00us (  7.75us)  15.39us (  3.85us)         4\n",
      "  nlp_hess_l  |   2.37ms (  1.18ms)   2.37ms (  1.19ms)         2\n",
      "   nlp_jac_g  |   8.77ms (  2.19ms)   8.51ms (  2.13ms)         4\n",
      "       total  |  17.82ms ( 17.82ms)  16.62ms ( 16.62ms)         1\n",
      "--- 0.16027212142944336 seconds ---\n"
     ]
    },
    {
     "data": {
      "text/plain": [
       "<aerosandbox.aerodynamics.casll1.Casll1 at 0x7f982ba07490>"
      ]
     },
     "execution_count": 5,
     "metadata": {},
     "output_type": "execute_result"
    }
   ],
   "source": [
    "# Solve\n",
    "start_time = time.time()\n",
    "sol = opti.solve()\n",
    "print(\"--- %s seconds ---\" % (time.time() - start_time))\n",
    "# left_fwt_vert_L =np.sum(ap_sol.) \n",
    "# Postprocess\n",
    "\n",
    "# Create solved object\n",
    "ap_sol = copy.deepcopy(ap)\n",
    "ap_sol.substitute_solution(sol)"
   ]
  },
  {
   "cell_type": "code",
   "execution_count": 6,
   "metadata": {},
   "outputs": [],
   "source": [
    "# Plot Geometry\n",
    "ap_sol.draw()"
   ]
  },
  {
   "cell_type": "code",
   "execution_count": 7,
   "metadata": {},
   "outputs": [
    {
     "name": "stderr",
     "output_type": "stream",
     "text": [
      "/Users/fintan/opt/anaconda3/lib/python3.7/site-packages/ipykernel_launcher.py:6: RuntimeWarning:\n",
      "\n",
      "divide by zero encountered in true_divide\n",
      "\n"
     ]
    }
   ],
   "source": [
    "# Generate Lift Distrobution\n",
    "x = np.array([[float(abs(i[1])) for i in ap_sol.vortex_centers]])\n",
    "y = np.array([[sum(ap_sol.forces_inviscid_geometry[i]*ap_sol.normal_directions[i]) for i in range(x.size)]])\n",
    "# y = np.where(x<(span/2*sigma),0,y)\n",
    "local_aoa = np.array([np.arctan(x[0]/x[2]) for x in ap_sol.normal_directions])\n",
    "cl = 2*y/(v**2*ap_sol.areas*1.225*(np.deg2rad(aoa)+x*np.deg2rad(rr)/v+local_aoa))\n",
    "# y /= v**2*ap_sol.areas*1.225*(np.deg2rad(aoa)+x*np.deg2rad(rr)/v)\n",
    "x = np.append(x,span/2)\n",
    "cl = np.append(cl,0)\n",
    "y = np.append(y,0)\n",
    "\n",
    "fig = px.scatter(x=x, y=cl)\n",
    "fig.add_trace(go.Scatter(x=x,y=local_aoa+np.deg2rad(aoa)))\n",
    "# fig.add_trace(go.Scatter(x=df['y'],y=df['C_l']))\n",
    "# fig.add_trace(go.Line(x=[0.5*0.782]*2,y=[0,2*np.pi]))\n",
    "# fig.add_trace(go.Line(x=[0,0.5*0.782,0.5]*2,y=[2*np.pi,2*np.pi,2*np.pi]))\n",
    "# fig.add_trace(go.Line(x=[0,0.5*0.782,0.5]*2,y=[2*np.pi,2*np.pi,0]))\n",
    "fig.show()"
   ]
  },
  {
   "cell_type": "code",
   "execution_count": 8,
   "metadata": {},
   "outputs": [],
   "source": [
    "# save Lift Distrobution\n",
    "record = [{\"y\":x_i,\"C_l\":cl[i],\"aoa\":round(aoa),\"RollRate\":round(rr),\"span\":round(span*100)} for i,x_i in enumerate(x)]\n",
    "\n",
    "df = pd.DataFrame(record)\n",
    "df.to_csv(f'LiftDistribution_level_fwt_angle_2.csv', index = False)"
   ]
  },
  {
   "cell_type": "code",
   "execution_count": 9,
   "metadata": {},
   "outputs": [],
   "source": [
    "# Plot Lift Distributuion\n",
    "#df = pd.read_csv(f'LiftDistribution_aoa_{1}_rr_{round(rr)}_span_{round(0.5*100)}.csv')\n",
    "fig = px.scatter(x=x, y=y)\n",
    "fig.add_trace(go.Scatter(x=df['y'],y=df['C_l']))\n",
    "# fig.add_trace(go.Line(x=[0.5*0.782]*2,y=[0,2*np.pi]))\n",
    "# fig.add_trace(go.Line(x=[0,0.5*0.782,0.5]*2,y=[2*np.pi,2*np.pi,2*np.pi]))\n",
    "# fig.add_trace(go.Line(x=[0,0.5*0.782,0.5]*2,y=[2*np.pi,2*np.pi,0]))\n",
    "fig.show()"
   ]
  },
  {
   "cell_type": "code",
   "execution_count": null,
   "metadata": {},
   "outputs": [],
   "source": []
  },
  {
   "cell_type": "code",
   "execution_count": null,
   "metadata": {},
   "outputs": [],
   "source": []
  },
  {
   "cell_type": "code",
   "execution_count": null,
   "metadata": {},
   "outputs": [],
   "source": []
  }
 ],
 "metadata": {
  "kernelspec": {
   "display_name": "Python 3",
   "language": "python",
   "name": "python3"
  },
  "language_info": {
   "codemirror_mode": {
    "name": "ipython",
    "version": 3
   },
   "file_extension": ".py",
   "mimetype": "text/x-python",
   "name": "python",
   "nbconvert_exporter": "python",
   "pygments_lexer": "ipython3",
   "version": "3.7.7"
  }
 },
 "nbformat": 4,
 "nbformat_minor": 4
}
