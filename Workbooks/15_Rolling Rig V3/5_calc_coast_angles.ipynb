{
 "cells": [
  {
   "cell_type": "code",
   "execution_count": 1,
   "metadata": {},
   "outputs": [],
   "source": [
    "import sympy as sym\n",
    "import sympy.physics.mechanics as me\n",
    "from sympy.abc import t as time\n",
    "import pandas as pd\n",
    "import seaborn as sns\n",
    "\n",
    "import numpy as np\n",
    "from scipy.integrate import solve_ivp\n",
    "import matplotlib.pyplot as plt\n",
    "from scipy.interpolate import interp1d\n",
    "from scipy.optimize import fsolve,least_squares,root\n",
    "\n",
    "import sys, os\n",
    "import pickle\n",
    "\n",
    "sys.path.insert(1, os.path.join(sys.path[0], '../..'))\n",
    "import custom_plot_objects as cpo\n",
    "\n",
    "import ModelFramework as mf\n",
    "import ModelFramework.Elements as ele\n",
    "import ModelFramework.ExternalForces as ef\n",
    "import FwtModels.RectWing as rw\n",
    "import FwtModels.RollRig as RollRig\n",
    "import multiprocessing as mp\n",
    "from multiprocessing import set_start_method\n",
    "#set_start_method(\"spawn\")\n",
    "\n",
    "from matplotlib.lines import Line2D\n",
    "\n",
    "me.mechanics_printing()"
   ]
  },
  {
   "cell_type": "code",
   "execution_count": 2,
   "metadata": {},
   "outputs": [],
   "source": [
    "# Create simplified model\n",
    "fwt_panels = 10\n",
    "main_panels = 10\n",
    "\n",
    "p = RollRig.base_params(3, panels = fwt_panels*2 + main_panels)  \n",
    "sm = mf.SymbolicModel.from_file('RollRigModel.py')\n"
   ]
  },
  {
   "cell_type": "code",
   "execution_count": 3,
   "metadata": {},
   "outputs": [],
   "source": [
    "sm.ExtForces = ef.CompositeForce([sm.ExtForces,ef.CustomForce(None)])\n",
    "sm = sm.subs({p.alpha_r.name:0,p.alpha_1.name:sym.atan(sym.sin(p.Lambda)*sym.sin(p.q[1])),\n",
    "             p.alpha_2.name:sym.atan(sym.sin(p.Lambda)*sym.sin(p.q[2]))})\n",
    "sm.to_file('tempModel_free.py')"
   ]
  },
  {
   "cell_type": "code",
   "execution_count": 4,
   "metadata": {},
   "outputs": [],
   "source": [
    "# Add fixed params to dict\n",
    "params = {}\n",
    "params['c'] = 0.067\n",
    "params['s'] = 1\n",
    "params['sigma'] = 0.272\n",
    "params['alpha_r'] = 0\n",
    "params['c_d_max'] = 1\n",
    "params['a_0'] = 2*np.pi\n",
    "params['a_1'] = 2*np.pi\n",
    "params['m_w'] = 0.773\n",
    "params['I_xx_w'] = 0.019480411\n",
    "params['eta_0'] = 0.00198\n",
    "params['eta_1'] = -0.00273\n",
    "params['c_d_max'] = 1"
   ]
  },
  {
   "cell_type": "code",
   "execution_count": 5,
   "metadata": {},
   "outputs": [],
   "source": [
    "# create lift distrobution\n",
    "\n",
    "\n",
    "s_w = params['s']*(1-params['sigma'])\n",
    "delta = s_w / main_panels\n",
    "y_panel_main = np.linspace(-s_w/2+delta/2,s_w/2-delta/2,main_panels)\n",
    "\n",
    "s_f = params['s']*params['sigma']/2\n",
    "delta = s_f / fwt_panels\n",
    "y_panel_fwt = np.linspace(delta/2,s_f-delta/2,fwt_panels)+s_w/2\n",
    "y_panel = [*-np.flip(y_panel_fwt),*y_panel_main,*y_panel_fwt]\n",
    "y_panel = [i/(params['s']/2) for i in y_panel]\n",
    "\n",
    "## load lift distribution\n",
    "df = pd.read_csv(r'/Users/fintan/Git/FlexiFWT_DAQ/Analysis/RollingRigV3/ModelComparison/LiftDistribution.csv')\n",
    "df\n",
    "y_span = df['y'].to_numpy()\n",
    "y_span /= max(y_span)\n",
    "y_c_l = df['C_l'].to_numpy()\n",
    "\n",
    "# interpolate on each panel\n",
    "params['a'] = list(np.interp(np.abs(y_panel),y_span,y_c_l))"
   ]
  },
  {
   "cell_type": "code",
   "execution_count": 6,
   "metadata": {},
   "outputs": [],
   "source": [
    "# create configs\n",
    "configs = []\n",
    "tmp_params = {}\n",
    "tmp_params['Lambda'] = np.deg2rad(10)\n",
    "tmp_params['alpha_c'] = np.deg2rad(0)\n",
    "tmp_params['eta_2'] = 0.0766*np.cos(tmp_params['Lambda'])\n",
    "tmp_params['I_xx_f'] = 8.85e-5\n",
    "tmp_params['m_f'] = 0.051\n",
    "configs.append(({'Mode':'Free'},tmp_params.copy()))\n",
    "\n",
    "tmp_params = {}\n",
    "tmp_params['Lambda'] = np.deg2rad(20)\n",
    "tmp_params['alpha_c'] = np.deg2rad(0)\n",
    "tmp_params['eta_2'] = 0.0786*np.cos(tmp_params['Lambda'])\n",
    "tmp_params['I_xx_f'] = 8.55e-5\n",
    "tmp_params['m_f'] = 0.0485\n",
    "configs.append(({'Mode':'Free'},tmp_params.copy()))\n",
    "\n",
    "tmp_params = {}\n",
    "tmp_params['Lambda'] = np.deg2rad(30)\n",
    "tmp_params['alpha_c'] = np.deg2rad(0)\n",
    "tmp_params['eta_2'] = 0.0766*np.cos(tmp_params['Lambda'])\n",
    "tmp_params['I_xx_f'] = 8.68e-5\n",
    "tmp_params['m_f'] = 0.05\n",
    "configs.append(({'Mode':'Free'},tmp_params.copy()))"
   ]
  },
  {
   "cell_type": "code",
   "execution_count": 7,
   "metadata": {},
   "outputs": [],
   "source": [
    "# create Jobs\n",
    "rolls = np.linspace(-180,180,11)\n",
    "roll_rate = np.round((1-np.cos(np.linspace(0,np.pi/2,15)))*720)\n",
    "velocity = np.array([15,20,25,30])\n",
    "\n",
    "\n",
    "atts = np.array(np.meshgrid(rolls,velocity,roll_rate)).T.reshape(-1,3)\n",
    "\n",
    "attitudes=[]\n",
    "for att in atts:\n",
    "    attitudes.append(({\"q_i\":[np.deg2rad(att[0]),np.deg2rad(att[2]),0,0,0,0],\"Roll\":att[0],\"Roll Rate\":att[2]},\n",
    "                      {\"V\":att[1]}))"
   ]
  },
  {
   "cell_type": "code",
   "execution_count": 8,
   "metadata": {},
   "outputs": [],
   "source": [
    "jobs=[({**config,**att},{**params,**config_params,**att_params}) for config,config_params in configs for att,att_params in attitudes]\n"
   ]
  },
  {
   "cell_type": "code",
   "execution_count": 15,
   "metadata": {},
   "outputs": [],
   "source": [
    "sm = mf.SymbolicModel.from_file('tempModel_free.py')\n",
    "nm = mf.NumericModel.from_SymbolicModel(p,sm)\n",
    "qs = 3\n",
    "p = RollRig.base_params(qs,panels = fwt_panels*2 + main_panels)\n",
    "p_vars = vars(p)\n",
    "for string, value in params.items():\n",
    "    if string in p_vars:\n",
    "        p_vars[string].value = value\n",
    "# Create Objetive Function\n",
    "def objective_func(x, roll, roll_rate, index):\n",
    "    y=[0]*6\n",
    "    y[0] = roll\n",
    "    y[1] = roll_rate\n",
    "    y[2] = np.deg2rad(x[0])\n",
    "    y[4] = np.deg2rad(x[1])\n",
    "    tup = p.GetNumericTuple(y, 0)  \n",
    "    forces = -nm.f_func(tup,y)+nm.ExtForces(tup,y,0)\n",
    "    return forces[1][0]**2 + forces[2][0]**2    "
   ]
  },
  {
   "cell_type": "code",
   "execution_count": 16,
   "metadata": {},
   "outputs": [
    {
     "data": {
      "text/plain": [
       "numpy.float64"
      ]
     },
     "execution_count": 16,
     "metadata": {},
     "output_type": "execute_result"
    }
   ],
   "source": [
    "type(objective_func([0,1],0.3,0,1))"
   ]
  },
  {
   "cell_type": "code",
   "execution_count": 17,
   "metadata": {},
   "outputs": [],
   "source": [
    "from scipy.optimize import minimize\n",
    "sm = mf.SymbolicModel.from_file('tempModel_free.py')\n",
    "nm = mf.NumericModel.from_SymbolicModel(p,sm)\n",
    "def calc_coast_angle(filename, qs, ic, params, additional_cols={}):\n",
    "    # Set the parameters\n",
    "    p = RollRig.base_params(qs,panels = 20)\n",
    "    p_vars = vars(p)\n",
    "    for string, value in params.items():\n",
    "        if string in p_vars:\n",
    "            p_vars[string].value = value\n",
    "        \n",
    "    # Create Objetive Function\n",
    "    def objective_func(x, roll, roll_rate, index):\n",
    "        y=[0]*6\n",
    "        y[0] = roll\n",
    "        y[1] = roll_rate\n",
    "        y[2] = np.deg2rad(x[0])\n",
    "        y[4] = np.deg2rad(x[1])\n",
    "        tup = p.GetNumericTuple(y, 0)  \n",
    "        forces = -nm.f_func(tup,y)+nm.ExtForces(tup,y,0)\n",
    "        return forces[1][0]**2 + forces[2][0]**2\n",
    "    \n",
    "    # create function to find a good inital guess\n",
    "    # find left and right cruise angle\n",
    "    res = minimize(objective_func, [0,0], args=(ic[0], ic[1], 1))\n",
    "\n",
    "    # calculate roll torque in coast postion\n",
    "    if res.success:# and res_right.success:\n",
    "        y = [ic[0],ic[1], np.deg2rad(res.x[0]), 0, np.deg2rad(res.x[1]), 0]\n",
    "        tup = p.GetNumericTuple(y, 0)       \n",
    "        forces = -nm.f_func(tup,y)+nm.ExtForces(tup,y,0)\n",
    "        torq = forces[0][0]\n",
    "    else:\n",
    "        torq = np.nan\n",
    "\n",
    "    # return result\n",
    "    result = []\n",
    "    result.append({\"Torque\":torq,\"Side\":\"Left\",\n",
    "                \"CoastAngle\":res.x[0] if res.success else np.nan,\n",
    "                **params, **additional_cols })\n",
    "    result.append({\"Torque\":torq,\"Side\":\"Right\",\n",
    "                \"CoastAngle\":res.x[1] if res.success else np.nan,\n",
    "                **params, **additional_cols})\n",
    "    return result"
   ]
  },
  {
   "cell_type": "code",
   "execution_count": 18,
   "metadata": {},
   "outputs": [
    {
     "name": "stdout",
     "output_type": "stream",
     "text": [
      "39.8 ms ± 0 ns per loop (mean ± std. dev. of 1 run, 5 loops each)\n"
     ]
    }
   ],
   "source": [
    "j_i = 1\n",
    "%timeit -n 5 -r 1 data = calc_coast_angle('tempModel_free.py',3,[np.deg2rad(0),np.deg2rad(-120),0,0,0,0],jobs[j_i][1],{**jobs[j_i][0]})"
   ]
  },
  {
   "cell_type": "code",
   "execution_count": 19,
   "metadata": {},
   "outputs": [
    {
     "name": "stdout",
     "output_type": "stream",
     "text": [
      "CPU times: user 3.26 s, sys: 9.11 ms, total: 3.27 s\n",
      "Wall time: 3.27 s\n"
     ]
    }
   ],
   "source": [
    "%%time\n",
    "ls = []\n",
    "for job in jobs[1:100]:\n",
    "    for res in calc_coast_angle('tempModel_free.py',3,job[0]['q_i'],job[1],job[0]):\n",
    "        ls.append(res)\n",
    "df = pd.DataFrame(ls)\n",
    "df.to_pickle('FixedData.pkl')"
   ]
  },
  {
   "cell_type": "code",
   "execution_count": 20,
   "metadata": {},
   "outputs": [
    {
     "name": "stdout",
     "output_type": "stream",
     "text": [
      "CPU times: user 1.25 s, sys: 148 ms, total: 1.4 s\n",
      "Wall time: 17.6 s\n"
     ]
    }
   ],
   "source": [
    "%%time\n",
    "# for each job edit the parameters and pool it \n",
    "pool = mp.Pool(mp.cpu_count())\n",
    "res=[]\n",
    "for job in jobs:\n",
    "    res.append(pool.apply_async(calc_coast_angle, args = ('tempModel_free.py',3,job[0]['q_i'],job[1],job[0])))\n",
    "pool.close()\n",
    "pool.join()\n",
    "\n",
    "ls = []\n",
    "for i in res:\n",
    "    ls += i.get()\n",
    "df = pd.DataFrame(ls)\n",
    "df.to_pickle('FixedData.pkl')"
   ]
  },
  {
   "cell_type": "code",
   "execution_count": 21,
   "metadata": {},
   "outputs": [],
   "source": [
    "df['Flare']=np.rad2deg(df['Lambda'])\n",
    "df['Camber']=np.rad2deg(df['alpha_c'])\n",
    "df.to_csv(r'/Users/fintan/Git/FlexiFWT_DAQ/Analysis/RollingRigV3/ModelComparison/CoastData.csv', index = False)"
   ]
  },
  {
   "cell_type": "code",
   "execution_count": 22,
   "metadata": {},
   "outputs": [
    {
     "data": {
      "text/plain": [
       "<matplotlib.axes._subplots.AxesSubplot at 0x7fd23d8aca90>"
      ]
     },
     "execution_count": 22,
     "metadata": {},
     "output_type": "execute_result"
    },
    {
     "data": {
      "image/png": "[encoded data removed]",
      "text/plain": [
       "<Figure size 432x288 with 1 Axes>"
      ]
     },
     "metadata": {
      "needs_background": "light"
     },
     "output_type": "display_data"
    }
   ],
   "source": [
    "sns.lineplot(data=df[(df['Roll']==0) & (df['V']==15.0)],x='Roll Rate',y='CoastAngle',hue=\"Side\",style='Lambda')\n"
   ]
  },
  {
   "cell_type": "code",
   "execution_count": null,
   "metadata": {},
   "outputs": [],
   "source": [
    "y=np.deg2rad([10,40,20,0,-20,0])\n",
    "%timeit -n 100 -r 100 nm.ExtForces(p.GetNumericTuple(y,0),y,0)"
   ]
  },
  {
   "cell_type": "code",
   "execution_count": null,
   "metadata": {},
   "outputs": [],
   "source": [
    "np.round((1-np.cos(np.linspace(0,np.pi/2,15)))*720)"
   ]
  },
  {
   "cell_type": "code",
   "execution_count": null,
   "metadata": {},
   "outputs": [],
   "source": []
  }
 ],
 "metadata": {
  "kernelspec": {
   "display_name": "Python 3",
   "language": "python",
   "name": "python3"
  },
  "language_info": {
   "codemirror_mode": {
    "name": "ipython",
    "version": 3
   },
   "file_extension": ".py",
   "mimetype": "text/x-python",
   "name": "python",
   "nbconvert_exporter": "python",
   "pygments_lexer": "ipython3",
   "version": "3.7.7"
  }
 },
 "nbformat": 4,
 "nbformat_minor": 4
}
