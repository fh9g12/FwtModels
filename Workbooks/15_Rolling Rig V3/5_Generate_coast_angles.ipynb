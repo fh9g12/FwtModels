{
 "cells": [
  {
   "cell_type": "code",
   "execution_count": 1,
   "metadata": {},
   "outputs": [],
   "source": [
    "import sympy as sym\n",
    "import sympy.physics.mechanics as me\n",
    "from sympy.abc import t as time\n",
    "import pandas as pd\n",
    "import seaborn as sns\n",
    "\n",
    "import numpy as np\n",
    "from scipy.integrate import solve_ivp\n",
    "import matplotlib.pyplot as plt\n",
    "from scipy.interpolate import interp1d\n",
    "from scipy.optimize import fsolve,least_squares,root\n",
    "\n",
    "import sys, os\n",
    "import pickle\n",
    "\n",
    "sys.path.insert(1, os.path.join(sys.path[0], '../..'))\n",
    "import custom_plot_objects as cpo\n",
    "\n",
    "import ModelFramework as mf\n",
    "import ModelFramework.Elements as ele\n",
    "import ModelFramework.ExternalForces as ef\n",
    "import FwtModels.RectWing as rw\n",
    "import FwtModels.RollRig as RollRig\n",
    "import multiprocessing as mp\n",
    "from multiprocessing import set_start_method\n",
    "#set_start_method(\"spawn\")\n",
    "\n",
    "from matplotlib.lines import Line2D\n",
    "\n",
    "me.mechanics_printing()"
   ]
  },
  {
   "cell_type": "code",
   "execution_count": 2,
   "metadata": {},
   "outputs": [],
   "source": [
    "# Create simplified model\n",
    "fwt_panels = 10\n",
    "main_panels = 20\n",
    "\n",
    "p = RollRig.base_params(3, panels = fwt_panels*2 + main_panels)  \n",
    "sm = mf.SymbolicModel.from_file('RollRigModel.py')"
   ]
  },
  {
   "cell_type": "code",
   "execution_count": 3,
   "metadata": {},
   "outputs": [],
   "source": [
    "sm.ExtForces = ef.CompositeForce([sm.ExtForces,ef.CustomForce(None)])\n",
    "sm = sm.subs({p.alpha_r.name:0,p.alpha_1.name:sym.atan(sym.sin(p.Lambda)*sym.tan(p.q[1])),\n",
    "             p.alpha_2.name:sym.atan(sym.sin(p.Lambda)*sym.tan(p.q[2]))})\n",
    "sm.to_file('tempModel_free.py')"
   ]
  },
  {
   "cell_type": "code",
   "execution_count": 4,
   "metadata": {},
   "outputs": [],
   "source": [
    "# Add fixed params to dict\n",
    "params = {}\n",
    "params['c'] = 0.067\n",
    "params['s'] = 1\n",
    "params['g'] = 9.81\n",
    "params['sigma'] = 0.272\n",
    "params['alpha_r'] = 0\n",
    "params['c_d_max'] = 1\n",
    "params['m_w'] = 0.773\n",
    "params['I_xx_w'] = 0.019480411\n",
    "params['y_w'] = 0.00198\n",
    "params['z_w'] = -0.00273\n",
    "params['c_d_max'] = 0\n",
    "params['T'] = 0.12"
   ]
  },
  {
   "cell_type": "code",
   "execution_count": 5,
   "metadata": {},
   "outputs": [],
   "source": [
    "# create lift distribution\n",
    "def create_lift_dist_from_file(filename,span,sigma,main_panels,fwt_panels):\n",
    "    s_w = span*(1-sigma)\n",
    "    delta = s_w / main_panels\n",
    "    y_panel_main = np.linspace(-s_w/2+delta/2,s_w/2-delta/2,main_panels)\n",
    "\n",
    "    s_f = span*sigma/2\n",
    "    delta = s_f / fwt_panels\n",
    "    y_panel_fwt = np.linspace(delta/2,s_f-delta/2,fwt_panels)+s_w/2\n",
    "    y_panel = [*-np.flip(y_panel_fwt),*y_panel_main,*y_panel_fwt]\n",
    "\n",
    "    ## load lift distribution\n",
    "    df = pd.read_csv(filename)\n",
    "    y_span = df['y'].to_numpy()\n",
    "    y_c_l = df['C_l'].to_numpy()\n",
    "\n",
    "    # interpolate on each panel\n",
    "    return list(np.interp(np.abs(y_panel),y_span,y_c_l,left=0,right=0))\n",
    "\n",
    "def create_const_lift_dist(main_panels,fwt_panels):\n",
    "    return [np.pi*2]*(main_panels+(2*fwt_panels))\n",
    "\n",
    "def create_tapered_lift_dist(main_panels,fwt_panels):\n",
    "    val = 2*np.pi\n",
    "    main_a = [val]*main_panels\n",
    "    fwt_a = [((i+0.5)/fwt_panels)*val for i in range(fwt_panels)]\n",
    "    return [*fwt_a,*main_a,*reversed(fwt_a)]"
   ]
  },
  {
   "cell_type": "code",
   "execution_count": 6,
   "metadata": {},
   "outputs": [],
   "source": [
    "# Calculate Lift Distributions\n",
    "lift_dists=[]\n",
    "tmp_params = {}\n",
    "tmp_params['p'] = 1\n",
    "tmp_params['a'] = create_lift_dist_from_file(r'LiftDistribution_aoa_0_rr_60_span_100.csv',params['s'],params['sigma'],main_panels,fwt_panels)\n",
    "lift_dists.append(({'LiftDist':'Roll60'},tmp_params.copy()))\n",
    "\n",
    "tmp_params = {}\n",
    "tmp_params['p'] = 1\n",
    "tmp_params['a'] = create_lift_dist_from_file(r'LiftDistribution_aoa_5_rr_0_span_100.csv',params['s'],params['sigma'],main_panels,fwt_panels)\n",
    "lift_dists.append(({'LiftDist':'AoA5'},tmp_params.copy()))\n",
    "\n",
    "tmp_params = {}\n",
    "tmp_params['p'] = 1\n",
    "tmp_params['a'] = create_lift_dist_from_file(r'LiftDistribution_auto_rotate_fwt_angle_2.csv',params['s'],params['sigma'],main_panels,fwt_panels)\n",
    "\n",
    "lift_dists.append(({'LiftDist':'Level'},tmp_params.copy()))"
   ]
  },
  {
   "cell_type": "code",
   "execution_count": 7,
   "metadata": {},
   "outputs": [],
   "source": [
    "# create configs\n",
    "configs = []\n",
    "tmp_params = {}\n",
    "tmp_params['Lambda'] = np.deg2rad(10)\n",
    "tmp_params['alpha_c'] = np.deg2rad(0)\n",
    "tmp_params['l_f'] = 0.0766*np.cos(tmp_params['Lambda'])\n",
    "tmp_params['I_xx_f'] = 8.85e-5\n",
    "tmp_params['m_f'] = 0.05\n",
    "configs.append(({'Mode':'Free'},tmp_params.copy()))\n",
    "\n",
    "tmp_params = {}\n",
    "tmp_params['Lambda'] = np.deg2rad(30)\n",
    "tmp_params['alpha_c'] = np.deg2rad(0)\n",
    "tmp_params['l_f'] = 0.0766*np.cos(tmp_params['Lambda'])\n",
    "tmp_params['I_xx_f'] = 8.68e-5\n",
    "tmp_params['m_f'] = 0.05\n",
    "configs.append(({'Mode':'Free'},tmp_params.copy()))"
   ]
  },
  {
   "cell_type": "code",
   "execution_count": 8,
   "metadata": {},
   "outputs": [],
   "source": [
    "# create Jobs\n",
    "attitudes=[]\n",
    "\n",
    "\n",
    "velocity = np.linspace(15,30,7)\n",
    "for v in velocity:\n",
    "    attitudes.append(({},{\"V\":v,\"beta\":0}))"
   ]
  },
  {
   "cell_type": "code",
   "execution_count": 9,
   "metadata": {},
   "outputs": [],
   "source": [
    "jobs=[({**config,**att,**lift_dist},{**params,**config_params,**att_params,**lift_dist_params}) for config,config_params in configs for att,att_params in attitudes for lift_dist,lift_dist_params in lift_dists]"
   ]
  },
  {
   "cell_type": "code",
   "execution_count": 10,
   "metadata": {},
   "outputs": [],
   "source": [
    "def calc_coast_angle(filename, qs, ic, params,panels=20, additional_cols={}):   \n",
    "    # Set the parameters\n",
    "    p = RollRig.base_params(qs,panels = 40)\n",
    "    p_vars = vars(p)\n",
    "    for string, value in params.items():\n",
    "        if string in p_vars:\n",
    "            p_vars[string].value = value\n",
    "    # Load the Model \n",
    "    sm = mf.SymbolicModel.from_file(filename)\n",
    "    sm.ExtForces = ef.CompositeForce([sm.ExtForces, ef.CustomForce(None)])\n",
    "             \n",
    "    # Create Numeric Model\n",
    "    nm = mf.NumericModel.from_SymbolicModel(p, sm)\n",
    "    \n",
    "    try:\n",
    "        ic = RollRig.Calc_coast(nm,p,ic)\n",
    "        tup = p.GetNumericTuple(ic, 0)       \n",
    "        forces = -nm.f_func(tup,ic)+nm.ExtForces(tup,ic,0)\n",
    "        torq = forces[0][0]\n",
    "    except:\n",
    "        torq = np.nan\n",
    "        ic[2] = np.nan\n",
    "        ic[4] = np.nan\n",
    "\n",
    "    # return result\n",
    "    result = []\n",
    "    result.append({\"Torque\":torq,\"Side\":\"Left\",\n",
    "                \"CoastAngle\":np.rad2deg(ic[2]),\n",
    "                **params, **additional_cols })\n",
    "    result.append({\"Torque\":torq,\"Side\":\"Right\",\n",
    "                \"CoastAngle\":np.rad2deg(ic[4]),\n",
    "                **params, **additional_cols})\n",
    "    return result"
   ]
  },
  {
   "cell_type": "code",
   "execution_count": 11,
   "metadata": {},
   "outputs": [
    {
     "ename": "NameError",
     "evalue": "name 'df' is not defined",
     "output_type": "error",
     "traceback": [
      "\u001b[0;31m---------------------------------------------------------------------------\u001b[0m",
      "\u001b[0;31mNameError\u001b[0m                                 Traceback (most recent call last)",
      "\u001b[0;32m<ipython-input-11-d6baa1954422>\u001b[0m in \u001b[0;36m<module>\u001b[0;34m\u001b[0m\n\u001b[1;32m      7\u001b[0m                                      additional_cols={**job[0]})\n\u001b[1;32m      8\u001b[0m     \u001b[0mres\u001b[0m\u001b[0;34m.\u001b[0m\u001b[0mextend\u001b[0m\u001b[0;34m(\u001b[0m\u001b[0mtmp_res\u001b[0m\u001b[0;34m)\u001b[0m\u001b[0;34m\u001b[0m\u001b[0;34m\u001b[0m\u001b[0m\n\u001b[0;32m----> 9\u001b[0;31m \u001b[0mdf\u001b[0m\u001b[0;34m.\u001b[0m\u001b[0mDataFrame\u001b[0m\u001b[0;34m(\u001b[0m\u001b[0mres\u001b[0m\u001b[0;34m)\u001b[0m\u001b[0;34m\u001b[0m\u001b[0;34m\u001b[0m\u001b[0m\n\u001b[0m",
      "\u001b[0;31mNameError\u001b[0m: name 'df' is not defined"
     ]
    }
   ],
   "source": [
    "job = jobs[1]\n",
    "ic = [0]*6\n",
    "res=[]\n",
    "for job in jobs:\n",
    "    tmp_res = calc_coast_angle('tempModel_free.py',3,ic,params=job[1],\n",
    "                                     panels=main_panels + 2*fwt_panels,\n",
    "                                     additional_cols={**job[0]})\n",
    "    res.extend(tmp_res)"
   ]
  },
  {
   "cell_type": "code",
   "execution_count": 12,
   "metadata": {},
   "outputs": [],
   "source": [
    "df = pd.DataFrame(res)"
   ]
  },
  {
   "cell_type": "code",
   "execution_count": 15,
   "metadata": {},
   "outputs": [],
   "source": [
    "# %%time\n",
    "# # for each job edit the parameters and pool it \n",
    "# pool = mp.Pool(mp.cpu_count())\n",
    "# ic = [0]*6\n",
    "# res=[]\n",
    "# for job in jobs:\n",
    "#     res.append(pool.apply_async(calc_coast_angle, args = ('tempModel_free.py',3,ic,job[1],main_panels + 2*fwt_panels,{**job[0]})))\n",
    "# pool.close()\n",
    "# pool.join()\n",
    "\n",
    "# ls = []\n",
    "# for i in res:\n",
    "#     ls += i.get()\n",
    "# df = pd.DataFrame(ls)"
   ]
  },
  {
   "cell_type": "code",
   "execution_count": 13,
   "metadata": {},
   "outputs": [],
   "source": [
    "df['Flare'] = pd.Categorical(np.round(np.rad2deg(df['Lambda'])))\n",
    "df['Camber']=np.rad2deg(df['alpha_c'])\n",
    "df.to_csv(r'/Users/fintan/Git/FlexiFWT_DAQ/Analysis/RollingRigV3/ModelComparisonV2/CoastData_level_sintan.csv', index = False)"
   ]
  },
  {
   "cell_type": "code",
   "execution_count": 14,
   "metadata": {},
   "outputs": [
    {
     "data": {
      "text/plain": [
       "<matplotlib.axes._subplots.AxesSubplot at 0x7fed4ae17d50>"
      ]
     },
     "execution_count": 14,
     "metadata": {},
     "output_type": "execute_result"
    },
    {
     "data": {
      "image/png": "[encoded data removed]",
      "text/plain": [
       "<Figure size 432x288 with 1 Axes>"
      ]
     },
     "metadata": {
      "needs_background": "light"
     },
     "output_type": "display_data"
    }
   ],
   "source": [
    "sns.lineplot(data=df[(df['Side']=='Left') & (df['LiftDist']=='Level')],x='V',y='CoastAngle',style=\"LiftDist\",hue='Flare')"
   ]
  },
  {
   "cell_type": "code",
   "execution_count": null,
   "metadata": {},
   "outputs": [],
   "source": []
  }
 ],
 "metadata": {
  "kernelspec": {
   "display_name": "Python 3",
   "language": "python",
   "name": "python3"
  },
  "language_info": {
   "codemirror_mode": {
    "name": "ipython",
    "version": 3
   },
   "file_extension": ".py",
   "mimetype": "text/x-python",
   "name": "python",
   "nbconvert_exporter": "python",
   "pygments_lexer": "ipython3",
   "version": "3.7.7"
  }
 },
 "nbformat": 4,
 "nbformat_minor": 4
}
