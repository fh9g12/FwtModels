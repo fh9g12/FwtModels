{
 "cells": [
  {
   "cell_type": "code",
   "execution_count": 1,
   "metadata": {},
   "outputs": [],
   "source": [
    "import sympy as sym\n",
    "import sympy.physics.mechanics as me\n",
    "from sympy.abc import t as time\n",
    "import pandas as pd\n",
    "import seaborn as sns\n",
    "\n",
    "import numpy as np\n",
    "from scipy.integrate import solve_ivp\n",
    "import matplotlib.pyplot as plt\n",
    "\n",
    "import sys, os\n",
    "\n",
    "sys.path.insert(1, os.path.join(sys.path[0], '../..'))\n",
    "import custom_plot_objects as cpo\n",
    "\n",
    "import ModelFramework as mf\n",
    "import ModelFramework.Elements as ele\n",
    "import ModelFramework.ExternalForces as ef\n",
    "import FwtModels.RectWing as rw\n",
    "import FwtModels.RollRig as RollRig\n",
    "\n",
    "from matplotlib.lines import Line2D\n",
    "\n",
    "me.mechanics_printing()"
   ]
  },
  {
   "cell_type": "code",
   "execution_count": 2,
   "metadata": {},
   "outputs": [],
   "source": [
    "half = sym.Rational(1,2)\n",
    "fwt_panels = 10\n",
    "main_panels = 20\n",
    "p = RollRig.base_params(panels = (fwt_panels*2 + main_panels))"
   ]
  },
  {
   "cell_type": "code",
   "execution_count": 5,
   "metadata": {},
   "outputs": [],
   "source": [
    "# Generate Referecne Frame\n",
    "wing_frame = mf.HomogenousTransform().R_x(sym.pi+p.q[0])\n",
    "rhs_fwt_frame = wing_frame.Translate(0,p.s_w*half,0).R_x(-p.q[1])  # RHS Fwt Frame\n",
    "lhs_fwt_frame = wing_frame.Translate(0,-p.s_w*half,0).R_x(p.q[2])  # LHS Fwt Frame\n",
    "\n",
    "#Generate Mass Matrices\n",
    "M_w = ele.MassMatrix(p.m_w)\n",
    "I_w = ele.MassMatrix(0,I_xx = p.I_xx_w)\n",
    "fwt_w = ele.MassMatrix(p.m_f,I_xx = p.I_xx_f)\n",
    "\n",
    "# Generate Rigid Elements\n",
    "Wing_point_mass = ele.RigidElement(wing_frame.Translate(0,p.y_w,p.z_w),M_w,gravityPotential=True)\n",
    "wing_inertia = ele.RigidElement(wing_frame,I_w)\n",
    "rhs_fwt_mass = ele.RigidElement(rhs_fwt_frame.Translate(0,p.l_f,0),fwt_w,gravityPotential=True)\n",
    "lhs_fwt_mass = ele.RigidElement(lhs_fwt_frame.Translate(0,-p.l_f,0),fwt_w,gravityPotential=True)"
   ]
  },
  {
   "cell_type": "code",
   "execution_count": 9,
   "metadata": {},
   "outputs": [
    {
     "data": {
      "text/latex": [
       "$\\displaystyle \\left[\\begin{matrix}0\\\\l_{f} \\operatorname{cos}\\left(q_{0} + q_{2}\\right) - \\frac{s \\left(\\sigma - 1\\right) \\operatorname{cos}\\left(q_{0}\\right)}{2}\\\\l_{f} \\operatorname{sin}\\left(q_{0} + q_{2}\\right) - \\frac{s \\left(\\sigma - 1\\right) \\operatorname{sin}\\left(q_{0}\\right)}{2}\\end{matrix}\\right]$"
      ],
      "text/plain": [
       "⎡                 0                  ⎤\n",
       "⎢                                    ⎥\n",
       "⎢                   s⋅(σ - 1)⋅cos(q₀)⎥\n",
       "⎢l_f⋅cos(q₀ + q₂) - ─────────────────⎥\n",
       "⎢                           2        ⎥\n",
       "⎢                                    ⎥\n",
       "⎢                   s⋅(σ - 1)⋅sin(q₀)⎥\n",
       "⎢l_f⋅sin(q₀ + q₂) - ─────────────────⎥\n",
       "⎣                           2        ⎦"
      ]
     },
     "execution_count": 9,
     "metadata": {},
     "output_type": "execute_result"
    }
   ],
   "source": [
    "sym.simplify(lhs_fwt_frame.Translate(0,-p.l_f,0).Transform_point((0,0,0)))"
   ]
  },
  {
   "cell_type": "code",
   "execution_count": 4,
   "metadata": {},
   "outputs": [],
   "source": [
    "# Main Wing Aero Forces \n",
    "wing_AeroForces = ef.AeroForce_Inverted.PerUnitSpan(p,wing_frame.Translate(0,p.y_i,0),p.a_0,\n",
    "                               alphadot = 0,\n",
    "                               M_thetadot = 0,\n",
    "                               e = 0,\n",
    "                               w_g = 0,\n",
    "                               rootAlpha = 0,\n",
    "                               alpha_zero = 0,\n",
    "                               stall_angle = 0,\n",
    "                               c = p.c,\n",
    "                               c_d_max = 0,\n",
    "                               linear = True)#.integrate((p.y_w,-p.s_w*half,p.s_w*half))"
   ]
  },
  {
   "cell_type": "code",
   "execution_count": 5,
   "metadata": {},
   "outputs": [],
   "source": [
    "# split Main Wing into segments\n",
    "forces = []\n",
    "for i in range(main_panels):\n",
    "    seg_width = p.s_w/main_panels\n",
    "    yi = -p.s_w/2 + seg_width/2 + i*seg_width\n",
    "    forces.append(wing_AeroForces.subs({p.y_i:yi,p.a_0:p.a[fwt_panels+i]})*seg_width)\n",
    "Q = sym.Matrix([0]*p.qs)\n",
    "for f in forces:\n",
    "    Q += f.Q()\n",
    "wing_AeroForces = ef.ExternalForce(Q)"
   ]
  },
  {
   "cell_type": "code",
   "execution_count": 6,
   "metadata": {},
   "outputs": [],
   "source": [
    "# Left FWT Aero Forces\n",
    "lhs_fwt_AeroForces = ef.AeroForce_Inverted.PerUnitSpan(p,lhs_fwt_frame.Translate(0,-p.y_f*sym.cos(p.Lambda),0),p.a_0,\n",
    "                               alphadot = 0,\n",
    "                               M_thetadot = 0,\n",
    "                               e = 0,\n",
    "                               w_g = p.w_g,\n",
    "                               rootAlpha = p.alpha_2,\n",
    "                               alpha_zero = p.alpha_c,\n",
    "                               stall_angle = 0,\n",
    "                               c = p.c,\n",
    "                               c_d_max = p.c_d_max,\n",
    "                               linear = False)#.integrate((p.y_f,0,p.s_f))"
   ]
  },
  {
   "cell_type": "code",
   "execution_count": 7,
   "metadata": {},
   "outputs": [],
   "source": [
    "# Left FWT Aero Forces \n",
    "rhs_fwt_AeroForces = ef.AeroForce_Inverted.PerUnitSpan(p,rhs_fwt_frame.Translate(0,p.y_f*sym.cos(p.Lambda),0),p.a_0,\n",
    "                               alphadot = 0,\n",
    "                               M_thetadot = 0,\n",
    "                               e = 0,\n",
    "                               w_g = p.w_g,\n",
    "                               rootAlpha = p.alpha_1,\n",
    "                               alpha_zero = p.alpha_c,\n",
    "                               stall_angle = 0,\n",
    "                               c = p.c,\n",
    "                               c_d_max = p.c_d_max,\n",
    "                               linear = False)#.integrate((p.y_f,0,p.s_f))"
   ]
  },
  {
   "cell_type": "code",
   "execution_count": 8,
   "metadata": {},
   "outputs": [],
   "source": [
    "# split FTW's into segments\n",
    "forces = []\n",
    "for i in range(fwt_panels):\n",
    "    seg_width = p.s_f/fwt_panels\n",
    "    yi = seg_width/2 + i*seg_width\n",
    "    forces.append(lhs_fwt_AeroForces.subs({p.y_f:yi,p.a_0:p.a[fwt_panels-(i+1)]})*seg_width)\n",
    "    forces.append(rhs_fwt_AeroForces.subs({p.y_f:yi,p.a_0:p.a[fwt_panels+main_panels+i]})*seg_width)\n",
    "Q = sym.Matrix([0]*p.qs)\n",
    "for f in forces:\n",
    "    Q += f.Q()\n",
    "fwt_AeroForces = ef.ExternalForce(Q)\n",
    "\n"
   ]
  },
  {
   "cell_type": "code",
   "execution_count": 9,
   "metadata": {},
   "outputs": [],
   "source": [
    "Forcing = ef.CustomForce(None) \n",
    "\n",
    "CompositeForce = ef.CompositeForce([fwt_AeroForces,wing_AeroForces,Forcing])\n",
    "# create instance of the model\n",
    "sm = mf.SymbolicModel.FromElementsAndForces(p,[Wing_point_mass,wing_inertia,rhs_fwt_mass,lhs_fwt_mass],ExtForces = CompositeForce)"
   ]
  },
  {
   "cell_type": "code",
   "execution_count": 10,
   "metadata": {},
   "outputs": [],
   "source": [
    "sm.to_file('RollRigModel.py')"
   ]
  },
  {
   "cell_type": "code",
   "execution_count": 11,
   "metadata": {},
   "outputs": [
    {
     "data": {
      "text/latex": [
       "$\\displaystyle \\left[\\begin{matrix}2 I_{xxf} + I_{xxw} + 2 l_{f}^{2} m_{f} - l_{f} m_{f} s \\sigma \\operatorname{cos}\\left(q_{1}\\right) - l_{f} m_{f} s \\sigma \\operatorname{cos}\\left(q_{2}\\right) + l_{f} m_{f} s \\operatorname{cos}\\left(q_{1}\\right) + l_{f} m_{f} s \\operatorname{cos}\\left(q_{2}\\right) + \\frac{m_{f} s^{2} \\sigma^{2}}{2} - m_{f} s^{2} \\sigma + \\frac{m_{f} s^{2}}{2} + m_{w} y_{w}^{2} + m_{w} z_{w}^{2} & - I_{xxf} - l_{f}^{2} m_{f} + \\frac{l_{f} m_{f} s \\sigma \\operatorname{cos}\\left(q_{1}\\right)}{2} - \\frac{l_{f} m_{f} s \\operatorname{cos}\\left(q_{1}\\right)}{2} & I_{xxf} + l_{f}^{2} m_{f} - \\frac{l_{f} m_{f} s \\sigma \\operatorname{cos}\\left(q_{2}\\right)}{2} + \\frac{l_{f} m_{f} s \\operatorname{cos}\\left(q_{2}\\right)}{2}\\\\- I_{xxf} - l_{f}^{2} m_{f} + \\frac{l_{f} m_{f} s \\sigma \\operatorname{cos}\\left(q_{1}\\right)}{2} - \\frac{l_{f} m_{f} s \\operatorname{cos}\\left(q_{1}\\right)}{2} & I_{xxf} + l_{f}^{2} m_{f} & 0\\\\I_{xxf} + l_{f}^{2} m_{f} - \\frac{l_{f} m_{f} s \\sigma \\operatorname{cos}\\left(q_{2}\\right)}{2} + \\frac{l_{f} m_{f} s \\operatorname{cos}\\left(q_{2}\\right)}{2} & 0 & I_{xxf} + l_{f}^{2} m_{f}\\end{matrix}\\right]$"
      ],
      "text/plain": [
       "⎡                                                                             \n",
       "⎢                       2                                                     \n",
       "⎢2⋅I_xxf + I_xxw + 2⋅l_f ⋅m_f - l_f⋅m_f⋅s⋅σ⋅cos(q₁) - l_f⋅m_f⋅s⋅σ⋅cos(q₂) + l_\n",
       "⎢                                                                             \n",
       "⎢                                                                             \n",
       "⎢                                                                 2       l_f⋅\n",
       "⎢                                                     -I_xxf - l_f ⋅m_f + ────\n",
       "⎢                                                                             \n",
       "⎢                                                                             \n",
       "⎢                                                                 2       l_f⋅\n",
       "⎢                                                      I_xxf + l_f ⋅m_f - ────\n",
       "⎣                                                                             \n",
       "\n",
       "                                           2  2                   2           \n",
       "                                      m_f⋅s ⋅σ         2     m_f⋅s           2\n",
       "f⋅m_f⋅s⋅cos(q₁) + l_f⋅m_f⋅s⋅cos(q₂) + ───────── - m_f⋅s ⋅σ + ────── + m_w⋅y_w \n",
       "                                          2                    2              \n",
       "                                                                              \n",
       "m_f⋅s⋅σ⋅cos(q₁)   l_f⋅m_f⋅s⋅cos(q₁)                                           \n",
       "─────────────── - ─────────────────                                           \n",
       "     2                    2                                                   \n",
       "                                                                              \n",
       "m_f⋅s⋅σ⋅cos(q₂)   l_f⋅m_f⋅s⋅cos(q₂)                                           \n",
       "─────────────── + ─────────────────                                           \n",
       "     2                    2                                                   \n",
       "\n",
       "                                                                              \n",
       "          2              2       l_f⋅m_f⋅s⋅σ⋅cos(q₁)   l_f⋅m_f⋅s⋅cos(q₁)      \n",
       " + m_w⋅z_w   -I_xxf - l_f ⋅m_f + ─────────────────── - ─────────────────  I_xx\n",
       "                                          2                    2              \n",
       "                                                                              \n",
       "                                             2                                \n",
       "                                  I_xxf + l_f ⋅m_f                            \n",
       "                                                                              \n",
       "                                                                              \n",
       "                                                                              \n",
       "                                          0                                   \n",
       "                                                                              \n",
       "\n",
       "                                                      ⎤\n",
       "       2       l_f⋅m_f⋅s⋅σ⋅cos(q₂)   l_f⋅m_f⋅s⋅cos(q₂)⎥\n",
       "f + l_f ⋅m_f - ─────────────────── + ─────────────────⎥\n",
       "                        2                    2        ⎥\n",
       "                                                      ⎥\n",
       "                                                      ⎥\n",
       "                        0                             ⎥\n",
       "                                                      ⎥\n",
       "                                                      ⎥\n",
       "                            2                         ⎥\n",
       "                 I_xxf + l_f ⋅m_f                     ⎥\n",
       "                                                      ⎦"
      ]
     },
     "execution_count": 11,
     "metadata": {},
     "output_type": "execute_result"
    }
   ],
   "source": [
    "sm.M"
   ]
  },
  {
   "cell_type": "code",
   "execution_count": 11,
   "metadata": {},
   "outputs": [
    {
     "data": {
      "image/png": "[encoded data removed]",
      "text/latex": [
       "$\\displaystyle \\frac{I_{xxf} \\dot{q}_{0}^{2}}{2} - I_{xxf} \\dot{q}_{0} \\dot{q}_{1} + \\frac{I_{xxf} \\dot{q}_{1}^{2}}{2} + \\frac{l_{f}^{2} m_{f} \\dot{q}_{0}^{2}}{2} - l_{f}^{2} m_{f} \\dot{q}_{0} \\dot{q}_{1} + \\frac{l_{f}^{2} m_{f} \\dot{q}_{1}^{2}}{2} - \\frac{l_{f} m_{f} s \\sigma \\operatorname{cos}\\left(q_{1}\\right) \\dot{q}_{0}^{2}}{2} + \\frac{l_{f} m_{f} s \\sigma \\operatorname{cos}\\left(q_{1}\\right) \\dot{q}_{0} \\dot{q}_{1}}{2} + \\frac{l_{f} m_{f} s \\operatorname{cos}\\left(q_{1}\\right) \\dot{q}_{0}^{2}}{2} - \\frac{l_{f} m_{f} s \\operatorname{cos}\\left(q_{1}\\right) \\dot{q}_{0} \\dot{q}_{1}}{2} + \\frac{m_{f} s^{2} \\sigma^{2} \\dot{q}_{0}^{2}}{8} - \\frac{m_{f} s^{2} \\sigma \\dot{q}_{0}^{2}}{4} + \\frac{m_{f} s^{2} \\dot{q}_{0}^{2}}{8}$"
      ],
      "text/plain": [
       "        2                         2      2       2                       2    \n",
       "I_xxf⋅q₀̇                  I_xxf⋅q₁̇    l_f ⋅m_f⋅q₀̇       2             l_f ⋅\n",
       "───────── - I_xxf⋅q₀̇⋅q₁̇ + ───────── + ──────────── - l_f ⋅m_f⋅q₀̇⋅q₁̇ + ────\n",
       "    2                         2            2                               2  \n",
       "\n",
       "   2                         2                                                \n",
       "m_f⋅q₁̇    l_f⋅m_f⋅s⋅σ⋅cos(q₁)⋅q₀̇    l_f⋅m_f⋅s⋅σ⋅cos(q₁)⋅q₀̇⋅q₁̇   l_f⋅m_f⋅s⋅\n",
       "──────── - ─────────────────────── + ───────────────────────── + ─────────────\n",
       "                  2                          2                         2      \n",
       "\n",
       "   2                                  2  2   2        2     2        2   2\n",
       "cos(q₁)⋅q₀̇    l_f⋅m_f⋅s⋅cos(q₁)⋅q₀̇⋅q₁̇   m_f⋅s ⋅σ ⋅q₀̇    m_f⋅s ⋅σ⋅q₀̇    m_\n",
       "──────── - ─────────────────────── + ───────────── - ──────────── + ──────────\n",
       "                  2                    8              4             8     "
      ]
     },
     "execution_count": 11,
     "metadata": {},
     "output_type": "execute_result"
    }
   ],
   "source": [
    "rhs_fwt_mass.CalcKE(p)"
   ]
  },
  {
   "cell_type": "code",
   "execution_count": null,
   "metadata": {},
   "outputs": [],
   "source": []
  }
 ],
 "metadata": {
  "kernelspec": {
   "display_name": "Python 3",
   "language": "python",
   "name": "python3"
  },
  "language_info": {
   "codemirror_mode": {
    "name": "ipython",
    "version": 3
   },
   "file_extension": ".py",
   "mimetype": "text/x-python",
   "name": "python",
   "nbconvert_exporter": "python",
   "pygments_lexer": "ipython3",
   "version": "3.7.7"
  }
 },
 "nbformat": 4,
 "nbformat_minor": 4
}
