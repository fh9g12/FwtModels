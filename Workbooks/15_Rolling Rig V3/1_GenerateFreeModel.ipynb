{
 "cells": [
  {
   "cell_type": "code",
   "execution_count": 1,
   "metadata": {},
   "outputs": [],
   "source": [
    "import sympy as sym\n",
    "import sympy.physics.mechanics as me\n",
    "from sympy.abc import t as time\n",
    "import pandas as pd\n",
    "import seaborn as sns\n",
    "\n",
    "import numpy as np\n",
    "from scipy.integrate import solve_ivp\n",
    "import matplotlib.pyplot as plt\n",
    "\n",
    "import sys, os\n",
    "\n",
    "sys.path.insert(1, os.path.join(sys.path[0], '../..'))\n",
    "import custom_plot_objects as cpo\n",
    "\n",
    "import ModelFramework as mf\n",
    "import ModelFramework.Elements as ele\n",
    "import ModelFramework.ExternalForces as ef\n",
    "import FwtModels.RectWing as rw\n",
    "import FwtModels.RollRig as RollRig\n",
    "\n",
    "from matplotlib.lines import Line2D\n",
    "\n",
    "me.mechanics_printing()"
   ]
  },
  {
   "cell_type": "code",
   "execution_count": 9,
   "metadata": {},
   "outputs": [],
   "source": [
    "half = sym.Rational(1,2)\n",
    "fwt_panels = 10\n",
    "main_panels = 20\n",
    "p = RollRig.base_params(panels = (fwt_panels*2 + main_panels))"
   ]
  },
  {
   "cell_type": "code",
   "execution_count": 10,
   "metadata": {},
   "outputs": [],
   "source": [
    "# Generate Referecne Frame\n",
    "wing_frame = mf.HomogenousTransform().R_x(sym.pi+p.q[0])\n",
    "rhs_fwt_frame = wing_frame.Translate(0,p.s_w*half,0).R_x(-p.q[1])  # RHS Fwt Frame\n",
    "lhs_fwt_frame = wing_frame.Translate(0,-p.s_w*half,0).R_x(p.q[2])  # LHS Fwt Frame\n",
    "\n",
    "#Generate Mass Matrices\n",
    "M_w = ele.MassMatrix(p.m_w)\n",
    "I_w = ele.MassMatrix(0,I_xx = p.I_xx_w)\n",
    "fwt_w = ele.MassMatrix(p.m_f,I_xx = p.I_xx_f)\n",
    "\n",
    "# Generate Rigid Elements\n",
    "Wing_point_mass = ele.RigidElement(wing_frame.Translate(0,p.y_w,p.z_w),M_w,gravityPotential=True)\n",
    "wing_inertia = ele.RigidElement(wing_frame,I_w)\n",
    "rhs_fwt_mass = ele.RigidElement(rhs_fwt_frame.Translate(0,p.l_f,0),fwt_w,gravityPotential=True)\n",
    "lhs_fwt_mass = ele.RigidElement(lhs_fwt_frame.Translate(0,-p.l_f,0),fwt_w,gravityPotential=True)"
   ]
  },
  {
   "cell_type": "code",
   "execution_count": 11,
   "metadata": {},
   "outputs": [
    {
     "data": {
      "text/latex": [
       "$\\displaystyle \\left[\\begin{matrix}0\\\\l_{f} \\cos{\\left(q_{0} + q_{2} \\right)} - \\frac{s \\left(\\sigma - 1\\right) \\cos{\\left(q_{0} \\right)}}{2}\\\\l_{f} \\sin{\\left(q_{0} + q_{2} \\right)} - \\frac{s \\left(\\sigma - 1\\right) \\sin{\\left(q_{0} \\right)}}{2}\\end{matrix}\\right]$"
      ],
      "text/plain": [
       "⎡                 0                  ⎤\n",
       "⎢                                    ⎥\n",
       "⎢                   s⋅(σ - 1)⋅cos(q₀)⎥\n",
       "⎢l_f⋅cos(q₀ + q₂) - ─────────────────⎥\n",
       "⎢                           2        ⎥\n",
       "⎢                                    ⎥\n",
       "⎢                   s⋅(σ - 1)⋅sin(q₀)⎥\n",
       "⎢l_f⋅sin(q₀ + q₂) - ─────────────────⎥\n",
       "⎣                           2        ⎦"
      ]
     },
     "execution_count": 11,
     "metadata": {},
     "output_type": "execute_result"
    }
   ],
   "source": [
    "sym.simplify(lhs_fwt_frame.Translate(0,-p.l_f,0).Transform_point((0,0,0)))"
   ]
  },
  {
   "cell_type": "code",
   "execution_count": 12,
   "metadata": {},
   "outputs": [],
   "source": [
    "# Main Wing Aero Forces \n",
    "wing_AeroForces = ef.AeroForce_Inverted.PerUnitSpan(p,wing_frame.Translate(0,p.y_i,0),p.a_0,\n",
    "                               alphadot = 0,\n",
    "                               M_thetadot = 0,\n",
    "                               e = 0,\n",
    "                               w_g = 0,\n",
    "                               rootAlpha = 0,\n",
    "                               alpha_zero = 0,\n",
    "                               stall_angle = 0,\n",
    "                               c = p.c,\n",
    "                               c_d_max = 0,\n",
    "                               linear = True)#.integrate((p.y_w,-p.s_w*half,p.s_w*half))"
   ]
  },
  {
   "cell_type": "code",
   "execution_count": 13,
   "metadata": {},
   "outputs": [],
   "source": [
    "# split Main Wing into segments\n",
    "forces = []\n",
    "for i in range(main_panels):\n",
    "    seg_width = p.s_w/main_panels\n",
    "    yi = -p.s_w/2 + seg_width/2 + i*seg_width\n",
    "    forces.append(wing_AeroForces.subs({p.y_i:yi,p.a_0:p.a[fwt_panels+i]})*seg_width)\n",
    "Q = sym.Matrix([0]*p.qs)\n",
    "for f in forces:\n",
    "    Q += f.Q()\n",
    "wing_AeroForces = ef.ExternalForce(Q)"
   ]
  },
  {
   "cell_type": "code",
   "execution_count": 14,
   "metadata": {},
   "outputs": [],
   "source": [
    "# Left FWT Aero Forces\n",
    "lhs_fwt_AeroForces = ef.AeroForce_Inverted.PerUnitSpan(p,lhs_fwt_frame.Translate(0,-p.y_f*sym.cos(p.Lambda),0),p.a_0,\n",
    "                               alphadot = 0,\n",
    "                               M_thetadot = 0,\n",
    "                               e = 0,\n",
    "                               w_g = 0,\n",
    "                               rootAlpha = p.alpha_2,\n",
    "                               alpha_zero = 0,\n",
    "                               stall_angle = 0,\n",
    "                               c = p.c,\n",
    "                               c_d_max = 0,\n",
    "                               linear = True)#.integrate((p.y_f,0,p.s_f))"
   ]
  },
  {
   "cell_type": "code",
   "execution_count": 15,
   "metadata": {},
   "outputs": [],
   "source": [
    "# Left FWT Aero Forces \n",
    "rhs_fwt_AeroForces = ef.AeroForce_Inverted.PerUnitSpan(p,rhs_fwt_frame.Translate(0,p.y_f*sym.cos(p.Lambda),0),p.a_0,\n",
    "                               alphadot = 0,\n",
    "                               M_thetadot = 0,\n",
    "                               e = 0,\n",
    "                               w_g = 0,\n",
    "                               rootAlpha = p.alpha_1,\n",
    "                               alpha_zero = 0,\n",
    "                               stall_angle = 0,\n",
    "                               c = p.c,\n",
    "                               c_d_max = 0,\n",
    "                               linear = True)#.integrate((p.y_f,0,p.s_f))"
   ]
  },
  {
   "cell_type": "code",
   "execution_count": 16,
   "metadata": {},
   "outputs": [],
   "source": [
    "# split FTW's into segments\n",
    "forces = []\n",
    "for i in range(fwt_panels):\n",
    "    seg_width = p.s_f/fwt_panels\n",
    "    yi = seg_width/2 + i*seg_width\n",
    "    forces.append(lhs_fwt_AeroForces.subs({p.y_f:yi,p.a_0:p.a[fwt_panels-(i+1)]})*seg_width)\n",
    "    forces.append(rhs_fwt_AeroForces.subs({p.y_f:yi,p.a_0:p.a[fwt_panels+main_panels+i]})*seg_width)\n",
    "Q = sym.Matrix([0]*p.qs)\n",
    "for f in forces:\n",
    "    Q += f.Q()\n",
    "fwt_AeroForces = ef.ExternalForce(Q)\n",
    "\n"
   ]
  },
  {
   "cell_type": "code",
   "execution_count": 17,
   "metadata": {},
   "outputs": [],
   "source": [
    "Forcing = ef.CustomForce(None) \n",
    "\n",
    "CompositeForce = ef.CompositeForce([fwt_AeroForces,wing_AeroForces,Forcing])\n",
    "# create instance of the model\n",
    "sm = mf.SymbolicModel.FromElementsAndForces(p,[Wing_point_mass,wing_inertia,rhs_fwt_mass,lhs_fwt_mass],ExtForces = CompositeForce)"
   ]
  },
  {
   "cell_type": "code",
   "execution_count": 18,
   "metadata": {},
   "outputs": [],
   "source": [
    "sm.to_file('RollRigModel.py')"
   ]
  },
  {
   "cell_type": "code",
   "execution_count": 55,
   "metadata": {},
   "outputs": [
    {
     "data": {
      "text/latex": [
       "$\\displaystyle \\left[\\begin{matrix}2 I_{xxf} + I_{xxw} + 2 l_{f}^{2} m_{f} - l_{f} m_{f} s \\sigma \\cos{\\left(q_{1} \\right)} - l_{f} m_{f} s \\sigma \\cos{\\left(q_{2} \\right)} + l_{f} m_{f} s \\cos{\\left(q_{1} \\right)} + l_{f} m_{f} s \\cos{\\left(q_{2} \\right)} + \\frac{m_{f} s^{2} \\sigma^{2}}{2} - m_{f} s^{2} \\sigma + \\frac{m_{f} s^{2}}{2} + m_{w} y_{w}^{2} + m_{w} z_{w}^{2} & - I_{xxf} - l_{f}^{2} m_{f} + \\frac{l_{f} m_{f} s \\sigma \\cos{\\left(q_{1} \\right)}}{2} - \\frac{l_{f} m_{f} s \\cos{\\left(q_{1} \\right)}}{2} & I_{xxf} + l_{f}^{2} m_{f} - \\frac{l_{f} m_{f} s \\sigma \\cos{\\left(q_{2} \\right)}}{2} + \\frac{l_{f} m_{f} s \\cos{\\left(q_{2} \\right)}}{2}\\\\- I_{xxf} - l_{f}^{2} m_{f} + \\frac{l_{f} m_{f} s \\sigma \\cos{\\left(q_{1} \\right)}}{2} - \\frac{l_{f} m_{f} s \\cos{\\left(q_{1} \\right)}}{2} & I_{xxf} + l_{f}^{2} m_{f} & 0\\\\I_{xxf} + l_{f}^{2} m_{f} - \\frac{l_{f} m_{f} s \\sigma \\cos{\\left(q_{2} \\right)}}{2} + \\frac{l_{f} m_{f} s \\cos{\\left(q_{2} \\right)}}{2} & 0 & I_{xxf} + l_{f}^{2} m_{f}\\end{matrix}\\right]$"
      ],
      "text/plain": [
       "⎡                                                                             \n",
       "⎢                       2                                                     \n",
       "⎢2⋅I_xxf + I_xxw + 2⋅l_f ⋅m_f - l_f⋅m_f⋅s⋅σ⋅cos(q₁) - l_f⋅m_f⋅s⋅σ⋅cos(q₂) + l_\n",
       "⎢                                                                             \n",
       "⎢                                                                             \n",
       "⎢                                                                 2       l_f⋅\n",
       "⎢                                                     -I_xxf - l_f ⋅m_f + ────\n",
       "⎢                                                                             \n",
       "⎢                                                                             \n",
       "⎢                                                                 2       l_f⋅\n",
       "⎢                                                      I_xxf + l_f ⋅m_f - ────\n",
       "⎣                                                                             \n",
       "\n",
       "                                           2  2                   2           \n",
       "                                      m_f⋅s ⋅σ         2     m_f⋅s           2\n",
       "f⋅m_f⋅s⋅cos(q₁) + l_f⋅m_f⋅s⋅cos(q₂) + ───────── - m_f⋅s ⋅σ + ────── + m_w⋅y_w \n",
       "                                          2                    2              \n",
       "                                                                              \n",
       "m_f⋅s⋅σ⋅cos(q₁)   l_f⋅m_f⋅s⋅cos(q₁)                                           \n",
       "─────────────── - ─────────────────                                           \n",
       "     2                    2                                                   \n",
       "                                                                              \n",
       "m_f⋅s⋅σ⋅cos(q₂)   l_f⋅m_f⋅s⋅cos(q₂)                                           \n",
       "─────────────── + ─────────────────                                           \n",
       "     2                    2                                                   \n",
       "\n",
       "                                                                              \n",
       "          2              2       l_f⋅m_f⋅s⋅σ⋅cos(q₁)   l_f⋅m_f⋅s⋅cos(q₁)      \n",
       " + m_w⋅z_w   -I_xxf - l_f ⋅m_f + ─────────────────── - ─────────────────  I_xx\n",
       "                                          2                    2              \n",
       "                                                                              \n",
       "                                             2                                \n",
       "                                  I_xxf + l_f ⋅m_f                            \n",
       "                                                                              \n",
       "                                                                              \n",
       "                                                                              \n",
       "                                          0                                   \n",
       "                                                                              \n",
       "\n",
       "                                                      ⎤\n",
       "       2       l_f⋅m_f⋅s⋅σ⋅cos(q₂)   l_f⋅m_f⋅s⋅cos(q₂)⎥\n",
       "f + l_f ⋅m_f - ─────────────────── + ─────────────────⎥\n",
       "                        2                    2        ⎥\n",
       "                                                      ⎥\n",
       "                                                      ⎥\n",
       "                        0                             ⎥\n",
       "                                                      ⎥\n",
       "                                                      ⎥\n",
       "                            2                         ⎥\n",
       "                 I_xxf + l_f ⋅m_f                     ⎥\n",
       "                                                      ⎦"
      ]
     },
     "execution_count": 55,
     "metadata": {},
     "output_type": "execute_result"
    }
   ],
   "source": [
    "sym.simplify(sm.M)"
   ]
  },
  {
   "cell_type": "code",
   "execution_count": 54,
   "metadata": {},
   "outputs": [
    {
     "data": {
      "text/latex": [
       "$\\displaystyle \\left[\\begin{matrix}- g l_{f} m_{f} \\cos{\\left(q_{0} - q_{1} \\right)} + g l_{f} m_{f} \\cos{\\left(q_{0} + q_{2} \\right)} - g m_{w} y_{w} \\cos{\\left(q_{0} \\right)} + g m_{w} z_{w} \\sin{\\left(q_{0} \\right)} + l_{f} m_{f} s \\sigma \\sin{\\left(q_{1} \\right)} \\dot{q}_{0} \\dot{q}_{1} - \\frac{l_{f} m_{f} s \\sigma \\sin{\\left(q_{1} \\right)} \\dot{q}_{1}^{2}}{2} + l_{f} m_{f} s \\sigma \\sin{\\left(q_{2} \\right)} \\dot{q}_{0} \\dot{q}_{2} + \\frac{l_{f} m_{f} s \\sigma \\sin{\\left(q_{2} \\right)} \\dot{q}_{2}^{2}}{2} - l_{f} m_{f} s \\sin{\\left(q_{1} \\right)} \\dot{q}_{0} \\dot{q}_{1} + \\frac{l_{f} m_{f} s \\sin{\\left(q_{1} \\right)} \\dot{q}_{1}^{2}}{2} - l_{f} m_{f} s \\sin{\\left(q_{2} \\right)} \\dot{q}_{0} \\dot{q}_{2} - \\frac{l_{f} m_{f} s \\sin{\\left(q_{2} \\right)} \\dot{q}_{2}^{2}}{2}\\\\\\frac{l_{f} m_{f} \\left(2 g \\cos{\\left(q_{0} - q_{1} \\right)} - s \\sigma \\sin{\\left(q_{1} \\right)} \\dot{q}_{0}^{2} + s \\sin{\\left(q_{1} \\right)} \\dot{q}_{0}^{2}\\right)}{2}\\\\\\frac{l_{f} m_{f} \\left(2 g \\cos{\\left(q_{0} + q_{2} \\right)} - s \\sigma \\sin{\\left(q_{2} \\right)} \\dot{q}_{0}^{2} + s \\sin{\\left(q_{2} \\right)} \\dot{q}_{0}^{2}\\right)}{2}\\end{matrix}\\right]$"
      ],
      "text/plain": [
       "⎡                                                                             \n",
       "⎢                                                                             \n",
       "⎢-g⋅l_f⋅m_f⋅cos(q₀ - q₁) + g⋅l_f⋅m_f⋅cos(q₀ + q₂) - g⋅m_w⋅y_w⋅cos(q₀) + g⋅m_w⋅\n",
       "⎢                                                                             \n",
       "⎢                                                                             \n",
       "⎢                                                                             \n",
       "⎢                                                                             \n",
       "⎢                                                                             \n",
       "⎢                                                                             \n",
       "⎢                                                                             \n",
       "⎢                                                                             \n",
       "⎢                                                                             \n",
       "⎢                                                                             \n",
       "⎣                                                                             \n",
       "\n",
       "                                                                2             \n",
       "                                          l_f⋅m_f⋅s⋅σ⋅sin(q₁)⋅q₁̇             \n",
       "z_w⋅sin(q₀) + l_f⋅m_f⋅s⋅σ⋅sin(q₁)⋅q₀̇⋅q₁̇ - ─────────────────────── + l_f⋅m_f⋅\n",
       "                                                     2                        \n",
       "                                                                              \n",
       "                                                 ⎛                            \n",
       "                                         l_f⋅m_f⋅⎝2⋅g⋅cos(q₀ - q₁) - s⋅σ⋅sin(q\n",
       "                                         ─────────────────────────────────────\n",
       "                                                                      2       \n",
       "                                                                              \n",
       "                                                 ⎛                            \n",
       "                                         l_f⋅m_f⋅⎝2⋅g⋅cos(q₀ + q₂) - s⋅σ⋅sin(q\n",
       "                                         ─────────────────────────────────────\n",
       "                                                                      2       \n",
       "\n",
       "                                        2                                     \n",
       "                   l_f⋅m_f⋅s⋅σ⋅sin(q₂)⋅q₂̇                              l_f⋅m_\n",
       "s⋅σ⋅sin(q₂)⋅q₀̇⋅q₂̇ + ─────────────────────── - l_f⋅m_f⋅s⋅sin(q₁)⋅q₀̇⋅q₁̇ + ──\n",
       "                             2                                                \n",
       "                                                                              \n",
       "     2               2⎞                                                       \n",
       "₁)⋅q₀̇  + s⋅sin(q₁)⋅q₀̇ ⎠                                                     \n",
       "───────────────────────                                                       \n",
       "                                                                              \n",
       "                                                                              \n",
       "     2               2⎞                                                       \n",
       "₂)⋅q₀̇  + s⋅sin(q₂)⋅q₀̇ ⎠                                                     \n",
       "───────────────────────                                                       \n",
       "                                                                              \n",
       "\n",
       "            2                                                 2⎤\n",
       "f⋅s⋅sin(q₁)⋅q₁̇                              l_f⋅m_f⋅s⋅sin(q₂)⋅q₂̇ ⎥\n",
       "─────────────────── - l_f⋅m_f⋅s⋅sin(q₂)⋅q₀̇⋅q₂̇ - ─────────────────────⎥\n",
       "  2                                                 2          ⎥\n",
       "                                                               ⎥\n",
       "                                                               ⎥\n",
       "                                                                 ⎥\n",
       "                                                               ⎥\n",
       "                                                               ⎥\n",
       "                                                               ⎥\n",
       "                                                               ⎥\n",
       "                                                                 ⎥\n",
       "                                                               ⎥\n",
       "                                                               ⎦"
      ]
     },
     "execution_count": 54,
     "metadata": {},
     "output_type": "execute_result"
    }
   ],
   "source": [
    "sym.simplify(sm.f)"
   ]
  },
  {
   "cell_type": "code",
   "execution_count": 50,
   "metadata": {},
   "outputs": [
    {
     "data": {
      "text/latex": [
       "$\\displaystyle \\left[\\begin{matrix}- \\frac{V^{2} c \\rho s \\sigma a_{0} \\left(\\alpha_{2} + \\frac{- \\frac{s \\sigma \\cos{\\left(\\Lambda \\right)} \\dot{q}_{2}}{4} + \\left(- \\frac{s \\sigma \\cos{\\left(\\Lambda \\right)}}{4} + \\frac{s \\sigma \\cos{\\left(q_{2} \\right)}}{2} - \\frac{s \\cos{\\left(q_{2} \\right)}}{2}\\right) \\dot{q}_{0}}{V}\\right) \\left(- \\frac{s \\sigma \\cos{\\left(\\Lambda \\right)}}{4} + \\frac{s \\sigma \\cos{\\left(q_{2} \\right)}}{2} - \\frac{s \\cos{\\left(q_{2} \\right)}}{2}\\right)}{4} - \\frac{V^{2} c \\rho s \\sigma a_{3} \\left(\\alpha_{1} + \\frac{- \\frac{s \\sigma \\cos{\\left(\\Lambda \\right)} \\dot{q}_{1}}{4} + \\left(\\frac{s \\sigma \\cos{\\left(\\Lambda \\right)}}{4} - \\frac{s \\sigma \\cos{\\left(q_{1} \\right)}}{2} + \\frac{s \\cos{\\left(q_{1} \\right)}}{2}\\right) \\dot{q}_{0}}{V}\\right) \\left(\\frac{s \\sigma \\cos{\\left(\\Lambda \\right)}}{4} - \\frac{s \\sigma \\cos{\\left(q_{1} \\right)}}{2} + \\frac{s \\cos{\\left(q_{1} \\right)}}{2}\\right)}{4} - \\frac{V a_{0} c \\rho y_{i}^{2} \\dot{q}_{0}}{2}\\\\\\frac{V^{2} c \\rho s^{2} \\sigma^{2} a_{3} \\left(\\alpha_{1} + \\frac{- \\frac{s \\sigma \\cos{\\left(\\Lambda \\right)} \\dot{q}_{1}}{4} + \\left(\\frac{s \\sigma \\cos{\\left(\\Lambda \\right)}}{4} - \\frac{s \\sigma \\cos{\\left(q_{1} \\right)}}{2} + \\frac{s \\cos{\\left(q_{1} \\right)}}{2}\\right) \\dot{q}_{0}}{V}\\right) \\cos{\\left(\\Lambda \\right)}}{16}\\\\\\frac{V^{2} c \\rho s^{2} \\sigma^{2} a_{0} \\left(\\alpha_{2} + \\frac{- \\frac{s \\sigma \\cos{\\left(\\Lambda \\right)} \\dot{q}_{2}}{4} + \\left(- \\frac{s \\sigma \\cos{\\left(\\Lambda \\right)}}{4} + \\frac{s \\sigma \\cos{\\left(q_{2} \\right)}}{2} - \\frac{s \\cos{\\left(q_{2} \\right)}}{2}\\right) \\dot{q}_{0}}{V}\\right) \\cos{\\left(\\Lambda \\right)}}{16}\\end{matrix}\\right]$"
      ],
      "text/plain": [
       "⎡                ⎛       s⋅σ⋅cos(Λ)⋅q₂̇   ⎛  s⋅σ⋅cos(Λ)   s⋅σ⋅cos(q₂)   s⋅cos(\n",
       "⎢                ⎜     - ───────────── + ⎜- ────────── + ─────────── - ───────\n",
       "⎢   2            ⎜             4         ⎝      4             2            2  \n",
       "⎢  V ⋅c⋅ρ⋅s⋅σ⋅a₀⋅⎜α₂ + ───────────────────────────────────────────────────────\n",
       "⎢                ⎝                                   V                        \n",
       "⎢- ───────────────────────────────────────────────────────────────────────────\n",
       "⎢                                                               4             \n",
       "⎢                                                                             \n",
       "⎢                                                                             \n",
       "⎢                                                                             \n",
       "⎢                                                                             \n",
       "⎢                                                                             \n",
       "⎢                                                                             \n",
       "⎢                                                                             \n",
       "⎢                                                                             \n",
       "⎢                                                                             \n",
       "⎢                                                                             \n",
       "⎢                                                                             \n",
       "⎢                                                                             \n",
       "⎢                                                                             \n",
       "⎢                                                                             \n",
       "⎢                                                                             \n",
       "⎣                                                                             \n",
       "\n",
       "q₂)⎞   ⎞                                                          ⎛       s⋅σ⋅\n",
       "──⎟⋅q₀̇⎟                                                          ⎜     - ────\n",
       "  ⎠   ⎟ ⎛  s⋅σ⋅cos(Λ)   s⋅σ⋅cos(q₂)   s⋅cos(q₂)⎞    2            ⎜            \n",
       "──────⎟⋅⎜- ────────── + ─────────── - ─────────⎟   V ⋅c⋅ρ⋅s⋅σ⋅a₃⋅⎜α₁ + ───────\n",
       "      ⎠ ⎝      4             2            2    ⎠                 ⎝            \n",
       "──────────────────────────────────────────────── - ───────────────────────────\n",
       "                                                                              \n",
       "                                                                              \n",
       "                           ⎛       s⋅σ⋅cos(Λ)⋅q₁̇   ⎛s⋅σ⋅cos(Λ)   s⋅σ⋅cos(q₁) \n",
       "                           ⎜     - ───────────── + ⎜────────── - ─────────── +\n",
       "            2      2  2    ⎜             4         ⎝    4             2       \n",
       "           V ⋅c⋅ρ⋅s ⋅σ ⋅a₃⋅⎜α₁ + ─────────────────────────────────────────────\n",
       "                           ⎝                                  V               \n",
       "           ───────────────────────────────────────────────────────────────────\n",
       "                                                       16                     \n",
       "                                                                              \n",
       "                          ⎛       s⋅σ⋅cos(Λ)⋅q₂̇   ⎛  s⋅σ⋅cos(Λ)   s⋅σ⋅cos(q₂)\n",
       "                          ⎜     - ───────────── + ⎜- ────────── + ─────────── \n",
       "           2      2  2    ⎜             4         ⎝      4             2      \n",
       "          V ⋅c⋅ρ⋅s ⋅σ ⋅a₀⋅⎜α₂ + ──────────────────────────────────────────────\n",
       "                          ⎝                                   V               \n",
       "          ────────────────────────────────────────────────────────────────────\n",
       "                                                       16                     \n",
       "\n",
       "cos(Λ)⋅q₁̇   ⎛s⋅σ⋅cos(Λ)   s⋅σ⋅cos(q₁)   s⋅cos(q₁)⎞   ⎞                       \n",
       "───────── + ⎜────────── - ─────────── + ─────────⎟⋅q₀̇⎟                       \n",
       " 4         ⎝    4             2            2    ⎠   ⎟ ⎛s⋅σ⋅cos(Λ)   s⋅σ⋅cos(q₁\n",
       "────────────────────────────────────────────────────⎟⋅⎜────────── - ──────────\n",
       "                      V                             ⎠ ⎝    4             2    \n",
       "──────────────────────────────────────────────────────────────────────────────\n",
       "                                4                                             \n",
       "                                                                              \n",
       "  s⋅cos(q₁)⎞   ⎞                                                              \n",
       " ─────────⎟⋅q₀̇⎟                                                              \n",
       "     2    ⎠   ⎟                                                               \n",
       "──────────────⎟⋅cos(Λ)                                                        \n",
       "              ⎠                                                               \n",
       "──────────────────────                                                        \n",
       "                                                                              \n",
       "                                                                              \n",
       "   s⋅cos(q₂)⎞   ⎞                                                             \n",
       "- ─────────⎟⋅q₀̇⎟                                                             \n",
       "      2    ⎠   ⎟                                                              \n",
       "───────────────⎟⋅cos(Λ)                                                       \n",
       "               ⎠                                                              \n",
       "───────────────────────                                                       \n",
       "                                                                              \n",
       "\n",
       "                                  ⎤\n",
       "                                  ⎥\n",
       ")   s⋅cos(q₁)⎞                  ⎥\n",
       "─ + ─────────⎟              2   ⎥\n",
       "        2    ⎠   V⋅a₀⋅c⋅ρ⋅yᵢ ⋅q₀̇⎥\n",
       "────────────── - ───────────────⎥\n",
       "                        2       ⎥\n",
       "                                ⎥\n",
       "                                 ⎥\n",
       "                                 ⎥\n",
       "                                ⎥\n",
       "                                ⎥\n",
       "                                ⎥\n",
       "                                ⎥\n",
       "                                ⎥\n",
       "                                ⎥\n",
       "                                 ⎥\n",
       "                                 ⎥\n",
       "                                ⎥\n",
       "                                ⎥\n",
       "                                ⎥\n",
       "                                ⎥\n",
       "                                ⎦"
      ]
     },
     "execution_count": 50,
     "metadata": {},
     "output_type": "execute_result"
    }
   ],
   "source": [
    "sm.ExtForces.Q()"
   ]
  },
  {
   "cell_type": "code",
   "execution_count": 51,
   "metadata": {},
   "outputs": [
    {
     "data": {
      "text/latex": [
       "$\\displaystyle \\left[\\begin{matrix}- \\frac{V c \\rho C_{l{\\alpha} i} b_{i} y_{i}^{2} \\dot{q}_{0}}{2}\\\\0\\\\0\\end{matrix}\\right]$"
      ],
      "text/plain": [
       "⎡                            2    ⎤\n",
       "⎢-V⋅c⋅ρ⋅C_{l{\\alpha} i}⋅bᵢ⋅yᵢ ⋅q₀̇ ⎥\n",
       "⎢─────────────────────────────────⎥\n",
       "⎢                2                ⎥\n",
       "⎢                                 ⎥\n",
       "⎢                0                ⎥\n",
       "⎢                                 ⎥\n",
       "⎣                0                ⎦"
      ]
     },
     "execution_count": 51,
     "metadata": {},
     "output_type": "execute_result"
    }
   ],
   "source": [
    "y_i = sym.Symbol('y_i')\n",
    "C_lalphai = sym.Symbol('C_{l{\\\\alpha} i}')\n",
    "b_i = sym.Symbol('b_i')\n",
    "Q = wing_AeroForces.subs({p.y_i:y_i,p.a_0:C_lalphai})*b_i\n",
    "Q.Q()"
   ]
  },
  {
   "cell_type": "code",
   "execution_count": 52,
   "metadata": {},
   "outputs": [
    {
     "data": {
      "text/latex": [
       "$\\displaystyle \\left[\\begin{matrix}\\frac{V c \\rho C_{l{\\alpha} i} b_{i} \\left(2 V \\alpha_{2} - 2 y_{i} \\cos{\\left(\\Lambda \\right)} \\dot{q}_{2} - \\left(- s \\sigma \\cos{\\left(q_{2} \\right)} + s \\cos{\\left(q_{2} \\right)} + 2 y_{i} \\cos{\\left(\\Lambda \\right)}\\right) \\dot{q}_{0}\\right) \\left(- s \\sigma \\cos{\\left(q_{2} \\right)} + s \\cos{\\left(q_{2} \\right)} + 2 y_{i} \\cos{\\left(\\Lambda \\right)}\\right)}{8}\\\\0\\\\\\frac{V c \\rho C_{l{\\alpha} i} b_{i} y_{i} \\left(2 V \\alpha_{2} - 2 y_{i} \\cos{\\left(\\Lambda \\right)} \\dot{q}_{2} - \\left(- s \\sigma \\cos{\\left(q_{2} \\right)} + s \\cos{\\left(q_{2} \\right)} + 2 y_{i} \\cos{\\left(\\Lambda \\right)}\\right) \\dot{q}_{0}\\right) \\cos{\\left(\\Lambda \\right)}}{4}\\end{matrix}\\right]$"
      ],
      "text/plain": [
       "⎡V⋅c⋅ρ⋅C_{l{\\alpha} i}⋅bᵢ⋅(2⋅V⋅α₂ - 2⋅yᵢ⋅cos(Λ)⋅q₂̇ - (-s⋅σ⋅cos(q₂) + s⋅cos(q₂\n",
       "⎢─────────────────────────────────────────────────────────────────────────────\n",
       "⎢                                                                    8        \n",
       "⎢                                                                             \n",
       "⎢                                                                    0        \n",
       "⎢                                                                             \n",
       "⎢               V⋅c⋅ρ⋅C_{l{\\alpha} i}⋅bᵢ⋅yᵢ⋅(2⋅V⋅α₂ - 2⋅yᵢ⋅cos(Λ)⋅q₂̇ - (-s⋅σ⋅\n",
       "⎢               ──────────────────────────────────────────────────────────────\n",
       "⎣                                                                   4         \n",
       "\n",
       ") + 2⋅yᵢ⋅cos(Λ))⋅q₀̇)⋅(-s⋅σ⋅cos(q₂) + s⋅cos(q₂) + 2⋅yᵢ⋅cos(Λ))⎤\n",
       "────────────────────────────────────────────────────────────⎥\n",
       "                                                            ⎥\n",
       "                                                            ⎥\n",
       "                                                            ⎥\n",
       "                                                            ⎥\n",
       "cos(q₂) + s⋅cos(q₂) + 2⋅yᵢ⋅cos(Λ))⋅q₀̇)⋅cos(Λ)                ⎥\n",
       "────────────────────────────────────────────                ⎥\n",
       "                                                            ⎦"
      ]
     },
     "execution_count": 52,
     "metadata": {},
     "output_type": "execute_result"
    }
   ],
   "source": [
    "Q = lhs_fwt_AeroForces.subs({p.y_f:y_i,p.a_0:C_lalphai})*b_i\n",
    "sym.simplify(Q.Q())"
   ]
  },
  {
   "cell_type": "code",
   "execution_count": null,
   "metadata": {},
   "outputs": [],
   "source": []
  }
 ],
 "metadata": {
  "kernelspec": {
   "display_name": "Python 3",
   "language": "python",
   "name": "python3"
  },
  "language_info": {
   "codemirror_mode": {
    "name": "ipython",
    "version": 3
   },
   "file_extension": ".py",
   "mimetype": "text/x-python",
   "name": "python",
   "nbconvert_exporter": "python",
   "pygments_lexer": "ipython3",
   "version": "3.7.7"
  }
 },
 "nbformat": 4,
 "nbformat_minor": 4
}
