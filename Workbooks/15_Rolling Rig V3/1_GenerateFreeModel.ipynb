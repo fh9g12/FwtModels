{
 "cells": [
  {
   "cell_type": "code",
   "execution_count": 16,
   "metadata": {},
   "outputs": [],
   "source": [
    "import sympy as sym\n",
    "import sympy.physics.mechanics as me\n",
    "from sympy.abc import t as time\n",
    "import pandas as pd\n",
    "import seaborn as sns\n",
    "\n",
    "import numpy as np\n",
    "from scipy.integrate import solve_ivp\n",
    "import matplotlib.pyplot as plt\n",
    "\n",
    "import sys, os\n",
    "\n",
    "sys.path.insert(1, os.path.join(sys.path[0], '../..'))\n",
    "import custom_plot_objects as cpo\n",
    "\n",
    "import ModelFramework as mf\n",
    "import ModelFramework.Elements as ele\n",
    "import ModelFramework.ExternalForces as ef\n",
    "import FwtModels.RectWing as rw\n",
    "import FwtModels.RollRig as RollRig\n",
    "\n",
    "from matplotlib.lines import Line2D\n",
    "\n",
    "me.mechanics_printing()"
   ]
  },
  {
   "cell_type": "code",
   "execution_count": 17,
   "metadata": {},
   "outputs": [],
   "source": [
    "# ## load lift distribution\n",
    "# df = pd.read_csv(r'/Users/fintan/Git/FlexiFWT_DAQ/Analysis/RollingRigV3/ModelComparison/LiftDistribution.csv')\n",
    "# df\n",
    "# y_span = df['y'].to_numpy()\n",
    "# y_span /= max(y_span)\n",
    "# y_c_l = df['C_l'].to_numpy()\n",
    "# y_span"
   ]
  },
  {
   "cell_type": "code",
   "execution_count": 18,
   "metadata": {},
   "outputs": [],
   "source": [
    "half = sym.Rational(1,2)\n",
    "fwt_panels = 10\n",
    "main_panels = 10\n",
    "p = RollRig.base_params(panels = (fwt_panels*2 + main_panels))"
   ]
  },
  {
   "cell_type": "code",
   "execution_count": 19,
   "metadata": {},
   "outputs": [
    {
     "data": {
      "image/png": "[encoded data removed]",
      "text/latex": [
       "$\\displaystyle a_{0}$"
      ],
      "text/plain": [
       "a₀"
      ]
     },
     "execution_count": 19,
     "metadata": {},
     "output_type": "execute_result"
    }
   ],
   "source": [
    "p.a[0]"
   ]
  },
  {
   "cell_type": "code",
   "execution_count": 20,
   "metadata": {},
   "outputs": [],
   "source": [
    "# Generate Referecne Frame\n",
    "wing_frame = mf.HomogenousTransform().R_x(p.q[0])#.R_y(p.alpha_r)\n",
    "rhs_fwt_frame = wing_frame.Translate(0,p.s_w*half,0).R_x(-p.q[1])  # RHS Fwt Frame\n",
    "lhs_fwt_frame = wing_frame.Translate(0,-p.s_w*half,0).R_x(p.q[2])  # RHS Fwt Frame\n",
    "\n",
    "#Generate Mass Matrices\n",
    "M_w = ele.MassMatrix(p.m_w)\n",
    "I_w = ele.MassMatrix(0,I_xx = p.I_xx_w)\n",
    "fwt_w = ele.MassMatrix(p.m_f,I_xx = p.I_xx_f)\n",
    "\n",
    "# Generate Rigid Elements\n",
    "Wing_point_mass = ele.RigidElement(wing_frame.Translate(0,p.eta_0,p.eta_1),M_w,gravityPotential=True)\n",
    "wing_inertia = ele.RigidElement(wing_frame,I_w)\n",
    "rhs_fwt_mass = ele.RigidElement(rhs_fwt_frame.Translate(0,p.eta_2,0),fwt_w,gravityPotential=True)\n",
    "lhs_fwt_mass = ele.RigidElement(lhs_fwt_frame.Translate(0,-p.eta_2,0),fwt_w,gravityPotential=True)"
   ]
  },
  {
   "cell_type": "code",
   "execution_count": 21,
   "metadata": {},
   "outputs": [],
   "source": [
    "# Main Wing Aero Forces \n",
    "wing_AeroForces = ef.AeroForce.PerUnitSpan(p,wing_frame.Translate(0,p.y_w,0),p.a_0,\n",
    "                               alphadot = 0,\n",
    "                               M_thetadot = 0,\n",
    "                               e = 0,\n",
    "                               w_g = 0,\n",
    "                               rootAlpha = 0,\n",
    "                               alpha_zero = 0,\n",
    "                               stall_angle = 0,\n",
    "                               c = p.c,\n",
    "                               c_d_max = 0,\n",
    "                               linear = True)#.integrate((p.y_w,-p.s_w*half,p.s_w*half))"
   ]
  },
  {
   "cell_type": "code",
   "execution_count": 22,
   "metadata": {},
   "outputs": [],
   "source": [
    "# split Main Wing into segments\n",
    "forces = []\n",
    "for i in range(main_panels):\n",
    "    seg_width = p.s_w/main_panels\n",
    "    yi = -p.s_w/2 + seg_width/2 + i*seg_width\n",
    "    forces.append(wing_AeroForces.subs({p.y_w:yi,p.a_0:p.a[fwt_panels+i]})*seg_width)\n",
    "Q = sym.Matrix([0]*p.qs)\n",
    "for f in forces:\n",
    "    Q += f.Q()\n",
    "wing_AeroForces = ef.ExternalForce(Q)"
   ]
  },
  {
   "cell_type": "code",
   "execution_count": 23,
   "metadata": {},
   "outputs": [],
   "source": [
    "# Left FWT Aero Forces\n",
    "c_l_curve = p.a_0- (p.y_f*p.a_0/p.s_f)\n",
    "# c_l_curve = p.y_f*p.a_0/p.s_f\n",
    "c_l_curve = p.a_0\n",
    "lhs_fwt_AeroForces = ef.AeroForce.PerUnitSpan(p,lhs_fwt_frame.Translate(0,-p.y_f*sym.cos(p.Lambda),0),c_l_curve,\n",
    "                               alphadot = 0,\n",
    "                               M_thetadot = 0,\n",
    "                               e = 0,\n",
    "                               w_g = p.w_g,\n",
    "                               rootAlpha = p.alpha_2,\n",
    "                               alpha_zero = p.alpha_c,\n",
    "                               stall_angle = 0,\n",
    "                               c = p.c,\n",
    "                               c_d_max = p.c_d_max,\n",
    "                               linear = False)#.integrate((p.y_f,0,p.s_f))"
   ]
  },
  {
   "cell_type": "code",
   "execution_count": 24,
   "metadata": {},
   "outputs": [],
   "source": [
    "# Left FWT Aero Forces \n",
    "c_l_curve = p.a_0- (p.y_f*p.a_0/p.s_f)\n",
    "# c_l_curve = p.y_f*p.a_0/p.s_f\n",
    "c_l_curve = p.a_0\n",
    "rhs_fwt_AeroForces = ef.AeroForce.PerUnitSpan(p,rhs_fwt_frame.Translate(0,p.y_f*sym.cos(p.Lambda),0),c_l_curve,\n",
    "                               alphadot = 0,\n",
    "                               M_thetadot = 0,\n",
    "                               e = 0,\n",
    "                               w_g = p.w_g,\n",
    "                               rootAlpha = p.alpha_1,\n",
    "                               alpha_zero = p.alpha_c,\n",
    "                               stall_angle = 0,\n",
    "                               c = p.c,\n",
    "                               c_d_max = p.c_d_max,\n",
    "                               linear = False)#.integrate((p.y_f,0,p.s_f))"
   ]
  },
  {
   "cell_type": "code",
   "execution_count": 26,
   "metadata": {},
   "outputs": [],
   "source": [
    "# split FTW's into segments\n",
    "forces = []\n",
    "for i in range(fwt_panels):\n",
    "    seg_width = p.s_f/fwt_panels\n",
    "    yi = seg_width/2 + i*seg_width\n",
    "    forces.append(lhs_fwt_AeroForces.subs({p.y_f:yi,p.a_0:p.a[i]})*seg_width)\n",
    "    forces.append(rhs_fwt_AeroForces.subs({p.y_f:yi,p.a_0:p.a[fwt_panels+main_panels+i]})*seg_width)\n",
    "Q = sym.Matrix([0]*p.qs)\n",
    "for f in forces:\n",
    "    Q += f.Q()\n",
    "fwt_AeroForces = ef.ExternalForce(Q)\n",
    "\n"
   ]
  },
  {
   "cell_type": "code",
   "execution_count": 27,
   "metadata": {},
   "outputs": [],
   "source": [
    "Forcing = ef.CustomForce(None) \n",
    "\n",
    "CompositeForce = ef.CompositeForce([fwt_AeroForces,wing_AeroForces,Forcing])\n",
    "# create instance of the model\n",
    "sm = mf.SymbolicModel.FromElementsAndForces(p,[Wing_point_mass,wing_inertia,rhs_fwt_mass,lhs_fwt_mass],ExtForces = CompositeForce)"
   ]
  },
  {
   "cell_type": "code",
   "execution_count": 28,
   "metadata": {},
   "outputs": [],
   "source": [
    "sm.to_file('RollRigModel.py')"
   ]
  },
  {
   "cell_type": "code",
   "execution_count": null,
   "metadata": {},
   "outputs": [],
   "source": []
  }
 ],
 "metadata": {
  "kernelspec": {
   "display_name": "Python 3",
   "language": "python",
   "name": "python3"
  },
  "language_info": {
   "codemirror_mode": {
    "name": "ipython",
    "version": 3
   },
   "file_extension": ".py",
   "mimetype": "text/x-python",
   "name": "python",
   "nbconvert_exporter": "python",
   "pygments_lexer": "ipython3",
   "version": "3.7.7"
  }
 },
 "nbformat": 4,
 "nbformat_minor": 4
}
