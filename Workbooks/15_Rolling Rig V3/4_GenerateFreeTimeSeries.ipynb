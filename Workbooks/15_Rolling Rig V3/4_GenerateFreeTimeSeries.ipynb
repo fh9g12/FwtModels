{
 "cells": [
  {
   "cell_type": "code",
   "execution_count": 1,
   "metadata": {},
   "outputs": [],
   "source": [
    "import sympy as sym\n",
    "import sympy.physics.mechanics as me\n",
    "from sympy.abc import t as time\n",
    "import pandas as pd\n",
    "import seaborn as sns\n",
    "\n",
    "import numpy as np\n",
    "from scipy.integrate import solve_ivp\n",
    "import matplotlib.pyplot as plt\n",
    "from scipy.interpolate import interp1d\n",
    "from scipy.optimize import fsolve,least_squares,root\n",
    "\n",
    "import sys, os\n",
    "import pickle\n",
    "\n",
    "sys.path.insert(1, os.path.join(sys.path[0], '../..'))\n",
    "import custom_plot_objects as cpo\n",
    "\n",
    "import ModelFramework as mf\n",
    "import ModelFramework.Elements as ele\n",
    "import ModelFramework.ExternalForces as ef\n",
    "import FwtModels.RectWing as rw\n",
    "import FwtModels.RollRig as RollRig\n",
    "import multiprocessing as mp\n",
    "from multiprocessing import set_start_method\n",
    "#set_start_method(\"spawn\")\n",
    "\n",
    "from matplotlib.lines import Line2D\n",
    "\n",
    "me.mechanics_printing()"
   ]
  },
  {
   "cell_type": "code",
   "execution_count": 2,
   "metadata": {},
   "outputs": [],
   "source": [
    "# Create simplified model\n",
    "fwt_panels = 10\n",
    "main_panels = 20\n",
    "\n",
    "p = RollRig.base_params(3, panels = fwt_panels*2 + main_panels)  \n",
    "sm = mf.SymbolicModel.from_file('RollRigModel.py')"
   ]
  },
  {
   "cell_type": "code",
   "execution_count": 5,
   "metadata": {},
   "outputs": [],
   "source": [
    "sm.ExtForces = ef.CompositeForce([sm.ExtForces,ef.CustomForce(None)])\n",
    "sm = sm.subs({p.alpha_r.name:0,p.alpha_1.name:sym.atan(sym.sin(p.Lambda)*sym.tan(p.q[1])),\n",
    "             p.alpha_2.name:sym.atan(sym.sin(p.Lambda)*sym.tan(p.q[2]))})\n",
    "sm.to_file('tempModel_free.py')"
   ]
  },
  {
   "cell_type": "code",
   "execution_count": 6,
   "metadata": {},
   "outputs": [],
   "source": [
    "# Add fixed params to dict\n",
    "params = {}\n",
    "params['c'] = 0.067\n",
    "params['s'] = 1\n",
    "params['g'] = 9.81\n",
    "params['sigma'] = 0.272\n",
    "params['alpha_r'] = 0\n",
    "params['c_d_max'] = 1\n",
    "params['m_w'] = 0.773\n",
    "params['I_xx_w'] = 0.019480411\n",
    "params['y_w'] = 0.00198\n",
    "params['z_w'] = -0.00273\n",
    "params['c_d_max'] = 0\n",
    "params['T'] = 0.12"
   ]
  },
  {
   "cell_type": "code",
   "execution_count": 7,
   "metadata": {},
   "outputs": [],
   "source": [
    "# create lift distribution\n",
    "def create_lift_dist_from_file(filename,span,sigma,main_panels,fwt_panels):\n",
    "    s_w = span*(1-sigma)\n",
    "    delta = s_w / main_panels\n",
    "    y_panel_main = np.linspace(-s_w/2+delta/2,s_w/2-delta/2,main_panels)\n",
    "\n",
    "    s_f = span*sigma/2\n",
    "    delta = s_f / fwt_panels\n",
    "    y_panel_fwt = np.linspace(delta/2,s_f-delta/2,fwt_panels)+s_w/2\n",
    "    y_panel = [*-np.flip(y_panel_fwt),*y_panel_main,*y_panel_fwt]\n",
    "\n",
    "    ## load lift distribution\n",
    "    df = pd.read_csv(filename)\n",
    "    y_span = df['y'].to_numpy()\n",
    "    y_c_l = df['C_l'].to_numpy()\n",
    "\n",
    "    # interpolate on each panel\n",
    "    return list(np.interp(np.abs(y_panel),y_span,y_c_l,left=0,right=0))\n",
    "\n",
    "def create_const_lift_dist(main_panels,fwt_panels):\n",
    "    return [np.pi*2]*(main_panels+(2*fwt_panels))\n",
    "\n",
    "def create_tapered_lift_dist(main_panels,fwt_panels):\n",
    "    val = 2*np.pi\n",
    "    main_a = [val]*main_panels\n",
    "    fwt_a = [((i+0.5)/fwt_panels)*val for i in range(fwt_panels)]\n",
    "    return [*fwt_a,*main_a,*reversed(fwt_a)]"
   ]
  },
  {
   "cell_type": "code",
   "execution_count": 8,
   "metadata": {},
   "outputs": [],
   "source": [
    "# Calculate Lift Distributions\n",
    "lift_dists=[]\n",
    "tmp_params = {}\n",
    "tmp_params['p'] = 1\n",
    "tmp_params['a'] = create_lift_dist_from_file(r'LiftDistribution_aoa_0_rr_60_span_100.csv',params['s'],params['sigma'],main_panels,fwt_panels)\n",
    "lift_dists.append(({'LiftDist':'Roll60'},tmp_params.copy()))\n",
    "\n",
    "# tmp_params = {}\n",
    "# tmp_params['p'] = 1\n",
    "# tmp_params['a'] = create_lift_dist_from_file(r'LiftDistribution_aoa_5_rr_0_span_100.csv',params['s'],params['sigma'],main_panels,fwt_panels)\n",
    "# lift_dists.append(({'LiftDist':'AoA5'},tmp_params.copy()))\n",
    "\n",
    "# tmp_params = {}\n",
    "# tmp_params['p'] = 1\n",
    "# tmp_params['a'] = create_const_lift_dist(main_panels,fwt_panels)\n",
    "# lift_dists.append(({'LiftDist':'Const'},tmp_params.copy()))\n",
    "\n",
    "# tmp_params = {}\n",
    "# tmp_params['p'] = 1\n",
    "# tmp_params['a'] = create_tapered_lift_dist(main_panels,fwt_panels)\n",
    "# lift_dists.append(({'LiftDist':'Tapered'},tmp_params.copy()))"
   ]
  },
  {
   "cell_type": "code",
   "execution_count": 9,
   "metadata": {},
   "outputs": [],
   "source": [
    "# create configs\n",
    "configs = []\n",
    "tmp_params = {}\n",
    "tmp_params['Lambda'] = np.deg2rad(10)\n",
    "tmp_params['alpha_c'] = np.deg2rad(0)\n",
    "tmp_params['l_f'] = 0.0766*np.cos(tmp_params['Lambda'])\n",
    "tmp_params['I_xx_f'] = 8.85e-5\n",
    "tmp_params['m_f'] = 0.05\n",
    "configs.append(({'Mode':'Free'},tmp_params.copy()))\n",
    "\n",
    "tmp_params = {}\n",
    "tmp_params['Lambda'] = np.deg2rad(20)\n",
    "tmp_params['alpha_c'] = np.deg2rad(0)\n",
    "tmp_params['l_f'] = 0.0766*np.cos(tmp_params['Lambda'])\n",
    "tmp_params['I_xx_f'] = 8.55e-5\n",
    "tmp_params['m_f'] = 0.05\n",
    "configs.append(({'Mode':'Free'},tmp_params.copy()))\n",
    "\n",
    "tmp_params = {}\n",
    "tmp_params['Lambda'] = np.deg2rad(30)\n",
    "tmp_params['alpha_c'] = np.deg2rad(0)\n",
    "tmp_params['l_f'] = 0.0766*np.cos(tmp_params['Lambda'])\n",
    "tmp_params['I_xx_f'] = 8.68e-5\n",
    "tmp_params['m_f'] = 0.05\n",
    "configs.append(({'Mode':'Free'},tmp_params.copy()))"
   ]
  },
  {
   "cell_type": "code",
   "execution_count": 10,
   "metadata": {},
   "outputs": [],
   "source": [
    "# create Jobs\n",
    "attitudes=[]\n",
    "vs = [15,20,25,30]\n",
    "for v in vs:\n",
    "    aas = [7,14,21]\n",
    "    offset = [-0.08,-0.05,0.05]\n",
    "    for i,tm in enumerate([1.05,1.48,1.75]):\n",
    "        beta = (tm)*8.4e-4*v**2+offset[i]\n",
    "        attitudes.append(({\"AileronAngle\":aas[i],},{\"V\":v,\"beta\":beta}))\n",
    "#     attitudes.append(({\"AileronAngle\":7,},{\"V\":v,\"beta\":(1.05)*8.4e-4*v**2-0.08}))"
   ]
  },
  {
   "cell_type": "code",
   "execution_count": 11,
   "metadata": {},
   "outputs": [
    {
     "data": {
      "text/plain": [
       "({'Mode': 'Free', 'AileronAngle': 14, 'LiftDist': 'Roll60'},\n",
       " {'c': 0.067,\n",
       "  's': 1,\n",
       "  'g': 9.81,\n",
       "  'sigma': 0.272,\n",
       "  'alpha_r': 0,\n",
       "  'c_d_max': 0,\n",
       "  'm_w': 0.773,\n",
       "  'I_xx_w': 0.019480411,\n",
       "  'y_w': 0.00198,\n",
       "  'z_w': -0.00273,\n",
       "  'T': 0.12,\n",
       "  'Lambda': 0.17453292519943295,\n",
       "  'alpha_c': 0.0,\n",
       "  'l_f': 0.07543627388073514,\n",
       "  'I_xx_f': 8.85e-05,\n",
       "  'm_f': 0.05,\n",
       "  'V': 30,\n",
       "  'beta': 1.06888,\n",
       "  'p': 1,\n",
       "  'a': [2.200855391860232,\n",
       "   3.179813255257545,\n",
       "   3.6835705524464495,\n",
       "   4.015583272712904,\n",
       "   4.256179830578735,\n",
       "   4.442402747341911,\n",
       "   4.580980295345894,\n",
       "   4.695474538748269,\n",
       "   4.795221793778178,\n",
       "   4.872837792285006,\n",
       "   4.992561839319652,\n",
       "   5.120541505494391,\n",
       "   5.212447613810335,\n",
       "   5.283416334701855,\n",
       "   5.337895699159289,\n",
       "   5.38419381571087,\n",
       "   5.427024422743289,\n",
       "   5.475545743768892,\n",
       "   5.557972867346111,\n",
       "   5.870698702725352,\n",
       "   5.870698702725352,\n",
       "   5.55797286734611,\n",
       "   5.475545743768892,\n",
       "   5.427024422743289,\n",
       "   5.38419381571087,\n",
       "   5.337895699159289,\n",
       "   5.283416334701855,\n",
       "   5.212447613810335,\n",
       "   5.120541505494391,\n",
       "   4.992561839319652,\n",
       "   4.872837792285006,\n",
       "   4.795221793778178,\n",
       "   4.695474538748269,\n",
       "   4.580980295345894,\n",
       "   4.442402747341911,\n",
       "   4.256179830578735,\n",
       "   4.015583272712904,\n",
       "   3.6835705524464495,\n",
       "   3.179813255257545,\n",
       "   2.200855391860232]})"
      ]
     },
     "execution_count": 11,
     "metadata": {},
     "output_type": "execute_result"
    }
   ],
   "source": [
    "jobs=[({**config,**att,**lift_dist},{**params,**config_params,**att_params,**lift_dist_params}) for config,config_params in configs for att,att_params in attitudes for lift_dist,lift_dist_params in lift_dists]\n",
    "jobs[10]"
   ]
  },
  {
   "cell_type": "code",
   "execution_count": 12,
   "metadata": {},
   "outputs": [
    {
     "name": "stdout",
     "output_type": "stream",
     "text": [
      "CPU times: user 3.11 s, sys: 20.8 ms, total: 3.13 s\n",
      "Wall time: 3.15 s\n"
     ]
    }
   ],
   "source": [
    "%%time\n",
    "j_i = 10\n",
    "job = jobs[j_i]\n",
    "ic = [0,0,0,0,0,0]\n",
    "names = ['Roll','Roll Rate','Left FWT Angle','Left FWT Velocity','Right FWT Angle','Right FWT Velocity']\n",
    "\n",
    "def stop_event(t,y):\n",
    "    return np.deg2rad(360*4+5) - abs(y[0])\n",
    "stop_event.terminal = True\n",
    "\n",
    "data = RollRig.GenRunData_StepTorque('tempModel_free.py',3,ic,60,params=job[1],\n",
    "                                     panels=main_panels + 2*fwt_panels,\n",
    "                                     calc_coast=True,\n",
    "                                     xNames=names,\n",
    "                                     additional_cols={**job[0]},\n",
    "                                     sample_freq=100,\n",
    "                                     events = [stop_event])\n",
    "\n",
    "# plt.plot(np.rad2deg(df['Roll Rate']),np.gradient(np.rad2deg(df['Roll Rate'])))\n",
    "\n",
    "\n",
    "# print(np.rad2deg(df[df['t']>4]['Roll Rate'].mean()))\n",
    "# {**jobs[j_i][0],**jobs[j_i][1]}"
   ]
  },
  {
   "cell_type": "code",
   "execution_count": 13,
   "metadata": {},
   "outputs": [
    {
     "data": {
      "text/plain": [
       "<matplotlib.legend.Legend at 0x7fe70215ca50>"
      ]
     },
     "execution_count": 13,
     "metadata": {},
     "output_type": "execute_result"
    },
    {
     "data": {
      "image/png": "[encoded data removed]",
      "text/plain": [
       "<Figure size 432x288 with 1 Axes>"
      ]
     },
     "metadata": {
      "needs_background": "light"
     },
     "output_type": "display_data"
    }
   ],
   "source": [
    "df = pd.DataFrame(data)\n",
    "# df = df[df['Roll']>=np.deg2rad(720-180)]\n",
    "# df = df[df['Roll']<np.deg2rad(360*3-180)]\n",
    "plt.plot(df['t'],df['torque'])\n",
    "# plt.plot(df['t'],np.rad2deg(df['Roll Rate']),label = 'rr')\n",
    "plt.plot(df['t'],np.rad2deg(df['Left FWT Angle']),label = 'left fwt')\n",
    "plt.plot(df['t'],np.rad2deg(df['Right FWT Angle']),label = 'right fwt')\n",
    "plt.plot(df['t'],np.rad2deg(df['Roll Rate']),label = 'roll')\n",
    "# plt.plot(np.rad2deg(df['Roll']),(df['lift_mom']),label ='lift')\n",
    "# plt.plot(np.rad2deg(df['Roll']),(df['centri_mom']),label = 'centri')\n",
    "# plt.plot(np.rad2deg(df['Roll']),(df['grav_mom']),label = 'grav')\n",
    "# plt.plot(np.rad2deg(df['Roll']),(df['right_lift']),label = 'rl')\n",
    "# plt.plot(np.rad2deg(df['Roll']),(df['left_lift']),label = 'll')\n",
    "# plt.plot(np.rad2deg(df['Roll']),(df['left_lift']+df['right_lift']),label = 'delta')\n",
    "\n",
    "plt.legend()"
   ]
  },
  {
   "cell_type": "code",
   "execution_count": 14,
   "metadata": {},
   "outputs": [],
   "source": [
    "filename = 'tempModel_free.py'\n",
    "qs = 3\n",
    "ic = ic\n",
    "end_time = 60 \n",
    "params = job[1]\n",
    "panels = main_panels + 2*fwt_panels\n",
    "calc_coast=True\n",
    "xNames=names\n",
    "additional_cols={**job[0]}\n",
    "sample_freq=100\n",
    "events = [stop_event]\n",
    "\n",
    "def stop_event(t,y):\n",
    "    return np.deg2rad(360*4+5) - abs(y[0])\n",
    "stop_event.terminal = True\n",
    "\n",
    "# Set the parameters\n",
    "p = RollRig.base_params(qs,panels=panels)\n",
    "p_vars = vars(p)\n",
    "for string, value in params.items():\n",
    "    if string in p_vars:\n",
    "        p_vars[string].value = value\n",
    "# Load the Model \n",
    "sm = mf.SymbolicModel.from_file(filename)\n",
    "sm.ExtForces = ef.CompositeForce([sm.ExtForces, ef.CustomForce(None)])\n",
    "\n",
    "# Create Numeric Model\n",
    "nm = mf.NumericModel.from_SymbolicModel(p, sm)\n",
    "ext_f = nm.ExtForces.force_funcs[0]\n",
    "\n",
    "# coast angle\n",
    "def objective_func(x, ic):\n",
    "    y=[0]*6\n",
    "    y[0] = ic[0]\n",
    "    y[1] = ic[1]\n",
    "    y[2] = x[0]\n",
    "    y[4] = x[1]\n",
    "    tup = p.GetNumericTuple(y, 0)  \n",
    "    forces = -nm.f_func(tup,y)+nm.ExtForces(tup,y,0)\n",
    "    return forces[1][0]**2 + forces[2][0]**2"
   ]
  },
  {
   "cell_type": "code",
   "execution_count": 15,
   "metadata": {},
   "outputs": [
    {
     "name": "stdout",
     "output_type": "stream",
     "text": [
      "CPU times: user 5.98 s, sys: 880 ms, total: 6.86 s\n",
      "Wall time: 42 s\n"
     ]
    }
   ],
   "source": [
    "%%time\n",
    "# for each job edit the parameters and pool it \n",
    "pool = mp.Pool(mp.cpu_count())\n",
    "names = ['Roll','Roll Rate','Left FWT Angle','Left FWT Velocity','Right FWT Angle','Right FWT Velocity']\n",
    "\n",
    "res=[]\n",
    "for job in jobs:\n",
    "    res.append(pool.apply_async(RollRig.GenRunData_StepTorque, args = ('tempModel_free.py',3,[0]*6,15,job[1],\n",
    "                                                                       main_panels + 2*fwt_panels,True,\n",
    "                                                                       names,job[0],500)))\n",
    "pool.close()\n",
    "pool.join()\n",
    "\n",
    "ls = []\n",
    "for i in res:\n",
    "    ls += i.get()\n",
    "df = pd.DataFrame(ls)\n",
    "df.to_pickle('FixedData.pkl')"
   ]
  },
  {
   "cell_type": "code",
   "execution_count": 16,
   "metadata": {},
   "outputs": [
    {
     "data": {
      "text/plain": [
       "Lambda    V   AileronAngle\n",
       "0.174533  15  7               -50.996306\n",
       "              14             -112.524215\n",
       "              21             -177.559855\n",
       "          20  7              -106.632615\n",
       "              14             -169.156166\n",
       "              21             -229.233491\n",
       "          25  7              -152.247900\n",
       "              14             -222.622916\n",
       "              21             -282.363897\n",
       "          30  7              -193.119763\n",
       "              14             -273.277405\n",
       "              21             -336.013007\n",
       "0.349066  15  7               -56.618869\n",
       "              14             -118.746221\n",
       "              21             -188.777772\n",
       "          20  7              -113.052883\n",
       "              14             -179.297005\n",
       "              21             -244.634566\n",
       "          25  7              -158.188728\n",
       "              14             -234.721855\n",
       "              21             -299.740030\n",
       "          30  7              -200.135198\n",
       "              14             -287.491634\n",
       "              21             -355.514731\n",
       "0.523599  15  7               -59.638785\n",
       "              14             -122.797420\n",
       "              21             -196.308612\n",
       "          20  7              -115.744650\n",
       "              14             -183.588268\n",
       "              21             -252.148550\n",
       "          25  7              -160.237420\n",
       "              14             -240.091905\n",
       "              21             -308.581944\n",
       "          30  7              -202.415723\n",
       "              14             -293.592083\n",
       "              21             -365.587563\n",
       "Name: Roll Rate [Deg], dtype: float64"
      ]
     },
     "execution_count": 16,
     "metadata": {},
     "output_type": "execute_result"
    }
   ],
   "source": [
    "df['Roll Rate [Deg]']=np.rad2deg(df['Roll Rate'])\n",
    "df[df['t']>4].groupby(['Lambda','V','AileronAngle'])['Roll Rate [Deg]'].mean()"
   ]
  },
  {
   "cell_type": "code",
   "execution_count": 17,
   "metadata": {},
   "outputs": [
    {
     "data": {
      "text/plain": [
       "<matplotlib.axes._subplots.AxesSubplot at 0x7fe7024f78d0>"
      ]
     },
     "execution_count": 17,
     "metadata": {},
     "output_type": "execute_result"
    },
    {
     "data": {
      "image/png": "[encoded data removed]",
      "text/plain": [
       "<Figure size 432x288 with 1 Axes>"
      ]
     },
     "metadata": {
      "needs_background": "light"
     },
     "output_type": "display_data"
    }
   ],
   "source": [
    "test = df[(df['t']<4) & (df['V'] == 15)]\n",
    "sns.lineplot(data=test,x='t',y='Roll Rate',hue='Lambda')"
   ]
  },
  {
   "cell_type": "code",
   "execution_count": 18,
   "metadata": {},
   "outputs": [],
   "source": [
    "df.to_csv(r'/Users/fintan/Git/FlexiFWT_DAQ/Analysis/RollingRigV3/ModelComparisonV2/FreeData.csv', index = False)"
   ]
  },
  {
   "cell_type": "code",
   "execution_count": null,
   "metadata": {},
   "outputs": [],
   "source": []
  }
 ],
 "metadata": {
  "kernelspec": {
   "display_name": "Python 3",
   "language": "python",
   "name": "python3"
  },
  "language_info": {
   "codemirror_mode": {
    "name": "ipython",
    "version": 3
   },
   "file_extension": ".py",
   "mimetype": "text/x-python",
   "name": "python",
   "nbconvert_exporter": "python",
   "pygments_lexer": "ipython3",
   "version": "3.7.7"
  }
 },
 "nbformat": 4,
 "nbformat_minor": 4
}
