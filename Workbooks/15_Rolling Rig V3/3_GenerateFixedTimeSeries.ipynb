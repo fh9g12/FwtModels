{
 "cells": [
  {
   "cell_type": "code",
   "execution_count": 1,
   "metadata": {},
   "outputs": [],
   "source": [
    "import sympy as sym\n",
    "import sympy.physics.mechanics as me\n",
    "from sympy.abc import t as time\n",
    "import pandas as pd\n",
    "import seaborn as sns\n",
    "\n",
    "import numpy as np\n",
    "from scipy.integrate import solve_ivp\n",
    "import matplotlib.pyplot as plt\n",
    "from scipy.interpolate import interp1d\n",
    "from scipy.optimize import fsolve,least_squares,root\n",
    "\n",
    "import sys, os\n",
    "import pickle\n",
    "\n",
    "sys.path.insert(1, os.path.join(sys.path[0], '../..'))\n",
    "import custom_plot_objects as cpo\n",
    "\n",
    "import ModelFramework as mf\n",
    "import ModelFramework.Elements as ele\n",
    "import ModelFramework.ExternalForces as ef\n",
    "import FwtModels.RectWing as rw\n",
    "import FwtModels.RollRig as RollRig\n",
    "import multiprocessing as mp\n",
    "from multiprocessing import set_start_method\n",
    "#set_start_method(\"spawn\")\n",
    "\n",
    "from matplotlib.lines import Line2D\n",
    "\n",
    "me.mechanics_printing()"
   ]
  },
  {
   "cell_type": "code",
   "execution_count": 2,
   "metadata": {},
   "outputs": [],
   "source": [
    "# Add fixed params to dict\n",
    "\n",
    "main_panels = 20\n",
    "params = {}\n",
    "params['c'] = 0.067\n",
    "params['alpha_r'] = 0\n",
    "params['c_d_max'] = 1\n",
    "params['Lambda'] = np.deg2rad(0)\n",
    "params['alpha_c'] = np.deg2rad(0)\n",
    "params['p'] = 1\n",
    "params['sigma'] = 0"
   ]
  },
  {
   "cell_type": "code",
   "execution_count": 3,
   "metadata": {},
   "outputs": [],
   "source": [
    "# create lift distribution\n",
    "def create_lift_dist_from_file(filename,span,sigma,main_panels):\n",
    "    s_w = span*(1-sigma)\n",
    "    delta = s_w / main_panels\n",
    "    y_panel = np.linspace(-s_w/2+delta/2,s_w/2-delta/2,main_panels)\n",
    "\n",
    "    ## load lift distribution\n",
    "    df = pd.read_csv(filename)\n",
    "    y_span = df['y'].to_numpy()/df['span']*span*100\n",
    "    y_c_l = df['C_l'].to_numpy()\n",
    "\n",
    "    # interpolate on each panel\n",
    "    return list(np.interp(np.abs(y_panel),y_span,y_c_l,left=0,right=0))\n",
    "\n",
    "def create_const_lift_dist(main_panels):   \n",
    "    return [np.pi*2]*main_panels"
   ]
  },
  {
   "cell_type": "code",
   "execution_count": 10,
   "metadata": {},
   "outputs": [],
   "source": [
    "# create configs\n",
    "configs = []\n",
    "locked_params = {}\n",
    "locked_params['m_w'] = 0.884\n",
    "locked_params['I_xx_w'] = 0.03978611\n",
    "locked_params['y_w'] = 0.00047\n",
    "locked_params['z_w'] = 0.00238\n",
    "locked_params['s'] = 1\n",
    "locked_params['a'] = create_lift_dist_from_file(r'LiftDistribution_aoa_0_rr_60_span_100.csv',\n",
    "                                                locked_params['s'],params['sigma'],main_panels)\n",
    "configs.append(({'Mode':'Locked','LiftDist':'Roll60'},locked_params))\n",
    "\n",
    "locked_params = {}\n",
    "locked_params['m_w'] = 0.884\n",
    "locked_params['I_xx_w'] = 0.03978611\n",
    "locked_params['y_w'] = 0.00047\n",
    "locked_params['z_w'] = 0.00238\n",
    "locked_params['s'] = 1\n",
    "locked_params['a'] = create_const_lift_dist(main_panels)\n",
    "configs.append(({'Mode':'Locked','LiftDist':'Const'},locked_params))\n",
    "\n",
    "removed_params = {}\n",
    "removed_params['m_w'] = 0.735\n",
    "removed_params['I_xx_w'] = 0.014820479\n",
    "removed_params['y_w'] = 0.0020145\n",
    "removed_params['z_w'] = 0.002775\n",
    "removed_params['s'] = 0.728\n",
    "removed_params['a'] = create_lift_dist_from_file(r'LiftDistribution_aoa_0_rr_60_span_73.csv',\n",
    "                                                 removed_params['s'],params['sigma'],main_panels)\n",
    "configs.append(({'Mode':'Removed','LiftDist':'Roll60'},removed_params))\n",
    "\n",
    "removed_params = {}\n",
    "removed_params['m_w'] = 0.735\n",
    "removed_params['I_xx_w'] = 0.014820479\n",
    "removed_params['y_w'] = 0.0020145\n",
    "removed_params['z_w'] = 0.002775\n",
    "removed_params['s'] = 0.728\n",
    "removed_params['a'] = create_const_lift_dist(main_panels)\n",
    "configs.append(({'Mode':'Removed','LiftDist':'Const'},removed_params))"
   ]
  },
  {
   "cell_type": "code",
   "execution_count": 21,
   "metadata": {},
   "outputs": [],
   "source": [
    "# create Jobs\n",
    "attitudes=[]\n",
    "vs = [15,20,25,30]\n",
    "T = [0.06,0.12]\n",
    "for time_const in T: \n",
    "    for v in vs:\n",
    "        aas = [7,14,21]\n",
    "        offset = [-0.08,-0.05,0.05]\n",
    "        for i,tm in enumerate([1.05,1.48,1.75]):\n",
    "            beta = (tm)*8.4e-4*v**2+offset[i]\n",
    "            attitudes.append(({\"AileronAngle\":aas[i],},{\"V\":v,\"beta\":beta,\"T\":time_const}))\n",
    "jobs=[({**config,**att},{**params,**config_params,**att_params}) for config,config_params in configs for att,att_params in attitudes]"
   ]
  },
  {
   "cell_type": "code",
   "execution_count": 22,
   "metadata": {},
   "outputs": [
    {
     "name": "stdout",
     "output_type": "stream",
     "text": [
      "CPU times: user 106 ms, sys: 1.95 ms, total: 108 ms\n",
      "Wall time: 107 ms\n"
     ]
    }
   ],
   "source": [
    "%%time\n",
    "j_i = 10\n",
    "job = jobs[j_i]\n",
    "ic = [0,0]\n",
    "\n",
    "p = RollRig.base_params(1,panels=20)\n",
    "p_vars = vars(p)\n",
    "for string, value in job[1].items():\n",
    "    if string in p_vars:\n",
    "        p_vars[string].value = value\n",
    "p.V.value = 22\n",
    "sm = mf.SymbolicModel.from_file('RollRigModel-Fixed.py')\n",
    "nm = mf.NumericModel.from_SymbolicModel(p,sm)"
   ]
  },
  {
   "cell_type": "code",
   "execution_count": 23,
   "metadata": {},
   "outputs": [
    {
     "data": {
      "image/png": "[encoded data removed]",
      "text/latex": [
       "$\\displaystyle \\left( 0, \\  -0.5186107617359025\\right)$"
      ],
      "text/plain": [
       "(0, -0.5186107617359025)"
      ]
     },
     "execution_count": 23,
     "metadata": {},
     "output_type": "execute_result"
    }
   ],
   "source": [
    "nm.deriv(0,[1.57,0],p.GetNumericTuple(None,0))"
   ]
  },
  {
   "cell_type": "code",
   "execution_count": 25,
   "metadata": {},
   "outputs": [
    {
     "name": "stdout",
     "output_type": "stream",
     "text": [
      "0.0\n",
      "9.99\n"
     ]
    },
    {
     "data": {
      "text/plain": [
       "0      0.00\n",
       "1      0.01\n",
       "2      0.02\n",
       "3      0.03\n",
       "4      0.04\n",
       "       ... \n",
       "995    9.95\n",
       "996    9.96\n",
       "997    9.97\n",
       "998    9.98\n",
       "999    9.99\n",
       "Name: t, Length: 1000, dtype: float64"
      ]
     },
     "execution_count": 25,
     "metadata": {},
     "output_type": "execute_result"
    },
    {
     "data": {
      "image/png": "[encoded data removed]",
      "text/plain": [
       "<Figure size 432x288 with 1 Axes>"
      ]
     },
     "metadata": {
      "needs_background": "light"
     },
     "output_type": "display_data"
    }
   ],
   "source": [
    "names = ['Roll','Roll Rate','Left FWT Angle','Left FWT Velocity','Right FWT Angle','Right FWT Velocity']\n",
    "#GenRunData('tempModel.py',3,[0]*p.qs*2,10,{**params,**jobs[0]},names,{'Mode':'Free'},100)[100]\n",
    "# data = RollRig.GenRunData_StepTorque('RollRigModel-Fixed.py',1,[0,0],10,jobs[0][1],main_panels,names[:2],{**jobs[0][0],**{n:0 for n in names[2:]}},100)\n",
    "\n",
    "def stop_event(t,y):\n",
    "    if t<=10:\n",
    "        return 1\n",
    "    else:\n",
    "        return np.deg2rad(360*3+5) - abs(y[0])\n",
    "stop_event.terminal = True\n",
    "\n",
    "\n",
    "data = RollRig.GenRunData_StepTorque('RollRigModel-Fixed.py',1,[0,0],30,params=job[1],\n",
    "                                     panels=main_panels,\n",
    "                                     calc_coast=False,\n",
    "                                     xNames=names,\n",
    "                                     additional_cols={**job[0]},\n",
    "                                     sample_freq=100,\n",
    "                                    events = [stop_event])\n",
    "\n",
    "\n",
    "df = pd.DataFrame(data)\n",
    "plt.plot(df['t'],df['torque'])\n",
    "plt.plot(df['t'],np.rad2deg(df['Roll Rate']))\n",
    "# print(np.rad2deg(df[df['t']>4]['Roll Rate'].mean()))\n",
    "# {**jobs[0][0],**jobs[0][1]}\n",
    "print(np.rad2deg(df['Roll'].max()))\n",
    "print(df['t'].max())\n",
    "df['t']\n",
    "\n",
    "# plt.plot(np.rad2deg(df['Roll Rate']),np.gradient(np.rad2deg(df['Roll Rate'])))"
   ]
  },
  {
   "cell_type": "code",
   "execution_count": 26,
   "metadata": {},
   "outputs": [
    {
     "data": {
      "text/plain": [
       "[<matplotlib.lines.Line2D at 0x7fbcf5630990>]"
      ]
     },
     "execution_count": 26,
     "metadata": {},
     "output_type": "execute_result"
    },
    {
     "data": {
      "image/png": "[encoded data removed]",
      "text/plain": [
       "<Figure size 432x288 with 1 Axes>"
      ]
     },
     "metadata": {
      "needs_background": "light"
     },
     "output_type": "display_data"
    }
   ],
   "source": [
    "plt.plot(df['t'],np.rad2deg(df['Roll']))\n"
   ]
  },
  {
   "cell_type": "code",
   "execution_count": 27,
   "metadata": {},
   "outputs": [
    {
     "name": "stdout",
     "output_type": "stream",
     "text": [
      "CPU times: user 10.9 s, sys: 4.8 s, total: 15.7 s\n",
      "Wall time: 25.5 s\n"
     ]
    }
   ],
   "source": [
    "%%time\n",
    "# for each job edit the parameters and pool it \n",
    "pool = mp.Pool(mp.cpu_count())\n",
    "names = ['Roll','Roll Rate','Left FWT Angle','Left FWT Velocity','Right FWT Angle','Right FWT Velocity']\n",
    "\n",
    "def stop_event(t,y):\n",
    "    if t<=10:\n",
    "        return 1\n",
    "    else:\n",
    "        return np.deg2rad(360*3+5) - abs(y[0])\n",
    "stop_event.terminal = True\n",
    "\n",
    "\n",
    "res=[]\n",
    "for job in jobs:\n",
    "    res.append(pool.apply_async(RollRig.GenRunData_StepTorque, args = ('RollRigModel-Fixed.py',1,[0]*2,60,job[1],\n",
    "                                                                       main_panels,False,names[:2],\n",
    "                                                                       {**job[0],**{n:0 for n in names[2:]}},500,[stop_event])))\n",
    "pool.close()\n",
    "pool.join()\n",
    "\n",
    "ls = []\n",
    "for i in res:\n",
    "    ls += i.get()\n",
    "df = pd.DataFrame(ls)\n",
    "df.to_pickle('FixedData.pkl')"
   ]
  },
  {
   "cell_type": "code",
   "execution_count": 28,
   "metadata": {},
   "outputs": [
    {
     "data": {
      "text/plain": [
       "Mode     V   AileronAngle\n",
       "Locked   15  7               -24.435174\n",
       "             14              -47.824058\n",
       "             21              -78.414999\n",
       "         20  7               -42.589383\n",
       "             14              -69.254462\n",
       "             21              -99.021867\n",
       "         25  7               -58.556204\n",
       "             14              -89.542197\n",
       "             21             -123.533540\n",
       "         30  7               -73.526131\n",
       "             14             -112.204663\n",
       "             21             -146.743276\n",
       "Removed  15  7               -64.959491\n",
       "             14             -133.236169\n",
       "             21             -223.122944\n",
       "         20  7              -117.333380\n",
       "             14             -196.886025\n",
       "             21             -281.443731\n",
       "         25  7              -165.733910\n",
       "             14             -256.015074\n",
       "             21             -341.347139\n",
       "         30  7              -209.545398\n",
       "             14             -313.922919\n",
       "             21             -403.438908\n",
       "Name: Roll Rate [Deg], dtype: float64"
      ]
     },
     "execution_count": 28,
     "metadata": {},
     "output_type": "execute_result"
    }
   ],
   "source": [
    "df['Roll Rate [Deg]']=np.rad2deg(df['Roll Rate'])\n",
    "df[df['t']>4].groupby(['Mode','V','AileronAngle'])['Roll Rate [Deg]'].mean()"
   ]
  },
  {
   "cell_type": "code",
   "execution_count": 29,
   "metadata": {},
   "outputs": [
    {
     "data": {
      "text/plain": [
       "[<matplotlib.lines.Line2D at 0x7fbcf52a7d50>]"
      ]
     },
     "execution_count": 29,
     "metadata": {},
     "output_type": "execute_result"
    },
    {
     "data": {
      "image/png": "[encoded data removed]",
      "text/plain": [
       "<Figure size 432x288 with 1 Axes>"
      ]
     },
     "metadata": {
      "needs_background": "light"
     },
     "output_type": "display_data"
    }
   ],
   "source": [
    "test = df.copy()\n",
    "test = test[(test['V']==20) & (test['Mode']=='Removed') & (test['LiftDist']=='Roll60')]\n",
    "\n",
    "plt.plot(test['t'],test['Roll Rate'])"
   ]
  },
  {
   "cell_type": "code",
   "execution_count": 30,
   "metadata": {},
   "outputs": [],
   "source": [
    "df.to_csv(r'/Users/fintan/Git/FlexiFWT_DAQ/Analysis/RollingRigV3/ModelComparisonV2/FixedData.csv', index = False)"
   ]
  },
  {
   "cell_type": "code",
   "execution_count": 31,
   "metadata": {},
   "outputs": [
    {
     "data": {
      "text/plain": [
       "array([0.06, 0.12])"
      ]
     },
     "execution_count": 31,
     "metadata": {},
     "output_type": "execute_result"
    }
   ],
   "source": [
    "np.unique(df['T'])"
   ]
  },
  {
   "cell_type": "code",
   "execution_count": null,
   "metadata": {},
   "outputs": [],
   "source": []
  }
 ],
 "metadata": {
  "kernelspec": {
   "display_name": "Python 3",
   "language": "python",
   "name": "python3"
  },
  "language_info": {
   "codemirror_mode": {
    "name": "ipython",
    "version": 3
   },
   "file_extension": ".py",
   "mimetype": "text/x-python",
   "name": "python",
   "nbconvert_exporter": "python",
   "pygments_lexer": "ipython3",
   "version": "3.7.7"
  }
 },
 "nbformat": 4,
 "nbformat_minor": 4
}
