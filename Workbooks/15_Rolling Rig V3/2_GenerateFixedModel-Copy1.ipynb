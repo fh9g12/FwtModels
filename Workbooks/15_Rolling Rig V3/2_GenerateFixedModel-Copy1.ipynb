{
 "cells": [
  {
   "cell_type": "code",
   "execution_count": 1,
   "metadata": {},
   "outputs": [],
   "source": [
    "import sympy as sym\n",
    "import sympy.physics.mechanics as me\n",
    "from sympy.abc import t as time\n",
    "import pandas as pd\n",
    "import seaborn as sns\n",
    "\n",
    "import numpy as np\n",
    "from scipy.integrate import solve_ivp\n",
    "import matplotlib.pyplot as plt\n",
    "\n",
    "import sys, os\n",
    "\n",
    "sys.path.insert(1, os.path.join(sys.path[0], '../..'))\n",
    "import custom_plot_objects as cpo\n",
    "\n",
    "import ModelFramework as mf\n",
    "import ModelFramework.Elements as ele\n",
    "import ModelFramework.ExternalForces as ef\n",
    "import FwtModels.RectWing as rw\n",
    "import FwtModels.RollRig as RollRig\n",
    "\n",
    "from matplotlib.lines import Line2D\n",
    "\n",
    "me.mechanics_printing()"
   ]
  },
  {
   "cell_type": "code",
   "execution_count": 2,
   "metadata": {},
   "outputs": [],
   "source": [
    "half = sym.Rational(1,2)\n",
    "\n",
    "p = mf.ModelParameters.DynamicModel(1)\n",
    "p.r = mf.ModelSymbol(value =22,string='r')\n",
    "p.d = mf.ModelSymbol(value =1.86,string='d')\n"
   ]
  },
  {
   "cell_type": "code",
   "execution_count": 3,
   "metadata": {},
   "outputs": [],
   "source": [
    "frame = mf.HomogenousTransform().R_z(p.q[0]).Translate(p.r,0,0).R_z(sym.pi/2).Translate(p.d,0,0)"
   ]
  },
  {
   "cell_type": "code",
   "execution_count": 24,
   "metadata": {},
   "outputs": [],
   "source": [
    "def get_alpha_beta(frame,p,s):\n",
    "    v = sym.simplify(frame.BodyVelocity().subs(s))\n",
    "    alpha = sym.simplify(-v[2]/v[0])\n",
    "    beta = sym.simplify(-v[1]/v[0])\n",
    "    return alpha,beta"
   ]
  },
  {
   "cell_type": "markdown",
   "metadata": {},
   "source": [
    "# Fixed AoA = 0"
   ]
  },
  {
   "cell_type": "code",
   "execution_count": 25,
   "metadata": {},
   "outputs": [],
   "source": [
    "p = mf.ModelParameters.DynamicModel(2)\n",
    "p.r = mf.ModelSymbol(value =22,string='r')\n",
    "p.d = mf.ModelSymbol(value =1.86,string='d')"
   ]
  },
  {
   "cell_type": "code",
   "execution_count": 26,
   "metadata": {},
   "outputs": [
    {
     "data": {
      "image/png": "[encoded data removed]",
      "text/latex": [
       "$\\displaystyle - \\frac{d}{r}$"
      ],
      "text/plain": [
       "-d \n",
       "───\n",
       " r "
      ]
     },
     "execution_count": 26,
     "metadata": {},
     "output_type": "execute_result"
    }
   ],
   "source": [
    "frame = mf.HomogenousTransform().R_z(p.q[0]).R_x(p.q[1]).Translate(p.d,0,-p.r)\n",
    "alpha,beta = get_alpha_beta(frame,p,{qd:0 for qd in p.qd[1:]})\n",
    "alpha"
   ]
  },
  {
   "cell_type": "code",
   "execution_count": 27,
   "metadata": {},
   "outputs": [
    {
     "data": {
      "image/png": "[encoded data removed]",
      "text/latex": [
       "$\\displaystyle \\frac{d}{r \\operatorname{tan}\\left(q_{1}\\right)}$"
      ],
      "text/plain": [
       "    d    \n",
       "─────────\n",
       "r⋅tan(q₁)"
      ]
     },
     "execution_count": 27,
     "metadata": {},
     "output_type": "execute_result"
    }
   ],
   "source": [
    "beta"
   ]
  },
  {
   "cell_type": "markdown",
   "metadata": {},
   "source": [
    "# Non-Zero AoA"
   ]
  },
  {
   "cell_type": "code",
   "execution_count": 28,
   "metadata": {},
   "outputs": [],
   "source": [
    "p = mf.ModelParameters.DynamicModel(3)\n",
    "p.r = mf.ModelSymbol(value =22,string='r')\n",
    "p.d = mf.ModelSymbol(value =1.86,string='d')"
   ]
  },
  {
   "cell_type": "code",
   "execution_count": 29,
   "metadata": {},
   "outputs": [
    {
     "data": {
      "image/png": "[encoded data removed]",
      "text/latex": [
       "$\\displaystyle - \\frac{d + r \\operatorname{sin}\\left(q_{2}\\right)}{r \\operatorname{cos}\\left(q_{2}\\right)}$"
      ],
      "text/plain": [
       "-(d + r⋅sin(q₂)) \n",
       "─────────────────\n",
       "    r⋅cos(q₂)    "
      ]
     },
     "execution_count": 29,
     "metadata": {},
     "output_type": "execute_result"
    }
   ],
   "source": [
    "frame = mf.HomogenousTransform().R_z(p.q[0]).R_x(p.q[1]).Translate(0,0,-p.r).R_y(p.q[2]).Translate(p.d,0,0)\n",
    "alpha,beta = get_alpha_beta(frame,p,{qd:0 for qd in p.qd[1:]})\n",
    "alpha"
   ]
  },
  {
   "cell_type": "code",
   "execution_count": 30,
   "metadata": {},
   "outputs": [
    {
     "data": {
      "image/png": "[encoded data removed]",
      "text/latex": [
       "$\\displaystyle \\frac{d}{r \\operatorname{tan}\\left(q_{1}\\right)}$"
      ],
      "text/plain": [
       "    d    \n",
       "─────────\n",
       "r⋅tan(q₁)"
      ]
     },
     "execution_count": 30,
     "metadata": {},
     "output_type": "execute_result"
    }
   ],
   "source": [
    "beta"
   ]
  },
  {
   "cell_type": "markdown",
   "metadata": {},
   "source": [
    "# Non Zero Beta and Alpha"
   ]
  },
  {
   "cell_type": "code",
   "execution_count": 31,
   "metadata": {},
   "outputs": [],
   "source": [
    "p = mf.ModelParameters.DynamicModel(4)\n",
    "p.r = mf.ModelSymbol(value =22,string='r')\n",
    "p.d = mf.ModelSymbol(value =1.86,string='d')"
   ]
  },
  {
   "cell_type": "code",
   "execution_count": 32,
   "metadata": {},
   "outputs": [
    {
     "data": {
      "image/png": "[encoded data removed]",
      "text/latex": [
       "$\\displaystyle - \\frac{\\frac{d \\operatorname{tan}\\left(q_{2}\\right) \\operatorname{tan}\\left(q_{3}\\right)}{\\operatorname{tan}\\left(q_{1}\\right)} + \\frac{d}{\\operatorname{cos}\\left(q_{2}\\right)} + \\frac{r \\operatorname{tan}\\left(q_{2}\\right)}{\\operatorname{cos}\\left(q_{3}\\right)}}{r}$"
      ],
      "text/plain": [
       " ⎛d⋅tan(q₂)⋅tan(q₃)      d      r⋅tan(q₂)⎞ \n",
       "-⎜───────────────── + ─────── + ─────────⎟ \n",
       " ⎝     tan(q₁)        cos(q₂)    cos(q₃) ⎠ \n",
       "───────────────────────────────────────────\n",
       "                     r                     "
      ]
     },
     "execution_count": 32,
     "metadata": {},
     "output_type": "execute_result"
    }
   ],
   "source": [
    "frame = mf.HomogenousTransform().R_z(p.q[0]).R_x(p.q[1]).Translate(0,0,-p.r).R_y(p.q[2]).R_z(p.q[3]).Translate(p.d,0,0)\n",
    "alpha,beta = get_alpha_beta(frame,p,{qd:0 for qd in p.qd[1:]})\n",
    "alpha"
   ]
  },
  {
   "cell_type": "code",
   "execution_count": 34,
   "metadata": {},
   "outputs": [
    {
     "data": {
      "image/png": "[encoded data removed]",
      "text/latex": [
       "$\\displaystyle \\frac{d}{r \\operatorname{cos}\\left(q_{3}\\right) \\operatorname{tan}\\left(q_{1}\\right)} + \\operatorname{tan}\\left(q_{3}\\right)$"
      ],
      "text/plain": [
       "        d                  \n",
       "───────────────── + tan(q₃)\n",
       "r⋅cos(q₃)⋅tan(q₁)          "
      ]
     },
     "execution_count": 34,
     "metadata": {},
     "output_type": "execute_result"
    }
   ],
   "source": [
    "beta"
   ]
  }
 ],
 "metadata": {
  "kernelspec": {
   "display_name": "Python 3",
   "language": "python",
   "name": "python3"
  },
  "language_info": {
   "codemirror_mode": {
    "name": "ipython",
    "version": 3
   },
   "file_extension": ".py",
   "mimetype": "text/x-python",
   "name": "python",
   "nbconvert_exporter": "python",
   "pygments_lexer": "ipython3",
   "version": "3.7.7"
  }
 },
 "nbformat": 4,
 "nbformat_minor": 4
}
