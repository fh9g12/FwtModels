{
 "cells": [
  {
   "cell_type": "code",
   "execution_count": 1,
   "metadata": {},
   "outputs": [],
   "source": [
    "import sympy as sym\n",
    "import sympy.physics.mechanics as me\n",
    "from sympy.abc import t as time\n",
    "import pandas as pd\n",
    "import seaborn as sns\n",
    "\n",
    "import numpy as np\n",
    "from scipy.integrate import solve_ivp\n",
    "import matplotlib.pyplot as plt\n",
    "from scipy.interpolate import interp1d\n",
    "from scipy.optimize import fsolve,least_squares,root\n",
    "\n",
    "import sys, os\n",
    "import pickle\n",
    "\n",
    "sys.path.insert(1, os.path.join(sys.path[0], '../..'))\n",
    "import custom_plot_objects as cpo\n",
    "\n",
    "import ModelFramework as mf\n",
    "import ModelFramework.Elements as ele\n",
    "import ModelFramework.ExternalForces as ef\n",
    "import FwtModels.RectWing as rw\n",
    "import FwtModels.RollRig as RollRig\n",
    "import multiprocessing as mp\n",
    "from multiprocessing import set_start_method\n",
    "#set_start_method(\"spawn\")\n",
    "\n",
    "from matplotlib.lines import Line2D\n",
    "\n",
    "me.mechanics_printing()"
   ]
  },
  {
   "cell_type": "code",
   "execution_count": 2,
   "metadata": {},
   "outputs": [],
   "source": [
    "# Create simplified model\n",
    "fwt_panels = 10\n",
    "main_panels = 20\n",
    "\n",
    "p = RollRig.base_params(3, panels = fwt_panels*2 + main_panels)  \n",
    "sm = mf.SymbolicModel.from_file('RollRigModel.py')"
   ]
  },
  {
   "cell_type": "code",
   "execution_count": 3,
   "metadata": {},
   "outputs": [],
   "source": [
    "sm.ExtForces = ef.CompositeForce([sm.ExtForces,ef.CustomForce(None)])\n",
    "sm = sm.subs({p.alpha_r.name:0,p.alpha_1.name:-sym.atan(sym.sin(p.Lambda)*sym.tan(p.q[1])),\n",
    "             p.alpha_2.name:-sym.atan(sym.sin(p.Lambda)*sym.tan(p.q[2]))})\n",
    "sm.to_file('tempModel_free.py')"
   ]
  },
  {
   "cell_type": "code",
   "execution_count": 4,
   "metadata": {},
   "outputs": [],
   "source": [
    "# create lift distribution\n",
    "def create_lift_dist_from_file(filename,span,sigma,main_panels,fwt_panels):\n",
    "    s_w = span*(1-sigma)\n",
    "    delta = s_w / main_panels\n",
    "    y_panel_main = np.linspace(-s_w/2+delta/2,s_w/2-delta/2,main_panels)\n",
    "\n",
    "    s_f = span*sigma/2\n",
    "    delta = s_f / fwt_panels\n",
    "    y_panel_fwt = np.linspace(delta/2,s_f-delta/2,fwt_panels)+s_w/2\n",
    "    y_panel = [*-np.flip(y_panel_fwt),*y_panel_main,*y_panel_fwt]\n",
    "\n",
    "    ## load lift distribution\n",
    "    df = pd.read_csv(filename)\n",
    "    y_span = df['y'].to_numpy()\n",
    "    y_c_l = df['C_l'].to_numpy()\n",
    "\n",
    "    # interpolate on each panel\n",
    "    return list(np.interp(np.abs(y_panel),y_span,y_c_l,left=0,right=0))\n",
    "\n",
    "def create_const_lift_dist(main_panels,fwt_panels):\n",
    "    return [np.pi*2]*(main_panels+(2*fwt_panels))\n",
    "\n",
    "def create_tapered_lift_dist(main_panels,fwt_panels):\n",
    "    val = 2*np.pi\n",
    "    main_a = [val]*main_panels\n",
    "    fwt_a = [((i+0.5)/fwt_panels)*val for i in range(fwt_panels)]\n",
    "    return [*fwt_a,*main_a,*reversed(fwt_a)]"
   ]
  },
  {
   "cell_type": "code",
   "execution_count": 84,
   "metadata": {},
   "outputs": [],
   "source": [
    "# Add fixed params to dict\n",
    "params = {}\n",
    "params['c'] = 0.067\n",
    "params['s'] = 1.1\n",
    "params['g'] = 9.81\n",
    "params['sigma'] = 0.36\n",
    "params['alpha_r'] = 0\n",
    "params['c_d_max'] = 1\n",
    "params['m_w'] = 0.773\n",
    "params['I_xx_w'] = 0.019480411\n",
    "params['y_w'] = 0.00198\n",
    "params['z_w'] = 0.00273\n",
    "params['c_d_max'] = 0\n",
    "params['T'] = 0.12\n",
    "\n",
    "params['Lambda'] = np.deg2rad(30)\n",
    "params['alpha_c'] = np.deg2rad(0)\n",
    "params['l_f'] = 0.0766*np.cos(params['Lambda'])/0.272*params['sigma']\n",
    "params['I_xx_f'] = 8.55e-5/0.272*params['sigma']\n",
    "params['m_f'] = 0.05/0.272*params['sigma']\n",
    "params['p'] = 1\n",
    "params['a'] = create_lift_dist_from_file(r'LiftDistribution_aoa_0_rr_60_span_110.csv',params['s'],params['sigma'],main_panels,fwt_panels)\n",
    "\n",
    "\n",
    "additional = {'LiftDist':'Roll60','Mode':'Free'}"
   ]
  },
  {
   "cell_type": "code",
   "execution_count": 85,
   "metadata": {},
   "outputs": [],
   "source": [
    "# create Jobs\n",
    "attitudes=[]\n",
    "vs = [25]\n",
    "for v in vs:\n",
    "    aas = [2]\n",
    "    offset = [0]\n",
    "#     for i,tm in enumerate([0]*3):\n",
    "    for i,tm in enumerate([0.3]):\n",
    "        beta = (tm)*8.4e-4*v**2+offset[i]\n",
    "        attitudes.append(({\"AileronAngle\":aas[i],},{\"V\":v,\"beta\":beta}))\n",
    "#     attitudes.append(({\"AileronAngle\":7,},{\"V\":v,\"beta\":(1.05)*8.4e-4*v**2-0.08}))"
   ]
  },
  {
   "cell_type": "code",
   "execution_count": 86,
   "metadata": {},
   "outputs": [
    {
     "data": {
      "text/plain": [
       "[({'LiftDist': 'Roll60', 'Mode': 'Free', 'AileronAngle': 2},\n",
       "  {'c': 0.067,\n",
       "   's': 1.1,\n",
       "   'g': 9.81,\n",
       "   'sigma': 0.36,\n",
       "   'alpha_r': 0,\n",
       "   'c_d_max': 0,\n",
       "   'm_w': 0.773,\n",
       "   'I_xx_w': 0.019480411,\n",
       "   'y_w': 0.00198,\n",
       "   'z_w': 0.00273,\n",
       "   'T': 0.12,\n",
       "   'Lambda': 0.5235987755982988,\n",
       "   'alpha_c': 0.0,\n",
       "   'l_f': 0.08779969314249883,\n",
       "   'I_xx_f': 0.00011316176470588234,\n",
       "   'm_f': 0.06617647058823528,\n",
       "   'p': 1,\n",
       "   'a': [2.5797702302921426,\n",
       "    3.603767050251759,\n",
       "    4.095171531945436,\n",
       "    4.408239693428468,\n",
       "    4.62674731724954,\n",
       "    4.788526051095711,\n",
       "    4.9138005481138505,\n",
       "    5.011921153903871,\n",
       "    5.0892225237587105,\n",
       "    5.154825366107304,\n",
       "    5.22925909270155,\n",
       "    5.303768135792997,\n",
       "    5.36237385526921,\n",
       "    5.409235101738968,\n",
       "    5.448466389968498,\n",
       "    5.484092447017193,\n",
       "    5.520353703810927,\n",
       "    5.567308204834564,\n",
       "    5.655384932843509,\n",
       "    5.9942020668194305,\n",
       "    5.9942020668194305,\n",
       "    5.655384932843509,\n",
       "    5.567308204834565,\n",
       "    5.520353703810927,\n",
       "    5.484092447017193,\n",
       "    5.448466389968498,\n",
       "    5.409235101738968,\n",
       "    5.36237385526921,\n",
       "    5.303768135792997,\n",
       "    5.22925909270155,\n",
       "    5.154825366107304,\n",
       "    5.0892225237587105,\n",
       "    5.011921153903871,\n",
       "    4.9138005481138505,\n",
       "    4.788526051095711,\n",
       "    4.62674731724954,\n",
       "    4.408239693428468,\n",
       "    4.095171531945436,\n",
       "    3.603767050251759,\n",
       "    2.5797702302921426],\n",
       "   'V': 25,\n",
       "   'beta': 0.1575})]"
      ]
     },
     "execution_count": 86,
     "metadata": {},
     "output_type": "execute_result"
    }
   ],
   "source": [
    "jobs=[({**additional,**att},{**params,**att_params})for att,att_params in attitudes]\n",
    "jobs"
   ]
  },
  {
   "cell_type": "code",
   "execution_count": 87,
   "metadata": {},
   "outputs": [
    {
     "name": "stdout",
     "output_type": "stream",
     "text": [
      "CPU times: user 3.79 s, sys: 20.4 ms, total: 3.81 s\n",
      "Wall time: 3.82 s\n"
     ]
    }
   ],
   "source": [
    "%%time\n",
    "j_i = 0\n",
    "job = jobs[j_i]\n",
    "ic = [0,0,0,0,0,0]\n",
    "names = ['Roll','Roll Rate','Right FWT Angle','Right FWT Velocity','Left FWT Angle','Left FWT Velocity']\n",
    "\n",
    "def stop_event(t,y):\n",
    "    return np.deg2rad(360*4+5) - abs(y[0])\n",
    "stop_event.terminal = True\n",
    "\n",
    "data = RollRig.GenRunData_StepTorque('tempModel_free.py',3,ic,60,params=job[1],\n",
    "                                     panels=main_panels + 2*fwt_panels,\n",
    "                                     calc_coast=True,\n",
    "                                     xNames=names,\n",
    "                                     additional_cols={**job[0]},\n",
    "                                     sample_freq=100,\n",
    "                                     events = [stop_event])\n",
    "\n",
    "# plt.plot(np.rad2deg(df['Roll Rate']),np.gradient(np.rad2deg(df['Roll Rate'])))\n",
    "\n",
    "\n",
    "# print(np.rad2deg(df[df['t']>4]['Roll Rate'].mean()))\n",
    "# {**jobs[j_i][0],**jobs[j_i][1]}"
   ]
  },
  {
   "cell_type": "code",
   "execution_count": 88,
   "metadata": {},
   "outputs": [
    {
     "data": {
      "text/plain": [
       "<matplotlib.legend.Legend at 0x7fb062a653d0>"
      ]
     },
     "execution_count": 88,
     "metadata": {},
     "output_type": "execute_result"
    },
    {
     "data": {
      "image/png": "[encoded data removed]",
      "text/plain": [
       "<Figure size 432x288 with 1 Axes>"
      ]
     },
     "metadata": {
      "needs_background": "light"
     },
     "output_type": "display_data"
    }
   ],
   "source": [
    "df = pd.DataFrame(data)\n",
    "# df = df[df['Roll']>=np.deg2rad(720-180)]\n",
    "# df = df[df['Roll']<np.deg2rad(360*3-180)]\n",
    "plt.plot(df['t'],df['torque'])\n",
    "plt.plot(df['t'],np.rad2deg(df['Roll Rate']),label = 'rr')\n",
    "# plt.plot(df['t'],np.rad2deg(df['Left FWT Angle']),label = 'left fwt')\n",
    "# plt.plot(df['t'],np.rad2deg(df['Right FWT Angle']),label = 'right fwt')\n",
    "# plt.plot(df['t'],np.rad2deg(df['Roll Rate']),label = 'roll')\n",
    "# plt.plot(np.rad2deg(df['Roll']),(df['lift_mom']),label ='lift')\n",
    "# plt.plot(np.rad2deg(df['Roll']),(df['centri_mom']),label = 'centri')\n",
    "# plt.plot(np.rad2deg(df['Roll']),(df['grav_mom']),label = 'grav')\n",
    "# plt.plot(np.rad2deg(df['Roll']),(df['right_lift']),label = 'rl')\n",
    "# plt.plot(np.rad2deg(df['Roll']),(df['left_lift']),label = 'll')\n",
    "# plt.plot(np.rad2deg(df['Roll']),(df['left_lift']+df['right_lift']),label = 'delta')\n",
    "\n",
    "plt.legend()"
   ]
  },
  {
   "cell_type": "code",
   "execution_count": 89,
   "metadata": {},
   "outputs": [
    {
     "name": "stdout",
     "output_type": "stream",
     "text": [
      "CPU times: user 120 ms, sys: 70.8 ms, total: 191 ms\n",
      "Wall time: 4.08 s\n"
     ]
    }
   ],
   "source": [
    "%%time\n",
    "# for each job edit the parameters and pool it \n",
    "pool = mp.Pool(mp.cpu_count())\n",
    "names = ['Roll','Roll Rate','Right FWT Angle','Right FWT Velocity','Left FWT Angle','Left FWT Velocity']\n",
    "\n",
    "res=[]\n",
    "for job in jobs:\n",
    "    res.append(pool.apply_async(RollRig.GenRunData_StepTorque, args = ('tempModel_free.py',3,[0]*6,15,job[1],\n",
    "                                                                       main_panels + 2*fwt_panels,True,\n",
    "                                                                       names,job[0],500)))\n",
    "pool.close()\n",
    "pool.join()\n",
    "\n",
    "ls = []\n",
    "for i in res:\n",
    "    ls += i.get()\n",
    "df = pd.DataFrame(ls)"
   ]
  },
  {
   "cell_type": "code",
   "execution_count": 90,
   "metadata": {},
   "outputs": [],
   "source": [
    "df.to_csv(r'/Users/fintan/Git/FlexiFWT_DAQ/Analysis/RollingRigV3/ModelComparisonV2/FreeData_ExtraSpan.csv', index = False)"
   ]
  },
  {
   "cell_type": "code",
   "execution_count": null,
   "metadata": {},
   "outputs": [],
   "source": []
  }
 ],
 "metadata": {
  "kernelspec": {
   "display_name": "Python 3",
   "language": "python",
   "name": "python3"
  },
  "language_info": {
   "codemirror_mode": {
    "name": "ipython",
    "version": 3
   },
   "file_extension": ".py",
   "mimetype": "text/x-python",
   "name": "python",
   "nbconvert_exporter": "python",
   "pygments_lexer": "ipython3",
   "version": "3.7.7"
  }
 },
 "nbformat": 4,
 "nbformat_minor": 4
}
