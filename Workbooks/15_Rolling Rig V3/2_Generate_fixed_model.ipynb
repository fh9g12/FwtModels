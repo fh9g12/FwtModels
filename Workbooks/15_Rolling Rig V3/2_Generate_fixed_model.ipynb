{
 "cells": [
  {
   "cell_type": "code",
   "execution_count": 1,
   "metadata": {},
   "outputs": [],
   "source": [
    "import sympy as sym\n",
    "import sympy.physics.mechanics as me\n",
    "from sympy.abc import t as time\n",
    "import pandas as pd\n",
    "import seaborn as sns\n",
    "\n",
    "import numpy as np\n",
    "from scipy.integrate import solve_ivp\n",
    "import matplotlib.pyplot as plt\n",
    "\n",
    "import sys, os\n",
    "\n",
    "sys.path.insert(1, os.path.join(sys.path[0], '../..'))\n",
    "import custom_plot_objects as cpo\n",
    "\n",
    "import ModelFramework as mf\n",
    "import ModelFramework.Elements as ele\n",
    "import ModelFramework.ExternalForces as ef\n",
    "import FwtModels.RectWing as rw\n",
    "import FwtModels.RollRig as RollRig\n",
    "\n",
    "from matplotlib.lines import Line2D\n",
    "\n",
    "me.mechanics_printing()"
   ]
  },
  {
   "cell_type": "code",
   "execution_count": 2,
   "metadata": {},
   "outputs": [],
   "source": [
    "half = sym.Rational(1,2)\n",
    "\n",
    "p = RollRig.base_params(1)"
   ]
  },
  {
   "cell_type": "code",
   "execution_count": 3,
   "metadata": {},
   "outputs": [],
   "source": [
    "# Generate Referecne Frame\n",
    "wing_frame = mf.HomogenousTransform().R_x(p.q[0])#.R_y(p.alpha_r)\n",
    "rhs_fwt_frame = wing_frame.Translate(0,p.s_w*half,0)  # RHS Fwt Frame\n",
    "lhs_fwt_frame = wing_frame.Translate(0,-p.s_w*half,0)  # RHS Fwt Frame\n",
    "\n",
    "#Generate Mass Matrices\n",
    "M_w = ele.MassMatrix(p.m_w)\n",
    "I_w = ele.MassMatrix(0,I_xx = p.I_xx_w)\n",
    "\n",
    "# Generate Rigid Elements\n",
    "Wing_point_mass = ele.RigidElement(wing_frame.Translate(0,p.eta_0,p.eta_1),M_w,gravityPotential=True)\n",
    "wing_inertia = ele.RigidElement(wing_frame,I_w)"
   ]
  },
  {
   "cell_type": "code",
   "execution_count": 4,
   "metadata": {},
   "outputs": [],
   "source": [
    "# Main Wing Aero Forces \n",
    "wing_AeroForces = ef.AeroForce.PerUnitSpan(p,wing_frame.Translate(0,p.y_w,0),p.a_0,\n",
    "                               alphadot = 0,\n",
    "                               M_thetadot = 0,\n",
    "                               e = 0,\n",
    "                               w_g = 0,\n",
    "                               rootAlpha = 0,\n",
    "                               alpha_zero = 0,\n",
    "                               stall_angle = 0,\n",
    "                               c = p.c,\n",
    "                               c_d_max = 1,\n",
    "                               linear = True).integrate((p.y_w,-p.s_w*half,p.s_w*half))"
   ]
  },
  {
   "cell_type": "code",
   "execution_count": 5,
   "metadata": {},
   "outputs": [
    {
     "data": {
      "text/latex": [
       "$\\displaystyle \\left[\\begin{matrix}- \\frac{V a_{0} c \\rho s^{3} \\left(1 - \\sigma\\right)^{3} \\dot{q}_{0}}{24}\\end{matrix}\\right]$"
      ],
      "text/plain": [
       "⎡           3        3    ⎤\n",
       "⎢-V⋅a₀⋅c⋅ρ⋅s ⋅(1 - σ) ⋅q₀̇ ⎥\n",
       "⎢─────────────────────────⎥\n",
       "⎣            24           ⎦"
      ]
     },
     "execution_count": 5,
     "metadata": {},
     "output_type": "execute_result"
    }
   ],
   "source": [
    "wing_AeroForces.Q()"
   ]
  },
  {
   "cell_type": "code",
   "execution_count": 6,
   "metadata": {},
   "outputs": [],
   "source": [
    "# Left FWT Aero Forces \n",
    "lhs_fwt_AeroForces = ef.AeroForce.PerUnitSpan(p,lhs_fwt_frame.Translate(0,-p.y_f,0),p.a_1,\n",
    "                               alphadot = 0,\n",
    "                               M_thetadot = 0,\n",
    "                               e = 0,\n",
    "                               w_g = p.w_g,\n",
    "                               rootAlpha = p.alpha_2,\n",
    "                               alpha_zero = 0,\n",
    "                               stall_angle = 0,\n",
    "                               c = p.c,\n",
    "                               c_d_max = p.c_d_max,\n",
    "                               linear = False)#.integrate((p.y_f,0,p.s_f))"
   ]
  },
  {
   "cell_type": "code",
   "execution_count": 7,
   "metadata": {},
   "outputs": [],
   "source": [
    "# Left FWT Aero Forces \n",
    "rhs_fwt_AeroForces = ef.AeroForce.PerUnitSpan(p,rhs_fwt_frame.Translate(0,p.y_f,0),p.a_1,\n",
    "                               alphadot = 0,\n",
    "                               M_thetadot = 0,\n",
    "                               e = 0,\n",
    "                               w_g = p.w_g,\n",
    "                               rootAlpha = p.alpha_1,\n",
    "                               alpha_zero = 0,\n",
    "                               stall_angle = 0,\n",
    "                               c = p.c,\n",
    "                               c_d_max = p.c_d_max,\n",
    "                               linear = True)#.integrate((p.y_f,0,p.s_f))"
   ]
  },
  {
   "cell_type": "code",
   "execution_count": 8,
   "metadata": {},
   "outputs": [],
   "source": [
    "# split FTW's into segments\n",
    "forces = []\n",
    "segments = 5\n",
    "for i in range(segments):\n",
    "    seg_width = p.s_f/segments\n",
    "    yi = seg_width/2 + i*seg_width\n",
    "    forces.append(lhs_fwt_AeroForces.subs({p.y_f:yi,p.a_1:p.a_1/segments*(4-i+0.5)})*seg_width)\n",
    "    forces.append(rhs_fwt_AeroForces.subs({p.y_f:yi})*seg_width)\n",
    "Q = sym.Matrix([0]*p.qs)\n",
    "for f in forces:\n",
    "    Q += f.Q()\n",
    "fwt_AeroForces = ef.ExternalForce(Q)\n",
    "\n"
   ]
  },
  {
   "cell_type": "code",
   "execution_count": 9,
   "metadata": {},
   "outputs": [],
   "source": [
    "CompositeForce = ef.CompositeForce([fwt_AeroForces,wing_AeroForces])\n",
    "# create instance of the model\n",
    "sm = mf.SymbolicModel.FromElementsAndForces(p,[Wing_point_mass,wing_inertia],ExtForces = CompositeForce)"
   ]
  },
  {
   "cell_type": "code",
   "execution_count": 10,
   "metadata": {},
   "outputs": [],
   "source": [
    "sm.to_file('RollRigModel-Fixed.py')"
   ]
  },
  {
   "cell_type": "code",
   "execution_count": null,
   "metadata": {},
   "outputs": [],
   "source": []
  }
 ],
 "metadata": {
  "kernelspec": {
   "display_name": "Python 3",
   "language": "python",
   "name": "python3"
  },
  "language_info": {
   "codemirror_mode": {
    "name": "ipython",
    "version": 3
   },
   "file_extension": ".py",
   "mimetype": "text/x-python",
   "name": "python",
   "nbconvert_exporter": "python",
   "pygments_lexer": "ipython3",
   "version": "3.7.7"
  }
 },
 "nbformat": 4,
 "nbformat_minor": 4
}
