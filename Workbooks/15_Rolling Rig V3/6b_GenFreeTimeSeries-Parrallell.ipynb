{
 "cells": [
  {
   "cell_type": "code",
   "execution_count": 1,
   "metadata": {},
   "outputs": [],
   "source": [
    "import sympy as sym\n",
    "import sympy.physics.mechanics as me\n",
    "from sympy.abc import t as time\n",
    "import pandas as pd\n",
    "import seaborn as sns\n",
    "\n",
    "import numpy as np\n",
    "from scipy.integrate import solve_ivp\n",
    "import matplotlib.pyplot as plt\n",
    "from scipy.interpolate import interp1d\n",
    "from scipy.optimize import fsolve,least_squares,root\n",
    "\n",
    "import sys, os\n",
    "import pickle\n",
    "\n",
    "sys.path.insert(1, os.path.join(sys.path[0], '../..'))\n",
    "import custom_plot_objects as cpo\n",
    "\n",
    "import ModelFramework as mf\n",
    "import ModelFramework.Elements as ele\n",
    "import ModelFramework.ExternalForces as ef\n",
    "import FwtModels.RectWing as rw\n",
    "import FwtModels.RollRig as RollRig\n",
    "import multiprocessing as mp\n",
    "\n",
    "from matplotlib.lines import Line2D\n",
    "\n",
    "me.mechanics_printing()"
   ]
  },
  {
   "cell_type": "code",
   "execution_count": 2,
   "metadata": {},
   "outputs": [],
   "source": [
    "# Add fixed params to dict\n",
    "params = {}\n",
    "params['c'] = 0.067\n",
    "params['s'] = 1\n",
    "params['sigma'] = 0.28\n",
    "params['m_w'] = 0.22\n",
    "params['m_f'] = 0.038\n",
    "params['m_l'] = 0#0.0275\n",
    "params['alpha_r'] = 0\n",
    "params['c_d_max'] = 1\n",
    "params['a_0'] = 2*np.pi\n",
    "params['a_1'] = 2*np.pi\n",
    "#arams['.tau.value = 0\n",
    "params['w_g'] = 0\n",
    "params['beta'] = 0.0036\n",
    "params['V'] = 22.5\n",
    "params['Lambda'] = np.deg2rad(10)\n",
    "params['Mode'] = 'Free'"
   ]
  },
  {
   "cell_type": "code",
   "execution_count": 3,
   "metadata": {},
   "outputs": [],
   "source": [
    "# Create simplified model\n",
    "p = RollRig.base_params(3)  \n",
    "sm = mf.SymbolicModel.from_file('RollRigModel.py')\n",
    "sm.ExtForces = ef.CompositeForce([sm.ExtForces,ef.CustomForce(None)])\n",
    "sm = sm.subs({p.alpha_r.name:0,p.alpha_1.name:sym.atan(sym.sin(p.Lambda)*sym.sin(p.q[1])),\n",
    "             p.alpha_2.name:sym.atan(sym.sin(p.Lambda)*sym.sin(p.q[2]))})\n",
    "sm.to_file('tempModel_free.py')"
   ]
  },
  {
   "cell_type": "code",
   "execution_count": 4,
   "metadata": {},
   "outputs": [
    {
     "data": {
      "image/png": "[encoded data removed]",
      "text/latex": [
       "$\\displaystyle 120$"
      ],
      "text/plain": [
       "120"
      ]
     },
     "execution_count": 4,
     "metadata": {},
     "output_type": "execute_result"
    }
   ],
   "source": [
    "lambdas = np.deg2rad([10,20,30])\n",
    "cambers = np.deg2rad([0,5,10])\n",
    "twists = np.deg2rad([0,-10,10])\n",
    "sigmas = [0.28,0.4,0.5]\n",
    "tapers = [0,-0.5,0.5]\n",
    "iters = [lambdas,cambers,twists,sigmas,tapers]\n",
    "names = ['Lambda','alpha_c','eta_0','sigma','eta_1']\n",
    "\n",
    "default = [i[0] for i in iters]\n",
    "jobs =[]\n",
    "for i,_iter in enumerate(iters):\n",
    "    row = default.copy()\n",
    "    for val in _iter:\n",
    "        row_0 = row.copy()\n",
    "        row_0[i] = val\n",
    "        jobs.append(dict(zip(names,row_0)))\n",
    "        \n",
    "# for each job do multiple velocities\n",
    "vs = np.linspace(15,30,4);\n",
    "jobs = [{**d,'V':v} for d in jobs for v in np.linspace(15,30,4)] # for each velocity\n",
    "jobs = [{**d,'beta':v} for d in jobs for v in [0.0037,0.0015]] # for two betas\n",
    "len(jobs)"
   ]
  },
  {
   "cell_type": "code",
   "execution_count": 5,
   "metadata": {},
   "outputs": [
    {
     "data": {
      "text/plain": [
       "{'Lambda': 0.17453292519943295,\n",
       " 'alpha_c': 0.0,\n",
       " 'eta_0': 0.0,\n",
       " 'sigma': 0.28,\n",
       " 'eta_1': 0,\n",
       " 'V': 15.0,\n",
       " 'beta': 0.0037}"
      ]
     },
     "execution_count": 5,
     "metadata": {},
     "output_type": "execute_result"
    },
    {
     "data": {
      "image/png": "[encoded data removed]",
      "text/plain": [
       "<Figure size 432x288 with 1 Axes>"
      ]
     },
     "metadata": {
      "needs_background": "light"
     },
     "output_type": "display_data"
    }
   ],
   "source": [
    "names = ['Roll','Roll Rate','Left FWT Angle','Left FWT Velocity','Right FWT Angle','Right FWT Velocity']\n",
    "\n",
    "data = RollRig.GenRunData_StepTorque('tempModel.py',3,[0]*p.qs*2,10,{**params,**jobs[0],'beta':0.0015},names,{},100)\n",
    "df = pd.DataFrame(data)\n",
    "plt.plot(df['t'],df['Left FWT Angle'])\n",
    "jobs[0]"
   ]
  },
  {
   "cell_type": "code",
   "execution_count": 6,
   "metadata": {},
   "outputs": [
    {
     "name": "stdout",
     "output_type": "stream",
     "text": [
      "CPU times: user 3.56 s, sys: 4.88 s, total: 8.44 s\n",
      "Wall time: 1min 56s\n"
     ]
    }
   ],
   "source": [
    "%%time\n",
    "# for each job edit the parameters and pool it \n",
    "pool = mp.Pool(mp.cpu_count())\n",
    "names = ['Roll','Roll Rate','Left FWT Angle','Left FWT Velocity','Right FWT Angle','Right FWT Velocity']\n",
    "\n",
    "res=[]\n",
    "for job in jobs:\n",
    "    res.append(pool.apply_async(RollRig.GenRunData_StepTorque, args = ('tempModel.py',3,[0]*p.qs*2,10,{**params,**job},names,{},100)))\n",
    "pool.close()\n",
    "pool.join()\n",
    "\n",
    "ls = []\n",
    "for i in res:\n",
    "    ls += i.get()\n",
    "df = pd.DataFrame(ls)\n",
    "df.to_pickle('FreeData.pkl')\n"
   ]
  },
  {
   "cell_type": "code",
   "execution_count": null,
   "metadata": {},
   "outputs": [],
   "source": []
  }
 ],
 "metadata": {
  "kernelspec": {
   "display_name": "Python 3",
   "language": "python",
   "name": "python3"
  },
  "language_info": {
   "codemirror_mode": {
    "name": "ipython",
    "version": 3
   },
   "file_extension": ".py",
   "mimetype": "text/x-python",
   "name": "python",
   "nbconvert_exporter": "python",
   "pygments_lexer": "ipython3",
   "version": "3.7.7"
  }
 },
 "nbformat": 4,
 "nbformat_minor": 4
}
