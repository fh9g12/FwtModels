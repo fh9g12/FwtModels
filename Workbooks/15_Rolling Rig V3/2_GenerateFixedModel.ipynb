{
 "cells": [
  {
   "cell_type": "code",
   "execution_count": 1,
   "metadata": {},
   "outputs": [],
   "source": [
    "import sympy as sym\n",
    "import sympy.physics.mechanics as me\n",
    "from sympy.abc import t as time\n",
    "import pandas as pd\n",
    "import seaborn as sns\n",
    "\n",
    "import numpy as np\n",
    "from scipy.integrate import solve_ivp\n",
    "import matplotlib.pyplot as plt\n",
    "\n",
    "import sys, os\n",
    "\n",
    "sys.path.insert(1, os.path.join(sys.path[0], '../..'))\n",
    "import custom_plot_objects as cpo\n",
    "\n",
    "import ModelFramework as mf\n",
    "import ModelFramework.Elements as ele\n",
    "import ModelFramework.ExternalForces as ef\n",
    "import FwtModels.RectWing as rw\n",
    "import FwtModels.RollRig as RollRig\n",
    "\n",
    "from matplotlib.lines import Line2D\n",
    "\n",
    "me.mechanics_printing()"
   ]
  },
  {
   "cell_type": "code",
   "execution_count": 2,
   "metadata": {},
   "outputs": [],
   "source": [
    "half = sym.Rational(1,2)\n",
    "main_panels = 20\n",
    "p = RollRig.base_params(Dofs=1, panels=main_panels)"
   ]
  },
  {
   "cell_type": "code",
   "execution_count": 3,
   "metadata": {},
   "outputs": [],
   "source": [
    "# Generate Referecne Frame\n",
    "wing_frame = mf.HomogenousTransform().R_x(sym.pi+p.q[0])#.R_y(p.alpha_r)\n",
    "\n",
    "#Generate Mass Matrices\n",
    "M_w = ele.MassMatrix(p.m_w)\n",
    "I_w = ele.MassMatrix(0,I_xx = p.I_xx_w)\n",
    "\n",
    "# Generate Rigid Elements\n",
    "Wing_point_mass = ele.RigidElement(wing_frame.Translate(0,p.y_w,p.z_w),M_w,gravityPotential=True)\n",
    "wing_inertia = ele.RigidElement(wing_frame,I_w)"
   ]
  },
  {
   "cell_type": "code",
   "execution_count": 4,
   "metadata": {},
   "outputs": [],
   "source": [
    "# Main Wing Aero Forces \n",
    "wing_AeroForces = ef.AeroForce_Inverted.PerUnitSpan(p,wing_frame.Translate(0,p.y_n,0),p.a_0,\n",
    "                               alphadot = 0,\n",
    "                               M_thetadot = 0,\n",
    "                               e = 0,\n",
    "                               w_g = 0,\n",
    "                               rootAlpha = 0,\n",
    "                               alpha_zero = p.alpha_c,\n",
    "                               stall_angle = 0,\n",
    "                               c = p.c,\n",
    "                               c_d_max = 0,\n",
    "                               linear = True)#.integrate((p.y_w,-p.s_w*half,p.s_w*half))"
   ]
  },
  {
   "cell_type": "code",
   "execution_count": 5,
   "metadata": {},
   "outputs": [
    {
     "name": "stdout",
     "output_type": "stream",
     "text": [
      "-19*s*(1 - sigma)/40\n",
      "-17*s*(1 - sigma)/40\n",
      "-3*s*(1 - sigma)/8\n",
      "-13*s*(1 - sigma)/40\n",
      "-11*s*(1 - sigma)/40\n",
      "-9*s*(1 - sigma)/40\n",
      "-7*s*(1 - sigma)/40\n",
      "-s*(1 - sigma)/8\n",
      "-3*s*(1 - sigma)/40\n",
      "-s*(1 - sigma)/40\n",
      "s*(1 - sigma)/40\n",
      "3*s*(1 - sigma)/40\n",
      "s*(1 - sigma)/8\n",
      "7*s*(1 - sigma)/40\n",
      "9*s*(1 - sigma)/40\n",
      "11*s*(1 - sigma)/40\n",
      "13*s*(1 - sigma)/40\n",
      "3*s*(1 - sigma)/8\n",
      "17*s*(1 - sigma)/40\n",
      "19*s*(1 - sigma)/40\n"
     ]
    }
   ],
   "source": [
    "# split Main Wing into segments\n",
    "forces = []\n",
    "for i in range(main_panels):\n",
    "    seg_width = p.s_w/main_panels\n",
    "    yi = -p.s_w/2 + seg_width/2 + i*seg_width\n",
    "    print(yi)\n",
    "    subs = {p.y_n:yi,p.a_0:p.a[i],p.beta:-p.beta} if i < main_panels/2 else {p.y_n:yi,p.a_0:p.a[i]}\n",
    "    forces.append(wing_AeroForces.subs({p.y_n:yi,p.a_0:p.a[i]})*seg_width)\n",
    "Q = sym.Matrix([0]*p.qs)\n",
    "for f in forces:\n",
    "    Q += f.Q()\n",
    "wing_AeroForces = ef.ExternalForce(Q)"
   ]
  },
  {
   "cell_type": "code",
   "execution_count": 6,
   "metadata": {},
   "outputs": [],
   "source": [
    "Forcing = ef.CustomForce(None) \n",
    "\n",
    "CompositeForce = ef.CompositeForce([wing_AeroForces,Forcing])\n",
    "# create instance of the model\n",
    "sm = mf.SymbolicModel.FromElementsAndForces(p,[Wing_point_mass,wing_inertia],ExtForces = CompositeForce)"
   ]
  },
  {
   "cell_type": "code",
   "execution_count": 7,
   "metadata": {},
   "outputs": [],
   "source": [
    "sm.to_file('RollRigModel-Fixed.py')"
   ]
  },
  {
   "cell_type": "code",
   "execution_count": 8,
   "metadata": {},
   "outputs": [
    {
     "data": {
      "text/latex": [
       "$\\displaystyle \\left[\\begin{matrix}\\frac{19 V^{2} c \\rho s^{2} a_{0} \\left(1 - \\sigma\\right)^{2} \\left(\\alpha_{c} - \\frac{19 s \\left(1 - \\sigma\\right) \\dot{q}_{0}}{40 V}\\right)}{1600} + \\frac{17 V^{2} c \\rho s^{2} a_{1} \\left(1 - \\sigma\\right)^{2} \\left(\\alpha_{c} - \\frac{17 s \\left(1 - \\sigma\\right) \\dot{q}_{0}}{40 V}\\right)}{1600} - \\frac{V^{2} c \\rho s^{2} a_{10} \\left(1 - \\sigma\\right)^{2} \\left(\\alpha_{c} + \\frac{s \\left(1 - \\sigma\\right) \\dot{q}_{0}}{40 V}\\right)}{1600} - \\frac{3 V^{2} c \\rho s^{2} a_{11} \\left(1 - \\sigma\\right)^{2} \\left(\\alpha_{c} + \\frac{3 s \\left(1 - \\sigma\\right) \\dot{q}_{0}}{40 V}\\right)}{1600} - \\frac{V^{2} c \\rho s^{2} a_{12} \\left(1 - \\sigma\\right)^{2} \\left(\\alpha_{c} + \\frac{s \\left(1 - \\sigma\\right) \\dot{q}_{0}}{8 V}\\right)}{320} - \\frac{7 V^{2} c \\rho s^{2} a_{13} \\left(1 - \\sigma\\right)^{2} \\left(\\alpha_{c} + \\frac{7 s \\left(1 - \\sigma\\right) \\dot{q}_{0}}{40 V}\\right)}{1600} - \\frac{9 V^{2} c \\rho s^{2} a_{14} \\left(1 - \\sigma\\right)^{2} \\left(\\alpha_{c} + \\frac{9 s \\left(1 - \\sigma\\right) \\dot{q}_{0}}{40 V}\\right)}{1600} - \\frac{11 V^{2} c \\rho s^{2} a_{15} \\left(1 - \\sigma\\right)^{2} \\left(\\alpha_{c} + \\frac{11 s \\left(1 - \\sigma\\right) \\dot{q}_{0}}{40 V}\\right)}{1600} - \\frac{13 V^{2} c \\rho s^{2} a_{16} \\left(1 - \\sigma\\right)^{2} \\left(\\alpha_{c} + \\frac{13 s \\left(1 - \\sigma\\right) \\dot{q}_{0}}{40 V}\\right)}{1600} - \\frac{3 V^{2} c \\rho s^{2} a_{17} \\left(1 - \\sigma\\right)^{2} \\left(\\alpha_{c} + \\frac{3 s \\left(1 - \\sigma\\right) \\dot{q}_{0}}{8 V}\\right)}{320} - \\frac{17 V^{2} c \\rho s^{2} a_{18} \\left(1 - \\sigma\\right)^{2} \\left(\\alpha_{c} + \\frac{17 s \\left(1 - \\sigma\\right) \\dot{q}_{0}}{40 V}\\right)}{1600} - \\frac{19 V^{2} c \\rho s^{2} a_{19} \\left(1 - \\sigma\\right)^{2} \\left(\\alpha_{c} + \\frac{19 s \\left(1 - \\sigma\\right) \\dot{q}_{0}}{40 V}\\right)}{1600} + \\frac{3 V^{2} c \\rho s^{2} a_{2} \\left(1 - \\sigma\\right)^{2} \\left(\\alpha_{c} - \\frac{3 s \\left(1 - \\sigma\\right) \\dot{q}_{0}}{8 V}\\right)}{320} + \\frac{13 V^{2} c \\rho s^{2} a_{3} \\left(1 - \\sigma\\right)^{2} \\left(\\alpha_{c} - \\frac{13 s \\left(1 - \\sigma\\right) \\dot{q}_{0}}{40 V}\\right)}{1600} + \\frac{11 V^{2} c \\rho s^{2} a_{4} \\left(1 - \\sigma\\right)^{2} \\left(\\alpha_{c} - \\frac{11 s \\left(1 - \\sigma\\right) \\dot{q}_{0}}{40 V}\\right)}{1600} + \\frac{9 V^{2} c \\rho s^{2} a_{5} \\left(1 - \\sigma\\right)^{2} \\left(\\alpha_{c} - \\frac{9 s \\left(1 - \\sigma\\right) \\dot{q}_{0}}{40 V}\\right)}{1600} + \\frac{7 V^{2} c \\rho s^{2} a_{6} \\left(1 - \\sigma\\right)^{2} \\left(\\alpha_{c} - \\frac{7 s \\left(1 - \\sigma\\right) \\dot{q}_{0}}{40 V}\\right)}{1600} + \\frac{V^{2} c \\rho s^{2} a_{7} \\left(1 - \\sigma\\right)^{2} \\left(\\alpha_{c} - \\frac{s \\left(1 - \\sigma\\right) \\dot{q}_{0}}{8 V}\\right)}{320} + \\frac{3 V^{2} c \\rho s^{2} a_{8} \\left(1 - \\sigma\\right)^{2} \\left(\\alpha_{c} - \\frac{3 s \\left(1 - \\sigma\\right) \\dot{q}_{0}}{40 V}\\right)}{1600} + \\frac{V^{2} c \\rho s^{2} a_{9} \\left(1 - \\sigma\\right)^{2} \\left(\\alpha_{c} - \\frac{s \\left(1 - \\sigma\\right) \\dot{q}_{0}}{40 V}\\right)}{1600}\\end{matrix}\\right]$"
      ],
      "text/plain": [
       "⎡    2      2           2 ⎛      19⋅s⋅(1 - σ)⋅q₀̇⎞       2      2           2 \n",
       "⎢19⋅V ⋅c⋅ρ⋅s ⋅a₀⋅(1 - σ) ⋅⎜α_c - ───────────────⎟   17⋅V ⋅c⋅ρ⋅s ⋅a₁⋅(1 - σ) ⋅⎜\n",
       "⎢                         ⎝            40⋅V     ⎠                            ⎝\n",
       "⎢──────────────────────────────────────────────── + ──────────────────────────\n",
       "⎣                      1600                                               1600\n",
       "\n",
       "⎛      17⋅s⋅(1 - σ)⋅q₀̇⎞    2      2            2 ⎛      s⋅(1 - σ)⋅q₀̇⎞      2\n",
       "α_c - ───────────────⎟   V ⋅c⋅ρ⋅s ⋅a₁₀⋅(1 - σ) ⋅⎜α_c + ────────────⎟   3⋅V ⋅c⋅\n",
       "            40⋅V     ⎠                          ⎝          40⋅V    ⎠          \n",
       "────────────────────── - ─────────────────────────────────────────── - ───────\n",
       "                                             1600                             \n",
       "\n",
       "      2            2 ⎛      3⋅s⋅(1 - σ)⋅q₀̇⎞    2      2            2 ⎛      s\n",
       "ρ⋅s ⋅a₁₁⋅(1 - σ) ⋅⎜α_c + ──────────────⎟   V ⋅c⋅ρ⋅s ⋅a₁₂⋅(1 - σ) ⋅⎜α_c + ─────\n",
       "                  ⎝           40⋅V     ⎠                          ⎝          8\n",
       "──────────────────────────────────────── - ───────────────────────────────────\n",
       "               1600                                            320            \n",
       "\n",
       "⋅(1 - σ)⋅q₀̇⎞      2      2            2 ⎛      7⋅s⋅(1 - σ)⋅q₀̇⎞      2      2\n",
       "───────⎟   7⋅V ⋅c⋅ρ⋅s ⋅a₁₃⋅(1 - σ) ⋅⎜α_c + ──────────────⎟   9⋅V ⋅c⋅ρ⋅s ⋅a₁₄⋅(\n",
       "⋅V     ⎠                            ⎝           40⋅V     ⎠                    \n",
       "──────── - ─────────────────────────────────────────────── - ─────────────────\n",
       "                                 1600                                         \n",
       "\n",
       "            2 ⎛      9⋅s⋅(1 - σ)⋅q₀̇⎞       2      2            2 ⎛      11⋅s⋅\n",
       "1 - σ) ⋅⎜α_c + ──────────────⎟   11⋅V ⋅c⋅ρ⋅s ⋅a₁₅⋅(1 - σ) ⋅⎜α_c + ────────────\n",
       "        ⎝           40⋅V     ⎠                             ⎝            40⋅V  \n",
       "────────────────────────────── - ─────────────────────────────────────────────\n",
       "     1600                                               1600                  \n",
       "\n",
       "(1 - σ)⋅q₀̇⎞       2      2            2 ⎛      13⋅s⋅(1 - σ)⋅q₀̇⎞      2      \n",
       "───⎟   13⋅V ⋅c⋅ρ⋅s ⋅a₁₆⋅(1 - σ) ⋅⎜α_c + ───────────────⎟   3⋅V ⋅c⋅ρ⋅s ⋅a₁₇⋅(1 \n",
       "   ⎠                             ⎝            40⋅V     ⎠                      \n",
       "──── - ───────────────────────────────────────────────── - ───────────────────\n",
       "                              1600                                            \n",
       "\n",
       "2            2 ⎛      3⋅s⋅(1 - σ)⋅q₀̇⎞       2      2            2 ⎛      17⋅s\n",
       "- σ) ⋅⎜α_c + ──────────────⎟   17⋅V ⋅c⋅ρ⋅s ⋅a₁₈⋅(1 - σ) ⋅⎜α_c + ──────────────\n",
       "      ⎝           8⋅V      ⎠                             ⎝            40⋅V    \n",
       "──────────────────────────── - ───────────────────────────────────────────────\n",
       "   320                                                1600                    \n",
       "\n",
       "⋅(1 - σ)⋅q₀̇⎞       2      2            2 ⎛      19⋅s⋅(1 - σ)⋅q₀̇⎞      2     \n",
       "─⎟   19⋅V ⋅c⋅ρ⋅s ⋅a₁₉⋅(1 - σ) ⋅⎜α_c + ───────────────⎟   3⋅V ⋅c⋅ρ⋅s ⋅a₂⋅(1 - σ\n",
       " ⎠                             ⎝            40⋅V     ⎠                        \n",
       "── - ───────────────────────────────────────────────── + ─────────────────────\n",
       "                            1600                                              \n",
       "\n",
       " 2           2 ⎛      3⋅s⋅(1 - σ)⋅q₀̇⎞       2      2           2 ⎛      13⋅s⋅\n",
       ") ⋅⎜α_c - ──────────────⎟   13⋅V ⋅c⋅ρ⋅s ⋅a₃⋅(1 - σ) ⋅⎜α_c - ───────────────⎟  \n",
       "   ⎝           8⋅V      ⎠                            ⎝            40⋅V     ⎠  \n",
       "───────────────────────── + ──────────────────────────────────────────────── +\n",
       "320                                               1600                        \n",
       "\n",
       "(1 - σ)⋅q₀̇⎞       2      2           2 ⎛      11⋅s⋅(1 - σ)⋅q₀̇⎞      2      2\n",
       " 11⋅V ⋅c⋅ρ⋅s ⋅a₄⋅(1 - σ) ⋅⎜α_c - ───────────────⎟   9⋅V ⋅c⋅ρ⋅s ⋅a₅⋅(1 - σ) ⋅⎜α\n",
       "                          ⎝            40⋅V     ⎠                           ⎝ \n",
       " ──────────────────────────────────────────────── + ──────────────────────────\n",
       "                       1600                                              1600 \n",
       "\n",
       "           2 ⎛      9⋅s⋅(1 - σ)⋅q₀̇⎞      2      2           2 ⎛      7⋅s⋅(1 -\n",
       "_c - ──────────────⎟   7⋅V ⋅c⋅ρ⋅s ⋅a₆⋅(1 - σ) ⋅⎜α_c - ──────────────⎟   V ⋅c⋅ρ\n",
       "          40⋅V     ⎠                           ⎝           40⋅V     ⎠         \n",
       "──────────────────── + ────────────────────────────────────────────── + ──────\n",
       "                                            1600                              \n",
       "\n",
       " σ)⋅q₀̇⎞    2      2           2 ⎛      s⋅(1 - σ)⋅q₀̇⎞      2      2          \n",
       "⋅s ⋅a₇⋅(1 - σ) ⋅⎜α_c - ────────────⎟   3⋅V ⋅c⋅ρ⋅s ⋅a₈⋅(1 - σ) ⋅⎜α_c - ────────\n",
       "                ⎝          8⋅V     ⎠                           ⎝           40⋅\n",
       "──────────────────────────────────── + ───────────────────────────────────────\n",
       "             320                                            1600              \n",
       "\n",
       " 2 ⎛      3⋅s⋅(1 - σ)⋅q₀̇⎞    2      2           2 ⎛      s⋅(1 - σ)⋅q₀̇⎞⎤\n",
       "──────⎟   V ⋅c⋅ρ⋅s ⋅a₉⋅(1 - σ) ⋅⎜α_c - ────────────⎟⎥\n",
       "V     ⎠                         ⎝          40⋅V    ⎠⎥\n",
       "─────── + ──────────────────────────────────────────⎥\n",
       "                             1600                   ⎦"
      ]
     },
     "execution_count": 8,
     "metadata": {},
     "output_type": "execute_result"
    }
   ],
   "source": [
    "sm.ExtForces.Q()"
   ]
  },
  {
   "cell_type": "code",
   "execution_count": 9,
   "metadata": {},
   "outputs": [],
   "source": [
    "test = wing_frame.Translate(0,p.s/2,0)"
   ]
  },
  {
   "cell_type": "code",
   "execution_count": 10,
   "metadata": {},
   "outputs": [
    {
     "data": {
      "text/latex": [
       "$\\displaystyle \\left[\\begin{matrix}0\\\\- \\left(\\frac{s \\operatorname{sin}\\left(q_{0}\\right)}{2} + \\left(- \\frac{s \\operatorname{sin}^{2}\\left(q_{0}\\right)}{2} - \\frac{s \\operatorname{cos}^{2}\\left(q_{0}\\right)}{2}\\right) \\operatorname{sin}\\left(q_{0}\\right)\\right) \\operatorname{cos}\\left(q_{0}\\right) - \\left(- \\frac{s \\operatorname{cos}\\left(q_{0}\\right)}{2} - \\left(- \\frac{s \\operatorname{sin}^{2}\\left(q_{0}\\right)}{2} - \\frac{s \\operatorname{cos}^{2}\\left(q_{0}\\right)}{2}\\right) \\operatorname{cos}\\left(q_{0}\\right)\\right) \\operatorname{sin}\\left(q_{0}\\right)\\\\\\left(\\frac{s \\operatorname{sin}\\left(q_{0}\\right)}{2} + \\left(- \\frac{s \\operatorname{sin}^{2}\\left(q_{0}\\right)}{2} - \\frac{s \\operatorname{cos}^{2}\\left(q_{0}\\right)}{2}\\right) \\operatorname{sin}\\left(q_{0}\\right)\\right) \\operatorname{sin}\\left(q_{0}\\right) + \\left(\\frac{s \\operatorname{sin}^{2}\\left(q_{0}\\right)}{2} + \\frac{s \\operatorname{cos}^{2}\\left(q_{0}\\right)}{2}\\right) \\left(\\operatorname{sin}^{2}\\left(q_{0}\\right) + \\operatorname{cos}^{2}\\left(q_{0}\\right)\\right) - \\left(- \\frac{s \\operatorname{cos}\\left(q_{0}\\right)}{2} - \\left(- \\frac{s \\operatorname{sin}^{2}\\left(q_{0}\\right)}{2} - \\frac{s \\operatorname{cos}^{2}\\left(q_{0}\\right)}{2}\\right) \\operatorname{cos}\\left(q_{0}\\right)\\right) \\operatorname{cos}\\left(q_{0}\\right)\\\\\\operatorname{sin}^{2}\\left(q_{0}\\right) + \\operatorname{cos}^{2}\\left(q_{0}\\right)\\\\0\\\\0\\end{matrix}\\right]$"
      ],
      "text/plain": [
       "⎡                                                                             \n",
       "⎢                                                                             \n",
       "⎢                          ⎛            ⎛       2            2    ⎞        ⎞  \n",
       "⎢                          ⎜s⋅sin(q₀)   ⎜  s⋅sin (q₀)   s⋅cos (q₀)⎟        ⎟  \n",
       "⎢                        - ⎜───────── + ⎜- ────────── - ──────────⎟⋅sin(q₀)⎟⋅c\n",
       "⎢                          ⎝    2       ⎝      2            2     ⎠        ⎠  \n",
       "⎢                                                                             \n",
       "⎢⎛            ⎛       2            2    ⎞        ⎞           ⎛     2          \n",
       "⎢⎜s⋅sin(q₀)   ⎜  s⋅sin (q₀)   s⋅cos (q₀)⎟        ⎟           ⎜s⋅sin (q₀)   s⋅c\n",
       "⎢⎜───────── + ⎜- ────────── - ──────────⎟⋅sin(q₀)⎟⋅sin(q₀) + ⎜────────── + ───\n",
       "⎢⎝    2       ⎝      2            2     ⎠        ⎠           ⎝    2           \n",
       "⎢                                                                             \n",
       "⎢                                                                             \n",
       "⎢                                                                           si\n",
       "⎢                                                                             \n",
       "⎢                                                                             \n",
       "⎢                                                                             \n",
       "⎣                                                                             \n",
       "\n",
       "       0                                                                      \n",
       "                                                                              \n",
       "         ⎛              ⎛       2            2    ⎞        ⎞                  \n",
       "         ⎜  s⋅cos(q₀)   ⎜  s⋅sin (q₀)   s⋅cos (q₀)⎟        ⎟                  \n",
       "os(q₀) - ⎜- ───────── - ⎜- ────────── - ──────────⎟⋅cos(q₀)⎟⋅sin(q₀)          \n",
       "         ⎝      2       ⎝      2            2     ⎠        ⎠                  \n",
       "                                                                              \n",
       "  2    ⎞                         ⎛              ⎛       2            2    ⎞   \n",
       "os (q₀)⎟ ⎛   2          2    ⎞   ⎜  s⋅cos(q₀)   ⎜  s⋅sin (q₀)   s⋅cos (q₀)⎟   \n",
       "───────⎟⋅⎝sin (q₀) + cos (q₀)⎠ - ⎜- ───────── - ⎜- ────────── - ──────────⎟⋅co\n",
       " 2     ⎠                         ⎝      2       ⎝      2            2     ⎠   \n",
       "                                                                              \n",
       " 2          2                                                                 \n",
       "n (q₀) + cos (q₀)                                                             \n",
       "                                                                              \n",
       "       0                                                                      \n",
       "                                                                              \n",
       "       0                                                                      \n",
       "\n",
       "              ⎤\n",
       "              ⎥\n",
       "              ⎥\n",
       "              ⎥\n",
       "              ⎥\n",
       "              ⎥\n",
       "              ⎥\n",
       "     ⎞        ⎥\n",
       "     ⎟        ⎥\n",
       "s(q₀)⎟⋅cos(q₀)⎥\n",
       "     ⎠        ⎥\n",
       "              ⎥\n",
       "              ⎥\n",
       "              ⎥\n",
       "              ⎥\n",
       "              ⎥\n",
       "              ⎥\n",
       "              ⎦"
      ]
     },
     "execution_count": 10,
     "metadata": {},
     "output_type": "execute_result"
    }
   ],
   "source": [
    "test.BodyJacobian(p.q)"
   ]
  },
  {
   "cell_type": "code",
   "execution_count": 11,
   "metadata": {},
   "outputs": [
    {
     "data": {
      "image/png": "[encoded data removed]",
      "text/latex": [
       "$\\displaystyle \\frac{s}{2}$"
      ],
      "text/plain": [
       "s\n",
       "─\n",
       "2"
      ]
     },
     "execution_count": 11,
     "metadata": {},
     "output_type": "execute_result"
    }
   ],
   "source": [
    "sym.trigsimp(test.BodyJacobian(p.q))[2]"
   ]
  },
  {
   "cell_type": "code",
   "execution_count": null,
   "metadata": {},
   "outputs": [],
   "source": []
  }
 ],
 "metadata": {
  "kernelspec": {
   "display_name": "Python 3",
   "language": "python",
   "name": "python3"
  },
  "language_info": {
   "codemirror_mode": {
    "name": "ipython",
    "version": 3
   },
   "file_extension": ".py",
   "mimetype": "text/x-python",
   "name": "python",
   "nbconvert_exporter": "python",
   "pygments_lexer": "ipython3",
   "version": "3.7.7"
  }
 },
 "nbformat": 4,
 "nbformat_minor": 4
}
