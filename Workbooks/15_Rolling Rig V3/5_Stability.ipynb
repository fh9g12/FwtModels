{
 "cells": [
  {
   "cell_type": "code",
   "execution_count": 1,
   "id": "9719895e-7877-4df3-97b7-163dcb8b0ac6",
   "metadata": {},
   "outputs": [],
   "source": [
    "import sympy as sym\n",
    "import sympy.physics.mechanics as me\n",
    "from sympy.abc import t as time\n",
    "import pandas as pd\n",
    "import seaborn as sns\n",
    "\n",
    "import numpy as np\n",
    "from scipy.integrate import solve_ivp\n",
    "import matplotlib.pyplot as plt\n",
    "\n",
    "import sys, os\n",
    "\n",
    "import moyra as ma\n",
    "import moyra.elements as ele\n",
    "import moyra.forces as ef\n",
    "\n",
    "sys.path.insert(1, os.path.join(sys.path[0], '../..'))\n",
    "import custom_plot_objects as cpo\n",
    "import FwtModels.RectWing as rw\n",
    "import FwtModels.RollRig as RollRig\n",
    "from matplotlib.lines import Line2D\n",
    "\n",
    "me.mechanics_printing()\n"
   ]
  },
  {
   "cell_type": "code",
   "execution_count": 3,
   "id": "7d1a93df-b906-4dfb-af96-4cf2bc6c693e",
   "metadata": {},
   "outputs": [],
   "source": [
    "(sm,p) = ma.SymbolicModel.from_file('RollRigModel.py')\n",
    "sm = sm.subs({p.alpha_r.name:0,p.alpha_1.name:-sym.atan(sym.sin(p.Lambda)*sym.tan(p.q[1])),\n",
    "             p.alpha_2.name:-sym.atan(sym.sin(p.Lambda)*sym.tan(p.q[2]))})"
   ]
  },
  {
   "cell_type": "code",
   "execution_count": 4,
   "id": "e376bdb1-d5c7-417e-bb7f-833d8869d860",
   "metadata": {},
   "outputs": [],
   "source": [
    "params = {}\n",
    "params['c'] = 0.067\n",
    "params['s'] = 1\n",
    "params['g'] = 9.81\n",
    "params['sigma'] = 0.272\n",
    "params['alpha_r'] = 0\n",
    "params['c_d_max'] = 1\n",
    "params['m_w'] = 0.759\n",
    "params['I_xxw'] = 0.019480411\n",
    "params['y_w'] = 0\n",
    "params['z_w'] = 0\n",
    "params['c_d_max'] = 0\n",
    "params['T'] = 0.01\n",
    "params['Lambda'] = np.deg2rad(10)\n",
    "params['alpha_c'] = np.deg2rad(0)\n",
    "params['l_f'] = 0.085# 0.0766*np.cos(tmp_params['Lambda'])\n",
    "params['I_xxf'] = 1.3e-4# 1/12*0.0625*0.085**2# 0#8.85e-5\n",
    "params['m_f'] = 0.0625\n",
    "params[\"AileronAngle\"] = 0\n",
    "params[\"V\"] = 20\n",
    "params[\"beta\"] = 0 \n",
    "params[\"a\"] = [np.pi*2]*40\n",
    "params[\"fp\"] = [0,0,np.deg2rad(10),0,np.deg2rad(10),0]\n",
    "# params[\"fp\"] = [0]*6"
   ]
  },
  {
   "cell_type": "code",
   "execution_count": 5,
   "id": "70ea4820-aa6b-4559-a74d-9d6de72b4233",
   "metadata": {},
   "outputs": [],
   "source": [
    "p_vars = vars(p)\n",
    "for string, value in params.items():\n",
    "    if string in p_vars:\n",
    "        p_vars[string].value = value"
   ]
  },
  {
   "cell_type": "code",
   "execution_count": 6,
   "id": "76102d83-4128-4368-a7ab-8b66b2ed7141",
   "metadata": {},
   "outputs": [],
   "source": [
    "subs = p.GetSubs(0,params[\"fp\"])\n",
    "sm_lin = sm.linearise(p)\n",
    "sm_mini = sm_lin.msubs(subs)"
   ]
  },
  {
   "cell_type": "code",
   "execution_count": 8,
   "id": "e5bdfa33-802a-4218-8c51-d6ddbfc3a6da",
   "metadata": {},
   "outputs": [],
   "source": [
    "import scipy\n",
    "(K,M) = sm_mini.gen_eigen_problem(p)\n",
    "K = np.array(K).astype(np.float64)\n",
    "M = np.array(M).astype(np.float64)\n",
    "val,vec = scipy.linalg.eig(K,M)"
   ]
  },
  {
   "cell_type": "code",
   "execution_count": 9,
   "id": "880b0a1e-14a8-4b8f-978d-c146ca11b553",
   "metadata": {},
   "outputs": [
    {
     "data": {
      "image/png": "[encoded data removed]",
      "text/latex": [
       "$\\displaystyle \\left[\\begin{matrix}0.0 & 0.0 & 0.0 & 1.0 & 0.0 & 0.0\\\\0.0 & 0.0 & 0.0 & 0.0 & 1.0 & 0.0\\\\0.0 & 0.0 & 0.0 & 0.0 & 0.0 & 1.0\\\\-2.5 & 1.3 & -1.3 & 0.0 & 0.0 & 0.0\\\\-26.3 & 20.9 & -5.4 & 0.0 & 0.0 & 0.0\\\\26.3 & -5.4 & 20.9 & 0.0 & 0.0 & 0.0\\end{matrix}\\right]$"
      ],
      "text/plain": [
       "⎡ 0.0   0.0   0.0   1.0  0.0  0.0⎤\n",
       "⎢                                ⎥\n",
       "⎢ 0.0   0.0   0.0   0.0  1.0  0.0⎥\n",
       "⎢                                ⎥\n",
       "⎢ 0.0   0.0   0.0   0.0  0.0  1.0⎥\n",
       "⎢                                ⎥\n",
       "⎢-2.5   1.3   -1.3  0.0  0.0  0.0⎥\n",
       "⎢                                ⎥\n",
       "⎢-26.3  20.9  -5.4  0.0  0.0  0.0⎥\n",
       "⎢                                ⎥\n",
       "⎣26.3   -5.4  20.9  0.0  0.0  0.0⎦"
      ]
     },
     "execution_count": 9,
     "metadata": {},
     "output_type": "execute_result"
    }
   ],
   "source": [
    "sym.Matrix(np.round(np.linalg.inv(M)@K,1))"
   ]
  },
  {
   "cell_type": "code",
   "execution_count": 10,
   "id": "0d88ece2-0ac7-483a-a3bc-374b4527a6c2",
   "metadata": {},
   "outputs": [
    {
     "data": {
      "text/html": [
       "<div>\n",
       "<style scoped>\n",
       "    .dataframe tbody tr th:only-of-type {\n",
       "        vertical-align: middle;\n",
       "    }\n",
       "\n",
       "    .dataframe tbody tr th {\n",
       "        vertical-align: top;\n",
       "    }\n",
       "\n",
       "    .dataframe thead th {\n",
       "        text-align: right;\n",
       "    }\n",
       "</style>\n",
       "<table border=\"1\" class=\"dataframe\">\n",
       "  <thead>\n",
       "    <tr style=\"text-align: right;\">\n",
       "      <th></th>\n",
       "      <th>Real</th>\n",
       "      <th>Imag</th>\n",
       "      <th>Frequency</th>\n",
       "      <th>Damping</th>\n",
       "      <th>Stable</th>\n",
       "      <th>Eigen Vector</th>\n",
       "      <th>Mode</th>\n",
       "    </tr>\n",
       "  </thead>\n",
       "  <tbody>\n",
       "    <tr>\n",
       "      <th>0</th>\n",
       "      <td>-4.878031e+00</td>\n",
       "      <td>0.0</td>\n",
       "      <td>0.0</td>\n",
       "      <td>NaN</td>\n",
       "      <td>False</td>\n",
       "      <td>[0.013541061778604098, 0.1416810774771677, -0....</td>\n",
       "      <td>0</td>\n",
       "    </tr>\n",
       "    <tr>\n",
       "      <th>1</th>\n",
       "      <td>-1.803989e-17</td>\n",
       "      <td>0.0</td>\n",
       "      <td>0.0</td>\n",
       "      <td>NaN</td>\n",
       "      <td>False</td>\n",
       "      <td>[-0.5773502691896258, -0.5773502691896258, 0.5...</td>\n",
       "      <td>1</td>\n",
       "    </tr>\n",
       "    <tr>\n",
       "      <th>2</th>\n",
       "      <td>4.878031e+00</td>\n",
       "      <td>0.0</td>\n",
       "      <td>0.0</td>\n",
       "      <td>NaN</td>\n",
       "      <td>False</td>\n",
       "      <td>[0.013541061778604122, 0.14168107747716777, -0...</td>\n",
       "      <td>2</td>\n",
       "    </tr>\n",
       "    <tr>\n",
       "      <th>3</th>\n",
       "      <td>-3.944763e+00</td>\n",
       "      <td>0.0</td>\n",
       "      <td>0.0</td>\n",
       "      <td>NaN</td>\n",
       "      <td>False</td>\n",
       "      <td>[8.20980001478968e-18, 0.17375596047320657, 0....</td>\n",
       "      <td>3</td>\n",
       "    </tr>\n",
       "    <tr>\n",
       "      <th>4</th>\n",
       "      <td>3.944763e+00</td>\n",
       "      <td>0.0</td>\n",
       "      <td>0.0</td>\n",
       "      <td>NaN</td>\n",
       "      <td>False</td>\n",
       "      <td>[-1.5895692966074473e-17, -0.17375596047320577...</td>\n",
       "      <td>4</td>\n",
       "    </tr>\n",
       "    <tr>\n",
       "      <th>5</th>\n",
       "      <td>-8.914682e-20</td>\n",
       "      <td>0.0</td>\n",
       "      <td>0.0</td>\n",
       "      <td>NaN</td>\n",
       "      <td>False</td>\n",
       "      <td>[-0.577350269189626, -0.5773502691896258, 0.57...</td>\n",
       "      <td>5</td>\n",
       "    </tr>\n",
       "  </tbody>\n",
       "</table>\n",
       "</div>"
      ],
      "text/plain": [
       "           Real  Imag  Frequency  Damping  Stable  \\\n",
       "0 -4.878031e+00   0.0        0.0      NaN   False   \n",
       "1 -1.803989e-17   0.0        0.0      NaN   False   \n",
       "2  4.878031e+00   0.0        0.0      NaN   False   \n",
       "3 -3.944763e+00   0.0        0.0      NaN   False   \n",
       "4  3.944763e+00   0.0        0.0      NaN   False   \n",
       "5 -8.914682e-20   0.0        0.0      NaN   False   \n",
       "\n",
       "                                        Eigen Vector  Mode  \n",
       "0  [0.013541061778604098, 0.1416810774771677, -0....     0  \n",
       "1  [-0.5773502691896258, -0.5773502691896258, 0.5...     1  \n",
       "2  [0.013541061778604122, 0.14168107747716777, -0...     2  \n",
       "3  [8.20980001478968e-18, 0.17375596047320657, 0....     3  \n",
       "4  [-1.5895692966074473e-17, -0.17375596047320577...     4  \n",
       "5  [-0.577350269189626, -0.5773502691896258, 0.57...     5  "
      ]
     },
     "execution_count": 10,
     "metadata": {},
     "output_type": "execute_result"
    }
   ],
   "source": [
    "pd.DataFrame(ma.extract_eigen_value_data(val,vec))"
   ]
  },
  {
   "cell_type": "code",
   "execution_count": 217,
   "id": "00cbc06e-4c12-46e8-9f94-1d501a63d2b9",
   "metadata": {},
   "outputs": [
    {
     "data": {
      "text/plain": [
       "array([ 2.52506138e+00+0.j,  9.76673889e-16+0.j, -9.91836686e+00+0.j,\n",
       "       -9.11140616e+00+0.j, -9.12238464e+00+0.j,  1.70582080e+00+0.j])"
      ]
     },
     "execution_count": 217,
     "metadata": {},
     "output_type": "execute_result"
    }
   ],
   "source": [
    "val"
   ]
  },
  {
   "cell_type": "code",
   "execution_count": null,
   "id": "39f34a39-0a3a-4820-ab32-3f3d8dec8b43",
   "metadata": {},
   "outputs": [],
   "source": []
  }
 ],
 "metadata": {
  "kernelspec": {
   "display_name": "fwt_models",
   "language": "python",
   "name": "fwt_models"
  },
  "language_info": {
   "codemirror_mode": {
    "name": "ipython",
    "version": 3
   },
   "file_extension": ".py",
   "mimetype": "text/x-python",
   "name": "python",
   "nbconvert_exporter": "python",
   "pygments_lexer": "ipython3",
   "version": "3.8.8"
  }
 },
 "nbformat": 4,
 "nbformat_minor": 5
}
