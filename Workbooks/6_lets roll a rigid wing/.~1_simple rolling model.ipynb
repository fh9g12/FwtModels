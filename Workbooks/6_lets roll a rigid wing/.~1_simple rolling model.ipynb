{
 "cells": [
  {
   "cell_type": "markdown",
   "metadata": {},
   "source": [
    "want to roll a FWTD. Will stick a FWTD at both ends of a rigid beam that can rotate freely\n",
    "\n",
    "### Preamble"
   ]
  },
  {
   "cell_type": "code",
   "execution_count": 1,
   "metadata": {},
   "outputs": [],
   "source": [
    "import sympy as sym\n",
    "import sympy.physics.mechanics as me\n",
    "import pandas as pd\n",
    "import seaborn as sns\n",
    "\n",
    "import numpy as np\n",
    "from scipy.integrate import odeint,LSODA,BDF,solve_ivp\n",
    "import matplotlib.pyplot as plt\n",
    "\n",
    "import sys, os\n",
    "\n",
    "sys.path.insert(1, os.path.join(sys.path[0], '..\\..'))\n",
    "import sympyTransforms as symt\n",
    "import custom_plot_objects as cpo\n",
    "import FwtModels as fm\n",
    "import FwtModels.dof2 as dof2\n",
    "import FwtModels.RollingModel as rm\n",
    "import FwtModels.AeroModels as ams\n",
    "\n",
    "me.mechanics_printing()"
   ]
  },
  {
   "cell_type": "markdown",
   "metadata": {},
   "source": [
    "### Define the Model\n",
    "\n",
    "#### Create Parameter instance"
   ]
  },
  {
   "cell_type": "code",
   "execution_count": 2,
   "metadata": {},
   "outputs": [],
   "source": [
    "half = sym.Rational(1,2)\n",
    "\n",
    "p = fm.FwtParameters(4)\n",
    "\n",
    "# fwt params\n",
    "p.Lambda = fm.FwtVariable(np.deg2rad(10),'Lambda') # flare angle\n",
    "p.y_f = fm.FwtVariable(0,'y_f') # spanwise location\n",
    "    \n",
    "# Attitude Parmas\n",
    "p.rho = fm.FwtVariable(1.225,'rho') # density\n",
    "p.V = fm.FwtVariable(10,'V') # velocity\n",
    "p.g  = fm.FwtVariable(9.81,'g') # gravity\n",
    "p.alpha_r = fm.FwtVariable(np.deg2rad(3),'alpha_r') # root AoA\n",
    "\n",
    "# Main Wing Parameter\n",
    "p.a_w = fm.FwtVariable(2*np.pi,'a_w') # C_L of wing\n",
    "p.y_w = fm.FwtVariable(0,'y_w') # spanwise location\n",
    "\n",
    "\n",
    "# Create some global parameters\n",
    "p.c = fm.FwtVariable(0.15,'c') # chord of wing\n",
    "p.m_t = fm.FwtVariable(30,'m_t') # wing total mass\n",
    "p.s_t = fm.FwtVariable(10,'s_t') # wing total span\n",
    "p.sigma = fm.FwtVariable(0.2,'sigma') # FWT as percentage of total span\n",
    "p.f = fm.FwtVariable(2,'f') # initial freqency\n",
    "\n",
    "\n",
    "# Set dependent expressions\n",
    "p.m_w = p.m_t*(sym.Integer(1)-p.sigma) # mass of inner wing\n",
    "p.s_w = p.s_t*(sym.Integer(1)-p.sigma) # span of main wing\n",
    "p.m_f = p.m_t*p.sigma*half # mass of each FWT\n",
    "p.s_f = p.s_t*p.sigma*half # span of each FWT\n",
    "\n",
    "p.a_f = p.a_w - p.a_w*p.y_f/p.s_f\n",
    "\n",
    "p.I_xx_f = sym.Rational(1,12)*p.m_f*p.s_f**2 # inertia of FWT (uniform bar)\n",
    "p.I_xx_w = sym.Rational(1,12)*p.m_w*p.s_w**2 # inertia of wing (uniform bar)\n",
    "p.l_f = p.s_f*half # location of FWT CoM from Hinge\n",
    "p.l_w = p.s_w*half # location of main wing CoM\n",
    "\n",
    "p.k_w = (p.f*2*sym.pi)**2*(p.m_t) # set inner wing Freq to inner_freq"
   ]
  },
  {
   "cell_type": "markdown",
   "metadata": {},
   "source": [
    "#### Create Transforms\n",
    "\n",
    "system has 3 degrees of freedom:\n",
    "\n",
    "q[0] - rotation about the base of the spring (roll)\n",
    "q[1] - plunging motion\n",
    "q[2] - FWT fold angle\n",
    "\n"
   ]
  },
  {
   "cell_type": "code",
   "execution_count": 3,
   "metadata": {},
   "outputs": [],
   "source": [
    "wing_frame = symt.HomogenousTransform().R_x(p.q[0]).Translate(0,0,p.q[1]).R_y(p.alpha_r)\n",
    "\n",
    "rhs_fwt_frame = wing_frame.Translate(0,p.s_w*half,0).R_x(p.q[2])  # RHS Fwt Frame\n",
    "lhs_fwt_frame = wing_frame.Translate(0,-p.s_w*half,0).R_x(-p.q[3])  # RHS Fwt Frame\n",
    "\n",
    "rot_rhs = sym.Matrix([p.q[0]+p.q[2],p.alpha_r,0])\n",
    "rot_lhs = sym.Matrix([p.q[0]-p.q[3],p.alpha_r,0])\n",
    "wing_rot = sym.Matrix([p.q[0],p.alpha_r,0])\n",
    "\n",
    "\n",
    "M_fwt = fm.MassMatrix(p.m_f,I_xx = p.I_xx_f)\n",
    "M_w = fm.MassMatrix(p.m_w,I_xx = p.I_xx_w)\n",
    "\n",
    "bar_fwt_rhs = fm.RigidElement(rhs_fwt_frame.Translate(0,p.l_f,0),rot_rhs,M_fwt)\n",
    "bar_fwt_lhs = fm.RigidElement(lhs_fwt_frame.Translate(0,-p.l_f,0),rot_lhs,M_fwt)\n",
    "bar_wing = fm.RigidElement(wing_frame,wing_rot,M_w)\n",
    "\n",
    "# Gravitational Forces\n",
    "fwt_GravityForces_rhs = ams.GravityModel(p,rhs_fwt_frame.Translate(0,p.l_f,0),sym.Matrix([0,0,p.g*p.m_f]))\n",
    "fwt_GravityForces_lhs = ams.GravityModel(p,lhs_fwt_frame.Translate(0,-p.l_f,0),sym.Matrix([0,0,p.g*p.m_f]))\n",
    "wing_GravityForces = ams.GravityModel(p,wing_frame,sym.Matrix([0,0,p.g*p.m_w]))\n",
    "\n",
    "#Aero Forces\n",
    "rhs_fwt_AeroForces = ams.AeroModelv2(p,rhs_fwt_frame.Translate(0,p.y_f,0),p.a_f,(p.y_f,0,p.s_f),ams.FwtAoA(p,p.q[2]))\n",
    "lhs_fwt_AeroForces = ams.AeroModelv2(p,lhs_fwt_frame.Translate(0,-p.y_f,0),p.a_f,(p.y_f,0,p.s_f),ams.FwtAoA(p,p.q[3]))\n",
    "\n",
    "wing_frame_aero = wing_frame.Translate(0,p.y_w,0)\n",
    "wing_AeroForces = ams.AeroModelv2(p,wing_frame_aero,p.a_w,(p.y_w,-p.s_w*half,p.s_w*half))\n",
    "\n",
    "#compistie force\n",
    "CompositeForce = ams.CompositeForce(p,[fwt_GravityForces_rhs,fwt_GravityForces_lhs,\n",
    "                                     rhs_fwt_AeroForces,lhs_fwt_AeroForces,\n",
    "                                     wing_GravityForces,wing_AeroForces])\n",
    "# potential energy\n",
    "U = half*p.k_w*(p.q[1])**2"
   ]
  },
  {
   "cell_type": "code",
   "execution_count": 4,
   "metadata": {},
   "outputs": [],
   "source": [
    "# create instance of the model\n",
    "sm = rm.SymbolicModel(U,[bar_fwt_rhs,bar_fwt_lhs,bar_wing],p,ExtForces = CompositeForce)"
   ]
  },
  {
   "cell_type": "markdown",
   "metadata": {},
   "source": [
    "## create masses "
   ]
  },
  {
   "cell_type": "code",
   "execution_count": 18,
   "metadata": {},
   "outputs": [],
   "source": [
    "tmax, dt = 100, 0.01\n",
    "# Initial conditions: theta, dtheta/dt, L, dL/dt\n",
    "\n",
    "#params = p.GetNumericTuple()\n",
    "\n",
    "#set velocity and alpha_r funcs\n",
    "def Vfunc(t,x):\n",
    "    return 35\n",
    "\n",
    "def arfunc(t,x):\n",
    "    return np.deg2rad(2)\n",
    "    #return np.deg2rad(5)+np.sin(2*np.pi*1*t)*np.deg2rad(5)\n",
    "\n",
    "p.V.value = Vfunc\n",
    "p.alpha_r.value = arfunc\n",
    "\n",
    "y0 = [0.1,0,0,0,1,0,1,0]\n",
    "#y0 = [1.5,0,0.02,0]\n",
    "ts = np.arange(0, tmax+dt, dt)\n",
    "\n",
    "constraints = [np.NaN,np.NaN,np.NaN,np.NaN,np.NaN,np.NaN,np.NaN,np.NaN]\n",
    "\n",
    "def objectiveDeriv(t,y):\n",
    "    deriv = sm.deriv(t,y,p.GetNumericTuple(y,t))\n",
    "    return tuple(np.where(np.isnan(constraints),deriv,constraints))"
   ]
  },
  {
   "cell_type": "code",
   "execution_count": 19,
   "metadata": {},
   "outputs": [
    {
     "data": {
      "image/png": "[encoded data removed]",
      "text/latex": [
       "$\\displaystyle \\left( 0.0, \\  0.0, \\  0.0, \\  0.0, \\  0.0, \\  0.0, \\  0.0, \\  0.0\\right)$"
      ],
      "text/plain": [
       "(0.0, 0.0, 0.0, 0.0, 0.0, 0.0, 0.0, 0.0)"
      ]
     },
     "execution_count": 19,
     "metadata": {},
     "output_type": "execute_result"
    }
   ],
   "source": [
    "objectiveDeriv(0,[0,0,0,0,1,0,1,0])\n"
   ]
  },
  {
   "cell_type": "code",
   "execution_count": 20,
   "metadata": {},
   "outputs": [
    {
     "data": {
      "text/plain": [
       "Text(0.5, 0, 't [s]')"
      ]
     },
     "execution_count": 20,
     "metadata": {},
     "output_type": "execute_result"
    },
    {
     "data": {
      "image/png": "[encoded data removed]",
      "text/plain": [
       "<Figure size 1080x360 with 12 Axes>"
      ]
     },
     "metadata": {},
     "output_type": "display_data"
    }
   ],
   "source": [
    "yData = solve_ivp(objectiveDeriv,(0,tmax),y0)\n",
    "\n",
    "# interpolate data onto a uniform time grid\n",
    "\n",
    "yi = yData.y\n",
    "t = yData.t\n",
    "\n",
    "plt.style.use('seaborn-white')\n",
    "    \n",
    "fig, axes = plt.subplots(3,4,figsize=(15,5))\n",
    "\n",
    "# roll plot\n",
    "axes[0][0].plot(t,yi[0])\n",
    "axes[0][0].set_ylabel('roll [rad]')\n",
    "axes[0][0].set_xlabel('t [s]')\n",
    "\n",
    "# d plot\n",
    "axes[0][1].plot(t,yi[2])\n",
    "axes[0][1].set_ylabel('d [m]')\n",
    "axes[0][1].set_xlabel('t [s]')\n",
    "\n",
    "# theta plot\n",
    "axes[0][2].plot(t,yi[4])\n",
    "axes[0][2].set_ylabel('$\\theta$ [rad]')\n",
    "axes[0][2].set_xlabel('t [s]')\n",
    "\n",
    "\n",
    "# theta plot\n",
    "axes[0][3].plot(t,yi[6])\n",
    "axes[0][3].set_ylabel('$\\theta$ [rad]')\n",
    "axes[0][3].set_xlabel('t [s]')\n",
    "\n",
    "# ddot plot\n",
    "axes[1][0].plot(t,yi[1])\n",
    "axes[1][0].set_ylabel('$\\dot{d}$ [m/s]')\n",
    "axes[1][0].set_xlabel('t [s]')\n",
    "\n",
    "# thetadot plot\n",
    "axes[1][1].plot(t,yi[3])\n",
    "axes[1][1].set_ylabel(r'$\\dot{\\theta}$ [rad/s]')\n",
    "axes[1][1].set_xlabel('t [s]')\n",
    "\n",
    "# thetadot plot\n",
    "axes[1][2].plot(t,yi[5])\n",
    "axes[1][2].set_ylabel(r'$\\dot{\\theta}$ [rad/s]')\n",
    "axes[1][2].set_xlabel('t [s]')\n",
    "# thetadot plot\n",
    "axes[1][3].plot(t,yi[7])\n",
    "axes[1][3].set_ylabel(r'$\\dot{\\theta}$ [rad/s]')\n",
    "axes[1][3].set_xlabel('t [s]')"
   ]
  },
  {
   "cell_type": "code",
   "execution_count": null,
   "metadata": {},
   "outputs": [],
   "source": []
  },
  {
   "cell_type": "code",
   "execution_count": null,
   "metadata": {},
   "outputs": [],
   "source": []
  }
 ],
 "metadata": {
  "kernelspec": {
   "display_name": "Python 3",
   "language": "python",
   "name": "python3"
  },
  "language_info": {
   "codemirror_mode": {
    "name": "ipython",
    "version": 3
   },
   "file_extension": ".py",
   "mimetype": "text/x-python",
   "name": "python",
   "nbconvert_exporter": "python",
   "pygments_lexer": "ipython3",
   "version": "3.7.6"
  }
 },
 "nbformat": 4,
 "nbformat_minor": 2
}
