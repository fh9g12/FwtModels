{
 "cells": [
  {
   "cell_type": "markdown",
   "metadata": {},
   "source": [
    "want to roll a FWTD. Will stick a FWTD at both ends of a rigid beam that can rotate freely\n",
    "\n",
    "### Preamble"
   ]
  },
  {
   "cell_type": "code",
   "execution_count": 1,
   "metadata": {},
   "outputs": [],
   "source": [
    "import sympy as sym\n",
    "import sympy.physics.mechanics as me\n",
    "import pandas as pd\n",
    "import seaborn as sns\n",
    "\n",
    "import numpy as np\n",
    "from scipy.integrate import odeint,LSODA,BDF,solve_ivp\n",
    "import matplotlib.pyplot as plt\n",
    "\n",
    "import sys, os\n",
    "\n",
    "sys.path.insert(1, os.path.join(sys.path[0], '..\\..'))\n",
    "import sympyTransforms as symt\n",
    "import custom_plot_objects as cpo\n",
    "import FwtModels.dof2 as dof2\n",
    "import FwtModels.AeroModels as ams\n",
    "\n",
    "me.mechanics_printing()"
   ]
  },
  {
   "cell_type": "markdown",
   "metadata": {},
   "source": [
    "### Define the Model\n",
    "\n",
    "#### Create Parameter instance"
   ]
  },
  {
   "cell_type": "code",
   "execution_count": 2,
   "metadata": {},
   "outputs": [],
   "source": [
    "half = sym.Rational(1,2)\n",
    "\n",
    "p = dof2.FwtParameters(3)\n",
    "\n",
    "# fwt params\n",
    "p.Lambda = dof2.FwtVariable(np.deg2rad(10),'Lambda') # flare angle\n",
    "p.y_f = dof2.FwtVariable(0,'y_f') # spanwise location\n",
    "    \n",
    "# Attitude Parmas\n",
    "p.rho = dof2.FwtVariable(1.225,'rho') # density\n",
    "p.V = dof2.FwtVariable(10,'V') # velocity\n",
    "p.g  = dof2.FwtVariable(9.81,'g') # gravity\n",
    "p.alpha_r = dof2.FwtVariable(np.deg2rad(3),'alpha_r') # root AoA\n",
    "\n",
    "# Main Wing Parameter\n",
    "p.a_w = dof2.FwtVariable(2*np.pi,'a_w') # C_L of wing\n",
    "p.k_w = dof2.FwtVariable(0,'k_w') # spring constant fro wing\n",
    "p.y_w = dof2.FwtVariable(0,'y_w') # spanwise location\n",
    "\n",
    "\n",
    "# Create some global parameters\n",
    "p.c = dof2.FwtVariable(0.15,'c') # chord of wing\n",
    "p.m_t = dof2.FwtVariable(30,'m_t') # wing total mass\n",
    "p.s_t = dof2.FwtVariable(10,'s_t') # wing total span\n",
    "p.sigma = dof2.FwtVariable(0.2,'sigma') # FWT as percentage of total span\n",
    "p.f = dof2.FwtVariable(2,'f') # initial freqency\n",
    "\n",
    "\n",
    "# Set dependent expressions\n",
    "p.m_w = p.m_t*(sym.Integer(1)-p.sigma) # mass of inner wing\n",
    "p.s_w = p.s_t*(sym.Integer(1)-p.sigma) # span of main wing\n",
    "p.m_f = p.m_t*p.sigma*half # mass of FWT\n",
    "p.s_f = p.s_t*p.sigma*half # span of each FWT\n",
    "\n",
    "p.a_f = p.a_w - p.a_w*p.y_f/p.s_f\n",
    "\n",
    "p.I_xx_f = sym.Rational(1,12)*p.m_f*p.s_f**2 # inertia of FWT (uniform bar)\n",
    "p.I_xx_w = sym.Rational(1,12)*p.m_w*p.s_w**2 # inertia of wing (uniform bar)\n",
    "p.l_f = p.s_f*half # location of FWT CoM from Hinge\n",
    "p.l_w = p.s_w*half # location of main wing CoM\n",
    "\n",
    "p.k_w = (p.f*2*sym.pi)**2*(p.m_t) # set inner wing Freq to inner_freq"
   ]
  },
  {
   "cell_type": "markdown",
   "metadata": {},
   "source": [
    "#### Create Transforms\n",
    "\n",
    "system has 3 degrees of freedom:\n",
    "\n",
    "q[0] - rotation about the base of the spring (roll)\n",
    "q[1] - plunging motion\n",
    "q[2] - FWT fold angle\n",
    "\n"
   ]
  },
  {
   "cell_type": "code",
   "execution_count": 3,
   "metadata": {},
   "outputs": [
    {
     "ename": "AttributeError",
     "evalue": "MutableDenseMatrix has no attribute CalcKE.",
     "output_type": "error",
     "traceback": [
      "\u001b[1;31m---------------------------------------------------------------------------\u001b[0m",
      "\u001b[1;31mAttributeError\u001b[0m                            Traceback (most recent call last)",
      "\u001b[1;32m<ipython-input-3-8e349ff07abc>\u001b[0m in \u001b[0;36m<module>\u001b[1;34m\u001b[0m\n\u001b[0;32m     34\u001b[0m \u001b[1;33m\u001b[0m\u001b[0m\n\u001b[0;32m     35\u001b[0m \u001b[1;31m# create instance of the model\u001b[0m\u001b[1;33m\u001b[0m\u001b[1;33m\u001b[0m\u001b[1;33m\u001b[0m\u001b[0m\n\u001b[1;32m---> 36\u001b[1;33m \u001b[0msm\u001b[0m \u001b[1;33m=\u001b[0m \u001b[0mdof2\u001b[0m\u001b[1;33m.\u001b[0m\u001b[0mSymbolicModel\u001b[0m\u001b[1;33m(\u001b[0m\u001b[0mU\u001b[0m\u001b[1;33m,\u001b[0m\u001b[1;33m[\u001b[0m\u001b[0mM_w\u001b[0m\u001b[1;33m,\u001b[0m\u001b[0mM_fwt\u001b[0m\u001b[1;33m]\u001b[0m\u001b[1;33m,\u001b[0m\u001b[0mp\u001b[0m\u001b[1;33m,\u001b[0m\u001b[0mExtForces\u001b[0m \u001b[1;33m=\u001b[0m \u001b[0mCompositeForce\u001b[0m\u001b[1;33m)\u001b[0m\u001b[1;33m\u001b[0m\u001b[1;33m\u001b[0m\u001b[0m\n\u001b[0m",
      "\u001b[1;32m~\\OneDrive - University of Bristol\\Documents\\Projects\\FWTD modelling\\1-PythonFwtModels\\Workbooks\\6_lets roll a rigid wing\\..\\..\\FwtModels\\dof2\\symbolic_model.py\u001b[0m in \u001b[0;36m__init__\u001b[1;34m(self, U, Elements, FwtParams, ExtForces)\u001b[0m\n\u001b[0;32m     42\u001b[0m         \u001b[1;31m# add K.E for each Rigid Element\u001b[0m\u001b[1;33m\u001b[0m\u001b[1;33m\u001b[0m\u001b[1;33m\u001b[0m\u001b[0m\n\u001b[0;32m     43\u001b[0m         \u001b[1;32mfor\u001b[0m \u001b[0mele\u001b[0m \u001b[1;32min\u001b[0m \u001b[0mElements\u001b[0m\u001b[1;33m:\u001b[0m\u001b[1;33m\u001b[0m\u001b[1;33m\u001b[0m\u001b[0m\n\u001b[1;32m---> 44\u001b[1;33m             \u001b[0mT_e\u001b[0m \u001b[1;33m=\u001b[0m \u001b[0mele\u001b[0m\u001b[1;33m.\u001b[0m\u001b[0mCalcKE\u001b[0m\u001b[1;33m(\u001b[0m\u001b[0mp\u001b[0m\u001b[1;33m.\u001b[0m\u001b[0mq\u001b[0m\u001b[1;33m,\u001b[0m\u001b[0mp\u001b[0m\u001b[1;33m.\u001b[0m\u001b[0mqd\u001b[0m\u001b[1;33m)\u001b[0m\u001b[1;33m\u001b[0m\u001b[1;33m\u001b[0m\u001b[0m\n\u001b[0m\u001b[0;32m     45\u001b[0m             \u001b[0mself\u001b[0m\u001b[1;33m.\u001b[0m\u001b[0mT\u001b[0m \u001b[1;33m=\u001b[0m \u001b[0mself\u001b[0m\u001b[1;33m.\u001b[0m\u001b[0mT\u001b[0m \u001b[1;33m+\u001b[0m \u001b[0mT_e\u001b[0m\u001b[1;33m\u001b[0m\u001b[1;33m\u001b[0m\u001b[0m\n\u001b[0;32m     46\u001b[0m \u001b[1;33m\u001b[0m\u001b[0m\n",
      "\u001b[1;32m~\\AppData\\Local\\Continuum\\anaconda3\\lib\\site-packages\\sympy\\matrices\\matrices.py\u001b[0m in \u001b[0;36m__getattr__\u001b[1;34m(self, attr)\u001b[0m\n\u001b[0;32m   2338\u001b[0m         \u001b[1;32melse\u001b[0m\u001b[1;33m:\u001b[0m\u001b[1;33m\u001b[0m\u001b[1;33m\u001b[0m\u001b[0m\n\u001b[0;32m   2339\u001b[0m             raise AttributeError(\n\u001b[1;32m-> 2340\u001b[1;33m                 \"%s has no attribute %s.\" % (self.__class__.__name__, attr))\n\u001b[0m\u001b[0;32m   2341\u001b[0m \u001b[1;33m\u001b[0m\u001b[0m\n\u001b[0;32m   2342\u001b[0m     \u001b[1;32mdef\u001b[0m \u001b[0m__len__\u001b[0m\u001b[1;33m(\u001b[0m\u001b[0mself\u001b[0m\u001b[1;33m)\u001b[0m\u001b[1;33m:\u001b[0m\u001b[1;33m\u001b[0m\u001b[1;33m\u001b[0m\u001b[0m\n",
      "\u001b[1;31mAttributeError\u001b[0m: MutableDenseMatrix has no attribute CalcKE."
     ]
    }
   ],
   "source": [
    "wing_frame = symt.HomogenousTransform().R_x(p.q[0]).Translate(0,0,p.q[1]).R_y(p.alpha_r)\n",
    "wing_com_frame = wing_frame.Translate(0,p.l_w,0)\n",
    "\n",
    "fwt_frame = wing_frame.Translate(0,p.s_w,0).R_x(p.q[2])  # RHS Fwt Frame\n",
    "fwt_com_frame = fwt_frame.Translate(0,p.l_f,0)\n",
    "\n",
    "\n",
    "rot = sym.Matrix([p.q[0]+p.q[2],p.alpha_r,0])\n",
    "wing_rot = sym.Matrix([p.q[0],p.alpha_r,0])\n",
    "\n",
    "\n",
    "M_fwt = dof2.MassMatrix(p.m_f,I_xx = p.I_xx_f)\n",
    "M_w = dof2.MassMatrix(p.m_w,I_xx = p.I_xx_w)\n",
    "\n",
    "bar_fwt = dof2.RigidElement(fwt_com_frame,rot,M_fwt)\n",
    "bar_wing = dof2.RigidElement(wing_com_frame,wing_rot,M_w)\n",
    "\n",
    "# Gravitational Forces\n",
    "fwt_GravityForces = ams.GravityModel(p,fwt_com_frame,sym.Matrix([0,0,p.g*p.m_f]))\n",
    "wing_GravityForces = ams.GravityModel(p,wing_com_frame,sym.Matrix([0,0,p.g*p.m_w]))\n",
    "\n",
    "#Aero Forces\n",
    "fwt_frame_aero = fwt_frame.Translate(0,p.y_f,0)\n",
    "fwt_AeroForces = ams.AeroModelv2(p,fwt_frame_aero,p.a_f,p.y_f,p.s_f,ams.FwtAoA(p,p.q[2]))\n",
    "\n",
    "wing_frame_aero = wing_frame.Translate(0,p.y_w,0)\n",
    "wing_AeroForces = ams.AeroModelv2(p,wing_frame_aero,p.a_w,p.y_w,p.s_w)\n",
    "\n",
    "#compistie force\n",
    "CompositeForce = ams.CompositeForce([fwt_GravityForces,wing_GravityForces,fwt_AeroForces,wing_AeroForces])\n",
    "\n",
    "# potential energy\n",
    "U = half*p.k_w*(p.q[1])**2\n",
    "\n",
    "# create instance of the model\n",
    "sm = dof2.SymbolicModel(U,[M_w,M_fwt],p,ExtForces = CompositeForce)"
   ]
  },
  {
   "cell_type": "markdown",
   "metadata": {},
   "source": [
    "## create masses "
   ]
  },
  {
   "cell_type": "code",
   "execution_count": null,
   "metadata": {},
   "outputs": [],
   "source": []
  },
  {
   "cell_type": "code",
   "execution_count": 29,
   "metadata": {},
   "outputs": [
    {
     "data": {
      "image/png": "[encoded data removed]",
      "text/latex": [
       "$\\displaystyle y_{t} \\operatorname{sin}^{2}\\left(\\alpha_{r}\\right) \\operatorname{cos}^{2}\\left(q_{2}\\right) \\dot{q}_{2} + \\left(- \\operatorname{sin}\\left(q_{0}\\right) \\operatorname{sin}\\left(q_{2}\\right) + \\operatorname{cos}\\left(\\alpha_{r}\\right) \\operatorname{cos}\\left(q_{0}\\right) \\operatorname{cos}\\left(q_{2}\\right)\\right) \\left(s_{t} \\left(1 - \\sigma\\right) \\operatorname{cos}\\left(q_{0}\\right) \\dot{q}_{0} + y_{t} \\left(- \\operatorname{sin}\\left(q_{0}\\right) \\operatorname{sin}\\left(q_{2}\\right) \\operatorname{cos}\\left(\\alpha_{r}\\right) \\dot{q}_{0} - \\operatorname{sin}\\left(q_{0}\\right) \\operatorname{sin}\\left(q_{2}\\right) \\dot{q}_{2} + \\operatorname{cos}\\left(\\alpha_{r}\\right) \\operatorname{cos}\\left(q_{0}\\right) \\operatorname{cos}\\left(q_{2}\\right) \\dot{q}_{2} + \\operatorname{cos}\\left(q_{0}\\right) \\operatorname{cos}\\left(q_{2}\\right) \\dot{q}_{0}\\right) - q_{1} \\operatorname{sin}\\left(q_{0}\\right) \\dot{q}_{0} + \\operatorname{cos}\\left(q_{0}\\right) \\dot{q}_{1}\\right) + \\left(- \\operatorname{sin}\\left(q_{0}\\right) \\operatorname{cos}\\left(\\alpha_{r}\\right) \\operatorname{cos}\\left(q_{2}\\right) - \\operatorname{sin}\\left(q_{2}\\right) \\operatorname{cos}\\left(q_{0}\\right)\\right) \\left(- s_{t} \\left(1 - \\sigma\\right) \\operatorname{sin}\\left(q_{0}\\right) \\dot{q}_{0} + y_{t} \\left(- \\operatorname{sin}\\left(q_{0}\\right) \\operatorname{cos}\\left(\\alpha_{r}\\right) \\operatorname{cos}\\left(q_{2}\\right) \\dot{q}_{2} - \\operatorname{sin}\\left(q_{0}\\right) \\operatorname{cos}\\left(q_{2}\\right) \\dot{q}_{0} - \\operatorname{sin}\\left(q_{2}\\right) \\operatorname{cos}\\left(\\alpha_{r}\\right) \\operatorname{cos}\\left(q_{0}\\right) \\dot{q}_{0} - \\operatorname{sin}\\left(q_{2}\\right) \\operatorname{cos}\\left(q_{0}\\right) \\dot{q}_{2}\\right) - q_{1} \\operatorname{cos}\\left(q_{0}\\right) \\dot{q}_{0} - \\operatorname{sin}\\left(q_{0}\\right) \\dot{q}_{1}\\right)$"
      ],
      "text/plain": [
       "      2        2                                                              \n",
       "yₜ⋅sin (αᵣ)⋅cos (q₂)⋅q₂̇ + (-sin(q₀)⋅sin(q₂) + cos(αᵣ)⋅cos(q₀)⋅cos(q₂))⋅(sₜ⋅(1\n",
       "\n",
       "                                                                              \n",
       " - σ)⋅cos(q₀)⋅q₀̇ + yₜ⋅(-sin(q₀)⋅sin(q₂)⋅cos(αᵣ)⋅q₀̇ - sin(q₀)⋅sin(q₂)⋅q₂̇ + c\n",
       "\n",
       "                                                                              \n",
       "os(αᵣ)⋅cos(q₀)⋅cos(q₂)⋅q₂̇ + cos(q₀)⋅cos(q₂)⋅q₀̇) - q₁⋅sin(q₀)⋅q₀̇ + cos(q₀)⋅q\n",
       "\n",
       "                                                                              \n",
       "₁̇) + (-sin(q₀)⋅cos(αᵣ)⋅cos(q₂) - sin(q₂)⋅cos(q₀))⋅(-sₜ⋅(1 - σ)⋅sin(q₀)⋅q₀̇ + \n",
       "\n",
       "                                                                              \n",
       "yₜ⋅(-sin(q₀)⋅cos(αᵣ)⋅cos(q₂)⋅q₂̇ - sin(q₀)⋅cos(q₂)⋅q₀̇ - sin(q₂)⋅cos(αᵣ)⋅cos(q\n",
       "\n",
       "                                              \n",
       "₀)⋅q₀̇ - sin(q₂)⋅cos(q₀)⋅q₂̇) - q₁⋅cos(q₀)⋅q₀̇ - sin(q₀)⋅q₁̇)"
      ]
     },
     "execution_count": 29,
     "metadata": {},
     "output_type": "execute_result"
    }
   ],
   "source": [
    "y_t = sym.Symbol('y_t')\n",
    "\n",
    "fwt_frame.Translate(0,y_t,0).BodyVelocity()[2]"
   ]
  },
  {
   "cell_type": "code",
   "execution_count": 35,
   "metadata": {},
   "outputs": [
    {
     "data": {
      "image/png": "[encoded data removed]",
      "text/latex": [
       "$\\displaystyle 0$"
      ],
      "text/plain": [
       "0"
      ]
     },
     "execution_count": 35,
     "metadata": {},
     "output_type": "execute_result"
    }
   ],
   "source": [
    "p.__dict__['Lambda'].value"
   ]
  },
  {
   "cell_type": "code",
   "execution_count": 16,
   "metadata": {},
   "outputs": [
    {
     "data": {
      "text/latex": [
       "$\\displaystyle \\left[\\begin{matrix}0\\\\\\dot{q}_{1}\\\\q_{1} \\dot{q}_{0}\\end{matrix}\\right]$"
      ],
      "text/plain": [
       "⎡  0  ⎤\n",
       "⎢     ⎥\n",
       "⎢ q₁̇  ⎥\n",
       "⎢     ⎥\n",
       "⎣q₁⋅q₀̇⎦"
      ]
     },
     "execution_count": 16,
     "metadata": {},
     "output_type": "execute_result"
    }
   ],
   "source": [
    "p = dof2.FwtParameters(3)\n",
    "t = me.dynamicsymbols._t\n",
    "Transform = symt.HomogenousTransform().R_x(p.q[0]).Translate(0,p.q[1],0)\n",
    "\n",
    "body_v = sym.eye(4)\n",
    "body_v[:3,:3] = Transform.R.T*Transform.R.diff(t)\n",
    "body_v[:3,3] = Transform.R.T*Transform.t\n",
    "\n",
    "sym.simplify(Transform.R.T*Transform.t.diff(t))"
   ]
  },
  {
   "cell_type": "code",
   "execution_count": 19,
   "metadata": {},
   "outputs": [
    {
     "data": {
      "text/latex": [
       "$\\displaystyle \\left[\\begin{matrix}0\\\\\\dot{q}_{1}\\\\q_{1} \\dot{q}_{0}\\\\\\dot{q}_{0}\\\\0\\\\0\\end{matrix}\\right]$"
      ],
      "text/plain": [
       "⎡  0  ⎤\n",
       "⎢     ⎥\n",
       "⎢ q₁̇  ⎥\n",
       "⎢     ⎥\n",
       "⎢q₁⋅q₀̇⎥\n",
       "⎢     ⎥\n",
       "⎢ q₀̇  ⎥\n",
       "⎢     ⎥\n",
       "⎢  0  ⎥\n",
       "⎢     ⎥\n",
       "⎣  0  ⎦"
      ]
     },
     "execution_count": 19,
     "metadata": {},
     "output_type": "execute_result"
    }
   ],
   "source": [
    "sym.simplify(Transform.BodyVelocity())"
   ]
  },
  {
   "cell_type": "code",
   "execution_count": 6,
   "metadata": {},
   "outputs": [
    {
     "data": {
      "text/latex": [
       "$\\displaystyle \\left[\\begin{matrix}1\\\\1\\\\1\\end{matrix}\\right]$"
      ],
      "text/plain": [
       "⎡1⎤\n",
       "⎢ ⎥\n",
       "⎢1⎥\n",
       "⎢ ⎥\n",
       "⎣1⎦"
      ]
     },
     "execution_count": 6,
     "metadata": {},
     "output_type": "execute_result"
    }
   ],
   "source": [
    "V = sym.ones(6,1)\n",
    "V[:3,0]"
   ]
  },
  {
   "cell_type": "code",
   "execution_count": 5,
   "metadata": {},
   "outputs": [
    {
     "data": {
      "text/latex": [
       "$\\displaystyle \\left[\\begin{matrix}1 & 0 & 0\\\\0 & \\operatorname{sin}^{2}\\left(q_{0}\\right) + \\operatorname{cos}^{2}\\left(q_{0}\\right) & 0\\\\0 & 0 & \\operatorname{sin}^{2}\\left(q_{0}\\right) + \\operatorname{cos}^{2}\\left(q_{0}\\right)\\end{matrix}\\right]$"
      ],
      "text/plain": [
       "⎡1           0                    0         ⎤\n",
       "⎢                                           ⎥\n",
       "⎢      2          2                         ⎥\n",
       "⎢0  sin (q₀) + cos (q₀)           0         ⎥\n",
       "⎢                                           ⎥\n",
       "⎢                           2          2    ⎥\n",
       "⎣0           0           sin (q₀) + cos (q₀)⎦"
      ]
     },
     "execution_count": 5,
     "metadata": {},
     "output_type": "execute_result"
    }
   ],
   "source": [
    "Transform.R.T*Transform.R"
   ]
  },
  {
   "cell_type": "code",
   "execution_count": null,
   "metadata": {},
   "outputs": [],
   "source": []
  }
 ],
 "metadata": {
  "kernelspec": {
   "display_name": "Python 3.7.6 64-bit ('Continuum': virtualenv)",
   "language": "python",
   "name": "python37664bitcontinuumvirtualenv2b38efbc82644feab3bee4169708de0f"
  },
  "language_info": {
   "codemirror_mode": {
    "name": "ipython",
    "version": 3
   },
   "file_extension": ".py",
   "mimetype": "text/x-python",
   "name": "python",
   "nbconvert_exporter": "python",
   "pygments_lexer": "ipython3",
   "version": "3.7.6"
  }
 },
 "nbformat": 4,
 "nbformat_minor": 2
}
