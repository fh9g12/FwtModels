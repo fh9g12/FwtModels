{
 "cells": [
  {
   "cell_type": "markdown",
   "metadata": {},
   "source": [
    "want to roll a FWTD. Will stick a FWTD at both ends of a rigid beam that can rotate freely\n",
    "\n",
    "### Preamble"
   ]
  },
  {
   "cell_type": "code",
   "execution_count": 6,
   "metadata": {},
   "outputs": [],
   "source": [
    "import sympy as sym\n",
    "import sympy.physics.mechanics as me\n",
    "import pandas as pd\n",
    "import seaborn as sns\n",
    "\n",
    "import numpy as np\n",
    "from scipy.integrate import odeint,LSODA,BDF,solve_ivp\n",
    "import matplotlib.pyplot as plt\n",
    "\n",
    "import sys, os\n",
    "\n",
    "sys.path.insert(1, os.path.join(sys.path[0], '..\\..'))\n",
    "import sympyTransforms as symt\n",
    "import custom_plot_objects as cpo\n",
    "import FwtModels.dof2 as dof2\n",
    "import FwtModels.AeroModels as ams\n",
    "\n",
    "me.mechanics_printing()"
   ]
  },
  {
   "cell_type": "markdown",
   "metadata": {},
   "source": [
    "### Define the Model\n",
    "\n",
    "#### Create Parameter instance"
   ]
  },
  {
   "cell_type": "code",
   "execution_count": 10,
   "metadata": {},
   "outputs": [],
   "source": [
    "half = sym.Rational(1,2)\n",
    "\n",
    "p = dof2.FwtParameters(4)\n",
    "p.q : sym.Matrix(me.dynamicsymbols(f'q:{4}'))\n",
    "\n",
    "p.c = dof2.FwtVariable(0.15,'c') # chord\n",
    "p.k = dof2.FwtVariable(0,'k') # spring constant\n",
    "p.g  = dof2.FwtVariable(0,'g') # gravity\n",
    "p.Lambda = dof2.FwtVariable(0,'Lambda') # flare angle\n",
    "p.rho = dof2.FwtVariable(0,'rho') # density\n",
    "p.V = dof2.FwtVariable(0,'V') # velocity\n",
    "\n",
    "p.alpha_r = dof2.FwtVariable(0,'alpha_r') # root AoA\n",
    "\n",
    "p.a_t  = dof2.FwtVariable(0,'a_t') # C_L of FWT\n",
    "p.a_w  = dof2.FwtVariable(0,'a_w') # C_L of FWT\n",
    " \n",
    "\n",
    "p.m_t = dof2.FwtVariable(10,'m_t') # wing total mass\n",
    "p.s_t = dof2.FwtVariable(10,'s_t') # wing total span\n",
    "\n",
    "p.sigma = dof2.FwtVariable(10,'sigma') # % FWT\n",
    "\n",
    "\n",
    "p.m_w = p.m_t*(sym.Integer(1)-p.sigma) # mass of inner wing\n",
    "p.s_w = p.s_t*(sym.Integer(1)-p.sigma) # span of main wing\n",
    "p.m = p.m_t*p.sigma*half # mass of FWT\n",
    "p.s = p.s_t*p.sigma*half # span of each FWT\n",
    "\n",
    "p.I_xx = sym.Rational(1,12)*p.m*p.s**2*1 # inertia of FWT (uniform bar)\n",
    "p.I_xx_w = sym.Rational(1,12)*p.m_w*p.s_w**2*1 # inertia of FWT (uniform bar)\n",
    "p.l = p.s*half # location of FWT CoM from Hinge\n",
    "\n",
    "inner_freq = 2\n",
    "\n",
    "p.k = (sym.Integer(inner_freq)*2*sym.pi)**2*(p.m_t) # set inner wing Freq to inner_freq"
   ]
  },
  {
   "cell_type": "markdown",
   "metadata": {},
   "source": [
    "#### Create Transforms"
   ]
  },
  {
   "cell_type": "code",
   "execution_count": 11,
   "metadata": {},
   "outputs": [],
   "source": [
    "wing_frame = symt.HomogenousTransform().Translate(0,0,p.q[0]).R_x(p.q[1]).R_y(p.alpha_r)\n",
    "\n",
    "rhs_fwt_frame = wing_frame.Translate(0,p.s_w*half,0).R_x(p.q[2])  # RHS Fwt Frame\n",
    "lhs_fwt_frame = wing_frame.Translate(0,-p.s_w*half,0).R_x(-p.q[3])  # LHS Fwt Frame\n",
    "\n",
    "rhs_fwt_com_frame = rhs_fwt_frame.Translate(0,p.l,0)\n",
    "lhs_fwt_com_frame = lhs_fwt_frame.Translate(0,-p.l,0)\n",
    "\n",
    "rhs_rot = sym.Matrix([p.q[1]+p.q[2],p.alpha_r,0])\n",
    "lhs_rot = sym.Matrix([p.q[1]-p.q[2],p.alpha_r,0])\n",
    "wing_rot = sym.Matrix([p.q[1],p.alpha_r,0])\n",
    "\n",
    "\n",
    "M_fwt = dof2.MassMatrix(p.m,I_xx = p.I_xx)\n",
    "M_w = dof2.MassMatrix(p.m_w,I_xx = p.I_xx_w)\n",
    "\n",
    "m_rhs = dof2.RigidElement(rhs_fwt_com_frame,rhs_rot,M_fwt)\n",
    "m_lhs = dof2.RigidElement(lhs_fwt_com_frame,lhs_rot,M_fwt)\n",
    "m_wing = dof2.RigidElement(wing_frame,wing_rot,M_w)\n",
    "\n",
    "#rhs_AeroForces = ams.AeroModelv1(p,fwt_frame,at_mode=1)\n",
    "rhs_GravityForces = ams.GravityModel(p,rhs_fwt_com_frame,sym.Matrix([0,0,p.g*p.m]))\n",
    "#lhs_AeroForces = ams.AeroModelv1(p,fwt_frame,at_mode=1)\n",
    "lhs_GravityForces = ams.GravityModel(p,lhs_fwt_com_frame,sym.Matrix([0,0,p.g*p.m]))\n",
    "\n",
    "\n",
    "\n"
   ]
  },
  {
   "cell_type": "code",
   "execution_count": 12,
   "metadata": {},
   "outputs": [
    {
     "data": {
      "text/latex": [
       "$\\displaystyle \\left[\\begin{matrix}0 & 0 & 0 & \\frac{s_{t} \\sigma \\operatorname{sin}\\left(\\alpha_{r}\\right) \\operatorname{cos}\\left(q_{3}\\right)}{4}\\\\0 & s_{t} \\sigma \\left(\\frac{\\operatorname{sin}\\left(q_{1}\\right) \\operatorname{cos}\\left(q_{3}\\right)}{4} - \\frac{\\operatorname{sin}\\left(q_{3}\\right) \\operatorname{cos}\\left(\\alpha_{r}\\right) \\operatorname{cos}\\left(q_{1}\\right)}{4}\\right) - s_{t} \\left(\\frac{\\sigma}{2} - \\frac{1}{2}\\right) \\operatorname{sin}\\left(q_{1}\\right) & 0 & s_{t} \\sigma \\left(- \\frac{\\operatorname{sin}\\left(q_{1}\\right) \\operatorname{cos}\\left(\\alpha_{r}\\right) \\operatorname{cos}\\left(q_{3}\\right)}{4} + \\frac{\\operatorname{sin}\\left(q_{3}\\right) \\operatorname{cos}\\left(q_{1}\\right)}{4}\\right)\\\\1 & s_{t} \\sigma \\left(- \\frac{\\operatorname{sin}\\left(q_{1}\\right) \\operatorname{sin}\\left(q_{3}\\right) \\operatorname{cos}\\left(\\alpha_{r}\\right)}{4} - \\frac{\\operatorname{cos}\\left(q_{1}\\right) \\operatorname{cos}\\left(q_{3}\\right)}{4}\\right) + s_{t} \\left(\\frac{\\sigma}{2} - \\frac{1}{2}\\right) \\operatorname{cos}\\left(q_{1}\\right) & 0 & s_{t} \\sigma \\left(\\frac{\\operatorname{sin}\\left(q_{1}\\right) \\operatorname{sin}\\left(q_{3}\\right)}{4} + \\frac{\\operatorname{cos}\\left(\\alpha_{r}\\right) \\operatorname{cos}\\left(q_{1}\\right) \\operatorname{cos}\\left(q_{3}\\right)}{4}\\right)\\\\0 & 1 & -1 & 0\\\\0 & 0 & 0 & 0\\\\0 & 0 & 0 & 0\\end{matrix}\\right]$"
      ],
      "text/plain": [
       "⎡                                                                             \n",
       "⎢0                                     0                                     0\n",
       "⎢                                                                             \n",
       "⎢                                                                             \n",
       "⎢         ⎛sin(q₁)⋅cos(q₃)   sin(q₃)⋅cos(αᵣ)⋅cos(q₁)⎞      ⎛σ   1⎞            \n",
       "⎢0   sₜ⋅σ⋅⎜─────────────── - ───────────────────────⎟ - sₜ⋅⎜─ - ─⎟⋅sin(q₁)   0\n",
       "⎢         ⎝       4                     4           ⎠      ⎝2   2⎠            \n",
       "⎢                                                                             \n",
       "⎢        ⎛  sin(q₁)⋅sin(q₃)⋅cos(αᵣ)   cos(q₁)⋅cos(q₃)⎞      ⎛σ   1⎞           \n",
       "⎢1  sₜ⋅σ⋅⎜- ─────────────────────── - ───────────────⎟ + sₜ⋅⎜─ - ─⎟⋅cos(q₁)  0\n",
       "⎢        ⎝             4                     4       ⎠      ⎝2   2⎠           \n",
       "⎢                                                                             \n",
       "⎢0                                     1                                     -\n",
       "⎢                                                                             \n",
       "⎢0                                     0                                     0\n",
       "⎢                                                                             \n",
       "⎣0                                     0                                     0\n",
       "\n",
       "                  sₜ⋅σ⋅sin(αᵣ)⋅cos(q₃)               ⎤\n",
       "                  ────────────────────               ⎥\n",
       "                           4                         ⎥\n",
       "                                                     ⎥\n",
       "        ⎛  sin(q₁)⋅cos(αᵣ)⋅cos(q₃)   sin(q₃)⋅cos(q₁)⎞⎥\n",
       "   sₜ⋅σ⋅⎜- ─────────────────────── + ───────────────⎟⎥\n",
       "        ⎝             4                     4       ⎠⎥\n",
       "                                                     ⎥\n",
       "         ⎛sin(q₁)⋅sin(q₃)   cos(αᵣ)⋅cos(q₁)⋅cos(q₃)⎞ ⎥\n",
       "    sₜ⋅σ⋅⎜─────────────── + ───────────────────────⎟ ⎥\n",
       "         ⎝       4                     4           ⎠ ⎥\n",
       "                                                     ⎥\n",
       "1                          0                         ⎥\n",
       "                                                     ⎥\n",
       "                           0                         ⎥\n",
       "                                                     ⎥\n",
       "                           0                         ⎦"
      ]
     },
     "execution_count": 12,
     "metadata": {},
     "output_type": "execute_result"
    }
   ],
   "source": [
    "m_lhs.Jacobian(p.q)"
   ]
  },
  {
   "cell_type": "code",
   "execution_count": null,
   "metadata": {},
   "outputs": [],
   "source": []
  }
 ],
 "metadata": {
  "kernelspec": {
   "display_name": "Python 3.7.6 64-bit ('Continuum': virtualenv)",
   "language": "python",
   "name": "python37664bitcontinuumvirtualenv2b38efbc82644feab3bee4169708de0f"
  },
  "language_info": {
   "codemirror_mode": {
    "name": "ipython",
    "version": 3
   },
   "file_extension": ".py",
   "mimetype": "text/x-python",
   "name": "python",
   "nbconvert_exporter": "python",
   "pygments_lexer": "ipython3",
   "version": "3.7.6"
  }
 },
 "nbformat": 4,
 "nbformat_minor": 2
}
