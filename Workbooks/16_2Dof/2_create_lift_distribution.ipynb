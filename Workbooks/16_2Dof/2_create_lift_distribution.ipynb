{
 "cells": [
  {
   "cell_type": "code",
   "execution_count": 13,
   "metadata": {},
   "outputs": [],
   "source": [
    "import copy\n",
    "from aerosandbox import *\n",
    "from aerosandbox.library.airfoils import e216, naca0008\n",
    "import time\n",
    "import plotly.express as px\n",
    "import pandas as pd\n",
    "import plotly.graph_objects as go\n",
    "\n",
    "opti = cas.Opti()  # Initialize an analysis/optimization environment"
   ]
  },
  {
   "cell_type": "code",
   "execution_count": 14,
   "metadata": {},
   "outputs": [],
   "source": [
    "## define constants\n",
    "v = 20\n",
    "aoa = 5\n",
    "rr = 0\n",
    "span = 1.325*2"
   ]
  },
  {
   "cell_type": "code",
   "execution_count": 15,
   "metadata": {},
   "outputs": [],
   "source": [
    "# Define Geometry\n",
    "# Here, all distances are in meters and all angles are in degrees.\n",
    "airplane = Airplane(\n",
    "    name=\"RollingRigSimple\",\n",
    "    x_ref=0,  # CG location\n",
    "    y_ref=0,  # CG location\n",
    "    z_ref=0,  # CG location\n",
    "    wings=[\n",
    "        Wing(\n",
    "            name=\"Main Wing\",\n",
    "            x_le=0,  # Coordinates of the wing's leading edge\n",
    "            y_le=0,  # Coordinates of the wing's leading edge\n",
    "            z_le=0,  # Coordinates of the wing's leading edge\n",
    "            symmetric=True,\n",
    "            xsecs=[  # The wing's cross (\"X\") sections\n",
    "                WingXSec(  # left tip\n",
    "                    x_le=0,  # Coordinates of the XSec's leading edge, relative to the wing's leading edge.\n",
    "                    y_le=0,  # Coordinates of the XSec's leading edge, relative to the wing's leading edge.\n",
    "                    z_le=0,  # Coordinates of the XSec's leading edge, relative to the wing's leading edge.\n",
    "                    chord=0.15,\n",
    "                    twist=0,  # degrees\n",
    "                    airfoil=naca0008,  # Airfoils are blended between a given XSec and the next one.\n",
    "                    spanwise_panels = 30,\n",
    "                ),\n",
    "                WingXSec(  # left tip\n",
    "                    x_le=0,  # Coordinates of the XSec's leading edge, relative to the wing's leading edge.\n",
    "                    y_le=span/2,  # Coordinates of the XSec's leading edge, relative to the wing's leading edge.\n",
    "                    z_le=0,  # Coordinates of the XSec's leading edge, relative to the wing's leading edge.\n",
    "                    chord=0.15,\n",
    "                    twist=0,  # degrees\n",
    "                    airfoil=naca0008,  # Airfoils are blended between a given XSec and the next one.\n",
    "                ),\n",
    "            ]\n",
    "        ),\n",
    "    ]\n",
    ")"
   ]
  },
  {
   "cell_type": "code",
   "execution_count": 16,
   "metadata": {},
   "outputs": [],
   "source": [
    "ap = Casll1(  # Set up the AeroProblem\n",
    "    airplane=airplane,\n",
    "    op_point=OperatingPoint(\n",
    "        density=1.225,  # kg/m^3\n",
    "        viscosity=1.81e-5,  # kg/m-s\n",
    "        velocity=v,  # m/s\n",
    "        mach=0,  # Freestream mach number\n",
    "        alpha=aoa,  # In degrees\n",
    "        beta=0,  # In degrees\n",
    "        p=np.deg2rad(rr),  # About the body x-axis, in rad/sec\n",
    "        q=0,  # About the body y-axis, in rad/sec\n",
    "        r=0,  # About the body z-axis, in rad/sec\n",
    "    ),\n",
    "    opti=opti,  # Pass it an optimization environment to work in\n",
    "    run_setup=False\n",
    ")\n",
    "ap.setup(verbose=False)\n",
    "# Solver options\n",
    "opti.solver('ipopt')"
   ]
  },
  {
   "cell_type": "code",
   "execution_count": 17,
   "metadata": {},
   "outputs": [
    {
     "name": "stdout",
     "output_type": "stream",
     "text": [
      "This is Ipopt version 3.12.3, running with linear solver mumps.\n",
      "NOTE: Other linear solvers might be more efficient (see Ipopt documentation).\n",
      "\n",
      "Number of nonzeros in equality constraint Jacobian...:      900\n",
      "Number of nonzeros in inequality constraint Jacobian.:        0\n",
      "Number of nonzeros in Lagrangian Hessian.............:      465\n",
      "\n",
      "Total number of variables............................:       30\n",
      "                     variables with only lower bounds:        0\n",
      "                variables with lower and upper bounds:        0\n",
      "                     variables with only upper bounds:        0\n",
      "Total number of equality constraints.................:       30\n",
      "Total number of inequality constraints...............:        0\n",
      "        inequality constraints with only lower bounds:        0\n",
      "   inequality constraints with lower and upper bounds:        0\n",
      "        inequality constraints with only upper bounds:        0\n",
      "\n",
      "iter    objective    inf_pr   inf_du lg(mu)  ||d||  lg(rg) alpha_du alpha_pr  ls\n",
      "   0  0.0000000e+00 5.48e-01 0.00e+00  -1.0 0.00e+00    -  0.00e+00 0.00e+00   0\n",
      "   1  0.0000000e+00 2.01e-03 0.00e+00  -1.7 7.68e-01    -  1.00e+00 1.00e+00h  1\n",
      "   2  0.0000000e+00 2.83e-08 0.00e+00  -3.8 1.52e-03    -  1.00e+00 1.00e+00h  1\n",
      "   3  0.0000000e+00 5.55e-16 0.00e+00  -8.6 1.36e-08    -  1.00e+00 1.00e+00h  1\n",
      "\n",
      "Number of Iterations....: 3\n",
      "\n",
      "                                   (scaled)                 (unscaled)\n",
      "Objective...............:   0.0000000000000000e+00    0.0000000000000000e+00\n",
      "Dual infeasibility......:   0.0000000000000000e+00    0.0000000000000000e+00\n",
      "Constraint violation....:   5.5511151231257827e-16    5.5511151231257827e-16\n",
      "Complementarity.........:   0.0000000000000000e+00    0.0000000000000000e+00\n",
      "Overall NLP error.......:   5.5511151231257827e-16    5.5511151231257827e-16\n",
      "\n",
      "\n",
      "Number of objective function evaluations             = 4\n",
      "Number of objective gradient evaluations             = 4\n",
      "Number of equality constraint evaluations            = 4\n",
      "Number of inequality constraint evaluations          = 0\n",
      "Number of equality constraint Jacobian evaluations   = 4\n",
      "Number of inequality constraint Jacobian evaluations = 0\n",
      "Number of Lagrangian Hessian evaluations             = 3\n",
      "Total CPU secs in IPOPT (w/o function evaluations)   =      0.005\n",
      "Total CPU secs in NLP function evaluations           =      0.005\n",
      "\n",
      "EXIT: Optimal Solution Found.\n",
      "      solver  :   t_proc      (avg)   t_wall      (avg)    n_eval\n",
      "       nlp_f  |   7.00us (  1.75us)   7.23us (  1.81us)         4\n",
      "       nlp_g  | 207.00us ( 51.75us) 203.30us ( 50.83us)         4\n",
      "  nlp_grad_f  |  20.00us (  4.00us)  17.56us (  3.51us)         5\n",
      "  nlp_hess_l  |   1.72ms (573.33us)   1.49ms (496.13us)         3\n",
      "   nlp_jac_g  |   4.37ms (874.00us)   4.47ms (893.36us)         5\n",
      "       total  |  12.05ms ( 12.05ms)  10.77ms ( 10.77ms)         1\n",
      "--- 0.07772994041442871 seconds ---\n"
     ]
    },
    {
     "data": {
      "text/plain": [
       "<aerosandbox.aerodynamics.casll1.Casll1 at 0x7fd9946a2d50>"
      ]
     },
     "execution_count": 17,
     "metadata": {},
     "output_type": "execute_result"
    }
   ],
   "source": [
    "# Solve\n",
    "start_time = time.time()\n",
    "sol = opti.solve()\n",
    "print(\"--- %s seconds ---\" % (time.time() - start_time))\n",
    "# left_fwt_vert_L =np.sum(ap_sol.) \n",
    "# Postprocess\n",
    "\n",
    "# Create solved object\n",
    "ap_sol = copy.deepcopy(ap)\n",
    "ap_sol.substitute_solution(sol)"
   ]
  },
  {
   "cell_type": "code",
   "execution_count": 18,
   "metadata": {},
   "outputs": [],
   "source": [
    "# Plot Geometry\n",
    "ap_sol.draw()"
   ]
  },
  {
   "cell_type": "code",
   "execution_count": 19,
   "metadata": {},
   "outputs": [],
   "source": [
    "# Generate Lift Distrobution\n",
    "x = np.array([[float(i[1]) for i in ap_sol.vortex_centers]])\n",
    "y = np.array([[np.sqrt(x[1]**2 + x[2]**2) for x in 2*ap_sol.forces_inviscid_geometry]])\n",
    "y /= v**2*ap_sol.areas*1.225*(np.deg2rad(aoa)+x*np.deg2rad(rr)/v)\n",
    "x = np.append(x,span/2)\n",
    "y = np.append(y,0)\n",
    "\n",
    "y = y[x>=0]\n",
    "x = x[x>=0]"
   ]
  },
  {
   "cell_type": "code",
   "execution_count": 20,
   "metadata": {},
   "outputs": [
    {
     "data": {
      "text/plain": [
       "'LiftDistribution_aoa_5_span_265.csv'"
      ]
     },
     "execution_count": 20,
     "metadata": {},
     "output_type": "execute_result"
    }
   ],
   "source": [
    "# save Lift Distrobution\n",
    "record = [{\"y\":x_i,\"C_l\":y[i],\"aoa\":round(aoa),\"span\":round(span*100)} for i,x_i in enumerate(x)]\n",
    "\n",
    "df = pd.DataFrame(record)\n",
    "df.to_csv(f'LiftDistribution_aoa_{round(aoa)}_span_{round(span*100)}.csv', index = False)\n",
    "f'LiftDistribution_aoa_{round(aoa)}_span_{round(span*100)}.csv'"
   ]
  },
  {
   "cell_type": "code",
   "execution_count": 12,
   "metadata": {},
   "outputs": [],
   "source": [
    "# Plot Lift Distributuion\n",
    "df = pd.read_csv(f'LiftDistribution_aoa_{round(aoa)}_span_{round(span*100)}.csv')\n",
    "fig = px.scatter(x=x, y=y)\n",
    "fig.add_trace(go.Scatter(x=df['y'],y=df['C_l']))\n",
    "# fig.add_trace(go.Line(x=[0.5*0.782]*2,y=[0,2*np.pi]))\n",
    "# fig.add_trace(go.Line(x=[0,0.5*0.782,0.5]*2,y=[2*np.pi,2*np.pi,2*np.pi]))\n",
    "# fig.add_trace(go.Line(x=[0,0.5*0.782,0.5]*2,y=[2*np.pi,2*np.pi,0]))\n",
    "fig.show()"
   ]
  },
  {
   "cell_type": "code",
   "execution_count": null,
   "metadata": {},
   "outputs": [],
   "source": []
  },
  {
   "cell_type": "code",
   "execution_count": null,
   "metadata": {},
   "outputs": [],
   "source": []
  },
  {
   "cell_type": "code",
   "execution_count": null,
   "metadata": {},
   "outputs": [],
   "source": []
  }
 ],
 "metadata": {
  "kernelspec": {
   "display_name": "Python 3",
   "language": "python",
   "name": "python3"
  },
  "language_info": {
   "codemirror_mode": {
    "name": "ipython",
    "version": 3
   },
   "file_extension": ".py",
   "mimetype": "text/x-python",
   "name": "python",
   "nbconvert_exporter": "python",
   "pygments_lexer": "ipython3",
   "version": "3.7.7"
  }
 },
 "nbformat": 4,
 "nbformat_minor": 4
}
