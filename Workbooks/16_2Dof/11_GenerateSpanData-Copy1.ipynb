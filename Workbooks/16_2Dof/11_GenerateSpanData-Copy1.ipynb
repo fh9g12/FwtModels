{
 "cells": [
  {
   "cell_type": "code",
   "execution_count": 71,
   "metadata": {},
   "outputs": [],
   "source": [
    "import sympy as sym\n",
    "import sympy.physics.mechanics as me\n",
    "from sympy.abc import t as time\n",
    "import pandas as pd\n",
    "import seaborn as sns\n",
    "\n",
    "import numpy as np\n",
    "from scipy.integrate import solve_ivp\n",
    "import matplotlib.pyplot as plt\n",
    "from scipy.interpolate import interp1d\n",
    "from scipy.optimize import fsolve,least_squares,root\n",
    "\n",
    "import sys, os\n",
    "import pickle\n",
    "\n",
    "sys.path.insert(1, os.path.join(sys.path[0], '../..'))\n",
    "import custom_plot_objects as cpo\n",
    "\n",
    "import ModelFramework as mf\n",
    "import ModelFramework.Elements as ele\n",
    "import ModelFramework.ExternalForces as ef\n",
    "import FwtModels.RectWing as rw\n",
    "import FwtModels.RollRig as RollRig\n",
    "import multiprocessing as mp\n",
    "from multiprocessing import set_start_method\n",
    "#set_start_method(\"spawn\")\n",
    "\n",
    "from matplotlib.lines import Line2D\n",
    "\n",
    "me.mechanics_printing()"
   ]
  },
  {
   "cell_type": "code",
   "execution_count": 72,
   "metadata": {},
   "outputs": [],
   "source": [
    "# Create simplified model\n",
    "fwt_panels = 10\n",
    "main_panels = 20\n",
    "\n",
    "p = RollRig.base_params(3, panels = fwt_panels*2 + main_panels)  \n",
    "sm = mf.SymbolicModel.from_file('RollRigModel.py')"
   ]
  },
  {
   "cell_type": "code",
   "execution_count": 73,
   "metadata": {},
   "outputs": [],
   "source": [
    "sm.ExtForces = ef.CompositeForce([sm.ExtForces,ef.CustomForce(None)])\n",
    "sm = sm.subs({p.alpha_r.name:0,p.alpha_1.name:sym.atan(sym.sin(p.Lambda)*sym.tan(p.q[1])),\n",
    "             p.alpha_2.name:sym.atan(sym.sin(p.Lambda)*sym.tan(p.q[2]))})\n",
    "sm.to_file('tempModel_free.py')"
   ]
  },
  {
   "cell_type": "code",
   "execution_count": 74,
   "metadata": {},
   "outputs": [],
   "source": [
    "# Add fixed params to dict\n",
    "params = {}\n",
    "params['c'] = 0.06\n",
    "params['g'] = 9.81\n",
    "params['alpha_r'] = 0\n",
    "params['c_d_max'] = 1\n",
    "params['m_w'] = 0.0\n",
    "params['I_xx_w'] = 0.019480411\n",
    "params['y_w'] = 0.00198\n",
    "params['z_w'] = -0.00273\n",
    "params['c_d_max'] = 0\n",
    "params['T'] = 0.12\n",
    "params['V'] = 25\n",
    "params['alpha_c'] = np.deg2rad(0)"
   ]
  },
  {
   "cell_type": "code",
   "execution_count": 75,
   "metadata": {},
   "outputs": [],
   "source": [
    "# create lift distribution\n",
    "def create_lift_dist_from_file(filename,span,sigma,main_panels,fwt_panels):\n",
    "    s_w = span*(1-sigma)\n",
    "    delta = s_w / main_panels\n",
    "    y_panel_main = np.linspace(-s_w/2+delta/2,s_w/2-delta/2,main_panels)\n",
    "\n",
    "    s_f = span*sigma/2\n",
    "    delta = s_f / fwt_panels\n",
    "    y_panel_fwt = np.linspace(delta/2,s_f-delta/2,fwt_panels)+s_w/2\n",
    "    y_panel = [*-np.flip(y_panel_fwt),*y_panel_main,*y_panel_fwt]\n",
    "\n",
    "    ## load lift distribution\n",
    "    df = pd.read_csv(filename)\n",
    "    y_span = df['y'].to_numpy()/df['span'][0]*span*100\n",
    "    y_c_l = df['C_l'].to_numpy()\n",
    "\n",
    "    # interpolate on each panel\n",
    "    return list(np.interp(np.abs(y_panel),y_span,y_c_l,left=0,right=0))\n",
    "\n",
    "def create_const_lift_dist(main_panels,fwt_panels):\n",
    "    return [np.pi*2]*(main_panels+(2*fwt_panels))\n",
    "\n",
    "def create_tapered_lift_dist(main_panels,fwt_panels):\n",
    "    val = 2*np.pi\n",
    "    main_a = [val]*main_panels\n",
    "    fwt_a = [((i+0.5)/fwt_panels)*val for i in range(fwt_panels)]\n",
    "    return [*fwt_a,*main_a,*reversed(fwt_a)]"
   ]
  },
  {
   "cell_type": "code",
   "execution_count": 78,
   "metadata": {},
   "outputs": [],
   "source": [
    "# create configs\n",
    "attitudes=[]\n",
    "vs = [15,20,25,30]\n",
    "\n",
    "spans = np.linspace(0.8,1.5,32)\n",
    "for span in spans:\n",
    "    for lam in [10,30]:\n",
    "        tmp_params = {}\n",
    "        tmp_params['s'] = span\n",
    "        tmp_params['sigma'] = (span-0.728)/span\n",
    "        tmp_params['Lambda'] = np.deg2rad(lam)\n",
    "        tmp_params['a'] = create_lift_dist_from_file(r'LiftDistribution_aoa_0_rr_60_span_100.csv',span,tmp_params['sigma'],main_panels,fwt_panels)\n",
    "        tmp_params['m_f'] = 0.05/0.272*tmp_params['sigma']\n",
    "        tmp_params['l_f'] = 0.0766*np.cos(tmp_params['Lambda'])/0.272*tmp_params['sigma']\n",
    "        tmp_params['I_xx_f'] = 8.68e-5/0.272**2*tmp_params['sigma']\n",
    "\n",
    "        attitudes.append(({\"Mode\":\"free\"},{**tmp_params}))\n",
    "jobs=[({**config,},{**params,**config_params,}) for config,config_params in attitudes]"
   ]
  },
  {
   "cell_type": "code",
   "execution_count": 79,
   "metadata": {},
   "outputs": [
    {
     "data": {
      "image/png": "[encoded data removed]",
      "text/latex": [
       "$\\displaystyle -0.35461621942275806$"
      ],
      "text/plain": [
       "-0.35461621942275806"
      ]
     },
     "execution_count": 79,
     "metadata": {},
     "output_type": "execute_result"
    }
   ],
   "source": [
    "j_i = 20\n",
    "job = jobs[j_i]\n",
    "ic = [0,np.deg2rad(120),0,0,0,0]\n",
    "\n",
    "\n",
    "\n",
    "\n",
    "# Create Numeric Model\n",
    "nm = mf.NumericModel.from_SymbolicModel(p, sm)\n",
    "\n",
    "\n",
    "p_vars = vars(p)\n",
    "for string, value in job[1].items():\n",
    "    if string in p_vars:\n",
    "        p_vars[string].value = value\n",
    "\n",
    "# calcualte coast angles\n",
    "ic = RollRig.Calc_coast(nm,p,ic)\n",
    "nm.ExtForces(p.GetNumericTuple(ic,0),ic,0)[0][0]"
   ]
  },
  {
   "cell_type": "code",
   "execution_count": 80,
   "metadata": {},
   "outputs": [
    {
     "name": "stdout",
     "output_type": "stream",
     "text": [
      "CPU times: user 738 ms, sys: 7.57 ms, total: 745 ms\n",
      "Wall time: 750 ms\n"
     ]
    }
   ],
   "source": [
    "%%time\n",
    "res = []\n",
    "\n",
    "for job in jobs:\n",
    "    p_vars = vars(p)\n",
    "    for string, value in job[1].items():\n",
    "        if string in p_vars:\n",
    "            p_vars[string].value = value\n",
    "    # calcualte coast angles\n",
    "    ic = [0,np.deg2rad(60),0,0,0,0]\n",
    "    ic = RollRig.Calc_coast(nm,p,ic)\n",
    "\n",
    "    res.append({**job[1],\"t\":nm.ExtForces(p.GetNumericTuple(ic,0),ic,0)[0][0]})"
   ]
  },
  {
   "cell_type": "code",
   "execution_count": 81,
   "metadata": {},
   "outputs": [
    {
     "data": {
      "text/plain": [
       "<matplotlib.axes._subplots.AxesSubplot at 0x7f834077ef90>"
      ]
     },
     "execution_count": 81,
     "metadata": {},
     "output_type": "execute_result"
    },
    {
     "data": {
      "image/png": "[encoded data removed]",
      "text/plain": [
       "<Figure size 432x288 with 1 Axes>"
      ]
     },
     "metadata": {
      "needs_background": "light"
     },
     "output_type": "display_data"
    }
   ],
   "source": [
    "df = pd.DataFrame(res)\n",
    "df['Flare'] =pd.Categorical(np.round(np.rad2deg(df['Lambda'])))\n",
    "\n",
    "fig, axs = plt.subplots(1, 1)\n",
    "\n",
    "sns.lineplot(data=df,x='s',y='t',hue='Flare',ax=axs)"
   ]
  },
  {
   "cell_type": "code",
   "execution_count": 82,
   "metadata": {},
   "outputs": [],
   "source": [
    "df.to_csv(r'/Users/fintan/Git/FlexiFWT_DAQ/Analysis/RollingRigV3/ModelComparisonV2/SpanData.csv', index = False)"
   ]
  },
  {
   "cell_type": "code",
   "execution_count": null,
   "metadata": {},
   "outputs": [],
   "source": []
  }
 ],
 "metadata": {
  "kernelspec": {
   "display_name": "Python 3",
   "language": "python",
   "name": "python3"
  },
  "language_info": {
   "codemirror_mode": {
    "name": "ipython",
    "version": 3
   },
   "file_extension": ".py",
   "mimetype": "text/x-python",
   "name": "python",
   "nbconvert_exporter": "python",
   "pygments_lexer": "ipython3",
   "version": "3.7.7"
  }
 },
 "nbformat": 4,
 "nbformat_minor": 4
}
