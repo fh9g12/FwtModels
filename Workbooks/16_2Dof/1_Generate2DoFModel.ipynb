{
 "cells": [
  {
   "cell_type": "code",
   "execution_count": 34,
   "metadata": {},
   "outputs": [],
   "source": [
    "import sympy as sym\n",
    "import sympy.physics.mechanics as me\n",
    "from sympy.abc import t as time\n",
    "import pandas as pd\n",
    "import seaborn as sns\n",
    "\n",
    "import numpy as np\n",
    "from scipy.integrate import solve_ivp\n",
    "import matplotlib.pyplot as plt\n",
    "\n",
    "import sys, os\n",
    "\n",
    "sys.path.insert(1, os.path.join(sys.path[0], '../..'))\n",
    "import custom_plot_objects as cpo\n",
    "\n",
    "import ModelFramework as mf\n",
    "import ModelFramework.Elements as ele\n",
    "import ModelFramework.ExternalForces as ef\n",
    "import FwtModels.RectWing as rw\n",
    "import FwtModels.TwoDoF as TwoDoF\n",
    "\n",
    "from matplotlib.lines import Line2D\n",
    "\n",
    "me.mechanics_printing()"
   ]
  },
  {
   "cell_type": "code",
   "execution_count": 35,
   "metadata": {},
   "outputs": [],
   "source": [
    "half = sym.Rational(1,2)\n",
    "fwt_panels = 10\n",
    "p = TwoDoF.base_params(panels = fwt_panels)"
   ]
  },
  {
   "cell_type": "code",
   "execution_count": 39,
   "metadata": {},
   "outputs": [],
   "source": [
    "#Define refernce frames\n",
    "wing_root_frame = mf.HomogenousTransform().Translate(0,0,p.q[0]).R_x(-p.q[1])\n",
    "\n",
    "#Define Mass Matrices\n",
    "M_fwt = ele.MassMatrix(p.m,I_xx = p.I_xx)\n",
    "\n",
    "# Define Elements\n",
    "M_innerWing = ele.RigidElement.PointMass(wing_root_frame,p.m_w,True)\n",
    "fwt_ele = ele.RigidElement(wing_root_frame.Translate(0,p.l_com,0),M_fwt,True)\n",
    "spring_ele = ele.Spring(p.q[0],p.k_w)\n",
    "\n",
    "# Define Aero Forces\n",
    "wing_AeroForces = ef.AeroForce.PerUnitSpan(p,wing_root_frame.Translate(0,p.y_i,0),p.a_0,\n",
    "                               alphadot = 0,\n",
    "                               M_thetadot = 0,\n",
    "                               e = 0,\n",
    "                               w_g = 0,\n",
    "                               rootAlpha = p.alpha_1,\n",
    "                               alpha_zero = 0,\n",
    "                               stall_angle = 0,\n",
    "                               c = p.c,\n",
    "                               c_d_max = 0,\n",
    "                               linear = True)\n",
    "\n",
    "# split Main Wing into segments\n",
    "forces = []\n",
    "for i in range(fwt_panels):\n",
    "    seg_width = p.s/fwt_panels\n",
    "    yi = seg_width/2 + i*seg_width\n",
    "    forces.append(wing_AeroForces.subs({p.y_i:yi,p.a_0:p.a[i]})*seg_width)\n",
    "Q = sym.Matrix([0]*p.qs)\n",
    "for f in forces:\n",
    "    Q += f.Q()\n",
    "wing_AeroForces = ef.ExternalForce(Q)"
   ]
  },
  {
   "cell_type": "code",
   "execution_count": 40,
   "metadata": {},
   "outputs": [],
   "source": [
    "# create instance of the model\n",
    "sm = mf.SymbolicModel.FromElementsAndForces(p,[M_innerWing,fwt_ele,spring_ele],ExtForces = wing_AeroForces)"
   ]
  },
  {
   "cell_type": "code",
   "execution_count": 41,
   "metadata": {},
   "outputs": [],
   "source": [
    "sm.to_file('2Dof_Model.py')"
   ]
  },
  {
   "cell_type": "code",
   "execution_count": 42,
   "metadata": {},
   "outputs": [
    {
     "data": {
      "text/latex": [
       "$\\displaystyle \\left[\\begin{matrix}m + m_{w} & - l_{com} m \\cos{\\left(q_{1} \\right)}\\\\- l_{com} m \\cos{\\left(q_{1} \\right)} & I_{xx} + l_{com}^{2} m\\end{matrix}\\right]$"
      ],
      "text/plain": [
       "⎡    m + m_w       -l_com⋅m⋅cos(q₁)⎤\n",
       "⎢                                  ⎥\n",
       "⎢                              2   ⎥\n",
       "⎣-l_com⋅m⋅cos(q₁)   Iₓₓ + l_com ⋅m ⎦"
      ]
     },
     "execution_count": 42,
     "metadata": {},
     "output_type": "execute_result"
    }
   ],
   "source": [
    "sm.M"
   ]
  },
  {
   "cell_type": "code",
   "execution_count": 43,
   "metadata": {},
   "outputs": [
    {
     "data": {
      "text/latex": [
       "$\\displaystyle \\left[\\begin{matrix}g m + g m_{w} + k_{w} q_{0} + l_{com} m \\sin{\\left(q_{1} \\right)} \\dot{q}_{1}^{2}\\\\- g l_{com} m \\cos{\\left(q_{1} \\right)}\\end{matrix}\\right]$"
      ],
      "text/plain": [
       "⎡                                         2⎤\n",
       "⎢g⋅m + g⋅m_w + k_w⋅q₀ + l_com⋅m⋅sin(q₁)⋅q₁̇ ⎥\n",
       "⎢                                          ⎥\n",
       "⎣            -g⋅l_com⋅m⋅cos(q₁)            ⎦"
      ]
     },
     "execution_count": 43,
     "metadata": {},
     "output_type": "execute_result"
    }
   ],
   "source": [
    "sm.f"
   ]
  },
  {
   "cell_type": "code",
   "execution_count": 44,
   "metadata": {},
   "outputs": [
    {
     "data": {
      "text/latex": [
       "$\\displaystyle \\left[\\begin{matrix}\\frac{V^{2} c \\rho s a_{0} \\left(\\alpha_{1} - \\frac{- \\frac{s \\dot{q}_{1}}{20} + \\cos{\\left(q_{1} \\right)} \\dot{q}_{0}}{V}\\right) \\cos{\\left(q_{1} \\right)}}{20} + \\frac{V^{2} c \\rho s a_{1} \\left(\\alpha_{1} - \\frac{- \\frac{3 s \\dot{q}_{1}}{20} + \\cos{\\left(q_{1} \\right)} \\dot{q}_{0}}{V}\\right) \\cos{\\left(q_{1} \\right)}}{20} + \\frac{V^{2} c \\rho s a_{2} \\left(\\alpha_{1} - \\frac{- \\frac{s \\dot{q}_{1}}{4} + \\cos{\\left(q_{1} \\right)} \\dot{q}_{0}}{V}\\right) \\cos{\\left(q_{1} \\right)}}{20} + \\frac{V^{2} c \\rho s a_{3} \\left(\\alpha_{1} - \\frac{- \\frac{7 s \\dot{q}_{1}}{20} + \\cos{\\left(q_{1} \\right)} \\dot{q}_{0}}{V}\\right) \\cos{\\left(q_{1} \\right)}}{20} + \\frac{V^{2} c \\rho s a_{4} \\left(\\alpha_{1} - \\frac{- \\frac{9 s \\dot{q}_{1}}{20} + \\cos{\\left(q_{1} \\right)} \\dot{q}_{0}}{V}\\right) \\cos{\\left(q_{1} \\right)}}{20} + \\frac{V^{2} c \\rho s a_{5} \\left(\\alpha_{1} - \\frac{- \\frac{11 s \\dot{q}_{1}}{20} + \\cos{\\left(q_{1} \\right)} \\dot{q}_{0}}{V}\\right) \\cos{\\left(q_{1} \\right)}}{20} + \\frac{V^{2} c \\rho s a_{6} \\left(\\alpha_{1} - \\frac{- \\frac{13 s \\dot{q}_{1}}{20} + \\cos{\\left(q_{1} \\right)} \\dot{q}_{0}}{V}\\right) \\cos{\\left(q_{1} \\right)}}{20} + \\frac{V^{2} c \\rho s a_{7} \\left(\\alpha_{1} - \\frac{- \\frac{3 s \\dot{q}_{1}}{4} + \\cos{\\left(q_{1} \\right)} \\dot{q}_{0}}{V}\\right) \\cos{\\left(q_{1} \\right)}}{20} + \\frac{V^{2} c \\rho s a_{8} \\left(\\alpha_{1} - \\frac{- \\frac{17 s \\dot{q}_{1}}{20} + \\cos{\\left(q_{1} \\right)} \\dot{q}_{0}}{V}\\right) \\cos{\\left(q_{1} \\right)}}{20} + \\frac{V^{2} c \\rho s a_{9} \\left(\\alpha_{1} - \\frac{- \\frac{19 s \\dot{q}_{1}}{20} + \\cos{\\left(q_{1} \\right)} \\dot{q}_{0}}{V}\\right) \\cos{\\left(q_{1} \\right)}}{20}\\\\- \\frac{V^{2} c \\rho s^{2} a_{0} \\left(\\alpha_{1} - \\frac{- \\frac{s \\dot{q}_{1}}{20} + \\cos{\\left(q_{1} \\right)} \\dot{q}_{0}}{V}\\right)}{400} - \\frac{3 V^{2} c \\rho s^{2} a_{1} \\left(\\alpha_{1} - \\frac{- \\frac{3 s \\dot{q}_{1}}{20} + \\cos{\\left(q_{1} \\right)} \\dot{q}_{0}}{V}\\right)}{400} - \\frac{V^{2} c \\rho s^{2} a_{2} \\left(\\alpha_{1} - \\frac{- \\frac{s \\dot{q}_{1}}{4} + \\cos{\\left(q_{1} \\right)} \\dot{q}_{0}}{V}\\right)}{80} - \\frac{7 V^{2} c \\rho s^{2} a_{3} \\left(\\alpha_{1} - \\frac{- \\frac{7 s \\dot{q}_{1}}{20} + \\cos{\\left(q_{1} \\right)} \\dot{q}_{0}}{V}\\right)}{400} - \\frac{9 V^{2} c \\rho s^{2} a_{4} \\left(\\alpha_{1} - \\frac{- \\frac{9 s \\dot{q}_{1}}{20} + \\cos{\\left(q_{1} \\right)} \\dot{q}_{0}}{V}\\right)}{400} - \\frac{11 V^{2} c \\rho s^{2} a_{5} \\left(\\alpha_{1} - \\frac{- \\frac{11 s \\dot{q}_{1}}{20} + \\cos{\\left(q_{1} \\right)} \\dot{q}_{0}}{V}\\right)}{400} - \\frac{13 V^{2} c \\rho s^{2} a_{6} \\left(\\alpha_{1} - \\frac{- \\frac{13 s \\dot{q}_{1}}{20} + \\cos{\\left(q_{1} \\right)} \\dot{q}_{0}}{V}\\right)}{400} - \\frac{3 V^{2} c \\rho s^{2} a_{7} \\left(\\alpha_{1} - \\frac{- \\frac{3 s \\dot{q}_{1}}{4} + \\cos{\\left(q_{1} \\right)} \\dot{q}_{0}}{V}\\right)}{80} - \\frac{17 V^{2} c \\rho s^{2} a_{8} \\left(\\alpha_{1} - \\frac{- \\frac{17 s \\dot{q}_{1}}{20} + \\cos{\\left(q_{1} \\right)} \\dot{q}_{0}}{V}\\right)}{400} - \\frac{19 V^{2} c \\rho s^{2} a_{9} \\left(\\alpha_{1} - \\frac{- \\frac{19 s \\dot{q}_{1}}{20} + \\cos{\\left(q_{1} \\right)} \\dot{q}_{0}}{V}\\right)}{400}\\end{matrix}\\right]$"
      ],
      "text/plain": [
       "⎡            ⎛       s⋅q₁̇             ⎞                       ⎛       3⋅s⋅q₁̇\n",
       "⎢            ⎜     - ──── + cos(q₁)⋅q₀̇⎟                       ⎜     - ────── \n",
       "⎢ 2          ⎜        20              ⎟            2          ⎜         20    \n",
       "⎢V ⋅c⋅ρ⋅s⋅a₀⋅⎜α₁ - ───────────────────⎟⋅cos(q₁)   V ⋅c⋅ρ⋅s⋅a₁⋅⎜α₁ - ──────────\n",
       "⎢            ⎝              V         ⎠                       ⎝               \n",
       "⎢────────────────────────────────────────────── + ────────────────────────────\n",
       "⎢                      20                                                20   \n",
       "⎢                                                                             \n",
       "⎢                                       ⎛       s⋅q₁̇             ⎞           \n",
       "⎢                                       ⎜     - ──── + cos(q₁)⋅q₀̇⎟           \n",
       "⎢                           2      2    ⎜        20              ⎟      2     \n",
       "⎢                          V ⋅c⋅ρ⋅s ⋅a₀⋅⎜α₁ - ───────────────────⎟   3⋅V ⋅c⋅ρ⋅\n",
       "⎢                                       ⎝              V         ⎠            \n",
       "⎢                        - ─────────────────────────────────────── - ─────────\n",
       "⎣                                            400                              \n",
       "\n",
       "             ⎞                       ⎛       s⋅q₁̇             ⎞              \n",
       "+ cos(q₁)⋅q₀̇⎟                       ⎜     - ──── + cos(q₁)⋅q₀̇⎟              \n",
       "           ⎟            2          ⎜        4               ⎟            2    \n",
       "───────────⎟⋅cos(q₁)   V ⋅c⋅ρ⋅s⋅a₂⋅⎜α₁ - ───────────────────⎟⋅cos(q₁)   V ⋅c⋅ρ\n",
       "V          ⎠                       ⎝              V         ⎠                 \n",
       "──────────────────── + ────────────────────────────────────────────── + ──────\n",
       "                                             20                               \n",
       "                                                                              \n",
       "       ⎛       3⋅s⋅q₁̇             ⎞                ⎛       s⋅q₁̇             \n",
       "       ⎜     - ────── + cos(q₁)⋅q₀̇⎟                ⎜     - ──── + cos(q₁)⋅q₀̇\n",
       " 2    ⎜         20               ⎟    2      2    ⎜        4               ⎟  \n",
       "s ⋅a₁⋅⎜α₁ - ─────────────────────⎟   V ⋅c⋅ρ⋅s ⋅a₂⋅⎜α₁ - ───────────────────⎟  \n",
       "      ⎝               V          ⎠                ⎝              V         ⎠  \n",
       "────────────────────────────────── - ─────────────────────────────────────── -\n",
       "           400                                          80                    \n",
       "\n",
       "         ⎛       7⋅s⋅q₁̇             ⎞                       ⎛       9⋅s⋅q₁̇  \n",
       "         ⎜     - ────── + cos(q₁)⋅q₀̇⎟                       ⎜     - ────── + \n",
       "      ⎜         20               ⎟            2          ⎜         20         \n",
       "⋅s⋅a₃⋅⎜α₁ - ─────────────────────⎟⋅cos(q₁)   V ⋅c⋅ρ⋅s⋅a₄⋅⎜α₁ - ───────────────\n",
       "      ⎝               V          ⎠                       ⎝               V    \n",
       "────────────────────────────────────────── + ─────────────────────────────────\n",
       "                 20                                                 20        \n",
       "                                                                              \n",
       "⎞                  ⎛       7⋅s⋅q₁̇             ⎞                  ⎛       9⋅s⋅\n",
       "⎟                  ⎜     - ────── + cos(q₁)⋅q₀̇⎟                  ⎜     - ────\n",
       "    2      2    ⎜         20               ⎟      2      2    ⎜         20    \n",
       " 7⋅V ⋅c⋅ρ⋅s ⋅a₃⋅⎜α₁ - ─────────────────────⎟   9⋅V ⋅c⋅ρ⋅s ⋅a₄⋅⎜α₁ - ──────────\n",
       "                ⎝               V          ⎠                  ⎝               \n",
       " ─────────────────────────────────────────── - ───────────────────────────────\n",
       "                     400                                           400        \n",
       "\n",
       "           ⎞                       ⎛       11⋅s⋅q₁̇             ⎞             \n",
       "cos(q₁)⋅q₀̇⎟                       ⎜     - ─────── + cos(q₁)⋅q₀̇⎟             \n",
       "      ⎟            2          ⎜          20               ⎟            2      \n",
       "──────⎟⋅cos(q₁)   V ⋅c⋅ρ⋅s⋅a₅⋅⎜α₁ - ──────────────────────⎟⋅cos(q₁)   V ⋅c⋅ρ⋅s\n",
       "      ⎠                       ⎝               V           ⎠                   \n",
       "─────────────── + ───────────────────────────────────────────────── + ────────\n",
       "                                          20                                  \n",
       "                                                                              \n",
       "q₁̇             ⎞                   ⎛       11⋅s⋅q₁̇             ⎞            \n",
       "── + cos(q₁)⋅q₀̇⎟                   ⎜     - ─────── + cos(q₁)⋅q₀̇⎟            \n",
       "           ⎟       2      2    ⎜          20               ⎟       2      2   \n",
       "───────────⎟   11⋅V ⋅c⋅ρ⋅s ⋅a₅⋅⎜α₁ - ──────────────────────⎟   13⋅V ⋅c⋅ρ⋅s ⋅a₆\n",
       "V          ⎠                   ⎝               V           ⎠                  \n",
       "──────────── - ───────────────────────────────────────────── - ───────────────\n",
       "                                    400                                       \n",
       "\n",
       "          ⎛       13⋅s⋅q₁̇             ⎞                       ⎛       3⋅s⋅q₁̇\n",
       "          ⎜     - ─────── + cos(q₁)⋅q₀̇⎟                       ⎜     - ────── \n",
       "    ⎜          20               ⎟            2          ⎜         4           \n",
       "⋅a₆⋅⎜α₁ - ──────────────────────⎟⋅cos(q₁)   V ⋅c⋅ρ⋅s⋅a₇⋅⎜α₁ - ────────────────\n",
       "    ⎝               V           ⎠                       ⎝               V     \n",
       "───────────────────────────────────────── + ──────────────────────────────────\n",
       "                20                                                 20         \n",
       "                                                                              \n",
       "       ⎛       13⋅s⋅q₁̇             ⎞                  ⎛       3⋅s⋅q₁̇        \n",
       "       ⎜     - ─────── + cos(q₁)⋅q₀̇⎟                  ⎜     - ────── + cos(q₁\n",
       " ⎜          20               ⎟      2      2    ⎜         4                ⎟  \n",
       "⋅⎜α₁ - ──────────────────────⎟   3⋅V ⋅c⋅ρ⋅s ⋅a₇⋅⎜α₁ - ─────────────────────⎟  \n",
       " ⎝               V           ⎠                  ⎝               V          ⎠  \n",
       "────────────────────────────── - ─────────────────────────────────────────── -\n",
       "      400                                             80                      \n",
       "\n",
       "             ⎞                       ⎛       17⋅s⋅q₁̇             ⎞           \n",
       "+ cos(q₁)⋅q₀̇⎟                       ⎜     - ─────── + cos(q₁)⋅q₀̇⎟           \n",
       "     ⎟            2          ⎜          20               ⎟            2       \n",
       "─────⎟⋅cos(q₁)   V ⋅c⋅ρ⋅s⋅a₈⋅⎜α₁ - ──────────────────────⎟⋅cos(q₁)   V ⋅c⋅ρ⋅s⋅\n",
       "     ⎠                       ⎝               V           ⎠                    \n",
       "────────────── + ───────────────────────────────────────────────── + ─────────\n",
       "                                         20                                   \n",
       "                                                                              \n",
       "     ⎞                   ⎛       17⋅s⋅q₁̇             ⎞                   ⎛   \n",
       ")⋅q₀̇⎟                   ⎜     - ─────── + cos(q₁)⋅q₀̇⎟                   ⎜   \n",
       "     2      2    ⎜          20               ⎟       2      2    ⎜          20\n",
       " 17⋅V ⋅c⋅ρ⋅s ⋅a₈⋅⎜α₁ - ──────────────────────⎟   19⋅V ⋅c⋅ρ⋅s ⋅a₉⋅⎜α₁ - ───────\n",
       "                 ⎝               V           ⎠                   ⎝            \n",
       " ───────────────────────────────────────────── - ─────────────────────────────\n",
       "                      400                                             400     \n",
       "\n",
       "            ⎛       19⋅s⋅q₁̇             ⎞        ⎤\n",
       "            ⎜     - ─────── + cos(q₁)⋅q₀̇⎟        ⎥\n",
       "   ⎜          20               ⎟        ⎥\n",
       "a₉⋅⎜α₁ - ──────────────────────⎟⋅cos(q₁)⎥\n",
       "   ⎝               V           ⎠        ⎥\n",
       "────────────────────────────────────────⎥\n",
       "               20                       ⎥\n",
       "                                        ⎥\n",
       "    19⋅s⋅q₁̇             ⎞                        ⎥\n",
       "  - ─────── + cos(q₁)⋅q₀̇⎟                        ⎥\n",
       "               ⎟                        ⎥\n",
       "───────────────⎟                        ⎥\n",
       "   V           ⎠                        ⎥\n",
       "────────────────                        ⎥\n",
       "                                        ⎦"
      ]
     },
     "execution_count": 44,
     "metadata": {},
     "output_type": "execute_result"
    }
   ],
   "source": [
    "sm.ExtForces.Q()"
   ]
  },
  {
   "cell_type": "code",
   "execution_count": null,
   "metadata": {},
   "outputs": [],
   "source": []
  }
 ],
 "metadata": {
  "kernelspec": {
   "display_name": "Python 3",
   "language": "python",
   "name": "python3"
  },
  "language_info": {
   "codemirror_mode": {
    "name": "ipython",
    "version": 3
   },
   "file_extension": ".py",
   "mimetype": "text/x-python",
   "name": "python",
   "nbconvert_exporter": "python",
   "pygments_lexer": "ipython3",
   "version": "3.7.7"
  }
 },
 "nbformat": 4,
 "nbformat_minor": 4
}
