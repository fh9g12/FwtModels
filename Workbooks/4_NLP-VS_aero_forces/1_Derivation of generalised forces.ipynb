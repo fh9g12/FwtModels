{
 "cells": [
  {
   "cell_type": "code",
   "execution_count": 57,
   "metadata": {},
   "outputs": [
    {
     "data": {
      "text/plain": [
       "'C:\\\\Users\\\\qe19391\\\\AppData\\\\Local\\\\Continuum\\\\anaconda3\\\\lib\\\\site-packages\\\\matplotlib\\\\mpl-data\\\\matplotlibrc'"
      ]
     },
     "execution_count": 57,
     "metadata": {},
     "output_type": "execute_result"
    }
   ],
   "source": [
    "import sympy as sym\n",
    "import sympy.physics.mechanics as me\n",
    "\n",
    "import numpy as np\n",
    "from scipy.integrate import odeint,LSODA,BDF,solve_ivp\n",
    "import matplotlib.pyplot as plt\n",
    "\n",
    "import sys, os\n",
    "\n",
    "sys.path.insert(1, os.path.join(sys.path[0], '..\\..'))\n",
    "import sympyTransforms as symt\n",
    "import custom_plot_objects as cpo\n",
    "import FwtModels.dof2 as dof2\n",
    "import FwtModels.AeroModels as ams\n",
    "\n",
    "import matplotlib\n",
    "matplotlib.matplotlib_fname()"
   ]
  },
  {
   "cell_type": "code",
   "execution_count": 50,
   "metadata": {},
   "outputs": [
    {
     "data": {
      "text/latex": [
       "$\\displaystyle \\left[\\begin{matrix}1 & 0 & 0 & 0\\\\0 & \\operatorname{cos}\\left(\\theta\\right) & - \\operatorname{sin}\\left(\\theta\\right) & 0\\\\0 & \\operatorname{sin}\\left(\\theta\\right) & \\operatorname{cos}\\left(\\theta\\right) & d\\\\0 & 0 & 0 & 1\\end{matrix}\\right]$"
      ],
      "text/plain": [
       "⎡1    0        0     0⎤\n",
       "⎢                     ⎥\n",
       "⎢0  cos(θ)  -sin(θ)  0⎥\n",
       "⎢                     ⎥\n",
       "⎢0  sin(θ)  cos(θ)   d⎥\n",
       "⎢                     ⎥\n",
       "⎣0    0        0     1⎦"
      ]
     },
     "execution_count": 50,
     "metadata": {},
     "output_type": "execute_result"
    }
   ],
   "source": [
    "theta,d,V = me.dynamicsymbols(['theta','d','V'])\n",
    "\n",
    "\n",
    "y_t,rho,s,c = sym.symbols(['y_t','rho','s','c'])\n",
    "A = sym.Function('A')(y_t,theta,me.dynamicsymbols._t)\n",
    "C_L = sym.Function('C_L')(y_t)\n",
    "\n",
    "wing_frame = symt.HomogenousTransform().Translate(0,0,d)\n",
    "fwt_frame = wing_frame.R_x(theta)\n",
    "\n",
    "fwt_frame.T"
   ]
  },
  {
   "cell_type": "code",
   "execution_count": 52,
   "metadata": {},
   "outputs": [
    {
     "data": {
      "image/png": "[encoded data removed]",
      "text/latex": [
       "$\\displaystyle \\frac{c \\rho \\operatorname{A}\\left(y_{t},\\theta,t\\right) \\operatorname{C_L}\\left(y_{t}\\right) V^{2}}{2}$"
      ],
      "text/plain": [
       "                         2\n",
       "c⋅ρ⋅A(yₜ, θ, t)⋅C_L(yₜ)⋅V \n",
       "──────────────────────────\n",
       "            2             "
      ]
     },
     "execution_count": 52,
     "metadata": {},
     "output_type": "execute_result"
    }
   ],
   "source": [
    "dL =sym.Rational(1,2)*rho*V**2*c*C_L*A\n",
    "dL"
   ]
  },
  {
   "cell_type": "code",
   "execution_count": 53,
   "metadata": {},
   "outputs": [
    {
     "data": {
      "text/latex": [
       "$\\displaystyle \\left[\\begin{matrix}0\\\\- \\frac{c \\rho \\operatorname{A}\\left(y_{t},\\theta,t\\right) \\operatorname{C_L}\\left(y_{t}\\right) V^{2} \\operatorname{sin}\\left(\\theta\\right)}{2}\\\\\\frac{c \\rho \\operatorname{A}\\left(y_{t},\\theta,t\\right) \\operatorname{C_L}\\left(y_{t}\\right) V^{2} \\operatorname{cos}\\left(\\theta\\right)}{2}\\end{matrix}\\right]$"
      ],
      "text/plain": [
       "⎡                 0                 ⎤\n",
       "⎢                                   ⎥\n",
       "⎢                          2        ⎥\n",
       "⎢-c⋅ρ⋅A(yₜ, θ, t)⋅C_L(yₜ)⋅V ⋅sin(θ) ⎥\n",
       "⎢───────────────────────────────────⎥\n",
       "⎢                 2                 ⎥\n",
       "⎢                                   ⎥\n",
       "⎢                          2        ⎥\n",
       "⎢ c⋅ρ⋅A(yₜ, θ, t)⋅C_L(yₜ)⋅V ⋅cos(θ) ⎥\n",
       "⎢ ───────────────────────────────── ⎥\n",
       "⎣                 2                 ⎦"
      ]
     },
     "execution_count": 53,
     "metadata": {},
     "output_type": "execute_result"
    }
   ],
   "source": [
    "# convert into world frame\n",
    "dL_w = fwt_frame.T[:3,:3]*sym.Matrix([0,0,dL])\n",
    "dL_w"
   ]
  },
  {
   "cell_type": "code",
   "execution_count": 54,
   "metadata": {},
   "outputs": [],
   "source": [
    "# calc d r_i/d q_j\n",
    "dr_i_dq_j = fwt_frame.Transform_point([0,y_t,0]).jacobian([theta,d])"
   ]
  },
  {
   "cell_type": "code",
   "execution_count": 55,
   "metadata": {},
   "outputs": [
    {
     "data": {
      "text/latex": [
       "$\\displaystyle \\left[\\begin{matrix}\\frac{c \\rho y_{t} \\operatorname{A}\\left(y_{t},\\theta,t\\right) \\operatorname{C_L}\\left(y_{t}\\right) V^{2} \\operatorname{sin}^{2}\\left(\\theta\\right)}{2} + \\frac{c \\rho y_{t} \\operatorname{A}\\left(y_{t},\\theta,t\\right) \\operatorname{C_L}\\left(y_{t}\\right) V^{2} \\operatorname{cos}^{2}\\left(\\theta\\right)}{2}\\\\\\frac{c \\rho \\operatorname{A}\\left(y_{t},\\theta,t\\right) \\operatorname{C_L}\\left(y_{t}\\right) V^{2} \\operatorname{cos}\\left(\\theta\\right)}{2}\\end{matrix}\\right]$"
      ],
      "text/plain": [
       "⎡                            2    2                                  2    2   \n",
       "⎢c⋅ρ⋅yₜ⋅A(yₜ, θ, t)⋅C_L(yₜ)⋅V ⋅sin (θ)   c⋅ρ⋅yₜ⋅A(yₜ, θ, t)⋅C_L(yₜ)⋅V ⋅cos (θ)\n",
       "⎢───────────────────────────────────── + ─────────────────────────────────────\n",
       "⎢                  2                                       2                  \n",
       "⎢                                                                             \n",
       "⎢                                               2                             \n",
       "⎢                      c⋅ρ⋅A(yₜ, θ, t)⋅C_L(yₜ)⋅V ⋅cos(θ)                      \n",
       "⎢                      ─────────────────────────────────                      \n",
       "⎣                                      2                                      \n",
       "\n",
       "⎤\n",
       "⎥\n",
       "⎥\n",
       "⎥\n",
       "⎥\n",
       "⎥\n",
       "⎥\n",
       "⎥\n",
       "⎦"
      ]
     },
     "execution_count": 55,
     "metadata": {},
     "output_type": "execute_result"
    }
   ],
   "source": [
    "# generalised forces per unit length\n",
    "dQ = dr_i_dq_j.T * dL_w\n",
    "dQ"
   ]
  },
  {
   "cell_type": "code",
   "execution_count": 56,
   "metadata": {},
   "outputs": [
    {
     "name": "stdout",
     "output_type": "stream",
     "text": [
      "\\left[\\begin{matrix}\\frac{c \\rho \\left(\\sin^{2}{\\left(\\theta{\\left(t \\right)} \\right)} + \\cos^{2}{\\left(\\theta{\\left(t \\right)} \\right)}\\right) V^{2}{\\left(t \\right)} \\int\\limits_{0}^{s} y_{t} A{\\left(y_{t},\\theta{\\left(t \\right)},t \\right)} \\operatorname{C_{L}}{\\left(y_{t} \\right)}\\, dy_{t}}{2}\\\\\\frac{c \\rho V^{2}{\\left(t \\right)} \\cos{\\left(\\theta{\\left(t \\right)} \\right)} \\int\\limits_{0}^{s} A{\\left(y_{t},\\theta{\\left(t \\right)},t \\right)} \\operatorname{C_{L}}{\\left(y_{t} \\right)}\\, dy_{t}}{2}\\end{matrix}\\right]\n"
     ]
    },
    {
     "data": {
      "text/latex": [
       "$\\displaystyle \\left[\\begin{matrix}\\frac{c \\rho \\left(\\operatorname{sin}^{2}\\left(\\theta\\right) + \\operatorname{cos}^{2}\\left(\\theta\\right)\\right) V^{2} \\int\\limits_{0}^{s} y_{t} \\operatorname{A}\\left(y_{t},\\theta,t\\right) \\operatorname{C_L}\\left(y_{t}\\right)\\, dy_{t}}{2}\\\\\\frac{c \\rho V^{2} \\operatorname{cos}\\left(\\theta\\right) \\int\\limits_{0}^{s} \\operatorname{A}\\left(y_{t},\\theta,t\\right) \\operatorname{C_L}\\left(y_{t}\\right)\\, dy_{t}}{2}\\end{matrix}\\right]$"
      ],
      "text/plain": [
       "⎡                           s                             ⎤\n",
       "⎢    ⎛   2         2   ⎞  2 ⌠                             ⎥\n",
       "⎢c⋅ρ⋅⎝sin (θ) + cos (θ)⎠⋅V ⋅⎮ yₜ⋅A(yₜ, θ, t)⋅C_L(yₜ) d(yₜ)⎥\n",
       "⎢                           ⌡                             ⎥\n",
       "⎢                           0                             ⎥\n",
       "⎢─────────────────────────────────────────────────────────⎥\n",
       "⎢                            2                            ⎥\n",
       "⎢                                                         ⎥\n",
       "⎢                      s                                  ⎥\n",
       "⎢             2        ⌠                                  ⎥\n",
       "⎢        c⋅ρ⋅V ⋅cos(θ)⋅⎮ A(yₜ, θ, t)⋅C_L(yₜ) d(yₜ)        ⎥\n",
       "⎢                      ⌡                                  ⎥\n",
       "⎢                      0                                  ⎥\n",
       "⎢        ─────────────────────────────────────────        ⎥\n",
       "⎣                            2                            ⎦"
      ]
     },
     "execution_count": 56,
     "metadata": {},
     "output_type": "execute_result"
    }
   ],
   "source": [
    "# and get full generalised forces\n",
    "Q = dQ.integrate((y_t,0,s))\n",
    "me.mechanics_printing()\n",
    "sym.print_latex(Q)\n",
    "\n",
    "Q"
   ]
  },
  {
   "cell_type": "code",
   "execution_count": null,
   "metadata": {},
   "outputs": [],
   "source": []
  },
  {
   "cell_type": "code",
   "execution_count": null,
   "metadata": {},
   "outputs": [],
   "source": []
  }
 ],
 "metadata": {
  "kernelspec": {
   "display_name": "Python 3.7.6 64-bit ('Continuum': virtualenv)",
   "language": "python",
   "name": "python37664bitcontinuumvirtualenv2b38efbc82644feab3bee4169708de0f"
  },
  "language_info": {
   "codemirror_mode": {
    "name": "ipython",
    "version": 3
   },
   "file_extension": ".py",
   "mimetype": "text/x-python",
   "name": "python",
   "nbconvert_exporter": "python",
   "pygments_lexer": "ipython3",
   "version": "3.7.6"
  }
 },
 "nbformat": 4,
 "nbformat_minor": 2
}
