{
 "cells": [
  {
   "cell_type": "code",
   "execution_count": 107,
   "metadata": {},
   "outputs": [],
   "source": [
    "import sympy as sym\n",
    "import sympy.physics.mechanics as me\n",
    "\n",
    "import numpy as np\n",
    "from scipy.integrate import odeint,LSODA,BDF,solve_ivp\n",
    "import matplotlib.pyplot as plt\n",
    "\n",
    "import sys, os\n",
    "\n",
    "sys.path.insert(1, os.path.join(sys.path[0], '..\\..'))\n",
    "import sympyTransforms as symt\n",
    "import custom_plot_objects as cpo\n",
    "import FwtModels.dof2 as dof2\n",
    "import FwtModels.AeroModels as ams"
   ]
  },
  {
   "cell_type": "markdown",
   "metadata": {},
   "source": [
    "### Define the problem"
   ]
  },
  {
   "cell_type": "code",
   "execution_count": 108,
   "metadata": {},
   "outputs": [],
   "source": [
    "# want to create a model with some fixed parameters\n",
    "\n",
    "# create the variables\n",
    "p = dof2.FwtParameters.Default2DoF() # parameter container\n",
    "\n",
    "mass_ratio = 4                    # mass ratio between wing and FWT\n",
    "p.m_w = dof2.FwtVariable(4,'m_w')   # mass of inner wing\n",
    "wing_freq = 2                       # freq of inner wing\n",
    "\n",
    "# set values for independent symbols\n",
    "p.s.value = 1\n",
    "p.c.value = 0.15\n",
    "p.g.value = 9.81\n",
    "p.rho.value = 1.225\n",
    "p.a_t.value = 2 * np.pi\n",
    "p.alpha_r.value = np.deg2rad(5)\n",
    "p.Lambda.value = np.deg2rad(-10)\n",
    "\n",
    "# set expression for dependent symbols\n",
    "p.k = (sym.Integer(wing_freq)*2*sym.pi)**2*(p.m_w+p.m_w/sym.Float(mass_ratio))\n",
    "p.m = p.m_w/sym.Integer(mass_ratio)\n",
    "p.I_xx = sym.Rational(1,12)*p.m*p.s**2*1\n",
    "p.l = p.s*sym.Rational(2,4)\n",
    "\n",
    "# potential Energy\n",
    "half = sym.Rational(1,2)\n",
    "U = p.m*p.g*(-p.l*sym.cos(p.q[0])) + half*p.k*(p.q[1])**2\n",
    "\n",
    "# Create Point masses\n",
    "\n",
    "# Transform for the mass\n",
    "wing_frame = symt.HomogenousTransform().Translate(0,0,p.q[1])\n",
    "fwt_frame = wing_frame.R_x(-sym.pi*sym.Rational(1,2)+p.q[0])\n",
    "fwt_com_frame = fwt_frame.Translate(0,p.l,0)\n",
    "rot = sym.Matrix([-sym.pi*sym.Rational(1,2)+p.q[0],0,0])\n",
    "\n",
    "\n",
    "mw = dof2.RigidElement.PointMass(wing_frame,sym.Matrix([0,0,0]),p.m_w)\n",
    "\n",
    "\n",
    "M_fwt = dof2.MassMatrix(p.m,I_xx = p.I_xx)\n",
    "\n",
    "m = dof2.RigidElement(fwt_com_frame,rot,M_fwt)\n",
    "\n",
    "\n",
    "# Aero Forces\n",
    "AeroForces = ams.SimpleAeroModel(p,fwt_frame,at_mode=1)\n",
    "me.mechanics_printing()\n",
    "\n",
    "\n",
    "sm = dof2.SymbolicModel(U,[mw,m],p,ExtForces = AeroForces)"
   ]
  },
  {
   "cell_type": "markdown",
   "metadata": {},
   "source": [
    "### Determine the fixed points of this system"
   ]
  },
  {
   "cell_type": "code",
   "execution_count": 109,
   "metadata": {},
   "outputs": [],
   "source": [
    "cruiseV = sm.CruiseAngleEqn(p,AeroForces)"
   ]
  },
  {
   "cell_type": "code",
   "execution_count": 110,
   "metadata": {},
   "outputs": [
    {
     "name": "stderr",
     "output_type": "stream",
     "text": [
      "<string>:2: RuntimeWarning: invalid value encountered in sqrt\n"
     ]
    },
    {
     "data": {
      "text/plain": [
       "[<matplotlib.lines.Line2D at 0x20fae6543c8>]"
      ]
     },
     "execution_count": 110,
     "metadata": {},
     "output_type": "execute_result"
    },
    {
     "data": {
      "image/png": "[encoded data removed]",
      "text/plain": [
       "<Figure size 720x504 with 1 Axes>"
      ]
     },
     "metadata": {},
     "output_type": "display_data"
    }
   ],
   "source": [
    "thetas = np.linspace(0,np.pi,361)\n",
    "V,q1s = cruiseV(thetas)\n",
    "\n",
    "fig, axes = plt.subplots(1,1,figsize=(10,7))\n",
    "\n",
    "axes.plot(thetas,V)"
   ]
  },
  {
   "cell_type": "markdown",
   "metadata": {},
   "source": [
    "### Linearise the system about some fixed points"
   ]
  },
  {
   "cell_type": "code",
   "execution_count": 111,
   "metadata": {},
   "outputs": [],
   "source": [
    "def msub(expr,v,sub,derivatives):\n",
    "    temps = list(sym.symbols(f'temps:{derivatives}'))\n",
    "    derivs = list(sym.symbols(f'temps:{derivatives+1}'))\n",
    "    derivs[0] = v\n",
    "    for i in range(1,derivatives+1):\n",
    "        derivs[i]=derivs[i-1].diff(me.dynamicsymbols._t)\n",
    "        \n",
    "    expr = expr.subs({derivs[i]:temps[i-1] for i in range(1,derivatives+1)})\n",
    "    expr = expr.subs(v,sub)\n",
    "    expr = expr.subs({temps[i-1]:derivs[i] for i in range(1,derivatives+1)})\n",
    "    return expr\n",
    "    \n",
    "        "
   ]
  },
  {
   "cell_type": "code",
   "execution_count": 112,
   "metadata": {},
   "outputs": [],
   "source": [
    "\n",
    "lp = [np.pi/2,0,0,0]\n",
    "x = sym.Matrix([0,0,0,0])\n",
    "#cruise speed for flat wing\n",
    "V,lp[2] = cruiseV(lp[0])\n",
    "\n",
    "# linearise about this point\n",
    "EoM = sm.X.subs({sm.F[0]:AeroForces.Q[0],sm.F[1]:AeroForces.Q[1]})\n",
    "#EOM = AeroForces.Q\n",
    "\n",
    "# sub all in but velocity\n",
    "tup = p.GetTuple(ignore=['V'])\n",
    "eqs = sym.simplify(EoM.subs({v:v.value for v in tup}))#[[1,3],:]\n",
    "\n",
    "# create linearised version\n",
    "#temp = sym.Symbol('temp')\n",
    "#\n",
    "#lin_eq = eqs+eqs.jacobian(p.x)*sym.Matrix(lp)\n",
    "\n",
    "#lin_eq = msub(lin_eq,p.q[0],lp[1],2)\n",
    "\n",
    "#tempsd = sym.symbols(f'tempd:{p.qs}')\n",
    "#tempsdd = sym.symbols(f'tempdd:{p.qs}')\n",
    "\n",
    "#lin_eq = lin_eq.subs({p.qdd[i]:tempsdd[i] for i in [0,1]})\n",
    "#lin_eq = lin_eq.subs({p.qd[i]:tempsd[i] for i in [0,1]})\n",
    "\n",
    "#lin_eq = lin_eq.subs({p.x[i]:lp[i] for i in [0,1]})\n",
    "\n",
    "#lin_eq = lin_eq.subs({tempsdd[i]:p.qdd[i] for i in [0,1]})\n",
    "#lin_eq = lin_eq.subs({tempsd[i]:p.qd[i] for i in [0,1]})\n",
    "\n",
    "#lin_eq = -lin_eq\n",
    "#A = sym.diag(1,1)\n",
    "#B = lin_eq.jacobian(p.qd)\n",
    "#C = (lin_eq - B*p.qd).jacobian(p.q)\n",
    "#sym.simplify(EoM.jacobian(p.q).subs(p.q[0],lp))\n",
    "\n"
   ]
  },
  {
   "cell_type": "code",
   "execution_count": 113,
   "metadata": {},
   "outputs": [
    {
     "data": {
      "text/latex": [
       "$\\displaystyle \\left[\\begin{matrix}0\\\\0.0206906857652962 V^{2} - 17.3117647058824 + 0.526214547281289 \\pi^{2}\\\\0\\\\0.00295581225218517 V^{2} - 0.350809698187526 \\pi^{2} + 1.73117647058824\\end{matrix}\\right]$"
      ],
      "text/plain": [
       "⎡                               0                                ⎤\n",
       "⎢                                                                ⎥\n",
       "⎢                    2                                         2 ⎥\n",
       "⎢0.0206906857652962⋅V  - 17.3117647058824 + 0.526214547281289⋅π  ⎥\n",
       "⎢                                                                ⎥\n",
       "⎢                               0                                ⎥\n",
       "⎢                                                                ⎥\n",
       "⎢                     2                      2                   ⎥\n",
       "⎣0.00295581225218517⋅V  - 0.350809698187526⋅π  + 1.73117647058824⎦"
      ]
     },
     "execution_count": 113,
     "metadata": {},
     "output_type": "execute_result"
    }
   ],
   "source": [
    "eqs.subs({p.x[i]:lp[i] for i in range(0,4)})"
   ]
  },
  {
   "cell_type": "code",
   "execution_count": 114,
   "metadata": {},
   "outputs": [
    {
     "data": {
      "text/plain": [
       "(array([-3.73828997e+00+10.01040246j, -3.73828997e+00-10.01040246j,\n",
       "         3.02870098e-03+12.56496046j,  3.02870098e-03-12.56496046j]),\n",
       " array([[-3.24456298e-02-0.08688299j, -3.24456298e-02+0.08688299j,\n",
       "          1.80412089e-05-0.0748463j ,  1.80412089e-05+0.0748463j ],\n",
       "        [ 9.91024875e-01+0.j        ,  9.91024875e-01-0.j        ,\n",
       "          9.40440916e-01+0.j        ,  9.40440916e-01-0.j        ],\n",
       "        [-3.84874707e-03+0.00810267j, -3.84874707e-03-0.00810267j,\n",
       "          8.43329500e-03+0.02492063j,  8.43329500e-03-0.02492063j],\n",
       "        [-6.67232422e-02-0.06881763j, -6.67232422e-02+0.06881763j,\n",
       "         -3.13101232e-01+0.1060395j , -3.13101232e-01-0.1060395j ]]))"
      ]
     },
     "execution_count": 114,
     "metadata": {},
     "output_type": "execute_result"
    }
   ],
   "source": [
    "jac = eqs.jacobian(p.x)\n",
    "\n",
    "jac = msub(jac,p.q[0],lp[0],2)\n",
    "jac = msub(jac,p.q[1],lp[2],2)\n",
    "\n",
    "jac = msub(jac,p.qd[0],lp[1],1)\n",
    "jac = msub(jac,p.qd[1],lp[3],1)\n",
    "jac\n",
    "\n",
    "\n",
    "func = sym.lambdify((p.V),jac)\n",
    "np.linalg.eig(func(44))"
   ]
  },
  {
   "cell_type": "code",
   "execution_count": 115,
   "metadata": {},
   "outputs": [
    {
     "data": {
      "text/latex": [
       "$\\displaystyle \\left[\\begin{matrix}- 0.0519316151104491 V^{2} + 0.453384952175042 V\\\\16.0 \\pi^{2} q_{1} + 0.740220330081702\\end{matrix}\\right]$"
      ],
      "text/plain": [
       "⎡                      2                      ⎤\n",
       "⎢- 0.0519316151104491⋅V  + 0.453384952175042⋅V⎥\n",
       "⎢                                             ⎥\n",
       "⎢             2                               ⎥\n",
       "⎣       16.0⋅π ⋅q₁ + 0.740220330081702        ⎦"
      ]
     },
     "execution_count": 115,
     "metadata": {},
     "output_type": "execute_result"
    }
   ],
   "source": [
    "\n",
    "lin_eq"
   ]
  },
  {
   "cell_type": "code",
   "execution_count": 117,
   "metadata": {},
   "outputs": [
    {
     "ename": "AttributeError",
     "evalue": "'SimpleAeroModel' object has no attribute 'SetFuncs'",
     "output_type": "error",
     "traceback": [
      "\u001b[1;31m---------------------------------------------------------------------------\u001b[0m",
      "\u001b[1;31mAttributeError\u001b[0m                            Traceback (most recent call last)",
      "\u001b[1;32m<ipython-input-117-3a742cf0c21c>\u001b[0m in \u001b[0;36m<module>\u001b[1;34m\u001b[0m\n\u001b[0;32m     10\u001b[0m     \u001b[1;31m#return np.deg2rad(5)+np.sin(2*np.pi*1*t)*np.deg2rad(5)\u001b[0m\u001b[1;33m\u001b[0m\u001b[1;33m\u001b[0m\u001b[1;33m\u001b[0m\u001b[0m\n\u001b[0;32m     11\u001b[0m \u001b[1;33m\u001b[0m\u001b[0m\n\u001b[1;32m---> 12\u001b[1;33m \u001b[0mAeroForces\u001b[0m\u001b[1;33m.\u001b[0m\u001b[0mSetFuncs\u001b[0m\u001b[1;33m(\u001b[0m\u001b[0mp\u001b[0m\u001b[1;33m,\u001b[0m\u001b[0mVfunc\u001b[0m\u001b[1;33m,\u001b[0m\u001b[0marfunc\u001b[0m\u001b[1;33m)\u001b[0m\u001b[1;33m\u001b[0m\u001b[1;33m\u001b[0m\u001b[0m\n\u001b[0m\u001b[0;32m     13\u001b[0m \u001b[1;33m\u001b[0m\u001b[0m\n\u001b[0;32m     14\u001b[0m \u001b[0my0\u001b[0m \u001b[1;33m=\u001b[0m \u001b[1;33m[\u001b[0m\u001b[1;36m0\u001b[0m\u001b[1;33m,\u001b[0m\u001b[1;36m0\u001b[0m\u001b[1;33m,\u001b[0m\u001b[1;33m-\u001b[0m\u001b[1;36m0.05\u001b[0m\u001b[1;33m,\u001b[0m\u001b[1;36m0\u001b[0m\u001b[1;33m]\u001b[0m\u001b[1;33m\u001b[0m\u001b[1;33m\u001b[0m\u001b[0m\n",
      "\u001b[1;31mAttributeError\u001b[0m: 'SimpleAeroModel' object has no attribute 'SetFuncs'"
     ]
    }
   ],
   "source": [
    "tmax, dt = 5, 0.01\n",
    "# Initial conditions: theta, dtheta/dt, L, dL/dt\n",
    "\n",
    "#set velocity and alpha_r funcs\n",
    "def Vfunc(t):\n",
    "    return 24\n",
    "\n",
    "def arfunc(t):\n",
    "    return np.deg2rad(5)\n",
    "    #return np.deg2rad(5)+np.sin(2*np.pi*1*t)*np.deg2rad(5)\n",
    "\n",
    "AeroForces.SetFuncs(p,Vfunc,arfunc)\n",
    "\n",
    "y0 = [0,0,-0.05,0]\n",
    "#y0 = [1.5,0,0.02,0]\n",
    "yData = solve_ivp(lambda t,y:sm.deriv(t,y,p),(0,tmax),y0,max_step=dt)\n",
    "\n",
    "# interpolate data onto a uniform time grid\n",
    "t = np.arange(0, tmax+dt, 0.01)\n",
    "yi = np.zeros((len(t),len(y0)+2)).T\n",
    "for i in range(0,len(y0)):\n",
    "    yi[i] = np.interp(t,yData.t,yData.y[i])\n",
    "for i in range(0,2):\n",
    "    yd = sm.deriv(0,yi[:4,:],p)\n",
    "    yi[i+4,:] = yd[1]\n",
    "    yi[i+4,:] = yd[3]\n",
    "\n",
    "plt.style.use('seaborn-white')\n",
    "    \n",
    "fig, axes = plt.subplots(3,2,figsize=(15,5))\n",
    "\n",
    "# d plot\n",
    "axes[0][0].plot(t,yi[2])\n",
    "axes[0][0].set_ylabel('d [m]')\n",
    "axes[0][0].set_xlabel('t [s]')\n",
    "\n",
    "# theta plot\n",
    "axes[0][1].plot(t,yi[0])\n",
    "axes[0][1].set_ylabel('$\\theta$ [rad]')\n",
    "axes[0][1].set_xlabel('t [s]')\n",
    "\n",
    "\n",
    "# ddot plot\n",
    "axes[1][0].plot(t,yi[3])\n",
    "axes[1][0].set_ylabel('$\\dot{d}$ [m/s]')\n",
    "axes[1][0].set_xlabel('t [s]')\n",
    "\n",
    "# thetadot plot\n",
    "axes[1][1].plot(t,yi[1])\n",
    "axes[1][1].set_ylabel(r'$\\dot{\\theta}$ [rad/s]')\n",
    "axes[1][1].set_xlabel('t [s]')\n",
    "\n",
    "# ddot plot\n",
    "axes[2][0].plot(t,yi[4])\n",
    "axes[2][0].set_ylabel('$\\ddot{d}$ [m/s]')\n",
    "axes[2][0].set_xlabel('t [s]')\n",
    "\n",
    "# thetadot plot\n",
    "axes[2][1].plot(t,yi[5])\n",
    "axes[2][1].set_ylabel(r'$\\ddot{\\theta}$ [rad/s]')\n",
    "axes[2][1].set_xlabel('t [s]')"
   ]
  },
  {
   "cell_type": "code",
   "execution_count": null,
   "metadata": {},
   "outputs": [],
   "source": [
    "plt.style.use('seaborn-whitegrid')\n",
    "plt.style.use(r'C:\\Users\\qe19391\\OneDrive - University of Bristol\\Documents\\Projects\\FWTD modelling\\Styles\\presentation.mplstyle')\n",
    "   \n",
    "fig, axes = plt.subplots(3,1,figsize=(15,12))\n",
    "#fig.tight_layout()\n",
    "# d plot\n",
    "axes[0].plot(t,yi[2])\n",
    "axes[0].set_ylabel('d [m]')\n",
    "axes[0].set_xlabel('t [s]')\n",
    "\n",
    "# theta plot\n",
    "axes[1].plot(t,yi[0])\n",
    "axes[1].set_ylabel(r'$\\theta$ [rad]')\n",
    "axes[1].set_xlabel('t [s]')\n",
    "\n",
    "# energy\n",
    "qs,qds = sm._getStates(yi)\n",
    "tup = p.GetNumericTuple()\n",
    "vs = Vfunc(t)\n",
    "ars = arfunc(t)\n",
    "\n",
    "alphas = AeroForces.GetAlpha(p,qs,qds,1,t)\n",
    "\n",
    "l1, = axes[2].plot(t,np.rad2deg(AeroForces.GetAlpha(p,qs,qds,1,t)))\n",
    "l2, = axes[2].plot(t,np.rad2deg(AeroForces.GetAlpha(p,qs,qds,0.5,t)))\n",
    "l3, = axes[2].plot(t,np.rad2deg(AeroForces.GetAlpha(p,qs,qds,0,t)))\n",
    "l4, = axes[2].plot(t,np.rad2deg(AeroForces.GetAlpha(p,qs,[0,0],0,t)))\n",
    "l1.set_label('Tip')\n",
    "l2.set_label('Mid-span')\n",
    "l3.set_label('Root')\n",
    "l4.set_label('Geometric')\n",
    "axes[2].legend()\n",
    "axes[2].set_ylabel(r'$\\alpha_h(y_t)$')\n",
    "axes[2].set_xlabel('t [s]')\n",
    "#axes[3][0].set_ylim(0.5,1.5)\n",
    "PhotoDir = r'C:\\Users\\qe19391\\OneDrive - University of Bristol\\Documents\\Projects\\FWTD modelling\\Videos & Photos'+'\\\\'\n",
    "plt.savefig(PhotoDir + r'ModelStates.png',transparent=True,bbox_inches='tight')"
   ]
  },
  {
   "cell_type": "code",
   "execution_count": null,
   "metadata": {},
   "outputs": [],
   "source": [
    "import matplotlib.animation as animation\n",
    "from IPython.display import HTML\n",
    "\n",
    "plt.rcParams['animation.ffmpeg_path'] = r'C:\\Users\\qe19391\\OneDrive - University of Bristol\\Documents\\Programs\\ffmpeg-20200211-f15007a\\bin\\ffmpeg.exe'\n",
    "\n",
    "spring_size = 0.5\n",
    "fig = plt.figure()\n",
    "ax = plt.axes(xlim=(-1.2,1.2),ylim=(-1.2,1.2))\n",
    "ax.axis('equal')\n",
    "ax.set()\n",
    "fwt, = ax.plot([],[],'ro-')\n",
    "spring = cpo.Spring.FromLengthAndAngle(np.pi/2,p.s.value,ax = ax)\n",
    "\n",
    "# initialization function \n",
    "def init(): \n",
    "    # creating an empty plot/frame \n",
    "    spring.ReplotSpring((0,0),np.pi,1+y0[2])\n",
    "    fwt.set_data([0,p.s.value],[1,1])\n",
    "    return spring.springObj,fwt\n",
    "                    \n",
    "def animate(i):\n",
    "    theta = yi[0,i]\n",
    "    d = yi[2,i]\n",
    "    spring.ReplotSpring((0,0),np.pi,d+spring_size)\n",
    "    fwt.set_data([0,p.s.value*np.sin(theta)],[d+spring_size,-p.s.value*np.cos(theta)+d+spring_size])\n",
    "    return spring.springObj,\n",
    "\n",
    "plt.axis('off')    \n",
    "anim = animation.FuncAnimation(fig, animate, init_func=init, frames=len(t), interval=20, blit=True)\n",
    "#anim.save(f'basic_animation_{test_case+1}.mp4', fps=30)\n",
    "HTML(anim.to_html5_video())"
   ]
  },
  {
   "cell_type": "code",
   "execution_count": 21,
   "metadata": {},
   "outputs": [
    {
     "data": {
      "text/latex": [
       "$\\displaystyle \\left[\\begin{matrix}\\frac{m_{w} s \\left(3 g \\operatorname{sin}\\left(q_{0}\\right) + 2 s \\ddot{q}_{0} + 3 \\operatorname{sin}\\left(q_{0}\\right) \\ddot{q}_{1}\\right)}{24} - f_{0}\\\\\\frac{m_{w} \\left(s \\operatorname{sin}\\left(q_{0}\\right) \\ddot{q}_{0} + s \\operatorname{cos}\\left(q_{0}\\right) \\dot{q}_{0}^{2} + 160.0 \\pi^{2} q_{1} + 10 \\ddot{q}_{1}\\right)}{8} - f_{1}\\end{matrix}\\right]$"
      ],
      "text/plain": [
       "⎡      m_w⋅s⋅(3⋅g⋅sin(q₀) + 2⋅s⋅q₀̈ + 3⋅sin(q₀)⋅q₁̈)            ⎤\n",
       "⎢      ─────────────────────────────────────────── - f₀       ⎥\n",
       "⎢                           24                                ⎥\n",
       "⎢                                                             ⎥\n",
       "⎢    ⎛                           2          2           ⎞     ⎥\n",
       "⎢m_w⋅⎝s⋅sin(q₀)⋅q₀̈ + s⋅cos(q₀)⋅q₀̇  + 160.0⋅π ⋅q₁ + 10⋅q₁̈⎠     ⎥\n",
       "⎢──────────────────────────────────────────────────────── - f₁⎥\n",
       "⎣                           8                                 ⎦"
      ]
     },
     "execution_count": 21,
     "metadata": {},
     "output_type": "execute_result"
    }
   ],
   "source": [
    "sm.EoM"
   ]
  },
  {
   "cell_type": "code",
   "execution_count": 22,
   "metadata": {},
   "outputs": [
    {
     "data": {
      "text/latex": [
       "$\\displaystyle \\left[\\begin{matrix}\\frac{s^{3} \\left(a_{t} c \\rho V_{t} \\operatorname{sin}^{2}\\left(q_{0}\\right) \\dot{q}_{0} + a_{t} c \\rho V_{t} \\operatorname{cos}^{2}\\left(q_{0}\\right) \\dot{q}_{0}\\right)}{8} + s^{2} \\left(- \\frac{a_{t} c \\rho V^{2}_{t} \\operatorname{sin}^{2}\\left(q_{0}\\right) \\operatorname{atan}\\left(\\frac{\\alpha_{r} \\operatorname{sin}\\left(q_{0}\\right)}{- \\alpha_{r} \\operatorname{sin}\\left(\\Lambda\\right) \\operatorname{cos}\\left(q_{0}\\right) - \\operatorname{sin}^{2}\\left(\\Lambda\\right) \\operatorname{sin}\\left(q_{0}\\right) + \\operatorname{sin}^{2}\\left(\\Lambda\\right) - 1} - \\frac{\\operatorname{sin}\\left(\\Lambda\\right) \\operatorname{cos}\\left(q_{0}\\right)}{- \\alpha_{r} \\operatorname{sin}\\left(\\Lambda\\right) \\operatorname{cos}\\left(q_{0}\\right) - \\operatorname{sin}^{2}\\left(\\Lambda\\right) \\operatorname{sin}\\left(q_{0}\\right) + \\operatorname{sin}^{2}\\left(\\Lambda\\right) - 1}\\right)}{4} - \\frac{a_{t} c \\rho V^{2}_{t} \\operatorname{cos}^{2}\\left(q_{0}\\right) \\operatorname{atan}\\left(\\frac{\\alpha_{r} \\operatorname{sin}\\left(q_{0}\\right)}{- \\alpha_{r} \\operatorname{sin}\\left(\\Lambda\\right) \\operatorname{cos}\\left(q_{0}\\right) - \\operatorname{sin}^{2}\\left(\\Lambda\\right) \\operatorname{sin}\\left(q_{0}\\right) + \\operatorname{sin}^{2}\\left(\\Lambda\\right) - 1} - \\frac{\\operatorname{sin}\\left(\\Lambda\\right) \\operatorname{cos}\\left(q_{0}\\right)}{- \\alpha_{r} \\operatorname{sin}\\left(\\Lambda\\right) \\operatorname{cos}\\left(q_{0}\\right) - \\operatorname{sin}^{2}\\left(\\Lambda\\right) \\operatorname{sin}\\left(q_{0}\\right) + \\operatorname{sin}^{2}\\left(\\Lambda\\right) - 1}\\right)}{4} - \\frac{a_{t} c \\rho V_{t} \\operatorname{sin}^{3}\\left(q_{0}\\right) \\dot{q}_{1}}{4} - \\frac{a_{t} c \\rho V_{t} \\operatorname{sin}\\left(q_{0}\\right) \\operatorname{cos}^{2}\\left(q_{0}\\right) \\dot{q}_{1}}{4}\\right) - \\frac{s^{2} \\left(a_{t} c \\rho s V_{t} \\operatorname{sin}^{2}\\left(q_{0}\\right) \\dot{q}_{0} + a_{t} c \\rho s V_{t} \\operatorname{cos}^{2}\\left(q_{0}\\right) \\dot{q}_{0} - a_{t} c \\rho V^{2}_{t} \\operatorname{sin}^{2}\\left(q_{0}\\right) \\operatorname{atan}\\left(\\frac{\\alpha_{r} \\operatorname{sin}\\left(q_{0}\\right)}{- \\alpha_{r} \\operatorname{sin}\\left(\\Lambda\\right) \\operatorname{cos}\\left(q_{0}\\right) - \\operatorname{sin}^{2}\\left(\\Lambda\\right) \\operatorname{sin}\\left(q_{0}\\right) + \\operatorname{sin}^{2}\\left(\\Lambda\\right) - 1} - \\frac{\\operatorname{sin}\\left(\\Lambda\\right) \\operatorname{cos}\\left(q_{0}\\right)}{- \\alpha_{r} \\operatorname{sin}\\left(\\Lambda\\right) \\operatorname{cos}\\left(q_{0}\\right) - \\operatorname{sin}^{2}\\left(\\Lambda\\right) \\operatorname{sin}\\left(q_{0}\\right) + \\operatorname{sin}^{2}\\left(\\Lambda\\right) - 1}\\right) - a_{t} c \\rho V^{2}_{t} \\operatorname{cos}^{2}\\left(q_{0}\\right) \\operatorname{atan}\\left(\\frac{\\alpha_{r} \\operatorname{sin}\\left(q_{0}\\right)}{- \\alpha_{r} \\operatorname{sin}\\left(\\Lambda\\right) \\operatorname{cos}\\left(q_{0}\\right) - \\operatorname{sin}^{2}\\left(\\Lambda\\right) \\operatorname{sin}\\left(q_{0}\\right) + \\operatorname{sin}^{2}\\left(\\Lambda\\right) - 1} - \\frac{\\operatorname{sin}\\left(\\Lambda\\right) \\operatorname{cos}\\left(q_{0}\\right)}{- \\alpha_{r} \\operatorname{sin}\\left(\\Lambda\\right) \\operatorname{cos}\\left(q_{0}\\right) - \\operatorname{sin}^{2}\\left(\\Lambda\\right) \\operatorname{sin}\\left(q_{0}\\right) + \\operatorname{sin}^{2}\\left(\\Lambda\\right) - 1}\\right) - a_{t} c \\rho V_{t} \\operatorname{sin}^{3}\\left(q_{0}\\right) \\dot{q}_{1} - a_{t} c \\rho V_{t} \\operatorname{sin}\\left(q_{0}\\right) \\operatorname{cos}^{2}\\left(q_{0}\\right) \\dot{q}_{1}\\right)}{6}\\\\\\frac{a_{t} c \\rho s^{2} V_{t} \\operatorname{sin}\\left(q_{0}\\right) \\dot{q}_{0}}{6} + s \\left(- \\frac{a_{t} c \\rho V^{2}_{t} \\operatorname{sin}\\left(q_{0}\\right) \\operatorname{atan}\\left(\\frac{\\alpha_{r} \\operatorname{sin}\\left(q_{0}\\right)}{- \\alpha_{r} \\operatorname{sin}\\left(\\Lambda\\right) \\operatorname{cos}\\left(q_{0}\\right) - \\operatorname{sin}^{2}\\left(\\Lambda\\right) \\operatorname{sin}\\left(q_{0}\\right) + \\operatorname{sin}^{2}\\left(\\Lambda\\right) - 1} - \\frac{\\operatorname{sin}\\left(\\Lambda\\right) \\operatorname{cos}\\left(q_{0}\\right)}{- \\alpha_{r} \\operatorname{sin}\\left(\\Lambda\\right) \\operatorname{cos}\\left(q_{0}\\right) - \\operatorname{sin}^{2}\\left(\\Lambda\\right) \\operatorname{sin}\\left(q_{0}\\right) + \\operatorname{sin}^{2}\\left(\\Lambda\\right) - 1}\\right)}{2} - \\frac{a_{t} c \\rho V_{t} \\operatorname{sin}^{2}\\left(q_{0}\\right) \\dot{q}_{1}}{2}\\right) - \\frac{s \\left(a_{t} c \\rho s V_{t} \\operatorname{sin}\\left(q_{0}\\right) \\dot{q}_{0} - a_{t} c \\rho V^{2}_{t} \\operatorname{sin}\\left(q_{0}\\right) \\operatorname{atan}\\left(\\frac{\\alpha_{r} \\operatorname{sin}\\left(q_{0}\\right)}{- \\alpha_{r} \\operatorname{sin}\\left(\\Lambda\\right) \\operatorname{cos}\\left(q_{0}\\right) - \\operatorname{sin}^{2}\\left(\\Lambda\\right) \\operatorname{sin}\\left(q_{0}\\right) + \\operatorname{sin}^{2}\\left(\\Lambda\\right) - 1} - \\frac{\\operatorname{sin}\\left(\\Lambda\\right) \\operatorname{cos}\\left(q_{0}\\right)}{- \\alpha_{r} \\operatorname{sin}\\left(\\Lambda\\right) \\operatorname{cos}\\left(q_{0}\\right) - \\operatorname{sin}^{2}\\left(\\Lambda\\right) \\operatorname{sin}\\left(q_{0}\\right) + \\operatorname{sin}^{2}\\left(\\Lambda\\right) - 1}\\right) - a_{t} c \\rho V_{t} \\operatorname{sin}^{2}\\left(q_{0}\\right) \\dot{q}_{1}\\right)}{4}\\end{matrix}\\right]$"
      ],
      "text/plain": [
       "⎡                                                        ⎛           2    2   \n",
       "⎢                                                        ⎜  aₜ⋅c⋅ρ⋅Vₜ ⋅sin (q₀\n",
       "⎢ 3 ⎛             2                       2       ⎞      ⎜                    \n",
       "⎢s ⋅⎝aₜ⋅c⋅ρ⋅Vₜ⋅sin (q₀)⋅q₀̇ + aₜ⋅c⋅ρ⋅Vₜ⋅cos (q₀)⋅q₀̇⎠    2 ⎜                  \n",
       "⎢────────────────────────────────────────────────── + s ⋅⎜- ──────────────────\n",
       "⎢                        8                               ⎝                    \n",
       "⎢                                                                             \n",
       "⎢                                                                             \n",
       "⎢                                                                             \n",
       "⎢                                                                             \n",
       "⎢                                                                             \n",
       "⎢                                                                             \n",
       "⎣                                                                             \n",
       "\n",
       "      ⎛                    αᵣ⋅sin(q₀)                                         \n",
       ")⋅atan⎜────────────────────────────────────────────────── - ──────────────────\n",
       "      ⎜                        2                 2                            \n",
       "        ⎝-αᵣ⋅sin(Λ)⋅cos(q₀) - sin (Λ)⋅sin(q₀) + sin (Λ) - 1   -αᵣ⋅sin(Λ)⋅cos(q\n",
       "──────────────────────────────────────────────────────────────────────────────\n",
       "                                              4                               \n",
       "                                                                              \n",
       "                                                                              \n",
       "                                                                              \n",
       "                                                                              \n",
       "                                                                              \n",
       "                                                                              \n",
       "                                                                              \n",
       "\n",
       "sin(Λ)⋅cos(q₀)                  ⎞            2    2         ⎛                 \n",
       "────────────────────────────────⎟   aₜ⋅c⋅ρ⋅Vₜ ⋅cos (q₀)⋅atan⎜─────────────────\n",
       "      2                 2       ⎟                           ⎜                 \n",
       "₀) - sin (Λ)⋅sin(q₀) + sin (Λ) - 1⎠                           ⎝-αᵣ⋅sin(Λ)⋅cos(\n",
       "───────────────────────────────── - ──────────────────────────────────────────\n",
       "                                                                              \n",
       "                                                                              \n",
       "                                                                  ⎛           \n",
       "                                                                  ⎜  aₜ⋅c⋅ρ⋅Vₜ\n",
       "                                              2                   ⎜           \n",
       "                                      aₜ⋅c⋅ρ⋅s ⋅Vₜ⋅sin(q₀)⋅q₀̇     ⎜          \n",
       "                                      ─────────────────────── + s⋅⎜- ─────────\n",
       "                                                 6                ⎝           \n",
       "\n",
       "   αᵣ⋅sin(q₀)                                         sin(Λ)⋅cos(q₀)          \n",
       "───────────────────────────────── - ──────────────────────────────────────────\n",
       "       2                 2                                  2                 \n",
       "q₀) - sin (Λ)⋅sin(q₀) + sin (Λ) - 1   -αᵣ⋅sin(Λ)⋅cos(q₀) - sin (Λ)⋅sin(q₀) + s\n",
       "──────────────────────────────────────────────────────────────────────────────\n",
       "                      4                                                       \n",
       "                                                                              \n",
       "2             ⎛                    αᵣ⋅sin(q₀)                                 \n",
       " ⋅sin(q₀)⋅atan⎜────────────────────────────────────────────────── - ──────────\n",
       "              ⎜                        2                 2                    \n",
       "               ⎝-αᵣ⋅sin(Λ)⋅cos(q₀) - sin (Λ)⋅sin(q₀) + sin (Λ) - 1   -αᵣ⋅sin(Λ\n",
       "──────────────────────────────────────────────────────────────────────────────\n",
       "                                                      2                       \n",
       "\n",
       "        ⎞                                                        ⎞    2 ⎛     \n",
       "────────⎟                                                        ⎟   s ⋅⎜aₜ⋅c⋅\n",
       "2       ⎟                3                               2       ⎟      ⎜     \n",
       "in (Λ) - 1⎠   aₜ⋅c⋅ρ⋅Vₜ⋅sin (q₀)⋅q₁̇   aₜ⋅c⋅ρ⋅Vₜ⋅sin(q₀)⋅cos (q₀)⋅q₁̇⎟      ⎝ \n",
       "───────── - ───────────────────── - ─────────────────────────────⎟ - ─────────\n",
       "                      4                           4              ⎠            \n",
       "                                                                              \n",
       "        sin(Λ)⋅cos(q₀)                  ⎞                        ⎞     ⎛      \n",
       "────────────────────────────────────────⎟                        ⎟   s⋅⎜aₜ⋅c⋅ρ\n",
       "              2                 2       ⎟                2       ⎟     ⎜      \n",
       ")⋅cos(q₀) - sin (Λ)⋅sin(q₀) + sin (Λ) - 1⎠   aₜ⋅c⋅ρ⋅Vₜ⋅sin (q₀)⋅q₁̇⎟     ⎝    \n",
       "───────────────────────────────────────── - ─────────────────────⎟ - ─────────\n",
       "                                                      2          ⎠            \n",
       "\n",
       "          2                         2                   2    2         ⎛      \n",
       "ρ⋅s⋅Vₜ⋅sin (q₀)⋅q₀̇ + aₜ⋅c⋅ρ⋅s⋅Vₜ⋅cos (q₀)⋅q₀̇ - aₜ⋅c⋅ρ⋅Vₜ ⋅sin (q₀)⋅atan⎜────\n",
       "                                                                       ⎜      \n",
       "                                                                           ⎝-α\n",
       "──────────────────────────────────────────────────────────────────────────────\n",
       "                                                                              \n",
       "                                                                              \n",
       "                            2             ⎛                    αᵣ⋅sin(q₀)     \n",
       "⋅s⋅Vₜ⋅sin(q₀)⋅q₀̇ - aₜ⋅c⋅ρ⋅Vₜ ⋅sin(q₀)⋅atan⎜──────────────────────────────────\n",
       "                                          ⎜                        2          \n",
       "                                            ⎝-αᵣ⋅sin(Λ)⋅cos(q₀) - sin (Λ)⋅sin(\n",
       "──────────────────────────────────────────────────────────────────────────────\n",
       "                                                                              \n",
       "\n",
       "              αᵣ⋅sin(q₀)                                         sin(Λ)⋅cos(q₀\n",
       "────────────────────────────────────────────── - ─────────────────────────────\n",
       "                  2                 2                                  2      \n",
       "ᵣ⋅sin(Λ)⋅cos(q₀) - sin (Λ)⋅sin(q₀) + sin (Λ) - 1   -αᵣ⋅sin(Λ)⋅cos(q₀) - sin (Λ\n",
       "──────────────────────────────────────────────────────────────────────────────\n",
       "                                                                              \n",
       "                                                                              \n",
       "                                    sin(Λ)⋅cos(q₀)                  ⎞         \n",
       "──────────────── - ──────────────────────────────────────────────────⎟ - aₜ⋅c⋅\n",
       "       2                                  2                 2       ⎟         \n",
       "q₀) + sin (Λ) - 1   -αᵣ⋅sin(Λ)⋅cos(q₀) - sin (Λ)⋅sin(q₀) + sin (Λ) - 1⎠       \n",
       "──────────────────────────────────────────────────────────────────────────────\n",
       "   4                                                                          \n",
       "\n",
       ")                  ⎞            2    2         ⎛                    αᵣ⋅sin(q₀)\n",
       "─────────────────────⎟ - aₜ⋅c⋅ρ⋅Vₜ ⋅cos (q₀)⋅atan⎜────────────────────────────\n",
       "           2       ⎟                           ⎜                        2     \n",
       ")⋅sin(q₀) + sin (Λ) - 1⎠                           ⎝-αᵣ⋅sin(Λ)⋅cos(q₀) - sin (\n",
       "──────────────────────────────────────────────────────────────────────────────\n",
       "                     6                                                        \n",
       "                                                                              \n",
       "       2       ⎞                                                              \n",
       "ρ⋅Vₜ⋅sin (q₀)⋅q₁̇⎟                                                            \n",
       "               ⎟                                                              \n",
       "                 ⎠                                                            \n",
       "────────────────                                                              \n",
       "                                                                              \n",
       "\n",
       "                                         sin(Λ)⋅cos(q₀)                  ⎞    \n",
       "────────────────────── - ──────────────────────────────────────────────────⎟ -\n",
       "            2                                  2                 2       ⎟    \n",
       "Λ)⋅sin(q₀) + sin (Λ) - 1   -αᵣ⋅sin(Λ)⋅cos(q₀) - sin (Λ)⋅sin(q₀) + sin (Λ) - 1⎠\n",
       "──────────────────────────────────────────────────────────────────────────────\n",
       "                                                                              \n",
       "                                                                              \n",
       "                                                                              \n",
       "                                                                              \n",
       "                                                                              \n",
       "                                                                              \n",
       "                                                                              \n",
       "                                                                              \n",
       "\n",
       "            3                               2       ⎞⎤\n",
       " aₜ⋅c⋅ρ⋅Vₜ⋅sin (q₀)⋅q₁̇ - aₜ⋅c⋅ρ⋅Vₜ⋅sin(q₀)⋅cos (q₀)⋅q₁̇⎟⎥\n",
       "                                                    ⎟⎥\n",
       "                                                        ⎠⎥\n",
       "─────────────────────────────────────────────────────⎥\n",
       "                                                     ⎥\n",
       "                                                     ⎥\n",
       "                                                     ⎥\n",
       "                                                       ⎥\n",
       "                                                     ⎥\n",
       "                                                       ⎥\n",
       "                                                     ⎥\n",
       "                                                     ⎦"
      ]
     },
     "execution_count": 22,
     "metadata": {},
     "output_type": "execute_result"
    }
   ],
   "source": [
    "AeroForces.Q"
   ]
  },
  {
   "cell_type": "code",
   "execution_count": null,
   "metadata": {},
   "outputs": [],
   "source": []
  }
 ],
 "metadata": {
  "kernelspec": {
   "display_name": "Python 3.7.6 64-bit ('Continuum': virtualenv)",
   "language": "python",
   "name": "python37664bitcontinuumvirtualenv2b38efbc82644feab3bee4169708de0f"
  },
  "language_info": {
   "codemirror_mode": {
    "name": "ipython",
    "version": 3
   },
   "file_extension": ".py",
   "mimetype": "text/x-python",
   "name": "python",
   "nbconvert_exporter": "python",
   "pygments_lexer": "ipython3",
   "version": "3.7.6"
  }
 },
 "nbformat": 4,
 "nbformat_minor": 2
}
