{
 "cells": [
  {
   "cell_type": "code",
   "execution_count": 1,
   "metadata": {},
   "outputs": [],
   "source": [
    "import sympy as sym\n",
    "import sympy.physics.mechanics as me\n",
    "import pandas as pd\n",
    "import seaborn as sns\n",
    "\n",
    "import numpy as np\n",
    "from scipy.integrate import odeint,LSODA,BDF,solve_ivp\n",
    "import matplotlib.pyplot as plt\n",
    "\n",
    "import sys, os\n",
    "\n",
    "sys.path.insert(1, os.path.join(sys.path[0], '..\\..'))\n",
    "import sympyTransforms as symt\n",
    "import custom_plot_objects as cpo\n",
    "import FwtModels.dof2 as dof2\n",
    "import FwtModels.AeroModels as ams"
   ]
  },
  {
   "cell_type": "markdown",
   "metadata": {},
   "source": [
    "### Define the problem"
   ]
  },
  {
   "cell_type": "code",
   "execution_count": 2,
   "metadata": {},
   "outputs": [],
   "source": [
    "# want to create a model with some fixed parameters\n",
    "\n",
    "# create the variables\n",
    "p = dof2.FwtParameters.Default2DoF() # parameter container\n",
    "\n",
    "mass_ratio = 4                    # mass ratio between wing and FWT\n",
    "p.m_w = dof2.FwtVariable(4,'m_w')   # mass of inner wing\n",
    "wing_freq = 2                       # freq of inner wing\n",
    "\n",
    "# set values for independent symbols\n",
    "p.s.value = 1\n",
    "p.c.value = 0.15\n",
    "p.g.value = 9.81\n",
    "p.rho.value = 1.225\n",
    "p.a_t.value = 2 * np.pi\n",
    "p.alpha_r.value = np.deg2rad(5)\n",
    "p.Lambda.value = np.deg2rad(10)\n",
    "\n",
    "# set expression for dependent symbols\n",
    "p.k = (sym.Integer(wing_freq)*2*sym.pi)**2*(p.m_w+p.m_w/sym.Float(mass_ratio))\n",
    "p.m = p.m_w/sym.Integer(mass_ratio)\n",
    "p.I_xx = sym.Rational(1,12)*p.m*p.s**2*1\n",
    "p.l = p.s*sym.Rational(2,4)\n",
    "\n",
    "# potential Energy\n",
    "half = sym.Rational(1,2)\n",
    "U = p.m*p.g*(-p.l*sym.sin(p.q[0])) + half*p.k*(p.q[1])**2\n",
    "\n",
    "# Create Point masses\n",
    "\n",
    "# Transform for the mass\n",
    "wing_frame = symt.HomogenousTransform().Translate(0,0,p.q[1])\n",
    "fwt_frame = wing_frame.R_x(p.q[0])\n",
    "fwt_com_frame = fwt_frame.Translate(0,p.l,0)\n",
    "rot = sym.Matrix([p.q[0],0,0])\n",
    "\n",
    "\n",
    "mw = dof2.RigidElement.PointMass(wing_frame,sym.Matrix([0,0,0]),p.m_w)\n",
    "\n",
    "\n",
    "M_fwt = dof2.MassMatrix(p.m,I_xx = p.I_xx)\n",
    "\n",
    "m = dof2.RigidElement(fwt_com_frame,rot,M_fwt)\n",
    "\n",
    "\n",
    "# Aero Forces\n",
    "AeroForces = ams.SimpleAeroModel(p,fwt_frame,at_mode=1)\n",
    "me.mechanics_printing()\n",
    "\n",
    "\n",
    "sm = dof2.SymbolicModel(U,[mw,m],p,ExtForces = AeroForces)"
   ]
  },
  {
   "cell_type": "markdown",
   "metadata": {},
   "source": [
    "### Determine the fixed points of this system"
   ]
  },
  {
   "cell_type": "code",
   "execution_count": null,
   "metadata": {},
   "outputs": [],
   "source": [
    "#make alternative dataset\n",
    "from scipy.optimize import minimize\n",
    "vs = np.linspace(0,80,101)\n",
    "aoa = [0,2.5,5,7.5,10]\n",
    "\n",
    "df = pd.DataFrame(columns=['v','aoa','eta','q1'])\n",
    "\n",
    "def ToMinimise(x):\n",
    "    val = sm.deriv(0,[x[0],0,x[1],0],p)\n",
    "    return val[1]**2 + val[3]**2\n",
    "    \n",
    "\n",
    "for i in aoa:\n",
    "    p.alpha_r.value = np.deg2rad(i)    \n",
    "    guess = [0,0]\n",
    "    for v in vs:\n",
    "        p.V.value = v\n",
    "        guess = minimize(ToMinimise,guess).x\n",
    "        df = df.append({'aoa' : i, 'v' : v,'eta':guess[0],'q1':guess[1]} , ignore_index=True)\n",
    "\n",
    "df[r'$\\eta [Deg]$']= np.rad2deg(df['eta'])"
   ]
  },
  {
   "cell_type": "code",
   "execution_count": null,
   "metadata": {},
   "outputs": [],
   "source": [
    "# plot the data\n",
    "fig, axes = plt.subplots(2,1,figsize=(15,12))\n",
    "df[r'$\\eta [Deg]$']= np.rad2deg(df['eta'])\n",
    "sns.lineplot(data=df,y=r'$\\eta [Deg]$',x='v',style='aoa',ax=axes[0])\n",
    "axes[0].set(xlim=(0,80))\n",
    "\n",
    "sns.lineplot(data=df,y='q1',x='v',style='aoa',ax=axes[1])\n",
    "\n",
    "for ax in axes:\n",
    "    ax.set(xlim=(0,80))\n",
    "    ax.grid(b=True, which='major', color='#666666', linestyle='-')\n",
    "    ax.minorticks_on()\n",
    "    ax.grid(b=True, which='minor', color='#999999', linestyle='-', alpha=0.2)"
   ]
  },
  {
   "cell_type": "markdown",
   "metadata": {},
   "source": [
    "### Linearise the system about some fixed points"
   ]
  },
  {
   "cell_type": "code",
   "execution_count": null,
   "metadata": {},
   "outputs": [],
   "source": [
    "# create complete EoM\n",
    "func = dof2.LinearEoM_func(sm,p,AeroForces,ignore=[p.V,p.alpha_r])"
   ]
  },
  {
   "cell_type": "code",
   "execution_count": null,
   "metadata": {},
   "outputs": [],
   "source": [
    "dat = df\n",
    "\n",
    "flutdfv2 = pd.DataFrame()\n",
    "for a in dat['aoa'].unique():\n",
    "    #get relevent data points\n",
    "    data = dat[(dat['aoa']==a) & (dat['v']<60) & (dat['v']>0)]\n",
    "    for i in range(0,len(data)):\n",
    "        # get the static position\n",
    "        lp = [data['eta'].iloc[i],0,data['q1'].iloc[i],0]\n",
    "        # get the jacobian evaluated at this point\n",
    "        j_lp = func(data['v'].iloc[i],np.deg2rad(a),lp)\n",
    "        # get eigen values of this jacobian       \n",
    "        evals,evecs = np.linalg.eig(j_lp)\n",
    "        \n",
    "        # get unique modes\n",
    "        e_vals_unique_imag = []\n",
    "        e_vals_unique_real = []\n",
    "        mode = []\n",
    "        for j in evals:\n",
    "            if np.imag(j)!=0:\n",
    "                if np.abs(np.imag(j)) not in np.imag(e_vals_unique_imag):\n",
    "                    e_vals_unique_imag.append(np.abs(np.imag(j)))\n",
    "                    e_vals_unique_real.append(np.real(j))\n",
    "                    mode.append(len(mode))\n",
    "        if np.max(e_vals_unique_real)<0:\n",
    "            df_v = pd.DataFrame()\n",
    "            df_v['Mode'] = mode\n",
    "            df_v['cn'] = np.array(e_vals_unique_real) + 1j * np.array(e_vals_unique_imag)\n",
    "            df_v['Frequency'] = np.abs(df_v['cn'])/(2*np.pi)\n",
    "            df_v['Damping'] = np.cos(np.angle(df_v['cn']))\n",
    "            df_v['V'] = data['v'].iloc[i]\n",
    "            df_v['aoa'] = a\n",
    "            flutdfv2 = flutdfv2.append(df_v,sort=False)\n",
    "        "
   ]
  },
  {
   "cell_type": "code",
   "execution_count": null,
   "metadata": {},
   "outputs": [],
   "source": [
    "#data = flutdf[(flutdf['aoa']==5) & (flutdf['Damping']<0)]\n",
    "data = flutdfv2[(flutdfv2['Damping']<0)]\n",
    "#data = flutdfv2\n",
    "fig, axes = plt.subplots(1,2,figsize=(15,7))\n",
    "\n",
    "\n",
    "sns.scatterplot(data=data,x='V',y='Frequency',hue='aoa',style='Mode',ax=axes[0])\n",
    "sns.scatterplot(data=data,x='V',y='Damping',hue='aoa',style='Mode',ax=axes[1])\n",
    "for i in [0,1]:\n",
    "    #axes[i].set(xlim=(0,80))\n",
    "    axes[i].grid(b=True, which='major', color='#999999', linestyle='--')\n",
    "    axes[i].minorticks_on()\n",
    "    axes[i].grid(b=True, which='minor', color='#999999', linestyle='-', alpha=0.2)"
   ]
  },
  {
   "cell_type": "code",
   "execution_count": null,
   "metadata": {},
   "outputs": [],
   "source": []
  }
 ],
 "metadata": {
  "kernelspec": {
   "display_name": "Python 3.7.6 64-bit ('Continuum': virtualenv)",
   "language": "python",
   "name": "python37664bitcontinuumvirtualenv2b38efbc82644feab3bee4169708de0f"
  },
  "language_info": {
   "codemirror_mode": {
    "name": "ipython",
    "version": 3
   },
   "file_extension": ".py",
   "mimetype": "text/x-python",
   "name": "python",
   "nbconvert_exporter": "python",
   "pygments_lexer": "ipython3",
   "version": "3.7.6"
  }
 },
 "nbformat": 4,
 "nbformat_minor": 2
}
