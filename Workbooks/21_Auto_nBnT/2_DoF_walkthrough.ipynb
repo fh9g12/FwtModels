{
 "cells": [
  {
   "cell_type": "code",
   "execution_count": 2,
   "id": "4800be05-0f8f-46e4-bbb1-1e95b4cd5954",
   "metadata": {},
   "outputs": [],
   "source": [
    "import sympy as sym\n",
    "import sympy.physics.mechanics as me\n",
    "from sympy.abc import t as time\n",
    "import pandas as pd\n",
    "import seaborn as sns\n",
    "\n",
    "import numpy as np\n",
    "from scipy.integrate import odeint,LSODA,BDF,solve_ivp\n",
    "from scipy.linalg import eig\n",
    "from scipy.optimize import fsolve\n",
    "import matplotlib.pyplot as plt\n",
    "\n",
    "import moyra as ma\n",
    "import moyra.elements as ele\n",
    "import moyra.forces as ef\n",
    "\n",
    "import sys, os\n",
    "sys.path.insert(1, os.path.join(sys.path[0], '../..'))\n",
    "import custom_plot_objects as cpo\n",
    "import FwtModels as mf\n",
    "\n",
    "me.mechanics_printing()"
   ]
  },
  {
   "cell_type": "markdown",
   "id": "096ad148-2d41-4144-a584-e2c8120647dd",
   "metadata": {},
   "source": [
    "#### Define our Constants\n",
    "first step is to define our constants / parameters"
   ]
  },
  {
   "cell_type": "code",
   "execution_count": 8,
   "id": "25675724-6c5a-48ec-9816-269f8c942b72",
   "metadata": {},
   "outputs": [],
   "source": [
    "DoFs = 2\n",
    "\n",
    "# heave and fold angle as degrres of freedom\n",
    "p = ma.DynamicModelParameters(DoFs)\n",
    "\n",
    "## Create some global parameters\n",
    "p.m_1 = ma.ModelSymbol(value = 0.3,string = 'm_1')\n",
    "p.m_2 = ma.ModelSymbol(value = 0.3,string = 'm_2')\n",
    "\n",
    "# Inner Wing stiffness Properties\n",
    "p.K = ma.ModelSymbol(value = 100,string = 'K') # Bending stiffness for the wing\n",
    "\n",
    "# length of pendulum\n",
    "p.L = ma.ModelSymbol(value = 0.3,string = 'L')\n",
    "\n",
    "## Aero Parameters\n",
    "p.g  = ma.ModelSymbol(value = 9.81,string = 'g')                     # gravity\n",
    "p.g_v = ma.ModelMatrix(value =[0,0,-1],length=3,string='g_v') # The stationary point\n",
    "\n",
    "## Numeric Model Constants\n",
    "p.fp = ma.ModelMatrix(value =[0]*p.qs*2,length=p.qs*2,string='fp') # The stationary point"
   ]
  },
  {
   "cell_type": "markdown",
   "id": "9e65931a-523c-4727-b9d7-6ca691e85a40",
   "metadata": {},
   "source": [
    "#### Our degrees of freedom are"
   ]
  },
  {
   "cell_type": "code",
   "execution_count": 9,
   "id": "8a2322ec-028a-43dd-b5ba-8c8206f812ad",
   "metadata": {},
   "outputs": [
    {
     "data": {
      "image/png": "[encoded data removed]",
      "text/latex": [
       "$\\displaystyle \\left[ \\left[\\begin{matrix}q_{0}\\\\q_{1}\\end{matrix}\\right], \\  \\left[\\begin{matrix}\\dot{q}_{0}\\\\\\dot{q}_{1}\\end{matrix}\\right]\\right]$"
      ],
      "text/plain": [
       "⎡⎡q₀⎤  ⎡q₀̇⎤⎤\n",
       "⎢⎢  ⎥, ⎢  ⎥⎥\n",
       "⎣⎣q₁⎦  ⎣q₁̇⎦⎦"
      ]
     },
     "execution_count": 9,
     "metadata": {},
     "output_type": "execute_result"
    }
   ],
   "source": [
    "[p.q,p.qd]"
   ]
  },
  {
   "cell_type": "markdown",
   "id": "f56515b7-7ccb-477f-8525-3154a71ddda9",
   "metadata": {},
   "source": [
    "## Define the Location of the top of the spring and the Mass of the Pendulum"
   ]
  },
  {
   "cell_type": "code",
   "execution_count": 10,
   "id": "58de2b35-0b40-4a10-8597-f13486a7c9b4",
   "metadata": {},
   "outputs": [],
   "source": [
    "#define refernce frames\n",
    "spring_frame = ma.HomogenousTransform().Translate(0,0,p.q[0])\n",
    "pendulum_frame = spring_frame.R_x(p.q[-1]).Translate(0,p.L,0)"
   ]
  },
  {
   "cell_type": "markdown",
   "id": "e1361662-fcd9-4cd8-8804-ecc3d78d87c6",
   "metadata": {},
   "source": [
    "Location at top of spring"
   ]
  },
  {
   "cell_type": "code",
   "execution_count": 18,
   "id": "9b17b8a9-6ecd-4241-85f7-3a97235fc358",
   "metadata": {},
   "outputs": [
    {
     "data": {
      "image/png": "[encoded data removed]",
      "text/latex": [
       "$\\displaystyle \\left[\\begin{matrix}0\\\\0\\\\q_{0}\\end{matrix}\\right]$"
      ],
      "text/plain": [
       "⎡0 ⎤\n",
       "⎢  ⎥\n",
       "⎢0 ⎥\n",
       "⎢  ⎥\n",
       "⎣q₀⎦"
      ]
     },
     "execution_count": 18,
     "metadata": {},
     "output_type": "execute_result"
    }
   ],
   "source": [
    "spring_frame.Transform_point([0,0,0])"
   ]
  },
  {
   "cell_type": "markdown",
   "id": "2e855ef0-81ad-41f4-8fef-7808efbe84b5",
   "metadata": {},
   "source": [
    "Location of Pendulum mass"
   ]
  },
  {
   "cell_type": "code",
   "execution_count": 19,
   "id": "519bf68b-3537-4ff7-8bbf-13cbe6d6a1c3",
   "metadata": {},
   "outputs": [
    {
     "data": {
      "image/png": "[encoded data removed]",
      "text/latex": [
       "$\\displaystyle \\left[\\begin{matrix}0\\\\L \\cos{\\left(q_{1} \\right)}\\\\L \\sin{\\left(q_{1} \\right)} + q_{0}\\end{matrix}\\right]$"
      ],
      "text/plain": [
       "⎡      0       ⎤\n",
       "⎢              ⎥\n",
       "⎢  L⋅cos(q₁)   ⎥\n",
       "⎢              ⎥\n",
       "⎣L⋅sin(q₁) + q₀⎦"
      ]
     },
     "execution_count": 19,
     "metadata": {},
     "output_type": "execute_result"
    }
   ],
   "source": [
    "pendulum_frame.Transform_point([0,0,0])"
   ]
  },
  {
   "cell_type": "markdown",
   "id": "24b51e84-6b1f-449a-95f1-1496b29cfb3c",
   "metadata": {},
   "source": [
    "### Define Potential and Kinetic energies"
   ]
  },
  {
   "cell_type": "code",
   "execution_count": 21,
   "id": "764ec40b-ac7d-445f-9baa-2fd5c9500359",
   "metadata": {},
   "outputs": [],
   "source": [
    "#Create Elemnts\n",
    "ele_spring = ele.Spring(p.q[0],p.K)\n",
    "spring_mass = ele.RigidElement.point_mass(spring_frame,p.m_1,True)\n",
    "pendulum_ele = ele.RigidElement.point_mass(pendulum_frame,p.m_2,True)"
   ]
  },
  {
   "cell_type": "markdown",
   "id": "056ddc0c-5f82-49ca-ac80-44fa10390641",
   "metadata": {},
   "source": [
    "#### spring potential energy"
   ]
  },
  {
   "cell_type": "code",
   "execution_count": 26,
   "id": "e2e92752-e06c-42cd-a282-fc0128877dee",
   "metadata": {},
   "outputs": [
    {
     "data": {
      "image/png": "[encoded data removed]",
      "text/latex": [
       "$\\displaystyle \\frac{K q_{0}^{2}}{2}$"
      ],
      "text/plain": [
       "    2\n",
       "K⋅q₀ \n",
       "─────\n",
       "  2  "
      ]
     },
     "execution_count": 26,
     "metadata": {},
     "output_type": "execute_result"
    }
   ],
   "source": [
    "ele_spring.calc_pe(p)"
   ]
  },
  {
   "cell_type": "code",
   "execution_count": 28,
   "id": "8dbb8f3f-e446-435b-bab8-d4a68432378d",
   "metadata": {},
   "outputs": [
    {
     "data": {
      "image/png": "[encoded data removed]",
      "text/latex": [
       "$\\displaystyle g m_{2} \\left(- g_{v 1} L \\cos{\\left(q_{1} \\right)} - g_{v 2} \\left(L \\sin{\\left(q_{1} \\right)} + q_{0}\\right)\\right)$"
      ],
      "text/plain": [
       "g⋅m₂⋅(-gᵥ ₁⋅L⋅cos(q₁) - gᵥ ₂⋅(L⋅sin(q₁) + q₀))"
      ]
     },
     "execution_count": 28,
     "metadata": {},
     "output_type": "execute_result"
    }
   ],
   "source": [
    "pendulum_ele.calc_pe(p)"
   ]
  },
  {
   "cell_type": "code",
   "execution_count": 29,
   "id": "bddd8470-88d5-4cfd-a90b-d82cd8fde727",
   "metadata": {},
   "outputs": [
    {
     "data": {
      "image/png": "[encoded data removed]",
      "text/latex": [
       "$\\displaystyle - g_{v 2} g m_{1} q_{0}$"
      ],
      "text/plain": [
       "-gᵥ ₂⋅g⋅m₁⋅q₀"
      ]
     },
     "execution_count": 29,
     "metadata": {},
     "output_type": "execute_result"
    }
   ],
   "source": [
    "spring_mass.calc_pe(p)"
   ]
  },
  {
   "cell_type": "code",
   "execution_count": 5,
   "id": "16230adb-0a93-4a86-94ee-d0de23a39de5",
   "metadata": {},
   "outputs": [],
   "source": [
    "Q = ef.BodyForce(p,fwt_com_frame,simplify=False)"
   ]
  },
  {
   "cell_type": "code",
   "execution_count": 6,
   "id": "ac25ec0a-12f2-446d-a757-dc7d41139a50",
   "metadata": {},
   "outputs": [
    {
     "name": "stdout",
     "output_type": "stream",
     "text": [
      "0\n",
      "1\n",
      "2\n"
     ]
    }
   ],
   "source": [
    "# Create the SYmbolic Model\n",
    "sm = ma.SymbolicModel.FromElementsAndForces(p,[inner_wing_ele,fwt_ele,M_k],Q)"
   ]
  },
  {
   "cell_type": "code",
   "execution_count": 7,
   "id": "c204a961-83fa-443e-b9d0-8b0aae04eaea",
   "metadata": {},
   "outputs": [],
   "source": [
    "t = me.dynamicsymbols._t\n",
    "theta = sym.Function('theta')(t)\n",
    "h = sym.Function('h')(t)\n",
    "qs = [h,theta]\n",
    "# list(enumerate(qs))\n",
    "subs = {**{p.q[i]:item for i,item in enumerate(qs)},**{p.qd[i]:item.diff(t) for i,item in enumerate(qs)}}\n",
    "subs = {**subs,**{i:j for i,j in zip(p.g_v,p.g_v.value)}}"
   ]
  },
  {
   "cell_type": "code",
   "execution_count": 8,
   "id": "afef74f3-c70c-4619-8be6-4cf2a58f4787",
   "metadata": {},
   "outputs": [
    {
     "data": {
      "image/png": "[encoded data removed]",
      "text/latex": [
       "$\\displaystyle \\left[\\begin{matrix}m_{f} + m_{w} & m_{f} y_{c} \\cos{\\left(\\theta \\right)}\\\\m_{f} y_{c} \\cos{\\left(\\theta \\right)} & I_{xx} + m_{f} y_{c}^{2}\\end{matrix}\\right]$"
      ],
      "text/plain": [
       "⎡  m_f + m_w     m_f⋅y_c⋅cos(θ)⎤\n",
       "⎢                              ⎥\n",
       "⎢                             2⎥\n",
       "⎣m_f⋅y_c⋅cos(θ)  Iₓₓ + m_f⋅y_c ⎦"
      ]
     },
     "execution_count": 8,
     "metadata": {},
     "output_type": "execute_result"
    }
   ],
   "source": [
    "me.msubs(sm.M,subs)"
   ]
  },
  {
   "cell_type": "code",
   "execution_count": 9,
   "id": "177a8aca-f390-4a8a-b3ce-1fc67fec80fa",
   "metadata": {},
   "outputs": [
    {
     "data": {
      "image/png": "[encoded data removed]",
      "text/latex": [
       "$\\displaystyle \\left[\\begin{matrix}K h + g m_{f} + g m_{w} - m_{f} y_{c} \\sin{\\left(\\theta \\right)} \\dot{\\theta}^{2}\\\\g m_{f} y_{c} \\cos{\\left(\\theta \\right)}\\end{matrix}\\right]$"
      ],
      "text/plain": [
       "⎡                                      2⎤\n",
       "⎢K⋅h + g⋅m_f + g⋅m_w - m_f⋅y_c⋅sin(θ)⋅θ̇ ⎥\n",
       "⎢                                       ⎥\n",
       "⎣           g⋅m_f⋅y_c⋅cos(θ)            ⎦"
      ]
     },
     "execution_count": 9,
     "metadata": {},
     "output_type": "execute_result"
    }
   ],
   "source": [
    "me.msubs(sm.f,subs)"
   ]
  },
  {
   "cell_type": "code",
   "execution_count": 10,
   "id": "9295abf9-99f9-4ee2-ba23-1c1a84d74808",
   "metadata": {},
   "outputs": [
    {
     "data": {
      "image/png": "[encoded data removed]",
      "text/latex": [
       "$\\displaystyle \\frac{I_{xx} \\dot{\\theta}^{2}}{2} + \\frac{m_{f} y_{c}^{2} \\dot{\\theta}^{2}}{2} + m_{f} y_{c} \\cos{\\left(\\theta \\right)} \\dot{h} \\dot{\\theta} + \\frac{m_{f} \\dot{h}^{2}}{2}$"
      ],
      "text/plain": [
       "     2          2  2                             2\n",
       "Iₓₓ⋅θ̇    m_f⋅y_c ⋅θ̇                         m_f⋅ḣ \n",
       "────── + ─────────── + m_f⋅y_c⋅cos(θ)⋅ḣ⋅θ̇ + ──────\n",
       "  2           2                               2   "
      ]
     },
     "execution_count": 10,
     "metadata": {},
     "output_type": "execute_result"
    }
   ],
   "source": [
    "me.msubs(fwt_ele.calc_ke(p),subs)"
   ]
  },
  {
   "cell_type": "code",
   "execution_count": 11,
   "id": "22445654-66bf-4b5b-a67e-995299aaabe9",
   "metadata": {},
   "outputs": [
    {
     "data": {
      "image/png": "[encoded data removed]",
      "text/latex": [
       "$\\displaystyle \\frac{m_{w} \\dot{h}^{2}}{2}$"
      ],
      "text/plain": [
       "     2\n",
       "m_w⋅ḣ \n",
       "──────\n",
       "  2   "
      ]
     },
     "execution_count": 11,
     "metadata": {},
     "output_type": "execute_result"
    }
   ],
   "source": [
    "me.msubs(inner_wing_ele.calc_ke(p),subs)"
   ]
  },
  {
   "cell_type": "code",
   "execution_count": 12,
   "id": "80d86815-08fe-44b1-8a01-cbf205472337",
   "metadata": {},
   "outputs": [
    {
     "data": {
      "image/png": "[encoded data removed]",
      "text/latex": [
       "$\\displaystyle g m_{w} h$"
      ],
      "text/plain": [
       "g⋅m_w⋅h"
      ]
     },
     "execution_count": 12,
     "metadata": {},
     "output_type": "execute_result"
    }
   ],
   "source": [
    "me.msubs(inner_wing_ele.calc_pe(p),subs)"
   ]
  },
  {
   "cell_type": "code",
   "execution_count": 13,
   "id": "37feb6ed-4e15-42c4-894e-fa8f57c16cf1",
   "metadata": {},
   "outputs": [
    {
     "data": {
      "image/png": "[encoded data removed]",
      "text/latex": [
       "$\\displaystyle g m_{f} \\left(y_{c} \\sin{\\left(\\theta \\right)} + h\\right)$"
      ],
      "text/plain": [
       "g⋅m_f⋅(y_c⋅sin(θ) + h)"
      ]
     },
     "execution_count": 13,
     "metadata": {},
     "output_type": "execute_result"
    }
   ],
   "source": [
    "me.msubs(fwt_ele.calc_pe(p),subs)"
   ]
  },
  {
   "cell_type": "code",
   "execution_count": 14,
   "id": "b3e0ca98-cb79-45f7-9d56-09b9c58c7b6b",
   "metadata": {},
   "outputs": [
    {
     "data": {
      "image/png": "[encoded data removed]",
      "text/latex": [
       "$\\displaystyle \\left[\\begin{matrix}- g_{v 2} g m_{f} - g_{v 2} g m_{w} + K q_{0} - m_{f} y_{c} \\sin{\\left(q_{1} \\right)} \\dot{q}_{1}^{2}\\\\- g m_{f} \\left(- g_{v 1} y_{c} \\sin{\\left(q_{1} \\right)} + g_{v 2} y_{c} \\cos{\\left(q_{1} \\right)}\\right)\\end{matrix}\\right]$"
      ],
      "text/plain": [
       "⎡                                                    2⎤\n",
       "⎢-gᵥ ₂⋅g⋅m_f - gᵥ ₂⋅g⋅m_w + K⋅q₀ - m_f⋅y_c⋅sin(q₁)⋅q₁̇ ⎥\n",
       "⎢                                                     ⎥\n",
       "⎣    -g⋅m_f⋅(-gᵥ ₁⋅y_c⋅sin(q₁) + gᵥ ₂⋅y_c⋅cos(q₁))    ⎦"
      ]
     },
     "execution_count": 14,
     "metadata": {},
     "output_type": "execute_result"
    }
   ],
   "source": [
    "sm.f"
   ]
  },
  {
   "cell_type": "code",
   "execution_count": 22,
   "id": "10fd99e0-5574-41c6-9073-589b64d57e28",
   "metadata": {},
   "outputs": [
    {
     "data": {
      "image/png": "[encoded data removed]",
      "text/latex": [
       "$\\displaystyle \\left[\\begin{matrix}0\\\\0\\end{matrix}\\right]$"
      ],
      "text/plain": [
       "⎡0⎤\n",
       "⎢ ⎥\n",
       "⎣0⎦"
      ]
     },
     "execution_count": 22,
     "metadata": {},
     "output_type": "execute_result"
    }
   ],
   "source": [
    "sm.ExtForces.Q()"
   ]
  },
  {
   "cell_type": "code",
   "execution_count": 15,
   "id": "908b06d0-9f9d-48f5-9d5f-0ddba433dc31",
   "metadata": {},
   "outputs": [
    {
     "ename": "TypeError",
     "evalue": "'Symbol' object is not iterable",
     "output_type": "error",
     "traceback": [
      "\u001b[1;31m---------------------------------------------------------------------------\u001b[0m",
      "\u001b[1;31mTypeError\u001b[0m                                 Traceback (most recent call last)",
      "\u001b[1;32m<ipython-input-15-efa66117b4a2>\u001b[0m in \u001b[0;36m<module>\u001b[1;34m\u001b[0m\n\u001b[1;32m----> 1\u001b[1;33m \u001b[0msm\u001b[0m\u001b[1;33m.\u001b[0m\u001b[0mto_matlab_file\u001b[0m\u001b[1;33m(\u001b[0m\u001b[0mp\u001b[0m\u001b[1;33m,\u001b[0m\u001b[1;34m'C:/Git/fwt_auto/test/'\u001b[0m\u001b[1;33m)\u001b[0m\u001b[1;33m\u001b[0m\u001b[1;33m\u001b[0m\u001b[0m\n\u001b[0m",
      "\u001b[1;32mc:\\git\\moyra\\moyra\\symbolic_model.py\u001b[0m in \u001b[0;36mto_matlab_file\u001b[1;34m(self, p, file_dir)\u001b[0m\n\u001b[0;32m    304\u001b[0m         \u001b[1;32mfor\u001b[0m \u001b[0mfunc_name\u001b[0m\u001b[1;33m,\u001b[0m\u001b[0mmatrix\u001b[0m \u001b[1;32min\u001b[0m \u001b[0mfuncs\u001b[0m\u001b[1;33m:\u001b[0m\u001b[1;33m\u001b[0m\u001b[1;33m\u001b[0m\u001b[0m\n\u001b[0;32m    305\u001b[0m             \u001b[1;32mwith\u001b[0m \u001b[0mopen\u001b[0m\u001b[1;33m(\u001b[0m\u001b[0mfile_dir\u001b[0m\u001b[1;33m+\u001b[0m\u001b[1;34mf\"{func_name}.m\"\u001b[0m\u001b[1;33m,\u001b[0m\u001b[1;34m'w'\u001b[0m\u001b[1;33m)\u001b[0m \u001b[1;32mas\u001b[0m \u001b[0mfile\u001b[0m\u001b[1;33m:\u001b[0m\u001b[1;33m\u001b[0m\u001b[1;33m\u001b[0m\u001b[0m\n\u001b[1;32m--> 306\u001b[1;33m                 \u001b[0mfile\u001b[0m\u001b[1;33m.\u001b[0m\u001b[0mwrite\u001b[0m\u001b[1;33m(\u001b[0m\u001b[0mself\u001b[0m\u001b[1;33m.\u001b[0m\u001b[0m_gen_octave\u001b[0m\u001b[1;33m(\u001b[0m\u001b[0mmatrix\u001b[0m\u001b[1;33m,\u001b[0m\u001b[0mp\u001b[0m\u001b[1;33m,\u001b[0m\u001b[0mfunc_name\u001b[0m\u001b[1;33m)\u001b[0m\u001b[1;33m)\u001b[0m\u001b[1;33m\u001b[0m\u001b[1;33m\u001b[0m\u001b[0m\n\u001b[0m\u001b[0;32m    307\u001b[0m         \u001b[0mp\u001b[0m\u001b[1;33m.\u001b[0m\u001b[0mto_matlab_class\u001b[0m\u001b[1;33m(\u001b[0m\u001b[0mfile_dir\u001b[0m\u001b[1;33m=\u001b[0m\u001b[0mfile_dir\u001b[0m\u001b[1;33m)\u001b[0m\u001b[1;33m\u001b[0m\u001b[1;33m\u001b[0m\u001b[0m\n\u001b[0;32m    308\u001b[0m \u001b[1;33m\u001b[0m\u001b[0m\n",
      "\u001b[1;32mc:\\git\\moyra\\moyra\\symbolic_model.py\u001b[0m in \u001b[0;36m_gen_octave\u001b[1;34m(self, expr, p, func_name)\u001b[0m\n\u001b[0;32m    319\u001b[0m         \u001b[1;31m# convert states to non-time dependent variable\u001b[0m\u001b[1;33m\u001b[0m\u001b[1;33m\u001b[0m\u001b[1;33m\u001b[0m\u001b[0m\n\u001b[0;32m    320\u001b[0m         \u001b[0mU\u001b[0m \u001b[1;33m=\u001b[0m \u001b[0msym\u001b[0m\u001b[1;33m.\u001b[0m\u001b[0mMatrix\u001b[0m\u001b[1;33m(\u001b[0m\u001b[0msym\u001b[0m\u001b[1;33m.\u001b[0m\u001b[0msymbols\u001b[0m\u001b[1;33m(\u001b[0m\u001b[1;34mf'u_:{p.qs*2}'\u001b[0m\u001b[1;33m)\u001b[0m\u001b[1;33m)\u001b[0m\u001b[1;33m\u001b[0m\u001b[1;33m\u001b[0m\u001b[0m\n\u001b[1;32m--> 321\u001b[1;33m         \u001b[0ml\u001b[0m \u001b[1;33m=\u001b[0m \u001b[0mdict\u001b[0m\u001b[1;33m(\u001b[0m\u001b[0mzip\u001b[0m\u001b[1;33m(\u001b[0m\u001b[0mp\u001b[0m\u001b[1;33m.\u001b[0m\u001b[0mx\u001b[0m\u001b[1;33m,\u001b[0m\u001b[0mU\u001b[0m\u001b[1;33m)\u001b[0m\u001b[1;33m)\u001b[0m\u001b[1;33m\u001b[0m\u001b[1;33m\u001b[0m\u001b[0m\n\u001b[0m\u001b[0;32m    322\u001b[0m         \u001b[0mexpr\u001b[0m \u001b[1;33m=\u001b[0m \u001b[0mme\u001b[0m\u001b[1;33m.\u001b[0m\u001b[0mmsubs\u001b[0m\u001b[1;33m(\u001b[0m\u001b[0mexpr\u001b[0m\u001b[1;33m,\u001b[0m\u001b[0ml\u001b[0m\u001b[1;33m)\u001b[0m\u001b[1;33m\u001b[0m\u001b[1;33m\u001b[0m\u001b[0m\n\u001b[0;32m    323\u001b[0m \u001b[1;33m\u001b[0m\u001b[0m\n",
      "\u001b[1;31mTypeError\u001b[0m: 'Symbol' object is not iterable"
     ]
    }
   ],
   "source": [
    "sm.to_matlab_file(p,'C:/Git/fwt_auto/test/')"
   ]
  },
  {
   "cell_type": "code",
   "execution_count": 18,
   "id": "774fe1ce-20f5-497b-a660-2305873bd496",
   "metadata": {},
   "outputs": [
    {
     "ename": "TypeError",
     "evalue": "object of type 'Symbol' has no len()",
     "output_type": "error",
     "traceback": [
      "\u001b[1;31m---------------------------------------------------------------------------\u001b[0m",
      "\u001b[1;31mTypeError\u001b[0m                                 Traceback (most recent call last)",
      "\u001b[1;32m<ipython-input-18-ec1e2991dcf9>\u001b[0m in \u001b[0;36m<module>\u001b[1;34m\u001b[0m\n\u001b[1;32m----> 1\u001b[1;33m \u001b[0msm_lin\u001b[0m \u001b[1;33m=\u001b[0m \u001b[0msm\u001b[0m\u001b[1;33m.\u001b[0m\u001b[0mlinearise\u001b[0m\u001b[1;33m(\u001b[0m\u001b[0mp\u001b[0m\u001b[1;33m)\u001b[0m\u001b[1;33m\u001b[0m\u001b[1;33m\u001b[0m\u001b[0m\n\u001b[0m\u001b[0;32m      2\u001b[0m \u001b[0msm_lin\u001b[0m\u001b[1;33m.\u001b[0m\u001b[0mto_matlab_file_linear\u001b[0m\u001b[1;33m(\u001b[0m\u001b[0mp\u001b[0m\u001b[1;33m,\u001b[0m\u001b[1;34m'C:/Git/fwt_auto/model_2DoF/'\u001b[0m\u001b[1;33m)\u001b[0m\u001b[1;33m\u001b[0m\u001b[1;33m\u001b[0m\u001b[0m\n",
      "\u001b[1;32mc:\\git\\moyra\\moyra\\symbolic_model.py\u001b[0m in \u001b[0;36mlinearise\u001b[1;34m(self, p)\u001b[0m\n\u001b[0;32m    166\u001b[0m \u001b[1;33m\u001b[0m\u001b[0m\n\u001b[0;32m    167\u001b[0m         \u001b[1;31m# Linearise the External Forces\u001b[0m\u001b[1;33m\u001b[0m\u001b[1;33m\u001b[0m\u001b[1;33m\u001b[0m\u001b[0m\n\u001b[1;32m--> 168\u001b[1;33m         \u001b[0mextForce_lin\u001b[0m \u001b[1;33m=\u001b[0m \u001b[0mself\u001b[0m\u001b[1;33m.\u001b[0m\u001b[0mExtForces\u001b[0m\u001b[1;33m.\u001b[0m\u001b[0mlinearise\u001b[0m\u001b[1;33m(\u001b[0m\u001b[0mp\u001b[0m\u001b[1;33m.\u001b[0m\u001b[0mx\u001b[0m\u001b[1;33m,\u001b[0m\u001b[0mp\u001b[0m\u001b[1;33m.\u001b[0m\u001b[0mfp\u001b[0m\u001b[1;33m)\u001b[0m \u001b[1;32mif\u001b[0m \u001b[0mself\u001b[0m\u001b[1;33m.\u001b[0m\u001b[0mExtForces\u001b[0m \u001b[1;32mis\u001b[0m \u001b[1;32mnot\u001b[0m \u001b[1;32mNone\u001b[0m \u001b[1;32melse\u001b[0m \u001b[1;32mNone\u001b[0m\u001b[1;33m\u001b[0m\u001b[1;33m\u001b[0m\u001b[0m\n\u001b[0m\u001b[0;32m    169\u001b[0m \u001b[1;33m\u001b[0m\u001b[0m\n\u001b[0;32m    170\u001b[0m         \u001b[1;31m# create the linearised model and return it\u001b[0m\u001b[1;33m\u001b[0m\u001b[1;33m\u001b[0m\u001b[1;33m\u001b[0m\u001b[0m\n",
      "\u001b[1;32mc:\\git\\moyra\\moyra\\forces\\external_force.py\u001b[0m in \u001b[0;36mlinearise\u001b[1;34m(self, x, x_f)\u001b[0m\n\u001b[0;32m     32\u001b[0m \u001b[1;33m\u001b[0m\u001b[0m\n\u001b[0;32m     33\u001b[0m     \u001b[1;32mdef\u001b[0m \u001b[0mlinearise\u001b[0m\u001b[1;33m(\u001b[0m\u001b[0mself\u001b[0m\u001b[1;33m,\u001b[0m\u001b[0mx\u001b[0m\u001b[1;33m,\u001b[0m\u001b[0mx_f\u001b[0m\u001b[1;33m)\u001b[0m\u001b[1;33m:\u001b[0m\u001b[1;33m\u001b[0m\u001b[1;33m\u001b[0m\u001b[0m\n\u001b[1;32m---> 34\u001b[1;33m         \u001b[1;32mreturn\u001b[0m \u001b[0mExternalForce\u001b[0m\u001b[1;33m(\u001b[0m\u001b[0mlinearise_matrix\u001b[0m\u001b[1;33m(\u001b[0m\u001b[0mself\u001b[0m\u001b[1;33m.\u001b[0m\u001b[0mQ\u001b[0m\u001b[1;33m(\u001b[0m\u001b[1;33m)\u001b[0m\u001b[1;33m,\u001b[0m\u001b[0mx\u001b[0m\u001b[1;33m,\u001b[0m\u001b[0mx_f\u001b[0m\u001b[1;33m)\u001b[0m\u001b[1;33m)\u001b[0m\u001b[1;33m\u001b[0m\u001b[1;33m\u001b[0m\u001b[0m\n\u001b[0m\u001b[0;32m     35\u001b[0m \u001b[1;33m\u001b[0m\u001b[0m\n\u001b[0;32m     36\u001b[0m     \u001b[1;32mdef\u001b[0m \u001b[0mlambdify\u001b[0m\u001b[1;33m(\u001b[0m\u001b[0mself\u001b[0m\u001b[1;33m,\u001b[0m\u001b[0mparams\u001b[0m\u001b[1;33m)\u001b[0m\u001b[1;33m:\u001b[0m\u001b[1;33m\u001b[0m\u001b[1;33m\u001b[0m\u001b[0m\n",
      "\u001b[1;32mc:\\git\\moyra\\moyra\\helper_funcs.py\u001b[0m in \u001b[0;36mlinearise_matrix\u001b[1;34m(M, x, x_f)\u001b[0m\n\u001b[0;32m      6\u001b[0m \u001b[1;32mdef\u001b[0m \u001b[0mlinearise_matrix\u001b[0m\u001b[1;33m(\u001b[0m\u001b[0mM\u001b[0m\u001b[1;33m,\u001b[0m\u001b[0mx\u001b[0m\u001b[1;33m,\u001b[0m\u001b[0mx_f\u001b[0m\u001b[1;33m)\u001b[0m\u001b[1;33m:\u001b[0m\u001b[1;33m\u001b[0m\u001b[1;33m\u001b[0m\u001b[0m\n\u001b[0;32m      7\u001b[0m     \u001b[1;31m# reverse order of states to ensure velocities are subbed first\u001b[0m\u001b[1;33m\u001b[0m\u001b[1;33m\u001b[0m\u001b[1;33m\u001b[0m\u001b[0m\n\u001b[1;32m----> 8\u001b[1;33m     \u001b[0mx_subs\u001b[0m \u001b[1;33m=\u001b[0m \u001b[1;33m{\u001b[0m\u001b[0mx\u001b[0m\u001b[1;33m[\u001b[0m\u001b[0mi\u001b[0m\u001b[1;33m]\u001b[0m\u001b[1;33m:\u001b[0m\u001b[0mx_f\u001b[0m\u001b[1;33m[\u001b[0m\u001b[0mi\u001b[0m\u001b[1;33m]\u001b[0m \u001b[1;32mfor\u001b[0m \u001b[0mi\u001b[0m \u001b[1;32min\u001b[0m \u001b[0mrange\u001b[0m\u001b[1;33m(\u001b[0m\u001b[0mlen\u001b[0m\u001b[1;33m(\u001b[0m\u001b[0mx\u001b[0m\u001b[1;33m)\u001b[0m\u001b[1;33m)\u001b[0m\u001b[1;33m}\u001b[0m\u001b[1;33m\u001b[0m\u001b[1;33m\u001b[0m\u001b[0m\n\u001b[0m\u001b[0;32m      9\u001b[0m \u001b[1;33m\u001b[0m\u001b[0m\n\u001b[0;32m     10\u001b[0m     \u001b[1;31m# get the value of M at the fixed point\u001b[0m\u001b[1;33m\u001b[0m\u001b[1;33m\u001b[0m\u001b[1;33m\u001b[0m\u001b[0m\n",
      "\u001b[1;31mTypeError\u001b[0m: object of type 'Symbol' has no len()"
     ]
    }
   ],
   "source": [
    "sm_lin = sm.linearise(p)\n",
    "sm_lin.to_matlab_file_linear(p,'C:/Git/fwt_auto/model_2DoF/')"
   ]
  },
  {
   "cell_type": "code",
   "execution_count": 15,
   "id": "0c79e758-223e-4f0c-8f86-0f4bb7434ac7",
   "metadata": {},
   "outputs": [
    {
     "data": {
      "image/png": "[encoded data removed]",
      "text/latex": [
       "$\\displaystyle \\left( 2, \\  2\\right)$"
      ],
      "text/plain": [
       "(2, 2)"
      ]
     },
     "execution_count": 15,
     "metadata": {},
     "output_type": "execute_result"
    }
   ],
   "source": [
    "sm_lin.ExtForces.Q().jacobian(p.qd).shape"
   ]
  },
  {
   "cell_type": "code",
   "execution_count": null,
   "id": "f3309f21-26ab-4cc9-b671-331d4325d9bd",
   "metadata": {},
   "outputs": [],
   "source": []
  }
 ],
 "metadata": {
  "kernelspec": {
   "display_name": "fwt_models",
   "language": "python",
   "name": "fwt_models"
  },
  "language_info": {
   "codemirror_mode": {
    "name": "ipython",
    "version": 3
   },
   "file_extension": ".py",
   "mimetype": "text/x-python",
   "name": "python",
   "nbconvert_exporter": "python",
   "pygments_lexer": "ipython3",
   "version": "3.8.8"
  }
 },
 "nbformat": 4,
 "nbformat_minor": 5
}
