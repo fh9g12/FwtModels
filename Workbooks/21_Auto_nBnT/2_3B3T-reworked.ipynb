{
 "cells": [
  {
   "cell_type": "code",
   "execution_count": 1,
   "id": "4800be05-0f8f-46e4-bbb1-1e95b4cd5954",
   "metadata": {},
   "outputs": [
    {
     "ename": "ImportError",
     "evalue": "cannot import name 'cache' from 'functools' (C:\\Users\\qe19391\\AppData\\Local\\Continuum\\anaconda3\\envs\\fwtmodels\\lib\\functools.py)",
     "output_type": "error",
     "traceback": [
      "\u001b[1;31m---------------------------------------------------------------------------\u001b[0m",
      "\u001b[1;31mImportError\u001b[0m                               Traceback (most recent call last)",
      "\u001b[1;32m<ipython-input-1-2b54f25ada85>\u001b[0m in \u001b[0;36m<module>\u001b[1;34m\u001b[0m\n\u001b[0;32m     11\u001b[0m \u001b[1;32mimport\u001b[0m \u001b[0mmatplotlib\u001b[0m\u001b[1;33m.\u001b[0m\u001b[0mpyplot\u001b[0m \u001b[1;32mas\u001b[0m \u001b[0mplt\u001b[0m\u001b[1;33m\u001b[0m\u001b[1;33m\u001b[0m\u001b[0m\n\u001b[0;32m     12\u001b[0m \u001b[1;33m\u001b[0m\u001b[0m\n\u001b[1;32m---> 13\u001b[1;33m \u001b[1;32mimport\u001b[0m \u001b[0mmoyra\u001b[0m \u001b[1;32mas\u001b[0m \u001b[0mma\u001b[0m\u001b[1;33m\u001b[0m\u001b[1;33m\u001b[0m\u001b[0m\n\u001b[0m\u001b[0;32m     14\u001b[0m \u001b[1;32mimport\u001b[0m \u001b[0mmoyra\u001b[0m\u001b[1;33m.\u001b[0m\u001b[0melements\u001b[0m \u001b[1;32mas\u001b[0m \u001b[0mele\u001b[0m\u001b[1;33m\u001b[0m\u001b[1;33m\u001b[0m\u001b[0m\n\u001b[0;32m     15\u001b[0m \u001b[1;32mimport\u001b[0m \u001b[0mmoyra\u001b[0m\u001b[1;33m.\u001b[0m\u001b[0mforces\u001b[0m \u001b[1;32mas\u001b[0m \u001b[0mef\u001b[0m\u001b[1;33m\u001b[0m\u001b[1;33m\u001b[0m\u001b[0m\n",
      "\u001b[1;32mc:\\git\\moyra\\moyra\\__init__.py\u001b[0m in \u001b[0;36m<module>\u001b[1;34m\u001b[0m\n\u001b[0;32m      5\u001b[0m \u001b[1;32mfrom\u001b[0m \u001b[1;33m.\u001b[0m\u001b[0mnumeric_model\u001b[0m \u001b[1;32mimport\u001b[0m \u001b[0mNumericModel\u001b[0m\u001b[1;33m\u001b[0m\u001b[1;33m\u001b[0m\u001b[0m\n\u001b[0;32m      6\u001b[0m \u001b[1;33m\u001b[0m\u001b[0m\n\u001b[1;32m----> 7\u001b[1;33m \u001b[1;32mfrom\u001b[0m \u001b[1;33m.\u001b[0m \u001b[1;32mimport\u001b[0m \u001b[0mframes\u001b[0m \u001b[1;32mas\u001b[0m \u001b[0mframes\u001b[0m\u001b[1;33m\u001b[0m\u001b[1;33m\u001b[0m\u001b[0m\n\u001b[0m\u001b[0;32m      8\u001b[0m \u001b[1;32mfrom\u001b[0m \u001b[1;33m.\u001b[0m \u001b[1;32mimport\u001b[0m \u001b[0melements\u001b[0m \u001b[1;32mas\u001b[0m \u001b[0melements\u001b[0m\u001b[1;33m\u001b[0m\u001b[1;33m\u001b[0m\u001b[0m\n\u001b[0;32m      9\u001b[0m \u001b[1;32mfrom\u001b[0m \u001b[1;33m.\u001b[0m \u001b[1;32mimport\u001b[0m \u001b[0mforces\u001b[0m \u001b[1;32mas\u001b[0m \u001b[0mforces\u001b[0m\u001b[1;33m\u001b[0m\u001b[1;33m\u001b[0m\u001b[0m\n",
      "\u001b[1;32mc:\\git\\moyra\\moyra\\frames\\__init__.py\u001b[0m in \u001b[0;36m<module>\u001b[1;34m\u001b[0m\n\u001b[0;32m      1\u001b[0m \u001b[1;32mfrom\u001b[0m \u001b[1;33m.\u001b[0m\u001b[0mbase_reference_frame\u001b[0m \u001b[1;32mimport\u001b[0m \u001b[0mBaseReferenceFrame\u001b[0m\u001b[1;33m\u001b[0m\u001b[1;33m\u001b[0m\u001b[0m\n\u001b[1;32m----> 2\u001b[1;33m \u001b[1;32mfrom\u001b[0m \u001b[1;33m.\u001b[0m\u001b[0mhomogenous_frame\u001b[0m \u001b[1;32mimport\u001b[0m \u001b[0mHomogenousFrame\u001b[0m\u001b[1;33m\u001b[0m\u001b[1;33m\u001b[0m\u001b[0m\n\u001b[0m\u001b[0;32m      3\u001b[0m \u001b[1;32mfrom\u001b[0m \u001b[1;33m.\u001b[0m\u001b[0mreference_frame\u001b[0m \u001b[1;32mimport\u001b[0m \u001b[0mReferenceFrame\u001b[0m\u001b[1;33m\u001b[0m\u001b[1;33m\u001b[0m\u001b[0m\n",
      "\u001b[1;32mc:\\git\\moyra\\moyra\\frames\\homogenous_frame.py\u001b[0m in \u001b[0;36m<module>\u001b[1;34m\u001b[0m\n\u001b[1;32m----> 1\u001b[1;33m \u001b[1;32mfrom\u001b[0m \u001b[0mfunctools\u001b[0m \u001b[1;32mimport\u001b[0m \u001b[0mcache\u001b[0m\u001b[1;33m\u001b[0m\u001b[1;33m\u001b[0m\u001b[0m\n\u001b[0m\u001b[0;32m      2\u001b[0m \u001b[1;32mfrom\u001b[0m \u001b[0mmoyra\u001b[0m\u001b[1;33m.\u001b[0m\u001b[0mframes\u001b[0m\u001b[1;33m.\u001b[0m\u001b[0mbase_reference_frame\u001b[0m \u001b[1;32mimport\u001b[0m \u001b[0mBaseReferenceFrame\u001b[0m\u001b[1;33m\u001b[0m\u001b[1;33m\u001b[0m\u001b[0m\n\u001b[0;32m      3\u001b[0m \u001b[1;32mimport\u001b[0m \u001b[0msympy\u001b[0m \u001b[1;32mas\u001b[0m \u001b[0msym\u001b[0m\u001b[1;33m\u001b[0m\u001b[1;33m\u001b[0m\u001b[0m\n\u001b[0;32m      4\u001b[0m \u001b[1;32mfrom\u001b[0m \u001b[0msympy\u001b[0m\u001b[1;33m.\u001b[0m\u001b[0mabc\u001b[0m \u001b[1;32mimport\u001b[0m \u001b[0mt\u001b[0m\u001b[1;33m\u001b[0m\u001b[1;33m\u001b[0m\u001b[0m\n\u001b[0;32m      5\u001b[0m \u001b[1;32mimport\u001b[0m \u001b[0msympy\u001b[0m\u001b[1;33m.\u001b[0m\u001b[0mphysics\u001b[0m\u001b[1;33m.\u001b[0m\u001b[0mmechanics\u001b[0m \u001b[1;32mas\u001b[0m \u001b[0mme\u001b[0m\u001b[1;33m\u001b[0m\u001b[1;33m\u001b[0m\u001b[0m\n",
      "\u001b[1;31mImportError\u001b[0m: cannot import name 'cache' from 'functools' (C:\\Users\\qe19391\\AppData\\Local\\Continuum\\anaconda3\\envs\\fwtmodels\\lib\\functools.py)"
     ]
    }
   ],
   "source": [
    "import sympy as sym\n",
    "import sympy.physics.mechanics as me\n",
    "from sympy.abc import t as time\n",
    "import pandas as pd\n",
    "import seaborn as sns\n",
    "\n",
    "import numpy as np\n",
    "from scipy.integrate import odeint,LSODA,BDF,solve_ivp\n",
    "from scipy.linalg import eig\n",
    "from scipy.optimize import fsolve\n",
    "import matplotlib.pyplot as plt\n",
    "\n",
    "import moyra as ma\n",
    "import moyra.elements as ele\n",
    "import moyra.forces as ef\n",
    "\n",
    "import sys, os\n",
    "sys.path.insert(1, os.path.join(sys.path[0], '../..'))\n",
    "import custom_plot_objects as cpo\n",
    "import FwtModels as mf\n",
    "\n",
    "me.mechanics_printing()"
   ]
  },
  {
   "cell_type": "code",
   "execution_count": 2,
   "id": "25675724-6c5a-48ec-9816-269f8c942b72",
   "metadata": {},
   "outputs": [],
   "source": [
    "test_num = 6\n",
    "\n",
    "b_modes = 3\n",
    "t_modes = 3\n",
    "fwt_modes = 1\n",
    "modes = b_modes + t_modes + fwt_modes\n",
    "main_panels = 20\n",
    "fwt_panels = 15\n",
    "tab_panels = 10\n",
    "panels = main_panels + fwt_panels\n",
    "\n",
    "p = ma.DynamicModelParameters(modes)\n",
    "\n",
    "## Create some global parameters\n",
    "p.c = ma.ModelSymbol(value = 0.15,string = 'c') # chord of wing\n",
    "p.c_b = ma.ModelSymbol(value = 0.15,string = 'c_b') # chord of beam\n",
    "p.s_i = ma.ModelSymbol(value = 1,string = 's_i') # total semi-span of wing\n",
    "p.s_f = ma.ModelSymbol(value = 0.345,string = 's_f') # total semi-span of wing\n",
    "p.s_t = ma.ModelSymbol(value = 0.1,string = 's_t') # total semi-span of wing\n",
    "p.rho_w = ma.ModelSymbol(value = 19.53,string = 'rho_w') # wing mass per unit area (kg/m^2)\n",
    "p.rho_b = ma.ModelSymbol(value = 19.53,string = 'rho_b') # beam mass per unit area (kg/m^2)\n",
    "\n",
    "p.b_modes = ma.ModelSymbol(value = b_modes,string = 'b_modes') # percentage of wing that is a FWT\n",
    "p.t_modes = ma.ModelSymbol(value = t_modes,string = 't_modes') # percentage of wing that is a FWT\n",
    "\n",
    "# Inner Wing stiffness Properties\n",
    "p.EI = ma.ModelSymbol(value = 9.77e6,string = 'EI') # Bending stiffness for the wing\n",
    "p.GJ = ma.ModelSymbol(value = 0.99e6,string = 'GJ') # Torsional Stiffness for the wing\n",
    "\n",
    "# Location of flexural axes\n",
    "p.e_0 = ma.ModelSymbol(value = 0.08,string = 'e_0')\n",
    "p.x_f0 = ma.ModelSymbol(value = 0.08,string = 'x_f')\n",
    "\n",
    "# FWT Properties\n",
    "# p.m_factor = ma.ModelSymbol(value = 1, string = 'delta_m')\n",
    "p.m_1 = ma.ModelSymbol(value = 0.3,string = 'm_1')\n",
    "p.x_com1 = ma.ModelSymbol(value = 0.3,string = 'x_com1')\n",
    "p.y_com1 = ma.ModelSymbol(value = 0.3,string = 'y_com1')\n",
    "\n",
    "p.m_h = ma.ModelSymbol(value = 0.3,string = 'm_h')\n",
    "p.x_comh = ma.ModelSymbol(value = 0.3,string = 'x_comh')\n",
    "\n",
    "p.I_xx1 = ma.ModelSymbol(value = 0.3,string = 'I_xx1') # inertia of FWT (uniform bar)\n",
    "p.Lambda = ma.ModelSymbol(value = np.deg2rad(10),string = 'Lambda') # Flare Angle\n",
    "\n",
    "p.mu = ma.ModelSymbol(value = 0,string = 'mu')                 # dihedral angle at the end of the inner wing\n",
    "p.mu_d = ma.ModelSymbol(value = 0,string = 'mu_d') # rate of change of dihedral angle at the tip of the inner wing\n",
    "\n",
    "# Symbols to translate along inner wing and FWT\n",
    "p.y_0 =ma.ModelSymbol(value = 0,string = 'y_0')        # inner wing y chord\n",
    "p.x_0 = ma.ModelSymbol(value = 0,string = 'x_0')       # inner wing x chord\n",
    "p.y_1 = ma.ModelSymbol(value = 0,string = 'y_1')       # FWT y chord\n",
    "p.x_1 = ma.ModelSymbol(value = 0,string = 'x_1')       # FWT x chord\n",
    "\n",
    "## Aero Parameters\n",
    "p.rho = ma.ModelSymbol(value = 1.225,string = 'rho')                 # density\n",
    "p.V = ma.ModelSymbol(value = 10,string = 'V')                        # velocity\n",
    "p.g  = ma.ModelSymbol(value = 9.81,string = 'g')                     # gravity\n",
    "p.g_v = ma.ModelMatrix(value =[-1,0,0],length=3,string='g_v')      # gravity unit vector\n",
    "p.alpha_r = ma.ModelSymbol(value = np.deg2rad(3),string = 'alpha_r') # root AoA\n",
    "p.M_thetadot = ma.ModelSymbol(value = -1.2,string = 'M_thetadot')    # Unsteady Torsional Term\n",
    "p.c_dmax = ma.ModelSymbol(value = 0.01,string = 'c_dmax')             # c_dmax\n",
    "p.alpha_max = ma.ModelSymbol(value = np.deg2rad(15),string = 'alpha_max')# peak AoA\n",
    "p.clip_factor = ma.ModelSymbol(value = 0.1,string = 'clip_factor')    # clipping factor for stall\n",
    "p.stall_factor = ma.ModelSymbol(value = 0.1,string = 'stall_factor')    # clipping factor for stall\n",
    "p.stall_rate = ma.ModelSymbol(value = np.deg2rad(0.5),string = 'stall_rate')    # clipping factor for stall\n",
    "p.x_l = ma.ModelSymbol(value = 0.25,string = 'x_l')    # location of lift as percentage of the chord\n",
    "\n",
    "## Main Wing Specific\n",
    "p.a_i = ma.ModelSymbol(value = 2*np.pi,string = 'a_i')               # C_L slope of main wing\n",
    "p.a_0i = ma.ModelSymbol(value = 2*np.pi,string = 'a_0i')               # C_L slope of main wing\n",
    "p.a = ma.ModelMatrix(value =[np.pi*2]*panels,length=panels, string='a') # local C_l\n",
    "p.beta_t = ma.ModelSymbol(value = 0,string = 'beta_t')               # tab\n",
    "p.beta_m = ma.ModelSymbol(value = 0,string = 'beta_m')               # tab\n",
    "p.beta_a = ma.ModelSymbol(value = 0,string = 'beta_a')               # tab\n",
    "\n",
    "## Forces at hinge from wingtip\n",
    "p.F = ma.ModelMatrix(value =[0]*6,length=6, string='F') # Forces and moments at hinge from wingtip\n",
    "\n",
    "## FWT Specific\n",
    "p.alpha_1 = ma.ModelSymbol(value = 0,string = 'alpha_1')             # FWT alpha\n",
    "p.alphadot_1 = ma.ModelSymbol(value = 0,string = 'alphadot_1')       # FWT alphadot\n",
    "\n",
    "## Numeric Model Constants\n",
    "p.fp = ma.ModelMatrix(value =[0]*p.qs*2,length=p.qs*2,string='fp') # The stationary point\n",
    "\n",
    "# Factor to change the size of joint values\n",
    "p.eta = ma.ModelMatrix(value = [1]*modes,length=modes,string='eta')"
   ]
  },
  {
   "cell_type": "code",
   "execution_count": 28,
   "id": "58de2b35-0b40-4a10-8597-f13486a7c9b4",
   "metadata": {},
   "outputs": [],
   "source": [
    "#get shape functions for main wing\n",
    "z_0,tau_0 = ele.FlexiElement.ShapeFunctions_BN_TM(b_modes,t_modes,p.q[:-1],p.y_0,p.x_0,p.x_f0,0,factor=p.eta)\n",
    "\n",
    "# apply weighting function\n",
    "#define wrefernce frames\n",
    "wing_root_frame = ma.HomogenousTransform()\n",
    "wing_frame = wing_root_frame.Translate(p.x_0,p.y_0,z_0)\n",
    "wing_flexural_frame = wing_frame.subs({p.x_0:p.x_f0})\n",
    "hinge_frame = wing_flexural_frame.subs({p.y_0:p.s_i}).R_y(tau_0.subs({p.y_0:p.s_i})).R_z(p.Lambda)\n",
    "\n",
    "hinge_com_frame = wing_frame.subs({p.y_0:p.s_i,p.x_0:p.x_comh})\n",
    "\n",
    "fwt_root_frame = wing_frame.subs({p.y_0:p.s_i,p.x_0:p.x_f0}).R_z(p.Lambda).R_x(p.q[-1]).R_z(-p.Lambda).Translate(-p.x_f0,0,0).R_x(p.q[-1])\n",
    "# fwt_frame = fwt_root_frame.Translate(p.x_1,p.y_1,0)\n",
    "# fwt_flexural_frame = fwt_root_frame.Translate(p.c/4,p.y_1,0)\n",
    "# fwt_aero_frame = fwt_root_frame.Translate(p.c*p.x_l,p.y_1,0)\n",
    "x_com_delta = (p.x_com1-p.c/2)*sym.tan(p.Lambda)\n",
    "fwt_com_frame = fwt_root_frame.Translate(p.x_com1,(p.y_com1+0)*1,0)\n"
   ]
  },
  {
   "cell_type": "code",
   "execution_count": 30,
   "id": "764ec40b-ac7d-445f-9baa-2fd5c9500359",
   "metadata": {},
   "outputs": [],
   "source": [
    "#Create Elemnts\n",
    "M_wing = ele.MassMatrix(p.rho_w)\n",
    "M_beam = ele.MassMatrix(p.rho_b)\n",
    "M_fwt = ele.MassMatrix(p.m_1,I_xx = p.I_xx1)\n",
    "\n",
    "wing_stiffness_ele = ele.FlexiElement(wing_root_frame,M_wing,p.x_0,p.y_0,z_0,p.c,p.s_i,p.x_f0,p.EI,p.GJ,gravityPot=True)\n",
    "\n",
    "beam_mass_ele = ele.FlexiElement(wing_flexural_frame.Translate(p.x_0,0,0),M_beam,p.x_0,p.y_0,z_0,p.c,p.s_i,p.x_f0,0,0,gravityPot=True)\n",
    "beam_mass_ele.x_integral = (p.x_0,-p.c_b/2,p.c_b/2)\n",
    "\n",
    "hinge_ele = ele.RigidElement.point_mass(hinge_com_frame,p.m_h,True)\n",
    "fwt_ele = ele.RigidElement(fwt_com_frame,M_fwt,True)"
   ]
  },
  {
   "cell_type": "code",
   "execution_count": 31,
   "id": "a1f16157-4924-4b04-bebd-2fae0c8a9479",
   "metadata": {},
   "outputs": [
    {
     "data": {
      "image/png": "[encoded data removed]",
      "text/latex": [
       "$\\displaystyle - \\frac{a_{i} \\left(\\alpha_{max} clip_{factor} + stall_{factor} \\log{\\left(1 + e^{- clip_{factor} \\left(\\alpha_{max} - y\\right)} \\right)} + \\left(stall_{factor} - 1\\right) \\log{\\left(\\left(e^{clip_{factor} \\left(\\alpha_{max} + stall_{rate} + y\\right)} + 1\\right) e^{- clip_{factor} \\left(\\alpha_{max} + stall_{rate} + y\\right)} \\right)} - \\left(stall_{factor} - 1\\right) \\log{\\left(1 + e^{- clip_{factor} \\left(\\alpha_{max} + y\\right)} \\right)} - \\left(stall_{factor} - 1\\right) \\log{\\left(1 + e^{- clip_{factor} \\left(\\alpha_{max} + stall_{rate} - y\\right)} \\right)} - \\log{\\left(e^{clip_{factor} \\left(\\alpha_{max} + y\\right)} + 1 \\right)}\\right)}{clip_{factor}}$"
      ],
      "text/plain": [
       "    ⎛                                   ⎛     -clip_factor⋅(αₘₐₓ - y)⎞        \n",
       "-aᵢ⋅⎝αₘₐₓ⋅clip_factor + stall_factor⋅log⎝1 + ℯ                       ⎠ + (stal\n",
       "──────────────────────────────────────────────────────────────────────────────\n",
       "                                                                              \n",
       "\n",
       "                 ⎛⎛ clip_factor⋅(αₘₐₓ + stallᵣₐₜₑ + y)    ⎞  -clip_factor⋅(αₘₐ\n",
       "l_factor - 1)⋅log⎝⎝ℯ                                   + 1⎠⋅ℯ                 \n",
       "──────────────────────────────────────────────────────────────────────────────\n",
       "                                                                              \n",
       "\n",
       "ₓ + stallᵣₐₜₑ + y)⎞                         ⎛     -clip_factor⋅(αₘₐₓ + y)⎞    \n",
       "                  ⎠ - (stall_factor - 1)⋅log⎝1 + ℯ                       ⎠ - (\n",
       "──────────────────────────────────────────────────────────────────────────────\n",
       "     clip_factor                                                              \n",
       "\n",
       "                     ⎛     -clip_factor⋅(αₘₐₓ + stallᵣₐₜₑ - y)⎞      ⎛ clip_fa\n",
       "stall_factor - 1)⋅log⎝1 + ℯ                                   ⎠ - log⎝ℯ       \n",
       "──────────────────────────────────────────────────────────────────────────────\n",
       "                                                                              \n",
       "\n",
       "ctor⋅(αₘₐₓ + y)    ⎞⎞ \n",
       "                + 1⎠⎠ \n",
       "──────────────────────\n",
       "                      "
      ]
     },
     "execution_count": 31,
     "metadata": {},
     "output_type": "execute_result"
    }
   ],
   "source": [
    "from sympy.abc import y\n",
    "def ramp(x,corner,sharpness):\n",
    "    return 1/sharpness*sym.ln(1+sym.exp(sharpness*(x+corner)))\n",
    "\n",
    "def make_cl(x,stall_angle,stall_factor,c_l_0,sharpness):\n",
    "    c_l = ramp(x,stall_angle,sharpness)\n",
    "    c_l -= ramp(x,-stall_angle,sharpness)*stall_factor\n",
    "    c_l += ramp(x,-(stall_angle+p.stall_rate),sharpness)*(stall_factor-1)\n",
    "    c_l += ramp(-x,-(stall_angle),sharpness)*(stall_factor-1)\n",
    "    c_l -= ramp(-x,-(stall_angle+p.stall_rate),sharpness)*(stall_factor-1)\n",
    "    c_l -= stall_angle\n",
    "    c_l *= c_l_0\n",
    "    return c_l\n",
    "\n",
    "c_l_func = lambda x: make_cl(x,p.alpha_max,p.stall_factor,p.a_i,p.clip_factor)\n",
    "sym.simplify(make_cl(y,p.alpha_max,p.stall_factor,p.a_i,p.clip_factor))"
   ]
  },
  {
   "cell_type": "code",
   "execution_count": 32,
   "id": "1557f04a-44b3-487d-bd2e-06515371f8fc",
   "metadata": {},
   "outputs": [],
   "source": [
    "# Main Wing Aero Forces \n",
    "wing_AeroForces = ef.AeroForce.PerUnitSpan(p,wing_flexural_frame,p.a_i,\n",
    "                               alphadot = 0 if isinstance(tau_0,int) else tau_0.diff(me.dynamicsymbols._t),\n",
    "                               M_thetadot = p.M_thetadot,\n",
    "                               e = p.e_0,\n",
    "                               w_g = 0,\n",
    "                               root_alpha = 0,\n",
    "                                delta_alpha = tau_0,\n",
    "                               alpha_zero = 0,\n",
    "                               stall_angle = p.alpha_max,\n",
    "                               c = p.c,\n",
    "                                V = p.V,\n",
    "                               c_d_max = p.c_dmax,\n",
    "                               linear = True,\n",
    "                                z_inverted=False,\n",
    "                                c_l_func = lambda x: sym.simplify(c_l_func(x)))\n",
    "\n",
    "# split Main Wing into segments\n",
    "forces = []\n",
    "for i in range(main_panels):\n",
    "    seg_width = p.s_i/main_panels\n",
    "    yi = seg_width/2 + i*seg_width\n",
    "    forces.append(wing_AeroForces.subs({p.y_0:yi,p.a_i:p.a[i]})*seg_width)\n",
    "    \n",
    "Q = sym.Matrix([0]*p.qs)\n",
    "for f in forces:\n",
    "    Q += f.Q()\n",
    "wing_AeroForces = ef.ExternalForce(Q)"
   ]
  },
  {
   "cell_type": "code",
   "execution_count": 33,
   "id": "99c1384d-9421-4d2e-ae34-c675754e0d3d",
   "metadata": {},
   "outputs": [],
   "source": [
    "fwt_AeroForces = ef.BodyForce(p,hinge_frame,*p.F,False)"
   ]
  },
  {
   "cell_type": "code",
   "execution_count": 34,
   "id": "eea5c56d-281b-4604-83d1-adf43983a1b9",
   "metadata": {},
   "outputs": [
    {
     "data": {
      "image/png": "[encoded data removed]",
      "text/latex": [
       "$\\displaystyle - F_{0} \\eta_{1} s_{i}^{3} \\sin{\\left(\\eta_{3} s_{i} q_{3} + \\eta_{4} s_{i}^{2} q_{4} + \\eta_{5} s_{i}^{3} q_{5} \\right)} \\cos{\\left(\\Lambda \\right)} + F_{1} \\eta_{1} s_{i}^{3} \\sin{\\left(\\Lambda \\right)} \\sin{\\left(\\eta_{3} s_{i} q_{3} + \\eta_{4} s_{i}^{2} q_{4} + \\eta_{5} s_{i}^{3} q_{5} \\right)} + F_{2} \\eta_{1} s_{i}^{3} \\cos{\\left(\\eta_{3} s_{i} q_{3} + \\eta_{4} s_{i}^{2} q_{4} + \\eta_{5} s_{i}^{3} q_{5} \\right)}$"
      ],
      "text/plain": [
       "          3    ⎛                2           3   ⎞                  3          \n",
       "- F₀⋅η₁⋅sᵢ ⋅sin⎝η₃⋅sᵢ⋅q₃ + η₄⋅sᵢ ⋅q₄ + η₅⋅sᵢ ⋅q₅⎠⋅cos(Λ) + F₁⋅η₁⋅sᵢ ⋅sin(Λ)⋅si\n",
       "\n",
       " ⎛                2           3   ⎞           3    ⎛                2         \n",
       "n⎝η₃⋅sᵢ⋅q₃ + η₄⋅sᵢ ⋅q₄ + η₅⋅sᵢ ⋅q₅⎠ + F₂⋅η₁⋅sᵢ ⋅cos⎝η₃⋅sᵢ⋅q₃ + η₄⋅sᵢ ⋅q₄ + η₅⋅\n",
       "\n",
       "  3   ⎞\n",
       "sᵢ ⋅q₅⎠"
      ]
     },
     "execution_count": 34,
     "metadata": {},
     "output_type": "execute_result"
    }
   ],
   "source": [
    "fwt_AeroForces.Q()[1]"
   ]
  },
  {
   "cell_type": "code",
   "execution_count": 36,
   "id": "ac25ec0a-12f2-446d-a757-dc7d41139a50",
   "metadata": {},
   "outputs": [
    {
     "ename": "KeyboardInterrupt",
     "evalue": "",
     "output_type": "error",
     "traceback": [
      "\u001b[1;31m---------------------------------------------------------------------------\u001b[0m",
      "\u001b[1;31mKeyboardInterrupt\u001b[0m                         Traceback (most recent call last)",
      "\u001b[1;32m<ipython-input-36-75652f5ce242>\u001b[0m in \u001b[0;36m<module>\u001b[1;34m\u001b[0m\n\u001b[0;32m      2\u001b[0m \u001b[0mCompositeForce\u001b[0m \u001b[1;33m=\u001b[0m \u001b[0mef\u001b[0m\u001b[1;33m.\u001b[0m\u001b[0mCompositeForce\u001b[0m\u001b[1;33m(\u001b[0m\u001b[1;33m[\u001b[0m\u001b[0mwing_AeroForces\u001b[0m\u001b[1;33m,\u001b[0m\u001b[0mfwt_AeroForces\u001b[0m\u001b[1;33m]\u001b[0m\u001b[1;33m)\u001b[0m\u001b[1;33m\u001b[0m\u001b[1;33m\u001b[0m\u001b[0m\n\u001b[0;32m      3\u001b[0m \u001b[1;31m# Create the SYmbolic Model\u001b[0m\u001b[1;33m\u001b[0m\u001b[1;33m\u001b[0m\u001b[1;33m\u001b[0m\u001b[0m\n\u001b[1;32m----> 4\u001b[1;33m \u001b[0msm\u001b[0m \u001b[1;33m=\u001b[0m \u001b[0mma\u001b[0m\u001b[1;33m.\u001b[0m\u001b[0mSymbolicModel\u001b[0m\u001b[1;33m.\u001b[0m\u001b[0mFromElementsAndForces\u001b[0m\u001b[1;33m(\u001b[0m\u001b[0mp\u001b[0m\u001b[1;33m,\u001b[0m\u001b[1;33m[\u001b[0m\u001b[0mwing_stiffness_ele\u001b[0m\u001b[1;33m,\u001b[0m\u001b[0mbeam_mass_ele\u001b[0m\u001b[1;33m,\u001b[0m\u001b[0mfwt_ele\u001b[0m\u001b[1;33m,\u001b[0m\u001b[0mhinge_ele\u001b[0m\u001b[1;33m]\u001b[0m\u001b[1;33m,\u001b[0m\u001b[0mCompositeForce\u001b[0m\u001b[1;33m)\u001b[0m\u001b[1;33m\u001b[0m\u001b[1;33m\u001b[0m\u001b[0m\n\u001b[0m\u001b[0;32m      5\u001b[0m \u001b[1;31m# sm = ma.SymbolicModel.FromElementsAndForces(p,[wing_stiffness_ele,fwt_ele,mass_ele],CompositeForce)\u001b[0m\u001b[1;33m\u001b[0m\u001b[1;33m\u001b[0m\u001b[1;33m\u001b[0m\u001b[0m\n",
      "\u001b[1;32mc:\\git\\moyra\\moyra\\symbolic_model.py\u001b[0m in \u001b[0;36mFromElementsAndForces\u001b[1;34m(cls, FwtParams, Elements, ExtForces)\u001b[0m\n\u001b[0;32m     41\u001b[0m         \u001b[1;31m# add K.E for each Rigid Element\u001b[0m\u001b[1;33m\u001b[0m\u001b[1;33m\u001b[0m\u001b[1;33m\u001b[0m\u001b[0m\n\u001b[0;32m     42\u001b[0m         \u001b[1;32mfor\u001b[0m \u001b[0mele\u001b[0m \u001b[1;32min\u001b[0m \u001b[0mElements\u001b[0m\u001b[1;33m:\u001b[0m\u001b[1;33m\u001b[0m\u001b[1;33m\u001b[0m\u001b[0m\n\u001b[1;32m---> 43\u001b[1;33m             \u001b[0mT\u001b[0m \u001b[1;33m+=\u001b[0m \u001b[0mele\u001b[0m\u001b[1;33m.\u001b[0m\u001b[0mcalc_ke\u001b[0m\u001b[1;33m(\u001b[0m\u001b[0mp\u001b[0m\u001b[1;33m)\u001b[0m\u001b[1;33m\u001b[0m\u001b[1;33m\u001b[0m\u001b[0m\n\u001b[0m\u001b[0;32m     44\u001b[0m             \u001b[0mU\u001b[0m \u001b[1;33m+=\u001b[0m \u001b[0mele\u001b[0m\u001b[1;33m.\u001b[0m\u001b[0mcalc_pe\u001b[0m\u001b[1;33m(\u001b[0m\u001b[0mp\u001b[0m\u001b[1;33m)\u001b[0m\u001b[1;33m\u001b[0m\u001b[1;33m\u001b[0m\u001b[0m\n\u001b[0;32m     45\u001b[0m             \u001b[0mD\u001b[0m \u001b[1;33m+=\u001b[0m \u001b[0mele\u001b[0m\u001b[1;33m.\u001b[0m\u001b[0mcalc_rdf\u001b[0m\u001b[1;33m(\u001b[0m\u001b[0mp\u001b[0m\u001b[1;33m)\u001b[0m\u001b[1;33m\u001b[0m\u001b[1;33m\u001b[0m\u001b[0m\n",
      "\u001b[1;32mc:\\git\\moyra\\moyra\\elements\\rigid_element.py\u001b[0m in \u001b[0;36mcalc_ke\u001b[1;34m(self, p)\u001b[0m\n\u001b[0;32m     21\u001b[0m         \u001b[1;31m# calculate the K.E\u001b[0m\u001b[1;33m\u001b[0m\u001b[1;33m\u001b[0m\u001b[1;33m\u001b[0m\u001b[0m\n\u001b[0;32m     22\u001b[0m         \u001b[0mT\u001b[0m \u001b[1;33m=\u001b[0m \u001b[0msym\u001b[0m\u001b[1;33m.\u001b[0m\u001b[0mRational\u001b[0m\u001b[1;33m(\u001b[0m\u001b[1;36m1\u001b[0m\u001b[1;33m,\u001b[0m\u001b[1;36m2\u001b[0m\u001b[1;33m)\u001b[0m\u001b[1;33m*\u001b[0m\u001b[0mp\u001b[0m\u001b[1;33m.\u001b[0m\u001b[0mqd\u001b[0m\u001b[1;33m.\u001b[0m\u001b[0mT\u001b[0m\u001b[1;33m*\u001b[0m\u001b[0mM\u001b[0m\u001b[1;33m*\u001b[0m\u001b[0mp\u001b[0m\u001b[1;33m.\u001b[0m\u001b[0mqd\u001b[0m\u001b[1;33m\u001b[0m\u001b[1;33m\u001b[0m\u001b[0m\n\u001b[1;32m---> 23\u001b[1;33m         \u001b[1;32mreturn\u001b[0m \u001b[0mself\u001b[0m\u001b[1;33m.\u001b[0m\u001b[0m_trigsimp\u001b[0m\u001b[1;33m(\u001b[0m\u001b[0mT\u001b[0m\u001b[1;33m[\u001b[0m\u001b[1;36m0\u001b[0m\u001b[1;33m]\u001b[0m\u001b[1;33m)\u001b[0m \u001b[1;32mif\u001b[0m \u001b[0mself\u001b[0m\u001b[1;33m.\u001b[0m\u001b[0msimplify\u001b[0m \u001b[1;32melse\u001b[0m \u001b[0mT\u001b[0m\u001b[1;33m[\u001b[0m\u001b[1;36m0\u001b[0m\u001b[1;33m]\u001b[0m\u001b[1;33m\u001b[0m\u001b[1;33m\u001b[0m\u001b[0m\n\u001b[0m\u001b[0;32m     24\u001b[0m \u001b[1;33m\u001b[0m\u001b[0m\n\u001b[0;32m     25\u001b[0m     \u001b[1;32mdef\u001b[0m \u001b[0mM\u001b[0m\u001b[1;33m(\u001b[0m\u001b[0mself\u001b[0m\u001b[1;33m,\u001b[0m\u001b[0mp\u001b[0m\u001b[1;33m)\u001b[0m\u001b[1;33m:\u001b[0m\u001b[1;33m\u001b[0m\u001b[1;33m\u001b[0m\u001b[0m\n",
      "\u001b[1;32mc:\\git\\moyra\\moyra\\elements\\rigid_element.py\u001b[0m in \u001b[0;36m_trigsimp\u001b[1;34m(self, expr)\u001b[0m\n\u001b[0;32m     33\u001b[0m \u001b[1;33m\u001b[0m\u001b[0m\n\u001b[0;32m     34\u001b[0m     \u001b[1;32mdef\u001b[0m \u001b[0m_trigsimp\u001b[0m\u001b[1;33m(\u001b[0m\u001b[0mself\u001b[0m\u001b[1;33m,\u001b[0m\u001b[0mexpr\u001b[0m\u001b[1;33m)\u001b[0m\u001b[1;33m:\u001b[0m\u001b[1;33m\u001b[0m\u001b[1;33m\u001b[0m\u001b[0m\n\u001b[1;32m---> 35\u001b[1;33m         \u001b[1;32mreturn\u001b[0m \u001b[0msym\u001b[0m\u001b[1;33m.\u001b[0m\u001b[0mtrigsimp\u001b[0m\u001b[1;33m(\u001b[0m\u001b[0msym\u001b[0m\u001b[1;33m.\u001b[0m\u001b[0mpowsimp\u001b[0m\u001b[1;33m(\u001b[0m\u001b[0msym\u001b[0m\u001b[1;33m.\u001b[0m\u001b[0mcancel\u001b[0m\u001b[1;33m(\u001b[0m\u001b[0msym\u001b[0m\u001b[1;33m.\u001b[0m\u001b[0mexpand\u001b[0m\u001b[1;33m(\u001b[0m\u001b[0mexpr\u001b[0m\u001b[1;33m)\u001b[0m\u001b[1;33m)\u001b[0m\u001b[1;33m)\u001b[0m\u001b[1;33m)\u001b[0m\u001b[1;33m\u001b[0m\u001b[1;33m\u001b[0m\u001b[0m\n\u001b[0m\u001b[0;32m     36\u001b[0m \u001b[1;33m\u001b[0m\u001b[0m\n\u001b[0;32m     37\u001b[0m \u001b[1;33m\u001b[0m\u001b[0m\n",
      "\u001b[1;32m~\\AppData\\Local\\Continuum\\anaconda3\\envs\\fwtmodels\\lib\\site-packages\\sympy\\simplify\\trigsimp.py\u001b[0m in \u001b[0;36mtrigsimp\u001b[1;34m(expr, **opts)\u001b[0m\n\u001b[0;32m    508\u001b[0m                    }[method]\n\u001b[0;32m    509\u001b[0m \u001b[1;33m\u001b[0m\u001b[0m\n\u001b[1;32m--> 510\u001b[1;33m     \u001b[1;32mreturn\u001b[0m \u001b[0mtrigsimpfunc\u001b[0m\u001b[1;33m(\u001b[0m\u001b[0mexpr\u001b[0m\u001b[1;33m)\u001b[0m\u001b[1;33m\u001b[0m\u001b[1;33m\u001b[0m\u001b[0m\n\u001b[0m\u001b[0;32m    511\u001b[0m \u001b[1;33m\u001b[0m\u001b[0m\n\u001b[0;32m    512\u001b[0m \u001b[1;33m\u001b[0m\u001b[0m\n",
      "\u001b[1;32m~\\AppData\\Local\\Continuum\\anaconda3\\envs\\fwtmodels\\lib\\site-packages\\sympy\\simplify\\trigsimp.py\u001b[0m in \u001b[0;36m<lambda>\u001b[1;34m(x)\u001b[0m\n\u001b[0;32m    501\u001b[0m     trigsimpfunc = {\n\u001b[0;32m    502\u001b[0m         \u001b[1;34m'fu'\u001b[0m\u001b[1;33m:\u001b[0m \u001b[1;33m(\u001b[0m\u001b[1;32mlambda\u001b[0m \u001b[0mx\u001b[0m\u001b[1;33m:\u001b[0m \u001b[0mfu\u001b[0m\u001b[1;33m(\u001b[0m\u001b[0mx\u001b[0m\u001b[1;33m,\u001b[0m \u001b[1;33m**\u001b[0m\u001b[0mopts\u001b[0m\u001b[1;33m)\u001b[0m\u001b[1;33m)\u001b[0m\u001b[1;33m,\u001b[0m\u001b[1;33m\u001b[0m\u001b[1;33m\u001b[0m\u001b[0m\n\u001b[1;32m--> 503\u001b[1;33m         \u001b[1;34m'matching'\u001b[0m\u001b[1;33m:\u001b[0m \u001b[1;33m(\u001b[0m\u001b[1;32mlambda\u001b[0m \u001b[0mx\u001b[0m\u001b[1;33m:\u001b[0m \u001b[0mfutrig\u001b[0m\u001b[1;33m(\u001b[0m\u001b[0mx\u001b[0m\u001b[1;33m)\u001b[0m\u001b[1;33m)\u001b[0m\u001b[1;33m,\u001b[0m\u001b[1;33m\u001b[0m\u001b[1;33m\u001b[0m\u001b[0m\n\u001b[0m\u001b[0;32m    504\u001b[0m         \u001b[1;34m'groebner'\u001b[0m\u001b[1;33m:\u001b[0m \u001b[1;33m(\u001b[0m\u001b[1;32mlambda\u001b[0m \u001b[0mx\u001b[0m\u001b[1;33m:\u001b[0m \u001b[0mgroebnersimp\u001b[0m\u001b[1;33m(\u001b[0m\u001b[0mx\u001b[0m\u001b[1;33m,\u001b[0m \u001b[1;33m**\u001b[0m\u001b[0mopts\u001b[0m\u001b[1;33m)\u001b[0m\u001b[1;33m)\u001b[0m\u001b[1;33m,\u001b[0m\u001b[1;33m\u001b[0m\u001b[1;33m\u001b[0m\u001b[0m\n\u001b[0;32m    505\u001b[0m         'combined': (lambda x: futrig(groebnersimp(x,\n",
      "\u001b[1;32m~\\AppData\\Local\\Continuum\\anaconda3\\envs\\fwtmodels\\lib\\site-packages\\sympy\\simplify\\trigsimp.py\u001b[0m in \u001b[0;36mfutrig\u001b[1;34m(e, hyper, **kwargs)\u001b[0m\n\u001b[0;32m   1100\u001b[0m \u001b[1;33m\u001b[0m\u001b[0m\n\u001b[0;32m   1101\u001b[0m     \u001b[0mold\u001b[0m \u001b[1;33m=\u001b[0m \u001b[0me\u001b[0m\u001b[1;33m\u001b[0m\u001b[1;33m\u001b[0m\u001b[0m\n\u001b[1;32m-> 1102\u001b[1;33m     \u001b[0me\u001b[0m \u001b[1;33m=\u001b[0m \u001b[0mbottom_up\u001b[0m\u001b[1;33m(\u001b[0m\u001b[0me\u001b[0m\u001b[1;33m,\u001b[0m \u001b[0m_futrig\u001b[0m\u001b[1;33m)\u001b[0m\u001b[1;33m\u001b[0m\u001b[1;33m\u001b[0m\u001b[0m\n\u001b[0m\u001b[0;32m   1103\u001b[0m \u001b[1;33m\u001b[0m\u001b[0m\n\u001b[0;32m   1104\u001b[0m     \u001b[1;32mif\u001b[0m \u001b[0mhyper\u001b[0m \u001b[1;32mand\u001b[0m \u001b[0me\u001b[0m\u001b[1;33m.\u001b[0m\u001b[0mhas\u001b[0m\u001b[1;33m(\u001b[0m\u001b[0mHyperbolicFunction\u001b[0m\u001b[1;33m)\u001b[0m\u001b[1;33m:\u001b[0m\u001b[1;33m\u001b[0m\u001b[1;33m\u001b[0m\u001b[0m\n",
      "\u001b[1;32m~\\AppData\\Local\\Continuum\\anaconda3\\envs\\fwtmodels\\lib\\site-packages\\sympy\\simplify\\simplify.py\u001b[0m in \u001b[0;36mbottom_up\u001b[1;34m(rv, F, atoms, nonbasic)\u001b[0m\n\u001b[0;32m   1193\u001b[0m     \u001b[1;32mif\u001b[0m \u001b[0margs\u001b[0m \u001b[1;32mis\u001b[0m \u001b[1;32mnot\u001b[0m \u001b[1;32mNone\u001b[0m\u001b[1;33m:\u001b[0m\u001b[1;33m\u001b[0m\u001b[1;33m\u001b[0m\u001b[0m\n\u001b[0;32m   1194\u001b[0m         \u001b[1;32mif\u001b[0m \u001b[0margs\u001b[0m\u001b[1;33m:\u001b[0m\u001b[1;33m\u001b[0m\u001b[1;33m\u001b[0m\u001b[0m\n\u001b[1;32m-> 1195\u001b[1;33m             \u001b[0margs\u001b[0m \u001b[1;33m=\u001b[0m \u001b[0mtuple\u001b[0m\u001b[1;33m(\u001b[0m\u001b[1;33m[\u001b[0m\u001b[0mbottom_up\u001b[0m\u001b[1;33m(\u001b[0m\u001b[0ma\u001b[0m\u001b[1;33m,\u001b[0m \u001b[0mF\u001b[0m\u001b[1;33m,\u001b[0m \u001b[0matoms\u001b[0m\u001b[1;33m,\u001b[0m \u001b[0mnonbasic\u001b[0m\u001b[1;33m)\u001b[0m \u001b[1;32mfor\u001b[0m \u001b[0ma\u001b[0m \u001b[1;32min\u001b[0m \u001b[0margs\u001b[0m\u001b[1;33m]\u001b[0m\u001b[1;33m)\u001b[0m\u001b[1;33m\u001b[0m\u001b[1;33m\u001b[0m\u001b[0m\n\u001b[0m\u001b[0;32m   1196\u001b[0m             \u001b[1;32mif\u001b[0m \u001b[0margs\u001b[0m \u001b[1;33m!=\u001b[0m \u001b[0mrv\u001b[0m\u001b[1;33m.\u001b[0m\u001b[0margs\u001b[0m\u001b[1;33m:\u001b[0m\u001b[1;33m\u001b[0m\u001b[1;33m\u001b[0m\u001b[0m\n\u001b[0;32m   1197\u001b[0m                 \u001b[0mrv\u001b[0m \u001b[1;33m=\u001b[0m \u001b[0mrv\u001b[0m\u001b[1;33m.\u001b[0m\u001b[0mfunc\u001b[0m\u001b[1;33m(\u001b[0m\u001b[1;33m*\u001b[0m\u001b[0margs\u001b[0m\u001b[1;33m)\u001b[0m\u001b[1;33m\u001b[0m\u001b[1;33m\u001b[0m\u001b[0m\n",
      "\u001b[1;32m~\\AppData\\Local\\Continuum\\anaconda3\\envs\\fwtmodels\\lib\\site-packages\\sympy\\simplify\\simplify.py\u001b[0m in \u001b[0;36m<listcomp>\u001b[1;34m(.0)\u001b[0m\n\u001b[0;32m   1193\u001b[0m     \u001b[1;32mif\u001b[0m \u001b[0margs\u001b[0m \u001b[1;32mis\u001b[0m \u001b[1;32mnot\u001b[0m \u001b[1;32mNone\u001b[0m\u001b[1;33m:\u001b[0m\u001b[1;33m\u001b[0m\u001b[1;33m\u001b[0m\u001b[0m\n\u001b[0;32m   1194\u001b[0m         \u001b[1;32mif\u001b[0m \u001b[0margs\u001b[0m\u001b[1;33m:\u001b[0m\u001b[1;33m\u001b[0m\u001b[1;33m\u001b[0m\u001b[0m\n\u001b[1;32m-> 1195\u001b[1;33m             \u001b[0margs\u001b[0m \u001b[1;33m=\u001b[0m \u001b[0mtuple\u001b[0m\u001b[1;33m(\u001b[0m\u001b[1;33m[\u001b[0m\u001b[0mbottom_up\u001b[0m\u001b[1;33m(\u001b[0m\u001b[0ma\u001b[0m\u001b[1;33m,\u001b[0m \u001b[0mF\u001b[0m\u001b[1;33m,\u001b[0m \u001b[0matoms\u001b[0m\u001b[1;33m,\u001b[0m \u001b[0mnonbasic\u001b[0m\u001b[1;33m)\u001b[0m \u001b[1;32mfor\u001b[0m \u001b[0ma\u001b[0m \u001b[1;32min\u001b[0m \u001b[0margs\u001b[0m\u001b[1;33m]\u001b[0m\u001b[1;33m)\u001b[0m\u001b[1;33m\u001b[0m\u001b[1;33m\u001b[0m\u001b[0m\n\u001b[0m\u001b[0;32m   1196\u001b[0m             \u001b[1;32mif\u001b[0m \u001b[0margs\u001b[0m \u001b[1;33m!=\u001b[0m \u001b[0mrv\u001b[0m\u001b[1;33m.\u001b[0m\u001b[0margs\u001b[0m\u001b[1;33m:\u001b[0m\u001b[1;33m\u001b[0m\u001b[1;33m\u001b[0m\u001b[0m\n\u001b[0;32m   1197\u001b[0m                 \u001b[0mrv\u001b[0m \u001b[1;33m=\u001b[0m \u001b[0mrv\u001b[0m\u001b[1;33m.\u001b[0m\u001b[0mfunc\u001b[0m\u001b[1;33m(\u001b[0m\u001b[1;33m*\u001b[0m\u001b[0margs\u001b[0m\u001b[1;33m)\u001b[0m\u001b[1;33m\u001b[0m\u001b[1;33m\u001b[0m\u001b[0m\n",
      "\u001b[1;32m~\\AppData\\Local\\Continuum\\anaconda3\\envs\\fwtmodels\\lib\\site-packages\\sympy\\simplify\\simplify.py\u001b[0m in \u001b[0;36mbottom_up\u001b[1;34m(rv, F, atoms, nonbasic)\u001b[0m\n\u001b[0;32m   1196\u001b[0m             \u001b[1;32mif\u001b[0m \u001b[0margs\u001b[0m \u001b[1;33m!=\u001b[0m \u001b[0mrv\u001b[0m\u001b[1;33m.\u001b[0m\u001b[0margs\u001b[0m\u001b[1;33m:\u001b[0m\u001b[1;33m\u001b[0m\u001b[1;33m\u001b[0m\u001b[0m\n\u001b[0;32m   1197\u001b[0m                 \u001b[0mrv\u001b[0m \u001b[1;33m=\u001b[0m \u001b[0mrv\u001b[0m\u001b[1;33m.\u001b[0m\u001b[0mfunc\u001b[0m\u001b[1;33m(\u001b[0m\u001b[1;33m*\u001b[0m\u001b[0margs\u001b[0m\u001b[1;33m)\u001b[0m\u001b[1;33m\u001b[0m\u001b[1;33m\u001b[0m\u001b[0m\n\u001b[1;32m-> 1198\u001b[1;33m             \u001b[0mrv\u001b[0m \u001b[1;33m=\u001b[0m \u001b[0mF\u001b[0m\u001b[1;33m(\u001b[0m\u001b[0mrv\u001b[0m\u001b[1;33m)\u001b[0m\u001b[1;33m\u001b[0m\u001b[1;33m\u001b[0m\u001b[0m\n\u001b[0m\u001b[0;32m   1199\u001b[0m         \u001b[1;32melif\u001b[0m \u001b[0matoms\u001b[0m\u001b[1;33m:\u001b[0m\u001b[1;33m\u001b[0m\u001b[1;33m\u001b[0m\u001b[0m\n\u001b[0;32m   1200\u001b[0m             \u001b[0mrv\u001b[0m \u001b[1;33m=\u001b[0m \u001b[0mF\u001b[0m\u001b[1;33m(\u001b[0m\u001b[0mrv\u001b[0m\u001b[1;33m)\u001b[0m\u001b[1;33m\u001b[0m\u001b[1;33m\u001b[0m\u001b[0m\n",
      "\u001b[1;32m~\\AppData\\Local\\Continuum\\anaconda3\\envs\\fwtmodels\\lib\\site-packages\\sympy\\simplify\\trigsimp.py\u001b[0m in \u001b[0;36m_futrig\u001b[1;34m(e)\u001b[0m\n\u001b[0;32m   1168\u001b[0m             factor_terms, TR12(x), trigs)],  # expand tan of sum\n\u001b[0;32m   1169\u001b[0m         )]\n\u001b[1;32m-> 1170\u001b[1;33m     \u001b[0me\u001b[0m \u001b[1;33m=\u001b[0m \u001b[0mgreedy\u001b[0m\u001b[1;33m(\u001b[0m\u001b[0mtree\u001b[0m\u001b[1;33m,\u001b[0m \u001b[0mobjective\u001b[0m\u001b[1;33m=\u001b[0m\u001b[0mLops\u001b[0m\u001b[1;33m)\u001b[0m\u001b[1;33m(\u001b[0m\u001b[0me\u001b[0m\u001b[1;33m)\u001b[0m\u001b[1;33m\u001b[0m\u001b[1;33m\u001b[0m\u001b[0m\n\u001b[0m\u001b[0;32m   1171\u001b[0m \u001b[1;33m\u001b[0m\u001b[0m\n\u001b[0;32m   1172\u001b[0m     \u001b[1;32mif\u001b[0m \u001b[0mcoeff\u001b[0m \u001b[1;32mis\u001b[0m \u001b[1;32mnot\u001b[0m \u001b[1;32mNone\u001b[0m\u001b[1;33m:\u001b[0m\u001b[1;33m\u001b[0m\u001b[1;33m\u001b[0m\u001b[0m\n",
      "\u001b[1;32m~\\AppData\\Local\\Continuum\\anaconda3\\envs\\fwtmodels\\lib\\site-packages\\sympy\\strategies\\core.py\u001b[0m in \u001b[0;36mminrule\u001b[1;34m(expr)\u001b[0m\n\u001b[0;32m    109\u001b[0m \u001b[1;33m\u001b[0m\u001b[0m\n\u001b[0;32m    110\u001b[0m     \u001b[1;32mdef\u001b[0m \u001b[0mminrule\u001b[0m\u001b[1;33m(\u001b[0m\u001b[0mexpr\u001b[0m\u001b[1;33m)\u001b[0m\u001b[1;33m:\u001b[0m\u001b[1;33m\u001b[0m\u001b[1;33m\u001b[0m\u001b[0m\n\u001b[1;32m--> 111\u001b[1;33m         \u001b[1;32mreturn\u001b[0m \u001b[0mmin\u001b[0m\u001b[1;33m(\u001b[0m\u001b[1;33m[\u001b[0m\u001b[0mrule\u001b[0m\u001b[1;33m(\u001b[0m\u001b[0mexpr\u001b[0m\u001b[1;33m)\u001b[0m \u001b[1;32mfor\u001b[0m \u001b[0mrule\u001b[0m \u001b[1;32min\u001b[0m \u001b[0mrules\u001b[0m\u001b[1;33m]\u001b[0m\u001b[1;33m,\u001b[0m \u001b[0mkey\u001b[0m\u001b[1;33m=\u001b[0m\u001b[0mobjective\u001b[0m\u001b[1;33m)\u001b[0m\u001b[1;33m\u001b[0m\u001b[1;33m\u001b[0m\u001b[0m\n\u001b[0m\u001b[0;32m    112\u001b[0m     \u001b[1;32mreturn\u001b[0m \u001b[0mminrule\u001b[0m\u001b[1;33m\u001b[0m\u001b[1;33m\u001b[0m\u001b[0m\n",
      "\u001b[1;32m~\\AppData\\Local\\Continuum\\anaconda3\\envs\\fwtmodels\\lib\\site-packages\\sympy\\strategies\\core.py\u001b[0m in \u001b[0;36m<listcomp>\u001b[1;34m(.0)\u001b[0m\n\u001b[0;32m    109\u001b[0m \u001b[1;33m\u001b[0m\u001b[0m\n\u001b[0;32m    110\u001b[0m     \u001b[1;32mdef\u001b[0m \u001b[0mminrule\u001b[0m\u001b[1;33m(\u001b[0m\u001b[0mexpr\u001b[0m\u001b[1;33m)\u001b[0m\u001b[1;33m:\u001b[0m\u001b[1;33m\u001b[0m\u001b[1;33m\u001b[0m\u001b[0m\n\u001b[1;32m--> 111\u001b[1;33m         \u001b[1;32mreturn\u001b[0m \u001b[0mmin\u001b[0m\u001b[1;33m(\u001b[0m\u001b[1;33m[\u001b[0m\u001b[0mrule\u001b[0m\u001b[1;33m(\u001b[0m\u001b[0mexpr\u001b[0m\u001b[1;33m)\u001b[0m \u001b[1;32mfor\u001b[0m \u001b[0mrule\u001b[0m \u001b[1;32min\u001b[0m \u001b[0mrules\u001b[0m\u001b[1;33m]\u001b[0m\u001b[1;33m,\u001b[0m \u001b[0mkey\u001b[0m\u001b[1;33m=\u001b[0m\u001b[0mobjective\u001b[0m\u001b[1;33m)\u001b[0m\u001b[1;33m\u001b[0m\u001b[1;33m\u001b[0m\u001b[0m\n\u001b[0m\u001b[0;32m    112\u001b[0m     \u001b[1;32mreturn\u001b[0m \u001b[0mminrule\u001b[0m\u001b[1;33m\u001b[0m\u001b[1;33m\u001b[0m\u001b[0m\n",
      "\u001b[1;32m~\\AppData\\Local\\Continuum\\anaconda3\\envs\\fwtmodels\\lib\\site-packages\\sympy\\strategies\\core.py\u001b[0m in \u001b[0;36mchain_rl\u001b[1;34m(expr)\u001b[0m\n\u001b[0;32m     39\u001b[0m     \u001b[1;32mdef\u001b[0m \u001b[0mchain_rl\u001b[0m\u001b[1;33m(\u001b[0m\u001b[0mexpr\u001b[0m\u001b[1;33m)\u001b[0m\u001b[1;33m:\u001b[0m\u001b[1;33m\u001b[0m\u001b[1;33m\u001b[0m\u001b[0m\n\u001b[0;32m     40\u001b[0m         \u001b[1;32mfor\u001b[0m \u001b[0mrule\u001b[0m \u001b[1;32min\u001b[0m \u001b[0mrules\u001b[0m\u001b[1;33m:\u001b[0m\u001b[1;33m\u001b[0m\u001b[1;33m\u001b[0m\u001b[0m\n\u001b[1;32m---> 41\u001b[1;33m             \u001b[0mexpr\u001b[0m \u001b[1;33m=\u001b[0m \u001b[0mrule\u001b[0m\u001b[1;33m(\u001b[0m\u001b[0mexpr\u001b[0m\u001b[1;33m)\u001b[0m\u001b[1;33m\u001b[0m\u001b[1;33m\u001b[0m\u001b[0m\n\u001b[0m\u001b[0;32m     42\u001b[0m         \u001b[1;32mreturn\u001b[0m \u001b[0mexpr\u001b[0m\u001b[1;33m\u001b[0m\u001b[1;33m\u001b[0m\u001b[0m\n\u001b[0;32m     43\u001b[0m     \u001b[1;32mreturn\u001b[0m \u001b[0mchain_rl\u001b[0m\u001b[1;33m\u001b[0m\u001b[1;33m\u001b[0m\u001b[0m\n",
      "\u001b[1;32m~\\AppData\\Local\\Continuum\\anaconda3\\envs\\fwtmodels\\lib\\site-packages\\sympy\\strategies\\core.py\u001b[0m in \u001b[0;36mminrule\u001b[1;34m(expr)\u001b[0m\n\u001b[0;32m    109\u001b[0m \u001b[1;33m\u001b[0m\u001b[0m\n\u001b[0;32m    110\u001b[0m     \u001b[1;32mdef\u001b[0m \u001b[0mminrule\u001b[0m\u001b[1;33m(\u001b[0m\u001b[0mexpr\u001b[0m\u001b[1;33m)\u001b[0m\u001b[1;33m:\u001b[0m\u001b[1;33m\u001b[0m\u001b[1;33m\u001b[0m\u001b[0m\n\u001b[1;32m--> 111\u001b[1;33m         \u001b[1;32mreturn\u001b[0m \u001b[0mmin\u001b[0m\u001b[1;33m(\u001b[0m\u001b[1;33m[\u001b[0m\u001b[0mrule\u001b[0m\u001b[1;33m(\u001b[0m\u001b[0mexpr\u001b[0m\u001b[1;33m)\u001b[0m \u001b[1;32mfor\u001b[0m \u001b[0mrule\u001b[0m \u001b[1;32min\u001b[0m \u001b[0mrules\u001b[0m\u001b[1;33m]\u001b[0m\u001b[1;33m,\u001b[0m \u001b[0mkey\u001b[0m\u001b[1;33m=\u001b[0m\u001b[0mobjective\u001b[0m\u001b[1;33m)\u001b[0m\u001b[1;33m\u001b[0m\u001b[1;33m\u001b[0m\u001b[0m\n\u001b[0m\u001b[0;32m    112\u001b[0m     \u001b[1;32mreturn\u001b[0m \u001b[0mminrule\u001b[0m\u001b[1;33m\u001b[0m\u001b[1;33m\u001b[0m\u001b[0m\n",
      "\u001b[1;32m~\\AppData\\Local\\Continuum\\anaconda3\\envs\\fwtmodels\\lib\\site-packages\\sympy\\strategies\\core.py\u001b[0m in \u001b[0;36m<listcomp>\u001b[1;34m(.0)\u001b[0m\n\u001b[0;32m    109\u001b[0m \u001b[1;33m\u001b[0m\u001b[0m\n\u001b[0;32m    110\u001b[0m     \u001b[1;32mdef\u001b[0m \u001b[0mminrule\u001b[0m\u001b[1;33m(\u001b[0m\u001b[0mexpr\u001b[0m\u001b[1;33m)\u001b[0m\u001b[1;33m:\u001b[0m\u001b[1;33m\u001b[0m\u001b[1;33m\u001b[0m\u001b[0m\n\u001b[1;32m--> 111\u001b[1;33m         \u001b[1;32mreturn\u001b[0m \u001b[0mmin\u001b[0m\u001b[1;33m(\u001b[0m\u001b[1;33m[\u001b[0m\u001b[0mrule\u001b[0m\u001b[1;33m(\u001b[0m\u001b[0mexpr\u001b[0m\u001b[1;33m)\u001b[0m \u001b[1;32mfor\u001b[0m \u001b[0mrule\u001b[0m \u001b[1;32min\u001b[0m \u001b[0mrules\u001b[0m\u001b[1;33m]\u001b[0m\u001b[1;33m,\u001b[0m \u001b[0mkey\u001b[0m\u001b[1;33m=\u001b[0m\u001b[0mobjective\u001b[0m\u001b[1;33m)\u001b[0m\u001b[1;33m\u001b[0m\u001b[1;33m\u001b[0m\u001b[0m\n\u001b[0m\u001b[0;32m    112\u001b[0m     \u001b[1;32mreturn\u001b[0m \u001b[0mminrule\u001b[0m\u001b[1;33m\u001b[0m\u001b[1;33m\u001b[0m\u001b[0m\n",
      "\u001b[1;32m~\\AppData\\Local\\Continuum\\anaconda3\\envs\\fwtmodels\\lib\\site-packages\\sympy\\simplify\\fu.py\u001b[0m in \u001b[0;36mTR8\u001b[1;34m(rv, first)\u001b[0m\n\u001b[0;32m    474\u001b[0m         \u001b[1;32mreturn\u001b[0m \u001b[0mTR8\u001b[0m\u001b[1;33m(\u001b[0m\u001b[0mexpand_mul\u001b[0m\u001b[1;33m(\u001b[0m\u001b[0mMul\u001b[0m\u001b[1;33m(\u001b[0m\u001b[1;33m*\u001b[0m\u001b[0margs\u001b[0m\u001b[1;33m)\u001b[0m\u001b[1;33m)\u001b[0m\u001b[1;33m)\u001b[0m\u001b[1;33m\u001b[0m\u001b[1;33m\u001b[0m\u001b[0m\n\u001b[0;32m    475\u001b[0m \u001b[1;33m\u001b[0m\u001b[0m\n\u001b[1;32m--> 476\u001b[1;33m     \u001b[1;32mreturn\u001b[0m \u001b[0mbottom_up\u001b[0m\u001b[1;33m(\u001b[0m\u001b[0mrv\u001b[0m\u001b[1;33m,\u001b[0m \u001b[0mf\u001b[0m\u001b[1;33m)\u001b[0m\u001b[1;33m\u001b[0m\u001b[1;33m\u001b[0m\u001b[0m\n\u001b[0m\u001b[0;32m    477\u001b[0m \u001b[1;33m\u001b[0m\u001b[0m\n\u001b[0;32m    478\u001b[0m \u001b[1;33m\u001b[0m\u001b[0m\n",
      "\u001b[1;32m~\\AppData\\Local\\Continuum\\anaconda3\\envs\\fwtmodels\\lib\\site-packages\\sympy\\simplify\\simplify.py\u001b[0m in \u001b[0;36mbottom_up\u001b[1;34m(rv, F, atoms, nonbasic)\u001b[0m\n\u001b[0;32m   1193\u001b[0m     \u001b[1;32mif\u001b[0m \u001b[0margs\u001b[0m \u001b[1;32mis\u001b[0m \u001b[1;32mnot\u001b[0m \u001b[1;32mNone\u001b[0m\u001b[1;33m:\u001b[0m\u001b[1;33m\u001b[0m\u001b[1;33m\u001b[0m\u001b[0m\n\u001b[0;32m   1194\u001b[0m         \u001b[1;32mif\u001b[0m \u001b[0margs\u001b[0m\u001b[1;33m:\u001b[0m\u001b[1;33m\u001b[0m\u001b[1;33m\u001b[0m\u001b[0m\n\u001b[1;32m-> 1195\u001b[1;33m             \u001b[0margs\u001b[0m \u001b[1;33m=\u001b[0m \u001b[0mtuple\u001b[0m\u001b[1;33m(\u001b[0m\u001b[1;33m[\u001b[0m\u001b[0mbottom_up\u001b[0m\u001b[1;33m(\u001b[0m\u001b[0ma\u001b[0m\u001b[1;33m,\u001b[0m \u001b[0mF\u001b[0m\u001b[1;33m,\u001b[0m \u001b[0matoms\u001b[0m\u001b[1;33m,\u001b[0m \u001b[0mnonbasic\u001b[0m\u001b[1;33m)\u001b[0m \u001b[1;32mfor\u001b[0m \u001b[0ma\u001b[0m \u001b[1;32min\u001b[0m \u001b[0margs\u001b[0m\u001b[1;33m]\u001b[0m\u001b[1;33m)\u001b[0m\u001b[1;33m\u001b[0m\u001b[1;33m\u001b[0m\u001b[0m\n\u001b[0m\u001b[0;32m   1196\u001b[0m             \u001b[1;32mif\u001b[0m \u001b[0margs\u001b[0m \u001b[1;33m!=\u001b[0m \u001b[0mrv\u001b[0m\u001b[1;33m.\u001b[0m\u001b[0margs\u001b[0m\u001b[1;33m:\u001b[0m\u001b[1;33m\u001b[0m\u001b[1;33m\u001b[0m\u001b[0m\n\u001b[0;32m   1197\u001b[0m                 \u001b[0mrv\u001b[0m \u001b[1;33m=\u001b[0m \u001b[0mrv\u001b[0m\u001b[1;33m.\u001b[0m\u001b[0mfunc\u001b[0m\u001b[1;33m(\u001b[0m\u001b[1;33m*\u001b[0m\u001b[0margs\u001b[0m\u001b[1;33m)\u001b[0m\u001b[1;33m\u001b[0m\u001b[1;33m\u001b[0m\u001b[0m\n",
      "\u001b[1;32m~\\AppData\\Local\\Continuum\\anaconda3\\envs\\fwtmodels\\lib\\site-packages\\sympy\\simplify\\simplify.py\u001b[0m in \u001b[0;36m<listcomp>\u001b[1;34m(.0)\u001b[0m\n\u001b[0;32m   1193\u001b[0m     \u001b[1;32mif\u001b[0m \u001b[0margs\u001b[0m \u001b[1;32mis\u001b[0m \u001b[1;32mnot\u001b[0m \u001b[1;32mNone\u001b[0m\u001b[1;33m:\u001b[0m\u001b[1;33m\u001b[0m\u001b[1;33m\u001b[0m\u001b[0m\n\u001b[0;32m   1194\u001b[0m         \u001b[1;32mif\u001b[0m \u001b[0margs\u001b[0m\u001b[1;33m:\u001b[0m\u001b[1;33m\u001b[0m\u001b[1;33m\u001b[0m\u001b[0m\n\u001b[1;32m-> 1195\u001b[1;33m             \u001b[0margs\u001b[0m \u001b[1;33m=\u001b[0m \u001b[0mtuple\u001b[0m\u001b[1;33m(\u001b[0m\u001b[1;33m[\u001b[0m\u001b[0mbottom_up\u001b[0m\u001b[1;33m(\u001b[0m\u001b[0ma\u001b[0m\u001b[1;33m,\u001b[0m \u001b[0mF\u001b[0m\u001b[1;33m,\u001b[0m \u001b[0matoms\u001b[0m\u001b[1;33m,\u001b[0m \u001b[0mnonbasic\u001b[0m\u001b[1;33m)\u001b[0m \u001b[1;32mfor\u001b[0m \u001b[0ma\u001b[0m \u001b[1;32min\u001b[0m \u001b[0margs\u001b[0m\u001b[1;33m]\u001b[0m\u001b[1;33m)\u001b[0m\u001b[1;33m\u001b[0m\u001b[1;33m\u001b[0m\u001b[0m\n\u001b[0m\u001b[0;32m   1196\u001b[0m             \u001b[1;32mif\u001b[0m \u001b[0margs\u001b[0m \u001b[1;33m!=\u001b[0m \u001b[0mrv\u001b[0m\u001b[1;33m.\u001b[0m\u001b[0margs\u001b[0m\u001b[1;33m:\u001b[0m\u001b[1;33m\u001b[0m\u001b[1;33m\u001b[0m\u001b[0m\n\u001b[0;32m   1197\u001b[0m                 \u001b[0mrv\u001b[0m \u001b[1;33m=\u001b[0m \u001b[0mrv\u001b[0m\u001b[1;33m.\u001b[0m\u001b[0mfunc\u001b[0m\u001b[1;33m(\u001b[0m\u001b[1;33m*\u001b[0m\u001b[0margs\u001b[0m\u001b[1;33m)\u001b[0m\u001b[1;33m\u001b[0m\u001b[1;33m\u001b[0m\u001b[0m\n",
      "\u001b[1;32m~\\AppData\\Local\\Continuum\\anaconda3\\envs\\fwtmodels\\lib\\site-packages\\sympy\\simplify\\simplify.py\u001b[0m in \u001b[0;36mbottom_up\u001b[1;34m(rv, F, atoms, nonbasic)\u001b[0m\n\u001b[0;32m   1196\u001b[0m             \u001b[1;32mif\u001b[0m \u001b[0margs\u001b[0m \u001b[1;33m!=\u001b[0m \u001b[0mrv\u001b[0m\u001b[1;33m.\u001b[0m\u001b[0margs\u001b[0m\u001b[1;33m:\u001b[0m\u001b[1;33m\u001b[0m\u001b[1;33m\u001b[0m\u001b[0m\n\u001b[0;32m   1197\u001b[0m                 \u001b[0mrv\u001b[0m \u001b[1;33m=\u001b[0m \u001b[0mrv\u001b[0m\u001b[1;33m.\u001b[0m\u001b[0mfunc\u001b[0m\u001b[1;33m(\u001b[0m\u001b[1;33m*\u001b[0m\u001b[0margs\u001b[0m\u001b[1;33m)\u001b[0m\u001b[1;33m\u001b[0m\u001b[1;33m\u001b[0m\u001b[0m\n\u001b[1;32m-> 1198\u001b[1;33m             \u001b[0mrv\u001b[0m \u001b[1;33m=\u001b[0m \u001b[0mF\u001b[0m\u001b[1;33m(\u001b[0m\u001b[0mrv\u001b[0m\u001b[1;33m)\u001b[0m\u001b[1;33m\u001b[0m\u001b[1;33m\u001b[0m\u001b[0m\n\u001b[0m\u001b[0;32m   1199\u001b[0m         \u001b[1;32melif\u001b[0m \u001b[0matoms\u001b[0m\u001b[1;33m:\u001b[0m\u001b[1;33m\u001b[0m\u001b[1;33m\u001b[0m\u001b[0m\n\u001b[0;32m   1200\u001b[0m             \u001b[0mrv\u001b[0m \u001b[1;33m=\u001b[0m \u001b[0mF\u001b[0m\u001b[1;33m(\u001b[0m\u001b[0mrv\u001b[0m\u001b[1;33m)\u001b[0m\u001b[1;33m\u001b[0m\u001b[1;33m\u001b[0m\u001b[0m\n",
      "\u001b[1;32m~\\AppData\\Local\\Continuum\\anaconda3\\envs\\fwtmodels\\lib\\site-packages\\sympy\\simplify\\fu.py\u001b[0m in \u001b[0;36mf\u001b[1;34m(rv)\u001b[0m\n\u001b[0;32m    429\u001b[0m         \u001b[1;32mif\u001b[0m \u001b[0mfirst\u001b[0m\u001b[1;33m:\u001b[0m\u001b[1;33m\u001b[0m\u001b[1;33m\u001b[0m\u001b[0m\n\u001b[0;32m    430\u001b[0m             \u001b[0mn\u001b[0m\u001b[1;33m,\u001b[0m \u001b[0md\u001b[0m \u001b[1;33m=\u001b[0m \u001b[1;33m[\u001b[0m\u001b[0mexpand_mul\u001b[0m\u001b[1;33m(\u001b[0m\u001b[0mi\u001b[0m\u001b[1;33m)\u001b[0m \u001b[1;32mfor\u001b[0m \u001b[0mi\u001b[0m \u001b[1;32min\u001b[0m \u001b[0mrv\u001b[0m\u001b[1;33m.\u001b[0m\u001b[0mas_numer_denom\u001b[0m\u001b[1;33m(\u001b[0m\u001b[1;33m)\u001b[0m\u001b[1;33m]\u001b[0m\u001b[1;33m\u001b[0m\u001b[1;33m\u001b[0m\u001b[0m\n\u001b[1;32m--> 431\u001b[1;33m             \u001b[0mnewn\u001b[0m \u001b[1;33m=\u001b[0m \u001b[0mTR8\u001b[0m\u001b[1;33m(\u001b[0m\u001b[0mn\u001b[0m\u001b[1;33m,\u001b[0m \u001b[0mfirst\u001b[0m\u001b[1;33m=\u001b[0m\u001b[1;32mFalse\u001b[0m\u001b[1;33m)\u001b[0m\u001b[1;33m\u001b[0m\u001b[1;33m\u001b[0m\u001b[0m\n\u001b[0m\u001b[0;32m    432\u001b[0m             \u001b[0mnewd\u001b[0m \u001b[1;33m=\u001b[0m \u001b[0mTR8\u001b[0m\u001b[1;33m(\u001b[0m\u001b[0md\u001b[0m\u001b[1;33m,\u001b[0m \u001b[0mfirst\u001b[0m\u001b[1;33m=\u001b[0m\u001b[1;32mFalse\u001b[0m\u001b[1;33m)\u001b[0m\u001b[1;33m\u001b[0m\u001b[1;33m\u001b[0m\u001b[0m\n\u001b[0;32m    433\u001b[0m             \u001b[1;32mif\u001b[0m \u001b[0mnewn\u001b[0m \u001b[1;33m!=\u001b[0m \u001b[0mn\u001b[0m \u001b[1;32mor\u001b[0m \u001b[0mnewd\u001b[0m \u001b[1;33m!=\u001b[0m \u001b[0md\u001b[0m\u001b[1;33m:\u001b[0m\u001b[1;33m\u001b[0m\u001b[1;33m\u001b[0m\u001b[0m\n",
      "\u001b[1;32m~\\AppData\\Local\\Continuum\\anaconda3\\envs\\fwtmodels\\lib\\site-packages\\sympy\\simplify\\fu.py\u001b[0m in \u001b[0;36mTR8\u001b[1;34m(rv, first)\u001b[0m\n\u001b[0;32m    474\u001b[0m         \u001b[1;32mreturn\u001b[0m \u001b[0mTR8\u001b[0m\u001b[1;33m(\u001b[0m\u001b[0mexpand_mul\u001b[0m\u001b[1;33m(\u001b[0m\u001b[0mMul\u001b[0m\u001b[1;33m(\u001b[0m\u001b[1;33m*\u001b[0m\u001b[0margs\u001b[0m\u001b[1;33m)\u001b[0m\u001b[1;33m)\u001b[0m\u001b[1;33m)\u001b[0m\u001b[1;33m\u001b[0m\u001b[1;33m\u001b[0m\u001b[0m\n\u001b[0;32m    475\u001b[0m \u001b[1;33m\u001b[0m\u001b[0m\n\u001b[1;32m--> 476\u001b[1;33m     \u001b[1;32mreturn\u001b[0m \u001b[0mbottom_up\u001b[0m\u001b[1;33m(\u001b[0m\u001b[0mrv\u001b[0m\u001b[1;33m,\u001b[0m \u001b[0mf\u001b[0m\u001b[1;33m)\u001b[0m\u001b[1;33m\u001b[0m\u001b[1;33m\u001b[0m\u001b[0m\n\u001b[0m\u001b[0;32m    477\u001b[0m \u001b[1;33m\u001b[0m\u001b[0m\n\u001b[0;32m    478\u001b[0m \u001b[1;33m\u001b[0m\u001b[0m\n",
      "\u001b[1;32m~\\AppData\\Local\\Continuum\\anaconda3\\envs\\fwtmodels\\lib\\site-packages\\sympy\\simplify\\simplify.py\u001b[0m in \u001b[0;36mbottom_up\u001b[1;34m(rv, F, atoms, nonbasic)\u001b[0m\n\u001b[0;32m   1196\u001b[0m             \u001b[1;32mif\u001b[0m \u001b[0margs\u001b[0m \u001b[1;33m!=\u001b[0m \u001b[0mrv\u001b[0m\u001b[1;33m.\u001b[0m\u001b[0margs\u001b[0m\u001b[1;33m:\u001b[0m\u001b[1;33m\u001b[0m\u001b[1;33m\u001b[0m\u001b[0m\n\u001b[0;32m   1197\u001b[0m                 \u001b[0mrv\u001b[0m \u001b[1;33m=\u001b[0m \u001b[0mrv\u001b[0m\u001b[1;33m.\u001b[0m\u001b[0mfunc\u001b[0m\u001b[1;33m(\u001b[0m\u001b[1;33m*\u001b[0m\u001b[0margs\u001b[0m\u001b[1;33m)\u001b[0m\u001b[1;33m\u001b[0m\u001b[1;33m\u001b[0m\u001b[0m\n\u001b[1;32m-> 1198\u001b[1;33m             \u001b[0mrv\u001b[0m \u001b[1;33m=\u001b[0m \u001b[0mF\u001b[0m\u001b[1;33m(\u001b[0m\u001b[0mrv\u001b[0m\u001b[1;33m)\u001b[0m\u001b[1;33m\u001b[0m\u001b[1;33m\u001b[0m\u001b[0m\n\u001b[0m\u001b[0;32m   1199\u001b[0m         \u001b[1;32melif\u001b[0m \u001b[0matoms\u001b[0m\u001b[1;33m:\u001b[0m\u001b[1;33m\u001b[0m\u001b[1;33m\u001b[0m\u001b[0m\n\u001b[0;32m   1200\u001b[0m             \u001b[0mrv\u001b[0m \u001b[1;33m=\u001b[0m \u001b[0mF\u001b[0m\u001b[1;33m(\u001b[0m\u001b[0mrv\u001b[0m\u001b[1;33m)\u001b[0m\u001b[1;33m\u001b[0m\u001b[1;33m\u001b[0m\u001b[0m\n",
      "\u001b[1;32m~\\AppData\\Local\\Continuum\\anaconda3\\envs\\fwtmodels\\lib\\site-packages\\sympy\\simplify\\fu.py\u001b[0m in \u001b[0;36mf\u001b[1;34m(rv)\u001b[0m\n\u001b[0;32m    472\u001b[0m         \u001b[1;32mif\u001b[0m \u001b[0ms\u001b[0m\u001b[1;33m:\u001b[0m\u001b[1;33m\u001b[0m\u001b[1;33m\u001b[0m\u001b[0m\n\u001b[0;32m    473\u001b[0m             \u001b[0margs\u001b[0m\u001b[1;33m.\u001b[0m\u001b[0mappend\u001b[0m\u001b[1;33m(\u001b[0m\u001b[0msin\u001b[0m\u001b[1;33m(\u001b[0m\u001b[0ms\u001b[0m\u001b[1;33m.\u001b[0m\u001b[0mpop\u001b[0m\u001b[1;33m(\u001b[0m\u001b[1;33m)\u001b[0m\u001b[1;33m)\u001b[0m\u001b[1;33m)\u001b[0m\u001b[1;33m\u001b[0m\u001b[1;33m\u001b[0m\u001b[0m\n\u001b[1;32m--> 474\u001b[1;33m         \u001b[1;32mreturn\u001b[0m \u001b[0mTR8\u001b[0m\u001b[1;33m(\u001b[0m\u001b[0mexpand_mul\u001b[0m\u001b[1;33m(\u001b[0m\u001b[0mMul\u001b[0m\u001b[1;33m(\u001b[0m\u001b[1;33m*\u001b[0m\u001b[0margs\u001b[0m\u001b[1;33m)\u001b[0m\u001b[1;33m)\u001b[0m\u001b[1;33m)\u001b[0m\u001b[1;33m\u001b[0m\u001b[1;33m\u001b[0m\u001b[0m\n\u001b[0m\u001b[0;32m    475\u001b[0m \u001b[1;33m\u001b[0m\u001b[0m\n\u001b[0;32m    476\u001b[0m     \u001b[1;32mreturn\u001b[0m \u001b[0mbottom_up\u001b[0m\u001b[1;33m(\u001b[0m\u001b[0mrv\u001b[0m\u001b[1;33m,\u001b[0m \u001b[0mf\u001b[0m\u001b[1;33m)\u001b[0m\u001b[1;33m\u001b[0m\u001b[1;33m\u001b[0m\u001b[0m\n",
      "\u001b[1;32m~\\AppData\\Local\\Continuum\\anaconda3\\envs\\fwtmodels\\lib\\site-packages\\sympy\\simplify\\fu.py\u001b[0m in \u001b[0;36mTR8\u001b[1;34m(rv, first)\u001b[0m\n\u001b[0;32m    474\u001b[0m         \u001b[1;32mreturn\u001b[0m \u001b[0mTR8\u001b[0m\u001b[1;33m(\u001b[0m\u001b[0mexpand_mul\u001b[0m\u001b[1;33m(\u001b[0m\u001b[0mMul\u001b[0m\u001b[1;33m(\u001b[0m\u001b[1;33m*\u001b[0m\u001b[0margs\u001b[0m\u001b[1;33m)\u001b[0m\u001b[1;33m)\u001b[0m\u001b[1;33m)\u001b[0m\u001b[1;33m\u001b[0m\u001b[1;33m\u001b[0m\u001b[0m\n\u001b[0;32m    475\u001b[0m \u001b[1;33m\u001b[0m\u001b[0m\n\u001b[1;32m--> 476\u001b[1;33m     \u001b[1;32mreturn\u001b[0m \u001b[0mbottom_up\u001b[0m\u001b[1;33m(\u001b[0m\u001b[0mrv\u001b[0m\u001b[1;33m,\u001b[0m \u001b[0mf\u001b[0m\u001b[1;33m)\u001b[0m\u001b[1;33m\u001b[0m\u001b[1;33m\u001b[0m\u001b[0m\n\u001b[0m\u001b[0;32m    477\u001b[0m \u001b[1;33m\u001b[0m\u001b[0m\n\u001b[0;32m    478\u001b[0m \u001b[1;33m\u001b[0m\u001b[0m\n",
      "\u001b[1;32m~\\AppData\\Local\\Continuum\\anaconda3\\envs\\fwtmodels\\lib\\site-packages\\sympy\\simplify\\simplify.py\u001b[0m in \u001b[0;36mbottom_up\u001b[1;34m(rv, F, atoms, nonbasic)\u001b[0m\n\u001b[0;32m   1193\u001b[0m     \u001b[1;32mif\u001b[0m \u001b[0margs\u001b[0m \u001b[1;32mis\u001b[0m \u001b[1;32mnot\u001b[0m \u001b[1;32mNone\u001b[0m\u001b[1;33m:\u001b[0m\u001b[1;33m\u001b[0m\u001b[1;33m\u001b[0m\u001b[0m\n\u001b[0;32m   1194\u001b[0m         \u001b[1;32mif\u001b[0m \u001b[0margs\u001b[0m\u001b[1;33m:\u001b[0m\u001b[1;33m\u001b[0m\u001b[1;33m\u001b[0m\u001b[0m\n\u001b[1;32m-> 1195\u001b[1;33m             \u001b[0margs\u001b[0m \u001b[1;33m=\u001b[0m \u001b[0mtuple\u001b[0m\u001b[1;33m(\u001b[0m\u001b[1;33m[\u001b[0m\u001b[0mbottom_up\u001b[0m\u001b[1;33m(\u001b[0m\u001b[0ma\u001b[0m\u001b[1;33m,\u001b[0m \u001b[0mF\u001b[0m\u001b[1;33m,\u001b[0m \u001b[0matoms\u001b[0m\u001b[1;33m,\u001b[0m \u001b[0mnonbasic\u001b[0m\u001b[1;33m)\u001b[0m \u001b[1;32mfor\u001b[0m \u001b[0ma\u001b[0m \u001b[1;32min\u001b[0m \u001b[0margs\u001b[0m\u001b[1;33m]\u001b[0m\u001b[1;33m)\u001b[0m\u001b[1;33m\u001b[0m\u001b[1;33m\u001b[0m\u001b[0m\n\u001b[0m\u001b[0;32m   1196\u001b[0m             \u001b[1;32mif\u001b[0m \u001b[0margs\u001b[0m \u001b[1;33m!=\u001b[0m \u001b[0mrv\u001b[0m\u001b[1;33m.\u001b[0m\u001b[0margs\u001b[0m\u001b[1;33m:\u001b[0m\u001b[1;33m\u001b[0m\u001b[1;33m\u001b[0m\u001b[0m\n\u001b[0;32m   1197\u001b[0m                 \u001b[0mrv\u001b[0m \u001b[1;33m=\u001b[0m \u001b[0mrv\u001b[0m\u001b[1;33m.\u001b[0m\u001b[0mfunc\u001b[0m\u001b[1;33m(\u001b[0m\u001b[1;33m*\u001b[0m\u001b[0margs\u001b[0m\u001b[1;33m)\u001b[0m\u001b[1;33m\u001b[0m\u001b[1;33m\u001b[0m\u001b[0m\n",
      "\u001b[1;32m~\\AppData\\Local\\Continuum\\anaconda3\\envs\\fwtmodels\\lib\\site-packages\\sympy\\simplify\\simplify.py\u001b[0m in \u001b[0;36m<listcomp>\u001b[1;34m(.0)\u001b[0m\n\u001b[0;32m   1193\u001b[0m     \u001b[1;32mif\u001b[0m \u001b[0margs\u001b[0m \u001b[1;32mis\u001b[0m \u001b[1;32mnot\u001b[0m \u001b[1;32mNone\u001b[0m\u001b[1;33m:\u001b[0m\u001b[1;33m\u001b[0m\u001b[1;33m\u001b[0m\u001b[0m\n\u001b[0;32m   1194\u001b[0m         \u001b[1;32mif\u001b[0m \u001b[0margs\u001b[0m\u001b[1;33m:\u001b[0m\u001b[1;33m\u001b[0m\u001b[1;33m\u001b[0m\u001b[0m\n\u001b[1;32m-> 1195\u001b[1;33m             \u001b[0margs\u001b[0m \u001b[1;33m=\u001b[0m \u001b[0mtuple\u001b[0m\u001b[1;33m(\u001b[0m\u001b[1;33m[\u001b[0m\u001b[0mbottom_up\u001b[0m\u001b[1;33m(\u001b[0m\u001b[0ma\u001b[0m\u001b[1;33m,\u001b[0m \u001b[0mF\u001b[0m\u001b[1;33m,\u001b[0m \u001b[0matoms\u001b[0m\u001b[1;33m,\u001b[0m \u001b[0mnonbasic\u001b[0m\u001b[1;33m)\u001b[0m \u001b[1;32mfor\u001b[0m \u001b[0ma\u001b[0m \u001b[1;32min\u001b[0m \u001b[0margs\u001b[0m\u001b[1;33m]\u001b[0m\u001b[1;33m)\u001b[0m\u001b[1;33m\u001b[0m\u001b[1;33m\u001b[0m\u001b[0m\n\u001b[0m\u001b[0;32m   1196\u001b[0m             \u001b[1;32mif\u001b[0m \u001b[0margs\u001b[0m \u001b[1;33m!=\u001b[0m \u001b[0mrv\u001b[0m\u001b[1;33m.\u001b[0m\u001b[0margs\u001b[0m\u001b[1;33m:\u001b[0m\u001b[1;33m\u001b[0m\u001b[1;33m\u001b[0m\u001b[0m\n\u001b[0;32m   1197\u001b[0m                 \u001b[0mrv\u001b[0m \u001b[1;33m=\u001b[0m \u001b[0mrv\u001b[0m\u001b[1;33m.\u001b[0m\u001b[0mfunc\u001b[0m\u001b[1;33m(\u001b[0m\u001b[1;33m*\u001b[0m\u001b[0margs\u001b[0m\u001b[1;33m)\u001b[0m\u001b[1;33m\u001b[0m\u001b[1;33m\u001b[0m\u001b[0m\n",
      "\u001b[1;32m~\\AppData\\Local\\Continuum\\anaconda3\\envs\\fwtmodels\\lib\\site-packages\\sympy\\simplify\\simplify.py\u001b[0m in \u001b[0;36mbottom_up\u001b[1;34m(rv, F, atoms, nonbasic)\u001b[0m\n\u001b[0;32m   1196\u001b[0m             \u001b[1;32mif\u001b[0m \u001b[0margs\u001b[0m \u001b[1;33m!=\u001b[0m \u001b[0mrv\u001b[0m\u001b[1;33m.\u001b[0m\u001b[0margs\u001b[0m\u001b[1;33m:\u001b[0m\u001b[1;33m\u001b[0m\u001b[1;33m\u001b[0m\u001b[0m\n\u001b[0;32m   1197\u001b[0m                 \u001b[0mrv\u001b[0m \u001b[1;33m=\u001b[0m \u001b[0mrv\u001b[0m\u001b[1;33m.\u001b[0m\u001b[0mfunc\u001b[0m\u001b[1;33m(\u001b[0m\u001b[1;33m*\u001b[0m\u001b[0margs\u001b[0m\u001b[1;33m)\u001b[0m\u001b[1;33m\u001b[0m\u001b[1;33m\u001b[0m\u001b[0m\n\u001b[1;32m-> 1198\u001b[1;33m             \u001b[0mrv\u001b[0m \u001b[1;33m=\u001b[0m \u001b[0mF\u001b[0m\u001b[1;33m(\u001b[0m\u001b[0mrv\u001b[0m\u001b[1;33m)\u001b[0m\u001b[1;33m\u001b[0m\u001b[1;33m\u001b[0m\u001b[0m\n\u001b[0m\u001b[0;32m   1199\u001b[0m         \u001b[1;32melif\u001b[0m \u001b[0matoms\u001b[0m\u001b[1;33m:\u001b[0m\u001b[1;33m\u001b[0m\u001b[1;33m\u001b[0m\u001b[0m\n\u001b[0;32m   1200\u001b[0m             \u001b[0mrv\u001b[0m \u001b[1;33m=\u001b[0m \u001b[0mF\u001b[0m\u001b[1;33m(\u001b[0m\u001b[0mrv\u001b[0m\u001b[1;33m)\u001b[0m\u001b[1;33m\u001b[0m\u001b[1;33m\u001b[0m\u001b[0m\n",
      "\u001b[1;32m~\\AppData\\Local\\Continuum\\anaconda3\\envs\\fwtmodels\\lib\\site-packages\\sympy\\simplify\\fu.py\u001b[0m in \u001b[0;36mf\u001b[1;34m(rv)\u001b[0m\n\u001b[0;32m    429\u001b[0m         \u001b[1;32mif\u001b[0m \u001b[0mfirst\u001b[0m\u001b[1;33m:\u001b[0m\u001b[1;33m\u001b[0m\u001b[1;33m\u001b[0m\u001b[0m\n\u001b[0;32m    430\u001b[0m             \u001b[0mn\u001b[0m\u001b[1;33m,\u001b[0m \u001b[0md\u001b[0m \u001b[1;33m=\u001b[0m \u001b[1;33m[\u001b[0m\u001b[0mexpand_mul\u001b[0m\u001b[1;33m(\u001b[0m\u001b[0mi\u001b[0m\u001b[1;33m)\u001b[0m \u001b[1;32mfor\u001b[0m \u001b[0mi\u001b[0m \u001b[1;32min\u001b[0m \u001b[0mrv\u001b[0m\u001b[1;33m.\u001b[0m\u001b[0mas_numer_denom\u001b[0m\u001b[1;33m(\u001b[0m\u001b[1;33m)\u001b[0m\u001b[1;33m]\u001b[0m\u001b[1;33m\u001b[0m\u001b[1;33m\u001b[0m\u001b[0m\n\u001b[1;32m--> 431\u001b[1;33m             \u001b[0mnewn\u001b[0m \u001b[1;33m=\u001b[0m \u001b[0mTR8\u001b[0m\u001b[1;33m(\u001b[0m\u001b[0mn\u001b[0m\u001b[1;33m,\u001b[0m \u001b[0mfirst\u001b[0m\u001b[1;33m=\u001b[0m\u001b[1;32mFalse\u001b[0m\u001b[1;33m)\u001b[0m\u001b[1;33m\u001b[0m\u001b[1;33m\u001b[0m\u001b[0m\n\u001b[0m\u001b[0;32m    432\u001b[0m             \u001b[0mnewd\u001b[0m \u001b[1;33m=\u001b[0m \u001b[0mTR8\u001b[0m\u001b[1;33m(\u001b[0m\u001b[0md\u001b[0m\u001b[1;33m,\u001b[0m \u001b[0mfirst\u001b[0m\u001b[1;33m=\u001b[0m\u001b[1;32mFalse\u001b[0m\u001b[1;33m)\u001b[0m\u001b[1;33m\u001b[0m\u001b[1;33m\u001b[0m\u001b[0m\n\u001b[0;32m    433\u001b[0m             \u001b[1;32mif\u001b[0m \u001b[0mnewn\u001b[0m \u001b[1;33m!=\u001b[0m \u001b[0mn\u001b[0m \u001b[1;32mor\u001b[0m \u001b[0mnewd\u001b[0m \u001b[1;33m!=\u001b[0m \u001b[0md\u001b[0m\u001b[1;33m:\u001b[0m\u001b[1;33m\u001b[0m\u001b[1;33m\u001b[0m\u001b[0m\n",
      "\u001b[1;32m~\\AppData\\Local\\Continuum\\anaconda3\\envs\\fwtmodels\\lib\\site-packages\\sympy\\simplify\\fu.py\u001b[0m in \u001b[0;36mTR8\u001b[1;34m(rv, first)\u001b[0m\n\u001b[0;32m    474\u001b[0m         \u001b[1;32mreturn\u001b[0m \u001b[0mTR8\u001b[0m\u001b[1;33m(\u001b[0m\u001b[0mexpand_mul\u001b[0m\u001b[1;33m(\u001b[0m\u001b[0mMul\u001b[0m\u001b[1;33m(\u001b[0m\u001b[1;33m*\u001b[0m\u001b[0margs\u001b[0m\u001b[1;33m)\u001b[0m\u001b[1;33m)\u001b[0m\u001b[1;33m)\u001b[0m\u001b[1;33m\u001b[0m\u001b[1;33m\u001b[0m\u001b[0m\n\u001b[0;32m    475\u001b[0m \u001b[1;33m\u001b[0m\u001b[0m\n\u001b[1;32m--> 476\u001b[1;33m     \u001b[1;32mreturn\u001b[0m \u001b[0mbottom_up\u001b[0m\u001b[1;33m(\u001b[0m\u001b[0mrv\u001b[0m\u001b[1;33m,\u001b[0m \u001b[0mf\u001b[0m\u001b[1;33m)\u001b[0m\u001b[1;33m\u001b[0m\u001b[1;33m\u001b[0m\u001b[0m\n\u001b[0m\u001b[0;32m    477\u001b[0m \u001b[1;33m\u001b[0m\u001b[0m\n\u001b[0;32m    478\u001b[0m \u001b[1;33m\u001b[0m\u001b[0m\n",
      "\u001b[1;32m~\\AppData\\Local\\Continuum\\anaconda3\\envs\\fwtmodels\\lib\\site-packages\\sympy\\simplify\\simplify.py\u001b[0m in \u001b[0;36mbottom_up\u001b[1;34m(rv, F, atoms, nonbasic)\u001b[0m\n\u001b[0;32m   1196\u001b[0m             \u001b[1;32mif\u001b[0m \u001b[0margs\u001b[0m \u001b[1;33m!=\u001b[0m \u001b[0mrv\u001b[0m\u001b[1;33m.\u001b[0m\u001b[0margs\u001b[0m\u001b[1;33m:\u001b[0m\u001b[1;33m\u001b[0m\u001b[1;33m\u001b[0m\u001b[0m\n\u001b[0;32m   1197\u001b[0m                 \u001b[0mrv\u001b[0m \u001b[1;33m=\u001b[0m \u001b[0mrv\u001b[0m\u001b[1;33m.\u001b[0m\u001b[0mfunc\u001b[0m\u001b[1;33m(\u001b[0m\u001b[1;33m*\u001b[0m\u001b[0margs\u001b[0m\u001b[1;33m)\u001b[0m\u001b[1;33m\u001b[0m\u001b[1;33m\u001b[0m\u001b[0m\n\u001b[1;32m-> 1198\u001b[1;33m             \u001b[0mrv\u001b[0m \u001b[1;33m=\u001b[0m \u001b[0mF\u001b[0m\u001b[1;33m(\u001b[0m\u001b[0mrv\u001b[0m\u001b[1;33m)\u001b[0m\u001b[1;33m\u001b[0m\u001b[1;33m\u001b[0m\u001b[0m\n\u001b[0m\u001b[0;32m   1199\u001b[0m         \u001b[1;32melif\u001b[0m \u001b[0matoms\u001b[0m\u001b[1;33m:\u001b[0m\u001b[1;33m\u001b[0m\u001b[1;33m\u001b[0m\u001b[0m\n\u001b[0;32m   1200\u001b[0m             \u001b[0mrv\u001b[0m \u001b[1;33m=\u001b[0m \u001b[0mF\u001b[0m\u001b[1;33m(\u001b[0m\u001b[0mrv\u001b[0m\u001b[1;33m)\u001b[0m\u001b[1;33m\u001b[0m\u001b[1;33m\u001b[0m\u001b[0m\n",
      "\u001b[1;32m~\\AppData\\Local\\Continuum\\anaconda3\\envs\\fwtmodels\\lib\\site-packages\\sympy\\simplify\\fu.py\u001b[0m in \u001b[0;36mf\u001b[1;34m(rv)\u001b[0m\n\u001b[0;32m    463\u001b[0m             \u001b[0ma1\u001b[0m \u001b[1;33m=\u001b[0m \u001b[0mc\u001b[0m\u001b[1;33m.\u001b[0m\u001b[0mpop\u001b[0m\u001b[1;33m(\u001b[0m\u001b[1;33m)\u001b[0m\u001b[1;33m\u001b[0m\u001b[1;33m\u001b[0m\u001b[0m\n\u001b[0;32m    464\u001b[0m             \u001b[0ma2\u001b[0m \u001b[1;33m=\u001b[0m \u001b[0mc\u001b[0m\u001b[1;33m.\u001b[0m\u001b[0mpop\u001b[0m\u001b[1;33m(\u001b[0m\u001b[1;33m)\u001b[0m\u001b[1;33m\u001b[0m\u001b[1;33m\u001b[0m\u001b[0m\n\u001b[1;32m--> 465\u001b[1;33m             \u001b[0margs\u001b[0m\u001b[1;33m.\u001b[0m\u001b[0mappend\u001b[0m\u001b[1;33m(\u001b[0m\u001b[1;33m(\u001b[0m\u001b[0mcos\u001b[0m\u001b[1;33m(\u001b[0m\u001b[0ma1\u001b[0m \u001b[1;33m+\u001b[0m \u001b[0ma2\u001b[0m\u001b[1;33m)\u001b[0m \u001b[1;33m+\u001b[0m \u001b[0mcos\u001b[0m\u001b[1;33m(\u001b[0m\u001b[0ma1\u001b[0m \u001b[1;33m-\u001b[0m \u001b[0ma2\u001b[0m\u001b[1;33m)\u001b[0m\u001b[1;33m)\u001b[0m\u001b[1;33m/\u001b[0m\u001b[1;36m2\u001b[0m\u001b[1;33m)\u001b[0m\u001b[1;33m\u001b[0m\u001b[1;33m\u001b[0m\u001b[0m\n\u001b[0m\u001b[0;32m    466\u001b[0m         \u001b[1;32mif\u001b[0m \u001b[0mc\u001b[0m\u001b[1;33m:\u001b[0m\u001b[1;33m\u001b[0m\u001b[1;33m\u001b[0m\u001b[0m\n\u001b[0;32m    467\u001b[0m             \u001b[0margs\u001b[0m\u001b[1;33m.\u001b[0m\u001b[0mappend\u001b[0m\u001b[1;33m(\u001b[0m\u001b[0mcos\u001b[0m\u001b[1;33m(\u001b[0m\u001b[0mc\u001b[0m\u001b[1;33m.\u001b[0m\u001b[0mpop\u001b[0m\u001b[1;33m(\u001b[0m\u001b[1;33m)\u001b[0m\u001b[1;33m)\u001b[0m\u001b[1;33m)\u001b[0m\u001b[1;33m\u001b[0m\u001b[1;33m\u001b[0m\u001b[0m\n",
      "\u001b[1;32m~\\AppData\\Local\\Continuum\\anaconda3\\envs\\fwtmodels\\lib\\site-packages\\sympy\\core\\decorators.py\u001b[0m in \u001b[0;36m_func\u001b[1;34m(self, other)\u001b[0m\n\u001b[0;32m    264\u001b[0m             \u001b[1;32mif\u001b[0m \u001b[1;32mnot\u001b[0m \u001b[0misinstance\u001b[0m\u001b[1;33m(\u001b[0m\u001b[0mother\u001b[0m\u001b[1;33m,\u001b[0m \u001b[0mexpectedcls\u001b[0m\u001b[1;33m)\u001b[0m\u001b[1;33m:\u001b[0m\u001b[1;33m\u001b[0m\u001b[1;33m\u001b[0m\u001b[0m\n\u001b[0;32m    265\u001b[0m                 \u001b[1;32mreturn\u001b[0m \u001b[0mretval\u001b[0m\u001b[1;33m\u001b[0m\u001b[1;33m\u001b[0m\u001b[0m\n\u001b[1;32m--> 266\u001b[1;33m             \u001b[1;32mreturn\u001b[0m \u001b[0mfunc\u001b[0m\u001b[1;33m(\u001b[0m\u001b[0mself\u001b[0m\u001b[1;33m,\u001b[0m \u001b[0mother\u001b[0m\u001b[1;33m)\u001b[0m\u001b[1;33m\u001b[0m\u001b[1;33m\u001b[0m\u001b[0m\n\u001b[0m\u001b[0;32m    267\u001b[0m \u001b[1;33m\u001b[0m\u001b[0m\n\u001b[0;32m    268\u001b[0m         \u001b[1;32mreturn\u001b[0m \u001b[0m_func\u001b[0m\u001b[1;33m\u001b[0m\u001b[1;33m\u001b[0m\u001b[0m\n",
      "\u001b[1;32m~\\AppData\\Local\\Continuum\\anaconda3\\envs\\fwtmodels\\lib\\site-packages\\sympy\\core\\decorators.py\u001b[0m in \u001b[0;36mbinary_op_wrapper\u001b[1;34m(self, other)\u001b[0m\n\u001b[0;32m    134\u001b[0m                     \u001b[1;32mif\u001b[0m \u001b[0mf\u001b[0m \u001b[1;32mis\u001b[0m \u001b[1;32mnot\u001b[0m \u001b[1;32mNone\u001b[0m\u001b[1;33m:\u001b[0m\u001b[1;33m\u001b[0m\u001b[1;33m\u001b[0m\u001b[0m\n\u001b[0;32m    135\u001b[0m                         \u001b[1;32mreturn\u001b[0m \u001b[0mf\u001b[0m\u001b[1;33m(\u001b[0m\u001b[0mself\u001b[0m\u001b[1;33m)\u001b[0m\u001b[1;33m\u001b[0m\u001b[1;33m\u001b[0m\u001b[0m\n\u001b[1;32m--> 136\u001b[1;33m             \u001b[1;32mreturn\u001b[0m \u001b[0mfunc\u001b[0m\u001b[1;33m(\u001b[0m\u001b[0mself\u001b[0m\u001b[1;33m,\u001b[0m \u001b[0mother\u001b[0m\u001b[1;33m)\u001b[0m\u001b[1;33m\u001b[0m\u001b[1;33m\u001b[0m\u001b[0m\n\u001b[0m\u001b[0;32m    137\u001b[0m         \u001b[1;32mreturn\u001b[0m \u001b[0mbinary_op_wrapper\u001b[0m\u001b[1;33m\u001b[0m\u001b[1;33m\u001b[0m\u001b[0m\n\u001b[0;32m    138\u001b[0m     \u001b[1;32mreturn\u001b[0m \u001b[0mpriority_decorator\u001b[0m\u001b[1;33m\u001b[0m\u001b[1;33m\u001b[0m\u001b[0m\n",
      "\u001b[1;32m~\\AppData\\Local\\Continuum\\anaconda3\\envs\\fwtmodels\\lib\\site-packages\\sympy\\core\\expr.py\u001b[0m in \u001b[0;36m__add__\u001b[1;34m(self, other)\u001b[0m\n\u001b[0;32m    200\u001b[0m         \u001b[1;32mreturn\u001b[0m \u001b[0mAbs\u001b[0m\u001b[1;33m(\u001b[0m\u001b[0mself\u001b[0m\u001b[1;33m)\u001b[0m\u001b[1;33m\u001b[0m\u001b[1;33m\u001b[0m\u001b[0m\n\u001b[0;32m    201\u001b[0m \u001b[1;33m\u001b[0m\u001b[0m\n\u001b[1;32m--> 202\u001b[1;33m     \u001b[1;33m@\u001b[0m\u001b[0msympify_return\u001b[0m\u001b[1;33m(\u001b[0m\u001b[1;33m[\u001b[0m\u001b[1;33m(\u001b[0m\u001b[1;34m'other'\u001b[0m\u001b[1;33m,\u001b[0m \u001b[1;34m'Expr'\u001b[0m\u001b[1;33m)\u001b[0m\u001b[1;33m]\u001b[0m\u001b[1;33m,\u001b[0m \u001b[0mNotImplemented\u001b[0m\u001b[1;33m)\u001b[0m\u001b[1;33m\u001b[0m\u001b[1;33m\u001b[0m\u001b[0m\n\u001b[0m\u001b[0;32m    203\u001b[0m     \u001b[1;33m@\u001b[0m\u001b[0mcall_highest_priority\u001b[0m\u001b[1;33m(\u001b[0m\u001b[1;34m'__radd__'\u001b[0m\u001b[1;33m)\u001b[0m\u001b[1;33m\u001b[0m\u001b[1;33m\u001b[0m\u001b[0m\n\u001b[0;32m    204\u001b[0m     \u001b[1;32mdef\u001b[0m \u001b[0m__add__\u001b[0m\u001b[1;33m(\u001b[0m\u001b[0mself\u001b[0m\u001b[1;33m,\u001b[0m \u001b[0mother\u001b[0m\u001b[1;33m)\u001b[0m\u001b[1;33m:\u001b[0m\u001b[1;33m\u001b[0m\u001b[1;33m\u001b[0m\u001b[0m\n",
      "\u001b[1;31mKeyboardInterrupt\u001b[0m: "
     ]
    }
   ],
   "source": [
    "#Create Composite force\n",
    "CompositeForce = ef.CompositeForce([wing_AeroForces,fwt_AeroForces])\n",
    "# Create the SYmbolic Model\n",
    "sm = ma.SymbolicModel.FromElementsAndForces(p,[wing_stiffness_ele,beam_mass_ele,fwt_ele,hinge_ele],CompositeForce)\n",
    "# sm = ma.SymbolicModel.FromElementsAndForces(p,[wing_stiffness_ele,fwt_ele,mass_ele],CompositeForce)"
   ]
  },
  {
   "cell_type": "code",
   "execution_count": 19,
   "id": "4c08e17c-e803-426c-95ad-55556f6129fa",
   "metadata": {},
   "outputs": [],
   "source": [
    "test = hinge_frame.R_x(p.q[-1]).R_z(-p.Lambda).Translate(-p.x_f0+p.x_1,p.y_1,0)"
   ]
  },
  {
   "cell_type": "code",
   "execution_count": 25,
   "id": "d67f4d45-01bc-4ed5-9b14-2f444e8245a4",
   "metadata": {},
   "outputs": [],
   "source": [
    "M_fwt = ele.MassMatrix(p.m_1,I_xx = p.I_xx1)\n",
    "Jb = test.InvAdjoint()*test.ManipJacobian(p.q)\n",
    "tt = Jb.T*M_fwt*Jb"
   ]
  },
  {
   "cell_type": "code",
   "execution_count": 10,
   "id": "585fb01c-8c4d-4f03-8578-21be13424bb4",
   "metadata": {},
   "outputs": [],
   "source": [
    "d_z_s0 = z_0.diff(p.y_0).subs({p.y_0:p.s_i,p.x_0:p.x_f0})\n",
    "d_d_z_s0 = d_z_s0.diff(me.dynamicsymbols._t)\n",
    "\n",
    "dummy = sym.Function('d')(me.dynamicsymbols._t)\n",
    "theta = sym.Symbol('theta')\n",
    "alpha = sym.Symbol('alpha')\n",
    "\n",
    "fwt_aoa = mf.GetAoA(alpha,0,p.Lambda,theta-dummy,dummy)\n",
    "fwt_aoa = fwt_aoa.subs({alpha:(p.alpha_r+tau_s0),theta:p.q[-1]})\n",
    "d_fwt_aoa = fwt_aoa.diff(me.dynamicsymbols._t)\n",
    "d_fwt_aoa = d_fwt_aoa.subs({dummy.diff(me.dynamicsymbols._t):p.mu_d,dummy:p.mu})\n",
    "fwt_aoa = fwt_aoa.subs({dummy:p.mu})"
   ]
  },
  {
   "cell_type": "code",
   "execution_count": 11,
   "id": "943e212b-32e7-4570-aa23-24f585ce3a58",
   "metadata": {},
   "outputs": [
    {
     "data": {
      "image/png": "[encoded data removed]",
      "text/latex": [
       "$\\displaystyle 2 \\eta_{0} s_{i} \\dot{q}_{0} + 3 \\eta_{1} s_{i}^{2} \\dot{q}_{1} + 4 \\eta_{2} s_{i}^{3} \\dot{q}_{2}$"
      ],
      "text/plain": [
       "                    2             3   \n",
       "2⋅η₀⋅sᵢ⋅q₀̇ + 3⋅η₁⋅sᵢ ⋅q₁̇ + 4⋅η₂⋅sᵢ ⋅q₂̇"
      ]
     },
     "execution_count": 11,
     "metadata": {},
     "output_type": "execute_result"
    }
   ],
   "source": [
    "d_d_z_s0"
   ]
  },
  {
   "cell_type": "code",
   "execution_count": 12,
   "id": "c2eee07b-852d-4dae-9301-53e92f4f4946",
   "metadata": {},
   "outputs": [],
   "source": [
    "sm = sm.subs({p.alpha_1:fwt_aoa,p.alphadot_1:d_fwt_aoa})"
   ]
  },
  {
   "cell_type": "code",
   "execution_count": 13,
   "id": "908b06d0-9f9d-48f5-9d5f-0ddba433dc31",
   "metadata": {},
   "outputs": [],
   "source": [
    "sm.to_matlab_file(p,'C:/Git/fwt_auto/+model/')"
   ]
  },
  {
   "cell_type": "code",
   "execution_count": 14,
   "id": "3df069ae-c627-4a64-9251-1401ad6bdf0d",
   "metadata": {},
   "outputs": [],
   "source": [
    "sm_lin = sm.subs({sym.sin(p.q[-1]):p.q[-1],sym.cos(p.q[-1]):1})"
   ]
  },
  {
   "cell_type": "code",
   "execution_count": 15,
   "id": "d3712e20-95d7-4984-a262-2c8748410bf1",
   "metadata": {},
   "outputs": [],
   "source": [
    "sm_lin.to_matlab_file(p,'C:/Git/scitech2022_post_flutter/+model_lin/')"
   ]
  },
  {
   "cell_type": "code",
   "execution_count": 16,
   "id": "774fe1ce-20f5-497b-a660-2305873bd496",
   "metadata": {},
   "outputs": [],
   "source": [
    "# sm_lin = sm.linearise(p)"
   ]
  },
  {
   "cell_type": "code",
   "execution_count": 17,
   "id": "b18b0daf-f6fd-4484-8f8a-16f3087685f8",
   "metadata": {},
   "outputs": [],
   "source": [
    "# sm_lin.to_matlab_file_linear(p,'C:/Git/fwt_auto/+model/')"
   ]
  },
  {
   "cell_type": "code",
   "execution_count": 18,
   "id": "4338cfbf-9bff-4745-a0c0-6b44ff1032f2",
   "metadata": {},
   "outputs": [],
   "source": [
    "file_dir ='C:/Git/fwt_auto/+model/'\n",
    "func_name = 'd_z_s0'\n",
    "with open(file_dir+f\"{func_name}.m\",'w') as file:\n",
    "    file.write(sm._gen_octave(d_z_s0,p,func_name))\n",
    "    \n",
    "func_name = 'd_d_z_s0'\n",
    "with open(file_dir+f\"{func_name}.m\",'w') as file:\n",
    "    file.write(sm._gen_octave(d_d_z_s0,p,func_name))"
   ]
  },
  {
   "cell_type": "code",
   "execution_count": 19,
   "id": "7d7f683b-598d-48ec-8f6f-544c723fa1e1",
   "metadata": {},
   "outputs": [],
   "source": [
    "# make function to plot wings\n",
    "main_wing_surf = wing_frame.Transform_point([0,0,0])\n",
    "fwt_surf = fwt_frame.Transform_point([0,0,0])\n",
    "\n",
    "func_name = 'main_wing_surf'\n",
    "with open(file_dir+f\"{func_name}.m\",'w') as file:\n",
    "    file.write(sm._gen_octave(main_wing_surf,p,func_name))\n",
    "    \n",
    "func_name = 'fwt_surf'\n",
    "with open(file_dir+f\"{func_name}.m\",'w') as file:\n",
    "    file.write(sm._gen_octave(fwt_surf,p,func_name))"
   ]
  },
  {
   "cell_type": "code",
   "execution_count": 20,
   "id": "a8103893-d9ac-4c59-9163-34d06aaeab5a",
   "metadata": {},
   "outputs": [],
   "source": [
    "from time import time, ctime\n",
    "def gen_octave(expr,func_name):  \n",
    "    symbols = sorted([s.name for s in expr.free_symbols], key=lambda L: (L.lower(), L))\n",
    "    print(symbols)\n",
    "    # split expr into groups\n",
    "    replacments, exprs = sym.cse(expr,symbols=(sym.Symbol(f'rep_{i}')for i in range(10000)))\n",
    "    if isinstance(expr,tuple):\n",
    "        expr = tuple(exprs)\n",
    "    elif isinstance(expr,list):\n",
    "        expr = exprs\n",
    "    else:\n",
    "        expr = exprs[0]      \n",
    "\n",
    "    group_string = '%% create common groups\\n\\t'\n",
    "    for variable, expression in replacments:\n",
    "        group_string +=f'{variable} = {sym.printing.octave.octave_code(expression)};\\n\\t'\n",
    "\n",
    "    # convert to octave string and covert states to vector form\n",
    "    out = '%% create output \\n\\tout = ' + sym.printing.octave.octave_code(expr)\n",
    "\n",
    "    # make the file pretty...\n",
    "    out = out.replace(',',',...\\n\\t\\t').replace(';',';...\\n\\t\\t')\n",
    "\n",
    "    file_sig = f'%{func_name.upper()} Auto-generated function from moyra\\n\\t'\n",
    "    file_sig += f'%\\n\\t'\n",
    "    file_sig += f'%\\tCreated at : {ctime(time())} \\n\\t'\n",
    "    file_sig += f'%\\tCreated with : moyra https://pypi.org/project/moyra/\\n\\t'\n",
    "    file_sig += f'%\\n\\t'\n",
    "\n",
    "    # wrap output in octave function signature\n",
    "    signature = f'function out = {func_name}('\n",
    "    for s in symbols:\n",
    "        signature +=f'{s},'\n",
    "    signature = signature[:-1]+')\\n\\t'\n",
    "    octave_string = signature + file_sig  + group_string + out + ';\\nend'\n",
    "    return octave_string"
   ]
  },
  {
   "cell_type": "code",
   "execution_count": 21,
   "id": "ff801fde-61ea-4337-8837-0ce4682e677b",
   "metadata": {},
   "outputs": [
    {
     "name": "stdout",
     "output_type": "stream",
     "text": [
      "['alpha_r', 'eta_3', 'eta_4', 'eta_5', 'Lambda', 'mu', 's_i', 't']\n",
      "['alpha_r', 'eta_3', 'eta_4', 'eta_5', 'Lambda', 'mu', 'mu_d', 's_i', 't']\n"
     ]
    }
   ],
   "source": [
    "file_dir ='C:/Git/fwt_auto/+model/'\n",
    "func_name = 'fwt_aoa'\n",
    "with open(file_dir+f\"{func_name}.m\",'w') as file:\n",
    "    file.write(gen_octave(fwt_aoa,func_name))\n",
    "func_name = 'd_fwt_aoa'\n",
    "with open(file_dir+f\"{func_name}.m\",'w') as file:\n",
    "    file.write(gen_octave(d_fwt_aoa,func_name))"
   ]
  },
  {
   "cell_type": "code",
   "execution_count": 22,
   "id": "ed6618f1-eac5-4e7f-a317-465c82c74c36",
   "metadata": {},
   "outputs": [
    {
     "name": "stdout",
     "output_type": "stream",
     "text": [
      "['a_i', 'alpha_1', 'alpha_max', 'clip_factor', 'stall_factor', 'stall_rate']\n"
     ]
    }
   ],
   "source": [
    "func_name = 'C_l'\n",
    "with open(file_dir+f\"{func_name}.m\",'w') as file:\n",
    "    file.write(gen_octave(c_l_func(p.alpha_1),func_name))"
   ]
  },
  {
   "cell_type": "code",
   "execution_count": 23,
   "id": "3bd99974-f1b0-47ae-8112-0c7d9c6af209",
   "metadata": {},
   "outputs": [],
   "source": [
    "hinge_z = z_0.subs({p.y_0:p.s_i,p.x_0:p.x_f0})\n",
    "hinge_twist = tau_0.subs({p.y_0:p.s_i,p.x_0:p.x_f0})\n",
    "hinge_dihedral = d_z_s0\n",
    "fold_angle = p.q[-1] - hinge_dihedral\n",
    "local_aoa_root = dAlpha.subs({p.alpha_1:fwt_aoa,p.y_1:0})\n",
    "local_aoa_mid = dAlpha.subs({p.alpha_1:fwt_aoa,p.y_1:p.s_f/2})\n",
    "local_aoa_tip = dAlpha.subs({p.alpha_1:fwt_aoa,p.y_1:p.s_f})"
   ]
  },
  {
   "cell_type": "code",
   "execution_count": 24,
   "id": "2ded4db8-3606-44d6-a035-daf8fc317168",
   "metadata": {},
   "outputs": [],
   "source": [
    "file_dir ='C:/Git/fwt_auto/+model/'\n",
    "func_names = ('hinge_z','hinge_twist','hinge_dihedral','fold_angle','local_aoa_root','local_aoa_mid','local_aoa_tip')\n",
    "funcs = (hinge_z,hinge_twist,hinge_dihedral,fold_angle,local_aoa_root,local_aoa_mid,local_aoa_tip)\n",
    "for fun,nam in zip(funcs,func_names):\n",
    "    with open(file_dir+f\"{nam}.m\",'w') as file:\n",
    "        file.write(sm._gen_octave(fun,p,nam))"
   ]
  },
  {
   "cell_type": "code",
   "execution_count": null,
   "id": "8d233c9d-083e-4d69-b420-b7492d0edb0f",
   "metadata": {},
   "outputs": [],
   "source": []
  }
 ],
 "metadata": {
  "kernelspec": {
   "display_name": "Moyra_Playground",
   "language": "python",
   "name": "moyra_playground"
  },
  "language_info": {
   "codemirror_mode": {
    "name": "ipython",
    "version": 3
   },
   "file_extension": ".py",
   "mimetype": "text/x-python",
   "name": "python",
   "nbconvert_exporter": "python",
   "pygments_lexer": "ipython3",
   "version": "3.9.13"
  }
 },
 "nbformat": 4,
 "nbformat_minor": 5
}
