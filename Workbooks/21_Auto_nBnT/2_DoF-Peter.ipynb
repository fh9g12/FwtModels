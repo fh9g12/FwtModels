{
 "cells": [
  {
   "cell_type": "code",
   "execution_count": 1,
   "id": "4800be05-0f8f-46e4-bbb1-1e95b4cd5954",
   "metadata": {},
   "outputs": [],
   "source": [
    "import sympy as sym\n",
    "import sympy.physics.mechanics as me\n",
    "from sympy.abc import t as time\n",
    "import pandas as pd\n",
    "import seaborn as sns\n",
    "\n",
    "import numpy as np\n",
    "from scipy.integrate import odeint,LSODA,BDF,solve_ivp\n",
    "from scipy.linalg import eig\n",
    "from scipy.optimize import fsolve\n",
    "import matplotlib.pyplot as plt\n",
    "\n",
    "import moyra as ma\n",
    "import moyra.elements as ele\n",
    "import moyra.forces as ef\n",
    "\n",
    "import sys, os\n",
    "sys.path.insert(1, os.path.join(sys.path[0], '../..'))\n",
    "import custom_plot_objects as cpo\n",
    "import FwtModels as mf\n",
    "\n",
    "me.mechanics_printing()"
   ]
  },
  {
   "cell_type": "markdown",
   "id": "db459b1a-a42e-4f2c-b5db-35ce7db71ef3",
   "metadata": {},
   "source": [
    "test_num = 6\n",
    "\n",
    "fwt_modes = 1\n",
    "modes = 2\n",
    "main_panels = 20\n",
    "fwt_panels = 10\n",
    "panels = main_panels + fwt_panels\n",
    "\n",
    "# lets go for B2T2 (so 5 DoF)\n",
    "p = ma.DynamicModelParameters(modes)\n",
    "\n",
    "## Create some global parameters\n",
    "p.c = ma.ModelSymbol(value = 1.8,string = 'c') # chord of wing\n",
    "p.s = ma.ModelSymbol(value = 12,string = 's_t') # total semi-span of wing\n",
    "\n",
    "p.m_w = ma.ModelSymbol(value = 0.3,string = 'm_w')\n",
    "p.m_f = ma.ModelSymbol(value = 0.3,string = 'm_f')\n",
    "\n",
    "\n",
    "# Inner Wing stiffness Properties\n",
    "p.K = ma.ModelSymbol(value = 100,string = 'K') # Bending stiffness for the wing\n",
    "\n",
    "# FWT Properties\n",
    "p.x_c = ma.ModelSymbol(value = 0.3,string = 'x_c')\n",
    "p.y_c = ma.ModelSymbol(value = 0.3,string = 'y_c')\n",
    "\n",
    "p.I_xx = ma.ModelSymbol(value = 0.3,string = 'I_xx') # inertia of FWT (uniform bar)\n",
    "p.Lambda = ma.ModelSymbol(value = np.deg2rad(10),string = 'Lambda') # Flare Angle\n",
    "\n",
    "# Symbols to translate along inner wing and FWT\n",
    "p.y = sym.Symbol('y') # FWT y chord\n",
    "p.x = sym.Symbol('x') # FWT x chord\n",
    "\n",
    "## Aero Parameters\n",
    "p.rho = ma.ModelSymbol(value = 1.225,string = 'rho')                 # density\n",
    "p.V = ma.ModelSymbol(value = 10,string = 'V')                        # velocity\n",
    "p.g  = ma.ModelSymbol(value = 9.81,string = 'g')                     # gravity\n",
    "p.g_v = ma.ModelMatrix(value =[0,0,-1],length=3,string='g_v') # The stationary point\n",
    "p.alpha_r = ma.ModelSymbol(value = np.deg2rad(3),string = 'alpha_r') # root AoA\n",
    "p.M_thetadot = ma.ModelSymbol(value = -1.2,string = 'M_thetadot')    # Unsteady Torsional Term \n",
    "\n",
    "## Main Wing Specific\n",
    "p.a_i = ma.ModelSymbol(value = 2*np.pi,string = 'a_i')               # C_L slope of main wing\n",
    "p.a = ma.ModelMatrix(value =[np.pi*2]*panels,length=panels, string='a') # local C_l\n",
    "\n",
    "## FWT Specific\n",
    "p.alpha_1 = ma.ModelSymbol(value = 0,string = 'alpha_1')             # FWT alpha\n",
    "p.alphadot_1 = ma.ModelSymbol(value = 0,string = 'alphadot_1')       # FWT alphadot\n",
    "\n",
    "## Numeric Model Constants\n",
    "p.fp = ma.ModelMatrix(value =[0]*p.qs*2,length=p.qs*2,string='fp') # The stationary point\n",
    "\n",
    "# Factor to change the size of joint values\n",
    "p.eta = ma.ModelMatrix(value = [1]*modes,length=modes,string='eta')"
   ]
  },
  {
   "cell_type": "code",
   "execution_count": 3,
   "id": "58de2b35-0b40-4a10-8597-f13486a7c9b4",
   "metadata": {},
   "outputs": [],
   "source": [
    "#define refernce frames\n",
    "wing_root_frame = ma.HomogenousTransform().Translate(0,0,p.q[0])\n",
    "\n",
    "fwt_root_frame = wing_root_frame.R_x(p.q[-1])\n",
    "fwt_flexural_frame = fwt_root_frame.Translate(0,p.y,0)\n",
    "fwt_com_frame = fwt_root_frame.Translate(p.x_c,p.y_c,0)"
   ]
  },
  {
   "cell_type": "code",
   "execution_count": 4,
   "id": "764ec40b-ac7d-445f-9baa-2fd5c9500359",
   "metadata": {},
   "outputs": [],
   "source": [
    "#Create Elemnts\n",
    "M_wing = ele.MassMatrix(p.m_w)\n",
    "M_fwt = ele.MassMatrix(p.m_f,I_xx = p.I_xx)\n",
    "M_k = ele.Spring(p.q[0],p.K)\n",
    "\n",
    "inner_wing_ele = ele.RigidElement.point_mass(wing_root_frame,p.m_w,True)\n",
    "fwt_ele = ele.RigidElement(fwt_com_frame,M_fwt,True)"
   ]
  },
  {
   "cell_type": "code",
   "execution_count": 5,
   "id": "16230adb-0a93-4a86-94ee-d0de23a39de5",
   "metadata": {},
   "outputs": [],
   "source": [
    "Q = ef.BodyForce(p,fwt_com_frame,simplify=False)"
   ]
  },
  {
   "cell_type": "code",
   "execution_count": 6,
   "id": "ac25ec0a-12f2-446d-a757-dc7d41139a50",
   "metadata": {},
   "outputs": [
    {
     "name": "stdout",
     "output_type": "stream",
     "text": [
      "0\n",
      "1\n",
      "2\n"
     ]
    }
   ],
   "source": [
    "# Create the SYmbolic Model\n",
    "sm = ma.SymbolicModel.FromElementsAndForces(p,[inner_wing_ele,fwt_ele,M_k],Q)"
   ]
  },
  {
   "cell_type": "code",
   "execution_count": 7,
   "id": "c204a961-83fa-443e-b9d0-8b0aae04eaea",
   "metadata": {},
   "outputs": [],
   "source": [
    "t = me.dynamicsymbols._t\n",
    "theta = sym.Function('theta')(t)\n",
    "h = sym.Function('h')(t)\n",
    "qs = [h,theta]\n",
    "# list(enumerate(qs))\n",
    "subs = {**{p.q[i]:item for i,item in enumerate(qs)},**{p.qd[i]:item.diff(t) for i,item in enumerate(qs)}}\n",
    "subs = {**subs,**{i:j for i,j in zip(p.g_v,p.g_v.value)}}"
   ]
  },
  {
   "cell_type": "code",
   "execution_count": 8,
   "id": "afef74f3-c70c-4619-8be6-4cf2a58f4787",
   "metadata": {},
   "outputs": [
    {
     "data": {
      "image/png": "[encoded data removed]",
      "text/latex": [
       "$\\displaystyle \\left[\\begin{matrix}m_{f} + m_{w} & m_{f} y_{c} \\cos{\\left(\\theta \\right)}\\\\m_{f} y_{c} \\cos{\\left(\\theta \\right)} & I_{xx} + m_{f} y_{c}^{2}\\end{matrix}\\right]$"
      ],
      "text/plain": [
       "⎡  m_f + m_w     m_f⋅y_c⋅cos(θ)⎤\n",
       "⎢                              ⎥\n",
       "⎢                             2⎥\n",
       "⎣m_f⋅y_c⋅cos(θ)  Iₓₓ + m_f⋅y_c ⎦"
      ]
     },
     "execution_count": 8,
     "metadata": {},
     "output_type": "execute_result"
    }
   ],
   "source": [
    "me.msubs(sm.M,subs)"
   ]
  },
  {
   "cell_type": "code",
   "execution_count": 9,
   "id": "177a8aca-f390-4a8a-b3ce-1fc67fec80fa",
   "metadata": {},
   "outputs": [
    {
     "data": {
      "image/png": "[encoded data removed]",
      "text/latex": [
       "$\\displaystyle \\left[\\begin{matrix}K h + g m_{f} + g m_{w} - m_{f} y_{c} \\sin{\\left(\\theta \\right)} \\dot{\\theta}^{2}\\\\g m_{f} y_{c} \\cos{\\left(\\theta \\right)}\\end{matrix}\\right]$"
      ],
      "text/plain": [
       "⎡                                      2⎤\n",
       "⎢K⋅h + g⋅m_f + g⋅m_w - m_f⋅y_c⋅sin(θ)⋅θ̇ ⎥\n",
       "⎢                                       ⎥\n",
       "⎣           g⋅m_f⋅y_c⋅cos(θ)            ⎦"
      ]
     },
     "execution_count": 9,
     "metadata": {},
     "output_type": "execute_result"
    }
   ],
   "source": [
    "me.msubs(sm.f,subs)"
   ]
  },
  {
   "cell_type": "code",
   "execution_count": 10,
   "id": "9295abf9-99f9-4ee2-ba23-1c1a84d74808",
   "metadata": {},
   "outputs": [
    {
     "data": {
      "image/png": "[encoded data removed]",
      "text/latex": [
       "$\\displaystyle \\frac{I_{xx} \\dot{\\theta}^{2}}{2} + \\frac{m_{f} y_{c}^{2} \\dot{\\theta}^{2}}{2} + m_{f} y_{c} \\cos{\\left(\\theta \\right)} \\dot{h} \\dot{\\theta} + \\frac{m_{f} \\dot{h}^{2}}{2}$"
      ],
      "text/plain": [
       "     2          2  2                             2\n",
       "Iₓₓ⋅θ̇    m_f⋅y_c ⋅θ̇                         m_f⋅ḣ \n",
       "────── + ─────────── + m_f⋅y_c⋅cos(θ)⋅ḣ⋅θ̇ + ──────\n",
       "  2           2                               2   "
      ]
     },
     "execution_count": 10,
     "metadata": {},
     "output_type": "execute_result"
    }
   ],
   "source": [
    "me.msubs(fwt_ele.calc_ke(p),subs)"
   ]
  },
  {
   "cell_type": "code",
   "execution_count": 11,
   "id": "22445654-66bf-4b5b-a67e-995299aaabe9",
   "metadata": {},
   "outputs": [
    {
     "data": {
      "image/png": "[encoded data removed]",
      "text/latex": [
       "$\\displaystyle \\frac{m_{w} \\dot{h}^{2}}{2}$"
      ],
      "text/plain": [
       "     2\n",
       "m_w⋅ḣ \n",
       "──────\n",
       "  2   "
      ]
     },
     "execution_count": 11,
     "metadata": {},
     "output_type": "execute_result"
    }
   ],
   "source": [
    "me.msubs(inner_wing_ele.calc_ke(p),subs)"
   ]
  },
  {
   "cell_type": "code",
   "execution_count": 12,
   "id": "80d86815-08fe-44b1-8a01-cbf205472337",
   "metadata": {},
   "outputs": [
    {
     "data": {
      "image/png": "[encoded data removed]",
      "text/latex": [
       "$\\displaystyle g m_{w} h$"
      ],
      "text/plain": [
       "g⋅m_w⋅h"
      ]
     },
     "execution_count": 12,
     "metadata": {},
     "output_type": "execute_result"
    }
   ],
   "source": [
    "me.msubs(inner_wing_ele.calc_pe(p),subs)"
   ]
  },
  {
   "cell_type": "code",
   "execution_count": 13,
   "id": "37feb6ed-4e15-42c4-894e-fa8f57c16cf1",
   "metadata": {},
   "outputs": [
    {
     "data": {
      "image/png": "[encoded data removed]",
      "text/latex": [
       "$\\displaystyle g m_{f} \\left(y_{c} \\sin{\\left(\\theta \\right)} + h\\right)$"
      ],
      "text/plain": [
       "g⋅m_f⋅(y_c⋅sin(θ) + h)"
      ]
     },
     "execution_count": 13,
     "metadata": {},
     "output_type": "execute_result"
    }
   ],
   "source": [
    "me.msubs(fwt_ele.calc_pe(p),subs)"
   ]
  },
  {
   "cell_type": "code",
   "execution_count": 14,
   "id": "b3e0ca98-cb79-45f7-9d56-09b9c58c7b6b",
   "metadata": {},
   "outputs": [
    {
     "data": {
      "image/png": "[encoded data removed]",
      "text/latex": [
       "$\\displaystyle \\left[\\begin{matrix}- g_{v 2} g m_{f} - g_{v 2} g m_{w} + K q_{0} - m_{f} y_{c} \\sin{\\left(q_{1} \\right)} \\dot{q}_{1}^{2}\\\\- g m_{f} \\left(- g_{v 1} y_{c} \\sin{\\left(q_{1} \\right)} + g_{v 2} y_{c} \\cos{\\left(q_{1} \\right)}\\right)\\end{matrix}\\right]$"
      ],
      "text/plain": [
       "⎡                                                    2⎤\n",
       "⎢-gᵥ ₂⋅g⋅m_f - gᵥ ₂⋅g⋅m_w + K⋅q₀ - m_f⋅y_c⋅sin(q₁)⋅q₁̇ ⎥\n",
       "⎢                                                     ⎥\n",
       "⎣    -g⋅m_f⋅(-gᵥ ₁⋅y_c⋅sin(q₁) + gᵥ ₂⋅y_c⋅cos(q₁))    ⎦"
      ]
     },
     "execution_count": 14,
     "metadata": {},
     "output_type": "execute_result"
    }
   ],
   "source": [
    "sm.f"
   ]
  },
  {
   "cell_type": "code",
   "execution_count": 22,
   "id": "10fd99e0-5574-41c6-9073-589b64d57e28",
   "metadata": {},
   "outputs": [
    {
     "data": {
      "image/png": "[encoded data removed]",
      "text/latex": [
       "$\\displaystyle \\left[\\begin{matrix}0\\\\0\\end{matrix}\\right]$"
      ],
      "text/plain": [
       "⎡0⎤\n",
       "⎢ ⎥\n",
       "⎣0⎦"
      ]
     },
     "execution_count": 22,
     "metadata": {},
     "output_type": "execute_result"
    }
   ],
   "source": [
    "sm.ExtForces.Q()"
   ]
  },
  {
   "cell_type": "code",
   "execution_count": 15,
   "id": "908b06d0-9f9d-48f5-9d5f-0ddba433dc31",
   "metadata": {},
   "outputs": [
    {
     "ename": "TypeError",
     "evalue": "'Symbol' object is not iterable",
     "output_type": "error",
     "traceback": [
      "\u001b[1;31m---------------------------------------------------------------------------\u001b[0m",
      "\u001b[1;31mTypeError\u001b[0m                                 Traceback (most recent call last)",
      "\u001b[1;32m<ipython-input-15-efa66117b4a2>\u001b[0m in \u001b[0;36m<module>\u001b[1;34m\u001b[0m\n\u001b[1;32m----> 1\u001b[1;33m \u001b[0msm\u001b[0m\u001b[1;33m.\u001b[0m\u001b[0mto_matlab_file\u001b[0m\u001b[1;33m(\u001b[0m\u001b[0mp\u001b[0m\u001b[1;33m,\u001b[0m\u001b[1;34m'C:/Git/fwt_auto/test/'\u001b[0m\u001b[1;33m)\u001b[0m\u001b[1;33m\u001b[0m\u001b[1;33m\u001b[0m\u001b[0m\n\u001b[0m",
      "\u001b[1;32mc:\\git\\moyra\\moyra\\symbolic_model.py\u001b[0m in \u001b[0;36mto_matlab_file\u001b[1;34m(self, p, file_dir)\u001b[0m\n\u001b[0;32m    304\u001b[0m         \u001b[1;32mfor\u001b[0m \u001b[0mfunc_name\u001b[0m\u001b[1;33m,\u001b[0m\u001b[0mmatrix\u001b[0m \u001b[1;32min\u001b[0m \u001b[0mfuncs\u001b[0m\u001b[1;33m:\u001b[0m\u001b[1;33m\u001b[0m\u001b[1;33m\u001b[0m\u001b[0m\n\u001b[0;32m    305\u001b[0m             \u001b[1;32mwith\u001b[0m \u001b[0mopen\u001b[0m\u001b[1;33m(\u001b[0m\u001b[0mfile_dir\u001b[0m\u001b[1;33m+\u001b[0m\u001b[1;34mf\"{func_name}.m\"\u001b[0m\u001b[1;33m,\u001b[0m\u001b[1;34m'w'\u001b[0m\u001b[1;33m)\u001b[0m \u001b[1;32mas\u001b[0m \u001b[0mfile\u001b[0m\u001b[1;33m:\u001b[0m\u001b[1;33m\u001b[0m\u001b[1;33m\u001b[0m\u001b[0m\n\u001b[1;32m--> 306\u001b[1;33m                 \u001b[0mfile\u001b[0m\u001b[1;33m.\u001b[0m\u001b[0mwrite\u001b[0m\u001b[1;33m(\u001b[0m\u001b[0mself\u001b[0m\u001b[1;33m.\u001b[0m\u001b[0m_gen_octave\u001b[0m\u001b[1;33m(\u001b[0m\u001b[0mmatrix\u001b[0m\u001b[1;33m,\u001b[0m\u001b[0mp\u001b[0m\u001b[1;33m,\u001b[0m\u001b[0mfunc_name\u001b[0m\u001b[1;33m)\u001b[0m\u001b[1;33m)\u001b[0m\u001b[1;33m\u001b[0m\u001b[1;33m\u001b[0m\u001b[0m\n\u001b[0m\u001b[0;32m    307\u001b[0m         \u001b[0mp\u001b[0m\u001b[1;33m.\u001b[0m\u001b[0mto_matlab_class\u001b[0m\u001b[1;33m(\u001b[0m\u001b[0mfile_dir\u001b[0m\u001b[1;33m=\u001b[0m\u001b[0mfile_dir\u001b[0m\u001b[1;33m)\u001b[0m\u001b[1;33m\u001b[0m\u001b[1;33m\u001b[0m\u001b[0m\n\u001b[0;32m    308\u001b[0m \u001b[1;33m\u001b[0m\u001b[0m\n",
      "\u001b[1;32mc:\\git\\moyra\\moyra\\symbolic_model.py\u001b[0m in \u001b[0;36m_gen_octave\u001b[1;34m(self, expr, p, func_name)\u001b[0m\n\u001b[0;32m    319\u001b[0m         \u001b[1;31m# convert states to non-time dependent variable\u001b[0m\u001b[1;33m\u001b[0m\u001b[1;33m\u001b[0m\u001b[1;33m\u001b[0m\u001b[0m\n\u001b[0;32m    320\u001b[0m         \u001b[0mU\u001b[0m \u001b[1;33m=\u001b[0m \u001b[0msym\u001b[0m\u001b[1;33m.\u001b[0m\u001b[0mMatrix\u001b[0m\u001b[1;33m(\u001b[0m\u001b[0msym\u001b[0m\u001b[1;33m.\u001b[0m\u001b[0msymbols\u001b[0m\u001b[1;33m(\u001b[0m\u001b[1;34mf'u_:{p.qs*2}'\u001b[0m\u001b[1;33m)\u001b[0m\u001b[1;33m)\u001b[0m\u001b[1;33m\u001b[0m\u001b[1;33m\u001b[0m\u001b[0m\n\u001b[1;32m--> 321\u001b[1;33m         \u001b[0ml\u001b[0m \u001b[1;33m=\u001b[0m \u001b[0mdict\u001b[0m\u001b[1;33m(\u001b[0m\u001b[0mzip\u001b[0m\u001b[1;33m(\u001b[0m\u001b[0mp\u001b[0m\u001b[1;33m.\u001b[0m\u001b[0mx\u001b[0m\u001b[1;33m,\u001b[0m\u001b[0mU\u001b[0m\u001b[1;33m)\u001b[0m\u001b[1;33m)\u001b[0m\u001b[1;33m\u001b[0m\u001b[1;33m\u001b[0m\u001b[0m\n\u001b[0m\u001b[0;32m    322\u001b[0m         \u001b[0mexpr\u001b[0m \u001b[1;33m=\u001b[0m \u001b[0mme\u001b[0m\u001b[1;33m.\u001b[0m\u001b[0mmsubs\u001b[0m\u001b[1;33m(\u001b[0m\u001b[0mexpr\u001b[0m\u001b[1;33m,\u001b[0m\u001b[0ml\u001b[0m\u001b[1;33m)\u001b[0m\u001b[1;33m\u001b[0m\u001b[1;33m\u001b[0m\u001b[0m\n\u001b[0;32m    323\u001b[0m \u001b[1;33m\u001b[0m\u001b[0m\n",
      "\u001b[1;31mTypeError\u001b[0m: 'Symbol' object is not iterable"
     ]
    }
   ],
   "source": [
    "sm.to_matlab_file(p,'C:/Git/fwt_auto/test/')"
   ]
  },
  {
   "cell_type": "code",
   "execution_count": 18,
   "id": "774fe1ce-20f5-497b-a660-2305873bd496",
   "metadata": {},
   "outputs": [
    {
     "ename": "TypeError",
     "evalue": "object of type 'Symbol' has no len()",
     "output_type": "error",
     "traceback": [
      "\u001b[1;31m---------------------------------------------------------------------------\u001b[0m",
      "\u001b[1;31mTypeError\u001b[0m                                 Traceback (most recent call last)",
      "\u001b[1;32m<ipython-input-18-ec1e2991dcf9>\u001b[0m in \u001b[0;36m<module>\u001b[1;34m\u001b[0m\n\u001b[1;32m----> 1\u001b[1;33m \u001b[0msm_lin\u001b[0m \u001b[1;33m=\u001b[0m \u001b[0msm\u001b[0m\u001b[1;33m.\u001b[0m\u001b[0mlinearise\u001b[0m\u001b[1;33m(\u001b[0m\u001b[0mp\u001b[0m\u001b[1;33m)\u001b[0m\u001b[1;33m\u001b[0m\u001b[1;33m\u001b[0m\u001b[0m\n\u001b[0m\u001b[0;32m      2\u001b[0m \u001b[0msm_lin\u001b[0m\u001b[1;33m.\u001b[0m\u001b[0mto_matlab_file_linear\u001b[0m\u001b[1;33m(\u001b[0m\u001b[0mp\u001b[0m\u001b[1;33m,\u001b[0m\u001b[1;34m'C:/Git/fwt_auto/model_2DoF/'\u001b[0m\u001b[1;33m)\u001b[0m\u001b[1;33m\u001b[0m\u001b[1;33m\u001b[0m\u001b[0m\n",
      "\u001b[1;32mc:\\git\\moyra\\moyra\\symbolic_model.py\u001b[0m in \u001b[0;36mlinearise\u001b[1;34m(self, p)\u001b[0m\n\u001b[0;32m    166\u001b[0m \u001b[1;33m\u001b[0m\u001b[0m\n\u001b[0;32m    167\u001b[0m         \u001b[1;31m# Linearise the External Forces\u001b[0m\u001b[1;33m\u001b[0m\u001b[1;33m\u001b[0m\u001b[1;33m\u001b[0m\u001b[0m\n\u001b[1;32m--> 168\u001b[1;33m         \u001b[0mextForce_lin\u001b[0m \u001b[1;33m=\u001b[0m \u001b[0mself\u001b[0m\u001b[1;33m.\u001b[0m\u001b[0mExtForces\u001b[0m\u001b[1;33m.\u001b[0m\u001b[0mlinearise\u001b[0m\u001b[1;33m(\u001b[0m\u001b[0mp\u001b[0m\u001b[1;33m.\u001b[0m\u001b[0mx\u001b[0m\u001b[1;33m,\u001b[0m\u001b[0mp\u001b[0m\u001b[1;33m.\u001b[0m\u001b[0mfp\u001b[0m\u001b[1;33m)\u001b[0m \u001b[1;32mif\u001b[0m \u001b[0mself\u001b[0m\u001b[1;33m.\u001b[0m\u001b[0mExtForces\u001b[0m \u001b[1;32mis\u001b[0m \u001b[1;32mnot\u001b[0m \u001b[1;32mNone\u001b[0m \u001b[1;32melse\u001b[0m \u001b[1;32mNone\u001b[0m\u001b[1;33m\u001b[0m\u001b[1;33m\u001b[0m\u001b[0m\n\u001b[0m\u001b[0;32m    169\u001b[0m \u001b[1;33m\u001b[0m\u001b[0m\n\u001b[0;32m    170\u001b[0m         \u001b[1;31m# create the linearised model and return it\u001b[0m\u001b[1;33m\u001b[0m\u001b[1;33m\u001b[0m\u001b[1;33m\u001b[0m\u001b[0m\n",
      "\u001b[1;32mc:\\git\\moyra\\moyra\\forces\\external_force.py\u001b[0m in \u001b[0;36mlinearise\u001b[1;34m(self, x, x_f)\u001b[0m\n\u001b[0;32m     32\u001b[0m \u001b[1;33m\u001b[0m\u001b[0m\n\u001b[0;32m     33\u001b[0m     \u001b[1;32mdef\u001b[0m \u001b[0mlinearise\u001b[0m\u001b[1;33m(\u001b[0m\u001b[0mself\u001b[0m\u001b[1;33m,\u001b[0m\u001b[0mx\u001b[0m\u001b[1;33m,\u001b[0m\u001b[0mx_f\u001b[0m\u001b[1;33m)\u001b[0m\u001b[1;33m:\u001b[0m\u001b[1;33m\u001b[0m\u001b[1;33m\u001b[0m\u001b[0m\n\u001b[1;32m---> 34\u001b[1;33m         \u001b[1;32mreturn\u001b[0m \u001b[0mExternalForce\u001b[0m\u001b[1;33m(\u001b[0m\u001b[0mlinearise_matrix\u001b[0m\u001b[1;33m(\u001b[0m\u001b[0mself\u001b[0m\u001b[1;33m.\u001b[0m\u001b[0mQ\u001b[0m\u001b[1;33m(\u001b[0m\u001b[1;33m)\u001b[0m\u001b[1;33m,\u001b[0m\u001b[0mx\u001b[0m\u001b[1;33m,\u001b[0m\u001b[0mx_f\u001b[0m\u001b[1;33m)\u001b[0m\u001b[1;33m)\u001b[0m\u001b[1;33m\u001b[0m\u001b[1;33m\u001b[0m\u001b[0m\n\u001b[0m\u001b[0;32m     35\u001b[0m \u001b[1;33m\u001b[0m\u001b[0m\n\u001b[0;32m     36\u001b[0m     \u001b[1;32mdef\u001b[0m \u001b[0mlambdify\u001b[0m\u001b[1;33m(\u001b[0m\u001b[0mself\u001b[0m\u001b[1;33m,\u001b[0m\u001b[0mparams\u001b[0m\u001b[1;33m)\u001b[0m\u001b[1;33m:\u001b[0m\u001b[1;33m\u001b[0m\u001b[1;33m\u001b[0m\u001b[0m\n",
      "\u001b[1;32mc:\\git\\moyra\\moyra\\helper_funcs.py\u001b[0m in \u001b[0;36mlinearise_matrix\u001b[1;34m(M, x, x_f)\u001b[0m\n\u001b[0;32m      6\u001b[0m \u001b[1;32mdef\u001b[0m \u001b[0mlinearise_matrix\u001b[0m\u001b[1;33m(\u001b[0m\u001b[0mM\u001b[0m\u001b[1;33m,\u001b[0m\u001b[0mx\u001b[0m\u001b[1;33m,\u001b[0m\u001b[0mx_f\u001b[0m\u001b[1;33m)\u001b[0m\u001b[1;33m:\u001b[0m\u001b[1;33m\u001b[0m\u001b[1;33m\u001b[0m\u001b[0m\n\u001b[0;32m      7\u001b[0m     \u001b[1;31m# reverse order of states to ensure velocities are subbed first\u001b[0m\u001b[1;33m\u001b[0m\u001b[1;33m\u001b[0m\u001b[1;33m\u001b[0m\u001b[0m\n\u001b[1;32m----> 8\u001b[1;33m     \u001b[0mx_subs\u001b[0m \u001b[1;33m=\u001b[0m \u001b[1;33m{\u001b[0m\u001b[0mx\u001b[0m\u001b[1;33m[\u001b[0m\u001b[0mi\u001b[0m\u001b[1;33m]\u001b[0m\u001b[1;33m:\u001b[0m\u001b[0mx_f\u001b[0m\u001b[1;33m[\u001b[0m\u001b[0mi\u001b[0m\u001b[1;33m]\u001b[0m \u001b[1;32mfor\u001b[0m \u001b[0mi\u001b[0m \u001b[1;32min\u001b[0m \u001b[0mrange\u001b[0m\u001b[1;33m(\u001b[0m\u001b[0mlen\u001b[0m\u001b[1;33m(\u001b[0m\u001b[0mx\u001b[0m\u001b[1;33m)\u001b[0m\u001b[1;33m)\u001b[0m\u001b[1;33m}\u001b[0m\u001b[1;33m\u001b[0m\u001b[1;33m\u001b[0m\u001b[0m\n\u001b[0m\u001b[0;32m      9\u001b[0m \u001b[1;33m\u001b[0m\u001b[0m\n\u001b[0;32m     10\u001b[0m     \u001b[1;31m# get the value of M at the fixed point\u001b[0m\u001b[1;33m\u001b[0m\u001b[1;33m\u001b[0m\u001b[1;33m\u001b[0m\u001b[0m\n",
      "\u001b[1;31mTypeError\u001b[0m: object of type 'Symbol' has no len()"
     ]
    }
   ],
   "source": [
    "sm_lin = sm.linearise(p)\n",
    "sm_lin.to_matlab_file_linear(p,'C:/Git/fwt_auto/model_2DoF/')"
   ]
  },
  {
   "cell_type": "code",
   "execution_count": 15,
   "id": "0c79e758-223e-4f0c-8f86-0f4bb7434ac7",
   "metadata": {},
   "outputs": [
    {
     "data": {
      "image/png": "[encoded data removed]",
      "text/latex": [
       "$\\displaystyle \\left( 2, \\  2\\right)$"
      ],
      "text/plain": [
       "(2, 2)"
      ]
     },
     "execution_count": 15,
     "metadata": {},
     "output_type": "execute_result"
    }
   ],
   "source": [
    "sm_lin.ExtForces.Q().jacobian(p.qd).shape"
   ]
  },
  {
   "cell_type": "code",
   "execution_count": null,
   "id": "f3309f21-26ab-4cc9-b671-331d4325d9bd",
   "metadata": {},
   "outputs": [],
   "source": []
  }
 ],
 "metadata": {
  "kernelspec": {
   "display_name": "fwt_models",
   "language": "python",
   "name": "fwt_models"
  },
  "language_info": {
   "codemirror_mode": {
    "name": "ipython",
    "version": 3
   },
   "file_extension": ".py",
   "mimetype": "text/x-python",
   "name": "python",
   "nbconvert_exporter": "python",
   "pygments_lexer": "ipython3",
   "version": "3.8.8"
  }
 },
 "nbformat": 4,
 "nbformat_minor": 5
}
