{
 "cells": [
  {
   "cell_type": "code",
   "execution_count": 1,
   "id": "4800be05-0f8f-46e4-bbb1-1e95b4cd5954",
   "metadata": {},
   "outputs": [],
   "source": [
    "import sympy as sym\n",
    "import sympy.physics.mechanics as me\n",
    "from sympy.abc import t as time\n",
    "import pandas as pd\n",
    "import seaborn as sns\n",
    "\n",
    "import numpy as np\n",
    "from scipy.integrate import odeint,LSODA,BDF,solve_ivp\n",
    "from scipy.linalg import eig\n",
    "from scipy.optimize import fsolve\n",
    "import matplotlib.pyplot as plt\n",
    "\n",
    "import moyra as ma\n",
    "import moyra.elements as ele\n",
    "import moyra.forces as ef\n",
    "\n",
    "import sys, os\n",
    "sys.path.insert(1, os.path.join(sys.path[0], '../..'))\n",
    "import custom_plot_objects as cpo\n",
    "import FwtModels as mf\n",
    "\n",
    "me.mechanics_printing()"
   ]
  },
  {
   "cell_type": "code",
   "execution_count": 2,
   "id": "25675724-6c5a-48ec-9816-269f8c942b72",
   "metadata": {},
   "outputs": [],
   "source": [
    "test_num = 6\n",
    "\n",
    "b_modes = 3\n",
    "t_modes = 2\n",
    "kink_b_modes = 1\n",
    "kink_t_modes = 1\n",
    "fwt_modes = 1\n",
    "modes = b_modes + t_modes + kink_t_modes + kink_b_modes + fwt_modes\n",
    "main_inner_panels = 12\n",
    "main_outer_panels = 8\n",
    "main_panels = main_inner_panels + main_outer_panels\n",
    "fwt_panels = 15\n",
    "tab_panels = 10\n",
    "panels = main_panels + fwt_panels\n",
    "\n",
    "p = ma.DynamicModelParameters(modes)\n",
    "\n",
    "## Create some global parameters\n",
    "p.b_modes = ma.ModelSymbol(value = b_modes,string = 'b_modes') # percentage of wing that is a FWT\n",
    "p.t_modes = ma.ModelSymbol(value = t_modes,string = 't_modes') # percentage of wing that is a FWT\n",
    "p.kink_b_modes = ma.ModelSymbol(value = kink_b_modes,string = 'kink_b_modes') # percentage of wing that is a FWT\n",
    "p.kink_t_modes = ma.ModelSymbol(value = kink_t_modes,string = 'kink_t_modes') # percentage of wing that is a FWT\n",
    "p.modes = ma.ModelSymbol(value = modes,string = 'modes') # percentage of wing that is a FWT\n",
    "\n",
    "p.c = ma.ModelSymbol(value = 0.15,string = 'c') # chord of wing\n",
    "p.s_i = ma.ModelSymbol(value = 1,string = 's_i') # total semi-span of wing\n",
    "p.s_f = ma.ModelSymbol(value = 0.345,string = 's_f') # total semi-span of wingtip\n",
    "p.s_t = ma.ModelSymbol(value = 0.1,string = 's_t') # total length of the tab\n",
    "p.alpha_r = ma.ModelSymbol(value = np.deg2rad(3),string = 'alpha_r') # root AoA\n",
    "\n",
    "## inner beam section\n",
    "p.s_1 = ma.ModelSymbol(value = 0.8,string = 's_1') # total length of the tab\n",
    "p.c_b = ma.ModelSymbol(value = 0.03,string = 'c_b') # chord of beam\n",
    "p.rho_b = ma.ModelSymbol(value = 19.53,string = 'rho_b') # beam mass per unit area (kg/m^2)\n",
    "\n",
    "## outer beam section\n",
    "p.c_b2 = ma.ModelSymbol(value = 0.02,string = 'c_b2') # chord of beam\n",
    "p.rho_b2 = ma.ModelSymbol(value = 19.53,string = 'rho_b2') # beam mass per unit area (kg/m^2)\n",
    "p.EI = ma.ModelSymbol(value = 9.77e6,string = 'EI') # Bending stiffness for the wing\n",
    "p.GJ = ma.ModelSymbol(value = 0.99e6,string = 'GJ') # Torsional Stiffness for the wing\n",
    "\n",
    "p.K_hinge = ma.ModelSymbol(value = 0,string = 'K_hinge')    # Unsteady Torsional Term\n",
    "\n",
    "## wing uniform mass\n",
    "p.rho_w = ma.ModelSymbol(value = 19.53,string = 'rho_w') # wing mass per unit area (kg/m^2)\n",
    "p.c_w = ma.ModelSymbol(value = 0.15,string = 'c_w') # chord over which to integrate wing mass\n",
    "p.EI_2 = ma.ModelSymbol(value = 9.77e6,string = 'EI_2') # Bending stiffness for the wing\n",
    "p.GJ_2 = ma.ModelSymbol(value = 0.99e6,string = 'GJ_2') # Torsional Stiffness for the wing\n",
    "\n",
    "\n",
    "# Location of flexural axes fro beam\n",
    "p.e_0 = ma.ModelSymbol(value = 0.08,string = 'e_0')\n",
    "p.x_f0 = ma.ModelSymbol(value = 0.08,string = 'x_f')\n",
    "\n",
    "# FWT mass element\n",
    "p.m_f = ma.ModelSymbol(value = 0.3,string = 'm_f')\n",
    "p.x_comf = ma.ModelSymbol(value = 0.3,string = 'x_comf')\n",
    "p.y_comf = ma.ModelSymbol(value = 0.3,string = 'y_comf')\n",
    "p.I_xxf = ma.ModelSymbol(value = 0.3,string = 'I_xxf') # inertia of FWT (uniform bar)\n",
    "p.I_yyf = ma.ModelSymbol(value = 0.3,string = 'I_yyf') # inertia of FWT (uniform bar)\n",
    "\n",
    "# FWT properties\n",
    "p.Lambda = ma.ModelSymbol(value = np.deg2rad(10),string = 'Lambda') # Flare Angle\n",
    "p.mu = ma.ModelSymbol(value = 0,string = 'mu')                 # dihedral angle at the end of the inner wing\n",
    "p.mu_d = ma.ModelSymbol(value = 0,string = 'mu_d') # rate of change of dihedral angle at the tip of the inner wing\n",
    "\n",
    "# Symbols to translate along inner wing and FWT\n",
    "p.y_0 =ma.ModelSymbol(value = 0,string = 'y_0')        # inner wing y chord\n",
    "p.x_0 = ma.ModelSymbol(value = 0,string = 'x_0')       # inner wing x chord\n",
    "p.y_1 = ma.ModelSymbol(value = 0,string = 'y_1')       # FWT y chord\n",
    "p.x_1 = ma.ModelSymbol(value = 0,string = 'x_1')       # FWT x chord\n",
    "\n",
    "# Unsteady Aero Terms\n",
    "p.k = ma.ModelSymbol(value = 0,string = 'k')    # reduced frequency\n",
    "p.AR = ma.ModelSymbol(value = 0,string = 'AR')    # Aspect Ratio\n",
    "p.M_thetadot = ma.ModelSymbol(value = -1.2,string = 'M_thetadot')    # Unsteady Torsional Term\n",
    "\n",
    "\n",
    "## Aero Parameters\n",
    "p.rho = ma.ModelSymbol(value = 1.225,string = 'rho')                 # density\n",
    "p.V = ma.ModelSymbol(value = 10,string = 'V')                        # velocity\n",
    "p.c_dmax = ma.ModelSymbol(value = 0.01,string = 'c_dmax')             # c_dmax\n",
    "p.x_l = ma.ModelSymbol(value = 0.25,string = 'x_l')    # location of lift as percentage of the chord\n",
    "\n",
    "# C_L curve terms\n",
    "p.alpha_max = ma.ModelSymbol(value = np.deg2rad(15),string = 'alpha_max')# peak AoA\n",
    "p.clip_factor = ma.ModelSymbol(value = 0.1,string = 'clip_factor')    # clipping factor for stall\n",
    "p.stall_factor = ma.ModelSymbol(value = 0.1,string = 'stall_factor')    # clipping factor for stall\n",
    "p.stall_rate = ma.ModelSymbol(value = np.deg2rad(0.5),string = 'stall_rate')    # clipping factor for stall\n",
    "p.a_i = ma.ModelSymbol(value = 2*np.pi,string = 'a_i')               # C_L slope of main wing\n",
    "p.a_0i = ma.ModelSymbol(value = 2*np.pi,string = 'a_0i')               # C_L slope of main wing\n",
    "p.a = ma.ModelMatrix(value =[np.pi*2]*panels,length=panels, string='a') # local C_l\n",
    "\n",
    "# gravity terms\n",
    "p.g  = ma.ModelSymbol(value = 9.81,string = 'g')                     # gravity\n",
    "p.g_v = ma.ModelMatrix(value =[0,0,-1],length=3,string='g_v')      # gravity unit vector\n",
    "\n",
    "\n",
    "## FWT tab Wing Specific\n",
    "p.beta_t = ma.ModelSymbol(value = 0,string = 'beta_t')               # tab\n",
    "p.beta_m = ma.ModelSymbol(value = 0,string = 'beta_m')               # tab\n",
    "p.beta_a = ma.ModelSymbol(value = 0,string = 'beta_a')               # tab\n",
    "\n",
    "## FWT Aero Specific\n",
    "p.alpha_1 = ma.ModelSymbol(value = 0,string = 'alpha_1')             # FWT alpha\n",
    "p.alphadot_1 = ma.ModelSymbol(value = 0,string = 'alphadot_1')       # FWT alphadot\n",
    "\n",
    "## Numeric Model Constants\n",
    "p.fp = ma.ModelMatrix(value =[0]*p.qs*2,length=p.qs*2,string='fp') # The stationary point\n",
    "\n",
    "# Factor to change the size of joint values\n",
    "p.eta = ma.ModelMatrix(value = [1]*modes,length=modes,string='eta')"
   ]
  },
  {
   "cell_type": "code",
   "execution_count": 3,
   "id": "58de2b35-0b40-4a10-8597-f13486a7c9b4",
   "metadata": {},
   "outputs": [],
   "source": [
    "#get shape functions for main wing\n",
    "z_0,tau_0 = ele.FlexiElement.ShapeFunctions_BN_TM(b_modes,t_modes,p.q[:b_modes+t_modes],p.y_0,p.x_0,0,0,factor=p.eta[:b_modes+t_modes],type='taylor')\n",
    "z_1,tau_1 = ele.FlexiElement.ShapeFunctions_BN_TM(kink_b_modes,kink_t_modes,p.q[b_modes+t_modes:modes-fwt_modes],(p.y_0-p.s_1),p.x_0,0,0,factor=p.eta[b_modes+t_modes:modes-fwt_modes],type='taylor')\n",
    "# apply weighting function\n",
    "#define wrefernce frames\n",
    "# wing_root_frame = ma.HomogenousTransform().R_y(p.alpha_r)\n",
    "wing_root_frame = ma.HomogenousTransform()\n",
    "\n",
    "wing_frame_inner = wing_root_frame.Translate(p.x_0,p.y_0,z_0)\n",
    "wing_flexural_frame_inner = wing_root_frame.Translate(0,p.y_0,z_0.subs({p.x_0:0}))\n",
    "\n",
    "wing_frame_outer = wing_root_frame.Translate(p.x_0,p.y_0,z_0+z_1)\n",
    "wing_flexural_frame_outer = wing_root_frame.Translate(0,p.y_0,(z_0+z_1).subs({p.x_0:0}))\n",
    "\n",
    "tip_twist = (tau_0 + tau_1).subs({p.y_0:(p.s_i)})\n",
    "hinge_frame =  wing_flexural_frame_outer.subs({p.y_0:p.s_i})\n",
    "fwt_root_frame = hinge_frame.R_y(tip_twist).R_x(p.q[-1]).simplify()\n",
    "\n",
    "fwt_frame = fwt_root_frame.Translate(p.x_1-p.x_f0,p.y_1,0)\n",
    "\n",
    "x_aero = p.c*p.x_l - p.x_f0\n",
    "y_aero = (p.y_1+x_aero*sym.tan(p.Lambda))*sym.cos(p.Lambda)\n",
    "fwt_aero_frame =  hinge_frame.R_x(p.q[-1]).Translate(x_aero,y_aero,0).simplify()"
   ]
  },
  {
   "cell_type": "code",
   "execution_count": 4,
   "id": "764ec40b-ac7d-445f-9baa-2fd5c9500359",
   "metadata": {},
   "outputs": [],
   "source": [
    "#Create Elemnts\n",
    "M_wing = ele.MassMatrix(p.rho_w)\n",
    "M_beam = ele.MassMatrix(p.rho_b)\n",
    "M_beam2 = ele.MassMatrix(p.rho_b2)\n",
    "M_fwt = ele.MassMatrix(p.m_f,I_xx = p.I_xxf,I_yy = p.I_yyf)\n",
    "\n",
    "## inner beam element\n",
    "beam_x_int = (p.x_0,-p.c_b/2,p.c_b/2)\n",
    "beam_y_int = (p.y_0,0,p.s_1)\n",
    "beam_mass_ele = ele.FlexiElement(wing_frame_inner,M_beam,p.x_0,p.y_0,beam_x_int,beam_y_int,0,p.EI,p.GJ,gravityPot=True)\n",
    "\n",
    "## outer beam element\n",
    "beam2_x_int = (p.x_0,-p.c_b2/2,p.c_b2/2)\n",
    "beam2_y_int = (p.y_0,p.s_1,p.s_i)\n",
    "beam2_mass_ele = ele.FlexiElement(wing_frame_outer,M_beam2,p.x_0,p.y_0,beam2_x_int,beam2_y_int,0,p.EI_2,p.GJ_2,gravityPot=True)\n",
    "\n",
    "## wing mass element inner\n",
    "wing_x_int = (p.x_0,-p.x_f0,p.c_w-p.x_f0)\n",
    "wing_y_int = (p.y_0,0,p.s_1)\n",
    "wing_mass_ele_inner = ele.FlexiElement(wing_frame_inner,M_wing,p.x_0,p.y_0,wing_x_int,wing_y_int,0,0,0,gravityPot=True)\n",
    "\n",
    "## wing mass element outer\n",
    "wing_x_int = (p.x_0,-p.x_f0,p.c_w-p.x_f0)\n",
    "wing_y_int = (p.y_0,p.s_1,p.s_i)\n",
    "wing_mass_ele_outer = ele.FlexiElement(wing_frame_outer,M_wing,p.x_0,p.y_0,wing_x_int,wing_y_int,0,0,0,gravityPot=True)\n",
    "\n",
    "## FWT mass element\n",
    "x_com = (p.x_comf-p.x_f0)\n",
    "y_com = (p.y_comf + x_com*sym.tan(p.Lambda))*sym.cos(p.Lambda)\n",
    "fwt_ele = ele.RigidElement(fwt_root_frame,M_fwt,True,[x_com,y_com,0])\n",
    "\n",
    "\n",
    "## Hinge Spring Element\n",
    "hinge_spring = ele.Spring(p.q[-1],p.K_hinge)"
   ]
  },
  {
   "cell_type": "code",
   "execution_count": 5,
   "id": "a1f16157-4924-4b04-bebd-2fae0c8a9479",
   "metadata": {},
   "outputs": [
    {
     "data": {
      "image/png": "[encoded data removed]",
      "text/latex": [
       "$\\displaystyle - \\frac{a_{i} \\left(\\alpha_{max} clip_{factor} + stall_{factor} \\log{\\left(1 + e^{- clip_{factor} \\left(\\alpha_{max} - y\\right)} \\right)} + \\left(stall_{factor} - 1\\right) \\log{\\left(\\left(e^{clip_{factor} \\left(\\alpha_{max} + stall_{rate} + y\\right)} + 1\\right) e^{- clip_{factor} \\left(\\alpha_{max} + stall_{rate} + y\\right)} \\right)} - \\left(stall_{factor} - 1\\right) \\log{\\left(1 + e^{- clip_{factor} \\left(\\alpha_{max} + y\\right)} \\right)} - \\left(stall_{factor} - 1\\right) \\log{\\left(1 + e^{- clip_{factor} \\left(\\alpha_{max} + stall_{rate} - y\\right)} \\right)} - \\log{\\left(e^{clip_{factor} \\left(\\alpha_{max} + y\\right)} + 1 \\right)}\\right)}{clip_{factor}}$"
      ],
      "text/plain": [
       "    ⎛                                   ⎛     -clip_factor⋅(αₘₐₓ - y)⎞        \n",
       "-aᵢ⋅⎝αₘₐₓ⋅clip_factor + stall_factor⋅log⎝1 + ℯ                       ⎠ + (stal\n",
       "──────────────────────────────────────────────────────────────────────────────\n",
       "                                                                              \n",
       "\n",
       "                 ⎛⎛ clip_factor⋅(αₘₐₓ + stallᵣₐₜₑ + y)    ⎞  -clip_factor⋅(αₘₐ\n",
       "l_factor - 1)⋅log⎝⎝ℯ                                   + 1⎠⋅ℯ                 \n",
       "──────────────────────────────────────────────────────────────────────────────\n",
       "                                                                              \n",
       "\n",
       "ₓ + stallᵣₐₜₑ + y)⎞                         ⎛     -clip_factor⋅(αₘₐₓ + y)⎞    \n",
       "                  ⎠ - (stall_factor - 1)⋅log⎝1 + ℯ                       ⎠ - (\n",
       "──────────────────────────────────────────────────────────────────────────────\n",
       "     clip_factor                                                              \n",
       "\n",
       "                     ⎛     -clip_factor⋅(αₘₐₓ + stallᵣₐₜₑ - y)⎞      ⎛ clip_fa\n",
       "stall_factor - 1)⋅log⎝1 + ℯ                                   ⎠ - log⎝ℯ       \n",
       "──────────────────────────────────────────────────────────────────────────────\n",
       "                                                                              \n",
       "\n",
       "ctor⋅(αₘₐₓ + y)    ⎞⎞ \n",
       "                + 1⎠⎠ \n",
       "──────────────────────\n",
       "                      "
      ]
     },
     "execution_count": 5,
     "metadata": {},
     "output_type": "execute_result"
    }
   ],
   "source": [
    "from sympy.abc import y\n",
    "def ramp(x,corner,sharpness):\n",
    "    return 1/sharpness*sym.ln(1+sym.exp(sharpness*(x+corner)))\n",
    "\n",
    "def make_cl(x,stall_angle,stall_factor,c_l_0,sharpness):\n",
    "    c_l = ramp(x,stall_angle,sharpness)\n",
    "    c_l -= ramp(x,-stall_angle,sharpness)*stall_factor\n",
    "    c_l += ramp(x,-(stall_angle+p.stall_rate),sharpness)*(stall_factor-1)\n",
    "    c_l += ramp(-x,-(stall_angle),sharpness)*(stall_factor-1)\n",
    "    c_l -= ramp(-x,-(stall_angle+p.stall_rate),sharpness)*(stall_factor-1)\n",
    "    c_l -= stall_angle\n",
    "    c_l *= c_l_0\n",
    "    return c_l\n",
    "\n",
    "c_l_func = lambda x: make_cl(x,p.alpha_max,p.stall_factor,p.a_i,p.clip_factor)\n",
    "sym.simplify(make_cl(y,p.alpha_max,p.stall_factor,p.a_i,p.clip_factor))"
   ]
  },
  {
   "cell_type": "code",
   "execution_count": 6,
   "id": "1557f04a-44b3-487d-bd2e-06515371f8fc",
   "metadata": {},
   "outputs": [],
   "source": [
    "# Main Inner Wing Aero Forces \n",
    "wing_AeroForces = ef.AeroForce.PerUnitSpan(p,wing_flexural_frame_inner,p.a_i,\n",
    "                               alphadot = 0 if isinstance(tau_0,int) else tau_0.diff(me.dynamicsymbols._t),\n",
    "                               M_thetadot = p.M_thetadot,\n",
    "                               e = p.e_0,\n",
    "                               w_g = 0,\n",
    "                               root_alpha = p.alpha_r,\n",
    "                                delta_alpha = tau_0,\n",
    "                               alpha_zero = 0,\n",
    "                               stall_angle = p.alpha_max,\n",
    "                               c = p.c,\n",
    "                                V = p.V,\n",
    "                               c_d_max = p.c_dmax,\n",
    "                               linear = True,\n",
    "                                z_inverted=False,\n",
    "                               unsteady=True,\n",
    "                               c_l_func = lambda x: c_l_func(x))\n",
    "\n",
    "# split Main Wing into segments\n",
    "forces = []\n",
    "for i in range(main_inner_panels):\n",
    "    seg_width = p.s_1/main_inner_panels\n",
    "    yi = seg_width/2 + i*seg_width\n",
    "    forces.append(wing_AeroForces.subs({p.y_0:yi,p.a_i:p.a[i]})*seg_width)\n",
    "    \n",
    "Q = sym.Matrix([0]*p.qs)\n",
    "for f in forces:\n",
    "    Q += f.Q()"
   ]
  },
  {
   "cell_type": "code",
   "execution_count": 7,
   "id": "26879bc0-a844-410d-9c98-1c277b430471",
   "metadata": {},
   "outputs": [],
   "source": [
    "# Main Outer Wing Aero Forces\n",
    "tau = tau_0+tau_1\n",
    "wing_AeroForces = ef.AeroForce.PerUnitSpan(p,wing_flexural_frame_outer,p.a_i,\n",
    "                               alphadot = 0 if isinstance(tau,int) else tau.diff(me.dynamicsymbols._t),\n",
    "                               M_thetadot = p.M_thetadot,\n",
    "                               e = p.e_0,\n",
    "                               w_g = 0,\n",
    "                               root_alpha = p.alpha_r,\n",
    "                                delta_alpha = tau,\n",
    "                               alpha_zero = 0,\n",
    "                               stall_angle = p.alpha_max,\n",
    "                               c = p.c,\n",
    "                                V = p.V,\n",
    "                               c_d_max = p.c_dmax,\n",
    "                               linear = True,\n",
    "                                z_inverted=False,\n",
    "                               unsteady=True,\n",
    "                               c_l_func = lambda x: c_l_func(x))\n",
    "\n",
    "# split Main Wing into segments\n",
    "forces = []\n",
    "for i in range(main_outer_panels):\n",
    "    seg_width = (p.s_i-p.s_1)/main_outer_panels\n",
    "    yi = p.s_1 + seg_width/2 + i*seg_width\n",
    "    forces.append(wing_AeroForces.subs({p.y_0:yi,p.a_i:p.a[i]})*seg_width)\n",
    "    \n",
    "for f in forces:\n",
    "    Q += f.Q()\n",
    "wing_AeroForces = ef.ExternalForce(Q)"
   ]
  },
  {
   "cell_type": "code",
   "execution_count": 8,
   "id": "cbbba4c5-eef7-4c44-b13c-db1247b3ced6",
   "metadata": {},
   "outputs": [],
   "source": [
    "# BodyJacobian = sym.simplify(ef.AeroForce._trigsimp(fwt_aero_frame.BodyJacobian(p.q)))\n",
    "BodyJacobian = fwt_aero_frame.BodyJacobian(p.q)\n",
    "C_L = p.a_i\n",
    "alphadot = p.alphadot_1\n",
    "M_thetadot = p.M_thetadot\n",
    "e = 0\n",
    "w_g = 0\n",
    "root_alpha = p.alpha_1\n",
    "delta_alpha = 0\n",
    "alpha_zero = 0\n",
    "stall_angle = p.alpha_max\n",
    "c = p.c\n",
    "V = p.V\n",
    "c_d_max = p.c_dmax\n",
    "linear = True\n",
    "z_inverted=False\n",
    "unsteady=True,\n",
    "fwt_c_l_func = lambda x: c_l_func(x)+p.beta_t*p.beta_a*p.a_i\n",
    "# fwt_c_l_func = lambda x: p.a_i*x+p.beta_t*p.beta_a*p.a_i\n",
    "fwt_c_m_func = lambda x: p.beta_t*p.beta_m*p.a_i\n",
    "\n",
    "dAlpha = ef.AeroForce.get_dAlpha(p,BodyJacobian,alphadot,alpha_zero, root_alpha, delta_alpha, w_g,V,c,z_inverted,unsteady)\n",
    "F_n = ef.AeroForce.get_F_n(p,BodyJacobian,dAlpha,C_L,alpha_zero, stall_angle,c_d_max,V,c,linear,fwt_c_l_func)\n",
    "M_w = ef.AeroForce.get_moment(p,BodyJacobian,dAlpha,F_n,C_L,alphadot,M_thetadot,e,V,c,0,fwt_c_m_func,unsteady)\n",
    "F_a = ef.AeroForce.get_apparent_mass(p,BodyJacobian,C_L)\n",
    "\n",
    "\n",
    "# component effecting bending\n",
    "wrench_lift = sym.Matrix([0,0,-F_n,0,M_w,0]) if z_inverted else sym.Matrix([0,0,F_n,0,M_w,0])\n",
    "Q_L = BodyJacobian.T*wrench_lift\n",
    "fwt_AeroForces_perUnit = ef.AeroForce(Q_L,dAlpha)\n",
    "\n",
    "# component effecting torsion\n",
    "Transform = hinge_frame.R_y(tip_twist)\n",
    "fwt_aeroTorque = ef.BodyForce(p,Transform,simplify=False,My = M_w*sym.cos(p.q[-1]))"
   ]
  },
  {
   "cell_type": "code",
   "execution_count": 9,
   "id": "414a0f88-571a-4b95-90fe-40cf911814df",
   "metadata": {},
   "outputs": [],
   "source": [
    "# split FWT into segments\n",
    "forces = []\n",
    "\n",
    "# aero_mom_arm_offset = lambda x: yi#*sym.cos(p.Lambda)-p.c/(4*sym.cos(p.Lambda))\n",
    "#first complete inner part without tab\n",
    "seg_width = (p.s_f-p.s_t)/(fwt_panels-tab_panels)\n",
    "\n",
    "for i in range(fwt_panels-tab_panels):\n",
    "    yi = seg_width/2 + i*seg_width\n",
    "    forces.append(fwt_AeroForces_perUnit.subs({p.y_1:yi,p.a_i:p.a[i+main_panels],p.beta_t:0})*seg_width)\n",
    "    forces.append(fwt_aeroTorque.subs({p.y_1:yi,p.a_i:p.a[i+main_panels],p.beta_t:0})*seg_width)\n",
    "    \n",
    "# second complete part of wing with wingtip\n",
    "ys = p.s_f-p.s_t\n",
    "seg_width = p.s_t/tab_panels\n",
    "for i in range(tab_panels):\n",
    "    yi = ys + seg_width/2 + i*seg_width\n",
    "    idx = main_panels + fwt_panels - tab_panels + i\n",
    "    forces.append(fwt_AeroForces_perUnit.subs({p.y_1:yi,p.a_i:p.a[idx]})*seg_width)\n",
    "    forces.append(fwt_aeroTorque.subs({p.y_1:yi,p.a_i:p.a[idx]})*seg_width)\n",
    "    \n",
    "# convert forces into matrix form\n",
    "Q = sym.Matrix([0]*p.qs)\n",
    "for f in forces:\n",
    "    Q += f.Q()\n",
    "fwt_AeroForces = ef.ExternalForce(Q)"
   ]
  },
  {
   "cell_type": "code",
   "execution_count": 10,
   "id": "ac25ec0a-12f2-446d-a757-dc7d41139a50",
   "metadata": {},
   "outputs": [
    {
     "name": "stdout",
     "output_type": "stream",
     "text": [
      "0\n",
      "1\n",
      "2\n",
      "3\n",
      "4\n",
      "5\n",
      "Wall time: 27min 25s\n"
     ]
    }
   ],
   "source": [
    "%%time\n",
    "#Create Composite force\n",
    "CompositeForce = ef.CompositeForce([wing_AeroForces,fwt_AeroForces])\n",
    "# Create the SYmbolic Model\n",
    "sm = ma.SymbolicModel.FromElementsAndForces(p,[wing_mass_ele_inner,wing_mass_ele_outer,beam_mass_ele,beam2_mass_ele,fwt_ele,hinge_spring],CompositeForce)\n",
    "# sm = ma.SymbolicModel.FromElementsAndForces(p,[wing_stiffness_ele,fwt_ele,mass_ele],CompositeForce)"
   ]
  },
  {
   "cell_type": "code",
   "execution_count": 11,
   "id": "585fb01c-8c4d-4f03-8578-21be13424bb4",
   "metadata": {},
   "outputs": [],
   "source": [
    "t = me.dynamicsymbols._t\n",
    "# expression for dihedral angle at the end of the inner wing\n",
    "d_z_s0 = (z_0+z_1).diff(p.y_0).subs({p.y_0:p.s_i,p.x_0:0})\n",
    "d_d_z_s0 = d_z_s0.diff(t)\n",
    "\n",
    "# dummy function for dihedral angle at the end of the inner wing\n",
    "dummy = sym.Function('d')(t)\n",
    "\n",
    "# get expression for AoA on the FWT with fold angle\n",
    "fwt_aoa = mf.GetAoA(p.alpha_r+tip_twist,0,p.Lambda,p.q[-1]-dummy,dummy)\n",
    "d_fwt_aoa = fwt_aoa.diff(t)\n",
    "# sub in place holder term for the dihedral angle and derivative with time \n",
    "d_fwt_aoa = d_fwt_aoa.subs({dummy.diff(t):p.mu_d,dummy:p.mu})\n",
    "fwt_aoa = fwt_aoa.subs({dummy:p.mu})"
   ]
  },
  {
   "cell_type": "code",
   "execution_count": 12,
   "id": "c2eee07b-852d-4dae-9301-53e92f4f4946",
   "metadata": {},
   "outputs": [],
   "source": [
    "# sub in expersions for AoA\n",
    "sm = sm.subs({p.alpha_1:fwt_aoa,p.alphadot_1:d_fwt_aoa})"
   ]
  },
  {
   "cell_type": "code",
   "execution_count": 13,
   "id": "908b06d0-9f9d-48f5-9d5f-0ddba433dc31",
   "metadata": {},
   "outputs": [],
   "source": [
    "# export to matlab\n",
    "sm.to_matlab_file(p,'C:/Git/scitech2022_post_flutter/+model/')"
   ]
  },
  {
   "cell_type": "code",
   "execution_count": 14,
   "id": "3df069ae-c627-4a64-9251-1401ad6bdf0d",
   "metadata": {},
   "outputs": [],
   "source": [
    "sm_lin = sm.subs({sym.sin(p.q[-1]):p.q[-1],sym.cos(p.q[-1]):1})"
   ]
  },
  {
   "cell_type": "code",
   "execution_count": 15,
   "id": "d3712e20-95d7-4984-a262-2c8748410bf1",
   "metadata": {},
   "outputs": [],
   "source": [
    "sm_lin.to_matlab_file(p,'C:/Git/scitech2022_post_flutter/+model_lin/')"
   ]
  },
  {
   "cell_type": "code",
   "execution_count": 16,
   "id": "4338cfbf-9bff-4745-a0c0-6b44ff1032f2",
   "metadata": {},
   "outputs": [],
   "source": [
    "# make files in matlab to get teh diherdral angle at the end of the innenr wing\n",
    "file_dir ='C:/Git/scitech2022_post_flutter/+model/'\n",
    "func_name = 'd_z_s0'\n",
    "with open(file_dir+f\"{func_name}.m\",'w') as file:\n",
    "    file.write(sm._gen_octave(d_z_s0,p,func_name))\n",
    "    \n",
    "func_name = 'd_d_z_s0'\n",
    "with open(file_dir+f\"{func_name}.m\",'w') as file:\n",
    "    file.write(sm._gen_octave(d_d_z_s0,p,func_name))"
   ]
  },
  {
   "cell_type": "code",
   "execution_count": 17,
   "id": "7d7f683b-598d-48ec-8f6f-544c723fa1e1",
   "metadata": {},
   "outputs": [],
   "source": [
    "# make function to plot wings in matlab\n",
    "main_wing_inner_surf = wing_frame_inner.Transform_point([0,0,0])\n",
    "main_wing_outer_surf = wing_frame_outer.Transform_point([0,0,0])\n",
    "fwt_surf = fwt_frame.Transform_point([0,0,0])\n",
    "tau_inner = tau_0\n",
    "tau_outer = tau_0 + tau_1\n",
    "\n",
    "\n",
    "func_name = 'main_wing_inner_surf'\n",
    "with open(file_dir+f\"{func_name}.m\",'w') as file:\n",
    "    file.write(sm._gen_octave(main_wing_inner_surf,p,func_name))\n",
    "    \n",
    "func_name = 'main_wing_outer_surf'\n",
    "with open(file_dir+f\"{func_name}.m\",'w') as file:\n",
    "    file.write(sm._gen_octave(main_wing_outer_surf,p,func_name))\n",
    "    \n",
    "func_name = 'fwt_surf'\n",
    "with open(file_dir+f\"{func_name}.m\",'w') as file:\n",
    "    file.write(sm._gen_octave(fwt_surf,p,func_name))\n",
    "    \n",
    "func_name = 'tau_inner'\n",
    "with open(file_dir+f\"{func_name}.m\",'w') as file:\n",
    "    file.write(sm._gen_octave(tau_inner,p,func_name))\n",
    "    \n",
    "func_name = 'tau_outer'\n",
    "with open(file_dir+f\"{func_name}.m\",'w') as file:\n",
    "    file.write(sm._gen_octave(tau_outer,p,func_name))"
   ]
  },
  {
   "cell_type": "code",
   "execution_count": 18,
   "id": "6172208c-8157-41e1-96da-8321b8ec1304",
   "metadata": {},
   "outputs": [
    {
     "data": {
      "image/png": "[encoded data removed]",
      "text/latex": [
       "$\\displaystyle \\left[\\begin{matrix}x_{0}\\\\s_{1}\\\\s_{1} \\left(\\eta_{0} s_{1} q_{0} + \\eta_{1} s_{1}^{2} q_{1} + \\eta_{2} s_{1}^{3} q_{2} - x_{0} \\left(\\eta_{3} q_{3} + \\eta_{4} s_{1} q_{4}\\right)\\right)\\end{matrix}\\right]$"
      ],
      "text/plain": [
       "⎡                             x₀                              ⎤\n",
       "⎢                                                             ⎥\n",
       "⎢                             s₁                              ⎥\n",
       "⎢                                                             ⎥\n",
       "⎢   ⎛                2           3                           ⎞⎥\n",
       "⎣s₁⋅⎝η₀⋅s₁⋅q₀ + η₁⋅s₁ ⋅q₁ + η₂⋅s₁ ⋅q₂ - x₀⋅(η₃⋅q₃ + η₄⋅s₁⋅q₄)⎠⎦"
      ]
     },
     "execution_count": 18,
     "metadata": {},
     "output_type": "execute_result"
    }
   ],
   "source": [
    "main_wing_inner_surf.subs({p.y_0:p.s_1})"
   ]
  },
  {
   "cell_type": "code",
   "execution_count": 19,
   "id": "12674978-3272-4440-8e46-610424b689d1",
   "metadata": {},
   "outputs": [
    {
     "data": {
      "image/png": "[encoded data removed]",
      "text/latex": [
       "$\\displaystyle \\left[\\begin{matrix}x_{0}\\\\s_{1}\\\\s_{1} \\left(\\eta_{0} s_{1} q_{0} + \\eta_{1} s_{1}^{2} q_{1} + \\eta_{2} s_{1}^{3} q_{2} - x_{0} \\left(\\eta_{3} q_{3} + \\eta_{4} s_{1} q_{4}\\right)\\right)\\end{matrix}\\right]$"
      ],
      "text/plain": [
       "⎡                             x₀                              ⎤\n",
       "⎢                                                             ⎥\n",
       "⎢                             s₁                              ⎥\n",
       "⎢                                                             ⎥\n",
       "⎢   ⎛                2           3                           ⎞⎥\n",
       "⎣s₁⋅⎝η₀⋅s₁⋅q₀ + η₁⋅s₁ ⋅q₁ + η₂⋅s₁ ⋅q₂ - x₀⋅(η₃⋅q₃ + η₄⋅s₁⋅q₄)⎠⎦"
      ]
     },
     "execution_count": 19,
     "metadata": {},
     "output_type": "execute_result"
    }
   ],
   "source": [
    "main_wing_outer_surf.subs({p.y_0:p.s_1})"
   ]
  },
  {
   "cell_type": "code",
   "execution_count": 20,
   "id": "a8103893-d9ac-4c59-9163-34d06aaeab5a",
   "metadata": {},
   "outputs": [],
   "source": [
    "from time import time, ctime\n",
    "def gen_octave(expr,func_name):  \n",
    "    symbols = sorted([s.name for s in expr.free_symbols], key=lambda L: (L.lower(), L))\n",
    "    print(symbols)\n",
    "    # split expr into groups\n",
    "    replacments, exprs = sym.cse(expr,symbols=(sym.Symbol(f'rep_{i}')for i in range(10000)))\n",
    "    if isinstance(expr,tuple):\n",
    "        expr = tuple(exprs)\n",
    "    elif isinstance(expr,list):\n",
    "        expr = exprs\n",
    "    else:\n",
    "        expr = exprs[0]      \n",
    "\n",
    "    group_string = '%% create common groups\\n\\t'\n",
    "    for variable, expression in replacments:\n",
    "        group_string +=f'{variable} = {sym.printing.octave.octave_code(expression)};\\n\\t'\n",
    "\n",
    "    # convert to octave string and covert states to vector form\n",
    "    out = '%% create output \\n\\tout = ' + sym.printing.octave.octave_code(expr)\n",
    "\n",
    "    # make the file pretty...\n",
    "    out = out.replace(',',',...\\n\\t\\t').replace(';',';...\\n\\t\\t')\n",
    "\n",
    "    file_sig = f'%{func_name.upper()} Auto-generated function from moyra\\n\\t'\n",
    "    file_sig += f'%\\n\\t'\n",
    "    file_sig += f'%\\tCreated at : {ctime(time())} \\n\\t'\n",
    "    file_sig += f'%\\tCreated with : moyra https://pypi.org/project/moyra/\\n\\t'\n",
    "    file_sig += f'%\\n\\t'\n",
    "\n",
    "    # wrap output in octave function signature\n",
    "    signature = f'function out = {func_name}('\n",
    "    for s in symbols:\n",
    "        signature +=f'{s},'\n",
    "    signature = signature[:-1]+')\\n\\t'\n",
    "    octave_string = signature + file_sig  + group_string + out + ';\\nend'\n",
    "    return octave_string"
   ]
  },
  {
   "cell_type": "code",
   "execution_count": 21,
   "id": "ff801fde-61ea-4337-8837-0ce4682e677b",
   "metadata": {},
   "outputs": [
    {
     "name": "stdout",
     "output_type": "stream",
     "text": [
      "['alpha_r', 'eta_3', 'eta_4', 'eta_6', 'Lambda', 'mu', 's_1', 's_i', 't']\n",
      "['alpha_r', 'eta_3', 'eta_4', 'eta_6', 'Lambda', 'mu', 'mu_d', 's_1', 's_i', 't']\n"
     ]
    }
   ],
   "source": [
    "## functions to get geometric AoA on Wingtip\n",
    "file_dir ='C:/Git/scitech2022_post_flutter/+model/'\n",
    "func_name = 'fwt_aoa'\n",
    "with open(file_dir+f\"{func_name}.m\",'w') as file:\n",
    "    file.write(gen_octave(fwt_aoa,func_name))\n",
    "func_name = 'd_fwt_aoa'\n",
    "with open(file_dir+f\"{func_name}.m\",'w') as file:\n",
    "    file.write(gen_octave(d_fwt_aoa,func_name))"
   ]
  },
  {
   "cell_type": "code",
   "execution_count": 22,
   "id": "ed6618f1-eac5-4e7f-a317-465c82c74c36",
   "metadata": {},
   "outputs": [
    {
     "name": "stdout",
     "output_type": "stream",
     "text": [
      "['a_i', 'alpha_1', 'alpha_max', 'clip_factor', 'stall_factor', 'stall_rate']\n"
     ]
    }
   ],
   "source": [
    "## functions to get C_l curve\n",
    "func_name = 'C_l'\n",
    "with open(file_dir+f\"{func_name}.m\",'w') as file:\n",
    "    file.write(gen_octave(c_l_func(p.alpha_1),func_name))"
   ]
  },
  {
   "cell_type": "code",
   "execution_count": 23,
   "id": "3bd99974-f1b0-47ae-8112-0c7d9c6af209",
   "metadata": {},
   "outputs": [],
   "source": [
    "## functions to get interesting outputs\n",
    "hinge_z = z_0.subs({p.y_0:p.s_i,p.x_0:0})\n",
    "hinge_twist = tau_0.subs({p.y_0:p.s_i,p.x_0:0})\n",
    "hinge_dihedral = d_z_s0\n",
    "fold_angle = p.q[-1] - hinge_dihedral\n",
    "local_aoa_root = dAlpha.subs({p.alpha_1:fwt_aoa,p.y_1:0})\n",
    "local_aoa_mid = dAlpha.subs({p.alpha_1:fwt_aoa,p.y_1:p.s_f/2})\n",
    "local_aoa_tip = dAlpha.subs({p.alpha_1:fwt_aoa,p.y_1:p.s_f})"
   ]
  },
  {
   "cell_type": "code",
   "execution_count": 24,
   "id": "2ded4db8-3606-44d6-a035-daf8fc317168",
   "metadata": {},
   "outputs": [],
   "source": [
    "file_dir ='C:/Git/scitech2022_post_flutter/+model/'\n",
    "func_names = ('hinge_z','hinge_twist','hinge_dihedral','fold_angle','local_aoa_root','local_aoa_mid','local_aoa_tip')\n",
    "funcs = (hinge_z,hinge_twist,hinge_dihedral,fold_angle,local_aoa_root,local_aoa_mid,local_aoa_tip)\n",
    "for fun,nam in zip(funcs,func_names):\n",
    "    with open(file_dir+f\"{nam}.m\",'w') as file:\n",
    "        file.write(sm._gen_octave(fun,p,nam))"
   ]
  },
  {
   "cell_type": "code",
   "execution_count": 25,
   "id": "447a63ea-6dcc-4991-9b3e-0f5163c2e394",
   "metadata": {},
   "outputs": [
    {
     "data": {
      "image/png": "[encoded data removed]",
      "text/latex": [
       "$\\displaystyle -1$"
      ],
      "text/plain": [
       "-1"
      ]
     },
     "execution_count": 25,
     "metadata": {},
     "output_type": "execute_result"
    }
   ],
   "source": [
    "import moyra.printing as moyp\n",
    "test = sm._gen_octave(sm.f[0],p,'test')\n",
    "test.find('Deriv')"
   ]
  },
  {
   "cell_type": "code",
   "execution_count": null,
   "id": "cb44736f-f170-4de8-8a3c-7fb1f200b187",
   "metadata": {},
   "outputs": [],
   "source": []
  }
 ],
 "metadata": {
  "kernelspec": {
   "display_name": "fwt_models",
   "language": "python",
   "name": "fwt_models"
  },
  "language_info": {
   "codemirror_mode": {
    "name": "ipython",
    "version": 3
   },
   "file_extension": ".py",
   "mimetype": "text/x-python",
   "name": "python",
   "nbconvert_exporter": "python",
   "pygments_lexer": "ipython3",
   "version": "3.8.8"
  }
 },
 "nbformat": 4,
 "nbformat_minor": 5
}
