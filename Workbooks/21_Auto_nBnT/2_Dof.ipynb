{
 "cells": [
  {
   "cell_type": "code",
   "execution_count": 1,
   "id": "4800be05-0f8f-46e4-bbb1-1e95b4cd5954",
   "metadata": {},
   "outputs": [],
   "source": [
    "import sympy as sym\n",
    "import sympy.physics.mechanics as me\n",
    "from sympy.abc import t as time\n",
    "import pandas as pd\n",
    "import seaborn as sns\n",
    "\n",
    "import numpy as np\n",
    "from scipy.integrate import odeint,LSODA,BDF,solve_ivp\n",
    "from scipy.linalg import eig\n",
    "from scipy.optimize import fsolve\n",
    "import matplotlib.pyplot as plt\n",
    "\n",
    "import moyra as ma\n",
    "import moyra.elements as ele\n",
    "import moyra.forces as ef\n",
    "\n",
    "import sys, os\n",
    "sys.path.insert(1, os.path.join(sys.path[0], '../..'))\n",
    "import custom_plot_objects as cpo\n",
    "import FwtModels as mf\n",
    "\n",
    "me.mechanics_printing()"
   ]
  },
  {
   "cell_type": "code",
   "execution_count": 2,
   "id": "25675724-6c5a-48ec-9816-269f8c942b72",
   "metadata": {},
   "outputs": [],
   "source": [
    "test_num = 6\n",
    "\n",
    "fwt_modes = 1\n",
    "modes = 2\n",
    "main_panels = 20\n",
    "fwt_panels = 10\n",
    "panels = main_panels + fwt_panels\n",
    "\n",
    "# lets go for B2T2 (so 5 DoF)\n",
    "p = ma.DynamicModelParameters(modes)\n",
    "\n",
    "## Create some global parameters\n",
    "p.c = ma.ModelSymbol(value = 1.8,string = 'c') # chord of wing\n",
    "p.s_t = ma.ModelSymbol(value = 12,string = 's_t') # total semi-span of wing\n",
    "p.rho_t = ma.ModelSymbol(value = 19.53,string = 'rho_t') # per per unit area (kg/m^2)\n",
    "p.sigma = ma.ModelSymbol(value = 0.2,string = 'sigma') # percentage of wing that is a FWT\n",
    "\n",
    "\n",
    "# Respective spans\n",
    "p.s_0 =  p.s_t*(1-p.sigma) # span of inner wing\n",
    "p.s_1 =  p.s_t*p.sigma # span of fwt\n",
    "\n",
    "# Inner Wing stiffness Properties\n",
    "p.K = ma.ModelSymbol(value = 100,string = 'K') # Bending stiffness for the wing\n",
    "\n",
    "# Location of flexural axes\n",
    "p.e_0 = ma.ModelSymbol(value = 0.08,string = 'e_0')\n",
    "p.x_f0 = sym.Rational(1,4)*p.c + p.e_0*p.c\n",
    "p.e_1 = ma.ModelSymbol(value = 0,string = 'e_1') # e for the FWT\n",
    "p.x_f1 = sym.Rational(1,4)*p.c + p.e_1*p.c\n",
    "\n",
    "# FWT Properties\n",
    "# p.m_factor = ma.ModelSymbol(value = 1, string = 'delta_m')\n",
    "p.m_1 = ma.ModelSymbol(value = 0.3,string = 'm_1')\n",
    "p.x_com1 = ma.ModelSymbol(value = 0.3,string = 'x_com1')\n",
    "p.y_com1 = ma.ModelSymbol(value = 0.3,string = 'y_com1')\n",
    "\n",
    "p.m_2 = ma.ModelSymbol(value = 0.3,string = 'm_2')\n",
    "p.x_com2 = ma.ModelSymbol(value = 0.3,string = 'x_com2')\n",
    "p.y_com2 = ma.ModelSymbol(value = 0.3,string = 'y_com2')\n",
    "\n",
    "p.I_xx1 = ma.ModelSymbol(value = 0.3,string = 'I_xx1') # inertia of FWT (uniform bar)\n",
    "p.Lambda = ma.ModelSymbol(value = np.deg2rad(10),string = 'Lambda') # Flare Angle\n",
    "\n",
    "# Symbols to translate along inner wing and FWT\n",
    "p.y_0 = sym.Symbol('y_0') # inner wing y chord\n",
    "p.x_0 = sym.Symbol('x_0') # inner wing x chord\n",
    "p.y_1 = sym.Symbol('y_1') # FWT y chord\n",
    "p.x_1 = sym.Symbol('x_1') # FWT x chord\n",
    "\n",
    "## Aero Parameters\n",
    "p.rho = ma.ModelSymbol(value = 1.225,string = 'rho')                 # density\n",
    "p.V = ma.ModelSymbol(value = 10,string = 'V')                        # velocity\n",
    "p.g  = ma.ModelSymbol(value = 9.81,string = 'g')                     # gravity\n",
    "p.alpha_r = ma.ModelSymbol(value = np.deg2rad(3),string = 'alpha_r') # root AoA\n",
    "p.M_thetadot = ma.ModelSymbol(value = -1.2,string = 'M_thetadot')    # Unsteady Torsional Term \n",
    "\n",
    "## Main Wing Specific\n",
    "p.a_i = ma.ModelSymbol(value = 2*np.pi,string = 'a_i')               # C_L slope of main wing\n",
    "p.a = ma.ModelMatrix(value =[np.pi*2]*panels,length=panels, string='a') # local C_l\n",
    "\n",
    "## FWT Specific\n",
    "p.alpha_1 = ma.ModelSymbol(value = 0,string = 'alpha_1')             # FWT alpha\n",
    "p.alphadot_1 = ma.ModelSymbol(value = 0,string = 'alphadot_1')       # FWT alphadot\n",
    "\n",
    "## Numeric Model Constants\n",
    "p.fp = ma.ModelMatrix(value =[0]*p.qs*2,length=p.qs*2,string='fp') # The stationary point\n",
    "\n",
    "# Factor to change the size of joint values\n",
    "p.eta = ma.ModelMatrix(value = [1]*modes,length=modes,string='eta')"
   ]
  },
  {
   "cell_type": "code",
   "execution_count": 3,
   "id": "58de2b35-0b40-4a10-8597-f13486a7c9b4",
   "metadata": {},
   "outputs": [],
   "source": [
    "#define refernce frames\n",
    "wing_root_frame = ma.HomogenousTransform().Translate(0,0,p.q[0])\n",
    "\n",
    "fwt_root_frame = wing_root_frame.R_x(p.q[-1])\n",
    "fwt_flexural_frame = fwt_root_frame.Translate(0,p.y_1,0)\n",
    "fwt_com_frame = fwt_root_frame.Translate(p.x_com1,p.y_com1,0)\n",
    "fwt_com2_frame = fwt_root_frame.Translate(p.x_com2,p.y_com2,0)"
   ]
  },
  {
   "cell_type": "code",
   "execution_count": 4,
   "id": "764ec40b-ac7d-445f-9baa-2fd5c9500359",
   "metadata": {},
   "outputs": [],
   "source": [
    "#Create Elemnts\n",
    "M_wing = ele.MassMatrix(p.rho_t)\n",
    "M_fwt = ele.MassMatrix(p.m_1,I_xx = p.I_xx1)\n",
    "M_k = ele.Spring(p.q[0],p.K)\n",
    "\n",
    "inner_wing_ele = ele.RigidElement.point_mass(wing_root_frame,p.rho_t,True)\n",
    "fwt_ele = ele.RigidElement(fwt_com_frame,M_fwt,True)\n",
    "mass_ele = ele.RigidElement.point_mass(fwt_com2_frame,p.m_2,True)"
   ]
  },
  {
   "cell_type": "code",
   "execution_count": 5,
   "id": "cbbba4c5-eef7-4c44-b13c-db1247b3ced6",
   "metadata": {},
   "outputs": [],
   "source": [
    "# FWT Aero Forces\n",
    "alpha_fwt =  p.alpha_1\n",
    "alphadot_fwt = p.alphadot_1\n",
    "# include wing twist in AoA\n",
    "BodyJacobian = sym.simplify(ef.AeroForce._trigsimp(fwt_flexural_frame.BodyJacobian(p.q)))\n",
    "\n",
    "(wrench,dAlpha) = ef.AeroForce.get_wrench(p,BodyJacobian,p.a_i,\n",
    "                               alphadot = alphadot_fwt,\n",
    "                               M_thetadot = p.M_thetadot,\n",
    "                               e = p.e_1,\n",
    "                               w_g = 0,\n",
    "                               rootAlpha = alpha_fwt,\n",
    "                               alpha_zero = 0,\n",
    "                               stall_angle = 0,\n",
    "                               c = p.c,\n",
    "                                V = p.V,\n",
    "                               c_d_max = 0,\n",
    "                               linear = True,\n",
    "                                z_inverted=False)\n",
    "\n",
    "\n",
    "# Setup AoA of FWT\n",
    "fwt_aoa = mf.GetAoA(p.alpha_r,0,p.Lambda,-p.q[-1])\n",
    "#fwt_aoa = sym.atan(sym.sin(p.Lambda)*sym.sin(p.q[-1]))\n",
    "\n",
    "## Sub in Aero Forces\n",
    "wrench = wrench.subs({p.alpha_1:fwt_aoa,p.alphadot_1:fwt_aoa.diff(time)})\n",
    "dAlpha = dAlpha.subs({p.alpha_1:fwt_aoa,p.alphadot_1:fwt_aoa.diff(time)})\n",
    "\n",
    "_Q = BodyJacobian.T*wrench\n",
    "fwt_AeroForces_perUnit = ef.AeroForce(_Q,dAlpha)"
   ]
  },
  {
   "cell_type": "code",
   "execution_count": 6,
   "id": "5487c062-02e1-4fb2-849e-d379d44ded0d",
   "metadata": {},
   "outputs": [
    {
     "data": {
      "image/png": "[encoded data removed]",
      "text/latex": [
       "$\\displaystyle \\left[\\begin{matrix}\\frac{V^{2} a_{i} c \\rho \\left(\\operatorname{atan}{\\left(\\frac{- \\sin{\\left(\\Lambda \\right)} \\sin{\\left(q_{1} \\right)} \\cos{\\left(\\alpha_{r} \\right)} + \\sin{\\left(\\alpha_{r} \\right)} \\cos{\\left(q_{1} \\right)}}{\\left(\\sin^{2}{\\left(\\Lambda \\right)} \\cos{\\left(q_{1} \\right)} + \\cos^{2}{\\left(\\Lambda \\right)}\\right) \\cos{\\left(\\alpha_{r} \\right)} + \\sin{\\left(\\Lambda \\right)} \\sin{\\left(\\alpha_{r} \\right)} \\sin{\\left(q_{1} \\right)}} \\right)} - \\frac{y_{1} \\dot{q}_{1} + \\cos{\\left(q_{1} \\right)} \\dot{q}_{0}}{V}\\right) \\cos{\\left(q_{1} \\right)}}{2}\\\\\\frac{V^{2} a_{i} c \\rho y_{1} \\left(\\operatorname{atan}{\\left(\\frac{- \\sin{\\left(\\Lambda \\right)} \\sin{\\left(q_{1} \\right)} \\cos{\\left(\\alpha_{r} \\right)} + \\sin{\\left(\\alpha_{r} \\right)} \\cos{\\left(q_{1} \\right)}}{\\left(\\sin^{2}{\\left(\\Lambda \\right)} \\cos{\\left(q_{1} \\right)} + \\cos^{2}{\\left(\\Lambda \\right)}\\right) \\cos{\\left(\\alpha_{r} \\right)} + \\sin{\\left(\\Lambda \\right)} \\sin{\\left(\\alpha_{r} \\right)} \\sin{\\left(q_{1} \\right)}} \\right)} - \\frac{y_{1} \\dot{q}_{1} + \\cos{\\left(q_{1} \\right)} \\dot{q}_{0}}{V}\\right)}{2}\\end{matrix}\\right]$"
      ],
      "text/plain": [
       "⎡ 2        ⎛    ⎛         -sin(Λ)⋅sin(q₁)⋅cos(αᵣ) + sin(αᵣ)⋅cos(q₁)          ⎞\n",
       "⎢V ⋅aᵢ⋅c⋅ρ⋅⎜atan⎜────────────────────────────────────────────────────────────⎟\n",
       "⎢          ⎜    ⎜⎛   2                 2   ⎞                                 ⎟\n",
       "⎢          ⎝    ⎝⎝sin (Λ)⋅cos(q₁) + cos (Λ)⎠⋅cos(αᵣ) + sin(Λ)⋅sin(αᵣ)⋅sin(q₁)⎠\n",
       "⎢─────────────────────────────────────────────────────────────────────────────\n",
       "⎢                                                     2                       \n",
       "⎢                                                                             \n",
       "⎢   2           ⎛    ⎛         -sin(Λ)⋅sin(q₁)⋅cos(αᵣ) + sin(αᵣ)⋅cos(q₁)      \n",
       "⎢  V ⋅aᵢ⋅c⋅ρ⋅y₁⋅⎜atan⎜────────────────────────────────────────────────────────\n",
       "⎢               ⎜    ⎜⎛   2                 2   ⎞                             \n",
       "⎢               ⎝    ⎝⎝sin (Λ)⋅cos(q₁) + cos (Λ)⎠⋅cos(αᵣ) + sin(Λ)⋅sin(αᵣ)⋅sin\n",
       "⎢  ───────────────────────────────────────────────────────────────────────────\n",
       "⎣                                                    2                        \n",
       "\n",
       "   y₁⋅q₁̇ + cos(q₁)⋅q₀̇⎞        ⎤\n",
       " - ──────────────────⎟⋅cos(q₁)⎥\n",
       "           V         ⎟        ⎥\n",
       "                     ⎠        ⎥\n",
       "──────────────────────────────⎥\n",
       "                              ⎥\n",
       "                              ⎥\n",
       "    ⎞   y₁⋅q₁̇ + cos(q₁)⋅q₀̇⎞   ⎥\n",
       "────⎟ - ──────────────────⎟   ⎥\n",
       "    ⎟           V         ⎟   ⎥\n",
       "(q₁)⎠                     ⎠   ⎥\n",
       "───────────────────────────   ⎥\n",
       "                              ⎦"
      ]
     },
     "execution_count": 6,
     "metadata": {},
     "output_type": "execute_result"
    }
   ],
   "source": [
    "_Q"
   ]
  },
  {
   "cell_type": "code",
   "execution_count": 7,
   "id": "71c6cc35-ccc9-459e-91ee-720a844af35c",
   "metadata": {},
   "outputs": [],
   "source": [
    "func = sym.lambdify((p.alpha_r,p.Lambda,p.q[-1]),fwt_aoa,'numpy')"
   ]
  },
  {
   "cell_type": "code",
   "execution_count": 8,
   "id": "87d21532-3467-439a-a076-5690759d01fe",
   "metadata": {},
   "outputs": [
    {
     "data": {
      "image/png": "[encoded data removed]",
      "text/latex": [
       "$\\displaystyle -1.72794690572997$"
      ],
      "text/plain": [
       "-1.7279469057299748"
      ]
     },
     "execution_count": 8,
     "metadata": {},
     "output_type": "execute_result"
    }
   ],
   "source": [
    "np.rad2deg(func(*np.deg2rad([0,10,10])))"
   ]
  },
  {
   "cell_type": "code",
   "execution_count": 9,
   "id": "40446311-dab0-492b-a8f9-124696c51008",
   "metadata": {},
   "outputs": [],
   "source": [
    "#Transform = wing_root_frame.subs({p.y_0:p.s_0,p.x_0:p.x_f0}).R_y(tau_s0)\n",
    "#fwt_aeroTorque = ef.BodyForce(p,Transform,simplify=False,)#My = wrench[4]*sym.cos(p.q[-1]))"
   ]
  },
  {
   "cell_type": "code",
   "execution_count": 10,
   "id": "414a0f88-571a-4b95-90fe-40cf911814df",
   "metadata": {},
   "outputs": [],
   "source": [
    "# split Main Wing into segments\n",
    "forces = []\n",
    "for i in range(fwt_panels):\n",
    "    seg_width = p.s_1/fwt_panels\n",
    "    yi = 0 + seg_width/2 + i*seg_width\n",
    "    forces.append(fwt_AeroForces_perUnit.subs({p.y_1:yi,p.a_i:p.a[i+main_panels]})*seg_width)\n",
    "    #forces.append(fwt_aeroTorque.subs({p.y_1:yi,p.a_i:p.a[i+main_panels]})*seg_width)\n",
    "Q = sym.Matrix([0]*p.qs)\n",
    "for f in forces:\n",
    "    Q += f.Q()\n",
    "fwt_AeroForces = ef.ExternalForce(Q)"
   ]
  },
  {
   "cell_type": "code",
   "execution_count": 11,
   "id": "234462da-166c-41d1-9fdb-7ab6e816225c",
   "metadata": {},
   "outputs": [
    {
     "data": {
      "image/png": "[encoded data removed]",
      "text/latex": [
       "$\\displaystyle \\left[\\begin{matrix}\\frac{a_{29} V^{2} c \\rho s_{t} \\sigma \\left(\\operatorname{atan}{\\left(\\frac{- \\sin{\\left(\\Lambda \\right)} \\sin{\\left(q_{1} \\right)} \\cos{\\left(\\alpha_{r} \\right)} + \\sin{\\left(\\alpha_{r} \\right)} \\cos{\\left(q_{1} \\right)}}{\\left(\\sin^{2}{\\left(\\Lambda \\right)} \\cos{\\left(q_{1} \\right)} + \\cos^{2}{\\left(\\Lambda \\right)}\\right) \\cos{\\left(\\alpha_{r} \\right)} + \\sin{\\left(\\Lambda \\right)} \\sin{\\left(\\alpha_{r} \\right)} \\sin{\\left(q_{1} \\right)}} \\right)} - \\frac{\\frac{19 s_{t} \\sigma \\dot{q}_{1}}{20} + \\cos{\\left(q_{1} \\right)} \\dot{q}_{0}}{V}\\right) \\cos{\\left(q_{1} \\right)}}{20}\\\\\\frac{19 a_{29} V^{2} c \\rho s_{t}^{2} \\sigma^{2} \\left(\\operatorname{atan}{\\left(\\frac{- \\sin{\\left(\\Lambda \\right)} \\sin{\\left(q_{1} \\right)} \\cos{\\left(\\alpha_{r} \\right)} + \\sin{\\left(\\alpha_{r} \\right)} \\cos{\\left(q_{1} \\right)}}{\\left(\\sin^{2}{\\left(\\Lambda \\right)} \\cos{\\left(q_{1} \\right)} + \\cos^{2}{\\left(\\Lambda \\right)}\\right) \\cos{\\left(\\alpha_{r} \\right)} + \\sin{\\left(\\Lambda \\right)} \\sin{\\left(\\alpha_{r} \\right)} \\sin{\\left(q_{1} \\right)}} \\right)} - \\frac{\\frac{19 s_{t} \\sigma \\dot{q}_{1}}{20} + \\cos{\\left(q_{1} \\right)} \\dot{q}_{0}}{V}\\right)}{400}\\end{matrix}\\right]$"
      ],
      "text/plain": [
       "⎡                ⎛                                                            \n",
       "⎢                ⎜                                                            \n",
       "⎢     2          ⎜    ⎛         -sin(Λ)⋅sin(q₁)⋅cos(αᵣ) + sin(αᵣ)⋅cos(q₁)     \n",
       "⎢a₂₉⋅V ⋅c⋅ρ⋅sₜ⋅σ⋅⎜atan⎜───────────────────────────────────────────────────────\n",
       "⎢                ⎜    ⎜⎛   2                 2   ⎞                            \n",
       "⎢                ⎝    ⎝⎝sin (Λ)⋅cos(q₁) + cos (Λ)⎠⋅cos(αᵣ) + sin(Λ)⋅sin(αᵣ)⋅si\n",
       "⎢─────────────────────────────────────────────────────────────────────────────\n",
       "⎢                                                          20                 \n",
       "⎢                                                                             \n",
       "⎢                      ⎛                                                      \n",
       "⎢                      ⎜                                                      \n",
       "⎢         2       2  2 ⎜    ⎛         -sin(Λ)⋅sin(q₁)⋅cos(αᵣ) + sin(αᵣ)⋅cos(q₁\n",
       "⎢ 19⋅a₂₉⋅V ⋅c⋅ρ⋅sₜ ⋅σ ⋅⎜atan⎜─────────────────────────────────────────────────\n",
       "⎢                      ⎜    ⎜⎛   2                 2   ⎞                      \n",
       "⎢                      ⎝    ⎝⎝sin (Λ)⋅cos(q₁) + cos (Λ)⎠⋅cos(αᵣ) + sin(Λ)⋅sin(\n",
       "⎢ ────────────────────────────────────────────────────────────────────────────\n",
       "⎣                                                         400                 \n",
       "\n",
       "         19⋅sₜ⋅σ⋅q₁̇             ⎞        ⎤\n",
       "         ────────── + cos(q₁)⋅q₀̇⎟        ⎥\n",
       "     ⎞       20                 ⎟        ⎥\n",
       "─────⎟ - ───────────────────────⎟⋅cos(q₁)⎥\n",
       "     ⎟              V           ⎟        ⎥\n",
       "n(q₁)⎠                          ⎠        ⎥\n",
       "─────────────────────────────────────────⎥\n",
       "                                         ⎥\n",
       "                                         ⎥\n",
       "               19⋅sₜ⋅σ⋅q₁̇             ⎞  ⎥\n",
       "               ────────── + cos(q₁)⋅q₀̇⎟  ⎥\n",
       ")          ⎞       20                 ⎟  ⎥\n",
       "───────────⎟ - ───────────────────────⎟  ⎥\n",
       "           ⎟              V           ⎟  ⎥\n",
       "αᵣ)⋅sin(q₁)⎠                          ⎠  ⎥\n",
       "───────────────────────────────────────  ⎥\n",
       "                                         ⎦"
      ]
     },
     "execution_count": 11,
     "metadata": {},
     "output_type": "execute_result"
    }
   ],
   "source": [
    "forces[-1].Q()"
   ]
  },
  {
   "cell_type": "code",
   "execution_count": 12,
   "id": "ac25ec0a-12f2-446d-a757-dc7d41139a50",
   "metadata": {},
   "outputs": [],
   "source": [
    "#Create Composite force\n",
    "CompositeForce = ef.CompositeForce([fwt_AeroForces])\n",
    "# Create the SYmbolic Model\n",
    "sm = ma.SymbolicModel.FromElementsAndForces(p,[inner_wing_ele,fwt_ele,mass_ele,M_k],fwt_AeroForces)"
   ]
  },
  {
   "cell_type": "code",
   "execution_count": 13,
   "id": "908b06d0-9f9d-48f5-9d5f-0ddba433dc31",
   "metadata": {},
   "outputs": [],
   "source": [
    "sm.to_matlab_file(p,'C:/Git/fwt_auto/model_2DoF/')"
   ]
  },
  {
   "cell_type": "code",
   "execution_count": 14,
   "id": "774fe1ce-20f5-497b-a660-2305873bd496",
   "metadata": {},
   "outputs": [],
   "source": [
    "sm_lin = sm.linearise(p)\n",
    "sm_lin.to_matlab_file_linear(p,'C:/Git/fwt_auto/model_2DoF/')"
   ]
  },
  {
   "cell_type": "code",
   "execution_count": 15,
   "id": "0c79e758-223e-4f0c-8f86-0f4bb7434ac7",
   "metadata": {},
   "outputs": [
    {
     "data": {
      "image/png": "[encoded data removed]",
      "text/latex": [
       "$\\displaystyle \\left( 2, \\  2\\right)$"
      ],
      "text/plain": [
       "(2, 2)"
      ]
     },
     "execution_count": 15,
     "metadata": {},
     "output_type": "execute_result"
    }
   ],
   "source": [
    "sm_lin.ExtForces.Q().jacobian(p.qd).shape"
   ]
  },
  {
   "cell_type": "code",
   "execution_count": null,
   "id": "f3309f21-26ab-4cc9-b671-331d4325d9bd",
   "metadata": {},
   "outputs": [],
   "source": []
  }
 ],
 "metadata": {
  "kernelspec": {
   "display_name": "fwt_models",
   "language": "python",
   "name": "fwt_models"
  },
  "language_info": {
   "codemirror_mode": {
    "name": "ipython",
    "version": 3
   },
   "file_extension": ".py",
   "mimetype": "text/x-python",
   "name": "python",
   "nbconvert_exporter": "python",
   "pygments_lexer": "ipython3",
   "version": "3.8.8"
  }
 },
 "nbformat": 4,
 "nbformat_minor": 5
}
