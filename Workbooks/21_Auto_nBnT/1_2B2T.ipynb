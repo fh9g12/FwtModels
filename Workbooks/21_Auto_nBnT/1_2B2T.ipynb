{
 "cells": [
  {
   "cell_type": "code",
   "execution_count": 1,
   "id": "4800be05-0f8f-46e4-bbb1-1e95b4cd5954",
   "metadata": {},
   "outputs": [],
   "source": [
    "import sympy as sym\n",
    "import sympy.physics.mechanics as me\n",
    "from sympy.abc import t as time\n",
    "import pandas as pd\n",
    "import seaborn as sns\n",
    "\n",
    "import numpy as np\n",
    "from scipy.integrate import odeint,LSODA,BDF,solve_ivp\n",
    "from scipy.linalg import eig\n",
    "from scipy.optimize import fsolve\n",
    "import matplotlib.pyplot as plt\n",
    "\n",
    "import moyra as ma\n",
    "import moyra.elements as ele\n",
    "import moyra.forces as ef\n",
    "\n",
    "import sys, os\n",
    "sys.path.insert(1, os.path.join(sys.path[0], '../..'))\n",
    "import custom_plot_objects as cpo\n",
    "import FwtModels as mf\n",
    "\n",
    "me.mechanics_printing()"
   ]
  },
  {
   "cell_type": "code",
   "execution_count": 2,
   "id": "25675724-6c5a-48ec-9816-269f8c942b72",
   "metadata": {},
   "outputs": [],
   "source": [
    "test_num = 6\n",
    "\n",
    "b_modes = 3\n",
    "t_modes = 2\n",
    "fwt_modes = 1\n",
    "modes = b_modes + t_modes + fwt_modes\n",
    "main_panels = 20\n",
    "fwt_panels = 15\n",
    "tab_panels = 10\n",
    "panels = main_panels + fwt_panels\n",
    "\n",
    "# lets go for B2T2 (so 5 DoF)\n",
    "p = ma.DynamicModelParameters(modes)\n",
    "\n",
    "## Create some global parameters\n",
    "p.c = ma.ModelSymbol(value = 0.15,string = 'c') # chord of wing\n",
    "p.c_b = ma.ModelSymbol(value = 0.15,string = 'c_b') # chord of beam\n",
    "p.s_i = ma.ModelSymbol(value = 1,string = 's_i') # total semi-span of wing\n",
    "p.s_f = ma.ModelSymbol(value = 0.345,string = 's_f') # total semi-span of wingtip\n",
    "p.s_t = ma.ModelSymbol(value = 0.1,string = 's_t') # total length of the tab\n",
    "\n",
    "p.rho_b = ma.ModelSymbol(value = 19.53,string = 'rho_b') # beam mass per unit area (kg/m^2)\n",
    "\n",
    "p.rho_w = ma.ModelSymbol(value = 19.53,string = 'rho_w') # wing mass per unit area (kg/m^2)\n",
    "p.c_w = ma.ModelSymbol(value = 0.15,string = 'c_w') # chord over which to integrate wing mass\n",
    "\n",
    "p.b_modes = ma.ModelSymbol(value = b_modes,string = 'b_modes') # percentage of wing that is a FWT\n",
    "p.t_modes = ma.ModelSymbol(value = t_modes,string = 't_modes') # percentage of wing that is a FWT\n",
    "\n",
    "# Inner Wing stiffness Properties\n",
    "p.EI = ma.ModelSymbol(value = 9.77e6,string = 'EI') # Bending stiffness for the wing\n",
    "p.GJ = ma.ModelSymbol(value = 0.99e6,string = 'GJ') # Torsional Stiffness for the wing\n",
    "\n",
    "# Location of flexural axes\n",
    "p.e_0 = ma.ModelSymbol(value = 0.08,string = 'e_0')\n",
    "p.x_f0 = sym.Rational(1,4)*p.c + p.e_0*p.c\n",
    "\n",
    "# FWT Properties\n",
    "# p.m_factor = ma.ModelSymbol(value = 1, string = 'delta_m')\n",
    "p.m_1 = ma.ModelSymbol(value = 0.3,string = 'm_1')\n",
    "p.x_com1 = ma.ModelSymbol(value = 0.3,string = 'x_com1')\n",
    "p.y_com1 = ma.ModelSymbol(value = 0.3,string = 'y_com1')\n",
    "p.I_xx1 = ma.ModelSymbol(value = 0.3,string = 'I_xx1') # inertia of FWT (uniform bar)\n",
    "p.I_yy1 = ma.ModelSymbol(value = 0.3,string = 'I_yy1') # inertia of FWT (uniform bar)\n",
    "\n",
    "p.m_h = ma.ModelSymbol(value = 0.3,string = 'm_h')\n",
    "p.x_comh = ma.ModelSymbol(value = 0.3,string = 'x_comh')\n",
    "p.y_comh = ma.ModelSymbol(value = 0.3,string = 'y_comh')\n",
    "p.I_xxh = ma.ModelSymbol(value = 0.3,string = 'I_xxh')\n",
    "p.I_yyh = ma.ModelSymbol(value = 0.3,string = 'I_yyh')\n",
    "\n",
    "p.Lambda = ma.ModelSymbol(value = np.deg2rad(10),string = 'Lambda') # Flare Angle\n",
    "\n",
    "p.mu = ma.ModelSymbol(value = 0,string = 'mu')                 # dihedral angle at the end of the inner wing\n",
    "p.mu_d = ma.ModelSymbol(value = 0,string = 'mu_d') # rate of change of dihedral angle at the tip of the inner wing\n",
    "\n",
    "\n",
    "# Symbols to translate along inner wing and FWT\n",
    "p.y_0 = sym.Symbol('y_0') # inner wing y chord\n",
    "p.x_0 = sym.Symbol('x_0') # inner wing x chord\n",
    "p.y_1 = sym.Symbol('y_1') # FWT y chord\n",
    "p.x_1 = sym.Symbol('x_1') # FWT x chord\n",
    "\n",
    "## Aero Parameters\n",
    "p.rho = ma.ModelSymbol(value = 1.225,string = 'rho')                 # density\n",
    "p.V = ma.ModelSymbol(value = 10,string = 'V')                        # velocity\n",
    "p.g  = ma.ModelSymbol(value = 9.81,string = 'g')                     # gravity\n",
    "p.g_v = ma.ModelMatrix(value =[0,0,-1],length=3,string='g_v')      # gravity unit vector\n",
    "p.alpha_r = ma.ModelSymbol(value = np.deg2rad(3),string = 'alpha_r') # root AoA\n",
    "p.M_thetadot = ma.ModelSymbol(value = -1.2,string = 'M_thetadot')    # Unsteady Torsional Term\n",
    "p.c_dmax = ma.ModelSymbol(value = 0.01,string = 'c_dmax')             # c_dmax\n",
    "p.alpha_max = ma.ModelSymbol(value = np.deg2rad(15),string = 'alpha_max')# peak AoA\n",
    "p.clip_factor = ma.ModelSymbol(value = 0.1,string = 'clip_factor')    # clipping factor for stall\n",
    "\n",
    "## Main Wing Specific\n",
    "p.a_i = ma.ModelSymbol(value = 2*np.pi,string = 'a_i')               # C_L slope of main wing\n",
    "p.a = ma.ModelMatrix(value =[np.pi*2]*panels,length=panels, string='a') # local C_l\n",
    "p.beta_t = ma.ModelSymbol(value = 0,string = 'beta_t')               # tab\n",
    "\n",
    "## FWT Specific\n",
    "p.alpha_1 = ma.ModelSymbol(value = 0,string = 'alpha_1')             # FWT alpha\n",
    "p.alphadot_1 = ma.ModelSymbol(value = 0,string = 'alphadot_1')       # FWT alphadot\n",
    "\n",
    "## Numeric Model Constants\n",
    "p.fp = ma.ModelMatrix(value =[0]*p.qs*2,length=p.qs*2,string='fp') # The stationary point\n",
    "\n",
    "# Factor to change the size of joint values\n",
    "p.eta = ma.ModelMatrix(value = [1]*modes,length=modes,string='eta')"
   ]
  },
  {
   "cell_type": "code",
   "execution_count": 3,
   "id": "58de2b35-0b40-4a10-8597-f13486a7c9b4",
   "metadata": {},
   "outputs": [
    {
     "ename": "AttributeError",
     "evalue": "'DynamicModelParameters' object has no attribute 's_0'",
     "output_type": "error",
     "traceback": [
      "\u001b[1;31m---------------------------------------------------------------------------\u001b[0m",
      "\u001b[1;31mAttributeError\u001b[0m                            Traceback (most recent call last)",
      "\u001b[1;32m<ipython-input-3-9a4d2bb7ec9a>\u001b[0m in \u001b[0;36m<module>\u001b[1;34m\u001b[0m\n\u001b[0;32m      8\u001b[0m \u001b[0mwing_flexural_frame\u001b[0m \u001b[1;33m=\u001b[0m \u001b[0mwing_frame\u001b[0m\u001b[1;33m.\u001b[0m\u001b[0msubs\u001b[0m\u001b[1;33m(\u001b[0m\u001b[1;33m{\u001b[0m\u001b[0mp\u001b[0m\u001b[1;33m.\u001b[0m\u001b[0mx_0\u001b[0m\u001b[1;33m:\u001b[0m\u001b[0mp\u001b[0m\u001b[1;33m.\u001b[0m\u001b[0mx_f0\u001b[0m\u001b[1;33m}\u001b[0m\u001b[1;33m)\u001b[0m\u001b[1;33m\u001b[0m\u001b[1;33m\u001b[0m\u001b[0m\n\u001b[0;32m      9\u001b[0m \u001b[1;33m\u001b[0m\u001b[0m\n\u001b[1;32m---> 10\u001b[1;33m \u001b[0mfwt_root_frame\u001b[0m \u001b[1;33m=\u001b[0m \u001b[0mwing_frame\u001b[0m\u001b[1;33m.\u001b[0m\u001b[0msubs\u001b[0m\u001b[1;33m(\u001b[0m\u001b[1;33m{\u001b[0m\u001b[0mp\u001b[0m\u001b[1;33m.\u001b[0m\u001b[0my_0\u001b[0m\u001b[1;33m:\u001b[0m\u001b[0mp\u001b[0m\u001b[1;33m.\u001b[0m\u001b[0ms_0\u001b[0m\u001b[1;33m,\u001b[0m\u001b[0mp\u001b[0m\u001b[1;33m.\u001b[0m\u001b[0mx_0\u001b[0m\u001b[1;33m:\u001b[0m\u001b[0mp\u001b[0m\u001b[1;33m.\u001b[0m\u001b[0mx_f0\u001b[0m\u001b[1;33m}\u001b[0m\u001b[1;33m)\u001b[0m\u001b[1;33m.\u001b[0m\u001b[0mTranslate\u001b[0m\u001b[1;33m(\u001b[0m\u001b[1;33m-\u001b[0m\u001b[0mp\u001b[0m\u001b[1;33m.\u001b[0m\u001b[0mx_f0\u001b[0m\u001b[1;33m,\u001b[0m\u001b[1;36m0\u001b[0m\u001b[1;33m,\u001b[0m\u001b[1;36m0\u001b[0m\u001b[1;33m)\u001b[0m\u001b[1;33m.\u001b[0m\u001b[0mR_x\u001b[0m\u001b[1;33m(\u001b[0m\u001b[0mp\u001b[0m\u001b[1;33m.\u001b[0m\u001b[0mq\u001b[0m\u001b[1;33m[\u001b[0m\u001b[1;33m-\u001b[0m\u001b[1;36m1\u001b[0m\u001b[1;33m]\u001b[0m\u001b[1;33m)\u001b[0m\u001b[1;33m\u001b[0m\u001b[1;33m\u001b[0m\u001b[0m\n\u001b[0m\u001b[0;32m     11\u001b[0m \u001b[0mfwt_flexural_frame\u001b[0m \u001b[1;33m=\u001b[0m \u001b[0mfwt_root_frame\u001b[0m\u001b[1;33m.\u001b[0m\u001b[0mTranslate\u001b[0m\u001b[1;33m(\u001b[0m\u001b[0mp\u001b[0m\u001b[1;33m.\u001b[0m\u001b[0mx_f1\u001b[0m\u001b[1;33m,\u001b[0m\u001b[0mp\u001b[0m\u001b[1;33m.\u001b[0m\u001b[0my_1\u001b[0m\u001b[1;33m,\u001b[0m\u001b[1;36m0\u001b[0m\u001b[1;33m)\u001b[0m\u001b[1;33m\u001b[0m\u001b[1;33m\u001b[0m\u001b[0m\n\u001b[0;32m     12\u001b[0m \u001b[0mfwt_com_frame\u001b[0m \u001b[1;33m=\u001b[0m \u001b[0mfwt_root_frame\u001b[0m\u001b[1;33m.\u001b[0m\u001b[0mTranslate\u001b[0m\u001b[1;33m(\u001b[0m\u001b[0mp\u001b[0m\u001b[1;33m.\u001b[0m\u001b[0mx_com1\u001b[0m\u001b[1;33m,\u001b[0m\u001b[0mp\u001b[0m\u001b[1;33m.\u001b[0m\u001b[0my_com1\u001b[0m\u001b[1;33m,\u001b[0m\u001b[1;36m0\u001b[0m\u001b[1;33m)\u001b[0m\u001b[1;33m\u001b[0m\u001b[1;33m\u001b[0m\u001b[0m\n",
      "\u001b[1;31mAttributeError\u001b[0m: 'DynamicModelParameters' object has no attribute 's_0'"
     ]
    }
   ],
   "source": [
    "#get shape functions for main wing\n",
    "z_0,tau_0 = ele.FlexiElement.ShapeFunctions_BN_TM(b_modes,t_modes,p.q[:-1],p.y_0,p.x_0,p.x_f0,0,factor=p.eta)\n",
    "\n",
    "# apply weighting function\n",
    "#define wrefernce frames\n",
    "wing_root_frame = ma.HomogenousTransform().R_y(p.alpha_r)\n",
    "wing_frame = wing_root_frame.Translate(p.x_0,p.y_0,z_0)\n",
    "wing_flexural_frame = wing_frame.subs({p.x_0:p.x_f0})\n",
    "\n",
    "fwt_root_frame = wing_frame.subs({p.y_0:p.s_0,p.x_0:p.x_f0}).Translate(-p.x_f0,0,0).R_x(p.q[-1])\n",
    "fwt_flexural_frame = fwt_root_frame.Translate(p.x_f1,p.y_1,0)\n",
    "fwt_com_frame = fwt_root_frame.Translate(p.x_com1,p.y_com1,0)\n",
    "fwt_com2_frame = fwt_root_frame.Translate(p.x_com2,p.y_com2,0)"
   ]
  },
  {
   "cell_type": "code",
   "execution_count": 18,
   "id": "764ec40b-ac7d-445f-9baa-2fd5c9500359",
   "metadata": {},
   "outputs": [],
   "source": [
    "#Create Elemnts\n",
    "M_wing = ele.MassMatrix(p.rho_t)\n",
    "M_fwt = ele.MassMatrix(p.m_1,I_xx = p.I_xx1)\n",
    "\n",
    "inner_wing_ele = ele.FlexiElement(wing_root_frame,M_wing,p.x_0,p.y_0,z_0,p.c,p.s_0,p.x_f0,p.EI,p.GJ,gravityPot=True)\n",
    "fwt_ele = ele.RigidElement(fwt_com_frame,M_fwt,True)\n",
    "mass_ele = ele.RigidElement.point_mass(fwt_com2_frame,p.m_2,True)"
   ]
  },
  {
   "cell_type": "code",
   "execution_count": 20,
   "id": "0d7877c6-9a1f-49b3-8466-903da874e8ab",
   "metadata": {},
   "outputs": [
    {
     "data": {
      "image/png": "[encoded data removed]",
      "text/latex": [
       "$\\displaystyle - \\frac{\\eta_{0}^{2} c \\rho_{t} s_{t}^{5} \\sigma^{5} \\dot{q}_{0}^{2}}{10} + \\frac{\\eta_{0}^{2} c \\rho_{t} s_{t}^{5} \\sigma^{4} \\dot{q}_{0}^{2}}{2} - \\eta_{0}^{2} c \\rho_{t} s_{t}^{5} \\sigma^{3} \\dot{q}_{0}^{2} + \\eta_{0}^{2} c \\rho_{t} s_{t}^{5} \\sigma^{2} \\dot{q}_{0}^{2} - \\frac{\\eta_{0}^{2} c \\rho_{t} s_{t}^{5} \\sigma \\dot{q}_{0}^{2}}{2} + \\frac{\\eta_{0}^{2} c \\rho_{t} s_{t}^{5} \\dot{q}_{0}^{2}}{10} + \\frac{\\eta_{0} \\eta_{1} c^{2} e_{0} \\rho_{t} s_{t}^{4} \\sigma^{4} \\dot{q}_{0} \\dot{q}_{1}}{4} - \\eta_{0} \\eta_{1} c^{2} e_{0} \\rho_{t} s_{t}^{4} \\sigma^{3} \\dot{q}_{0} \\dot{q}_{1} + \\frac{3 \\eta_{0} \\eta_{1} c^{2} e_{0} \\rho_{t} s_{t}^{4} \\sigma^{2} \\dot{q}_{0} \\dot{q}_{1}}{2} - \\eta_{0} \\eta_{1} c^{2} e_{0} \\rho_{t} s_{t}^{4} \\sigma \\dot{q}_{0} \\dot{q}_{1} + \\frac{\\eta_{0} \\eta_{1} c^{2} e_{0} \\rho_{t} s_{t}^{4} \\dot{q}_{0} \\dot{q}_{1}}{4} - \\frac{\\eta_{0} \\eta_{1} c^{2} \\rho_{t} s_{t}^{4} \\sigma^{4} \\dot{q}_{0} \\dot{q}_{1}}{16} + \\frac{\\eta_{0} \\eta_{1} c^{2} \\rho_{t} s_{t}^{4} \\sigma^{3} \\dot{q}_{0} \\dot{q}_{1}}{4} - \\frac{3 \\eta_{0} \\eta_{1} c^{2} \\rho_{t} s_{t}^{4} \\sigma^{2} \\dot{q}_{0} \\dot{q}_{1}}{8} + \\frac{\\eta_{0} \\eta_{1} c^{2} \\rho_{t} s_{t}^{4} \\sigma \\dot{q}_{0} \\dot{q}_{1}}{4} - \\frac{\\eta_{0} \\eta_{1} c^{2} \\rho_{t} s_{t}^{4} \\dot{q}_{0} \\dot{q}_{1}}{16} - \\frac{\\eta_{1}^{2} c^{3} e_{0}^{2} \\rho_{t} s_{t}^{3} \\sigma^{3} \\dot{q}_{1}^{2}}{6} + \\frac{\\eta_{1}^{2} c^{3} e_{0}^{2} \\rho_{t} s_{t}^{3} \\sigma^{2} \\dot{q}_{1}^{2}}{2} - \\frac{\\eta_{1}^{2} c^{3} e_{0}^{2} \\rho_{t} s_{t}^{3} \\sigma \\dot{q}_{1}^{2}}{2} + \\frac{\\eta_{1}^{2} c^{3} e_{0}^{2} \\rho_{t} s_{t}^{3} \\dot{q}_{1}^{2}}{6} + \\frac{\\eta_{1}^{2} c^{3} e_{0} \\rho_{t} s_{t}^{3} \\sigma^{3} \\dot{q}_{1}^{2}}{12} - \\frac{\\eta_{1}^{2} c^{3} e_{0} \\rho_{t} s_{t}^{3} \\sigma^{2} \\dot{q}_{1}^{2}}{4} + \\frac{\\eta_{1}^{2} c^{3} e_{0} \\rho_{t} s_{t}^{3} \\sigma \\dot{q}_{1}^{2}}{4} - \\frac{\\eta_{1}^{2} c^{3} e_{0} \\rho_{t} s_{t}^{3} \\dot{q}_{1}^{2}}{12} - \\frac{7 \\eta_{1}^{2} c^{3} \\rho_{t} s_{t}^{3} \\sigma^{3} \\dot{q}_{1}^{2}}{288} + \\frac{7 \\eta_{1}^{2} c^{3} \\rho_{t} s_{t}^{3} \\sigma^{2} \\dot{q}_{1}^{2}}{96} - \\frac{7 \\eta_{1}^{2} c^{3} \\rho_{t} s_{t}^{3} \\sigma \\dot{q}_{1}^{2}}{96} + \\frac{7 \\eta_{1}^{2} c^{3} \\rho_{t} s_{t}^{3} \\dot{q}_{1}^{2}}{288}$"
      ],
      "text/plain": [
       "    2        5  5   2     2        5  4   2                                   \n",
       "  η₀ ⋅c⋅ρₜ⋅sₜ ⋅σ ⋅q₀̇    η₀ ⋅c⋅ρₜ⋅sₜ ⋅σ ⋅q₀̇      2        5  3   2     2     \n",
       "- ─────────────────── + ─────────────────── - η₀ ⋅c⋅ρₜ⋅sₜ ⋅σ ⋅q₀̇  + η₀ ⋅c⋅ρₜ⋅\n",
       "           10                    2                                            \n",
       "\n",
       "              2        5     2     2        5   2          2         4  4     \n",
       "   5  2   2   η₀ ⋅c⋅ρₜ⋅sₜ ⋅σ⋅q₀̇    η₀ ⋅c⋅ρₜ⋅sₜ ⋅q₀̇    η₀⋅η₁⋅c ⋅e₀⋅ρₜ⋅sₜ ⋅σ ⋅\n",
       "sₜ ⋅σ ⋅q₀̇  - ────────────────── + ──────────────── + ────────────────────────\n",
       "                    2                   10                       4            \n",
       "\n",
       "                                           2         4  2                     \n",
       "q₀̇⋅q₁̇          2         4  3         3⋅η₀⋅η₁⋅c ⋅e₀⋅ρₜ⋅sₜ ⋅σ ⋅q₀̇⋅q₁̇       \n",
       "─── - η₀⋅η₁⋅c ⋅e₀⋅ρₜ⋅sₜ ⋅σ ⋅q₀̇⋅q₁̇ + ───────────────────────────── - η₀⋅η₁⋅c \n",
       "                                                2                             \n",
       "\n",
       "                        2         4                2      4  4                \n",
       "   2         4           η₀⋅η₁⋅c ⋅e₀⋅ρₜ⋅sₜ ⋅q₀̇⋅q₁̇   η₀⋅η₁⋅c ⋅ρₜ⋅sₜ ⋅σ ⋅q₀̇⋅q\n",
       "⋅e₀⋅ρₜ⋅sₜ ⋅σ⋅q₀̇⋅q₁̇ + ──────────────────────── - ──────────────────────── + ─\n",
       "                            4                          16                     \n",
       "\n",
       "2      4  3                  2      4  2                2      4              \n",
       "₁̇   η₀⋅η₁⋅c ⋅ρₜ⋅sₜ ⋅σ ⋅q₀̇⋅q₁̇   3⋅η₀⋅η₁⋅c ⋅ρₜ⋅sₜ ⋅σ ⋅q₀̇⋅q₁̇   η₀⋅η₁⋅c ⋅ρₜ⋅s\n",
       "─────────────────────── - ────────────────────────── + ───────────────────────\n",
       "    4                           8                           4                 \n",
       "\n",
       "    2      4           2  3   2      3  3   2     2  3   2      3  2   2     2\n",
       "ₜ ⋅σ⋅q₀̇⋅q₁̇   η₀⋅η₁⋅c ⋅ρₜ⋅sₜ ⋅q₀̇⋅q₁̇   η₁ ⋅c ⋅e₀ ⋅ρₜ⋅sₜ ⋅σ ⋅q₁̇    η₁ ⋅c ⋅e₀\n",
       " - ───────────────────── - ──────────────────────── + ────────────────────────\n",
       "       16                       6                          2                  \n",
       "\n",
       "  3   2      3     2     2  3   2      3   2     2  3         3  3   2     2  \n",
       " ⋅ρₜ⋅sₜ ⋅σ ⋅q₁̇    η₁ ⋅c ⋅e₀ ⋅ρₜ⋅sₜ ⋅σ⋅q₁̇    η₁ ⋅c ⋅e₀ ⋅ρₜ⋅sₜ ⋅q₁̇    η₁ ⋅c ⋅\n",
       " - ─────────────────────── + ───────────────────── + ─────────────────────── -\n",
       "        2                        6                        12                  \n",
       "\n",
       "3         3  2   2     2  3         3     2     2  3         3   2       2  3 \n",
       "e₀⋅ρₜ⋅sₜ ⋅σ ⋅q₁̇    η₁ ⋅c ⋅e₀⋅ρₜ⋅sₜ ⋅σ ⋅q₁̇    η₁ ⋅c ⋅e₀⋅ρₜ⋅sₜ ⋅σ⋅q₁̇    η₁ ⋅c\n",
       " ─────────────────────── + ────────────────────── - ──────────────────── - ───\n",
       "      4                        4                       12                     \n",
       "\n",
       "     3  3   2       2  3      3  2   2       2  3      3     2       2  3     \n",
       " ⋅e₀⋅ρₜ⋅sₜ ⋅q₁̇    7⋅η₁ ⋅c ⋅ρₜ⋅sₜ ⋅σ ⋅q₁̇    7⋅η₁ ⋅c ⋅ρₜ⋅sₜ ⋅σ ⋅q₁̇    7⋅η₁ ⋅c\n",
       "─────────────────── + ────────────────────── - ───────────────────── + ───────\n",
       "288                       96                       96                    288  \n",
       "\n",
       " 3   2\n",
       " ⋅ρₜ⋅sₜ ⋅σ⋅q₁̇    7⋅η₁ ⋅c ⋅ρₜ⋅sₜ ⋅q₁̇ \n",
       "────────────\n",
       "      "
      ]
     },
     "execution_count": 20,
     "metadata": {},
     "output_type": "execute_result"
    }
   ],
   "source": [
    "inner_wing_ele.calc_ke(p)"
   ]
  },
  {
   "cell_type": "code",
   "execution_count": 19,
   "id": "956b37b8-c7d0-49c0-a689-a94bcc6c0996",
   "metadata": {},
   "outputs": [
    {
     "data": {
      "image/png": "[encoded data removed]",
      "text/latex": [
       "$\\displaystyle \\frac{\\eta_{0}^{2} m_{1} s_{t}^{4} \\sigma^{4} \\dot{q}_{0}^{2}}{2} - 2 \\eta_{0}^{2} m_{1} s_{t}^{4} \\sigma^{3} \\dot{q}_{0}^{2} + 3 \\eta_{0}^{2} m_{1} s_{t}^{4} \\sigma^{2} \\dot{q}_{0}^{2} - 2 \\eta_{0}^{2} m_{1} s_{t}^{4} \\sigma \\dot{q}_{0}^{2} + \\frac{\\eta_{0}^{2} m_{1} s_{t}^{4} \\dot{q}_{0}^{2}}{2} + \\eta_{0} m_{1} s_{t}^{2} \\sigma^{2} y_{com1} \\cos{\\left(q_{2} \\right)} \\dot{q}_{0} \\dot{q}_{2} - 2 \\eta_{0} m_{1} s_{t}^{2} \\sigma y_{com1} \\cos{\\left(q_{2} \\right)} \\dot{q}_{0} \\dot{q}_{2} + \\eta_{0} m_{1} s_{t}^{2} y_{com1} \\cos{\\left(q_{2} \\right)} \\dot{q}_{0} \\dot{q}_{2} + \\frac{I_{xx1} \\dot{q}_{2}^{2}}{2} + \\frac{m_{1} y_{com1}^{2} \\dot{q}_{2}^{2}}{2}$"
      ],
      "text/plain": [
       "  2      4  4   2                                                             \n",
       "η₀ ⋅m₁⋅sₜ ⋅σ ⋅q₀̇        2      4  3   2       2      4  2   2       2      4 \n",
       "───────────────── - 2⋅η₀ ⋅m₁⋅sₜ ⋅σ ⋅q₀̇  + 3⋅η₀ ⋅m₁⋅sₜ ⋅σ ⋅q₀̇  - 2⋅η₀ ⋅m₁⋅sₜ \n",
       "        2                                                                     \n",
       "\n",
       "         2      4   2                                                         \n",
       "    2   η₀ ⋅m₁⋅sₜ ⋅q₀̇            2  2                                  2     \n",
       "⋅σ⋅q₀̇  + ────────────── + η₀⋅m₁⋅sₜ ⋅σ ⋅y_com1⋅cos(q₂)⋅q₀̇⋅q₂̇ - 2⋅η₀⋅m₁⋅sₜ ⋅σ\n",
       "             2                                                                \n",
       "\n",
       "                                                           2            2   2\n",
       "                             2                        Iₓₓ₁⋅q₂̇    m₁⋅y_com1 ⋅q\n",
       "⋅y_com1⋅cos(q₂)⋅q₀̇⋅q₂̇ + η₀⋅m₁⋅sₜ ⋅y_com1⋅cos(q₂)⋅q₀̇⋅q₂̇ + ──────── + ──────\n",
       "                                                       2             2       "
      ]
     },
     "execution_count": 19,
     "metadata": {},
     "output_type": "execute_result"
    }
   ],
   "source": [
    "fwt_ele.calc_ke(p)"
   ]
  },
  {
   "cell_type": "code",
   "execution_count": 5,
   "id": "1557f04a-44b3-487d-bd2e-06515371f8fc",
   "metadata": {},
   "outputs": [],
   "source": [
    "# Main Wing Aero Forces \n",
    "wing_AeroForces = ef.AeroForce.PerUnitSpan(p,wing_flexural_frame.R_y(tau_0),p.a_i,\n",
    "                               alphadot = 0 if isinstance(tau_0,int) else tau_0.diff(me.dynamicsymbols._t),\n",
    "                               M_thetadot = p.M_thetadot,\n",
    "                               e = p.e_0,\n",
    "                               w_g = 0,\n",
    "                               rootAlpha = p.alpha_r+tau_0,\n",
    "                               alpha_zero = 0,\n",
    "                               stall_angle = p.alpha_max,\n",
    "                               c = p.c,\n",
    "                                V = p.V,\n",
    "                               c_d_max = p.c_dmax,\n",
    "                               linear = False,\n",
    "                                z_inverted=False)\n",
    "\n",
    "# split Main Wing into segments\n",
    "forces = []\n",
    "for i in range(fwt_panels):\n",
    "    seg_width = p.s_1/fwt_panels\n",
    "    yi = seg_width/2 + i*seg_width\n",
    "    forces.append(wing_AeroForces.subs({p.y_0:yi,p.a_i:p.a[i]})*seg_width)\n",
    "Q = sym.Matrix([0]*p.qs)\n",
    "for f in forces:\n",
    "    Q += f.Q()\n",
    "wing_AeroForces = ef.ExternalForce(Q)"
   ]
  },
  {
   "cell_type": "code",
   "execution_count": 6,
   "id": "cbbba4c5-eef7-4c44-b13c-db1247b3ced6",
   "metadata": {},
   "outputs": [],
   "source": [
    "# FWT Aero Forces\n",
    "BodyJacobian = sym.simplify(ef.AeroForce._trigsimp(fwt_flexural_frame.BodyJacobian(p.q)))\n",
    "\n",
    "(wrench,dAlpha) = ef.AeroForce.get_wrench(p,BodyJacobian,p.a_i,\n",
    "                               alphadot = p.alphadot_1,\n",
    "                               M_thetadot = p.M_thetadot,\n",
    "                               e = p.e_1,\n",
    "                               w_g = 0,\n",
    "                               rootAlpha = p.alpha_1,\n",
    "                               alpha_zero = p.beta_t,\n",
    "                               stall_angle = p.alpha_max,\n",
    "                               c = p.c,\n",
    "                                V = p.V,\n",
    "                               c_d_max = p.c_dmax,\n",
    "                               linear = False,\n",
    "                                z_inverted=False)\n",
    "\n",
    "_Q = BodyJacobian.T*wrench\n",
    "fwt_AeroForces_perUnit = ef.AeroForce(_Q,dAlpha)"
   ]
  },
  {
   "cell_type": "code",
   "execution_count": 7,
   "id": "40446311-dab0-492b-a8f9-124696c51008",
   "metadata": {},
   "outputs": [],
   "source": [
    "tau_s0 = tau_0.subs(p.y_0,p.s_0)\n",
    "Transform = wing_frame.subs({p.y_0:p.s_0,p.x_0:p.x_f0}).R_y(tau_s0)\n",
    "fwt_aeroTorque = ef.BodyForce(p,Transform,simplify=False,My = wrench[4]*sym.cos(p.q[-1]))"
   ]
  },
  {
   "cell_type": "code",
   "execution_count": 8,
   "id": "414a0f88-571a-4b95-90fe-40cf911814df",
   "metadata": {},
   "outputs": [],
   "source": [
    "# split Main Wing into segments\n",
    "forces = []\n",
    "for i in range(fwt_panels):\n",
    "    seg_width = p.s_1/fwt_panels\n",
    "    yi = seg_width/2 + i*seg_width\n",
    "    forces.append(fwt_AeroForces_perUnit.subs({p.y_1:yi,p.a_i:p.a[i+main_panels]})*seg_width)\n",
    "    forces.append(fwt_aeroTorque.subs({p.y_1:yi,p.a_i:p.a[i+main_panels]})*seg_width)\n",
    "Q = sym.Matrix([0]*p.qs)\n",
    "for f in forces:\n",
    "    Q += f.Q()\n",
    "fwt_AeroForces = ef.ExternalForce(Q)"
   ]
  },
  {
   "cell_type": "code",
   "execution_count": 9,
   "id": "ac25ec0a-12f2-446d-a757-dc7d41139a50",
   "metadata": {},
   "outputs": [],
   "source": [
    "#Create Composite force\n",
    "CompositeForce = ef.CompositeForce([wing_AeroForces,fwt_AeroForces])\n",
    "# Create the SYmbolic Model\n",
    "sm = ma.SymbolicModel.FromElementsAndForces(p,[inner_wing_ele,fwt_ele,mass_ele],CompositeForce)"
   ]
  },
  {
   "cell_type": "code",
   "execution_count": 10,
   "id": "943e212b-32e7-4570-aa23-24f585ce3a58",
   "metadata": {},
   "outputs": [],
   "source": [
    "d_z_s0 = z_0.diff(p.y_0).subs({p.y_0:p.s_0,p.x_0:p.x_f0})\n",
    "theta = sym.Symbol('theta')\n",
    "alpha = sym.Symbol('alpha')\n",
    "fwt_aoa = mf.GetAoA(alpha,0,p.Lambda,theta-p.mu,p.mu)\n",
    "fwt_aoa = fwt_aoa.subs({alpha:(p.alpha_r+tau_s0),theta:p.q[-1]})\n",
    "d_fwt_aoa = fwt_aoa.diff(me.dynamicsymbols._t)"
   ]
  },
  {
   "cell_type": "code",
   "execution_count": 11,
   "id": "4ac51187-d4ce-4bbb-a334-8296a74e9d38",
   "metadata": {},
   "outputs": [
    {
     "data": {
      "image/png": "[encoded data removed]",
      "text/latex": [
       "$\\displaystyle \\eta_{3} y_{0} q_{3} + \\eta_{4} y_{0}^{2} q_{4}$"
      ],
      "text/plain": [
       "                2   \n",
       "η₃⋅y₀⋅q₃ + η₄⋅y₀ ⋅q₄"
      ]
     },
     "execution_count": 11,
     "metadata": {},
     "output_type": "execute_result"
    }
   ],
   "source": [
    "tau_0"
   ]
  },
  {
   "cell_type": "code",
   "execution_count": 12,
   "id": "c2eee07b-852d-4dae-9301-53e92f4f4946",
   "metadata": {},
   "outputs": [
    {
     "data": {
      "image/png": "[encoded data removed]",
      "text/latex": [
       "$\\displaystyle \\left\\{a_{0}, a_{1}, a_{2}, a_{20}, a_{21}, a_{22}, a_{23}, a_{24}, a_{25}, a_{26}, a_{27}, a_{28}, a_{29}, a_{3}, a_{4}, a_{5}, a_{6}, a_{7}, a_{8}, a_{9}, \\eta_{0}, \\eta_{1}, \\eta_{2}, \\eta_{3}, \\eta_{4}, \\Lambda, M_{\\dot{\\theta}}, V, \\alpha_{max}, \\alpha_{r}, \\beta_{t}, c, c_{dmax}, clip_{factor}, e_{0}, e_{1}, \\mu, \\rho, s_{t}, \\sigma, t\\right\\}$"
      ],
      "text/plain": [
       "{a₀, a₁, a₂, a₂₀, a₂₁, a₂₂, a₂₃, a₂₄, a₂₅, a₂₆, a₂₇, a₂₈, a₂₉, a₃, a₄, a₅, a₆,\n",
       " a₇, a₈, a₉, η₀, η₁, η₂, η₃, η₄, Λ, M_θ̇, V, αₘₐₓ, αᵣ, βₜ, c, c_dmax, clip_fac\n",
       "tor, e₀, e₁, μ, ρ, sₜ, σ, t}"
      ]
     },
     "execution_count": 12,
     "metadata": {},
     "output_type": "execute_result"
    }
   ],
   "source": [
    "sm = sm.subs({p.alpha_1:fwt_aoa,p.alphadot_1:d_fwt_aoa})\n",
    "sm.ExtForces.Q().free_symbols"
   ]
  },
  {
   "cell_type": "code",
   "execution_count": 13,
   "id": "908b06d0-9f9d-48f5-9d5f-0ddba433dc31",
   "metadata": {},
   "outputs": [],
   "source": [
    "sm.to_matlab_file(p,'C:/Git/fwt_auto/+model/')"
   ]
  },
  {
   "cell_type": "code",
   "execution_count": 19,
   "id": "774fe1ce-20f5-497b-a660-2305873bd496",
   "metadata": {},
   "outputs": [],
   "source": [
    "sm_lin = sm.linearise(p)"
   ]
  },
  {
   "cell_type": "code",
   "execution_count": 20,
   "id": "b18b0daf-f6fd-4484-8f8a-16f3087685f8",
   "metadata": {},
   "outputs": [],
   "source": [
    "sm_lin.to_matlab_file_linear(p,'C:/Git/fwt_auto/+model/')"
   ]
  },
  {
   "cell_type": "code",
   "execution_count": 21,
   "id": "4338cfbf-9bff-4745-a0c0-6b44ff1032f2",
   "metadata": {},
   "outputs": [],
   "source": [
    "file_dir ='C:/Git/fwt_auto/+model/'\n",
    "func_name = 'd_z_s0'\n",
    "with open(file_dir+f\"{func_name}.m\",'w') as file:\n",
    "    file.write(sm._gen_octave(d_z_s0,p,func_name))"
   ]
  },
  {
   "cell_type": "code",
   "execution_count": 22,
   "id": "a8103893-d9ac-4c59-9163-34d06aaeab5a",
   "metadata": {},
   "outputs": [],
   "source": [
    "from time import time, ctime\n",
    "def gen_octave(expr,func_name):  \n",
    "    symbols = sorted([s.name for s in expr.free_symbols], key=lambda L: (L.lower(), L))\n",
    "    print(symbols)\n",
    "    # split expr into groups\n",
    "    replacments, exprs = sym.cse(expr,symbols=(sym.Symbol(f'rep_{i}')for i in range(10000)))\n",
    "    if isinstance(expr,tuple):\n",
    "        expr = tuple(exprs)\n",
    "    elif isinstance(expr,list):\n",
    "        expr = exprs\n",
    "    else:\n",
    "        expr = exprs[0]      \n",
    "\n",
    "    group_string = '%% create common groups\\n\\t'\n",
    "    for variable, expression in replacments:\n",
    "        group_string +=f'{variable} = {sym.printing.octave.octave_code(expression)};\\n\\t'\n",
    "\n",
    "    # convert to octave string and covert states to vector form\n",
    "    out = '%% create output \\n\\tout = ' + sym.printing.octave.octave_code(expr)\n",
    "\n",
    "    # make the file pretty...\n",
    "    out = out.replace(',',',...\\n\\t\\t').replace(';',';...\\n\\t\\t')\n",
    "\n",
    "    file_sig = f'%{func_name.upper()} Auto-generated function from moyra\\n\\t'\n",
    "    file_sig += f'%\\n\\t'\n",
    "    file_sig += f'%\\tCreated at : {ctime(time())} \\n\\t'\n",
    "    file_sig += f'%\\tCreated with : moyra https://pypi.org/project/moyra/\\n\\t'\n",
    "    file_sig += f'%\\n\\t'\n",
    "\n",
    "    # wrap output in octave function signature\n",
    "    signature = f'function out = {func_name}('\n",
    "    for s in symbols:\n",
    "        signature +=f'{s},'\n",
    "    signature = signature[:-1]+')\\n\\t'\n",
    "    octave_string = signature + file_sig  + group_string + out + ';\\nend'\n",
    "    return octave_string"
   ]
  },
  {
   "cell_type": "code",
   "execution_count": 23,
   "id": "ff801fde-61ea-4337-8837-0ce4682e677b",
   "metadata": {},
   "outputs": [
    {
     "name": "stdout",
     "output_type": "stream",
     "text": [
      "['alpha_r', 'eta_3', 'eta_4', 'Lambda', 'mu', 's_t', 'sigma', 't']\n",
      "['alpha_r', 'eta_3', 'eta_4', 'Lambda', 'mu', 's_t', 'sigma', 't']\n"
     ]
    }
   ],
   "source": [
    "file_dir ='C:/Git/fwt_auto/+model/'\n",
    "func_name = 'fwt_aoa'\n",
    "with open(file_dir+f\"{func_name}.m\",'w') as file:\n",
    "    file.write(gen_octave(fwt_aoa,func_name))\n",
    "func_name = 'd_fwt_aoa'\n",
    "with open(file_dir+f\"{func_name}.m\",'w') as file:\n",
    "    file.write(gen_octave(d_fwt_aoa,func_name))"
   ]
  },
  {
   "cell_type": "code",
   "execution_count": 24,
   "id": "ee0b047c-8b87-4d14-8196-7bd0079ad442",
   "metadata": {},
   "outputs": [],
   "source": [
    "#linearise about parameters\n",
    "def linearise_about_params(self,x,fp,p):\n",
    "        \"\"\"\n",
    "        Creates a new instance of the symbolic model class in which the EoM have been \n",
    "        linearised about the fixed point p.q_0\n",
    "        \"\"\"\n",
    "        # Calculate Matrices at the fixed point\n",
    "        # (go in reverse order so velocitys are subbed in before positon)\n",
    "\n",
    "        # get the full EoM's for free vibration and linearise\n",
    "        eom = self.M*p.qdd + self.f\n",
    "        eom_lin = linearise_matrix(eom,x,fp)\n",
    "\n",
    "        #extract linearised M\n",
    "        M_lin = eom_lin.jacobian(p.qdd)\n",
    "\n",
    "        #extract linerised f\n",
    "        f_lin = (eom_lin - M_lin*p.qdd).doit().expand()\n",
    "\n",
    "        # Linearise the External Forces\n",
    "        extForce_lin = self.ExtForces.linearise(p.x,p.fp) if self.ExtForces is not None else None\n",
    "\n",
    "        # create the linearised model and return it\n",
    "        return SymbolicModel(M_lin,f_lin,0,0,extForce_lin)"
   ]
  },
  {
   "cell_type": "code",
   "execution_count": 8,
   "id": "1d1534a8-29be-416e-bbf6-fbf3309593e9",
   "metadata": {},
   "outputs": [],
   "source": [
    "alpha = sym.Symbol('alpha_m')\n",
    "Lambda = sym.Symbol('Lambda')\n",
    "theta = sym.Symbol('theta')\n",
    "phi = sym.Symbol('phi')\n",
    "\n",
    "fwt_aoa = mf.GetAoA(alpha,0,Lambda,theta-phi,phi)"
   ]
  },
  {
   "cell_type": "code",
   "execution_count": 9,
   "id": "c4a7985d-b0ea-44b6-bf78-79f9c8f17423",
   "metadata": {},
   "outputs": [
    {
     "data": {
      "image/png": "[encoded data removed]",
      "text/latex": [
       "$\\displaystyle \\operatorname{atan}{\\left(\\frac{\\left(\\sin{\\left(\\phi \\right)} \\sin{\\left(\\phi - \\theta \\right)} \\cos{\\left(\\Lambda \\right)} + \\cos{\\left(\\phi \\right)} \\cos{\\left(\\phi - \\theta \\right)}\\right) \\sin{\\left(\\alpha_{m} \\right)} + \\sin{\\left(\\Lambda \\right)} \\sin{\\left(\\phi - \\theta \\right)} \\cos{\\left(\\alpha_{m} \\right)}}{\\left(\\sin^{2}{\\left(\\Lambda \\right)} \\cos{\\left(\\phi - \\theta \\right)} + \\cos^{2}{\\left(\\Lambda \\right)}\\right) \\cos{\\left(\\alpha_{m} \\right)} + \\left(\\left(\\cos{\\left(\\phi - \\theta \\right)} - 1\\right) \\sin{\\left(\\phi \\right)} \\cos{\\left(\\Lambda \\right)} - \\sin{\\left(\\phi - \\theta \\right)} \\cos{\\left(\\phi \\right)}\\right) \\sin{\\left(\\Lambda \\right)} \\sin{\\left(\\alpha_{m} \\right)}} \\right)}$"
      ],
      "text/plain": [
       "    ⎛             (sin(φ)⋅sin(φ - θ)⋅cos(Λ) + cos(φ)⋅cos(φ - θ))⋅sin(αₘ) + sin\n",
       "atan⎜─────────────────────────────────────────────────────────────────────────\n",
       "    ⎜⎛   2                    2   ⎞                                           \n",
       "    ⎝⎝sin (Λ)⋅cos(φ - θ) + cos (Λ)⎠⋅cos(αₘ) + ((cos(φ - θ) - 1)⋅sin(φ)⋅cos(Λ) \n",
       "\n",
       "(Λ)⋅sin(φ - θ)⋅cos(αₘ)             ⎞\n",
       "───────────────────────────────────⎟\n",
       "                                   ⎟\n",
       "- sin(φ - θ)⋅cos(φ))⋅sin(Λ)⋅sin(αₘ)⎠"
      ]
     },
     "execution_count": 9,
     "metadata": {},
     "output_type": "execute_result"
    }
   ],
   "source": [
    "sym.simplify(fwt_aoa)"
   ]
  },
  {
   "cell_type": "code",
   "execution_count": 46,
   "id": "a7ed9720-13b5-4f0c-8515-b57c53dde433",
   "metadata": {},
   "outputs": [
    {
     "data": {
      "image/png": "[encoded data removed]",
      "text/latex": [
       "$\\displaystyle \\left[\\begin{matrix}0\\\\b + y \\cos{\\left(q_{2} \\right)}\\\\y \\sin{\\left(q_{2} \\right)} + q_{0}\\end{matrix}\\right]$"
      ],
      "text/plain": [
       "⎡      0       ⎤\n",
       "⎢              ⎥\n",
       "⎢b + y⋅cos(q₂) ⎥\n",
       "⎢              ⎥\n",
       "⎣y⋅sin(q₂) + q₀⎦"
      ]
     },
     "execution_count": 46,
     "metadata": {},
     "output_type": "execute_result"
    }
   ],
   "source": [
    "from sympy.abc import b,theta,y\n",
    "z = me.dynamicsymbols('z')\n",
    "hinge = ma.HomogenousTransform().Translate(0,b,p.q[0]).R_x(p.q[-1]).Translate(0,y,0)\n",
    "hinge.Transform_point([0,0,0])"
   ]
  },
  {
   "cell_type": "code",
   "execution_count": 48,
   "id": "e625ad90-1de4-4008-97ac-f5f728f5a3de",
   "metadata": {},
   "outputs": [
    {
     "data": {
      "image/png": "[encoded data removed]",
      "text/latex": [
       "$\\displaystyle \\frac{I_{xx1} \\dot{q}_{2}^{2}}{2} + \\frac{m_{1} y^{2} \\dot{q}_{2}^{2}}{2} + m_{1} y \\cos{\\left(q_{2} \\right)} \\dot{q}_{0} \\dot{q}_{2} + \\frac{m_{1} \\dot{q}_{0}^{2}}{2}$"
      ],
      "text/plain": [
       "       2       2   2                             2\n",
       "Iₓₓ₁⋅q₂̇    m₁⋅y ⋅q₂̇                         m₁⋅q₀̇ \n",
       "──────── + ───────── + m₁⋅y⋅cos(q₂)⋅q₀̇⋅q₂̇ + ──────\n",
       "   2           2                              2   "
      ]
     },
     "execution_count": 48,
     "metadata": {},
     "output_type": "execute_result"
    }
   ],
   "source": [
    "fwt_ele = ele.RigidElement(hinge,M_fwt,True)\n",
    "sym.simplify(fwt_ele.calc_ke(p))"
   ]
  },
  {
   "cell_type": "code",
   "execution_count": 41,
   "id": "6855b0b4-d257-4354-a215-d44a2ddbe9d0",
   "metadata": {},
   "outputs": [
    {
     "data": {
      "text/plain": [
       "<moyra.homogenous_transform.HomogenousTransform at 0x22f3ce5b1f0>"
      ]
     },
     "execution_count": 41,
     "metadata": {},
     "output_type": "execute_result"
    }
   ],
   "source": []
  },
  {
   "cell_type": "code",
   "execution_count": null,
   "id": "f8ea51ff-92d3-4625-bc51-1314c0357db3",
   "metadata": {},
   "outputs": [],
   "source": []
  }
 ],
 "metadata": {
  "kernelspec": {
   "display_name": "fwt_models",
   "language": "python",
   "name": "fwt_models"
  },
  "language_info": {
   "codemirror_mode": {
    "name": "ipython",
    "version": 3
   },
   "file_extension": ".py",
   "mimetype": "text/x-python",
   "name": "python",
   "nbconvert_exporter": "python",
   "pygments_lexer": "ipython3",
   "version": "3.8.8"
  }
 },
 "nbformat": 4,
 "nbformat_minor": 5
}
