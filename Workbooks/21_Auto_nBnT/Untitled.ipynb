{
 "cells": [
  {
   "cell_type": "code",
   "execution_count": 14,
   "id": "e3855741-6c80-4bb9-9660-a70ca7c934db",
   "metadata": {},
   "outputs": [],
   "source": [
    "import sympy as sym\n",
    "import sympy.physics.mechanics as me\n",
    "from sympy.abc import t as t\n",
    "me.mechanics_printing()"
   ]
  },
  {
   "cell_type": "code",
   "execution_count": 15,
   "id": "485ee2da-ef72-42c3-8138-d00b7d5e804e",
   "metadata": {},
   "outputs": [],
   "source": [
    "y,x,c = sym.symbols(['y','x','c'])"
   ]
  },
  {
   "cell_type": "code",
   "execution_count": 16,
   "id": "f297c8ed-65c5-4e17-b06e-15e73bd9c695",
   "metadata": {},
   "outputs": [],
   "source": [
    "f =x**2+c+x"
   ]
  },
  {
   "cell_type": "code",
   "execution_count": 17,
   "id": "f8ef250b-59ea-45da-89a1-739d498e7302",
   "metadata": {},
   "outputs": [
    {
     "data": {
      "image/png": "[encoded data removed]",
      "text/latex": [
       "$\\displaystyle c + x^{2} + x$"
      ],
      "text/plain": [
       "     2    \n",
       "c + x  + x"
      ]
     },
     "execution_count": 17,
     "metadata": {},
     "output_type": "execute_result"
    }
   ],
   "source": [
    "f"
   ]
  },
  {
   "cell_type": "code",
   "execution_count": 22,
   "id": "94acb52b-c22a-4f92-a6b9-51a464326ebf",
   "metadata": {},
   "outputs": [
    {
     "data": {
      "text/plain": [
       "'c + x.^2 + x'"
      ]
     },
     "execution_count": 22,
     "metadata": {},
     "output_type": "execute_result"
    }
   ],
   "source": [
    "sym.printing.octave.octave_code(f)"
   ]
  },
  {
   "cell_type": "code",
   "execution_count": 18,
   "id": "cc677c62-fb5d-48b7-b5b5-26217b46bec4",
   "metadata": {},
   "outputs": [
    {
     "data": {
      "image/png": "[encoded data removed]",
      "text/latex": [
       "$\\displaystyle 2 x + 1$"
      ],
      "text/plain": [
       "2⋅x + 1"
      ]
     },
     "execution_count": 18,
     "metadata": {},
     "output_type": "execute_result"
    }
   ],
   "source": [
    "f.diff(x)"
   ]
  },
  {
   "cell_type": "code",
   "execution_count": null,
   "id": "e2701c53-ed3a-487f-ae6b-085d8fad793c",
   "metadata": {},
   "outputs": [],
   "source": []
  },
  {
   "cell_type": "code",
   "execution_count": null,
   "id": "54e270c5-983e-4014-9102-a6ea1cb3b76e",
   "metadata": {},
   "outputs": [],
   "source": []
  },
  {
   "cell_type": "code",
   "execution_count": 4,
   "id": "0d2ecf24-3c4b-428a-8ade-8f6b83da59d2",
   "metadata": {},
   "outputs": [],
   "source": [
    "d = sym.Function('d')(t)"
   ]
  },
  {
   "cell_type": "code",
   "execution_count": 10,
   "id": "1aa2c7b4-21ff-499b-81fe-a8d02348d692",
   "metadata": {},
   "outputs": [
    {
     "data": {
      "image/png": "[encoded data removed]",
      "text/latex": [
       "$\\displaystyle 2 d$"
      ],
      "text/plain": [
       "2⋅d"
      ]
     },
     "execution_count": 10,
     "metadata": {},
     "output_type": "execute_result"
    }
   ],
   "source": [
    "sym.diff((d**2),d)"
   ]
  },
  {
   "cell_type": "code",
   "execution_count": 9,
   "id": "8e7955c9-c2c1-4844-ae66-7071dfe03a71",
   "metadata": {},
   "outputs": [
    {
     "data": {
      "image/png": "[encoded data removed]",
      "text/latex": [
       "$\\displaystyle 1$"
      ],
      "text/plain": [
       "1"
      ]
     },
     "execution_count": 9,
     "metadata": {},
     "output_type": "execute_result"
    }
   ],
   "source": [
    "sym.diff(t)"
   ]
  },
  {
   "cell_type": "code",
   "execution_count": 11,
   "id": "6f06b75f-ee9d-4079-aebb-08366e4b89b9",
   "metadata": {},
   "outputs": [
    {
     "data": {
      "image/png": "[encoded data removed]",
      "text/latex": [
       "$\\displaystyle d$"
      ],
      "text/plain": [
       "d"
      ]
     },
     "execution_count": 11,
     "metadata": {},
     "output_type": "execute_result"
    }
   ],
   "source": [
    "d\n"
   ]
  },
  {
   "cell_type": "code",
   "execution_count": null,
   "id": "bcf4f8b4-0e41-4b0c-9c4b-1f82f7761738",
   "metadata": {},
   "outputs": [],
   "source": []
  }
 ],
 "metadata": {
  "kernelspec": {
   "display_name": "Python 3",
   "language": "python",
   "name": "python3"
  },
  "language_info": {
   "codemirror_mode": {
    "name": "ipython",
    "version": 3
   },
   "file_extension": ".py",
   "mimetype": "text/x-python",
   "name": "python",
   "nbconvert_exporter": "python",
   "pygments_lexer": "ipython3",
   "version": "3.7.10"
  }
 },
 "nbformat": 4,
 "nbformat_minor": 5
}
