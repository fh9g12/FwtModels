{
 "cells": [
  {
   "cell_type": "code",
   "execution_count": 4,
   "metadata": {},
   "outputs": [],
   "source": [
    "import sympy as sym\n",
    "import sympy.physics.mechanics as me\n",
    "from sympy.abc import t as time\n",
    "import pandas as pd\n",
    "import seaborn as sns\n",
    "\n",
    "import numpy as np\n",
    "from scipy.integrate import solve_ivp\n",
    "from scipy.integrate import odeint,LSODA,BDF,solve_ivp\n",
    "from scipy.linalg import eig\n",
    "from scipy.interpolate import interp1d\n",
    "import matplotlib.pyplot as plt\n",
    "\n",
    "import sys, os\n",
    "\n",
    "sys.path.insert(1, os.path.join(sys.path[0], '../..'))\n",
    "import custom_plot_objects as cpo\n",
    "\n",
    "import ModelFramework as mf\n",
    "import ModelFramework.Elements as ele\n",
    "import ModelFramework.ExternalForces as ef\n",
    "import FwtModels.RectWing as rw\n",
    "import FwtModels.TwoDoF as TwoDof\n",
    "\n",
    "from matplotlib.lines import Line2D\n",
    "import multiprocessing as mp\n",
    "\n",
    "\n",
    "import sympy as sym\n",
    "import sympy.physics.mechanics as me\n",
    "from sympy.abc import t as time\n",
    "import pandas as pd\n",
    "import seaborn as sns\n",
    "\n",
    "import numpy as np\n",
    "from scipy.integrate import solve_ivp\n",
    "import matplotlib.pyplot as plt\n",
    "\n",
    "import sys, os\n",
    "\n",
    "sys.path.insert(1, os.path.join(sys.path[0], '../..'))\n",
    "import custom_plot_objects as cpo\n",
    "\n",
    "import ModelFramework as mf\n",
    "import ModelFramework.Elements as ele\n",
    "import ModelFramework.ExternalForces as ef\n",
    "import FwtModels.RectWing as rw\n",
    "import FwtModels.TwoDoF as TwoDof\n",
    "import FwtModels as fm\n",
    "\n",
    "from matplotlib.lines import Line2D\n",
    "me.mechanics_printing()"
   ]
  },
  {
   "cell_type": "code",
   "execution_count": 1,
   "metadata": {},
   "outputs": [
    {
     "ename": "NameError",
     "evalue": "name 'mf' is not defined",
     "output_type": "error",
     "traceback": [
      "\u001b[0;31m---------------------------------------------------------------------------\u001b[0m",
      "\u001b[0;31mNameError\u001b[0m                                 Traceback (most recent call last)",
      "\u001b[0;32m<ipython-input-1-fa6df060f9ad>\u001b[0m in \u001b[0;36m<module>\u001b[0;34m\u001b[0m\n\u001b[0;32m----> 1\u001b[0;31m \u001b[0mp\u001b[0m \u001b[0;34m=\u001b[0m \u001b[0mmf\u001b[0m\u001b[0;34m.\u001b[0m\u001b[0mModelParameters\u001b[0m\u001b[0;34m.\u001b[0m\u001b[0mDynamicModel\u001b[0m\u001b[0;34m(\u001b[0m\u001b[0;36m3\u001b[0m\u001b[0;34m)\u001b[0m\u001b[0;34m\u001b[0m\u001b[0;34m\u001b[0m\u001b[0m\n\u001b[0m\u001b[1;32m      2\u001b[0m \u001b[0;34m\u001b[0m\u001b[0m\n\u001b[1;32m      3\u001b[0m \u001b[0mp\u001b[0m\u001b[0;34m.\u001b[0m\u001b[0mm_t\u001b[0m \u001b[0;34m=\u001b[0m \u001b[0mmf\u001b[0m\u001b[0;34m.\u001b[0m\u001b[0mModelSymbol\u001b[0m\u001b[0;34m(\u001b[0m\u001b[0mvalue\u001b[0m \u001b[0;34m=\u001b[0m \u001b[0;36m1\u001b[0m\u001b[0;34m,\u001b[0m\u001b[0mstring\u001b[0m \u001b[0;34m=\u001b[0m \u001b[0;34m'm_t'\u001b[0m\u001b[0;34m)\u001b[0m      \u001b[0;31m# mass of tank\u001b[0m\u001b[0;34m\u001b[0m\u001b[0;34m\u001b[0m\u001b[0m\n\u001b[1;32m      4\u001b[0m \u001b[0mp\u001b[0m\u001b[0;34m.\u001b[0m\u001b[0mm_b\u001b[0m \u001b[0;34m=\u001b[0m \u001b[0mmf\u001b[0m\u001b[0;34m.\u001b[0m\u001b[0mModelSymbol\u001b[0m\u001b[0;34m(\u001b[0m\u001b[0mvalue\u001b[0m \u001b[0;34m=\u001b[0m \u001b[0;36m1\u001b[0m\u001b[0;34m,\u001b[0m\u001b[0mstring\u001b[0m \u001b[0;34m=\u001b[0m \u001b[0;34m'm_b'\u001b[0m\u001b[0;34m)\u001b[0m      \u001b[0;31m# mass of ball\u001b[0m\u001b[0;34m\u001b[0m\u001b[0;34m\u001b[0m\u001b[0m\n\u001b[1;32m      5\u001b[0m \u001b[0mp\u001b[0m\u001b[0;34m.\u001b[0m\u001b[0mm_p\u001b[0m \u001b[0;34m=\u001b[0m \u001b[0mmf\u001b[0m\u001b[0;34m.\u001b[0m\u001b[0mModelSymbol\u001b[0m\u001b[0;34m(\u001b[0m\u001b[0mvalue\u001b[0m \u001b[0;34m=\u001b[0m \u001b[0;36m1\u001b[0m\u001b[0;34m,\u001b[0m\u001b[0mstring\u001b[0m \u001b[0;34m=\u001b[0m \u001b[0;34m'm_p'\u001b[0m\u001b[0;34m)\u001b[0m      \u001b[0;31m# mass of pendulum\u001b[0m\u001b[0;34m\u001b[0m\u001b[0;34m\u001b[0m\u001b[0m\n",
      "\u001b[0;31mNameError\u001b[0m: name 'mf' is not defined"
     ]
    }
   ],
   "source": [
    "p = mf.ModelParameters.DynamicModel(3)\n",
    "\n",
    "p.m_t = mf.ModelSymbol(value = 1,string = 'm_t')      # mass of tank\n",
    "p.m_b = mf.ModelSymbol(value = 1,string = 'm_b')      # mass of ball\n",
    "p.m_p = mf.ModelSymbol(value = 1,string = 'm_p')      # mass of pendulum\n",
    "p.l_p = mf.ModelSymbol(value = 1,string = 'l_p')      # pivot\n",
    "p.t_h = mf.ModelSymbol(value = 1,string = 't_h')      # tank height\n",
    "p.k_t = mf.ModelSymbol(value = 0,string = 'k_t')      # tank spring\n",
    "p.k_b = mf.ModelSymbol(value = 0,string = 'k_b')      # ball spring\n",
    "p.k_p = mf.ModelSymbol(value = 0,string = 'k_p')      # ball spring\n",
    "p.g  = mf.ModelSymbol(value = 9.81,string = 'g')    # gravity\n",
    "    \n",
    "\n",
    "#define refernce frames\n",
    "tank_frame = mf.HomogenousTransform().Translate(0,0,p.q[0])\n",
    "ball_frame = mf.HomogenousTransform().Translate(0,0,p.q[1])\n",
    "pendulum_frame = ball_frame.R_x(p.q[2]).Translate(0,0,p.l_p)\n",
    "\n",
    "#Create Elemnts\n",
    "ball_ele = ele.RigidElement.PointMass(ball_frame,p.m_b,gravityPotential = True)\n",
    "pen_ele = ele.RigidElement.PointMass(pendulum_frame,p.m_p,gravityPotential = True)\n",
    "tank_ele = ele.RigidElement.PointMass(tank_frame,p.m_t,gravityPotential = False)\n",
    "\n",
    "# Setup External Force\n",
    "tank_spring_ele = ele.Spring(p.q[0],p.k_t)\n",
    "ball_spring_ele = ele.Spring(p.q[1],p.k_b)\n",
    "pendulum_spring_ele = ele.Spring(p.q[2],p.k_b)\n",
    "\n",
    "def q_func(constants,x,t):\n",
    "    if abs(x[0]-x[2])-0.1>p.t_h.value/2:\n",
    "        return (0,0,0,(x[1]-x[3])*0,0,0)\n",
    "    else:\n",
    "        return (0,0,0,0)\n",
    "\n",
    "\n",
    "custom_force = ef.CustomForce(q_func)\n",
    "\n",
    "\n",
    "sm = mf.SymbolicModel.FromElementsAndForces(p,[tank_spring_ele,ball_spring_ele,pen_ele,tank_ele,ball_ele],custom_force)"
   ]
  },
  {
   "cell_type": "code",
   "execution_count": 2,
   "metadata": {},
   "outputs": [
    {
     "ename": "NameError",
     "evalue": "name 'ball_ele' is not defined",
     "output_type": "error",
     "traceback": [
      "\u001b[0;31m---------------------------------------------------------------------------\u001b[0m",
      "\u001b[0;31mNameError\u001b[0m                                 Traceback (most recent call last)",
      "\u001b[0;32m<ipython-input-2-5fa1df59f1de>\u001b[0m in \u001b[0;36m<module>\u001b[0;34m\u001b[0m\n\u001b[0;32m----> 1\u001b[0;31m \u001b[0mball_ele\u001b[0m\u001b[0;34m.\u001b[0m\u001b[0mCalcKE\u001b[0m\u001b[0;34m(\u001b[0m\u001b[0mp\u001b[0m\u001b[0;34m)\u001b[0m\u001b[0;34m\u001b[0m\u001b[0;34m\u001b[0m\u001b[0m\n\u001b[0m",
      "\u001b[0;31mNameError\u001b[0m: name 'ball_ele' is not defined"
     ]
    }
   ],
   "source": [
    "ball_ele.CalcKE(p)"
   ]
  },
  {
   "cell_type": "code",
   "execution_count": 3,
   "metadata": {},
   "outputs": [
    {
     "ename": "NameError",
     "evalue": "name 'sm' is not defined",
     "output_type": "error",
     "traceback": [
      "\u001b[0;31m---------------------------------------------------------------------------\u001b[0m",
      "\u001b[0;31mNameError\u001b[0m                                 Traceback (most recent call last)",
      "\u001b[0;32m<ipython-input-3-b5521628b42b>\u001b[0m in \u001b[0;36m<module>\u001b[0;34m\u001b[0m\n\u001b[0;32m----> 1\u001b[0;31m \u001b[0msm\u001b[0m\u001b[0;34m.\u001b[0m\u001b[0mM\u001b[0m\u001b[0;34m\u001b[0m\u001b[0;34m\u001b[0m\u001b[0m\n\u001b[0m",
      "\u001b[0;31mNameError\u001b[0m: name 'sm' is not defined"
     ]
    }
   ],
   "source": [
    "sm.M"
   ]
  },
  {
   "cell_type": "code",
   "execution_count": 90,
   "metadata": {},
   "outputs": [
    {
     "data": {
      "text/latex": [
       "$\\displaystyle \\left[\\begin{matrix}k_{t} q_{0}\\\\g m_{b} + g m_{p} + k_{b} q_{1} - l_{p} m_{p} \\operatorname{cos}\\left(q_{2}\\right) \\dot{q}_{2}^{2}\\\\- g l_{p} m_{p} \\operatorname{sin}\\left(q_{2}\\right)\\end{matrix}\\right]$"
      ],
      "text/plain": [
       "⎡                  kₜ⋅q₀                  ⎤\n",
       "⎢                                         ⎥\n",
       "⎢                                        2⎥\n",
       "⎢g⋅m_b + g⋅mₚ + k_b⋅q₁ - lₚ⋅mₚ⋅cos(q₂)⋅q₂̇ ⎥\n",
       "⎢                                         ⎥\n",
       "⎣            -g⋅lₚ⋅mₚ⋅sin(q₂)             ⎦"
      ]
     },
     "execution_count": 90,
     "metadata": {},
     "output_type": "execute_result"
    }
   ],
   "source": [
    "sm.f"
   ]
  },
  {
   "cell_type": "code",
   "execution_count": 91,
   "metadata": {},
   "outputs": [
    {
     "data": {
      "image/png": "[encoded data removed]",
      "text/latex": [
       "$\\displaystyle 1$"
      ],
      "text/plain": [
       "1"
      ]
     },
     "execution_count": 91,
     "metadata": {},
     "output_type": "execute_result"
    }
   ],
   "source": [
    "p.m_p.value"
   ]
  },
  {
   "cell_type": "code",
   "execution_count": 92,
   "metadata": {},
   "outputs": [
    {
     "data": {
      "image/png": "[encoded data removed]",
      "text/latex": [
       "$\\displaystyle 0$"
      ],
      "text/plain": [
       "0"
      ]
     },
     "execution_count": 92,
     "metadata": {},
     "output_type": "execute_result"
    }
   ],
   "source": [
    "p.k_b.value"
   ]
  },
  {
   "cell_type": "code",
   "execution_count": 93,
   "metadata": {},
   "outputs": [
    {
     "data": {
      "image/png": "[encoded data removed]",
      "text/latex": [
       "$\\displaystyle \\left( 1, \\  1, \\  1, \\  1, \\  1, \\  0, \\  0, \\  0, \\  9.81\\right)$"
      ],
      "text/plain": [
       "(1, 1, 1, 1, 1, 0, 0, 0, 9.81)"
      ]
     },
     "execution_count": 93,
     "metadata": {},
     "output_type": "execute_result"
    }
   ],
   "source": [
    "p.GetNumericTuple([0,0,0,0],0)"
   ]
  },
  {
   "cell_type": "code",
   "execution_count": 94,
   "metadata": {},
   "outputs": [
    {
     "data": {
      "text/plain": [
       "<bound method CustomForce.Q of <ModelFramework.ExternalForces.CustomForce.CustomForce object at 0x7f825d94a950>>"
      ]
     },
     "execution_count": 94,
     "metadata": {},
     "output_type": "execute_result"
    }
   ],
   "source": [
    "sm.ExtForces.Q"
   ]
  },
  {
   "cell_type": "code",
   "execution_count": null,
   "metadata": {},
   "outputs": [],
   "source": []
  },
  {
   "cell_type": "code",
   "execution_count": 95,
   "metadata": {},
   "outputs": [],
   "source": [
    "p.m_b.value = 0.075\n",
    "p.m_t.value = 0.2\n",
    "\n",
    "p.m_p.value = 0.075\n",
    "p.l_p.value = 10\n",
    "p.k_t.value = 4000\n",
    "p.t_h.value = 10\n",
    "p.g.value = 9.81\n",
    "      \n",
    "nm = mf.NumericModel.from_SymbolicModel(p,sm)\n",
    "\n",
    "#Define the reaction force\n",
    "def gust(t,x):\n",
    "    if abs(x[0]-x[2])>p.t_h.value/2:\n",
    "        return abs(x[0]-x[2])*2000\n",
    "    else:\n",
    "        return 0\n",
    "p.k_b.value = gust\n",
    "\n",
    "# Define Objective Function for solver\n",
    "def objectiveDeriv(t,y):\n",
    "    tup = p.GetNumericTuple(y,t)\n",
    "    return nm.deriv(t,y,tup)\n",
    "\n",
    "# Generate I.C. and run the solver\n",
    "x = [0]*p.qs*2\n",
    "x[0] = -1\n",
    "x[2] = 0\n",
    "end_time = 2\n",
    "yData = solve_ivp(objectiveDeriv,(0,end_time),x,max_step=0.01,method = \"LSODA\")"
   ]
  },
  {
   "cell_type": "code",
   "execution_count": 96,
   "metadata": {},
   "outputs": [],
   "source": [
    "#interpolate to reduce t and y points\n",
    "int_func = interp1d(yData.t,yData.y)\n",
    "\n",
    "t = np.linspace(0,end_time,(end_time*1000)+1)\n",
    "yi = int_func(t)\n",
    "\n",
    "a_i = []\n",
    "e = []\n",
    "\n",
    "for i in range(len(t)):\n",
    "    y = yi[:,i]\n",
    "    tup = p.GetNumericTuple(y,0)\n",
    "    a_i.append(nm.deriv(0,y,tup))\n",
    "    e.append(nm.Energy(0,y,tup))\n",
    "a_i = np.array(a_i)  \n",
    "\n",
    "\n",
    "\n",
    "#populate list of data\n",
    "ls = []        \n",
    "for i in range(len(t)):\n",
    "    ls.append({'t':t[i],'e':e[i],**{f'x{j}':yi[j,i] for j in range(p.qs*2)},**{f'a{j}':a_i[i,j] for j in [1,3]}})#'q1':yi[1,i]})\n",
    "df = pd.DataFrame(ls)"
   ]
  },
  {
   "cell_type": "code",
   "execution_count": 97,
   "metadata": {},
   "outputs": [
    {
     "ename": "ValueError",
     "evalue": "not enough values to unpack (expected 6, got 4)",
     "output_type": "error",
     "traceback": [
      "\u001b[0;31m---------------------------------------------------------------------------\u001b[0m",
      "\u001b[0;31mValueError\u001b[0m                                Traceback (most recent call last)",
      "\u001b[0;32m<ipython-input-97-57f7f0af7ab8>\u001b[0m in \u001b[0;36m<module>\u001b[0;34m\u001b[0m\n\u001b[1;32m      1\u001b[0m \u001b[0my\u001b[0m \u001b[0;34m=\u001b[0m \u001b[0;34m[\u001b[0m\u001b[0;36m0\u001b[0m\u001b[0;34m,\u001b[0m\u001b[0;36m0\u001b[0m\u001b[0;34m,\u001b[0m\u001b[0;36m5.1\u001b[0m\u001b[0;34m,\u001b[0m\u001b[0;36m5\u001b[0m\u001b[0;34m]\u001b[0m\u001b[0;34m\u001b[0m\u001b[0;34m\u001b[0m\u001b[0m\n\u001b[1;32m      2\u001b[0m \u001b[0mtup\u001b[0m \u001b[0;34m=\u001b[0m \u001b[0mp\u001b[0m\u001b[0;34m.\u001b[0m\u001b[0mGetNumericTuple\u001b[0m\u001b[0;34m(\u001b[0m\u001b[0my\u001b[0m\u001b[0;34m,\u001b[0m\u001b[0;36m0\u001b[0m\u001b[0;34m)\u001b[0m\u001b[0;34m\u001b[0m\u001b[0;34m\u001b[0m\u001b[0m\n\u001b[0;32m----> 3\u001b[0;31m \u001b[0mnm\u001b[0m\u001b[0;34m.\u001b[0m\u001b[0mderiv\u001b[0m\u001b[0;34m(\u001b[0m\u001b[0;36m0\u001b[0m\u001b[0;34m,\u001b[0m\u001b[0my\u001b[0m\u001b[0;34m,\u001b[0m\u001b[0mtup\u001b[0m\u001b[0;34m)\u001b[0m\u001b[0;34m\u001b[0m\u001b[0;34m\u001b[0m\u001b[0m\n\u001b[0m",
      "\u001b[0;32m~/Git/FwtModels/Workbooks/15_BouncingBall/../../ModelFramework/NumericModel.py\u001b[0m in \u001b[0;36mderiv\u001b[0;34m(self, t, x, tup)\u001b[0m\n\u001b[1;32m     38\u001b[0m         \u001b[0;32mtry\u001b[0m\u001b[0;34m:\u001b[0m\u001b[0;34m\u001b[0m\u001b[0;34m\u001b[0m\u001b[0m\n\u001b[1;32m     39\u001b[0m             \u001b[0mexternal\u001b[0m \u001b[0;34m=\u001b[0m \u001b[0mself\u001b[0m\u001b[0;34m.\u001b[0m\u001b[0mExtForces\u001b[0m\u001b[0;34m(\u001b[0m\u001b[0mtup\u001b[0m\u001b[0;34m,\u001b[0m\u001b[0mx\u001b[0m\u001b[0;34m,\u001b[0m\u001b[0mt\u001b[0m\u001b[0;34m)\u001b[0m\u001b[0;34m\u001b[0m\u001b[0;34m\u001b[0m\u001b[0m\n\u001b[0;32m---> 40\u001b[0;31m             \u001b[0maccels\u001b[0m \u001b[0;34m=\u001b[0m \u001b[0mnp\u001b[0m\u001b[0;34m.\u001b[0m\u001b[0mlinalg\u001b[0m\u001b[0;34m.\u001b[0m\u001b[0minv\u001b[0m\u001b[0;34m(\u001b[0m\u001b[0mself\u001b[0m\u001b[0;34m.\u001b[0m\u001b[0mM_func\u001b[0m\u001b[0;34m(\u001b[0m\u001b[0mtup\u001b[0m\u001b[0;34m,\u001b[0m\u001b[0mx\u001b[0m\u001b[0;34m)\u001b[0m\u001b[0;34m)\u001b[0m\u001b[0;34m@\u001b[0m\u001b[0;34m(\u001b[0m\u001b[0;34m-\u001b[0m\u001b[0mself\u001b[0m\u001b[0;34m.\u001b[0m\u001b[0mf_func\u001b[0m\u001b[0;34m(\u001b[0m\u001b[0mtup\u001b[0m\u001b[0;34m,\u001b[0m\u001b[0mx\u001b[0m\u001b[0;34m)\u001b[0m\u001b[0;34m+\u001b[0m\u001b[0mexternal\u001b[0m\u001b[0;34m)\u001b[0m\u001b[0;34m\u001b[0m\u001b[0;34m\u001b[0m\u001b[0m\n\u001b[0m\u001b[1;32m     41\u001b[0m         \u001b[0;32mexcept\u001b[0m \u001b[0mZeroDivisionError\u001b[0m\u001b[0;34m:\u001b[0m\u001b[0;34m\u001b[0m\u001b[0;34m\u001b[0m\u001b[0m\n\u001b[1;32m     42\u001b[0m             \u001b[0maccels\u001b[0m \u001b[0;34m=\u001b[0m \u001b[0mnp\u001b[0m\u001b[0;34m.\u001b[0m\u001b[0mlinalg\u001b[0m\u001b[0;34m.\u001b[0m\u001b[0minv\u001b[0m\u001b[0;34m(\u001b[0m\u001b[0mself\u001b[0m\u001b[0;34m.\u001b[0m\u001b[0mM_func\u001b[0m\u001b[0;34m(\u001b[0m\u001b[0mtup\u001b[0m\u001b[0;34m,\u001b[0m\u001b[0mx\u001b[0m\u001b[0;34m)\u001b[0m\u001b[0;34m)\u001b[0m\u001b[0;34m@\u001b[0m\u001b[0;34m(\u001b[0m\u001b[0;34m-\u001b[0m\u001b[0mself\u001b[0m\u001b[0;34m.\u001b[0m\u001b[0mf_func\u001b[0m\u001b[0;34m(\u001b[0m\u001b[0mtup\u001b[0m\u001b[0;34m,\u001b[0m\u001b[0mx\u001b[0m\u001b[0;34m)\u001b[0m\u001b[0;34m)\u001b[0m\u001b[0;34m\u001b[0m\u001b[0;34m\u001b[0m\u001b[0m\n",
      "\u001b[0;32m<lambdifygenerated-41>\u001b[0m in \u001b[0;36m_lambdifygenerated\u001b[0;34m(_Dummy_611, _Dummy_612)\u001b[0m\n\u001b[1;32m      1\u001b[0m \u001b[0;32mdef\u001b[0m \u001b[0m_lambdifygenerated\u001b[0m\u001b[0;34m(\u001b[0m\u001b[0m_Dummy_611\u001b[0m\u001b[0;34m,\u001b[0m \u001b[0m_Dummy_612\u001b[0m\u001b[0;34m)\u001b[0m\u001b[0;34m:\u001b[0m\u001b[0;34m\u001b[0m\u001b[0;34m\u001b[0m\u001b[0m\n\u001b[1;32m      2\u001b[0m     \u001b[0;34m[\u001b[0m\u001b[0mm_t\u001b[0m\u001b[0;34m,\u001b[0m \u001b[0mm_b\u001b[0m\u001b[0;34m,\u001b[0m \u001b[0mm_p\u001b[0m\u001b[0;34m,\u001b[0m \u001b[0ml_p\u001b[0m\u001b[0;34m,\u001b[0m \u001b[0mt_h\u001b[0m\u001b[0;34m,\u001b[0m \u001b[0mk_t\u001b[0m\u001b[0;34m,\u001b[0m \u001b[0mk_b\u001b[0m\u001b[0;34m,\u001b[0m \u001b[0mk_p\u001b[0m\u001b[0;34m,\u001b[0m \u001b[0mg\u001b[0m\u001b[0;34m]\u001b[0m \u001b[0;34m=\u001b[0m \u001b[0m_Dummy_611\u001b[0m\u001b[0;34m\u001b[0m\u001b[0;34m\u001b[0m\u001b[0m\n\u001b[0;32m----> 3\u001b[0;31m     \u001b[0;34m[\u001b[0m\u001b[0m_Dummy_610\u001b[0m\u001b[0;34m,\u001b[0m \u001b[0m_Dummy_607\u001b[0m\u001b[0;34m,\u001b[0m \u001b[0m_Dummy_609\u001b[0m\u001b[0;34m,\u001b[0m \u001b[0m_Dummy_606\u001b[0m\u001b[0;34m,\u001b[0m \u001b[0m_Dummy_608\u001b[0m\u001b[0;34m,\u001b[0m \u001b[0m_Dummy_605\u001b[0m\u001b[0;34m]\u001b[0m \u001b[0;34m=\u001b[0m \u001b[0m_Dummy_612\u001b[0m\u001b[0;34m\u001b[0m\u001b[0;34m\u001b[0m\u001b[0m\n\u001b[0m\u001b[1;32m      4\u001b[0m     \u001b[0mrep_0\u001b[0m \u001b[0;34m=\u001b[0m \u001b[0;34m-\u001b[0m\u001b[0ml_p\u001b[0m\u001b[0;34m*\u001b[0m\u001b[0mm_p\u001b[0m\u001b[0;34m*\u001b[0m\u001b[0msin\u001b[0m\u001b[0;34m(\u001b[0m\u001b[0m_Dummy_608\u001b[0m\u001b[0;34m)\u001b[0m\u001b[0;34m\u001b[0m\u001b[0;34m\u001b[0m\u001b[0m\n\u001b[1;32m      5\u001b[0m     \u001b[0;32mreturn\u001b[0m \u001b[0;34m(\u001b[0m\u001b[0marray\u001b[0m\u001b[0;34m(\u001b[0m\u001b[0;34m[\u001b[0m\u001b[0;34m[\u001b[0m\u001b[0mm_t\u001b[0m\u001b[0;34m,\u001b[0m \u001b[0;36m0\u001b[0m\u001b[0;34m,\u001b[0m \u001b[0;36m0\u001b[0m\u001b[0;34m]\u001b[0m\u001b[0;34m,\u001b[0m \u001b[0;34m[\u001b[0m\u001b[0;36m0\u001b[0m\u001b[0;34m,\u001b[0m \u001b[0mm_b\u001b[0m \u001b[0;34m+\u001b[0m \u001b[0mm_p\u001b[0m\u001b[0;34m,\u001b[0m \u001b[0mrep_0\u001b[0m\u001b[0;34m]\u001b[0m\u001b[0;34m,\u001b[0m \u001b[0;34m[\u001b[0m\u001b[0;36m0\u001b[0m\u001b[0;34m,\u001b[0m \u001b[0mrep_0\u001b[0m\u001b[0;34m,\u001b[0m \u001b[0ml_p\u001b[0m\u001b[0;34m**\u001b[0m\u001b[0;36m2\u001b[0m\u001b[0;34m*\u001b[0m\u001b[0mm_p\u001b[0m\u001b[0;34m]\u001b[0m\u001b[0;34m]\u001b[0m\u001b[0;34m)\u001b[0m\u001b[0;34m)\u001b[0m\u001b[0;34m\u001b[0m\u001b[0;34m\u001b[0m\u001b[0m\n",
      "\u001b[0;31mValueError\u001b[0m: not enough values to unpack (expected 6, got 4)"
     ]
    }
   ],
   "source": [
    "y = [0,0,5.1,5]\n",
    "tup = p.GetNumericTuple(y,0)\n",
    "nm.deriv(0,y,tup)"
   ]
  },
  {
   "cell_type": "code",
   "execution_count": 85,
   "metadata": {},
   "outputs": [
    {
     "data": {
      "text/plain": [
       "[<matplotlib.lines.Line2D at 0x7f825db23c90>]"
      ]
     },
     "execution_count": 85,
     "metadata": {},
     "output_type": "execute_result"
    },
    {
     "data": {
      "image/png": "[encoded data removed]",
      "text/plain": [
       "<Figure size 432x288 with 1 Axes>"
      ]
     },
     "metadata": {
      "needs_background": "light"
     },
     "output_type": "display_data"
    }
   ],
   "source": [
    "plt.plot(df['t'],df['x0'])\n",
    "plt.plot(df['t'],df['x2'])"
   ]
  },
  {
   "cell_type": "code",
   "execution_count": 72,
   "metadata": {},
   "outputs": [
    {
     "data": {
      "text/plain": [
       "[<matplotlib.lines.Line2D at 0x7f825e4ca1d0>]"
      ]
     },
     "execution_count": 72,
     "metadata": {},
     "output_type": "execute_result"
    },
    {
     "data": {
      "image/png": "[encoded data removed]",
      "text/plain": [
       "<Figure size 432x288 with 1 Axes>"
      ]
     },
     "metadata": {
      "needs_background": "light"
     },
     "output_type": "display_data"
    }
   ],
   "source": [
    "plt.plot(df['t'],df['e'])"
   ]
  },
  {
   "cell_type": "code",
   "execution_count": 40,
   "metadata": {},
   "outputs": [
    {
     "data": {
      "image/png": "[encoded data removed]",
      "text/latex": [
       "$\\displaystyle g m_{b} q_{1} + g m_{p} \\left(l_{p} \\operatorname{cos}\\left(q_{2}\\right) + q_{1}\\right) + \\frac{k_{b} q^{2}_{1}}{2} + \\frac{k_{t} q^{2}_{0}}{2} + \\frac{m_{b} \\dot{q}_{1}^{2}}{2} + m_{p} \\left(\\frac{l_{p}^{2} \\dot{q}_{2}^{2}}{2} - l_{p} \\operatorname{sin}\\left(q_{2}\\right) \\dot{q}_{1} \\dot{q}_{2} + \\frac{\\dot{q}_{1}^{2}}{2}\\right) + \\frac{m_{t} \\dot{q}_{0}^{2}}{2}$"
      ],
      "text/plain": [
       "                                          2        2         2      ⎛  2   2  \n",
       "                                    k_b⋅q₁    kₜ⋅q₀    m_b⋅q₁̇       ⎜lₚ ⋅q₂̇ \n",
       "g⋅m_b⋅q₁ + g⋅mₚ⋅(lₚ⋅cos(q₂) + q₁) + ─────── + ────── + ─────── + mₚ⋅⎜─────── -\n",
       "                                       2        2         2         ⎝   2     \n",
       "\n",
       "                      2⎞        2\n",
       "                      q₁̇ ⎟   mₜ⋅q₀̇ \n",
       " lₚ⋅sin(q₂)⋅q₁̇⋅q₂̇ + ───⎟ + ──────\n",
       "                     2 ⎠     2   "
      ]
     },
     "execution_count": 40,
     "metadata": {},
     "output_type": "execute_result"
    }
   ],
   "source": [
    "sm.T + sm.U"
   ]
  },
  {
   "cell_type": "code",
   "execution_count": 76,
   "metadata": {},
   "outputs": [
    {
     "data": {
      "image/png": "[encoded data removed]",
      "text/plain": [
       "<Figure size 432x288 with 1 Axes>"
      ]
     },
     "metadata": {
      "needs_background": "light"
     },
     "output_type": "display_data"
    }
   ],
   "source": [
    "import matplotlib.pyplot as plt\n",
    "\n",
    "from matplotlib import animation, rc\n",
    "from IPython.display import HTML\n",
    "\n",
    "# First set up the figure, the axis, and the plot element we want to animate\n",
    "fig, ax = plt.subplots()\n",
    "\n",
    "ax.set_xlim(( -2, 2))\n",
    "ax.set_ylim((-10, 10))\n",
    "plt.gca().set_aspect('equal', adjustable='box')\n",
    "\n",
    "line, = ax.plot([], [], lw=2)\n",
    "box, = ax.plot([], [], lw=2)"
   ]
  },
  {
   "cell_type": "code",
   "execution_count": 77,
   "metadata": {},
   "outputs": [
    {
     "data": {
      "text/html": [
       "<video width=\"432\" height=\"288\" controls autoplay loop>\n",
       "  <source type=\"video/mp4\" src=\"data:video/mp4;base64,AAAAHGZ0eXBNNFYgAAACAGlzb21pc28yYXZjMQAAAAhmcmVlAABFs21kYXQAAAKgBgX//5zcRem9\n",
       "5tlIt5Ys2CDZI+7veDI2NCAtIGNvcmUgMTUyIC0gSC4yNjQvTVBFRy00IEFWQyBjb2RlYyAtIENv\n",
       "cHlsZWZ0IDIwMDMtMjAxNyAtIGh0dHA6Ly93d3cudmlkZW9sYW4ub3JnL3gyNjQuaHRtbCAtIG9w\n",
       "dGlvbnM6IGNhYmFjPTEgcmVmPTMgZGVibG9jaz0xOjA6MCBhbmFseXNlPTB4MzoweDExMyBtZT1o\n",
       "ZXggc3VibWU9NyBwc3k9MSBwc3lfcmQ9MS4wMDowLjAwIG1peGVkX3JlZj0xIG1lX3JhbmdlPTE2\n",
       "IGNocm9tYV9tZT0xIHRyZWxsaXM9MSA4eDhkY3Q9MSBjcW09MCBkZWFkem9uZT0yMSwxMSBmYXN0\n",
       "X3Bza2lwPTEgY2hyb21hX3FwX29mZnNldD0tMiB0aHJlYWRzPTkgbG9va2FoZWFkX3RocmVhZHM9\n",
       "MSBzbGljZWRfdGhyZWFkcz0wIG5yPTAgZGVjaW1hdGU9MSBpbnRlcmxhY2VkPTAgYmx1cmF5X2Nv\n",
       "bXBhdD0wIGNvbnN0cmFpbmVkX2ludHJhPTAgYmZyYW1lcz0zIGJfcHlyYW1pZD0yIGJfYWRhcHQ9\n",
       "MSBiX2JpYXM9MCBkaXJlY3Q9MSB3ZWlnaHRiPTEgb3Blbl9nb3A9MCB3ZWlnaHRwPTIga2V5aW50\n",
       "PTI1MCBrZXlpbnRfbWluPTIwIHNjZW5lY3V0PTQwIGludHJhX3JlZnJlc2g9MCByY19sb29rYWhl\n",
       "YWQ9NDAgcmM9Y3JmIG1idHJlZT0xIGNyZj0yMy4wIHFjb21wPTAuNjAgcXBtaW49MCBxcG1heD02\n",
       "OSBxcHN0ZXA9NCBpcF9yYXRpbz0xLjQwIGFxPTE6MS4wMACAAAAH02WIhAA7//73Tr8Cm0WXagOS\n",
       "Vwr2yqQmWblSawHypgAAAwAAEbBufJcNeb0f4GvrUCn73B4hqDLPykaCxIRmTftasHZRgonXrx5i\n",
       "xrUp1Mkfpel1m14chwbCZuafQqPx58GL4d9Xrv3Ic7GTzRewAAcQEM5SK5CSwZa7B8QqPCu7yaAR\n",
       "JHeFYbVzgUd+LgQSsMOz7C67Tbe1gssxuKFcE+vebomQHenUjmT8MLFmuwCBDlBdP4SNjHEBZYdz\n",
       "XSv9fkw28jUtOo/bObxEgKWcT1g+yi+4ucS8rMyaT2s59Ztiafh+KCjhrBOz+F2pW5vh5OpwUrqg\n",
       "XwGdj928LiPte4M7+7LyjFDaQaYg/AIixs6TD3SpbNE1aDhKkvughXEQgUAALXVxaGxNvbuVcKMX\n",
       "/3yceyLIYPWvJl0uRLW9w5wkw3pliXLXGGVri1GR5ZNgtfo+oijikeoVE1RyIUP47v5tdYueS5BD\n",
       "lprOT1R9M9KzsGCuywzJjrB7HaNhR3k0uxZYF8HotADMvku1+8qk6FvsAAtIVaBMsCkg6ydWlnaR\n",
       "aj7fSQcWOnkWg661TwH15e0zoop118wA+TSIj1i81Hxt5u7NVfyC/1EhaD4y4us6fFCvWJJez5P5\n",
       "NULdzX7VN02545RE20MDGxr1kewCCJi5sk14goFjyrQiWe6uuE7Ytl3xTaG33UtTbPqEsX2AeYfF\n",
       "EyfRLnxwuMpxMRMMg2EaG1isW+py1r37nWal+0/rMsRqjDHQhpoItpaTV7+Y1Set3VbVRkiJWBdn\n",
       "6yQ1ZIHCGTD3v9m/rs7YclJ6hvv5KdzHxoeMCChT9aNmJYIAGGEHSNF3Ed+N3BWlK9Sc8h6e8T1S\n",
       "ot3M8QYw9aHxl0U91DNtz3QFTxmjNfHMdOBn5u4Ldj4RGXGLwdpsWCxgNhmKEpKGtmydMjQcvu0w\n",
       "CXqWPAeRDCC62XFXxY9a+EA2nlViQSxO9HDtQNonxmqlvreEloQBqVCNF5tq8pH9ZWRq3piYGEyf\n",
       "qd8+UICZw+8VT0lR3o3zPdUNoKN0E3Fws4yhrNENWfgK6rF1kcRWYW4dlfvSSRaWoPS/kJdbKmUo\n",
       "Am5llXokgr8opSrxMIxckn9oDOrUxvkT4XJYvtdIIs+HQFCE1pZZIAg56tJejUINCtT5NmN5uKdX\n",
       "v/+WSw0GwY7mSF9cBLokrZczGkbuBxBNoQ8s93nZVt5WvSgnNk8HwLtC0eGfFLstuU6jrjOD2WyX\n",
       "1wwJi0DPVsWLSqNNK2P5gAyOJVjlDtjZHCIyVHStDwLWgo59xt/gPfCbfFHqS6P3IbE7fM4VK3Jw\n",
       "bqjpAHCvwDhy6cKNbWsEQEZmFSNLXv3JArlzpNA3DnEDjNpDevrixpJvX2T1IsioSwmtxoWuIg9y\n",
       "+cd0Eb/cNOVXDANadeIZNqQUWpmX3IFarOB8Fs+NrB8LGp+9v3jMuMm2rynHMXemPhaBwlsXdSsH\n",
       "NekaZNCiaY46miTf4gvU4hd3wTgxgz2uRWZ/VUmkTeFHpo/uopETBqPkr+EHIUsOdIgh26YkLPJG\n",
       "143zbkyv/CIAAAMDtiU76ABaLZT4s27GDtiHG5+9S8giWjqk+hDH4ZWovpiO+pQZRvYUfzoySM/5\n",
       "PRX1vPuFC/IZ8qa57sfi77rvaM4hAZ/OKVHKLBVSLf2HrVOcjDOcpeO8eBo9uaWWRoIJsbkkCW2I\n",
       "p7P1GwpMRtHRRhlduAepiy840yE4H6LWMpzDPstuMOsYi8X6q1JgChf1nv4VuQPdnD/oOqL891Zx\n",
       "HKtn/ljHl0AIsJSs6kIkVuGi7O0K0/8VxBWSLj1WuWbVxhnsKly5CgJUfuYiajUJEFRgMrw1s6n+\n",
       "G1r7nOekQDctTM34MvTb6gf1sblMUw0FXLEZneqSC/QuiQtCozDznBEOfUBO2xm5Sbbd6Mvjw7d4\n",
       "8bJCOO+LzMZrNSz/bKdDbjuK3w6b55ue32k5cdGwpU9JX4crkAmJXPfQFU05VYpYVQSf6iAScAtt\n",
       "toKJZzIccgnOd25t1ozykwr5KaQN7PzfNwoKRybtigy3cFG0trD6HhPCLuC4noJILuF8FnmreIVI\n",
       "EZHR3t9Tx0at2rVvIuEYH2gEI1t+rzqwEn/WYs7Zr4BOz2D/g0Z8x+VmdnUmd33cl80QGDdhyUJI\n",
       "mSvovoGmn1ZHgg55QHKakLOGGLsty9nQXLIWDhyOUDzWLZukwH8WyQkinrm5VFp08j7EvKQ73Xqj\n",
       "x0rrvp7/cW8mKCKTm50j7SgWASuQX8mboqZV81BhcFCG8yhbLYeq6irCk3yNELTP5nYluFjaVA8H\n",
       "wDGwOozIeqQOd3w4+J4AyjykQpN4rmzY4PMT1y2qQgdgyoWTygFptQlfOUAaU9q4lYab9h/rBs8/\n",
       "9fAqkFnvcDv3PXi5j5MedNeTh3O7ZqwoyzQk5nLaz9uK3xq//FIDBgOCILkt72kVHPt4skU3fQKf\n",
       "jiDhixlhgSbKl8cK9TK+iRMCXXJB30rYsNNY9AMWliB48BDUL1MB9fYpIJunS/qnr/7Pvtxrrqbi\n",
       "YjKyGaY/XBYKncHygeUB/Jgn/ui4sUkEoD9ZijaxePfSy1JCEV5b4YUA8Vq46SwAC0wV+uNagxFh\n",
       "sEW6cc3PljgkcESUGkF351Uj9Hk+DpiY5nUFhGxouzOsFmbQfTI19kk3FAAAUzshAAABqkGaIWxD\n",
       "v/6plgCl6dpYBqebf/MW/KKV+udkPb+1nOc2Gr+W07V1LJqyhr/py7il17ywdC39J9QeKBIDwGJE\n",
       "UlP+0mWNGiDBCev8G0yDnfKa62pbKIy0P+eR9JgH443rli5KMwd7M1FPtXRsvIOqK1xHr3qPnMwQ\n",
       "9CDAyR2epVuosjMxhIls1EC/IH1Es9aPaixAT9sFe1kdvKBeSacLEvXAKfxvGC7Pq1P3Ir0RUbwY\n",
       "RvpBlc+wrzCITxL3Rqz+24+sYOFIo24xUOgXes/gtKnXJjLGrviqFT0P7DbpRXvi6WCXaJ1xJmOR\n",
       "u+l7tFVBuWLcYfjKoIUEePheOHUH+GHH8VJZ9wIDICvJQ1+lxtv8Fvb4M6McDPWwkhYjAw6MbsRc\n",
       "Hb4x02nhrt8rYCXOFx35oC9Q6rYwjbw8zXaFAkYR033i+Oe2JUkqWGYm7Wtb7v2seP8VbYB6sDsq\n",
       "bTommmvr1bwQdLxslU4G77sSShBAD3FOktzy03UyUvh6jy8M8ai7iBDe29vVKJY/AXsRV2ZdyvYg\n",
       "v9v9pOt43Iq2kpA8hQtnZMOKYVGgqAAAAHxBmkQ8IZMphDv//qmWACyhNE9wA/hxqMq5atoQekjS\n",
       "7kix00sm/icdewgcsaIYofP1zF29ukcd0I5/dvcNgKsobVJkQUzHIAbIUQmahi1IolsvOodwEMFB\n",
       "4C3YaFNoyXIeOjjIJMQu1aWdlFPC3AzjO0ts4W2AkxZGfxq5AAAAvEGeYmpTwv8ANMGAi7BGIrf1\n",
       "XRanbjSrM8/W+28H94a2866ujqG2fOe5v2eTSB2Fzv4hwAtMgJzpuhCeiEbcN+0P+20+L09CncNy\n",
       "aW5/SC+B6BGY91thZZRBlbyrP+Y2lnufSAxnZ9EUUMCRLQmmpAd4u3Qsb2wScKXbbmnnzijIXOj+\n",
       "q2bxi8jXbpMR34ryxP6mb4eo/Y86tt3XFsWujMJfy9/yiK38OEv+hJRFvA7iiYjQP0p2zZgT1syg\n",
       "AAAAVQGeg2pCvwBFlNv3N3F/au5pJ5WseJq/27Ou0FFhbDdYgBabBCUExWE9Kfc1NnbN2BO7LD+D\n",
       "vHdPjl+EbfGP6MSDHNRaVutfE/v5Mlgg7+trDKc1pWEAAABZQZqISahBaJlMCG///qeEAFa94S3f\n",
       "xdlf6LNSliJDlpzW60Xrcr8Cp4bRySwDKWp76K27k+WPd2Ak3z5okLFdusYog2wvbUFl9Mm/b9E9\n",
       "kVtZNDpKwjPC6uEAAABeQZ6mRREsM/8AJrhEhutsq9TJUHHQAaqFjULbgRmbXDSFSWFtydIHI2C/\n",
       "4ftrbLcN6yZ1TA2mrLcyvuKdXQU9hMNeO5+zyCwGFdwq8Q2ldc6tWBpruGu4wSScliD0kQAAAL8B\n",
       "nsV0Qr8AR3wZ4O0cBU91F3bKzWUs2z/EliqIsWh7Rx3jO45/I5g6tLHI5eNAB5RAXHnPw5pBDWkp\n",
       "P5WvxW11pHt4SbawAFjBpTU53JVh72aeQROZLuQ6OqZysV7XmzGZg8KHONAXfV/RHAvYSMjhEH3I\n",
       "gQN9CLea1TNyVbmWhoDbl7BCBftY/0HpO2Z9RKdjNk6IWdLDDx0Gns/JFbOAHsNJteQdocA7/Jkk\n",
       "S3PIsM1bU1pL4SUcnyHO0DWmgQAAAEkBnsdqQr8AR2QnI/JN2vuLqavsv+bdQlh3jPdpoqIJXAEY\n",
       "WMz3zyNXK2xSTxGTzE7KkjxGRtofyaMIK/YxVAMQinPRyBEmEPowAAAARUGayUmoQWyZTAh3//6p\n",
       "lgArqw2vTs/CbqK0owQrUTgOIw6I2pv0Mbe/KYWc1c6oZLiADjFOJ64IUAYz8eQio0Dnf99PaAAA\n",
       "AFFBmutJ4QpSZTBRUsO//qmWACyi4gNFxN6h5lcxGQBJHHpUnxiPh2MKlFe3vQfs6i4npo3wcWK2\n",
       "6oaJPzhuD3aeBus0McHJecN+3rY6jHt/gGEAAADAAZ8KakK/AEd13QvEgKM3wPbKzWUst0ME1e6i\n",
       "LFoe0dRONjcD4UP0SL1pGlGgA8ogLjzn4c0ghrSUn8+Hfza60uwNRHgABt+4NAKoSrD3s08gicyX\n",
       "ch0dUzlYr2vNmMzBzN/rnxoaf1k7+fMOHVmOun0vznED0KlzcmV77qsWTR6Mh9WMK175r1MMMsIf\n",
       "b4MymDGiyaFY9sL1wzfPSQ28yaRkOXYLmfXc6AnSamzgCOXsa0wPdixLuQl9NAAqN2qYAAAAQ0Gb\n",
       "DknhDomUwId//qmWACyhNJUsAYj6ajJ39htwcqpI7csunZMov9x1+IYMDSGE+7T0FPkjmxVRtHtD\n",
       "KloFJ2GdaVYAAACcQZ8sRRU8L/8ANMGAjS9dOy5KVP9rEJhoyfPcSSt9TuYIAWxGWqshLHPWSDWO\n",
       "Cfw0I4qS6cOHJTL2WrugwOIf/9PPE243XWNPA47dz93zj8C0A2872sxhdl9otsp1ZJwGWU+VC5/e\n",
       "itRTf4RDJMqqnXWb71yMiQfxPIlw8/WAo44CV0C0OC6ltlzP3Ll8rekEdnm1iRfUcFWoJJDBAAAA\n",
       "SwGfTWpCvwBFlkkGZn8ZnxAA/BYeoPsAKYgw4NhBf77AAV4jZ1Uwdahm3kmtZvj8tOTiI+u/UYxr\n",
       "HziPHragYcv/+Z+m7DSdm2324QAAAGpBm1BJqEFomUwU8O/+qZYALKLhS0tInEAH1zAz7qgFT3IS\n",
       "Cp71b0CNM8iyWa1qaNQkv2K2P1U6Vem/cj557u3+27Mk7ztLXH/OP5UJtSI6ycxOHfGJR7SOEY3S\n",
       "Sz5MNlW/8KznmWK7xxIXAAAAwAGfb2pCvwBHdd0MYGZ5jR7tHrnQgrRgng86BSAArzdhc2OgKugr\n",
       "KizdeOCYPkitlbQn5qhrSUxtdVKPDRdzsGDcVOKfE/b3pjivGMUH8jfKNSrLcFrsWKZhPUqOc/Ay\n",
       "fODm2bYlnPOkiPS4O5vSY+fDEfpsqbpCfMAsfS5DIXl44msPIrC99ZZzTSbUuNEYztlwu5z/wc/P\n",
       "ME3TWq8itMtujwY6ZsinwdsIMypNO19/oY/VWBUUIYTzoMUAYPwnTQAAAHFBm3NJ4QpSZTAhv/6n\n",
       "hABYgTM+lIoxqUVnyD+DdL7JHJtQCE+fH8c5qQaJj6f9t/SixTaCSp+83ExLIqzl9QJrTWNHAavu\n",
       "EKapZjcbqyKtAye87N1spFt+0fr0lKftQpWJPH22Fe+NsCKzuhVZdQ00gAAAAJ9Bn5FFNEwv/wA0\n",
       "wYCNL107LkpU/2si+Atc8dP97WAE0ypiT0YJL2/VQPGXwTiI1yxL32RYv2lXMKokT7uniCQD+JU8\n",
       "E74tmW9Qu2MsnLWdObfSEabEdezVRv0xz2e7WHTRAUKA0q+MMQQ2ABgVqnANYdDdqNBz/pUw/+b6\n",
       "zqwAhqj48IWN4IH40BUdEBo37md9pDt9aZLwyaN4ViP4doEAAABXAZ+yakK/AEWWSQZmfxmfEAD8\n",
       "azbF1062YATmMVCx9/LqY14KOFrpGQChGAbjAmVCFv49e/si4KD7XtMlexdgN+WxqmRoiUkzbaJc\n",
       "Tq9KkwDX+fD2cUAEAAAAvkGbtEmoQWiZTAhv//6nhABWveEt4KmBHOzu2AS3x3GFdmJB9W+7eB9d\n",
       "u6fK0ZBB09Mfg3jsBcU/Rd4gf/W+iuvJ2pjHIAlY5Hl0SkZeTSsX5gJELSkhoysev5ZZQbA8ZcBb\n",
       "KHfsXWsbe7qzNzCkxnk1FUfbBKqQX97kLDW/l/9e5hdXMWG0bR0fMuLunWXqOAA/FFUhrMk4sJ0g\n",
       "IM18cQL4xULXl4qO7re4MwptQlbJM6c23UTdniukMbIt7M0AAACWQZvWSeEKUmUwURLDf/6nhAAs\n",
       "O0tQCaVrNezWLyhH8lTznJfhNr3cRB9CJV3oJEls+X0BH1+hQZzEGaiq2YvOxpEFtHalIyF3i+j8\n",
       "R7Ko+Vb2fP8cTOdax6iW0bFePNtjz/LVPtgkbphMM3mcprGS1Qr0X3B4w16H0vctogJfbIB+i9Pr\n",
       "LMnPeTsvEu7FXod81P1dSkKRAAAAwQGf9WpCvwBHoD0AH7hRoeyuxoz/mzHZSGu+o0FMh2MaUFwU\n",
       "9QyPKuVLAFnhca/O3d2YovpY/SuRFbKSCTGoWLcbV8/THKeF35d22M+cQKk+uzMMwq0PbVY6Mehd\n",
       "hyGWTQ9ePdi3/Q/EsC7RMkLw+xUR7qUMsfhp/LbJjOpTt0pL47e6QxhBp4MSo6cz0Lh0LzehBGUn\n",
       "7qaWg1ImwahITgn1Y9U3/63afxY4rY6n5+cNA/YodYHgKgNSXAvZ5mgK3cAAAABSQZv3SeEOiZTA\n",
       "h3/+qZYAFlaxs9Mx5gOsgxk99AB71gb4o8cS/bNNd+3s1U5bj9M/Yf5r/crCdUX7+tr9ztrSTv/g\n",
       "hyVAoeDXlGzsB+TlppAz2QAAAJ1BmhlJ4Q8mUwUVPDf//qeEACxCFsLeMoAplRd82wAgBAjdR+qE\n",
       "44Sm3KH7nMLo0UoI4BE5ooZ8ikWz901OHAsDUnb+Yeyh4PHmHtGGXdP0zEkSIauC2GW6Czeu3jGw\n",
       "NzCWGC0RF2JWT0B5nK9DwDpKAgCMaz4CFdwnwQjLOeVlixHdRe4NM9SXVZKeuCQKHreTX7hAa3gH\n",
       "zD6+1qZpAAAAcwGeOGpCvwAjPlzWJAAlgG9r92O57ZT75JszWkIxH9zQpXyYfSooxREh3jTf6NVJ\n",
       "nLbGIxJ0TPVvoi5Uq3NMLH9KYiV8QxjcKtiFtl7LG6kglEO1Whrsi+61wtzM6y7dbVQ0J2Jorhon\n",
       "X5JF5k1Z0XPzEWAAAAB2QZo7SeEPJlMFPDf//qeEACsaoABFZg6PRyWSdtQONffcl8WMx9/rkutP\n",
       "M/MbiN4JRbBvidLFoFQakyxV3HCE5myB4iRlFYG9MfhNnOIf5nTdPj4ze2Xe7tJIrRvL5GeDL3l4\n",
       "Od/c9R9jNhVt4KJVPss6i5TrywAAAM0BnlpqQr8AR6A9AB+4UaHsrsaM/5sx2UhrvqNBTIdvByxD\n",
       "LCZdvo9HUCigd+L4IEaWI9+idF27MpDHoSduz3A1Sx+lcyjIlSO00vDt3POZ5y0NIBwJZ9Is3NJe\n",
       "P6oVwzrexoRFG7lgEZjUhyHwKoPTd60RwiJyD9/xDS7SJ7TK4G/0ynF4rke8XfpfKOOgBFKtXX3w\n",
       "E0okdW4wrF5R37VWISRQKguvxzxGzdqT6DRYGw+vILWlHUnqdDftFP4VB5k+N4WbVZv02GvgRMtA\n",
       "AAAAoEGaXEnhDyZTAh3//qmWABZYwhYoABe0sWenyhjGC7rphT+pKAMn1HpUodIpDZ5dFHjX4CqU\n",
       "eEjtHHhq6MaTcUklM4059MaiFBqi0qbeHVgbzNNj9HIjWpftkjC2y76KK7BdFl8Vpdl+lcneHHRp\n",
       "3jx4Aoe/AUDMPndOk+T9+llPFNYJ8L+4SJhyNg7pQB7361uz6YkI+qWlaX8ClnBHU0sAAABqQZp+\n",
       "SeEPJlMFETw3//6nhAAsQJn3BeLMyNLVYl+yh+yfW4964HCiyOArvc6pwv8GSMxgAvZEzv0yMfUJ\n",
       "oVmd6taCd2l2kfHs1lJOVGst/8Hs86GplVaWmxdkJEaUp22Q8xmowU4jav8WDwAAAHoBnp1qQr8A\n",
       "Iz5P2JAAlF0a6R/QdfBN1Vg65A5jRY43ON/p4lBXh/3h11dkRoPiq0td5Ul+QR8y85SiErQOUROx\n",
       "iNAoOYb4iYyEHPI/vc7PJpmysYy349XQVIOyZLuR13gvYWf9coXxD0Y8ZIg1RyBdgHCUqSkrERm1\n",
       "YAAAAG5BmoBJ4Q8mUwU8N//+p4QAKyIV+lqYa5GPiCd5VWt9ND6jAAbQGMADI29SVSTmcnVToVlO\n",
       "ouHBCXQRWE68QtLBeQjIo/YJQYRZWRSyINCr6g92lqSMdemqiDs7z4fHUvgiRl+7Ng1aKu9dce/+\n",
       "QwAAAMUBnr9qQr8AR6A9AB+4MYKYy6LP+bMdlIa76jQUyHYxpQXBT1DI7/1s8Jca6FfzpOLuzFF9\n",
       "LH6V0MwtM8BCksWy6sYrfpkuz5a0ao6zdAThjdg+vF8gQqYtID/ztvYKXPGzqjEkW6RkqqB0Op2u\n",
       "2fz8rJGkMJjMA+jaI2heqXgIdkKBwSQkGwvhLT7tt7chKOqSXWgzZ4u0VyX4y0qqk7CWJEzod/HC\n",
       "3wf1U5+4iNoKxOmi3F68pDF4Hg7rBf/rpa92iG3mcQAAAJhBmqFJ4Q8mUwId//6plgAWWMIWKAAe\n",
       "5rjMK1blDsdfiJem3yNXe4du7qfWTFGLo2k4Zx+D1jO55awzblz+BuqJUq+3YtgKgozu7/Lse1iJ\n",
       "eMSY07rhj0W56ASbV25Sz+61X+A2TnfrqVYFhnFLOQvymghKdY8o6nOsA03SlnkYrbCiHXS91d0S\n",
       "8FTLI5ImLzH4A6WmNi1KkAAAAJpBmsNJ4Q8mUwURPDf//qeEACxAmfcF4szI00f010RMaaK5/EJm\n",
       "kgABfXfOfTGEwyTnIAsS0wyN6ekhYN/QAC6Iw1ub7r3G1apb3JuBRQJGWJnB+qFSq0sD4lvR+0lZ\n",
       "FMT/ydkM2KTgpMVxDlr1zv9EaQpFORJ8ZvR3AwaegBbBHeKV8X9npdje8y8CEPv/6xEr+9+GZ8T8\n",
       "C0rBAAAAhgGe4mpCvwAjPo2+4APG3mD05gYFjdcjsF6ad+ddP9aysn1B95PsJ+HyiQ2pDcOjJjMc\n",
       "kTDzDOtukuEfVdcwxIGk5rO1zv9b6BzaVYUKS5Ohw2zF2+BhFACYt7yccM34IsJGR1Q3bZRg3Jsd\n",
       "Cnls4lC2hsYnrwgeSWH9pchljn23i0QkssfAAAAAa0Ga5UnhDyZTBTw3//6nhAAWH1aw6P+ECUYA\n",
       "C+axn/KN4bRMUtiFqpnFzcEvI0Dq1kc4Ge20nHT8oCpPx5A2cMspTYeItei2b376UXvZ9CchSd4w\n",
       "kNJPuWp+yboDuCyf85EvLkvQeUg8n1ndAAAAygGfBGpCvwBGpVGSM0yYAP3PRoGeN6gSyZNGikEH\n",
       "u1GZ43ltThH4NeYg6kgwDehVKmHdBH4AwlXaB3BbPH3qE+1nt9aBXjsWTAGggn6sCvmpmyDi6gO8\n",
       "XStl3kpgksSEj6vQkQrsBKsf57/RJsgBbzCp7QKtdwuxr0oVpHEkHvIaXNV2eJSlyBtf5bVp+wYF\n",
       "aPApToINp5v0IJUZRlhqWtNmX1QSEilo/BtyqpF806lNnA07OC3lW8RURLheWhTne1KGkoQhuWXB\n",
       "UsEAAACtQZsGSeEPJlMCHf/+qZYAFlFwpcKIv4JAsQJ8QAZP4yCFB0wkt3gupHC1JwRaLhsjI1Z6\n",
       "IiRclFS+YrsgjJ3GESY80/RBKqE6+BQ7NS4PePWqZPLGi6NJ26lpxoClpMzfwDlBwCyR9W38sTiJ\n",
       "NE5bvzWs3TrU3hDWE4YkqiymDk2/UrM7NWUB8wH+jpMMviZUAVygRa/bmqM+0RUiPm7k1ELJQqHk\n",
       "KMEs+h/Rik0AAABxQZsoSeEPJlMFETw7//6plgAWUJonuAUTVGSMnf2GyTmVUt9QZI3E29lHJ+5o\n",
       "JhXD5VDSwBr+1vSXfQrQIfTgD/ihgcX5ZgzKM8Q4NHhobZUoPxfSNlOtlhBdSqMigV1eVFhOu+KB\n",
       "bCqzHhNWQ/8/nuEAAACaAZ9HakK/ACM+jb7gA8beYPTl/0G/BEnTuK69d1wUW/yX+HemY5X3SdoR\n",
       "wzJohB/jh48g2mElYm9FwUURyrLxRQ5t5zv2il+3yl9wGdDdHhSdb1rHnoIGwIDxZ0kDmJqaWFWA\n",
       "mvg02T72enLXX+tLJs9mEslnNNJ9TxkVhocFhbWtdaUFAYuCDf+e6BUYRAStRoNbAAAvpOC+dgAA\n",
       "AG9Bm0pJ4Q8mUwU8O//+qZYAFcFwpaWppgbPUAArzfO/eqbuL2yQvEtW91k7o18XrGhG/+pcMgmk\n",
       "Gno7+5H/QKubOiHTvcltiidtUkj5mp9bv8ElL6Xa1n7w2gMi0x/J7hmvcZK+OScMGxHxgI9x83QA\n",
       "AADbAZ9pakK/AEalUZIzTJgA/c9GgZ43qBLJk0aKQQe7UZnjeW1OEfg15iDqSDAN6FUqYd0EfgDC\n",
       "VdoHcFs8feoT7We3/EFeOxZL/h87sztKNxA+48VHvGZ59fZCL5m2dBkbwErliGYI3y4rPJ0FC5Pz\n",
       "CfIIFd2OfrS4VpFJGBhVDgO5OCEWaOPfZJodXR5uCnw/8bcFBC36Etp0uWPwsQb4fBXGVzbrZWzc\n",
       "HPbfSxH3vYdZdXfCh86j72d7m96ByJfw8YgYFaIW+82pbLplNNYWM/xq6CoYKRJr0ItpAAAAhkGb\n",
       "bEnhDyZTBTw3//6nhAAsQhX5x/PC8Hpxn8P9GxwAmr3mALX3Zb+554Ozu8UOQGweDpaesgQhBnlb\n",
       "0SukgdixUmK6PxW5pSUICj5I0EC55xuqAbhY3mSnRINVPMTcjToxF7MTIPSikJXR5FCdsH5fft7X\n",
       "kfz2UoAUsmxp8CMoKF1moBqQAAAAkAGfi2pCvwAjoKtG2ADxt5g9OYFgH+KKn4KmchVbAobP3f5v\n",
       "9YMvXw2Qu5X3z3dtydvWWEpvAHaUqO34f6CzGEtoDCM6jWftlUNg5us69cadwUSVDqQ+z5ay0LoI\n",
       "q/QDT6yp+gMkFHL3+m/5iVMDsMM3Ggnu85nuhJYJA5ZbWXq7Fq2mUOAhDBKvXiI79z2PcAAAAIlB\n",
       "m41J4Q8mUwId//6plgAWUJndkQ+eeCEIMk7AArlKcANb8Ltnr/z8s4Xklkq/C883m+0bVMcrNO//\n",
       "a8g2cfT0ooVHnD3VPzZ3U7wbkhn9/eoG2ALO7mDB0i/V0joxpGYC6nad/UmmtAmUpI5HQCCRZkTW\n",
       "BYSaysnQrjSA76uLq+oi9GTnBDmlYQAAAHNBm69J4Q8mUwURPDv//qmWABXBcKXE/AU2iHr+rFzp\n",
       "9n/CTLDgBLV0AvfIeB6lYuS+XW0sSA0uCdSHmU39K9Qt69zSUB1/FCAqfEOZLuO+K4m/Zv3DMnvD\n",
       "bpJnNPmvjsSc5TuedfW1ycdNMfbTjIFJpW97AAAA7gGfzmpCvwBGpVGSM0yYAP3PRoGeN6gSyZNG\n",
       "ikEHu1GZ43ltThH4NeYg6kgwDehVKmHdBH4AwlXaB3BbPH3qE+0/JDBOPP1990BW+f7vrA5MQZG2\n",
       "+PyiBKyH45KGis6eCUgm7ZYPA7CK6BMi5lUsqChpckaoxQXDp6+A9X5SLjurvQN5OcY6liRzcMUi\n",
       "nVmjwYKgIWYEAA0VAjjJpFo5bmRaQKNsL/mif+LvGR8SiooCgkNHFRMXf5sTEhOFLcrAthWdsCj4\n",
       "8Nxt/ArVDcGmvESGw4ByUDp9TzZIzMaD3BuKCpSvbtfg5asC5/fkrpkAAACPQZvSSeEPJlMCHf/+\n",
       "qZYAFb30IDEWcIn+MslLBLGp+1orGry9SUEOf2pG7TKUjdOlv4HcuXIYeV/PAyziaWepwn0l8od1\n",
       "DFA9h1Bts2rN8Btq64J8JOGaTPymdUtfmJiVoYe9MlCVGg3isJyuHnABXz8Fi4BugBCKV+ku3Asn\n",
       "uCI1HBu+84x3fshEqL9DziMAAACrQZ/wRRE8L/8AGnh3IAS3+5PpXu8pSeuL+lqZ3V4kook/VXXv\n",
       "Lx/yFCY7Noc44Hjd3CkW+meFJlz30b+gupm2+QE1/7Q0Y8nqh7/MhVyikFD0OSg7jwLToc+2B3oW\n",
       "TZspXbimOgIRTJr9zb4O0CWPuogGjX51LWSasoAeKZNeEQabZIppc5pFBMpxwISJ5KoYF50e/GAm\n",
       "JeeDL5abHmXvFcollsmH5RIlobbsAAAAeQGeEWpCvwBFZIeNpwxoZU+4AWKym41C8yMrNxx//aE1\n",
       "j8I0B3Fo3VB76efbZoYVObo+65rppbZ+BLTsqiMXMOwTC9ql0A+WRLZ2KUB2xIMv5SwUDGroaRHj\n",
       "PQVAAeG46Oo3I1gltaNI49D6jD+xvUQyNpyRDh+Yto0AAABzQZoUSahBaJlMFPDf/qeEACsiGYvd\n",
       "e7bfiyZpv4AQ498HBTEyOS+sFNBkUU/zHkrw5SEAPAkHrQvCWv/F7Jy9zow/cxi7L9MPCxnLIFly\n",
       "KkBV+Ee0jl8AhI9f5uzz+fCgiqIksQMWgR3l3ZWCOaGIuBdNjgAAANsBnjNqQr8ARqVRkjNMmAD9\n",
       "z0aBnjeoEsmTRopBB7tRmeN5bU4R+DXmIOpIMA3oVSph3QR+AMJV2gdwWzx96hPtXBem969Ziyqo\n",
       "eTZGHJg6J7rrMwzknQAa3hcR8t3sMHgn//0mNurRedY+fsQSxoqOI/nsG6UTwlFBY6mJFa3VL5ns\n",
       "N8yffV/dn1jKlvV3aaGRx4LfayEZ08e3xB4wHhySs8fH+cvTcCdb4h5z9w8AzXIqVqgrswkx9Qo1\n",
       "jpzX4Ukx2MGR8Ny6qfzryvcN+nFSMItdWP7Nekp08YAAAADJQZo2SeEKUmUwUsN//qeEACw7++AB\n",
       "2Z/5gNEEhXMyDCROCZwyH6Mto71/Qoy5dOQ/SltaKGdJrzqhco9bBtgy+ifi/RfaF61XUPzA+1zo\n",
       "zQOWUPU1GlC7I9QdvV6pcx/hw6NbNsrqa020qwuRBbQunlPoYLqXRMmq77MKCG1eLySmmzoa39rx\n",
       "npwG58BWC1co9RWiNhhU53Qd7FwjS3UobG/M5kCWISqv2kejFcR2XHT3aO0eR2CjvQEW8pBUPItU\n",
       "FCVlMet2ztVhAAAAewGeVWpCvwAjoKhL6YAPG3lsk5prpa/AXdPShESrjwRirYWIGbS/u/D3JGHf\n",
       "dt8U8WmWMGvdnNyIP9cMB51wN4XvSATEYp5yQzml0W1ReYqkdDhk9yitea6Yocu5kpKbrUBnB8Lb\n",
       "axEirCMvtH2PeWazBb54zBsmyCl63wAAAJxBmldJ4Q6JlMCHf/6plgAWWMIXfMOIASKNAkg6acYn\n",
       "qKT3N3ZnHbbjl+laOCN/DCK+lGOFIEKL/9QZFJCfYDs6tZGhQ8qbqpS/YQ8pag5aDYr4hGrhyhyJ\n",
       "ZnIJZw1fjiXo9bR2xx51gqto7X830OcR5ZyJLyesMLZalKiYkKmR5U30hxKOjoHwHk/xETM6V3nN\n",
       "prBgqEqA9epUHLEAAAB1QZp5SeEPJlMFFTw3//6nhAAsQhX6U5RY17ZqwOsp6mlA7RBRnzc+nUE/\n",
       "2ShiKZQPxhgnQWAB2lyKbBXVXyZHMk5VaoGFA+w1WHeNoZVFO/Eu9V345FnMRxSSuX+5mL5IAQiW\n",
       "6tCtc7/Zq6Xe+jq1FTQRUi/rAAAAvwGemGpCvwBHoD0AH7gxgpjLos/5sx2UhrvqNBTIdjGlBcFP\n",
       "UMjugbixd6WcT86Ti7sxRfSx+lcd966WJMNshAe6sCXM8/+1g5+2VQcyScl52VXE9P8tuA0dXVNn\n",
       "eEwUqnvW151YF7S58wHjwg1PdDCuwIXJVuy3MomhX3AXsGw94GcwSd1Nk/iE1z/PQX78+0jtmSZv\n",
       "eVPvjKKYA3DUFZA2R0YuslW/Bb3y1Mw7S9Zpu1u9/T6iZvs1j6CGxT7AAAAA+kGamknhDyZTAh3/\n",
       "/qmWABZOeVgBLavsnzXVt/c//n8duMZ6QkhyNetS93kz7+X75ZctE/Nzd2Tn4jQ4DyNi+9/vxpB4\n",
       "tVfq9gS03rm5sOhLVrDYEArXklOOQk1lFF6z082xTP4nghDlC1m/4YLlgOUD275I1inXqlnhzcpw\n",
       "WmaFTQAEoGs9viEN4g2jppbSYsblQt1XCcuhGSgE3o/M6Gp/2+fetaerNICaPRVw6KxMD3oanKrX\n",
       "p/LxsJjO3m1nmFWUXJhVkqaYIoCaICvqz24rckNDIv+fGS9XbiIlE+w3qCV5MOvp+uB62DxZaSje\n",
       "eJQXEcHk71fKnrEAAACaQZq9SeEPJlMCG//+p4QAWHzy1nCvt1C6N60Q3slLwAtpCMy9X11LZuk6\n",
       "aI6Lty3uZ0PTlk6fs0PhX7vFDjadBMGemFvty9A6lRCqV6qReqFsobFFFZ8s5OQEa8oVBjQKFFgA\n",
       "kHReSCcsQ8zyYT8CQiaFOASVVGQ8b3iF0jjROiNcl7HhOtFWfle5iG2cMRqLkpgf3Nt9BMBrWAAA\n",
       "AIpBnttFETwv/wA0ymQ0b3/kqSNgAnHqyy3ZzbHO9ucp7qMI2LA5DuGQDdleapfjsN20hZIXQ44G\n",
       "MNakZVOHCwLak0eXzCPJNAIhGuMXrlPNgpst2yBa3TL0DoCSzTRjXJmIOYoTkcyLD/hij10cFq/9\n",
       "2bcE3j65UqsK3JHWzBqUA+uYb/cPQVUBtGEAAABOAZ78akK/AEd13KjGpAJWvSx/97ADRCmxgQ5k\n",
       "5CsT+2ZTemj4xotdDzmCdhO/YBxGSDM6MsqjWd+aWgJOF+RopzPDYP+vrL58TDxV7EwhAAAA4UGa\n",
       "/kmoQWiZTAhv//6nhABYhDMZRYz+FjvyPSPxADQ0LgBiZwUl1+INfjFaChInDrXJMFGhAyQs0Nym\n",
       "qfuj3kCkErrh7Y1rklzhirN36Zzms51HWqP6Ie+TWGveMMJerysTh1lq08LJT4UW4C9wVwOoFZ+H\n",
       "nJm4UKQybugl6YozpCm1NXSv3ihODewF8izFzhdcBWSYF0QBD+7Orx3wy+PEWKdEXW8BSAXHdshg\n",
       "ienY9Mh+VRIlcu4mWk3KoV1/TvV2JBSWlNDjU36XPZPHITlakgTl0GZgHObzSRNZIvSqqgAAAMFB\n",
       "mwBJ4QpSZTBREsN//qeEACw7S1ACyPcH4QA1BEW//n8f7bGj1qLyVGI0WFppIoua0alZMs2SAJwC\n",
       "ibYApO2c9tjkJvYynhbO2IaLCr3rihCK6vUYi18NtI4htB10EqDiLOhIFufrRdwR9gHeT39dsBoH\n",
       "l8yNcEcc31GmsLp5aQcnsR+Ge/7qZqmiUNXbiEf8LWTO6eGgj7tKvR7wsf0MtYDYpROgWGEhflhZ\n",
       "cbhCn++X044ANwPKTnTRBAEDQeWAAAAAgAGfP2pCvwBEpV8DiWPAC0Vybf6Ig/UbXn6vom3vcwki\n",
       "YEmeQXU5HT5rDZ2sHee7GYpC7yfYIQbSVDdhmMx1pvmzNE/Y2lSnrf8GVEoHUoef1LnUdV50DTr6\n",
       "Ep0xbq5/yoOZdYSowmLZGz0qgryE0NWOH0AZ924aiIK0IXOFZtyxAAAAe0GbIknhDomUwUTDf/6n\n",
       "hABYhCvzj+eFrR79mn8Z60bABy2tVRspz0B+e3QFYpZ1zoqQ58vdxSYOJtzcPox4azpQYRZEHPtl\n",
       "CKfS5dfwEIglE4ygM8WoLYsk47/eBa/IIUmfcMb6YDX+ThO2zoLXoll3r0IxN4+dGRIsgAAAAIEB\n",
       "n0FqQr8AR3XcqMaQmbBPkggBbI0k0DMjKzFV2/tCadHiGdw28r6Lm9LU0D5bv5F+49EAY018F9DR\n",
       "47YAzJC+2rXOl0T0QfVYmBHgZx4zy0VXp+469H1am/Fv+AwzYrIfHJHkaW+9JZzWx5CSBZRWnTao\n",
       "2Iv3Ji56991o4yMb4hkAAABmQZtDSeEPJlMCG//+p4QAWIFCMosZ/IyIyDH45rhtqbKTABh+8yIw\n",
       "2i4dmDzfH77k42ThqtL/iPrjaNMyPObD5KsM82PFy3/mOcGzKePVONuRskjeDYk5rAbvHxMU7EIi\n",
       "ZYr/GyVVAAAAq0GbZEnhDyZTAhv//qeEAFY1QACKzB0ejksk7agca++64W+L7S2XcT6kc3ytB8z+\n",
       "Zp4hQXnfR3mG0m/4IwcqQL8PQMGd3F4PME4f0ss9B7nTAc8jwXViEoA5exeGszPGSRs74qelEpIn\n",
       "vyvbIttc1A8Gq4cnKckyUPjgiJ7C/6OhE6PyS8a1ehE7GsYHEsr/VYD1xLYxFXtjviV10/KSvqsR\n",
       "GOyLY+3+emqcsQAAANhBm4VJ4Q8mUwIb//6nhABWveEt4KlTKBAA3BoXG3tuyEJ0+FrglkmtscI7\n",
       "GFeMB1LKePknCQUrYuIrn8bUnKvDk7wApmeLMxqnVdTUXVovJl95FRiLYiEGloL0ZuCXBZVesW8N\n",
       "OUVMu0CQ6iSutdctQRpF/PRj/M0N0nCZI/PjuQyvTY/VijgWNR+r/uZvPZ8XYMDf8YnsOjsBG296\n",
       "NtWSm6mfQtCDNeLBqH388sB+zgHxCaPqAzBuIN/E004AtZaAXYu9SPVML7RZT9mdyURHhOfwt4L4\n",
       "4zkAAADPQZunSeEPJlMFETw3//6nhABY9+yeGhs4ARiJxWIQ5VBWltjRLOjubtuUnY0GW8Z/EH+y\n",
       "1znVUJ3D/Kbwqw6QMjOfUYKFPJsrCFMIWWpRx27vP0tj2+1wqAl0o0/YCNyMu4j7sY5MPdrdsXAS\n",
       "PLr1jFmezcJZE3knp0XMrVbbypetU7x1+62HN3Q4MZoiP5Tf2bdF15SG1axp2UWC1IJVpkHSCD+Y\n",
       "mwk2OjmKM3JWzsLbHN38R1P4LPvxXEqzvi9EXlmehlEJr8XmnJo53dCxAAAAbwGfxmpCvwBHddyo\n",
       "xpCYc8wdAgBpYcZDhqDt5JGXt0mgtQyTk+jUV/+CQ8MMNBMvGAK30a5xZ6bZkkCW6cpA9gCRyLiH\n",
       "4TbsXqlNso+1NP54L+vmi04aFwaQ5C4ux4iB8A9C0UzcWhGEx9dth1hJGQAAAOFBm8hJ4Q8mUwId\n",
       "//6plgAsoTqdoG6xbk1RuLeoAr9jNwfQOdfL0VG53bfCRHyspwZW84b2HBI8FK5vxQXbTlgMuHgL\n",
       "Ey99npSncgC8OCfpG+i5QWqxNCHjNidOpXgUnh43NEAkkIUd5kFx2vOeBT9O6EMBQaviQXxBzCm7\n",
       "GymjKUDlRSQCR7yXZ1nN/6qLVrToxcVBM0d7C8jybhq2UyjCvUW+5H6B3dVIZ7MWHKp0OrWqbFIc\n",
       "7VuP4BF5qk1ge83njwAZ96jcfe7ybtfV6UH8rrQ1DjWUbXHpUVldnAUdVUAAAAESQZvpSeEPJlMC\n",
       "Hf/+qZYALNwp7G+gNAEeINK3vdtIK2GO9BpHrUr5HC5GvZHaLc5JCOuwYwUAADKcPhCshsGbcpM9\n",
       "yugZc/w21KJYXQTeTySUwZuy1tQ6MsYJwLdF8iopCA3q300KxnO/jlwo9WqR1RCOwJdwYC5f1+iB\n",
       "Og+TlcKiG/GtylFw1K4Uw/GhMU/2avEGdZxfqVY2DAt50waXB+jyirdyjcRnEKM4eFBwv61xRAqW\n",
       "tAaUaTpAZMB5LtPVC9xmx5NE04/bXaBOwqS9WdaZbgdLLDLMcgHVpfdtThxTx89WBV2G7wn4MtUw\n",
       "jJcrSKQgM1EJymQaxwjPN6+BdIQied+kr4Q2urbn7/swsREAlAAAALBBmgxJ4Q8mUwId//6plgAs\n",
       "zyvayQA0BgQJzH8UhO78puxe+VWLwPaYCMdzzPnKGb7c+CBHhvXILsWD/oU41pV7bZ+6RDzGPQdJ\n",
       "0OjxufnZ3BwNIbr/iWSKW0783PyDiccpIXI6h6XKmDfoq3L5U9UXzNy3qYJV6K6CpteXc6TRmW0U\n",
       "Dz2lSbVDLJ/20Rm6RG+gooTFQHsqlqzFxXCQ72LyE0ZiJ+O+uUPamB5UPslJrQAAAJZBnipFETwv\n",
       "/wA00RPuUFgtAvqn9u3hJiAAlq2oue4c6/bQJnvXWkqpuu7NKkvS7BmpbsMhJ4gtMu/mUbquolO+\n",
       "44mCi+E0pJ+Tm5BZ+wCG1MDTxKJqH0gMnfusRo5UDexi7dLOZ+iA3vPHCmzbmIoQ0utPsh/qJgz3\n",
       "bHOfu85qLtHbRZBtsLKoVAniZxGoXgjiFHM+vzMAAABuAZ5LakK/AEd13KjGpAJXXX8AHgA31TTz\n",
       "Ep2RnTTdcbdrWLi3l0gSDyjgFkY+1yJLxNi6khlLbbv4W3xxDaxuKJsgMtw80+/OXEj6NTS1gmPs\n",
       "fmW3BADAduvy0EVpy6GEeu5wYr6YgOdNJ2DrBYAAAABzQZpOSahBaJlMFPDv/qmWACk+B5oANsn3\n",
       "0ag+le/z8ZqaGjW5sSLK5w7q2bN0l3iv10SL072lCEzAhlq38XcRjjF5Ckl3fDriIZeoMItG7KBd\n",
       "RlKRkzWE6IV+J2Oh9JeT6L9xfYveVX+YqV/fHsxE52Nv4QAAANEBnm1qQr8AR4Mp8sSqwDpfpU6w\n",
       "gXFZWSmZmotI8l+FgPXmSg/98T1OQNssikpE4ZV2/IAJnusGHzTFanJNm04/HbMV+fJWb9PV84Sj\n",
       "l0ufO0hcXv2TQ+8PZpsjzoUsgOhPQUTOlhIZYNWGYAPouNYcw/Ipc9jw9NXqrISO2DbLofWbJyJk\n",
       "wCvmD6E2oY/0FPpCLdscy9VK8w+VyE+qEOJOoPm/2VOGa0laWdB9SqXBpWFLopEjgRj1QUVADisf\n",
       "95PlFKF9zFOO1cSRnFqxsCgU4QAAAFRBmnFJ4QpSZTAh3/6plgACt9JqgAmr4aYMh2AUWIL44Muc\n",
       "Ng4XucQ9BzJ6/b+Dlb3ImhoKg/ygxrEeTNSXubtjcAilANjiWjQ2nfgsoAAuUpvcD5kAAABvQZ6P\n",
       "RTRML/8ANM4rlUpVH2JT0Xrtq4t85rYFdHcoREkYwAsFFx5stVqUSpIHlP7Vt+XyRJi6ue4Vs86j\n",
       "jKvI7MoDXFWm0s9Lq/gXzpoJNApZ1wk+nzWd25c5+eko9gnQtp1TMzwGXzqiPuY+Ik+sAAAAfwGe\n",
       "sGpCvwBHddyoxpCeDPvs5vA//YtgTkXednGgCHrn54WOFmytdSkdNA1GHE4x3hAv/wJbCG4dFqgG\n",
       "lWAgRDcEZ8k7+po5BUAq8Tv+qkxFyxtTjyoEPcvmk6I7UAVL6X7nxNyMqjgTV+mHXTzukD7zS++d\n",
       "xOyfsQbWPeFSTcAAAABsQZqzSahBaJlMFPDv/qmWABXdl//PJRAADtJQTGklDiVt4WK6mTyYI09+\n",
       "LA3kKbuMtPAXzv5U4npMx9Q/43U5qGKiR6ps6mhTbtyqTYWM1ft5oHOFSxnoVx4tFT+5p8rtI+mJ\n",
       "dJ7goP5dzp+LAAAAzAGe0mpCvwBHgynyxKq2La/Sp1hAuKyslMzNRaR5SrFgPXmSg/98T1OQNpwi\n",
       "mxl/083KACZ7rBh80xWpyTZtOPx2zFfnyVm/Sv2obwpeFv9L/CRl+yaH3h7NNkedClkB0J6CiZ0s\n",
       "JAu8zVEtIBDPdV5QHoZt18pE9IAWKT8EHkVkUcCejEdrnGD/nGyud2Wm811gM1bK+JWUddvkhoiL\n",
       "yHy5etRrDg/+xbreJqeJIPLcb8+DWVQytzK62rSO/d9iBZfRC81PiRhrWMyNQgAAAIxBmtZJ4QpS\n",
       "ZTAhv/6nhABYfWScvOMLpk/mjuGSiHV0QH1K9mUh3qv4h9QBzQn8oQQOzgCG6SRkiNjn17pQgY2M\n",
       "Uf/3vUMydqe8Uf9OBoZDwC+W3rYFKyhwBdU8cYnUIrluRV3c502zCVCwZbojJTJhhiYD73FZOLzu\n",
       "rFLmbCkUOsiWRFX1hHOHt4T6gAAAAJdBnvRFNEwv/wA0ziuVSlUaX9ORjQABbnTlcPYhKiVnAvhq\n",
       "I9XVKAQ6MzXuwYyBJOg/U8rsRVZ2qJm/fLwHatMOYbsEb/0WbD/lYUIfFgtkzRq654rx1PxFu2lt\n",
       "boSaoDKMlNwPzKT8ZRpF9UrYxGdtPKJQkQ3nzoyB/HG6qZ7utdacVSGdAALtNJf0hCNDO/P+iX8x\n",
       "sPWjAAAAYgGfFWpCvwBHddyoxpCYWFkAJH4cdWdjLWnvoBRerz/0fAhKLJacTv5uzxEtWGgBTwkG\n",
       "J6APK2jruD0kBajXYeQ/NMQTaZQCXYBtTBYbAX3LGsdzIfT9tXZdS1cSHF82GHbAAAAAdEGbGEmo\n",
       "QWiZTBTw3/6nhABYfR68IAWc7Bg1l08bRtA+rC/g7sIy4qBFXxva9puf+tosIklfDqKZ/4njREzQ\n",
       "QE/l+RvuX+9dRlhYwxBE0jL3/cZa4zZnl37eaDefKZB815UDAlhhCNRgBXCKs6vJ8iUWQcZxAAAA\n",
       "xAGfN2pCvwBHgynyxKpSgdA/bCgny9YgGnZfQAfCiwYfNMVqck2bTtwXX7EIPdsj50fcnhdcaa7K\n",
       "VZaawD0h8/fu2e3/JajRb2PRu6g9N0BRobwZe+d4LOkfd8XZ1uu0ihhh7mEP3fXf5+suLZuMq3vv\n",
       "5KURTqSPKp4gqFJ+62zFf3rCIzVwDpK5zCIc1vxj8XeVrE9YQXMBjy1pEdd6Ff+CJrHpihTTXJxl\n",
       "/EU4CWxf3U38+4Iez6aT/2NYmaMbjQkaSvcAAACTQZs6SeEKUmUwUsN//qeEAFiEMxlFjXB9Jkee\n",
       "B2BF6DwACFmWXhksk2w0lRoPwXiU5ofQOUuaKMiUqnJ8fugyAy0Egva7bouDa3eTqN2H/8ilcyJR\n",
       "cqso4R1A49jFgx/4cuTXNm9tZGyqHhJdBMmOmA68t+sUxNC0EWqhPasQ1dnrAf6iUH0Xrpice9Dc\n",
       "uSv+jUIYAAAAaAGfWWpCvwBHZCcj8To1aiMAHgUh3JsLXOdJ5IMXy/nXinN/alOydXf/NadmoMx3\n",
       "aDNRxe9Lz4J5VQ3xHN/4a285W6UB9nQBlOgOINbJwf+zNWZHgjMeP/um5jl5ZUyInxc3qXMpDISR\n",
       "AAAAaEGbW0nhDomUwIb//qeEAFY1QACKzB0ejksk7agca+/CQvO3W2TnsU7SM7hLuMJstcmO4BZq\n",
       "PCR/+YU+9SxpSJL8Ef/+wlv40zsDP6xYb4aQiYHZnMgqla2xBtcZUWbhzwDdGf6E0mVgAAAAzkGb\n",
       "fEnhDyZTAhv//qeEAFa94S3gqbETOoAR1rC4ebEMeB5VRUKEjypu91fcTqZmczRa+a/Y11X7tpp/\n",
       "rR5OiUmFNW2lnBtTnLsJcwD4rvWtEjHvZbOoi4pCMmZyzd0dptpZcH81ZCFnYODDoD4Wq1EFLDX5\n",
       "YHQvIUNTXKG2VSI1gg8ywagD85I7o9itydA8PuI1C/eatKM+AaKzgQztOKI+z4oA8BoPe6n87HEi\n",
       "ik73s/I5Bqy6McoxK3b5BQVsHM5eRxtQIjpDtG5vASmbAAAAukGbnUnhDyZTAh3//qmWACzcKexv\n",
       "oDQAbSaFsMfjYZikPmp0roX54oO+UtYlgMqLjMSRNtsMutjAC6YqYD9hZk/4JpI/6fsQoBkHB4cT\n",
       "BtogVFhn2Aga8E4HlO05xCTTbRH6FbYG2vqMJe8T2G8AspYN47kaKk5r5LepZEuxP7WdDScPD7FA\n",
       "t9nzwWQpaphZ30yv9suVFh9sLbX/qJ5zQeMk5929D0JZWeTZMqpdlns3kfIQudai5JKZoQAAAHVB\n",
       "m6BJ4Q8mUwIb//6nhABYgTPupynSBjNWXr4+QHRH2cuADnLOmjWiqldEeUfwlyOCpvrr78CaufXK\n",
       "UeXUl8GDCPhYiOS5IpwGrrbilyiZynJcoKl4VEVMFQ47xrGe38WbCsQERXPONVuvCtj1EmLCjSCY\n",
       "mWAAAACZQZ/eRRE8L/8ANMGAO4/9smXnhuOrzFhhdD/gTVlszGnNMn1XTgOV43UbKocxLgtNixGv\n",
       "LJKed5AAHCCxwUAOktzG431piQoope2kNdv9ntHHsiatcHpgLEHsfnuX/d1yxUlcxJ0pNDBPKqwT\n",
       "WNIzrBB48tKb6FUBccLCN/OrPKK4rsXBmahPg3dYTOk8Ov9tN22KFiPT8CiwAAAAkwGf/2pCvwBF\n",
       "k7f9IysCxQWhIRHJZDOaqNshr+DISQAlQe6gBP6SWuLdqeATk0TBUmbTIH92IA5H5bJW5grMOerO\n",
       "SOsg0H8CRhTbRL41Adf4Z71ls5ZpKZQRc3l3bnguZmcSCucxJt8oa3gKUNE5Cr2WTjYJeYjln99K\n",
       "4J/Tq6H/m6W8YSn+UghjKECTP83pdC1snwAAAG9Bm+JJqEFomUwU8M/+nhABWQd9lVI5FKAqQvin\n",
       "zRb1Tdj/LITHTAB+6w8QDs8lI8V1p3OTgNoOZVkKxrfP/xdha1cteGw4PBpRS+FfblBvU5Exbd2Y\n",
       "eYU+yJcaCxnp7empF9bzt69avCfjEI043S4AAAC0AZ4BakK/AEd13Omf+Y813PupVaeqENjSLHxF\n",
       "kIdWa1ZU95ChycbP0mSb1pBJsVUqAEz3WDD5pitTkmzadoui+MYwwf6D7TbOGxBcK6LgyVJWOvRW\n",
       "marn629fmku8NKkopYqI/jr53fTNLRzV3ILKy/WBDc8NI7x4qgfOSWiICFzc0OYVemUKj1T/k/I6\n",
       "bGAG5NupODEiypbiqyIMWet3rOSHhq6Xke5euIqNzYugOo5y0oZBAAAApkGaA0nhClJlMCFf/jhA\n",
       "BT+5prZz3ERrqzsAK83ZVPLx/VRkHl77ggeZpn5UKJC/oVsYEP/wu1XexHHTNdm0xeQZAmUtw/DY\n",
       "vyzOzyh4e20uFDLQ5C1yDDrRdLunH8u97Q2vtmkAjE8CnMXeEFVFZvtKSL4vJU4WJaHHrkVCS4bo\n",
       "EDnDIk8cNTSTJSsG6M7On1eg/BBdrjISKoOnkyR63DnyZZwUYNgAAAdmbW9vdgAAAGxtdmhkAAAA\n",
       "AAAAAAAAAAAAAAAD6AAAE4gAAQAAAQAAAAAAAAAAAAAAAAEAAAAAAAAAAAAAAAAAAAABAAAAAAAA\n",
       "AAAAAAAAAABAAAAAAAAAAAAAAAAAAAAAAAAAAAAAAAAAAAAAAAAAAgAABpB0cmFrAAAAXHRraGQA\n",
       "AAADAAAAAAAAAAAAAAABAAAAAAAAE4gAAAAAAAAAAAAAAAAAAAAAAAEAAAAAAAAAAAAAAAAAAAAB\n",
       "AAAAAAAAAAAAAAAAAABAAAAAAbAAAAEgAAAAAAAkZWR0cwAAABxlbHN0AAAAAAAAAAEAABOIAAAE\n",
       "AAABAAAAAAYIbWRpYQAAACBtZGhkAAAAAAAAAAAAAAAAAAAoAAAAyABVxAAAAAAALWhkbHIAAAAA\n",
       "AAAAAHZpZGUAAAAAAAAAAAAAAABWaWRlb0hhbmRsZXIAAAAFs21pbmYAAAAUdm1oZAAAAAEAAAAA\n",
       "AAAAAAAAACRkaW5mAAAAHGRyZWYAAAAAAAAAAQAAAAx1cmwgAAAAAQAABXNzdGJsAAAAs3N0c2QA\n",
       "AAAAAAAAAQAAAKNhdmMxAAAAAAAAAAEAAAAAAAAAAAAAAAAAAAAAAbABIABIAAAASAAAAAAAAAAB\n",
       "AAAAAAAAAAAAAAAAAAAAAAAAAAAAAAAAAAAAAAAAAAAAGP//AAAAMWF2Y0MBZAAV/+EAGGdkABWs\n",
       "2UGwloQAAAMABAAAAwCgPFi2WAEABmjr48siwAAAABx1dWlka2hA8l8kT8W6OaUbzwMj8wAAAAAA\n",
       "AAAYc3R0cwAAAAAAAAABAAAAZAAAAgAAAAAUc3RzcwAAAAAAAAABAAAAAQAAArhjdHRzAAAAAAAA\n",
       "AFUAAAACAAAEAAAAAAEAAAgAAAAAAgAAAgAAAAABAAAKAAAAAAEAAAQAAAAAAQAAAAAAAAABAAAC\n",
       "AAAAAAEAAAQAAAAAAQAABgAAAAABAAACAAAAAAEAAAgAAAAAAgAAAgAAAAABAAAGAAAAAAEAAAIA\n",
       "AAAAAQAACAAAAAACAAACAAAAAAEAAAQAAAAAAQAABgAAAAABAAACAAAAAAEAAAQAAAAAAQAABgAA\n",
       "AAABAAACAAAAAAEAAAYAAAAAAQAAAgAAAAABAAAEAAAAAAEAAAYAAAAAAQAAAgAAAAABAAAGAAAA\n",
       "AAEAAAIAAAAAAQAABAAAAAABAAAGAAAAAAEAAAIAAAAAAQAABgAAAAABAAACAAAAAAEAAAQAAAAA\n",
       "AQAABgAAAAABAAACAAAAAAEAAAYAAAAAAQAAAgAAAAABAAAGAAAAAAEAAAIAAAAAAQAABAAAAAAB\n",
       "AAAGAAAAAAEAAAIAAAAAAQAACAAAAAACAAACAAAAAAEAAAYAAAAAAQAAAgAAAAABAAAGAAAAAAEA\n",
       "AAIAAAAAAQAABAAAAAABAAAGAAAAAAEAAAIAAAAAAQAABAAAAAABAAAIAAAAAAIAAAIAAAAAAQAA\n",
       "BAAAAAABAAAGAAAAAAEAAAIAAAAAAQAABgAAAAABAAACAAAAAAMAAAQAAAAAAQAABgAAAAABAAAC\n",
       "AAAAAAIAAAQAAAAAAQAACAAAAAACAAACAAAAAAEAAAYAAAAAAQAAAgAAAAABAAAIAAAAAAIAAAIA\n",
       "AAAAAQAABgAAAAABAAACAAAAAAEAAAgAAAAAAgAAAgAAAAABAAAGAAAAAAEAAAIAAAAAAQAABgAA\n",
       "AAABAAACAAAAAAMAAAQAAAAAAQAACAAAAAACAAACAAAAAAEAAAYAAAAAAQAAAgAAAAABAAAEAAAA\n",
       "ABxzdHNjAAAAAAAAAAEAAAABAAAAZAAAAAEAAAGkc3RzegAAAAAAAAAAAAAAZAAACnsAAAGuAAAA\n",
       "gAAAAMAAAABZAAAAXQAAAGIAAADDAAAATQAAAEkAAABVAAAAxAAAAEcAAACgAAAATwAAAG4AAADE\n",
       "AAAAdQAAAKMAAABbAAAAwgAAAJoAAADFAAAAVgAAAKEAAAB3AAAAegAAANEAAACkAAAAbgAAAH4A\n",
       "AAByAAAAyQAAAJwAAACeAAAAigAAAG8AAADOAAAAsQAAAHUAAACeAAAAcwAAAN8AAACKAAAAlAAA\n",
       "AI0AAAB3AAAA8gAAAJMAAACvAAAAfQAAAHcAAADfAAAAzQAAAH8AAACgAAAAeQAAAMMAAAD+AAAA\n",
       "ngAAAI4AAABSAAAA5QAAAMUAAACEAAAAfwAAAIUAAABqAAAArwAAANwAAADTAAAAcwAAAOUAAAEW\n",
       "AAAAtAAAAJoAAAByAAAAdwAAANUAAABYAAAAcwAAAIMAAABwAAAA0AAAAJAAAACbAAAAZgAAAHgA\n",
       "AADIAAAAlwAAAGwAAABsAAAA0gAAAL4AAAB5AAAAnQAAAJcAAABzAAAAuAAAAKoAAAAUc3RjbwAA\n",
       "AAAAAAABAAAALAAAAGJ1ZHRhAAAAWm1ldGEAAAAAAAAAIWhkbHIAAAAAAAAAAG1kaXJhcHBsAAAA\n",
       "AAAAAAAAAAAALWlsc3QAAAAlqXRvbwAAAB1kYXRhAAAAAQAAAABMYXZmNTguMjAuMTAw\n",
       "\">\n",
       "  Your browser does not support the video tag.\n",
       "</video>"
      ],
      "text/plain": [
       "<IPython.core.display.HTML object>"
      ]
     },
     "execution_count": 77,
     "metadata": {},
     "output_type": "execute_result"
    }
   ],
   "source": [
    "# initialization function: plot the background of each frame\n",
    "def init():\n",
    "    line.set_data([], [])\n",
    "    box.set_data([], [])\n",
    "    return (line,box)\n",
    "# animation function. This is called sequentially\n",
    "def animate(i):\n",
    "    x_box = [-2,2,2,-2,-2]\n",
    "    y_box = [yi[0,i]-p.t_h.value/2,yi[0,i]-p.t_h.value/2,yi[0,i]+p.t_h.value/2,yi[0,i]+p.t_h.value/2,yi[0,i]-p.t_h.value/2]    \n",
    "    box.set_data(x_box, y_box)  \n",
    "    x = np.array([0,np.sin(yi[4,i])])\n",
    "    y = np.array([yi[0,i]+yi[2,i],yi[0,i]+yi[2,i]+np.cos(yi[4,i])])\n",
    "    line.set_data(x, y)\n",
    "    return (line,)\n",
    "# call the animator. blit=True means only re-draw the parts that have changed.\n",
    "anim = animation.FuncAnimation(fig, animate, init_func=init,\n",
    "                               frames=100, interval=50, blit=True)\n",
    "HTML(anim.to_html5_video())"
   ]
  },
  {
   "cell_type": "code",
   "execution_count": null,
   "metadata": {},
   "outputs": [],
   "source": []
  },
  {
   "cell_type": "code",
   "execution_count": null,
   "metadata": {},
   "outputs": [],
   "source": []
  }
 ],
 "metadata": {
  "kernelspec": {
   "display_name": "Python 3",
   "language": "python",
   "name": "python3"
  },
  "language_info": {
   "codemirror_mode": {
    "name": "ipython",
    "version": 3
   },
   "file_extension": ".py",
   "mimetype": "text/x-python",
   "name": "python",
   "nbconvert_exporter": "python",
   "pygments_lexer": "ipython3",
   "version": "3.7.7"
  }
 },
 "nbformat": 4,
 "nbformat_minor": 4
}
