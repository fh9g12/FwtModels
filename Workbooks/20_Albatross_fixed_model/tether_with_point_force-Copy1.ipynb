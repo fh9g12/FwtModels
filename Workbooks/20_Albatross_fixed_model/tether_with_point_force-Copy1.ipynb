{
 "cells": [
  {
   "cell_type": "code",
   "execution_count": 50,
   "metadata": {},
   "outputs": [],
   "source": [
    "import sympy as sym\n",
    "import sympy.physics.mechanics as me\n",
    "from sympy.abc import t as time\n",
    "\n",
    "import numpy as np\n",
    "import matplotlib.pyplot as plt\n",
    "\n",
    "import sys, os\n",
    "\n",
    "import moyra as ma\n",
    "import moyra.elements as ele\n",
    "import moyra.forces as ef\n",
    "\n",
    "me.mechanics_printing()"
   ]
  },
  {
   "cell_type": "markdown",
   "metadata": {},
   "source": [
    "#### Create Symbols"
   ]
  },
  {
   "cell_type": "code",
   "execution_count": 51,
   "metadata": {},
   "outputs": [],
   "source": [
    "from sympy.abc import x,y,z\n",
    "DoFs = 2          # total degrees of freedom\n",
    "\n",
    "p = ma.DynamicModelParameters(DoFs)\n",
    "p.L = ma.ModelSymbol(string = 'L')\n",
    "p.m = ma.ModelSymbol(string = 'm')\n",
    "p.Fx = ma.ModelSymbol(string = 'Fx')\n",
    "p.Fy = ma.ModelSymbol(string = 'Fy')\n",
    "p.Fz = ma.ModelSymbol(string = 'Fz')\n",
    "p.K = ma.ModelSymbol(string = 'K')\n",
    "\n",
    "# Attitude Parmas\n",
    "p.rho = ma.ModelSymbol(value = 1.225,string = 'rho')                 # density\n",
    "p.V = ma.ModelSymbol(value = 10,string = 'V')                        # velocity\n",
    "p.g  = ma.ModelSymbol(value = 9.81,string = 'g')                     # gravity\n",
    "p.alpha  = ma.ModelSymbol(value = 0,string = 'alpha')                     # gravity\n"
   ]
  },
  {
   "cell_type": "markdown",
   "metadata": {},
   "source": [
    "#### Create Coordinate Systems"
   ]
  },
  {
   "cell_type": "code",
   "execution_count": 53,
   "metadata": {},
   "outputs": [],
   "source": [
    "tether_frame = ma.HomogenousTransform().R_z(p.q[0]).R_x(p.q[1]).Translate(0,0,-p.L)\n",
    "\n",
    "#Generate Mass Matrices\n",
    "# M = ele.MassMatrix(p.m, I_xx = p.I_xx, I_yy=p.I_yy, I_zz=p.I_zz)\n",
    "M = ele.MassMatrix(p.m, I_xx = 0, I_yy=0, I_zz=0)\n",
    "\n",
    "# Generate Rigid Elements\n",
    "aircraft_mass = ele.RigidElement(tether_frame,M,gravityPotential=True)\n",
    "#tether_spring = ele.Spring(p.q[2],p.K)\n",
    "\n",
    "# Generate Aircraft Forces\n",
    "aircraft_forces = ef.BodyForce(p,tether_frame,Fx=p.Fx,Fy=p.Fy,Fz=p.Fz)"
   ]
  },
  {
   "cell_type": "code",
   "execution_count": 54,
   "metadata": {},
   "outputs": [],
   "source": [
    "sm = ma.SymbolicModel.FromElementsAndForces(p,[aircraft_mass],ExtForces=aircraft_forces)"
   ]
  },
  {
   "cell_type": "code",
   "execution_count": 55,
   "metadata": {},
   "outputs": [
    {
     "data": {
      "image/png": "[encoded data removed]",
      "text/latex": [
       "$\\displaystyle \\left[\\begin{matrix}2 L^{2} m \\sin{\\left(q_{1} \\right)} \\cos{\\left(q_{1} \\right)} \\dot{q}_{0} \\dot{q}_{1}\\\\- L^{2} m \\sin{\\left(q_{1} \\right)} \\cos{\\left(q_{1} \\right)} \\dot{q}_{0}^{2} + L g m \\sin{\\left(q_{1} \\right)}\\end{matrix}\\right]$"
      ],
      "text/plain": [
       "⎡          2                               ⎤\n",
       "⎢       2⋅L ⋅m⋅sin(q₁)⋅cos(q₁)⋅q₀̇⋅q₁̇       ⎥\n",
       "⎢                                          ⎥\n",
       "⎢   2                     2                ⎥\n",
       "⎣- L ⋅m⋅sin(q₁)⋅cos(q₁)⋅q₀̇  + L⋅g⋅m⋅sin(q₁)⎦"
      ]
     },
     "execution_count": 55,
     "metadata": {},
     "output_type": "execute_result"
    }
   ],
   "source": [
    "sm.f"
   ]
  },
  {
   "cell_type": "code",
   "execution_count": 56,
   "metadata": {},
   "outputs": [],
   "source": [
    "test = sym.simplify(aircraft_forces._trigsimp(tether_frame.BodyJacobian(p.q)))"
   ]
  },
  {
   "cell_type": "code",
   "execution_count": 57,
   "metadata": {},
   "outputs": [
    {
     "data": {
      "image/png": "[encoded data removed]",
      "text/latex": [
       "$\\displaystyle \\left[\\begin{matrix}- L \\sin{\\left(q_{1} \\right)} & 0 & 0 & 0 & \\sin{\\left(q_{1} \\right)} & \\cos{\\left(q_{1} \\right)}\\\\0 & L & 0 & 1 & 0 & 0\\end{matrix}\\right]$"
      ],
      "text/plain": [
       "⎡-L⋅sin(q₁)  0  0  0  sin(q₁)  cos(q₁)⎤\n",
       "⎢                                     ⎥\n",
       "⎣    0       L  0  1     0        0   ⎦"
      ]
     },
     "execution_count": 57,
     "metadata": {},
     "output_type": "execute_result"
    }
   ],
   "source": [
    "import sympy\n",
    "\n",
    "# A = U S V'\n",
    "\n",
    "if test.shape[0] <= test.shape[1]:\n",
    "    A1 = test * test.T\n",
    "    U, S = A1.diagonalize(normalize=True)\n",
    "    V = (S**-1 * U.T * test).T\n",
    "else:\n",
    "    A2 = test.T * test\n",
    "    V, S = A2.diagonalize(normalize=True)\n",
    "    U = test * V * S**-1\n",
    "\n",
    "V * S.T * U.T "
   ]
  },
  {
   "cell_type": "code",
   "execution_count": 58,
   "metadata": {},
   "outputs": [
    {
     "data": {
      "image/png": "[encoded data removed]",
      "text/latex": [
       "$\\displaystyle \\left[\\begin{matrix}L^{2} m \\sin{\\left(2 \\phi \\right)} \\dot{\\phi} \\dot{\\psi}\\\\L m \\left(- L \\cos{\\left(\\phi \\right)} \\dot{\\psi}^{2} + g\\right) \\sin{\\left(\\phi \\right)}\\end{matrix}\\right]$"
      ],
      "text/plain": [
       "⎡       2                      ⎤\n",
       "⎢      L ⋅m⋅sin(2⋅φ)⋅φ̇⋅ψ̇       ⎥\n",
       "⎢                              ⎥\n",
       "⎢    ⎛            2    ⎞       ⎥\n",
       "⎣L⋅m⋅⎝- L⋅cos(φ)⋅ψ̇  + g⎠⋅sin(φ)⎦"
      ]
     },
     "execution_count": 58,
     "metadata": {},
     "output_type": "execute_result"
    }
   ],
   "source": [
    "psi = me.dynamicsymbols('psi')\n",
    "phi = me.dynamicsymbols('phi')\n",
    "sym.simplify(sm.f).subs({p.q[0]:psi,p.q[1]:phi})"
   ]
  },
  {
   "cell_type": "code",
   "execution_count": 59,
   "metadata": {},
   "outputs": [
    {
     "data": {
      "image/png": "[encoded data removed]",
      "text/latex": [
       "$\\displaystyle \\left[\\begin{matrix}- Fx L \\sin{\\left(\\phi \\right)}\\\\Fy L\\end{matrix}\\right]$"
      ],
      "text/plain": [
       "⎡-Fx⋅L⋅sin(φ)⎤\n",
       "⎢            ⎥\n",
       "⎣    Fy⋅L    ⎦"
      ]
     },
     "execution_count": 59,
     "metadata": {},
     "output_type": "execute_result"
    }
   ],
   "source": [
    "sm.ExtForces.Q().subs({p.q[0]:psi,p.q[1]:phi})"
   ]
  },
  {
   "cell_type": "code",
   "execution_count": 60,
   "metadata": {},
   "outputs": [
    {
     "data": {
      "image/png": "[encoded data removed]",
      "text/latex": [
       "$\\displaystyle \\left[\\begin{matrix}Fx L \\sin{\\left(\\phi \\right)}\\\\- Fy L - L^{2} m \\sin{\\left(\\phi \\right)} \\cos{\\left(\\phi \\right)} \\dot{\\psi}^{2} + L g m \\sin{\\left(\\phi \\right)}\\end{matrix}\\right]$"
      ],
      "text/plain": [
       "⎡                Fx⋅L⋅sin(φ)                 ⎤\n",
       "⎢                                            ⎥\n",
       "⎢         2                  2               ⎥\n",
       "⎣-Fy⋅L - L ⋅m⋅sin(φ)⋅cos(φ)⋅ψ̇  + L⋅g⋅m⋅sin(φ)⎦"
      ]
     },
     "execution_count": 60,
     "metadata": {},
     "output_type": "execute_result"
    }
   ],
   "source": [
    "A = (sm.M*p.qdd+sm.f-sm.ExtForces.Q()).subs({**{i:0 for i in p.qdd},p.qd[1]:0})\n",
    "ae = A.subs({p.q[0]:psi,p.q[1]:phi})\n",
    "ae"
   ]
  },
  {
   "cell_type": "code",
   "execution_count": 61,
   "metadata": {},
   "outputs": [],
   "source": [
    "ae = ae.subs({p.Fy:sym.Rational(1,2)*p.rho*p.V**2*p.alpha})"
   ]
  },
  {
   "cell_type": "code",
   "execution_count": 62,
   "metadata": {},
   "outputs": [],
   "source": [
    "V = sym.Symbol('V')\n",
    "A_new = me.msubs(A[1],{p.qd[0]:V/(p.L*sym.sin(p.q[1]))})\n",
    "A_new = A_new.subs({p.q[0]:psi,p.q[1]:phi})"
   ]
  },
  {
   "cell_type": "code",
   "execution_count": 63,
   "metadata": {},
   "outputs": [
    {
     "data": {
      "image/png": "[encoded data removed]",
      "text/latex": [
       "$\\displaystyle \\frac{L \\left(- Fy + g m \\sin{\\left(\\phi \\right)}\\right) \\tan{\\left(\\phi \\right)}}{m}$"
      ],
      "text/plain": [
       "L⋅(-Fy + g⋅m⋅sin(φ))⋅tan(φ)\n",
       "───────────────────────────\n",
       "             m             "
      ]
     },
     "execution_count": 63,
     "metadata": {},
     "output_type": "execute_result"
    }
   ],
   "source": [
    "V_2 = sym.solve(A_new,V**2)[0]\n",
    "sym.simplify(V_2.subs({p.q[0]:psi,p.q[1]:phi}))"
   ]
  },
  {
   "cell_type": "code",
   "execution_count": 80,
   "metadata": {},
   "outputs": [],
   "source": [
    "tether_frame = ma.HomogenousTransform().R_z(p.q[0]).R_x(p.q[1]).Translate(0,0,-p.L)\n",
    "V_body = sym.simplify(tether_frame.Translate(x,y,z).BodyVelocity())"
   ]
  },
  {
   "cell_type": "code",
   "execution_count": 81,
   "metadata": {},
   "outputs": [
    {
     "data": {
      "image/png": "[encoded data removed]",
      "text/latex": [
       "$\\displaystyle \\left[\\begin{matrix}\\left(- L \\sin{\\left(q_{1} \\right)} - y \\cos{\\left(q_{1} \\right)} + z \\sin{\\left(q_{1} \\right)}\\right) \\dot{q}_{0}\\\\L \\dot{q}_{1} + x \\cos{\\left(q_{1} \\right)} \\dot{q}_{0} - z \\dot{q}_{1}\\\\- x \\sin{\\left(q_{1} \\right)} \\dot{q}_{0} + y \\dot{q}_{1}\\\\\\dot{q}_{1}\\\\\\sin{\\left(q_{1} \\right)} \\dot{q}_{0}\\\\\\cos{\\left(q_{1} \\right)} \\dot{q}_{0}\\end{matrix}\\right]$"
      ],
      "text/plain": [
       "⎡(-L⋅sin(q₁) - y⋅cos(q₁) + z⋅sin(q₁))⋅q₀̇⎤\n",
       "⎢                                       ⎥\n",
       "⎢      L⋅q₁̇ + x⋅cos(q₁)⋅q₀̇ - z⋅q₁̇       ⎥\n",
       "⎢                                       ⎥\n",
       "⎢         -x⋅sin(q₁)⋅q₀̇ + y⋅q₁̇          ⎥\n",
       "⎢                                       ⎥\n",
       "⎢                  q₁̇                   ⎥\n",
       "⎢                                       ⎥\n",
       "⎢              sin(q₁)⋅q₀̇               ⎥\n",
       "⎢                                       ⎥\n",
       "⎣              cos(q₁)⋅q₀̇               ⎦"
      ]
     },
     "execution_count": 81,
     "metadata": {},
     "output_type": "execute_result"
    }
   ],
   "source": [
    "V_body"
   ]
  },
  {
   "cell_type": "code",
   "execution_count": 85,
   "metadata": {},
   "outputs": [
    {
     "data": {
      "image/png": "[encoded data removed]",
      "text/latex": [
       "$\\displaystyle \\left[\\begin{matrix}\\left(- L \\sin{\\left(\\phi \\right)} - y \\cos{\\left(\\phi \\right)} + z \\sin{\\left(\\phi \\right)}\\right) \\dot{\\psi}\\\\L \\dot{\\phi} + x \\cos{\\left(\\phi \\right)} \\dot{\\psi} - z \\dot{\\phi}\\\\- x \\sin{\\left(\\phi \\right)} \\dot{\\psi} + y \\dot{\\phi}\\end{matrix}\\right]$"
      ],
      "text/plain": [
       "⎡(-L⋅sin(φ) - y⋅cos(φ) + z⋅sin(φ))⋅ψ̇⎤\n",
       "⎢                                   ⎥\n",
       "⎢      L⋅φ̇ + x⋅cos(φ)⋅ψ̇ - z⋅φ̇       ⎥\n",
       "⎢                                   ⎥\n",
       "⎣         -x⋅sin(φ)⋅ψ̇ + y⋅φ̇         ⎦"
      ]
     },
     "execution_count": 85,
     "metadata": {},
     "output_type": "execute_result"
    }
   ],
   "source": [
    "vb = sym.Matrix(V_body[0:3])\n",
    "#vb = me.msubs(vb,{p.qd[0]:V/(p.L*sym.sin(p.q[1])),p.qd[1]:0})\n",
    "vb = vb.subs({p.q[0]:psi,p.q[1]:phi})\n",
    "vb"
   ]
  },
  {
   "cell_type": "code",
   "execution_count": 92,
   "metadata": {},
   "outputs": [
    {
     "data": {
      "image/png": "[encoded data removed]",
      "text/latex": [
       "$\\displaystyle \\frac{x \\sin{\\left(\\phi \\right)}}{L \\sin{\\left(\\phi \\right)} + y \\cos{\\left(\\phi \\right)}}$"
      ],
      "text/plain": [
       "      x⋅sin(φ)     \n",
       "───────────────────\n",
       "L⋅sin(φ) + y⋅cos(φ)"
      ]
     },
     "execution_count": 92,
     "metadata": {},
     "output_type": "execute_result"
    }
   ],
   "source": [
    "sym.simplify(V_body[2]/V_body[0]).subs({p.q[0]:psi,p.q[1]:phi})"
   ]
  },
  {
   "cell_type": "code",
   "execution_count": 95,
   "metadata": {},
   "outputs": [
    {
     "data": {
      "image/png": "[encoded data removed]",
      "text/latex": [
       "$\\displaystyle \\left[\\begin{matrix}\\frac{L^{2} + \\frac{2 L y}{\\tan{\\left(\\phi \\right)}} + x^{2} + \\frac{x^{2}}{\\tan^{2}{\\left(\\phi \\right)}} + \\frac{y^{2}}{\\tan^{2}{\\left(\\phi \\right)}}}{L^{2}}\\end{matrix}\\right]$"
      ],
      "text/plain": [
       "⎡                       2         2  ⎤\n",
       "⎢ 2   2⋅L⋅y     2      x         y   ⎥\n",
       "⎢L  + ────── + x  + ─────── + ───────⎥\n",
       "⎢     tan(φ)           2         2   ⎥\n",
       "⎢                   tan (φ)   tan (φ)⎥\n",
       "⎢────────────────────────────────────⎥\n",
       "⎢                  2                 ⎥\n",
       "⎣                 L                  ⎦"
      ]
     },
     "execution_count": 95,
     "metadata": {},
     "output_type": "execute_result"
    }
   ],
   "source": [
    "sym.simplify(V_body.T*V_body/V**2).subs({p.q[0]:psi,p.q[1]:phi})"
   ]
  },
  {
   "cell_type": "code",
   "execution_count": 75,
   "metadata": {},
   "outputs": [],
   "source": [
    "test_frame = ma.HomogenousTransform().R_z(p.q[0]).R_x(p.q[1]).Translate(0,0,-p.L)"
   ]
  },
  {
   "cell_type": "code",
   "execution_count": 76,
   "metadata": {},
   "outputs": [],
   "source": [
    "V_body = sym.simplify(test_frame.Translate(x,y,z).BodyVelocity())"
   ]
  },
  {
   "cell_type": "code",
   "execution_count": 79,
   "metadata": {},
   "outputs": [
    {
     "data": {
      "image/png": "[encoded data removed]",
      "text/latex": [
       "$\\displaystyle \\left[\\begin{matrix}\\left(L - z\\right) \\dot{q}_{0}\\\\0\\\\x \\dot{q}_{0}\\\\0\\\\- \\dot{q}_{0}\\\\0\\end{matrix}\\right]$"
      ],
      "text/plain": [
       "⎡(L - z)⋅q₀̇⎤\n",
       "⎢          ⎥\n",
       "⎢    0     ⎥\n",
       "⎢          ⎥\n",
       "⎢   x⋅q₀̇   ⎥\n",
       "⎢          ⎥\n",
       "⎢    0     ⎥\n",
       "⎢          ⎥\n",
       "⎢   -q₀̇    ⎥\n",
       "⎢          ⎥\n",
       "⎣    0     ⎦"
      ]
     },
     "execution_count": 79,
     "metadata": {},
     "output_type": "execute_result"
    }
   ],
   "source": [
    "sym.simplify(V_body.subs({p.q[1]:sym.pi/2}))"
   ]
  },
  {
   "cell_type": "code",
   "execution_count": 90,
   "metadata": {},
   "outputs": [
    {
     "data": {
      "image/png": "[encoded data removed]",
      "text/latex": [
       "$\\displaystyle \\left[\\begin{matrix}- y \\sin{\\left(q_{3} \\right)} \\cos{\\left(q_{2} \\right)} \\dot{q}_{1} - y \\cos{\\left(q_{3} \\right)} \\dot{q}_{2} - z \\sin{\\left(q_{2} \\right)} \\dot{q}_{1} + z \\dot{q}_{3} + \\cos{\\left(q_{2} \\right)} \\cos{\\left(q_{3} \\right)} \\dot{q}_{0}\\\\x \\sin{\\left(q_{3} \\right)} \\cos{\\left(q_{2} \\right)} \\dot{q}_{1} + x \\cos{\\left(q_{3} \\right)} \\dot{q}_{2} + z \\sin{\\left(q_{3} \\right)} \\dot{q}_{2} - z \\cos{\\left(q_{2} \\right)} \\cos{\\left(q_{3} \\right)} \\dot{q}_{1} - \\sin{\\left(q_{2} \\right)} \\dot{q}_{0}\\\\x \\sin{\\left(q_{2} \\right)} \\dot{q}_{1} - x \\dot{q}_{3} - y \\sin{\\left(q_{3} \\right)} \\dot{q}_{2} + y \\cos{\\left(q_{2} \\right)} \\cos{\\left(q_{3} \\right)} \\dot{q}_{1} + \\sin{\\left(q_{3} \\right)} \\cos{\\left(q_{2} \\right)} \\dot{q}_{0}\\end{matrix}\\right]$"
      ],
      "text/plain": [
       "⎡   -y⋅sin(q₃)⋅cos(q₂)⋅q₁̇ - y⋅cos(q₃)⋅q₂̇ - z⋅sin(q₂)⋅q₁̇ + z⋅q₃̇ + cos(q₂)⋅c\n",
       "⎢                                                                             \n",
       "⎢x⋅sin(q₃)⋅cos(q₂)⋅q₁̇ + x⋅cos(q₃)⋅q₂̇ + z⋅sin(q₃)⋅q₂̇ - z⋅cos(q₂)⋅cos(q₃)⋅q₁̇\n",
       "⎢                                                                             \n",
       "⎣    x⋅sin(q₂)⋅q₁̇ - x⋅q₃̇ - y⋅sin(q₃)⋅q₂̇ + y⋅cos(q₂)⋅cos(q₃)⋅q₁̇ + sin(q₃)⋅c\n",
       "\n",
       "os(q₃)⋅q₀̇    ⎤\n",
       "         ⎥\n",
       " - sin(q₂)⋅q₀̇⎥\n",
       "         ⎥\n",
       "os(q₂)⋅q₀̇    ⎦"
      ]
     },
     "execution_count": 90,
     "metadata": {},
     "output_type": "execute_result"
    }
   ],
   "source": [
    "from sympy.abc import x,y,z\n",
    "from sympy.abc import psi,phi,mu,beta,alpha,theta\n",
    "p = ma.DynamicModelParameters(4)\n",
    "body_frame = ma.HomogenousTransform().R_x(sym.pi).Translate(p.q[0],0,0).R_x(p.q[1]).R_z(p.q[2]).R_y(p.q[3])\n",
    "V_body = sym.simplify(body_frame.Translate(x,y,z).BodyVelocity())\n",
    "vb = sym.Matrix(V_body[0:3])\n"
   ]
  },
  {
   "cell_type": "code",
   "execution_count": 99,
   "metadata": {},
   "outputs": [
    {
     "data": {
      "image/png": "[encoded data removed]",
      "text/latex": [
       "$\\displaystyle \\left[\\begin{matrix}V \\cos{\\left(\\alpha \\right)} \\cos{\\left(\\beta \\right)} - \\phi y \\sin{\\left(\\alpha \\right)} \\cos{\\left(\\beta \\right)} - \\phi z \\sin{\\left(\\beta \\right)} - \\psi y \\cos{\\left(\\alpha \\right)} + \\theta z\\\\- V \\sin{\\left(\\beta \\right)} + \\phi x \\sin{\\left(\\alpha \\right)} \\cos{\\left(\\beta \\right)} - \\phi z \\cos{\\left(\\alpha \\right)} \\cos{\\left(\\beta \\right)} + \\psi x \\cos{\\left(\\alpha \\right)} + \\psi z \\sin{\\left(\\alpha \\right)}\\\\V \\sin{\\left(\\alpha \\right)} \\cos{\\left(\\beta \\right)} + \\phi x \\sin{\\left(\\beta \\right)} + \\phi y \\cos{\\left(\\alpha \\right)} \\cos{\\left(\\beta \\right)} - \\psi y \\sin{\\left(\\alpha \\right)} - \\theta x\\end{matrix}\\right]$"
      ],
      "text/plain": [
       "⎡    V⋅cos(α)⋅cos(β) - φ⋅y⋅sin(α)⋅cos(β) - φ⋅z⋅sin(β) - ψ⋅y⋅cos(α) + θ⋅z    ⎤\n",
       "⎢                                                                           ⎥\n",
       "⎢-V⋅sin(β) + φ⋅x⋅sin(α)⋅cos(β) - φ⋅z⋅cos(α)⋅cos(β) + ψ⋅x⋅cos(α) + ψ⋅z⋅sin(α)⎥\n",
       "⎢                                                                           ⎥\n",
       "⎣    V⋅sin(α)⋅cos(β) + φ⋅x⋅sin(β) + φ⋅y⋅cos(α)⋅cos(β) - ψ⋅y⋅sin(α) - θ⋅x    ⎦"
      ]
     },
     "execution_count": 99,
     "metadata": {},
     "output_type": "execute_result"
    }
   ],
   "source": [
    "vb_new = me.msubs(vb,{p.q[0]:0,p.q[1]:mu,p.q[2]:beta,p.q[3]:alpha,p.qd[0]:V,p.qd[1]:phi,p.qd[2]:psi,p.qd[3]:theta})\n",
    "vb_new"
   ]
  },
  {
   "cell_type": "code",
   "execution_count": 114,
   "metadata": {},
   "outputs": [],
   "source": [
    "file_dir = \"C:\\\\Users\\\\qe19391\\\\OneDrive - University of Bristol\\\\Desktop\\\\\"\n",
    "to_matlab_file(vb_new,'FreeFlight',file_dir)"
   ]
  },
  {
   "cell_type": "code",
   "execution_count": null,
   "metadata": {},
   "outputs": [],
   "source": []
  },
  {
   "cell_type": "code",
   "execution_count": 111,
   "metadata": {},
   "outputs": [],
   "source": [
    "from time import time, ctime\n",
    "def gen_octave(expr,func_name):\n",
    "        # get parameter replacements\n",
    "        matries = []\n",
    "\n",
    "        # split expr into groups\n",
    "        replacments, exprs = sym.cse(expr,symbols=(sym.Symbol(f'rep_{i}')for i in range(10000)))\n",
    "        if isinstance(expr,tuple):\n",
    "            expr = tuple(exprs)\n",
    "        elif isinstance(expr,list):\n",
    "            expr = exprs\n",
    "        else:\n",
    "            expr = exprs[0]      \n",
    "\n",
    "        group_string = '%% create common groups\\n\\t'\n",
    "        for variable, expression in replacments:\n",
    "            group_string +=f'{variable} = {sym.printing.octave.octave_code(expression)};\\n\\t'\n",
    "        \n",
    "        # convert to octave string and covert states to vector form\n",
    "        out = '%% create output vector\\n\\tout = ' + sym.printing.octave.octave_code(expr)\n",
    "\n",
    "        # make the file pretty...\n",
    "        out = out.replace(',',',...\\n\\t\\t').replace(';',';...\\n\\t\\t')\n",
    "\n",
    "        file_sig = f'%{func_name.upper()} Auto-generated function from python\\n\\t'\n",
    "        file_sig += f'%\\n\\t'\n",
    "        file_sig += f'%\\tCreated at : {ctime(time())} \\n\\t'\n",
    "        file_sig += f'%\\tCreated with : moyra https://pypi.org/project/moyra/\\n\\t'\n",
    "        file_sig += f'%\\n\\t'\n",
    "\n",
    "\n",
    "        # wrap output in octave function signature\n",
    "        signature = f'function out = {func_name}()\\n\\t'\n",
    "        octave_string = signature + file_sig + group_string + out + ';\\nend'\n",
    "        return octave_string\n",
    "def to_matlab_file(expr,func_name,file_dir):\n",
    "    with open(file_dir+f\"{func_name}.m\",'w') as file:\n",
    "        file.write(gen_octave(expr,func_name))"
   ]
  },
  {
   "cell_type": "code",
   "execution_count": null,
   "metadata": {},
   "outputs": [],
   "source": []
  }
 ],
 "metadata": {
  "kernelspec": {
   "display_name": "fwt_models",
   "language": "python",
   "name": "fwt_models"
  },
  "language_info": {
   "codemirror_mode": {
    "name": "ipython",
    "version": 3
   },
   "file_extension": ".py",
   "mimetype": "text/x-python",
   "name": "python",
   "nbconvert_exporter": "python",
   "pygments_lexer": "ipython3",
   "version": "3.8.8"
  }
 },
 "nbformat": 4,
 "nbformat_minor": 4
}
