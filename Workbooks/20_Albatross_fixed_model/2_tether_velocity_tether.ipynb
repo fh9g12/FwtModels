{
 "cells": [
  {
   "cell_type": "code",
   "execution_count": 1,
   "metadata": {},
   "outputs": [],
   "source": [
    "import sympy as sym\n",
    "import sympy.physics.mechanics as me\n",
    "from sympy.abc import t as time\n",
    "\n",
    "import numpy as np\n",
    "import matplotlib.pyplot as plt\n",
    "\n",
    "import sys, os\n",
    "\n",
    "import moyra as ma\n",
    "import moyra.elements as ele\n",
    "import moyra.forces as ef\n",
    "\n",
    "me.mechanics_printing()"
   ]
  },
  {
   "cell_type": "markdown",
   "metadata": {},
   "source": [
    "#### Create Symbols"
   ]
  },
  {
   "cell_type": "code",
   "execution_count": 2,
   "metadata": {},
   "outputs": [],
   "source": [
    "from sympy.abc import x,y,z\n",
    "DoFs = 5          # total degrees of freedom\n",
    "\n",
    "p = ma.DynamicModelParameters(DoFs)\n",
    "p.L = ma.ModelSymbol(string = 'L')\n",
    "p.m = ma.ModelSymbol(string = 'm')\n",
    "p.Fx = ma.ModelSymbol(string = 'Fx')\n",
    "p.Fy = ma.ModelSymbol(string = 'Fy')\n",
    "p.Fz = ma.ModelSymbol(string = 'Fz')\n",
    "p.K = ma.ModelSymbol(string = 'K')\n",
    "\n",
    "# Attitude Parmas\n",
    "p.rho = ma.ModelSymbol(value = 1.225,string = 'rho')                 # density\n",
    "p.V = ma.ModelSymbol(value = 10,string = 'V')                        # velocity\n",
    "p.g  = ma.ModelSymbol(value = 9.81,string = 'g')                     # gravity\n",
    "p.alpha  = ma.ModelSymbol(value = 0,string = 'alpha')                     # gravity\n"
   ]
  },
  {
   "cell_type": "markdown",
   "metadata": {},
   "source": [
    "#### Create Coordinate Systems"
   ]
  },
  {
   "cell_type": "code",
   "execution_count": 3,
   "metadata": {},
   "outputs": [],
   "source": [
    "tether_frame = ma.HomogenousTransform().R_z(p.q[0]).R_x(-p.q[1]+sym.pi).Translate(0,0,p.L)\n",
    "tether2body = ma.HomogenousTransform().R_x(p.q[2]).R_z(p.q[3]).R_y(p.q[4])\n",
    "\n",
    "#Generate Mass Matrices\n",
    "# M = ele.MassMatrix(p.m, I_xx = p.I_xx, I_yy=p.I_yy, I_zz=p.I_zz)\n",
    "M = ele.MassMatrix(p.m, I_xx = 0, I_yy=0, I_zz=0)\n",
    "\n",
    "# Generate Rigid Elements\n",
    "aircraft_mass = ele.RigidElement(tether_frame,M,gravityPotential=True)\n",
    "#tether_spring = ele.Spring(p.q[2],p.K)\n",
    "\n",
    "# Generate Aircraft Forces\n",
    "aircraft_forces = ef.BodyForce(p,tether_frame,Fx=p.Fx,Fy=p.Fy,Fz=p.Fz)"
   ]
  },
  {
   "cell_type": "code",
   "execution_count": 4,
   "metadata": {},
   "outputs": [],
   "source": [
    "sm = ma.SymbolicModel.FromElementsAndForces(p,[aircraft_mass],ExtForces=aircraft_forces)"
   ]
  },
  {
   "cell_type": "code",
   "execution_count": 5,
   "metadata": {},
   "outputs": [
    {
     "data": {
      "image/png": "[encoded data removed]",
      "text/latex": [
       "$\\displaystyle \\left[\\begin{matrix}\\left(L \\sin{\\left(q_{1} \\right)} + y \\cos{\\left(q_{1} \\right)} + z \\sin{\\left(q_{1} \\right)}\\right) \\dot{q}_{0}\\\\L \\dot{q}_{1} - x \\cos{\\left(q_{1} \\right)} \\dot{q}_{0} + z \\dot{q}_{1}\\\\- x \\sin{\\left(q_{1} \\right)} \\dot{q}_{0} - y \\dot{q}_{1}\\end{matrix}\\right]$"
      ],
      "text/plain": [
       "⎡(L⋅sin(q₁) + y⋅cos(q₁) + z⋅sin(q₁))⋅q₀̇⎤\n",
       "⎢                                      ⎥\n",
       "⎢      L⋅q₁̇ - x⋅cos(q₁)⋅q₀̇ + z⋅q₁̇      ⎥\n",
       "⎢                                      ⎥\n",
       "⎣         -x⋅sin(q₁)⋅q₀̇ - y⋅q₁̇         ⎦"
      ]
     },
     "execution_count": 5,
     "metadata": {},
     "output_type": "execute_result"
    }
   ],
   "source": [
    "v_tether = tether_frame.Translate(x,y,z).simplify().BodyVelocity()\n",
    "vb_t = sym.simplify(sym.Matrix(v_tether[0:3]))\n",
    "vb_t"
   ]
  },
  {
   "cell_type": "code",
   "execution_count": 6,
   "metadata": {},
   "outputs": [
    {
     "data": {
      "image/png": "[encoded data removed]",
      "text/latex": [
       "$\\displaystyle \\left[\\begin{matrix}- y \\sin{\\left(q_{4} \\right)} \\cos{\\left(q_{3} \\right)} \\dot{q}_{2} - y \\cos{\\left(q_{4} \\right)} \\dot{q}_{3} - z \\sin{\\left(q_{3} \\right)} \\dot{q}_{2} + z \\dot{q}_{4}\\\\x \\sin{\\left(q_{4} \\right)} \\cos{\\left(q_{3} \\right)} \\dot{q}_{2} + x \\cos{\\left(q_{4} \\right)} \\dot{q}_{3} + z \\sin{\\left(q_{4} \\right)} \\dot{q}_{3} - z \\cos{\\left(q_{3} \\right)} \\cos{\\left(q_{4} \\right)} \\dot{q}_{2}\\\\x \\sin{\\left(q_{3} \\right)} \\dot{q}_{2} - x \\dot{q}_{4} - y \\sin{\\left(q_{4} \\right)} \\dot{q}_{3} + y \\cos{\\left(q_{3} \\right)} \\cos{\\left(q_{4} \\right)} \\dot{q}_{2}\\end{matrix}\\right]$"
      ],
      "text/plain": [
       "⎡       -y⋅sin(q₄)⋅cos(q₃)⋅q₂̇ - y⋅cos(q₄)⋅q₃̇ - z⋅sin(q₃)⋅q₂̇ + z⋅q₄̇        ⎤\n",
       "⎢                                                                         ⎥\n",
       "⎢x⋅sin(q₄)⋅cos(q₃)⋅q₂̇ + x⋅cos(q₄)⋅q₃̇ + z⋅sin(q₄)⋅q₃̇ - z⋅cos(q₃)⋅cos(q₄)⋅q₂̇⎥\n",
       "⎢                                                                         ⎥\n",
       "⎣        x⋅sin(q₃)⋅q₂̇ - x⋅q₄̇ - y⋅sin(q₄)⋅q₃̇ + y⋅cos(q₃)⋅cos(q₄)⋅q₂̇        ⎦"
      ]
     },
     "execution_count": 6,
     "metadata": {},
     "output_type": "execute_result"
    }
   ],
   "source": [
    "v_body = tether2body.Translate(x,y,z).simplify().BodyVelocity()\n",
    "vb = sym.simplify(sym.Matrix(v_body[0:3]))\n",
    "vb"
   ]
  },
  {
   "cell_type": "code",
   "execution_count": 7,
   "metadata": {},
   "outputs": [],
   "source": [
    "def sm_to_matlab_file(sm,p,expr,func_name,file_dir):\n",
    "    with open(file_dir+f\"{func_name}.m\",'w') as file:\n",
    "        file.write(sm._gen_octave(expr,p,func_name).replace(f'function out = {func_name}(U,p)',f'function out = {func_name}(U,x,y,z,p)'))"
   ]
  },
  {
   "cell_type": "code",
   "execution_count": 8,
   "metadata": {},
   "outputs": [],
   "source": [
    "file_dir = \"C:\\\\Git\\\\AlbatrossOneNastran\\\\matlab\\\\+gen_vlm\\\\+TetheredTetherFrame\\\\\"\n",
    "sm_to_matlab_file(sm,p,vb_t,'get_tether_frame_v',file_dir)\n",
    "sm_to_matlab_file(sm,p,vb,'get_body_velocity_in_tether_v',file_dir)\n",
    "p.to_matlab_class(file_dir=file_dir)"
   ]
  },
  {
   "cell_type": "code",
   "execution_count": null,
   "metadata": {},
   "outputs": [],
   "source": []
  }
 ],
 "metadata": {
  "kernelspec": {
   "display_name": "fwt_models",
   "language": "python",
   "name": "fwt_models"
  },
  "language_info": {
   "codemirror_mode": {
    "name": "ipython",
    "version": 3
   },
   "file_extension": ".py",
   "mimetype": "text/x-python",
   "name": "python",
   "nbconvert_exporter": "python",
   "pygments_lexer": "ipython3",
   "version": "3.8.8"
  }
 },
 "nbformat": 4,
 "nbformat_minor": 4
}
