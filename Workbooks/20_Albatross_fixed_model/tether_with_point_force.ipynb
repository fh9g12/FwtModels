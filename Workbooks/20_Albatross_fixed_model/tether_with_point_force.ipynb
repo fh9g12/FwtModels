{
 "cells": [
  {
   "cell_type": "code",
   "execution_count": 2,
   "metadata": {},
   "outputs": [],
   "source": [
    "import sympy as sym\n",
    "import sympy.physics.mechanics as me\n",
    "from sympy.abc import t as time\n",
    "\n",
    "import numpy as np\n",
    "import matplotlib.pyplot as plt\n",
    "\n",
    "import sys, os\n",
    "\n",
    "import moyra as ma\n",
    "import moyra.elements as ele\n",
    "import moyra.forces as ef\n",
    "\n",
    "me.mechanics_printing()"
   ]
  },
  {
   "cell_type": "markdown",
   "metadata": {},
   "source": [
    "#### Create Symbols"
   ]
  },
  {
   "cell_type": "code",
   "execution_count": 55,
   "metadata": {},
   "outputs": [],
   "source": [
    "from sympy.abc import x,y\n",
    "DoFs = 2          # total degrees of freedom\n",
    "\n",
    "p = ma.DynamicModelParameters(DoFs)\n",
    "p.L = ma.ModelSymbol(string = 'L')\n",
    "p.m = ma.ModelSymbol(string = 'm')\n",
    "p.Fx = ma.ModelSymbol(string = 'Fx')\n",
    "p.Fy = ma.ModelSymbol(string = 'Fy')\n",
    "p.Fz = ma.ModelSymbol(string = 'Fz')\n",
    "p.K = ma.ModelSymbol(string = 'K')\n",
    "\n",
    "# Attitude Parmas\n",
    "p.rho = ma.ModelSymbol(value = 1.225,string = 'rho')                 # density\n",
    "p.V = ma.ModelSymbol(value = 10,string = 'V')                        # velocity\n",
    "p.g  = ma.ModelSymbol(value = 9.81,string = 'g')                     # gravity\n"
   ]
  },
  {
   "cell_type": "markdown",
   "metadata": {},
   "source": [
    "#### Create Coordinate Systems"
   ]
  },
  {
   "cell_type": "code",
   "execution_count": 65,
   "metadata": {},
   "outputs": [],
   "source": [
    "tether_frame = ma.HomogenousTransform().R_z(p.q[0]).R_x(p.q[1]).Translate(0,0,-p.L)\n",
    "\n",
    "#Generate Mass Matrices\n",
    "# M = ele.MassMatrix(p.m, I_xx = p.I_xx, I_yy=p.I_yy, I_zz=p.I_zz)\n",
    "M = ele.MassMatrix(p.m, I_xx = 0, I_yy=0, I_zz=0)\n",
    "\n",
    "# Generate Rigid Elements\n",
    "aircraft_mass = ele.RigidElement(tether_frame,M,gravityPotential=True)\n",
    "#tether_spring = ele.Spring(p.q[2],p.K)\n",
    "\n",
    "# Generate Aircraft Forces\n",
    "aircraft_forces = ef.BodyForce(p,tether_frame,Fx=p.Fx,Fy=p.Fy,Fz=p.Fz)"
   ]
  },
  {
   "cell_type": "code",
   "execution_count": 66,
   "metadata": {},
   "outputs": [],
   "source": [
    "sm = ma.SymbolicModel.FromElementsAndForces(p,[aircraft_mass],ExtForces=aircraft_forces)"
   ]
  },
  {
   "cell_type": "code",
   "execution_count": 67,
   "metadata": {},
   "outputs": [
    {
     "data": {
      "image/png": "[encoded data removed]",
      "text/latex": [
       "$\\displaystyle \\left[\\begin{matrix}L^{2} m \\sin^{2}{\\left(\\phi \\right)} & 0\\\\0 & L^{2} m\\end{matrix}\\right]$"
      ],
      "text/plain": [
       "⎡ 2      2         ⎤\n",
       "⎢L ⋅m⋅sin (φ)   0  ⎥\n",
       "⎢                  ⎥\n",
       "⎢               2  ⎥\n",
       "⎣     0        L ⋅m⎦"
      ]
     },
     "execution_count": 67,
     "metadata": {},
     "output_type": "execute_result"
    }
   ],
   "source": [
    "sm.M.subs({p.q[0]:psi,p.q[1]:phi})"
   ]
  },
  {
   "cell_type": "code",
   "execution_count": 68,
   "metadata": {},
   "outputs": [
    {
     "data": {
      "image/png": "[encoded data removed]",
      "text/latex": [
       "$\\displaystyle \\left[\\begin{matrix}L^{2} m \\sin{\\left(2 \\phi \\right)} \\dot{\\phi} \\dot{\\psi}\\\\L m \\left(- L \\cos{\\left(\\phi \\right)} \\dot{\\psi}^{2} + g\\right) \\sin{\\left(\\phi \\right)}\\end{matrix}\\right]$"
      ],
      "text/plain": [
       "⎡       2                      ⎤\n",
       "⎢      L ⋅m⋅sin(2⋅φ)⋅φ̇⋅ψ̇       ⎥\n",
       "⎢                              ⎥\n",
       "⎢    ⎛            2    ⎞       ⎥\n",
       "⎣L⋅m⋅⎝- L⋅cos(φ)⋅ψ̇  + g⎠⋅sin(φ)⎦"
      ]
     },
     "execution_count": 68,
     "metadata": {},
     "output_type": "execute_result"
    }
   ],
   "source": [
    "psi = me.dynamicsymbols('psi')\n",
    "phi = me.dynamicsymbols('phi')\n",
    "sym.simplify(sm.f).subs({p.q[0]:psi,p.q[1]:phi})"
   ]
  },
  {
   "cell_type": "code",
   "execution_count": 69,
   "metadata": {},
   "outputs": [
    {
     "data": {
      "image/png": "[encoded data removed]",
      "text/latex": [
       "$\\displaystyle \\left[\\begin{matrix}- Fx L \\sin{\\left(\\phi \\right)}\\\\Fy L\\end{matrix}\\right]$"
      ],
      "text/plain": [
       "⎡-Fx⋅L⋅sin(φ)⎤\n",
       "⎢            ⎥\n",
       "⎣    Fy⋅L    ⎦"
      ]
     },
     "execution_count": 69,
     "metadata": {},
     "output_type": "execute_result"
    }
   ],
   "source": [
    "sm.ExtForces.Q().subs({p.q[0]:psi,p.q[1]:phi})"
   ]
  },
  {
   "cell_type": "code",
   "execution_count": 70,
   "metadata": {},
   "outputs": [
    {
     "data": {
      "image/png": "[encoded data removed]",
      "text/latex": [
       "$\\displaystyle \\left[\\begin{matrix}Fx L \\sin{\\left(\\phi \\right)}\\\\- Fy L - L^{2} m \\sin{\\left(\\phi \\right)} \\cos{\\left(\\phi \\right)} \\dot{\\psi}^{2} + L g m \\sin{\\left(\\phi \\right)}\\end{matrix}\\right]$"
      ],
      "text/plain": [
       "⎡                Fx⋅L⋅sin(φ)                 ⎤\n",
       "⎢                                            ⎥\n",
       "⎢         2                  2               ⎥\n",
       "⎣-Fy⋅L - L ⋅m⋅sin(φ)⋅cos(φ)⋅ψ̇  + L⋅g⋅m⋅sin(φ)⎦"
      ]
     },
     "execution_count": 70,
     "metadata": {},
     "output_type": "execute_result"
    }
   ],
   "source": [
    "A = (sm.M*p.qdd+sm.f-sm.ExtForces.Q()).subs({**{i:0 for i in p.qdd},p.qd[1]:0})\n",
    "A.subs({p.q[0]:psi,p.q[1]:phi})"
   ]
  },
  {
   "cell_type": "code",
   "execution_count": 32,
   "metadata": {},
   "outputs": [
    {
     "data": {
      "image/png": "[encoded data removed]",
      "text/latex": [
       "$\\displaystyle - Fy L + L g m \\sin{\\left(\\phi \\right)} - \\frac{m V^{2} \\cos{\\left(\\phi \\right)}}{\\sin{\\left(\\phi \\right)}}$"
      ],
      "text/plain": [
       "                          2       \n",
       "                       m⋅V ⋅cos(φ)\n",
       "-Fy⋅L + L⋅g⋅m⋅sin(φ) - ───────────\n",
       "                          sin(φ)  "
      ]
     },
     "execution_count": 32,
     "metadata": {},
     "output_type": "execute_result"
    }
   ],
   "source": [
    "V = sym.Symbol('V')\n",
    "A_new = me.msubs(A[1],{p.qd[0]:V/(p.L*sym.sin(p.q[1]))})\n",
    "A_new.subs({p.q[0]:psi,p.q[1]:phi})"
   ]
  },
  {
   "cell_type": "code",
   "execution_count": 38,
   "metadata": {},
   "outputs": [
    {
     "data": {
      "image/png": "[encoded data removed]",
      "text/latex": [
       "$\\displaystyle \\frac{L \\left(- Fy + g m \\sin{\\left(\\phi \\right)}\\right) \\tan{\\left(\\phi \\right)}}{m}$"
      ],
      "text/plain": [
       "L⋅(-Fy + g⋅m⋅sin(φ))⋅tan(φ)\n",
       "───────────────────────────\n",
       "             m             "
      ]
     },
     "execution_count": 38,
     "metadata": {},
     "output_type": "execute_result"
    }
   ],
   "source": [
    "V_2 = sym.solve(A_new,V**2)[0]\n",
    "V_2.subs({p.q[0]:psi,p.q[1]:phi})"
   ]
  },
  {
   "cell_type": "code",
   "execution_count": 77,
   "metadata": {},
   "outputs": [],
   "source": [
    "V_body = sym.simplify(tether_frame.Translate(x,y,0).BodyVelocity())"
   ]
  },
  {
   "cell_type": "code",
   "execution_count": 87,
   "metadata": {},
   "outputs": [
    {
     "data": {
      "image/png": "[encoded data removed]",
      "text/latex": [
       "$\\displaystyle \\left[\\begin{matrix}- \\frac{V \\left(L \\sin{\\left(\\phi \\right)} + y \\cos{\\left(\\phi \\right)}\\right)}{L \\sin{\\left(\\phi \\right)}}\\\\\\frac{V x \\cos{\\left(\\phi \\right)}}{L \\sin{\\left(\\phi \\right)}}\\\\- \\frac{V x}{L}\\end{matrix}\\right]$"
      ],
      "text/plain": [
       "⎡-V⋅(L⋅sin(φ) + y⋅cos(φ)) ⎤\n",
       "⎢─────────────────────────⎥\n",
       "⎢         L⋅sin(φ)        ⎥\n",
       "⎢                         ⎥\n",
       "⎢       V⋅x⋅cos(φ)        ⎥\n",
       "⎢       ──────────        ⎥\n",
       "⎢        L⋅sin(φ)         ⎥\n",
       "⎢                         ⎥\n",
       "⎢          -V⋅x           ⎥\n",
       "⎢          ─────          ⎥\n",
       "⎣            L            ⎦"
      ]
     },
     "execution_count": 87,
     "metadata": {},
     "output_type": "execute_result"
    }
   ],
   "source": [
    "V_body = sym.Matrix(V_body[0:3])\n",
    "V_body = me.msubs(V_body,{p.qd[0]:V/(p.L*sym.sin(p.q[1])),p.qd[1]:0})\n",
    "V_body.subs({p.q[0]:psi,p.q[1]:phi})"
   ]
  },
  {
   "cell_type": "code",
   "execution_count": 92,
   "metadata": {},
   "outputs": [
    {
     "data": {
      "image/png": "[encoded data removed]",
      "text/latex": [
       "$\\displaystyle \\frac{x \\sin{\\left(\\phi \\right)}}{L \\sin{\\left(\\phi \\right)} + y \\cos{\\left(\\phi \\right)}}$"
      ],
      "text/plain": [
       "      x⋅sin(φ)     \n",
       "───────────────────\n",
       "L⋅sin(φ) + y⋅cos(φ)"
      ]
     },
     "execution_count": 92,
     "metadata": {},
     "output_type": "execute_result"
    }
   ],
   "source": [
    "sym.simplify(V_body[2]/V_body[0]).subs({p.q[0]:psi,p.q[1]:phi})"
   ]
  },
  {
   "cell_type": "code",
   "execution_count": 95,
   "metadata": {},
   "outputs": [
    {
     "data": {
      "image/png": "[encoded data removed]",
      "text/latex": [
       "$\\displaystyle \\left[\\begin{matrix}\\frac{L^{2} + \\frac{2 L y}{\\tan{\\left(\\phi \\right)}} + x^{2} + \\frac{x^{2}}{\\tan^{2}{\\left(\\phi \\right)}} + \\frac{y^{2}}{\\tan^{2}{\\left(\\phi \\right)}}}{L^{2}}\\end{matrix}\\right]$"
      ],
      "text/plain": [
       "⎡                       2         2  ⎤\n",
       "⎢ 2   2⋅L⋅y     2      x         y   ⎥\n",
       "⎢L  + ────── + x  + ─────── + ───────⎥\n",
       "⎢     tan(φ)           2         2   ⎥\n",
       "⎢                   tan (φ)   tan (φ)⎥\n",
       "⎢────────────────────────────────────⎥\n",
       "⎢                  2                 ⎥\n",
       "⎣                 L                  ⎦"
      ]
     },
     "execution_count": 95,
     "metadata": {},
     "output_type": "execute_result"
    }
   ],
   "source": [
    "sym.simplify(V_body.T*V_body/V**2).subs({p.q[0]:psi,p.q[1]:phi})"
   ]
  },
  {
   "cell_type": "code",
   "execution_count": null,
   "metadata": {},
   "outputs": [],
   "source": []
  }
 ],
 "metadata": {
  "kernelspec": {
   "display_name": "fwt_models",
   "language": "python",
   "name": "fwt_models"
  },
  "language_info": {
   "codemirror_mode": {
    "name": "ipython",
    "version": 3
   },
   "file_extension": ".py",
   "mimetype": "text/x-python",
   "name": "python",
   "nbconvert_exporter": "python",
   "pygments_lexer": "ipython3",
   "version": "3.8.8"
  }
 },
 "nbformat": 4,
 "nbformat_minor": 4
}
