{
 "cells": [
  {
   "cell_type": "code",
   "execution_count": 1,
   "metadata": {},
   "outputs": [],
   "source": [
    "import sympy as sym\n",
    "import sympy.physics.mechanics as me\n",
    "from sympy.abc import t as time\n",
    "\n",
    "import numpy as np\n",
    "import matplotlib.pyplot as plt\n",
    "\n",
    "import sys, os\n",
    "\n",
    "import moyra as ma\n",
    "import moyra.elements as ele\n",
    "import moyra.forces as ef\n",
    "\n",
    "me.mechanics_printing()"
   ]
  },
  {
   "cell_type": "markdown",
   "metadata": {},
   "source": [
    "#### Create Symbols"
   ]
  },
  {
   "cell_type": "code",
   "execution_count": 2,
   "metadata": {},
   "outputs": [],
   "source": [
    "DoFs = 2          # total degrees of freedom\n",
    "main_panels = 10  # main wing panels\n",
    "htp_panels = 4    # horizontal tailplane panels\n",
    "\n",
    "p = ma.ModelParameters.DynamicModel(DoFs)\n",
    "p.L_ot = ma.ModelSymbol(string = 'L_ot')\n",
    "p.L_tc = ma.ModelSymbol(string = 'L_tc')\n",
    "p.L_tw = ma.ModelSymbol(string = 'L_tw')\n",
    "p.L_te = ma.ModelSymbol(string = 'L_te')\n",
    "\n",
    "p.m = ma.ModelSymbol(string = 'm')\n",
    "p.I_xx = ma.ModelSymbol(string = 'I_xx')\n",
    "p.I_yy = ma.ModelSymbol(string = 'I_yy')\n",
    "p.I_zz = ma.ModelSymbol(string = 'I_zz')\n",
    "\n",
    "p.y_i = sym.Symbol('y_i') # spanwise location\n",
    "\n",
    "## Numeric Model Constants\n",
    "p.a = ma.ModelMatrix(value =[np.pi*2]*main_panels,symbols=sym.symbols(f'a_m:{main_panels}')) # local 2d lift curve slope at each panel on main wing\n",
    "p.a_h = ma.ModelMatrix(value =[np.pi*2]*htp_panels,symbols=sym.symbols(f'a_htp:{htp_panels}')) # local 2d lift curve slope at each panel on horizontal tailplane\n",
    "p.a_0 = ma.ModelSymbol(value = 2*np.pi, string = 'a_0')   # placeholder for local c_l\n",
    "\n",
    "\n",
    "p.c = ma.ModelSymbol(value = 0.15,string = 'c') # chord of wing\n",
    "p.c_h = ma.ModelSymbol(value = 0.15,string = 'c_htp') # chord of htp\n",
    "\n",
    "p.b = ma.ModelSymbol(value = 0.15,string = 'b') # chord of wing\n",
    "p.b_h = ma.ModelSymbol(value = 0.15,string = 'b_htp') # chord of htp\n",
    "\n",
    "# Attitude Parmas\n",
    "p.rho = ma.ModelSymbol(value = 1.225,string = 'rho')                 # density\n",
    "p.V = ma.ModelSymbol(value = 10,string = 'V')                        # velocity\n",
    "p.g  = ma.ModelSymbol(value = 9.81,string = 'g')                     # gravity\n"
   ]
  },
  {
   "cell_type": "markdown",
   "metadata": {},
   "source": [
    "#### Create Coordinate Systems"
   ]
  },
  {
   "cell_type": "code",
   "execution_count": 3,
   "metadata": {},
   "outputs": [],
   "source": [
    "tether_frame = ma.HomogenousTransform().R_z(p.q[0]).R_x(p.q[1]).Translate(0,0,-p.L_ot)\n",
    "\n",
    "#Generate Mass Matrices\n",
    "M = ele.MassMatrix(p.m, I_xx = p.I_xx, I_yy=p.I_yy, I_zz=p.I_zz)\n",
    "M = ele.MassMatrix(p.m, I_xx = 0, I_yy=0, I_zz=0)\n",
    "\n",
    "\n",
    "# Generate Rigid Elements\n",
    "aircraft_mass = ele.RigidElement(tether_frame.Translate(p.L_tc,0,0),M,gravityPotential=True)\n",
    "\n",
    "# Main Wing Aero Forces \n",
    "wing_AeroForces = ef.AeroForce.PerUnitSpan(p,tether_frame.Translate(p.L_tw,p.y_i,0),p.a_0,\n",
    "                               alphadot = 0,\n",
    "                               M_thetadot = 0,\n",
    "                               e = 0,\n",
    "                               w_g = 0,\n",
    "                               rootAlpha = 0,\n",
    "                               alpha_zero = 0,\n",
    "                               stall_angle = 0,\n",
    "                               c = p.c,\n",
    "                               c_d_max = 0,\n",
    "                               linear = True,\n",
    "                                z_inverted=False)\n",
    "\n",
    "# HTP Aero Forces \n",
    "htp_AeroForces = ef.AeroForce.PerUnitSpan(p,tether_frame.Translate(p.L_te,p.y_i,0),p.a_0,\n",
    "                               alphadot = 0,\n",
    "                               M_thetadot = 0,\n",
    "                               e = 0,\n",
    "                               w_g = 0,\n",
    "                               rootAlpha = 0,\n",
    "                               alpha_zero = 0,\n",
    "                               stall_angle = 0,\n",
    "                               c = p.c_h,\n",
    "                               c_d_max = 0,\n",
    "                               linear = True,\n",
    "                                z_inverted=False)\n"
   ]
  },
  {
   "cell_type": "code",
   "execution_count": 4,
   "metadata": {},
   "outputs": [],
   "source": [
    "# split wing into segments\n",
    "forces = []\n",
    "for i in range(main_panels):\n",
    "    seg_width = p.b/main_panels\n",
    "    yi = seg_width/2 + i*seg_width - p.b/2\n",
    "    forces.append(wing_AeroForces.subs({p.y_i:yi,p.a_0:p.a[main_panels-(i+1)]})*seg_width)\n",
    "for i in range(htp_panels):\n",
    "    seg_width = p.b_h/htp_panels\n",
    "    yi = seg_width/2 + i*seg_width - p.b_h/2\n",
    "    forces.append(wing_AeroForces.subs({p.y_i:yi,p.a_0:p.a_h[htp_panels-(i+1)]})*seg_width)\n",
    "Q = sym.Matrix([0]*p.qs)\n",
    "for f in forces:\n",
    "    Q += f.Q()\n",
    "AeroForces = ef.ExternalForce(Q)"
   ]
  },
  {
   "cell_type": "code",
   "execution_count": 5,
   "metadata": {},
   "outputs": [
    {
     "name": "stderr",
     "output_type": "stream",
     "text": [
      "/Users/fintan/Git/FwtModels/venv/lib/python3.7/site-packages/IPython/lib/latextools.py:126: MatplotlibDeprecationWarning: \n",
      "The to_png function was deprecated in Matplotlib 3.4 and will be removed two minor releases later. Use mathtext.math_to_image instead.\n",
      "  mt.to_png(f, s, fontsize=12, dpi=dpi, color=color)\n",
      "/Users/fintan/Git/FwtModels/venv/lib/python3.7/site-packages/IPython/lib/latextools.py:126: MatplotlibDeprecationWarning: \n",
      "The to_rgba function was deprecated in Matplotlib 3.4 and will be removed two minor releases later. Use mathtext.math_to_image instead.\n",
      "  mt.to_png(f, s, fontsize=12, dpi=dpi, color=color)\n",
      "/Users/fintan/Git/FwtModels/venv/lib/python3.7/site-packages/IPython/lib/latextools.py:126: MatplotlibDeprecationWarning: \n",
      "The to_mask function was deprecated in Matplotlib 3.4 and will be removed two minor releases later. Use mathtext.math_to_image instead.\n",
      "  mt.to_png(f, s, fontsize=12, dpi=dpi, color=color)\n",
      "/Users/fintan/Git/FwtModels/venv/lib/python3.7/site-packages/IPython/lib/latextools.py:126: MatplotlibDeprecationWarning: \n",
      "The MathtextBackendBitmap class was deprecated in Matplotlib 3.4 and will be removed two minor releases later. Use mathtext.math_to_image instead.\n",
      "  mt.to_png(f, s, fontsize=12, dpi=dpi, color=color)\n"
     ]
    },
    {
     "data": {
      "text/latex": [
       "$\\displaystyle \\left[\\begin{matrix}- \\left(L_{ot} \\sin{\\left(q_{1} \\right)} + y_{i} \\cos{\\left(q_{1} \\right)}\\right) \\dot{q}_{0}\\\\L_{ot} \\dot{q}_{1} + L_{tw} \\cos{\\left(q_{1} \\right)} \\dot{q}_{0}\\\\- L_{tw} \\sin{\\left(q_{1} \\right)} \\dot{q}_{0} + y_{i} \\dot{q}_{1}\\\\\\dot{q}_{1}\\\\\\sin{\\left(q_{1} \\right)} \\dot{q}_{0}\\\\\\cos{\\left(q_{1} \\right)} \\dot{q}_{0}\\end{matrix}\\right]$"
      ],
      "text/plain": [
       "⎡-(Lₒₜ⋅sin(q₁) + yᵢ⋅cos(q₁))⋅q₀̇⎤\n",
       "⎢                              ⎥\n",
       "⎢   Lₒₜ⋅q₁̇ + L_tw⋅cos(q₁)⋅q₀̇   ⎥\n",
       "⎢                              ⎥\n",
       "⎢   -L_tw⋅sin(q₁)⋅q₀̇ + yᵢ⋅q₁̇   ⎥\n",
       "⎢                              ⎥\n",
       "⎢              q₁̇              ⎥\n",
       "⎢                              ⎥\n",
       "⎢          sin(q₁)⋅q₀̇          ⎥\n",
       "⎢                              ⎥\n",
       "⎣          cos(q₁)⋅q₀̇          ⎦"
      ]
     },
     "execution_count": 5,
     "metadata": {},
     "output_type": "execute_result"
    }
   ],
   "source": [
    "## print the velocity in the wing frame\n",
    "tether_frame = ma.HomogenousTransform().R_z(p.q[0]).R_x(p.q[1]).Translate(0,0,-p.L_ot)\n",
    "T = tether_frame.Translate(p.L_tw,p.y_i,0)\n",
    "BJ = sym.trigsimp(sym.powsimp(sym.cancel(sym.expand(T.BodyJacobian(p.q)))))\n",
    "sym.simplify(BJ*p.qd)"
   ]
  },
  {
   "cell_type": "code",
   "execution_count": 6,
   "metadata": {},
   "outputs": [],
   "source": [
    "sm = ma.SymbolicModel.FromElementsAndForces(p,[aircraft_mass],ExtForces=AeroForces)"
   ]
  },
  {
   "cell_type": "code",
   "execution_count": 7,
   "metadata": {},
   "outputs": [
    {
     "data": {
      "text/latex": [
       "$\\displaystyle \\left[\\begin{matrix}L_{ot}^{2} m \\sin^{2}{\\left(q_{1} \\right)} + L_{tc}^{2} m & L_{ot} L_{tc} m \\cos{\\left(q_{1} \\right)}\\\\L_{ot} L_{tc} m \\cos{\\left(q_{1} \\right)} & L_{ot}^{2} m\\end{matrix}\\right]$"
      ],
      "text/plain": [
       "⎡   2      2           2                      ⎤\n",
       "⎢Lₒₜ ⋅m⋅sin (q₁) + L_tc ⋅m  Lₒₜ⋅L_tc⋅m⋅cos(q₁)⎥\n",
       "⎢                                             ⎥\n",
       "⎢                                    2        ⎥\n",
       "⎣   Lₒₜ⋅L_tc⋅m⋅cos(q₁)            Lₒₜ ⋅m      ⎦"
      ]
     },
     "execution_count": 7,
     "metadata": {},
     "output_type": "execute_result"
    }
   ],
   "source": [
    "sm.M"
   ]
  },
  {
   "cell_type": "code",
   "execution_count": 8,
   "metadata": {},
   "outputs": [
    {
     "data": {
      "text/latex": [
       "$\\displaystyle \\left[\\begin{matrix}L_{ot} m \\left(2 L_{ot} \\cos{\\left(q_{1} \\right)} \\dot{q}_{0} - L_{tc} \\dot{q}_{1}\\right) \\sin{\\left(q_{1} \\right)} \\dot{q}_{1}\\\\L_{ot} m \\left(- L_{ot} \\cos{\\left(q_{1} \\right)} \\dot{q}_{0}^{2} + g\\right) \\sin{\\left(q_{1} \\right)}\\end{matrix}\\right]$"
      ],
      "text/plain": [
       "⎡Lₒₜ⋅m⋅(2⋅Lₒₜ⋅cos(q₁)⋅q₀̇ - L_tc⋅q₁̇)⋅sin(q₁)⋅q₁̇⎤\n",
       "⎢                                             ⎥\n",
       "⎢          ⎛                2    ⎞            ⎥\n",
       "⎣    Lₒₜ⋅m⋅⎝- Lₒₜ⋅cos(q₁)⋅q₀̇  + g⎠⋅sin(q₁)    ⎦"
      ]
     },
     "execution_count": 8,
     "metadata": {},
     "output_type": "execute_result"
    }
   ],
   "source": [
    "sym.simplify(sm.f)"
   ]
  },
  {
   "cell_type": "code",
   "execution_count": 9,
   "metadata": {},
   "outputs": [
    {
     "data": {
      "text/latex": [
       "$\\displaystyle \\left[\\begin{matrix}- \\frac{L_{tw} b c \\rho a_{m0} \\left(- L_{ot} \\sin{\\left(q_{1} \\right)} - \\frac{9 b \\cos{\\left(q_{1} \\right)}}{20}\\right) \\left(- L_{tw} \\sin{\\left(q_{1} \\right)} \\dot{q}_{0} + \\frac{9 b \\dot{q}_{1}}{20}\\right) \\sin{\\left(q_{1} \\right)} \\dot{q}_{0}}{20} - \\frac{L_{tw} b c \\rho a_{m1} \\left(- L_{ot} \\sin{\\left(q_{1} \\right)} - \\frac{7 b \\cos{\\left(q_{1} \\right)}}{20}\\right) \\left(- L_{tw} \\sin{\\left(q_{1} \\right)} \\dot{q}_{0} + \\frac{7 b \\dot{q}_{1}}{20}\\right) \\sin{\\left(q_{1} \\right)} \\dot{q}_{0}}{20} - \\frac{L_{tw} b c \\rho a_{m2} \\left(- L_{ot} \\sin{\\left(q_{1} \\right)} - \\frac{b \\cos{\\left(q_{1} \\right)}}{4}\\right) \\left(- L_{tw} \\sin{\\left(q_{1} \\right)} \\dot{q}_{0} + \\frac{b \\dot{q}_{1}}{4}\\right) \\sin{\\left(q_{1} \\right)} \\dot{q}_{0}}{20} - \\frac{L_{tw} b c \\rho a_{m3} \\left(- L_{ot} \\sin{\\left(q_{1} \\right)} - \\frac{3 b \\cos{\\left(q_{1} \\right)}}{20}\\right) \\left(- L_{tw} \\sin{\\left(q_{1} \\right)} \\dot{q}_{0} + \\frac{3 b \\dot{q}_{1}}{20}\\right) \\sin{\\left(q_{1} \\right)} \\dot{q}_{0}}{20} - \\frac{L_{tw} b c \\rho a_{m4} \\left(- L_{ot} \\sin{\\left(q_{1} \\right)} - \\frac{b \\cos{\\left(q_{1} \\right)}}{20}\\right) \\left(- L_{tw} \\sin{\\left(q_{1} \\right)} \\dot{q}_{0} + \\frac{b \\dot{q}_{1}}{20}\\right) \\sin{\\left(q_{1} \\right)} \\dot{q}_{0}}{20} - \\frac{L_{tw} b c \\rho a_{m5} \\left(- L_{ot} \\sin{\\left(q_{1} \\right)} + \\frac{b \\cos{\\left(q_{1} \\right)}}{20}\\right) \\left(- L_{tw} \\sin{\\left(q_{1} \\right)} \\dot{q}_{0} - \\frac{b \\dot{q}_{1}}{20}\\right) \\sin{\\left(q_{1} \\right)} \\dot{q}_{0}}{20} - \\frac{L_{tw} b c \\rho a_{m6} \\left(- L_{ot} \\sin{\\left(q_{1} \\right)} + \\frac{3 b \\cos{\\left(q_{1} \\right)}}{20}\\right) \\left(- L_{tw} \\sin{\\left(q_{1} \\right)} \\dot{q}_{0} - \\frac{3 b \\dot{q}_{1}}{20}\\right) \\sin{\\left(q_{1} \\right)} \\dot{q}_{0}}{20} - \\frac{L_{tw} b c \\rho a_{m7} \\left(- L_{ot} \\sin{\\left(q_{1} \\right)} + \\frac{b \\cos{\\left(q_{1} \\right)}}{4}\\right) \\left(- L_{tw} \\sin{\\left(q_{1} \\right)} \\dot{q}_{0} - \\frac{b \\dot{q}_{1}}{4}\\right) \\sin{\\left(q_{1} \\right)} \\dot{q}_{0}}{20} - \\frac{L_{tw} b c \\rho a_{m8} \\left(- L_{ot} \\sin{\\left(q_{1} \\right)} + \\frac{7 b \\cos{\\left(q_{1} \\right)}}{20}\\right) \\left(- L_{tw} \\sin{\\left(q_{1} \\right)} \\dot{q}_{0} - \\frac{7 b \\dot{q}_{1}}{20}\\right) \\sin{\\left(q_{1} \\right)} \\dot{q}_{0}}{20} - \\frac{L_{tw} b c \\rho a_{m9} \\left(- L_{ot} \\sin{\\left(q_{1} \\right)} + \\frac{9 b \\cos{\\left(q_{1} \\right)}}{20}\\right) \\left(- L_{tw} \\sin{\\left(q_{1} \\right)} \\dot{q}_{0} - \\frac{9 b \\dot{q}_{1}}{20}\\right) \\sin{\\left(q_{1} \\right)} \\dot{q}_{0}}{20} - \\frac{L_{tw} b_{htp} c \\rho a_{htp0} \\left(- L_{ot} \\sin{\\left(q_{1} \\right)} - \\frac{3 b_{htp} \\cos{\\left(q_{1} \\right)}}{8}\\right) \\left(- L_{tw} \\sin{\\left(q_{1} \\right)} \\dot{q}_{0} + \\frac{3 b_{htp} \\dot{q}_{1}}{8}\\right) \\sin{\\left(q_{1} \\right)} \\dot{q}_{0}}{8} - \\frac{L_{tw} b_{htp} c \\rho a_{htp1} \\left(- L_{ot} \\sin{\\left(q_{1} \\right)} - \\frac{b_{htp} \\cos{\\left(q_{1} \\right)}}{8}\\right) \\left(- L_{tw} \\sin{\\left(q_{1} \\right)} \\dot{q}_{0} + \\frac{b_{htp} \\dot{q}_{1}}{8}\\right) \\sin{\\left(q_{1} \\right)} \\dot{q}_{0}}{8} - \\frac{L_{tw} b_{htp} c \\rho a_{htp2} \\left(- L_{ot} \\sin{\\left(q_{1} \\right)} + \\frac{b_{htp} \\cos{\\left(q_{1} \\right)}}{8}\\right) \\left(- L_{tw} \\sin{\\left(q_{1} \\right)} \\dot{q}_{0} - \\frac{b_{htp} \\dot{q}_{1}}{8}\\right) \\sin{\\left(q_{1} \\right)} \\dot{q}_{0}}{8} - \\frac{L_{tw} b_{htp} c \\rho a_{htp3} \\left(- L_{ot} \\sin{\\left(q_{1} \\right)} + \\frac{3 b_{htp} \\cos{\\left(q_{1} \\right)}}{8}\\right) \\left(- L_{tw} \\sin{\\left(q_{1} \\right)} \\dot{q}_{0} - \\frac{3 b_{htp} \\dot{q}_{1}}{8}\\right) \\sin{\\left(q_{1} \\right)} \\dot{q}_{0}}{8}\\\\\\frac{9 b^{2} c \\rho a_{m0} \\left(- L_{ot} \\sin{\\left(q_{1} \\right)} - \\frac{9 b \\cos{\\left(q_{1} \\right)}}{20}\\right) \\left(- L_{tw} \\sin{\\left(q_{1} \\right)} \\dot{q}_{0} + \\frac{9 b \\dot{q}_{1}}{20}\\right) \\dot{q}_{0}}{400} + \\frac{7 b^{2} c \\rho a_{m1} \\left(- L_{ot} \\sin{\\left(q_{1} \\right)} - \\frac{7 b \\cos{\\left(q_{1} \\right)}}{20}\\right) \\left(- L_{tw} \\sin{\\left(q_{1} \\right)} \\dot{q}_{0} + \\frac{7 b \\dot{q}_{1}}{20}\\right) \\dot{q}_{0}}{400} + \\frac{b^{2} c \\rho a_{m2} \\left(- L_{ot} \\sin{\\left(q_{1} \\right)} - \\frac{b \\cos{\\left(q_{1} \\right)}}{4}\\right) \\left(- L_{tw} \\sin{\\left(q_{1} \\right)} \\dot{q}_{0} + \\frac{b \\dot{q}_{1}}{4}\\right) \\dot{q}_{0}}{80} + \\frac{3 b^{2} c \\rho a_{m3} \\left(- L_{ot} \\sin{\\left(q_{1} \\right)} - \\frac{3 b \\cos{\\left(q_{1} \\right)}}{20}\\right) \\left(- L_{tw} \\sin{\\left(q_{1} \\right)} \\dot{q}_{0} + \\frac{3 b \\dot{q}_{1}}{20}\\right) \\dot{q}_{0}}{400} + \\frac{b^{2} c \\rho a_{m4} \\left(- L_{ot} \\sin{\\left(q_{1} \\right)} - \\frac{b \\cos{\\left(q_{1} \\right)}}{20}\\right) \\left(- L_{tw} \\sin{\\left(q_{1} \\right)} \\dot{q}_{0} + \\frac{b \\dot{q}_{1}}{20}\\right) \\dot{q}_{0}}{400} - \\frac{b^{2} c \\rho a_{m5} \\left(- L_{ot} \\sin{\\left(q_{1} \\right)} + \\frac{b \\cos{\\left(q_{1} \\right)}}{20}\\right) \\left(- L_{tw} \\sin{\\left(q_{1} \\right)} \\dot{q}_{0} - \\frac{b \\dot{q}_{1}}{20}\\right) \\dot{q}_{0}}{400} - \\frac{3 b^{2} c \\rho a_{m6} \\left(- L_{ot} \\sin{\\left(q_{1} \\right)} + \\frac{3 b \\cos{\\left(q_{1} \\right)}}{20}\\right) \\left(- L_{tw} \\sin{\\left(q_{1} \\right)} \\dot{q}_{0} - \\frac{3 b \\dot{q}_{1}}{20}\\right) \\dot{q}_{0}}{400} - \\frac{b^{2} c \\rho a_{m7} \\left(- L_{ot} \\sin{\\left(q_{1} \\right)} + \\frac{b \\cos{\\left(q_{1} \\right)}}{4}\\right) \\left(- L_{tw} \\sin{\\left(q_{1} \\right)} \\dot{q}_{0} - \\frac{b \\dot{q}_{1}}{4}\\right) \\dot{q}_{0}}{80} - \\frac{7 b^{2} c \\rho a_{m8} \\left(- L_{ot} \\sin{\\left(q_{1} \\right)} + \\frac{7 b \\cos{\\left(q_{1} \\right)}}{20}\\right) \\left(- L_{tw} \\sin{\\left(q_{1} \\right)} \\dot{q}_{0} - \\frac{7 b \\dot{q}_{1}}{20}\\right) \\dot{q}_{0}}{400} - \\frac{9 b^{2} c \\rho a_{m9} \\left(- L_{ot} \\sin{\\left(q_{1} \\right)} + \\frac{9 b \\cos{\\left(q_{1} \\right)}}{20}\\right) \\left(- L_{tw} \\sin{\\left(q_{1} \\right)} \\dot{q}_{0} - \\frac{9 b \\dot{q}_{1}}{20}\\right) \\dot{q}_{0}}{400} + \\frac{3 b_{htp}^{2} c \\rho a_{htp0} \\left(- L_{ot} \\sin{\\left(q_{1} \\right)} - \\frac{3 b_{htp} \\cos{\\left(q_{1} \\right)}}{8}\\right) \\left(- L_{tw} \\sin{\\left(q_{1} \\right)} \\dot{q}_{0} + \\frac{3 b_{htp} \\dot{q}_{1}}{8}\\right) \\dot{q}_{0}}{64} + \\frac{b_{htp}^{2} c \\rho a_{htp1} \\left(- L_{ot} \\sin{\\left(q_{1} \\right)} - \\frac{b_{htp} \\cos{\\left(q_{1} \\right)}}{8}\\right) \\left(- L_{tw} \\sin{\\left(q_{1} \\right)} \\dot{q}_{0} + \\frac{b_{htp} \\dot{q}_{1}}{8}\\right) \\dot{q}_{0}}{64} - \\frac{b_{htp}^{2} c \\rho a_{htp2} \\left(- L_{ot} \\sin{\\left(q_{1} \\right)} + \\frac{b_{htp} \\cos{\\left(q_{1} \\right)}}{8}\\right) \\left(- L_{tw} \\sin{\\left(q_{1} \\right)} \\dot{q}_{0} - \\frac{b_{htp} \\dot{q}_{1}}{8}\\right) \\dot{q}_{0}}{64} - \\frac{3 b_{htp}^{2} c \\rho a_{htp3} \\left(- L_{ot} \\sin{\\left(q_{1} \\right)} + \\frac{3 b_{htp} \\cos{\\left(q_{1} \\right)}}{8}\\right) \\left(- L_{tw} \\sin{\\left(q_{1} \\right)} \\dot{q}_{0} - \\frac{3 b_{htp} \\dot{q}_{1}}{8}\\right) \\dot{q}_{0}}{64}\\end{matrix}\\right]$"
      ],
      "text/plain": [
       "⎡                 ⎛               9⋅b⋅cos(q₁)⎞ ⎛                   9⋅b⋅q₁̇⎞   \n",
       "⎢  L_tw⋅b⋅c⋅ρ⋅aₘ₀⋅⎜-Lₒₜ⋅sin(q₁) - ───────────⎟⋅⎜-L_tw⋅sin(q₁)⋅q₀̇ + ──────⎟⋅si\n",
       "⎢                 ⎝                    20    ⎠ ⎝                     20  ⎠    \n",
       "⎢- ───────────────────────────────────────────────────────────────────────────\n",
       "⎢                                          20                                 \n",
       "⎢                                                                             \n",
       "⎢                                                                             \n",
       "⎢                                                                             \n",
       "⎢                                                                             \n",
       "⎢                                                                             \n",
       "⎣                                                                             \n",
       "\n",
       "                          ⎛               7⋅b⋅cos(q₁)⎞ ⎛                   7⋅b\n",
       "n(q₁)⋅q₀̇   L_tw⋅b⋅c⋅ρ⋅aₘ₁⋅⎜-Lₒₜ⋅sin(q₁) - ───────────⎟⋅⎜-L_tw⋅sin(q₁)⋅q₀̇ + ─\n",
       "                         ⎝                    20    ⎠ ⎝                     20\n",
       "─────── - ────────────────────────────────────────────────────────────────────\n",
       "                                                  20                          \n",
       "                                                                              \n",
       "   2         ⎛               9⋅b⋅cos(q₁)⎞ ⎛                   9⋅b⋅q₁̇⎞        \n",
       "9⋅b ⋅c⋅ρ⋅aₘ₀⋅⎜-Lₒₜ⋅sin(q₁) - ───────────⎟⋅⎜-L_tw⋅sin(q₁)⋅q₀̇ + ──────⎟⋅q₀̇   7\n",
       "             ⎝                    20    ⎠ ⎝                     20  ⎠         \n",
       "──────────────────────────────────────────────────────────────────────── + ───\n",
       "                                  400                                         \n",
       "\n",
       "⋅q₁̇⎞                             ⎛               b⋅cos(q₁)⎞ ⎛                \n",
       "─────⎟⋅sin(q₁)⋅q₀̇   L_tw⋅b⋅c⋅ρ⋅aₘ₂⋅⎜-Lₒₜ⋅sin(q₁) - ─────────⎟⋅⎜-L_tw⋅sin(q₁)⋅\n",
       "  ⎠                             ⎝                   4    ⎠ ⎝                  \n",
       "────────────── - ─────────────────────────────────────────────────────────────\n",
       "                                                       20                     \n",
       "                                                                              \n",
       " 2         ⎛               7⋅b⋅cos(q₁)⎞ ⎛                   7⋅b⋅q₁̇⎞       2  \n",
       "⋅b ⋅c⋅ρ⋅aₘ₁⋅⎜-Lₒₜ⋅sin(q₁) - ───────────⎟⋅⎜-L_tw⋅sin(q₁)⋅q₀̇ + ──────⎟⋅q₀̇   b \n",
       "          ⎝                    20    ⎠ ⎝                     20  ⎠            \n",
       "───────────────────────────────────────────────────────────────────── + ──────\n",
       "                               400                                            \n",
       "\n",
       "   b⋅q₁̇⎞                             ⎛               3⋅b⋅cos(q₁)⎞ ⎛          \n",
       "q₀̇ + ────⎟⋅sin(q₁)⋅q₀̇   L_tw⋅b⋅c⋅ρ⋅aₘ₃⋅⎜-Lₒₜ⋅sin(q₁) - ───────────⎟⋅⎜-L_tw⋅s\n",
       "  4  ⎠                             ⎝                    20    ⎠ ⎝             \n",
       "───────────────── - ──────────────────────────────────────────────────────────\n",
       "                                                            20                \n",
       "                                                                              \n",
       "       ⎛               b⋅cos(q₁)⎞ ⎛                   b⋅q₁̇⎞         2        \n",
       "⋅c⋅ρ⋅aₘ₂⋅⎜-Lₒₜ⋅sin(q₁) - ─────────⎟⋅⎜-L_tw⋅sin(q₁)⋅q₀̇ + ────⎟⋅q₀̇   3⋅b ⋅c⋅ρ⋅\n",
       "     ⎝                   4    ⎠ ⎝                    4  ⎠                   ⎝ \n",
       "──────────────────────────────────────────────────────────── + ───────────────\n",
       "                          80                                                  \n",
       "\n",
       "         3⋅b⋅q₁̇⎞                             ⎛               b⋅cos(q₁)⎞ ⎛    \n",
       "in(q₁)⋅q₀̇ + ──────⎟⋅sin(q₁)⋅q₀̇   L_tw⋅b⋅c⋅ρ⋅aₘ₄⋅⎜-Lₒₜ⋅sin(q₁) - ─────────⎟⋅⎜\n",
       "        20  ⎠                             ⎝                   20   ⎠ ⎝        \n",
       "──────────────────────── - ───────────────────────────────────────────────────\n",
       "                                                                 20           \n",
       "                                                                              \n",
       " ⎛               3⋅b⋅cos(q₁)⎞ ⎛                   3⋅b⋅q₁̇⎞       2         ⎛  \n",
       "aₘ₃⋅⎜-Lₒₜ⋅sin(q₁) - ───────────⎟⋅⎜-L_tw⋅sin(q₁)⋅q₀̇ + ──────⎟⋅q₀̇   b ⋅c⋅ρ⋅aₘ₄\n",
       "                   20    ⎠ ⎝                     20  ⎠                 ⎝      \n",
       "───────────────────────────────────────────────────────── + ──────────────────\n",
       "                   400                                                        \n",
       "\n",
       "               b⋅q₁̇⎞                             ⎛               b⋅cos(q₁)⎞ ⎛\n",
       "-L_tw⋅sin(q₁)⋅q₀̇ + ────⎟⋅sin(q₁)⋅q₀̇   L_tw⋅b⋅c⋅ρ⋅aₘ₅⋅⎜-Lₒₜ⋅sin(q₁) + ───────\n",
       "            20 ⎠                             ⎝                   20   ⎠ ⎝     \n",
       "─────────────────────────── - ────────────────────────────────────────────────\n",
       "                                                                    20        \n",
       "                                                                              \n",
       "             b⋅cos(q₁)⎞ ⎛                   b⋅q₁̇⎞       2         ⎛          \n",
       "⋅⎜-Lₒₜ⋅sin(q₁) - ─────────⎟⋅⎜-L_tw⋅sin(q₁)⋅q₀̇ + ────⎟⋅q₀̇   b ⋅c⋅ρ⋅aₘ₅⋅⎜-Lₒₜ⋅\n",
       "             20   ⎠ ⎝                    20 ⎠                 ⎝               \n",
       "──────────────────────────────────────────────── - ───────────────────────────\n",
       "             400                                                              \n",
       "\n",
       "                   b⋅q₁̇⎞                             ⎛               3⋅b⋅cos(\n",
       "──⎟⋅⎜-L_tw⋅sin(q₁)⋅q₀̇ - ────⎟⋅sin(q₁)⋅q₀̇   L_tw⋅b⋅c⋅ρ⋅aₘ₆⋅⎜-Lₒₜ⋅sin(q₁) + ──\n",
       "               20 ⎠                             ⎝                    20    ⎠ ⎝\n",
       "────────────────────────────── - ─────────────────────────────────────────────\n",
       "                                                                         20   \n",
       "                                                                              \n",
       "     b⋅cos(q₁)⎞ ⎛                   b⋅q₁̇⎞         2         ⎛               3\n",
       "sin(q₁) + ─────────⎟⋅⎜-L_tw⋅sin(q₁)⋅q₀̇ - ────⎟⋅q₀̇   3⋅b ⋅c⋅ρ⋅aₘ₆⋅⎜-Lₒₜ⋅sin(q\n",
       "    20   ⎠ ⎝                    20 ⎠                   ⎝                    20\n",
       "─────────────────────────────────────── - ────────────────────────────────────\n",
       "    400                                                                     40\n",
       "\n",
       "q₁)⎞ ⎛                   3⋅b⋅q₁̇⎞                             ⎛               \n",
       "─────────⎟⋅⎜-L_tw⋅sin(q₁)⋅q₀̇ - ──────⎟⋅sin(q₁)⋅q₀̇   L_tw⋅b⋅c⋅ρ⋅aₘ₇⋅⎜-Lₒₜ⋅sin\n",
       "                     20  ⎠                             ⎝                   4  \n",
       "───────────────────────────────────── - ──────────────────────────────────────\n",
       "                                                                              \n",
       "                                                                              \n",
       "⋅b⋅cos(q₁)⎞ ⎛                   3⋅b⋅q₁̇⎞       2         ⎛               b⋅cos\n",
       "₁) + ───────────⎟⋅⎜-L_tw⋅sin(q₁)⋅q₀̇ - ──────⎟⋅q₀̇   b ⋅c⋅ρ⋅aₘ₇⋅⎜-Lₒₜ⋅sin(q₁) \n",
       "    ⎠ ⎝                     20  ⎠                 ⎝                   4    ⎠ ⎝\n",
       "──────────────────────────────────── - ───────────────────────────────────────\n",
       "0                                                                      80     \n",
       "\n",
       "b⋅cos(q₁)⎞ ⎛                   b⋅q₁̇⎞                             ⎛           \n",
       "(q₁) + ─────────⎟⋅⎜-L_tw⋅sin(q₁)⋅q₀̇ - ────⎟⋅sin(q₁)⋅q₀̇   L_tw⋅b⋅c⋅ρ⋅aₘ₈⋅⎜-Lₒ\n",
       "  ⎠ ⎝                    4  ⎠                             ⎝                   \n",
       "──────────────────────────────────────── - ───────────────────────────────────\n",
       "20                                                                            \n",
       "                                                                              \n",
       "(q₁)⎞ ⎛                   b⋅q₁̇⎞         2         ⎛               7⋅b⋅cos(q₁)\n",
       "+ ─────────⎟⋅⎜-L_tw⋅sin(q₁)⋅q₀̇ - ────⎟⋅q₀̇   7⋅b ⋅c⋅ρ⋅aₘ₈⋅⎜-Lₒₜ⋅sin(q₁) + ───\n",
       "                    4  ⎠                   ⎝                    20    ⎠ ⎝     \n",
       "─────────────────────────── - ────────────────────────────────────────────────\n",
       "                                                                400           \n",
       "\n",
       "    7⋅b⋅cos(q₁)⎞ ⎛                   7⋅b⋅q₁̇⎞                             ⎛   \n",
       "ₜ⋅sin(q₁) + ───────────⎟⋅⎜-L_tw⋅sin(q₁)⋅q₀̇ - ──────⎟⋅sin(q₁)⋅q₀̇   L_tw⋅b⋅c⋅ρ\n",
       " 20    ⎠ ⎝                     20  ⎠                             ⎝            \n",
       "─────────────────────────────────────────────── - ────────────────────────────\n",
       "     20                                                                       \n",
       "                                                                              \n",
       "⎞ ⎛                   7⋅b⋅q₁̇⎞         2         ⎛               9⋅b⋅cos(q₁)⎞ \n",
       "────────⎟⋅⎜-L_tw⋅sin(q₁)⋅q₀̇ - ──────⎟⋅q₀̇   9⋅b ⋅c⋅ρ⋅aₘ₉⋅⎜-Lₒₜ⋅sin(q₁) + ────\n",
       "                20  ⎠                   ⎝                    20    ⎠ ⎝        \n",
       "──────────────────────── - ───────────────────────────────────────────────────\n",
       "                                                             400              \n",
       "\n",
       "            9⋅b⋅cos(q₁)⎞ ⎛                   9⋅b⋅q₁̇⎞                         \n",
       "⋅aₘ₉⋅⎜-Lₒₜ⋅sin(q₁) + ───────────⎟⋅⎜-L_tw⋅sin(q₁)⋅q₀̇ - ──────⎟⋅sin(q₁)⋅q₀̇   L\n",
       "        20    ⎠ ⎝                     20  ⎠                                  ⎝\n",
       "────────────────────────────────────────────────────── - ─────────────────────\n",
       "            20                                                                \n",
       "                                                                              \n",
       "⎛                   9⋅b⋅q₁̇⎞            2           ⎛               3⋅bₕₜₚ⋅cos\n",
       "───────⎟⋅⎜-L_tw⋅sin(q₁)⋅q₀̇ - ──────⎟⋅q₀̇   3⋅bₕₜₚ ⋅c⋅ρ⋅aₕₜₚ₀⋅⎜-Lₒₜ⋅sin(q₁) - \n",
       "             20  ⎠                        ⎝                     8       ⎠ ⎝   \n",
       "───────────────────── + ──────────────────────────────────────────────────────\n",
       "                                                                 64           \n",
       "\n",
       "         ⎛               3⋅bₕₜₚ⋅cos(q₁)⎞ ⎛                   3⋅bₕₜₚ⋅q₁̇⎞      \n",
       "_tw⋅bₕₜₚ⋅c⋅ρ⋅aₕₜₚ₀⋅⎜-Lₒₜ⋅sin(q₁) - ──────────────⎟⋅⎜-L_tw⋅sin(q₁)⋅q₀̇ + ──────\n",
       "                     8       ⎠ ⎝                       8    ⎠                 \n",
       "──────────────────────────────────────────────────────────────────────── - ───\n",
       "                         8                                                    \n",
       "                                                                              \n",
       "(q₁)⎞ ⎛                   3⋅bₕₜₚ⋅q₁̇⎞          2           ⎛               bₕₜ\n",
       "──────────────⎟⋅⎜-L_tw⋅sin(q₁)⋅q₀̇ + ─────────⎟⋅q₀̇   bₕₜₚ ⋅c⋅ρ⋅aₕₜₚ₁⋅⎜-Lₒₜ⋅si\n",
       "                    8    ⎠                      ⎝                    8      ⎠ \n",
       "───────────────────────────── + ──────────────────────────────────────────────\n",
       "                                                                      64      \n",
       "\n",
       "                            ⎛               bₕₜₚ⋅cos(q₁)⎞ ⎛                   \n",
       "───⎟⋅sin(q₁)⋅q₀̇   L_tw⋅bₕₜₚ⋅c⋅ρ⋅aₕₜₚ₁⋅⎜-Lₒₜ⋅sin(q₁) - ────────────⎟⋅⎜-L_tw⋅si\n",
       "                 ⎝                    8      ⎠ ⎝                      8   ⎠   \n",
       "──────────────────────────────────────────────────────────────────────────────\n",
       "                                         8                                    \n",
       "                                                                              \n",
       "ₚ⋅cos(q₁)⎞ ⎛                   bₕₜₚ⋅q₁̇⎞          2           ⎛               \n",
       "n(q₁) - ────────────⎟⋅⎜-L_tw⋅sin(q₁)⋅q₀̇ + ───────⎟⋅q₀̇   bₕₜₚ ⋅c⋅ρ⋅aₕₜₚ₂⋅⎜-Lₒ\n",
       "⎝                      8   ⎠                      ⎝                    8      \n",
       "─────────────────────────────── - ────────────────────────────────────────────\n",
       "                                                                        64    \n",
       "\n",
       "bₕₜₚ⋅q₁̇⎞                                  ⎛               bₕₜₚ⋅cos(q₁)⎞ ⎛    \n",
       "n(q₁)⋅q₀̇ + ───────⎟⋅sin(q₁)⋅q₀̇   L_tw⋅bₕₜₚ⋅c⋅ρ⋅aₕₜₚ₂⋅⎜-Lₒₜ⋅sin(q₁) + ───────\n",
       "                               ⎝                    8      ⎠ ⎝                \n",
       "──────── - ───────────────────────────────────────────────────────────────────\n",
       "                                                       8                      \n",
       "                                                                              \n",
       "bₕₜₚ⋅cos(q₁)⎞ ⎛                   bₕₜₚ⋅q₁̇⎞            2           ⎛          \n",
       "ₜ⋅sin(q₁) + ────────────⎟⋅⎜-L_tw⋅sin(q₁)⋅q₀̇ - ───────⎟⋅q₀̇   3⋅bₕₜₚ ⋅c⋅ρ⋅aₕₜₚ\n",
       "⎠ ⎝                      8   ⎠                        ⎝                     8 \n",
       "───────────────────────────────── - ──────────────────────────────────────────\n",
       "                                                                             6\n",
       "\n",
       "               bₕₜₚ⋅q₁̇⎞                                  ⎛               3⋅bₕ\n",
       "─────⎟⋅⎜-L_tw⋅sin(q₁)⋅q₀̇ - ───────⎟⋅sin(q₁)⋅q₀̇   L_tw⋅bₕₜₚ⋅c⋅ρ⋅aₕₜₚ₃⋅⎜-Lₒₜ⋅s\n",
       "      8   ⎠                                  ⎝                     8       ⎠ ⎝\n",
       "────────────────────── - ─────────────────────────────────────────────────────\n",
       "                                                                       8      \n",
       "                                                                              \n",
       "     3⋅bₕₜₚ⋅cos(q₁)⎞ ⎛                   3⋅bₕₜₚ⋅q₁̇⎞                          \n",
       "₃⋅⎜-Lₒₜ⋅sin(q₁) + ──────────────⎟⋅⎜-L_tw⋅sin(q₁)⋅q₀̇ - ─────────⎟⋅q₀̇         \n",
       "      ⎠ ⎝                       8    ⎠                                        \n",
       "─────────────────────────────────────────                                     \n",
       "4                                                                             \n",
       "\n",
       "ₜₚ⋅cos(q₁)⎞ ⎛                   3⋅bₕₜₚ⋅q₁̇⎞           ⎤\n",
       "in(q₁) + ──────────────⎟⋅⎜-L_tw⋅sin(q₁)⋅q₀̇ - ─────────⎟⋅sin(q₁)⋅q₀̇⎥\n",
       "                       8    ⎠           ⎥\n",
       "────────────────────────────────────────⎥\n",
       "                                        ⎥\n",
       "                                        ⎥\n",
       "                                                      ⎥\n",
       "                                                                    ⎥\n",
       "                                        ⎥\n",
       "                                        ⎥\n",
       "                                        ⎦"
      ]
     },
     "execution_count": 9,
     "metadata": {},
     "output_type": "execute_result"
    }
   ],
   "source": [
    "sm.ExtForces.Q()"
   ]
  },
  {
   "cell_type": "markdown",
   "metadata": {},
   "source": [
    "sm.t"
   ]
  }
 ],
 "metadata": {
  "kernelspec": {
   "display_name": "fwtmodel",
   "language": "python",
   "name": "fwtmodel"
  },
  "language_info": {
   "codemirror_mode": {
    "name": "ipython",
    "version": 3
   },
   "file_extension": ".py",
   "mimetype": "text/x-python",
   "name": "python",
   "nbconvert_exporter": "python",
   "pygments_lexer": "ipython3",
   "version": "3.7.7"
  }
 },
 "nbformat": 4,
 "nbformat_minor": 4
}
