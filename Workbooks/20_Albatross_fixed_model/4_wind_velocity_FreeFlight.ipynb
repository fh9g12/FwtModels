{
 "cells": [
  {
   "cell_type": "code",
   "execution_count": 1,
   "metadata": {},
   "outputs": [],
   "source": [
    "import sympy as sym\n",
    "import sympy.physics.mechanics as me\n",
    "from sympy.abc import t as time\n",
    "\n",
    "import numpy as np\n",
    "import matplotlib.pyplot as plt\n",
    "\n",
    "import sys, os\n",
    "\n",
    "import moyra as ma\n",
    "import moyra.elements as ele\n",
    "import moyra.forces as ef\n",
    "\n",
    "me.mechanics_printing()"
   ]
  },
  {
   "cell_type": "markdown",
   "metadata": {},
   "source": [
    "#### Create Symbols"
   ]
  },
  {
   "cell_type": "code",
   "execution_count": 2,
   "metadata": {},
   "outputs": [],
   "source": [
    "from sympy.abc import x,y,z\n",
    "DoFs = 6          # total degrees of freedom\n",
    "\n",
    "p = ma.DynamicModelParameters(DoFs)\n",
    "p.Fx = ma.ModelSymbol(string = 'Fx')\n",
    "p.Fy = ma.ModelSymbol(string = 'Fy')\n",
    "p.Fz = ma.ModelSymbol(string = 'Fz')\n",
    "p.m = ma.ModelSymbol(string = 'm')\n",
    "\n",
    "# Attitude Parmas\n",
    "p.rho = ma.ModelSymbol(value = 1.225,string = 'rho')                 # density\n",
    "p.V = ma.ModelSymbol(value = 10,string = 'V')                        # velocity\n",
    "p.g  = ma.ModelSymbol(value = 9.81,string = 'g')                     # gravity\n"
   ]
  },
  {
   "cell_type": "markdown",
   "metadata": {},
   "source": [
    "#### Create Coordinate Systems"
   ]
  },
  {
   "cell_type": "code",
   "execution_count": 4,
   "metadata": {},
   "outputs": [],
   "source": [
    "wind_frame = ma.HomogenousTransform().R_x(sym.pi+p.q[3]).Translate(p.q[0],p.q[1],p.q[2])\n",
    "wind2body = ma.HomogenousTransform().R_z(p.q[4]).R_y(p.q[5])\n",
    "body_frame = wind_frame.R_z(p.q[4]).R_y(p.q[5])\n",
    "\n",
    "#Generate Mass Matrices\n",
    "# M = ele.MassMatrix(p.m, I_xx = p.I_xx, I_yy=p.I_yy, I_zz=p.I_zz)\n",
    "M = ele.MassMatrix(p.m, I_xx = 0, I_yy=0, I_zz=0)\n",
    "\n",
    "# Generate Rigid Elements\n",
    "aircraft_mass = ele.RigidElement(body_frame,M,gravityPotential=True)\n",
    "#tether_spring = ele.Spring(p.q[2],p.K)\n",
    "\n",
    "# Generate Aircraft Forces\n",
    "aircraft_forces = ef.BodyForce(p,wind_frame,Fx=p.Fx,Fy=p.Fy,Fz=p.Fz)"
   ]
  },
  {
   "cell_type": "code",
   "execution_count": 5,
   "metadata": {},
   "outputs": [],
   "source": [
    "sm = ma.SymbolicModel.FromElementsAndForces(p,[aircraft_mass],ExtForces=aircraft_forces)"
   ]
  },
  {
   "cell_type": "code",
   "execution_count": 6,
   "metadata": {},
   "outputs": [
    {
     "data": {
      "image/png": "[encoded data removed]",
      "text/latex": [
       "$\\displaystyle \\left[\\begin{matrix}\\dot{q}_{0}\\\\- z \\dot{q}_{3} - q_{2} \\dot{q}_{3} + \\dot{q}_{1}\\\\y \\dot{q}_{3} + q_{1} \\dot{q}_{3} + \\dot{q}_{2}\\end{matrix}\\right]$"
      ],
      "text/plain": [
       "⎡        q₀̇        ⎤\n",
       "⎢                  ⎥\n",
       "⎢-z⋅q₃̇ - q₂⋅q₃̇ + q₁̇⎥\n",
       "⎢                  ⎥\n",
       "⎣y⋅q₃̇ + q₁⋅q₃̇ + q₂̇ ⎦"
      ]
     },
     "execution_count": 6,
     "metadata": {},
     "output_type": "execute_result"
    }
   ],
   "source": [
    "v_wind = wind_frame.Translate(x,y,z).simplify().BodyVelocity()\n",
    "v_wind = sym.simplify(sym.Matrix(v_wind[0:3]))\n",
    "v_wind"
   ]
  },
  {
   "cell_type": "code",
   "execution_count": 7,
   "metadata": {},
   "outputs": [
    {
     "data": {
      "image/png": "[encoded data removed]",
      "text/latex": [
       "$\\displaystyle \\left[\\begin{matrix}- y \\cos{\\left(q_{5} \\right)} \\dot{q}_{4} + z \\dot{q}_{5}\\\\\\left(x \\cos{\\left(q_{5} \\right)} + z \\sin{\\left(q_{5} \\right)}\\right) \\dot{q}_{4}\\\\- x \\dot{q}_{5} - y \\sin{\\left(q_{5} \\right)} \\dot{q}_{4}\\end{matrix}\\right]$"
      ],
      "text/plain": [
       "⎡   -y⋅cos(q₅)⋅q₄̇ + z⋅q₅̇   ⎤\n",
       "⎢                          ⎥\n",
       "⎢(x⋅cos(q₅) + z⋅sin(q₅))⋅q₄̇⎥\n",
       "⎢                          ⎥\n",
       "⎣   -x⋅q₅̇ - y⋅sin(q₅)⋅q₄̇   ⎦"
      ]
     },
     "execution_count": 7,
     "metadata": {},
     "output_type": "execute_result"
    }
   ],
   "source": [
    "vb = wind2body.Translate(x,y,z).simplify().BodyVelocity()\n",
    "vb = sym.simplify(sym.Matrix(vb[0:3]))\n",
    "vb"
   ]
  },
  {
   "cell_type": "code",
   "execution_count": 8,
   "metadata": {},
   "outputs": [],
   "source": [
    "def sm_to_matlab_file(sm,p,expr,func_name,file_dir):\n",
    "    with open(file_dir+f\"{func_name}.m\",'w') as file:\n",
    "        file.write(sm._gen_octave(expr,p,func_name).replace(f'function out = {func_name}(U,p)',f'function out = {func_name}(U,x,y,z,p)'))"
   ]
  },
  {
   "cell_type": "code",
   "execution_count": 10,
   "metadata": {},
   "outputs": [],
   "source": [
    "file_dir = \"C:\\\\Git\\\\AlbatrossOneNastran\\\\matlab\\\\+gen_vlm\\\\+FreeFlightWind\\\\\"\n",
    "sm_to_matlab_file(sm,p,v_wind,'get_wind_frame_v',file_dir)\n",
    "sm_to_matlab_file(sm,p,vb,'get_body_velocity_in_wind_v',file_dir)\n",
    "p.to_matlab_class(file_dir=file_dir)"
   ]
  },
  {
   "cell_type": "code",
   "execution_count": null,
   "metadata": {},
   "outputs": [],
   "source": []
  }
 ],
 "metadata": {
  "kernelspec": {
   "display_name": "fwt_models",
   "language": "python",
   "name": "fwt_models"
  },
  "language_info": {
   "codemirror_mode": {
    "name": "ipython",
    "version": 3
   },
   "file_extension": ".py",
   "mimetype": "text/x-python",
   "name": "python",
   "nbconvert_exporter": "python",
   "pygments_lexer": "ipython3",
   "version": "3.8.8"
  }
 },
 "nbformat": 4,
 "nbformat_minor": 4
}
