{
 "cells": [
  {
   "cell_type": "code",
   "execution_count": 1,
   "id": "5c36976b-1b27-4f5b-8e37-db7526560c97",
   "metadata": {},
   "outputs": [],
   "source": [
    "import sympy as sym\n",
    "import sympy.physics.mechanics as me\n",
    "from sympy.abc import t\n",
    "import moyra as ma\n",
    "me.mechanics_printing()"
   ]
  },
  {
   "cell_type": "code",
   "execution_count": 2,
   "id": "96e3d5cb-383f-4fec-aa47-ecefdb91ec62",
   "metadata": {},
   "outputs": [],
   "source": [
    "Bodies = 2\n",
    "DoFs = [5,6]\n",
    "\n",
    "# heave and fold angle as degrres of freedom\n",
    "p = ma.DynamicModelParameters(sum(DoFs))\n",
    "\n",
    "#gravity vector\n",
    "p.g  = ma.ModelSymbol(value = 9.81,string = 'g')                     # gravity\n",
    "p.g_v = ma.ModelMatrix(value =[0,0,-1],length=3,string='g_v') # The stationary point"
   ]
  },
  {
   "cell_type": "code",
   "execution_count": 3,
   "id": "43fdcf5e-5518-4ea1-826b-7fa341978f41",
   "metadata": {},
   "outputs": [],
   "source": [
    "# inner wing properites\n",
    "p.rho_b = ma.ModelSymbol(value = 0.3,string = 'rho_b')\n",
    "p.c_b = ma.ModelSymbol(value = 0.3,string = 'c_b')\n",
    "p.L = ma.ModelSymbol(value = 0.3,string = 'L')\n",
    "p.c = ma.ModelSymbol(value = 0.3,string = 'c')\n",
    "p.x_f = ma.ModelSymbol(value = 0.3,string = 'x_f')\n",
    "p.x_h = ma.ModelSymbol(value = 0.3,string = 'x_h')\n",
    "p.EI = ma.ModelSymbol(value = 0.3,string = 'EI')\n",
    "p.GJ = ma.ModelSymbol(value = 0.3,string = 'GJ')\n",
    "\n",
    "p.y_0,p.x_0 = sym.symbols('y_0,x_0')"
   ]
  },
  {
   "cell_type": "code",
   "execution_count": 4,
   "id": "9f3097fa-d4be-4afc-adc0-eb49efc06eb4",
   "metadata": {},
   "outputs": [],
   "source": [
    "# fwt properties\n",
    "## pendulum mass\n",
    "p.m_f = ma.ModelSymbol(value = 0.3,string = 'm_f')\n",
    "p.I_xx = ma.ModelSymbol(value = 0.3,string = 'I_xx')\n",
    "p.I_yy = ma.ModelSymbol(value = 0.3,string = 'I_yy')\n",
    "p.I_zz = ma.ModelSymbol(value = 0.3,string = 'I_zz')\n",
    "p.I_xy = ma.ModelSymbol(value = 0.3,string = 'I_xy')\n",
    "p.I_xz = ma.ModelSymbol(value = 0.3,string = 'I_xz')\n",
    "p.I_yz = ma.ModelSymbol(value = 0.3,string = 'I_yz')\n",
    "\n",
    "# pendulum length\n",
    "p.L_f = ma.ModelSymbol(value = 0.3,string = 'L_f')\n",
    "p.x_c = ma.ModelSymbol(value = 0.3,string = 'x_c')\n",
    "p.y_c = ma.ModelSymbol(value = 0.3,string = 'y_c')\n",
    "\n",
    "p.Lambda = ma.ModelSymbol(value = 0.3,string = 'Lambda')\n",
    "p.V = ma.ModelSymbol(value = 0.3,string = 'V')\n",
    "p.alpha_r = ma.ModelSymbol(value = 0.3,string = 'alpha_r')"
   ]
  },
  {
   "cell_type": "code",
   "execution_count": 5,
   "id": "f946aff2-1993-45a7-b3ec-e888b19e5293",
   "metadata": {},
   "outputs": [],
   "source": [
    "## GET INNER WING ELEMENT\n",
    "# get shape function\n",
    "q_f = p.q[:DoFs[0]]\n",
    "S,tau = ma.elements.FlexiElement.ShapeFunctions_OBM_IBN_TO(3,0,2,q_f,p.y_0,p.x_0,0,1,type='taylor')\n",
    "u = S*sym.Matrix(q_f) + sym.Matrix([p.x_0,p.y_0,0])\n",
    "# get reference frame\n",
    "# inner_wing_frame = ma.frames.HomogenousFrame().Translate(p.q[0],0,p.q[1]).R_y(p.alpha_r).Translate(*u)\n",
    "inner_wing_frame = ma.frames.HomogenousFrame().Translate(*u)\n",
    "# get flexible element\n",
    "link2_x__int = (p.x_0,p.x_f-p.c_b*sym.Rational(1,2),p.x_f+p.c_b*sym.Rational(1,2))\n",
    "link2_y_int = (p.y_0,0,p.L)\n",
    "main_wing_ele = ma.elements.FlexiElement(p.q,inner_wing_frame,p.rho_b,S,link2_x__int,link2_y_int,0,q_f,p.EI,p.GJ,grav_vec = p.g*p.g_v)"
   ]
  },
  {
   "cell_type": "code",
   "execution_count": 6,
   "id": "7217a5cd-4bb8-40cc-aac1-346554da1f22",
   "metadata": {},
   "outputs": [],
   "source": [
    "## GET FWT ELEMENT\n",
    "fwt_frame= ma.frames.ReferenceFrame.EulerAnglesXYZ(sym.Matrix(p.q[DoFs[0]:DoFs[0]+3]),sym.Matrix(p.q[DoFs[0]+3:DoFs[0]+6]))\n",
    "#Create Elemnts\n",
    "M = ma.elements.MassMatrix(p.m_f,p.I_xx,p.I_yy,p.I_zz,p.I_xy,p.I_xz,p.I_yz)\n",
    "fwt_ele = ma.elements.RigidElement(p.q,fwt_frame,M,grav_vec = p.g*p.g_v)"
   ]
  },
  {
   "cell_type": "code",
   "execution_count": 7,
   "id": "836a9bb9-f764-4ffc-932b-c6962e13ad2a",
   "metadata": {},
   "outputs": [],
   "source": [
    "C = []\n",
    "point = inner_wing_frame.transform_point([0]*3).subs({p.x_0:p.x_h,p.y_0:p.L}) - fwt_frame.transform_point([-p.x_c+p.x_h,-p.y_c,0])\n",
    "C = [*C,*point]\n",
    "# zdh = fwt_frame.transform_vector([sym.cos(p.Lambda),-sym.sin(p.Lambda),0]).T*inner_wing_frame.R_y()\n",
    "\n",
    "inner_point = inner_wing_frame.transform_point([0]*3)\n",
    "inner_hinge_vec = inner_point.subs({p.x_0:0,p.y_0:p.L-sym.tan(p.Lambda)*p.x_h}) - inner_point.subs({p.x_0:p.x_h,p.y_0:p.L})\n",
    "inner_hinge_vec2 = sym.simplify(inner_hinge_vec)\n",
    "\n",
    "C.append(*inner_hinge_vec.T*fwt_frame.transform_vector([0,0,1]))\n",
    "\n",
    "C.append(*inner_hinge_vec.T*fwt_frame.transform_vector([-sym.sin(p.Lambda),sym.cos(p.Lambda),1]))\n",
    "\n",
    "C = sym.Matrix(C)"
   ]
  },
  {
   "cell_type": "code",
   "execution_count": 8,
   "id": "d5e01a9a-5334-4a14-9698-6c9caff6d865",
   "metadata": {},
   "outputs": [
    {
     "name": "stdout",
     "output_type": "stream",
     "text": [
      "Generating EoM for Element 1 out of 2 - default:FlexiElement\n",
      "Generating EoM for Element 2 out of 2 - default:RigidElement\n"
     ]
    }
   ],
   "source": [
    "sm = ma.SymbolicModel.FromElementsAndForces(p.q,[main_wing_ele,fwt_ele],C=C)"
   ]
  },
  {
   "cell_type": "code",
   "execution_count": 9,
   "id": "42dc2c0a-de77-4eb7-9fb1-f3235f86be8a",
   "metadata": {},
   "outputs": [],
   "source": [
    "# create additional functions\n",
    "funcs = []\n",
    "funcs.append(('get_pos_inner_wing',inner_wing_frame.transform_point([0]*3)))\n",
    "funcs.append(('get_pos_fwt',fwt_frame.transform_point([p.x_0,p.y_0,0])))"
   ]
  },
  {
   "cell_type": "code",
   "execution_count": 10,
   "id": "d924477e-50ef-4265-b3e9-fd15fe780ce6",
   "metadata": {},
   "outputs": [],
   "source": [
    "# get function for the fold angle\n",
    "surf = inner_wing_frame.transform_point([0]*3)\n",
    "v = ma.Wedge(surf.diff(p.x_0))*surf.diff(p.y_0)\n",
    "n = v/(v.T*v)[0]\n",
    "hinge_normal = sym.simplify(n.subs({p.x_0:p.x_h,p.y_0:p.L}))\n",
    "fwt_normal = fwt_frame.transform_vector([0,0,1])\n",
    "fold_angle = sym.acos((hinge_normal.T*fwt_normal)[0])\n",
    "fold_angle_dt = fold_angle.diff(t)\n",
    "funcs.append(('get_fold_angle',fold_angle))\n",
    "funcs.append(('get_fold_angle_dt',fold_angle_dt))"
   ]
  },
  {
   "cell_type": "code",
   "execution_count": 11,
   "id": "8931211d-9624-40d7-8ab6-09d5bbd76255",
   "metadata": {},
   "outputs": [],
   "source": [
    "#create function for an arbitary force of FWT\n",
    "F_x,F_y,F_z,M_y = sym.symbols('F_x,F_y,F_z,M_y')\n",
    "W = sym.Matrix([F_x,0,F_z,0,M_y,0])\n",
    "fwt_Q_tmp = fwt_ele.frame.BodyJacobian(p.q,sym.Matrix([p.x_0,p.y_0,0])).T*W\n",
    "idx = [i for i, e in enumerate(p.q) if e in fwt_ele.q]\n",
    "fwt_Q = sym.zeros(len(p.q),1)\n",
    "for i,m_i in enumerate(idx):\n",
    "    fwt_Q[m_i] += fwt_Q_tmp[i]\n",
    "funcs.append(('get_fwt_Q',fwt_Q))"
   ]
  },
  {
   "cell_type": "code",
   "execution_count": 12,
   "id": "0faf6723-f88e-4291-991b-b5b7879ac963",
   "metadata": {},
   "outputs": [],
   "source": [
    "#create function for an arbitary force of Main Wing\n",
    "F_x,F_y,F_z,M_y = sym.symbols('F_x,F_y,F_z,M_y')\n",
    "W = sym.Matrix([F_x,0,F_z,0,0,0])\n",
    "W_m = sym.Matrix([0,0,0,0,M_y,0])\n",
    "main_Q = inner_wing_frame.BodyJacobian(p.q).T*W\n",
    "main_Q += inner_wing_frame.R_y(tau).BodyJacobian(p.q).T*W_m\n",
    "funcs.append(('get_main_Q',main_Q))"
   ]
  },
  {
   "cell_type": "code",
   "execution_count": 13,
   "id": "40bd0cd3-d152-4197-92d3-c87b55339878",
   "metadata": {},
   "outputs": [],
   "source": [
    "#create function for A of each frame\n",
    "funcs.append(('get_fwt_A',fwt_ele.frame.A))\n",
    "funcs.append(('get_main_A',inner_wing_frame.A))"
   ]
  },
  {
   "cell_type": "code",
   "execution_count": 14,
   "id": "0ea5978b-ab5a-4474-aecd-bcda5852d774",
   "metadata": {},
   "outputs": [],
   "source": [
    "#create function for Body Velocity on FWT and Main wing\n",
    "funcs.append(('get_fwt_V_b',fwt_ele.frame.BodyVelocity(sym.Matrix([p.x_0,p.y_0,0]))))\n",
    "# funcs.append(('get_fwt_V_b',fwt_ele.frame.transform_point([p.x_0,p.y_0,0]).diff(t)))\n",
    "funcs.append(('get_main_V_b',inner_wing_frame.A.T*inner_wing_frame.R.diff(t)))"
   ]
  },
  {
   "cell_type": "code",
   "execution_count": 15,
   "id": "99c7f2e9-d2bc-4e22-b733-eb302a2f1da3",
   "metadata": {},
   "outputs": [
    {
     "name": "stdout",
     "output_type": "stream",
     "text": [
      "Unknown variable x_0 found in function get_pos_inner_wing. It will be added to the function signature.\n",
      "Unknown variable y_0 found in function get_pos_inner_wing. It will be added to the function signature.\n",
      "Unknown variable x_0 found in function get_pos_fwt. It will be added to the function signature.\n",
      "Unknown variable y_0 found in function get_pos_fwt. It will be added to the function signature.\n",
      "Unknown variable x_0 found in function get_fwt_Q. It will be added to the function signature.\n",
      "Unknown variable y_0 found in function get_fwt_Q. It will be added to the function signature.\n",
      "Unknown variable F_x found in function get_fwt_Q. It will be added to the function signature.\n",
      "Unknown variable F_z found in function get_fwt_Q. It will be added to the function signature.\n",
      "Unknown variable M_y found in function get_fwt_Q. It will be added to the function signature.\n",
      "Unknown variable x_0 found in function get_main_Q. It will be added to the function signature.\n",
      "Unknown variable y_0 found in function get_main_Q. It will be added to the function signature.\n",
      "Unknown variable F_z found in function get_main_Q. It will be added to the function signature.\n",
      "Unknown variable M_y found in function get_main_Q. It will be added to the function signature.\n",
      "Unknown variable y_0 found in function get_fwt_V_b. It will be added to the function signature.\n",
      "Unknown variable x_0 found in function get_fwt_V_b. It will be added to the function signature.\n",
      "Unknown variable x_0 found in function get_main_V_b. It will be added to the function signature.\n",
      "Unknown variable y_0 found in function get_main_V_b. It will be added to the function signature.\n"
     ]
    }
   ],
   "source": [
    "%timeit -r 1 -n 1\n",
    "base_dir = \"C:\\\\Git\\\\NastranMBD\\\\\"\n",
    "class_name = \"Flexi_wing_MBD\"\n",
    "base_class = \"BaseMBD\"\n",
    "sm.to_matlab_class(p,base_dir,class_name,base_class, additional_funcs=funcs)"
   ]
  },
  {
   "cell_type": "code",
   "execution_count": null,
   "id": "dfb3cfc1-3608-48fc-9578-92407aa4c0cd",
   "metadata": {},
   "outputs": [],
   "source": []
  }
 ],
 "metadata": {
  "kernelspec": {
   "display_name": "Python [conda env:test_moyra_3_9]",
   "language": "python",
   "name": "conda-env-test_moyra_3_9-py"
  },
  "language_info": {
   "codemirror_mode": {
    "name": "ipython",
    "version": 3
   },
   "file_extension": ".py",
   "mimetype": "text/x-python",
   "name": "python",
   "nbconvert_exporter": "python",
   "pygments_lexer": "ipython3",
   "version": "3.9.4"
  }
 },
 "nbformat": 4,
 "nbformat_minor": 5
}
