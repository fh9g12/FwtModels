{
 "cells": [
  {
   "cell_type": "code",
   "execution_count": 1,
   "id": "9e8e459d-e9e3-4c40-9db7-9dfd85773ce4",
   "metadata": {},
   "outputs": [],
   "source": [
    "import sympy as sym\n",
    "import sympy.physics.mechanics as me\n",
    "from sympy.abc import t\n",
    "import moyra as ma\n",
    "me.mechanics_printing()\n",
    "%load_ext line_profiler\n",
    "%load_ext snakeviz"
   ]
  },
  {
   "cell_type": "code",
   "execution_count": 2,
   "id": "24bea7ba-24c7-4ab8-beec-c309647f01a7",
   "metadata": {},
   "outputs": [],
   "source": [
    "\n",
    "rigid_dofs = 0\n",
    "bending = 3\n",
    "in_plane_bend = 0\n",
    "torsion = 2\n",
    "inner_dofs = bending + in_plane_bend + torsion\n",
    "DoFs = rigid_dofs + inner_dofs + 1\n",
    "\n",
    "# heave and fold angle as degrres of freedom\n",
    "p = ma.DynamicModelParameters(DoFs)\n",
    "p.DoFs  = ma.ModelSymbol(value = DoFs,string = 'DoFs')\n",
    "#gravity vector\n",
    "p.g  = ma.ModelSymbol(value = 9.81,string = 'g')                     # gravity\n",
    "p.g_v = ma.ModelMatrix(value =[0,0,-1],length=3,string='g_v') # The stationary point"
   ]
  },
  {
   "cell_type": "code",
   "execution_count": 3,
   "id": "437ce478-d7fe-4fec-ade2-145f2314bb9a",
   "metadata": {},
   "outputs": [],
   "source": [
    "# inner wing properites\n",
    "p.rho_b = ma.ModelSymbol(value = 0.3,string = 'rho_b')\n",
    "p.rho_w = ma.ModelSymbol(value = 7.926,string = 'rho_w')\n",
    "p.c_b = ma.ModelSymbol(value = 0.3,string = 'c_b')\n",
    "p.c_w = ma.ModelSymbol(value = 0.132,string = 'c_w')\n",
    "p.L = ma.ModelSymbol(value = 0.3,string = 'L')\n",
    "p.c = ma.ModelSymbol(value = 0.3,string = 'c')\n",
    "p.x_f = ma.ModelSymbol(value = 0.3,string = 'x_f')\n",
    "p.x_h = ma.ModelSymbol(value = 0.3,string = 'x_h')\n",
    "p.EI = ma.ModelSymbol(value = 0.3,string = 'EI')\n",
    "p.GJ = ma.ModelSymbol(value = 0.3,string = 'GJ')\n",
    "\n",
    "p.m_e = ma.ModelSymbol(value = 0,string = 'm_e')\n",
    "p.x_e = ma.ModelSymbol(value = 0,string = 'x_e')\n",
    "p.y_e = ma.ModelSymbol(value = 0,string = 'y_e')\n",
    "\n",
    "p.y_0,p.x_0 = sym.symbols('y_0,x_0')"
   ]
  },
  {
   "cell_type": "code",
   "execution_count": 4,
   "id": "66accb48-8c38-4876-9c6d-9bd465b9ad0a",
   "metadata": {},
   "outputs": [],
   "source": [
    "# fwt properties\n",
    "## pendulum mass\n",
    "p.m_f = ma.ModelSymbol(value = 0.3,string = 'm_f')\n",
    "p.I_xx = ma.ModelSymbol(value = 0.3,string = 'I_xx')\n",
    "p.I_yy = ma.ModelSymbol(value = 0.3,string = 'I_yy')\n",
    "p.I_zz = ma.ModelSymbol(value = 0.3,string = 'I_zz')\n",
    "p.I_xy = ma.ModelSymbol(value = 0.3,string = 'I_xy')\n",
    "p.I_xz = ma.ModelSymbol(value = 0.3,string = 'I_xz')\n",
    "p.I_yz = ma.ModelSymbol(value = 0.3,string = 'I_yz')\n",
    "\n",
    "# pendulum length\n",
    "p.L_f = ma.ModelSymbol(value = 0.3,string = 'L_f')\n",
    "p.x_c = ma.ModelSymbol(value = 0.3,string = 'x_c')\n",
    "p.y_c = ma.ModelSymbol(value = 0.3,string = 'y_c')\n",
    "\n",
    "p.Lambda = ma.ModelSymbol(value = 0.3,string = 'Lambda')"
   ]
  },
  {
   "cell_type": "code",
   "execution_count": 5,
   "id": "74f80fbf-d5e9-4cd5-bbe8-901ae5899611",
   "metadata": {},
   "outputs": [],
   "source": [
    "## GET INNER WING ELEMENT\n",
    "# get shape function\n",
    "q_f = p.q[rigid_dofs:(rigid_dofs+inner_dofs)]\n",
    "S,tau = ma.elements.FlexiElement.ShapeFunctions_OBM_IBN_TO(bending,in_plane_bend,torsion,q_f,p.y_0,p.x_0,0,1,type='taylor')\n",
    "u = S*sym.Matrix(q_f) + sym.Matrix([p.x_0,p.y_0,0])\n",
    "# get reference frame\n",
    "# inner_wing_frame = ma.frames.HomogenousFrame().Translate(p.q[0],0,p.q[1]).R_y(p.alpha_r).Translate(*u)\n",
    "# inner_wing_frame = ma.frames.HomogenousFrame().Translate(p.q[0],0,p.q[1]).R_y(p.q[2]).Translate(*u)\n",
    "# inner_wing_frame = ma.frames.HomogenousFrame().Translate(p.q[0],p.q[1],p.q[2]).R_x(p.q[3]).R_y(p.q[4]).R_z(p.q[5]).Translate(*u)\n",
    "inner_wing_frame = ma.frames.HomogenousFrame().Translate(*u)\n",
    "# get flexible element\n",
    "link2_x__int = (p.x_0,p.x_f-p.c_b*sym.Rational(1,2),p.x_f+p.c_b*sym.Rational(1,2))\n",
    "link2_y_int = (p.y_0,0,p.L)\n",
    "main_wing_ele = ma.elements.FlexiElement(p.q,inner_wing_frame,p.rho_b,S,link2_x__int,link2_y_int,0,q_f,p.EI,p.GJ,grav_vec = p.g*p.g_v,simplify = False)\n",
    "link2_x__int = (p.x_0,0,p.c_w)\n",
    "link2_y_int = (p.y_0,0,p.L)\n",
    "main_wing_mass = ma.elements.FlexiElement(p.q,inner_wing_frame,p.rho_w,S,link2_x__int,link2_y_int,0,q_f,0,0,grav_vec = p.g*p.g_v,simplify = False)\n",
    "\n",
    "## engine mass\n",
    "engine_frame = inner_wing_frame.subs({p.x_0:p.x_e,p.y_0:p.y_e})\n",
    "eng_ele = ma.elements.RigidElement.point_mass(p.q,engine_frame,p.m_e,grav_vec = p.g*p.g_v,simplify = False)"
   ]
  },
  {
   "cell_type": "code",
   "execution_count": null,
   "id": "3acfc18a-57f4-4ebd-8ca4-7be302bc1c3b",
   "metadata": {},
   "outputs": [],
   "source": []
  },
  {
   "cell_type": "code",
   "execution_count": 6,
   "id": "86d08bdd-ccd4-49b4-8c3c-58d73c2cd903",
   "metadata": {},
   "outputs": [],
   "source": [
    "## GET FWT ELEMENT\n",
    "\n",
    "# get angles at end of inner beam\n",
    "dz_dy = u.subs({p.x_0:0}).diff(p.y_0).subs({p.y_0:p.L})\n",
    "dz_dx = u.subs({p.y_0:p.L}).diff(p.x_0).subs({p.x_0:0})\n",
    "\n",
    "\n",
    "# inner_tip_frame= inner_wing_frame.subs({p.y_0:p.L,p.x_0:0}).R_y(dz_dx[2]/dz_dx[0]).R_x(dz_dy[2]/dz_dy[1])\n",
    "inner_tip_frame= inner_wing_frame.subs({p.y_0:p.L,p.x_0:0}).R_x(dz_dy[2]/dz_dy[1]).simplify()\n",
    "hinge_frame = inner_tip_frame.R_z(p.Lambda).simplify()\n",
    "fwt_base_frame = hinge_frame.R_x(-p.q[-1]).R_z(-p.Lambda).simplify()\n",
    "fwt_frame = fwt_base_frame.Translate(p.x_c,p.y_c,0)"
   ]
  },
  {
   "cell_type": "code",
   "execution_count": 7,
   "id": "f1e5b0c9-bd5e-429f-b9d1-da62056ea89d",
   "metadata": {},
   "outputs": [],
   "source": [
    "#Create Elemnts\n",
    "# M = ma.elements.MassMatrix(p.m_f,p.I_xx,p.I_yy,p.I_zz,p.I_xy,p.I_xz,p.I_yz)\n",
    "M = ma.elements.MassMatrix(p.m_f,p.I_xx,p.I_yy,p.I_zz)\n",
    "# M = ma.elements.MassMatrix(p.m_f)\n",
    "fwt_ele = ma.elements.RigidElement(p.q,fwt_frame,M,grav_vec = p.g*p.g_v, simplify = False)"
   ]
  },
  {
   "cell_type": "code",
   "execution_count": 8,
   "id": "e3b766ba-87b7-443d-bdf7-41ac3ca90530",
   "metadata": {},
   "outputs": [
    {
     "name": "stdout",
     "output_type": "stream",
     "text": [
      "Generating EoM for Element 1 out of 4 - default:FlexiElement\n",
      "Generating EoM for Element 2 out of 4 - default:FlexiElement\n",
      "Generating EoM for Element 3 out of 4 - default:RigidElement\n",
      "Generating EoM for Element 4 out of 4 - default:RigidElement\n",
      "CPU times: total: 1min 59s\n",
      "Wall time: 1min 59s\n"
     ]
    }
   ],
   "source": [
    "%%time\n",
    "# %%snakeviz -t\n",
    "\n",
    "sm = ma.SymbolicModel.FromElementsAndForces(p.q,[main_wing_mass,main_wing_ele,fwt_ele,eng_ele])\n",
    "# %lprun -f ma.SymbolicModel.FromElementsAndForces ma.SymbolicModel.FromElementsAndForces(p.q,[main_wing_ele,fwt_ele])"
   ]
  },
  {
   "cell_type": "code",
   "execution_count": 9,
   "id": "3895a42c-2c93-494a-80a6-d197b09c78a9",
   "metadata": {},
   "outputs": [],
   "source": [
    "funcs = []\n",
    "funcs.append(('get_pos_inner_wing',inner_wing_frame.transform_point([0]*3)))\n",
    "funcs.append(('get_pos_fwt',fwt_frame.transform_point([p.x_0,p.y_0,0])))"
   ]
  },
  {
   "cell_type": "code",
   "execution_count": 10,
   "id": "7364c24a-3fb1-403c-a873-b7d8dca5ef65",
   "metadata": {},
   "outputs": [],
   "source": [
    "fwt_normal = fwt_frame.transform_vector([0,0,1])\n",
    "fwt_hinge_vector = fwt_frame.transform_vector([sym.cos(p.Lambda),sym.sin(p.Lambda),0])\n",
    "surf = inner_wing_frame.transform_point([0]*3)\n",
    "v = ma.Wedge(surf.diff(p.x_0))*surf.diff(p.y_0)\n",
    "hinge_normal = sym.simplify(v.subs({p.x_0:p.x_h,p.y_0:p.L}))\n",
    "surf = inner_wing_frame.transform_point([0]*3)\n",
    "funcs.append(('get_surf_x',surf.subs({p.x_0:1})-surf.subs({p.x_0:0})))\n",
    "funcs.append(('get_surf_z',sym.simplify(v)))\n",
    "funcs.append(('get_fold',p.q[-1]))\n",
    "funcs.append(('get_fold_dt',p.qd[-1]))\n",
    "funcs.append(('get_hinge_normal',hinge_normal))\n",
    "funcs.append(('get_fwt_normal',fwt_normal))\n",
    "funcs.append(('get_fwt_hinge_vector',fwt_hinge_vector))"
   ]
  },
  {
   "cell_type": "code",
   "execution_count": 11,
   "id": "15bd083d-fa93-4c4c-97cf-5158a9be47bc",
   "metadata": {},
   "outputs": [],
   "source": [
    "#create function for an arbitary force of FWT\n",
    "F_x,F_y,F_z,M_y = sym.symbols('F_x,F_y,F_z,M_y')\n",
    "F = ma.forces.ExternalForce.body_force(p.q,fwt_frame.Translate(p.x_0,p.y_0,0),F_x,F_y,F_z,0,M_y,0,False)\n",
    "funcs.append(('get_fwt_Q',F.Q()))\n",
    "#create function for an arbitary force on Main Wing\n",
    "F = ma.forces.ExternalForce.body_force(p.q,inner_wing_frame,F_x,F_y,F_z,0,M_y,0,False)\n",
    "funcs.append(('get_main_Q',F.Q()))"
   ]
  },
  {
   "cell_type": "code",
   "execution_count": 12,
   "id": "cda927bd-6c4f-4e64-996e-daa72163a0bb",
   "metadata": {},
   "outputs": [],
   "source": [
    "#create function for A of each frame\n",
    "funcs.append(('get_fwt_A',fwt_frame.A))\n",
    "funcs.append(('get_main_A',inner_wing_frame.A))"
   ]
  },
  {
   "cell_type": "code",
   "execution_count": 13,
   "id": "1c0dcd4b-d7f0-43de-97b7-626522b03bac",
   "metadata": {},
   "outputs": [],
   "source": [
    "#create function for Body Velocity on FWT and Main wing\n",
    "fwt_aero_frame = fwt_frame.Translate(p.x_0,p.y_0,0)\n",
    "funcs.append(('get_fwt_V_b',fwt_aero_frame.A.T*fwt_aero_frame.R.diff(t)))\n",
    "# funcs.append(('get_fwt_V_b',fwt_ele.frame.transform_point([p.x_0,p.y_0,0]).diff(t)))\n",
    "funcs.append(('get_main_V_b',inner_wing_frame.A.T*inner_wing_frame.R.diff(t)))"
   ]
  },
  {
   "cell_type": "code",
   "execution_count": 14,
   "id": "d92e31bc-92e5-4479-9868-07c4cae53ee8",
   "metadata": {},
   "outputs": [
    {
     "name": "stdout",
     "output_type": "stream",
     "text": [
      "Unknown variable y_0 found in function get_pos_inner_wing. It will be added to the function signature.\n",
      "Unknown variable x_0 found in function get_pos_inner_wing. It will be added to the function signature.\n",
      "Unknown variable x_0 found in function get_pos_fwt. It will be added to the function signature.\n",
      "Unknown variable y_0 found in function get_pos_fwt. It will be added to the function signature.\n",
      "Unknown variable y_0 found in function get_surf_x. It will be added to the function signature.\n",
      "Unknown variable y_0 found in function get_surf_z. It will be added to the function signature.\n",
      "Unknown variable x_0 found in function get_surf_z. It will be added to the function signature.\n",
      "Unknown variable F_z found in function get_fwt_Q. It will be added to the function signature.\n",
      "Unknown variable F_x found in function get_fwt_Q. It will be added to the function signature.\n",
      "Unknown variable M_y found in function get_fwt_Q. It will be added to the function signature.\n",
      "Unknown variable x_0 found in function get_fwt_Q. It will be added to the function signature.\n",
      "Unknown variable y_0 found in function get_fwt_Q. It will be added to the function signature.\n",
      "Unknown variable F_y found in function get_fwt_Q. It will be added to the function signature.\n",
      "Unknown variable y_0 found in function get_main_Q. It will be added to the function signature.\n",
      "Unknown variable F_z found in function get_main_Q. It will be added to the function signature.\n",
      "Unknown variable x_0 found in function get_main_Q. It will be added to the function signature.\n",
      "Unknown variable x_0 found in function get_fwt_V_b. It will be added to the function signature.\n",
      "Unknown variable y_0 found in function get_fwt_V_b. It will be added to the function signature.\n",
      "Unknown variable y_0 found in function get_main_V_b. It will be added to the function signature.\n",
      "Unknown variable x_0 found in function get_main_V_b. It will be added to the function signature.\n"
     ]
    }
   ],
   "source": [
    "%timeit -r 1 -n 1\n",
    "base_dir = \"C:\\\\git\\\\WT_MBD_Model\"\n",
    "class_name = \"Flexi_wing_RC\"\n",
    "base_class = \"mbd.BaseRC\"\n",
    "sm.to_matlab_class(p,base_dir,class_name,base_class,additional_funcs=funcs)"
   ]
  },
  {
   "cell_type": "code",
   "execution_count": null,
   "id": "f9098362-8ac4-4729-9416-bded6b44e9f5",
   "metadata": {},
   "outputs": [],
   "source": []
  }
 ],
 "metadata": {
  "kernelspec": {
   "display_name": "Moyra_Playground",
   "language": "python",
   "name": "moyra_playground"
  },
  "language_info": {
   "codemirror_mode": {
    "name": "ipython",
    "version": 3
   },
   "file_extension": ".py",
   "mimetype": "text/x-python",
   "name": "python",
   "nbconvert_exporter": "python",
   "pygments_lexer": "ipython3",
   "version": "3.9.13"
  }
 },
 "nbformat": 4,
 "nbformat_minor": 5
}
