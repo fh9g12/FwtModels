{
 "cells": [
  {
   "cell_type": "code",
   "execution_count": 1,
   "metadata": {},
   "outputs": [],
   "source": [
    "import sympy as sym\n",
    "import sympy.physics.mechanics as me\n",
    "from sympy.abc import t as time\n",
    "import pandas as pd\n",
    "import seaborn as sns\n",
    "\n",
    "import numpy as np\n",
    "from scipy.integrate import solve_ivp\n",
    "import matplotlib.pyplot as plt\n",
    "\n",
    "import sys, os\n",
    "\n",
    "sys.path.insert(1, os.path.join(sys.path[0], '../..'))\n",
    "import custom_plot_objects as cpo\n",
    "\n",
    "import ModelFramework as mf\n",
    "import ModelFramework.Elements as ele\n",
    "import ModelFramework.ExternalForces as ef\n",
    "import FwtModels.RectWing as rw\n",
    "import FwtModels.TwoDoF as TwoDof\n",
    "\n",
    "from matplotlib.lines import Line2D\n",
    "import multiprocessing as mp\n",
    "\n",
    "me.mechanics_printing()"
   ]
  },
  {
   "cell_type": "code",
   "execution_count": 9,
   "metadata": {},
   "outputs": [],
   "source": [
    "def Model_Eigen(fixed_fold = None):   \n",
    "    dataset_name = 'Test'\n",
    "    # Set JEC Specific parameters\n",
    "    sm = mf.SymbolicModel.from_file('2DoF_Model.py')\n",
    "    p = TwoDof.base_params()\n",
    "    \n",
    "    p.rho.value = 0.0885\n",
    "    p.s.value = 5.8\n",
    "    p.c_root.value = 3.71\n",
    "    p.c_tip.value = 2.137\n",
    "    p.m.value = 943*0.66\n",
    "    p.m_w.value = 2040\n",
    "    p.f_0.value = 2\n",
    "    p.Lambda.value = np.deg2rad(25) \n",
    "    \n",
    "    p.k_w.value = (p.f_0.value*2*np.pi)**2*(p.m_w.value+p.m.value)*0.9             # Stiffness of the inner wing\n",
    "    p.I_xx.value = 1/12*p.m.value*p.s.value**2          # FWT polar moment of inetia\n",
    "    p.I_xx.value = 6.5/81*p.m.value*p.s.value**2 \n",
    "    p.l_com.value = p.s.value/3\n",
    "   \n",
    "    vars_ls =[]\n",
    "    vars_ls.append((p.Lambda,np.deg2rad([10,17.5,25])))\n",
    "    vars_ls.append((p.V,np.linspace(0,900,901))) # V must be second\n",
    "    vars_ls.append((p.alpha_r,np.deg2rad([0,5,10])))\n",
    "    vars_ls.append((p.c_d_max,[0,1]))\n",
    "\n",
    "    variables = [k for k,v in vars_ls]\n",
    "    \n",
    "    calc_fixed = True\n",
    "    if fixed_fold == None:\n",
    "        flutdf = rw.eigen_perm_params(p,sm,vars_ls,calc_fixed_points=True,fp = np.array([0,np.deg2rad(-30)]))\n",
    "        flutdf.to_pickle(f'Test_FWT_free.pkl')\n",
    "    else:\n",
    "        flutdf = rw.eigen_perm_params(p,sm,vars_ls,calc_fixed_points=False,fp = np.array([0,np.deg2rad(fixed_fold)]))\n",
    "        flutdf.to_pickle(f'Test_FWT_Locked_{fixed_fold}_degrees.pkl')"
   ]
  },
  {
   "cell_type": "code",
   "execution_count": 10,
   "metadata": {},
   "outputs": [
    {
     "name": "stderr",
     "output_type": "stream",
     "text": [
      "/Users/fintan/opt/anaconda3/lib/python3.7/site-packages/scipy/optimize/minpack.py:162: RuntimeWarning: The iteration is not making good progress, as measured by the \n",
      "  improvement from the last ten iterations.\n",
      "  warnings.warn(msg, RuntimeWarning)\n"
     ]
    }
   ],
   "source": [
    "pool = mp.Pool(mp.cpu_count())\n",
    "\n",
    "for v in [None,-15,-7.5,0,7.5,15]:\n",
    "    pool.apply_async(Model_Eigen,args=(v,))\n",
    "pool.close()\n",
    "pool.join()"
   ]
  },
  {
   "cell_type": "code",
   "execution_count": null,
   "metadata": {},
   "outputs": [],
   "source": []
  }
 ],
 "metadata": {
  "kernelspec": {
   "display_name": "Python 3",
   "language": "python",
   "name": "python3"
  },
  "language_info": {
   "codemirror_mode": {
    "name": "ipython",
    "version": 3
   },
   "file_extension": ".py",
   "mimetype": "text/x-python",
   "name": "python",
   "nbconvert_exporter": "python",
   "pygments_lexer": "ipython3",
   "version": "3.7.7"
  }
 },
 "nbformat": 4,
 "nbformat_minor": 4
}
