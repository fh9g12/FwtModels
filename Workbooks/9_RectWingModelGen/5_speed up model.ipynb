{
 "cells": [
  {
   "cell_type": "markdown",
   "metadata": {},
   "source": [
    "## Generate Models\n",
    "\n",
    "This code generates the models for a rectangular wing with a FWTD, it creates a series of models to test different non-linearaties"
   ]
  },
  {
   "cell_type": "code",
   "execution_count": 1,
   "metadata": {},
   "outputs": [],
   "source": [
    "import sympy as sym\n",
    "import sympy.physics.mechanics as me\n",
    "from sympy.abc import t as time\n",
    "import pandas as pd\n",
    "import seaborn as sns\n",
    "\n",
    "import numpy as np\n",
    "from scipy.integrate import odeint,LSODA,BDF,solve_ivp\n",
    "from scipy.linalg import eig\n",
    "from scipy.optimize import fsolve\n",
    "import matplotlib.pyplot as plt\n",
    "\n",
    "import sys, os\n",
    "\n",
    "sys.path.insert(1, os.path.join(sys.path[0], '../..'))\n",
    "import custom_plot_objects as cpo\n",
    "\n",
    "import ModelFramework as mf\n",
    "import ModelFramework.Elements as ele\n",
    "import ModelFramework.ExternalForces as ef\n",
    "import FwtModels.RectWing as rw\n",
    "import FwtModels.RectWing.Models as rwm\n",
    "\n",
    "me.mechanics_printing()\n",
    "\n"
   ]
  },
  {
   "cell_type": "code",
   "execution_count": 2,
   "metadata": {},
   "outputs": [],
   "source": [
    "def Model_0(b_modes,t_modes):\n",
    "    return rwm.GenRectWingModel(b_modes,t_modes,fwt_free=True,iwt=True,iwb=True,fwt_frot=True,fwt_Iyy=False,fwt_ke_simp = False)\n",
    "def Model_1(b_modes,t_modes):\n",
    "    return rwm.GenRectWingModel(b_modes,t_modes,fwt_free=True,iwt=True,iwb=True,fwt_frot=True,fwt_Iyy=True,fwt_ke_simp = False)\n",
    "def Model_2(b_modes,t_modes):\n",
    "    return rwm.GenRectWingModel(b_modes,t_modes,fwt_free=True,iwt=True,iwb=True,fwt_frot=True,fwt_Iyy=False,fwt_ke_simp = True)\n",
    "def Model_3(b_modes,t_modes):\n",
    "    return rwm.GenRectWingModel(b_modes,t_modes,fwt_free=True,iwt=True,iwb=True,fwt_frot=True,fwt_Iyy=True,fwt_ke_simp = True)\n",
    "\n",
    "ModelFactory = {\n",
    "    0:Model_0,\n",
    "    1:Model_1,\n",
    "    2:Model_2,\n",
    "    3:Model_3\n",
    "}\n",
    "\n",
    "def MakeModel(k,v,b_modes,t_modes):\n",
    "    model,p = v(b_modes,t_modes)\n",
    "    model.to_file(f'Test-{b_modes}B{t_modes}T-M{k}.py')\n",
    "    return k"
   ]
  },
  {
   "cell_type": "code",
   "execution_count": 3,
   "metadata": {},
   "outputs": [],
   "source": [
    "b_modes = 3\n",
    "t_modes = 3\n",
    "import multiprocessing as mp\n",
    "from joblib import Parallel, delayed\n",
    "\n",
    "pool = mp.Pool(mp.cpu_count())\n",
    "\n",
    "\n",
    "for k,v in ModelFactory.items():\n",
    "    pool.apply_async(MakeModel,args=(k,v,b_modes,t_modes))\n",
    "pool.close()\n",
    "pool.join()"
   ]
  },
  {
   "cell_type": "code",
   "execution_count": null,
   "metadata": {},
   "outputs": [],
   "source": []
  }
 ],
 "metadata": {
  "kernelspec": {
   "display_name": "Python 3",
   "language": "python",
   "name": "python3"
  },
  "language_info": {
   "codemirror_mode": {
    "name": "ipython",
    "version": 3
   },
   "file_extension": ".py",
   "mimetype": "text/x-python",
   "name": "python",
   "nbconvert_exporter": "python",
   "pygments_lexer": "ipython3",
   "version": "3.7.7"
  }
 },
 "nbformat": 4,
 "nbformat_minor": 2
}
