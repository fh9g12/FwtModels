{
 "cells": [
  {
   "cell_type": "markdown",
   "metadata": {},
   "source": [
    "## Generate Models\n",
    "\n",
    "This code generates the models for a rectangular wing with a FWTD, it creates a series of models to test different non-linearaties"
   ]
  },
  {
   "cell_type": "code",
   "execution_count": 1,
   "metadata": {},
   "outputs": [],
   "source": [
    "import sympy as sym\n",
    "import sympy.physics.mechanics as me\n",
    "from sympy.abc import t as time\n",
    "import pandas as pd\n",
    "import seaborn as sns\n",
    "\n",
    "import numpy as np\n",
    "from scipy.integrate import odeint,LSODA,BDF,solve_ivp\n",
    "from scipy.linalg import eig\n",
    "from scipy.optimize import fsolve\n",
    "import matplotlib.pyplot as plt\n",
    "\n",
    "import sys, os\n",
    "\n",
    "sys.path.insert(1, os.path.join(sys.path[0], '../..'))\n",
    "import custom_plot_objects as cpo\n",
    "\n",
    "import ModelFramework as mf\n",
    "import ModelFramework.Elements as ele\n",
    "import ModelFramework.ExternalForces as ef\n",
    "import FwtModels.RectWing as rw\n",
    "import FwtModels.RectWing.Models as rwm\n",
    "import multiprocessing as mp\n",
    "\n",
    "me.mechanics_printing()\n",
    "\n"
   ]
  },
  {
   "cell_type": "code",
   "execution_count": 2,
   "metadata": {},
   "outputs": [
    {
     "data": {
      "image/png": "[encoded data removed]",
      "text/latex": [
       "$\\displaystyle \\frac{\\left(e^{2 \\alpha_{m} p} - 1\\right) e^{p x}}{e^{\\alpha_{m} p} + e^{p x} + e^{p \\left(\\alpha_{m} + 2 x\\right)} + e^{p \\left(2 \\alpha_{m} + x\\right)}}$"
      ],
      "text/plain": [
       "             ⎛ 2⋅αₘ⋅p    ⎞  p⋅x             \n",
       "             ⎝ℯ       - 1⎠⋅ℯ                \n",
       "────────────────────────────────────────────\n",
       " αₘ⋅p    p⋅x    p⋅(αₘ + 2⋅x)    p⋅(2⋅αₘ + x)\n",
       "ℯ     + ℯ    + ℯ             + ℯ            "
      ]
     },
     "execution_count": 2,
     "metadata": {},
     "output_type": "execute_result"
    }
   ],
   "source": [
    "x = sym.Symbol('x')\n",
    "p = sym.Symbol('p')\n",
    "f = sym.Symbol('f')\n",
    "C_l = sym.Symbol('C_l')\n",
    "alpha_m = sym.Symbol('alpha_m')\n",
    "\n",
    "C_L = (1/p*sym.ln((1+sym.exp(p*(x+alpha_m)))/(1+sym.exp(p*(x-alpha_m))))-alpha_m)\n",
    "sym.simplify(C_L.diff(x))"
   ]
  },
  {
   "cell_type": "code",
   "execution_count": 3,
   "metadata": {},
   "outputs": [],
   "source": [
    "def Model_0(b_modes,t_modes):\n",
    "    return rwm.GenRectWingModel(b_modes,t_modes,fwt_free=False,iwt=True,iwb=False,aero_model=rwm.AeroModel.LiftOnly)\n",
    "def Model_1(b_modes,t_modes):\n",
    "    return rwm.GenRectWingModel(b_modes,t_modes,fwt_free=True,iwt=False,iwb=False,aero_model=rwm.AeroModel.LiftOnly)\n",
    "def Model_2(b_modes,t_modes):\n",
    "    return rwm.GenRectWingModel(b_modes,t_modes,fwt_free=True,iwt=True,iwb=False,aero_model=rwm.AeroModel.LiftOnly)\n",
    "def Model_3(b_modes,t_modes):\n",
    "    return rwm.GenRectWingModel(b_modes,t_modes,fwt_free=True,iwt=True,iwb=True,aero_model=rwm.AeroModel.LiftOnly)\n",
    "def Model_4(b_modes,t_modes):\n",
    "    return rwm.GenRectWingModel(b_modes,t_modes,fwt_free=True,iwt=True,iwb=True,aero_model=rwm.AeroModel.LiftOnly_rot)\n",
    "def Model_5(b_modes,t_modes):\n",
    "    return rwm.GenRectWingModel(b_modes,t_modes,fwt_free=True,iwt=True,iwb=True,aero_model=rwm.AeroModel.LiftAndDrag_rot)\n",
    "def Model_6(b_modes,t_modes):\n",
    "    model,p = Model_4(b_modes,t_modes)\n",
    "    return model.linearise(p).msubs({i:0 for i in p.fp}),p\n",
    "def Model_7(b_modes,t_modes):\n",
    "    model,p = Model_5(b_modes,t_modes)\n",
    "    return model.linearise(p).msubs({i:0 for i in p.fp}),p\n",
    "def Model_8(b_modes,t_modes):\n",
    "    model,p = rwm.GenRectWingModel(b_modes,t_modes,fwt_free=True,iwt=True,iwb=False,aero_model=rwm.AeroModel.LiftOnly_rot)\n",
    "    return model.linearise(p).msubs({i:0 for i in p.fp}),p\n",
    "\n",
    "ModelFactory = {\n",
    "    0:Model_0,\n",
    "    1:Model_1,\n",
    "    2:Model_2,\n",
    "    3:Model_3,\n",
    "    4:Model_4,\n",
    "    5:Model_5,\n",
    "    6:Model_6,\n",
    "    7:Model_7,\n",
    "    8:Model_8\n",
    "}\n",
    "\n",
    "\n",
    "def MakeModel(k,v,b_modes,t_modes):\n",
    "    print(k)\n",
    "    model,p = v(b_modes,t_modes)\n",
    "    model.to_file(f'{b_modes}B{t_modes}T-M{k}.py')\n",
    "    print(k)\n",
    "    return k"
   ]
  },
  {
   "cell_type": "code",
   "execution_count": null,
   "metadata": {},
   "outputs": [
    {
     "name": "stdout",
     "output_type": "stream",
     "text": [
      "0\n",
      "4\n",
      "1\n",
      "2\n",
      "5\n",
      "3\n",
      "6\n",
      "7\n",
      "8\n",
      "3\n"
     ]
    }
   ],
   "source": [
    "b_modes = 3\n",
    "t_modes = 3\n",
    "\n",
    "\n",
    "pool = mp.Pool(mp.cpu_count())\n",
    "\n",
    "\n",
    "for k,v in ModelFactory.items():\n",
    "    pool.apply_async(MakeModel,args=(k,v,b_modes,t_modes))\n",
    "pool.close()\n",
    "pool.join()"
   ]
  },
  {
   "cell_type": "code",
   "execution_count": 5,
   "metadata": {},
   "outputs": [],
   "source": [
    "#%%time\n",
    "for i in range(9):\n",
    "    %time MakeModel(i,ModelFactory[i],3,3)\n",
    "#%time MakeModel(0,Model_0,3,3)\n",
    "#%time MakeModel(5,Model_5,3,3)"
   ]
  },
  {
   "cell_type": "code",
   "execution_count": 4,
   "metadata": {},
   "outputs": [
    {
     "name": "stdout",
     "output_type": "stream",
     "text": [
      "CPU times: user 35.3 s, sys: 189 ms, total: 35.5 s\n",
      "Wall time: 35.7 s\n",
      "CPU times: user 49.7 s, sys: 217 ms, total: 49.9 s\n",
      "Wall time: 50.1 s\n"
     ]
    },
    {
     "data": {
      "image/png": "[encoded data removed]",
      "text/latex": [
       "$\\displaystyle 5$"
      ],
      "text/plain": [
       "5"
      ]
     },
     "execution_count": 4,
     "metadata": {},
     "output_type": "execute_result"
    }
   ],
   "source": [
    "#%%time \n",
    "%time MakeModel(0,Model_0,3,3)\n",
    "%time MakeModel(5,Model_5,3,3)"
   ]
  },
  {
   "cell_type": "code",
   "execution_count": 22,
   "metadata": {},
   "outputs": [],
   "source": [
    "sm = mf.SymbolicModel.from_file('3B3T-M5.py')"
   ]
  },
  {
   "cell_type": "code",
   "execution_count": 24,
   "metadata": {},
   "outputs": [],
   "source": [
    "p = rw.base_params(7)\n",
    "nm = sm.CreateNumericModel(p)"
   ]
  },
  {
   "cell_type": "code",
   "execution_count": 5,
   "metadata": {},
   "outputs": [
    {
     "data": {
      "text/plain": [
       "<ModelFramework.SymbolicModel.SymbolicModel at 0x1a242b5b10>"
      ]
     },
     "execution_count": 5,
     "metadata": {},
     "output_type": "execute_result"
    }
   ],
   "source": [
    "%%time\n",
    "sm = mf.SymbolicModel.from_file('3B3T-M5.py')\n",
    "p = rw.base_params(7)\n",
    "sm.linearise(p)"
   ]
  },
  {
   "cell_type": "code",
   "execution_count": 34,
   "metadata": {},
   "outputs": [
    {
     "name": "stdout",
     "output_type": "stream",
     "text": [
      "81.8 µs ± 0 ns per loop (mean ± std. dev. of 1 run, 100 loops each)\n"
     ]
    }
   ],
   "source": [
    "%%timeit -n 100 -r 1\n",
    "y0 = [0]*7*2\n",
    "t = 0\n",
    "nm.M_func(p.GetNumericTuple(y0,t),y0)"
   ]
  },
  {
   "cell_type": "code",
   "execution_count": 36,
   "metadata": {},
   "outputs": [
    {
     "name": "stdout",
     "output_type": "stream",
     "text": [
      "140 µs ± 0 ns per loop (mean ± std. dev. of 1 run, 100 loops each)\n"
     ]
    }
   ],
   "source": [
    "%%timeit -n 100 -r 1\n",
    "y0 = [0]*7*2\n",
    "t = 0\n",
    "nm.ExtForces(p.GetNumericTuple(y0,t),y0,0)"
   ]
  },
  {
   "cell_type": "code",
   "execution_count": 33,
   "metadata": {},
   "outputs": [
    {
     "name": "stdout",
     "output_type": "stream",
     "text": [
      "CPU times: user 10.8 s, sys: 49.8 ms, total: 10.9 s\n",
      "Wall time: 10.9 s\n"
     ]
    },
    {
     "data": {
      "text/plain": [
       "<ModelFramework.SymbolicModel.SymbolicModel at 0x1a2af70b50>"
      ]
     },
     "execution_count": 33,
     "metadata": {},
     "output_type": "execute_result"
    }
   ],
   "source": [
    "%%time\n",
    "sm = mf.SymbolicModel.from_file('3B3T-M1.py')\n",
    "p = rw.base_params(7)\n",
    "sm.linearise(p)"
   ]
  },
  {
   "cell_type": "code",
   "execution_count": null,
   "metadata": {},
   "outputs": [],
   "source": []
  }
 ],
 "metadata": {
  "kernelspec": {
   "display_name": "Python 3",
   "language": "python",
   "name": "python3"
  },
  "language_info": {
   "codemirror_mode": {
    "name": "ipython",
    "version": 3
   },
   "file_extension": ".py",
   "mimetype": "text/x-python",
   "name": "python",
   "nbconvert_exporter": "python",
   "pygments_lexer": "ipython3",
   "version": "3.7.7"
  }
 },
 "nbformat": 4,
 "nbformat_minor": 2
}
