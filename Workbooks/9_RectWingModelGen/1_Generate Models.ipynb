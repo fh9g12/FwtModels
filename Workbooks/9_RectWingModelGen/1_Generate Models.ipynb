{
 "cells": [
  {
   "cell_type": "markdown",
   "metadata": {},
   "source": [
    "## Generate Models\n",
    "\n",
    "This code generates the models for a rectangular wing with a FWTD, it creates a series of models to test different non-linearaties"
   ]
  },
  {
   "cell_type": "code",
   "execution_count": 3,
   "metadata": {},
   "outputs": [],
   "source": [
    "import sympy as sym\n",
    "import sympy.physics.mechanics as me\n",
    "from sympy.abc import t as time\n",
    "import pandas as pd\n",
    "import seaborn as sns\n",
    "\n",
    "import numpy as np\n",
    "from scipy.integrate import odeint,LSODA,BDF,solve_ivp\n",
    "from scipy.linalg import eig\n",
    "from scipy.optimize import fsolve\n",
    "import matplotlib.pyplot as plt\n",
    "\n",
    "import sys, os\n",
    "\n",
    "sys.path.insert(1, os.path.join(sys.path[0], '../..'))\n",
    "import custom_plot_objects as cpo\n",
    "\n",
    "import ModelFramework as mf\n",
    "import ModelFramework.Elements as ele\n",
    "import ModelFramework.ExternalForces as ef\n",
    "import FwtModels.RectWing as rw\n",
    "import FwtModels.RectWing.Models as rwm\n",
    "\n",
    "me.mechanics_printing()\n",
    "\n"
   ]
  },
  {
   "cell_type": "code",
   "execution_count": 4,
   "metadata": {},
   "outputs": [],
   "source": [
    "def Model_0(b_modes,t_modes):\n",
    "    return rwm.GenRectWingModel(b_modes,t_modes,fwt_free=False,iwt=True,iwb=False,fwt_frot=False)\n",
    "def Model_1(b_modes,t_modes):\n",
    "    return rwm.GenRectWingModel(b_modes,t_modes,fwt_free=True,iwt=False,iwb=False,fwt_frot=False)\n",
    "def Model_2(b_modes,t_modes):\n",
    "    return rwm.GenRectWingModel(b_modes,t_modes,fwt_free=True,iwt=True,iwb=False,fwt_frot=False)\n",
    "def Model_3(b_modes,t_modes):\n",
    "    return rwm.GenRectWingModel(b_modes,t_modes,fwt_free=True,iwt=True,iwb=True,fwt_frot=False)\n",
    "def Model_4(b_modes,t_modes):\n",
    "    return rwm.GenRectWingModel(b_modes,t_modes,fwt_free=True,iwt=True,iwb=True,fwt_frot=True)\n",
    "def Model_5(b_modes,t_modes):\n",
    "    model,p = Model_4(b_modes,t_modes)\n",
    "    return model.linearise(p).subs({i:0 for i in p.fp}),p\n",
    "def Model_6(b_modes,t_modes):\n",
    "    model,p = rwm.GenRectWingModel(b_modes,t_modes,fwt_free=True,iwt=True,iwb=False,fwt_frot=True)\n",
    "    return model.linearise(p).subs({i:0 for i in p.fp}),p\n",
    "\n",
    "ModelFactory = {\n",
    "    0:Model_0,\n",
    "    1:Model_1,\n",
    "    2:Model_2,\n",
    "    3:Model_3,\n",
    "    4:Model_4,\n",
    "    5:Model_5,\n",
    "    6:Model_6\n",
    "}\n",
    "\n",
    "\n",
    "def MakeModel(k,v,b_modes,t_modes):\n",
    "    model,p = v(b_modes,t_modes)\n",
    "    model.to_file(f'{b_modes}B{t_modes}T-M{k}.py')\n",
    "    return k"
   ]
  },
  {
   "cell_type": "code",
   "execution_count": 3,
   "metadata": {},
   "outputs": [],
   "source": [
    "b_modes = 3\n",
    "t_modes = 3\n",
    "import multiprocessing as mp\n",
    "from joblib import Parallel, delayed\n",
    "\n",
    "pool = mp.Pool(mp.cpu_count())\n",
    "\n",
    "\n",
    "for k,v in ModelFactory.items():\n",
    "    pool.apply_async(MakeModel,args=(k,v,b_modes,t_modes))\n",
    "pool.close()\n",
    "pool.join()"
   ]
  },
  {
   "cell_type": "code",
   "execution_count": 5,
   "metadata": {},
   "outputs": [
    {
     "name": "stdout",
     "output_type": "stream",
     "text": [
      "CPU times: user 55 s, sys: 314 ms, total: 55.3 s\n",
      "Wall time: 55.8 s\n"
     ]
    },
    {
     "data": {
      "image/png": "[encoded data removed]",
      "text/latex": [
       "$\\displaystyle 4$"
      ],
      "text/plain": [
       "4"
      ]
     },
     "execution_count": 5,
     "metadata": {},
     "output_type": "execute_result"
    }
   ],
   "source": [
    "%time MakeModel(4,Model_4,3,3)"
   ]
  },
  {
   "cell_type": "code",
   "execution_count": null,
   "metadata": {},
   "outputs": [],
   "source": []
  }
 ],
 "metadata": {
  "kernelspec": {
   "display_name": "Python 3",
   "language": "python",
   "name": "python3"
  },
  "language_info": {
   "codemirror_mode": {
    "name": "ipython",
    "version": 3
   },
   "file_extension": ".py",
   "mimetype": "text/x-python",
   "name": "python",
   "nbconvert_exporter": "python",
   "pygments_lexer": "ipython3",
   "version": "3.7.7"
  }
 },
 "nbformat": 4,
 "nbformat_minor": 2
}
