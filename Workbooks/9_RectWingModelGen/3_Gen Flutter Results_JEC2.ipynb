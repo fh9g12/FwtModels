{
 "cells": [
  {
   "cell_type": "code",
   "execution_count": 1,
   "metadata": {},
   "outputs": [],
   "source": [
    "import pandas as pd\n",
    "import seaborn as sns\n",
    "\n",
    "import numpy as np\n",
    "import matplotlib.pyplot as plt\n",
    "\n",
    "import sys, os\n",
    "\n",
    "sys.path.insert(1, os.path.join(sys.path[0], '../..'))\n",
    "\n",
    "import ModelFramework as mf\n",
    "import FwtModels.RectWing as rw"
   ]
  },
  {
   "cell_type": "markdown",
   "metadata": {},
   "source": [
    "## Create Method to Calculate the Eigen Response of a Given model\n",
    "\n",
    "Model defined by number of b and t shapes and model ID\n",
    "\n",
    "Using settings for JEC Wing"
   ]
  },
  {
   "cell_type": "code",
   "execution_count": 2,
   "metadata": {},
   "outputs": [],
   "source": [
    "def Model_Eigen(model_num,b_modes,t_modes):\n",
    "    p = rw.base_params(b_modes + t_modes + 1)\n",
    "    sm = mf.SymbolicModel.from_file(f'{b_modes}B{t_modes}T-M{model_num}.py')\n",
    "    \n",
    "    dataset_name = 'JEC2'\n",
    "    # Set JEC Specific parameters\n",
    "    p.rho.value = 1.225\n",
    "    p.s_t.value = 1.345\n",
    "    p.c.value = 0.15\n",
    "    p.EI.value = 61\n",
    "    p.GJ.value = 200\n",
    "    p.rho_t.value = 10\n",
    "    p.e_0.value = 0\n",
    "    p.e_1.value = 0\n",
    "    \n",
    "    vars_ls =[]\n",
    "    vars_ls.append((p.Lambda,np.deg2rad([10,17.5,25])))\n",
    "    vars_ls.append((p.V,np.linspace(0,40,81))) # V must be second\n",
    "    vars_ls.append((p.alpha_r,np.deg2rad([0,5,10])))\n",
    "    vars_ls.append((p.ratio_fwt,[0,0.1,0.2,0.3]))\n",
    "    vars_ls.append((p.m_factor,[0.5,1,1.5]))\n",
    "\n",
    "    variables = [k for k,v in vars_ls]\n",
    "    \n",
    "    calc_fixed = True if np.isin(model_num,np.array([1,2,3,4])) else False\n",
    "    flutdf = rw.eigen_perm_params(p,sm,vars_ls,calc_fixed)   \n",
    "    flutdf.to_pickle(f'Eigen_{b_modes}B{t_modes}T-M{model_num}_{dataset_name}.pkl')"
   ]
  },
  {
   "cell_type": "code",
   "execution_count": 4,
   "metadata": {},
   "outputs": [],
   "source": [
    "b_modes = 3\n",
    "t_modes = 3\n",
    "import multiprocessing as mp\n",
    "\n",
    "pool = mp.Pool(mp.cpu_count())\n",
    "\n",
    "#for k in range(7):\n",
    "for k in [5,6]:\n",
    "    pool.apply_async(Model_Eigen,args=(k,b_modes,t_modes))\n",
    "pool.close()\n",
    "pool.join()"
   ]
  },
  {
   "cell_type": "code",
   "execution_count": 3,
   "metadata": {},
   "outputs": [],
   "source": [
    "Model_Eigen(0,3,3)"
   ]
  },
  {
   "cell_type": "code",
   "execution_count": null,
   "metadata": {},
   "outputs": [],
   "source": []
  }
 ],
 "metadata": {
  "kernelspec": {
   "display_name": "Python 3",
   "language": "python",
   "name": "python3"
  },
  "language_info": {
   "codemirror_mode": {
    "name": "ipython",
    "version": 3
   },
   "file_extension": ".py",
   "mimetype": "text/x-python",
   "name": "python",
   "nbconvert_exporter": "python",
   "pygments_lexer": "ipython3",
   "version": "3.7.7"
  }
 },
 "nbformat": 4,
 "nbformat_minor": 2
}
