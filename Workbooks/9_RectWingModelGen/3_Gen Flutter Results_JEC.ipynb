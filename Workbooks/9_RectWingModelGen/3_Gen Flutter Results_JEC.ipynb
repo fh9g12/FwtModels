{
 "cells": [
  {
   "cell_type": "code",
   "execution_count": 1,
   "metadata": {},
   "outputs": [],
   "source": [
    "import pandas as pd\n",
    "import seaborn as sns\n",
    "\n",
    "import numpy as np\n",
    "import matplotlib.pyplot as plt\n",
    "\n",
    "import sys, os\n",
    "\n",
    "sys.path.insert(1, os.path.join(sys.path[0], '../..'))\n",
    "\n",
    "import ModelFramework as mf\n",
    "import FwtModels.RectWing as rw"
   ]
  },
  {
   "cell_type": "markdown",
   "metadata": {},
   "source": [
    "## Create Method to Calculate the Eigen Response of a Given model\n",
    "\n",
    "Model defined by number of b and t shapes and model ID\n",
    "\n",
    "Using settings for JEC Wing"
   ]
  },
  {
   "cell_type": "code",
   "execution_count": 5,
   "metadata": {},
   "outputs": [],
   "source": [
    "def Model_Eigen(model_num,b_modes,t_modes):\n",
    "    print(model_num)\n",
    "    p = rw.base_params(b_modes + t_modes + 1)\n",
    "    sm = mf.SymbolicModel.from_file(f'{b_modes}B{t_modes}T-M{model_num}.py')\n",
    "    \n",
    "    dataset_name = 'JEC'\n",
    "    # Set JEC Specific parameters\n",
    "    p.rho.value = 1.225\n",
    "    p.s_t.value = 12\n",
    "    p.c.value = 1.8\n",
    "    p.EI.value = 9.77e6\n",
    "    p.GJ.value = 0.99e6\n",
    "    p.rho_t.value = 19.53\n",
    "    p.e_0.value = 0.08\n",
    "    p.e_1.value = 0\n",
    "    \n",
    "    p.ratio_fwt.value = 0.2\n",
    "    \n",
    "    vars_ls =[]\n",
    "    vars_ls.append((p.Lambda,np.deg2rad([10,17.5,25])))\n",
    "    vars_ls.append((p.V,np.linspace(0,150,151))) # V must be second\n",
    "    vars_ls.append((p.alpha_r,np.deg2rad([0,5,10])))\n",
    "    vars_ls.append((p.ratio_DL,[0,0.05,0.1,0.2]))\n",
    "    vars_ls.append((p.m_factor,[0.5,1,1.5]))\n",
    "\n",
    "    variables = [k for k,v in vars_ls]\n",
    "    \n",
    "    calc_fixed = True if np.isin(2,np.array([1,2,3,4])) else False\n",
    "    print(model_num)\n",
    "    flutdf = rw.eigen_perm_params(p,sm,vars_ls,calc_fixed)   \n",
    "    print(model_num)\n",
    "    flutdf.to_pickle(f'Eigen_{b_modes}B{t_modes}T-M{model_num}_{dataset_name}.pkl')"
   ]
  },
  {
   "cell_type": "code",
   "execution_count": 6,
   "metadata": {},
   "outputs": [
    {
     "name": "stdout",
     "output_type": "stream",
     "text": [
      "0\n",
      "1\n",
      "2\n",
      "5\n",
      "4\n",
      "7\n",
      "3\n",
      "6\n",
      "6\n",
      "7\n",
      "0\n",
      "2\n",
      "1\n",
      "3\n",
      "4\n",
      "5\n",
      "1\n",
      "0\n",
      "2\n",
      "6\n",
      "3\n",
      "7\n",
      "4\n",
      "5\n"
     ]
    }
   ],
   "source": [
    "b_modes = 3\n",
    "t_modes = 3\n",
    "import multiprocessing as mp\n",
    "\n",
    "pool = mp.Pool(mp.cpu_count())\n",
    "\n",
    "for k in range(8):\n",
    "    pool.apply_async(Model_Eigen,args=(k,b_modes,t_modes))\n",
    "pool.close()\n",
    "pool.join()"
   ]
  },
  {
   "cell_type": "code",
   "execution_count": null,
   "metadata": {},
   "outputs": [],
   "source": []
  }
 ],
 "metadata": {
  "kernelspec": {
   "display_name": "Python 3",
   "language": "python",
   "name": "python3"
  },
  "language_info": {
   "codemirror_mode": {
    "name": "ipython",
    "version": 3
   },
   "file_extension": ".py",
   "mimetype": "text/x-python",
   "name": "python",
   "nbconvert_exporter": "python",
   "pygments_lexer": "ipython3",
   "version": "3.7.7"
  }
 },
 "nbformat": 4,
 "nbformat_minor": 2
}
