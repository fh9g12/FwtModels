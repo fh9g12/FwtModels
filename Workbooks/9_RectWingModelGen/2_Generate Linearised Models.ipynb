{
 "cells": [
  {
   "cell_type": "markdown",
   "metadata": {},
   "source": [
    "## Benchmarking\n",
    "\n",
    "\n",
    "I'm using this code to benchmark underlying function and my code generation tactics\n",
    "\n",
    "will use a 2B1T + FWTD model and relise it at 20 m/s & 5 deg aoa"
   ]
  },
  {
   "cell_type": "code",
   "execution_count": 2,
   "metadata": {},
   "outputs": [],
   "source": [
    "import sys, os\n",
    "sys.path.insert(1, os.path.join(sys.path[0], '../..'))\n",
    "\n",
    "import ModelFramework as mf\n",
    "import FwtModels.RectWing as rw\n",
    "import multiprocessing as mp"
   ]
  },
  {
   "cell_type": "markdown",
   "metadata": {},
   "source": [
    "### Define the Model\n",
    "\n",
    "#### Create Parameter instance"
   ]
  },
  {
   "cell_type": "code",
   "execution_count": 6,
   "metadata": {},
   "outputs": [],
   "source": [
    "# Get Model\n",
    "b_modes = 3\n",
    "t_modes = 3\n",
    "\n",
    "\n",
    "pool = mp.Pool(mp.cpu_count())\n",
    "\n",
    "def MakeModel(model_num,b_modes,t_modes):    \n",
    "    p = rw.base_params(b_modes + t_modes + 1)\n",
    "    sm = mf.SymbolicModel.from_file(f'{b_modes}B{b_modes}T-M{model_num}.py')\n",
    "    sm_lin = sm.linearise(p)\n",
    "    sm_lin.to_file(f'Lin_{b_modes}B{t_modes}T-M{model_num}.py')\n",
    "    print(f'Lin_{b_modes}B{t_modes}T-M{model_num}.py')\n",
    "\n",
    "\n",
    "for k in range(7):\n",
    "    pool.apply_async(MakeModel,args=(k,b_modes,t_modes))\n",
    "pool.close()\n",
    "pool.join()"
   ]
  },
  {
   "cell_type": "code",
   "execution_count": null,
   "metadata": {},
   "outputs": [],
   "source": []
  }
 ],
 "metadata": {
  "kernelspec": {
   "display_name": "Python 3",
   "language": "python",
   "name": "python3"
  },
  "language_info": {
   "codemirror_mode": {
    "name": "ipython",
    "version": 3
   },
   "file_extension": ".py",
   "mimetype": "text/x-python",
   "name": "python",
   "nbconvert_exporter": "python",
   "pygments_lexer": "ipython3",
   "version": "3.7.7"
  }
 },
 "nbformat": 4,
 "nbformat_minor": 2
}
