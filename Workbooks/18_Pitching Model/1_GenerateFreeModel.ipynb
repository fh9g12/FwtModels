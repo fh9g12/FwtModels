{
 "cells": [
  {
   "cell_type": "code",
   "execution_count": 1,
   "metadata": {},
   "outputs": [],
   "source": [
    "import sympy as sym\n",
    "import sympy.physics.mechanics as me\n",
    "from sympy.abc import t as time\n",
    "import pandas as pd\n",
    "import seaborn as sns\n",
    "\n",
    "import numpy as np\n",
    "from scipy.integrate import solve_ivp\n",
    "import matplotlib.pyplot as plt\n",
    "\n",
    "import sys, os\n",
    "\n",
    "sys.path.insert(1, os.path.join(sys.path[0], '../..'))\n",
    "import custom_plot_objects as cpo\n",
    "\n",
    "import ModelFramework as mf\n",
    "import ModelFramework.Elements as ele\n",
    "import ModelFramework.ExternalForces as ef\n",
    "import FwtModels.RectWing as rw\n",
    "import FwtModels.RollRig as RollRig\n",
    "\n",
    "from matplotlib.lines import Line2D\n",
    "\n",
    "me.mechanics_printing()"
   ]
  },
  {
   "cell_type": "code",
   "execution_count": 68,
   "metadata": {},
   "outputs": [],
   "source": [
    "half = sym.Rational(1,2)\n",
    "fwt_panels = 1\n",
    "main_panels = 20\n",
    "panels = main_panels + 2*fwt_panels\n",
    "\n",
    "# create parameters\n",
    "p = mf.ModelParameters.DynamicModel(3)\n",
    "\n",
    "#Geometry Parameters\n",
    "p.c = mf.ModelSymbol(value = 0.15,string = 'c') # chord of wing\n",
    "p.s = mf.ModelSymbol(value = 1,string = 'S')    # span of wing\n",
    "p.s_w = mf.ModelSymbol(value = 0.72,string = 'S_w')    # span of wing\n",
    "p.A = mf.ModelSymbol(value = 0.72,string = 'A')    # span of wing\n",
    "\n",
    "# Mass Parameter\n",
    "p.m_w = mf.ModelSymbol(value = 0.22, string = 'm_w') # mass per unit span of inner wing\n",
    "p.m_t = mf.ModelSymbol(value = 0.038,string = 'm_t') # mass of each FWT\n",
    "\n",
    "p.I_xx_f = mf.ModelSymbol (value = 0.1, string = 'I_xxf')\n",
    "p.I_yy_w = mf.ModelSymbol (value = 0.1, string = 'I_yyw')\n",
    "\n",
    "\n",
    "# Attitude Parmas\n",
    "p.rho = mf.ModelSymbol(value = 1.225,string = 'rho')                 # density\n",
    "p.V = mf.ModelSymbol(value = 10,string = 'V')                        # velocity\n",
    "p.g  = mf.ModelSymbol(value = 9.81,string = 'g')                     # gravity\n",
    "p.alpha_r = mf.ModelSymbol(value = np.deg2rad(3),string = 'alpha_r') # root AoA\n",
    "p.alpha_c = mf.ModelSymbol(value = 0, string = 'alpha_c')            # FWT camber\n",
    "\n",
    "p.c_m_alpha = mf.ModelSymbol(value = 0, string = 'c_ma')            # FWT camber\n",
    "p.c_m_q = mf.ModelSymbol(value = 0, string = 'c_mq')            # FWT camber\n",
    "p.c_m_eta = mf.ModelSymbol(value = 0, string = 'c_m\\eta')            # FWT camber\n",
    "p.eta = mf.ModelSymbol(value = 0, string = 'eta')            # FWT camber\n",
    "\n",
    "p.alpha_0 = mf.ModelSymbol(value = 0,string = 'alpha_0')             # FWT alpha\n",
    "p.alphadot_0 = mf.ModelSymbol(value = 0,string = 'alphadot_0')       # FWT alphadot\n",
    "p.alpha_1 = mf.ModelSymbol(value = 0,string = 'alpha_1')             # FWT alpha\n",
    "p.alphadot_1 = mf.ModelSymbol(value = 0,string = 'alphadot_1')       # FWT alphadot\n",
    "p.alpha_2 = mf.ModelSymbol(value = 0,string = 'alpha_2')             # FWT alpha\n",
    "p.alphadot_2 = mf.ModelSymbol(value = 0,string = 'alphadot_2')       # FWT alphadot\n",
    "\n",
    "p.c_d_max = mf.ModelSymbol(value = 1,string='C_Dmax')\n",
    "p.a_0 = mf.ModelSymbol(value = 2*np.pi, string = 'a_0')   # C_L at the root\n",
    "p.a_1 = mf.ModelSymbol(value = 2*np.pi, string = 'a_1')   # C_L at the root\n",
    "p.beta = mf.ModelSymbol(value = 2*np.pi, string = 'beta' ) # Aileron Angle\n",
    "\n",
    "# fwt params\n",
    "p.Lambda = mf.ModelSymbol(value = np.deg2rad(10),string = 'Lambda') # flare angle\n",
    "p.y_f = sym.Symbol('y_f')# spanwise location\n",
    "p.y_i = sym.Symbol('y_i') # spanwise location\n",
    "\n",
    "#Gust Velocity\n",
    "p.w_g = mf.ModelSymbol(value = 0,string='w_g')\n",
    "\n",
    "#CLosed loop gains for roll control\n",
    "p.p = mf.ModelSymbol(value = 1,string='p')\n",
    "\n",
    "# Time constnat for torque\n",
    "p.T = mf.ModelSymbol(value = 1,string='T')\n",
    "\n",
    "## Numeric Model Constants\n",
    "p.a = mf.ModelMatrix(value =[np.pi*2]*panels,symbols=sym.symbols(f'a:{panels}')) # The stationary point\n",
    "\n",
    "p.y_w = mf.ModelSymbol(value = 0,string = 'y_w') # y offset of wing CoM\n",
    "p.z_w = mf.ModelSymbol(value = 0,string = 'z_w') # z offset of wing CoM\n",
    "p.l_f = mf.ModelSymbol(value = 0,string = 'l_f') # moment arm of FWT\n",
    "\n",
    "#integration constant\n",
    "p.y_n = mf.ModelSymbol(value = 0,string = 'y_n') # integration constant\n",
    "\n",
    "\n",
    "## FWTD Structural Parameters\n",
    "p.y_0 = sym.Symbol('y_0')\n",
    "p.x_0 = sym.Symbol('x_0')\n",
    "\n",
    "## Numeric Model Constants\n",
    "p.fp = mf.ModelMatrix(value =[0]*p.qs*2,symbols=sym.symbols(f'qtilde:{p.qs*2}')) # The stationary point"
   ]
  },
  {
   "cell_type": "code",
   "execution_count": 93,
   "metadata": {},
   "outputs": [],
   "source": [
    "# Generate Referecne Frame\n",
    "wing_frame = mf.HomogenousTransform().R_y(p.q[2])\n",
    "rhs_fwt_frame = wing_frame.Translate(0,p.s_w,0).R_x(p.q[1])  # RHS Fwt Frame\n",
    "lhs_fwt_frame = wing_frame.Translate(0,-p.s_w,0).R_x(-p.q[0])  # LHS Fwt Frame\n",
    "\n",
    "#Generate Mass Matrices\n",
    "M_w = ele.MassMatrix(p.m_w)\n",
    "I_w = ele.MassMatrix(0,I_yy = p.I_yy_w)\n",
    "fwt_w = ele.MassMatrix(p.m_t*(p.s-p.s_w),I_xx = sym.Rational(1,12)*p.m_t*(p.s-p.s_w)**3)\n",
    "\n",
    "# Generate Rigid Elements\n",
    "Wing_point_mass = ele.RigidElement(wing_frame,M_w,gravityPotential=True)\n",
    "wing_inertia = ele.RigidElement(wing_frame,I_w)\n",
    "rhs_fwt_mass = ele.RigidElement(rhs_fwt_frame.Translate(0,half*(p.s-p.s_w),0),fwt_w,gravityPotential=True)\n",
    "lhs_fwt_mass = ele.RigidElement(lhs_fwt_frame.Translate(0,-half*(p.s-p.s_w),0),fwt_w,gravityPotential=True)"
   ]
  },
  {
   "cell_type": "code",
   "execution_count": 149,
   "metadata": {},
   "outputs": [],
   "source": [
    "# Main Wing Aero Forces \n",
    "wing_AeroForces = ef.AeroForce.PerUnitSpan(p,wing_frame.Translate(0,p.y_i,0),p.a_0,\n",
    "                               alphadot = 0,\n",
    "                               M_thetadot = 0,\n",
    "                               e = 0,\n",
    "                               w_g = 0,\n",
    "                               rootAlpha = p.q[2],\n",
    "                               alpha_zero = p.alpha_c,\n",
    "                               stall_angle = 0,\n",
    "                               c = p.c,\n",
    "                               c_d_max = 0,\n",
    "                               linear = True).integrate((p.y_i,-p.s_w,p.s_w))"
   ]
  },
  {
   "cell_type": "code",
   "execution_count": 150,
   "metadata": {},
   "outputs": [],
   "source": [
    "# split Main Wing into segments\n",
    "# forces = []\n",
    "# for i in range(main_panels):\n",
    "#     seg_width = p.s_w/main_panels\n",
    "#     yi = -p.s_w/2 + seg_width/2 + i*seg_width\n",
    "#     forces.append(wing_AeroForces.subs({p.y_i:yi,p.a_0:p.a[fwt_panels+i]})*seg_width)\n",
    "# Q = sym.Matrix([0]*p.qs)\n",
    "# for f in forces:\n",
    "#     Q += f.Q()\n",
    "# wing_AeroForces = ef.ExternalForce(Q)"
   ]
  },
  {
   "cell_type": "code",
   "execution_count": 151,
   "metadata": {},
   "outputs": [],
   "source": [
    "# Left FWT Aero Forces\n",
    "lhs_fwt_AeroForces = ef.AeroForce.PerUnitSpan(p,lhs_fwt_frame.Translate(0,-p.y_f,0),p.a_0,\n",
    "                               alphadot = 0,\n",
    "                               M_thetadot = 0,\n",
    "                               e = 0,\n",
    "                               w_g = 0,\n",
    "                               rootAlpha = p.q[2] - p.q[0]*sym.sin(p.Lambda),\n",
    "                               alpha_zero = p.alpha_c,\n",
    "                               stall_angle = 0,\n",
    "                               c = p.c,\n",
    "                               c_d_max = 0,\n",
    "                               linear = True).integrate((p.y_f,0,(p.s-p.s_w)))"
   ]
  },
  {
   "cell_type": "code",
   "execution_count": 152,
   "metadata": {},
   "outputs": [],
   "source": [
    "# Right FWT Aero Forces \n",
    "rhs_fwt_AeroForces = ef.AeroForce.PerUnitSpan(p,rhs_fwt_frame.Translate(0,p.y_f,0),p.a_0,\n",
    "                               alphadot = 0,\n",
    "                               M_thetadot = 0,\n",
    "                               e = 0,\n",
    "                               w_g = 0,\n",
    "                               rootAlpha = p.q[2] - p.q[1]*sym.sin(p.Lambda),\n",
    "                               alpha_zero = p.alpha_c,\n",
    "                               stall_angle = 0,\n",
    "                               c = p.c,\n",
    "                               c_d_max = p.c_d_max,\n",
    "                               linear = True).integrate((p.y_f,0,(p.s-p.s_w)))"
   ]
  },
  {
   "cell_type": "code",
   "execution_count": 153,
   "metadata": {},
   "outputs": [
    {
     "data": {
      "text/latex": [
       "$\\displaystyle \\left[\\begin{matrix}0\\\\- \\frac{V a_{0} c \\rho \\left(S - S_{w}\\right)^{3} \\dot{q}_{1}}{6} + \\left(S - S_{w}\\right)^{2} \\left(\\frac{V^{2} a_{0} \\alpha_{c} c \\rho}{4} - \\frac{V^{2} a_{0} c \\rho q_{1} \\sin{\\left(\\Lambda \\right)}}{4} + \\frac{V^{2} a_{0} c \\rho q_{2}}{4}\\right)\\\\0\\end{matrix}\\right]$"
      ],
      "text/plain": [
       "⎡                                            0                                \n",
       "⎢                                                                             \n",
       "⎢                    3                 ⎛ 2               2                    \n",
       "⎢  V⋅a₀⋅c⋅ρ⋅(S - S_w) ⋅q₁̇            2 ⎜V ⋅a₀⋅α_c⋅c⋅ρ   V ⋅a₀⋅c⋅ρ⋅q₁⋅sin(Λ)  \n",
       "⎢- ────────────────────── + (S - S_w) ⋅⎜───────────── - ─────────────────── + \n",
       "⎢            6                         ⎝      4                  4            \n",
       "⎢                                                                             \n",
       "⎣                                            0                                \n",
       "\n",
       "             ⎤\n",
       "             ⎥\n",
       " 2          ⎞⎥\n",
       " V ⋅a₀⋅c⋅ρ⋅q₂⎟⎥\n",
       "────────────⎟⎥\n",
       "     4      ⎠⎥\n",
       "             ⎥\n",
       "             ⎦"
      ]
     },
     "execution_count": 153,
     "metadata": {},
     "output_type": "execute_result"
    }
   ],
   "source": [
    "rhs_fwt_AeroForces.Q()"
   ]
  },
  {
   "cell_type": "code",
   "execution_count": 154,
   "metadata": {},
   "outputs": [],
   "source": [
    "# split FTW's into segments\n",
    "# forces = []\n",
    "# for i in range(fwt_panels):\n",
    "#     seg_width = (p.s-p.s_w)/fwt_panels\n",
    "#     yi = seg_width/2 + i*seg_width\n",
    "#     forces.append(lhs_fwt_AeroForces.subs({p.y_f:yi,p.a_0:p.a[fwt_panels-(i+1)]})*seg_width)\n",
    "#     forces.append(rhs_fwt_AeroForces.subs({p.y_f:yi,p.a_0:p.a[fwt_panels+main_panels+i]})*seg_width)\n",
    "# Q = sym.Matrix([0]*p.qs)\n",
    "# for f in forces:\n",
    "#     Q += f.Q()\n",
    "# fwt_AeroForces = ef.ExternalForce(Q)\n",
    "\n"
   ]
  },
  {
   "cell_type": "code",
   "execution_count": 155,
   "metadata": {},
   "outputs": [
    {
     "data": {
      "text/latex": [
       "$\\displaystyle \\left[\\begin{matrix}0\\\\0\\\\\\frac{A V^{2} \\rho \\left(c_{m\\eta} \\eta + c_{ma} \\left(\\alpha_{c} + q_{2}\\right) + c_{mq} \\dot{q}_{2}\\right)}{2}\\end{matrix}\\right]$"
      ],
      "text/plain": [
       "⎡                      0                      ⎤\n",
       "⎢                                             ⎥\n",
       "⎢                      0                      ⎥\n",
       "⎢                                             ⎥\n",
       "⎢   2                                         ⎥\n",
       "⎢A⋅V ⋅ρ⋅(c_m\\eta⋅η + cₘₐ⋅(α_c + q₂) + c_mq⋅q₂̇)⎥\n",
       "⎢─────────────────────────────────────────────⎥\n",
       "⎣                      2                      ⎦"
      ]
     },
     "execution_count": 155,
     "metadata": {},
     "output_type": "execute_result"
    }
   ],
   "source": [
    "#Tail plane force\n",
    "_Q = [0]*p.qs\n",
    "_Q[2] = half*p.rho*p.V**2*p.A*(p.c_m_alpha*(p.alpha_c+p.q[2])+p.c_m_q*p.qd[2]+p.c_m_eta*p.eta)\n",
    "\n",
    "tail_force = ef.ExternalForce(sym.Matrix(_Q))\n",
    "\n",
    "sym.Matrix(_Q)"
   ]
  },
  {
   "cell_type": "code",
   "execution_count": 156,
   "metadata": {},
   "outputs": [],
   "source": [
    "Forcing = ef.CustomForce(None) \n",
    "\n",
    "CompositeForce = ef.CompositeForce([lhs_fwt_AeroForces,rhs_fwt_AeroForces,wing_AeroForces,Forcing,tail_force])\n",
    "# create instance of the model\n",
    "sm = mf.SymbolicModel.FromElementsAndForces(p,[Wing_point_mass,wing_inertia,rhs_fwt_mass,lhs_fwt_mass],ExtForces = CompositeForce)"
   ]
  },
  {
   "cell_type": "code",
   "execution_count": 157,
   "metadata": {},
   "outputs": [
    {
     "data": {
      "text/latex": [
       "$\\displaystyle \\left[\\begin{matrix}\\frac{m_{t} \\left(S^{3} - 3 S^{2} S_{w} + 3 S S_{w}^{2} - S_{w}^{3}\\right)}{3} & 0 & 0\\\\0 & \\frac{m_{t} \\left(S^{3} - 3 S^{2} S_{w} + 3 S S_{w}^{2} - S_{w}^{3}\\right)}{3} & 0\\\\0 & 0 & I_{yyw} + \\frac{S^{3} m_{t} \\sin^{2}{\\left(q_{0} \\right)}}{4} + \\frac{S^{3} m_{t} \\sin^{2}{\\left(q_{1} \\right)}}{4} - \\frac{3 S^{2} S_{w} m_{t} \\sin^{2}{\\left(q_{0} \\right)}}{4} - \\frac{3 S^{2} S_{w} m_{t} \\sin^{2}{\\left(q_{1} \\right)}}{4} + \\frac{3 S S_{w}^{2} m_{t} \\sin^{2}{\\left(q_{0} \\right)}}{4} + \\frac{3 S S_{w}^{2} m_{t} \\sin^{2}{\\left(q_{1} \\right)}}{4} - \\frac{S_{w}^{3} m_{t} \\sin^{2}{\\left(q_{0} \\right)}}{4} - \\frac{S_{w}^{3} m_{t} \\sin^{2}{\\left(q_{1} \\right)}}{4}\\end{matrix}\\right]$"
      ],
      "text/plain": [
       "⎡   ⎛ 3      2              2      3⎞                                         \n",
       "⎢mₜ⋅⎝S  - 3⋅S ⋅S_w + 3⋅S⋅S_w  - S_w ⎠                                         \n",
       "⎢────────────────────────────────────                   0                     \n",
       "⎢                 3                                                           \n",
       "⎢                                                                             \n",
       "⎢                                         ⎛ 3      2              2      3⎞   \n",
       "⎢                                      mₜ⋅⎝S  - 3⋅S ⋅S_w + 3⋅S⋅S_w  - S_w ⎠   \n",
       "⎢                 0                    ────────────────────────────────────   \n",
       "⎢                                                       3                     \n",
       "⎢                                                                             \n",
       "⎢                                                                             \n",
       "⎢                                                                             \n",
       "⎢                 0                                     0                    I\n",
       "⎣                                                                             \n",
       "\n",
       "                                                                              \n",
       "                                                                              \n",
       "                                                                              \n",
       "                                                                              \n",
       "                                                                              \n",
       "                                                                              \n",
       "                                                                              \n",
       "                                                                              \n",
       "                                                                              \n",
       "                                                                              \n",
       "        3       2        3       2          2           2          2          \n",
       "       S ⋅mₜ⋅sin (q₀)   S ⋅mₜ⋅sin (q₁)   3⋅S ⋅S_w⋅mₜ⋅sin (q₀)   3⋅S ⋅S_w⋅mₜ⋅si\n",
       "_yyw + ────────────── + ────────────── - ──────────────────── - ──────────────\n",
       "             4                4                   4                      4    \n",
       "\n",
       "                                                                              \n",
       "                                                                              \n",
       "     0                                                                        \n",
       "                                                                              \n",
       "                                                                              \n",
       "                                                                              \n",
       "                                                                              \n",
       "     0                                                                        \n",
       "                                                                              \n",
       "                                                                              \n",
       " 2              2       2              2       2          3       2          3\n",
       "n (q₁)   3⋅S⋅S_w ⋅mₜ⋅sin (q₀)   3⋅S⋅S_w ⋅mₜ⋅sin (q₁)   S_w ⋅mₜ⋅sin (q₀)   S_w \n",
       "────── + ──────────────────── + ──────────────────── - ──────────────── - ────\n",
       "                  4                      4                    4               \n",
       "\n",
       "            ⎤\n",
       "            ⎥\n",
       "            ⎥\n",
       "            ⎥\n",
       "            ⎥\n",
       "            ⎥\n",
       "            ⎥\n",
       "            ⎥\n",
       "            ⎥\n",
       "            ⎥\n",
       "       2    ⎥\n",
       "⋅mₜ⋅sin (q₁)⎥\n",
       "────────────⎥\n",
       "   4        ⎦"
      ]
     },
     "execution_count": 157,
     "metadata": {},
     "output_type": "execute_result"
    }
   ],
   "source": [
    "sym.factor(sym.simplify(sm.M))"
   ]
  },
  {
   "cell_type": "code",
   "execution_count": 158,
   "metadata": {},
   "outputs": [
    {
     "data": {
      "text/latex": [
       "$\\displaystyle \\left[\\begin{matrix}\\frac{S^{3} m_{t}}{3} - S^{2} S_{w} m_{t} + S S_{w}^{2} m_{t} - \\frac{S_{w}^{3} m_{t}}{3} & 0 & 0\\\\0 & \\frac{S^{3} m_{t}}{3} - S^{2} S_{w} m_{t} + S S_{w}^{2} m_{t} - \\frac{S_{w}^{3} m_{t}}{3} & 0\\\\0 & 0 & I_{yyw} + \\frac{S^{3} m_{t} \\sin^{2}{\\left(q_{0} \\right)}}{4} + \\frac{S^{3} m_{t} \\sin^{2}{\\left(q_{1} \\right)}}{4} - \\frac{3 S^{2} S_{w} m_{t} \\sin^{2}{\\left(q_{0} \\right)}}{4} - \\frac{3 S^{2} S_{w} m_{t} \\sin^{2}{\\left(q_{1} \\right)}}{4} + \\frac{3 S S_{w}^{2} m_{t} \\sin^{2}{\\left(q_{0} \\right)}}{4} + \\frac{3 S S_{w}^{2} m_{t} \\sin^{2}{\\left(q_{1} \\right)}}{4} - \\frac{S_{w}^{3} m_{t} \\sin^{2}{\\left(q_{0} \\right)}}{4} - \\frac{S_{w}^{3} m_{t} \\sin^{2}{\\left(q_{1} \\right)}}{4}\\end{matrix}\\right]$"
      ],
      "text/plain": [
       "⎡ 3                                 3                                         \n",
       "⎢S ⋅mₜ    2               2      S_w ⋅mₜ                                      \n",
       "⎢───── - S ⋅S_w⋅mₜ + S⋅S_w ⋅mₜ - ───────                     0                \n",
       "⎢  3                                3                                         \n",
       "⎢                                                                             \n",
       "⎢                                          3                                 3\n",
       "⎢                                         S ⋅mₜ    2               2      S_w \n",
       "⎢                   0                     ───── - S ⋅S_w⋅mₜ + S⋅S_w ⋅mₜ - ────\n",
       "⎢                                           3                                3\n",
       "⎢                                                                             \n",
       "⎢                                                                             \n",
       "⎢                                                                             \n",
       "⎢                   0                                        0                \n",
       "⎣                                                                             \n",
       "\n",
       "                                                                              \n",
       "                                                                              \n",
       "                                                                              \n",
       "                                                                              \n",
       "                                                                              \n",
       "                                                                              \n",
       "⋅mₜ                                                                           \n",
       "───                                                                           \n",
       "                                                                              \n",
       "                                                                              \n",
       "              3       2        3       2          2           2          2    \n",
       "             S ⋅mₜ⋅sin (q₀)   S ⋅mₜ⋅sin (q₁)   3⋅S ⋅S_w⋅mₜ⋅sin (q₀)   3⋅S ⋅S_w\n",
       "     I_yyw + ────────────── + ────────────── - ──────────────────── - ────────\n",
       "                   4                4                   4                     \n",
       "\n",
       "                                                                              \n",
       "                                                                              \n",
       "           0                                                                  \n",
       "                                                                              \n",
       "                                                                              \n",
       "                                                                              \n",
       "                                                                              \n",
       "           0                                                                  \n",
       "                                                                              \n",
       "                                                                              \n",
       "       2              2       2              2       2          3       2     \n",
       "⋅mₜ⋅sin (q₁)   3⋅S⋅S_w ⋅mₜ⋅sin (q₀)   3⋅S⋅S_w ⋅mₜ⋅sin (q₁)   S_w ⋅mₜ⋅sin (q₀) \n",
       "──────────── + ──────────────────── + ──────────────────── - ──────────────── \n",
       " 4                      4                      4                    4         \n",
       "\n",
       "                  ⎤\n",
       "                  ⎥\n",
       "                  ⎥\n",
       "                  ⎥\n",
       "                  ⎥\n",
       "                  ⎥\n",
       "                  ⎥\n",
       "                  ⎥\n",
       "                  ⎥\n",
       "                  ⎥\n",
       "     3       2    ⎥\n",
       "  S_w ⋅mₜ⋅sin (q₁)⎥\n",
       "- ────────────────⎥\n",
       "         4        ⎦"
      ]
     },
     "execution_count": 158,
     "metadata": {},
     "output_type": "execute_result"
    }
   ],
   "source": [
    "sm.M"
   ]
  },
  {
   "cell_type": "code",
   "execution_count": 159,
   "metadata": {},
   "outputs": [],
   "source": [
    "lin_sm = sm.linearise(p).subs({fp:p.fp.value[i]for i,fp in enumerate(p.fp)})"
   ]
  },
  {
   "cell_type": "code",
   "execution_count": 160,
   "metadata": {},
   "outputs": [
    {
     "data": {
      "text/latex": [
       "$\\displaystyle \\left[\\begin{matrix}\\frac{m_{t} \\left(S^{3} - 3 S^{2} S_{w} + 3 S S_{w}^{2} - S_{w}^{3}\\right)}{3} & 0 & 0\\\\0 & \\frac{m_{t} \\left(S^{3} - 3 S^{2} S_{w} + 3 S S_{w}^{2} - S_{w}^{3}\\right)}{3} & 0\\\\0 & 0 & I_{yyw}\\end{matrix}\\right]$"
      ],
      "text/plain": [
       "⎡   ⎛ 3      2              2      3⎞                                         \n",
       "⎢mₜ⋅⎝S  - 3⋅S ⋅S_w + 3⋅S⋅S_w  - S_w ⎠                                         \n",
       "⎢────────────────────────────────────                   0                     \n",
       "⎢                 3                                                           \n",
       "⎢                                                                             \n",
       "⎢                                         ⎛ 3      2              2      3⎞   \n",
       "⎢                                      mₜ⋅⎝S  - 3⋅S ⋅S_w + 3⋅S⋅S_w  - S_w ⎠   \n",
       "⎢                 0                    ────────────────────────────────────   \n",
       "⎢                                                       3                     \n",
       "⎢                                                                             \n",
       "⎣                 0                                     0                    I\n",
       "\n",
       "    ⎤\n",
       "    ⎥\n",
       " 0  ⎥\n",
       "    ⎥\n",
       "    ⎥\n",
       "    ⎥\n",
       "    ⎥\n",
       " 0  ⎥\n",
       "    ⎥\n",
       "    ⎥\n",
       "_yyw⎦"
      ]
     },
     "execution_count": 160,
     "metadata": {},
     "output_type": "execute_result"
    }
   ],
   "source": [
    "sym.simplify(lin_sm.M)"
   ]
  },
  {
   "cell_type": "code",
   "execution_count": 161,
   "metadata": {},
   "outputs": [
    {
     "data": {
      "text/latex": [
       "$\\displaystyle \\left[\\begin{matrix}\\dot{q}_{0}\\\\\\dot{q}_{1}\\\\\\dot{q}_{2}\\end{matrix}\\right]$"
      ],
      "text/plain": [
       "⎡q₀̇⎤\n",
       "⎢  ⎥\n",
       "⎢q₁̇⎥\n",
       "⎢  ⎥\n",
       "⎣q₂̇⎦"
      ]
     },
     "execution_count": 161,
     "metadata": {},
     "output_type": "execute_result"
    }
   ],
   "source": [
    "p.qd"
   ]
  },
  {
   "cell_type": "code",
   "execution_count": 162,
   "metadata": {},
   "outputs": [],
   "source": [
    "f = -(lin_sm.ExtForces.Q() - lin_sm.f)\n",
    "C = f.jacobian(p.qd)\n",
    "K = sym.simplify(f-C*p.qd).jacobian(p.q)\n",
    "Q = sym.simplify(f-C*p.qd-K*p.q)\n",
    "q = sym.Matrix([p.alpha_c,p.eta])\n",
    "A = Q.jacobian(q)\n",
    "B = Q-A*q"
   ]
  },
  {
   "cell_type": "code",
   "execution_count": 163,
   "metadata": {},
   "outputs": [
    {
     "data": {
      "text/latex": [
       "$\\displaystyle \\left[\\begin{matrix}\\frac{V a_{0} c \\rho \\left(S - S_{w}\\right)^{3}}{6} & 0 & 0\\\\0 & \\frac{V a_{0} c \\rho \\left(S - S_{w}\\right)^{3}}{6} & 0\\\\0 & 0 & - \\frac{A V^{2} c_{mq} \\rho}{2}\\end{matrix}\\right]$"
      ],
      "text/plain": [
       "⎡                  3                                    ⎤\n",
       "⎢V⋅a₀⋅c⋅ρ⋅(S - S_w)                                     ⎥\n",
       "⎢───────────────────           0                 0      ⎥\n",
       "⎢         6                                             ⎥\n",
       "⎢                                                       ⎥\n",
       "⎢                                       3               ⎥\n",
       "⎢                     V⋅a₀⋅c⋅ρ⋅(S - S_w)                ⎥\n",
       "⎢         0           ───────────────────        0      ⎥\n",
       "⎢                              6                        ⎥\n",
       "⎢                                                       ⎥\n",
       "⎢                                              2        ⎥\n",
       "⎢                                          -A⋅V ⋅c_mq⋅ρ ⎥\n",
       "⎢         0                    0           ─────────────⎥\n",
       "⎣                                                2      ⎦"
      ]
     },
     "execution_count": 163,
     "metadata": {},
     "output_type": "execute_result"
    }
   ],
   "source": [
    "C"
   ]
  },
  {
   "cell_type": "code",
   "execution_count": 164,
   "metadata": {},
   "outputs": [
    {
     "data": {
      "text/latex": [
       "$\\displaystyle \\left[\\begin{matrix}\\frac{V^{2} a_{0} c \\rho \\left(S - S_{w}\\right)^{2} \\sin{\\left(\\Lambda \\right)}}{4} & 0 & - \\frac{V^{2} a_{0} c \\rho \\left(S - S_{w}\\right)^{2}}{4}\\\\0 & \\frac{V^{2} a_{0} c \\rho \\left(S - S_{w}\\right)^{2} \\sin{\\left(\\Lambda \\right)}}{4} & - \\frac{V^{2} a_{0} c \\rho \\left(S - S_{w}\\right)^{2}}{4}\\\\0 & 0 & - \\frac{A V^{2} c_{ma} \\rho}{2}\\end{matrix}\\right]$"
      ],
      "text/plain": [
       "⎡ 2                 2                                        2                \n",
       "⎢V ⋅a₀⋅c⋅ρ⋅(S - S_w) ⋅sin(Λ)                               -V ⋅a₀⋅c⋅ρ⋅(S - S_w\n",
       "⎢───────────────────────────               0               ───────────────────\n",
       "⎢             4                                                      4        \n",
       "⎢                                                                             \n",
       "⎢                              2                 2           2                \n",
       "⎢                             V ⋅a₀⋅c⋅ρ⋅(S - S_w) ⋅sin(Λ)  -V ⋅a₀⋅c⋅ρ⋅(S - S_w\n",
       "⎢             0               ───────────────────────────  ───────────────────\n",
       "⎢                                          4                         4        \n",
       "⎢                                                                             \n",
       "⎢                                                                   2         \n",
       "⎢                                                               -A⋅V ⋅cₘₐ⋅ρ   \n",
       "⎢             0                            0                    ────────────  \n",
       "⎣                                                                    2        \n",
       "\n",
       " 2 ⎤\n",
       ")  ⎥\n",
       "───⎥\n",
       "   ⎥\n",
       "   ⎥\n",
       " 2 ⎥\n",
       ")  ⎥\n",
       "───⎥\n",
       "   ⎥\n",
       "   ⎥\n",
       "   ⎥\n",
       "   ⎥\n",
       "   ⎥\n",
       "   ⎦"
      ]
     },
     "execution_count": 164,
     "metadata": {},
     "output_type": "execute_result"
    }
   ],
   "source": [
    "K"
   ]
  },
  {
   "cell_type": "code",
   "execution_count": 165,
   "metadata": {},
   "outputs": [
    {
     "data": {
      "text/latex": [
       "$\\displaystyle \\left[\\begin{matrix}\\frac{V^{2} a_{0} c \\rho \\left(S - S_{w}\\right)^{2}}{4} & 0\\\\\\frac{V^{2} a_{0} c \\rho \\left(S - S_{w}\\right)^{2}}{4} & 0\\\\\\frac{A V^{2} c_{ma} \\rho}{2} & \\frac{A V^{2} c_{m\\eta} \\rho}{2}\\end{matrix}\\right]$"
      ],
      "text/plain": [
       "⎡ 2                 2                ⎤\n",
       "⎢V ⋅a₀⋅c⋅ρ⋅(S - S_w)                 ⎥\n",
       "⎢────────────────────        0       ⎥\n",
       "⎢         4                          ⎥\n",
       "⎢                                    ⎥\n",
       "⎢ 2                 2                ⎥\n",
       "⎢V ⋅a₀⋅c⋅ρ⋅(S - S_w)                 ⎥\n",
       "⎢────────────────────        0       ⎥\n",
       "⎢         4                          ⎥\n",
       "⎢                                    ⎥\n",
       "⎢        2                2          ⎥\n",
       "⎢     A⋅V ⋅cₘₐ⋅ρ       A⋅V ⋅c_m\\eta⋅ρ⎥\n",
       "⎢     ──────────       ──────────────⎥\n",
       "⎣         2                  2       ⎦"
      ]
     },
     "execution_count": 165,
     "metadata": {},
     "output_type": "execute_result"
    }
   ],
   "source": [
    "-A"
   ]
  },
  {
   "cell_type": "code",
   "execution_count": 166,
   "metadata": {},
   "outputs": [
    {
     "data": {
      "text/latex": [
       "$\\displaystyle \\left[\\begin{matrix}\\alpha_{c}\\\\\\eta\\end{matrix}\\right]$"
      ],
      "text/plain": [
       "⎡α_c⎤\n",
       "⎢   ⎥\n",
       "⎣ η ⎦"
      ]
     },
     "execution_count": 166,
     "metadata": {},
     "output_type": "execute_result"
    }
   ],
   "source": [
    "q"
   ]
  },
  {
   "cell_type": "code",
   "execution_count": 128,
   "metadata": {},
   "outputs": [
    {
     "data": {
      "text/latex": [
       "$\\displaystyle \\left[\\begin{matrix}\\frac{g m_{t} \\left(S^{2} - 2 S S_{w} + S_{w}^{2}\\right)}{2}\\\\\\frac{g m_{t} \\left(S^{2} - 2 S S_{w} + S_{w}^{2}\\right)}{2}\\\\0\\end{matrix}\\right]$"
      ],
      "text/plain": [
       "⎡     ⎛ 2                2⎞⎤\n",
       "⎢g⋅mₜ⋅⎝S  - 2⋅S⋅S_w + S_w ⎠⎥\n",
       "⎢──────────────────────────⎥\n",
       "⎢            2             ⎥\n",
       "⎢                          ⎥\n",
       "⎢     ⎛ 2                2⎞⎥\n",
       "⎢g⋅mₜ⋅⎝S  - 2⋅S⋅S_w + S_w ⎠⎥\n",
       "⎢──────────────────────────⎥\n",
       "⎢            2             ⎥\n",
       "⎢                          ⎥\n",
       "⎣            0             ⎦"
      ]
     },
     "execution_count": 128,
     "metadata": {},
     "output_type": "execute_result"
    }
   ],
   "source": [
    "sym.simplify(-B)"
   ]
  },
  {
   "cell_type": "code",
   "execution_count": null,
   "metadata": {},
   "outputs": [],
   "source": [
    "sm.to_file('RollRigModel.py')"
   ]
  },
  {
   "cell_type": "code",
   "execution_count": 11,
   "metadata": {},
   "outputs": [
    {
     "data": {
      "text/latex": [
       "$\\displaystyle \\left[\\begin{matrix}2 I_{xxf} + I_{xxw} + 2 l_{f}^{2} m_{f} - l_{f} m_{f} s \\sigma \\operatorname{cos}\\left(q_{1}\\right) - l_{f} m_{f} s \\sigma \\operatorname{cos}\\left(q_{2}\\right) + l_{f} m_{f} s \\operatorname{cos}\\left(q_{1}\\right) + l_{f} m_{f} s \\operatorname{cos}\\left(q_{2}\\right) + \\frac{m_{f} s^{2} \\sigma^{2}}{2} - m_{f} s^{2} \\sigma + \\frac{m_{f} s^{2}}{2} + m_{w} y_{w}^{2} + m_{w} z_{w}^{2} & - I_{xxf} - l_{f}^{2} m_{f} + \\frac{l_{f} m_{f} s \\sigma \\operatorname{cos}\\left(q_{1}\\right)}{2} - \\frac{l_{f} m_{f} s \\operatorname{cos}\\left(q_{1}\\right)}{2} & I_{xxf} + l_{f}^{2} m_{f} - \\frac{l_{f} m_{f} s \\sigma \\operatorname{cos}\\left(q_{2}\\right)}{2} + \\frac{l_{f} m_{f} s \\operatorname{cos}\\left(q_{2}\\right)}{2}\\\\- I_{xxf} - l_{f}^{2} m_{f} + \\frac{l_{f} m_{f} s \\sigma \\operatorname{cos}\\left(q_{1}\\right)}{2} - \\frac{l_{f} m_{f} s \\operatorname{cos}\\left(q_{1}\\right)}{2} & I_{xxf} + l_{f}^{2} m_{f} & 0\\\\I_{xxf} + l_{f}^{2} m_{f} - \\frac{l_{f} m_{f} s \\sigma \\operatorname{cos}\\left(q_{2}\\right)}{2} + \\frac{l_{f} m_{f} s \\operatorname{cos}\\left(q_{2}\\right)}{2} & 0 & I_{xxf} + l_{f}^{2} m_{f}\\end{matrix}\\right]$"
      ],
      "text/plain": [
       "⎡                                                                             \n",
       "⎢                       2                                                     \n",
       "⎢2⋅I_xxf + I_xxw + 2⋅l_f ⋅m_f - l_f⋅m_f⋅s⋅σ⋅cos(q₁) - l_f⋅m_f⋅s⋅σ⋅cos(q₂) + l_\n",
       "⎢                                                                             \n",
       "⎢                                                                             \n",
       "⎢                                                                 2       l_f⋅\n",
       "⎢                                                     -I_xxf - l_f ⋅m_f + ────\n",
       "⎢                                                                             \n",
       "⎢                                                                             \n",
       "⎢                                                                 2       l_f⋅\n",
       "⎢                                                      I_xxf + l_f ⋅m_f - ────\n",
       "⎣                                                                             \n",
       "\n",
       "                                           2  2                   2           \n",
       "                                      m_f⋅s ⋅σ         2     m_f⋅s           2\n",
       "f⋅m_f⋅s⋅cos(q₁) + l_f⋅m_f⋅s⋅cos(q₂) + ───────── - m_f⋅s ⋅σ + ────── + m_w⋅y_w \n",
       "                                          2                    2              \n",
       "                                                                              \n",
       "m_f⋅s⋅σ⋅cos(q₁)   l_f⋅m_f⋅s⋅cos(q₁)                                           \n",
       "─────────────── - ─────────────────                                           \n",
       "     2                    2                                                   \n",
       "                                                                              \n",
       "m_f⋅s⋅σ⋅cos(q₂)   l_f⋅m_f⋅s⋅cos(q₂)                                           \n",
       "─────────────── + ─────────────────                                           \n",
       "     2                    2                                                   \n",
       "\n",
       "                                                                              \n",
       "          2              2       l_f⋅m_f⋅s⋅σ⋅cos(q₁)   l_f⋅m_f⋅s⋅cos(q₁)      \n",
       " + m_w⋅z_w   -I_xxf - l_f ⋅m_f + ─────────────────── - ─────────────────  I_xx\n",
       "                                          2                    2              \n",
       "                                                                              \n",
       "                                             2                                \n",
       "                                  I_xxf + l_f ⋅m_f                            \n",
       "                                                                              \n",
       "                                                                              \n",
       "                                                                              \n",
       "                                          0                                   \n",
       "                                                                              \n",
       "\n",
       "                                                      ⎤\n",
       "       2       l_f⋅m_f⋅s⋅σ⋅cos(q₂)   l_f⋅m_f⋅s⋅cos(q₂)⎥\n",
       "f + l_f ⋅m_f - ─────────────────── + ─────────────────⎥\n",
       "                        2                    2        ⎥\n",
       "                                                      ⎥\n",
       "                                                      ⎥\n",
       "                        0                             ⎥\n",
       "                                                      ⎥\n",
       "                                                      ⎥\n",
       "                            2                         ⎥\n",
       "                 I_xxf + l_f ⋅m_f                     ⎥\n",
       "                                                      ⎦"
      ]
     },
     "execution_count": 11,
     "metadata": {},
     "output_type": "execute_result"
    }
   ],
   "source": [
    "sm.M"
   ]
  },
  {
   "cell_type": "code",
   "execution_count": 11,
   "metadata": {},
   "outputs": [
    {
     "data": {
      "image/png": "[encoded data removed]",
      "text/latex": [
       "$\\displaystyle \\frac{I_{xxf} \\dot{q}_{0}^{2}}{2} - I_{xxf} \\dot{q}_{0} \\dot{q}_{1} + \\frac{I_{xxf} \\dot{q}_{1}^{2}}{2} + \\frac{l_{f}^{2} m_{f} \\dot{q}_{0}^{2}}{2} - l_{f}^{2} m_{f} \\dot{q}_{0} \\dot{q}_{1} + \\frac{l_{f}^{2} m_{f} \\dot{q}_{1}^{2}}{2} - \\frac{l_{f} m_{f} s \\sigma \\operatorname{cos}\\left(q_{1}\\right) \\dot{q}_{0}^{2}}{2} + \\frac{l_{f} m_{f} s \\sigma \\operatorname{cos}\\left(q_{1}\\right) \\dot{q}_{0} \\dot{q}_{1}}{2} + \\frac{l_{f} m_{f} s \\operatorname{cos}\\left(q_{1}\\right) \\dot{q}_{0}^{2}}{2} - \\frac{l_{f} m_{f} s \\operatorname{cos}\\left(q_{1}\\right) \\dot{q}_{0} \\dot{q}_{1}}{2} + \\frac{m_{f} s^{2} \\sigma^{2} \\dot{q}_{0}^{2}}{8} - \\frac{m_{f} s^{2} \\sigma \\dot{q}_{0}^{2}}{4} + \\frac{m_{f} s^{2} \\dot{q}_{0}^{2}}{8}$"
      ],
      "text/plain": [
       "        2                         2      2       2                       2    \n",
       "I_xxf⋅q₀̇                  I_xxf⋅q₁̇    l_f ⋅m_f⋅q₀̇       2             l_f ⋅\n",
       "───────── - I_xxf⋅q₀̇⋅q₁̇ + ───────── + ──────────── - l_f ⋅m_f⋅q₀̇⋅q₁̇ + ────\n",
       "    2                         2            2                               2  \n",
       "\n",
       "   2                         2                                                \n",
       "m_f⋅q₁̇    l_f⋅m_f⋅s⋅σ⋅cos(q₁)⋅q₀̇    l_f⋅m_f⋅s⋅σ⋅cos(q₁)⋅q₀̇⋅q₁̇   l_f⋅m_f⋅s⋅\n",
       "──────── - ─────────────────────── + ───────────────────────── + ─────────────\n",
       "                  2                          2                         2      \n",
       "\n",
       "   2                                  2  2   2        2     2        2   2\n",
       "cos(q₁)⋅q₀̇    l_f⋅m_f⋅s⋅cos(q₁)⋅q₀̇⋅q₁̇   m_f⋅s ⋅σ ⋅q₀̇    m_f⋅s ⋅σ⋅q₀̇    m_\n",
       "──────── - ─────────────────────── + ───────────── - ──────────── + ──────────\n",
       "                  2                    8              4             8     "
      ]
     },
     "execution_count": 11,
     "metadata": {},
     "output_type": "execute_result"
    }
   ],
   "source": [
    "rhs_fwt_mass.CalcKE(p)"
   ]
  },
  {
   "cell_type": "code",
   "execution_count": null,
   "metadata": {},
   "outputs": [],
   "source": []
  }
 ],
 "metadata": {
  "kernelspec": {
   "display_name": "Python 3",
   "language": "python",
   "name": "python3"
  },
  "language_info": {
   "codemirror_mode": {
    "name": "ipython",
    "version": 3
   },
   "file_extension": ".py",
   "mimetype": "text/x-python",
   "name": "python",
   "nbconvert_exporter": "python",
   "pygments_lexer": "ipython3",
   "version": "3.7.7"
  }
 },
 "nbformat": 4,
 "nbformat_minor": 4
}
