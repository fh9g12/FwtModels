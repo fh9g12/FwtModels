{
 "cells": [
  {
   "cell_type": "code",
   "execution_count": 1,
   "id": "b1604af8-0b19-49f6-9ba3-18e33f0fb555",
   "metadata": {},
   "outputs": [],
   "source": [
    "import sympy as sym\n",
    "import sympy.physics.mechanics as me\n",
    "from sympy.abc import t\n",
    "import moyra as ma\n",
    "me.mechanics_printing()"
   ]
  },
  {
   "cell_type": "code",
   "execution_count": 14,
   "id": "b65985c4-6e97-4b10-a0fc-4ecbc76d7fd4",
   "metadata": {},
   "outputs": [],
   "source": [
    "DoFs = 1\n",
    "\n",
    "# heave and fold angle as degrres of freedom\n",
    "p = ma.DynamicModelParameters(DoFs)\n",
    "p.DoFs  = ma.ModelSymbol(value = DoFs,string = 'DoFs')\n",
    "#gravity vector\n",
    "p.g  = ma.ModelSymbol(value = 9.81,string = 'g')                     # gravity\n",
    "# p.g_v = ma.ModelMatrix(value =[0,0,-1],length=3,string='g_v') # The stationary point\n",
    "\n",
    "\n",
    "p.m  = ma.ModelSymbol(value = 1,string = 'm')                     # gravity\n",
    "p.c  = ma.ModelSymbol(value = 1,string = 'c')                     # gravity\n",
    "p.k  = ma.ModelSymbol(value = 1,string = 'k')                     # gravity\n",
    "\n",
    "p.g = ma.ModelSymbol(value = 1,string = 'g')                     # gravity\n",
    "p.L = ma.ModelSymbol(value = 1,string = 'L') "
   ]
  },
  {
   "cell_type": "code",
   "execution_count": 15,
   "id": "af9d829b-3942-44bf-8818-ac709e8dffdd",
   "metadata": {},
   "outputs": [],
   "source": [
    "base_frame = ma.frames.HomogenousFrame()\n",
    "tip_frame = base_frame.R_x(p.q[0]).Translate(0,0,-p.L)\n",
    "\n",
    "mass = ma.elements.RigidElement.point_mass(p.q,tip_frame,p.m,grav_vec = sym.Matrix([0,0,-p.g]))\n",
    "\n",
    "spring = ma.elements.Spring(p.q,p.q[0],p.k,name=\"spring\")\n",
    "damper = ma.elements.Damper(p.q,p.qd[0],p.c,name=\"damper\")\n"
   ]
  },
  {
   "cell_type": "code",
   "execution_count": 16,
   "id": "9cefe13a-8a95-499e-a295-71a3bae8ae5e",
   "metadata": {},
   "outputs": [
    {
     "data": {
      "text/latex": [
       "$\\displaystyle \\frac{L^{2} m \\dot{q}_{0}^{2}}{2}$"
      ],
      "text/plain": [
       " 2     2\n",
       "L ⋅m⋅q₀̇ \n",
       "────────\n",
       "   2    "
      ]
     },
     "execution_count": 16,
     "metadata": {},
     "output_type": "execute_result"
    }
   ],
   "source": [
    "mass.ke"
   ]
  },
  {
   "cell_type": "code",
   "execution_count": 17,
   "id": "e129970e-0cba-454d-a1cb-cf5ab767fb74",
   "metadata": {},
   "outputs": [
    {
     "name": "stdout",
     "output_type": "stream",
     "text": [
      "Generating EoM for Element 1 out of 3 - default:RigidElement\n",
      "Generating EoM for Element 2 out of 3 - spring:Spring\n",
      "Generating EoM for Element 3 out of 3 - damper:Damper\n"
     ]
    }
   ],
   "source": [
    "# %%timeit -n 1 -r 1\n",
    "sm = ma.SymbolicModel.FromElementsAndForces(p.q,[mass,spring,damper])"
   ]
  },
  {
   "cell_type": "code",
   "execution_count": 18,
   "id": "51c22454-79ff-4002-94aa-9b9d1d50fd8f",
   "metadata": {},
   "outputs": [
    {
     "data": {
      "text/latex": [
       "$\\displaystyle \\left[\\begin{matrix}L^{2} m\\end{matrix}\\right]$"
      ],
      "text/plain": [
       "⎡ 2  ⎤\n",
       "⎣L ⋅m⎦"
      ]
     },
     "execution_count": 18,
     "metadata": {},
     "output_type": "execute_result"
    }
   ],
   "source": [
    "sm.M"
   ]
  },
  {
   "cell_type": "code",
   "execution_count": 19,
   "id": "6696f0ac-46fa-47b5-b52b-cf81312cb856",
   "metadata": {},
   "outputs": [
    {
     "data": {
      "text/latex": [
       "$\\displaystyle \\left[\\begin{matrix}L g m \\sin{\\left(q_{0} \\right)} + c \\dot{q}_{0} + k q_{0}\\end{matrix}\\right]$"
      ],
      "text/plain": [
       "[L⋅g⋅m⋅sin(q₀) + c⋅q₀̇ + k⋅q₀]"
      ]
     },
     "execution_count": 19,
     "metadata": {},
     "output_type": "execute_result"
    }
   ],
   "source": [
    "sm.f"
   ]
  },
  {
   "cell_type": "code",
   "execution_count": 20,
   "id": "1e604e55-b686-4daa-9d4c-d3fdbd48421d",
   "metadata": {},
   "outputs": [],
   "source": [
    "# p.z = me.dynamicsymbols('z') \n",
    "# p.theta = me.dynamicsymbols('theta') \n",
    "# p.R = me.dynamicsymbols('R') \n",
    "\n",
    "# sm_sub = sm.msubs({p.qd[0]:p.z.diff(t),p.qd[1]:p.theta.diff(t),p.qd[2]:p.R.diff(t),p.q[0]:p.z,p.q[1]:p.theta,p.q[2]:p.R})"
   ]
  },
  {
   "cell_type": "code",
   "execution_count": 21,
   "id": "9d48fd21-3380-4a09-be09-f5289e167bea",
   "metadata": {},
   "outputs": [],
   "source": [
    "base_dir = \"C:\\\\Users\\\\qe19391\\\\OneDrive - University of Bristol\\\\Documents\\\\MATLAB\\\\SimplePendulum\"\n",
    "class_name = \"pen_model\"\n",
    "base_class = \"mbd.BaseRC\"\n",
    "sm.to_matlab_class(p,base_dir,class_name,base_class,additional_funcs=[])"
   ]
  },
  {
   "cell_type": "code",
   "execution_count": null,
   "id": "7efe0cb8-5c38-4952-a8f7-735fd2c835e1",
   "metadata": {},
   "outputs": [],
   "source": []
  }
 ],
 "metadata": {
  "kernelspec": {
   "display_name": "Moyra_Playground",
   "language": "python",
   "name": "moyra_playground"
  },
  "language_info": {
   "codemirror_mode": {
    "name": "ipython",
    "version": 3
   },
   "file_extension": ".py",
   "mimetype": "text/x-python",
   "name": "python",
   "nbconvert_exporter": "python",
   "pygments_lexer": "ipython3",
   "version": "3.9.13"
  }
 },
 "nbformat": 4,
 "nbformat_minor": 5
}
