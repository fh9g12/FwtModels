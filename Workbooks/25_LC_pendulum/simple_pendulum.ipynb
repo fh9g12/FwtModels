{
 "cells": [
  {
   "cell_type": "code",
   "execution_count": 1,
   "id": "b1604af8-0b19-49f6-9ba3-18e33f0fb555",
   "metadata": {},
   "outputs": [],
   "source": [
    "import sympy as sym\n",
    "import sympy.physics.mechanics as me\n",
    "from sympy.abc import t\n",
    "import moyra as ma\n",
    "me.mechanics_printing()"
   ]
  },
  {
   "cell_type": "code",
   "execution_count": 2,
   "id": "b65985c4-6e97-4b10-a0fc-4ecbc76d7fd4",
   "metadata": {},
   "outputs": [],
   "source": [
    "DoFs = 3\n",
    "\n",
    "# heave and fold angle as degrres of freedom\n",
    "p = ma.DynamicModelParameters(DoFs)\n",
    "p.DoFs  = ma.ModelSymbol(value = DoFs,string = 'DoFs')\n",
    "#gravity vector\n",
    "p.g  = ma.ModelSymbol(value = 9.81,string = 'g')                     # gravity\n",
    "# p.g_v = ma.ModelMatrix(value =[0,0,-1],length=3,string='g_v') # The stationary point\n",
    "\n",
    "\n",
    "p.M  = ma.ModelSymbol(value = 1,string = 'M')                     # gravity\n",
    "p.m  = ma.ModelSymbol(value = 1,string = 'm')                     # gravity\n",
    "\n",
    "p.K  = ma.ModelSymbol(value = 1,string = 'K')                     # gravity\n",
    "p.k  = ma.ModelSymbol(value = 1,string = 'k')                     # gravity\n",
    "p.k_theta  = ma.ModelSymbol(value = 1,string = 'k_theta')                     # gravity\n",
    "\n",
    "p.C  = ma.ModelSymbol(value = 1,string = 'C')                     # gravity\n",
    "p.c  = ma.ModelSymbol(value = 1,string = 'c')                     # gravity\n",
    "p.c_theta  = ma.ModelSymbol(value = 1,string = 'c_theta')                     # gravity\n",
    "p.L = ma.ModelSymbol(value = 1,string = 'L') "
   ]
  },
  {
   "cell_type": "code",
   "execution_count": 3,
   "id": "af9d829b-3942-44bf-8818-ac709e8dffdd",
   "metadata": {},
   "outputs": [],
   "source": [
    "base_frame = ma.frames.HomogenousFrame()\n",
    "M_frame = base_frame.Translate(0,0,p.q[0])\n",
    "p_frame = M_frame.R_x(p.q[1])\n",
    "tip_frame = p_frame.Translate(0,0,-(p.L+p.q[2]))\n",
    "\n",
    "centre_mass = ma.elements.RigidElement.point_mass(p.q,M_frame,p.M,grav_vec = sym.Matrix([0,0,-p.g]))\n",
    "tip_mass = ma.elements.RigidElement.point_mass(p.q,tip_frame,p.m,grav_vec = sym.Matrix([0,0,-p.g]))\n",
    "\n",
    "base_spring = ma.elements.Spring(p.q,p.q[0],p.K,name=\"base_spring\")\n",
    "rot_spring = ma.elements.Spring(p.q,p.q[1],p.k_theta,name=\"rot_spring\")\n",
    "pen_spring = ma.elements.Spring(p.q,p.q[2],p.k,name=\"pen_spring\")\n",
    "\n",
    "base_damper = ma.elements.Damper(p.q,p.qd[0],p.C,name=\"base_damper\")\n",
    "rot_damper = ma.elements.Damper(p.q,p.qd[1],p.c_theta,name=\"rot_damper\")\n",
    "pen_damper = ma.elements.Damper(p.q,p.qd[2],p.c,name=\"pen_damper\")\n"
   ]
  },
  {
   "cell_type": "code",
   "execution_count": 4,
   "id": "9cefe13a-8a95-499e-a295-71a3bae8ae5e",
   "metadata": {},
   "outputs": [
    {
     "data": {
      "text/latex": [
       "$\\displaystyle \\frac{L^{2} m \\dot{q}_{1}^{2}}{2} + L m q_{2} \\dot{q}_{1}^{2} + L m \\sin{\\left(q_{1} \\right)} \\dot{q}_{0} \\dot{q}_{1} + \\frac{m q_{2}^{2} \\dot{q}_{1}^{2}}{2} + m q_{2} \\sin{\\left(q_{1} \\right)} \\dot{q}_{0} \\dot{q}_{1} - m \\cos{\\left(q_{1} \\right)} \\dot{q}_{0} \\dot{q}_{2} + \\frac{m \\dot{q}_{0}^{2}}{2} + \\frac{m \\dot{q}_{2}^{2}}{2}$"
      ],
      "text/plain": [
       " 2     2                                        2   2                         \n",
       "L ⋅m⋅q₁̇             2                       m⋅q₂ ⋅q₁̇                        \n",
       "──────── + L⋅m⋅q₂⋅q₁̇  + L⋅m⋅sin(q₁)⋅q₀̇⋅q₁̇ + ───────── + m⋅q₂⋅sin(q₁)⋅q₀̇⋅q₁\n",
       "   2                                            2                             \n",
       "\n",
       "                     2       2\n",
       "                   m⋅q₀̇    m⋅q₂̇ \n",
       "̇ - m⋅cos(q₁)⋅q₀̇⋅q₂̇ + ───── + ─────\n",
       "                   2       2  "
      ]
     },
     "execution_count": 4,
     "metadata": {},
     "output_type": "execute_result"
    }
   ],
   "source": [
    "tip_mass.ke"
   ]
  },
  {
   "cell_type": "code",
   "execution_count": 5,
   "id": "e129970e-0cba-454d-a1cb-cf5ab767fb74",
   "metadata": {},
   "outputs": [
    {
     "name": "stdout",
     "output_type": "stream",
     "text": [
      "Generating EoM for Element 1 out of 8 - default:RigidElement\n",
      "Generating EoM for Element 2 out of 8 - default:RigidElement\n",
      "Generating EoM for Element 3 out of 8 - base_spring:Spring\n",
      "Generating EoM for Element 4 out of 8 - rot_spring:Spring\n",
      "Generating EoM for Element 5 out of 8 - pen_spring:Spring\n",
      "Generating EoM for Element 6 out of 8 - base_damper:Damper\n",
      "Generating EoM for Element 7 out of 8 - rot_damper:Damper\n",
      "Generating EoM for Element 8 out of 8 - pen_damper:Damper\n"
     ]
    }
   ],
   "source": [
    "# %%timeit -n 1 -r 1\n",
    "sm = ma.SymbolicModel.FromElementsAndForces(p.q,[centre_mass,tip_mass,base_spring,rot_spring,pen_spring,base_damper,rot_damper,pen_damper])"
   ]
  },
  {
   "cell_type": "code",
   "execution_count": 6,
   "id": "51c22454-79ff-4002-94aa-9b9d1d50fd8f",
   "metadata": {},
   "outputs": [
    {
     "data": {
      "text/latex": [
       "$\\displaystyle \\left[\\begin{matrix}M + m & m \\left(L + q_{2}\\right) \\sin{\\left(q_{1} \\right)} & - m \\cos{\\left(q_{1} \\right)}\\\\m \\left(L + q_{2}\\right) \\sin{\\left(q_{1} \\right)} & L^{2} m + 2 L m q_{2} + m q_{2}^{2} & 0\\\\- m \\cos{\\left(q_{1} \\right)} & 0 & m\\end{matrix}\\right]$"
      ],
      "text/plain": [
       "⎡      M + m           m⋅(L + q₂)⋅sin(q₁)     -m⋅cos(q₁)⎤\n",
       "⎢                                                       ⎥\n",
       "⎢                     2                    2            ⎥\n",
       "⎢m⋅(L + q₂)⋅sin(q₁)  L ⋅m + 2⋅L⋅m⋅q₂ + m⋅q₂       0     ⎥\n",
       "⎢                                                       ⎥\n",
       "⎣    -m⋅cos(q₁)                 0                 m     ⎦"
      ]
     },
     "execution_count": 6,
     "metadata": {},
     "output_type": "execute_result"
    }
   ],
   "source": [
    "sm.M"
   ]
  },
  {
   "cell_type": "code",
   "execution_count": 7,
   "id": "6696f0ac-46fa-47b5-b52b-cf81312cb856",
   "metadata": {},
   "outputs": [
    {
     "data": {
      "text/latex": [
       "$\\displaystyle \\left[\\begin{matrix}C \\dot{q}_{0} + K q_{0} + M g + g m + m \\sin{\\left(q_{1} \\right)} \\dot{q}_{1} \\dot{q}_{2} + \\left(m \\left(L + q_{2}\\right) \\cos{\\left(q_{1} \\right)} \\dot{q}_{1} + m \\sin{\\left(q_{1} \\right)} \\dot{q}_{2}\\right) \\dot{q}_{1}\\\\- L m \\cos{\\left(q_{1} \\right)} \\dot{q}_{0} \\dot{q}_{1} + c_{\\theta} \\dot{q}_{1} - g m \\left(- L - q_{2}\\right) \\sin{\\left(q_{1} \\right)} + k_{\\theta} q_{1} - m q_{2} \\cos{\\left(q_{1} \\right)} \\dot{q}_{0} \\dot{q}_{1} - m \\sin{\\left(q_{1} \\right)} \\dot{q}_{0} \\dot{q}_{2} + \\left(2 L m \\dot{q}_{2} + 2 m q_{2} \\dot{q}_{2}\\right) \\dot{q}_{1} + \\left(m \\left(L + q_{2}\\right) \\cos{\\left(q_{1} \\right)} \\dot{q}_{1} + m \\sin{\\left(q_{1} \\right)} \\dot{q}_{2}\\right) \\dot{q}_{0}\\\\- L m \\dot{q}_{1}^{2} + c \\dot{q}_{2} - g m \\cos{\\left(q_{1} \\right)} + k q_{2} - m q_{2} \\dot{q}_{1}^{2}\\end{matrix}\\right]$"
      ],
      "text/plain": [
       "⎡                                              C⋅q₀̇ + K⋅q₀ + M⋅g + g⋅m + m⋅si\n",
       "⎢                                                                             \n",
       "⎢-L⋅m⋅cos(q₁)⋅q₀̇⋅q₁̇ + cₜₕₑₜₐ⋅q₁̇ - g⋅m⋅(-L - q₂)⋅sin(q₁) + kₜₕₑₜₐ⋅q₁ - m⋅q₂⋅\n",
       "⎢                                                                             \n",
       "⎢                                                                        2    \n",
       "⎣                                                                - L⋅m⋅q₁̇  + \n",
       "\n",
       "n(q₁)⋅q₁̇⋅q₂̇ + (m⋅(L + q₂)⋅cos(q₁)⋅q₁̇ + m⋅sin(q₁)⋅q₂̇)⋅q₁̇                  \n",
       "                                                                              \n",
       "cos(q₁)⋅q₀̇⋅q₁̇ - m⋅sin(q₁)⋅q₀̇⋅q₂̇ + (2⋅L⋅m⋅q₂̇ + 2⋅m⋅q₂⋅q₂̇)⋅q₁̇ + (m⋅(L + q\n",
       "                                                                              \n",
       "                                  2                                           \n",
       "c⋅q₂̇ - g⋅m⋅cos(q₁) + k⋅q₂ - m⋅q₂⋅q₁̇                                         \n",
       "\n",
       "                            ⎤\n",
       "                      ⎥\n",
       "₂)⋅cos(q₁)⋅q₁̇ + m⋅sin(q₁)⋅q₂̇)⋅q₀̇⎥\n",
       "                      ⎥\n",
       "                      ⎥\n",
       "                         ⎦"
      ]
     },
     "execution_count": 7,
     "metadata": {},
     "output_type": "execute_result"
    }
   ],
   "source": [
    "sm.f"
   ]
  },
  {
   "cell_type": "code",
   "execution_count": 26,
   "id": "1e604e55-b686-4daa-9d4c-d3fdbd48421d",
   "metadata": {},
   "outputs": [],
   "source": [
    "p.z = me.dynamicsymbols('z') \n",
    "p.theta = me.dynamicsymbols('theta') \n",
    "p.R = me.dynamicsymbols('R') \n",
    "\n",
    "sm_sub = sm.msubs({p.qd[0]:p.z.diff(t),p.qd[1]:p.theta.diff(t),p.qd[2]:p.R.diff(t),p.q[0]:p.z,p.q[1]:p.theta,p.q[2]:p.R})"
   ]
  },
  {
   "cell_type": "code",
   "execution_count": 27,
   "id": "f1012bf7-e02a-49da-98d0-b8646cf6ce1d",
   "metadata": {},
   "outputs": [
    {
     "data": {
      "image/png": "[encoded data removed]",
      "text/latex": [
       "$\\displaystyle \\left[\\begin{matrix}M + m & m \\left(L + R\\right) \\sin{\\left(\\theta \\right)} & - m \\cos{\\left(\\theta \\right)}\\\\m \\left(L + R\\right) \\sin{\\left(\\theta \\right)} & L^{2} m + 2 L m R + m R^{2} & 0\\\\- m \\cos{\\left(\\theta \\right)} & 0 & m\\end{matrix}\\right]$"
      ],
      "text/plain": [
       "⎡     M + m          m⋅(L + R)⋅sin(θ)     -m⋅cos(θ)⎤\n",
       "⎢                                                  ⎥\n",
       "⎢                   2                  2           ⎥\n",
       "⎢m⋅(L + R)⋅sin(θ)  L ⋅m + 2⋅L⋅m⋅R + m⋅R       0    ⎥\n",
       "⎢                                                  ⎥\n",
       "⎣   -m⋅cos(θ)                0                m    ⎦"
      ]
     },
     "execution_count": 27,
     "metadata": {},
     "output_type": "execute_result"
    }
   ],
   "source": [
    "sm_sub.M"
   ]
  },
  {
   "cell_type": "code",
   "execution_count": 28,
   "id": "c3bf25fc-c29c-46f1-9703-1cf14167979e",
   "metadata": {},
   "outputs": [
    {
     "data": {
      "image/png": "[encoded data removed]",
      "text/latex": [
       "$\\displaystyle \\left[\\begin{matrix}C \\dot{z} + K z + M g + g m + m \\sin{\\left(\\theta \\right)} \\dot{R} \\dot{\\theta} + \\left(m \\left(L + R\\right) \\cos{\\left(\\theta \\right)} \\dot{\\theta} + m \\sin{\\left(\\theta \\right)} \\dot{R}\\right) \\dot{\\theta}\\\\- L m \\cos{\\left(\\theta \\right)} \\dot{\\theta} \\dot{z} + c_{\\theta} \\dot{\\theta} - g m \\left(- L - R\\right) \\sin{\\left(\\theta \\right)} + k_{\\theta} \\theta - m R \\cos{\\left(\\theta \\right)} \\dot{\\theta} \\dot{z} - m \\sin{\\left(\\theta \\right)} \\dot{R} \\dot{z} + \\left(2 L m \\dot{R} + 2 m R \\dot{R}\\right) \\dot{\\theta} + \\left(m \\left(L + R\\right) \\cos{\\left(\\theta \\right)} \\dot{\\theta} + m \\sin{\\left(\\theta \\right)} \\dot{R}\\right) \\dot{z}\\\\- L m \\dot{\\theta}^{2} + c \\dot{R} - g m \\cos{\\left(\\theta \\right)} + k R - m R \\dot{\\theta}^{2}\\end{matrix}\\right]$"
      ],
      "text/plain": [
       "⎡                                       C⋅ż + K⋅z + M⋅g + g⋅m + m⋅sin(θ)⋅Ṙ⋅θ\n",
       "⎢                                                                             \n",
       "⎢-L⋅m⋅cos(θ)⋅θ̇⋅ż + cₜₕₑₜₐ⋅θ̇ - g⋅m⋅(-L - R)⋅sin(θ) + kₜₕₑₜₐ⋅θ - m⋅R⋅cos(θ)⋅θ\n",
       "⎢                                                                             \n",
       "⎢                                                              2              \n",
       "⎣                                                       - L⋅m⋅θ̇  + c⋅Ṙ - g⋅m\n",
       "\n",
       "̇ + (m⋅(L + R)⋅cos(θ)⋅θ̇ + m⋅sin(θ)⋅Ṙ)⋅θ̇                                    \n",
       "                                                                            ⎥\n",
       "̇⋅ż - m⋅sin(θ)⋅Ṙ⋅ż + (2⋅L⋅m⋅Ṙ + 2⋅m⋅R⋅Ṙ)⋅θ̇ + (m⋅(L + R)⋅cos(θ)⋅θ̇ + m⋅si\n",
       "                                                                            ⎥\n",
       "                   2                                                        ⎥\n",
       "⋅cos(θ) + k⋅R - m⋅R⋅θ̇                                                        "
      ]
     },
     "execution_count": 28,
     "metadata": {},
     "output_type": "execute_result"
    }
   ],
   "source": [
    "sm_sub.f"
   ]
  },
  {
   "cell_type": "code",
   "execution_count": 32,
   "id": "9d48fd21-3380-4a09-be09-f5289e167bea",
   "metadata": {},
   "outputs": [],
   "source": [
    "base_dir = \"C:\\\\Users\\\\qe19391\\\\OneDrive - University of Bristol\\\\Documents\\\\MATLAB\\\\ForLC_pen\"\n",
    "class_name = \"pen_model\"\n",
    "base_class = \"BaseRC\"\n",
    "sm.to_matlab_class(p,base_dir,class_name,base_class,additional_funcs=[])"
   ]
  },
  {
   "cell_type": "code",
   "execution_count": null,
   "id": "7efe0cb8-5c38-4952-a8f7-735fd2c835e1",
   "metadata": {},
   "outputs": [],
   "source": []
  }
 ],
 "metadata": {
  "kernelspec": {
   "display_name": "Moyra_Playground",
   "language": "python",
   "name": "moyra_playground"
  },
  "language_info": {
   "codemirror_mode": {
    "name": "ipython",
    "version": 3
   },
   "file_extension": ".py",
   "mimetype": "text/x-python",
   "name": "python",
   "nbconvert_exporter": "python",
   "pygments_lexer": "ipython3",
   "version": "3.9.13"
  }
 },
 "nbformat": 4,
 "nbformat_minor": 5
}
