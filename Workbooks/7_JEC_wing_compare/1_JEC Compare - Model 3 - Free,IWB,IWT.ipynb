{
 "cells": [
  {
   "cell_type": "markdown",
   "metadata": {},
   "source": [
    "## Benchmarking\n",
    "\n",
    "\n",
    "I'm using this code to benchmark underlying function and my code generation tactics\n",
    "\n",
    "will use a 2B1T + FWTD model and relise it at 20 m/s & 5 deg aoa"
   ]
  },
  {
   "cell_type": "code",
   "execution_count": 1,
   "metadata": {},
   "outputs": [],
   "source": [
    "import sympy as sym\n",
    "import sympy.physics.mechanics as me\n",
    "from sympy.abc import t as time\n",
    "import pandas as pd\n",
    "import seaborn as sns\n",
    "\n",
    "import numpy as np\n",
    "from scipy.integrate import odeint,LSODA,BDF,solve_ivp\n",
    "from scipy.linalg import eig\n",
    "from scipy.optimize import fsolve\n",
    "import matplotlib.pyplot as plt\n",
    "\n",
    "import sys, os\n",
    "\n",
    "sys.path.insert(1, os.path.join(sys.path[0], '../..'))\n",
    "import custom_plot_objects as cpo\n",
    "\n",
    "import ModelFramework as mf\n",
    "import ModelFramework.Elements as ele\n",
    "import ModelFramework.ExternalForces as ef\n",
    "\n",
    "me.mechanics_printing()"
   ]
  },
  {
   "cell_type": "markdown",
   "metadata": {},
   "source": [
    "### Define the Model\n",
    "\n",
    "#### Create Parameter instance"
   ]
  },
  {
   "cell_type": "code",
   "execution_count": 2,
   "metadata": {},
   "outputs": [],
   "source": [
    "test_num = 3\n",
    "\n",
    "b_modes = 3\n",
    "t_modes = 3\n",
    "fwt_modes = 1\n",
    "# lets go for B2T2 (so 5 DoF)\n",
    "p = mf.ModelParameters.DynamicModel(b_modes + t_modes + fwt_modes)\n",
    "\n",
    "## Create some global parameters\n",
    "p.c = mf.ModelSymbol(value = 1.8,string = 'c') # chord of wing\n",
    "p.s_t = mf.ModelSymbol(value = 12,string = 's_t') # total semi-span of wing\n",
    "p.rho_t = mf.ModelSymbol(value = 19.53,string = 'rho_t') # per per unit area (kg/m^2)\n",
    "p.ratio_fwt = mf.ModelSymbol(value = 0.2,string = 'sigma') # percentage of wing that is a FWT\n",
    "\n",
    "\n",
    "# Respective spans\n",
    "p.s_0 =  p.s_t*(1-p.ratio_fwt) # span of inner wing\n",
    "p.s_1 =  p.s_t*p.ratio_fwt # span of inner wing\n",
    "\n",
    "# Inner Wing stiffness Properties\n",
    "p.EI = mf.ModelSymbol(value = 9.77e6,string = 'EI') # Bending stiffness for the wing\n",
    "p.GJ = mf.ModelSymbol(value = 0.99e6,string = 'GJ') # Torsional Stiffness for the wing\n",
    "\n",
    "# Location of flexural axes\n",
    "p.e_0 = mf.ModelSymbol(value = 0.08,string = 'e_0')\n",
    "p.x_f0 = sym.Rational(1,4)*p.c + p.e_0*p.c\n",
    "p.e_1 = mf.ModelSymbol(value = 0,string = 'e_1') # e for the FWT\n",
    "p.x_f1 = sym.Rational(1,4)*p.c + p.e_1*p.c\n",
    "\n",
    "# FWT Properties\n",
    "p.m_factor = mf.ModelSymbol(value = 1, string = 'delta_m')\n",
    "p.m_1 = p.rho_t*p.c*p.s_t*p.ratio_fwt*p.m_factor\n",
    "\n",
    "p.I_xx_1 = sym.Rational(1,12)*p.m_1*p.s_1**2 # inertia of FWT (uniform bar)\n",
    "p.Lambda = mf.ModelSymbol(value = np.deg2rad(10),string = 'Lambda') # Flare Angle\n",
    "p.Delta_m = mf.ModelSymbol(value = 0,string = 'Delta_m') # additional mass to apply at the FWT CoM\n",
    "\n",
    "# Symbols to translate along inner wing and FWT\n",
    "p.y_0 = sym.Symbol('y_0') # inner wing y chord\n",
    "p.x_0 = sym.Symbol('x_0') # inner wing x chord\n",
    "p.y_1 = sym.Symbol('y_1') # FWT y chord\n",
    "p.x_1 = sym.Symbol('x_1') # FWT x chord\n",
    "\n",
    "## Aero Parameters\n",
    "p.rho = mf.ModelSymbol(value = 1.225,string = 'rho')                 # density\n",
    "p.V = mf.ModelSymbol(value = 10,string = 'V')                        # velocity\n",
    "p.g  = mf.ModelSymbol(value = 9.81,string = 'g')                     # gravity\n",
    "p.alpha_r = mf.ModelSymbol(value = np.deg2rad(3),string = 'alpha_r') # root AoA\n",
    "p.M_thetadot = mf.ModelSymbol(value = -1.2,string = 'M_thetadot')    # Unsteady Torsional Term \n",
    "\n",
    "## Main Wing Specific\n",
    "p.a_0 = mf.ModelSymbol(value = 2*np.pi,string = 'a_0')               # C_L slope of main wing\n",
    "\n",
    "## FWT Specific\n",
    "p.a_1 = p.a_0 - p.a_0/p.s_1*p.y_1                                    # C_L slope of FWT\n",
    "p.alpha_1 = mf.ModelSymbol(value = 0,string = 'alpha_1')             # FWT alpha\n",
    "p.alphadot_1 = mf.ModelSymbol(value = 0,string = 'alphadot_1')       # FWT alphadot\n",
    "\n",
    "## Numeric Model Constants\n",
    "p.fp = mf.ModelMatrix(value =[0]*p.qs*2,symbols=sym.symbols(f'qtilde:{p.qs*2}')) # The stationary point\n",
    "\n",
    "# Factor to change the size of joint values\n",
    "p.eta = mf.ModelMatrix(value = [1]*(b_modes+t_modes+fwt_modes),symbols=sym.symbols(f'eta:{p.qs}'))"
   ]
  },
  {
   "cell_type": "code",
   "execution_count": 3,
   "metadata": {},
   "outputs": [],
   "source": [
    "#get shape functions for main wing\n",
    "z_0,tau_0 = mf.ShapeFunctions_BN_TM(b_modes,t_modes,p.q[:-1],p.y_0,p.x_0,p.x_f0,0,factor=p.eta)\n",
    "\n",
    "#define wrefernce frames\n",
    "wing_root_frame = mf.HomogenousTransform().R_y(p.alpha_r)\n",
    "wing_frame = wing_root_frame.Translate(p.x_0,p.y_0,z_0)\n",
    "wing_flexural_frame = wing_frame.subs({p.x_0:p.x_f0})\n",
    "\n",
    "fwt_root_frame = wing_frame.subs({p.y_0:p.s_0,p.x_0:p.x_f0}).Translate(-p.x_f0,0,0).R_x(-p.q[-1])\n",
    "fwt_flexural_frame = fwt_root_frame.Translate(p.x_f1,p.y_1,0)\n",
    "fwt_com_frame = fwt_root_frame.Translate(p.c/2,p.s_1/2,0)"
   ]
  },
  {
   "cell_type": "markdown",
   "metadata": {},
   "source": [
    "#### Create Transforms"
   ]
  },
  {
   "cell_type": "code",
   "execution_count": 4,
   "metadata": {},
   "outputs": [],
   "source": [
    "#Create Elemnts\n",
    "M_wing = ele.MassMatrix(p.rho_t)\n",
    "M_fwt = ele.MassMatrix(p.m_1,I_xx = p.I_xx_1)\n",
    "\n",
    "inner_wing_ele = ele.FlexiElement(wing_root_frame,M_wing,p.x_0,p.y_0,z_0,p.c,p.s_0,p.x_f0,p.EI,p.GJ,gravityPot=True)\n",
    "fwt_ele = ele.RigidElement(fwt_com_frame,M_fwt,True)\n",
    "\n",
    "# Create AeroForces\n",
    "wing_AeroForces = ef.AeroForce_1.PerUnitSpan(p,wing_flexural_frame,p.a_0,\n",
    "                               alphadot = tau_0 if isinstance(tau_0,int) else tau_0.diff(me.dynamicsymbols._t),\n",
    "                               M_thetadot = p.M_thetadot,\n",
    "                               e = p.e_0,\n",
    "                               rootAlpha = p.alpha_r,\n",
    "                               deltaAlpha = tau_0,\n",
    "                               alpha_zero = 0).integrate((p.y_0,0,p.s_0))\n",
    "\n",
    "\n",
    "tau_s0 = tau_0.subs(p.y_0,p.s_0)\n",
    "alpha_fwt =  p.alpha_1\n",
    "alphadot_fwt = p.alphadot_1\n",
    "\n",
    "# include wing twist in AoA\n",
    "alpha_fwt += tau_s0\n",
    "alphadot_fwt += tau_s0.diff(me.dynamicsymbols._t)\n",
    "\n",
    "\n",
    "fwt_AeroForces_perUnit = ef.AeroForce_1.PerUnitSpan(p,fwt_flexural_frame,p.a_1,\n",
    "                               alphadot = alphadot_fwt,\n",
    "                               M_thetadot = p.M_thetadot,\n",
    "                               e = p.e_1,\n",
    "                               rootAlpha = alpha_fwt,\n",
    "                               deltaAlpha = 0, \n",
    "                               alpha_zero = 0)\n",
    "forces = []\n",
    "segments = 5\n",
    "for i in range(segments):\n",
    "    seg_width = p.s_1/segments\n",
    "    yi = seg_width/2 + i*seg_width\n",
    "    forces.append(fwt_AeroForces_perUnit.subs({p.y_1:yi})*seg_width)\n",
    "Q = sym.Matrix([0]*p.qs)\n",
    "for f in forces:\n",
    "    Q += f.Q()\n",
    "fwt_AeroForces = ef.ExternalForce(Q)\n",
    "\n",
    "\n",
    "# Setup AoA of FWT\n",
    "fwt_aoa = mf.GetAoA(p.alpha_r,0,p.Lambda,p.q[-1])\n",
    "\n",
    "# Add wing bend\n",
    "wing_bend = sym.atan(z_0.diff(p.y_0).subs({p.x_0:p.x_f0,p.y_0:p.s_0}))\n",
    "fwt_aoa = fwt_aoa.subs(p.q[-1],p.q[-1]-wing_bend)\n",
    "\n",
    "## Sub in Aero Forces\n",
    "fwt_AeroForces = fwt_AeroForces.subs({p.alpha_1:fwt_aoa,p.alphadot_1:fwt_aoa.diff(time)})"
   ]
  },
  {
   "cell_type": "code",
   "execution_count": 5,
   "metadata": {},
   "outputs": [],
   "source": [
    "#Create Composite force\n",
    "CompositeForce = ef.CompositeForce([wing_AeroForces,fwt_AeroForces])\n",
    "# Create the SYmbolic Model\n",
    "sm = mf.SymbolicModel.FromElementsAndForces(p,[inner_wing_ele,fwt_ele],CompositeForce)"
   ]
  },
  {
   "cell_type": "markdown",
   "metadata": {},
   "source": [
    "## Create the linearised EoM about some Stationary point"
   ]
  },
  {
   "cell_type": "code",
   "execution_count": 11,
   "metadata": {},
   "outputs": [],
   "source": [
    "ignores = [p.V,p.m_factor,p.alpha_r,p.ratio_fwt,p.Lambda]\n",
    "\n",
    "# get the linearised sm\n",
    "sm_lin = sm.subs(p.GetSubs(0,p.fp,ignore=ignores)).linearise(p)\n",
    "\n",
    "# get eigen Matrices and turn into a function\n",
    "K,M = sm_lin.GeneralEigenProblem(p)\n",
    "K_free,M_free= sm_lin.FreeBodyEigenProblem(p)\n",
    "\n",
    "gen_func = sym.lambdify((ignores+[p.fp]),(K,M),'numpy')\n",
    "free_func = sym.lambdify((ignores+[p.fp]),(K_free,M_free),'numpy')"
   ]
  },
  {
   "cell_type": "code",
   "execution_count": 12,
   "metadata": {},
   "outputs": [],
   "source": [
    "f = (sm.f-sm.ExtForces.Q()).subs({i:0 for i in p.qd}).subs(p.GetSubs(0,[0]*p.qs*2,ignore=ignores))\n",
    "func_obj = sym.lambdify((p.q,ignores),f)\n",
    "func_jac_obj = sym.lambdify((p.q,ignores),f.jacobian(p.q))"
   ]
  },
  {
   "cell_type": "code",
   "execution_count": 13,
   "metadata": {},
   "outputs": [],
   "source": [
    "#create dict of variations\n",
    "vars_ls =[]\n",
    "vars_ls.append((p.m_factor,[0.5,1,1.5]))\n",
    "vars_ls.append((p.Lambda,np.deg2rad([10,17.5,25])))\n",
    "vars_ls.append((p.alpha_r,np.deg2rad([0,5,10])))\n",
    "vars_ls.append((p.ratio_fwt,[0,0.1,0.2,0.3]))\n",
    "vars_ls.append((p.V,np.linspace(0,150,151))) # ensure velocity last so that fixed points iterats up the velocity\n",
    "#generate fixed points\n",
    "\n",
    "#create an array of all possible permutations\n",
    "perms = np.array(np.meshgrid(*[v for k,v in vars_ls ])).T.reshape(-1,len(vars_ls))\n",
    "\n",
    "#put in pandas array\n",
    "df = pd.DataFrame(data = perms, columns=[k.name for k,v in vars_ls])\n",
    "df['q']=list\n",
    "df = df.sort_values(by=[k.name for k,v in vars_ls]).reset_index()"
   ]
  },
  {
   "cell_type": "code",
   "execution_count": 14,
   "metadata": {},
   "outputs": [],
   "source": [
    "## Find fixed point for each use case\n",
    "pLast = [0]*p.qs\n",
    "pLast[-1] = np.pi/2\n",
    "for i in range(len(df)):\n",
    "    \n",
    "    #set param values\n",
    "    for k,v in vars_ls:\n",
    "        k.value = df[k.name].iloc[i]\n",
    "    \n",
    "    #set the initial guess (if v=0 set to FWT dropped doen else use previous result)\n",
    "    if p.V.value == 0:\n",
    "        q_guess = [0]*p.qs\n",
    "        q_guess[-1] = np.pi/2\n",
    "    else:\n",
    "        q_guess = df.at[i-1,'q'][::2]\n",
    "    values = tuple([i.value for i in ignores])\n",
    "    qf = fsolve(lambda q,v: func_obj(q,values)[:,0],q_guess,fprime = func_jac_obj ,factor = 1,args=(values,))\n",
    "    #print(f'{np.round(q_guess[-1],2)},{np.round(qf[-1],2)},{p.V.value}')\n",
    "    #save result\n",
    "    yf = [0]*p.qs*2  \n",
    "    yf[::2] = qf\n",
    "    df.at[i,'q'] = yf"
   ]
  },
  {
   "cell_type": "code",
   "execution_count": 10,
   "metadata": {},
   "outputs": [
    {
     "ename": "KeyboardInterrupt",
     "evalue": "",
     "output_type": "error",
     "traceback": [
      "\u001b[0;31m---------------------------------------------------------------------------\u001b[0m",
      "\u001b[0;31mKeyboardInterrupt\u001b[0m                         Traceback (most recent call last)",
      "\u001b[0;32m<ipython-input-10-4b8815012ce1>\u001b[0m in \u001b[0;36m<module>\u001b[0;34m\u001b[0m\n\u001b[1;32m     15\u001b[0m     \u001b[0;32melse\u001b[0m\u001b[0;34m:\u001b[0m\u001b[0;34m\u001b[0m\u001b[0;34m\u001b[0m\u001b[0m\n\u001b[1;32m     16\u001b[0m         \u001b[0mevals\u001b[0m\u001b[0;34m,\u001b[0m \u001b[0mevecs\u001b[0m \u001b[0;34m=\u001b[0m \u001b[0meig\u001b[0m\u001b[0;34m(\u001b[0m\u001b[0;34m*\u001b[0m\u001b[0mgen_func\u001b[0m\u001b[0;34m(\u001b[0m\u001b[0;34m*\u001b[0m\u001b[0mvalues\u001b[0m\u001b[0;34m,\u001b[0m\u001b[0mq\u001b[0m\u001b[0;34m)\u001b[0m\u001b[0;34m)\u001b[0m\u001b[0;34m\u001b[0m\u001b[0;34m\u001b[0m\u001b[0m\n\u001b[0;32m---> 17\u001b[0;31m     \u001b[0mjac_dat\u001b[0m \u001b[0;34m=\u001b[0m \u001b[0mmf\u001b[0m\u001b[0;34m.\u001b[0m\u001b[0mExtractEigenValueData\u001b[0m\u001b[0;34m(\u001b[0m\u001b[0mevals\u001b[0m\u001b[0;34m,\u001b[0m\u001b[0mevecs\u001b[0m\u001b[0;34m,\u001b[0m\u001b[0msortby\u001b[0m\u001b[0;34m=\u001b[0m\u001b[0;34m'Frequency'\u001b[0m\u001b[0;34m)\u001b[0m\u001b[0;34m\u001b[0m\u001b[0;34m\u001b[0m\u001b[0m\n\u001b[0m\u001b[1;32m     18\u001b[0m \u001b[0;34m\u001b[0m\u001b[0m\n\u001b[1;32m     19\u001b[0m     \u001b[0;31m# populate fixed point data\u001b[0m\u001b[0;34m\u001b[0m\u001b[0;34m\u001b[0m\u001b[0;34m\u001b[0m\u001b[0m\n",
      "\u001b[0;32m~/Documents/GitHub/FwtModels/Workbooks/7_JEC_wing_compare/../../ModelFramework/helper_funcs.py\u001b[0m in \u001b[0;36mExtractEigenValueData\u001b[0;34m(evals, evecs, margin, sortby)\u001b[0m\n\u001b[1;32m    106\u001b[0m \u001b[0;34m\u001b[0m\u001b[0m\n\u001b[1;32m    107\u001b[0m     \u001b[0;32mif\u001b[0m \u001b[0msortby\u001b[0m \u001b[0;32mis\u001b[0m \u001b[0;32mnot\u001b[0m \u001b[0;32mNone\u001b[0m\u001b[0;34m:\u001b[0m\u001b[0;34m\u001b[0m\u001b[0;34m\u001b[0m\u001b[0m\n\u001b[0;32m--> 108\u001b[0;31m         \u001b[0mdf_v\u001b[0m \u001b[0;34m=\u001b[0m \u001b[0mdf_v\u001b[0m\u001b[0;34m.\u001b[0m\u001b[0msort_values\u001b[0m\u001b[0;34m(\u001b[0m\u001b[0mby\u001b[0m\u001b[0;34m=\u001b[0m\u001b[0msortby\u001b[0m\u001b[0;34m)\u001b[0m\u001b[0;34m\u001b[0m\u001b[0;34m\u001b[0m\u001b[0m\n\u001b[0m\u001b[1;32m    109\u001b[0m     \u001b[0mdf_v\u001b[0m\u001b[0;34m[\u001b[0m\u001b[0;34m'Mode'\u001b[0m\u001b[0;34m]\u001b[0m \u001b[0;34m=\u001b[0m \u001b[0mrange\u001b[0m\u001b[0;34m(\u001b[0m\u001b[0;36m0\u001b[0m\u001b[0;34m,\u001b[0m\u001b[0mlen\u001b[0m\u001b[0;34m(\u001b[0m\u001b[0munique\u001b[0m\u001b[0;34m)\u001b[0m\u001b[0;34m)\u001b[0m\u001b[0;34m\u001b[0m\u001b[0;34m\u001b[0m\u001b[0m\n\u001b[1;32m    110\u001b[0m     \u001b[0;32mreturn\u001b[0m \u001b[0mdf_v\u001b[0m\u001b[0;34m\u001b[0m\u001b[0;34m\u001b[0m\u001b[0m\n",
      "\u001b[0;32m~/opt/anaconda3/lib/python3.7/site-packages/pandas/core/frame.py\u001b[0m in \u001b[0;36msort_values\u001b[0;34m(self, by, axis, ascending, inplace, kind, na_position, ignore_index)\u001b[0m\n\u001b[1;32m   4931\u001b[0m \u001b[0;34m\u001b[0m\u001b[0m\n\u001b[1;32m   4932\u001b[0m             indexer = nargsort(\n\u001b[0;32m-> 4933\u001b[0;31m                 \u001b[0mk\u001b[0m\u001b[0;34m,\u001b[0m \u001b[0mkind\u001b[0m\u001b[0;34m=\u001b[0m\u001b[0mkind\u001b[0m\u001b[0;34m,\u001b[0m \u001b[0mascending\u001b[0m\u001b[0;34m=\u001b[0m\u001b[0mascending\u001b[0m\u001b[0;34m,\u001b[0m \u001b[0mna_position\u001b[0m\u001b[0;34m=\u001b[0m\u001b[0mna_position\u001b[0m\u001b[0;34m\u001b[0m\u001b[0;34m\u001b[0m\u001b[0m\n\u001b[0m\u001b[1;32m   4934\u001b[0m             )\n\u001b[1;32m   4935\u001b[0m \u001b[0;34m\u001b[0m\u001b[0m\n",
      "\u001b[0;32m~/opt/anaconda3/lib/python3.7/site-packages/pandas/core/sorting.py\u001b[0m in \u001b[0;36mnargsort\u001b[0;34m(items, kind, ascending, na_position)\u001b[0m\n\u001b[1;32m    272\u001b[0m         \u001b[0mnon_nans\u001b[0m \u001b[0;34m=\u001b[0m \u001b[0mnon_nans\u001b[0m\u001b[0;34m[\u001b[0m\u001b[0;34m:\u001b[0m\u001b[0;34m:\u001b[0m\u001b[0;34m-\u001b[0m\u001b[0;36m1\u001b[0m\u001b[0;34m]\u001b[0m\u001b[0;34m\u001b[0m\u001b[0;34m\u001b[0m\u001b[0m\n\u001b[1;32m    273\u001b[0m         \u001b[0mnon_nan_idx\u001b[0m \u001b[0;34m=\u001b[0m \u001b[0mnon_nan_idx\u001b[0m\u001b[0;34m[\u001b[0m\u001b[0;34m:\u001b[0m\u001b[0;34m:\u001b[0m\u001b[0;34m-\u001b[0m\u001b[0;36m1\u001b[0m\u001b[0;34m]\u001b[0m\u001b[0;34m\u001b[0m\u001b[0;34m\u001b[0m\u001b[0m\n\u001b[0;32m--> 274\u001b[0;31m     \u001b[0mindexer\u001b[0m \u001b[0;34m=\u001b[0m \u001b[0mnon_nan_idx\u001b[0m\u001b[0;34m[\u001b[0m\u001b[0mnon_nans\u001b[0m\u001b[0;34m.\u001b[0m\u001b[0margsort\u001b[0m\u001b[0;34m(\u001b[0m\u001b[0mkind\u001b[0m\u001b[0;34m=\u001b[0m\u001b[0mkind\u001b[0m\u001b[0;34m)\u001b[0m\u001b[0;34m]\u001b[0m\u001b[0;34m\u001b[0m\u001b[0;34m\u001b[0m\u001b[0m\n\u001b[0m\u001b[1;32m    275\u001b[0m     \u001b[0;32mif\u001b[0m \u001b[0;32mnot\u001b[0m \u001b[0mascending\u001b[0m\u001b[0;34m:\u001b[0m\u001b[0;34m\u001b[0m\u001b[0;34m\u001b[0m\u001b[0m\n\u001b[1;32m    276\u001b[0m         \u001b[0mindexer\u001b[0m \u001b[0;34m=\u001b[0m \u001b[0mindexer\u001b[0m\u001b[0;34m[\u001b[0m\u001b[0;34m:\u001b[0m\u001b[0;34m:\u001b[0m\u001b[0;34m-\u001b[0m\u001b[0;36m1\u001b[0m\u001b[0;34m]\u001b[0m\u001b[0;34m\u001b[0m\u001b[0;34m\u001b[0m\u001b[0m\n",
      "\u001b[0;31mKeyboardInterrupt\u001b[0m: "
     ]
    }
   ],
   "source": [
    "#Calc freqs and dampings\n",
    "flutdfv2 = pd.DataFrame() \n",
    "for i in range(len(df)):\n",
    "    \n",
    "    #set param values\n",
    "    for k,v in vars_ls:\n",
    "        k.value = df[k.name].iloc[i]\n",
    "\n",
    "    q = df.at[i,'q']\n",
    "    #q = [0]*p.qs*2\n",
    "    \n",
    "    values = tuple([i.value for i in ignores])\n",
    "    if p.V.value == 0:\n",
    "        evals, evecs = eig(*free_func(*values,q))\n",
    "    else:\n",
    "        evals, evecs = eig(*gen_func(*values,q))\n",
    "    jac_dat = mf.ExtractEigenValueData(evals,evecs,sortby='Frequency')\n",
    "    \n",
    "    # populate fixed point data\n",
    "    jac_dat['q'] = list\n",
    "    for j in range(len(jac_dat)):\n",
    "        jac_dat.at[j,'q'] = q\n",
    "\n",
    "    # populate test specific data\n",
    "    for k,v in vars_ls:\n",
    "        jac_dat[k.name] = k.value\n",
    "        \n",
    "\n",
    "    flutdfv2 = flutdfv2.append(jac_dat,sort=False)\n",
    "        \n",
    "flutdfv2 = flutdfv2.reset_index(drop=True)"
   ]
  },
  {
   "cell_type": "code",
   "execution_count": null,
   "metadata": {},
   "outputs": [],
   "source": [
    "flutdf = flutdfv2.copy()\n",
    "flutdf['Damping [%]'] = flutdf['Damping']*-100\n",
    "flutdf['Coast Angle [Deg]'] = flutdf.apply(lambda row: np.rad2deg(row['q'][-2]),axis=1)\n",
    "flutdf['Flare Angle [Deg]'] = pd.Categorical(np.rad2deg(flutdf['Lambda']))\n",
    "flutdf['AoA [Deg]'] = pd.Categorical(np.rad2deg(flutdf['alpha_r']))\n",
    "flutdf['FWT Mass [%]'] = pd.Categorical(flutdf['delta_m']*100)\n",
    "flutdf['FWT Ratio [%]'] = pd.Categorical(flutdf['sigma']*100)\n",
    "flutdf['Mode'] = flutdf.Mode.astype('category')"
   ]
  },
  {
   "cell_type": "code",
   "execution_count": null,
   "metadata": {},
   "outputs": [],
   "source": [
    "data = flutdf.copy()\n",
    "data = data[data['Flare Angle [Deg]']==25]\n",
    "data = data[data['AoA [Deg]']==0]\n",
    "data = data[data['FWT Mass [%]']==100]\n",
    "data = data[data['V']<=150]\n",
    "fig, axes = plt.subplots(3,1,figsize=(8,20))\n",
    "\n",
    "\n",
    "sns.scatterplot(data=data,x='V',y='Frequency',hue='FWT Ratio [%]',ax=axes[0],edgecolor = 'none',s=15)\n",
    "sns.scatterplot(data=data,x='V',y='Damping [%]',hue='FWT Ratio [%]',ax=axes[1],legend=False,edgecolor = 'none',s=15)\n",
    "sns.scatterplot(data=data,x='V',y='Coast Angle [Deg]',hue='FWT Ratio [%]',ax=axes[2],legend=False,edgecolor = 'none',s=15)\n",
    "\n",
    "for i in [0,1,2]:\n",
    "    #axes[i].set(xlim=(0,60))\n",
    "    axes[i].grid(b=True, which='major', color='#999999', linestyle='--')\n",
    "    axes[i].minorticks_on()\n",
    "    axes[i].grid(b=True, which='minor', color='#999999', linestyle='-', alpha=0.2)\n",
    "    axes[i].set(xlim=(0,140))\n",
    "#axes[0].set(ylim=(0.5,3))\n",
    "axes[0].set(ylim=(0,25))\n",
    "axes[1].set(ylim=(-20,20))"
   ]
  },
  {
   "cell_type": "code",
   "execution_count": null,
   "metadata": {},
   "outputs": [],
   "source": [
    "flutdf.to_pickle(f'Test_{test_num}.pkl')"
   ]
  },
  {
   "cell_type": "code",
   "execution_count": null,
   "metadata": {},
   "outputs": [],
   "source": [
    "pd.read_pickle(f'Test_{test_num}.pkl').head()"
   ]
  },
  {
   "cell_type": "code",
   "execution_count": null,
   "metadata": {},
   "outputs": [],
   "source": []
  }
 ],
 "metadata": {
  "kernelspec": {
   "display_name": "Python 3",
   "language": "python",
   "name": "python3"
  },
  "language_info": {
   "codemirror_mode": {
    "name": "ipython",
    "version": 3
   },
   "file_extension": ".py",
   "mimetype": "text/x-python",
   "name": "python",
   "nbconvert_exporter": "python",
   "pygments_lexer": "ipython3",
   "version": "3.7.7"
  }
 },
 "nbformat": 4,
 "nbformat_minor": 2
}
