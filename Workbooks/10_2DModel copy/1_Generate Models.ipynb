{
 "cells": [
  {
   "cell_type": "markdown",
   "metadata": {},
   "source": [
    "## Generate Models\n",
    "\n",
    "This code generates the models for a rectangular wing with a FWTD, it creates a series of models to test different non-linearaties"
   ]
  },
  {
   "cell_type": "code",
   "execution_count": 1,
   "metadata": {},
   "outputs": [
    {
     "data": {
      "image/png": "[encoded data removed]",
      "text/latex": [
       "$\\displaystyle 8$"
      ],
      "text/plain": [
       "8"
      ]
     },
     "execution_count": 1,
     "metadata": {},
     "output_type": "execute_result"
    }
   ],
   "source": [
    "import sympy as sym\n",
    "import sympy.physics.mechanics as me\n",
    "from sympy.abc import t as time\n",
    "import pandas as pd\n",
    "import seaborn as sns\n",
    "\n",
    "import numpy as np\n",
    "from scipy.integrate import odeint,LSODA,BDF,solve_ivp\n",
    "from scipy.linalg import eig\n",
    "from scipy.optimize import fsolve\n",
    "import matplotlib.pyplot as plt\n",
    "\n",
    "import sys, os\n",
    "\n",
    "sys.path.insert(1, os.path.join(sys.path[0], '../..'))\n",
    "import custom_plot_objects as cpo\n",
    "\n",
    "import ModelFramework as mf\n",
    "import ModelFramework.Elements as ele\n",
    "import ModelFramework.ExternalForces as ef\n",
    "import FwtModels.RectWing as rw\n",
    "import FwtModels.RectWing.Models as rwm\n",
    "import multiprocessing as mp\n",
    "\n",
    "me.mechanics_printing()\n",
    "\n",
    "mp.cpu_count()"
   ]
  },
  {
   "cell_type": "code",
   "execution_count": 2,
   "metadata": {},
   "outputs": [],
   "source": [
    "def Model_0():\n",
    "    return rwm.Gen2DofModel(fwt_free=False,fwt_frot=False)\n",
    "def Model_1():\n",
    "    return rwm.Gen2DofModel(fwt_free=True,fwt_frot=False)\n",
    "def Model_2():\n",
    "    return rwm.Gen2DofModel(fwt_free=True,fwt_frot=True)\n",
    "def Model_3():\n",
    "    return rwm.Gen2DofModel(fwt_free=True,fwt_frot=True,rot_AoA=False)\n",
    "def Model_4():\n",
    "    model,p = rwm.Gen2DofModel(fwt_free=True,fwt_frot=True)\n",
    "    return model.linearise(p).subs({i:0 for i in p.fp}),p\n",
    "ModelFactory = {\n",
    "    0:Model_0,\n",
    "    1:Model_1,\n",
    "    2:Model_2,\n",
    "    3:Model_3,\n",
    "    4:Model_4\n",
    "}\n",
    "\n",
    "\n",
    "def MakeModel(k,v):\n",
    "    model,p = v()\n",
    "    model.to_file(f'2DoF-M{k}.py')\n",
    "    return k"
   ]
  },
  {
   "cell_type": "code",
   "execution_count": 7,
   "metadata": {},
   "outputs": [],
   "source": [
    "pool = mp.Pool(mp.cpu_count())\n",
    "\n",
    "for k,v in ModelFactory.items():\n",
    "    pool.apply_async(MakeModel,args=(k,v))\n",
    "pool.close()\n",
    "pool.join()"
   ]
  },
  {
   "cell_type": "code",
   "execution_count": 3,
   "metadata": {},
   "outputs": [],
   "source": [
    "p = rw.base_params(2)\n",
    "sm_0 = mf.SymbolicModel.from_file('2DoF-M0.py')\n",
    "sm_1 = mf.SymbolicModel.from_file('2DoF-M1.py')\n",
    "sm_2 = mf.SymbolicModel.from_file('2DoF-M2.py')\n",
    "sm_3 = mf.SymbolicModel.from_file('2DoF-M3.py')\n",
    "sm_4 = mf.SymbolicModel.from_file('2DoF-M4.py')"
   ]
  }
 ],
 "metadata": {
  "kernelspec": {
   "display_name": "Python 3",
   "language": "python",
   "name": "python3"
  },
  "language_info": {
   "codemirror_mode": {
    "name": "ipython",
    "version": 3
   },
   "file_extension": ".py",
   "mimetype": "text/x-python",
   "name": "python",
   "nbconvert_exporter": "python",
   "pygments_lexer": "ipython3",
   "version": "3.7.7"
  }
 },
 "nbformat": 4,
 "nbformat_minor": 2
}
