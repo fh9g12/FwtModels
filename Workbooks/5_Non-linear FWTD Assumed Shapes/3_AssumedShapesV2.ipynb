{
 "cells": [
  {
   "cell_type": "markdown",
   "metadata": {},
   "source": [
    "## Add Aero Forces\n",
    "\n",
    "need to add aero moments to my aero model will do for a simple model and check result with previous method\n",
    "\n",
    "### Preamble"
   ]
  },
  {
   "cell_type": "code",
   "execution_count": 1,
   "metadata": {},
   "outputs": [],
   "source": [
    "import sympy as sym\n",
    "import sympy.physics.mechanics as me\n",
    "import pandas as pd\n",
    "import seaborn as sns\n",
    "\n",
    "import numpy as np\n",
    "from scipy.integrate import odeint,LSODA,BDF,solve_ivp\n",
    "import matplotlib.pyplot as plt\n",
    "\n",
    "import sys, os\n",
    "\n",
    "sys.path.insert(1, os.path.join(sys.path[0], '../..'))\n",
    "import sympyTransforms as symt\n",
    "import custom_plot_objects as cpo\n",
    "import FwtModels as fm\n",
    "import FwtModels.dof2 as dof2\n",
    "import FwtModels.RollingModel as rm\n",
    "import FwtModels.AeroModels as ams\n",
    "import FwtModels.AssumedShapesNonLin as asnl\n",
    "\n",
    "me.mechanics_printing()"
   ]
  },
  {
   "cell_type": "markdown",
   "metadata": {},
   "source": [
    "### Define the Model\n",
    "\n",
    "#### Create Parameter instance"
   ]
  },
  {
   "cell_type": "code",
   "execution_count": 2,
   "metadata": {},
   "outputs": [],
   "source": [
    "half = sym.Rational(1,2)\n",
    "\n",
    "# lets go for B2T2 (so 5 DoF)\n",
    "p = fm.FwtParameters(3+1)\n",
    "\n",
    "## Create some global parameters\n",
    "p.c = fm.FwtVariable(0.15,'c') # chord of wing\n",
    "\n",
    "p.rho_t = fm.FwtVariable(2.75/1.345,'rho_t') # mass per unit length for the wing\n",
    "p.s_t = fm.FwtVariable(1.345,'s_t') # chord of wing\n",
    "p.ratio_fwt = fm.FwtVariable(0.345/1.345,'sigma') # chord of wing\n",
    "\n",
    "# main Wing Structural Parameters\n",
    "p.y_0 = sym.Symbol('y_0')\n",
    "p.x_0 = sym.Symbol('x_0')\n",
    "\n",
    "p.e_0 = fm.FwtVariable(0.25,'e_0')\n",
    "p.x_f0 = fm.FwtVariable(0.5,'x_f0')\n",
    "#p.x_f0 = sym.Rational(1,4)*p.c + p.e_0*p.c\n",
    "\n",
    "p.s_0 = fm.FwtVariable(1,'s_0') # chord of wing\n",
    "#p.s_0 = p.s_t*(1-p.ratio_fwt)# span\n",
    "\n",
    "## force soome frequencies\n",
    "#p.f_0 = fm.FwtVariable(2,'f_0') # first Bending mode frequency\n",
    "#p.EI = (2*sym.pi*p.f_0/sym.Float(3.516))**2*p.rho_0*sym.Abs(p.c)*(p.s_0+p.s_1)**4\n",
    "p.EI = fm.FwtVariable(59.375,'EI')\n",
    "\n",
    "#p.f_1 = fm.FwtVariable(4,'f_1') # first Bending mode frequency\n",
    "#p.I_0 = p.rho_t*p.c*(half*p.rho_t-p.x_f0)\n",
    "#p.GJ = (sym.Rational(4,3)*p.f_1*(p.s_0+p.s_1))**2*p.I_0\n",
    "p.GJ = fm.FwtVariable(855.625,'GJ')\n",
    "\n",
    "## FWTD Structural Parameters\n",
    "p.y_1 = sym.Symbol('y_1')\n",
    "p.x_1 = sym.Symbol('x_1')\n",
    "\n",
    "p.e_1 = fm.FwtVariable(0.25,'e_1')\n",
    "p.x_f1 = sym.Rational(1,4)*p.c + p.e_1*p.c\n",
    "p.Lambda = fm.FwtVariable(np.deg2rad(10),'Lambda')\n",
    "\n",
    "\n",
    "p.s_1 = fm.FwtVariable(0.345,'s_1') # chord of wing\n",
    "#p.s_1 = p.s_t * p.ratio_fwt # span\n",
    "\n",
    "p.m_1 = fm.FwtVariable(0.3,'m_1')\n",
    "p.I_xx_1 = sym.Rational(1,12)*p.m_1*p.s_1**2 # inertia of FWT (uniform bar)\n",
    "\n",
    "## Aero Parameters\n",
    "p.rho = fm.FwtVariable(1.225,'rho') # density\n",
    "p.V = fm.FwtVariable(10,'V') # velocity\n",
    "p.g  = fm.FwtVariable(9.81,'g') # gravity\n",
    "p.alpha_r = fm.FwtVariable(np.deg2rad(3),'alpha_r') # root AoA\n",
    "p.M_thetadot = fm.FwtVariable(1.2,'M_thetadot')\n",
    "\n",
    "\n",
    "## Main Wing Specific\n",
    "p.a_0 = fm.FwtVariable(2*np.pi,'a_0') # C_L of wing\n",
    "\n",
    "## FWT Specific\n",
    "p.a_1 = p.a_0 - p.a_0/p.s_1*p.y_1\n",
    "p.alpha_1 = fm.FwtVariable(0,'alpha_1') # FWT alpha\n",
    "p.alphadot_1 = fm.FwtVariable(0,'alphadot_1') # FWT alphadot\n",
    "\n"
   ]
  },
  {
   "cell_type": "markdown",
   "metadata": {},
   "source": [
    "#### Create Transforms"
   ]
  },
  {
   "cell_type": "code",
   "execution_count": 3,
   "metadata": {},
   "outputs": [
    {
     "ename": "NameError",
     "evalue": "name 'Mfunc' is not defined",
     "output_type": "error",
     "traceback": [
      "\u001b[1;31m---------------------------------------------------------------------------\u001b[0m",
      "\u001b[1;31mNameError\u001b[0m                                 Traceback (most recent call last)",
      "\u001b[1;32m<ipython-input-3-459602dfb1db>\u001b[0m in \u001b[0;36m<module>\u001b[1;34m\u001b[0m\n\u001b[0;32m     32\u001b[0m \u001b[0mCompositeForce\u001b[0m \u001b[1;33m=\u001b[0m \u001b[0mams\u001b[0m\u001b[1;33m.\u001b[0m\u001b[0mCompositeForce\u001b[0m\u001b[1;33m(\u001b[0m\u001b[0mp\u001b[0m\u001b[1;33m,\u001b[0m\u001b[1;33m[\u001b[0m\u001b[0mwing_AeroForces\u001b[0m\u001b[1;33m,\u001b[0m\u001b[0mfwt_GravityForces\u001b[0m\u001b[1;33m,\u001b[0m\u001b[0mfwt_AeroForces\u001b[0m\u001b[1;33m,\u001b[0m\u001b[0mwing_GravityForces\u001b[0m\u001b[1;33m]\u001b[0m\u001b[1;33m)\u001b[0m\u001b[1;33m\u001b[0m\u001b[1;33m\u001b[0m\u001b[0m\n\u001b[0;32m     33\u001b[0m \u001b[1;33m\u001b[0m\u001b[0m\n\u001b[1;32m---> 34\u001b[1;33m \u001b[0msm\u001b[0m \u001b[1;33m=\u001b[0m \u001b[0masnl\u001b[0m\u001b[1;33m.\u001b[0m\u001b[0mSymbolicModel\u001b[0m\u001b[1;33m(\u001b[0m\u001b[1;33m[\u001b[0m\u001b[0mele\u001b[0m\u001b[1;33m,\u001b[0m\u001b[0mbar_fwt_rhs\u001b[0m\u001b[1;33m]\u001b[0m\u001b[1;33m,\u001b[0m\u001b[0mp\u001b[0m\u001b[1;33m,\u001b[0m\u001b[0mCompositeForce\u001b[0m\u001b[1;33m)\u001b[0m\u001b[1;33m\u001b[0m\u001b[1;33m\u001b[0m\u001b[0m\n\u001b[0m",
      "\u001b[1;32m~\\OneDrive - University of Bristol\\Documents\\Projects\\FWTD modelling\\1-PythonFwtModels\\Workbooks\\5_Non-linear FWTD Assumed Shapes\\../..\\FwtModels\\AssumedShapesNonLin\\symbolic_model.py\u001b[0m in \u001b[0;36m__init__\u001b[1;34m(self, Elements, FwtParams, ExtForces)\u001b[0m\n\u001b[0;32m     57\u001b[0m         \u001b[0mtup\u001b[0m \u001b[1;33m=\u001b[0m \u001b[0mp\u001b[0m\u001b[1;33m.\u001b[0m\u001b[0mGetTuple\u001b[0m\u001b[1;33m(\u001b[0m\u001b[1;33m)\u001b[0m\u001b[1;33m\u001b[0m\u001b[1;33m\u001b[0m\u001b[0m\n\u001b[0;32m     58\u001b[0m         \u001b[1;31m# Mass Matrix Eqn\u001b[0m\u001b[1;33m\u001b[0m\u001b[1;33m\u001b[0m\u001b[1;33m\u001b[0m\u001b[0m\n\u001b[1;32m---> 59\u001b[1;33m         \u001b[0mself\u001b[0m\u001b[1;33m.\u001b[0m\u001b[0mM_func\u001b[0m \u001b[1;33m=\u001b[0m \u001b[0msym\u001b[0m\u001b[1;33m.\u001b[0m\u001b[0mlambdify\u001b[0m\u001b[1;33m(\u001b[0m\u001b[1;33m(\u001b[0m\u001b[0mtup\u001b[0m\u001b[1;33m,\u001b[0m\u001b[0mp\u001b[0m\u001b[1;33m.\u001b[0m\u001b[0mx\u001b[0m\u001b[1;33m)\u001b[0m\u001b[1;33m,\u001b[0m\u001b[0mself\u001b[0m\u001b[1;33m.\u001b[0m\u001b[0mM\u001b[0m\u001b[1;33m,\u001b[0m\u001b[1;34m\"numpy\"\u001b[0m\u001b[1;33m,\u001b[0m\u001b[0mname\u001b[0m\u001b[1;33m=\u001b[0m\u001b[0mMfunc\u001b[0m\u001b[1;33m)\u001b[0m\u001b[1;33m\u001b[0m\u001b[1;33m\u001b[0m\u001b[0m\n\u001b[0m\u001b[0;32m     60\u001b[0m         \u001b[1;31m#func eqn\u001b[0m\u001b[1;33m\u001b[0m\u001b[1;33m\u001b[0m\u001b[1;33m\u001b[0m\u001b[0m\n\u001b[0;32m     61\u001b[0m         \u001b[0mself\u001b[0m\u001b[1;33m.\u001b[0m\u001b[0mf_func\u001b[0m \u001b[1;33m=\u001b[0m \u001b[0msym\u001b[0m\u001b[1;33m.\u001b[0m\u001b[0mlambdify\u001b[0m\u001b[1;33m(\u001b[0m\u001b[1;33m(\u001b[0m\u001b[0mtup\u001b[0m\u001b[1;33m,\u001b[0m\u001b[0mp\u001b[0m\u001b[1;33m.\u001b[0m\u001b[0mx\u001b[0m\u001b[1;33m)\u001b[0m\u001b[1;33m,\u001b[0m\u001b[0mself\u001b[0m\u001b[1;33m.\u001b[0m\u001b[0mf\u001b[0m\u001b[1;33m,\u001b[0m\u001b[1;34m\"numpy\"\u001b[0m\u001b[1;33m)\u001b[0m\u001b[1;33m\u001b[0m\u001b[1;33m\u001b[0m\u001b[0m\n",
      "\u001b[1;31mNameError\u001b[0m: name 'Mfunc' is not defined"
     ]
    }
   ],
   "source": [
    "#get shape functions for main wing\n",
    "z_0,tau_0 = asnl.ShapeFunctions_BN_TM(2,1,p.q[:-1],p.y_0,p.x_0,p.x_f0,0,factor=1)\n",
    "\n",
    "#define wing frame\n",
    "wing_frame = symt.HomogenousTransform().R_y(p.alpha_r)\n",
    "#z_w = sym.Function('z_w')(p.q[0],p.q[1],p.y_w,p.x_w)\n",
    "#create flexielement\n",
    "M = fm.MassMatrix(p.rho_t/p.c)\n",
    "ele = fm.FlexiElement(wing_frame,M,p.x_0,p.y_0,z_0,p.c,p.s_0,p.x_f0,p.EI,p.GJ)\n",
    "\n",
    "M_fwt = fm.MassMatrix(p.m_1,I_xx = p.I_xx_1)\n",
    "\n",
    "fwt_frame = wing_frame.Translate(p.c/2,p.s_0,z_0.subs({p.x_0:p.c/2,p.y_0:p.s_0})).R_x(-p.q[-1])\n",
    "fwt_com_frame = fwt_frame.Translate(0,p.s_1/2,0)\n",
    "bar_fwt_rhs = fm.RigidElement(fwt_com_frame,M_fwt)\n",
    "\n",
    "fwt_GravityForces = ams.GravityModel(p,fwt_com_frame,sym.Matrix([0,0,-p.g*p.m_1]))\n",
    "\n",
    "wing_GravityForces = ams.ContinuousGravityModel(p,wing_frame.Translate(p.x_0,p.y_0,z_0),\n",
    "                                                sym.Matrix([0,0,-p.g*p.rho_t/p.c]),(p.x_0,0,p.c),(p.y_0,0,p.s_0))\n",
    "\n",
    "wing_frame_aero = wing_frame.Translate(p.x_f0,p.y_0,z_0.subs(p.x_0,p.x_f0))\n",
    "wing_AeroForces = ams.AeroModelv3(p,wing_frame_aero,p.a_0,(p.y_0,0,p.s_0),p.alpha_r,tau_0,tau_0.diff(me.dynamicsymbols._t),p.M_thetadot,p.e_0)\n",
    "\n",
    "\n",
    "tau_s0 = tau_0.subs(p.y_0,p.s_0)\n",
    "alpha_fwt = tau_s0 + p.alpha_1\n",
    "alphadot_fwt = tau_s0.diff(me.dynamicsymbols._t) + p.alphadot_1\n",
    "fwt_AeroForces = ams.AeroModelv3(p,fwt_frame.Translate(0,p.y_1,0),p.a_1,(p.y_1,0,p.s_1),alpha_fwt,0,alphadot_fwt,p.M_thetadot,p.e_1)\n",
    "\n",
    "#compistie force\n",
    "CompositeForce = ams.CompositeForce(p,[wing_AeroForces,fwt_GravityForces,fwt_AeroForces,wing_GravityForces])\n",
    "\n",
    "sm = asnl.SymbolicModel([ele,bar_fwt_rhs],p,CompositeForce)\n"
   ]
  },
  {
   "cell_type": "markdown",
   "metadata": {},
   "source": [
    "## create masses "
   ]
  },
  {
   "cell_type": "code",
   "execution_count": null,
   "metadata": {},
   "outputs": [],
   "source": [
    "tmax, dt = 5, 0.01\n",
    "# Initial conditions: theta, dtheta/dt, L, dL/dt\n",
    "\n",
    "#params = p.GetNumericTuple()\n",
    "\n",
    "#set velocity and alpha_r funcs\n",
    "def Vfunc(t,x):\n",
    "    return 20\n",
    "\n",
    "def arfunc(t,x):\n",
    "    return np.deg2rad(5)\n",
    "    #return np.deg2rad(5)+np.sin(2*np.pi*1*t)*np.deg2rad(5)\n",
    "    \n",
    "def FwtAoA(t,foldAngle,root_aoa):\n",
    "    Lambda = p.Lambda.value\n",
    "    # get velocity vector in FWT frame\n",
    "    v_x = (np.sin(Lambda)**2*np.cos(root_aoa)*np.cos(foldAngle) - np.sin(Lambda)**2*np.cos(root_aoa) - np.sin(Lambda)*np.sin(root_aoa)*np.sin(foldAngle) + np.cos(root_aoa))\n",
    "    v_z = (np.sin(Lambda)*np.sin(foldAngle)*np.cos(root_aoa) + np.sin(root_aoa)*np.cos(foldAngle))\n",
    "    return np.arctan(v_z/v_x)\n",
    "\n",
    "\n",
    "p.alpha_1.value = lambda t,x:FwtAoA(t,x[-2],arfunc(t,x))\n",
    "p.alphadot_1.value = lambda t,x:FwtAoA(t,x[-2],arfunc(t,x))\n",
    "p.V.value = Vfunc\n",
    "p.alpha_r.value = arfunc\n",
    "\n",
    "y0 = [0]*p.qs*2\n",
    "y0[0] = 0.00\n",
    "y0[-2] = 1.57\n",
    "#y0 = [1.5,0,0.02,0]\n",
    "ts = np.arange(0, tmax+dt, dt)\n",
    "\n",
    "constraints = [np.NaN]*p.qs*2\n",
    "\n",
    "def objectiveDeriv(t,y):\n",
    "    deriv = sm.deriv(t,y,p.GetNumericTuple(y,t))\n",
    "    return tuple(np.where(np.isnan(constraints),deriv,constraints))"
   ]
  },
  {
   "cell_type": "code",
   "execution_count": null,
   "metadata": {},
   "outputs": [],
   "source": [
    "p.s_1.value = 1\n",
    "p.m_1.value = 1"
   ]
  },
  {
   "cell_type": "code",
   "execution_count": null,
   "metadata": {},
   "outputs": [],
   "source": [
    "%prun -s tottime yData = solve_ivp(objectiveDeriv,(0,tmax),y0)"
   ]
  },
  {
   "cell_type": "code",
   "execution_count": null,
   "metadata": {},
   "outputs": [],
   "source": [
    "yi = yData.y\n",
    "t = yData.t\n",
    "\n",
    "plt.style.use('seaborn-white')\n",
    "\n",
    "  \n",
    "fig, axes = plt.subplots(2,int(len(yi)/2),figsize=(15,5))\n",
    "\n",
    "for i in range(int(len(yi)/2)):\n",
    "    # pos plot\n",
    "    axes[0][i].plot(t,yi[i*2])\n",
    "    axes[0][i].set_ylabel('')\n",
    "    axes[0][i].set_xlabel('t [s]')\n",
    "    \n",
    "    # vel plot\n",
    "    axes[1][i].plot(t,yi[i*2+1])\n",
    "    axes[1][i].set_ylabel('')\n",
    "    axes[1][i].set_xlabel('t [s]')"
   ]
  },
  {
   "cell_type": "code",
   "execution_count": 23,
   "metadata": {},
   "outputs": [
    {
     "data": {
      "text/plain": [
       "array([ 0,  2,  4,  6,  8, 10, 12, 14, 16, 18])"
      ]
     },
     "execution_count": 23,
     "metadata": {},
     "output_type": "execute_result"
    }
   ],
   "source": [
    "a = np.array([i*2 for i in range(10)])\n",
    "b = np.array([i*2+1 for i in range(10)])\n",
    "np.insert(b, np.arange(len(a)), a)\n",
    "\n",
    "a"
   ]
  },
  {
   "cell_type": "code",
   "execution_count": 24,
   "metadata": {},
   "outputs": [
    {
     "data": {
      "text/plain": [
       "array([ 2,  6, 10, 14, 18])"
      ]
     },
     "execution_count": 24,
     "metadata": {},
     "output_type": "execute_result"
    }
   ],
   "source": [
    "a[[i*2+1 for i in range(int((len(a)/2)))]]\n"
   ]
  },
  {
   "cell_type": "code",
   "execution_count": 22,
   "metadata": {},
   "outputs": [
    {
     "data": {
      "text/plain": [
       "array([[-0.35893344],\n",
       "       [-0.34483787],\n",
       "       [-3.73962026],\n",
       "       [-1.52792794]])"
      ]
     },
     "execution_count": 22,
     "metadata": {},
     "output_type": "execute_result"
    }
   ],
   "source": [
    "y0=[0]*8\n",
    "t=0\n",
    "tup = p.GetNumericTuple(y0,t)\n",
    "external = sm.ExtForces(tup,y0,t)\n",
    "sm.f_func(tup,external[:,0],y0)#+sm.ExtForces(tup,y0,t)"
   ]
  },
  {
   "cell_type": "code",
   "execution_count": 4,
   "metadata": {},
   "outputs": [
    {
     "data": {
      "image/png": "[encoded data removed]",
      "text/latex": [
       "$\\displaystyle 4 V + c$"
      ],
      "text/plain": [
       "4⋅V + c"
      ]
     },
     "execution_count": 4,
     "metadata": {},
     "output_type": "execute_result"
    }
   ],
   "source": [
    "a = p.c+p.V*4\n",
    "a"
   ]
  },
  {
   "cell_type": "code",
   "execution_count": 6,
   "metadata": {},
   "outputs": [
    {
     "ename": "TypeError",
     "evalue": "lambdify() got an unexpected keyword argument 'name'",
     "output_type": "error",
     "traceback": [
      "\u001b[1;31m---------------------------------------------------------------------------\u001b[0m",
      "\u001b[1;31mTypeError\u001b[0m                                 Traceback (most recent call last)",
      "\u001b[1;32m<ipython-input-6-fe8f5c7677d8>\u001b[0m in \u001b[0;36m<module>\u001b[1;34m\u001b[0m\n\u001b[1;32m----> 1\u001b[1;33m \u001b[0msym\u001b[0m\u001b[1;33m.\u001b[0m\u001b[0mlambdify\u001b[0m\u001b[1;33m(\u001b[0m\u001b[1;33m(\u001b[0m\u001b[0mp\u001b[0m\u001b[1;33m.\u001b[0m\u001b[0mc\u001b[0m\u001b[1;33m,\u001b[0m\u001b[0mp\u001b[0m\u001b[1;33m.\u001b[0m\u001b[0mV\u001b[0m\u001b[1;33m)\u001b[0m\u001b[1;33m,\u001b[0m\u001b[0ma\u001b[0m\u001b[1;33m,\u001b[0m\u001b[0mname\u001b[0m\u001b[1;33m=\u001b[0m\u001b[1;34m\"test\"\u001b[0m\u001b[1;33m)\u001b[0m\u001b[1;33m\u001b[0m\u001b[1;33m\u001b[0m\u001b[0m\n\u001b[0m",
      "\u001b[1;31mTypeError\u001b[0m: lambdify() got an unexpected keyword argument 'name'"
     ]
    }
   ],
   "source": [
    "sym.lambdify((p.c,p.V),a,printer=)"
   ]
  },
  {
   "cell_type": "code",
   "execution_count": null,
   "metadata": {},
   "outputs": [],
   "source": []
  }
 ],
 "metadata": {
  "kernelspec": {
   "display_name": "Python 3",
   "language": "python",
   "name": "python3"
  },
  "language_info": {
   "codemirror_mode": {
    "name": "ipython",
    "version": 3
   },
   "file_extension": ".py",
   "mimetype": "text/x-python",
   "name": "python",
   "nbconvert_exporter": "python",
   "pygments_lexer": "ipython3",
   "version": "3.7.6"
  }
 },
 "nbformat": 4,
 "nbformat_minor": 2
}
