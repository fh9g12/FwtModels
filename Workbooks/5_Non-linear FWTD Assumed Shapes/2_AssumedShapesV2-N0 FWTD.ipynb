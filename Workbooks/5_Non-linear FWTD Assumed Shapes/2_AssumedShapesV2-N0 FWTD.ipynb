{
 "cells": [
  {
   "cell_type": "markdown",
   "metadata": {},
   "source": [
    "## Add Aero Forces\n",
    "\n",
    "need to add aero moments to my aero model will do for a simple model and check result with previous method\n",
    "\n",
    "### Preamble"
   ]
  },
  {
   "cell_type": "code",
   "execution_count": 1,
   "metadata": {},
   "outputs": [],
   "source": [
    "import sympy as sym\n",
    "import sympy.physics.mechanics as me\n",
    "import pandas as pd\n",
    "import seaborn as sns\n",
    "\n",
    "import numpy as np\n",
    "from scipy.integrate import odeint,LSODA,BDF,solve_ivp\n",
    "import matplotlib.pyplot as plt\n",
    "\n",
    "import sys, os\n",
    "\n",
    "sys.path.insert(1, os.path.join(sys.path[0], '../..'))\n",
    "import sympyTransforms as symt\n",
    "import custom_plot_objects as cpo\n",
    "import FwtModels as fm\n",
    "import FwtModels.dof2 as dof2\n",
    "import FwtModels.RollingModel as rm\n",
    "import FwtModels.AeroModels as ams\n",
    "import FwtModels.AssumedShapesNonLin as asnl\n",
    "\n",
    "me.mechanics_printing()"
   ]
  },
  {
   "cell_type": "markdown",
   "metadata": {},
   "source": [
    "### Define the Model\n",
    "\n",
    "#### Create Parameter instance"
   ]
  },
  {
   "cell_type": "code",
   "execution_count": 2,
   "metadata": {},
   "outputs": [],
   "source": [
    "half = sym.Rational(1,2)\n",
    "\n",
    "# lets go for B2T2 (so 5 DoF)\n",
    "p = fm.FwtParameters(2)\n",
    "\n",
    "## Create some global parameters\n",
    "p.c = fm.FwtVariable(0.15,'c') # chord of wing\n",
    "\n",
    "# main Wing Structural Parameters\n",
    "p.y_w = sym.Symbol('y')\n",
    "p.x_w = sym.Symbol('x')\n",
    "\n",
    "p.x_f = fm.FwtVariable(0.15,'x_f') # flexural axis location\n",
    "p.s = fm.FwtVariable(10,'s') # span\n",
    "p.EI = fm.FwtVariable(1e9,'EI') # EI\n",
    "p.GJ = fm.FwtVariable(1e7,'GJ') # GJ\n",
    "\n",
    "p.m = fm.FwtVariable(30,'m_t') # inner wing mass\n",
    "p.rho_w = p.m/(p.c*p.s) #wing density\n",
    "\n",
    "## Aero Parameters\n",
    "p.rho = fm.FwtVariable(1.225,'rho') # density\n",
    "p.V = fm.FwtVariable(10,'V') # velocity\n",
    "p.g  = fm.FwtVariable(9.81,'g') # gravity\n",
    "p.alpha_r = fm.FwtVariable(np.deg2rad(3),'alpha_r') # root AoA\n",
    "\n",
    "p.a_w = fm.FwtVariable(2*np.pi,'a_w') # C_L of wing\n",
    "p.M_thetadot = fm.FwtVariable(1.2,'M_thetadot')\n",
    "p.e = fm.FwtVariable(0.25,'e')\n",
    "#p.e = -1*(p.x_f-sym.Rational(1,4)*p.c)\n",
    "\n",
    "\n",
    "## force first bending mode frequency\n",
    "p.f_0 = fm.FwtVariable(2,'f_0') # first Bending mode frequency\n",
    "p.EI = (sym.Rational(2,3.516)*sym.pi*p.f_0)**2*p.rho_w*p.c*p.s**4"
   ]
  },
  {
   "cell_type": "markdown",
   "metadata": {},
   "source": [
    "#### Create Transforms"
   ]
  },
  {
   "cell_type": "code",
   "execution_count": 7,
   "metadata": {},
   "outputs": [],
   "source": [
    "#get shape functions for main wing\n",
    "z_w,tau_w = asnl.ShapeFunctions_BN_TM(1,1,p.q,p.y_w,p.x_w,p.x_f,0,factor=1)\n",
    "\n",
    "#define wing frame\n",
    "wing_frame = symt.HomogenousTransform().R_y(p.alpha_r)\n",
    "#z_w = sym.Function('z_w')(p.q[0],p.q[1],p.y_w,p.x_w)\n",
    "#create flexielement\n",
    "M = fm.MassMatrix(p.rho_w)\n",
    "ele = fm.FlexiElement(wing_frame,M,p.x_w,p.y_w,z_w,p.c,p.s,p.x_f,p.EI,p.GJ)\n",
    "\n",
    "#fwt_GravityForces = ams.GravityModel(p,fwt_frame.Translate(0,p.l_f,0),sym.Matrix([0,0,p.g*p.m_f]))\n",
    "#wing_GravityForces = ams.GravityModel(p,wing_frame,sym.Matrix([0,0,p.g*p.m_w]))\n",
    "\n",
    "#Aero Forces\n",
    "#fwt_AeroForces = ams.AeroModelv2(p,fwt_frame.Translate(0,p.y_f,0),p.a_f,(p.y_f,0,p.s_f),ams.FwtAoA(p,p.q[2])+tau_f)\n",
    "\n",
    "wing_frame_aero = wing_frame.Translate(p.x_f,p.y_w,z_w.subs(p.x_w,p.x_f))\n",
    "wing_AeroForces = ams.AeroModelv3(p,wing_frame_aero,p.a_w,(p.y_w,0,p.s),p.alpha_r,tau_w,tau_w.diff(me.dynamicsymbols._t),p.M_thetadot)\n",
    "\n",
    "#compistie force\n",
    "CompositeForce = ams.CompositeForce(p,[wing_AeroForces])\n",
    "\n",
    "sm = asnl.SymbolicModel([ele],p,CompositeForce)\n"
   ]
  },
  {
   "cell_type": "markdown",
   "metadata": {},
   "source": [
    "## create masses "
   ]
  },
  {
   "cell_type": "code",
   "execution_count": 8,
   "metadata": {},
   "outputs": [],
   "source": [
    "tmax, dt = 10, 0.01\n",
    "# Initial conditions: theta, dtheta/dt, L, dL/dt\n",
    "\n",
    "#params = p.GetNumericTuple()\n",
    "\n",
    "#set velocity and alpha_r funcs\n",
    "def Vfunc(t,x):\n",
    "    return 25\n",
    "\n",
    "def arfunc(t,x):\n",
    "    return np.deg2rad(2)\n",
    "    #return np.deg2rad(5)+np.sin(2*np.pi*1*t)*np.deg2rad(5)\n",
    "\n",
    "p.V.value = Vfunc\n",
    "p.alpha_r.value = arfunc\n",
    "\n",
    "y0 = [0]*p.qs*2\n",
    "y0[0] = 0.2\n",
    "y0[2] = 0.05\n",
    "#y0 = [1.5,0,0.02,0]\n",
    "ts = np.arange(0, tmax+dt, dt)\n",
    "\n",
    "constraints = [np.NaN]*p.qs*2\n",
    "\n",
    "def objectiveDeriv(t,y):\n",
    "    deriv = sm.deriv(t,y,p.GetNumericTuple(y,t))\n",
    "    return tuple(np.where(np.isnan(constraints),deriv,constraints))"
   ]
  },
  {
   "cell_type": "code",
   "execution_count": 9,
   "metadata": {},
   "outputs": [
    {
     "ename": "IndexError",
     "evalue": "index 4 is out of bounds for axis 0 with size 4",
     "output_type": "error",
     "traceback": [
      "\u001b[1;31m---------------------------------------------------------------------------\u001b[0m",
      "\u001b[1;31mIndexError\u001b[0m                                Traceback (most recent call last)",
      "\u001b[1;32m<ipython-input-9-d55487af7af0>\u001b[0m in \u001b[0;36m<module>\u001b[1;34m\u001b[0m\n\u001b[0;32m     21\u001b[0m \u001b[1;33m\u001b[0m\u001b[0m\n\u001b[0;32m     22\u001b[0m \u001b[1;31m# theta plot\u001b[0m\u001b[1;33m\u001b[0m\u001b[1;33m\u001b[0m\u001b[1;33m\u001b[0m\u001b[0m\n\u001b[1;32m---> 23\u001b[1;33m \u001b[0maxes\u001b[0m\u001b[1;33m[\u001b[0m\u001b[1;36m0\u001b[0m\u001b[1;33m]\u001b[0m\u001b[1;33m[\u001b[0m\u001b[1;36m2\u001b[0m\u001b[1;33m]\u001b[0m\u001b[1;33m.\u001b[0m\u001b[0mplot\u001b[0m\u001b[1;33m(\u001b[0m\u001b[0mt\u001b[0m\u001b[1;33m,\u001b[0m\u001b[0myi\u001b[0m\u001b[1;33m[\u001b[0m\u001b[1;36m4\u001b[0m\u001b[1;33m]\u001b[0m\u001b[1;33m)\u001b[0m\u001b[1;33m\u001b[0m\u001b[1;33m\u001b[0m\u001b[0m\n\u001b[0m\u001b[0;32m     24\u001b[0m \u001b[0maxes\u001b[0m\u001b[1;33m[\u001b[0m\u001b[1;36m0\u001b[0m\u001b[1;33m]\u001b[0m\u001b[1;33m[\u001b[0m\u001b[1;36m2\u001b[0m\u001b[1;33m]\u001b[0m\u001b[1;33m.\u001b[0m\u001b[0mset_ylabel\u001b[0m\u001b[1;33m(\u001b[0m\u001b[1;34m'$\\theta$ [rad]'\u001b[0m\u001b[1;33m)\u001b[0m\u001b[1;33m\u001b[0m\u001b[1;33m\u001b[0m\u001b[0m\n\u001b[0;32m     25\u001b[0m \u001b[0maxes\u001b[0m\u001b[1;33m[\u001b[0m\u001b[1;36m0\u001b[0m\u001b[1;33m]\u001b[0m\u001b[1;33m[\u001b[0m\u001b[1;36m2\u001b[0m\u001b[1;33m]\u001b[0m\u001b[1;33m.\u001b[0m\u001b[0mset_xlabel\u001b[0m\u001b[1;33m(\u001b[0m\u001b[1;34m't [s]'\u001b[0m\u001b[1;33m)\u001b[0m\u001b[1;33m\u001b[0m\u001b[1;33m\u001b[0m\u001b[0m\n",
      "\u001b[1;31mIndexError\u001b[0m: index 4 is out of bounds for axis 0 with size 4"
     ]
    },
    {
     "data": {
      "image/png": "[encoded data removed]",
      "text/plain": [
       "<Figure size 1080x360 with 12 Axes>"
      ]
     },
     "metadata": {},
     "output_type": "display_data"
    }
   ],
   "source": [
    "yData = solve_ivp(objectiveDeriv,(0,tmax),y0)\n",
    "\n",
    "# interpolate data onto a uniform time grid\n",
    "\n",
    "yi = yData.y\n",
    "t = yData.t\n",
    "\n",
    "plt.style.use('seaborn-white')\n",
    "    \n",
    "fig, axes = plt.subplots(3,4,figsize=(15,5))\n",
    "\n",
    "# roll plot\n",
    "axes[0][0].plot(t,yi[0])\n",
    "axes[0][0].set_ylabel('roll [rad]')\n",
    "axes[0][0].set_xlabel('t [s]')\n",
    "\n",
    "# d plot\n",
    "axes[0][1].plot(t,yi[2])\n",
    "axes[0][1].set_ylabel('d [m]')\n",
    "axes[0][1].set_xlabel('t [s]')\n",
    "\n",
    "# theta plot\n",
    "axes[0][2].plot(t,yi[4])\n",
    "axes[0][2].set_ylabel('$\\theta$ [rad]')\n",
    "axes[0][2].set_xlabel('t [s]')\n",
    "\n",
    "\n",
    "# theta plot\n",
    "axes[0][3].plot(t,yi[6])\n",
    "axes[0][3].set_ylabel('$\\theta$ [rad]')\n",
    "axes[0][3].set_xlabel('t [s]')\n",
    "\n",
    "# ddot plot\n",
    "axes[1][0].plot(t,yi[1])\n",
    "axes[1][0].set_ylabel('$\\dot{d}$ [m/s]')\n",
    "axes[1][0].set_xlabel('t [s]')\n",
    "\n",
    "# thetadot plot\n",
    "axes[1][1].plot(t,yi[3])\n",
    "axes[1][1].set_ylabel(r'$\\dot{\\theta}$ [rad/s]')\n",
    "axes[1][1].set_xlabel('t [s]')\n",
    "\n",
    "# thetadot plot\n",
    "axes[1][2].plot(t,yi[5])\n",
    "axes[1][2].set_ylabel(r'$\\dot{\\theta}$ [rad/s]')\n",
    "axes[1][2].set_xlabel('t [s]')\n",
    "# thetadot plot\n",
    "axes[1][3].plot(t,yi[7])\n",
    "axes[1][3].set_ylabel(r'$\\dot{\\theta}$ [rad/s]')\n",
    "axes[1][3].set_xlabel('t [s]')"
   ]
  },
  {
   "cell_type": "code",
   "execution_count": null,
   "metadata": {},
   "outputs": [],
   "source": []
  }
 ],
 "metadata": {
  "kernelspec": {
   "display_name": "Python 3",
   "language": "python",
   "name": "python3"
  },
  "language_info": {
   "codemirror_mode": {
    "name": "ipython",
    "version": 3
   },
   "file_extension": ".py",
   "mimetype": "text/x-python",
   "name": "python",
   "nbconvert_exporter": "python",
   "pygments_lexer": "ipython3",
   "version": "3.7.6"
  }
 },
 "nbformat": 4,
 "nbformat_minor": 2
}
