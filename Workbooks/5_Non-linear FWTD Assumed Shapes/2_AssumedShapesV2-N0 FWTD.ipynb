{
 "cells": [
  {
   "cell_type": "markdown",
   "metadata": {},
   "source": [
    "## Add Aero Forces\n",
    "\n",
    "need to add aero moments to my aero model will do for a simple model and check result with previous method\n",
    "\n",
    "### Preamble"
   ]
  },
  {
   "cell_type": "code",
   "execution_count": 1,
   "metadata": {},
   "outputs": [],
   "source": [
    "import sympy as sym\n",
    "import sympy.physics.mechanics as me\n",
    "import pandas as pd\n",
    "import seaborn as sns\n",
    "\n",
    "import numpy as np\n",
    "from scipy.integrate import odeint,LSODA,BDF,solve_ivp\n",
    "import matplotlib.pyplot as plt\n",
    "\n",
    "import sys, os\n",
    "\n",
    "sys.path.insert(1, os.path.join(sys.path[0], '..\\..'))\n",
    "import sympyTransforms as symt\n",
    "import custom_plot_objects as cpo\n",
    "import FwtModels as fm\n",
    "import FwtModels.dof2 as dof2\n",
    "import FwtModels.RollingModel as rm\n",
    "import FwtModels.AeroModels as ams\n",
    "import FwtModels.AssumedShapesNonLin as asnl\n",
    "\n",
    "me.mechanics_printing()"
   ]
  },
  {
   "cell_type": "code",
   "execution_count": 2,
   "metadata": {},
   "outputs": [
    {
     "data": {
      "image/png": "[encoded data removed]",
      "text/latex": [
       "$\\displaystyle M_{\\dot{\\theta}}$"
      ],
      "text/plain": [
       "M_θ̇"
      ]
     },
     "execution_count": 2,
     "metadata": {},
     "output_type": "execute_result"
    }
   ],
   "source": [
    "sym.Symbol('M_thetadot')"
   ]
  },
  {
   "cell_type": "markdown",
   "metadata": {},
   "source": [
    "### Define the Model\n",
    "\n",
    "#### Create Parameter instance"
   ]
  },
  {
   "cell_type": "code",
   "execution_count": 3,
   "metadata": {},
   "outputs": [],
   "source": [
    "half = sym.Rational(1,2)\n",
    "\n",
    "# lets go for B2T2 (so 5 DoF)\n",
    "p = fm.FwtParameters(2)\n",
    "\n",
    "## Create some global parameters\n",
    "p.c = fm.FwtVariable(0.15,'c') # chord of wing\n",
    "\n",
    "# main Wing Structural Parameters\n",
    "p.y_w = sym.Symbol('y')\n",
    "p.x_w = sym.Symbol('x')\n",
    "\n",
    "p.x_f = -p.c*half # flexural axis location\n",
    "p.s = fm.FwtVariable(10,'s') # span\n",
    "p.EI = fm.FwtVariable(1e9,'EI') # EI\n",
    "p.GJ = fm.FwtVariable(1e7,'GJ') # GJ\n",
    "\n",
    "p.m = fm.FwtVariable(30,'m_t') # inner wing mass\n",
    "p.rho_w = p.m/(p.c*p.s) #wing density\n",
    "\n",
    "## Aero Parameters\n",
    "p.rho = fm.FwtVariable(1.225,'rho') # density\n",
    "p.V = fm.FwtVariable(10,'V') # velocity\n",
    "p.g  = fm.FwtVariable(9.81,'g') # gravity\n",
    "p.alpha_r = fm.FwtVariable(np.deg2rad(3),'alpha_r') # root AoA\n",
    "\n",
    "p.a_w = fm.FwtVariable(2*np.pi,'a_w') # C_L of wing\n",
    "p.M_thetadot = fm.FwtVariable(1.2,'M_thetadot')\n",
    "\n",
    "\n",
    "## force first bending mode frequency\n",
    "p.f_0 = fm.FwtVariable(2,'f_0') # first Bending mode frequency\n",
    "p.EI = (sym.Rational(2,3.516)*sym.pi*p.f_0)**2*p.rho_w*p.c*p.s**4"
   ]
  },
  {
   "cell_type": "markdown",
   "metadata": {},
   "source": [
    "#### Create Transforms"
   ]
  },
  {
   "cell_type": "code",
   "execution_count": 4,
   "metadata": {},
   "outputs": [],
   "source": [
    "#get shape functions for main wing\n",
    "z_w,tau_w = asnl.ShapeFunctions_BN_TM(1,1,p.q,p.y_w,p.x_w,p.x_f,0)\n",
    "\n",
    "#define wing frame\n",
    "wing_frame = symt.HomogenousTransform()\n",
    "#z_w = sym.Function('z_w')(p.q[0],p.q[1],p.y_w,p.x_w)\n",
    "#create flexielement\n",
    "M = fm.MassMatrix(p.m)\n",
    "ele = fm.FlexiElement(wing_frame.Translate(p.x_w,p.y_w,z_w),sym.Matrix([0,tau_w,0]),M,p.x_w,p.y_w,z_w,p.c,p.s,p.x_f,p.EI,p.GJ)\n",
    "\n",
    "#fwt_GravityForces = ams.GravityModel(p,fwt_frame.Translate(0,p.l_f,0),sym.Matrix([0,0,p.g*p.m_f]))\n",
    "#wing_GravityForces = ams.GravityModel(p,wing_frame,sym.Matrix([0,0,p.g*p.m_w]))\n",
    "\n",
    "#Aero Forces\n",
    "#fwt_AeroForces = ams.AeroModelv2(p,fwt_frame.Translate(0,p.y_f,0),p.a_f,(p.y_f,0,p.s_f),ams.FwtAoA(p,p.q[2])+tau_f)\n",
    "\n",
    "wing_frame_aero = wing_frame.Translate(p.x_f,p.y_w,z_w.subs(p.x_w,p.x_f))\n",
    "wing_AeroForces = ams.AeroModelv3(p,wing_frame_aero,p.a_w,(p.y_w,0,p.s),p.alpha_r+tau_w,tau_w.diff(me.dynamicsymbols._t),p.M_thetadot)\n",
    "\n",
    "#compistie force\n",
    "CompositeForce = ams.CompositeForce(p,[])\n",
    "\n",
    "sm = asnl.SymbolicModel([ele],p)"
   ]
  },
  {
   "cell_type": "code",
   "execution_count": 113,
   "metadata": {},
   "outputs": [
    {
     "data": {
      "image/png": "[encoded data removed]",
      "text/latex": [
       "$\\displaystyle \\left[\\begin{matrix}0\\\\0\\\\0\\\\0\\\\s\\\\0\\end{matrix}\\right]$"
      ],
      "text/plain": [
       "⎡0⎤\n",
       "⎢ ⎥\n",
       "⎢0⎥\n",
       "⎢ ⎥\n",
       "⎢0⎥\n",
       "⎢ ⎥\n",
       "⎢0⎥\n",
       "⎢ ⎥\n",
       "⎢s⎥\n",
       "⎢ ⎥\n",
       "⎣0⎦"
      ]
     },
     "execution_count": 113,
     "metadata": {},
     "output_type": "execute_result"
    }
   ],
   "source": [
    "wing_frame_aero = symt.HomogenousTransform().Translate(0,p.y_w,z_w.subs(p.x_w,p.x_f)).R_y(tau_w)\n",
    "wing_frame_aero.Transform_point(sym.Matrix([0,0,0])).diff(me.dynamicsymbols._t)\n",
    "#wing_frame_aero.ManipJacobian(p.q)*p.qd\n",
    "#wing_frame_aero.Transform_point([0,0,0])\n",
    "#wing_frame_aero.E\n",
    "#wing_frame_aero.E.diff(me.dynamicsymbols._t)*wing_frame_aero.Inverse().E\n",
    "\n",
    "sym.Matrix([0,0,0,0,p.s,0])"
   ]
  },
  {
   "cell_type": "code",
   "execution_count": 151,
   "metadata": {},
   "outputs": [
    {
     "data": {
      "image/png": "[encoded data removed]",
      "text/latex": [
       "$\\displaystyle \\left[\\begin{matrix}c y^{2}\\\\s y\\end{matrix}\\right]$"
      ],
      "text/plain": [
       "⎡   2⎤\n",
       "⎢c⋅y ⎥\n",
       "⎢    ⎥\n",
       "⎣s⋅y ⎦"
      ]
     },
     "execution_count": 151,
     "metadata": {},
     "output_type": "execute_result"
    }
   ],
   "source": [
    "\n",
    "T = wing_frame.Translate(0,p.y_w,z_w.subs(p.x_w,p.x_f)).R_y(tau_w)\n",
    "### THE ANSWER TO ALL MY PROBLEMS (small angles means inverabailty not true etc....)\n",
    "(T.ManipJacobian(p.q)).T*sym.Matrix([0,0,p.c,0,p.s,0])\n",
    "#T.Inverse().E*T.E.diff(me.dynamicsymbols._t)*sym.Matrix([0,0,0,1])"
   ]
  },
  {
   "cell_type": "code",
   "execution_count": 110,
   "metadata": {},
   "outputs": [
    {
     "data": {
      "image/png": "[encoded data removed]",
      "text/latex": [
       "$\\displaystyle \\left[\\begin{matrix}- y^{3} q_{0} \\dot{q}_{1}\\\\0\\\\- y^{4} q_{0} q_{1} \\dot{q}_{1} + y^{2} \\dot{q}_{0}\\\\0\\end{matrix}\\right]$"
      ],
      "text/plain": [
       "⎡        3            ⎤\n",
       "⎢      -y ⋅q₀⋅q₁̇      ⎥\n",
       "⎢                     ⎥\n",
       "⎢          0          ⎥\n",
       "⎢                     ⎥\n",
       "⎢   4             2   ⎥\n",
       "⎢- y ⋅q₀⋅q₁⋅q₁̇ + y ⋅q₀̇⎥\n",
       "⎢                     ⎥\n",
       "⎣          0          ⎦"
      ]
     },
     "execution_count": 110,
     "metadata": {},
     "output_type": "execute_result"
    }
   ],
   "source": [
    "symt.Wedge(wing_frame.Translate(0,p.y_w,z_w.subs(p.x_w,p.x_f)).R_y_small(tau_w).ManipJacobian(p.q)*p.qd)*sym.Matrix([0,0,0,1])"
   ]
  },
  {
   "cell_type": "code",
   "execution_count": 160,
   "metadata": {},
   "outputs": [
    {
     "data": {
      "image/png": "[encoded data removed]",
      "text/latex": [
       "$\\displaystyle \\left[\\begin{matrix}- \\frac{V a_{w} c \\rho s^{5}}{10} & 0\\\\\\frac{V a_{w} c^{2} e \\rho s^{4}}{8} & \\frac{M_{\\dot{\\theta}} V c^{3} \\rho s^{3}}{24}\\end{matrix}\\right]$"
      ],
      "text/plain": [
       "⎡            5                 ⎤\n",
       "⎢-V⋅a_w⋅c⋅ρ⋅s                  ⎥\n",
       "⎢──────────────         0      ⎥\n",
       "⎢      10                      ⎥\n",
       "⎢                              ⎥\n",
       "⎢       2      4         3    3⎥\n",
       "⎢V⋅a_w⋅c ⋅e⋅ρ⋅s   M_θ̇⋅V⋅c ⋅ρ⋅s ⎥\n",
       "⎢───────────────  ─────────────⎥\n",
       "⎣       8               24     ⎦"
      ]
     },
     "execution_count": 160,
     "metadata": {},
     "output_type": "execute_result"
    }
   ],
   "source": [
    "wing_frame_aero = wing_frame.Translate(0,p.y_w,z_w.subs(p.x_w,p.x_f)).R_y(tau_w)\n",
    "\n",
    "alpha = p.alpha_r+tau_w\n",
    "alphadot = tau_w.diff(me.dynamicsymbols._t)\n",
    "\n",
    "# add z velocity due to motion\n",
    "v_z_eff = sym.simplify(wing_frame.Translate(0,p.y_w,z_w.subs(p.x_w,p.x_f)).BodyVelocity()[2])\n",
    "\n",
    "# combine to get effective AoA\n",
    "dAlpha = alpha + v_z_eff/p.V\n",
    "\n",
    "# Calculate the lift force\n",
    "dL_w = -sym.Rational(1,2)*p.rho*p.V**2*p.c*p.a_w*dAlpha\n",
    "\n",
    "p.e = fm.FwtVariable(10,'e') # span sym.Symbol('e')# p.c*sym.Rational(1,4)-p.x_f\n",
    "#p.x_f = p.c*sym.Rational(1,4) - p.e \n",
    "\n",
    "\n",
    "# Calulate the pitching Moment\n",
    "dM_w = sym.Rational(1,2)*p.rho*p.V**2*p.c**2\n",
    "dM_w *= (p.e*p.a_w*dAlpha + p.M_thetadot*alphadot*p.c/(sym.Integer(4)*p.V))\n",
    "\n",
    "tt = wing_frame.Translate(0,p.y_w,z_w.subs(p.x_w,p.x_f))\n",
    "#q_L = (tt.ManipJacobian(p.q)).T*sym.Matrix([0,0,dL_w,0,0,0]).integrate((p.y_w,0,p.s)).jacobian(p.qd)\n",
    "#q_L\n",
    "\n",
    "\n",
    "((T.ManipJacobian(p.q)).T*sym.Matrix([0,0,dL_w,0,dM_w,0])).integrate((p.y_w,0,p.s)).jacobian(p.qd)"
   ]
  },
  {
   "cell_type": "code",
   "execution_count": 10,
   "metadata": {},
   "outputs": [
    {
     "data": {
      "image/png": "[encoded data removed]",
      "text/latex": [
       "$\\displaystyle \\left[\\begin{matrix}y^{2} & 0\\\\0 & y\\end{matrix}\\right]$"
      ],
      "text/plain": [
       "⎡ 2   ⎤\n",
       "⎢y   0⎥\n",
       "⎢     ⎥\n",
       "⎣0   y⎦"
      ]
     },
     "execution_count": 10,
     "metadata": {},
     "output_type": "execute_result"
    }
   ],
   "source": [
    "dofs = sym.Matrix([z_w.subs(p.x_w,p.x_f),tau_w])\n",
    "\n",
    "force = sym.Matrix([[dL_w],[dM_w]])\n",
    "Q = (dofs.jacobian(p.q).T*force).integrate((p.y_w,0,p.s))\n",
    "Q.jacobian(p.qd)\n",
    "\n",
    "dofs.jacobian(p.q)\n",
    "\n",
    "#sym.simplify(((.T.jacobian(p.q).T)*sym.Matrix([[dL_w],[dM_w]])).integrate((p.y_w,0,p.s)).jacobian(p.qd))"
   ]
  },
  {
   "cell_type": "code",
   "execution_count": 11,
   "metadata": {},
   "outputs": [
    {
     "data": {
      "image/png": "[encoded data removed]",
      "text/latex": [
       "$\\displaystyle \\left[\\begin{matrix}1 & 0 & y q_{1} & 0\\\\0 & 1 & 0 & y\\\\- y q_{1} & 0 & 1 & y^{2} q_{0}\\\\0 & 0 & 0 & 1\\end{matrix}\\right]$"
      ],
      "text/plain": [
       "⎡  1    0  y⋅q₁    0  ⎤\n",
       "⎢                     ⎥\n",
       "⎢  0    1   0      y  ⎥\n",
       "⎢                     ⎥\n",
       "⎢                 2   ⎥\n",
       "⎢-y⋅q₁  0   1    y ⋅q₀⎥\n",
       "⎢                     ⎥\n",
       "⎣  0    0   0      1  ⎦"
      ]
     },
     "execution_count": 11,
     "metadata": {},
     "output_type": "execute_result"
    }
   ],
   "source": [
    "wing_frame.Translate(0,p.y_w,z_w.subs(p.x_w,p.x_f)).R_y_small(tau_w).E"
   ]
  },
  {
   "cell_type": "code",
   "execution_count": 25,
   "metadata": {},
   "outputs": [
    {
     "data": {
      "image/png": "[encoded data removed]",
      "text/latex": [
       "$\\displaystyle \\left[\\begin{matrix}0 & - y^{3} q_{0}\\\\0 & 0\\\\y^{2} & - y^{4} q_{0} q_{1}\\\\0 & 0\\\\0 & y\\\\0 & 0\\end{matrix}\\right]$"
      ],
      "text/plain": [
       "⎡       3     ⎤\n",
       "⎢0    -y ⋅q₀  ⎥\n",
       "⎢             ⎥\n",
       "⎢0       0    ⎥\n",
       "⎢             ⎥\n",
       "⎢ 2    4      ⎥\n",
       "⎢y   -y ⋅q₀⋅q₁⎥\n",
       "⎢             ⎥\n",
       "⎢0       0    ⎥\n",
       "⎢             ⎥\n",
       "⎢0       y    ⎥\n",
       "⎢             ⎥\n",
       "⎣0       0    ⎦"
      ]
     },
     "execution_count": 25,
     "metadata": {},
     "output_type": "execute_result"
    }
   ],
   "source": [
    "\n",
    "wing_frame_aero = wing_frame.Translate(0,p.y_w,z_w.subs(p.x_w,p.x_f)).R_y_small(tau_w)\n",
    "\n",
    "alpha = p.alpha_r+tau_w\n",
    "alphadot = tau_w.diff(me.dynamicsymbols._t)\n",
    "\n",
    "# add z velocity due to motion\n",
    "v_z_eff = wing_frame_aero.BodyVelocity()[2]\n",
    "\n",
    "# combine to get effective AoA\n",
    "dAlpha = alpha + v_z_eff/p.V\n",
    "\n",
    "# Calculate the lift force\n",
    "dL_w = -sym.Rational(1,2)*p.rho*p.V**2*p.c*p.a_w*dAlpha\n",
    "\n",
    "e = sym.Symbol('e')# p.c*sym.Rational(1,4)-p.x_f\n",
    "\n",
    "# Calulate the pitching Moment\n",
    "dM_w = sym.Rational(1,2)*p.rho*p.V**2*p.c**2\n",
    "dM_w *= (e*p.a_w*dAlpha + p.M_thetadot*alphadot*p.c/(sym.Integer(4)*p.V))\n",
    "\n",
    "\n",
    "\n",
    "\n",
    "L = dL_w.integrate((p.y_w,0,p.s))\n",
    "Mx = (dL_w*p.y_w).integrate((p.y_w,0,p.s))\n",
    "My = (dM_w).integrate((p.y_w,0,p.s))\n",
    "\n",
    "wing_frame_aero.ManipJacobian(p.q)\n",
    "\n",
    "#wing_frame_aero.E.diff(p.q[1])*wing_frame_aero.Inverse().E"
   ]
  },
  {
   "cell_type": "markdown",
   "metadata": {},
   "source": [
    "## create masses "
   ]
  },
  {
   "cell_type": "code",
   "execution_count": 5,
   "metadata": {},
   "outputs": [],
   "source": [
    "tmax, dt = 10, 0.01\n",
    "# Initial conditions: theta, dtheta/dt, L, dL/dt\n",
    "\n",
    "#params = p.GetNumericTuple()\n",
    "\n",
    "#set velocity and alpha_r funcs\n",
    "def Vfunc(t,x):\n",
    "    return 25\n",
    "\n",
    "def arfunc(t,x):\n",
    "    return np.deg2rad(0)\n",
    "    #return np.deg2rad(5)+np.sin(2*np.pi*1*t)*np.deg2rad(5)\n",
    "\n",
    "p.V.value = Vfunc\n",
    "p.alpha_r.value = arfunc\n",
    "\n",
    "y0 = [0]*p.qs*2\n",
    "y0[0] = 0.2\n",
    "#y0 = [1.5,0,0.02,0]\n",
    "ts = np.arange(0, tmax+dt, dt)\n",
    "\n",
    "constraints = [np.NaN]*p.qs*2\n",
    "\n",
    "def objectiveDeriv(t,y):\n",
    "    deriv = sm.deriv(t,y,p.GetNumericTuple(y,t))\n",
    "    return tuple(np.where(np.isnan(constraints),deriv,constraints))"
   ]
  },
  {
   "cell_type": "code",
   "execution_count": 6,
   "metadata": {},
   "outputs": [
    {
     "data": {
      "image/png": "[encoded data removed]",
      "text/latex": [
       "$\\displaystyle \\left( 0.0, \\  0.0, \\  0.0, \\  0.0\\right)$"
      ],
      "text/plain": [
       "(0.0, 0.0, 0.0, 0.0)"
      ]
     },
     "execution_count": 6,
     "metadata": {},
     "output_type": "execute_result"
    }
   ],
   "source": [
    "objectiveDeriv(0,[0]*p.qs*2)\n",
    "#[0]*int(len([0,0,0,0,0,0])/2)\n",
    "#np.array([[0] for i in range(0,p.qs)])"
   ]
  },
  {
   "cell_type": "code",
   "execution_count": 7,
   "metadata": {},
   "outputs": [
    {
     "ename": "IndexError",
     "evalue": "index 4 is out of bounds for axis 0 with size 4",
     "output_type": "error",
     "traceback": [
      "\u001b[1;31m---------------------------------------------------------------------------\u001b[0m",
      "\u001b[1;31mIndexError\u001b[0m                                Traceback (most recent call last)",
      "\u001b[1;32m<ipython-input-7-d55487af7af0>\u001b[0m in \u001b[0;36m<module>\u001b[1;34m\u001b[0m\n\u001b[0;32m     21\u001b[0m \u001b[1;33m\u001b[0m\u001b[0m\n\u001b[0;32m     22\u001b[0m \u001b[1;31m# theta plot\u001b[0m\u001b[1;33m\u001b[0m\u001b[1;33m\u001b[0m\u001b[1;33m\u001b[0m\u001b[0m\n\u001b[1;32m---> 23\u001b[1;33m \u001b[0maxes\u001b[0m\u001b[1;33m[\u001b[0m\u001b[1;36m0\u001b[0m\u001b[1;33m]\u001b[0m\u001b[1;33m[\u001b[0m\u001b[1;36m2\u001b[0m\u001b[1;33m]\u001b[0m\u001b[1;33m.\u001b[0m\u001b[0mplot\u001b[0m\u001b[1;33m(\u001b[0m\u001b[0mt\u001b[0m\u001b[1;33m,\u001b[0m\u001b[0myi\u001b[0m\u001b[1;33m[\u001b[0m\u001b[1;36m4\u001b[0m\u001b[1;33m]\u001b[0m\u001b[1;33m)\u001b[0m\u001b[1;33m\u001b[0m\u001b[1;33m\u001b[0m\u001b[0m\n\u001b[0m\u001b[0;32m     24\u001b[0m \u001b[0maxes\u001b[0m\u001b[1;33m[\u001b[0m\u001b[1;36m0\u001b[0m\u001b[1;33m]\u001b[0m\u001b[1;33m[\u001b[0m\u001b[1;36m2\u001b[0m\u001b[1;33m]\u001b[0m\u001b[1;33m.\u001b[0m\u001b[0mset_ylabel\u001b[0m\u001b[1;33m(\u001b[0m\u001b[1;34m'$\\theta$ [rad]'\u001b[0m\u001b[1;33m)\u001b[0m\u001b[1;33m\u001b[0m\u001b[1;33m\u001b[0m\u001b[0m\n\u001b[0;32m     25\u001b[0m \u001b[0maxes\u001b[0m\u001b[1;33m[\u001b[0m\u001b[1;36m0\u001b[0m\u001b[1;33m]\u001b[0m\u001b[1;33m[\u001b[0m\u001b[1;36m2\u001b[0m\u001b[1;33m]\u001b[0m\u001b[1;33m.\u001b[0m\u001b[0mset_xlabel\u001b[0m\u001b[1;33m(\u001b[0m\u001b[1;34m't [s]'\u001b[0m\u001b[1;33m)\u001b[0m\u001b[1;33m\u001b[0m\u001b[1;33m\u001b[0m\u001b[0m\n",
      "\u001b[1;31mIndexError\u001b[0m: index 4 is out of bounds for axis 0 with size 4"
     ]
    },
    {
     "data": {
      "image/png": "[encoded data removed]",
      "text/plain": [
       "<Figure size 1080x360 with 12 Axes>"
      ]
     },
     "metadata": {},
     "output_type": "display_data"
    }
   ],
   "source": [
    "yData = solve_ivp(objectiveDeriv,(0,tmax),y0)\n",
    "\n",
    "# interpolate data onto a uniform time grid\n",
    "\n",
    "yi = yData.y\n",
    "t = yData.t\n",
    "\n",
    "plt.style.use('seaborn-white')\n",
    "    \n",
    "fig, axes = plt.subplots(3,4,figsize=(15,5))\n",
    "\n",
    "# roll plot\n",
    "axes[0][0].plot(t,yi[0])\n",
    "axes[0][0].set_ylabel('roll [rad]')\n",
    "axes[0][0].set_xlabel('t [s]')\n",
    "\n",
    "# d plot\n",
    "axes[0][1].plot(t,yi[2])\n",
    "axes[0][1].set_ylabel('d [m]')\n",
    "axes[0][1].set_xlabel('t [s]')\n",
    "\n",
    "# theta plot\n",
    "axes[0][2].plot(t,yi[4])\n",
    "axes[0][2].set_ylabel('$\\theta$ [rad]')\n",
    "axes[0][2].set_xlabel('t [s]')\n",
    "\n",
    "\n",
    "# theta plot\n",
    "axes[0][3].plot(t,yi[6])\n",
    "axes[0][3].set_ylabel('$\\theta$ [rad]')\n",
    "axes[0][3].set_xlabel('t [s]')\n",
    "\n",
    "# ddot plot\n",
    "axes[1][0].plot(t,yi[1])\n",
    "axes[1][0].set_ylabel('$\\dot{d}$ [m/s]')\n",
    "axes[1][0].set_xlabel('t [s]')\n",
    "\n",
    "# thetadot plot\n",
    "axes[1][1].plot(t,yi[3])\n",
    "axes[1][1].set_ylabel(r'$\\dot{\\theta}$ [rad/s]')\n",
    "axes[1][1].set_xlabel('t [s]')\n",
    "\n",
    "# thetadot plot\n",
    "axes[1][2].plot(t,yi[5])\n",
    "axes[1][2].set_ylabel(r'$\\dot{\\theta}$ [rad/s]')\n",
    "axes[1][2].set_xlabel('t [s]')\n",
    "# thetadot plot\n",
    "axes[1][3].plot(t,yi[7])\n",
    "axes[1][3].set_ylabel(r'$\\dot{\\theta}$ [rad/s]')\n",
    "axes[1][3].set_xlabel('t [s]')"
   ]
  },
  {
   "cell_type": "code",
   "execution_count": null,
   "metadata": {},
   "outputs": [],
   "source": []
  }
 ],
 "metadata": {
  "kernelspec": {
   "display_name": "Python 3",
   "language": "python",
   "name": "python3"
  },
  "language_info": {
   "codemirror_mode": {
    "name": "ipython",
    "version": 3
   },
   "file_extension": ".py",
   "mimetype": "text/x-python",
   "name": "python",
   "nbconvert_exporter": "python",
   "pygments_lexer": "ipython3",
   "version": "3.7.6"
  }
 },
 "nbformat": 4,
 "nbformat_minor": 2
}
