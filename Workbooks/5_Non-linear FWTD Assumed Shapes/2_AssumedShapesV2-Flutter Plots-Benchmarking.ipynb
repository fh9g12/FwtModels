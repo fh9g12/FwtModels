{
 "cells": [
  {
   "cell_type": "markdown",
   "metadata": {},
   "source": [
    "## Benchmarking\n",
    "\n",
    "\n",
    "I'm using this code to benchmark underlying function and my code generation tactics\n",
    "\n",
    "will use a 2B1T + FWTD model and relise it at 20 m/s & 5 deg aoa"
   ]
  },
  {
   "cell_type": "code",
   "execution_count": 1,
   "metadata": {},
   "outputs": [],
   "source": [
    "import sympy as sym\n",
    "import sympy.physics.mechanics as me\n",
    "from sympy.abc import t as time\n",
    "import pandas as pd\n",
    "import seaborn as sns\n",
    "\n",
    "import numpy as np\n",
    "from scipy.integrate import odeint,LSODA,BDF,solve_ivp\n",
    "from scipy.linalg import eig\n",
    "from scipy.optimize import minimize\n",
    "import matplotlib.pyplot as plt\n",
    "\n",
    "import sys, os\n",
    "\n",
    "sys.path.insert(1, os.path.join(sys.path[0], '../..'))\n",
    "import custom_plot_objects as cpo\n",
    "\n",
    "import ModelFramework as mf\n",
    "import ModelFramework.Elements as ele\n",
    "import ModelFramework.ExternalForces as ef\n",
    "\n",
    "me.mechanics_printing()"
   ]
  },
  {
   "cell_type": "markdown",
   "metadata": {},
   "source": [
    "### Define the Model\n",
    "\n",
    "#### Create Parameter instance"
   ]
  },
  {
   "cell_type": "code",
   "execution_count": 25,
   "metadata": {},
   "outputs": [],
   "source": [
    "half = sym.Rational(1,2)\n",
    "\n",
    "b_modes = 1\n",
    "t_modes = 1\n",
    "fwt_modes = 1\n",
    "# lets go for B2T2 (so 5 DoF)\n",
    "p = mf.ModelParameters.DynamicModel(b_modes + t_modes + fwt_modes)\n",
    "\n",
    "## Create some global parameters\n",
    "p.c = mf.ModelSymbol(value = 0.15,string = 'c') # chord of wing\n",
    "\n",
    "p.m_0 = mf.ModelSymbol(value = 2,string = 'm_0') # total mass of the wing\n",
    "p.s_t = mf.ModelSymbol(value = 1.345,string = 's_t') # chord of wing\n",
    "\n",
    "p.ratio_fwt = mf.ModelSymbol(value = 0.345/1.345,string = 'sigma') # chord of wing\n",
    "\n",
    "p.s_0 =  p.s_t*(1-p.ratio_fwt) # chord of wing\n",
    "\n",
    "p.rho_0 =p.m_0/(p.s_0*p.c) # mass per unit area\n",
    "\n",
    "\n",
    "\n",
    "# main Wing Structural Parameters\n",
    "p.y_0 = sym.Symbol('y_0')\n",
    "p.x_0 = sym.Symbol('x_0')\n",
    "\n",
    "p.e_0 = mf.ModelSymbol(value = 0,string = 'e_0')\n",
    "p.x_f0 = sym.Rational(1,4)*p.c + p.e_0*p.c\n",
    "\n",
    "\n",
    "\n",
    "\n",
    "p.s_1 = p.s_t*p.ratio_fwt # chord of fwt\n",
    "p.m_1 = mf.ModelSymbol(value = 0.3,string = 'm_1')\n",
    "p.I_xx_1 = sym.Rational(1,12)*p.m_1*p.s_1**2 # inertia of FWT (uniform bar)\n",
    "\n",
    "\n",
    "## force soome frequencies\n",
    "p.EI = mf.ModelSymbol(value = 59.375,string = 'EI')\n",
    "p.GJ = mf.ModelSymbol(value = 85.625,string = 'GJ') # GJ for main wing\n",
    "\n",
    "## FWTD Structural Parameters\n",
    "p.y_1 = sym.Symbol('y_1')\n",
    "p.x_1 = sym.Symbol('x_1')\n",
    "\n",
    "p.e_1 = mf.ModelSymbol(value = 0,string = 'e_1') # e for the FWT\n",
    "p.x_f1 = sym.Rational(1,4)*p.c + p.e_1*p.c\n",
    "\n",
    "p.Lambda = mf.ModelSymbol(value = np.deg2rad(10),string = 'Lambda') # Flare Angle\n",
    "\n",
    "## Aero Parameters\n",
    "p.rho = mf.ModelSymbol(value = 1.225,string = 'rho') # density\n",
    "p.V = mf.ModelSymbol(value = 10,string = 'V') # velocity\n",
    "p.g  = mf.ModelSymbol(value = 9.81,string = 'g') # gravity\n",
    "p.alpha_r = mf.ModelSymbol(value = np.deg2rad(3),string = 'alpha_r') # root AoA\n",
    "p.M_thetadot = mf.ModelSymbol(value = -1.2,string = 'M_thetadot')\n",
    "\n",
    "## Main Wing Specific\n",
    "p.a_0 = mf.ModelSymbol(value = 2*np.pi,string = 'a_0') # C_L of main wing\n",
    "\n",
    "## FWT Specific\n",
    "p.a_1 = p.a_0 - p.a_0/p.s_1*p.y_1 # C_l of FWT 2pi at root zero at the end\n",
    "p.alpha_1 = mf.ModelSymbol(value = 0,string = 'alpha_1') # FWT alpha\n",
    "p.alphadot_1 = mf.ModelSymbol(value = 0,string = 'alphadot_1') # FWT alphadot\n",
    "\n",
    "## Numeric Model Constants\n",
    "p.fp = mf.ModelMatrix(value =[0]*p.qs*2,symbols=sym.symbols(f'qtilde:{p.qs*2}')) # The stationary point\n",
    "p.eta = mf.ModelMatrix(value = [1]*b_modes+[1]*t_modes+[1]*fwt_modes,symbols=sym.symbols(f'eta:{p.qs}'))# [1]*b_modes+[1e3]*t_modes#[p.EI**2]*b_modes+[p.GJ**2]*t_modes"
   ]
  },
  {
   "cell_type": "markdown",
   "metadata": {},
   "source": [
    "#### Create Transforms"
   ]
  },
  {
   "cell_type": "code",
   "execution_count": 26,
   "metadata": {},
   "outputs": [
    {
     "name": "stdout",
     "output_type": "stream",
     "text": [
      "CPU times: user 11.3 s, sys: 9.43 ms, total: 11.3 s\n",
      "Wall time: 11.3 s\n"
     ]
    }
   ],
   "source": [
    "%%time\n",
    "#get shape functions for main wing\n",
    "z_0,tau_0 = mf.ShapeFunctions_BN_TM(b_modes,t_modes,p.q[:-1],p.y_0,p.x_0,p.x_f0,0,factor=p.eta)\n",
    "\n",
    "#define wrefernce frames\n",
    "wing_root_frame = mf.HomogenousTransform().R_y(p.alpha_r)\n",
    "wing_frame = wing_root_frame.Translate(p.x_0,p.y_0,z_0)\n",
    "wing_flexural_frame = wing_frame.subs({p.x_0:p.x_f0})\n",
    "\n",
    "fwt_root_frame = wing_frame.subs({p.y_0:p.s_0,p.x_0:p.x_f0}).Translate(-p.x_f0,0,0).R_x(-p.q[-1])\n",
    "fwt_flexural_frame = fwt_root_frame.Translate(p.x_f1,p.y_1,0)\n",
    "fwt_com_frame = fwt_root_frame.Translate(p.c/2,p.s_1/2,0)\n",
    "\n",
    "#Create Elemnts\n",
    "M_wing = ele.MassMatrix(p.rho_0)\n",
    "M_fwt = ele.MassMatrix(p.m_1,I_xx = p.I_xx_1)\n",
    "\n",
    "inner_wing_ele = ele.FlexiElement(wing_root_frame,M_wing,p.x_0,p.y_0,z_0,p.c,p.s_0,p.x_f0,p.EI,p.GJ,gravityPot=False)\n",
    "fwt_ele = ele.RigidElement(fwt_com_frame,M_fwt,True)\n",
    "\n",
    "# Create AeroForces\n",
    "wing_AeroForces = ef.AeroForce.Generate(p,wing_flexural_frame,p.a_0,(p.y_0,0,p.s_0),\n",
    "                               alphadot = tau_0 if isinstance(tau_0,int) else tau_0.diff(me.dynamicsymbols._t),\n",
    "                               M_thetadot = p.M_thetadot,\n",
    "                               e = p.e_0,\n",
    "                               rootAlpha = p.alpha_r,\n",
    "                               deltaAlpha = tau_0,\n",
    "                               alpha_zero = 0)\n",
    "\n",
    "\n",
    "tau_s0 = tau_0 if isinstance(tau_0,int) else tau_0.subs(p.y_0,p.s_0)\n",
    "alpha_fwt = tau_s0 + p.alpha_1\n",
    "alphadot_fwt = tau_s0 if isinstance(tau_0,int) else tau_s0.diff(me.dynamicsymbols._t) + p.alphadot_1\n",
    "\n",
    "fwt_AeroForces = ef.AeroForce.Generate(p,fwt_flexural_frame,p.a_1,(p.y_1,0,p.s_1),\n",
    "                               alphadot = alphadot_fwt,\n",
    "                               M_thetadot = p.M_thetadot,\n",
    "                               e = p.e_1,\n",
    "                               rootAlpha = alpha_fwt,\n",
    "                               deltaAlpha = 0,\n",
    "                               alpha_zero = 0)\n",
    "\n",
    "#Create Composite force\n",
    "CompositeForce = ef.CompositeForce(p,[wing_AeroForces,fwt_AeroForces])\n",
    "#CompositeForce = ef.CompositeForce(p,[wing_AeroForces,fwt_AeroForces,wing_GravityForces])\n",
    "inner_wing_ele._gravityPotential = True\n",
    "# Create the SYmbolic Model\n",
    "sm = mf.SymbolicModel.FromElementsAndForces(p,[inner_wing_ele,fwt_ele],CompositeForce)"
   ]
  },
  {
   "cell_type": "code",
   "execution_count": 4,
   "metadata": {},
   "outputs": [],
   "source": [
    "#Create Composite force\n",
    "CompositeForce = ef.CompositeForce(p,[wing_AeroForces,fwt_AeroForces])\n",
    "#CompositeForce = ef.CompositeForce(p,[wing_AeroForces,fwt_AeroForces,wing_GravityForces])\n",
    "inner_wing_ele._gravityPotential = True\n",
    "# Create the SYmbolic Model\n",
    "sm = mf.SymbolicModel.FromElementsAndForces(p,[inner_wing_ele,fwt_ele],CompositeForce)"
   ]
  },
  {
   "cell_type": "code",
   "execution_count": 48,
   "metadata": {},
   "outputs": [
    {
     "data": {
      "text/latex": [
       "$\\displaystyle \\left( \\left[ \\left( x_{0}, \\  s_{t}^{4}\\right), \\  \\left( x_{1}, \\  \\eta_{0}^{2}\\right), \\  \\left( x_{2}, \\  \\frac{m_{1} x_{0}}{x_{1}}\\right), \\  \\left( x_{3}, \\  4 x_{2}\\right), \\  \\left( x_{4}, \\  \\sigma^{4}\\right), \\  \\left( x_{5}, \\  \\sigma^{2}\\right), \\  \\left( x_{6}, \\  6 x_{5}\\right), \\  \\left( x_{7}, \\  \\sigma^{3}\\right), \\  \\left( x_{8}, \\  10 s_{t} x_{1}\\right), \\  \\left( x_{9}, \\  \\frac{m_{0} s_{t}^{5}}{\\sigma x_{8} - x_{8}}\\right), \\  \\left( x_{10}, \\  2 x_{9}\\right), \\  \\left( x_{11}, \\  10 x_{9}\\right), \\  \\left( x_{12}, \\  20 x_{9}\\right), \\  \\left( x_{13}, \\  16 s_{t} \\eta_{0} \\eta_{1}\\right), \\  \\left( x_{14}, \\  \\frac{c m_{0} x_{0}}{\\sigma x_{13} - x_{13}}\\right), \\  \\left( x_{15}, \\  4 x_{14}\\right), \\  \\left( x_{16}, \\  x_{14} x_{4}\\right), \\  \\left( x_{17}, \\  e_{0} x_{14}\\right), \\  \\left( x_{18}, \\  16 x_{17}\\right), \\  \\left( x_{19}, \\  - e_{0} x_{15} - 4 e_{0} x_{16} - \\sigma x_{15} + \\sigma x_{18} + x_{14} x_{6} + x_{14} - x_{15} x_{7} + x_{16} - 24 x_{17} x_{5} + x_{18} x_{7}\\right), \\  \\left( x_{20}, \\  s_{t}^{3}\\right), \\  \\left( x_{21}, \\  \\frac{x_{20} \\operatorname{cos}\\left(q_{2}\\right)}{\\eta_{0}}\\right), \\  \\left( x_{22}, \\  \\frac{m_{1} x_{21}}{2}\\right), \\  \\left( x_{23}, \\  m_{1} x_{5}\\right), \\  \\left( x_{24}, \\  - \\sigma x_{22} + x_{21} x_{23} - x_{22} x_{7}\\right), \\  \\left( x_{25}, \\  288 s_{t} \\eta_{1}^{2}\\right), \\  \\left( x_{26}, \\  \\frac{c^{2} m_{0} x_{20}}{\\sigma x_{25} - x_{25}}\\right), \\  \\left( x_{27}, \\  14 x_{26}\\right), \\  \\left( x_{28}, \\  e_{0} x_{26}\\right), \\  \\left( x_{29}, \\  48 x_{28}\\right), \\  \\left( x_{30}, \\  42 x_{26}\\right), \\  \\left( x_{31}, \\  144 x_{28}\\right), \\  \\left( x_{32}, \\  e_{0}^{2} x_{26}\\right), \\  \\left( x_{33}, \\  96 x_{32}\\right), \\  \\left( x_{34}, \\  288 x_{32}\\right)\\right], \\  \\left[ \\left[\\begin{matrix}\\sigma^{5} x_{10} + \\sigma x_{11} - \\sigma x_{3} - x_{10} - x_{11} x_{4} - x_{12} x_{5} + x_{12} x_{7} + x_{2} x_{4} + x_{2} x_{6} + x_{2} - x_{3} x_{7} & x_{19} & x_{24}\\\\x_{19} & \\sigma x_{30} - \\sigma x_{31} + \\sigma x_{34} + x_{27} x_{7} - x_{27} - x_{29} x_{7} + x_{29} - x_{30} x_{5} + x_{31} x_{5} + x_{33} x_{7} - x_{33} - x_{34} x_{5} & 0\\\\x_{24} & 0 & \\frac{s_{t}^{2} x_{23}}{3}\\end{matrix}\\right]\\right]\\right)$"
      ],
      "text/plain": [
       "⎛                                                                             \n",
       "⎜                                                                             \n",
       "⎜⎡                                                                            \n",
       "⎜⎢⎛      4⎞  ⎛      2⎞  ⎛    m₁⋅x₀⎞              ⎛     4⎞  ⎛     2⎞           \n",
       "⎜⎢⎝x₀, sₜ ⎠, ⎝x₁, η₀ ⎠, ⎜x₂, ─────⎟, (x₃, 4⋅x₂), ⎝x₄, σ ⎠, ⎝x₅, σ ⎠, (x₆, 6⋅x₅\n",
       "⎜⎣                      ⎝      x₁ ⎠                                           \n",
       "⎜                                                                             \n",
       "⎜                                                                             \n",
       "⎝                                                                             \n",
       "\n",
       "                                                                              \n",
       "                                                                              \n",
       "                             ⎛           5 ⎞                                  \n",
       "   ⎛     3⎞                  ⎜      m₀⋅sₜ  ⎟                                  \n",
       "), ⎝x₇, σ ⎠, (x₈, 10⋅sₜ⋅x₁), ⎜x₉, ─────────⎟, (x₁₀, 2⋅x₉), (x₁₁, 10⋅x₉), (x₁₂,\n",
       "                             ⎝    σ⋅x₈ - x₈⎠                                  \n",
       "                                                                              \n",
       "                                                                              \n",
       "                                                                              \n",
       "\n",
       "                                                                              \n",
       "                                                                              \n",
       "                                                                              \n",
       "                             ⎛       c⋅m₀⋅x₀  ⎞                               \n",
       " 20⋅x₉), (x₁₃, 16⋅sₜ⋅η₀⋅η₁), ⎜x₁₄, ───────────⎟, (x₁₅, 4⋅x₁₄), (x₁₆, x₁₄⋅x₄), \n",
       "                             ⎝     σ⋅x₁₃ - x₁₃⎠                               \n",
       "                                                                              \n",
       "                                                                              \n",
       "                                                                              \n",
       "\n",
       "                                                                              \n",
       "                                                                              \n",
       "                                                                              \n",
       "                                                                              \n",
       "(x₁₇, e₀⋅x₁₄), (x₁₈, 16⋅x₁₇), (x₁₉, -e₀⋅x₁₅ - 4⋅e₀⋅x₁₆ - σ⋅x₁₅ + σ⋅x₁₈ + x₁₄⋅x\n",
       "                                                                              \n",
       "                                                                              \n",
       "                                                                              \n",
       "                                                                              \n",
       "\n",
       "                                                                              \n",
       "                                                                              \n",
       "                                                                              \n",
       "                                              ⎛       3⎞  ⎛     x₂₀⋅cos(q₂)⎞  \n",
       "₆ + x₁₄ - x₁₅⋅x₇ + x₁₆ - 24⋅x₁₇⋅x₅ + x₁₈⋅x₇), ⎝x₂₀, sₜ ⎠, ⎜x₂₁, ───────────⎟, \n",
       "                                                          ⎝          η₀    ⎠  \n",
       "                                                                              \n",
       "                                                                              \n",
       "                                                                              \n",
       "\n",
       "                                                                              \n",
       "                                                                              \n",
       "                                                                              \n",
       "⎛     m₁⋅x₂₁⎞                                                  ⎛              \n",
       "⎜x₂₂, ──────⎟, (x₂₃, m₁⋅x₅), (x₂₄, -σ⋅x₂₂ + x₂₁⋅x₂₃ - x₂₂⋅x₇), ⎝x₂₅, 288⋅sₜ⋅η₁\n",
       "⎝       2   ⎠                                                                 \n",
       "                                                                              \n",
       "                                                                              \n",
       "                                                                              \n",
       "\n",
       "                                                                              \n",
       "                                                                              \n",
       "    ⎛       2        ⎞                                                        \n",
       "2⎞  ⎜      c ⋅m₀⋅x₂₀ ⎟                                                        \n",
       " ⎠, ⎜x₂₆, ───────────⎟, (x₂₇, 14⋅x₂₆), (x₂₈, e₀⋅x₂₆), (x₂₉, 48⋅x₂₈), (x₃₀, 42⋅\n",
       "    ⎝     σ⋅x₂₅ - x₂₅⎠                                                        \n",
       "                                                                              \n",
       "                                                                              \n",
       "                                                                              \n",
       "\n",
       "                                                                      ⎡⎡ 5    \n",
       "                                                                      ⎢⎢σ ⋅x₁₀\n",
       "                                                                   ⎤  ⎢⎢      \n",
       "                      ⎛       2    ⎞                               ⎥  ⎢⎢      \n",
       "x₂₆), (x₃₁, 144⋅x₂₈), ⎝x₃₂, e₀ ⋅x₂₆⎠, (x₃₃, 96⋅x₃₂), (x₃₄, 288⋅x₃₂)⎥, ⎢⎢      \n",
       "                                                                   ⎦  ⎢⎢      \n",
       "                                                                      ⎢⎢      \n",
       "                                                                      ⎢⎢      \n",
       "                                                                      ⎣⎣      \n",
       "\n",
       "                                                                              \n",
       " + σ⋅x₁₁ - σ⋅x₃ - x₁₀ - x₁₁⋅x₄ - x₁₂⋅x₅ + x₁₂⋅x₇ + x₂⋅x₄ + x₂⋅x₆ + x₂ - x₃⋅x₇ \n",
       "                                                                              \n",
       "                                  x₁₉                                         \n",
       "                                                                              \n",
       "                                                                              \n",
       "                                                                              \n",
       "                                  x₂₄                                         \n",
       "                                                                              \n",
       "\n",
       "                                                                              \n",
       "                                              x₁₉                             \n",
       "                                                                              \n",
       " σ⋅x₃₀ - σ⋅x₃₁ + σ⋅x₃₄ + x₂₇⋅x₇ - x₂₇ - x₂₉⋅x₇ + x₂₉ - x₃₀⋅x₅ + x₃₁⋅x₅ + x₃₃⋅x\n",
       "                                                                              \n",
       "                                                                              \n",
       "                                                                              \n",
       "                                               0                              \n",
       "                                                                              \n",
       "\n",
       "                         ⎤⎤⎞\n",
       "                    x₂₄  ⎥⎥⎟\n",
       "                         ⎥⎥⎟\n",
       "₇ - x₃₃ - x₃₄⋅x₅     0   ⎥⎥⎟\n",
       "                         ⎥⎥⎟\n",
       "                    2    ⎥⎥⎟\n",
       "                  sₜ ⋅x₂₃⎥⎥⎟\n",
       "                  ───────⎥⎥⎟\n",
       "                     3   ⎦⎦⎠"
      ]
     },
     "execution_count": 48,
     "metadata": {},
     "output_type": "execute_result"
    }
   ],
   "source": [
    "sym.cse(sm.M)"
   ]
  },
  {
   "cell_type": "code",
   "execution_count": null,
   "metadata": {},
   "outputs": [],
   "source": []
  },
  {
   "cell_type": "code",
   "execution_count": null,
   "metadata": {},
   "outputs": [],
   "source": []
  },
  {
   "cell_type": "markdown",
   "metadata": {},
   "source": [
    "# Setup Numeric Model Parameters\n"
   ]
  },
  {
   "cell_type": "code",
   "execution_count": 5,
   "metadata": {},
   "outputs": [],
   "source": [
    "tmax, dt = 5, 0.01\n",
    "\n",
    "#set velocity and alpha_r funcs\n",
    "def Vfunc(t,x):\n",
    "    return 18\n",
    "\n",
    "def arfunc(t,x):\n",
    "    return np.deg2rad(5)\n",
    "    #return np.deg2rad(5)+np.sin(2*np.pi*1*t)*np.deg2rad(5)\n",
    "    \n",
    "p.V.value = Vfunc\n",
    "p.alpha_r.value = arfunc\n",
    "    \n",
    "## Get functions for Fwt AoA and its derivative\n",
    "fwt_aoa = mf.GetAoA(p.alpha_r,0,p.Lambda.value,p.q[-1])\n",
    "FwtAoA = sym.lambdify((p.alpha_r,p.x),fwt_aoa)\n",
    "DotFwtAoA = sym.lambdify((p.alpha_r,p.x),fwt_aoa.diff(me.dynamicsymbols._t))\n",
    "\n",
    "import types\n",
    "\n",
    "p.alpha_1.value = fwt_aoa\n",
    "p.alpha_1._dependent = True\n",
    "p.alpha_1.GetSub = types.MethodType(lambda self,t,x: fwt_aoa , p.alpha_1)\n",
    "p.alpha_1._GetValue = types.MethodType(lambda self,t,x : FwtAoA(arfunc(t,x),x) , p.alpha_1)\n",
    "\n",
    "p.alphadot_1.value = fwt_aoa.diff(time)\n",
    "p.alphadot_1._dependent = True\n",
    "p.alphadot_1.GetSub = types.MethodType(lambda self,t,x: self.value , p.alphadot_1)\n",
    "p.alphadot_1._GetValue = types.MethodType(lambda self,t,x : DotFwtAoA(arfunc(t,x),x), p.alphadot_1)\n",
    "\n",
    "\n",
    "\n",
    "ts = np.arange(0, tmax+dt, dt)\n",
    "\n",
    "constraints = [np.NaN]*p.qs*2\n",
    "const_idx = np.isnan(constraints)\n",
    "\n",
    "def objectiveDeriv(t,y):\n",
    "    deriv = sm.deriv(t,y,p.GetNumericTuple(y,t))\n",
    "    return tuple(np.where(const_idx,deriv,constraints))"
   ]
  },
  {
   "cell_type": "markdown",
   "metadata": {},
   "source": [
    "## create masses "
   ]
  },
  {
   "cell_type": "code",
   "execution_count": 6,
   "metadata": {
    "scrolled": true
   },
   "outputs": [],
   "source": [
    "y0 = [0]*p.qs*2\n",
    "sm_mini = sm.subs(p,{p.alpha_1:p.alpha_1.value,p.alphadot_1:p.alphadot_1.value})\n",
    "#sm_mini = sm_mini.subs(p,p.GetSubs(0,[0]*p.qs*2,ignore=[p.eta,p.EI,p.GJ,p.s_t,p.f_0,p.e_0,p.M_thetadot,p.V,p.alpha_1,p.alphadot_1,p.alpha_r]))\n",
    "\n",
    "def objectiveDeriv(t,y):\n",
    "    deriv = sm_mini.deriv(t,y,p.GetNumericTuple(y,t))\n",
    "    return tuple(np.where(const_idx,deriv,constraints))"
   ]
  },
  {
   "cell_type": "code",
   "execution_count": 7,
   "metadata": {},
   "outputs": [],
   "source": [
    "p.V.value = 30\n",
    "p.GJ.value = 100\n",
    "p.s_t.value = 1.345\n",
    "\n",
    "p.e_0.value = 0.2\n",
    "p.e_1.value = 0.2\n",
    "p.m_0.value = 1.5\n",
    "p.m_1.value = 0.25\n",
    "p.alpha_r.value = np.deg2rad(10)\n",
    "\n",
    "def objectiveDeriv(t,y):\n",
    "    deriv = sm_mini.deriv(t,y,p.GetNumericTuple(y,t))\n",
    "    return tuple(np.where(const_idx,deriv,constraints))\n",
    "\n",
    "#set velocity and alpha_r funcs\n",
    "def Vfunc(t,x):\n",
    "    return 20+np.array(t)\n",
    "\n",
    "p.V.value = Vfunc\n",
    "\n",
    "y0 = p.fp.value\n",
    "y0 = [0]*p.qs*2\n",
    "\n",
    "#yData = solve_ivp(objectiveDeriv,(0,tmax),yi[:,-1])"
   ]
  },
  {
   "cell_type": "code",
   "execution_count": 11,
   "metadata": {},
   "outputs": [
    {
     "name": "stdout",
     "output_type": "stream",
     "text": [
      " "
     ]
    }
   ],
   "source": [
    "sm_test = mf.SymbolicModel(p,sym.simplify(sm_mini.M),sym.simplify(sm_mini.f),sm_mini.T,sm_mini.U,ExtForces=sm_mini.ExtForces)\n",
    "sm_test2 = sm_test.subs(p,p.GetSubs(0,[0]*p.qs*2))\n"
   ]
  },
  {
   "cell_type": "code",
   "execution_count": 23,
   "metadata": {},
   "outputs": [
    {
     "name": "stdout",
     "output_type": "stream",
     "text": [
      " "
     ]
    }
   ],
   "source": [
    "def objectiveDeriv(t,y):\n",
    "    deriv = sm_test2.deriv(t,y,p.GetNumericTuple(y,t))\n",
    "    return tuple(np.where(const_idx,deriv,constraints))\n",
    "\n",
    "\n",
    "%prun -s tottime yData = solve_ivp(objectiveDeriv,(0,15),y0)"
   ]
  },
  {
   "cell_type": "code",
   "execution_count": 34,
   "metadata": {},
   "outputs": [
    {
     "name": "stdout",
     "output_type": "stream",
     "text": [
      "  "
     ]
    }
   ],
   "source": [
    "%prun -s tottime [sm_test2.deriv(i,y0,p.GetNumericTuple(y0,i)) for i in np.linspace(0,15,10001)]\n",
    "%prun -s tottime [p.GetNumericTuple(y0,i) for i in np.linspace(0,15,10001)]\n",
    "\n",
    "# %timeit -n 1000 sm_test2.deriv(0,y0,p.GetNumericTuple(y0,0))\n",
    "# %timeit -n 1000 sm_test2.M_func(tup,y0)\n",
    "#%timeit -n 1000 -r 1 sm_test2.f_func(tup,y0)\n",
    "#%timeit -n 1000 -r 1 sm_test2.ExtForces(tup,y0,t)\n",
    "#%timeit -n 1000 -r 1 sm_test2.ExtForces.forces[0](tup,y0,t)\n",
    "#%timeit -n 1000 -r 1 sm_test2.ExtForces.forces[1](tup,y0,t)"
   ]
  },
  {
   "cell_type": "code",
   "execution_count": 9,
   "metadata": {},
   "outputs": [
    {
     "name": "stdout",
     "output_type": "stream",
     "text": [
      "21.4 µs ± 0 ns per loop (mean ± std. dev. of 1 run, 1000 loops each)\n",
      "24.8 µs ± 0 ns per loop (mean ± std. dev. of 1 run, 1000 loops each)\n",
      "131 µs ± 0 ns per loop (mean ± std. dev. of 1 run, 1000 loops each)\n",
      "24.7 µs ± 0 ns per loop (mean ± std. dev. of 1 run, 1000 loops each)\n",
      "85.8 µs ± 0 ns per loop (mean ± std. dev. of 1 run, 1000 loops each)\n"
     ]
    }
   ],
   "source": [
    "y0 = [0]*p.qs*2\n",
    "t=0\n",
    "tup = p.GetNumericTuple(y0,t)\n",
    "%timeit -n 1000 -r 1 sm_mini.M_func(tup,y0)\n",
    "%timeit -n 1000 -r 1 sm_mini.f_func(tup,y0)\n",
    "%timeit -n 1000 -r 1 sm_mini.ExtForces(tup,y0,t)\n",
    "%timeit -n 1000 -r 1 sm_mini.ExtForces.forces[0](tup,y0,t)\n",
    "%timeit -n 1000 -r 1 sm_mini.ExtForces.forces[1](tup,y0,t)"
   ]
  },
  {
   "cell_type": "code",
   "execution_count": 37,
   "metadata": {},
   "outputs": [
    {
     "name": "stdout",
     "output_type": "stream",
     "text": [
      "47 µs ± 0 ns per loop (mean ± std. dev. of 1 run, 1000 loops each)\n",
      "46.9 µs ± 0 ns per loop (mean ± std. dev. of 1 run, 1000 loops each)\n",
      "282 µs ± 0 ns per loop (mean ± std. dev. of 1 run, 1000 loops each)\n",
      "32.7 µs ± 0 ns per loop (mean ± std. dev. of 1 run, 1000 loops each)\n",
      "249 µs ± 0 ns per loop (mean ± std. dev. of 1 run, 1000 loops each)\n"
     ]
    }
   ],
   "source": [
    "y0 = [0]*p.qs*2\n",
    "t=0\n",
    "tup = p.GetNumericTuple(y0,t)\n",
    "%timeit -n 1000 -r 1 sm_mini.M_func(tup,y0)\n",
    "%timeit -n 1000 -r 1 sm_mini.f_func(tup,y0)\n",
    "%timeit -n 1000 -r 1 sm_mini.ExtForces(tup,y0,t)\n",
    "%timeit -n 1000 -r 1 sm_mini.ExtForces.forces[0](tup,y0,t)\n",
    "%timeit -n 1000 -r 1 sm_mini.ExtForces.forces[1](tup,y0,t)"
   ]
  },
  {
   "cell_type": "code",
   "execution_count": 23,
   "metadata": {},
   "outputs": [],
   "source": [
    "sm_test = mf.SymbolicModel(p,sym.simplify(sm_mini.M),sym.simplify(sm_mini.f),sm_mini.T,sm_mini.U,ExtForces=sm_mini.ExtForces)"
   ]
  },
  {
   "cell_type": "code",
   "execution_count": 38,
   "metadata": {},
   "outputs": [],
   "source": [
    "sm_test2 = sm_mini.subs(p,p.GetSubs(0,[0]*p.qs*2))"
   ]
  },
  {
   "cell_type": "code",
   "execution_count": 39,
   "metadata": {},
   "outputs": [
    {
     "name": "stdout",
     "output_type": "stream",
     "text": [
      "8.35 µs ± 0 ns per loop (mean ± std. dev. of 1 run, 1000 loops each)\n",
      "10.5 µs ± 0 ns per loop (mean ± std. dev. of 1 run, 1000 loops each)\n",
      "33 µs ± 0 ns per loop (mean ± std. dev. of 1 run, 1000 loops each)\n",
      "5.57 µs ± 0 ns per loop (mean ± std. dev. of 1 run, 1000 loops each)\n",
      "23.3 µs ± 0 ns per loop (mean ± std. dev. of 1 run, 1000 loops each)\n"
     ]
    }
   ],
   "source": [
    "y0 = [0]*p.qs*2\n",
    "t=0\n",
    "tup = p.GetNumericTuple(y0,t)\n",
    "%timeit -n 1000 -r 1 sm_test2.M_func(tup,y0)\n",
    "%timeit -n 1000 -r 1 sm_test2.f_func(tup,y0)\n",
    "%timeit -n 1000 -r 1 sm_test2.ExtForces(tup,y0,t)\n",
    "%timeit -n 1000 -r 1 sm_test2.ExtForces.forces[0](tup,y0,t)\n",
    "%timeit -n 1000 -r 1 sm_test2.ExtForces.forces[1](tup,y0,t)"
   ]
  },
  {
   "cell_type": "code",
   "execution_count": 73,
   "metadata": {},
   "outputs": [
    {
     "name": "stdout",
     "output_type": "stream",
     "text": [
      "CPU times: user 944 ms, sys: 3.57 ms, total: 948 ms\n",
      "Wall time: 948 ms\n"
     ]
    },
    {
     "data": {
      "text/latex": [
       "$\\displaystyle \\left[\\begin{matrix}\\frac{s_{t}^{2} \\left(\\sigma - 1\\right)^{2} \\operatorname{cos}\\left(q_{2}\\right)}{\\eta_{0}}\\\\- \\frac{s_{t}^{3} \\left(\\sigma - 1\\right)^{3} \\operatorname{cos}\\left(q_{2}\\right)}{\\eta_{1}}\\\\- y_{1}\\end{matrix}\\right]$"
      ],
      "text/plain": [
       "⎡   2        2         ⎤\n",
       "⎢ sₜ ⋅(σ - 1) ⋅cos(q₂) ⎥\n",
       "⎢ ──────────────────── ⎥\n",
       "⎢          η₀          ⎥\n",
       "⎢                      ⎥\n",
       "⎢   3        3         ⎥\n",
       "⎢-sₜ ⋅(σ - 1) ⋅cos(q₂) ⎥\n",
       "⎢──────────────────────⎥\n",
       "⎢          η₁          ⎥\n",
       "⎢                      ⎥\n",
       "⎣         -y₁          ⎦"
      ]
     },
     "execution_count": 73,
     "metadata": {},
     "output_type": "execute_result"
    }
   ],
   "source": [
    "%%time \n",
    "T = fwt_flexural_frame\n",
    "inv = T.Inverse().E\n",
    "J = sym.zeros(6,len(p.q))\n",
    "for i,qi in enumerate(p.q):\n",
    "    J[:,i] = mf.Vee(T.E.diff(qi)*inv)\n",
    "#MJ = sym.trigsimp(sym.powsimp(sym.cancel(sym.expand(J))))\n",
    "MJ = J\n",
    "#IA = sym.trigsimp(sym.powsimp(sym.cancel(sym.expand(fwt_flexural_frame.InvAdjoint()))))\n",
    "IA = T.InvAdjoint()\n",
    "comb = sym.trigsimp(sym.powsimp(sym.cancel(sym.expand(MJ.T * IA.T))))\n",
    "#comb = MJ.T*IA.T\n",
    "comb*sym.Matrix([0,0,1,0,0,0])"
   ]
  },
  {
   "cell_type": "code",
   "execution_count": 36,
   "metadata": {},
   "outputs": [
    {
     "name": "stdout",
     "output_type": "stream",
     "text": [
      "CPU times: user 13.4 s, sys: 25.1 ms, total: 13.4 s\n",
      "Wall time: 13.4 s\n",
      "CPU times: user 6.06 s, sys: 6.78 ms, total: 6.06 s\n",
      "Wall time: 6.07 s\n",
      "CPU times: user 11.2 ms, sys: 176 µs, total: 11.4 ms\n",
      "Wall time: 11.4 ms\n"
     ]
    },
    {
     "data": {
      "text/latex": [
       "$\\displaystyle \\left[\\begin{matrix}\\operatorname{cos}\\left(\\alpha_{r}\\right) & 0 & - \\operatorname{sin}\\left(\\alpha_{r}\\right) & \\left(- s_{t} \\left(1 - \\sigma\\right) - y_{1} \\operatorname{cos}\\left(q_{2}\\right)\\right) \\operatorname{sin}\\left(\\alpha_{r}\\right) & \\left(- y_{1} \\operatorname{sin}\\left(\\alpha_{r}\\right) \\operatorname{sin}\\left(q_{2}\\right) + \\left(- c e_{0} - \\frac{c}{4}\\right) \\operatorname{cos}\\left(\\alpha_{r}\\right) + \\left(c e_{0} + \\frac{c}{4}\\right) \\operatorname{cos}\\left(\\alpha_{r}\\right) + \\left(c e_{1} + \\frac{c}{4}\\right) \\operatorname{cos}\\left(\\alpha_{r}\\right) + \\left(\\frac{s_{t}^{3} \\left(1 - \\sigma\\right)^{3} q_{1}}{\\eta_{1}} + \\frac{s_{t}^{2} \\left(1 - \\sigma\\right)^{2} q_{0}}{\\eta_{0}}\\right) \\operatorname{sin}\\left(\\alpha_{r}\\right)\\right) \\operatorname{sin}\\left(\\alpha_{r}\\right) - \\left(y_{1} \\operatorname{sin}\\left(q_{2}\\right) \\operatorname{cos}\\left(\\alpha_{r}\\right) + \\left(- c e_{0} - \\frac{c}{4}\\right) \\operatorname{sin}\\left(\\alpha_{r}\\right) + \\left(c e_{0} + \\frac{c}{4}\\right) \\operatorname{sin}\\left(\\alpha_{r}\\right) + \\left(c e_{1} + \\frac{c}{4}\\right) \\operatorname{sin}\\left(\\alpha_{r}\\right) - \\left(\\frac{s_{t}^{3} \\left(1 - \\sigma\\right)^{3} q_{1}}{\\eta_{1}} + \\frac{s_{t}^{2} \\left(1 - \\sigma\\right)^{2} q_{0}}{\\eta_{0}}\\right) \\operatorname{cos}\\left(\\alpha_{r}\\right)\\right) \\operatorname{cos}\\left(\\alpha_{r}\\right) & - \\left(s_{t} \\left(1 - \\sigma\\right) + y_{1} \\operatorname{cos}\\left(q_{2}\\right)\\right) \\operatorname{cos}\\left(\\alpha_{r}\\right)\\\\- \\operatorname{sin}\\left(\\alpha_{r}\\right) \\operatorname{sin}\\left(q_{2}\\right) & \\operatorname{cos}\\left(q_{2}\\right) & - \\operatorname{sin}\\left(q_{2}\\right) \\operatorname{cos}\\left(\\alpha_{r}\\right) & \\left(- s_{t} \\left(1 - \\sigma\\right) - y_{1} \\operatorname{cos}\\left(q_{2}\\right)\\right) \\operatorname{sin}\\left(q_{2}\\right) \\operatorname{cos}\\left(\\alpha_{r}\\right) - \\left(- y_{1} \\operatorname{sin}\\left(q_{2}\\right) \\operatorname{cos}\\left(\\alpha_{r}\\right) - \\left(- c e_{0} - \\frac{c}{4}\\right) \\operatorname{sin}\\left(\\alpha_{r}\\right) - \\left(c e_{0} + \\frac{c}{4}\\right) \\operatorname{sin}\\left(\\alpha_{r}\\right) - \\left(c e_{1} + \\frac{c}{4}\\right) \\operatorname{sin}\\left(\\alpha_{r}\\right) + \\left(\\frac{s_{t}^{3} \\left(1 - \\sigma\\right)^{3} q_{1}}{\\eta_{1}} + \\frac{s_{t}^{2} \\left(1 - \\sigma\\right)^{2} q_{0}}{\\eta_{0}}\\right) \\operatorname{cos}\\left(\\alpha_{r}\\right)\\right) \\operatorname{cos}\\left(q_{2}\\right) & \\left(- y_{1} \\operatorname{sin}\\left(\\alpha_{r}\\right) \\operatorname{sin}\\left(q_{2}\\right) + \\left(- c e_{0} - \\frac{c}{4}\\right) \\operatorname{cos}\\left(\\alpha_{r}\\right) + \\left(c e_{0} + \\frac{c}{4}\\right) \\operatorname{cos}\\left(\\alpha_{r}\\right) + \\left(c e_{1} + \\frac{c}{4}\\right) \\operatorname{cos}\\left(\\alpha_{r}\\right) + \\left(\\frac{s_{t}^{3} \\left(1 - \\sigma\\right)^{3} q_{1}}{\\eta_{1}} + \\frac{s_{t}^{2} \\left(1 - \\sigma\\right)^{2} q_{0}}{\\eta_{0}}\\right) \\operatorname{sin}\\left(\\alpha_{r}\\right)\\right) \\operatorname{sin}\\left(q_{2}\\right) \\operatorname{cos}\\left(\\alpha_{r}\\right) + \\left(y_{1} \\operatorname{sin}\\left(q_{2}\\right) \\operatorname{cos}\\left(\\alpha_{r}\\right) + \\left(- c e_{0} - \\frac{c}{4}\\right) \\operatorname{sin}\\left(\\alpha_{r}\\right) + \\left(c e_{0} + \\frac{c}{4}\\right) \\operatorname{sin}\\left(\\alpha_{r}\\right) + \\left(c e_{1} + \\frac{c}{4}\\right) \\operatorname{sin}\\left(\\alpha_{r}\\right) - \\left(\\frac{s_{t}^{3} \\left(1 - \\sigma\\right)^{3} q_{1}}{\\eta_{1}} + \\frac{s_{t}^{2} \\left(1 - \\sigma\\right)^{2} q_{0}}{\\eta_{0}}\\right) \\operatorname{cos}\\left(\\alpha_{r}\\right)\\right) \\operatorname{sin}\\left(\\alpha_{r}\\right) \\operatorname{sin}\\left(q_{2}\\right) & \\left(s_{t} \\left(1 - \\sigma\\right) + y_{1} \\operatorname{cos}\\left(q_{2}\\right)\\right) \\operatorname{sin}\\left(\\alpha_{r}\\right) \\operatorname{sin}\\left(q_{2}\\right) - \\left(y_{1} \\operatorname{sin}\\left(\\alpha_{r}\\right) \\operatorname{sin}\\left(q_{2}\\right) - \\left(- c e_{0} - \\frac{c}{4}\\right) \\operatorname{cos}\\left(\\alpha_{r}\\right) - \\left(c e_{0} + \\frac{c}{4}\\right) \\operatorname{cos}\\left(\\alpha_{r}\\right) - \\left(c e_{1} + \\frac{c}{4}\\right) \\operatorname{cos}\\left(\\alpha_{r}\\right) - \\left(\\frac{s_{t}^{3} \\left(1 - \\sigma\\right)^{3} q_{1}}{\\eta_{1}} + \\frac{s_{t}^{2} \\left(1 - \\sigma\\right)^{2} q_{0}}{\\eta_{0}}\\right) \\operatorname{sin}\\left(\\alpha_{r}\\right)\\right) \\operatorname{cos}\\left(q_{2}\\right)\\\\\\operatorname{sin}\\left(\\alpha_{r}\\right) \\operatorname{cos}\\left(q_{2}\\right) & \\operatorname{sin}\\left(q_{2}\\right) & \\operatorname{cos}\\left(\\alpha_{r}\\right) \\operatorname{cos}\\left(q_{2}\\right) & - \\left(- s_{t} \\left(1 - \\sigma\\right) - y_{1} \\operatorname{cos}\\left(q_{2}\\right)\\right) \\operatorname{cos}\\left(\\alpha_{r}\\right) \\operatorname{cos}\\left(q_{2}\\right) - \\left(- y_{1} \\operatorname{sin}\\left(q_{2}\\right) \\operatorname{cos}\\left(\\alpha_{r}\\right) - \\left(- c e_{0} - \\frac{c}{4}\\right) \\operatorname{sin}\\left(\\alpha_{r}\\right) - \\left(c e_{0} + \\frac{c}{4}\\right) \\operatorname{sin}\\left(\\alpha_{r}\\right) - \\left(c e_{1} + \\frac{c}{4}\\right) \\operatorname{sin}\\left(\\alpha_{r}\\right) + \\left(\\frac{s_{t}^{3} \\left(1 - \\sigma\\right)^{3} q_{1}}{\\eta_{1}} + \\frac{s_{t}^{2} \\left(1 - \\sigma\\right)^{2} q_{0}}{\\eta_{0}}\\right) \\operatorname{cos}\\left(\\alpha_{r}\\right)\\right) \\operatorname{sin}\\left(q_{2}\\right) & - \\left(- y_{1} \\operatorname{sin}\\left(\\alpha_{r}\\right) \\operatorname{sin}\\left(q_{2}\\right) + \\left(- c e_{0} - \\frac{c}{4}\\right) \\operatorname{cos}\\left(\\alpha_{r}\\right) + \\left(c e_{0} + \\frac{c}{4}\\right) \\operatorname{cos}\\left(\\alpha_{r}\\right) + \\left(c e_{1} + \\frac{c}{4}\\right) \\operatorname{cos}\\left(\\alpha_{r}\\right) + \\left(\\frac{s_{t}^{3} \\left(1 - \\sigma\\right)^{3} q_{1}}{\\eta_{1}} + \\frac{s_{t}^{2} \\left(1 - \\sigma\\right)^{2} q_{0}}{\\eta_{0}}\\right) \\operatorname{sin}\\left(\\alpha_{r}\\right)\\right) \\operatorname{cos}\\left(\\alpha_{r}\\right) \\operatorname{cos}\\left(q_{2}\\right) - \\left(y_{1} \\operatorname{sin}\\left(q_{2}\\right) \\operatorname{cos}\\left(\\alpha_{r}\\right) + \\left(- c e_{0} - \\frac{c}{4}\\right) \\operatorname{sin}\\left(\\alpha_{r}\\right) + \\left(c e_{0} + \\frac{c}{4}\\right) \\operatorname{sin}\\left(\\alpha_{r}\\right) + \\left(c e_{1} + \\frac{c}{4}\\right) \\operatorname{sin}\\left(\\alpha_{r}\\right) - \\left(\\frac{s_{t}^{3} \\left(1 - \\sigma\\right)^{3} q_{1}}{\\eta_{1}} + \\frac{s_{t}^{2} \\left(1 - \\sigma\\right)^{2} q_{0}}{\\eta_{0}}\\right) \\operatorname{cos}\\left(\\alpha_{r}\\right)\\right) \\operatorname{sin}\\left(\\alpha_{r}\\right) \\operatorname{cos}\\left(q_{2}\\right) & - \\left(s_{t} \\left(1 - \\sigma\\right) + y_{1} \\operatorname{cos}\\left(q_{2}\\right)\\right) \\operatorname{sin}\\left(\\alpha_{r}\\right) \\operatorname{cos}\\left(q_{2}\\right) - \\left(y_{1} \\operatorname{sin}\\left(\\alpha_{r}\\right) \\operatorname{sin}\\left(q_{2}\\right) - \\left(- c e_{0} - \\frac{c}{4}\\right) \\operatorname{cos}\\left(\\alpha_{r}\\right) - \\left(c e_{0} + \\frac{c}{4}\\right) \\operatorname{cos}\\left(\\alpha_{r}\\right) - \\left(c e_{1} + \\frac{c}{4}\\right) \\operatorname{cos}\\left(\\alpha_{r}\\right) - \\left(\\frac{s_{t}^{3} \\left(1 - \\sigma\\right)^{3} q_{1}}{\\eta_{1}} + \\frac{s_{t}^{2} \\left(1 - \\sigma\\right)^{2} q_{0}}{\\eta_{0}}\\right) \\operatorname{sin}\\left(\\alpha_{r}\\right)\\right) \\operatorname{sin}\\left(q_{2}\\right)\\\\0 & 0 & 0 & \\operatorname{cos}\\left(\\alpha_{r}\\right) & 0 & - \\operatorname{sin}\\left(\\alpha_{r}\\right)\\\\0 & 0 & 0 & - \\operatorname{sin}\\left(\\alpha_{r}\\right) \\operatorname{sin}\\left(q_{2}\\right) & \\operatorname{cos}\\left(q_{2}\\right) & - \\operatorname{sin}\\left(q_{2}\\right) \\operatorname{cos}\\left(\\alpha_{r}\\right)\\\\0 & 0 & 0 & \\operatorname{sin}\\left(\\alpha_{r}\\right) \\operatorname{cos}\\left(q_{2}\\right) & \\operatorname{sin}\\left(q_{2}\\right) & \\operatorname{cos}\\left(\\alpha_{r}\\right) \\operatorname{cos}\\left(q_{2}\\right)\\end{matrix}\\right]$"
      ],
      "text/plain": [
       "⎡                                                                             \n",
       "⎢                                                                             \n",
       "⎢    cos(αᵣ)          0         -sin(αᵣ)                                      \n",
       "⎢                                                                             \n",
       "⎢                                                                             \n",
       "⎢                                                                             \n",
       "⎢                                                                             \n",
       "⎢-sin(αᵣ)⋅sin(q₂)  cos(q₂)  -sin(q₂)⋅cos(αᵣ)  (-sₜ⋅(1 - σ) - y₁⋅cos(q₂))⋅sin(q\n",
       "⎢                                                                             \n",
       "⎢                                                                             \n",
       "⎢                                                                             \n",
       "⎢                                                                             \n",
       "⎢sin(αᵣ)⋅cos(q₂)   sin(q₂)  cos(αᵣ)⋅cos(q₂)   -(-sₜ⋅(1 - σ) - y₁⋅cos(q₂))⋅cos(\n",
       "⎢                                                                             \n",
       "⎢                                                                             \n",
       "⎢       0             0            0                                          \n",
       "⎢                                                                             \n",
       "⎢       0             0            0                                          \n",
       "⎢                                                                             \n",
       "⎣       0             0            0                                          \n",
       "\n",
       "                                                                              \n",
       "                                                                              \n",
       "                                           (-sₜ⋅(1 - σ) - y₁⋅cos(q₂))⋅sin(αᵣ) \n",
       "                                                                              \n",
       "                                                                              \n",
       "             ⎛                                                                \n",
       "             ⎜                      ⎛        c⎞           ⎛       c⎞          \n",
       "₂)⋅cos(αᵣ) - ⎜-y₁⋅sin(q₂)⋅cos(αᵣ) - ⎜-c⋅e₀ - ─⎟⋅sin(αᵣ) - ⎜c⋅e₀ + ─⎟⋅sin(αᵣ) -\n",
       "             ⎝                      ⎝        4⎠           ⎝       4⎠          \n",
       "                                                                              \n",
       "              ⎛                                                               \n",
       "              ⎜                      ⎛        c⎞           ⎛       c⎞         \n",
       "αᵣ)⋅cos(q₂) - ⎜-y₁⋅sin(q₂)⋅cos(αᵣ) - ⎜-c⋅e₀ - ─⎟⋅sin(αᵣ) - ⎜c⋅e₀ + ─⎟⋅sin(αᵣ) \n",
       "              ⎝                      ⎝        4⎠           ⎝       4⎠         \n",
       "                                                                              \n",
       "                                                         cos(αᵣ)              \n",
       "                                                                              \n",
       "                                                    -sin(αᵣ)⋅sin(q₂)          \n",
       "                                                                              \n",
       "                                                     sin(αᵣ)⋅cos(q₂)          \n",
       "\n",
       "                                                                              \n",
       "                                                                              \n",
       "                                                                              \n",
       "                                                                              \n",
       "                                                                              \n",
       "                      ⎛  3        3        2        2   ⎞        ⎞            \n",
       " ⎛       c⎞           ⎜sₜ ⋅(1 - σ) ⋅q₁   sₜ ⋅(1 - σ) ⋅q₀⎟        ⎟            \n",
       " ⎜c⋅e₁ + ─⎟⋅sin(αᵣ) + ⎜─────────────── + ───────────────⎟⋅cos(αᵣ)⎟⋅cos(q₂)    \n",
       " ⎝       4⎠           ⎝       η₁                η₀      ⎠        ⎠            \n",
       "                                                                              \n",
       "                       ⎛  3        3        2        2   ⎞        ⎞           \n",
       "  ⎛       c⎞           ⎜sₜ ⋅(1 - σ) ⋅q₁   sₜ ⋅(1 - σ) ⋅q₀⎟        ⎟           \n",
       "- ⎜c⋅e₁ + ─⎟⋅sin(αᵣ) + ⎜─────────────── + ───────────────⎟⋅cos(αᵣ)⎟⋅sin(q₂)  -\n",
       "  ⎝       4⎠           ⎝       η₁                η₀      ⎠        ⎠           \n",
       "                                                                              \n",
       "                                                                              \n",
       "                                                                              \n",
       "                                                                              \n",
       "                                                                              \n",
       "                                                                              \n",
       "\n",
       "        ⎛                                                                     \n",
       "        ⎜                      ⎛        c⎞           ⎛       c⎞           ⎛   \n",
       "        ⎜-y₁⋅sin(αᵣ)⋅sin(q₂) + ⎜-c⋅e₀ - ─⎟⋅cos(αᵣ) + ⎜c⋅e₀ + ─⎟⋅cos(αᵣ) + ⎜c⋅e\n",
       "        ⎝                      ⎝        4⎠           ⎝       4⎠           ⎝   \n",
       "                                                                              \n",
       "⎛                                                                             \n",
       "⎜                      ⎛        c⎞           ⎛       c⎞           ⎛       c⎞  \n",
       "⎜-y₁⋅sin(αᵣ)⋅sin(q₂) + ⎜-c⋅e₀ - ─⎟⋅cos(αᵣ) + ⎜c⋅e₀ + ─⎟⋅cos(αᵣ) + ⎜c⋅e₁ + ─⎟⋅c\n",
       "⎝                      ⎝        4⎠           ⎝       4⎠           ⎝       4⎠  \n",
       "                                                                              \n",
       " ⎛                                                                            \n",
       " ⎜                      ⎛        c⎞           ⎛       c⎞           ⎛       c⎞ \n",
       " ⎜-y₁⋅sin(αᵣ)⋅sin(q₂) + ⎜-c⋅e₀ - ─⎟⋅cos(αᵣ) + ⎜c⋅e₀ + ─⎟⋅cos(αᵣ) + ⎜c⋅e₁ + ─⎟⋅\n",
       " ⎝                      ⎝        4⎠           ⎝       4⎠           ⎝       4⎠ \n",
       "                                                                              \n",
       "                                                                              \n",
       "                                                                              \n",
       "                                                                              \n",
       "                                                                              \n",
       "                                                                              \n",
       "\n",
       "                 ⎛  3        3        2        2   ⎞        ⎞           ⎛     \n",
       "    c⎞           ⎜sₜ ⋅(1 - σ) ⋅q₁   sₜ ⋅(1 - σ) ⋅q₀⎟        ⎟           ⎜     \n",
       "₁ + ─⎟⋅cos(αᵣ) + ⎜─────────────── + ───────────────⎟⋅sin(αᵣ)⎟⋅sin(αᵣ) - ⎜y₁⋅si\n",
       "    4⎠           ⎝       η₁                η₀      ⎠        ⎠           ⎝     \n",
       "                                                                              \n",
       "         ⎛  3        3        2        2   ⎞        ⎞                   ⎛     \n",
       "         ⎜sₜ ⋅(1 - σ) ⋅q₁   sₜ ⋅(1 - σ) ⋅q₀⎟        ⎟                   ⎜     \n",
       "os(αᵣ) + ⎜─────────────── + ───────────────⎟⋅sin(αᵣ)⎟⋅sin(q₂)⋅cos(αᵣ) + ⎜y₁⋅si\n",
       "         ⎝       η₁                η₀      ⎠        ⎠                   ⎝     \n",
       "                                                                              \n",
       "          ⎛  3        3        2        2   ⎞        ⎞                   ⎛    \n",
       "          ⎜sₜ ⋅(1 - σ) ⋅q₁   sₜ ⋅(1 - σ) ⋅q₀⎟        ⎟                   ⎜    \n",
       "cos(αᵣ) + ⎜─────────────── + ───────────────⎟⋅sin(αᵣ)⎟⋅cos(αᵣ)⋅cos(q₂) - ⎜y₁⋅s\n",
       "          ⎝       η₁                η₀      ⎠        ⎠                   ⎝    \n",
       "                                                                              \n",
       "                                                                     0        \n",
       "                                                                              \n",
       "                                                                  cos(q₂)     \n",
       "                                                                              \n",
       "                                                                  sin(q₂)     \n",
       "\n",
       "                                                                              \n",
       "                ⎛        c⎞           ⎛       c⎞           ⎛       c⎞         \n",
       "n(q₂)⋅cos(αᵣ) + ⎜-c⋅e₀ - ─⎟⋅sin(αᵣ) + ⎜c⋅e₀ + ─⎟⋅sin(αᵣ) + ⎜c⋅e₁ + ─⎟⋅sin(αᵣ) \n",
       "                ⎝        4⎠           ⎝       4⎠           ⎝       4⎠         \n",
       "                                                                              \n",
       "                                                                              \n",
       "                ⎛        c⎞           ⎛       c⎞           ⎛       c⎞         \n",
       "n(q₂)⋅cos(αᵣ) + ⎜-c⋅e₀ - ─⎟⋅sin(αᵣ) + ⎜c⋅e₀ + ─⎟⋅sin(αᵣ) + ⎜c⋅e₁ + ─⎟⋅sin(αᵣ) \n",
       "                ⎝        4⎠           ⎝       4⎠           ⎝       4⎠         \n",
       "                                                                              \n",
       "                                                                              \n",
       "                 ⎛        c⎞           ⎛       c⎞           ⎛       c⎞        \n",
       "in(q₂)⋅cos(αᵣ) + ⎜-c⋅e₀ - ─⎟⋅sin(αᵣ) + ⎜c⋅e₀ + ─⎟⋅sin(αᵣ) + ⎜c⋅e₁ + ─⎟⋅sin(αᵣ)\n",
       "                 ⎝        4⎠           ⎝       4⎠           ⎝       4⎠        \n",
       "                                                                              \n",
       "                                                                              \n",
       "                                                                              \n",
       "                                                                              \n",
       "                                                                              \n",
       "                                                                              \n",
       "\n",
       "  ⎛  3        3        2        2   ⎞        ⎞                                \n",
       "  ⎜sₜ ⋅(1 - σ) ⋅q₁   sₜ ⋅(1 - σ) ⋅q₀⎟        ⎟                                \n",
       "- ⎜─────────────── + ───────────────⎟⋅cos(αᵣ)⎟⋅cos(αᵣ)                        \n",
       "  ⎝       η₁                η₀      ⎠        ⎠                                \n",
       "                                                                              \n",
       "  ⎛  3        3        2        2   ⎞        ⎞                                \n",
       "  ⎜sₜ ⋅(1 - σ) ⋅q₁   sₜ ⋅(1 - σ) ⋅q₀⎟        ⎟                                \n",
       "- ⎜─────────────── + ───────────────⎟⋅cos(αᵣ)⎟⋅sin(αᵣ)⋅sin(q₂)   (sₜ⋅(1 - σ) +\n",
       "  ⎝       η₁                η₀      ⎠        ⎠                                \n",
       "                                                                              \n",
       "   ⎛  3        3        2        2   ⎞        ⎞                               \n",
       "   ⎜sₜ ⋅(1 - σ) ⋅q₁   sₜ ⋅(1 - σ) ⋅q₀⎟        ⎟                               \n",
       " - ⎜─────────────── + ───────────────⎟⋅cos(αᵣ)⎟⋅sin(αᵣ)⋅cos(q₂)  -(sₜ⋅(1 - σ) \n",
       "   ⎝       η₁                η₀      ⎠        ⎠                               \n",
       "                                                                              \n",
       "                                                                              \n",
       "                                                                              \n",
       "                                                                              \n",
       "                                                                              \n",
       "                                                                              \n",
       "\n",
       "                                                                              \n",
       "                                                                              \n",
       "                                                             -(sₜ⋅(1 - σ) + y₁\n",
       "                                                                              \n",
       "                                                                              \n",
       "                               ⎛                                              \n",
       "                               ⎜                     ⎛        c⎞           ⎛  \n",
       " y₁⋅cos(q₂))⋅sin(αᵣ)⋅sin(q₂) - ⎜y₁⋅sin(αᵣ)⋅sin(q₂) - ⎜-c⋅e₀ - ─⎟⋅cos(αᵣ) - ⎜c⋅\n",
       "                               ⎝                     ⎝        4⎠           ⎝  \n",
       "                                                                              \n",
       "                                ⎛                                             \n",
       "                                ⎜                     ⎛        c⎞           ⎛ \n",
       "+ y₁⋅cos(q₂))⋅sin(αᵣ)⋅cos(q₂) - ⎜y₁⋅sin(αᵣ)⋅sin(q₂) - ⎜-c⋅e₀ - ─⎟⋅cos(αᵣ) - ⎜c\n",
       "                                ⎝                     ⎝        4⎠           ⎝ \n",
       "                                                                              \n",
       "                                                                          -sin\n",
       "                                                                              \n",
       "                                                                      -sin(q₂)\n",
       "                                                                              \n",
       "                                                                       cos(αᵣ)\n",
       "\n",
       "                                                                              \n",
       "                                                                              \n",
       "⋅cos(q₂))⋅cos(αᵣ)                                                             \n",
       "                                                                              \n",
       "                                                                              \n",
       "                                       ⎛  3        3        2        2   ⎞    \n",
       "     c⎞           ⎛       c⎞           ⎜sₜ ⋅(1 - σ) ⋅q₁   sₜ ⋅(1 - σ) ⋅q₀⎟    \n",
       "e₀ + ─⎟⋅cos(αᵣ) - ⎜c⋅e₁ + ─⎟⋅cos(αᵣ) - ⎜─────────────── + ───────────────⎟⋅sin\n",
       "     4⎠           ⎝       4⎠           ⎝       η₁                η₀      ⎠    \n",
       "                                                                              \n",
       "                                        ⎛  3        3        2        2   ⎞   \n",
       "      c⎞           ⎛       c⎞           ⎜sₜ ⋅(1 - σ) ⋅q₁   sₜ ⋅(1 - σ) ⋅q₀⎟   \n",
       "⋅e₀ + ─⎟⋅cos(αᵣ) - ⎜c⋅e₁ + ─⎟⋅cos(αᵣ) - ⎜─────────────── + ───────────────⎟⋅si\n",
       "      4⎠           ⎝       4⎠           ⎝       η₁                η₀      ⎠   \n",
       "                                                                              \n",
       "(αᵣ)                                                                          \n",
       "                                                                              \n",
       "⋅cos(αᵣ)                                                                      \n",
       "                                                                              \n",
       "⋅cos(q₂)                                                                      \n",
       "\n",
       "              ⎤\n",
       "              ⎥\n",
       "              ⎥\n",
       "              ⎥\n",
       "              ⎥\n",
       "    ⎞         ⎥\n",
       "    ⎟         ⎥\n",
       "(αᵣ)⎟⋅cos(q₂) ⎥\n",
       "    ⎠         ⎥\n",
       "              ⎥\n",
       "     ⎞        ⎥\n",
       "     ⎟        ⎥\n",
       "n(αᵣ)⎟⋅sin(q₂)⎥\n",
       "     ⎠        ⎥\n",
       "              ⎥\n",
       "              ⎥\n",
       "              ⎥\n",
       "              ⎥\n",
       "              ⎥\n",
       "              ⎦"
      ]
     },
     "execution_count": 36,
     "metadata": {},
     "output_type": "execute_result"
    }
   ],
   "source": [
    "%time sym.trigsimp(fwt_flexural_frame.InvAdjoint())\n",
    "%time sym.trigsimp(sym.powsimp(sym.cancel(sym.expand(fwt_flexural_frame.InvAdjoint()))))\n",
    "%time fwt_flexural_frame.InvAdjoint()"
   ]
  },
  {
   "cell_type": "code",
   "execution_count": 31,
   "metadata": {},
   "outputs": [
    {
     "data": {
      "image/png": "[encoded data removed]",
      "text/latex": [
       "$\\displaystyle \\frac{4 c e_{1} \\eta_{0} \\eta_{1} \\operatorname{sin}\\left(\\alpha_{r}\\right) \\operatorname{cos}\\left(q_{2}\\right) + c \\eta_{0} \\eta_{1} \\operatorname{sin}\\left(\\alpha_{r}\\right) \\operatorname{cos}\\left(q_{2}\\right) + 4 s_{t}^{3} \\sigma^{3} \\eta_{0} q_{1} \\operatorname{cos}\\left(\\alpha_{r}\\right) \\operatorname{cos}\\left(q_{2}\\right) - 12 s_{t}^{3} \\sigma^{2} \\eta_{0} q_{1} \\operatorname{cos}\\left(\\alpha_{r}\\right) \\operatorname{cos}\\left(q_{2}\\right) + 12 s_{t}^{3} \\sigma \\eta_{0} q_{1} \\operatorname{cos}\\left(\\alpha_{r}\\right) \\operatorname{cos}\\left(q_{2}\\right) - 4 s_{t}^{3} \\eta_{0} q_{1} \\operatorname{cos}\\left(\\alpha_{r}\\right) \\operatorname{cos}\\left(q_{2}\\right) - 4 s_{t}^{2} \\sigma^{2} \\eta_{1} q_{0} \\operatorname{cos}\\left(\\alpha_{r}\\right) \\operatorname{cos}\\left(q_{2}\\right) + 8 s_{t}^{2} \\sigma \\eta_{1} q_{0} \\operatorname{cos}\\left(\\alpha_{r}\\right) \\operatorname{cos}\\left(q_{2}\\right) - 4 s_{t}^{2} \\eta_{1} q_{0} \\operatorname{cos}\\left(\\alpha_{r}\\right) \\operatorname{cos}\\left(q_{2}\\right) + 4 s_{t} \\sigma \\eta_{0} \\eta_{1} \\operatorname{sin}\\left(q_{2}\\right) \\operatorname{cos}\\left(\\alpha_{r}\\right) - 4 s_{t} \\eta_{0} \\eta_{1} \\operatorname{sin}\\left(q_{2}\\right) \\operatorname{cos}\\left(\\alpha_{r}\\right)}{4 \\eta_{0} \\eta_{1}}$"
      ],
      "text/plain": [
       "                                                             3  3             \n",
       "4⋅c⋅e₁⋅η₀⋅η₁⋅sin(αᵣ)⋅cos(q₂) + c⋅η₀⋅η₁⋅sin(αᵣ)⋅cos(q₂) + 4⋅sₜ ⋅σ ⋅η₀⋅q₁⋅cos(αᵣ\n",
       "──────────────────────────────────────────────────────────────────────────────\n",
       "                                                                              \n",
       "\n",
       "                 3  2                              3                          \n",
       ")⋅cos(q₂) - 12⋅sₜ ⋅σ ⋅η₀⋅q₁⋅cos(αᵣ)⋅cos(q₂) + 12⋅sₜ ⋅σ⋅η₀⋅q₁⋅cos(αᵣ)⋅cos(q₂) -\n",
       "──────────────────────────────────────────────────────────────────────────────\n",
       "                                                                              \n",
       "\n",
       "     3                             2  2                             2         \n",
       " 4⋅sₜ ⋅η₀⋅q₁⋅cos(αᵣ)⋅cos(q₂) - 4⋅sₜ ⋅σ ⋅η₁⋅q₀⋅cos(αᵣ)⋅cos(q₂) + 8⋅sₜ ⋅σ⋅η₁⋅q₀⋅\n",
       "──────────────────────────────────────────────────────────────────────────────\n",
       "          4⋅η₀⋅η₁                                                             \n",
       "\n",
       "                      2                                                       \n",
       "cos(αᵣ)⋅cos(q₂) - 4⋅sₜ ⋅η₁⋅q₀⋅cos(αᵣ)⋅cos(q₂) + 4⋅sₜ⋅σ⋅η₀⋅η₁⋅sin(q₂)⋅cos(αᵣ) -\n",
       "──────────────────────────────────────────────────────────────────────────────\n",
       "                                                                              \n",
       "\n",
       "                           \n",
       " 4⋅sₜ⋅η₀⋅η₁⋅sin(q₂)⋅cos(αᵣ)\n",
       "───────────────────────────\n",
       "                           "
      ]
     },
     "execution_count": 31,
     "metadata": {},
     "output_type": "execute_result"
    }
   ],
   "source": [
    "MM = sym.trigsimp(sym.powsimp(sym.cancel(sym.expand(fwt_flexural_frame.InvAdjoint()))))\n",
    "MM[1,3]"
   ]
  },
  {
   "cell_type": "code",
   "execution_count": 35,
   "metadata": {},
   "outputs": [
    {
     "data": {
      "image/png": "[encoded data removed]",
      "text/latex": [
       "$\\displaystyle \\frac{4 c e_{1} \\eta_{0} \\eta_{1} \\operatorname{sin}\\left(\\alpha_{r}\\right) \\operatorname{cos}\\left(q_{2}\\right) + c \\eta_{0} \\eta_{1} \\operatorname{sin}\\left(\\alpha_{r}\\right) \\operatorname{cos}\\left(q_{2}\\right) + 4 s_{t}^{3} \\sigma^{3} \\eta_{0} q_{1} \\operatorname{cos}\\left(\\alpha_{r}\\right) \\operatorname{cos}\\left(q_{2}\\right) - 12 s_{t}^{3} \\sigma^{2} \\eta_{0} q_{1} \\operatorname{cos}\\left(\\alpha_{r}\\right) \\operatorname{cos}\\left(q_{2}\\right) + 12 s_{t}^{3} \\sigma \\eta_{0} q_{1} \\operatorname{cos}\\left(\\alpha_{r}\\right) \\operatorname{cos}\\left(q_{2}\\right) - 4 s_{t}^{3} \\eta_{0} q_{1} \\operatorname{cos}\\left(\\alpha_{r}\\right) \\operatorname{cos}\\left(q_{2}\\right) - 4 s_{t}^{2} \\sigma^{2} \\eta_{1} q_{0} \\operatorname{cos}\\left(\\alpha_{r}\\right) \\operatorname{cos}\\left(q_{2}\\right) + 8 s_{t}^{2} \\sigma \\eta_{1} q_{0} \\operatorname{cos}\\left(\\alpha_{r}\\right) \\operatorname{cos}\\left(q_{2}\\right) - 4 s_{t}^{2} \\eta_{1} q_{0} \\operatorname{cos}\\left(\\alpha_{r}\\right) \\operatorname{cos}\\left(q_{2}\\right) + 4 s_{t} \\sigma \\eta_{0} \\eta_{1} \\operatorname{sin}\\left(q_{2}\\right) \\operatorname{cos}\\left(\\alpha_{r}\\right) - 4 s_{t} \\eta_{0} \\eta_{1} \\operatorname{sin}\\left(q_{2}\\right) \\operatorname{cos}\\left(\\alpha_{r}\\right)}{4 \\eta_{0} \\eta_{1}}$"
      ],
      "text/plain": [
       "                                                             3  3             \n",
       "4⋅c⋅e₁⋅η₀⋅η₁⋅sin(αᵣ)⋅cos(q₂) + c⋅η₀⋅η₁⋅sin(αᵣ)⋅cos(q₂) + 4⋅sₜ ⋅σ ⋅η₀⋅q₁⋅cos(αᵣ\n",
       "──────────────────────────────────────────────────────────────────────────────\n",
       "                                                                              \n",
       "\n",
       "                 3  2                              3                          \n",
       ")⋅cos(q₂) - 12⋅sₜ ⋅σ ⋅η₀⋅q₁⋅cos(αᵣ)⋅cos(q₂) + 12⋅sₜ ⋅σ⋅η₀⋅q₁⋅cos(αᵣ)⋅cos(q₂) -\n",
       "──────────────────────────────────────────────────────────────────────────────\n",
       "                                                                              \n",
       "\n",
       "     3                             2  2                             2         \n",
       " 4⋅sₜ ⋅η₀⋅q₁⋅cos(αᵣ)⋅cos(q₂) - 4⋅sₜ ⋅σ ⋅η₁⋅q₀⋅cos(αᵣ)⋅cos(q₂) + 8⋅sₜ ⋅σ⋅η₁⋅q₀⋅\n",
       "──────────────────────────────────────────────────────────────────────────────\n",
       "          4⋅η₀⋅η₁                                                             \n",
       "\n",
       "                      2                                                       \n",
       "cos(αᵣ)⋅cos(q₂) - 4⋅sₜ ⋅η₁⋅q₀⋅cos(αᵣ)⋅cos(q₂) + 4⋅sₜ⋅σ⋅η₀⋅η₁⋅sin(q₂)⋅cos(αᵣ) -\n",
       "──────────────────────────────────────────────────────────────────────────────\n",
       "                                                                              \n",
       "\n",
       "                           \n",
       " 4⋅sₜ⋅η₀⋅η₁⋅sin(q₂)⋅cos(αᵣ)\n",
       "───────────────────────────\n",
       "                           "
      ]
     },
     "execution_count": 35,
     "metadata": {},
     "output_type": "execute_result"
    }
   ],
   "source": [
    "sym.cancel(MM[1,3])"
   ]
  },
  {
   "cell_type": "code",
   "execution_count": 39,
   "metadata": {},
   "outputs": [],
   "source": [
    "def M(self):\n",
    "    # create the jacobian for the mass    \n",
    "    Js = inner_wing_ele.dTransform.ManipJacobian(p.q)\n",
    "    Jb = inner_wing_ele.dTransform.InvAdjoint()*Js\n",
    "    Jb = sym.trigsimp(sym.powsimp(sym.cancel(sym.expand(Jb))))\n",
    "    #calculate the mass Matrix in world frame\n",
    "    return Jb.T*inner_wing_ele.M_e*Jb\n",
    "\n"
   ]
  },
  {
   "cell_type": "code",
   "execution_count": 40,
   "metadata": {},
   "outputs": [
    {
     "name": "stdout",
     "output_type": "stream",
     "text": [
      "CPU times: user 332 ms, sys: 3.01 ms, total: 335 ms\n",
      "Wall time: 334 ms\n"
     ]
    },
    {
     "data": {
      "image/png": "[encoded data removed]",
      "text/latex": [
       "$\\displaystyle \\frac{m_{0} s_{t}^{4} \\left(\\sigma - 1\\right)^{4} \\left(15 s_{t}^{2} \\eta_{0}^{2} \\left(\\sigma - 1\\right)^{2} \\dot{q}_{1}^{2} - 35 s_{t} \\eta_{0} \\eta_{1} \\left(\\sigma - 1\\right) \\dot{q}_{0} \\dot{q}_{1} + 21 \\eta_{1}^{2} \\dot{q}_{0}^{2}\\right)}{210 \\eta_{0}^{2} \\eta_{1}^{2}}$"
      ],
      "text/plain": [
       "     4        4 ⎛     2   2        2    2                                     \n",
       "m₀⋅sₜ ⋅(σ - 1) ⋅⎝15⋅sₜ ⋅η₀ ⋅(σ - 1) ⋅q₁̇  - 35⋅sₜ⋅η₀⋅η₁⋅(σ - 1)⋅q₀̇⋅q₁̇ + 21⋅η\n",
       "──────────────────────────────────────────────────────────────────────────────\n",
       "                                           2   2                              \n",
       "                                     210⋅η₀ ⋅η₁                               \n",
       "\n",
       " 2    2⎞\n",
       "₁ ⋅q₀̇ ⎠\n",
       "────────\n",
       "        \n",
       "        "
      ]
     },
     "execution_count": 40,
     "metadata": {},
     "output_type": "execute_result"
    }
   ],
   "source": [
    "%%time\n",
    "m = (sym.Rational(1,2)*p.qd.T*M(p)*p.qd)[0].integrate(inner_wing_ele.x_integral,inner_wing_ele.y_integral)\n",
    "sym.simplify(m)"
   ]
  },
  {
   "cell_type": "code",
   "execution_count": null,
   "metadata": {},
   "outputs": [],
   "source": [
    "func_alpha = alpha_fwt.subs(p.GetSubs(0,y0))\n",
    "\n",
    "yi = yData.y\n",
    "t = yData.t\n",
    "\n",
    "plt.style.use('seaborn-white')\n",
    "\n",
    "fig, axes = plt.subplots(2,int(len(yi)/2),figsize=(15,5))\n",
    "\n",
    "for i in range(int(len(yi)/2)):\n",
    "    # pos plot\n",
    "    axes[0][i].plot(t,yi[i*2])\n",
    "    axes[0][i].set_ylabel('')\n",
    "    axes[0][i].set_xlabel('t [s]')\n",
    "    #axes[0][i].set(xlim=(0,0.1))\n",
    "    \n",
    "    # vel plot\n",
    "    axes[1][i].plot(t,yi[i*2+1])\n",
    "    axes[1][i].set_ylabel('')\n",
    "    axes[1][i].set_xlabel('t [s]')\n",
    "    #axes[1][i].set(xlim=(0,0.1))"
   ]
  },
  {
   "cell_type": "code",
   "execution_count": null,
   "metadata": {},
   "outputs": [],
   "source": []
  },
  {
   "cell_type": "code",
   "execution_count": null,
   "metadata": {},
   "outputs": [],
   "source": [
    "#alp = [sm_mini.ExtForces.forces[1].GetAlpha(p.GetNumericTuple(i,0),i,0,0) for i in yi.T]\n",
    "#plt.plot(t,np.rad2deg(alp))\n",
    "\n",
    "#func_tau = sym.lambdify((p.x,),tau_s0.subs(p.GetSubs([0]*p.qs*2,0)))\n",
    "#twist = [func_tau(i) for i in yi.T]\n",
    "#plt.plot(t,np.rad2deg(twist))"
   ]
  },
  {
   "cell_type": "markdown",
   "metadata": {},
   "source": [
    "## Create the linearised EoM about some Stationary point"
   ]
  },
  {
   "cell_type": "code",
   "execution_count": null,
   "metadata": {},
   "outputs": [],
   "source": [
    "ignores = [p.EI,p.V,p.GJ,p.s_t,p.e_0,p.e_1,p.m_0,p.m_1,p.alpha_r,p.eta]\n",
    "# sub in functions!\n",
    "sm_subbed = sm.subs(p,{p.alpha_1:p.alpha_1.value,p.alphadot_1:p.alphadot_1.value})\n",
    "\n",
    "# get the linearised sm\n",
    "sm_lin = sm_subbed.subs(p,p.GetSubs(0,p.fp,ignore=ignores)).linearise(p)\n",
    "\n",
    "# get eigen Matrices and turn into a function\n",
    "K,M = sm_lin.eigenMatrices(p)"
   ]
  },
  {
   "cell_type": "code",
   "execution_count": null,
   "metadata": {},
   "outputs": [],
   "source": [
    "func = sym.lambdify((ignores + [p.fp]),(K,M),'numpy')"
   ]
  },
  {
   "cell_type": "code",
   "execution_count": null,
   "metadata": {},
   "outputs": [],
   "source": [
    "q = sym.Matrix(p.fp[::2])\n",
    "qd = sym.Matrix(p.fp[1::2])\n",
    "f = (sm_lin.f-sm_lin.ExtForces.Q())\n",
    "f = (sm_lin.f-sm_lin.ExtForces.Q()).subs({p.x[i]:p.fp[i] for i in range(-1,-len(p.x)-1,-1)}).subs({i:0 for i in qd})"
   ]
  },
  {
   "cell_type": "code",
   "execution_count": null,
   "metadata": {},
   "outputs": [],
   "source": [
    "p.V.value = 20\n",
    "p.GJ.value = 600\n",
    "p.s_t.value = 1.345\n",
    "\n",
    "p.e_0.value = 0.2\n",
    "p.e_1.value = 0.2\n",
    "p.m_0.value = 2\n",
    "p.m_1.value = 0.69\n",
    "p.alpha_r.value = np.deg2rad(5)\n",
    "\n",
    "p.EI.value = 80\n",
    "values = [i.value for i in ignores]\n",
    "func_obj = sym.lambdify((q,p.V),(f.T*f).subs(p.GetSubs(0,q,ignore=[p.fp,p.V]))[0])"
   ]
  },
  {
   "cell_type": "code",
   "execution_count": null,
   "metadata": {},
   "outputs": [],
   "source": [
    "df = pd.DataFrame(columns=['v','aoa','q','Lambda'])\n",
    "vs = np.linspace(0,80,161)\n",
    "pLast = [0]*p.qs\n",
    "pLast[-1] = np.pi/2\n",
    "for v in vs:\n",
    "    p.V.value = v \n",
    "    pLast = minimize(func_obj,pLast,method='Powell',args=(v)).x\n",
    "    v0 = [0]*p.qs\n",
    "    y0 = [j for i in range(len(pLast)) for j in [pLast[i],v0[i]]]\n",
    "    df = df.append({'aoa' : np.rad2deg(p.alpha_r(0,y0)), 'v' : v,'q':y0,'Lambda':np.rad2deg(p.Lambda.value)} , ignore_index=True)\n",
    "    pLast\n",
    "data = df"
   ]
  },
  {
   "cell_type": "code",
   "execution_count": null,
   "metadata": {},
   "outputs": [],
   "source": [
    "aoa = []\n",
    "for i in data['q']:\n",
    "    aoa.append(i[-2])\n",
    "plt.plot(data['v'],aoa)"
   ]
  },
  {
   "cell_type": "code",
   "execution_count": null,
   "metadata": {},
   "outputs": [],
   "source": [
    "flutdfv2 = pd.DataFrame() \n",
    "for i in range(0,len(data)):  \n",
    "    # get the fixed point\n",
    "    #lp = [data['eta'].iloc[i],0,data['q1'].iloc[i],0]\n",
    "\n",
    "    # get the jacobian evaluated at this point\n",
    "    #j_lp = func(data['v'].iloc[i],np.deg2rad(data['Lambda'].iloc[i]),ratio,lp)\n",
    "    # get eigen value information\n",
    "    #jac_dat = dof2.ExtractEigenValueData(j_lp,sortby='Damping')\n",
    "    p.V.value = data['v'].iloc[i]\n",
    "    q = data['q'].iloc[i]\n",
    "    q=[0]*p.qs*2\n",
    "    values = tuple([i.value for i in ignores])\n",
    "    evals, evecs = eig(*func(*values,q))\n",
    "    jac_dat = mf.ExtractEigenValueData(evals,evecs,sortby='Frequency')\n",
    "\n",
    "    # populate test specific data   \n",
    "    jac_dat['V'] = data['v'].iloc[i]\n",
    "    #jac_dat['Mass Ratio'] = f'r = {ratio}'\n",
    "    y = np.array(q)\n",
    "    for i in range(len(y)):\n",
    "        jac_dat[f'q_{i}'] =y[i]\n",
    "    jac_dat['Lambda'] = data['Lambda'].iloc[i]\n",
    "    flutdfv2 = flutdfv2.append(jac_dat,sort=False)\n",
    "        \n",
    "flutdfv2 = flutdfv2.reset_index(drop=True) "
   ]
  },
  {
   "cell_type": "code",
   "execution_count": null,
   "metadata": {},
   "outputs": [],
   "source": [
    "#data = flutdf[(flutdf['aoa']==5) & (flutdf['Damping']<0)]\n",
    "#data = flutdfv2[(flutdfv2['Stable'])]\n",
    "#data = flutdfv2[flutdfv2['Lambda']==10]\n",
    "#data = flutdfv2[flutdfv2['Stable']]\n",
    "data = flutdfv2\n",
    "fig, axes = plt.subplots(1,3,figsize=(15,7))\n",
    "\n",
    "\n",
    "sns.scatterplot(data=data,x='V',y='Frequency',hue='Mode',ax=axes[0],legend=False)\n",
    "sns.scatterplot(data=data,x='V',y='Damping',hue='Mode',ax=axes[1])\n",
    "sns.scatterplot(data=data,x='V',y=f'q_{p.qs*2-2}',ax=axes[2])\n",
    "\n",
    "for i in [0,1,2]:\n",
    "    #axes[i].set(xlim=(0,60))\n",
    "    axes[i].grid(b=True, which='major', color='#999999', linestyle='--')\n",
    "    axes[i].minorticks_on()\n",
    "    axes[i].grid(b=True, which='minor', color='#999999', linestyle='-', alpha=0.2)\n",
    "    #axes[i].set(xlim=(0,60))\n",
    "#axes[0].set(ylim=(0.5,3))\n",
    "axes[0].set(ylim=(0,50))"
   ]
  },
  {
   "cell_type": "code",
   "execution_count": null,
   "metadata": {},
   "outputs": [],
   "source": [
    "flutdfv2[flutdfv2['Stable']]['V'].max()"
   ]
  },
  {
   "cell_type": "code",
   "execution_count": null,
   "metadata": {},
   "outputs": [],
   "source": []
  },
  {
   "cell_type": "code",
   "execution_count": null,
   "metadata": {},
   "outputs": [],
   "source": []
  }
 ],
 "metadata": {
  "kernelspec": {
   "display_name": "Python 3",
   "language": "python",
   "name": "python3"
  },
  "language_info": {
   "codemirror_mode": {
    "name": "ipython",
    "version": 3
   },
   "file_extension": ".py",
   "mimetype": "text/x-python",
   "name": "python",
   "nbconvert_exporter": "python",
   "pygments_lexer": "ipython3",
   "version": "3.7.4"
  }
 },
 "nbformat": 4,
 "nbformat_minor": 2
}
