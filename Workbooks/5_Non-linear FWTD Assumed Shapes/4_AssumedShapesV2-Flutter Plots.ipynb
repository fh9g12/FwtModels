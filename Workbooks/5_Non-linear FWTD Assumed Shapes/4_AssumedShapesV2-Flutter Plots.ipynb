{
 "cells": [
  {
   "cell_type": "markdown",
   "metadata": {},
   "source": [
    "## Benchmarking\n",
    "\n",
    "\n",
    "I'm using this code to benchmark underlying function and my code generation tactics\n",
    "\n",
    "will use a 2B1T + FWTD model and relise it at 20 m/s & 5 deg aoa"
   ]
  },
  {
   "cell_type": "code",
   "execution_count": 4,
   "metadata": {},
   "outputs": [],
   "source": [
    "import sympy as sym\n",
    "import sympy.physics.mechanics as me\n",
    "import pandas as pd\n",
    "import seaborn as sns\n",
    "\n",
    "import numpy as np\n",
    "from scipy.integrate import odeint,LSODA,BDF,solve_ivp\n",
    "import matplotlib.pyplot as plt\n",
    "\n",
    "import sys, os\n",
    "\n",
    "sys.path.insert(1, os.path.join(sys.path[0], '../..'))\n",
    "import custom_plot_objects as cpo\n",
    "\n",
    "import ModelFramework as mf\n",
    "import ModelFramework.Elements as ele\n",
    "import ModelFramework.ExternalForces as ef\n",
    "\n",
    "me.mechanics_printing()"
   ]
  },
  {
   "cell_type": "markdown",
   "metadata": {},
   "source": [
    "### Define the Model\n",
    "\n",
    "#### Create Parameter instance"
   ]
  },
  {
   "cell_type": "code",
   "execution_count": 5,
   "metadata": {},
   "outputs": [],
   "source": [
    "half = sym.Rational(1,2)\n",
    "\n",
    "# lets go for B2T2 (so 5 DoF)\n",
    "p = mf.ModelParameters.DynamicModel(3+1)\n",
    "\n",
    "## Create some global parameters\n",
    "p.c = mf.ModelVariable(0.15,'c') # chord of wing\n",
    "\n",
    "p.rho_t = mf.ModelVariable(2.75/1.345,'rho_t') # mass per unit length for the wing\n",
    "p.s_t = mf.ModelVariable(1.345,'s_t') # chord of wing\n",
    "p.ratio_fwt = mf.ModelVariable(0.345/1.345,'sigma') # chord of wing\n",
    "\n",
    "# main Wing Structural Parameters\n",
    "p.y_0 = sym.Symbol('y_0')\n",
    "p.x_0 = sym.Symbol('x_0')\n",
    "\n",
    "p.e_0 = mf.ModelVariable(0.25,'e_0')\n",
    "p.x_f0 = mf.ModelVariable(0.5,'x_f0')\n",
    "#p.x_f0 = sym.Rational(1,4)*p.c + p.e_0*p.c\n",
    "\n",
    "p.s_0 = mf.ModelVariable(1,'s_0') # chord of wing\n",
    "#p.s_0 = p.s_t*(1-p.ratio_fwt)# span\n",
    "\n",
    "## force soome frequencies\n",
    "#p.f_0 = fm.FwtVariable(2,'f_0') # first Bending mode frequency\n",
    "#p.EI = (2*sym.pi*p.f_0/sym.Float(3.516))**2*p.rho_0*sym.Abs(p.c)*(p.s_0+p.s_1)**4\n",
    "p.EI = mf.ModelVariable(59.375,'EI')\n",
    "\n",
    "#p.f_1 = fm.FwtVariable(4,'f_1') # first Bending mode frequency\n",
    "#p.I_0 = p.rho_t*p.c*(half*p.rho_t-p.x_f0)\n",
    "#p.GJ = (sym.Rational(4,3)*p.f_1*(p.s_0+p.s_1))**2*p.I_0\n",
    "p.GJ = mf.ModelVariable(855.625,'GJ')\n",
    "\n",
    "## FWTD Structural Parameters\n",
    "p.y_1 = sym.Symbol('y_1')\n",
    "p.x_1 = sym.Symbol('x_1')\n",
    "\n",
    "p.e_1 = mf.ModelVariable(0.25,'e_1')\n",
    "p.x_f1 = sym.Rational(1,4)*p.c + p.e_1*p.c\n",
    "p.Lambda = mf.ModelVariable(np.deg2rad(10),'Lambda')\n",
    "\n",
    "\n",
    "p.s_1 = mf.ModelVariable(0.345,'s_1') # chord of wing\n",
    "#p.s_1 = p.s_t * p.ratio_fwt # span\n",
    "\n",
    "p.m_1 = mf.ModelVariable(0.3,'m_1')\n",
    "p.I_xx_1 = sym.Rational(1,12)*p.m_1*p.s_1**2 # inertia of FWT (uniform bar)\n",
    "\n",
    "## Aero Parameters\n",
    "p.rho = mf.ModelVariable(1.225,'rho') # density\n",
    "p.V = mf.ModelVariable(10,'V') # velocity\n",
    "p.g  = mf.ModelVariable(9.81,'g') # gravity\n",
    "p.alpha_r = mf.ModelVariable(np.deg2rad(3),'alpha_r') # root AoA\n",
    "p.M_thetadot = mf.ModelVariable(1.2,'M_thetadot')\n",
    "\n",
    "\n",
    "## Main Wing Specific\n",
    "p.a_0 = mf.ModelVariable(2*np.pi,'a_0') # C_L of wing\n",
    "\n",
    "## FWT Specific\n",
    "p.a_1 = p.a_0 - p.a_0/p.s_1*p.y_1\n",
    "p.alpha_1 = mf.ModelVariable(0,'alpha_1') # FWT alpha\n",
    "p.alphadot_1 = mf.ModelVariable(0,'alphadot_1') # FWT alphadot"
   ]
  },
  {
   "cell_type": "markdown",
   "metadata": {},
   "source": [
    "#### Create Transforms"
   ]
  },
  {
   "cell_type": "code",
   "execution_count": 54,
   "metadata": {},
   "outputs": [],
   "source": [
    "#get shape functions for main wing\n",
    "z_0,tau_0 = mf.ShapeFunctions_BN_TM(2,1,p.q[:-1],p.y_0,p.x_0,p.x_f0,0,factor=1)\n",
    "\n",
    "#define wrefernce frames\n",
    "wing_root_frame = mf.HomogenousTransform().R_y(p.alpha_r)\n",
    "wing_aero_frame = wing_root_frame.Translate(p.x_0,p.y_0,z_0).subs({p.x_0:p.x_f0})\n",
    "wing_tip_frame = wing_aero_frame.subs({p.y_0:p.s_0})\n",
    "fwt_root_frame = wing_tip_frame.R_x(-p.q[-1])\n",
    "fwt_com_frame = fwt_root_frame.Translate(0,p.s_1/2,0)\n",
    "\n",
    "#Create Elemnts\n",
    "M_wing = ele.MassMatrix(p.rho_t/p.c)\n",
    "M_fwt = ele.MassMatrix(p.m_1,I_xx = p.I_xx_1)\n",
    "\n",
    "inner_wing_ele = ele.FlexiElement(wing_root_frame,M_wing,p.x_0,p.y_0,z_0,p.c,p.s_0,p.x_f0,p.EI,p.GJ)\n",
    "fwt_ele = ele.RigidElement(fwt_com_frame,M_fwt,True)\n",
    "\n",
    "\n",
    "# Create Gravity forces\n",
    "wing_GravityForces = ef.ContinuousGravityForce(p,wing_aero_frame,\n",
    "                                                sym.Matrix([0,0,-p.g*p.rho_t/p.c]),(p.x_0,0,p.c),(p.y_0,0,p.s_0))\n",
    "\n",
    "# Create AeroForces\n",
    "wing_AeroForces = ef.AeroForce(p,wing_aero_frame,p.a_0,(p.y_0,0,p.s_0),\n",
    "                               alphadot = tau_0.diff(me.dynamicsymbols._t),\n",
    "                               M_thetadot = p.M_thetadot,\n",
    "                               e = p.e_0,\n",
    "                               rootAlpha = p.alpha_r,\n",
    "                               deltaAlpha = tau_0,\n",
    "                               alpha_zero = 0)\n",
    "\n",
    "\n",
    "tau_s0 = tau_0.subs(p.y_0,p.s_0)\n",
    "alpha_fwt = tau_s0 + p.alpha_1\n",
    "alphadot_fwt = tau_s0.diff(me.dynamicsymbols._t) + p.alphadot_1\n",
    "\n",
    "fwt_AeroForces = ef.AeroForce(p,fwt_root_frame.Translate(0,p.y_1,0),p.a_1,(p.y_1,0,p.s_1),\n",
    "                               alphadot = alphadot_fwt,\n",
    "                               M_thetadot = p.M_thetadot,\n",
    "                               e = p.e_1,\n",
    "                               rootAlpha = alpha_fwt,\n",
    "                               deltaAlpha = 0,\n",
    "                               alpha_zero = 0)"
   ]
  },
  {
   "cell_type": "code",
   "execution_count": 55,
   "metadata": {},
   "outputs": [],
   "source": [
    "#Create Composite force\n",
    "CompositeForce = ef.CompositeForce(p,[wing_AeroForces,fwt_AeroForces,wing_GravityForces])\n",
    "# Create the SYmbolic Model\n",
    "sm = mf.SymbolicModel.FromElementsAndForces(p,[inner_wing_ele,fwt_ele],CompositeForce)"
   ]
  },
  {
   "cell_type": "markdown",
   "metadata": {},
   "source": [
    "# Setup Numeric Model Parameters\n"
   ]
  },
  {
   "cell_type": "code",
   "execution_count": 86,
   "metadata": {},
   "outputs": [],
   "source": [
    "tmax, dt = 5, 0.01\n",
    "\n",
    "#set velocity and alpha_r funcs\n",
    "def Vfunc(t,x):\n",
    "    return 20\n",
    "\n",
    "def arfunc(t,x):\n",
    "    return np.deg2rad(5)\n",
    "    #return np.deg2rad(5)+np.sin(2*np.pi*1*t)*np.deg2rad(5)\n",
    "    \n",
    "## Get functions for Fwt AoA and its derivative\n",
    "fwt_aoa = mf.GetAoA(p.alpha_r,0,p.Lambda.value,p.q[-1])\n",
    "FwtAoA = sym.lambdify((p.alpha_r,p.x),fwt_aoa)\n",
    "DotFwtAoA = sym.lambdify((p.alpha_r,p.x),fwt_aoa.diff(me.dynamicsymbols._t))\n",
    "\n",
    "p.alpha_1.value = lambda t,x:FwtAoA(arfunc(t,x),x)\n",
    "p.alphadot_1.value = lambda t,x:DotFwtAoA(arfunc(t,x),x)\n",
    "p.V.value = Vfunc\n",
    "p.alpha_r.value = arfunc\n",
    "\n",
    "ts = np.arange(0, tmax+dt, dt)\n",
    "\n",
    "constraints = [np.NaN]*p.qs*2\n",
    "\n",
    "def objectiveDeriv(t,y):\n",
    "    deriv = sm.deriv(t,y,p.GetNumericTuple(y,t))\n",
    "    return tuple(np.where(np.isnan(constraints),deriv,constraints))"
   ]
  },
  {
   "cell_type": "markdown",
   "metadata": {},
   "source": [
    "## Find the fixed point"
   ]
  },
  {
   "cell_type": "code",
   "execution_count": 87,
   "metadata": {},
   "outputs": [
    {
     "name": "stdout",
     "output_type": "stream",
     "text": [
      "[0.013112318969030182, 0.0, -0.004453409319807138, 0.0, -0.00047751998741051553, 0.0, 0.12674347943115521, 0.0]\n"
     ]
    }
   ],
   "source": [
    "from scipy.optimize import minimize\n",
    "def obj(p0):\n",
    "    v0=np.zeros_like(p0)\n",
    "    y0 = [j for i in range(len(p0)) for j in [p0[i],v0[i]]]\n",
    "    tup = p.GetNumericTuple(y0,0)\n",
    "    res = sm.deriv(0,y0,tup)\n",
    "    return sum((i**2 for i in res)) + res[-2]**2*10\n",
    "y0 = [0]*p.qs*2\n",
    "y0[-2] = 0\n",
    "tup = p.GetNumericTuple(y0,0)\n",
    "p0=[0]*p.qs\n",
    "p0[-1] = 1.3\n",
    "res = minimize(obj,p0)\n",
    "p0 = res.x\n",
    "v0=np.zeros_like(p0)\n",
    "y0 = [j for i in range(len(p0)) for j in [p0[i],v0[i]]]\n",
    "print(y0)"
   ]
  },
  {
   "cell_type": "markdown",
   "metadata": {},
   "source": [
    "## create masses "
   ]
  },
  {
   "cell_type": "code",
   "execution_count": 88,
   "metadata": {
    "scrolled": true
   },
   "outputs": [
    {
     "name": "stdout",
     "output_type": "stream",
     "text": [
      " "
     ]
    }
   ],
   "source": [
    "%prun -s tottime yData = solve_ivp(objectiveDeriv,(0,tmax),y0)"
   ]
  },
  {
   "cell_type": "code",
   "execution_count": 89,
   "metadata": {},
   "outputs": [
    {
     "data": {
      "image/png": "[encoded data removed]",
      "text/plain": [
       "<Figure size 1080x360 with 8 Axes>"
      ]
     },
     "metadata": {},
     "output_type": "display_data"
    }
   ],
   "source": [
    "yi = yData.y\n",
    "t = yData.t\n",
    "\n",
    "plt.style.use('seaborn-white')\n",
    "\n",
    "  \n",
    "fig, axes = plt.subplots(2,int(len(yi)/2),figsize=(15,5))\n",
    "\n",
    "for i in range(int(len(yi)/2)):\n",
    "    # pos plot\n",
    "    axes[0][i].plot(t,yi[i*2])\n",
    "    axes[0][i].set_ylabel('')\n",
    "    axes[0][i].set_xlabel('t [s]')\n",
    "    \n",
    "    # vel plot\n",
    "    axes[1][i].plot(t,yi[i*2+1])\n",
    "    axes[1][i].set_ylabel('')\n",
    "    axes[1][i].set_xlabel('t [s]')"
   ]
  },
  {
   "cell_type": "code",
   "execution_count": null,
   "metadata": {},
   "outputs": [],
   "source": []
  }
 ],
 "metadata": {
  "kernelspec": {
   "display_name": "Python 3",
   "language": "python",
   "name": "python3"
  },
  "language_info": {
   "codemirror_mode": {
    "name": "ipython",
    "version": 3
   },
   "file_extension": ".py",
   "mimetype": "text/x-python",
   "name": "python",
   "nbconvert_exporter": "python",
   "pygments_lexer": "ipython3",
   "version": "3.7.4"
  }
 },
 "nbformat": 4,
 "nbformat_minor": 2
}
