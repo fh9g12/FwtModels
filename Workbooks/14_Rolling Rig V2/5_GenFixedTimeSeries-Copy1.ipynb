{
 "cells": [
  {
   "cell_type": "code",
   "execution_count": 1,
   "metadata": {},
   "outputs": [],
   "source": [
    "import sympy as sym\n",
    "import sympy.physics.mechanics as me\n",
    "from sympy.abc import t as time\n",
    "import pandas as pd\n",
    "import seaborn as sns\n",
    "\n",
    "import numpy as np\n",
    "from scipy.integrate import solve_ivp\n",
    "import matplotlib.pyplot as plt\n",
    "from scipy.interpolate import interp1d\n",
    "from scipy.optimize import fsolve,least_squares,root\n",
    "\n",
    "import sys, os\n",
    "\n",
    "sys.path.insert(1, os.path.join(sys.path[0], '../..'))\n",
    "import custom_plot_objects as cpo\n",
    "\n",
    "import ModelFramework as mf\n",
    "import ModelFramework.Elements as ele\n",
    "import ModelFramework.ExternalForces as ef\n",
    "import FwtModels.RectWing as rw\n",
    "import FwtModels.RollRig as RollRig\n",
    "\n",
    "from matplotlib.lines import Line2D\n",
    "\n",
    "me.mechanics_printing()"
   ]
  },
  {
   "cell_type": "code",
   "execution_count": 2,
   "metadata": {},
   "outputs": [],
   "source": [
    "p = RollRig.base_params(1)"
   ]
  },
  {
   "cell_type": "code",
   "execution_count": 3,
   "metadata": {},
   "outputs": [],
   "source": [
    "sm = mf.SymbolicModel.from_file('RollRigModel-Fixed.py')\n",
    "sm.ExtForces = ef.CompositeForce([sm.ExtForces,ef.CustomForce(None)])\n",
    "sm = sm.subs({p.alpha_r.name:0})"
   ]
  },
  {
   "cell_type": "code",
   "execution_count": 4,
   "metadata": {},
   "outputs": [],
   "source": [
    "p.c.value = 0.0677\n",
    "p.s.value = 1\n",
    "p.sigma.value = 0.28\n",
    "p.m_w.value = 0.22\n",
    "p.m_f.value = 0.038\n",
    "p.m_l.value = 0#0.0275\n",
    "p.alpha_r.value = 0\n",
    "p.c_d_max.value = 1\n",
    "p.a_0.value = 2*np.pi\n",
    "p.a_1.value = 2*np.pi\n",
    "#p.tau.value = 0\n",
    "p.alpha_r.value = 0\n",
    "p.w_g.value = 0\n",
    "p.beta.value = 0.0036\n",
    "p.V.value = 22.5\n",
    "\n",
    "#p.s.value = 0.72\n",
    "#p.sigma.value = 0\n",
    "#p.m_f.value = 0\n",
    "#p.m_l.value = 0\n",
    "\n",
    "\n",
    "p.Lambda.value = 0"
   ]
  },
  {
   "cell_type": "code",
   "execution_count": 5,
   "metadata": {},
   "outputs": [],
   "source": [
    "nm = mf.NumericModel.from_SymbolicModel(p,sm)\n",
    "ext_f = nm.ExtForces.force_funcs[0]\n",
    "\n",
    "torque_period = 0.1\n",
    "torque_max = p.beta.value*p.V.value**2\n",
    "\n",
    "def torque(tup,x,t):\n",
    "    if t<2:\n",
    "        return 0\n",
    "    elif t<torque_period/2+2:\n",
    "        return torque_max*0.5*(1- np.cos(2*np.pi*(t-2)/torque_period))\n",
    "    else:\n",
    "        return torque_max\n",
    "    \n",
    "def custom_force(tup,x,t):\n",
    "    return np.array([[torque(tup,x,t)]])\n",
    "\n",
    "nm.ExtForces.force_funcs = [ext_f , custom_force]\n",
    "\n"
   ]
  },
  {
   "cell_type": "code",
   "execution_count": 6,
   "metadata": {},
   "outputs": [
    {
     "data": {
      "image/png": "[encoded data removed]",
      "text/latex": [
       "$\\displaystyle \\left( 0, \\  0.0\\right)$"
      ],
      "text/plain": [
       "(0, 0.0)"
      ]
     },
     "execution_count": 6,
     "metadata": {},
     "output_type": "execute_result"
    }
   ],
   "source": [
    "y = [1.5,0]\n",
    "nm.deriv(0,y,p.GetNumericTuple(y,0))"
   ]
  },
  {
   "cell_type": "code",
   "execution_count": 7,
   "metadata": {},
   "outputs": [],
   "source": [
    "def GenRunData(model,p,ic,end_time,xNames=None,additional_cols = {},sample_freq=100):\n",
    "    \n",
    "    if xNames==None:\n",
    "        xNames = [f'x{i}' for i in range(p.qs*2)]\n",
    "    \n",
    "    # create objective function and solve\n",
    "    def objectiveDeriv(t,y):\n",
    "        return nm.deriv(t,y,p.GetNumericTuple(y,t))\n",
    "    yData = solve_ivp(objectiveDeriv,(0,end_time),ic,max_step=1/sample_freq)\n",
    "    \n",
    "    t = np.linspace(0,end_time,(end_time*100)+1)\n",
    "   \n",
    "    #interpolate to reduce t and y points\n",
    "    int_func = interp1d(yData.t,yData.y)  \n",
    "    yi = int_func(t)\n",
    "    \n",
    "    #generate list\n",
    "    tau = [torque((0,),[0],i) for i in t]\n",
    "    q_data = [{names[i]:v for i,v in enumerate(row)}for row in yi.T]    \n",
    "    params = {k.name:v for k,v in p.GetSubs(0,None).items()}\n",
    "\n",
    "\n",
    "    data = [{'t':_t,'torque':tau[i],'Locked':True,**q_data[i],**params,**additional_cols} for i,_t in enumerate(t)]\n",
    "    return data\n",
    "    "
   ]
  },
  {
   "cell_type": "code",
   "execution_count": 8,
   "metadata": {},
   "outputs": [
    {
     "data": {
      "image/png": "[encoded data removed]",
      "text/latex": [
       "$\\displaystyle 0$"
      ],
      "text/plain": [
       "0"
      ]
     },
     "execution_count": 8,
     "metadata": {},
     "output_type": "execute_result"
    }
   ],
   "source": [
    "p.Lambda.value"
   ]
  },
  {
   "cell_type": "code",
   "execution_count": 9,
   "metadata": {},
   "outputs": [
    {
     "name": "stderr",
     "output_type": "stream",
     "text": [
      "<string>:49: RuntimeWarning: divide by zero encountered in double_scalars\n",
      "<string>:50: RuntimeWarning: invalid value encountered in double_scalars\n",
      "<string>:54: RuntimeWarning: divide by zero encountered in double_scalars\n",
      "<string>:63: RuntimeWarning: invalid value encountered in double_scalars\n",
      "<string>:64: RuntimeWarning: invalid value encountered in double_scalars\n"
     ]
    },
    {
     "ename": "ValueError",
     "evalue": "x and y arrays must have at least 2 entries",
     "output_type": "error",
     "traceback": [
      "\u001b[0;31m---------------------------------------------------------------------------\u001b[0m",
      "\u001b[0;31mValueError\u001b[0m                                Traceback (most recent call last)",
      "\u001b[0;32m<ipython-input-9-a6d0a36a10b5>\u001b[0m in \u001b[0;36m<module>\u001b[0;34m\u001b[0m\n\u001b[1;32m     33\u001b[0m             \u001b[0mnm\u001b[0m\u001b[0;34m.\u001b[0m\u001b[0mExtForces\u001b[0m\u001b[0;34m.\u001b[0m\u001b[0mforce_funcs\u001b[0m \u001b[0;34m=\u001b[0m \u001b[0;34m[\u001b[0m\u001b[0mext_f\u001b[0m \u001b[0;34m,\u001b[0m \u001b[0mcustom_force\u001b[0m\u001b[0;34m]\u001b[0m\u001b[0;34m\u001b[0m\u001b[0;34m\u001b[0m\u001b[0m\n\u001b[1;32m     34\u001b[0m \u001b[0;34m\u001b[0m\u001b[0m\n\u001b[0;32m---> 35\u001b[0;31m             \u001b[0mres\u001b[0m\u001b[0;34m+=\u001b[0m\u001b[0mGenRunData\u001b[0m\u001b[0;34m(\u001b[0m\u001b[0mnm\u001b[0m\u001b[0;34m,\u001b[0m\u001b[0mp\u001b[0m\u001b[0;34m,\u001b[0m\u001b[0;34m[\u001b[0m\u001b[0;36m0\u001b[0m\u001b[0;34m,\u001b[0m\u001b[0;36m0\u001b[0m\u001b[0;34m]\u001b[0m\u001b[0;34m,\u001b[0m\u001b[0;36m10\u001b[0m\u001b[0;34m,\u001b[0m\u001b[0mnames\u001b[0m\u001b[0;34m[\u001b[0m\u001b[0;34m:\u001b[0m\u001b[0;36m2\u001b[0m\u001b[0;34m]\u001b[0m\u001b[0;34m,\u001b[0m\u001b[0;34m{\u001b[0m\u001b[0;34m'Mode'\u001b[0m\u001b[0;34m:\u001b[0m\u001b[0mmode\u001b[0m\u001b[0;34m,\u001b[0m\u001b[0;34m'AileronAngle'\u001b[0m\u001b[0;34m:\u001b[0m\u001b[0;34m(\u001b[0m\u001b[0;36m4\u001b[0m\u001b[0;34m-\u001b[0m\u001b[0mtm\u001b[0m\u001b[0;34m)\u001b[0m\u001b[0;34m*\u001b[0m\u001b[0;36m7\u001b[0m\u001b[0;34m,\u001b[0m\u001b[0;34m**\u001b[0m\u001b[0;34m{\u001b[0m\u001b[0mn\u001b[0m\u001b[0;34m:\u001b[0m\u001b[0;36m0\u001b[0m \u001b[0;32mfor\u001b[0m \u001b[0mn\u001b[0m \u001b[0;32min\u001b[0m \u001b[0mnames\u001b[0m\u001b[0;34m[\u001b[0m\u001b[0;36m2\u001b[0m\u001b[0;34m:\u001b[0m\u001b[0;34m]\u001b[0m\u001b[0;34m}\u001b[0m\u001b[0;34m}\u001b[0m\u001b[0;34m,\u001b[0m\u001b[0;36m100\u001b[0m\u001b[0;34m)\u001b[0m\u001b[0;34m\u001b[0m\u001b[0;34m\u001b[0m\u001b[0m\n\u001b[0m\u001b[1;32m     36\u001b[0m \u001b[0mdf\u001b[0m \u001b[0;34m=\u001b[0m \u001b[0mpd\u001b[0m\u001b[0;34m.\u001b[0m\u001b[0mDataFrame\u001b[0m\u001b[0;34m(\u001b[0m\u001b[0mres\u001b[0m\u001b[0;34m)\u001b[0m\u001b[0;34m\u001b[0m\u001b[0;34m\u001b[0m\u001b[0m\n\u001b[1;32m     37\u001b[0m \u001b[0mdf\u001b[0m\u001b[0;34m.\u001b[0m\u001b[0mto_pickle\u001b[0m\u001b[0;34m(\u001b[0m\u001b[0;34m'FixedData.pkl'\u001b[0m\u001b[0;34m)\u001b[0m\u001b[0;34m\u001b[0m\u001b[0;34m\u001b[0m\u001b[0m\n",
      "\u001b[0;32m<ipython-input-7-340cd054f585>\u001b[0m in \u001b[0;36mGenRunData\u001b[0;34m(model, p, ic, end_time, xNames, additional_cols, sample_freq)\u001b[0m\n\u001b[1;32m     12\u001b[0m \u001b[0;34m\u001b[0m\u001b[0m\n\u001b[1;32m     13\u001b[0m     \u001b[0;31m#interpolate to reduce t and y points\u001b[0m\u001b[0;34m\u001b[0m\u001b[0;34m\u001b[0m\u001b[0;34m\u001b[0m\u001b[0m\n\u001b[0;32m---> 14\u001b[0;31m     \u001b[0mint_func\u001b[0m \u001b[0;34m=\u001b[0m \u001b[0minterp1d\u001b[0m\u001b[0;34m(\u001b[0m\u001b[0myData\u001b[0m\u001b[0;34m.\u001b[0m\u001b[0mt\u001b[0m\u001b[0;34m,\u001b[0m\u001b[0myData\u001b[0m\u001b[0;34m.\u001b[0m\u001b[0my\u001b[0m\u001b[0;34m)\u001b[0m\u001b[0;34m\u001b[0m\u001b[0;34m\u001b[0m\u001b[0m\n\u001b[0m\u001b[1;32m     15\u001b[0m     \u001b[0myi\u001b[0m \u001b[0;34m=\u001b[0m \u001b[0mint_func\u001b[0m\u001b[0;34m(\u001b[0m\u001b[0mt\u001b[0m\u001b[0;34m)\u001b[0m\u001b[0;34m\u001b[0m\u001b[0;34m\u001b[0m\u001b[0m\n\u001b[1;32m     16\u001b[0m \u001b[0;34m\u001b[0m\u001b[0m\n",
      "\u001b[0;32m~/opt/anaconda3/lib/python3.7/site-packages/scipy/interpolate/interpolate.py\u001b[0m in \u001b[0;36m__init__\u001b[0;34m(***failed resolving arguments***)\u001b[0m\n\u001b[1;32m    541\u001b[0m         \u001b[0;32mif\u001b[0m \u001b[0mlen\u001b[0m\u001b[0;34m(\u001b[0m\u001b[0mself\u001b[0m\u001b[0;34m.\u001b[0m\u001b[0mx\u001b[0m\u001b[0;34m)\u001b[0m \u001b[0;34m<\u001b[0m \u001b[0mminval\u001b[0m\u001b[0;34m:\u001b[0m\u001b[0;34m\u001b[0m\u001b[0;34m\u001b[0m\u001b[0m\n\u001b[1;32m    542\u001b[0m             raise ValueError(\"x and y arrays must have at \"\n\u001b[0;32m--> 543\u001b[0;31m                              \"least %d entries\" % minval)\n\u001b[0m\u001b[1;32m    544\u001b[0m \u001b[0;34m\u001b[0m\u001b[0m\n\u001b[1;32m    545\u001b[0m     \u001b[0;34m@\u001b[0m\u001b[0mproperty\u001b[0m\u001b[0;34m\u001b[0m\u001b[0;34m\u001b[0m\u001b[0m\n",
      "\u001b[0;31mValueError\u001b[0m: x and y arrays must have at least 2 entries"
     ]
    }
   ],
   "source": [
    "names = ['Roll','Roll Rate','Left FWT Angle','Left FWT Velocity','Right FWT Angle','Right FWT Velocity']\n",
    "\n",
    "res = []\n",
    "\n",
    "for mode in ['Locked','Removed']:\n",
    "    if mode =='Locked':\n",
    "        p.m_f.value = 0.038\n",
    "        p.a_1.value = 2*np.pi\n",
    "    else:\n",
    "        p.m_f.value = 0\n",
    "        p.a_1.value = 0\n",
    "        p.s.value = 1\n",
    "    for v in np.linspace(15,30,4):\n",
    "        p.V.value = v\n",
    "        ext_f = nm.ExtForces.force_funcs[0]\n",
    "\n",
    "        torque_period = 0.1       \n",
    "        for tm in [3,2,1]:\n",
    "            p.beta.value = 0.0036*tm/3*0.7\n",
    "            torque_max = p.beta.value*p.V.value**2\n",
    "\n",
    "            def torque(tup,x,t):\n",
    "                if t<2:\n",
    "                    return 0\n",
    "                elif t<torque_period/2+2:\n",
    "                    return torque_max*0.5*(1- np.cos(2*np.pi*(t-2)/torque_period))\n",
    "                else:\n",
    "                    return torque_max\n",
    "\n",
    "            def custom_force(tup,x,t):\n",
    "                return np.array([[torque(tup,x,t)]])\n",
    "\n",
    "            nm.ExtForces.force_funcs = [ext_f , custom_force]\n",
    "\n",
    "            res+=GenRunData(nm,p,[0,0],10,names[:2],{'Mode':mode,'AileronAngle':(4-tm)*7,**{n:0 for n in names[2:]}},100)\n",
    "df = pd.DataFrame(res)\n",
    "df.to_pickle('FixedData.pkl')"
   ]
  },
  {
   "cell_type": "code",
   "execution_count": 49,
   "metadata": {},
   "outputs": [
    {
     "data": {
      "text/plain": [
       "Mode     V   \n",
       "Locked   15.0     66.540488\n",
       "         20.0     88.720651\n",
       "         25.0    110.900814\n",
       "         30.0    133.080977\n",
       "Removed  15.0    177.589806\n",
       "         20.0    236.786408\n",
       "         25.0    295.983011\n",
       "         30.0    355.179613\n",
       "Name: Roll Rate [Deg], dtype: float64"
      ]
     },
     "execution_count": 49,
     "metadata": {},
     "output_type": "execute_result"
    }
   ],
   "source": [
    "df['Roll Rate [Deg]']=np.rad2deg(df['Roll Rate'])\n",
    "df[df['t']>4].groupby(['Mode','V'])['Roll Rate [Deg]'].mean()"
   ]
  },
  {
   "cell_type": "code",
   "execution_count": 50,
   "metadata": {},
   "outputs": [
    {
     "data": {
      "text/plain": [
       "Mode     V     torque  \n",
       "Locked   15.0  0.000000    0\n",
       "               0.018048    0\n",
       "               0.036096    0\n",
       "               0.054144    0\n",
       "               0.065298    0\n",
       "                          ..\n",
       "Removed  30.0  1.367617    0\n",
       "               1.484425    0\n",
       "               1.512000    0\n",
       "               2.051425    0\n",
       "               2.268000    0\n",
       "Name: Left FWT Angle, Length: 128, dtype: int64"
      ]
     },
     "execution_count": 50,
     "metadata": {},
     "output_type": "execute_result"
    }
   ],
   "source": [
    "df.groupby(['Mode','V','torque'])['Left FWT Angle'].mean()"
   ]
  },
  {
   "cell_type": "code",
   "execution_count": 51,
   "metadata": {},
   "outputs": [
    {
     "data": {
      "text/plain": [
       "0        0\n",
       "1        0\n",
       "2        0\n",
       "3        0\n",
       "4        0\n",
       "        ..\n",
       "24019    0\n",
       "24020    0\n",
       "24021    0\n",
       "24022    0\n",
       "24023    0\n",
       "Name: Lambda, Length: 24024, dtype: int64"
      ]
     },
     "execution_count": 51,
     "metadata": {},
     "output_type": "execute_result"
    }
   ],
   "source": [
    "df['Lambda']"
   ]
  },
  {
   "cell_type": "code",
   "execution_count": 52,
   "metadata": {},
   "outputs": [],
   "source": [
    "df.to_csv(r'/Users/fintan/Git/FlexiFWT_DAQ/Analysis/RollingRigV3/ModelComparison/FixedData.csv', index = False)"
   ]
  },
  {
   "cell_type": "code",
   "execution_count": null,
   "metadata": {},
   "outputs": [],
   "source": []
  }
 ],
 "metadata": {
  "kernelspec": {
   "display_name": "Python 3",
   "language": "python",
   "name": "python3"
  },
  "language_info": {
   "codemirror_mode": {
    "name": "ipython",
    "version": 3
   },
   "file_extension": ".py",
   "mimetype": "text/x-python",
   "name": "python",
   "nbconvert_exporter": "python",
   "pygments_lexer": "ipython3",
   "version": "3.7.7"
  }
 },
 "nbformat": 4,
 "nbformat_minor": 4
}
