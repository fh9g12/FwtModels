{
 "cells": [
  {
   "cell_type": "code",
   "execution_count": 1,
   "metadata": {},
   "outputs": [],
   "source": [
    "import sympy as sym\n",
    "import sympy.physics.mechanics as me\n",
    "from sympy.abc import t as time\n",
    "import pandas as pd\n",
    "import seaborn as sns\n",
    "\n",
    "import numpy as np\n",
    "from scipy.integrate import solve_ivp\n",
    "import matplotlib.pyplot as plt\n",
    "\n",
    "import sys, os\n",
    "\n",
    "sys.path.insert(1, os.path.join(sys.path[0], '../..'))\n",
    "import custom_plot_objects as cpo\n",
    "\n",
    "import ModelFramework as mf\n",
    "import ModelFramework.Elements as ele\n",
    "import ModelFramework.ExternalForces as ef\n",
    "import FwtModels.RectWing as rw\n",
    "import FwtModels.RollRig as RollRig\n",
    "\n",
    "from matplotlib.lines import Line2D\n",
    "\n",
    "me.mechanics_printing()"
   ]
  },
  {
   "cell_type": "code",
   "execution_count": 20,
   "metadata": {},
   "outputs": [
    {
     "ename": "TypeError",
     "evalue": "'ModelSymbol' object is not subscriptable",
     "output_type": "error",
     "traceback": [
      "\u001b[0;31m---------------------------------------------------------------------------\u001b[0m",
      "\u001b[0;31mTypeError\u001b[0m                                 Traceback (most recent call last)",
      "\u001b[0;32m<ipython-input-20-41e22d0c36d5>\u001b[0m in \u001b[0;36m<module>\u001b[0;34m\u001b[0m\n\u001b[1;32m      2\u001b[0m \u001b[0;34m\u001b[0m\u001b[0m\n\u001b[1;32m      3\u001b[0m \u001b[0mp\u001b[0m \u001b[0;34m=\u001b[0m \u001b[0mRollRig\u001b[0m\u001b[0;34m.\u001b[0m\u001b[0mbase_params\u001b[0m\u001b[0;34m(\u001b[0m\u001b[0;36m1\u001b[0m\u001b[0;34m)\u001b[0m\u001b[0;34m\u001b[0m\u001b[0;34m\u001b[0m\u001b[0m\n\u001b[0;32m----> 4\u001b[0;31m \u001b[0mp\u001b[0m\u001b[0;34m.\u001b[0m\u001b[0mm_w\u001b[0m\u001b[0;34m[\u001b[0m\u001b[0;36m0\u001b[0m\u001b[0;34m,\u001b[0m\u001b[0;36m0\u001b[0m\u001b[0;34m]\u001b[0m\u001b[0;34m\u001b[0m\u001b[0;34m\u001b[0m\u001b[0m\n\u001b[0m",
      "\u001b[0;31mTypeError\u001b[0m: 'ModelSymbol' object is not subscriptable"
     ]
    }
   ],
   "source": [
    "half = sym.Rational(1,2)\n",
    "\n",
    "p = RollRig.base_params(1)\n",
    "p.m_w[0,0]"
   ]
  },
  {
   "cell_type": "code",
   "execution_count": 30,
   "metadata": {},
   "outputs": [],
   "source": [
    "# Generate Referecne Frame\n",
    "wing_frame = mf.HomogenousTransform().R_x(p.q[0])#.R_y(p.alpha_r)\n",
    "\n",
    "#Generate Mass Matrices\n",
    "M_w = ele.MassMatrix(p.m_w,I_xx = sym.Rational(1,12)*0.305*p.s**3)\n",
    "\n",
    "\n",
    "# Generate Rigid Elements\n",
    "bar_wing = ele.RigidElement(wing_frame,M_w)"
   ]
  },
  {
   "cell_type": "code",
   "execution_count": 31,
   "metadata": {},
   "outputs": [],
   "source": [
    "# Main Wing Aero Forces \n",
    "wing_AeroForces = ef.AeroForce.PerUnitSpan(p,wing_frame.Translate(0,p.y_w,0),p.a_0,\n",
    "                               alphadot = 0,\n",
    "                               M_thetadot = 0,\n",
    "                               e = 0,\n",
    "                               w_g = p.w_g,\n",
    "                               rootAlpha = p.alpha_r,\n",
    "                               alpha_zero = 0,\n",
    "                               stall_angle = 0,\n",
    "                               c = p.c,\n",
    "                               c_d_max = 0,\n",
    "                               linear = True).integrate((p.y_w,-p.s*half,p.s*half))\n"
   ]
  },
  {
   "cell_type": "code",
   "execution_count": 32,
   "metadata": {},
   "outputs": [],
   "source": [
    "CompositeForce = ef.CompositeForce([wing_AeroForces])\n",
    "# create instance of the model\n",
    "sm = mf.SymbolicModel.FromElementsAndForces(p,[bar_wing],ExtForces = CompositeForce)"
   ]
  },
  {
   "cell_type": "code",
   "execution_count": 33,
   "metadata": {},
   "outputs": [
    {
     "data": {
      "text/latex": [
       "$\\displaystyle \\left[\\begin{matrix}0.0254166666666667 s^{3}\\end{matrix}\\right]$"
      ],
      "text/plain": [
       "⎡                    3⎤\n",
       "⎣0.0254166666666667⋅s ⎦"
      ]
     },
     "execution_count": 33,
     "metadata": {},
     "output_type": "execute_result"
    }
   ],
   "source": [
    "sm.M"
   ]
  },
  {
   "cell_type": "code",
   "execution_count": 34,
   "metadata": {},
   "outputs": [
    {
     "data": {
      "image/png": "[encoded data removed]",
      "text/latex": [
       "$\\displaystyle 0.12 V^{2} \\beta c \\rho \\pi - 1.63934426229508 V a_{0} c \\rho \\dot{q}_{0}$"
      ],
      "text/plain": [
       "      2                                       \n",
       "0.12⋅V ⋅β⋅c⋅ρ⋅π - 1.63934426229508⋅V⋅a₀⋅c⋅ρ⋅q₀̇"
      ]
     },
     "execution_count": 34,
     "metadata": {},
     "output_type": "execute_result"
    }
   ],
   "source": [
    "eom = (sm.M.inv()*(-sm.f+sm.ExtForces.Q()))[0]+p.beta*sym.Rational(1,2)*p.rho*p.V**2*p.c*0.12*2*sym.pi\n",
    "eom"
   ]
  },
  {
   "cell_type": "code",
   "execution_count": 35,
   "metadata": {},
   "outputs": [
    {
     "data": {
      "text/latex": [
       "$\\displaystyle \\left[\\begin{matrix}- \\frac{V a_{0} c \\rho s^{3} \\dot{q}_{0}}{24}\\end{matrix}\\right]$"
      ],
      "text/plain": [
       "⎡           3    ⎤\n",
       "⎢-V⋅a₀⋅c⋅ρ⋅s ⋅q₀̇ ⎥\n",
       "⎢────────────────⎥\n",
       "⎣       24       ⎦"
      ]
     },
     "execution_count": 35,
     "metadata": {},
     "output_type": "execute_result"
    }
   ],
   "source": [
    "x = []\n",
    "eom = (sm.subs(p.GetSubs(0,None,ignore=[p.V,p.s])).M.inv()*(-sm.f+sm.ExtForces.Q()))[0]+p.beta*sym.Rational(1,2)*p.rho*p.V**2*p.c*0.12*2*sym.pi\n",
    "\n",
    "eom = eom.subs({p.c:0.067,p.a_0:2*sym.pi,p.rho:1.225})\n",
    "eom\n",
    "-sm.f+sm.ExtForces.Q()"
   ]
  },
  {
   "cell_type": "code",
   "execution_count": 36,
   "metadata": {},
   "outputs": [
    {
     "data": {
      "image/png": "[encoded data removed]",
      "text/latex": [
       "$\\displaystyle 4.4952560333697305$"
      ],
      "text/plain": [
       "4.4952560333697305"
      ]
     },
     "execution_count": 36,
     "metadata": {},
     "output_type": "execute_result"
    }
   ],
   "source": [
    "args = eom.args\n",
    "func_beta = sym.lambdify((p.V,p.s,p.qd[0]),-args[1]/args[0]*p.beta)\n",
    "func_beta(15,1,np.deg2rad(141.4))"
   ]
  },
  {
   "cell_type": "code",
   "execution_count": 37,
   "metadata": {},
   "outputs": [
    {
     "name": "stdout",
     "output_type": "stream",
     "text": [
      "[4.4952560333697305, 4.5942624806595465, 4.654211338651545, 4.749584521820635, 4.932701033505286, 5.030501897700497, 5.084980215965264]\n"
     ]
    },
    {
     "data": {
      "image/png": "[encoded data removed]",
      "text/latex": [
       "$\\displaystyle 4.791642503096072$"
      ],
      "text/plain": [
       "4.791642503096072"
      ]
     },
     "execution_count": 37,
     "metadata": {},
     "output_type": "execute_result"
    }
   ],
   "source": [
    "vs = [15,17.5,20,22.5,25,27.5,30]\n",
    "rate = [141.4,168.6,195.2,224.1,258.6,290.1,319.9]\n",
    "beta = [func_beta(vs[i],1,np.deg2rad(rate[i])) for i,v in enumerate(vs)]\n",
    "print(beta)\n",
    "np.mean(beta)\n",
    "\n"
   ]
  },
  {
   "cell_type": "code",
   "execution_count": 38,
   "metadata": {},
   "outputs": [
    {
     "data": {
      "image/png": "[encoded data removed]",
      "text/latex": [
       "$\\displaystyle \\left[ 150.72294990723563, \\  175.84344155844155, \\  200.96393320964748, \\  226.08442486085346, \\  251.20491651205938, \\  276.32540816326525, \\  301.44589981447126\\right]$"
      ],
      "text/plain": [
       "[150.72294990723563, 175.84344155844155, 200.96393320964748, 226.0844248608534\n",
       "6, 251.20491651205938, 276.32540816326525, 301.44589981447126]"
      ]
     },
     "execution_count": 38,
     "metadata": {},
     "output_type": "execute_result"
    }
   ],
   "source": [
    "func_qd = sym.lambdify((p.V,p.s,p.beta),args[0]/-args[1]*p.qd[0])\n",
    "rate= [func_qd(v,0.72,np.mean(beta))/np.pi*180 for v in vs]\n",
    "rate"
   ]
  },
  {
   "cell_type": "code",
   "execution_count": 18,
   "metadata": {},
   "outputs": [
    {
     "data": {
      "text/latex": [
       "$\\displaystyle \\left[\\begin{matrix}\\frac{39.344262295082}{s^{3}}\\end{matrix}\\right]$"
      ],
      "text/plain": [
       "⎡39.344262295082⎤\n",
       "⎢───────────────⎥\n",
       "⎢        3      ⎥\n",
       "⎣       s       ⎦"
      ]
     },
     "execution_count": 18,
     "metadata": {},
     "output_type": "execute_result"
    }
   ],
   "source": [
    "sm.M.inv()"
   ]
  },
  {
   "cell_type": "code",
   "execution_count": null,
   "metadata": {},
   "outputs": [],
   "source": []
  }
 ],
 "metadata": {
  "kernelspec": {
   "display_name": "Python 3",
   "language": "python",
   "name": "python3"
  },
  "language_info": {
   "codemirror_mode": {
    "name": "ipython",
    "version": 3
   },
   "file_extension": ".py",
   "mimetype": "text/x-python",
   "name": "python",
   "nbconvert_exporter": "python",
   "pygments_lexer": "ipython3",
   "version": "3.7.7"
  }
 },
 "nbformat": 4,
 "nbformat_minor": 4
}
