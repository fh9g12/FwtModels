{
 "cells": [
  {
   "cell_type": "code",
   "execution_count": 1,
   "metadata": {},
   "outputs": [],
   "source": [
    "import sympy as sym\n",
    "import sympy.physics.mechanics as me\n",
    "from sympy.abc import t as time\n",
    "import pandas as pd\n",
    "import seaborn as sns\n",
    "\n",
    "import numpy as np\n",
    "from scipy.integrate import solve_ivp\n",
    "import matplotlib.pyplot as plt\n",
    "from scipy.interpolate import interp1d\n",
    "from scipy.optimize import fsolve,least_squares,root\n",
    "\n",
    "import sys, os\n",
    "\n",
    "sys.path.insert(1, os.path.join(sys.path[0], '../..'))\n",
    "import custom_plot_objects as cpo\n",
    "\n",
    "import ModelFramework as mf\n",
    "import ModelFramework.Elements as ele\n",
    "import ModelFramework.ExternalForces as ef\n",
    "import FwtModels.RectWing as rw\n",
    "import FwtModels.RollRig as RollRig\n",
    "\n",
    "from matplotlib.lines import Line2D\n",
    "\n",
    "me.mechanics_printing()"
   ]
  },
  {
   "cell_type": "code",
   "execution_count": 2,
   "metadata": {},
   "outputs": [],
   "source": [
    "p = RollRig.base_params(3)"
   ]
  },
  {
   "cell_type": "code",
   "execution_count": 51,
   "metadata": {},
   "outputs": [],
   "source": [
    "sm = mf.SymbolicModel.from_file('RollRigModel.py')\n",
    "sm.ExtForces = ef.CompositeForce([sm.ExtForces,ef.CustomForce(None)])\n",
    "sm = sm.subs({p.alpha_r.name:0,p.alpha_1.name:sym.atan(sym.sin(p.Lambda)*sym.sin(p.q[1])),\n",
    "             p.alpha_2.name:sym.atan(sym.sin(p.Lambda)*sym.sin(p.q[2]))})"
   ]
  },
  {
   "cell_type": "code",
   "execution_count": 57,
   "metadata": {},
   "outputs": [
    {
     "data": {
      "image/png": "[encoded data removed]",
      "text/latex": [
       "$\\displaystyle 1.225$"
      ],
      "text/plain": [
       "1.225"
      ]
     },
     "execution_count": 57,
     "metadata": {},
     "output_type": "execute_result"
    }
   ],
   "source": [
    "p.c.value = 0.067\n",
    "p.s.value = 1\n",
    "p.sigma.value = 0.28\n",
    "p.m_w.value = 0.22\n",
    "p.m_f.value = 0.038\n",
    "p.m_l.value = 0#0.0275\n",
    "p.alpha_r.value = 0\n",
    "p.c_d_max.value = 1\n",
    "p.a_0.value = 2*np.pi\n",
    "#p.tau.value = 0\n",
    "p.alpha_r.value = 0\n",
    "p.w_g.value = 0\n",
    "p.beta.value = 0\n",
    "\n",
    "#p.s.value = 0.72\n",
    "#p.sigma.value = 0\n",
    "#p.m_f.value = 0\n",
    "#p.m_l.value = 0\n",
    "\n",
    "\n",
    "p.Lambda.value = np.deg2rad(10)\n",
    "p.sigma.value\n",
    "p.rho.value"
   ]
  },
  {
   "cell_type": "code",
   "execution_count": 58,
   "metadata": {},
   "outputs": [],
   "source": [
    "nm = mf.NumericModel.from_SymbolicModel(p,sm)\n",
    "\n",
    "ext_f = nm.ExtForces.force_funcs[0]"
   ]
  },
  {
   "cell_type": "code",
   "execution_count": 59,
   "metadata": {},
   "outputs": [
    {
     "data": {
      "text/plain": [
       "array([-0.82968611,  0.03097877, -0.05760049])"
      ]
     },
     "execution_count": 59,
     "metadata": {},
     "output_type": "execute_result"
    }
   ],
   "source": [
    "thetadot = sym.Symbol('thetadot')\n",
    "steadyState = sm.msubs({p.qd[1]:0,p.qd[2]:0,p.qd[0]:thetadot,p.w_g:0})\n",
    "\n",
    "eom = steadyState.ExtForces.Q()-steadyState.f+sym.Matrix([p.V**2*p.beta,0,0])\n",
    "\n",
    "\n",
    "eom_func = sym.lambdify((p.GetTuple(),thetadot,p.q),eom)\n",
    "q = np.deg2rad([0,10,10])\n",
    "d_theta = np.deg2rad(100)\n",
    "x = eom_func(p.GetNumericTuple([q[0],d_theta,q[1],0,q[2],0],0),d_theta,q)[:,0]\n",
    "#(sm.subs({p.qd[1]:0,p.qd[2]:0}).ExtForces.Q()[0])\n"
   ]
  },
  {
   "cell_type": "code",
   "execution_count": 60,
   "metadata": {},
   "outputs": [
    {
     "data": {
      "image/png": "[encoded data removed]",
      "text/latex": [
       "$\\displaystyle \\left[ 222.31\\right]$"
      ],
      "text/plain": [
       "[222.31]"
      ]
     },
     "execution_count": 60,
     "metadata": {},
     "output_type": "execute_result"
    }
   ],
   "source": [
    "p.beta.value = 0.0037\n",
    "p.V.value = 22.5\n",
    "p.alpha_c.value = np.deg2rad(0)\n",
    "\n",
    "#res = fsolve(lambda x,v:eom_func(p.GetNumericTuple([v,x[0],x[1],0,x[2],0],0),x[0],[v,x[1],x[2]])[:,0],np.deg2rad([0,0,0]),args = (0,)) \n",
    "res = fsolve(lambda x,v:eom_func(p.GetNumericTuple([v,x[0],0,0,0,0],0),x[0],[v,0,0])[0,0],np.deg2rad([0]),args = (0,)) \n",
    "\n",
    "\n",
    "list(np.round(np.rad2deg(res),2))"
   ]
  },
  {
   "cell_type": "code",
   "execution_count": 72,
   "metadata": {},
   "outputs": [
    {
     "data": {
      "image/png": "[encoded data removed]",
      "text/latex": [
       "$\\displaystyle \\left[ 8.453247284784686, \\  0.33423858905039244, \\  0.2452541665541044, \\  4.948228025917738, \\  0.06888101525362457, \\  5.984524707782822\\right]$"
      ],
      "text/plain": [
       "[8.453247284784686, 0.33423858905039244, 0.2452541665541044, 4.948228025917738\n",
       ", 0.06888101525362457, 5.984524707782822]"
      ]
     },
     "execution_count": 72,
     "metadata": {},
     "output_type": "execute_result"
    }
   ],
   "source": [
    "\n",
    "model = nm\n",
    "ext_f = model.ExtForces.force_funcs[0]\n",
    "\n",
    "end_time = 10\n",
    "\n",
    "constraints = [np.NaN,np.NaN,np.NaN,np.NaN,np.NaN,np.NaN]\n",
    "#constraints = [np.NaN,np.NaN,0,0,0,0]\n",
    "\n",
    "def objectiveDeriv(t,y):\n",
    "    deriv = list(model.deriv(t,y,p.GetNumericTuple(y,t)))\n",
    "    return tuple(np.where(np.isnan(constraints),deriv,constraints))\n",
    "\n",
    "torque_period = 0.1\n",
    "torque_max = 0.0037*p.V.value**2\n",
    "\n",
    "def torque(tup,x,t):\n",
    "    if t<2:\n",
    "        return 0\n",
    "    elif t<torque_period/2+2:\n",
    "        return torque_max*0.5*(1- np.cos(2*np.pi*(t-2)/torque_period))\n",
    "    else:\n",
    "        return torque_max\n",
    "    \n",
    "    \n",
    "def custom_force(tup,x,t):\n",
    "    return np.array([[torque(tup,x,t)],[0],[0]])\n",
    "\n",
    "#angle_period = 0.1\n",
    "#angle_max = np.deg2rad(0)\n",
    "#def Angle(t,x):\n",
    "#    res = np.array([[0],[0],[0]])   \n",
    "#    if t<2:\n",
    "#        return 0\n",
    "#    elif t<angle_period/2+2:\n",
    "#        return angle_max*0.5*(1- np.cos(2*np.pi*(t-2)/angle_period))\n",
    "#    else:\n",
    "#        return angle_max\n",
    "#p.beta.value = Angle\n",
    "    \n",
    "    \n",
    "#p.tau.value = torque\n",
    "model.ExtForces.force_funcs = [ext_f , custom_force]\n",
    "\n",
    "# Generate I.C. and run the solver\n",
    "x = [0]*p.qs*2\n",
    "#x[::2] = fp_dict['q']\n",
    "yData = solve_ivp(objectiveDeriv,(0,end_time),x,max_step=0.01)\n",
    "\n",
    "#interpolate to reduce t and y points\n",
    "int_func = interp1d(yData.t,yData.y)\n",
    "\n",
    "t = np.linspace(0,end_time,(end_time*100)+1)\n",
    "yi = int_func(t)\n",
    "y = yi[:,-1]\n",
    "list(model.deriv(10,y,p.GetNumericTuple(y,10)))"
   ]
  },
  {
   "cell_type": "code",
   "execution_count": 73,
   "metadata": {},
   "outputs": [
    {
     "data": {
      "text/plain": [
       "[<matplotlib.lines.Line2D at 0x7ff294978350>]"
      ]
     },
     "execution_count": 73,
     "metadata": {},
     "output_type": "execute_result"
    },
    {
     "data": {
      "image/png": "[encoded data removed]",
      "text/plain": [
       "<Figure size 432x288 with 1 Axes>"
      ]
     },
     "metadata": {
      "needs_background": "light"
     },
     "output_type": "display_data"
    }
   ],
   "source": [
    "plt.plot(t,[torque((0,),[0],i) for i in t])"
   ]
  },
  {
   "cell_type": "code",
   "execution_count": 74,
   "metadata": {},
   "outputs": [
    {
     "name": "stdout",
     "output_type": "stream",
     "text": [
      "486.85605652647445\n"
     ]
    },
    {
     "data": {
      "image/png": "[encoded data removed]",
      "text/plain": [
       "<Figure size 432x288 with 1 Axes>"
      ]
     },
     "metadata": {
      "needs_background": "light"
     },
     "output_type": "display_data"
    }
   ],
   "source": [
    "plt.plot(t,np.rad2deg(yi[1,:]))\n",
    "print(max(np.rad2deg(yi[1,:])))"
   ]
  },
  {
   "cell_type": "code",
   "execution_count": 71,
   "metadata": {},
   "outputs": [
    {
     "data": {
      "text/plain": [
       "[<matplotlib.lines.Line2D at 0x7ff294a512d0>]"
      ]
     },
     "execution_count": 71,
     "metadata": {},
     "output_type": "execute_result"
    },
    {
     "data": {
      "image/png": "[encoded data removed]",
      "text/plain": [
       "<Figure size 432x288 with 1 Axes>"
      ]
     },
     "metadata": {
      "needs_background": "light"
     },
     "output_type": "display_data"
    }
   ],
   "source": [
    "ind = t>4\n",
    "plt.plot(np.mod(np.rad2deg(yi[0,ind]),360),np.rad2deg(yi[2,ind]),'o')"
   ]
  },
  {
   "cell_type": "code",
   "execution_count": 16,
   "metadata": {},
   "outputs": [
    {
     "data": {
      "image/png": "[encoded data removed]",
      "text/latex": [
       "$\\displaystyle \\frac{0.183060109289617 V^{2} a_{0} \\beta \\rho}{s} + 0.009849 \\pi V^{2} \\gamma - 0.10983606557377 V a_{0} \\rho \\dot{q}_{0}$"
      ],
      "text/plain": [
       "                   2                                                      \n",
       "0.183060109289617⋅V ⋅a₀⋅β⋅ρ               2                               \n",
       "─────────────────────────── + 0.009849⋅π⋅V ⋅γ - 0.10983606557377⋅V⋅a₀⋅ρ⋅q₀̇\n",
       "             s                                                            "
      ]
     },
     "execution_count": 16,
     "metadata": {},
     "output_type": "execute_result"
    }
   ],
   "source": [
    "sm_mini = sm.subs({p.sigma.name:0,p.sigma:0,p.m_f.name:0,p.m_l.name:0})\n",
    "eom = (sm_mini.M.inv()*(-sm_mini.f+sm_mini.ExtForces.Q()))[0]+sym.Symbol('gamma')*sym.Rational(1,2)*1.225*p.V**2*0.067*0.12*2*sym.pi\n",
    "\n",
    "eom = sym.simplify(eom.subs({p.c.name:0.067,p.sigma:0,p.sigma.name:0,p.m_w:p.s*0.305}))#,p.beta.name:0,p.rho.name:1.225,p.c:0.067,p.sigma:0,p.a_0.name:2*sym.pi,p.rho:1.225,p.m_w:p.s*0.305})\n",
    "#eom = sym.simplify(eom).expand()\n",
    "eom.args[0]/-eom.args[1]*p.qd[0]\n",
    "eom"
   ]
  },
  {
   "cell_type": "code",
   "execution_count": 43,
   "metadata": {},
   "outputs": [
    {
     "data": {
      "text/latex": [
       "$\\displaystyle \\left[\\begin{matrix}\\frac{12}{m_{w} s^{2}}\\end{matrix}\\right]$"
      ],
      "text/plain": [
       "⎡  12  ⎤\n",
       "⎢──────⎥\n",
       "⎢     2⎥\n",
       "⎣m_w⋅s ⎦"
      ]
     },
     "execution_count": 43,
     "metadata": {},
     "output_type": "execute_result"
    }
   ],
   "source": [
    "eom = sym.simplify((sm_mini.M.inv()*(-sm.f+sm.ExtForces.Q()))[0].subs({p.sigma.name:0,'c':0.067,'rho':1.225, p.a_0.name:2*sym.pi,p.beta.name:0}).subs({p.sigma:0}))+sym.Symbol('gamma')*sym.Rational(1,2)*1.225*p.V**2*0.067*0.12*2*sym.pi\n",
    "eom#.args[0]/-eom.args[1]*p.qd[0]\n",
    "sm_mini.M.inv()"
   ]
  },
  {
   "cell_type": "code",
   "execution_count": 18,
   "metadata": {},
   "outputs": [
    {
     "data": {
      "image/png": "[encoded data removed]",
      "text/latex": [
       "$\\displaystyle - \\frac{V a_{0} c \\rho s^{3} \\left(1 - \\sigma\\right)^{3} \\dot{q}_{0}}{24} - \\frac{5 s^{2} \\left(1 - \\sigma\\right)^{2} \\left(- \\frac{V^{2} a_{0} \\beta c \\rho}{4} + \\frac{V a_{0} c \\rho w_{g}}{4}\\right)}{36} + \\frac{5 s^{2} \\left(1 - \\sigma\\right)^{2} \\left(\\frac{V^{2} a_{0} \\beta c \\rho}{4} + \\frac{V a_{0} c \\rho w_{g}}{4}\\right)}{36}$"
      ],
      "text/plain": [
       "                                          ⎛   2                        ⎞      \n",
       "                               2        2 ⎜  V ⋅a₀⋅β⋅c⋅ρ   V⋅a₀⋅c⋅ρ⋅w_g⎟      \n",
       "            3        3      5⋅s ⋅(1 - σ) ⋅⎜- ─────────── + ────────────⎟   5⋅s\n",
       "  V⋅a₀⋅c⋅ρ⋅s ⋅(1 - σ) ⋅q₀̇                 ⎝       4             4      ⎠     \n",
       "- ─────────────────────── - ──────────────────────────────────────────── + ───\n",
       "             24                                  36                           \n",
       "\n",
       "           ⎛ 2                        ⎞\n",
       "2        2 ⎜V ⋅a₀⋅β⋅c⋅ρ   V⋅a₀⋅c⋅ρ⋅w_g⎟\n",
       " ⋅(1 - σ) ⋅⎜─────────── + ────────────⎟\n",
       "            ⎝     4             4      ⎠\n",
       "───────────────────────────────────────\n",
       "                 36                    "
      ]
     },
     "execution_count": 18,
     "metadata": {},
     "output_type": "execute_result"
    }
   ],
   "source": [
    "ff.subs({'sigma':0})"
   ]
  },
  {
   "cell_type": "code",
   "execution_count": 85,
   "metadata": {},
   "outputs": [
    {
     "data": {
      "text/plain": [
       "ModelFramework.ModelParameters.ModelSymbol"
      ]
     },
     "execution_count": 85,
     "metadata": {},
     "output_type": "execute_result"
    }
   ],
   "source": [
    "type(val)"
   ]
  },
  {
   "cell_type": "code",
   "execution_count": 22,
   "metadata": {},
   "outputs": [
    {
     "data": {
      "text/latex": [
       "$\\displaystyle \\left[\\begin{matrix}- \\frac{V a_{0} c \\rho s^{3} \\dot{q}_{0}}{24} - \\frac{5 s^{2} \\left(- \\frac{V^{2} a_{0} \\beta c \\rho}{4} + \\frac{V a_{0} c \\rho w_{g}}{4}\\right)}{36} + \\frac{5 s^{2} \\left(\\frac{V^{2} a_{0} \\beta c \\rho}{4} + \\frac{V a_{0} c \\rho w_{g}}{4}\\right)}{36}\\end{matrix}\\right]$"
      ],
      "text/plain": [
       "⎡                        ⎛   2                        ⎞        ⎛ 2            \n",
       "⎢                      2 ⎜  V ⋅a₀⋅β⋅c⋅ρ   V⋅a₀⋅c⋅ρ⋅w_g⎟      2 ⎜V ⋅a₀⋅β⋅c⋅ρ   \n",
       "⎢            3      5⋅s ⋅⎜- ─────────── + ────────────⎟   5⋅s ⋅⎜─────────── + \n",
       "⎢  V⋅a₀⋅c⋅ρ⋅s ⋅q₀̇        ⎝       4             4      ⎠        ⎝     4       \n",
       "⎢- ────────────── - ─────────────────────────────────── + ────────────────────\n",
       "⎣        24                          36                                   36  \n",
       "\n",
       "            ⎞⎤\n",
       "V⋅a₀⋅c⋅ρ⋅w_g⎟⎥\n",
       "────────────⎟⎥\n",
       "      4      ⎠⎥\n",
       "─────────────⎥\n",
       "             ⎦"
      ]
     },
     "execution_count": 22,
     "metadata": {},
     "output_type": "execute_result"
    }
   ],
   "source": [
    "sm.ExtForces.Q().subs({p.sigma.name:0}).subs({p.sigma:0})"
   ]
  },
  {
   "cell_type": "code",
   "execution_count": null,
   "metadata": {},
   "outputs": [],
   "source": []
  }
 ],
 "metadata": {
  "kernelspec": {
   "display_name": "Python 3",
   "language": "python",
   "name": "python3"
  },
  "language_info": {
   "codemirror_mode": {
    "name": "ipython",
    "version": 3
   },
   "file_extension": ".py",
   "mimetype": "text/x-python",
   "name": "python",
   "nbconvert_exporter": "python",
   "pygments_lexer": "ipython3",
   "version": "3.7.7"
  }
 },
 "nbformat": 4,
 "nbformat_minor": 4
}
