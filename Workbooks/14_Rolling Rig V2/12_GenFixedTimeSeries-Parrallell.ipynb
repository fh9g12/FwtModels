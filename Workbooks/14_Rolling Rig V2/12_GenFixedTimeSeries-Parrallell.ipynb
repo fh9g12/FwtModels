{
 "cells": [
  {
   "cell_type": "code",
   "execution_count": 1,
   "metadata": {},
   "outputs": [],
   "source": [
    "import sympy as sym\n",
    "import sympy.physics.mechanics as me\n",
    "from sympy.abc import t as time\n",
    "import pandas as pd\n",
    "import seaborn as sns\n",
    "\n",
    "import numpy as np\n",
    "from scipy.integrate import solve_ivp\n",
    "import matplotlib.pyplot as plt\n",
    "from scipy.interpolate import interp1d\n",
    "from scipy.optimize import fsolve,least_squares,root\n",
    "\n",
    "import sys, os\n",
    "import pickle\n",
    "\n",
    "sys.path.insert(1, os.path.join(sys.path[0], '../..'))\n",
    "import custom_plot_objects as cpo\n",
    "\n",
    "import ModelFramework as mf\n",
    "import ModelFramework.Elements as ele\n",
    "import ModelFramework.ExternalForces as ef\n",
    "import FwtModels.RectWing as rw\n",
    "import FwtModels.RollRig as RollRig\n",
    "import multiprocessing as mp\n",
    "from multiprocessing import set_start_method\n",
    "#set_start_method(\"spawn\")\n",
    "\n",
    "from matplotlib.lines import Line2D\n",
    "\n",
    "me.mechanics_printing()"
   ]
  },
  {
   "cell_type": "code",
   "execution_count": 19,
   "metadata": {},
   "outputs": [],
   "source": [
    "# Add fixed params to dict\n",
    "params = {}\n",
    "params['c'] = 0.067\n",
    "params['s'] = 1\n",
    "params['sigma'] = 0.272\n",
    "params['alpha_r'] = 0\n",
    "params['c_d_max'] = 1\n",
    "params['a_0'] = 2*np.pi\n",
    "params['Lambda'] = np.deg2rad(0)\n",
    "params['alpha_c'] = np.deg2rad(0)"
   ]
  },
  {
   "cell_type": "code",
   "execution_count": 20,
   "metadata": {},
   "outputs": [],
   "source": [
    "# create configs\n",
    "configs = []\n",
    "locked_params = {}\n",
    "locked_params['m_w'] = 0.884\n",
    "locked_params['I_xx_w'] = 0.03978611\n",
    "locked_params['eta_0'] = 0.00047\n",
    "locked_params['eta_1'] = -0.00238\n",
    "locked_params['a_1'] = 2*np.pi\n",
    "configs.append(({'Mode':'Locked'},locked_params))\n",
    "\n",
    "removed_params = {}\n",
    "removed_params['m_w'] = 0.735\n",
    "removed_params['I_xx_w'] = 0.014820479\n",
    "removed_params['eta_0'] = 0.0020145\n",
    "removed_params['eta_1'] = -0.002775\n",
    "removed_params['a_1'] = 0\n",
    "configs.append(({'Mode':'Removed'},removed_params))"
   ]
  },
  {
   "cell_type": "code",
   "execution_count": 21,
   "metadata": {},
   "outputs": [],
   "source": [
    "# create Jobs\n",
    "attitudes=[]\n",
    "vs = [15,20,25,30]\n",
    "for v in vs:\n",
    "    aas = [7,14,21]\n",
    "    offset = [-0.13,-0.10,0.05]\n",
    "    for i,tm in enumerate([1.57,2.31,2.75]):\n",
    "        beta = (tm)*8.4e-4*v**2+offset[i]\n",
    "        attitudes.append(({\"AileronAngle\":aas[i],},{\"V\":v,\"beta\":beta}))"
   ]
  },
  {
   "cell_type": "code",
   "execution_count": 22,
   "metadata": {},
   "outputs": [
    {
     "data": {
      "text/plain": [
       "{'c': 0.067,\n",
       " 's': 1,\n",
       " 'sigma': 0.272,\n",
       " 'alpha_r': 0,\n",
       " 'c_d_max': 1,\n",
       " 'a_0': 6.283185307179586,\n",
       " 'Lambda': 0.0,\n",
       " 'alpha_c': 0.0,\n",
       " 'm_w': 0.884,\n",
       " 'I_xx_w': 0.03978611,\n",
       " 'eta_0': 0.00047,\n",
       " 'eta_1': -0.00238,\n",
       " 'a_1': 6.283185307179586,\n",
       " 'V': 15,\n",
       " 'beta': 0.16673000000000004}"
      ]
     },
     "execution_count": 22,
     "metadata": {},
     "output_type": "execute_result"
    }
   ],
   "source": [
    "jobs=[({**config,**att},{**params,**config_params,**att_params}) for config,config_params in configs for att,att_params in attitudes]\n",
    "jobs[0][1]"
   ]
  },
  {
   "cell_type": "code",
   "execution_count": 23,
   "metadata": {},
   "outputs": [
    {
     "name": "stdout",
     "output_type": "stream",
     "text": [
      "33.650053384925776\n"
     ]
    },
    {
     "data": {
      "text/plain": [
       "{'Mode': 'Locked',\n",
       " 'AileronAngle': 7,\n",
       " 'c': 0.067,\n",
       " 's': 1,\n",
       " 'sigma': 0.272,\n",
       " 'alpha_r': 0,\n",
       " 'c_d_max': 1,\n",
       " 'a_0': 6.283185307179586,\n",
       " 'Lambda': 0.0,\n",
       " 'alpha_c': 0.0,\n",
       " 'm_w': 0.884,\n",
       " 'I_xx_w': 0.03978611,\n",
       " 'eta_0': 0.00047,\n",
       " 'eta_1': -0.00238,\n",
       " 'a_1': 6.283185307179586,\n",
       " 'V': 15,\n",
       " 'beta': 0.16673000000000004}"
      ]
     },
     "execution_count": 23,
     "metadata": {},
     "output_type": "execute_result"
    },
    {
     "data": {
      "image/png": "[encoded data removed]",
      "text/plain": [
       "<Figure size 432x288 with 1 Axes>"
      ]
     },
     "metadata": {
      "needs_background": "light"
     },
     "output_type": "display_data"
    }
   ],
   "source": [
    "names = ['Roll','Roll Rate','Left FWT Angle','Left FWT Velocity','Right FWT Angle','Right FWT Velocity']\n",
    "#GenRunData('tempModel.py',3,[0]*p.qs*2,10,{**params,**jobs[0]},names,{'Mode':'Free'},100)[100]\n",
    "data = RollRig.GenRunData_StepTorque('RollRigModel-Fixed.py',1,[0,0],10,jobs[0][1],names[:2],{**jobs[0][0],**{n:0 for n in names[2:]}},100)\n",
    "df = pd.DataFrame(data)\n",
    "plt.plot(df['t'],df['torque'])\n",
    "plt.plot(df['t'],np.rad2deg(df['Roll Rate']))\n",
    "\n",
    "print(np.rad2deg(df[df['t']>4]['Roll Rate'].mean()))\n",
    "{**jobs[0][0],**jobs[0][1]}"
   ]
  },
  {
   "cell_type": "code",
   "execution_count": 24,
   "metadata": {},
   "outputs": [
    {
     "name": "stdout",
     "output_type": "stream",
     "text": [
      "CPU times: user 324 ms, sys: 104 ms, total: 428 ms\n",
      "Wall time: 7.01 s\n"
     ]
    }
   ],
   "source": [
    "%%time\n",
    "# for each job edit the parameters and pool it \n",
    "pool = mp.Pool(mp.cpu_count())\n",
    "names = ['Roll','Roll Rate','Left FWT Angle','Left FWT Velocity','Right FWT Angle','Right FWT Velocity']\n",
    "\n",
    "res=[]\n",
    "for job in jobs:\n",
    "    res.append(pool.apply_async(RollRig.GenRunData_StepTorque, args = ('RollRigModel-Fixed.py',1,[0]*2,10,job[1],names[:2],{**job[0],**{n:0 for n in names[2:]}},100)))\n",
    "pool.close()\n",
    "pool.join()\n",
    "\n",
    "ls = []\n",
    "for i in res:\n",
    "    ls += i.get()\n",
    "df = pd.DataFrame(ls)\n",
    "df.to_pickle('FixedData.pkl')"
   ]
  },
  {
   "cell_type": "code",
   "execution_count": 25,
   "metadata": {},
   "outputs": [
    {
     "data": {
      "text/plain": [
       "Mode     V   AileronAngle\n",
       "Locked   15  7                33.650053\n",
       "             14               71.200759\n",
       "             21              121.750759\n",
       "         20  7                63.520156\n",
       "             14              108.710608\n",
       "             21              156.558180\n",
       "         25  7                88.939774\n",
       "             14              142.874819\n",
       "             21              191.772259\n",
       "         30  7               113.164140\n",
       "             14              176.122210\n",
       "             21              227.762292\n",
       "Removed  15  7                74.163654\n",
       "             14              155.630924\n",
       "             21              262.378719\n",
       "         20  7               137.059207\n",
       "             14              233.246115\n",
       "             21              335.519361\n",
       "         25  7               191.961403\n",
       "             14              307.324244\n",
       "             21              412.040841\n",
       "         30  7               243.369472\n",
       "             14              378.617746\n",
       "             21              489.384030\n",
       "Name: Roll Rate [Deg], dtype: float64"
      ]
     },
     "execution_count": 25,
     "metadata": {},
     "output_type": "execute_result"
    }
   ],
   "source": [
    "df['Roll Rate [Deg]']=np.rad2deg(df['Roll Rate'])\n",
    "df[df['t']>4].groupby(['Mode','V','AileronAngle'])['Roll Rate [Deg]'].mean()"
   ]
  },
  {
   "cell_type": "code",
   "execution_count": 26,
   "metadata": {},
   "outputs": [],
   "source": [
    "df.to_csv(r'/Users/fintan/Git/FlexiFWT_DAQ/Analysis/RollingRigV3/ModelComparison/FixedData.csv', index = False)"
   ]
  },
  {
   "cell_type": "code",
   "execution_count": null,
   "metadata": {},
   "outputs": [],
   "source": []
  }
 ],
 "metadata": {
  "kernelspec": {
   "display_name": "Python 3",
   "language": "python",
   "name": "python3"
  },
  "language_info": {
   "codemirror_mode": {
    "name": "ipython",
    "version": 3
   },
   "file_extension": ".py",
   "mimetype": "text/x-python",
   "name": "python",
   "nbconvert_exporter": "python",
   "pygments_lexer": "ipython3",
   "version": "3.7.7"
  }
 },
 "nbformat": 4,
 "nbformat_minor": 4
}
