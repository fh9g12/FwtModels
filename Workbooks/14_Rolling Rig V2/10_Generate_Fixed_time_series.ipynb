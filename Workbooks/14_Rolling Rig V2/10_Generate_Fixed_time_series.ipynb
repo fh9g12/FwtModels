{
 "cells": [
  {
   "cell_type": "code",
   "execution_count": 1,
   "metadata": {},
   "outputs": [],
   "source": [
    "import sympy as sym\n",
    "import sympy.physics.mechanics as me\n",
    "from sympy.abc import t as time\n",
    "import pandas as pd\n",
    "import seaborn as sns\n",
    "\n",
    "import numpy as np\n",
    "from scipy.integrate import solve_ivp\n",
    "import matplotlib.pyplot as plt\n",
    "from scipy.interpolate import interp1d\n",
    "from scipy.optimize import fsolve,least_squares,root\n",
    "\n",
    "import sys, os\n",
    "\n",
    "sys.path.insert(1, os.path.join(sys.path[0], '../..'))\n",
    "import custom_plot_objects as cpo\n",
    "\n",
    "import ModelFramework as mf\n",
    "import ModelFramework.Elements as ele\n",
    "import ModelFramework.ExternalForces as ef\n",
    "import FwtModels.RectWing as rw\n",
    "import FwtModels.RollRig as RollRig\n",
    "\n",
    "from matplotlib.lines import Line2D\n",
    "\n",
    "me.mechanics_printing()"
   ]
  },
  {
   "cell_type": "code",
   "execution_count": 2,
   "metadata": {},
   "outputs": [],
   "source": [
    "p = RollRig.base_params(1)"
   ]
  },
  {
   "cell_type": "code",
   "execution_count": 3,
   "metadata": {},
   "outputs": [],
   "source": [
    "sm = mf.SymbolicModel.from_file('RollRigModel-Fixed.py')\n",
    "sm.ExtForces = ef.CompositeForce([sm.ExtForces,ef.CustomForce(None)])\n",
    "sm = sm.subs({p.alpha_r.name:0})"
   ]
  },
  {
   "cell_type": "code",
   "execution_count": 4,
   "metadata": {},
   "outputs": [
    {
     "data": {
      "text/plain": [
       "<bound method CompositeForce.Q of <ModelFramework.ExternalForces.CompositeForce.CompositeForce object at 0x7fd948190590>>"
      ]
     },
     "execution_count": 4,
     "metadata": {},
     "output_type": "execute_result"
    }
   ],
   "source": [
    "sm.ExtForces.Q"
   ]
  },
  {
   "cell_type": "code",
   "execution_count": 51,
   "metadata": {},
   "outputs": [],
   "source": [
    "p.c.value = 0.0677\n",
    "p.s.value = 1\n",
    "p.sigma.value = 0.272\n",
    "p.m_w.value = 0.22\n",
    "\n",
    "\n",
    "p.eta_0.value = 0\n",
    "p.eta_1.value = 0\n",
    "\n",
    "p.alpha_r.value = 0\n",
    "p.c_d_max.value = 0\n",
    "\n",
    "p.a_0.value = 2*np.pi\n",
    "p.a_1.value = 2*np.pi\n",
    "\n",
    "\n",
    "p.w_g.value = 0\n",
    "p.V.value = 22.5\n",
    "\n",
    "#p.s.value = 0.72\n",
    "#p.sigma.value = 0\n",
    "#p.m_f.value = 0\n",
    "#p.m_l.value = 0\n",
    "\n",
    "\n",
    "p.Lambda.value = 0"
   ]
  },
  {
   "cell_type": "code",
   "execution_count": 52,
   "metadata": {},
   "outputs": [],
   "source": [
    "nm = mf.NumericModel.from_SymbolicModel(p,sm)\n",
    "\n",
    "\n",
    "\n"
   ]
  },
  {
   "cell_type": "code",
   "execution_count": 53,
   "metadata": {},
   "outputs": [],
   "source": [
    "def GenRunData(model,p,ic,end_time,xNames=None,additional_cols = {},sample_freq=100):\n",
    "    \n",
    "    if xNames==None:\n",
    "        xNames = [f'x{i}' for i in range(p.qs*2)]\n",
    "    \n",
    "    # create objective function and solve\n",
    "    def objectiveDeriv(t,y):\n",
    "        return nm.deriv(t,y,p.GetNumericTuple(y,t))\n",
    "    yData = solve_ivp(objectiveDeriv,(0,end_time),ic,max_step=1/sample_freq)\n",
    "    \n",
    "    t = np.linspace(0,end_time,(end_time*100)+1)\n",
    "   \n",
    "    #interpolate to reduce t and y points\n",
    "    int_func = interp1d(yData.t,yData.y)  \n",
    "    yi = int_func(t)\n",
    "    \n",
    "    #generate list\n",
    "    q_data = [{names[i]:v for i,v in enumerate(row)}for row in yi.T]    \n",
    "    params = {k.name:v for k,v in p.GetSubs(0,None).items()}\n",
    "\n",
    "\n",
    "    data = [{'t':_t,'Locked':True,**q_data[i],**params,**additional_cols} for i,_t in enumerate(t)]\n",
    "    return data\n",
    "    "
   ]
  },
  {
   "cell_type": "code",
   "execution_count": 54,
   "metadata": {},
   "outputs": [
    {
     "data": {
      "image/png": "[encoded data removed]",
      "text/latex": [
       "$\\displaystyle 0.014820479$"
      ],
      "text/plain": [
       "0.014820479"
      ]
     },
     "execution_count": 54,
     "metadata": {},
     "output_type": "execute_result"
    }
   ],
   "source": [
    "p.I_xx_w.value"
   ]
  },
  {
   "cell_type": "code",
   "execution_count": 69,
   "metadata": {},
   "outputs": [
    {
     "name": "stdout",
     "output_type": "stream",
     "text": [
      "0.03978611\n",
      "0.03978611\n",
      "0.03978611\n",
      "0.03978611\n",
      "0.014820479\n",
      "0.014820479\n",
      "0.014820479\n",
      "0.014820479\n"
     ]
    }
   ],
   "source": [
    "names = ['Roll','Roll Rate','Left FWT Angle','Left FWT Velocity','Right FWT Angle','Right FWT Velocity']\n",
    "\n",
    "res = []\n",
    "\n",
    "for mode in ['Locked','Removed']:\n",
    "    if mode =='Locked':\n",
    "        p.m_w.value = 0.884\n",
    "        p.I_xx_w.value = 0.03978611\n",
    "        p.eta_0.value = 0.00047\n",
    "        p.eta_1.value = -0.00238\n",
    "        p.a_1.value = 2*np.pi\n",
    "    else:\n",
    "        p.m_w.value = 0.735\n",
    "        p.I_xx_w.value = 0.014820479\n",
    "        p.eta_0.value = 0.0020145\n",
    "        p.eta_1.value = -0.002775\n",
    "        p.a_1.value = 0\n",
    "    for v in np.linspace(15,30,4):\n",
    "        print(p.I_xx_w.value)\n",
    "        p.V.value = v\n",
    "        \n",
    "        ext_f = nm.ExtForces.force_funcs[0]\n",
    "        torque_period = 0.1     \n",
    "        aas = [7,14,21]\n",
    "        offset = [-0.13,-0.10,0.05]\n",
    "        for i,tm in enumerate([1.57,2.31,2.75]):\n",
    "            p.beta.value = (tm)*8.4e-4\n",
    "            torque_max = p.beta.value*p.V.value**2+offset[i]\n",
    "\n",
    "            def torque(tup,x,t):\n",
    "                if t<2:\n",
    "                    return 0\n",
    "                elif t<torque_period/2+2:\n",
    "                    return torque_max*0.5*(1- np.cos(2*np.pi*(t-2)/torque_period))\n",
    "                else:\n",
    "                    return torque_max\n",
    "            def Aileron_drag(tup,x,t):\n",
    "                return -np.abs(x[1])*x[1]*0.0\n",
    "\n",
    "            def custom_force(tup,x,t):\n",
    "                return np.array([[torque(tup,x,t)+Aileron_drag(tup,x,t)]])\n",
    "\n",
    "            nm.ExtForces.force_funcs = [ext_f , custom_force]\n",
    "\n",
    "            res+=GenRunData(nm,p,[0,0],10,names[:2],{'Mode':mode,'AileronAngle':aas[i],**{n:0 for n in names[2:]}},100)\n",
    "df = pd.DataFrame(res)\n",
    "df.to_pickle('FixedData.pkl')"
   ]
  },
  {
   "cell_type": "code",
   "execution_count": 70,
   "metadata": {},
   "outputs": [
    {
     "data": {
      "text/plain": [
       "Mode     V     AileronAngle\n",
       "Locked   15.0  7                34.500135\n",
       "               14               70.895164\n",
       "               21              120.595817\n",
       "         20.0  7                62.911253\n",
       "               14              107.460163\n",
       "               21              154.504014\n",
       "         25.0  7                88.699024\n",
       "               14              141.515416\n",
       "               21              189.735201\n",
       "         30.0  7               111.843647\n",
       "               14              174.241198\n",
       "               21              225.460679\n",
       "Removed  15.0  7                75.547008\n",
       "               14              152.512105\n",
       "               21              259.548569\n",
       "         20.0  7               136.295791\n",
       "               14              231.341509\n",
       "               21              332.956399\n",
       "         25.0  7               189.591177\n",
       "               14              304.446663\n",
       "               21              408.697451\n",
       "         30.0  7               240.886357\n",
       "               14              375.158412\n",
       "               21              485.404977\n",
       "Name: Roll Rate [Deg], dtype: float64"
      ]
     },
     "execution_count": 70,
     "metadata": {},
     "output_type": "execute_result"
    }
   ],
   "source": [
    "df['Roll Rate [Deg]']=np.rad2deg(df['Roll Rate'])\n",
    "df[df['t']>4].groupby(['Mode','V','AileronAngle'])['Roll Rate [Deg]'].mean()"
   ]
  },
  {
   "cell_type": "code",
   "execution_count": 71,
   "metadata": {},
   "outputs": [],
   "source": [
    "df.to_csv(r'/Users/fintan/Git/FlexiFWT_DAQ/Analysis/RollingRigV3/ModelComparison/FixedData.csv', index = False)"
   ]
  },
  {
   "cell_type": "code",
   "execution_count": null,
   "metadata": {},
   "outputs": [],
   "source": []
  }
 ],
 "metadata": {
  "kernelspec": {
   "display_name": "Python 3",
   "language": "python",
   "name": "python3"
  },
  "language_info": {
   "codemirror_mode": {
    "name": "ipython",
    "version": 3
   },
   "file_extension": ".py",
   "mimetype": "text/x-python",
   "name": "python",
   "nbconvert_exporter": "python",
   "pygments_lexer": "ipython3",
   "version": "3.7.7"
  }
 },
 "nbformat": 4,
 "nbformat_minor": 4
}
