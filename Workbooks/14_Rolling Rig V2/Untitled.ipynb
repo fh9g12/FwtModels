{
 "cells": [
  {
   "cell_type": "code",
   "execution_count": 1,
   "metadata": {},
   "outputs": [],
   "source": [
    "import sympy as sym\n",
    "import sympy.physics.mechanics as me\n",
    "from sympy.abc import t as time\n",
    "import pandas as pd\n",
    "import seaborn as sns\n",
    "\n",
    "import numpy as np\n",
    "from scipy.integrate import solve_ivp\n",
    "import matplotlib.pyplot as plt\n",
    "\n",
    "import sys, os\n",
    "\n",
    "sys.path.insert(1, os.path.join(sys.path[0], '../..'))\n",
    "import custom_plot_objects as cpo\n",
    "\n",
    "import ModelFramework as mf\n",
    "import ModelFramework.Elements as ele\n",
    "import ModelFramework.ExternalForces as ef\n",
    "import FwtModels.RectWing as rw\n",
    "import FwtModels.RollRig as RollRig\n",
    "\n",
    "from matplotlib.lines import Line2D\n",
    "\n",
    "me.mechanics_printing()"
   ]
  },
  {
   "cell_type": "code",
   "execution_count": 2,
   "metadata": {},
   "outputs": [],
   "source": [
    "half = sym.Rational(1,2)\n",
    "\n",
    "p = RollRig.base_params()"
   ]
  },
  {
   "cell_type": "code",
   "execution_count": 3,
   "metadata": {},
   "outputs": [
    {
     "data": {
      "text/plain": [
       "<ModelFramework.ModelParameters.ModelParameters at 0x7fa64a15fd10>"
      ]
     },
     "execution_count": 3,
     "metadata": {},
     "output_type": "execute_result"
    }
   ],
   "source": [
    "p"
   ]
  },
  {
   "cell_type": "code",
   "execution_count": 4,
   "metadata": {},
   "outputs": [],
   "source": [
    "wing_frame = mf.HomogenousTransform().R_x(p.q[0]).R_y(p.alpha_r)\n",
    "rhs_fwt_frame = wing_frame.Translate(0,p.s_w*half,0).R_x(-p.q[1])  # RHS Fwt Frame\n",
    "lhs_fwt_frame = wing_frame.Translate(0,-p.s_w*half,0).R_x(p.q[2])  # RHS Fwt Frame\n",
    "\n",
    "M_fwt = ele.MassMatrix(p.m_f,I_xx = p.I_xx_f)\n",
    "M_w = ele.MassMatrix(p.m_w,I_xx = p.I_xx_w)\n",
    "#M_lock = ele.MassMatrix(p.m_l)\n",
    "\n",
    "bar_fwt_rhs = ele.RigidElement(rhs_fwt_frame.Translate(0,p.s_f*half,0),M_fwt,True)\n",
    "bar_fwt_lhs = ele.RigidElement(lhs_fwt_frame.Translate(0,-p.s_f*half,0),M_fwt,True)\n",
    "bar_wing = ele.RigidElement(wing_frame,M_w)"
   ]
  },
  {
   "cell_type": "code",
   "execution_count": 19,
   "metadata": {},
   "outputs": [],
   "source": [
    "# Main Wing Aero Forces \n",
    "wing_AeroForces = ef.AeroForce_4.PerUnitSpan(p,wing_frame.Translate(0,p.y_w,0),p.a_0,\n",
    "                               alphadot = 0,\n",
    "                               M_thetadot = 0,\n",
    "                               e = 0,\n",
    "                               w_g = p.w_g,\n",
    "                               rootAlpha = p.alpha_r,\n",
    "                               alpha_zero = 0,\n",
    "                               stall_angle = 0,\n",
    "                               c = p.c,\n",
    "                               c_d_max = 0,\n",
    "                               linear = True).integrate((p.y_w,-p.s_w*half,p.s_w*half))"
   ]
  },
  {
   "cell_type": "code",
   "execution_count": 6,
   "metadata": {},
   "outputs": [],
   "source": [
    "# Left FWT Aero Forces \n",
    "lhs_fwt_AeroForces = ef.AeroForce_4.PerUnitSpan(p,lhs_fwt_frame.Translate(0,-p.y_f,0),p.a_0,\n",
    "                               alphadot = 0,\n",
    "                               M_thetadot = 0,\n",
    "                               e = 0,\n",
    "                               w_g = p.w_g,\n",
    "                               rootAlpha = p.alpha_1,\n",
    "                               alpha_zero = 0,\n",
    "                               stall_angle = 0,\n",
    "                               c = p.c,\n",
    "                               c_d_max = 0,\n",
    "                               linear = True).integrate((p.y_f,0,p.s_f))"
   ]
  },
  {
   "cell_type": "code",
   "execution_count": 7,
   "metadata": {},
   "outputs": [],
   "source": [
    "# Left FWT Aero Forces \n",
    "rhs_fwt_AeroForces = ef.AeroForce_4.PerUnitSpan(p,rhs_fwt_frame.Translate(0,p.y_f,0),p.a_0,\n",
    "                               alphadot = 0,\n",
    "                               M_thetadot = 0,\n",
    "                               e = 0,\n",
    "                               w_g = p.w_g,\n",
    "                               rootAlpha = p.alpha_2,\n",
    "                               alpha_zero = 0,\n",
    "                               stall_angle = 0,\n",
    "                               c = p.c,\n",
    "                               c_d_max = 0,\n",
    "                               linear = True).integrate((p.y_f,0,p.s_f))"
   ]
  },
  {
   "cell_type": "code",
   "execution_count": 20,
   "metadata": {},
   "outputs": [
    {
     "data": {
      "text/latex": [
       "$\\displaystyle \\left[\\begin{matrix}- \\frac{V a_{0} c \\rho s^{3} \\left(1 - \\sigma\\right)^{3} \\operatorname{cos}^{2}\\left(\\alpha_{r}\\right) \\dot{q}_{0}}{24}\\\\0\\\\0\\end{matrix}\\right]$"
      ],
      "text/plain": [
       "⎡           3        3    2        ⎤\n",
       "⎢-V⋅a₀⋅c⋅ρ⋅s ⋅(1 - σ) ⋅cos (αᵣ)⋅q₀̇ ⎥\n",
       "⎢──────────────────────────────────⎥\n",
       "⎢                24                ⎥\n",
       "⎢                                  ⎥\n",
       "⎢                0                 ⎥\n",
       "⎢                                  ⎥\n",
       "⎣                0                 ⎦"
      ]
     },
     "execution_count": 20,
     "metadata": {},
     "output_type": "execute_result"
    }
   ],
   "source": [
    "wing_AeroForces.Q()"
   ]
  },
  {
   "cell_type": "code",
   "execution_count": 21,
   "metadata": {},
   "outputs": [],
   "source": [
    "Forcing = ef.CustomForce(None) \n",
    "\n",
    "CompositeForce = ef.CompositeForce([rhs_fwt_AeroForces,lhs_fwt_AeroForces,wing_AeroForces,Forcing])\n",
    "# create instance of the model\n",
    "sm = mf.SymbolicModel.FromElementsAndForces(p,[bar_fwt_rhs,bar_fwt_lhs,bar_wing],ExtForces = CompositeForce)"
   ]
  },
  {
   "cell_type": "code",
   "execution_count": 27,
   "metadata": {},
   "outputs": [
    {
     "data": {
      "text/latex": [
       "$\\displaystyle \\left[\\begin{matrix}- \\frac{m_{f} s^{2} \\sigma^{2} \\operatorname{cos}\\left(q_{1}\\right)}{4} - \\frac{m_{f} s^{2} \\sigma^{2} \\operatorname{cos}\\left(q_{2}\\right)}{4} + \\frac{2 m_{f} s^{2} \\sigma^{2}}{3} + \\frac{m_{f} s^{2} \\sigma \\operatorname{cos}\\left(q_{1}\\right)}{4} + \\frac{m_{f} s^{2} \\sigma \\operatorname{cos}\\left(q_{2}\\right)}{4} - m_{f} s^{2} \\sigma + \\frac{m_{f} s^{2}}{2} + \\frac{m_{w} s^{2} \\sigma^{2}}{12} - \\frac{m_{w} s^{2} \\sigma}{6} + \\frac{m_{w} s^{2}}{12} & \\frac{m_{f} s^{2} \\sigma^{2} \\operatorname{cos}\\left(q_{1}\\right)}{8} - \\frac{m_{f} s^{2} \\sigma^{2}}{12} - \\frac{m_{f} s^{2} \\sigma \\operatorname{cos}\\left(q_{1}\\right)}{8} & - \\frac{m_{f} s^{2} \\sigma^{2} \\operatorname{cos}\\left(q_{2}\\right)}{8} + \\frac{m_{f} s^{2} \\sigma^{2}}{12} + \\frac{m_{f} s^{2} \\sigma \\operatorname{cos}\\left(q_{2}\\right)}{8}\\\\\\frac{m_{f} s^{2} \\sigma^{2} \\operatorname{cos}\\left(q_{1}\\right)}{8} - \\frac{m_{f} s^{2} \\sigma^{2}}{12} - \\frac{m_{f} s^{2} \\sigma \\operatorname{cos}\\left(q_{1}\\right)}{8} & \\frac{m_{f} s^{2} \\sigma^{2}}{12} & 0\\\\- \\frac{m_{f} s^{2} \\sigma^{2} \\operatorname{cos}\\left(q_{2}\\right)}{8} + \\frac{m_{f} s^{2} \\sigma^{2}}{12} + \\frac{m_{f} s^{2} \\sigma \\operatorname{cos}\\left(q_{2}\\right)}{8} & 0 & \\frac{m_{f} s^{2} \\sigma^{2}}{12}\\end{matrix}\\right]$"
      ],
      "text/plain": [
       "⎡       2  2                2  2                  2  2        2               \n",
       "⎢  m_f⋅s ⋅σ ⋅cos(q₁)   m_f⋅s ⋅σ ⋅cos(q₂)   2⋅m_f⋅s ⋅σ    m_f⋅s ⋅σ⋅cos(q₁)   m_\n",
       "⎢- ───────────────── - ───────────────── + ─────────── + ──────────────── + ──\n",
       "⎢          4                   4                3               4             \n",
       "⎢                                                                             \n",
       "⎢                                                    2  2                2  2 \n",
       "⎢                                               m_f⋅s ⋅σ ⋅cos(q₁)   m_f⋅s ⋅σ  \n",
       "⎢                                               ───────────────── - ───────── \n",
       "⎢                                                       8               12    \n",
       "⎢                                                                             \n",
       "⎢                                                     2  2                2  2\n",
       "⎢                                                m_f⋅s ⋅σ ⋅cos(q₂)   m_f⋅s ⋅σ \n",
       "⎢                                              - ───────────────── + ─────────\n",
       "⎣                                                        8               12   \n",
       "\n",
       "   2                             2        2  2        2          2       2  2 \n",
       "f⋅s ⋅σ⋅cos(q₂)        2     m_f⋅s    m_w⋅s ⋅σ    m_w⋅s ⋅σ   m_w⋅s   m_f⋅s ⋅σ ⋅\n",
       "────────────── - m_f⋅s ⋅σ + ────── + ───────── - ──────── + ──────  ──────────\n",
       "     4                        2          12         6         12            8 \n",
       "                                                                              \n",
       "       2                                                                      \n",
       "  m_f⋅s ⋅σ⋅cos(q₁)                                                            \n",
       "- ────────────────                                                            \n",
       "         8                                                                    \n",
       "                                                                              \n",
       "        2                                                                     \n",
       "   m_f⋅s ⋅σ⋅cos(q₂)                                                           \n",
       " + ────────────────                                                           \n",
       "          8                                                                   \n",
       "\n",
       "               2  2        2                   2  2                2  2       \n",
       "cos(q₁)   m_f⋅s ⋅σ    m_f⋅s ⋅σ⋅cos(q₁)    m_f⋅s ⋅σ ⋅cos(q₂)   m_f⋅s ⋅σ    m_f⋅\n",
       "─────── - ───────── - ────────────────  - ───────────────── + ───────── + ────\n",
       "              12             8                    8               12          \n",
       "                                                                              \n",
       "              2  2                                                            \n",
       "         m_f⋅s ⋅σ                                                             \n",
       "         ─────────                                              0             \n",
       "             12                                                               \n",
       "                                                                              \n",
       "                                                                 2  2         \n",
       "                                                            m_f⋅s ⋅σ          \n",
       "             0                                              ─────────         \n",
       "                                                                12            \n",
       "\n",
       " 2          ⎤\n",
       "s ⋅σ⋅cos(q₂)⎥\n",
       "────────────⎥\n",
       "   8        ⎥\n",
       "            ⎥\n",
       "            ⎥\n",
       "            ⎥\n",
       "            ⎥\n",
       "            ⎥\n",
       "            ⎥\n",
       "            ⎥\n",
       "            ⎥\n",
       "            ⎥\n",
       "            ⎦"
      ]
     },
     "execution_count": 27,
     "metadata": {},
     "output_type": "execute_result"
    }
   ],
   "source": [
    "sm.M.subs(p.alpha_r,0)"
   ]
  },
  {
   "cell_type": "code",
   "execution_count": 28,
   "metadata": {},
   "outputs": [
    {
     "data": {
      "text/latex": [
       "$\\displaystyle \\left[\\begin{matrix}- g m_{f} \\left(- s \\sigma \\left(\\frac{\\operatorname{sin}\\left(q_{0}\\right) \\operatorname{sin}\\left(q_{1}\\right)}{4} + \\frac{\\operatorname{cos}\\left(q_{0}\\right) \\operatorname{cos}\\left(q_{1}\\right)}{4}\\right) - s \\left(\\frac{1}{2} - \\frac{\\sigma}{2}\\right) \\operatorname{cos}\\left(q_{0}\\right)\\right) - g m_{f} \\left(- s \\sigma \\left(\\frac{\\operatorname{sin}\\left(q_{0}\\right) \\operatorname{sin}\\left(q_{2}\\right)}{4} - \\frac{\\operatorname{cos}\\left(q_{0}\\right) \\operatorname{cos}\\left(q_{2}\\right)}{4}\\right) - s \\left(\\frac{\\sigma}{2} - \\frac{1}{2}\\right) \\operatorname{cos}\\left(q_{0}\\right)\\right) + \\frac{m_{f} s^{2} \\sigma^{2} \\operatorname{sin}\\left(q_{1}\\right) \\dot{q}_{0} \\dot{q}_{1}}{4} - \\frac{m_{f} s^{2} \\sigma^{2} \\operatorname{sin}\\left(q_{1}\\right) \\dot{q}_{1}^{2}}{8} + \\frac{m_{f} s^{2} \\sigma^{2} \\operatorname{sin}\\left(q_{2}\\right) \\dot{q}_{0} \\dot{q}_{2}}{4} + \\frac{m_{f} s^{2} \\sigma^{2} \\operatorname{sin}\\left(q_{2}\\right) \\dot{q}_{2}^{2}}{8} - \\frac{m_{f} s^{2} \\sigma \\operatorname{sin}\\left(q_{1}\\right) \\dot{q}_{0} \\dot{q}_{1}}{4} + \\frac{m_{f} s^{2} \\sigma \\operatorname{sin}\\left(q_{1}\\right) \\dot{q}_{1}^{2}}{8} - \\frac{m_{f} s^{2} \\sigma \\operatorname{sin}\\left(q_{2}\\right) \\dot{q}_{0} \\dot{q}_{2}}{4} - \\frac{m_{f} s^{2} \\sigma \\operatorname{sin}\\left(q_{2}\\right) \\dot{q}_{2}^{2}}{8}\\\\g m_{f} s \\sigma \\left(- \\frac{\\operatorname{sin}\\left(q_{0}\\right) \\operatorname{sin}\\left(q_{1}\\right)}{4} - \\frac{\\operatorname{cos}\\left(q_{0}\\right) \\operatorname{cos}\\left(q_{1}\\right)}{4}\\right) - \\frac{m_{f} s^{2} \\sigma^{2} \\operatorname{sin}\\left(q_{1}\\right) \\dot{q}_{0} \\dot{q}_{1}}{8} + \\frac{m_{f} s^{2} \\sigma \\operatorname{sin}\\left(q_{1}\\right) \\dot{q}_{0} \\dot{q}_{1}}{8} - \\frac{m_{f} s^{2} \\left(12 \\sigma^{2} \\operatorname{sin}\\left(q_{1}\\right) \\dot{q}_{0}^{2} - 12 \\sigma^{2} \\operatorname{sin}\\left(q_{1}\\right) \\dot{q}_{0} \\dot{q}_{1} - 12 \\sigma \\operatorname{sin}\\left(q_{1}\\right) \\dot{q}_{0}^{2} + 12 \\sigma \\operatorname{sin}\\left(q_{1}\\right) \\dot{q}_{0} \\dot{q}_{1}\\right)}{96}\\\\g m_{f} s \\sigma \\left(\\frac{\\operatorname{sin}\\left(q_{0}\\right) \\operatorname{sin}\\left(q_{2}\\right)}{4} - \\frac{\\operatorname{cos}\\left(q_{0}\\right) \\operatorname{cos}\\left(q_{2}\\right)}{4}\\right) + \\frac{m_{f} s^{2} \\sigma^{2} \\operatorname{sin}\\left(q_{2}\\right) \\dot{q}_{0} \\dot{q}_{2}}{8} - \\frac{m_{f} s^{2} \\sigma \\operatorname{sin}\\left(q_{2}\\right) \\dot{q}_{0} \\dot{q}_{2}}{8} - \\frac{m_{f} s^{2} \\left(12 \\sigma^{2} \\operatorname{sin}\\left(q_{2}\\right) \\dot{q}_{0}^{2} + 12 \\sigma^{2} \\operatorname{sin}\\left(q_{2}\\right) \\dot{q}_{0} \\dot{q}_{2} - 12 \\sigma \\operatorname{sin}\\left(q_{2}\\right) \\dot{q}_{0}^{2} - 12 \\sigma \\operatorname{sin}\\left(q_{2}\\right) \\dot{q}_{0} \\dot{q}_{2}\\right)}{96}\\end{matrix}\\right]$"
      ],
      "text/plain": [
       "⎡                                                                             \n",
       "⎢        ⎛      ⎛sin(q₀)⋅sin(q₁)   cos(q₀)⋅cos(q₁)⎞     ⎛1   σ⎞        ⎞      \n",
       "⎢- g⋅m_f⋅⎜- s⋅σ⋅⎜─────────────── + ───────────────⎟ - s⋅⎜─ - ─⎟⋅cos(q₀)⎟ - g⋅m\n",
       "⎢        ⎝      ⎝       4                 4       ⎠     ⎝2   2⎠        ⎠      \n",
       "⎢                                                                             \n",
       "⎢                                                                             \n",
       "⎢                                                                             \n",
       "⎢                                                                           g⋅\n",
       "⎢                                                                             \n",
       "⎢                                                                             \n",
       "⎢                                                                             \n",
       "⎢                                                                             \n",
       "⎢                                                                            g\n",
       "⎣                                                                             \n",
       "\n",
       "                                                                          2  2\n",
       "   ⎛      ⎛sin(q₀)⋅sin(q₂)   cos(q₀)⋅cos(q₂)⎞     ⎛σ   1⎞        ⎞   m_f⋅s ⋅σ \n",
       "_f⋅⎜- s⋅σ⋅⎜─────────────── - ───────────────⎟ - s⋅⎜─ - ─⎟⋅cos(q₀)⎟ + ─────────\n",
       "   ⎝      ⎝       4                 4       ⎠     ⎝2   2⎠        ⎠            \n",
       "                                                                              \n",
       "                                                     2  2                     \n",
       "        ⎛  sin(q₀)⋅sin(q₁)   cos(q₀)⋅cos(q₁)⎞   m_f⋅s ⋅σ ⋅sin(q₁)⋅q₀̇⋅q₁̇   m_\n",
       "m_f⋅s⋅σ⋅⎜- ─────────────── - ───────────────⎟ - ─────────────────────── + ────\n",
       "        ⎝         4                 4       ⎠              8                  \n",
       "                                                                              \n",
       "                                                    2  2                      \n",
       "         ⎛sin(q₀)⋅sin(q₂)   cos(q₀)⋅cos(q₂)⎞   m_f⋅s ⋅σ ⋅sin(q₂)⋅q₀̇⋅q₂̇   m_f\n",
       "⋅m_f⋅s⋅σ⋅⎜─────────────── - ───────────────⎟ + ─────────────────────── - ─────\n",
       "         ⎝       4                 4       ⎠              8                   \n",
       "\n",
       "                      2  2           2        2  2                      2  2  \n",
       "⋅sin(q₁)⋅q₀̇⋅q₁̇   m_f⋅s ⋅σ ⋅sin(q₁)⋅q₁̇    m_f⋅s ⋅σ ⋅sin(q₂)⋅q₀̇⋅q₂̇   m_f⋅s \n",
       "────────────── - ───────────────────── + ─────────────────────── + ───────────\n",
       "  4                        8                        4                        8\n",
       "                                                                              \n",
       " 2                        2 ⎛    2           2       2                        \n",
       "f⋅s ⋅σ⋅sin(q₁)⋅q₀̇⋅q₁̇   m_f⋅s ⋅⎝12⋅σ ⋅sin(q₁)⋅q₀̇  - 12⋅σ ⋅sin(q₁)⋅q₀̇⋅q₁̇ - \n",
       "────────────────── - ─────────────────────────────────────────────────────────\n",
       "      8                                                         96            \n",
       "                                                                              \n",
       "2                        2 ⎛    2           2       2                         \n",
       "⋅s ⋅σ⋅sin(q₂)⋅q₀̇⋅q₂̇   m_f⋅s ⋅⎝12⋅σ ⋅sin(q₂)⋅q₀̇  + 12⋅σ ⋅sin(q₂)⋅q₀̇⋅q₂̇ - 1\n",
       "───────────────── - ──────────────────────────────────────────────────────────\n",
       "     8                                                         96             \n",
       "\n",
       "         2        2                        2             2        2           \n",
       "⋅σ ⋅sin(q₂)⋅q₂̇    m_f⋅s ⋅σ⋅sin(q₁)⋅q₀̇⋅q₁̇   m_f⋅s ⋅σ⋅sin(q₁)⋅q₁̇    m_f⋅s ⋅σ\n",
       "────────── - ────────────────────── + ──────────────────── - ─────────────────\n",
       "                       4                       8                       4      \n",
       "                                                                              \n",
       "        2                     ⎞                                               \n",
       "12⋅σ⋅sin(q₁)⋅q₀̇  + 12⋅σ⋅sin(q₁)⋅q₀̇⋅q₁̇⎠                                     \n",
       "───────────────────────────────                                               \n",
       "                                                                              \n",
       "                                                                              \n",
       "       2                     ⎞                                                \n",
       "2⋅σ⋅sin(q₂)⋅q₀̇  - 12⋅σ⋅sin(q₂)⋅q₀̇⋅q₂̇⎠                                      \n",
       "──────────────────────────────                                                \n",
       "                                                                              \n",
       "\n",
       "             2             2⎤\n",
       "⋅sin(q₂)⋅q₀̇⋅q₂̇   m_f⋅s ⋅σ⋅sin(q₂)⋅q₂̇ ⎥\n",
       "───── - ────────────────────⎥\n",
       "                 8          ⎥\n",
       "                            ⎥\n",
       "                            ⎥\n",
       "                                      ⎥\n",
       "                            ⎥\n",
       "                            ⎥\n",
       "                            ⎥\n",
       "                            ⎥\n",
       "                                      ⎥\n",
       "                            ⎥\n",
       "                            ⎦"
      ]
     },
     "execution_count": 28,
     "metadata": {},
     "output_type": "execute_result"
    }
   ],
   "source": [
    "sm.f.subs(p.alpha_r,0)"
   ]
  },
  {
   "cell_type": "code",
   "execution_count": 12,
   "metadata": {},
   "outputs": [
    {
     "data": {
      "text/latex": [
       "$\\displaystyle \\left[\\begin{matrix}\\frac{m_{f} s^{2} \\sigma^{2}}{6} - \\frac{m_{f} s^{2} \\sigma}{2} + \\frac{m_{f} s^{2}}{2} + \\frac{m_{w} s^{2} \\sigma^{2}}{12} - \\frac{m_{w} s^{2} \\sigma}{6} + \\frac{m_{w} s^{2}}{12} & \\frac{m_{f} s^{2} \\sigma^{2}}{24} - \\frac{m_{f} s^{2} \\sigma}{8} & - \\frac{m_{f} s^{2} \\sigma^{2}}{24} + \\frac{m_{f} s^{2} \\sigma}{8}\\\\\\frac{m_{f} s^{2} \\sigma^{2}}{24} - \\frac{m_{f} s^{2} \\sigma}{8} & \\frac{m_{f} s^{2} \\sigma^{2}}{12} & 0\\\\- \\frac{m_{f} s^{2} \\sigma^{2}}{24} + \\frac{m_{f} s^{2} \\sigma}{8} & 0 & \\frac{m_{f} s^{2} \\sigma^{2}}{12}\\end{matrix}\\right]$"
      ],
      "text/plain": [
       "⎡     2  2        2          2        2  2        2          2       2  2     \n",
       "⎢m_f⋅s ⋅σ    m_f⋅s ⋅σ   m_f⋅s    m_w⋅s ⋅σ    m_w⋅s ⋅σ   m_w⋅s   m_f⋅s ⋅σ    m_\n",
       "⎢───────── - ──────── + ────── + ───────── - ──────── + ──────  ───────── - ──\n",
       "⎢    6          2         2          12         6         12        24        \n",
       "⎢                                                                             \n",
       "⎢                         2  2        2                                   2  2\n",
       "⎢                    m_f⋅s ⋅σ    m_f⋅s ⋅σ                            m_f⋅s ⋅σ \n",
       "⎢                    ───────── - ────────                            ─────────\n",
       "⎢                        24         8                                    12   \n",
       "⎢                                                                             \n",
       "⎢                          2  2        2                                      \n",
       "⎢                     m_f⋅s ⋅σ    m_f⋅s ⋅σ                                    \n",
       "⎢                   - ───────── + ────────                               0    \n",
       "⎣                         24         8                                        \n",
       "\n",
       "   2           2  2        2  ⎤\n",
       "f⋅s ⋅σ    m_f⋅s ⋅σ    m_f⋅s ⋅σ⎥\n",
       "──────  - ───────── + ────────⎥\n",
       " 8            24         8    ⎥\n",
       "                              ⎥\n",
       "                              ⎥\n",
       "                              ⎥\n",
       "                  0           ⎥\n",
       "                              ⎥\n",
       "                              ⎥\n",
       "                   2  2       ⎥\n",
       "              m_f⋅s ⋅σ        ⎥\n",
       "              ─────────       ⎥\n",
       "                  12          ⎦"
      ]
     },
     "execution_count": 12,
     "metadata": {},
     "output_type": "execute_result"
    }
   ],
   "source": [
    "mf.LineariseMatrix(sm.M.subs(p.alpha_r,0),p.x,[0,0,0,0,0,0])"
   ]
  },
  {
   "cell_type": "code",
   "execution_count": 17,
   "metadata": {},
   "outputs": [
    {
     "data": {
      "text/latex": [
       "$\\displaystyle \\left[\\begin{matrix}\\frac{g m_{f} s \\sigma q_{1} \\operatorname{sin}\\left(q_{0}\\right)}{4} + \\frac{g m_{f} s \\sigma q_{2} \\operatorname{sin}\\left(q_{0}\\right)}{4} - g m_{f} \\left(- \\frac{s \\sigma \\operatorname{cos}\\left(q_{0}\\right)}{4} - s \\left(\\frac{1}{2} - \\frac{\\sigma}{2}\\right) \\operatorname{cos}\\left(q_{0}\\right)\\right) - g m_{f} \\left(\\frac{s \\sigma \\operatorname{cos}\\left(q_{0}\\right)}{4} - s \\left(\\frac{\\sigma}{2} - \\frac{1}{2}\\right) \\operatorname{cos}\\left(q_{0}\\right)\\right)\\\\- \\frac{g m_{f} s \\sigma \\operatorname{cos}\\left(q_{0}\\right)}{4} + \\left(- \\frac{g m_{f} s \\sigma \\operatorname{sin}\\left(q_{0}\\right)}{4} - \\frac{m_{f} s^{2} \\left(12 \\sigma^{2} \\dot{q}_{0}^{2} - 12 \\sigma \\dot{q}_{0}^{2}\\right)}{96}\\right) q_{1}\\\\- \\frac{g m_{f} s \\sigma \\operatorname{cos}\\left(q_{0}\\right)}{4} + \\left(\\frac{g m_{f} s \\sigma \\operatorname{sin}\\left(q_{0}\\right)}{4} - \\frac{m_{f} s^{2} \\left(12 \\sigma^{2} \\dot{q}_{0}^{2} - 12 \\sigma \\dot{q}_{0}^{2}\\right)}{96}\\right) q_{2}\\end{matrix}\\right]$"
      ],
      "text/plain": [
       "⎡g⋅m_f⋅s⋅σ⋅q₁⋅sin(q₀)   g⋅m_f⋅s⋅σ⋅q₂⋅sin(q₀)         ⎛  s⋅σ⋅cos(q₀)     ⎛1   σ\n",
       "⎢──────────────────── + ──────────────────── - g⋅m_f⋅⎜- ─────────── - s⋅⎜─ - ─\n",
       "⎢         4                      4                   ⎝       4          ⎝2   2\n",
       "⎢                                                                             \n",
       "⎢                                               ⎛                           2 \n",
       "⎢                           g⋅m_f⋅s⋅σ⋅cos(q₀)   ⎜  g⋅m_f⋅s⋅σ⋅sin(q₀)   m_f⋅s ⋅\n",
       "⎢                         - ───────────────── + ⎜- ───────────────── - ───────\n",
       "⎢                                   4           ⎝          4                  \n",
       "⎢                                                                             \n",
       "⎢                                                ⎛                         2 ⎛\n",
       "⎢                            g⋅m_f⋅s⋅σ⋅cos(q₀)   ⎜g⋅m_f⋅s⋅σ⋅sin(q₀)   m_f⋅s ⋅⎝\n",
       "⎢                          - ───────────────── + ⎜───────────────── - ────────\n",
       "⎣                                    4           ⎝        4                   \n",
       "\n",
       "⎞        ⎞         ⎛s⋅σ⋅cos(q₀)     ⎛σ   1⎞        ⎞⎤\n",
       "⎟⋅cos(q₀)⎟ - g⋅m_f⋅⎜─────────── - s⋅⎜─ - ─⎟⋅cos(q₀)⎟⎥\n",
       "⎠        ⎠         ⎝     4          ⎝2   2⎠        ⎠⎥\n",
       "                                                    ⎥\n",
       "⎛    2   2          2⎞⎞                             ⎥\n",
       "⎝12⋅σ ⋅q₀̇  - 12⋅σ⋅q₀̇ ⎠⎟                             ⎥\n",
       "──────────────────────⎟⋅q₁                          ⎥\n",
       "       96             ⎠                             ⎥\n",
       "                                                    ⎥\n",
       "    2   2          2⎞⎞                              ⎥\n",
       "12⋅σ ⋅q₀̇  - 12⋅σ⋅q₀̇ ⎠⎟                              ⎥\n",
       "─────────────────────⎟⋅q₂                           ⎥\n",
       "      96             ⎠                              ⎦"
      ]
     },
     "execution_count": 17,
     "metadata": {},
     "output_type": "execute_result"
    }
   ],
   "source": [
    "mf.LineariseMatrix(sm.f.subs(p.alpha_r,0),p.x[2:],[0,0,0,0])"
   ]
  },
  {
   "cell_type": "code",
   "execution_count": 14,
   "metadata": {},
   "outputs": [],
   "source": [
    "_Q = sm.ExtForces.Q().subs({p.alpha_r:0,p.alpha_1:sym.atan(sym.sin(p.q[2])*sym.sin(p.Lambda)),\n",
    "                           p.alpha_2:sym.atan(sym.sin(p.q[1])*sym.sin(p.Lambda)),p.w_g:0})\n",
    "test = mf.LineariseMatrix(_Q,p.x[2:],[0,0,0,0])"
   ]
  },
  {
   "cell_type": "code",
   "execution_count": 15,
   "metadata": {},
   "outputs": [
    {
     "data": {
      "text/latex": [
       "$\\displaystyle \\left[\\begin{matrix}- \\frac{V a_{0} c \\rho s^{3} \\sigma^{3}}{24} + \\frac{s^{2} \\sigma^{2} \\left(\\frac{V a_{0} c \\rho s \\sigma}{4} - \\frac{V a_{0} c \\rho s}{4}\\right)}{2} + s \\sigma \\left(- \\frac{V a_{0} c \\rho s^{2} \\sigma^{2}}{8} + \\frac{V a_{0} c \\rho s^{2} \\sigma}{4} - \\frac{V a_{0} c \\rho s^{2}}{8}\\right) & \\frac{V a_{0} c \\rho s^{3} \\sigma^{3}}{48} + \\frac{s^{2} \\sigma^{2} \\left(- \\frac{V a_{0} c \\rho s \\sigma}{8} + \\frac{V a_{0} c \\rho s}{8}\\right)}{4} & - \\frac{V a_{0} c \\rho s^{3} \\sigma^{3}}{48} + \\frac{s^{2} \\sigma^{2} \\left(\\frac{V a_{0} c \\rho s \\sigma}{8} - \\frac{V a_{0} c \\rho s}{8}\\right)}{4}\\\\\\frac{V a_{0} c \\rho s^{3} \\sigma^{3}}{48} + \\frac{s^{2} \\sigma^{2} \\left(- \\frac{V a_{0} c \\rho s \\sigma}{8} + \\frac{V a_{0} c \\rho s}{8}\\right)}{4} & - \\frac{V a_{0} c \\rho s^{3} \\sigma^{3}}{48} & 0\\\\- \\frac{V a_{0} c \\rho s^{3} \\sigma^{3}}{48} + \\frac{s^{2} \\sigma^{2} \\left(\\frac{V a_{0} c \\rho s \\sigma}{8} - \\frac{V a_{0} c \\rho s}{8}\\right)}{4} & 0 & - \\frac{V a_{0} c \\rho s^{3} \\sigma^{3}}{48}\\end{matrix}\\right]$"
      ],
      "text/plain": [
       "⎡                    2  2 ⎛V⋅a₀⋅c⋅ρ⋅s⋅σ   V⋅a₀⋅c⋅ρ⋅s⎞                         \n",
       "⎢            3  3   s ⋅σ ⋅⎜──────────── - ──────────⎟       ⎛            2  2 \n",
       "⎢  V⋅a₀⋅c⋅ρ⋅s ⋅σ          ⎝     4             4     ⎠       ⎜  V⋅a₀⋅c⋅ρ⋅s ⋅σ  \n",
       "⎢- ────────────── + ───────────────────────────────── + s⋅σ⋅⎜- ────────────── \n",
       "⎢        24                         2                       ⎝        8        \n",
       "⎢                                                                             \n",
       "⎢                                             2  2 ⎛  V⋅a₀⋅c⋅ρ⋅s⋅σ   V⋅a₀⋅c⋅ρ⋅\n",
       "⎢                                     3  3   s ⋅σ ⋅⎜- ──────────── + ─────────\n",
       "⎢                           V⋅a₀⋅c⋅ρ⋅s ⋅σ          ⎝       8             8    \n",
       "⎢                           ────────────── + ─────────────────────────────────\n",
       "⎢                                 48                          4               \n",
       "⎢                                                                             \n",
       "⎢                                               2  2 ⎛V⋅a₀⋅c⋅ρ⋅s⋅σ   V⋅a₀⋅c⋅ρ⋅\n",
       "⎢                                       3  3   s ⋅σ ⋅⎜──────────── - ─────────\n",
       "⎢                             V⋅a₀⋅c⋅ρ⋅s ⋅σ          ⎝     8             8    \n",
       "⎢                           - ────────────── + ───────────────────────────────\n",
       "⎣                                   48                         4              \n",
       "\n",
       "                                                  2  2 ⎛  V⋅a₀⋅c⋅ρ⋅s⋅σ   V⋅a₀⋅\n",
       "            2               2⎞            3  3   s ⋅σ ⋅⎜- ──────────── + ─────\n",
       "  V⋅a₀⋅c⋅ρ⋅s ⋅σ   V⋅a₀⋅c⋅ρ⋅s ⎟  V⋅a₀⋅c⋅ρ⋅s ⋅σ          ⎝       8             8\n",
       "+ ───────────── - ───────────⎟  ────────────── + ─────────────────────────────\n",
       "        4              8     ⎠        48                          4           \n",
       "                                                                              \n",
       "s⎞                                                                            \n",
       "─⎟                                                           3  3             \n",
       " ⎠                                                -V⋅a₀⋅c⋅ρ⋅s ⋅σ              \n",
       "──                                                ────────────────            \n",
       "                                                         48                   \n",
       "                                                                              \n",
       "s⎞                                                                            \n",
       "─⎟                                                                            \n",
       " ⎠                                                                            \n",
       "──                                                       0                    \n",
       "                                                                              \n",
       "\n",
       "c⋅ρ⋅s⎞                      2  2 ⎛V⋅a₀⋅c⋅ρ⋅s⋅σ   V⋅a₀⋅c⋅ρ⋅s⎞⎤\n",
       "─────⎟              3  3   s ⋅σ ⋅⎜──────────── - ──────────⎟⎥\n",
       "     ⎠    V⋅a₀⋅c⋅ρ⋅s ⋅σ          ⎝     8             8     ⎠⎥\n",
       "──────  - ────────────── + ─────────────────────────────────⎥\n",
       "                48                         4                ⎥\n",
       "                                                            ⎥\n",
       "                                                            ⎥\n",
       "                                                            ⎥\n",
       "                                                            ⎥\n",
       "                                 0                          ⎥\n",
       "                                                            ⎥\n",
       "                                                            ⎥\n",
       "                                                            ⎥\n",
       "                                     3  3                   ⎥\n",
       "                          -V⋅a₀⋅c⋅ρ⋅s ⋅σ                    ⎥\n",
       "                          ────────────────                  ⎥\n",
       "                                 48                         ⎦"
      ]
     },
     "execution_count": 15,
     "metadata": {},
     "output_type": "execute_result"
    }
   ],
   "source": [
    "test.jacobian(p.qd)"
   ]
  },
  {
   "cell_type": "code",
   "execution_count": 16,
   "metadata": {},
   "outputs": [
    {
     "data": {
      "text/latex": [
       "$\\displaystyle \\left[\\begin{matrix}\\frac{g m_{f} s \\sigma q_{1} \\operatorname{sin}\\left(q_{0}\\right)}{4} + \\frac{g m_{f} s \\sigma q_{2} \\operatorname{sin}\\left(q_{0}\\right)}{4} - g m_{f} \\left(- \\frac{s \\sigma \\operatorname{cos}\\left(q_{0}\\right)}{4} - s \\left(\\frac{1}{2} - \\frac{\\sigma}{2}\\right) \\operatorname{cos}\\left(q_{0}\\right)\\right) - g m_{f} \\left(\\frac{s \\sigma \\operatorname{cos}\\left(q_{0}\\right)}{4} - s \\left(\\frac{\\sigma}{2} - \\frac{1}{2}\\right) \\operatorname{cos}\\left(q_{0}\\right)\\right)\\\\- \\frac{g m_{f} s \\sigma \\operatorname{cos}\\left(q_{0}\\right)}{4} + \\left(- \\frac{g m_{f} s \\sigma \\operatorname{sin}\\left(q_{0}\\right)}{4} - \\frac{m_{f} s^{2} \\left(12 \\sigma^{2} \\dot{q}_{0}^{2} - 12 \\sigma \\dot{q}_{0}^{2}\\right)}{96}\\right) q_{1}\\\\- \\frac{g m_{f} s \\sigma \\operatorname{cos}\\left(q_{0}\\right)}{4} + \\left(\\frac{g m_{f} s \\sigma \\operatorname{sin}\\left(q_{0}\\right)}{4} - \\frac{m_{f} s^{2} \\left(12 \\sigma^{2} \\dot{q}_{0}^{2} - 12 \\sigma \\dot{q}_{0}^{2}\\right)}{96}\\right) q_{2}\\end{matrix}\\right]$"
      ],
      "text/plain": [
       "⎡g⋅m_f⋅s⋅σ⋅q₁⋅sin(q₀)   g⋅m_f⋅s⋅σ⋅q₂⋅sin(q₀)         ⎛  s⋅σ⋅cos(q₀)     ⎛1   σ\n",
       "⎢──────────────────── + ──────────────────── - g⋅m_f⋅⎜- ─────────── - s⋅⎜─ - ─\n",
       "⎢         4                      4                   ⎝       4          ⎝2   2\n",
       "⎢                                                                             \n",
       "⎢                                               ⎛                           2 \n",
       "⎢                           g⋅m_f⋅s⋅σ⋅cos(q₀)   ⎜  g⋅m_f⋅s⋅σ⋅sin(q₀)   m_f⋅s ⋅\n",
       "⎢                         - ───────────────── + ⎜- ───────────────── - ───────\n",
       "⎢                                   4           ⎝          4                  \n",
       "⎢                                                                             \n",
       "⎢                                                ⎛                         2 ⎛\n",
       "⎢                            g⋅m_f⋅s⋅σ⋅cos(q₀)   ⎜g⋅m_f⋅s⋅σ⋅sin(q₀)   m_f⋅s ⋅⎝\n",
       "⎢                          - ───────────────── + ⎜───────────────── - ────────\n",
       "⎣                                    4           ⎝        4                   \n",
       "\n",
       "⎞        ⎞         ⎛s⋅σ⋅cos(q₀)     ⎛σ   1⎞        ⎞⎤\n",
       "⎟⋅cos(q₀)⎟ - g⋅m_f⋅⎜─────────── - s⋅⎜─ - ─⎟⋅cos(q₀)⎟⎥\n",
       "⎠        ⎠         ⎝     4          ⎝2   2⎠        ⎠⎥\n",
       "                                                    ⎥\n",
       "⎛    2   2          2⎞⎞                             ⎥\n",
       "⎝12⋅σ ⋅q₀̇  - 12⋅σ⋅q₀̇ ⎠⎟                             ⎥\n",
       "──────────────────────⎟⋅q₁                          ⎥\n",
       "       96             ⎠                             ⎥\n",
       "                                                    ⎥\n",
       "    2   2          2⎞⎞                              ⎥\n",
       "12⋅σ ⋅q₀̇  - 12⋅σ⋅q₀̇ ⎠⎟                              ⎥\n",
       "─────────────────────⎟⋅q₂                           ⎥\n",
       "      96             ⎠                              ⎦"
      ]
     },
     "execution_count": 16,
     "metadata": {},
     "output_type": "execute_result"
    }
   ],
   "source": [
    "mf.LineariseMatrix(sm.f.subs(p.alpha_r,0),p.x[2:],[0,0,0,0])"
   ]
  },
  {
   "cell_type": "code",
   "execution_count": 32,
   "metadata": {},
   "outputs": [
    {
     "data": {
      "text/latex": [
       "$\\displaystyle \\left[\\begin{matrix}\\frac{g m_{f} s \\sigma q_{1} \\operatorname{sin}\\left(q_{0}\\right)}{4} + \\frac{g m_{f} s \\sigma q_{2} \\operatorname{sin}\\left(q_{0}\\right)}{4} - g m_{f} \\left(- \\frac{s \\sigma \\operatorname{cos}\\left(q_{0}\\right)}{4} - s \\left(\\frac{1}{2} - \\frac{\\sigma}{2}\\right) \\operatorname{cos}\\left(q_{0}\\right)\\right) - g m_{f} \\left(\\frac{s \\sigma \\operatorname{cos}\\left(q_{0}\\right)}{4} - s \\left(\\frac{\\sigma}{2} - \\frac{1}{2}\\right) \\operatorname{cos}\\left(q_{0}\\right)\\right)\\\\- \\frac{g m_{f} s \\sigma \\operatorname{cos}\\left(q_{0}\\right)}{4} + \\left(- \\frac{g m_{f} s \\sigma \\operatorname{sin}\\left(q_{0}\\right)}{4} - \\frac{m_{f} s^{2} \\left(12 \\sigma^{2} \\dot{q}_{0}^{2} - 12 \\sigma \\dot{q}_{0}^{2}\\right)}{96}\\right) q_{1}\\\\- \\frac{g m_{f} s \\sigma \\operatorname{cos}\\left(q_{0}\\right)}{4} + \\left(\\frac{g m_{f} s \\sigma \\operatorname{sin}\\left(q_{0}\\right)}{4} - \\frac{m_{f} s^{2} \\left(12 \\sigma^{2} \\dot{q}_{0}^{2} - 12 \\sigma \\dot{q}_{0}^{2}\\right)}{96}\\right) q_{2}\\end{matrix}\\right]$"
      ],
      "text/plain": [
       "⎡g⋅m_f⋅s⋅σ⋅q₁⋅sin(q₀)   g⋅m_f⋅s⋅σ⋅q₂⋅sin(q₀)         ⎛  s⋅σ⋅cos(q₀)     ⎛1   σ\n",
       "⎢──────────────────── + ──────────────────── - g⋅m_f⋅⎜- ─────────── - s⋅⎜─ - ─\n",
       "⎢         4                      4                   ⎝       4          ⎝2   2\n",
       "⎢                                                                             \n",
       "⎢                                               ⎛                           2 \n",
       "⎢                           g⋅m_f⋅s⋅σ⋅cos(q₀)   ⎜  g⋅m_f⋅s⋅σ⋅sin(q₀)   m_f⋅s ⋅\n",
       "⎢                         - ───────────────── + ⎜- ───────────────── - ───────\n",
       "⎢                                   4           ⎝          4                  \n",
       "⎢                                                                             \n",
       "⎢                                                ⎛                         2 ⎛\n",
       "⎢                            g⋅m_f⋅s⋅σ⋅cos(q₀)   ⎜g⋅m_f⋅s⋅σ⋅sin(q₀)   m_f⋅s ⋅⎝\n",
       "⎢                          - ───────────────── + ⎜───────────────── - ────────\n",
       "⎣                                    4           ⎝        4                   \n",
       "\n",
       "⎞        ⎞         ⎛s⋅σ⋅cos(q₀)     ⎛σ   1⎞        ⎞⎤\n",
       "⎟⋅cos(q₀)⎟ - g⋅m_f⋅⎜─────────── - s⋅⎜─ - ─⎟⋅cos(q₀)⎟⎥\n",
       "⎠        ⎠         ⎝     4          ⎝2   2⎠        ⎠⎥\n",
       "                                                    ⎥\n",
       "⎛    2   2          2⎞⎞                             ⎥\n",
       "⎝12⋅σ ⋅q₀̇  - 12⋅σ⋅q₀̇ ⎠⎟                             ⎥\n",
       "──────────────────────⎟⋅q₁                          ⎥\n",
       "       96             ⎠                             ⎥\n",
       "                                                    ⎥\n",
       "    2   2          2⎞⎞                              ⎥\n",
       "12⋅σ ⋅q₀̇  - 12⋅σ⋅q₀̇ ⎠⎟                              ⎥\n",
       "─────────────────────⎟⋅q₂                           ⎥\n",
       "      96             ⎠                              ⎦"
      ]
     },
     "execution_count": 32,
     "metadata": {},
     "output_type": "execute_result"
    }
   ],
   "source": [
    "mf.LineariseMatrix(sm.f.subs(p.alpha_r,0),p.x[2:],[0,0,0,0])"
   ]
  },
  {
   "cell_type": "code",
   "execution_count": 30,
   "metadata": {},
   "outputs": [
    {
     "data": {
      "text/latex": [
       "$\\displaystyle \\left[\\begin{matrix}- g m_{f} \\left(- s \\sigma \\left(\\frac{\\operatorname{sin}\\left(q_{0}\\right) \\operatorname{sin}\\left(q_{1}\\right)}{4} + \\frac{\\operatorname{cos}\\left(q_{0}\\right) \\operatorname{cos}\\left(q_{1}\\right)}{4}\\right) - s \\left(\\frac{1}{2} - \\frac{\\sigma}{2}\\right) \\operatorname{cos}\\left(q_{0}\\right)\\right) - g m_{f} \\left(- s \\sigma \\left(\\frac{\\operatorname{sin}\\left(q_{0}\\right) \\operatorname{sin}\\left(q_{2}\\right)}{4} - \\frac{\\operatorname{cos}\\left(q_{0}\\right) \\operatorname{cos}\\left(q_{2}\\right)}{4}\\right) - s \\left(\\frac{\\sigma}{2} - \\frac{1}{2}\\right) \\operatorname{cos}\\left(q_{0}\\right)\\right) + \\frac{m_{f} s^{2} \\sigma^{2} \\operatorname{sin}\\left(q_{1}\\right) \\dot{q}_{0} \\dot{q}_{1}}{4} - \\frac{m_{f} s^{2} \\sigma^{2} \\operatorname{sin}\\left(q_{1}\\right) \\dot{q}_{1}^{2}}{8} + \\frac{m_{f} s^{2} \\sigma^{2} \\operatorname{sin}\\left(q_{2}\\right) \\dot{q}_{0} \\dot{q}_{2}}{4} + \\frac{m_{f} s^{2} \\sigma^{2} \\operatorname{sin}\\left(q_{2}\\right) \\dot{q}_{2}^{2}}{8} - \\frac{m_{f} s^{2} \\sigma \\operatorname{sin}\\left(q_{1}\\right) \\dot{q}_{0} \\dot{q}_{1}}{4} + \\frac{m_{f} s^{2} \\sigma \\operatorname{sin}\\left(q_{1}\\right) \\dot{q}_{1}^{2}}{8} - \\frac{m_{f} s^{2} \\sigma \\operatorname{sin}\\left(q_{2}\\right) \\dot{q}_{0} \\dot{q}_{2}}{4} - \\frac{m_{f} s^{2} \\sigma \\operatorname{sin}\\left(q_{2}\\right) \\dot{q}_{2}^{2}}{8}\\\\g m_{f} s \\sigma \\left(- \\frac{\\operatorname{sin}\\left(q_{0}\\right) \\operatorname{sin}\\left(q_{1}\\right)}{4} - \\frac{\\operatorname{cos}\\left(q_{0}\\right) \\operatorname{cos}\\left(q_{1}\\right)}{4}\\right) - \\frac{m_{f} s^{2} \\sigma^{2} \\operatorname{sin}\\left(q_{1}\\right) \\dot{q}_{0} \\dot{q}_{1}}{8} + \\frac{m_{f} s^{2} \\sigma \\operatorname{sin}\\left(q_{1}\\right) \\dot{q}_{0} \\dot{q}_{1}}{8} - \\frac{m_{f} s^{2} \\left(12 \\sigma^{2} \\operatorname{sin}\\left(q_{1}\\right) \\dot{q}_{0}^{2} - 12 \\sigma^{2} \\operatorname{sin}\\left(q_{1}\\right) \\dot{q}_{0} \\dot{q}_{1} - 12 \\sigma \\operatorname{sin}\\left(q_{1}\\right) \\dot{q}_{0}^{2} + 12 \\sigma \\operatorname{sin}\\left(q_{1}\\right) \\dot{q}_{0} \\dot{q}_{1}\\right)}{96}\\\\g m_{f} s \\sigma \\left(\\frac{\\operatorname{sin}\\left(q_{0}\\right) \\operatorname{sin}\\left(q_{2}\\right)}{4} - \\frac{\\operatorname{cos}\\left(q_{0}\\right) \\operatorname{cos}\\left(q_{2}\\right)}{4}\\right) + \\frac{m_{f} s^{2} \\sigma^{2} \\operatorname{sin}\\left(q_{2}\\right) \\dot{q}_{0} \\dot{q}_{2}}{8} - \\frac{m_{f} s^{2} \\sigma \\operatorname{sin}\\left(q_{2}\\right) \\dot{q}_{0} \\dot{q}_{2}}{8} - \\frac{m_{f} s^{2} \\left(12 \\sigma^{2} \\operatorname{sin}\\left(q_{2}\\right) \\dot{q}_{0}^{2} + 12 \\sigma^{2} \\operatorname{sin}\\left(q_{2}\\right) \\dot{q}_{0} \\dot{q}_{2} - 12 \\sigma \\operatorname{sin}\\left(q_{2}\\right) \\dot{q}_{0}^{2} - 12 \\sigma \\operatorname{sin}\\left(q_{2}\\right) \\dot{q}_{0} \\dot{q}_{2}\\right)}{96}\\end{matrix}\\right]$"
      ],
      "text/plain": [
       "⎡                                                                             \n",
       "⎢        ⎛      ⎛sin(q₀)⋅sin(q₁)   cos(q₀)⋅cos(q₁)⎞     ⎛1   σ⎞        ⎞      \n",
       "⎢- g⋅m_f⋅⎜- s⋅σ⋅⎜─────────────── + ───────────────⎟ - s⋅⎜─ - ─⎟⋅cos(q₀)⎟ - g⋅m\n",
       "⎢        ⎝      ⎝       4                 4       ⎠     ⎝2   2⎠        ⎠      \n",
       "⎢                                                                             \n",
       "⎢                                                                             \n",
       "⎢                                                                             \n",
       "⎢                                                                           g⋅\n",
       "⎢                                                                             \n",
       "⎢                                                                             \n",
       "⎢                                                                             \n",
       "⎢                                                                             \n",
       "⎢                                                                            g\n",
       "⎣                                                                             \n",
       "\n",
       "                                                                          2  2\n",
       "   ⎛      ⎛sin(q₀)⋅sin(q₂)   cos(q₀)⋅cos(q₂)⎞     ⎛σ   1⎞        ⎞   m_f⋅s ⋅σ \n",
       "_f⋅⎜- s⋅σ⋅⎜─────────────── - ───────────────⎟ - s⋅⎜─ - ─⎟⋅cos(q₀)⎟ + ─────────\n",
       "   ⎝      ⎝       4                 4       ⎠     ⎝2   2⎠        ⎠            \n",
       "                                                                              \n",
       "                                                     2  2                     \n",
       "        ⎛  sin(q₀)⋅sin(q₁)   cos(q₀)⋅cos(q₁)⎞   m_f⋅s ⋅σ ⋅sin(q₁)⋅q₀̇⋅q₁̇   m_\n",
       "m_f⋅s⋅σ⋅⎜- ─────────────── - ───────────────⎟ - ─────────────────────── + ────\n",
       "        ⎝         4                 4       ⎠              8                  \n",
       "                                                                              \n",
       "                                                    2  2                      \n",
       "         ⎛sin(q₀)⋅sin(q₂)   cos(q₀)⋅cos(q₂)⎞   m_f⋅s ⋅σ ⋅sin(q₂)⋅q₀̇⋅q₂̇   m_f\n",
       "⋅m_f⋅s⋅σ⋅⎜─────────────── - ───────────────⎟ + ─────────────────────── - ─────\n",
       "         ⎝       4                 4       ⎠              8                   \n",
       "\n",
       "                      2  2           2        2  2                      2  2  \n",
       "⋅sin(q₁)⋅q₀̇⋅q₁̇   m_f⋅s ⋅σ ⋅sin(q₁)⋅q₁̇    m_f⋅s ⋅σ ⋅sin(q₂)⋅q₀̇⋅q₂̇   m_f⋅s \n",
       "────────────── - ───────────────────── + ─────────────────────── + ───────────\n",
       "  4                        8                        4                        8\n",
       "                                                                              \n",
       " 2                        2 ⎛    2           2       2                        \n",
       "f⋅s ⋅σ⋅sin(q₁)⋅q₀̇⋅q₁̇   m_f⋅s ⋅⎝12⋅σ ⋅sin(q₁)⋅q₀̇  - 12⋅σ ⋅sin(q₁)⋅q₀̇⋅q₁̇ - \n",
       "────────────────── - ─────────────────────────────────────────────────────────\n",
       "      8                                                         96            \n",
       "                                                                              \n",
       "2                        2 ⎛    2           2       2                         \n",
       "⋅s ⋅σ⋅sin(q₂)⋅q₀̇⋅q₂̇   m_f⋅s ⋅⎝12⋅σ ⋅sin(q₂)⋅q₀̇  + 12⋅σ ⋅sin(q₂)⋅q₀̇⋅q₂̇ - 1\n",
       "───────────────── - ──────────────────────────────────────────────────────────\n",
       "     8                                                         96             \n",
       "\n",
       "         2        2                        2             2        2           \n",
       "⋅σ ⋅sin(q₂)⋅q₂̇    m_f⋅s ⋅σ⋅sin(q₁)⋅q₀̇⋅q₁̇   m_f⋅s ⋅σ⋅sin(q₁)⋅q₁̇    m_f⋅s ⋅σ\n",
       "────────── - ────────────────────── + ──────────────────── - ─────────────────\n",
       "                       4                       8                       4      \n",
       "                                                                              \n",
       "        2                     ⎞                                               \n",
       "12⋅σ⋅sin(q₁)⋅q₀̇  + 12⋅σ⋅sin(q₁)⋅q₀̇⋅q₁̇⎠                                     \n",
       "───────────────────────────────                                               \n",
       "                                                                              \n",
       "                                                                              \n",
       "       2                     ⎞                                                \n",
       "2⋅σ⋅sin(q₂)⋅q₀̇  - 12⋅σ⋅sin(q₂)⋅q₀̇⋅q₂̇⎠                                      \n",
       "──────────────────────────────                                                \n",
       "                                                                              \n",
       "\n",
       "             2             2⎤\n",
       "⋅sin(q₂)⋅q₀̇⋅q₂̇   m_f⋅s ⋅σ⋅sin(q₂)⋅q₂̇ ⎥\n",
       "───── - ────────────────────⎥\n",
       "                 8          ⎥\n",
       "                            ⎥\n",
       "                            ⎥\n",
       "                                      ⎥\n",
       "                            ⎥\n",
       "                            ⎥\n",
       "                            ⎥\n",
       "                            ⎥\n",
       "                                      ⎥\n",
       "                            ⎥\n",
       "                            ⎦"
      ]
     },
     "execution_count": 30,
     "metadata": {},
     "output_type": "execute_result"
    }
   ],
   "source": [
    "sm.f.subs(p.alpha_r,0)"
   ]
  },
  {
   "cell_type": "code",
   "execution_count": 44,
   "metadata": {},
   "outputs": [
    {
     "data": {
      "text/latex": [
       "$\\displaystyle \\left[\\begin{matrix}\\frac{s^{2} \\left(2 m_{f} \\sigma^{2} - 6 m_{f} \\sigma + 6 m_{f} + m_{w} \\sigma^{2} - 2 m_{w} \\sigma + m_{w}\\right)}{12} & \\frac{m_{f} s^{2} \\sigma \\left(\\sigma - 3\\right)}{24} & \\frac{m_{f} s^{2} \\sigma \\left(3 - \\sigma\\right)}{24}\\\\\\frac{m_{f} s^{2} \\sigma \\left(\\sigma - 3\\right)}{24} & \\frac{m_{f} s^{2} \\sigma^{2}}{12} & 0\\\\\\frac{m_{f} s^{2} \\sigma \\left(3 - \\sigma\\right)}{24} & 0 & \\frac{m_{f} s^{2} \\sigma^{2}}{12}\\end{matrix}\\right]$"
      ],
      "text/plain": [
       "⎡ 2 ⎛       2                          2                ⎞       2             \n",
       "⎢s ⋅⎝2⋅m_f⋅σ  - 6⋅m_f⋅σ + 6⋅m_f + m_w⋅σ  - 2⋅m_w⋅σ + m_w⎠  m_f⋅s ⋅σ⋅(σ - 3)  m\n",
       "⎢────────────────────────────────────────────────────────  ────────────────  ─\n",
       "⎢                           12                                    24          \n",
       "⎢                                                                             \n",
       "⎢                         2                                        2  2       \n",
       "⎢                    m_f⋅s ⋅σ⋅(σ - 3)                         m_f⋅s ⋅σ        \n",
       "⎢                    ────────────────                         ─────────       \n",
       "⎢                           24                                    12          \n",
       "⎢                                                                             \n",
       "⎢                         2                                                   \n",
       "⎢                    m_f⋅s ⋅σ⋅(3 - σ)                                         \n",
       "⎢                    ────────────────                             0           \n",
       "⎣                           24                                                \n",
       "\n",
       "    2          ⎤\n",
       "_f⋅s ⋅σ⋅(3 - σ)⎥\n",
       "───────────────⎥\n",
       "      24       ⎥\n",
       "               ⎥\n",
       "               ⎥\n",
       "               ⎥\n",
       "      0        ⎥\n",
       "               ⎥\n",
       "               ⎥\n",
       "       2  2    ⎥\n",
       "  m_f⋅s ⋅σ     ⎥\n",
       "  ─────────    ⎥\n",
       "      12       ⎦"
      ]
     },
     "execution_count": 44,
     "metadata": {},
     "output_type": "execute_result"
    }
   ],
   "source": [
    "sym.simplify(mf.LineariseMatrix(sm.M.subs(p.alpha_r,0),p.x[2:],[0,0,0,0]))"
   ]
  },
  {
   "cell_type": "code",
   "execution_count": 41,
   "metadata": {},
   "outputs": [
    {
     "data": {
      "text/latex": [
       "$\\displaystyle \\left[\\begin{matrix}- \\frac{a_{0} c s^{3}}{24 V} & \\frac{a_{0} c s^{3} \\sigma^{2} \\left(3 - \\sigma\\right)}{96 V} & \\frac{a_{0} c s^{3} \\sigma^{2} \\left(\\sigma - 3\\right)}{96 V}\\\\\\frac{a_{0} c s^{3} \\sigma^{2} \\left(3 - \\sigma\\right)}{96 V} & - \\frac{a_{0} c s^{3} \\sigma^{3}}{48 V} & 0\\\\\\frac{a_{0} c s^{3} \\sigma^{2} \\left(\\sigma - 3\\right)}{96 V} & 0 & - \\frac{a_{0} c s^{3} \\sigma^{3}}{48 V}\\end{matrix}\\right]$"
      ],
      "text/plain": [
       "⎡           3              3  2                3  2        ⎤\n",
       "⎢    -a₀⋅c⋅s         a₀⋅c⋅s ⋅σ ⋅(3 - σ)  a₀⋅c⋅s ⋅σ ⋅(σ - 3)⎥\n",
       "⎢    ─────────       ──────────────────  ──────────────────⎥\n",
       "⎢       24⋅V                96⋅V                96⋅V       ⎥\n",
       "⎢                                                          ⎥\n",
       "⎢      3  2                    3  3                        ⎥\n",
       "⎢a₀⋅c⋅s ⋅σ ⋅(3 - σ)     -a₀⋅c⋅s ⋅σ                         ⎥\n",
       "⎢──────────────────     ────────────             0         ⎥\n",
       "⎢       96⋅V                48⋅V                           ⎥\n",
       "⎢                                                          ⎥\n",
       "⎢      3  2                                        3  3    ⎥\n",
       "⎢a₀⋅c⋅s ⋅σ ⋅(σ - 3)                         -a₀⋅c⋅s ⋅σ     ⎥\n",
       "⎢──────────────────          0              ────────────   ⎥\n",
       "⎣       96⋅V                                    48⋅V       ⎦"
      ]
     },
     "execution_count": 41,
     "metadata": {},
     "output_type": "execute_result"
    }
   ],
   "source": [
    "_Q = sm.ExtForces.Q().subs({p.alpha_r:0,p.alpha_1:sym.atan(sym.sin(p.q[2])*sym.sin(p.Lambda)),\n",
    "                           p.alpha_2:sym.atan(sym.sin(p.q[1])*sym.sin(p.Lambda)),p.w_g:0})\n",
    "test = mf.LineariseMatrix(_Q,p.x[2:],[0,0,0,0])\n",
    "sym.simplify(test.jacobian(p.qd)*(1/(p.V**2*p.rho)))"
   ]
  },
  {
   "cell_type": "code",
   "execution_count": null,
   "metadata": {},
   "outputs": [],
   "source": []
  }
 ],
 "metadata": {
  "kernelspec": {
   "display_name": "Python 3",
   "language": "python",
   "name": "python3"
  },
  "language_info": {
   "codemirror_mode": {
    "name": "ipython",
    "version": 3
   },
   "file_extension": ".py",
   "mimetype": "text/x-python",
   "name": "python",
   "nbconvert_exporter": "python",
   "pygments_lexer": "ipython3",
   "version": "3.7.7"
  }
 },
 "nbformat": 4,
 "nbformat_minor": 4
}
