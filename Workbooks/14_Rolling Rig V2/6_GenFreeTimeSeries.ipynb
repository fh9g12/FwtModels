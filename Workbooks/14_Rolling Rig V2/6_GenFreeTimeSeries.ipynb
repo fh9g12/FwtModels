{
 "cells": [
  {
   "cell_type": "code",
   "execution_count": 1,
   "metadata": {},
   "outputs": [],
   "source": [
    "import sympy as sym\n",
    "import sympy.physics.mechanics as me\n",
    "from sympy.abc import t as time\n",
    "import pandas as pd\n",
    "import seaborn as sns\n",
    "\n",
    "import numpy as np\n",
    "from scipy.integrate import solve_ivp\n",
    "import matplotlib.pyplot as plt\n",
    "from scipy.interpolate import interp1d\n",
    "from scipy.optimize import fsolve,least_squares,root\n",
    "\n",
    "import sys, os\n",
    "\n",
    "sys.path.insert(1, os.path.join(sys.path[0], '../..'))\n",
    "import custom_plot_objects as cpo\n",
    "\n",
    "import ModelFramework as mf\n",
    "import ModelFramework.Elements as ele\n",
    "import ModelFramework.ExternalForces as ef\n",
    "import FwtModels.RectWing as rw\n",
    "import FwtModels.RollRig as RollRig\n",
    "\n",
    "from matplotlib.lines import Line2D\n",
    "\n",
    "me.mechanics_printing()"
   ]
  },
  {
   "cell_type": "code",
   "execution_count": 2,
   "metadata": {},
   "outputs": [],
   "source": [
    "p = RollRig.base_params(3)"
   ]
  },
  {
   "cell_type": "code",
   "execution_count": 4,
   "metadata": {},
   "outputs": [],
   "source": [
    "sm = mf.SymbolicModel.from_file('RollRigModel.py')\n",
    "sm.ExtForces = ef.CompositeForce([sm.ExtForces,ef.CustomForce(None)])\n",
    "sm = sm.subs({p.alpha_r.name:0,p.alpha_1.name:sym.atan(sym.sin(p.Lambda)*sym.sin(p.q[1])),\n",
    "             p.alpha_2.name:sym.atan(sym.sin(p.Lambda)*sym.sin(p.q[2]))})"
   ]
  },
  {
   "cell_type": "code",
   "execution_count": 5,
   "metadata": {},
   "outputs": [],
   "source": [
    "p.c.value = 0.067\n",
    "p.s.value = 1\n",
    "p.sigma.value = 0.28\n",
    "p.m_w.value = 0.22\n",
    "p.m_f.value = 0.038\n",
    "p.m_l.value = 0#0.0275\n",
    "p.alpha_r.value = 0\n",
    "p.c_d_max.value = 1\n",
    "p.a_0.value = 2*np.pi\n",
    "p.a_1.value = 2*np.pi\n",
    "#p.tau.value = 0\n",
    "p.alpha_r.value = 0\n",
    "p.w_g.value = 0\n",
    "p.beta.value = 0.0036\n",
    "p.V.value = 22.5\n",
    "\n",
    "#p.s.value = 0.72\n",
    "#p.sigma.value = 0\n",
    "#p.m_f.value = 0\n",
    "#p.m_l.value = 0\n",
    "\n",
    "\n",
    "p.Lambda.value = np.deg2rad(10)"
   ]
  },
  {
   "cell_type": "code",
   "execution_count": 6,
   "metadata": {},
   "outputs": [],
   "source": [
    "nm = mf.NumericModel.from_SymbolicModel(p,sm)\n",
    "ext_f = nm.ExtForces.force_funcs[0]\n",
    "\n",
    "torque_period = 0.1\n",
    "torque_max = p.beta.value*p.V.value**2\n",
    "\n",
    "def torque(tup,x,t):\n",
    "    if t<2:\n",
    "        return 0\n",
    "    elif t<torque_period/2+2:\n",
    "        return torque_max*0.5*(1- np.cos(2*np.pi*(t-2)/torque_period))\n",
    "    else:\n",
    "        return torque_max\n",
    "    \n",
    "def custom_force(tup,x,t):\n",
    "    return np.array([[torque(tup,x,t)],[0],[0]])\n",
    "\n",
    "nm.ExtForces.force_funcs = [ext_f , custom_force]\n",
    "\n"
   ]
  },
  {
   "cell_type": "code",
   "execution_count": 7,
   "metadata": {},
   "outputs": [],
   "source": [
    "def GenRunData(model,p,ic,end_time,xNames=None,additional_cols = {},sample_freq=100):\n",
    "    \n",
    "    if xNames==None:\n",
    "        xNames = [f'x{i}' for i in range(p.qs*2)]\n",
    "    \n",
    "    # create objective function and solve\n",
    "    def objectiveDeriv(t,y):\n",
    "        return nm.deriv(t,y,p.GetNumericTuple(y,t))\n",
    "    yData = solve_ivp(objectiveDeriv,(0,end_time),ic,max_step=1/sample_freq)\n",
    "    \n",
    "    t = np.linspace(0,end_time,(end_time*100)+1)\n",
    "   \n",
    "    #interpolate to reduce t and y points\n",
    "    int_func = interp1d(yData.t,yData.y)  \n",
    "    yi = int_func(t)\n",
    "    \n",
    "    #generate list\n",
    "    tau = [torque((0,),[0]*p.qs*2,i) for i in t]\n",
    "    q_data = [{names[i]:v for i,v in enumerate(row)}for row in yi.T]    \n",
    "    params = {k.name:v for k,v in p.GetSubs(0,None).items()}\n",
    "\n",
    "\n",
    "    data = [{'t':_t,'torque':tau[i],'Locked':True,**q_data[i],**params,**additional_cols} for i,_t in enumerate(t)]\n",
    "    return data\n",
    "    "
   ]
  },
  {
   "cell_type": "code",
   "execution_count": 13,
   "metadata": {},
   "outputs": [],
   "source": [
    "names = ['Roll','Roll Rate','Left FWT Angle','Left FWT Velocity','Right FWT Angle','Right FWT Velocity']\n",
    "\n",
    "res = []\n",
    "\n",
    "for lam in np.deg2rad([10,20,30]):\n",
    "    p.Lambda.value = lam\n",
    "    for camber in np.deg2rad([0,5,10]):\n",
    "        p.alpha_c.value = camber\n",
    "\n",
    "        for v in np.linspace(15,30,7):\n",
    "            p.V.value = v\n",
    "            ext_f = nm.ExtForces.force_funcs[0]\n",
    "\n",
    "            torque_period = 0.1\n",
    "            torque_max = p.beta.value*p.V.value**2\n",
    "\n",
    "            def torque(tup,x,t):\n",
    "                if t<2:\n",
    "                    return 0\n",
    "                elif t<torque_period/2+2:\n",
    "                    return torque_max*0.5*(1- np.cos(2*np.pi*(t-2)/torque_period))\n",
    "                else:\n",
    "                    return torque_max\n",
    "\n",
    "            def custom_force(tup,x,t):\n",
    "                return np.array([[torque(tup,x,t)],[0],[0]])\n",
    "\n",
    "            nm.ExtForces.force_funcs = [ext_f , custom_force]\n",
    "\n",
    "            res+=GenRunData(nm,p,[0]*p.qs*2,10,names,{'Mode':'Free'},100)"
   ]
  },
  {
   "cell_type": "code",
   "execution_count": 15,
   "metadata": {},
   "outputs": [
    {
     "data": {
      "text/plain": [
       "{'t': 0.0,\n",
       " 'torque': 0,\n",
       " 'Locked': True,\n",
       " 'Roll': 0.0,\n",
       " 'Roll Rate': 0.0,\n",
       " 'Left FWT Angle': 0.0,\n",
       " 'Left FWT Velocity': 0.0,\n",
       " 'Right FWT Angle': 0.0,\n",
       " 'Right FWT Velocity': 0.0,\n",
       " 'c': 0.067,\n",
       " 's': 1,\n",
       " 'sigma': 0.28,\n",
       " 'm_w': 0.22,\n",
       " 'm_f': 0.038,\n",
       " 'm_l': 0,\n",
       " 'rho': 1.225,\n",
       " 'V': 15.0,\n",
       " 'g': 9.81,\n",
       " 'alpha_r': 0,\n",
       " 'alpha_c': 0.0,\n",
       " 'alpha_0': 0,\n",
       " 'alphadot_0': 0,\n",
       " 'alpha_1': 0,\n",
       " 'alphadot_1': 0,\n",
       " 'alpha_2': 0,\n",
       " 'alphadot_2': 0,\n",
       " 'C_Dmax': 1,\n",
       " 'a_0': 6.283185307179586,\n",
       " 'a_1': 6.283185307179586,\n",
       " 'beta': 0.0036,\n",
       " 'Lambda': 0.17453292519943295,\n",
       " 'w_g': 0,\n",
       " 'qtilde0': 0,\n",
       " 'qtilde1': 0,\n",
       " 'qtilde2': 0,\n",
       " 'qtilde3': 0,\n",
       " 'qtilde4': 0,\n",
       " 'qtilde5': 0,\n",
       " 'Mode': 'Free'}"
      ]
     },
     "execution_count": 15,
     "metadata": {},
     "output_type": "execute_result"
    }
   ],
   "source": [
    "res[0]"
   ]
  },
  {
   "cell_type": "code",
   "execution_count": 14,
   "metadata": {},
   "outputs": [],
   "source": [
    "df = pd.DataFrame(res)\n",
    "df.to_pickle('FreeData.pkl')"
   ]
  },
  {
   "cell_type": "code",
   "execution_count": 10,
   "metadata": {},
   "outputs": [
    {
     "data": {
      "text/plain": [
       "V\n",
       "15.0    314.190322\n",
       "17.5    367.973462\n",
       "20.0    421.435284\n",
       "22.5    474.615103\n",
       "25.0    527.651175\n",
       "27.5    580.629241\n",
       "30.0    633.556032\n",
       "Name: Roll Rate [Deg], dtype: float64"
      ]
     },
     "execution_count": 10,
     "metadata": {},
     "output_type": "execute_result"
    }
   ],
   "source": [
    "df['Roll Rate [Deg]']=np.rad2deg(df['Roll Rate'])\n",
    "df[df['t']>4].groupby(['V'])['Roll Rate [Deg]'].mean()"
   ]
  },
  {
   "cell_type": "code",
   "execution_count": null,
   "metadata": {},
   "outputs": [],
   "source": []
  }
 ],
 "metadata": {
  "kernelspec": {
   "display_name": "Python 3",
   "language": "python",
   "name": "python3"
  },
  "language_info": {
   "codemirror_mode": {
    "name": "ipython",
    "version": 3
   },
   "file_extension": ".py",
   "mimetype": "text/x-python",
   "name": "python",
   "nbconvert_exporter": "python",
   "pygments_lexer": "ipython3",
   "version": "3.7.7"
  }
 },
 "nbformat": 4,
 "nbformat_minor": 4
}
