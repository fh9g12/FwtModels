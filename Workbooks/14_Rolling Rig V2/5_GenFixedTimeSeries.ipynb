{
 "cells": [
  {
   "cell_type": "code",
   "execution_count": 1,
   "metadata": {},
   "outputs": [],
   "source": [
    "import sympy as sym\n",
    "import sympy.physics.mechanics as me\n",
    "from sympy.abc import t as time\n",
    "import pandas as pd\n",
    "import seaborn as sns\n",
    "\n",
    "import numpy as np\n",
    "from scipy.integrate import solve_ivp\n",
    "import matplotlib.pyplot as plt\n",
    "from scipy.interpolate import interp1d\n",
    "from scipy.optimize import fsolve,least_squares,root\n",
    "\n",
    "import sys, os\n",
    "\n",
    "sys.path.insert(1, os.path.join(sys.path[0], '../..'))\n",
    "import custom_plot_objects as cpo\n",
    "\n",
    "import ModelFramework as mf\n",
    "import ModelFramework.Elements as ele\n",
    "import ModelFramework.ExternalForces as ef\n",
    "import FwtModels.RectWing as rw\n",
    "import FwtModels.RollRig as RollRig\n",
    "\n",
    "from matplotlib.lines import Line2D\n",
    "\n",
    "me.mechanics_printing()"
   ]
  },
  {
   "cell_type": "code",
   "execution_count": 2,
   "metadata": {},
   "outputs": [],
   "source": [
    "p = RollRig.base_params(1)"
   ]
  },
  {
   "cell_type": "code",
   "execution_count": 3,
   "metadata": {},
   "outputs": [],
   "source": [
    "sm = mf.SymbolicModel.from_file('RollRigModel-Fixed.py')\n",
    "sm.ExtForces = ef.CompositeForce([sm.ExtForces,ef.CustomForce(None)])\n",
    "sm = sm.subs({p.alpha_r.name:0})"
   ]
  },
  {
   "cell_type": "code",
   "execution_count": 4,
   "metadata": {},
   "outputs": [],
   "source": [
    "p.c.value = 0.067\n",
    "p.s.value = 1\n",
    "p.sigma.value = 0.28\n",
    "p.m_w.value = 0.22\n",
    "p.m_f.value = 0.038\n",
    "p.m_l.value = 0#0.0275\n",
    "p.alpha_r.value = 0\n",
    "p.c_d_max.value = 1\n",
    "p.a_0.value = 2*np.pi\n",
    "p.a_1.value = 2*np.pi\n",
    "#p.tau.value = 0\n",
    "p.alpha_r.value = 0\n",
    "p.w_g.value = 0\n",
    "p.beta.value = 0.0036\n",
    "p.V.value = 22.5\n",
    "\n",
    "#p.s.value = 0.72\n",
    "#p.sigma.value = 0\n",
    "#p.m_f.value = 0\n",
    "#p.m_l.value = 0\n",
    "\n",
    "\n",
    "p.Lambda.value = np.deg2rad(10)"
   ]
  },
  {
   "cell_type": "code",
   "execution_count": 5,
   "metadata": {},
   "outputs": [],
   "source": [
    "nm = mf.NumericModel.from_SymbolicModel(p,sm)\n",
    "ext_f = nm.ExtForces.force_funcs[0]\n",
    "\n",
    "torque_period = 0.1\n",
    "torque_max = p.beta.value*p.V.value**2\n",
    "\n",
    "def torque(tup,x,t):\n",
    "    if t<2:\n",
    "        return 0\n",
    "    elif t<torque_period/2+2:\n",
    "        return torque_max*0.5*(1- np.cos(2*np.pi*(t-2)/torque_period))\n",
    "    else:\n",
    "        return torque_max\n",
    "    \n",
    "def custom_force(tup,x,t):\n",
    "    return np.array([[torque(tup,x,t)]])\n",
    "\n",
    "nm.ExtForces.force_funcs = [ext_f , custom_force]\n",
    "\n"
   ]
  },
  {
   "cell_type": "code",
   "execution_count": 6,
   "metadata": {},
   "outputs": [],
   "source": [
    "def GenRunData(model,p,ic,end_time,xNames=None,additional_cols = {},sample_freq=100):\n",
    "    \n",
    "    if xNames==None:\n",
    "        xNames = [f'x{i}' for i in range(p.qs*2)]\n",
    "    \n",
    "    # create objective function and solve\n",
    "    def objectiveDeriv(t,y):\n",
    "        return nm.deriv(t,y,p.GetNumericTuple(y,t))\n",
    "    yData = solve_ivp(objectiveDeriv,(0,end_time),ic,max_step=1/sample_freq)\n",
    "    \n",
    "    t = np.linspace(0,end_time,(end_time*100)+1)\n",
    "   \n",
    "    #interpolate to reduce t and y points\n",
    "    int_func = interp1d(yData.t,yData.y)  \n",
    "    yi = int_func(t)\n",
    "    \n",
    "    #generate list\n",
    "    tau = [torque((0,),[0],i) for i in t]\n",
    "    q_data = [{names[i]:v for i,v in enumerate(row)}for row in yi.T]    \n",
    "    params = {k.name:v for k,v in p.GetSubs(0,None).items()}\n",
    "\n",
    "\n",
    "    data = [{'t':_t,'torque':tau[i],'Locked':True,**q_data[i],**params,**additional_cols} for i,_t in enumerate(t)]\n",
    "    return data\n",
    "    "
   ]
  },
  {
   "cell_type": "code",
   "execution_count": 20,
   "metadata": {},
   "outputs": [],
   "source": [
    "names = ['Roll','Roll Rate','Left FWT Angle','Left FWT Velocity','Right FWT Angle','Right FWT Velocity']\n",
    "\n",
    "res = []\n",
    "\n",
    "for mode in ['Locked','Removed']:\n",
    "    if mode =='Locked':\n",
    "        p.m_f.value = 0.038\n",
    "        p.a_1.value = 2*np.pi\n",
    "    else:\n",
    "        p.m_f.value = 0\n",
    "        p.a_1.value = 0\n",
    "    for v in np.linspace(15,30,7):\n",
    "        p.V.value = v\n",
    "        ext_f = nm.ExtForces.force_funcs[0]\n",
    "\n",
    "        torque_period = 0.1\n",
    "        torque_max = p.beta.value*p.V.value**2\n",
    "\n",
    "        def torque(tup,x,t):\n",
    "            if t<2:\n",
    "                return 0\n",
    "            elif t<torque_period/2+2:\n",
    "                return torque_max*0.5*(1- np.cos(2*np.pi*(t-2)/torque_period))\n",
    "            else:\n",
    "                return torque_max\n",
    "\n",
    "        def custom_force(tup,x,t):\n",
    "            return np.array([[torque(tup,x,t)]])\n",
    "\n",
    "        nm.ExtForces.force_funcs = [ext_f , custom_force]\n",
    "\n",
    "        res+=GenRunData(nm,p,[0,0],10,names[:2],{'Mode':mode,**{n:0 for n in names[2:]}},100)\n",
    "df = pd.DataFrame(res)\n",
    "df.to_pickle('FixedData.pkl')"
   ]
  },
  {
   "cell_type": "code",
   "execution_count": 19,
   "metadata": {},
   "outputs": [
    {
     "data": {
      "text/plain": [
       "Mode     V   \n",
       "Locked   15.0    146.873567\n",
       "         17.5    171.352494\n",
       "         20.0    195.831422\n",
       "         22.5    220.310350\n",
       "         25.0    244.789278\n",
       "         27.5    269.268205\n",
       "         30.0    293.747133\n",
       "Removed  15.0    388.924108\n",
       "         17.5    453.744793\n",
       "         20.0    518.565477\n",
       "         22.5    583.386162\n",
       "         25.0    648.206847\n",
       "         27.5    713.027531\n",
       "         30.0    777.848216\n",
       "Name: Roll Rate [Deg], dtype: float64"
      ]
     },
     "execution_count": 19,
     "metadata": {},
     "output_type": "execute_result"
    }
   ],
   "source": [
    "df['Roll Rate [Deg]']=np.rad2deg(df['Roll Rate'])\n",
    "df[df['t']>4].groupby(['Mode','V'])['Roll Rate [Deg]'].mean()"
   ]
  },
  {
   "cell_type": "code",
   "execution_count": null,
   "metadata": {},
   "outputs": [],
   "source": []
  }
 ],
 "metadata": {
  "kernelspec": {
   "display_name": "Python 3",
   "language": "python",
   "name": "python3"
  },
  "language_info": {
   "codemirror_mode": {
    "name": "ipython",
    "version": 3
   },
   "file_extension": ".py",
   "mimetype": "text/x-python",
   "name": "python",
   "nbconvert_exporter": "python",
   "pygments_lexer": "ipython3",
   "version": "3.7.7"
  }
 },
 "nbformat": 4,
 "nbformat_minor": 4
}
