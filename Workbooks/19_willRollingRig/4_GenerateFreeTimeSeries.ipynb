{
 "cells": [
  {
   "cell_type": "code",
   "execution_count": 1,
   "metadata": {},
   "outputs": [],
   "source": [
    "import sympy as sym\n",
    "import sympy.physics.mechanics as me\n",
    "from sympy.abc import t as time\n",
    "import pandas as pd\n",
    "import seaborn as sns\n",
    "\n",
    "import numpy as np\n",
    "from scipy.integrate import solve_ivp\n",
    "import matplotlib.pyplot as plt\n",
    "from scipy.interpolate import interp1d\n",
    "from scipy.optimize import fsolve,least_squares,root\n",
    "\n",
    "import sys, os\n",
    "import pickle\n",
    "\n",
    "sys.path.insert(1, os.path.join(sys.path[0], '../..'))\n",
    "import custom_plot_objects as cpo\n",
    "\n",
    "import ModelFramework as mf\n",
    "import ModelFramework.Elements as ele\n",
    "import ModelFramework.ExternalForces as ef\n",
    "import FwtModels.RectWing as rw\n",
    "import FwtModels.RollRig as RollRig\n",
    "import multiprocessing as mp\n",
    "from multiprocessing import set_start_method\n",
    "#set_start_method(\"spawn\")\n",
    "\n",
    "from matplotlib.lines import Line2D\n",
    "\n",
    "me.mechanics_printing()"
   ]
  },
  {
   "cell_type": "code",
   "execution_count": 2,
   "metadata": {},
   "outputs": [],
   "source": [
    "# Create simplified model\n",
    "fwt_panels = 10\n",
    "main_panels = 20\n",
    "\n",
    "p = RollRig.base_params(3, panels = fwt_panels*2 + main_panels)  \n",
    "sm = mf.SymbolicModel.from_file('RollRigModel.py')"
   ]
  },
  {
   "cell_type": "code",
   "execution_count": 22,
   "metadata": {},
   "outputs": [],
   "source": [
    "sm.ExtForces = ef.CompositeForce([sm.ExtForces,ef.CustomForce(None)])\n",
    "sm = sm.subs({p.alpha_r.name:0,p.alpha_1.name:-sym.atan(sym.sin(p.Lambda)*sym.tan(p.q[1])),\n",
    "             p.alpha_2.name:-sym.atan(sym.sin(p.Lambda)*sym.tan(p.q[2]))})\n",
    "p.fp = [0,0,0,0,0,0]\n",
    "sm_lin = sm.linearise(p)\n",
    "sm_lin.to_file('tempModel_free.py')"
   ]
  },
  {
   "cell_type": "code",
   "execution_count": 23,
   "metadata": {},
   "outputs": [],
   "source": [
    "# Add fixed params to dict\n",
    "params = {}\n",
    "params['c'] = 0.067\n",
    "params['s'] = 1\n",
    "params['g'] = 9.81\n",
    "params['sigma'] = 0.272\n",
    "params['alpha_r'] = 0\n",
    "params['c_d_max'] = 1\n",
    "params['m_w'] = 0.759\n",
    "params['I_xx_w'] = 0.019480411\n",
    "params['y_w'] = 0\n",
    "params['z_w'] = 0\n",
    "params['c_d_max'] = 0\n",
    "params['T'] = 0.01"
   ]
  },
  {
   "cell_type": "code",
   "execution_count": 24,
   "metadata": {},
   "outputs": [],
   "source": [
    "# create lift distribution\n",
    "def create_lift_dist_from_file(filename,span,sigma,main_panels,fwt_panels):\n",
    "    s_w = span*(1-sigma)\n",
    "    delta = s_w / main_panels\n",
    "    y_panel_main = np.linspace(-s_w/2+delta/2,s_w/2-delta/2,main_panels)\n",
    "\n",
    "    s_f = span*sigma/2\n",
    "    delta = s_f / fwt_panels\n",
    "    y_panel_fwt = np.linspace(delta/2,s_f-delta/2,fwt_panels)+s_w/2\n",
    "    y_panel = [*-np.flip(y_panel_fwt),*y_panel_main,*y_panel_fwt]\n",
    "\n",
    "    ## load lift distribution\n",
    "    df = pd.read_csv(filename)\n",
    "    y_span = df['y'].to_numpy()\n",
    "    y_c_l = df['C_l'].to_numpy()\n",
    "\n",
    "    # interpolate on each panel\n",
    "    return list(np.interp(np.abs(y_panel),y_span,y_c_l,left=0,right=0))\n",
    "\n",
    "def create_const_lift_dist(main_panels,fwt_panels):\n",
    "    return [np.pi*2]*(main_panels+(2*fwt_panels))\n",
    "\n",
    "def create_tapered_lift_dist(main_panels,fwt_panels):\n",
    "    val = 2*np.pi\n",
    "    main_a = [val]*main_panels\n",
    "    fwt_a = [((i+0.5)/fwt_panels)*val for i in range(fwt_panels)]\n",
    "    return [*fwt_a,*main_a,*reversed(fwt_a)]"
   ]
  },
  {
   "cell_type": "code",
   "execution_count": 25,
   "metadata": {},
   "outputs": [],
   "source": [
    "# Calculate Lift Distributions\n",
    "lift_dists=[]\n",
    "tmp_params = {}\n",
    "tmp_params['p'] = 1\n",
    "tmp_params['a'] = create_const_lift_dist(main_panels,fwt_panels)\n",
    "# tmp_params['a'] = create_lift_dist_from_file(r'LiftDistribution_aoa_0_rr_60_span_100.csv',params['s'],params['sigma'],main_panels,fwt_panels)\n",
    "lift_dists.append(({'LiftDist':'Roll60'},tmp_params.copy()))\n",
    "\n",
    "# tmp_params = {}\n",
    "# tmp_params['p'] = 1\n",
    "# tmp_params['a'] = create_lift_dist_from_file(r'LiftDistribution_aoa_5_rr_0_span_100.csv',params['s'],params['sigma'],main_panels,fwt_panels)\n",
    "# lift_dists.append(({'LiftDist':'AoA5'},tmp_params.copy()))\n",
    "\n",
    "# tmp_params = {}\n",
    "# tmp_params['p'] = 1\n",
    "# tmp_params['a'] = create_const_lift_dist(main_panels,fwt_panels)\n",
    "# lift_dists.append(({'LiftDist':'Const'},tmp_params.copy()))\n",
    "\n",
    "# tmp_params = {}\n",
    "# tmp_params['p'] = 1\n",
    "# tmp_params['a'] = create_tapered_lift_dist(main_panels,fwt_panels)\n",
    "# lift_dists.append(({'LiftDist':'Tapered'},tmp_params.copy()))"
   ]
  },
  {
   "cell_type": "code",
   "execution_count": 26,
   "metadata": {},
   "outputs": [],
   "source": [
    "# create configs\n",
    "configs = []\n",
    "tmp_params = {}\n",
    "tmp_params['Lambda'] = np.deg2rad(10)\n",
    "tmp_params['alpha_c'] = np.deg2rad(0)\n",
    "tmp_params['l_f'] = 0.0766*np.cos(tmp_params['Lambda'])\n",
    "tmp_params['I_xx_f'] = 8.85e-5\n",
    "tmp_params['m_f'] = 0.0625\n",
    "configs.append(({'Mode':'Free'},tmp_params.copy()))"
   ]
  },
  {
   "cell_type": "code",
   "execution_count": 39,
   "metadata": {},
   "outputs": [],
   "source": [
    "# create Jobs\n",
    "attitudes=[]\n",
    "vs = [30]\n",
    "for v in vs:\n",
    "    aas = [7,14,21]\n",
    "#     for i,tm in enumerate([0]*3):\n",
    "    for i,tm in enumerate([-0.5]):\n",
    "        beta = (tm)*8.4e-4*v**2\n",
    "        attitudes.append(({\"AileronAngle\":aas[i],},{\"V\":v,\"beta\":beta}))\n",
    "#     attitudes.append(({\"AileronAngle\":7,},{\"V\":v,\"beta\":(1.05)*8.4e-4*v**2-0.08}))"
   ]
  },
  {
   "cell_type": "code",
   "execution_count": 40,
   "metadata": {},
   "outputs": [],
   "source": [
    "jobs=[({**config,**att,**lift_dist},{**params,**config_params,**att_params,**lift_dist_params}) for config,config_params in configs for att,att_params in attitudes for lift_dist,lift_dist_params in lift_dists]\n",
    "#jobs[10]"
   ]
  },
  {
   "cell_type": "code",
   "execution_count": 42,
   "metadata": {},
   "outputs": [
    {
     "name": "stdout",
     "output_type": "stream",
     "text": [
      "CPU times: user 1.89 s, sys: 7.69 ms, total: 1.89 s\n",
      "Wall time: 1.89 s\n"
     ]
    }
   ],
   "source": [
    "%%time\n",
    "j_i = 0\n",
    "job = jobs[j_i]\n",
    "ic = [0,0,0,0,0,0]\n",
    "names = ['Roll','Roll Rate','Right FWT Angle','Right FWT Velocity','Left FWT Angle','Left FWT Velocity']\n",
    "\n",
    "def stop_event(t,y):\n",
    "    return np.deg2rad(360*4+5) - abs(y[0])\n",
    "stop_event.terminal = True\n",
    "\n",
    "data = RollRig.GenRunData_StepTorque('tempModel_free.py',3,ic,60,params=job[1],\n",
    "                                     panels=main_panels + 2*fwt_panels,\n",
    "                                     calc_coast=True,\n",
    "                                     xNames=names,\n",
    "                                     additional_cols={**job[0]},\n",
    "                                     sample_freq=100,\n",
    "                                     events = [stop_event])\n",
    "\n",
    "# plt.plot(np.rad2deg(df['Roll Rate']),np.gradient(np.rad2deg(df['Roll Rate'])))\n",
    "\n",
    "\n",
    "# print(np.rad2deg(df[df['t']>4]['Roll Rate'].mean()))\n",
    "# {**jobs[j_i][0],**jobs[j_i][1]}"
   ]
  },
  {
   "cell_type": "code",
   "execution_count": 43,
   "metadata": {},
   "outputs": [
    {
     "data": {
      "text/plain": [
       "<matplotlib.legend.Legend at 0x7fb885ba1710>"
      ]
     },
     "execution_count": 43,
     "metadata": {},
     "output_type": "execute_result"
    },
    {
     "data": {
      "image/png": "[encoded data removed]",
      "text/plain": [
       "<Figure size 432x288 with 1 Axes>"
      ]
     },
     "metadata": {
      "needs_background": "light"
     },
     "output_type": "display_data"
    }
   ],
   "source": [
    "df = pd.DataFrame(data)\n",
    "# df = df[df['Roll']>=np.deg2rad(720-180)]\n",
    "# df = df[df['Roll']<np.deg2rad(360*3-180)]\n",
    "plt.plot(df['t'],df['torque'])\n",
    "# plt.plot(df['t'],np.rad2deg(df['Roll Rate']),label = 'rr')\n",
    "plt.plot(df['t'],np.rad2deg(df['Left FWT Angle']),label = 'left fwt')\n",
    "plt.plot(df['t'],np.rad2deg(df['Roll Rate']),label = 'Roll Rate')\n",
    "# plt.plot(df['t'],np.rad2deg(df['Right FWT Angle']),label = 'right fwt')\n",
    "# plt.plot(df['t'],np.rad2deg(df['Roll Rate']),label = 'roll')\n",
    "# plt.plot(np.rad2deg(df['Roll']),(df['lift_mom']),label ='lift')\n",
    "# plt.plot(np.rad2deg(df['Roll']),(df['centri_mom']),label = 'centri')\n",
    "# plt.plot(np.rad2deg(df['Roll']),(df['grav_mom']),label = 'grav')\n",
    "# plt.plot(np.rad2deg(df['Roll']),(df['right_lift']),label = 'rl')\n",
    "# plt.plot(np.rad2deg(df['Roll']),(df['left_lift']),label = 'll')\n",
    "# plt.plot(np.rad2deg(df['Roll']),(df['left_lift']+df['right_lift']),label = 'delta')\n",
    "\n",
    "plt.legend()"
   ]
  }
 ],
 "metadata": {
  "kernelspec": {
   "display_name": "Python 3",
   "language": "python",
   "name": "python3"
  },
  "language_info": {
   "codemirror_mode": {
    "name": "ipython",
    "version": 3
   },
   "file_extension": ".py",
   "mimetype": "text/x-python",
   "name": "python",
   "nbconvert_exporter": "python",
   "pygments_lexer": "ipython3",
   "version": "3.7.7"
  }
 },
 "nbformat": 4,
 "nbformat_minor": 4
}
