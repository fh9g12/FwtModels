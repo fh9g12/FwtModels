{
 "cells": [
  {
   "cell_type": "code",
   "execution_count": 1,
   "metadata": {},
   "outputs": [],
   "source": [
    "import sympy as sym\n",
    "import sympy.physics.mechanics as me\n",
    "from sympy.abc import t as time\n",
    "import pandas as pd\n",
    "import seaborn as sns\n",
    "\n",
    "import numpy as np\n",
    "from scipy.integrate import solve_ivp\n",
    "import matplotlib.pyplot as plt\n",
    "\n",
    "import sys, os\n",
    "\n",
    "sys.path.insert(1, os.path.join(sys.path[0], '../..'))\n",
    "import custom_plot_objects as cpo\n",
    "\n",
    "import ModelFramework as mf\n",
    "import ModelFramework.Elements as ele\n",
    "import ModelFramework.ExternalForces as ef\n",
    "import FwtModels.RectWing as rw\n",
    "import FwtModels.RollRig as RollRig\n",
    "\n",
    "from matplotlib.lines import Line2D\n",
    "\n",
    "me.mechanics_printing()"
   ]
  },
  {
   "cell_type": "code",
   "execution_count": 15,
   "metadata": {},
   "outputs": [],
   "source": [
    "half = sym.Rational(1,2)\n",
    "fwt_panels = 1\n",
    "main_panels = 2\n",
    "p = RollRig.base_params(panels = (fwt_panels*2 + main_panels))"
   ]
  },
  {
   "cell_type": "code",
   "execution_count": 16,
   "metadata": {},
   "outputs": [],
   "source": [
    "# Generate Referecne Frame\n",
    "wing_frame = mf.HomogenousTransform().R_x(sym.pi+p.q[0])\n",
    "rhs_fwt_frame = wing_frame.Translate(0,p.s_w*half,0).R_x(-p.q[1])  # RHS Fwt Frame\n",
    "lhs_fwt_frame = wing_frame.Translate(0,-p.s_w*half,0).R_x(p.q[2])  # LHS Fwt Frame\n",
    "\n",
    "#Generate Mass Matrices\n",
    "M_w = ele.MassMatrix(p.m_w)\n",
    "I_w = ele.MassMatrix(0,I_xx = p.I_xx_w)\n",
    "fwt_w = ele.MassMatrix(p.m_f,I_xx = p.I_xx_f)\n",
    "\n",
    "# Generate Rigid Elements\n",
    "Wing_point_mass = ele.RigidElement(wing_frame.Translate(0,p.y_w,p.z_w),M_w,gravityPotential=True)\n",
    "wing_inertia = ele.RigidElement(wing_frame,I_w)\n",
    "rhs_fwt_mass = ele.RigidElement(rhs_fwt_frame.Translate(0,p.l_f,0),fwt_w,gravityPotential=True)\n",
    "lhs_fwt_mass = ele.RigidElement(lhs_fwt_frame.Translate(0,-p.l_f,0),fwt_w,gravityPotential=True)"
   ]
  },
  {
   "cell_type": "code",
   "execution_count": 17,
   "metadata": {},
   "outputs": [
    {
     "data": {
      "text/latex": [
       "$\\displaystyle \\left[\\begin{matrix}0\\\\l_{f} \\cos{\\left(q_{0} + q_{2} \\right)} - \\frac{s \\left(\\sigma - 1\\right) \\cos{\\left(q_{0} \\right)}}{2}\\\\l_{f} \\sin{\\left(q_{0} + q_{2} \\right)} - \\frac{s \\left(\\sigma - 1\\right) \\sin{\\left(q_{0} \\right)}}{2}\\end{matrix}\\right]$"
      ],
      "text/plain": [
       "⎡                 0                  ⎤\n",
       "⎢                                    ⎥\n",
       "⎢                   s⋅(σ - 1)⋅cos(q₀)⎥\n",
       "⎢l_f⋅cos(q₀ + q₂) - ─────────────────⎥\n",
       "⎢                           2        ⎥\n",
       "⎢                                    ⎥\n",
       "⎢                   s⋅(σ - 1)⋅sin(q₀)⎥\n",
       "⎢l_f⋅sin(q₀ + q₂) - ─────────────────⎥\n",
       "⎣                           2        ⎦"
      ]
     },
     "execution_count": 17,
     "metadata": {},
     "output_type": "execute_result"
    }
   ],
   "source": [
    "sym.simplify(lhs_fwt_frame.Translate(0,-p.l_f,0).Transform_point((0,0,0)))"
   ]
  },
  {
   "cell_type": "code",
   "execution_count": 18,
   "metadata": {},
   "outputs": [],
   "source": [
    "# Main Wing Aero Forces \n",
    "wing_AeroForces = ef.AeroForce_Inverted.PerUnitSpan(p,wing_frame.Translate(0,p.y_i,0),p.a_0,\n",
    "                               alphadot = 0,\n",
    "                               M_thetadot = 0,\n",
    "                               e = 0,\n",
    "                               w_g = 0,\n",
    "                               rootAlpha = 0,\n",
    "                               alpha_zero = 0,\n",
    "                               stall_angle = 0,\n",
    "                               c = p.c,\n",
    "                               c_d_max = 0,\n",
    "                               linear = True)#.integrate((p.y_w,-p.s_w*half,p.s_w*half))"
   ]
  },
  {
   "cell_type": "code",
   "execution_count": 19,
   "metadata": {},
   "outputs": [],
   "source": [
    "# split Main Wing into segments\n",
    "forces = []\n",
    "for i in range(main_panels):\n",
    "    seg_width = p.s_w/main_panels\n",
    "    yi = -p.s_w/2 + seg_width/2 + i*seg_width\n",
    "    forces.append(wing_AeroForces.subs({p.y_i:yi,p.a_0:p.a[fwt_panels+i]})*seg_width)\n",
    "Q = sym.Matrix([0]*p.qs)\n",
    "for f in forces:\n",
    "    Q += f.Q()\n",
    "wing_AeroForces = ef.ExternalForce(Q)"
   ]
  },
  {
   "cell_type": "code",
   "execution_count": 35,
   "metadata": {},
   "outputs": [],
   "source": [
    "# Left FWT Aero Forces\n",
    "lhs_fwt_AeroForces = ef.AeroForce_Inverted.PerUnitSpan(p,lhs_fwt_frame.Translate(0,-p.y_f,0),p.a_0,\n",
    "                               alphadot = 0,\n",
    "                               M_thetadot = 0,\n",
    "                               e = 0,\n",
    "                               w_g = 0,\n",
    "                               rootAlpha = p.alpha_2,\n",
    "                               alpha_zero = p.alpha_c,\n",
    "                               stall_angle = 0,\n",
    "                               c = p.c,\n",
    "                               c_d_max = 0,\n",
    "                               linear = True)#.integrate((p.y_f,0,p.s_f))"
   ]
  },
  {
   "cell_type": "code",
   "execution_count": 36,
   "metadata": {},
   "outputs": [],
   "source": [
    "# Left FWT Aero Forces \n",
    "rhs_fwt_AeroForces = ef.AeroForce_Inverted.PerUnitSpan(p,rhs_fwt_frame.Translate(0,p.y_f,0),p.a_0,\n",
    "                               alphadot = 0,\n",
    "                               M_thetadot = 0,\n",
    "                               e = 0,\n",
    "                               w_g = 0,\n",
    "                               rootAlpha = p.alpha_1,\n",
    "                               alpha_zero = p.alpha_c,\n",
    "                               stall_angle = 0,\n",
    "                               c = p.c,\n",
    "                               c_d_max = 0,\n",
    "                               linear = True)#.integrate((p.y_f,0,p.s_f))"
   ]
  },
  {
   "cell_type": "code",
   "execution_count": 37,
   "metadata": {},
   "outputs": [],
   "source": [
    "# split FTW's into segments\n",
    "forces = []\n",
    "for i in range(fwt_panels):\n",
    "    seg_width = p.s_f/fwt_panels\n",
    "    yi = seg_width/2 + i*seg_width\n",
    "    forces.append(lhs_fwt_AeroForces.subs({p.y_f:yi,p.a_0:p.a[fwt_panels-(i+1)]})*seg_width)\n",
    "    forces.append(rhs_fwt_AeroForces.subs({p.y_f:yi,p.a_0:p.a[fwt_panels+main_panels+i]})*seg_width)\n",
    "Q = sym.Matrix([0]*p.qs)\n",
    "for f in forces:\n",
    "    Q += f.Q()\n",
    "fwt_AeroForces = ef.ExternalForce(Q)\n",
    "\n"
   ]
  },
  {
   "cell_type": "code",
   "execution_count": 38,
   "metadata": {},
   "outputs": [],
   "source": [
    "Forcing = ef.CustomForce(None) \n",
    "\n",
    "CompositeForce = ef.CompositeForce([fwt_AeroForces,wing_AeroForces,Forcing])\n",
    "# create instance of the model\n",
    "sm = mf.SymbolicModel.FromElementsAndForces(p,[Wing_point_mass,wing_inertia,rhs_fwt_mass,lhs_fwt_mass],ExtForces = CompositeForce)"
   ]
  },
  {
   "cell_type": "code",
   "execution_count": 39,
   "metadata": {},
   "outputs": [],
   "source": [
    "sm.to_file('RollRigModel.py')"
   ]
  },
  {
   "cell_type": "code",
   "execution_count": 40,
   "metadata": {},
   "outputs": [
    {
     "data": {
      "text/latex": [
       "$\\displaystyle \\left[\\begin{matrix}- \\frac{V^{2} c \\rho s \\sigma a_{0} \\left(\\alpha_{2} + \\alpha_{c} + \\frac{- \\frac{s \\sigma \\dot{q}_{2}}{4} + \\left(\\frac{s \\sigma \\cos{\\left(q_{2} \\right)}}{2} - \\frac{s \\sigma}{4} - \\frac{s \\cos{\\left(q_{2} \\right)}}{2}\\right) \\dot{q}_{0}}{V}\\right) \\left(\\frac{s \\sigma \\cos{\\left(q_{2} \\right)}}{2} - \\frac{s \\sigma}{4} - \\frac{s \\cos{\\left(q_{2} \\right)}}{2}\\right)}{4} - \\frac{V^{2} c \\rho s \\sigma a_{3} \\left(\\alpha_{1} + \\alpha_{c} + \\frac{- \\frac{s \\sigma \\dot{q}_{1}}{4} + \\left(- \\frac{s \\sigma \\cos{\\left(q_{1} \\right)}}{2} + \\frac{s \\sigma}{4} + \\frac{s \\cos{\\left(q_{1} \\right)}}{2}\\right) \\dot{q}_{0}}{V}\\right) \\left(- \\frac{s \\sigma \\cos{\\left(q_{1} \\right)}}{2} + \\frac{s \\sigma}{4} + \\frac{s \\cos{\\left(q_{1} \\right)}}{2}\\right)}{4} - \\frac{V c \\rho s^{3} a_{1} \\left(1 - \\sigma\\right)^{3} \\dot{q}_{0}}{64} - \\frac{V c \\rho s^{3} a_{2} \\left(1 - \\sigma\\right)^{3} \\dot{q}_{0}}{64}\\\\\\frac{V^{2} c \\rho s^{2} \\sigma^{2} a_{3} \\left(\\alpha_{1} + \\alpha_{c} + \\frac{- \\frac{s \\sigma \\dot{q}_{1}}{4} + \\left(- \\frac{s \\sigma \\cos{\\left(q_{1} \\right)}}{2} + \\frac{s \\sigma}{4} + \\frac{s \\cos{\\left(q_{1} \\right)}}{2}\\right) \\dot{q}_{0}}{V}\\right)}{16}\\\\\\frac{V^{2} c \\rho s^{2} \\sigma^{2} a_{0} \\left(\\alpha_{2} + \\alpha_{c} + \\frac{- \\frac{s \\sigma \\dot{q}_{2}}{4} + \\left(\\frac{s \\sigma \\cos{\\left(q_{2} \\right)}}{2} - \\frac{s \\sigma}{4} - \\frac{s \\cos{\\left(q_{2} \\right)}}{2}\\right) \\dot{q}_{0}}{V}\\right)}{16}\\end{matrix}\\right]$"
      ],
      "text/plain": [
       "⎡                ⎛             s⋅σ⋅q₂̇   ⎛s⋅σ⋅cos(q₂)   s⋅σ   s⋅cos(q₂)⎞   ⎞  \n",
       "⎢                ⎜           - ────── + ⎜─────────── - ─── - ─────────⎟⋅q₀̇⎟  \n",
       "⎢   2            ⎜               4      ⎝     2         4        2    ⎠   ⎟ ⎛s\n",
       "⎢  V ⋅c⋅ρ⋅s⋅σ⋅a₀⋅⎜α₂ + α_c + ─────────────────────────────────────────────⎟⋅⎜─\n",
       "⎢                ⎝                                 V                      ⎠ ⎝ \n",
       "⎢- ───────────────────────────────────────────────────────────────────────────\n",
       "⎢                                                     4                       \n",
       "⎢                                                                             \n",
       "⎢                                                                             \n",
       "⎢                                                                             \n",
       "⎢                                                                             \n",
       "⎢                                                                             \n",
       "⎢                                                                             \n",
       "⎢                                                                             \n",
       "⎢                                                                             \n",
       "⎢                                                                             \n",
       "⎢                                                                             \n",
       "⎢                                                                             \n",
       "⎢                                                                             \n",
       "⎢                                                                             \n",
       "⎢                                                                             \n",
       "⎢                                                                             \n",
       "⎣                                                                             \n",
       "\n",
       "                                               ⎛             s⋅σ⋅q₁̇   ⎛  s⋅σ⋅\n",
       "                                               ⎜           - ────── + ⎜- ─────\n",
       "⋅σ⋅cos(q₂)   s⋅σ   s⋅cos(q₂)⎞    2            ⎜               4      ⎝       2\n",
       "────────── - ─── - ─────────⎟   V ⋅c⋅ρ⋅s⋅σ⋅a₃⋅⎜α₁ + α_c + ────────────────────\n",
       "    2         4        2    ⎠                 ⎝                               \n",
       "───────────────────────────── - ──────────────────────────────────────────────\n",
       "                                                                              \n",
       "                                                                              \n",
       "                                   ⎛             s⋅σ⋅q₁̇   ⎛  s⋅σ⋅cos(q₁)   s⋅\n",
       "                                   ⎜           - ────── + ⎜- ─────────── + ───\n",
       "                    2      2  2    ⎜               4      ⎝       2         4 \n",
       "                   V ⋅c⋅ρ⋅s ⋅σ ⋅a₃⋅⎜α₁ + α_c + ───────────────────────────────\n",
       "                                   ⎝                                  V       \n",
       "                   ───────────────────────────────────────────────────────────\n",
       "                                                        16                    \n",
       "                                                                              \n",
       "                                    ⎛             s⋅σ⋅q₂̇   ⎛s⋅σ⋅cos(q₂)   s⋅σ\n",
       "                                    ⎜           - ────── + ⎜─────────── - ─── \n",
       "                     2      2  2    ⎜               4      ⎝     2         4  \n",
       "                    V ⋅c⋅ρ⋅s ⋅σ ⋅a₀⋅⎜α₂ + α_c + ──────────────────────────────\n",
       "                                    ⎝                                 V       \n",
       "                    ──────────────────────────────────────────────────────────\n",
       "                                                        16                    \n",
       "\n",
       "cos(q₁)   s⋅σ   s⋅cos(q₁)⎞   ⎞                                                \n",
       "────── + ─── + ─────────⎟⋅q₀̇⎟                                                \n",
       "         4        2    ⎠   ⎟ ⎛  s⋅σ⋅cos(q₁)   s⋅σ   s⋅cos(q₁)⎞                \n",
       "───────────────────────────⎟⋅⎜- ─────────── + ─── + ─────────⎟          3     \n",
       "   V                       ⎠ ⎝       2         4        2    ⎠   V⋅c⋅ρ⋅s ⋅a₁⋅(\n",
       "────────────────────────────────────────────────────────────── - ─────────────\n",
       "       4                                                                    64\n",
       "                                                                              \n",
       "σ   s⋅cos(q₁)⎞   ⎞                                                            \n",
       " + ─────────⎟⋅q₀̇⎟                                                            \n",
       "       2    ⎠   ⎟                                                             \n",
       "────────────────⎟                                                             \n",
       "                ⎠                                                             \n",
       "─────────────────                                                             \n",
       "                                                                              \n",
       "                                                                              \n",
       "   s⋅cos(q₂)⎞   ⎞                                                             \n",
       "- ─────────⎟⋅q₀̇⎟                                                             \n",
       "      2    ⎠   ⎟                                                              \n",
       "───────────────⎟                                                              \n",
       "               ⎠                                                              \n",
       "────────────────                                                              \n",
       "                                                                              \n",
       "\n",
       "                                      ⎤\n",
       "                                      ⎥\n",
       "                                    ⎥\n",
       "      3             3           3   ⎥\n",
       "1 - σ) ⋅q₀̇   V⋅c⋅ρ⋅s ⋅a₂⋅(1 - σ) ⋅q₀̇⎥\n",
       "────────── - ───────────────────────⎥\n",
       "                        64          ⎥\n",
       "                                    ⎥\n",
       "                                     ⎥\n",
       "                                     ⎥\n",
       "                                    ⎥\n",
       "                                    ⎥\n",
       "                                    ⎥\n",
       "                                    ⎥\n",
       "                                    ⎥\n",
       "                                    ⎥\n",
       "                                     ⎥\n",
       "                                     ⎥\n",
       "                                    ⎥\n",
       "                                    ⎥\n",
       "                                    ⎥\n",
       "                                    ⎥\n",
       "                                    ⎦"
      ]
     },
     "execution_count": 40,
     "metadata": {},
     "output_type": "execute_result"
    }
   ],
   "source": [
    "sm.ExtForces.Q()"
   ]
  },
  {
   "cell_type": "code",
   "execution_count": 41,
   "metadata": {},
   "outputs": [
    {
     "data": {
      "text/latex": [
       "$\\displaystyle \\left[\\begin{matrix}\\frac{V c \\rho s^{2} \\left(- 4 V \\sigma a_{0} \\left(\\alpha_{2} + \\alpha_{c}\\right) \\left(\\sigma - 2\\right) + 4 V \\sigma a_{3} \\left(\\alpha_{1} + \\alpha_{c}\\right) \\left(\\sigma - 2\\right) + s \\sigma^{2} a_{0} \\left(\\sigma - 2\\right) \\dot{q}_{2} - s \\sigma^{2} a_{3} \\left(\\sigma - 2\\right) \\dot{q}_{1} - s \\sigma \\left(\\sigma - 2\\right)^{2} \\left(a_{0} + a_{3}\\right) \\dot{q}_{0} + s \\left(\\sigma - 1\\right)^{3} \\left(a_{1} + a_{2}\\right) \\dot{q}_{0}\\right)}{64}\\\\\\frac{V c \\rho s^{2} \\sigma^{2} a_{3} \\left(4 V \\left(\\alpha_{1} + \\alpha_{c}\\right) - s \\sigma \\dot{q}_{1} - s \\left(\\sigma - 2\\right) \\dot{q}_{0}\\right)}{64}\\\\\\frac{V c \\rho s^{2} \\sigma^{2} a_{0} \\left(4 V \\left(\\alpha_{2} + \\alpha_{c}\\right) - s \\sigma \\dot{q}_{2} + s \\left(\\sigma - 2\\right) \\dot{q}_{0}\\right)}{64}\\end{matrix}\\right]$"
      ],
      "text/plain": [
       "⎡       2 ⎛                                                                2  \n",
       "⎢V⋅c⋅ρ⋅s ⋅⎝-4⋅V⋅σ⋅a₀⋅(α₂ + α_c)⋅(σ - 2) + 4⋅V⋅σ⋅a₃⋅(α₁ + α_c)⋅(σ - 2) + s⋅σ ⋅a\n",
       "⎢─────────────────────────────────────────────────────────────────────────────\n",
       "⎢                                                                             \n",
       "⎢                                                                             \n",
       "⎢                                                              2  2           \n",
       "⎢                                                       V⋅c⋅ρ⋅s ⋅σ ⋅a₃⋅(4⋅V⋅(α\n",
       "⎢                                                       ──────────────────────\n",
       "⎢                                                                             \n",
       "⎢                                                                             \n",
       "⎢                                                              2  2           \n",
       "⎢                                                       V⋅c⋅ρ⋅s ⋅σ ⋅a₀⋅(4⋅V⋅(α\n",
       "⎢                                                       ──────────────────────\n",
       "⎣                                                                             \n",
       "\n",
       "                  2                            2                         3    \n",
       "₀⋅(σ - 2)⋅q₂̇ - s⋅σ ⋅a₃⋅(σ - 2)⋅q₁̇ - s⋅σ⋅(σ - 2) ⋅(a₀ + a₃)⋅q₀̇ + s⋅(σ - 1) ⋅\n",
       "──────────────────────────────────────────────────────────────────────────────\n",
       "     64                                                                       \n",
       "                                                                              \n",
       "                                                                              \n",
       "₁ + α_c) - s⋅σ⋅q₁̇ - s⋅(σ - 2)⋅q₀̇)                                           \n",
       "─────────────────────────────────                                             \n",
       "     64                                                                       \n",
       "                                                                              \n",
       "                                                                              \n",
       "₂ + α_c) - s⋅σ⋅q₂̇ + s⋅(σ - 2)⋅q₀̇)                                           \n",
       "─────────────────────────────────                                             \n",
       "     64                                                                       \n",
       "\n",
       "         ⎞⎤\n",
       "(a₁ + a₂)⋅q₀̇⎠⎥\n",
       "──────────⎥\n",
       "          ⎥\n",
       "          ⎥\n",
       "          ⎥\n",
       "            ⎥\n",
       "          ⎥\n",
       "          ⎥\n",
       "          ⎥\n",
       "          ⎥\n",
       "            ⎥\n",
       "          ⎥\n",
       "          ⎦"
      ]
     },
     "execution_count": 41,
     "metadata": {},
     "output_type": "execute_result"
    }
   ],
   "source": [
    "sym.simplify(sm.linearise(p).msubs({a:0 for a in p.fp}).ExtForces.Q())"
   ]
  },
  {
   "cell_type": "code",
   "execution_count": null,
   "metadata": {},
   "outputs": [],
   "source": []
  }
 ],
 "metadata": {
  "kernelspec": {
   "display_name": "Python 3",
   "language": "python",
   "name": "python3"
  },
  "language_info": {
   "codemirror_mode": {
    "name": "ipython",
    "version": 3
   },
   "file_extension": ".py",
   "mimetype": "text/x-python",
   "name": "python",
   "nbconvert_exporter": "python",
   "pygments_lexer": "ipython3",
   "version": "3.7.7"
  }
 },
 "nbformat": 4,
 "nbformat_minor": 4
}
