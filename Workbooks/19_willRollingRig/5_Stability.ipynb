{
 "cells": [
  {
   "cell_type": "code",
   "execution_count": 33,
   "id": "9719895e-7877-4df3-97b7-163dcb8b0ac6",
   "metadata": {},
   "outputs": [],
   "source": [
    "import sympy as sym\n",
    "import sympy.physics.mechanics as me\n",
    "from sympy.abc import t as time\n",
    "import pandas as pd\n",
    "import seaborn as sns\n",
    "\n",
    "import numpy as np\n",
    "from scipy.integrate import solve_ivp\n",
    "import matplotlib.pyplot as plt\n",
    "\n",
    "import sys, os\n",
    "\n",
    "import moyra as ma\n",
    "import moyra.elements as ele\n",
    "import moyra.forces as ef\n",
    "\n",
    "sys.path.insert(1, os.path.join(sys.path[0], '../..'))\n",
    "import custom_plot_objects as cpo\n",
    "import FwtModels.RectWing as rw\n",
    "import FwtModels.RollRig as RollRig\n",
    "from matplotlib.lines import Line2D\n",
    "\n",
    "me.mechanics_printing()\n"
   ]
  },
  {
   "cell_type": "code",
   "execution_count": 34,
   "id": "7d1a93df-b906-4dfb-af96-4cf2bc6c693e",
   "metadata": {},
   "outputs": [],
   "source": [
    "(sm,p) = ma.SymbolicModel.from_file('RollRigModel.py')\n",
    "sm = sm.subs({p.alpha_r:0,p.alpha_1:-sym.atan(sym.sin(p.Lambda)*sym.tan(p.q[1])),\n",
    "             p.alpha_2:sym.atan(sym.sin(p.Lambda)*sym.tan(p.q[2]))})"
   ]
  },
  {
   "cell_type": "code",
   "execution_count": 73,
   "id": "e376bdb1-d5c7-417e-bb7f-833d8869d860",
   "metadata": {},
   "outputs": [],
   "source": [
    "params = {}\n",
    "params['c'] = 0.067\n",
    "params['s'] = 1\n",
    "params['g'] = 9.81\n",
    "params['sigma'] = 0.272\n",
    "params['alpha_r'] = 0\n",
    "params['c_d_max'] = 1\n",
    "params['m_w'] = 0.759\n",
    "params['I_xxw'] = 0.019480411\n",
    "params['y_w'] = 0\n",
    "params['z_w'] = 0\n",
    "params['c_d_max'] = 0\n",
    "params['T'] = 0.01\n",
    "params['Lambda'] = np.deg2rad(20)\n",
    "params['alpha_c'] = np.deg2rad(0)\n",
    "params['l_f'] = 0.085# 0.0766*np.cos(tmp_params['Lambda'])\n",
    "params['I_xxf'] = 1.3e-4# 1/12*0.0625*0.085**2# 0#8.85e-5\n",
    "params['m_f'] = 0.0625\n",
    "params[\"AileronAngle\"] = 0\n",
    "params[\"V\"] = 20\n",
    "params[\"beta\"] = 0 \n",
    "params[\"a\"] = [np.pi*2]*40\n",
    "params[\"fp\"] = [0,0,np.deg2rad(8.97581427),0,-np.deg2rad(8.97581427),0]\n",
    "# params[\"fp\"] = [0]*6"
   ]
  },
  {
   "cell_type": "code",
   "execution_count": 74,
   "id": "70ea4820-aa6b-4559-a74d-9d6de72b4233",
   "metadata": {},
   "outputs": [],
   "source": [
    "p_vars = vars(p)\n",
    "for string, value in params.items():\n",
    "    if string in p_vars:\n",
    "        p_vars[string].value = value"
   ]
  },
  {
   "cell_type": "code",
   "execution_count": 75,
   "id": "76102d83-4128-4368-a7ab-8b66b2ed7141",
   "metadata": {},
   "outputs": [
    {
     "data": {
      "image/png": "[encoded data removed]",
      "text/latex": [
       "$\\displaystyle \\left[\\begin{matrix}-0.0162619019132573 & 0.00813095095662866 & 0.00813095095662866\\\\0.00813095095662866 & -0.00813095095662866 & 0\\\\0.00813095095662866 & 0 & -0.00813095095662866\\end{matrix}\\right]$"
      ],
      "text/plain": [
       "⎡-0.0162619019132573  0.00813095095662866   0.00813095095662866 ⎤\n",
       "⎢                                                               ⎥\n",
       "⎢0.00813095095662866  -0.00813095095662866           0          ⎥\n",
       "⎢                                                               ⎥\n",
       "⎣0.00813095095662866           0            -0.00813095095662866⎦"
      ]
     },
     "execution_count": 75,
     "metadata": {},
     "output_type": "execute_result"
    }
   ],
   "source": [
    "subs = p.GetSubs(0,params[\"fp\"])\n",
    "sm_lin = sm.linearise(p)\n",
    "sm_mini = sm_lin.msubs(subs)\n",
    "sm_mini.f.jacobian(p.q)"
   ]
  },
  {
   "cell_type": "code",
   "execution_count": 76,
   "id": "e5bdfa33-802a-4218-8c51-d6ddbfc3a6da",
   "metadata": {},
   "outputs": [],
   "source": [
    "import scipy\n",
    "(K,M) = sm_mini.gen_eigen_problem(p)\n",
    "K = np.array(K).astype(np.float64)\n",
    "M = np.array(M).astype(np.float64)\n",
    "val,vec = scipy.linalg.eig(K,M)"
   ]
  },
  {
   "cell_type": "code",
   "execution_count": 77,
   "id": "880b0a1e-14a8-4b8f-978d-c146ca11b553",
   "metadata": {},
   "outputs": [
    {
     "data": {
      "image/png": "[encoded data removed]",
      "text/latex": [
       "$\\displaystyle \\left[\\begin{matrix}0.0 & 0.0 & 0.0 & 1.0 & 0.0 & 0.0\\\\0.0 & 0.0 & 0.0 & 0.0 & 1.0 & 0.0\\\\0.0 & 0.0 & 0.0 & 0.0 & 0.0 & 1.0\\\\-2.3 & 27.7 & 27.7 & -10.2 & 0.1 & 0.1\\\\-23.7 & -440.5 & 118.8 & -6.9 & -6.9 & 0.5\\\\-23.7 & 118.8 & -440.5 & -6.9 & 0.5 & -6.9\\end{matrix}\\right]$"
      ],
      "text/plain": [
       "⎡ 0.0    0.0     0.0     1.0   0.0   0.0 ⎤\n",
       "⎢                                        ⎥\n",
       "⎢ 0.0    0.0     0.0     0.0   1.0   0.0 ⎥\n",
       "⎢                                        ⎥\n",
       "⎢ 0.0    0.0     0.0     0.0   0.0   1.0 ⎥\n",
       "⎢                                        ⎥\n",
       "⎢-2.3    27.7    27.7   -10.2  0.1   0.1 ⎥\n",
       "⎢                                        ⎥\n",
       "⎢-23.7  -440.5  118.8   -6.9   -6.9  0.5 ⎥\n",
       "⎢                                        ⎥\n",
       "⎣-23.7  118.8   -440.5  -6.9   0.5   -6.9⎦"
      ]
     },
     "execution_count": 77,
     "metadata": {},
     "output_type": "execute_result"
    }
   ],
   "source": [
    "sym.Matrix(np.round(np.linalg.inv(M)@K,1))"
   ]
  },
  {
   "cell_type": "code",
   "execution_count": 78,
   "id": "0d88ece2-0ac7-483a-a3bc-374b4527a6c2",
   "metadata": {},
   "outputs": [
    {
     "data": {
      "text/html": [
       "<div>\n",
       "<style scoped>\n",
       "    .dataframe tbody tr th:only-of-type {\n",
       "        vertical-align: middle;\n",
       "    }\n",
       "\n",
       "    .dataframe tbody tr th {\n",
       "        vertical-align: top;\n",
       "    }\n",
       "\n",
       "    .dataframe thead th {\n",
       "        text-align: right;\n",
       "    }\n",
       "</style>\n",
       "<table border=\"1\" class=\"dataframe\">\n",
       "  <thead>\n",
       "    <tr style=\"text-align: right;\">\n",
       "      <th></th>\n",
       "      <th>Real</th>\n",
       "      <th>Imag</th>\n",
       "      <th>Frequency</th>\n",
       "      <th>Damping</th>\n",
       "      <th>Stable</th>\n",
       "      <th>Eigen Vector</th>\n",
       "      <th>Mode</th>\n",
       "    </tr>\n",
       "  </thead>\n",
       "  <tbody>\n",
       "    <tr>\n",
       "      <th>0</th>\n",
       "      <td>-2.642615</td>\n",
       "      <td>17.820377</td>\n",
       "      <td>2.867216</td>\n",
       "      <td>-0.146688</td>\n",
       "      <td>True</td>\n",
       "      <td>[(-0.0011529356008254813+0.006067975658512244j...</td>\n",
       "      <td>0</td>\n",
       "    </tr>\n",
       "    <tr>\n",
       "      <th>1</th>\n",
       "      <td>-0.591053</td>\n",
       "      <td>0.000000</td>\n",
       "      <td>0.000000</td>\n",
       "      <td>NaN</td>\n",
       "      <td>True</td>\n",
       "      <td>[(-0.8576070007641254+0j), (0.0529693633848729...</td>\n",
       "      <td>1</td>\n",
       "    </tr>\n",
       "    <tr>\n",
       "      <th>2</th>\n",
       "      <td>-10.669791</td>\n",
       "      <td>0.000000</td>\n",
       "      <td>0.000000</td>\n",
       "      <td>NaN</td>\n",
       "      <td>True</td>\n",
       "      <td>[(-0.09166391150264333+0j), (-0.01235228714677...</td>\n",
       "      <td>2</td>\n",
       "    </tr>\n",
       "    <tr>\n",
       "      <th>3</th>\n",
       "      <td>-3.708282</td>\n",
       "      <td>23.356776</td>\n",
       "      <td>3.763906</td>\n",
       "      <td>-0.156803</td>\n",
       "      <td>True</td>\n",
       "      <td>[(-6.817358330249252e-19-3.589607055837104e-18...</td>\n",
       "      <td>3</td>\n",
       "    </tr>\n",
       "  </tbody>\n",
       "</table>\n",
       "</div>"
      ],
      "text/plain": [
       "        Real       Imag  Frequency   Damping  Stable  \\\n",
       "0  -2.642615  17.820377   2.867216 -0.146688    True   \n",
       "1  -0.591053   0.000000   0.000000       NaN    True   \n",
       "2 -10.669791   0.000000   0.000000       NaN    True   \n",
       "3  -3.708282  23.356776   3.763906 -0.156803    True   \n",
       "\n",
       "                                        Eigen Vector  Mode  \n",
       "0  [(-0.0011529356008254813+0.006067975658512244j...     0  \n",
       "1  [(-0.8576070007641254+0j), (0.0529693633848729...     1  \n",
       "2  [(-0.09166391150264333+0j), (-0.01235228714677...     2  \n",
       "3  [(-6.817358330249252e-19-3.589607055837104e-18...     3  "
      ]
     },
     "execution_count": 78,
     "metadata": {},
     "output_type": "execute_result"
    }
   ],
   "source": [
    "pd.DataFrame(ma.extract_eigen_value_data(val,vec))"
   ]
  },
  {
   "cell_type": "code",
   "execution_count": 79,
   "id": "39f34a39-0a3a-4820-ab32-3f3d8dec8b43",
   "metadata": {},
   "outputs": [
    {
     "data": {
      "text/plain": [
       "array([ 0.        ,  0.        , -9.16007032,  0.        ,  9.16006948,\n",
       "        0.        ])"
      ]
     },
     "execution_count": 79,
     "metadata": {},
     "output_type": "execute_result"
    }
   ],
   "source": [
    "np.rad2deg(RollRig.Calc_coast(ma.NumericModel.from_SymbolicModel(p,sm_lin),p,[0]*6))"
   ]
  },
  {
   "cell_type": "code",
   "execution_count": 80,
   "id": "ebd42286-5b6f-46d3-860f-37870c6a7871",
   "metadata": {},
   "outputs": [
    {
     "data": {
      "image/png": "[encoded data removed]",
      "text/latex": [
       "$\\displaystyle \\left[\\begin{matrix}0 & 0 & -0.9 & -0.1 & 0 & 0\\\\0 & 0 & 0.1 & 0 & 0 & 0\\\\0 & 0 & 0.1 & 0 & 0 & 0\\\\-0.1 & -0.1 & 0.5 & 1.0 & 0 & 0\\\\0.7 & 0.7 & 0 & 0.1 & -0.7 & -0.7\\\\0.7 & 0.7 & 0 & 0.1 & 0.7 & 0.7\\end{matrix}\\right]$"
      ],
      "text/plain": [
       "⎡ 0     0    -0.9  -0.1   0     0  ⎤\n",
       "⎢                                  ⎥\n",
       "⎢ 0     0    0.1    0     0     0  ⎥\n",
       "⎢                                  ⎥\n",
       "⎢ 0     0    0.1    0     0     0  ⎥\n",
       "⎢                                  ⎥\n",
       "⎢-0.1  -0.1  0.5   1.0    0     0  ⎥\n",
       "⎢                                  ⎥\n",
       "⎢0.7   0.7    0    0.1   -0.7  -0.7⎥\n",
       "⎢                                  ⎥\n",
       "⎣0.7   0.7    0    0.1   0.7   0.7 ⎦"
      ]
     },
     "execution_count": 80,
     "metadata": {},
     "output_type": "execute_result"
    }
   ],
   "source": [
    "sym.Matrix(np.round(vec,1))"
   ]
  },
  {
   "cell_type": "code",
   "execution_count": 81,
   "id": "3e495c89-76ef-4b2f-a678-29d06773907b",
   "metadata": {},
   "outputs": [
    {
     "data": {
      "image/png": "[encoded data removed]",
      "text/latex": [
       "$\\displaystyle \\left[\\begin{matrix}-2.6 + 17.8 i\\\\-2.6 - 17.8 i\\\\-0.6\\\\-10.7\\\\-3.7 + 23.4 i\\\\-3.7 - 23.4 i\\end{matrix}\\right]$"
      ],
      "text/plain": [
       "⎡-2.6 + 17.8⋅ⅈ⎤\n",
       "⎢             ⎥\n",
       "⎢-2.6 - 17.8⋅ⅈ⎥\n",
       "⎢             ⎥\n",
       "⎢    -0.6     ⎥\n",
       "⎢             ⎥\n",
       "⎢    -10.7    ⎥\n",
       "⎢             ⎥\n",
       "⎢-3.7 + 23.4⋅ⅈ⎥\n",
       "⎢             ⎥\n",
       "⎣-3.7 - 23.4⋅ⅈ⎦"
      ]
     },
     "execution_count": 81,
     "metadata": {},
     "output_type": "execute_result"
    }
   ],
   "source": [
    "sym.Matrix(np.round(val,1))"
   ]
  },
  {
   "cell_type": "code",
   "execution_count": null,
   "id": "8c1802e7-f608-4a00-b4cc-35bea91c28c5",
   "metadata": {},
   "outputs": [],
   "source": []
  }
 ],
 "metadata": {
  "kernelspec": {
   "display_name": "fwt_models",
   "language": "python",
   "name": "fwt_models"
  },
  "language_info": {
   "codemirror_mode": {
    "name": "ipython",
    "version": 3
   },
   "file_extension": ".py",
   "mimetype": "text/x-python",
   "name": "python",
   "nbconvert_exporter": "python",
   "pygments_lexer": "ipython3",
   "version": "3.8.8"
  }
 },
 "nbformat": 4,
 "nbformat_minor": 5
}
