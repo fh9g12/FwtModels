{
 "cells": [
  {
   "cell_type": "code",
   "execution_count": 1,
   "metadata": {},
   "outputs": [],
   "source": [
    "import sympy as sym\n",
    "import sympy.physics.mechanics as me\n",
    "from sympy.abc import t as time\n",
    "import pandas as pd\n",
    "import seaborn as sns\n",
    "\n",
    "import numpy as np\n",
    "from scipy.integrate import odeint,LSODA,BDF,solve_ivp\n",
    "from scipy.linalg import eig\n",
    "from scipy.optimize import fsolve\n",
    "import matplotlib.pyplot as plt\n",
    "\n",
    "import sys, os\n",
    "\n",
    "sys.path.insert(1, os.path.join(sys.path[0], '../..'))\n",
    "import custom_plot_objects as cpo\n",
    "\n",
    "import ModelFramework as mf\n",
    "import ModelFramework.Elements as ele\n",
    "import ModelFramework.ExternalForces as ef\n",
    "import FwtModels.RectWing as rw\n",
    "import FwtModels.RectWing.Models as rwm\n",
    "import multiprocessing as mp\n",
    "\n",
    "me.mechanics_printing()"
   ]
  },
  {
   "cell_type": "code",
   "execution_count": 12,
   "metadata": {},
   "outputs": [
    {
     "name": "stdout",
     "output_type": "stream",
     "text": [
      "CPU times: user 53.2 s, sys: 110 ms, total: 53.4 s\n",
      "Wall time: 53.4 s\n"
     ]
    }
   ],
   "source": [
    "%%time\n",
    "b_modes = 3\n",
    "t_modes = 3\n",
    "\n",
    "p = rw.base_params(b_modes+t_modes+2)\n",
    "\n",
    "#p.w_g = mf.ModelSymbol(value = 0,string='w_g')\n",
    "#p.k_fwt = mf.ModelSymbol(value = 0, string = 'k_fwt')\n",
    "#p.m_ac = mf.ModelSymbol(value = 100,string = 'm_ac')\n",
    "#p.k_ac = mf.ModelSymbol(value = 1e6, string = 'k_ac')\n",
    "\n",
    "#p.yaw = mf.ModelSymbol(value = 0, string = 'theta')\n",
    "\n",
    "#get shape functions for main wing\n",
    "z_0,tau_0 = mf.ShapeFunctions_BN_TM(b_modes,t_modes,p.q[1:-1],p.y_0,p.x_0,p.x_f0,0,factor=p.eta)\n",
    "wing_bend = sym.atan(z_0.diff(p.y_0).subs({p.x_0:p.x_f0,p.y_0:p.s_0}))\n",
    "\n",
    "#define wrefernce frames\n",
    "\n",
    "wing_root_frame = mf.HomogenousTransform().Translate(0,0,p.q[0]).R_y(p.alpha_r)\n",
    "\n",
    "wing_frame = wing_root_frame.Translate(p.x_0,p.y_0,z_0)\n",
    "wing_flexural_frame = wing_frame.msubs({p.x_0:p.x_f0})\n",
    "\n",
    "fwt_root_frame = wing_frame.msubs({p.y_0:p.s_0,p.x_0:p.x_f0}).Translate(-p.x_f0,0,0).R_x(-p.q[-1])\n",
    "fwt_flexural_frame = fwt_root_frame.Translate(p.x_f1,p.y_1,0)\n",
    "fwt_com_frame = fwt_root_frame.Translate(p.c/2,p.s_1/2,0)\n",
    "\n",
    "#Create Elemnts\n",
    "M_wing = ele.MassMatrix(p.rho_t)\n",
    "\n",
    "inner_wing_ele = ele.FlexiElement(wing_root_frame,M_wing,p.x_0,p.y_0,z_0,p.c,p.s_0,p.x_f0,p.EI,p.GJ,gravityPot=True)\n",
    "\n",
    "I_yy = 0 \n",
    "I_yy += sym.Rational(1,2)*p.m_1*p.c + p.m_1*(p.c/2)**2\n",
    "\n",
    "M_fwt = ele.MassMatrix(p.m_1,I_xx = p.I_xx_1,I_yy = I_yy)\n",
    "fwt_ele = ele.RigidElement(fwt_com_frame,M_fwt,True)\n",
    "\n",
    "fwt_spring_ele = ele.Spring(p.q[-1]+wing_bend,p.k_fwt)\n",
    "\n",
    "\n",
    "ac_ele = ele.RigidElement.PointMass(wing_root_frame,p.m_ac,gravityPotential=False)\n",
    "ac_spring_ele = ele.Spring(p.q[0],p.k_ac)\n",
    "\n",
    "\n",
    "# Create AeroForces\n",
    "wing_AeroForces = ef.AeroForce_1.PerUnitSpan(p,wing_flexural_frame,p.a_0,\n",
    "                            alphadot = tau_0 if isinstance(tau_0,int) else tau_0.diff(time),\n",
    "                            M_thetadot = p.M_thetadot,\n",
    "                            e = p.e_0,\n",
    "                            rootAlpha = p.alpha_r,\n",
    "                            deltaAlpha = tau_0,\n",
    "                            alpha_zero = 0,\n",
    "                            w_g = p.w_g,\n",
    "                            V = p.V*sym.cos(p.yaw)).integrate((p.y_0,0,p.s_0))\n",
    "\n",
    "alpha_fwt =  0\n",
    "alphadot_fwt = 0\n",
    "\n",
    "alpha_fwt +=  p.alpha_1\n",
    "alphadot_fwt += p.alphadot_1\n",
    "\n",
    "fwt_AeroForces_perUnit = ef.AeroForce_4.PerUnitSpan(p,fwt_flexural_frame,p.a_1,\n",
    "                    alphadot = p.alphadot_1,\n",
    "                    M_thetadot = p.M_thetadot,\n",
    "                    e = p.e_1,\n",
    "                    rootAlpha = p.alpha_1,\n",
    "                    alpha_zero = 0,\n",
    "                    stall_angle=p.alpha_s,\n",
    "                    c_d_max=p.c_dmax,\n",
    "                    w_g=sym.cos(p.alpha_1)*sym.cos(p.q[-1])*p.w_g,\n",
    "                    V = p.V*sym.cos(p.yaw))\n",
    "\n",
    "forces = []\n",
    "segments = 5\n",
    "for i in range(segments):\n",
    "    seg_width = p.s_1/segments\n",
    "    yi = seg_width/2 + i*seg_width\n",
    "    forces.append(fwt_AeroForces_perUnit.subs({p.y_1:yi})*seg_width)\n",
    "Q = sym.Matrix([0]*p.qs)\n",
    "for f in forces:\n",
    "    Q += f.Q()\n",
    "fwt_AeroForces = ef.ExternalForce(Q)\n",
    "\n",
    "# Setup AoA of FWT\n",
    "fwt_aoa = mf.GetAoA(p.alpha_r,p.yaw,p.Lambda, p.q[-1])\n",
    "\n",
    "wing_bend_grad = z_0.diff(p.y_0).subs({p.x_0:p.x_f0,p.y_0:p.s_0})\n",
    "wing_bend = sym.atan(wing_bend_grad)\n",
    "fwt_aoa = me.msubs(fwt_aoa,{p.q[-1]:p.q[-1]+wing_bend})\n",
    "\n",
    "tau_s0 = tau_0.subs(p.y_0,p.s_0)\n",
    "fwt_aoa = me.msubs(fwt_aoa,{p.alpha_r:p.alpha_r+tau_s0})\n",
    "\n",
    "## Sub in Aero Forces\n",
    "fwt_AeroForces = fwt_AeroForces.subs({p.alpha_1:fwt_aoa,p.alphadot_1:fwt_aoa.diff(time)})\n",
    "\n",
    "#Create Composite force\n",
    "CompositeForce = ef.CompositeForce([wing_AeroForces,fwt_AeroForces])\n",
    "# Create the SYmbolic Model\n",
    "sm = mf.SymbolicModel.FromElementsAndForces(p,[ac_ele,inner_wing_ele,fwt_ele,fwt_spring_ele,ac_spring_ele],CompositeForce)"
   ]
  },
  {
   "cell_type": "code",
   "execution_count": 13,
   "metadata": {},
   "outputs": [],
   "source": [
    "p.rho.value = 1.225\n",
    "p.s_t.value = 1.345\n",
    "p.c.value = 0.15\n",
    "p.EI.value = 61\n",
    "p.GJ.value = 200\n",
    "p.rho_t.value = 10\n",
    "p.e_0.value = 0\n",
    "p.e_1.value = 0\n",
    "p.ratio_fwt.value = 0.2\n",
    "p.alpha_s.value = np.deg2rad(15)\n",
    "p.eta.value = [1]*p.qs\n",
    "p.m_ac.value = 1e6\n",
    "p.k_ac.value = 1e6\n",
    "\n",
    "variables = [p.V,p.alpha_r,p.c_dmax,p.m_factor,p.Lambda,p.w_g,p.k_fwt,p.yaw]\n",
    "\n",
    "sm_mini = sm.msubs({**p.GetSubs(None,None,ignore = variables),p.q[0]:0,p.qd[0]:0})\n",
    "nm = sm_mini.CreateNumericModel(p)\n",
    "\n",
    "f = me.msubs((sm_mini.f-sm_mini.ExtForces.Q()),{i:0 for i in p.qd})\n",
    "func_obj = sym.lambdify((p.q,variables),f,\"numpy\") "
   ]
  },
  {
   "cell_type": "code",
   "execution_count": 14,
   "metadata": {},
   "outputs": [
    {
     "data": {
      "image/png": "[encoded data removed]",
      "text/latex": [
       "$\\displaystyle \\left\\{\\Lambda, V, \\alpha_{r}, c_{dmax}, \\theta, w_{g}, t\\right\\}$"
      ],
      "text/plain": [
       "{Λ, V, αᵣ, c_dmax, θ, w_g, t}"
      ]
     },
     "execution_count": 14,
     "metadata": {},
     "output_type": "execute_result"
    }
   ],
   "source": [
    "sm_mini.ExtForces.Q().free_symbols"
   ]
  },
  {
   "cell_type": "code",
   "execution_count": 15,
   "metadata": {},
   "outputs": [
    {
     "data": {
      "text/plain": [
       "array([ 0.00000000e+00, -5.56653249e-02,  3.12890811e-02, -6.52717726e-03,\n",
       "        2.95745426e-03, -1.37428172e-03,  6.19904776e-17,  1.01819841e+00])"
      ]
     },
     "execution_count": 15,
     "metadata": {},
     "output_type": "execute_result"
    }
   ],
   "source": [
    "p.V.value = 10\n",
    "p.alpha_r.value = np.deg2rad(5)\n",
    "p.c_dmax.value = 1\n",
    "p.m_factor.value = 0.5\n",
    "p.Lambda.value = np.deg2rad(10)\n",
    "p.w_g.value = 0\n",
    "p.k_fwt.value = 0\n",
    "p.yaw.value = np.deg2rad(0)\n",
    "\n",
    "values = [i.value for i in variables]\n",
    "\n",
    "guess=[0]*(p.qs-1)\n",
    "q = np.array([0]+list(fsolve(lambda q:func_obj([0]+list(q),values)[1:,0],guess,factor = 1)))\n",
    "\n",
    "q\n"
   ]
  },
  {
   "cell_type": "code",
   "execution_count": 16,
   "metadata": {},
   "outputs": [
    {
     "data": {
      "image/png": "[encoded data removed]",
      "text/latex": [
       "$\\displaystyle \\left( 0, \\  -1.15557189175672e-05, \\  0, \\  0.00016261217650604017, \\  0, \\  -0.0002920113508449236, \\  0, \\  0.0001397479343503495, \\  0, \\  -0.0005617344626820508, \\  0, \\  0.001581750750220585, \\  0, \\  -0.0010391534790168441, \\  0, \\  8.871306593210463e-07\\right)$"
      ],
      "text/plain": [
       "(0, -1.15557189175672e-05, 0, 0.00016261217650604017, 0, -0.000292011350844923\n",
       "6, 0, 0.0001397479343503495, 0, -0.0005617344626820508, 0, 0.00158175075022058\n",
       "5, 0, -0.0010391534790168441, 0, 8.871306593210463e-07)"
      ]
     },
     "execution_count": 16,
     "metadata": {},
     "output_type": "execute_result"
    }
   ],
   "source": [
    "x = [0]*p.qs*2\n",
    "x[::2]=q\n",
    "nm.deriv(0,x,p.GetNumericTuple(x,0))"
   ]
  },
  {
   "cell_type": "code",
   "execution_count": 17,
   "metadata": {},
   "outputs": [
    {
     "name": "stdout",
     "output_type": "stream",
     "text": [
      "3.132471884865839\n",
      "CPU times: user 50.7 ms, sys: 1.96 ms, total: 52.6 ms\n",
      "Wall time: 51.8 ms\n"
     ]
    }
   ],
   "source": [
    "%%time\n",
    "p.V.value = 20\n",
    "p.w_g.value = 0\n",
    "p.m_factor.value = 0.5\n",
    "p.k_fwt.value = 0\n",
    "p.Lambda.value = np.deg2rad(10)\n",
    "p.alpha_r.value = np.deg2rad(7)\n",
    "\n",
    "b_shapes = 3\n",
    "\n",
    "z,_ = mf.ShapeFunctions_BN_TM(b_shapes,0,p.q[1:b_shapes+1],p.y_0,0,0,0,p.eta[1:b_shapes+1])\n",
    "\n",
    "d2z_dy2 = z.diff(p.y_0,p.y_0).subs(p.y_0,0)\n",
    "z_tip = z.subs(p.y_0,p.s_0)\n",
    "dz_dy_tip = z.diff(p.y_0).subs(p.y_0,p.s_0)\n",
    "\n",
    "d2z_dy2_f = sym.lambdify((p.GetTuple(),p.q),d2z_dy2)\n",
    "z_tip_f = sym.lambdify((p.GetTuple(),p.q),z_tip)\n",
    "dz_dy_tip_f = sym.lambdify((p.GetTuple(),p.q),dz_dy_tip)\n",
    "\n",
    "\n",
    "values = [i.value for i in variables]\n",
    "\n",
    "\n",
    "q = np.array([0]+list(fsolve(lambda q:func_obj([0]+list(q),values)[1:,0],guess,factor = 1)))\n",
    "\n",
    "print(np.rad2deg(dz_dy_tip_f(p.GetNumericTuple(q,0),q)))\n",
    "\n",
    "def gust(t,x):\n",
    "    T = 1\n",
    "    if t<T:\n",
    "        return 0.5*(1- np.cos(2*np.pi*t/T))\n",
    "    else:\n",
    "        return 0\n",
    "    \n",
    "p.w_g.value = gust\n",
    "def objectiveDeriv(t,y):\n",
    "    tup = p.GetNumericTuple(y,t)\n",
    "    deriv = list(nm.deriv(t,y,tup))    \n",
    "    #deriv[0] = deriv[1] = 0\n",
    "    return tuple(deriv)\n",
    "    \n",
    "    \n",
    "\n",
    "x0 = [0]*p.qs*2\n",
    "x0[::2]=q\n"
   ]
  },
  {
   "cell_type": "code",
   "execution_count": 18,
   "metadata": {},
   "outputs": [
    {
     "name": "stdout",
     "output_type": "stream",
     "text": [
      "CPU times: user 2.25 ms, sys: 43 µs, total: 2.3 ms\n",
      "Wall time: 2.33 ms\n"
     ]
    }
   ],
   "source": [
    "%%time\n",
    "q = np.array([0]+list(fsolve(lambda q:func_obj([0]+list(q),values)[1:,0],guess,factor = 1)))"
   ]
  },
  {
   "cell_type": "code",
   "execution_count": 19,
   "metadata": {},
   "outputs": [
    {
     "data": {
      "image/png": "[encoded data removed]",
      "text/latex": [
       "$\\displaystyle \\left( 0, \\  1.5283661179174588e-05, \\  0, \\  -0.00021569627876722212, \\  0, \\  0.0003891348490541807, \\  0, \\  -0.00018724749749561133, \\  0, \\  0.0007323686088663669, \\  0, \\  -0.002056660620054232, \\  0, \\  0.0013475659182425649, \\  0, \\  -4.239200058261632e-06\\right)$"
      ],
      "text/plain": [
       "(0, 1.5283661179174588e-05, 0, -0.00021569627876722212, 0, 0.00038913484905418\n",
       "07, 0, -0.00018724749749561133, 0, 0.0007323686088663669, 0, -0.00205666062005\n",
       "4232, 0, 0.0013475659182425649, 0, -4.239200058261632e-06)"
      ]
     },
     "execution_count": 19,
     "metadata": {},
     "output_type": "execute_result"
    }
   ],
   "source": [
    "x = [0]*p.qs*2\n",
    "x[::2]=q\n",
    "nm.deriv(0,x,p.GetNumericTuple(x,0))"
   ]
  },
  {
   "cell_type": "code",
   "execution_count": 20,
   "metadata": {},
   "outputs": [
    {
     "name": "stdout",
     "output_type": "stream",
     "text": [
      "CPU times: user 17.7 s, sys: 82.8 ms, total: 17.8 s\n",
      "Wall time: 17.8 s\n"
     ]
    }
   ],
   "source": [
    "%%time\n",
    "yData = solve_ivp(objectiveDeriv,(0,5),x)"
   ]
  },
  {
   "cell_type": "code",
   "execution_count": 21,
   "metadata": {},
   "outputs": [
    {
     "data": {
      "image/png": "[encoded data removed]",
      "text/latex": [
       "$\\displaystyle \\left( 8, \\  7863\\right)$"
      ],
      "text/plain": [
       "(8, 7863)"
      ]
     },
     "execution_count": 21,
     "metadata": {},
     "output_type": "execute_result"
    },
    {
     "data": {
      "image/png": "[encoded data removed]",
      "text/plain": [
       "<Figure size 1080x360 with 4 Axes>"
      ]
     },
     "metadata": {},
     "output_type": "display_data"
    }
   ],
   "source": [
    "yi = yData.y\n",
    "t = yData.t\n",
    "\n",
    "b_shapes = 3\n",
    "d2z_dy2 = z.diff(p.y_0,p.y_0).subs(p.y_0,0)\n",
    "z_tip = z.subs(p.y_0,p.s_0)\n",
    "dz_dy_tip = z.diff(p.y_0).subs(p.y_0,p.s_0)\n",
    "\n",
    "d2z_dy2_f = sym.lambdify((p.GetTuple(),p.q),d2z_dy2)\n",
    "z_tip_f = sym.lambdify((p.GetTuple(),p.q),z_tip)\n",
    "dz_dy_tip_f = sym.lambdify((p.GetTuple(),p.q),dz_dy_tip)\n",
    "\n",
    "lift = []\n",
    "for i in range(len(t)):\n",
    "    lift.append(nm.ExtForces(p.GetNumericTuple(yi[:,i],t[i]),yi[:,i],t[i])[0])\n",
    "\n",
    "plt.style.use('seaborn-white')\n",
    "\n",
    "tup = p.GetNumericTuple([0]*p.qs*2,0)\n",
    "\n",
    "fig, axes = plt.subplots(1,4,figsize=(15,5))\n",
    "axes[0].plot(t,d2z_dy2_f(tup,yi[::2])*p.EI.value)\n",
    "axes[0].set_ylabel('WRBM [Nm]')\n",
    "axes[0].set_xlabel('time [s]')\n",
    "\n",
    "axes[1].plot(t,z_tip_f(tup,yi[::2]))\n",
    "axes[1].set_ylabel('Inner wing tip deflection [m]')\n",
    "axes[1].set_xlabel('time [s]')\n",
    "\n",
    "axes[2].plot(t,lift)\n",
    "axes[2].set_ylabel('Lift [N]')\n",
    "axes[2].set_xlabel('time [s]')\n",
    "\n",
    "axes[3].plot(t,np.rad2deg((yi[-2])+dz_dy_tip_f(tup,yi[::2])))\n",
    "axes[3].set_ylabel('Fold Angle [Deg]')\n",
    "axes[3].set_xlabel('time [s]')\n",
    "\n",
    "yi[::2].shape"
   ]
  }
 ],
 "metadata": {
  "kernelspec": {
   "display_name": "Python 3",
   "language": "python",
   "name": "python3"
  },
  "language_info": {
   "codemirror_mode": {
    "name": "ipython",
    "version": 3
   },
   "file_extension": ".py",
   "mimetype": "text/x-python",
   "name": "python",
   "nbconvert_exporter": "python",
   "pygments_lexer": "ipython3",
   "version": "3.7.7"
  }
 },
 "nbformat": 4,
 "nbformat_minor": 4
}
