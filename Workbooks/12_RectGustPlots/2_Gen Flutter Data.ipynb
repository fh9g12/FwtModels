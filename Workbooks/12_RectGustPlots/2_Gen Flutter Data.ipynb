{
 "cells": [
  {
   "cell_type": "code",
   "execution_count": 1,
   "metadata": {},
   "outputs": [],
   "source": [
    "import sympy as sym\n",
    "import sympy.physics.mechanics as me\n",
    "from sympy.abc import t as time\n",
    "import pandas as pd\n",
    "import seaborn as sns\n",
    "\n",
    "import numpy as np\n",
    "from scipy.integrate import odeint,LSODA,BDF,solve_ivp\n",
    "from scipy.linalg import eig\n",
    "from scipy.optimize import fsolve\n",
    "import matplotlib.pyplot as plt\n",
    "\n",
    "import sys, os\n",
    "\n",
    "sys.path.insert(1, os.path.join(sys.path[0], '../..'))\n",
    "import custom_plot_objects as cpo\n",
    "\n",
    "import ModelFramework as mf\n",
    "import ModelFramework.Elements as ele\n",
    "import ModelFramework.ExternalForces as ef\n",
    "import FwtModels.RectWing as rw\n",
    "import FwtModels.RectWing.Models as rwm\n",
    "import multiprocessing as mp\n",
    "\n",
    "me.mechanics_printing()"
   ]
  },
  {
   "cell_type": "code",
   "execution_count": 2,
   "metadata": {},
   "outputs": [],
   "source": [
    "def Model_Eigen_WT(model_num,b_modes,t_modes,save_num = None,linearise = False,calc_fixed_pos = True):\n",
    "    if save_num == None:\n",
    "        save_num = model_num\n",
    "    dataset_name = 'WT'\n",
    "    p = rw.base_params(b_modes + t_modes + 2)\n",
    "    p.rho.value = 1.225\n",
    "    p.s_t.value = 1.345\n",
    "    p.c.value = 0.15\n",
    "    p.EI.value = 61\n",
    "    p.GJ.value = 200\n",
    "    p.rho_t.value = 10\n",
    "    p.e_0.value = 0\n",
    "    p.e_1.value = 0\n",
    "    p.ratio_fwt.value = 0.2\n",
    "    p.alpha_s.value = np.deg2rad(15)\n",
    "    p.eta.value = [1]*p.qs\n",
    "    p.m_ac.value = 1e6\n",
    "    p.k_ac.value = 1e6\n",
    "    \n",
    "    vars_ls =[]\n",
    "    vars_ls.append((p.Lambda,np.deg2rad([10,17.5,25])))\n",
    "    vars_ls.append((p.V,np.linspace(1,40,79))) # V must be second\n",
    "    vars_ls.append((p.alpha_r,np.deg2rad([0,5,10])))\n",
    "    vars_ls.append((p.c_dmax,[0,1]))\n",
    "    vars_ls.append((p.m_factor,[0.5,1,1.5]))\n",
    "    vars_ls.append((p.k_fwt,[0,1e4]))\n",
    "    \n",
    "    print(f'M{model_num}-{dataset_name}: Started')\n",
    "    sm = mf.SymbolicModel.from_file(f'{b_modes}B{t_modes}T-M{model_num}.py')\n",
    "\n",
    "    variables = [k for k,v in vars_ls]\n",
    "    if linearise:\n",
    "        sm = sm.msubs(p.GetSubs(0,p.fp,ignore=variables)).linearise(p).msubs({f:0 for f in p.fp})\n",
    "    \n",
    "    flutdf = rw.eigen_perm_params(p,sm,vars_ls,calc_fixed_pos)   \n",
    "    print(f'M{model_num}-{dataset_name}: Complete')\n",
    "    flutdf.to_pickle(f'Eigen_{b_modes}B{t_modes}T-M{save_num}_{dataset_name}.pkl')"
   ]
  },
  {
   "cell_type": "code",
   "execution_count": 3,
   "metadata": {},
   "outputs": [],
   "source": [
    "def Model_Eigen_HALE(model_num,b_modes,t_modes,save_num = None,linearise = False,calc_fixed_pos = True):\n",
    "    if save_num == None:\n",
    "        save_num = model_num\n",
    "    dataset_name = 'HALE'\n",
    "    p = rw.base_params(b_modes + t_modes + 2)\n",
    "    p.rho.value = 0.0889\n",
    "    p.s_t.value = 16\n",
    "    p.c.value = 1\n",
    "    p.EI.value = 2e4\n",
    "    p.GJ.value = 1e4\n",
    "    p.rho_t.value = 0.75\n",
    "    p.e_0.value = 0.25\n",
    "    p.e_1.value = 0\n",
    "    \n",
    "    p.ratio_fwt.value = 0.2\n",
    "    p.alpha_s.value = np.deg2rad(15)\n",
    "    p.eta.value = [1]*p.qs\n",
    "    p.m_ac.value = 1e6\n",
    "    p.k_ac.value = 1e6\n",
    "    \n",
    "    vars_ls =[]\n",
    "    vars_ls.append((p.Lambda,np.deg2rad([10,17.5,25])))\n",
    "    vars_ls.append((p.V,np.linspace(1,40,79))) # V must be second\n",
    "    vars_ls.append((p.alpha_r,np.deg2rad([0,5,10])))\n",
    "    vars_ls.append((p.c_dmax,[0,1]))\n",
    "    vars_ls.append((p.m_factor,[0.5,1,1.5]))\n",
    "    vars_ls.append((p.k_fwt,[0,1e4]))\n",
    "    \n",
    "    print(f'M{model_num}-{dataset_name}: Started')\n",
    "    sm = mf.SymbolicModel.from_file(f'{b_modes}B{t_modes}T-M{model_num}.py')\n",
    "    variables = [k for k,v in vars_ls]\n",
    "    if linearise:\n",
    "        sm = sm.msubs(p.GetSubs(0,p.fp,ignore=variables)).linearise(p).msubs({f:0 for f in p.fp})\n",
    "    \n",
    "    flutdf = rw.eigen_perm_params(p,sm,vars_ls,calc_fixed_pos)   \n",
    "    print(f'M{model_num}-{dataset_name}: Complete')\n",
    "    flutdf.to_pickle(f'Eigen_{b_modes}B{t_modes}T-M{save_num}_{dataset_name}.pkl')"
   ]
  },
  {
   "cell_type": "code",
   "execution_count": 4,
   "metadata": {},
   "outputs": [],
   "source": [
    "def Model_Eigen_JEC(model_num,b_modes,t_modes,save_num = None,linearise = False,calc_fixed_pos = True):\n",
    "    if save_num == None:\n",
    "        save_num = model_num\n",
    "    \n",
    "    dataset_name = 'JEC'\n",
    "    p = rw.base_params(b_modes + t_modes + 2)\n",
    "    p.rho.value = 1.225\n",
    "    p.s_t.value = 12\n",
    "    p.c.value = 1.8\n",
    "    p.EI.value = 9.77e6\n",
    "    p.GJ.value = 0.99e6\n",
    "    p.rho_t.value = 19.53\n",
    "    p.e_0.value = 0.08\n",
    "    p.e_1.value = 0  \n",
    "    p.ratio_fwt.value = 0.2\n",
    "    \n",
    "    p.alpha_s.value = np.deg2rad(15)\n",
    "    p.eta.value = [1]*p.qs\n",
    "    p.m_ac.value = 1e6\n",
    "    p.k_ac.value = 1e6\n",
    "    p.k_fwt.value = 0\n",
    "    \n",
    "    vars_ls =[]\n",
    "    vars_ls.append((p.Lambda,np.deg2rad([10,17.5,25])))\n",
    "    vars_ls.append((p.V,np.linspace(1,100,100))) # V must be second\n",
    "    vars_ls.append((p.alpha_r,np.deg2rad([0,5,10])))\n",
    "    vars_ls.append((p.c_dmax,[0,0.5,1]))\n",
    "    vars_ls.append((p.m_factor,[0.5,1,1.5]))\n",
    "    vars_ls.append((p.k_fwt,[0,1e7]))\n",
    "    \n",
    "    print(f'M{model_num}-{dataset_name}: Started')\n",
    "    sm = mf.SymbolicModel.from_file(f'{b_modes}B{t_modes}T-M{model_num}.py')\n",
    "    variables = [k for k,v in vars_ls]\n",
    "    if linearise:\n",
    "        sm = sm.msubs(p.GetSubs(0,p.fp,ignore=variables)).linearise(p).msubs({f:0 for f in p.fp})\n",
    "    \n",
    "    flutdf = rw.eigen_perm_params(p,sm,vars_ls,calc_fixed_pos)   \n",
    "    print(f'M{model_num}-{dataset_name}: Complete')\n",
    "    flutdf.to_pickle(f'Eigen_{b_modes}B{t_modes}T-M{save_num}_{dataset_name}.pkl')"
   ]
  },
  {
   "cell_type": "code",
   "execution_count": 11,
   "metadata": {},
   "outputs": [
    {
     "name": "stdout",
     "output_type": "stream",
     "text": [
      "M4-WT: Started\n"
     ]
    },
    {
     "ename": "IndexError",
     "evalue": "list index out of range",
     "output_type": "error",
     "traceback": [
      "\u001b[0;31m---------------------------------------------------------------------------\u001b[0m",
      "\u001b[0;31mIndexError\u001b[0m                                Traceback (most recent call last)",
      "\u001b[0;32m<ipython-input-11-1caa84b6598b>\u001b[0m in \u001b[0;36m<module>\u001b[0;34m\u001b[0m\n\u001b[0;32m----> 1\u001b[0;31m \u001b[0mModel_Eigen_WT\u001b[0m\u001b[0;34m(\u001b[0m\u001b[0;36m4\u001b[0m\u001b[0;34m,\u001b[0m\u001b[0;36m3\u001b[0m\u001b[0;34m,\u001b[0m\u001b[0;36m3\u001b[0m\u001b[0;34m)\u001b[0m\u001b[0;34m\u001b[0m\u001b[0;34m\u001b[0m\u001b[0m\n\u001b[0m",
      "\u001b[0;32m<ipython-input-7-05663481e6f0>\u001b[0m in \u001b[0;36mModel_Eigen_WT\u001b[0;34m(model_num, b_modes, t_modes, save_num, calc_fixed_pos)\u001b[0m\n\u001b[1;32m     29\u001b[0m     \u001b[0msm\u001b[0m \u001b[0;34m=\u001b[0m \u001b[0mmf\u001b[0m\u001b[0;34m.\u001b[0m\u001b[0mSymbolicModel\u001b[0m\u001b[0;34m.\u001b[0m\u001b[0mfrom_file\u001b[0m\u001b[0;34m(\u001b[0m\u001b[0;34mf'{b_modes}B{t_modes}T-M{model_num}.py'\u001b[0m\u001b[0;34m)\u001b[0m\u001b[0;34m\u001b[0m\u001b[0;34m\u001b[0m\u001b[0m\n\u001b[1;32m     30\u001b[0m     \u001b[0mvariables\u001b[0m \u001b[0;34m=\u001b[0m \u001b[0;34m[\u001b[0m\u001b[0mk\u001b[0m \u001b[0;32mfor\u001b[0m \u001b[0mk\u001b[0m\u001b[0;34m,\u001b[0m\u001b[0mv\u001b[0m \u001b[0;32min\u001b[0m \u001b[0mvars_ls\u001b[0m\u001b[0;34m]\u001b[0m\u001b[0;34m\u001b[0m\u001b[0;34m\u001b[0m\u001b[0m\n\u001b[0;32m---> 31\u001b[0;31m     \u001b[0mflutdf\u001b[0m \u001b[0;34m=\u001b[0m \u001b[0mrw\u001b[0m\u001b[0;34m.\u001b[0m\u001b[0meigen_perm_params\u001b[0m\u001b[0;34m(\u001b[0m\u001b[0mp\u001b[0m\u001b[0;34m,\u001b[0m\u001b[0msm\u001b[0m\u001b[0;34m,\u001b[0m\u001b[0mvars_ls\u001b[0m\u001b[0;34m,\u001b[0m\u001b[0mcalc_fixed_pos\u001b[0m\u001b[0;34m)\u001b[0m\u001b[0;34m\u001b[0m\u001b[0;34m\u001b[0m\u001b[0m\n\u001b[0m\u001b[1;32m     32\u001b[0m     \u001b[0mprint\u001b[0m\u001b[0;34m(\u001b[0m\u001b[0;34mf'M{model_num}-{dataset_name}: Complete'\u001b[0m\u001b[0;34m)\u001b[0m\u001b[0;34m\u001b[0m\u001b[0;34m\u001b[0m\u001b[0m\n\u001b[1;32m     33\u001b[0m     \u001b[0mflutdf\u001b[0m\u001b[0;34m.\u001b[0m\u001b[0mto_pickle\u001b[0m\u001b[0;34m(\u001b[0m\u001b[0;34mf'Eigen_{b_modes}B{t_modes}T-M{save_num}_{dataset_name}.pkl'\u001b[0m\u001b[0;34m)\u001b[0m\u001b[0;34m\u001b[0m\u001b[0;34m\u001b[0m\u001b[0m\n",
      "\u001b[0;32m~/Documents/GitHub/FwtModels/Workbooks/12_RectGustPlots/../../FwtModels/RectWing/eigen_perm_params.py\u001b[0m in \u001b[0;36meigen_perm_params\u001b[0;34m(p, model, vars_ls, calc_fixed_points, jac, fixed_point_gen)\u001b[0m\n\u001b[1;32m     70\u001b[0m                 \u001b[0mq\u001b[0m \u001b[0;34m=\u001b[0m \u001b[0mfsolve\u001b[0m\u001b[0;34m(\u001b[0m\u001b[0;32mlambda\u001b[0m \u001b[0mq\u001b[0m\u001b[0;34m,\u001b[0m\u001b[0mv\u001b[0m\u001b[0;34m:\u001b[0m \u001b[0mfunc_obj_v0\u001b[0m\u001b[0;34m(\u001b[0m\u001b[0mq\u001b[0m\u001b[0;34m,\u001b[0m\u001b[0mv\u001b[0m\u001b[0;34m)\u001b[0m\u001b[0;34m[\u001b[0m\u001b[0;34m:\u001b[0m\u001b[0;34m,\u001b[0m\u001b[0;36m0\u001b[0m\u001b[0;34m]\u001b[0m\u001b[0;34m,\u001b[0m\u001b[0mguess\u001b[0m\u001b[0;34m,\u001b[0m\u001b[0mfactor\u001b[0m \u001b[0;34m=\u001b[0m \u001b[0;36m1\u001b[0m\u001b[0;34m,\u001b[0m\u001b[0margs\u001b[0m\u001b[0;34m=\u001b[0m\u001b[0;34m(\u001b[0m\u001b[0mvalues\u001b[0m\u001b[0;34m,\u001b[0m\u001b[0;34m)\u001b[0m\u001b[0;34m)\u001b[0m\u001b[0;34m\u001b[0m\u001b[0;34m\u001b[0m\u001b[0m\n\u001b[1;32m     71\u001b[0m             \u001b[0;32melse\u001b[0m\u001b[0;34m:\u001b[0m\u001b[0;34m\u001b[0m\u001b[0;34m\u001b[0m\u001b[0m\n\u001b[0;32m---> 72\u001b[0;31m                 \u001b[0mguess\u001b[0m \u001b[0;34m=\u001b[0m \u001b[0;34m[\u001b[0m\u001b[0;36m0\u001b[0m\u001b[0;34m]\u001b[0m\u001b[0;34m*\u001b[0m\u001b[0mp\u001b[0m\u001b[0;34m.\u001b[0m\u001b[0mqs\u001b[0m \u001b[0;32mif\u001b[0m \u001b[0mi\u001b[0m\u001b[0;34m==\u001b[0m\u001b[0;36m1\u001b[0m \u001b[0;32melse\u001b[0m \u001b[0mqs\u001b[0m\u001b[0;34m[\u001b[0m\u001b[0;34m-\u001b[0m\u001b[0;36m1\u001b[0m\u001b[0;34m]\u001b[0m\u001b[0;34m\u001b[0m\u001b[0;34m\u001b[0m\u001b[0m\n\u001b[0m\u001b[1;32m     73\u001b[0m                 \u001b[0mq\u001b[0m \u001b[0;34m=\u001b[0m \u001b[0mleast_squares\u001b[0m\u001b[0;34m(\u001b[0m\u001b[0;32mlambda\u001b[0m \u001b[0mq\u001b[0m\u001b[0;34m,\u001b[0m\u001b[0mv\u001b[0m\u001b[0;34m:\u001b[0m\u001b[0mfunc_obj\u001b[0m\u001b[0;34m(\u001b[0m\u001b[0mq\u001b[0m\u001b[0;34m,\u001b[0m\u001b[0mvalues\u001b[0m\u001b[0;34m)\u001b[0m\u001b[0;34m[\u001b[0m\u001b[0;34m:\u001b[0m\u001b[0;34m,\u001b[0m\u001b[0;36m0\u001b[0m\u001b[0;34m]\u001b[0m\u001b[0;34m,\u001b[0m\u001b[0mguess\u001b[0m\u001b[0;34m,\u001b[0m\u001b[0mmethod\u001b[0m\u001b[0;34m=\u001b[0m\u001b[0;34m'dogbox'\u001b[0m\u001b[0;34m,\u001b[0m\u001b[0mjac\u001b[0m\u001b[0;34m=\u001b[0m\u001b[0mfunc_jac_obj\u001b[0m \u001b[0;32mif\u001b[0m \u001b[0mjac\u001b[0m \u001b[0;32melse\u001b[0m \u001b[0;34m'2-point'\u001b[0m\u001b[0;34m,\u001b[0m\u001b[0margs\u001b[0m \u001b[0;34m=\u001b[0m \u001b[0;34m(\u001b[0m\u001b[0mvalues\u001b[0m\u001b[0;34m,\u001b[0m\u001b[0;34m)\u001b[0m\u001b[0;34m)\u001b[0m\u001b[0;34m.\u001b[0m\u001b[0mx\u001b[0m\u001b[0;34m\u001b[0m\u001b[0;34m\u001b[0m\u001b[0m\n\u001b[1;32m     74\u001b[0m                 \u001b[0;31m#q = fsolve(lambda q,v: func_obj(q,v)[:,0],guess,fprime = func_jac_obj if jac else None ,factor = 1,args=(values,))\u001b[0m\u001b[0;34m\u001b[0m\u001b[0;34m\u001b[0m\u001b[0;34m\u001b[0m\u001b[0m\n",
      "\u001b[0;31mIndexError\u001b[0m: list index out of range"
     ]
    }
   ],
   "source": [
    "Model_Eigen_WT(4,3,3)"
   ]
  },
  {
   "cell_type": "code",
   "execution_count": 6,
   "metadata": {},
   "outputs": [
    {
     "name": "stdout",
     "output_type": "stream",
     "text": [
      "M0-JEC: Started\n",
      "M0-HALE: Started\n",
      "M0-WT: Started\n",
      "M1-WT: Started\n",
      "M1-HALE: Started\n",
      "M1-JEC: Started\n",
      "M1-WT: Complete\n",
      "M1-HALE: Complete\n",
      "M1-JEC: Complete\n",
      "M0-WT: Complete\n",
      "M0-HALE: Complete\n",
      "M0-JEC: Complete\n"
     ]
    }
   ],
   "source": [
    "b_modes = 3\n",
    "t_modes = 3\n",
    "pool = mp.Pool(mp.cpu_count())\n",
    "\n",
    "# running all the models\n",
    "#for k in range(6):\n",
    "#for k in [4,5]:\n",
    "#    pool.apply_async(Model_Eigen_WT,args=(k,b_modes,t_modes))\n",
    "#    pool.apply_async(Model_Eigen_JEC,args=(k,b_modes,t_modes))\n",
    "#    pool.apply_async(Model_Eigen_HALE,args=(k,b_modes,t_modes))\n",
    "\n",
    "## linearise the full model about the zero position\n",
    "pool.apply_async(Model_Eigen_WT,args=(0,b_modes,t_modes,6,True))\n",
    "pool.apply_async(Model_Eigen_JEC,args=(0,b_modes,t_modes,6,True))\n",
    "pool.apply_async(Model_Eigen_HALE,args=(0,b_modes,t_modes,6,True))\n",
    "\n",
    "## linearise the no ZFR about the zero position\n",
    "pool.apply_async(Model_Eigen_WT,args=(1,b_modes,t_modes,7,True))\n",
    "pool.apply_async(Model_Eigen_JEC,args=(1,b_modes,t_modes,7,True))\n",
    "pool.apply_async(Model_Eigen_HALE,args=(1,b_modes,t_modes,7,True))\n",
    "\n",
    "\n",
    "pool.close()\n",
    "pool.join()"
   ]
  },
  {
   "cell_type": "code",
   "execution_count": 11,
   "metadata": {},
   "outputs": [],
   "source": [
    "b_modes = 3\n",
    "t_modes = 3\n",
    "pool = mp.Pool(mp.cpu_count())\n",
    "p,v = JEC(3,3)\n",
    "for k in range(8):\n",
    "    pool.apply_async(Model_Eigen,args=(0,'JEC',3,3,p,v))\n",
    "pool.close()\n",
    "pool.join()"
   ]
  },
  {
   "cell_type": "code",
   "execution_count": null,
   "metadata": {},
   "outputs": [],
   "source": []
  }
 ],
 "metadata": {
  "kernelspec": {
   "display_name": "Python 3",
   "language": "python",
   "name": "python3"
  },
  "language_info": {
   "codemirror_mode": {
    "name": "ipython",
    "version": 3
   },
   "file_extension": ".py",
   "mimetype": "text/x-python",
   "name": "python",
   "nbconvert_exporter": "python",
   "pygments_lexer": "ipython3",
   "version": "3.7.7"
  }
 },
 "nbformat": 4,
 "nbformat_minor": 4
}
