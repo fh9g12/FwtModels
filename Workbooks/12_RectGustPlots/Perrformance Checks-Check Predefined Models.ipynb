{
 "cells": [
  {
   "cell_type": "code",
   "execution_count": 1,
   "metadata": {},
   "outputs": [],
   "source": [
    "import sympy as sym\n",
    "import sympy.physics.mechanics as me\n",
    "from sympy.abc import t as time\n",
    "import pandas as pd\n",
    "import seaborn as sns\n",
    "\n",
    "import numpy as np\n",
    "from scipy.integrate import odeint,LSODA,BDF,solve_ivp\n",
    "from scipy.linalg import eig\n",
    "from scipy.optimize import fsolve\n",
    "import matplotlib.pyplot as plt\n",
    "\n",
    "import sys, os\n",
    "\n",
    "sys.path.insert(1, os.path.join(sys.path[0], '../..'))\n",
    "import custom_plot_objects as cpo\n",
    "\n",
    "import ModelFramework as mf\n",
    "import ModelFramework.Elements as ele\n",
    "import ModelFramework.ExternalForces as ef\n",
    "import FwtModels.RectWing as rw\n",
    "import FwtModels.RectWing.Models as rwm\n",
    "import multiprocessing as mp\n",
    "\n",
    "me.mechanics_printing()"
   ]
  },
  {
   "cell_type": "code",
   "execution_count": 2,
   "metadata": {},
   "outputs": [],
   "source": [
    "b_modes = 3\n",
    "t_modes = 3\n",
    "\n",
    "## Create Now\n",
    "#AM = rwm.AeroModelClass(drag = True,stall = True,rot = True)\n",
    "#sm,p = rwm.GenV2RectWing(b_modes,t_modes,AM,iwt=True,iwb=True,fixed_root = False)\n",
    "\n",
    "## Laod from file\n",
    "p = rw.base_params(b_modes+t_modes+2)\n",
    "sm = mf.SymbolicModel.from_file('3B3T-M5.py')"
   ]
  },
  {
   "cell_type": "code",
   "execution_count": 144,
   "metadata": {},
   "outputs": [],
   "source": [
    "p.rho.value = 1.225\n",
    "p.s_t.value = 1.345\n",
    "p.c.value = 0.15\n",
    "p.EI.value = 61\n",
    "p.GJ.value = 200\n",
    "p.rho_t.value = 10\n",
    "p.e_0.value = 0\n",
    "p.e_1.value = 0\n",
    "p.ratio_fwt.value = 0.2\n",
    "p.alpha_s.value = np.deg2rad(15)\n",
    "p.eta.value = [1]*p.qs\n",
    "p.m_ac.value = 1e6\n",
    "p.k_ac.value = 1e6\n",
    "\n",
    "variables = [p.V,p.alpha_r,p.c_dmax,p.m_factor,p.Lambda,p.w_g,p.k_fwt,p.yaw]\n",
    "\n",
    "sm_mini = sm.msubs({**p.GetSubs(None,None,ignore = variables),p.q[0]:0,p.qd[0]:0})\n",
    "nm = sm_mini.CreateNumericModel(p)\n",
    "def Reduced_eqn(model):      \n",
    "    f =  me.msubs(model.f-model.ExtForces.Q(),{i:0 for i in p.qd})\n",
    "    f = sym.Matrix([0,*f[1:]])\n",
    "    return f\n",
    "#f = me.msubs((sm_mini.f-sm_mini.ExtForces.Q()),{i:0 for i in p.qd})\n",
    "f = Reduced_eqn(sm_mini)\n",
    "func_obj = sym.lambdify((p.q,variables),f,\"numpy\") \n",
    "func_obj_jac = sym.lambdify((p.q,variables),f.jacobian(p.q),\"numpy\") "
   ]
  },
  {
   "cell_type": "code",
   "execution_count": 149,
   "metadata": {},
   "outputs": [],
   "source": [
    "p.V.value = 10\n",
    "p.alpha_r.value = np.deg2rad(5)\n",
    "p.c_dmax.value = 1\n",
    "p.m_factor.value = 0.5\n",
    "p.Lambda.value = np.deg2rad(10)\n",
    "p.w_g.value = 0\n",
    "p.k_fwt.value = 0\n",
    "p.yaw.value = np.deg2rad(0)\n",
    "\n",
    "values = [i.value for i in variables]\n",
    "\n",
    "\n"
   ]
  },
  {
   "cell_type": "code",
   "execution_count": 150,
   "metadata": {},
   "outputs": [
    {
     "name": "stdout",
     "output_type": "stream",
     "text": [
      "CPU times: user 2.39 ms, sys: 19 µs, total: 2.4 ms\n",
      "Wall time: 2.39 ms\n"
     ]
    },
    {
     "data": {
      "text/plain": [
       "array([ 0.00000000e+00, -5.55903432e-02,  3.12658526e-02, -6.52717726e-03,\n",
       "        2.95745426e-03, -1.37428172e-03,  6.14021195e-17,  1.01488483e+00])"
      ]
     },
     "execution_count": 150,
     "metadata": {},
     "output_type": "execute_result"
    }
   ],
   "source": [
    "%%time\n",
    "guess=[0]*(p.qs-1)\n",
    "guess[-1] = 0\n",
    "q = np.array([0]+list(fsolve(lambda q,v:func_obj([0]+list(q),values)[1:,0],guess,args=(values,),factor = 1)))\n",
    "q"
   ]
  },
  {
   "cell_type": "code",
   "execution_count": 151,
   "metadata": {},
   "outputs": [
    {
     "name": "stdout",
     "output_type": "stream",
     "text": [
      "CPU times: user 2.54 ms, sys: 50 µs, total: 2.59 ms\n",
      "Wall time: 2.57 ms\n"
     ]
    },
    {
     "data": {
      "text/plain": [
       "array([ 0.00000000e+00, -5.55903432e-02,  3.12658526e-02, -6.52717726e-03,\n",
       "        2.95745426e-03, -1.37428172e-03,  6.14021195e-17,  1.01488483e+00])"
      ]
     },
     "execution_count": 151,
     "metadata": {},
     "output_type": "execute_result"
    }
   ],
   "source": [
    "%%time\n",
    "guess=[0]*(p.qs)\n",
    "#guess[-1] = np.pi/2\n",
    "def FuncReduced(q,values):\n",
    "    res = func_obj(q,values)\n",
    "    res[0] = 0\n",
    "    return res\n",
    "q = np.array(fsolve(lambda q:FuncReduced(q,values)[:,0],guess,factor = 1))\n",
    "\n",
    "q"
   ]
  },
  {
   "cell_type": "code",
   "execution_count": 166,
   "metadata": {},
   "outputs": [
    {
     "name": "stdout",
     "output_type": "stream",
     "text": [
      "CPU times: user 2.96 ms, sys: 933 µs, total: 3.9 ms\n",
      "Wall time: 3.02 ms\n"
     ]
    },
    {
     "data": {
      "text/plain": [
       "array([ 0.00000000e+00, -5.55903432e-02,  3.12658526e-02, -6.52717726e-03,\n",
       "        2.95745426e-03, -1.37428172e-03,  5.43588287e-17,  1.01488483e+00])"
      ]
     },
     "execution_count": 166,
     "metadata": {},
     "output_type": "execute_result"
    }
   ],
   "source": [
    "%%time\n",
    "guess=[0]*(p.qs)\n",
    "guess[-1] = 0.1\n",
    "q[-1] += -0.1\n",
    "from scipy.optimize import least_squares\n",
    "least_squares(lambda q,v:func_obj(q,values)[:,0],q,method='dogbox',loss = 'linear',jac=func_obj_jac,args = (values,)).x"
   ]
  },
  {
   "cell_type": "code",
   "execution_count": 26,
   "metadata": {},
   "outputs": [
    {
     "name": "stdout",
     "output_type": "stream",
     "text": [
      "3.170437435299744\n",
      "CPU times: user 45.1 ms, sys: 2.14 ms, total: 47.2 ms\n",
      "Wall time: 46.7 ms\n"
     ]
    }
   ],
   "source": [
    "%%time\n",
    "p.V.value = 20\n",
    "p.w_g.value = 0\n",
    "p.m_factor.value = 0.5\n",
    "p.k_fwt.value = 0\n",
    "p.Lambda.value = np.deg2rad(10)\n",
    "p.alpha_r.value = np.deg2rad(7)\n",
    "\n",
    "b_shapes = 3\n",
    "\n",
    "z,_ = mf.ShapeFunctions_BN_TM(b_shapes,0,p.q[1:b_shapes+1],p.y_0,0,0,0,p.eta[1:b_shapes+1])\n",
    "\n",
    "d2z_dy2 = z.diff(p.y_0,p.y_0).subs(p.y_0,0)\n",
    "z_tip = z.subs(p.y_0,p.s_0)\n",
    "dz_dy_tip = z.diff(p.y_0).subs(p.y_0,p.s_0)\n",
    "\n",
    "d2z_dy2_f = sym.lambdify((p.GetTuple(),p.q),d2z_dy2)\n",
    "z_tip_f = sym.lambdify((p.GetTuple(),p.q),z_tip)\n",
    "dz_dy_tip_f = sym.lambdify((p.GetTuple(),p.q),dz_dy_tip)\n",
    "\n",
    "\n",
    "values = [i.value for i in variables]\n",
    "guess = [0]*(p.qs-1)\n",
    "\n",
    "q = np.array([0]+list(fsolve(lambda q:func_obj([0]+list(q),values)[1:,0],guess,factor = 1)))\n",
    "\n",
    "print(np.rad2deg(dz_dy_tip_f(p.GetNumericTuple(q,0),q)))\n",
    "\n",
    "def gust(t,x):\n",
    "    T = 1\n",
    "    if t<T:\n",
    "        return 0.5*(1- np.cos(2*np.pi*t/T))\n",
    "    else:\n",
    "        return 0\n",
    "    \n",
    "p.w_g.value = gust\n",
    "def objectiveDeriv(t,y):\n",
    "    tup = p.GetNumericTuple(y,t)\n",
    "    deriv = list(nm.deriv(t,y,tup))    \n",
    "    #deriv[0] = deriv[1] = 0\n",
    "    return tuple(deriv)\n",
    "    \n",
    "    \n",
    "\n",
    "x0 = [0]*p.qs*2\n",
    "x0[::2]=q\n"
   ]
  },
  {
   "cell_type": "code",
   "execution_count": 27,
   "metadata": {},
   "outputs": [
    {
     "name": "stdout",
     "output_type": "stream",
     "text": [
      "CPU times: user 1.73 ms, sys: 18 µs, total: 1.75 ms\n",
      "Wall time: 1.74 ms\n"
     ]
    }
   ],
   "source": [
    "%%time\n",
    "q = np.array([0]+list(fsolve(lambda q:func_obj([0]+list(q),values)[1:,0],guess,factor = 1)))"
   ]
  },
  {
   "cell_type": "code",
   "execution_count": 28,
   "metadata": {},
   "outputs": [
    {
     "data": {
      "image/png": "[encoded data removed]",
      "text/latex": [
       "$\\displaystyle \\left( 0, \\  1.535296432647365e-05, \\  0, \\  -0.00021677850285759288, \\  0, \\  0.0003912189924421149, \\  0, \\  -0.00018832469942290397, \\  0, \\  0.0007351094940411271, \\  0, \\  -0.0020639425885595063, \\  0, \\  0.001352069119866671, \\  0, \\  -4.467562613306942e-06\\right)$"
      ],
      "text/plain": [
       "(0, 1.535296432647365e-05, 0, -0.00021677850285759288, 0, 0.000391218992442114\n",
       "9, 0, -0.00018832469942290397, 0, 0.0007351094940411271, 0, -0.002063942588559\n",
       "5063, 0, 0.001352069119866671, 0, -4.467562613306942e-06)"
      ]
     },
     "execution_count": 28,
     "metadata": {},
     "output_type": "execute_result"
    }
   ],
   "source": [
    "x = [0]*p.qs*2\n",
    "x[::2]=q\n",
    "nm.deriv(0,x,p.GetNumericTuple(x,0))"
   ]
  },
  {
   "cell_type": "code",
   "execution_count": 29,
   "metadata": {},
   "outputs": [
    {
     "name": "stdout",
     "output_type": "stream",
     "text": [
      "CPU times: user 16.3 s, sys: 118 ms, total: 16.4 s\n",
      "Wall time: 16.6 s\n"
     ]
    }
   ],
   "source": [
    "%%time\n",
    "yData = solve_ivp(objectiveDeriv,(0,5),x)"
   ]
  },
  {
   "cell_type": "code",
   "execution_count": 30,
   "metadata": {},
   "outputs": [
    {
     "data": {
      "image/png": "[encoded data removed]",
      "text/latex": [
       "$\\displaystyle \\left( 8, \\  7866\\right)$"
      ],
      "text/plain": [
       "(8, 7866)"
      ]
     },
     "execution_count": 30,
     "metadata": {},
     "output_type": "execute_result"
    },
    {
     "data": {
      "image/png": "[encoded data removed]",
      "text/plain": [
       "<Figure size 1080x360 with 4 Axes>"
      ]
     },
     "metadata": {},
     "output_type": "display_data"
    }
   ],
   "source": [
    "yi = yData.y\n",
    "t = yData.t\n",
    "\n",
    "b_shapes = 3\n",
    "d2z_dy2 = z.diff(p.y_0,p.y_0).subs(p.y_0,0)\n",
    "z_tip = z.subs(p.y_0,p.s_0)\n",
    "dz_dy_tip = z.diff(p.y_0).subs(p.y_0,p.s_0)\n",
    "\n",
    "d2z_dy2_f = sym.lambdify((p.GetTuple(),p.q),d2z_dy2)\n",
    "z_tip_f = sym.lambdify((p.GetTuple(),p.q),z_tip)\n",
    "dz_dy_tip_f = sym.lambdify((p.GetTuple(),p.q),dz_dy_tip)\n",
    "\n",
    "lift = []\n",
    "for i in range(len(t)):\n",
    "    lift.append(nm.ExtForces(p.GetNumericTuple(yi[:,i],t[i]),yi[:,i],t[i])[0])\n",
    "\n",
    "plt.style.use('seaborn-white')\n",
    "\n",
    "tup = p.GetNumericTuple([0]*p.qs*2,0)\n",
    "\n",
    "fig, axes = plt.subplots(1,4,figsize=(15,5))\n",
    "axes[0].plot(t,d2z_dy2_f(tup,yi[::2])*p.EI.value)\n",
    "axes[0].set_ylabel('WRBM [Nm]')\n",
    "axes[0].set_xlabel('time [s]')\n",
    "\n",
    "axes[1].plot(t,z_tip_f(tup,yi[::2]))\n",
    "axes[1].set_ylabel('Inner wing tip deflection [m]')\n",
    "axes[1].set_xlabel('time [s]')\n",
    "\n",
    "axes[2].plot(t,lift)\n",
    "axes[2].set_ylabel('Lift [N]')\n",
    "axes[2].set_xlabel('time [s]')\n",
    "\n",
    "axes[3].plot(t,np.rad2deg((yi[-2])+dz_dy_tip_f(tup,yi[::2])))\n",
    "axes[3].set_ylabel('Fold Angle [Deg]')\n",
    "axes[3].set_xlabel('time [s]')\n",
    "\n",
    "yi[::2].shape"
   ]
  },
  {
   "cell_type": "code",
   "execution_count": null,
   "metadata": {},
   "outputs": [],
   "source": []
  }
 ],
 "metadata": {
  "kernelspec": {
   "display_name": "Python 3",
   "language": "python",
   "name": "python3"
  },
  "language_info": {
   "codemirror_mode": {
    "name": "ipython",
    "version": 3
   },
   "file_extension": ".py",
   "mimetype": "text/x-python",
   "name": "python",
   "nbconvert_exporter": "python",
   "pygments_lexer": "ipython3",
   "version": "3.7.7"
  }
 },
 "nbformat": 4,
 "nbformat_minor": 4
}
