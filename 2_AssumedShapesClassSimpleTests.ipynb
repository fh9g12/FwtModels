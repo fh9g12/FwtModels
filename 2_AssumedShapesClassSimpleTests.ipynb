{
 "cells": [
  {
   "cell_type": "markdown",
   "metadata": {},
   "source": [
    "# Initial Tests of Assumed Shapes Model\n",
    "\n",
    "For the first tests will test the model against the case in which there is no FWTD"
   ]
  },
  {
   "cell_type": "code",
   "execution_count": 2,
   "metadata": {},
   "outputs": [],
   "source": [
    "from FwtModels import AssumedShape\n",
    "import numpy as np\n",
    "import sympy as sym\n",
    "import sympy.physics.mechanics as me\n",
    "from sympy.abc import y,x,t\n",
    "import pandas as pd"
   ]
  },
  {
   "cell_type": "markdown",
   "metadata": {},
   "source": [
    "## Create the Symbolic Model & show it is equivelent to that in the book\n",
    "\n",
    "Within Jonathans book (section 11.6) the following equation is 'derived' for a rectangluar wing with one mode in both bending and torsion\n",
    "\n",
    "$m\\left[\\begin{array}{cc}{\\frac{c s^{5}}{5}} & {\\frac{s^{4}}{4}\\left(\\frac{c^{2}}{2}-c x_{\\mathrm{f}}\\right)} \\\\ {\\frac{s^{4}}{4}\\left(\\frac{c^{2}}{2}-c x_{\\mathrm{f}}\\right)} & {\\frac{s^{3}}{3}\\left(\\frac{c^{3}}{3}-c^{2} x_{\\mathrm{f}}+c x_{\\mathrm{f}}^{2}\\right)}\\end{array}\\right]\\left\\{\\begin{array}{c}{\\dot{q}_{1}} \\\\ {\\ddot{q}_{2}}\\end{array}\\right\\}+\\rho V\\left[\\begin{array}{cc}{\\frac{c a_{\\mathrm{WS}} 5}{10}} & {0} \\\\ {-\\frac{c^{2} e a_{\\mathrm{WS}}^{4}}{8}} & {-\\frac{c^{3} s^{3} M_{\\theta}}{24}}\\end{array}\\right]\\left\\{\\begin{array}{c}{\\dot{q}_{1}} \\\\ {\\dot{q}_{2}}\\end{array}\\right\\}+\\left(\\rho V^{2}\\left[\\begin{array}{cc}{0} & {\\frac{c s^{4} a_{\\mathrm{W}}}{8}} \\\\ {0} & {-\\frac{e c^{2} s^{3} a_{W}}{6}}\\end{array}\\right]+\\left[\\begin{array}{cc}{4 E I s} & {0} \\\\ {0} & {G J s}\\end{array}\\right]\\right)\\left\\{\\begin{array}{l}{q_{1}} \\\\ {q_{2}}\\end{array}\\right\\}=\\left\\{\\begin{array}{l}{0} \\\\ {0}\\end{array}\\right\\}$\n",
    "\n",
    "Which is the explict version of this equation\n",
    "\n",
    "$A \\ddot{q}+(\\rho v \\mathbf{B}+\\mathbf{D}) \\dot{q}+\\left(\\rho v^{2} \\mathbf{C}+\\mathbf{E}\\right) \\boldsymbol{q}=0$\n",
    "\n",
    "This is slightly different to I I have formulated the equations as my equation was\n",
    "\n",
    "$\\mathbf{A} \\ddot{q}+\\mathbf{K} q=\\mathbf{B} \\dot{q} + \\mathbf{C} \\dot{q}$\n",
    "\n",
    "Which leads to:\n",
    "\n",
    "$\\mathbf{A} \\ddot{q} - \\mathbf{B} \\dot{q}  +(\\mathbf{K}-\\mathbf{C}) q=0$\n",
    "\n",
    "This section will aim to recreat each of these equations from my generalised model by setting the FWTD's size to 0\n",
    "\n",
    "First, need to generate a symbolic model for the generalised case"
   ]
  },
  {
   "cell_type": "code",
   "execution_count": 18,
   "metadata": {},
   "outputs": [],
   "source": [
    "# create generalised coordinates\n",
    "q0,q1,q2 = me.dynamicsymbols('q:3')\n",
    "q = sym.Matrix([q0,q1,q2])\n",
    "\n",
    "# create instance of Fwt parameters\n",
    "p = AssumedShape.FwtParameters()\n",
    "\n",
    "# define shape Functions\n",
    "z_w = q0*y**2 + q1*(x-p.x_f)*y\n",
    "alpha_w = q1 * y\n",
    "z_t = z_w.subs(y,p.s_w) + q2*(y)\n",
    "alpha_t = alpha_w.subs(y,p.s_w) + q2*sym.sin(p.Lambda)\n",
    "\n",
    "# create the model\n",
    "sModel = AssumedShape.SymbolicModel(q,z_w,alpha_w,z_t,alpha_t,p)\n",
    "sModel.GenerateEoM()"
   ]
  },
  {
   "cell_type": "markdown",
   "metadata": {},
   "source": [
    "for each matrix set $s_t$ to zero and print the result to compare with the original equation"
   ]
  },
  {
   "cell_type": "code",
   "execution_count": 20,
   "metadata": {},
   "outputs": [
    {
     "data": {
      "text/latex": [
       "$\\displaystyle \\left[\\begin{matrix}- \\frac{a_{w} c s_{w}^{5}}{10} & 0 & 0\\\\\\frac{a_{w} c^{2} e s_{w}^{4}}{8} & \\frac{M_{\\dot{\\alpha}} c^{3} s_{w}^{3}}{24} & 0\\\\0 & 0 & 0\\end{matrix}\\right]$"
      ],
      "text/plain": [
       "⎡          5                  ⎤\n",
       "⎢-a_w⋅c⋅s_w                   ⎥\n",
       "⎢────────────        0       0⎥\n",
       "⎢     10                      ⎥\n",
       "⎢                             ⎥\n",
       "⎢     2      4       3    3   ⎥\n",
       "⎢a_w⋅c ⋅e⋅s_w   M_α̇⋅c ⋅s_w    ⎥\n",
       "⎢─────────────  ───────────  0⎥\n",
       "⎢      8             24       ⎥\n",
       "⎢                             ⎥\n",
       "⎣      0             0       0⎦"
      ]
     },
     "execution_count": 20,
     "metadata": {},
     "output_type": "execute_result"
    }
   ],
   "source": [
    "# Damping Matrix, divide by M_t as this is outside the matrix above\n",
    "(-sModel.B.subs(p.s_t,0))/(p.rho*p.V)"
   ]
  },
  {
   "cell_type": "code",
   "execution_count": 6,
   "metadata": {},
   "outputs": [
    {
     "data": {
      "text/latex": [
       "$\\displaystyle \\left[\\begin{matrix}\\frac{c s_{w}^{5}}{5} & \\frac{c s_{w}^{4} \\left(c - 2 x_{f}\\right)}{8} & 0\\\\\\frac{c s_{w}^{4} \\left(c - 2 x_{f}\\right)}{8} & \\frac{c s_{w}^{3} \\left(c^{2} - 3 c x_{f} + 3 x_{f}^{2}\\right)}{9} & 0\\\\0 & 0 & 0\\end{matrix}\\right]$"
      ],
      "text/plain": [
       "⎡           5                   4                     ⎤\n",
       "⎢      c⋅s_w               c⋅s_w ⋅(c - 2⋅x_f)         ⎥\n",
       "⎢      ──────              ──────────────────        0⎥\n",
       "⎢        5                         8                  ⎥\n",
       "⎢                                                     ⎥\n",
       "⎢     4                   3 ⎛ 2                  2⎞   ⎥\n",
       "⎢c⋅s_w ⋅(c - 2⋅x_f)  c⋅s_w ⋅⎝c  - 3⋅c⋅x_f + 3⋅x_f ⎠   ⎥\n",
       "⎢──────────────────  ──────────────────────────────  0⎥\n",
       "⎢        8                         9                  ⎥\n",
       "⎢                                                     ⎥\n",
       "⎣        0                         0                 0⎦"
      ]
     },
     "execution_count": 6,
     "metadata": {},
     "output_type": "execute_result"
    }
   ],
   "source": [
    "# Mass Matrix, divide by rho*V as this is outside the matrix above\n",
    "sym.simplify((sModel.M/p.m_w).subs(p.s_t,0))"
   ]
  },
  {
   "cell_type": "code",
   "execution_count": 7,
   "metadata": {},
   "outputs": [
    {
     "data": {
      "text/latex": [
       "$\\displaystyle \\left[\\begin{matrix}0 & \\frac{a_{w} c s_{w}^{4}}{8} & 0\\\\0 & - \\frac{a_{w} c^{2} e s_{w}^{3}}{6} & 0\\\\0 & 0 & 0\\end{matrix}\\right]$"
      ],
      "text/plain": [
       "⎡              4      ⎤\n",
       "⎢     a_w⋅c⋅s_w       ⎥\n",
       "⎢0    ──────────     0⎥\n",
       "⎢         8           ⎥\n",
       "⎢                     ⎥\n",
       "⎢         2      3    ⎥\n",
       "⎢   -a_w⋅c ⋅e⋅s_w     ⎥\n",
       "⎢0  ───────────────  0⎥\n",
       "⎢          6          ⎥\n",
       "⎢                     ⎥\n",
       "⎣0         0         0⎦"
      ]
     },
     "execution_count": 7,
     "metadata": {},
     "output_type": "execute_result"
    }
   ],
   "source": [
    "# Aero Stiffness Matrix, divide by rho*V^2 as this is outside the matrix above\n",
    "(-sModel.C.subs(p.s_t,0))/(p.rho*p.V**2)"
   ]
  },
  {
   "cell_type": "code",
   "execution_count": 8,
   "metadata": {},
   "outputs": [
    {
     "data": {
      "text/latex": [
       "$\\displaystyle \\left[\\begin{matrix}4 EI s_{w} & 0 & 0\\\\0 & GJ s_{w} & 0\\\\0 & 0 & 0\\end{matrix}\\right]$"
      ],
      "text/plain": [
       "⎡4⋅EI⋅s_w    0     0⎤\n",
       "⎢                   ⎥\n",
       "⎢   0      GJ⋅s_w  0⎥\n",
       "⎢                   ⎥\n",
       "⎣   0        0     0⎦"
      ]
     },
     "execution_count": 8,
     "metadata": {},
     "output_type": "execute_result"
    }
   ],
   "source": [
    "# Structural Stiffness Matrix\n",
    "(sModel.K.subs({p.s_t:0, p.k_theta:0}))"
   ]
  },
  {
   "cell_type": "markdown",
   "metadata": {},
   "source": [
    "Inspection shows all of these matrices are the same as that from the book with the exception of the aero samping matrix (bottum left reads a_w^4*s in the book which is a mistake as no mechanism in the maths coan really raise a_w to the power of anything)"
   ]
  },
  {
   "cell_type": "markdown",
   "metadata": {},
   "source": [
    "## Test a couple of Numeric Models\n",
    "\n",
    "### Compare Frequency values for a SDoF system\n",
    "\n",
    "with Jonathan's book, in section 3.2.1, a model is built of a continous wing with a single assumed shape:\n",
    "\n",
    "$z(y, t)=\\psi(y) q(t)=\\left(\\frac{y}{s}\\right)^{2} q(t)$\n",
    "\n",
    "The natural frequency of this system is found to be $\\omega=4.47 \\sqrt{\\frac{E I}{\\mu s^{4}}}$ and the exact answer is shown as $\\omega=3.516 \\sqrt{\\frac{E I}{\\mu s^{4}}}$\n",
    "\n",
    "#### Compare model with the answer for one assumed shape in bending"
   ]
  },
  {
   "cell_type": "code",
   "execution_count": 10,
   "metadata": {},
   "outputs": [
    {
     "data": {
      "image/png": "[encoded data removed]",
      "text/latex": [
       "$\\displaystyle 2 \\sqrt{5} \\sqrt{\\frac{EI}{c m_{w} s_{w}^{4}}}$"
      ],
      "text/plain": [
       "          ____________\n",
       "         ╱     EI     \n",
       "2⋅√5⋅   ╱  ────────── \n",
       "       ╱            4 \n",
       "     ╲╱    c⋅m_w⋅s_w  "
      ]
     },
     "execution_count": 10,
     "metadata": {},
     "output_type": "execute_result"
    }
   ],
   "source": [
    "# create generalised coordinates\n",
    "q0 = me.dynamicsymbols('q0') \n",
    "q = sym.Matrix([q0])\n",
    "\n",
    "# create instance of Fwt parameters\n",
    "p = AssumedShape.FwtParameters()\n",
    "p.ThetaLocked = True\n",
    "\n",
    "# define shape Functions\n",
    "z_w = q0*y**2\n",
    "alpha_w = sym.Rational(0,1)\n",
    "\n",
    "# FWT is locked so is parrallel to the end of the main wing\n",
    "z_t = z_w.subs(y,p.s_w) + z_w.diff(t).subs(y,p.s_w)*y\n",
    "alpha_t = alpha_w.subs(y,p.s_w)\n",
    "\n",
    "# create the model\n",
    "sModel = AssumedShape.SymbolicModel(q,z_w,alpha_w,z_t,alpha_t,p)\n",
    "sModel.GenerateEoM()\n",
    "\n",
    "eSet = (sModel.M**-1*sModel.K).eigenvals()\n",
    "eVal = sym.sqrt(((eSet.popitem())[0]).subs({p.k_theta:0,p.s_t:0}))\n",
    "eVal"
   ]
  },
  {
   "cell_type": "markdown",
   "metadata": {},
   "source": [
    "#### What about 2 shapes for bending"
   ]
  },
  {
   "cell_type": "code",
   "execution_count": 11,
   "metadata": {},
   "outputs": [
    {
     "data": {
      "image/png": "[encoded data removed]",
      "text/latex": [
       "$\\displaystyle \\left[ 2 \\sqrt{3} \\sqrt{\\frac{EI \\left(51 m_{w} s_{w} - 8 \\sqrt{39} \\sqrt{m_{w}^{2} s_{w}^{2}}\\right)}{c m_{w}^{2} s_{w}^{5}}}, \\  2 \\sqrt{3} \\sqrt{\\frac{EI \\left(51 m_{w} s_{w} + 8 \\sqrt{39} \\sqrt{m_{w}^{2} s_{w}^{2}}\\right)}{c m_{w}^{2} s_{w}^{5}}}\\right]$"
      ],
      "text/plain": [
       "⎡            ________________________________________              ___________\n",
       "⎢           ╱    ⎛                      ___________⎞              ╱    ⎛      \n",
       "⎢          ╱     ⎜                     ╱    2    2 ⎟             ╱     ⎜      \n",
       "⎢         ╱   EI⋅⎝51⋅m_w⋅s_w - 8⋅√39⋅╲╱  m_w ⋅s_w  ⎠            ╱   EI⋅⎝51⋅m_w\n",
       "⎢2⋅√3⋅   ╱    ────────────────────────────────────── , 2⋅√3⋅   ╱    ──────────\n",
       "⎢       ╱                       2    5                        ╱               \n",
       "⎣     ╲╱                   c⋅m_w ⋅s_w                       ╲╱                \n",
       "\n",
       "_____________________________⎤\n",
       "                ___________⎞ ⎥\n",
       "               ╱    2    2 ⎟ ⎥\n",
       "⋅s_w + 8⋅√39⋅╲╱  m_w ⋅s_w  ⎠ ⎥\n",
       "──────────────────────────── ⎥\n",
       "        2    5               ⎥\n",
       "   c⋅m_w ⋅s_w                ⎦"
      ]
     },
     "execution_count": 11,
     "metadata": {},
     "output_type": "execute_result"
    }
   ],
   "source": [
    "# create generalised coordinates\n",
    "q0,q1 = me.dynamicsymbols('q0,q1') \n",
    "q = sym.Matrix([q0,q1])\n",
    "\n",
    "# create instance of Fwt parameters\n",
    "p = AssumedShape.FwtParameters()\n",
    "p.ThetaLocked = True\n",
    "\n",
    "# define shape Functions\n",
    "z_w = q0*y**2+q1*y**3\n",
    "alpha_w = sym.Rational(0,1)\n",
    "\n",
    "# FWT is locked so is parrallel to the end of the main wing\n",
    "z_t = z_w.subs(y,p.s_w) + z_w.diff(t).subs(y,p.s_w)*y\n",
    "alpha_t = alpha_w.subs(y,p.s_w)\n",
    "\n",
    "# create the model\n",
    "sModel = AssumedShape.SymbolicModel(q,z_w,alpha_w,z_t,alpha_t,p)\n",
    "sModel.GenerateEoM()\n",
    "\n",
    "\n",
    "\n",
    "eSet = (sModel.M**-1*sModel.K).eigenvals()\n",
    "freqs = []\n",
    "for key,value in eSet.items():\n",
    "    freqs.append(sym.simplify(sym.sqrt(key.subs({p.k_theta:0,p.s_t:0}))))\n",
    "freqs\n",
    "\n",
    "#eVal = sym.sqrt(((eSet.popitem())[0]).subs({p.k_theta:0,p.s_t:0}))\n",
    "#eVal"
   ]
  },
  {
   "cell_type": "markdown",
   "metadata": {},
   "source": [
    "Thats getting more complicated and doesnt really simplify well. So lets swap to numerical analysis.\n",
    "\n",
    "\n",
    "If we set $E,I,m_w,s_w,c$ to 1 the frequecy of the lowest mode shape should start at 4.47 and tend to 3.516"
   ]
  },
  {
   "cell_type": "code",
   "execution_count": 13,
   "metadata": {},
   "outputs": [],
   "source": [
    "# create generalised coordinates\n",
    "q0,q1,q2 = me.dynamicsymbols('q:3') \n",
    "q = sym.Matrix([q0,q1,q2])\n",
    "\n",
    "# create instance of Fwt parameters\n",
    "p = AssumedShape.FwtParameters()\n",
    "p.ThetaLocked = True\n",
    "p.EI.value = 1\n",
    "p.m_w.value = 1\n",
    "p.s_w.value = 1\n",
    "p.c.value = 1\n",
    "\n",
    "\n",
    "# created assumed shapes for ever higher order models then create a numerical model and find the minimium modal frequency\n",
    "Freqs = []\n",
    "Vecs = []\n",
    "for i in np.arange(0,3):\n",
    "    # define shape Functions\n",
    "    z_w = sym.Rational(0,1)\n",
    "    for j in np.arange(0,i+1):\n",
    "        z_w = z_w + q[j]*y**(2+j)\n",
    "\n",
    "    alpha_w = sym.Rational(0,1)\n",
    "\n",
    "    # FWT is locked so is parrallel to the end of the main wing\n",
    "    z_t = z_w.subs(y,p.s_w) + z_w.diff(t).subs(y,p.s_w)*y\n",
    "    alpha_t = alpha_w.subs(y,p.s_w)\n",
    "\n",
    "    # create the model\n",
    "    sModel = AssumedShape.SymbolicModel(q,z_w,alpha_w,z_t,alpha_t,p)\n",
    "    sModel.GenerateEoM()\n",
    "\n",
    "    nModel = sModel.createNumericInstance()\n",
    "\n",
    "    eVals,eVecs = nModel.FreeVibrationVals()\n",
    "    freqs=[]\n",
    "    vecs=[]\n",
    "    for i in np.arange(0,len(eVals)):\n",
    "        if ~np.isnan(eVals[i]):\n",
    "            freqs.append(np.sqrt(eVals[i]))\n",
    "            vecs.append(eVecs[i])\n",
    "        ind = np.argmin(freqs)\n",
    "    Freqs.append(freqs[ind])\n",
    "    Vecs.append(vecs[ind])"
   ]
  },
  {
   "cell_type": "code",
   "execution_count": 17,
   "metadata": {},
   "outputs": [
    {
     "data": {
      "text/latex": [
       "$\\displaystyle \\left[\\begin{matrix}\\frac{c s_{w}^{4} \\left(5 m_{t} s_{t} + m_{w} s_{w}\\right)}{5} & \\frac{c s_{w}^{5} \\left(6 m_{t} s_{t} + m_{w} s_{w}\\right)}{6} & \\frac{c s_{w}^{6} \\left(7 m_{t} s_{t} + m_{w} s_{w}\\right)}{7}\\\\\\frac{c s_{w}^{5} \\left(6 m_{t} s_{t} + m_{w} s_{w}\\right)}{6} & \\frac{c s_{w}^{6} \\left(7 m_{t} s_{t} + m_{w} s_{w}\\right)}{7} & \\frac{c s_{w}^{7} \\left(8 m_{t} s_{t} + m_{w} s_{w}\\right)}{8}\\\\\\frac{c s_{w}^{6} \\left(7 m_{t} s_{t} + m_{w} s_{w}\\right)}{7} & \\frac{c s_{w}^{7} \\left(8 m_{t} s_{t} + m_{w} s_{w}\\right)}{8} & \\frac{c s_{w}^{8} \\left(9 m_{t} s_{t} + m_{w} s_{w}\\right)}{9}\\end{matrix}\\right]$"
      ],
      "text/plain": [
       "⎡     4                           5                           6               \n",
       "⎢c⋅s_w ⋅(5⋅mₜ⋅sₜ + m_w⋅s_w)  c⋅s_w ⋅(6⋅mₜ⋅sₜ + m_w⋅s_w)  c⋅s_w ⋅(7⋅mₜ⋅sₜ + m_w\n",
       "⎢──────────────────────────  ──────────────────────────  ─────────────────────\n",
       "⎢            5                           6                           7        \n",
       "⎢                                                                             \n",
       "⎢     5                           6                           7               \n",
       "⎢c⋅s_w ⋅(6⋅mₜ⋅sₜ + m_w⋅s_w)  c⋅s_w ⋅(7⋅mₜ⋅sₜ + m_w⋅s_w)  c⋅s_w ⋅(8⋅mₜ⋅sₜ + m_w\n",
       "⎢──────────────────────────  ──────────────────────────  ─────────────────────\n",
       "⎢            6                           7                           8        \n",
       "⎢                                                                             \n",
       "⎢     6                           7                           8               \n",
       "⎢c⋅s_w ⋅(7⋅mₜ⋅sₜ + m_w⋅s_w)  c⋅s_w ⋅(8⋅mₜ⋅sₜ + m_w⋅s_w)  c⋅s_w ⋅(9⋅mₜ⋅sₜ + m_w\n",
       "⎢──────────────────────────  ──────────────────────────  ─────────────────────\n",
       "⎣            7                           8                           9        \n",
       "\n",
       "     ⎤\n",
       "⋅s_w)⎥\n",
       "─────⎥\n",
       "     ⎥\n",
       "     ⎥\n",
       "     ⎥\n",
       "⋅s_w)⎥\n",
       "─────⎥\n",
       "     ⎥\n",
       "     ⎥\n",
       "     ⎥\n",
       "⋅s_w)⎥\n",
       "─────⎥\n",
       "     ⎦"
      ]
     },
     "execution_count": 17,
     "metadata": {},
     "output_type": "execute_result"
    }
   ],
   "source": [
    "# create a data frame to present the natural frequencies, there error from the actual answer, and mode shapes in\n",
    "index = ['One Shape','Two Shapes','Three Shapes']\n",
    "\n",
    "df = pd.DataFrame(np.real(Freqs),index,['Freq'])\n",
    "pd.options.display.float_format = '{:,.2f}'.format\n",
    "df['% Error'] = ((df['Freq'] / 3.516) -1)*100\n",
    "cats = []\n",
    "for i in np.arange(0,3):\n",
    "    cats.append(f'Mode Comp {i}')\n",
    "\n",
    "df2 = pd.DataFrame(np.array(Vecs),index,cats)\n",
    "ShapeDf = pd.concat([df,df2],axis=1)\n",
    "ShapeDf\n",
    "sModel.M"
   ]
  },
  {
   "cell_type": "code",
   "execution_count": 15,
   "metadata": {},
   "outputs": [
    {
     "data": {
      "text/plain": [
       "<matplotlib.axes._subplots.AxesSubplot at 0x1febb35e6c8>"
      ]
     },
     "execution_count": 15,
     "metadata": {},
     "output_type": "execute_result"
    },
    {
     "data": {
      "image/png": "[encoded data removed]",
      "text/plain": [
       "<Figure size 432x288 with 1 Axes>"
      ]
     },
     "metadata": {},
     "output_type": "display_data"
    }
   ],
   "source": [
    "# plot mode shapes\n",
    "import seaborn as sns; sns.set()\n",
    "import matplotlib.pyplot as plt\n",
    "\n",
    "# make a data frame to calulaate the positon at each y station\n",
    "ModeDf = pd.DataFrame()\n",
    "ModeDf['y'] = np.linspace(0,1,100)\n",
    "\n",
    "# make a new series for each MOde shape to show as a combination of the values in ShapeDf\n",
    "for i in np.arange(0,3):\n",
    "    ModeDf[f'Mode Shape ({i+1} Shape)'] = ModeDf['y'] **2 * ShapeDf['Mode Comp 0'][i] + ModeDf['y'] **3 * ShapeDf['Mode Comp 1'][i] + ModeDf['y'] **4 * ShapeDf['Mode Comp 2'][i]\n",
    "\n",
    "# set the index of the data frame\n",
    "ModeDf = ModeDf.set_index('y')\n",
    "\n",
    "# ensure the end of the beam is deflecting up\n",
    "cols = list(ModeDf)\n",
    "for i in range(0,len(cols)):\n",
    "    if ModeDf[cols[i]].iloc[-1] < 0:\n",
    "        ModeDf[cols[i]] = ModeDf[cols[i]]*-1\n",
    "\n",
    "sns.lineplot(data = ModeDf)\n"
   ]
  }
 ],
 "metadata": {
  "kernelspec": {
   "display_name": "Python 3.7.6 64-bit ('base': conda)",
   "language": "python",
   "name": "python37664bitbasecondac656017b161743c29c94367edc1c83c4"
  },
  "language_info": {
   "codemirror_mode": {
    "name": "ipython",
    "version": 3
   },
   "file_extension": ".py",
   "mimetype": "text/x-python",
   "name": "python",
   "nbconvert_exporter": "python",
   "pygments_lexer": "ipython3",
   "version": "3.7.6"
  }
 },
 "nbformat": 4,
 "nbformat_minor": 2
}
