{
 "cells": [
  {
   "cell_type": "markdown",
   "metadata": {},
   "source": [
    "# Initial Tests of Assumed Shapes Model\n",
    "\n",
    "For the first tests will test the model against the case in which there is no FWTD"
   ]
  },
  {
   "cell_type": "code",
   "execution_count": 1,
   "metadata": {},
   "outputs": [],
   "source": [
    "from FwtModels import AssumedShape\n",
    "import numpy as np\n",
    "import sympy as sym\n",
    "import sympy.physics.mechanics as me\n",
    "from sympy.abc import y,x"
   ]
  },
  {
   "cell_type": "markdown",
   "metadata": {},
   "source": [
    "## Create the Symbolic Model & show it is equivelent to that in the book\n",
    "\n",
    "Within Jonathans book (section 11.6) the following equation is 'derived' for a rectangluar wing with one mode in both bending and torsion\n",
    "\n",
    "$m\\left[\\begin{array}{cc}{\\frac{c s^{5}}{5}} & {\\frac{s^{4}}{4}\\left(\\frac{c^{2}}{2}-c x_{\\mathrm{f}}\\right)} \\\\ {\\frac{s^{4}}{4}\\left(\\frac{c^{2}}{2}-c x_{\\mathrm{f}}\\right)} & {\\frac{s^{3}}{3}\\left(\\frac{c^{3}}{3}-c^{2} x_{\\mathrm{f}}+c x_{\\mathrm{f}}^{2}\\right)}\\end{array}\\right]\\left\\{\\begin{array}{c}{\\dot{q}_{1}} \\\\ {\\ddot{q}_{2}}\\end{array}\\right\\}+\\rho V\\left[\\begin{array}{cc}{\\frac{c a_{\\mathrm{WS}} 5}{10}} & {0} \\\\ {-\\frac{c^{2} e a_{\\mathrm{WS}}^{4}}{8}} & {-\\frac{c^{3} s^{3} M_{\\theta}}{24}}\\end{array}\\right]\\left\\{\\begin{array}{c}{\\dot{q}_{1}} \\\\ {\\dot{q}_{2}}\\end{array}\\right\\}+\\left(\\rho V^{2}\\left[\\begin{array}{cc}{0} & {\\frac{c s^{4} a_{\\mathrm{W}}}{8}} \\\\ {0} & {-\\frac{e c^{2} s^{3} a_{W}}{6}}\\end{array}\\right]+\\left[\\begin{array}{cc}{4 E I s} & {0} \\\\ {0} & {G J s}\\end{array}\\right]\\right)\\left\\{\\begin{array}{l}{q_{1}} \\\\ {q_{2}}\\end{array}\\right\\}=\\left\\{\\begin{array}{l}{0} \\\\ {0}\\end{array}\\right\\}$\n",
    "\n",
    "This section will aim to recreat each of these equations from my generalised model by setting the FWTD's size to 0\n",
    "\n",
    "First, need to generate a symbolic model for the generalised case"
   ]
  },
  {
   "cell_type": "code",
   "execution_count": 8,
   "metadata": {},
   "outputs": [],
   "source": [
    "# create generalised coordinates\n",
    "q0,q1,q2 = me.dynamicsymbols('q:3')\n",
    "q = sym.Matrix([q0,q1,q2])\n",
    "\n",
    "# create instance of Fwt parameters\n",
    "p = AssumedShape.FwtParameters()\n",
    "\n",
    "# define shape Functions\n",
    "z_w = q0*y**2 + q1*(x-p.x_f)*y\n",
    "alpha_w = q1 * y\n",
    "z_t = z_w.subs(y,p.s_w) + q2*(y)\n",
    "alpha_t = alpha_w.subs(y,p.s_w) + q2*sym.sin(p.Lambda)\n",
    "\n",
    "# create the model\n",
    "sModel = AssumedShape.SymbolicModel(q,z_w,alpha_w,z_t,alpha_t,p)\n",
    "sModel.GenerateEoM()"
   ]
  },
  {
   "cell_type": "markdown",
   "metadata": {},
   "source": [
    "for each matrix set $s_t$ to zero and print the result to compare with the original equation"
   ]
  },
  {
   "cell_type": "code",
   "execution_count": 9,
   "metadata": {},
   "outputs": [
    {
     "data": {
      "text/latex": [
       "$\\displaystyle \\left[\\begin{matrix}\\frac{a_{w} c s_{w}^{5}}{10} & 0 & 0\\\\- \\frac{a_{w} c^{2} e s_{w}^{4}}{8} & - \\frac{M_{\\dot{\\alpha}} c^{3} s_{w}^{3}}{24} & 0\\\\0 & 0 & 0\\end{matrix}\\right]$"
      ],
      "text/plain": [
       "⎡           5                     ⎤\n",
       "⎢  a_w⋅c⋅s_w                      ⎥\n",
       "⎢  ──────────           0        0⎥\n",
       "⎢      10                         ⎥\n",
       "⎢                                 ⎥\n",
       "⎢      2      4         3    3    ⎥\n",
       "⎢-a_w⋅c ⋅e⋅s_w    -M_α̇⋅c ⋅s_w     ⎥\n",
       "⎢───────────────  ─────────────  0⎥\n",
       "⎢       8               24        ⎥\n",
       "⎢                                 ⎥\n",
       "⎣       0               0        0⎦"
      ]
     },
     "execution_count": 9,
     "metadata": {},
     "output_type": "execute_result"
    }
   ],
   "source": [
    "# Damping Matrix, divide by M_t as this is outside the matrix above\n",
    "(-sModel.B.subs(p.s_t,0))/(p.rho*p.V)"
   ]
  },
  {
   "cell_type": "code",
   "execution_count": 10,
   "metadata": {},
   "outputs": [
    {
     "data": {
      "text/latex": [
       "$\\displaystyle \\left[\\begin{matrix}\\frac{c s_{w}^{5}}{5} & \\frac{c s_{w}^{4} \\left(c - 2 x_{f}\\right)}{8} & 0\\\\\\frac{c s_{w}^{4} \\left(c - 2 x_{f}\\right)}{8} & \\frac{c s_{w}^{3} \\left(c^{2} - 3 c x_{f} + 3 x_{f}^{2}\\right)}{9} & 0\\\\0 & 0 & 0\\end{matrix}\\right]$"
      ],
      "text/plain": [
       "⎡           5                   4                     ⎤\n",
       "⎢      c⋅s_w               c⋅s_w ⋅(c - 2⋅x_f)         ⎥\n",
       "⎢      ──────              ──────────────────        0⎥\n",
       "⎢        5                         8                  ⎥\n",
       "⎢                                                     ⎥\n",
       "⎢     4                   3 ⎛ 2                  2⎞   ⎥\n",
       "⎢c⋅s_w ⋅(c - 2⋅x_f)  c⋅s_w ⋅⎝c  - 3⋅c⋅x_f + 3⋅x_f ⎠   ⎥\n",
       "⎢──────────────────  ──────────────────────────────  0⎥\n",
       "⎢        8                         9                  ⎥\n",
       "⎢                                                     ⎥\n",
       "⎣        0                         0                 0⎦"
      ]
     },
     "execution_count": 10,
     "metadata": {},
     "output_type": "execute_result"
    }
   ],
   "source": [
    "# Mass Matrix, divide by rho*V as this is outside the matrix above\n",
    "sym.simplify((sModel.M/p.m_w).subs(p.s_t,0))"
   ]
  },
  {
   "cell_type": "code",
   "execution_count": 11,
   "metadata": {},
   "outputs": [
    {
     "data": {
      "text/latex": [
       "$\\displaystyle \\left[\\begin{matrix}0 & \\frac{a_{w} c s_{w}^{4}}{8} & 0\\\\0 & - \\frac{a_{w} c^{2} e s_{w}^{3}}{6} & 0\\\\0 & 0 & 0\\end{matrix}\\right]$"
      ],
      "text/plain": [
       "⎡              4      ⎤\n",
       "⎢     a_w⋅c⋅s_w       ⎥\n",
       "⎢0    ──────────     0⎥\n",
       "⎢         8           ⎥\n",
       "⎢                     ⎥\n",
       "⎢         2      3    ⎥\n",
       "⎢   -a_w⋅c ⋅e⋅s_w     ⎥\n",
       "⎢0  ───────────────  0⎥\n",
       "⎢          6          ⎥\n",
       "⎢                     ⎥\n",
       "⎣0         0         0⎦"
      ]
     },
     "execution_count": 11,
     "metadata": {},
     "output_type": "execute_result"
    }
   ],
   "source": [
    "# Aero Stiffness Matrix, divide by rho*V^2 as this is outside the matrix above\n",
    "(-sModel.C.subs(p.s_t,0))/(p.rho*p.V**2)"
   ]
  },
  {
   "cell_type": "code",
   "execution_count": 12,
   "metadata": {},
   "outputs": [
    {
     "data": {
      "text/latex": [
       "$\\displaystyle \\left[\\begin{matrix}4 EI s_{w} & 0 & 0\\\\0 & GJ s_{w} & 0\\\\0 & 0 & 0\\end{matrix}\\right]$"
      ],
      "text/plain": [
       "⎡4⋅EI⋅s_w    0     0⎤\n",
       "⎢                   ⎥\n",
       "⎢   0      GJ⋅s_w  0⎥\n",
       "⎢                   ⎥\n",
       "⎣   0        0     0⎦"
      ]
     },
     "execution_count": 12,
     "metadata": {},
     "output_type": "execute_result"
    }
   ],
   "source": [
    "# Structural Stiffness Matrix\n",
    "(sModel.K.subs({p.s_t:0, p.k_theta:0}))"
   ]
  },
  {
   "cell_type": "markdown",
   "metadata": {},
   "source": [
    "Inspection shows all of these matrices are the same as that from the book with the exception of the aero samping matrix (bottum left reads a_w^4*s in the book which is a mistake as no mechanism in the maths coan really raise a_w to the power of anything)"
   ]
  },
  {
   "cell_type": "markdown",
   "metadata": {},
   "source": [
    "## Test a couple of Numeric Models\n",
    "\n",
    "### Compare Frequency values for a SDoF system\n",
    "\n",
    "with Jonathan's book, in section 3.2.1, a model is built of a continous wing with a single assumed shape:\n",
    "\n",
    "$z(y, t)=\\psi(y) q(t)=\\left(\\frac{y}{s}\\right)^{2} q(t)$\n",
    "\n",
    "The natural frequency of this system is found to be $\\omega=4.47 \\sqrt{\\frac{E I}{\\mu s^{4}}}$ and the exact answer is shown as $\\omega=3.516 \\sqrt{\\frac{E I}{\\mu s^{4}}}$\n",
    "\n",
    "#### Compare model with the answer for one assumed shape in bending"
   ]
  },
  {
   "cell_type": "code",
   "execution_count": null,
   "metadata": {},
   "outputs": [],
   "source": [
    "# create generalised coordinates\n",
    "q0,q1 = me.dynamicsymbols('q:2') # Model re\n",
    "q = sym.Matrix([q0,q1])\n",
    "\n",
    "# create instance of Fwt parameters\n",
    "p = AssumedShape.FwtParameters()\n",
    "\n",
    "# define shape Functions\n",
    "z_w = q0*y**2\n",
    "alpha_w = sym.Rational(0,1)\n",
    "z_t = z_w.subs(y,p.s_w) + q1*(y)\n",
    "alpha_t = alpha_w.subs(y,p.s_w) + q1*sym.sin(p.Lambda)\n",
    "\n",
    "# create the model\n",
    "sModel = AssumedShape.SymbolicModel(q,z_w,alpha_w,z_t,alpha_t,p)\n",
    "sModel.GenerateEoM()"
   ]
  },
  {
   "cell_type": "markdown",
   "metadata": {},
   "source": [
    "### Use to estimate frequencies of the WTT's\n",
    "\n",
    "Will use parameter from the wing used in the WTT's in December, it had a span of 1.345m and the structural properties close match those of the steel beam at its quarter-cord (5mm x 30mm cross section). Assume a uniform mass distrobution and a total weight of 2.75Kg. (the FWT took up 29% of the wetted area, but for now we are modelling as a continous beam)"
   ]
  },
  {
   "cell_type": "code",
   "execution_count": 7,
   "metadata": {},
   "outputs": [],
   "source": [
    "semiSpan = 1.345  # semi-span of the wing\n",
    "ratioFwt = 0   # ratio of the wing semi span that is fwt\n",
    "wingMass = 2.75   # mass of entire semi-span wing\n",
    "chord = 0.15\n",
    "\n",
    "mu = wingMass/(chord*semiSpan) # mass density of the wing"
   ]
  },
  {
   "cell_type": "code",
   "execution_count": 8,
   "metadata": {},
   "outputs": [],
   "source": [
    "# modeling the structural properties off a rectangular bar\n",
    "\n",
    "# with width b and hieght h\n",
    "h = 0.005 # hieght of bar\n",
    "b = 0.03 # width of bar\n",
    "I_xx = b*h**3/12\n",
    "I_yy = b**3*h/12\n",
    "J = I_xx + I_yy\n",
    "\n",
    "# Material properties\n",
    "E = 190e9\n",
    "G = 74e9"
   ]
  },
  {
   "cell_type": "code",
   "execution_count": 9,
   "metadata": {},
   "outputs": [],
   "source": [
    "# create an instance of the class holding all the properties for the FWT\n",
    "p = aShape.FwtParameters(m_w = mu,\n",
    "                        m_t = mu,\n",
    "                        x_f = 0.25,\n",
    "                        s_w = semiSpan*(1-ratioFwt),\n",
    "                        s_t = semiSpan*ratioFwt,\n",
    "                        c = chord,\n",
    "                        Lambda = np.deg2rad(10),\n",
    "                        EI = E*I_xx,\n",
    "                        GJ = G*J,\n",
    "                        k_theta = 0,\n",
    "                        rho = 1.225,\n",
    "                        V = 10,\n",
    "                        a_w = 2*np.pi,\n",
    "                        a_t = 2*np.pi,\n",
    "                        alpha_0 = 0,\n",
    "                        e = 0.25,\n",
    "                        Malphadot = -1.2,\n",
    "                        g = 9.81)"
   ]
  },
  {
   "cell_type": "code",
   "execution_count": 10,
   "metadata": {},
   "outputs": [],
   "source": [
    "# create the numeric model from the symbolic model\n",
    "nModel = sModel.createNumericInstance(p)"
   ]
  },
  {
   "cell_type": "code",
   "execution_count": 11,
   "metadata": {},
   "outputs": [
    {
     "data": {
      "image/png": "[encoded data removed]",
      "text/latex": [
       "$\\displaystyle 1150.8156249999997$"
      ],
      "text/plain": [
       "1150.8156249999997"
      ]
     },
     "execution_count": 11,
     "metadata": {},
     "output_type": "execute_result"
    }
   ],
   "source": [
    "(I_xx+I_yy)*G*1.345"
   ]
  },
  {
   "cell_type": "code",
   "execution_count": 12,
   "metadata": {},
   "outputs": [
    {
     "data": {
      "text/plain": [
       "array([[0.55, 0.  , 0.  ],\n",
       "       [0.  , 0.  , 0.  ],\n",
       "       [0.  , 0.  , 0.  ]])"
      ]
     },
     "execution_count": 12,
     "metadata": {},
     "output_type": "execute_result"
    }
   ],
   "source": [
    "nModel.M"
   ]
  },
  {
   "cell_type": "code",
   "execution_count": 13,
   "metadata": {},
   "outputs": [
    {
     "data": {
      "text/latex": [
       "$\\displaystyle \\left[\\begin{matrix}\\frac{c m_{w} s_{w}}{5} & 0 & 0\\\\0 & 0 & 0\\\\0 & 0 & 0\\end{matrix}\\right]$"
      ],
      "text/plain": [
       "⎡c⋅m_w⋅s_w      ⎤\n",
       "⎢─────────  0  0⎥\n",
       "⎢    5          ⎥\n",
       "⎢               ⎥\n",
       "⎢    0      0  0⎥\n",
       "⎢               ⎥\n",
       "⎣    0      0  0⎦"
      ]
     },
     "execution_count": 13,
     "metadata": {},
     "output_type": "execute_result"
    }
   ],
   "source": [
    "sModel.M.subs(sModel._s_t,0)"
   ]
  },
  {
   "cell_type": "code",
   "execution_count": 14,
   "metadata": {},
   "outputs": [
    {
     "data": {
      "image/png": "[encoded data removed]",
      "text/latex": [
       "$\\displaystyle 1.7999142978437501$"
      ],
      "text/plain": [
       "1.7999142978437501"
      ]
     },
     "execution_count": 14,
     "metadata": {},
     "output_type": "execute_result"
    }
   ],
   "source": [
    "p.c*p.s_w**4*(p.m_w*p.s_w)/5"
   ]
  },
  {
   "cell_type": "code",
   "execution_count": 15,
   "metadata": {},
   "outputs": [],
   "source": [
    "vals,vecs = aShape.eig(nModel.K,nModel.M)"
   ]
  },
  {
   "cell_type": "code",
   "execution_count": 16,
   "metadata": {},
   "outputs": [],
   "source": [
    "omega = np.sqrt(vals,where = ~np.isnan(vals))"
   ]
  },
  {
   "cell_type": "code",
   "execution_count": 17,
   "metadata": {},
   "outputs": [
    {
     "data": {
      "text/plain": [
       "array([13.32192658+0.j,  0.        +0.j,  0.        +0.j])"
      ]
     },
     "execution_count": 17,
     "metadata": {},
     "output_type": "execute_result"
    }
   ],
   "source": [
    "omega"
   ]
  },
  {
   "cell_type": "code",
   "execution_count": 18,
   "metadata": {},
   "outputs": [
    {
     "data": {
      "image/png": "[encoded data removed]",
      "text/latex": [
       "$\\displaystyle 13.315563837171194$"
      ],
      "text/plain": [
       "13.315563837171194"
      ]
     },
     "execution_count": 18,
     "metadata": {},
     "output_type": "execute_result"
    }
   ],
   "source": [
    "4.47*np.sqrt(E*I_xx/(wingMass*semiSpan**3))"
   ]
  },
  {
   "cell_type": "code",
   "execution_count": null,
   "metadata": {},
   "outputs": [],
   "source": []
  }
 ],
 "metadata": {
  "kernelspec": {
   "display_name": "Python 3.7.6 64-bit ('base': conda)",
   "language": "python",
   "name": "python37664bitbasecondac656017b161743c29c94367edc1c83c4"
  },
  "language_info": {
   "codemirror_mode": {
    "name": "ipython",
    "version": 3
   },
   "file_extension": ".py",
   "mimetype": "text/x-python",
   "name": "python",
   "nbconvert_exporter": "python",
   "pygments_lexer": "ipython3",
   "version": "3.7.6"
  }
 },
 "nbformat": 4,
 "nbformat_minor": 2
}
