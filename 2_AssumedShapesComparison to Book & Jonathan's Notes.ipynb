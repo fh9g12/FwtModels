{
 "cells": [
  {
   "cell_type": "markdown",
   "metadata": {},
   "source": [
    "# Comparison To Matricies from Jonathans Book / Notes ( Continous Beam )\n",
    "\n",
    "Firstly we will compare the symbolic matricies with those created by Jonathan\n",
    "\n",
    "## Preamble"
   ]
  },
  {
   "cell_type": "code",
   "execution_count": 121,
   "metadata": {},
   "outputs": [],
   "source": [
    "from FwtModels import AssumedShapes\n",
    "import numpy as np\n",
    "import sympy as sym\n",
    "import sympy.physics.mechanics as me\n",
    "from sympy.abc import y,x,t\n",
    "import pandas as pd\n",
    "from IPython.display import display, Latex"
   ]
  },
  {
   "cell_type": "markdown",
   "metadata": {},
   "source": [
    "## 1 Bending and 1 Torsion\n",
    "\n",
    "Within Jonathans book (section 11.6) the following equation is 'derived' for a rectangluar wing with one mode in both bending and torsion\n",
    "\n",
    "$m\\left[\\begin{array}{cc}{\\frac{c s^{5}}{5}} & {\\frac{s^{4}}{4}\\left(\\frac{c^{2}}{2}-c x_{\\mathrm{f}}\\right)} \\\\ {\\frac{s^{4}}{4}\\left(\\frac{c^{2}}{2}-c x_{\\mathrm{f}}\\right)} & {\\frac{s^{3}}{3}\\left(\\frac{c^{3}}{3}-c^{2} x_{\\mathrm{f}}+c x_{\\mathrm{f}}^{2}\\right)}\\end{array}\\right]\\left\\{\\begin{array}{c}{\\dot{q}_{1}} \\\\ {\\ddot{q}_{2}}\\end{array}\\right\\}+\\rho V\\left[\\begin{array}{cc}{\\frac{c a_{\\mathrm{WS}} 5}{10}} & {0} \\\\ {-\\frac{c^{2} e a_{\\mathrm{WS}}^{4}}{8}} & {-\\frac{c^{3} s^{3} M_{\\theta}}{24}}\\end{array}\\right]\\left\\{\\begin{array}{c}{\\dot{q}_{1}} \\\\ {\\dot{q}_{2}}\\end{array}\\right\\}+\\left(\\rho V^{2}\\left[\\begin{array}{cc}{0} & {\\frac{c s^{4} a_{\\mathrm{W}}}{8}} \\\\ {0} & {-\\frac{e c^{2} s^{3} a_{W}}{6}}\\end{array}\\right]+\\left[\\begin{array}{cc}{4 E I s} & {0} \\\\ {0} & {G J s}\\end{array}\\right]\\right)\\left\\{\\begin{array}{l}{q_{1}} \\\\ {q_{2}}\\end{array}\\right\\}=\\left\\{\\begin{array}{l}{0} \\\\ {0}\\end{array}\\right\\}$\n",
    "\n",
    "Which is the explict version of this equation\n",
    "\n",
    "$A \\ddot{q}+(\\rho v \\mathbf{B}+\\mathbf{D}) \\dot{q}+\\left(\\rho v^{2} \\mathbf{C}+\\mathbf{E}\\right) \\boldsymbol{q}=0$\n",
    "\n",
    "This is slightly different to I I have formulated the equations as my equation was\n",
    "\n",
    "$\\mathbf{A} \\ddot{q}+\\mathbf{K} q=\\mathbf{B} \\dot{q} + \\mathbf{C} \\dot{q}$\n",
    "\n",
    "Which leads to:\n",
    "\n",
    "$\\mathbf{A} \\ddot{q} - \\mathbf{B} \\dot{q}  +(\\mathbf{K}-\\mathbf{C}) q=0$\n",
    "\n",
    "This section will aim to recreate each of these equations from my generalised model by setting the FWTD's size to 0\n",
    "\n",
    "First, need to generate a symbolic model for the generalised case"
   ]
  },
  {
   "cell_type": "code",
   "execution_count": 141,
   "metadata": {},
   "outputs": [],
   "source": [
    "# create generalised coordinates\n",
    "q0,q1 = me.dynamicsymbols('q:2')\n",
    "q = sym.Matrix([q0,q1])\n",
    "\n",
    "# create instance of Fwt parameters\n",
    "p = AssumedShapes.FwtParameters()\n",
    "\n",
    "# define shape Functions\n",
    "z_w = q0*y**2 + q1*(x-p.x_f)*y\n",
    "alpha_w = q1 * y\n",
    "z_t = z_w.subs(y,p.s_w)\n",
    "alpha_t = alpha_w.subs(y,p.s_w)\n",
    "\n",
    "# create the model\n",
    "sModel = AssumedShapes.SymbolicModel(q,z_w,alpha_w,z_t,alpha_t,p)\n",
    "sModel.GenerateEoM()"
   ]
  },
  {
   "cell_type": "code",
   "execution_count": 148,
   "metadata": {},
   "outputs": [
    {
     "data": {
      "text/latex": [
       "$\\displaystyle \\left[ \\left( \\frac{32 \\left(20 EI c^{2} - 60 EI c x_{f} + 60 EI x_{f}^{2} + 9 GJ s_{w}^{2}\\right)}{c m_{w} s_{w}^{4} \\left(19 c^{2} - 12 c x_{f} + 12 x_{f}^{2}\\right)} - \\frac{16 \\sqrt{1600 EI^{2} c^{4} - 9600 EI^{2} c^{3} x_{f} + 24000 EI^{2} c^{2} x_{f}^{2} - 28800 EI^{2} c x_{f}^{3} + 14400 EI^{2} x_{f}^{4} + 585 EI GJ c^{2} s_{w}^{2} - 3780 EI GJ c s_{w}^{2} x_{f} + 3780 EI GJ s_{w}^{2} x_{f}^{2} + 324 GJ^{2} s_{w}^{4}}}{c m_{w} s_{w}^{4} \\left(19 c^{2} - 12 c x_{f} + 12 x_{f}^{2}\\right)}, \\  1, \\  \\left[ \\left[\\begin{matrix}- \\frac{360 GJ m_{w} \\left(c - 2 x_{f}\\right)}{c s_{w} \\left(45 m_{w}^{2} s_{w}^{2} \\left(c - 2 x_{f}\\right)^{2} - 64 m_{w}^{2} s_{w}^{2} \\left(c^{2} - 3 c x_{f} + 3 x_{f}^{2}\\right)\\right) \\left(- \\frac{1280 EI m_{w} \\left(c^{2} - 3 c x_{f} + 3 x_{f}^{2}\\right)}{c s_{w}^{2} \\left(45 m_{w}^{2} s_{w}^{2} \\left(c - 2 x_{f}\\right)^{2} - 64 m_{w}^{2} s_{w}^{2} \\left(c^{2} - 3 c x_{f} + 3 x_{f}^{2}\\right)\\right)} - \\frac{32 \\left(20 EI c^{2} - 60 EI c x_{f} + 60 EI x_{f}^{2} + 9 GJ s_{w}^{2}\\right)}{c m_{w} s_{w}^{4} \\left(19 c^{2} - 12 c x_{f} + 12 x_{f}^{2}\\right)} + \\frac{16 \\sqrt{1600 EI^{2} c^{4} - 9600 EI^{2} c^{3} x_{f} + 24000 EI^{2} c^{2} x_{f}^{2} - 28800 EI^{2} c x_{f}^{3} + 14400 EI^{2} x_{f}^{4} + 585 EI GJ c^{2} s_{w}^{2} - 3780 EI GJ c s_{w}^{2} x_{f} + 3780 EI GJ s_{w}^{2} x_{f}^{2} + 324 GJ^{2} s_{w}^{4}}}{c m_{w} s_{w}^{4} \\left(19 c^{2} - 12 c x_{f} + 12 x_{f}^{2}\\right)}\\right)}\\\\1\\end{matrix}\\right]\\right]\\right), \\  \\left( \\frac{32 \\left(20 EI c^{2} - 60 EI c x_{f} + 60 EI x_{f}^{2} + 9 GJ s_{w}^{2}\\right)}{c m_{w} s_{w}^{4} \\left(19 c^{2} - 12 c x_{f} + 12 x_{f}^{2}\\right)} + \\frac{16 \\sqrt{1600 EI^{2} c^{4} - 9600 EI^{2} c^{3} x_{f} + 24000 EI^{2} c^{2} x_{f}^{2} - 28800 EI^{2} c x_{f}^{3} + 14400 EI^{2} x_{f}^{4} + 585 EI GJ c^{2} s_{w}^{2} - 3780 EI GJ c s_{w}^{2} x_{f} + 3780 EI GJ s_{w}^{2} x_{f}^{2} + 324 GJ^{2} s_{w}^{4}}}{c m_{w} s_{w}^{4} \\left(19 c^{2} - 12 c x_{f} + 12 x_{f}^{2}\\right)}, \\  1, \\  \\left[ \\left[\\begin{matrix}- \\frac{360 GJ m_{w} \\left(c - 2 x_{f}\\right)}{c s_{w} \\left(45 m_{w}^{2} s_{w}^{2} \\left(c - 2 x_{f}\\right)^{2} - 64 m_{w}^{2} s_{w}^{2} \\left(c^{2} - 3 c x_{f} + 3 x_{f}^{2}\\right)\\right) \\left(- \\frac{1280 EI m_{w} \\left(c^{2} - 3 c x_{f} + 3 x_{f}^{2}\\right)}{c s_{w}^{2} \\left(45 m_{w}^{2} s_{w}^{2} \\left(c - 2 x_{f}\\right)^{2} - 64 m_{w}^{2} s_{w}^{2} \\left(c^{2} - 3 c x_{f} + 3 x_{f}^{2}\\right)\\right)} - \\frac{32 \\left(20 EI c^{2} - 60 EI c x_{f} + 60 EI x_{f}^{2} + 9 GJ s_{w}^{2}\\right)}{c m_{w} s_{w}^{4} \\left(19 c^{2} - 12 c x_{f} + 12 x_{f}^{2}\\right)} - \\frac{16 \\sqrt{1600 EI^{2} c^{4} - 9600 EI^{2} c^{3} x_{f} + 24000 EI^{2} c^{2} x_{f}^{2} - 28800 EI^{2} c x_{f}^{3} + 14400 EI^{2} x_{f}^{4} + 585 EI GJ c^{2} s_{w}^{2} - 3780 EI GJ c s_{w}^{2} x_{f} + 3780 EI GJ s_{w}^{2} x_{f}^{2} + 324 GJ^{2} s_{w}^{4}}}{c m_{w} s_{w}^{4} \\left(19 c^{2} - 12 c x_{f} + 12 x_{f}^{2}\\right)}\\right)}\\\\1\\end{matrix}\\right]\\right]\\right)\\right]$"
      ],
      "text/plain": [
       "⎡⎛                                                                            \n",
       "⎢⎜                                                                            \n",
       "⎢⎜                                                             _______________\n",
       "⎢⎜   ⎛       2                          2           2⎞        ╱        2  4   \n",
       "⎢⎜32⋅⎝20⋅EI⋅c  - 60⋅EI⋅c⋅x_f + 60⋅EI⋅x_f  + 9⋅GJ⋅s_w ⎠   16⋅╲╱  1600⋅EI ⋅c  - \n",
       "⎢⎜──────────────────────────────────────────────────── - ─────────────────────\n",
       "⎢⎜               4 ⎛    2                    2⎞                               \n",
       "⎢⎜      c⋅m_w⋅s_w ⋅⎝19⋅c  - 12⋅c⋅x_f + 12⋅x_f ⎠                               \n",
       "⎢⎜                                                                            \n",
       "⎣⎝                                                                            \n",
       "\n",
       "                                                                              \n",
       "                                                                              \n",
       "______________________________________________________________________________\n",
       "       2  3               2  2    2           2      3           2    4       \n",
       "9600⋅EI ⋅c ⋅x_f + 24000⋅EI ⋅c ⋅x_f  - 28800⋅EI ⋅c⋅x_f  + 14400⋅EI ⋅x_f  + 585⋅\n",
       "──────────────────────────────────────────────────────────────────────────────\n",
       "                                                        4 ⎛    2              \n",
       "                                               c⋅m_w⋅s_w ⋅⎝19⋅c  - 12⋅c⋅x_f + \n",
       "                                                                              \n",
       "                                                                              \n",
       "\n",
       "                                                                              \n",
       "                                                                              \n",
       "____________________________________________________________________________  \n",
       "       2    2                   2                     2    2         2    4   \n",
       "EI⋅GJ⋅c ⋅s_w  - 3780⋅EI⋅GJ⋅c⋅s_w ⋅x_f + 3780⋅EI⋅GJ⋅s_w ⋅x_f  + 324⋅GJ ⋅s_w    \n",
       "────────────────────────────────────────────────────────────────────────────, \n",
       "      2⎞                                                                      \n",
       "12⋅x_f ⎠                                                                      \n",
       "                                                                              \n",
       "                                                                              \n",
       "\n",
       "   ⎡⎡                                                                         \n",
       "   ⎢⎢─────────────────────────────────────────────────────────────────────────\n",
       "   ⎢⎢                                                                         \n",
       "   ⎢⎢                                                                         \n",
       "   ⎢⎢      ⎛      2    2            2         2    2 ⎛ 2                  2⎞⎞ \n",
       "1, ⎢⎢c⋅s_w⋅⎝45⋅m_w ⋅s_w ⋅(c - 2⋅x_f)  - 64⋅m_w ⋅s_w ⋅⎝c  - 3⋅c⋅x_f + 3⋅x_f ⎠⎠⋅\n",
       "   ⎢⎢                                                                         \n",
       "   ⎢⎢                                                                         \n",
       "   ⎢⎢                                                                         \n",
       "   ⎣⎣                                                                         \n",
       "\n",
       "                                                                              \n",
       "──────────────────────────────────────────────────────────────────────────────\n",
       "⎛                                                                             \n",
       "⎜                                 ⎛ 2                  2⎞                     \n",
       "⎜                     1280⋅EI⋅m_w⋅⎝c  - 3⋅c⋅x_f + 3⋅x_f ⎠                     \n",
       "⎜- ───────────────────────────────────────────────────────────────────────── -\n",
       "⎜       2 ⎛      2    2            2         2    2 ⎛ 2                  2⎞⎞  \n",
       "⎝  c⋅s_w ⋅⎝45⋅m_w ⋅s_w ⋅(c - 2⋅x_f)  - 64⋅m_w ⋅s_w ⋅⎝c  - 3⋅c⋅x_f + 3⋅x_f ⎠⎠  \n",
       "                                                                              \n",
       "                                                                              \n",
       "\n",
       "                             -360⋅GJ⋅m_w⋅(c - 2⋅x_f)                          \n",
       "──────────────────────────────────────────────────────────────────────────────\n",
       "                                                              ________________\n",
       "    ⎛       2                          2           2⎞        ╱        2  4    \n",
       " 32⋅⎝20⋅EI⋅c  - 60⋅EI⋅c⋅x_f + 60⋅EI⋅x_f  + 9⋅GJ⋅s_w ⎠   16⋅╲╱  1600⋅EI ⋅c  - 9\n",
       " ──────────────────────────────────────────────────── + ──────────────────────\n",
       "                4 ⎛    2                    2⎞                                \n",
       "       c⋅m_w⋅s_w ⋅⎝19⋅c  - 12⋅c⋅x_f + 12⋅x_f ⎠                                \n",
       "                                                                              \n",
       "                                        1                                     \n",
       "\n",
       "                                                                              \n",
       "──────────────────────────────────────────────────────────────────────────────\n",
       "______________________________________________________________________________\n",
       "      2  3               2  2    2           2      3           2    4        \n",
       "600⋅EI ⋅c ⋅x_f + 24000⋅EI ⋅c ⋅x_f  - 28800⋅EI ⋅c⋅x_f  + 14400⋅EI ⋅x_f  + 585⋅E\n",
       "──────────────────────────────────────────────────────────────────────────────\n",
       "                                                       4 ⎛    2               \n",
       "                                              c⋅m_w⋅s_w ⋅⎝19⋅c  - 12⋅c⋅x_f + 1\n",
       "                                                                              \n",
       "                                                                              \n",
       "\n",
       "                                                                            ⎤⎤\n",
       "────────────────────────────────────────────────────────────────────────────⎥⎥\n",
       "___________________________________________________________________________⎞⎥⎥\n",
       "      2    2                   2                     2    2         2    4 ⎟⎥⎥\n",
       "I⋅GJ⋅c ⋅s_w  - 3780⋅EI⋅GJ⋅c⋅s_w ⋅x_f + 3780⋅EI⋅GJ⋅s_w ⋅x_f  + 324⋅GJ ⋅s_w  ⎟⎥⎥\n",
       "───────────────────────────────────────────────────────────────────────────⎟⎥⎥\n",
       "     2⎞                                                                    ⎟⎥⎥\n",
       "2⋅x_f ⎠                                                                    ⎠⎥⎥\n",
       "                                                                            ⎥⎥\n",
       "                                                                            ⎦⎦\n",
       "\n",
       "⎞  ⎛                                                                          \n",
       "⎟  ⎜                                                                          \n",
       "⎟  ⎜                                                             _____________\n",
       "⎟  ⎜   ⎛       2                          2           2⎞        ╱        2  4 \n",
       "⎟  ⎜32⋅⎝20⋅EI⋅c  - 60⋅EI⋅c⋅x_f + 60⋅EI⋅x_f  + 9⋅GJ⋅s_w ⎠   16⋅╲╱  1600⋅EI ⋅c  \n",
       "⎟, ⎜──────────────────────────────────────────────────── + ───────────────────\n",
       "⎟  ⎜               4 ⎛    2                    2⎞                             \n",
       "⎟  ⎜      c⋅m_w⋅s_w ⋅⎝19⋅c  - 12⋅c⋅x_f + 12⋅x_f ⎠                             \n",
       "⎟  ⎜                                                                          \n",
       "⎠  ⎝                                                                          \n",
       "\n",
       "                                                                              \n",
       "                                                                              \n",
       "______________________________________________________________________________\n",
       "         2  3               2  2    2           2      3           2    4     \n",
       "- 9600⋅EI ⋅c ⋅x_f + 24000⋅EI ⋅c ⋅x_f  - 28800⋅EI ⋅c⋅x_f  + 14400⋅EI ⋅x_f  + 58\n",
       "──────────────────────────────────────────────────────────────────────────────\n",
       "                                                          4 ⎛    2            \n",
       "                                                 c⋅m_w⋅s_w ⋅⎝19⋅c  - 12⋅c⋅x_f \n",
       "                                                                              \n",
       "                                                                              \n",
       "\n",
       "                                                                              \n",
       "                                                                              \n",
       "______________________________________________________________________________\n",
       "         2    2                   2                     2    2         2    4 \n",
       "5⋅EI⋅GJ⋅c ⋅s_w  - 3780⋅EI⋅GJ⋅c⋅s_w ⋅x_f + 3780⋅EI⋅GJ⋅s_w ⋅x_f  + 324⋅GJ ⋅s_w  \n",
       "──────────────────────────────────────────────────────────────────────────────\n",
       "        2⎞                                                                    \n",
       "+ 12⋅x_f ⎠                                                                    \n",
       "                                                                              \n",
       "                                                                              \n",
       "\n",
       "     ⎡⎡                                                                       \n",
       "     ⎢⎢───────────────────────────────────────────────────────────────────────\n",
       "     ⎢⎢                                                                       \n",
       "     ⎢⎢                                                                       \n",
       "     ⎢⎢      ⎛      2    2            2         2    2 ⎛ 2                  2⎞\n",
       ", 1, ⎢⎢c⋅s_w⋅⎝45⋅m_w ⋅s_w ⋅(c - 2⋅x_f)  - 64⋅m_w ⋅s_w ⋅⎝c  - 3⋅c⋅x_f + 3⋅x_f ⎠\n",
       "     ⎢⎢                                                                       \n",
       "     ⎢⎢                                                                       \n",
       "     ⎢⎢                                                                       \n",
       "     ⎣⎣                                                                       \n",
       "\n",
       "                                                                              \n",
       "──────────────────────────────────────────────────────────────────────────────\n",
       "  ⎛                                                                           \n",
       "  ⎜                                 ⎛ 2                  2⎞                   \n",
       "⎞ ⎜                     1280⋅EI⋅m_w⋅⎝c  - 3⋅c⋅x_f + 3⋅x_f ⎠                   \n",
       "⎠⋅⎜- ─────────────────────────────────────────────────────────────────────────\n",
       "  ⎜       2 ⎛      2    2            2         2    2 ⎛ 2                  2⎞⎞\n",
       "  ⎝  c⋅s_w ⋅⎝45⋅m_w ⋅s_w ⋅(c - 2⋅x_f)  - 64⋅m_w ⋅s_w ⋅⎝c  - 3⋅c⋅x_f + 3⋅x_f ⎠⎠\n",
       "                                                                              \n",
       "                                                                              \n",
       "\n",
       "                               -360⋅GJ⋅m_w⋅(c - 2⋅x_f)                        \n",
       "──────────────────────────────────────────────────────────────────────────────\n",
       "                                                                ______________\n",
       "      ⎛       2                          2           2⎞        ╱        2  4  \n",
       "   32⋅⎝20⋅EI⋅c  - 60⋅EI⋅c⋅x_f + 60⋅EI⋅x_f  + 9⋅GJ⋅s_w ⎠   16⋅╲╱  1600⋅EI ⋅c  -\n",
       " - ──────────────────────────────────────────────────── - ────────────────────\n",
       "                  4 ⎛    2                    2⎞                              \n",
       "         c⋅m_w⋅s_w ⋅⎝19⋅c  - 12⋅c⋅x_f + 12⋅x_f ⎠                              \n",
       "                                                                              \n",
       "                                          1                                   \n",
       "\n",
       "                                                                              \n",
       "──────────────────────────────────────────────────────────────────────────────\n",
       "______________________________________________________________________________\n",
       "        2  3               2  2    2           2      3           2    4      \n",
       " 9600⋅EI ⋅c ⋅x_f + 24000⋅EI ⋅c ⋅x_f  - 28800⋅EI ⋅c⋅x_f  + 14400⋅EI ⋅x_f  + 585\n",
       "──────────────────────────────────────────────────────────────────────────────\n",
       "                                                         4 ⎛    2             \n",
       "                                                c⋅m_w⋅s_w ⋅⎝19⋅c  - 12⋅c⋅x_f +\n",
       "                                                                              \n",
       "                                                                              \n",
       "\n",
       "                                                                              \n",
       "──────────────────────────────────────────────────────────────────────────────\n",
       "_____________________________________________________________________________⎞\n",
       "        2    2                   2                     2    2         2    4 ⎟\n",
       "⋅EI⋅GJ⋅c ⋅s_w  - 3780⋅EI⋅GJ⋅c⋅s_w ⋅x_f + 3780⋅EI⋅GJ⋅s_w ⋅x_f  + 324⋅GJ ⋅s_w  ⎟\n",
       "─────────────────────────────────────────────────────────────────────────────⎟\n",
       "       2⎞                                                                    ⎟\n",
       " 12⋅x_f ⎠                                                                    ⎠\n",
       "                                                                              \n",
       "                                                                              \n",
       "\n",
       "⎤⎤⎞⎤\n",
       "⎥⎥⎟⎥\n",
       "⎥⎥⎟⎥\n",
       "⎥⎥⎟⎥\n",
       "⎥⎥⎟⎥\n",
       "⎥⎥⎟⎥\n",
       "⎥⎥⎟⎥\n",
       "⎥⎥⎟⎥\n",
       "⎥⎥⎟⎥\n",
       "⎦⎦⎠⎦"
      ]
     },
     "execution_count": 148,
     "metadata": {},
     "output_type": "execute_result"
    }
   ],
   "source": [
    "(sym.simplify(sModel.M**-1)*sModel.K).subs(p.s_t,0).eigenvects()"
   ]
  },
  {
   "cell_type": "markdown",
   "metadata": {},
   "source": [
    "for each matrix set $s_t$ to zero and print the result to compare with the original equation"
   ]
  },
  {
   "cell_type": "code",
   "execution_count": 123,
   "metadata": {},
   "outputs": [],
   "source": [
    "# Damping Matrix, divide by M_t as this is outside the matrix above\n",
    "B = sym.latex((-sModel.B.subs(p.s_t,0))/(p.rho*p.V))"
   ]
  },
  {
   "cell_type": "code",
   "execution_count": 124,
   "metadata": {},
   "outputs": [],
   "source": [
    "# Mass Matrix, divide by rho*V as this is outside the matrix above\n",
    "M = sym.latex(sym.simplify((sModel.M/p.m_w).subs(p.s_t,0)))"
   ]
  },
  {
   "cell_type": "code",
   "execution_count": 125,
   "metadata": {},
   "outputs": [],
   "source": [
    "# Aero Stiffness Matrix, divide by rho*V^2 as this is outside the matrix above\n",
    "C = sym.latex((-sModel.C.subs(p.s_t,0))/(p.rho*p.V**2))"
   ]
  },
  {
   "cell_type": "code",
   "execution_count": 126,
   "metadata": {},
   "outputs": [],
   "source": [
    "# Structural Stiffness Matrix\n",
    "K = sym.latex((sModel.K.subs({p.s_t:0, p.k_theta:0})))"
   ]
  },
  {
   "cell_type": "markdown",
   "metadata": {},
   "source": [
    "comparing against the equation above:\n",
    "\n",
    "$m\\left[\\begin{array}{cc}{\\frac{c s^{5}}{5}} & {\\frac{s^{4}}{4}\\left(\\frac{c^{2}}{2}-c x_{\\mathrm{f}}\\right)} \\\\ {\\frac{s^{4}}{4}\\left(\\frac{c^{2}}{2}-c x_{\\mathrm{f}}\\right)} & {\\frac{s^{3}}{3}\\left(\\frac{c^{3}}{3}-c^{2} x_{\\mathrm{f}}+c x_{\\mathrm{f}}^{2}\\right)}\\end{array}\\right]\\left\\{\\begin{array}{c}{\\dot{q}_{1}} \\\\ {\\ddot{q}_{2}}\\end{array}\\right\\}+\\rho V\\left[\\begin{array}{cc}{\\frac{c a_{\\mathrm{WS}} 5}{10}} & {0} \\\\ {-\\frac{c^{2} e a_{\\mathrm{WS}}^{4}}{8}} & {-\\frac{c^{3} s^{3} M_{\\theta}}{24}}\\end{array}\\right]\\left\\{\\begin{array}{c}{\\dot{q}_{1}} \\\\ {\\dot{q}_{2}}\\end{array}\\right\\}+\\left(\\rho V^{2}\\left[\\begin{array}{cc}{0} & {\\frac{c s^{4} a_{\\mathrm{W}}}{8}} \\\\ {0} & {-\\frac{e c^{2} s^{3} a_{W}}{6}}\\end{array}\\right]+\\left[\\begin{array}{cc}{4 E I s} & {0} \\\\ {0} & {G J s}\\end{array}\\right]\\right)\\left\\{\\begin{array}{l}{q_{1}} \\\\ {q_{2}}\\end{array}\\right\\}=\\left\\{\\begin{array}{l}{0} \\\\ {0}\\end{array}\\right\\}$"
   ]
  },
  {
   "cell_type": "code",
   "execution_count": 127,
   "metadata": {},
   "outputs": [
    {
     "data": {
      "text/latex": [
       "$$m\\left[\\begin{matrix}\\frac{c s_{w}^{5}}{5} & \\frac{c s_{w}^{4} \\left(c - 2 x_{f}\\right)}{8}\\\\\\frac{c s_{w}^{4} \\left(c - 2 x_{f}\\right)}{8} & \\frac{c s_{w}^{3} \\left(c^{2} - 3 c x_{f} + 3 x_{f}^{2}\\right)}{9}\\end{matrix}\\right]+\\rho V\\left[\\begin{matrix}\\frac{a_{w} c s_{w}^{5}}{10} & 0\\\\- \\frac{a_{w} c^{2} e s_{w}^{4}}{8} & - \\frac{M_{\\dot{\\alpha}} c^{3} s_{w}^{3}}{24}\\end{matrix}\\right] + \\left(\\rho V^2\\left[\\begin{matrix}0 & \\frac{a_{w} c s_{w}^{4}}{8}\\\\0 & - \\frac{a_{w} c^{2} e s_{w}^{3}}{6}\\end{matrix}\\right] + \\left[\\begin{matrix}4 EI s_{w} & 0\\\\0 & GJ s_{w}\\end{matrix}\\right] \\right)$$"
      ],
      "text/plain": [
       "<IPython.core.display.Latex object>"
      ]
     },
     "metadata": {},
     "output_type": "display_data"
    }
   ],
   "source": [
    "display(Latex(f'$$m{M}+\\\\rho V{B} + \\\\left(\\\\rho V^2{C} + {K} \\\\right)$$'))"
   ]
  },
  {
   "cell_type": "markdown",
   "metadata": {},
   "source": [
    "Inspection shows all of these matrices are the same as that from the book with the exception of the aero damping matrix (bottum left reads a_w^4*s in the book which is a mistake as no mechanism in the maths can really raise a_w to the power of anything)"
   ]
  },
  {
   "cell_type": "markdown",
   "metadata": {},
   "source": [
    "## 2 Bending and 2 Torsion\n",
    "\n",
    "Within Jonathans book (section 11.6) the following equation is 'derived' for a rectangluar wing with one mode in both bending and torsion the LHS of the equation (free-bending problem) is:\n",
    "\n",
    "$m\\left[\\begin{array}{ccc}\n",
    "{\\frac{s^{5} c}{5}} & {\\frac{s^{6} c}{6}} & {\\frac{s^{4}}{4}\\left(\\frac{c^{2}}{2}-c x_{f}\\right)} & {\\frac{s^{5}}{5}\\left(\\frac{c^{2}}{2}-c x_{f}\\right)} \\\\\n",
    "{\\frac{s^{6} c}{6}} & {\\frac{s^{7} c}{7}} & {\\frac{s^{5} c}{5}\\left(\\frac{c^{2}}{2}-c x_{i}\\right)} & {\\frac{s^{6} c}{6}\\left(\\frac{c^{2}}{2}-c x_{i}\\right)} \\\\\n",
    "{\\frac{s^{4}}{4}\\left(\\frac{c^{2}}{2}-c x_{i}\\right)} & {\\frac{s^{5}}{5}\\left(\\frac{c^{2}}{2}-c x_{i}\\right)} & {\\frac{s^{3}}{3}\\left(\\frac{c^{3}}{3}-c 2 x_{i}+c x_{i}^{2}\\right)} & {\\frac{s^{4}}{4}\\left(\\frac{c^{3}}{3}-c 2 x_{i}+c x_{i}^{2}\\right)} \\\\\n",
    "{\\frac{s^{5}}{5}\\left(\\frac{c^{2}}{2}-c x_{i}\\right)} & {\\frac{s^{6}}{6}\\left(\\frac{c^{2}}{2}-c x_{i}\\right)} & {\\frac{s^{4}}{4}\\left(\\frac{c^{3}}{3}-c 2 x_{i}+c x_{f}^{2}\\right)} & {\\frac{s^{5}}{5}\\left(\\frac{c^{3}}{3}-c 2 x_{i}+c x_{f}^{2}\\right)}\n",
    "\\end{array}\\right]\\mathbf{\\ddot{q}} + \\left[\\begin{array}{cccc}\n",
    "{4 \\mathrm{EIs}} & {6 \\mathrm{s}^{2} \\mathrm{EI}} & {0} & {0} \\\\\n",
    "{6 \\mathrm{s}^{2} \\mathrm{EI}} & {12 \\mathrm{s}^{3} \\mathrm{EI}} & {0} & {0} \\\\\n",
    "{0} & {0} & {\\mathrm{GJs}} & {\\mathrm{GJs}^{2}} \\\\\n",
    "{0} & {0} & {\\mathrm{GJs}^{2}} & {\\frac{4}{3} \\mathrm{GJs}^{3}}\n",
    "\\end{array}\\right]\\mathbf{q} = \\rho V\\left[\\begin{array}{cccc}{-\\frac{\\mathrm{ca}_{\\mathrm{w}} \\mathrm{s}^{5}}{10}} & {-\\frac{\\mathrm{ca}_{\\mathrm{w}} \\mathrm{s}^{6}}{12}} & {0} & {0} \\\\ {-\\frac{\\mathrm{ca}_{\\mathrm{w}} \\mathrm{s}^{6}}{12}} & {-\\frac{\\mathrm{ca}_{\\mathrm{w}} \\mathrm{s}^{7}}{14}} & {0} & {0} \\\\ {\\frac{\\mathrm{c}^{2} \\mathrm{ea}_{\\mathrm{w}} \\mathrm{s}^{4}}{8}} & {\\frac{\\mathrm{c}^{2} \\mathrm{ea}_{\\mathrm{c}} \\mathrm{s}^{5}}{10}} & {\\frac{\\mathrm{c}^{3} \\mathrm{M}_{6} \\mathrm{s}^{3}}{24}} & {\\frac{\\mathrm{c}^{3} \\mathrm{M}_{6} \\mathrm{s}^{4}}{32}} \\\\ {\\frac{\\mathrm{c}^{2} \\mathrm{ea}_{0}}{10}} & {\\frac{\\mathrm{c}^{2} \\mathrm{ea}_{0} \\mathrm{s}^{6}}{12}} & {\\frac{\\mathrm{c}^{3} \\mathrm{M}_{6} \\mathrm{s}^{4}}{32}} & {\\frac{\\mathrm{c}^{3} \\mathrm{M}_{6} \\mathrm{s}^{5}}{40}}\\end{array}\\right]\\mathbf{\\dot{q}} + \\rho V^{2}\\left[\\begin{array}{cccc}\n",
    "{0} & {0} & {-\\frac{\\mathrm{ca}_{\\mathrm{w}} \\mathrm{s}^{4}}{8}} & {-\\frac{\\mathrm{ca}_{\\mathrm{w}} \\mathrm{s}^{5}}{10}} \\\\\n",
    "{0} & {0} & {-\\frac{\\mathrm{ca}_{\\mathrm{w}} \\mathrm{s}^{5}}{10}} & {-\\frac{\\mathrm{ca}_{\\mathrm{w}} \\mathrm{s}^{6}}{12}} \\\\\n",
    "{0} & {0} & {\\frac{\\mathrm{c}^{2} \\mathrm{ea}_{\\mathrm{w}} \\mathrm{s}^{3}}{6}} & {\\frac{\\mathrm{c}^{2} \\mathrm{ea}_{\\mathrm{w}} \\mathrm{s}^{4}}{8}} \\\\\n",
    "{0} & {0} & {\\frac{\\mathrm{c}^{2} \\mathrm{ea}_{\\mathrm{w}} \\mathrm{s}^{4}}{8}} & {\\frac{\\mathrm{c}^{2} \\mathrm{ea}_{\\mathrm{w}} \\mathrm{s}^{5}}{10}}\n",
    "\\end{array}\\right]\\mathbf{q}$\n",
    "\n",
    "recreating this with my library\n"
   ]
  },
  {
   "cell_type": "code",
   "execution_count": 128,
   "metadata": {},
   "outputs": [],
   "source": [
    "# create generalised coordinates\n",
    "q0,q1,q2,q3 = me.dynamicsymbols('q:4')\n",
    "q = sym.Matrix([q0,q1,q2,q3])\n",
    "\n",
    "# create instance of Fwt parameters\n",
    "p = AssumedShapes.FwtParameters()\n",
    "\n",
    "# define shape Functions\n",
    "z_w = q0*y**2 + q1*y**3 + q2*(x-p.x_f)*y + q3*(x-p.x_f)*y**2\n",
    "alpha_w = q2 * y + q3*y**2\n",
    "z_t = z_w.subs(y,p.s_w)\n",
    "alpha_t = alpha_w.subs(y,p.s_w)\n",
    "\n",
    "# create the model\n",
    "sModel = AssumedShapes.SymbolicModel(q,z_w,alpha_w,z_t,alpha_t,p)\n",
    "sModel.GenerateEoM()"
   ]
  },
  {
   "cell_type": "markdown",
   "metadata": {},
   "source": [
    "for each matrix set $s_t$ to zero and print the result to compare with the original equation"
   ]
  },
  {
   "cell_type": "code",
   "execution_count": 129,
   "metadata": {},
   "outputs": [
    {
     "data": {
      "text/latex": [
       "$$m\\left[\\begin{matrix}\\frac{c s_{w}^{5}}{5} & \\frac{c s_{w}^{6}}{6} & \\frac{c s_{w}^{4} \\left(c - 2 x_{f}\\right)}{8} & \\frac{c s_{w}^{5} \\left(c - 2 x_{f}\\right)}{10}\\\\\\frac{c s_{w}^{6}}{6} & \\frac{c s_{w}^{7}}{7} & \\frac{c s_{w}^{5} \\left(c - 2 x_{f}\\right)}{10} & \\frac{c s_{w}^{6} \\left(c - 2 x_{f}\\right)}{12}\\\\\\frac{c s_{w}^{4} \\left(c - 2 x_{f}\\right)}{8} & \\frac{c s_{w}^{5} \\left(c - 2 x_{f}\\right)}{10} & \\frac{c s_{w}^{3} \\left(c^{2} - 3 c x_{f} + 3 x_{f}^{2}\\right)}{9} & \\frac{c s_{w}^{4} \\left(c^{2} - 3 c x_{f} + 3 x_{f}^{2}\\right)}{12}\\\\\\frac{c s_{w}^{5} \\left(c - 2 x_{f}\\right)}{10} & \\frac{c s_{w}^{6} \\left(c - 2 x_{f}\\right)}{12} & \\frac{c s_{w}^{4} \\left(c^{2} - 3 c x_{f} + 3 x_{f}^{2}\\right)}{12} & \\frac{c s_{w}^{5} \\left(c^{2} - 3 c x_{f} + 3 x_{f}^{2}\\right)}{15}\\end{matrix}\\right]\\mathbf{\\ddot{q}}+\\left[\\begin{matrix}4 EI s_{w} & 6 EI s_{w}^{2} & 0 & 0\\\\6 EI s_{w}^{2} & 12 EI s_{w}^{3} & 0 & 0\\\\0 & 0 & GJ s_{w} & GJ s_{w}^{2}\\\\0 & 0 & GJ s_{w}^{2} & \\frac{4 GJ s_{w}^{3}}{3}\\end{matrix}\\right]\\mathbf{q}=\\rho V\\left[\\begin{matrix}- \\frac{a_{w} c s_{w}^{5}}{10} & - \\frac{a_{w} c s_{w}^{6}}{12} & 0 & 0\\\\- \\frac{a_{w} c s_{w}^{6}}{12} & - \\frac{a_{w} c s_{w}^{7}}{14} & 0 & 0\\\\\\frac{a_{w} c^{2} e s_{w}^{4}}{8} & \\frac{a_{w} c^{2} e s_{w}^{5}}{10} & \\frac{M_{\\dot{\\alpha}} c^{3} s_{w}^{3}}{24} & \\frac{M_{\\dot{\\alpha}} c^{3} s_{w}^{4}}{32}\\\\\\frac{a_{w} c^{2} e s_{w}^{5}}{10} & \\frac{a_{w} c^{2} e s_{w}^{6}}{12} & \\frac{M_{\\dot{\\alpha}} c^{3} s_{w}^{4}}{32} & \\frac{M_{\\dot{\\alpha}} c^{3} s_{w}^{5}}{40}\\end{matrix}\\right]\\mathbf{\\dot{q}} + \\rho V^2\\left[\\begin{matrix}0 & 0 & - \\frac{a_{w} c s_{w}^{4}}{8} & - \\frac{a_{w} c s_{w}^{5}}{10}\\\\0 & 0 & - \\frac{a_{w} c s_{w}^{5}}{10} & - \\frac{a_{w} c s_{w}^{6}}{12}\\\\0 & 0 & \\frac{a_{w} c^{2} e s_{w}^{3}}{6} & \\frac{a_{w} c^{2} e s_{w}^{4}}{8}\\\\0 & 0 & \\frac{a_{w} c^{2} e s_{w}^{4}}{8} & \\frac{a_{w} c^{2} e s_{w}^{5}}{10}\\end{matrix}\\right]\\mathbf{q}$$"
      ],
      "text/plain": [
       "<IPython.core.display.Latex object>"
      ]
     },
     "metadata": {},
     "output_type": "display_data"
    }
   ],
   "source": [
    "# Mass Matrix, divide by rho*V as this is outside the matrix above\n",
    "M = sym.latex(sym.simplify((sModel.M/p.m_w).subs(p.s_t,0)))\n",
    "\n",
    "# Structural Stiffness Matrix\n",
    "K = sym.latex((sModel.K.subs({p.s_t:0, p.k_theta:0})))\n",
    "\n",
    "# Damping Matrix, divide by M_t as this is outside the matrix above\n",
    "B = sym.latex((sModel.B.subs(p.s_t,0))/(p.rho*p.V))\n",
    "\n",
    "# Aero Stiffness Matrix, divide by rho*V^2 as this is outside the matrix above\n",
    "C = sym.latex((sModel.C.subs(p.s_t,0))/(p.rho*p.V**2))\n",
    "\n",
    "display(Latex(f'$$m{M}'+'\\\\mathbf{\\\\ddot{q}}+'+K+'\\\\mathbf{q}=\\\\rho V'+ B + '\\\\mathbf{\\\\dot{q}} + \\\\rho V^2'+ C +'\\\\mathbf{q}$$'))"
   ]
  },
  {
   "cell_type": "markdown",
   "metadata": {},
   "source": [
    "As a reminded Jonathan's equations were\n",
    "\n",
    "$m\\left[\\begin{array}{ccc}\n",
    "{\\frac{s^{5} c}{5}} & {\\frac{s^{6} c}{6}} & {\\frac{s^{4}}{4}\\left(\\frac{c^{2}}{2}-c x_{f}\\right)} & {\\frac{s^{5}}{5}\\left(\\frac{c^{2}}{2}-c x_{f}\\right)} \\\\\n",
    "{\\frac{s^{6} c}{6}} & {\\frac{s^{7} c}{7}} & {\\frac{s^{5} c}{5}\\left(\\frac{c^{2}}{2}-c x_{i}\\right)} & {\\frac{s^{6} c}{6}\\left(\\frac{c^{2}}{2}-c x_{i}\\right)} \\\\\n",
    "{\\frac{s^{4}}{4}\\left(\\frac{c^{2}}{2}-c x_{i}\\right)} & {\\frac{s^{5}}{5}\\left(\\frac{c^{2}}{2}-c x_{i}\\right)} & {\\frac{s^{3}}{3}\\left(\\frac{c^{3}}{3}-c 2 x_{i}+c x_{i}^{2}\\right)} & {\\frac{s^{4}}{4}\\left(\\frac{c^{3}}{3}-c 2 x_{i}+c x_{i}^{2}\\right)} \\\\\n",
    "{\\frac{s^{5}}{5}\\left(\\frac{c^{2}}{2}-c x_{i}\\right)} & {\\frac{s^{6}}{6}\\left(\\frac{c^{2}}{2}-c x_{i}\\right)} & {\\frac{s^{4}}{4}\\left(\\frac{c^{3}}{3}-c 2 x_{i}+c x_{f}^{2}\\right)} & {\\frac{s^{5}}{5}\\left(\\frac{c^{3}}{3}-c 2 x_{i}+c x_{f}^{2}\\right)}\n",
    "\\end{array}\\right]\\mathbf{\\ddot{q}} + \\left[\\begin{array}{cccc}\n",
    "{4 \\mathrm{EIs}} & {6 \\mathrm{s}^{2} \\mathrm{EI}} & {0} & {0} \\\\\n",
    "{6 \\mathrm{s}^{2} \\mathrm{EI}} & {12 \\mathrm{s}^{3} \\mathrm{EI}} & {0} & {0} \\\\\n",
    "{0} & {0} & {\\mathrm{GJs}} & {\\mathrm{GJs}^{2}} \\\\\n",
    "{0} & {0} & {\\mathrm{GJs}^{2}} & {\\frac{4}{3} \\mathrm{GJs}^{3}}\n",
    "\\end{array}\\right]\\mathbf{q} = \\rho V\\left[\\begin{array}{cccc}{-\\frac{\\mathrm{ca}_{\\mathrm{w}} \\mathrm{s}^{5}}{10}} & {-\\frac{\\mathrm{ca}_{\\mathrm{w}} \\mathrm{s}^{6}}{12}} & {0} & {0} \\\\ {-\\frac{\\mathrm{ca}_{\\mathrm{w}} \\mathrm{s}^{6}}{12}} & {-\\frac{\\mathrm{ca}_{\\mathrm{w}} \\mathrm{s}^{7}}{14}} & {0} & {0} \\\\ {\\frac{\\mathrm{c}^{2} \\mathrm{ea}_{\\mathrm{w}} \\mathrm{s}^{4}}{8}} & {\\frac{\\mathrm{c}^{2} \\mathrm{ea}_{\\mathrm{c}} \\mathrm{s}^{5}}{10}} & {\\frac{\\mathrm{c}^{3} \\mathrm{M}_{6} \\mathrm{s}^{3}}{24}} & {\\frac{\\mathrm{c}^{3} \\mathrm{M}_{6} \\mathrm{s}^{4}}{32}} \\\\ {\\frac{\\mathrm{c}^{2} \\mathrm{ea}_{0}}{10}} & {\\frac{\\mathrm{c}^{2} \\mathrm{ea}_{0} \\mathrm{s}^{6}}{12}} & {\\frac{\\mathrm{c}^{3} \\mathrm{M}_{6} \\mathrm{s}^{4}}{32}} & {\\frac{\\mathrm{c}^{3} \\mathrm{M}_{6} \\mathrm{s}^{5}}{40}}\\end{array}\\right]\\mathbf{\\dot{q}} + \\rho V^{2}\\left[\\begin{array}{cccc}\n",
    "{0} & {0} & {-\\frac{\\mathrm{ca}_{\\mathrm{w}} \\mathrm{s}^{4}}{8}} & {-\\frac{\\mathrm{ca}_{\\mathrm{w}} \\mathrm{s}^{5}}{10}} \\\\\n",
    "{0} & {0} & {-\\frac{\\mathrm{ca}_{\\mathrm{w}} \\mathrm{s}^{5}}{10}} & {-\\frac{\\mathrm{ca}_{\\mathrm{w}} \\mathrm{s}^{6}}{12}} \\\\\n",
    "{0} & {0} & {\\frac{\\mathrm{c}^{2} \\mathrm{ea}_{\\mathrm{w}} \\mathrm{s}^{3}}{6}} & {\\frac{\\mathrm{c}^{2} \\mathrm{ea}_{\\mathrm{w}} \\mathrm{s}^{4}}{8}} \\\\\n",
    "{0} & {0} & {\\frac{\\mathrm{c}^{2} \\mathrm{ea}_{\\mathrm{w}} \\mathrm{s}^{4}}{8}} & {\\frac{\\mathrm{c}^{2} \\mathrm{ea}_{\\mathrm{w}} \\mathrm{s}^{5}}{10}}\n",
    "\\end{array}\\right]\\mathbf{q}$\n",
    "\n",
    "A comparison of the two equations shows they are exactly the same except for a $c2$ term in each of the terms M[2:,2:] in Jonathans which are a $c^2$ in mine\n",
    "\n",
    "Looking at were these are derived from in Jonathans, namely:\n",
    "\n",
    "$\\frac{\\mathrm{d}}{\\mathrm{dt}}\\left(\\frac{\\partial T}{\\partial \\dot{q}_{4}}\\right)=m\\left[\\frac{s^{5}}{5}\\left(\\frac{c^{2}}{2}-\\alpha_{t}\\right) \\ddot{\\mathrm{q}}_{1}+\\frac{s^{6}}{6}\\left(\\frac{\\mathrm{c}^{2}}{2}-\\mathrm{cx}_{t}\\right) \\ddot{\\mathrm{q}}_{2}+\\frac{\\mathrm{s}^{4}}{4}\\left(\\frac{\\mathrm{c}^{3}}{3}-\\mathrm{c}^{2} \\mathrm{x}_{\\mathrm{f}}+\\mathrm{cx}_{\\mathrm{f}}^{2}\\right) \\ddot{\\mathrm{q}}_{3}+\\frac{\\mathrm{s}^{5}}{5}\\left(\\frac{\\mathrm{c}^{3}}{3}-\\mathrm{c}^{2} \\mathrm{x}_{\\mathrm{t}}+\\mathrm{cx}_{\\mathrm{f}}^{2}\\right) \\ddot{\\mathrm{q}}_{4}\\right]$\n",
    "\n",
    "it is clear this is just an presentation error in the final matrix, and it should infact be $c^2$"
   ]
  },
  {
   "cell_type": "markdown",
   "metadata": {},
   "source": [
    "## Test a couple of Numeric Models\n",
    "\n",
    "### Compare Frequency values for a SDoF system\n",
    "\n",
    "with Jonathan's book, in section 3.2.1, a model is built of a continous wing with a single assumed shape:\n",
    "\n",
    "$z(y, t)=\\psi(y) q(t)=\\left(\\frac{y}{s}\\right)^{2} q(t)$\n",
    "\n",
    "The natural frequency of this system is found to be $\\omega=4.47 \\sqrt{\\frac{E I}{\\mu s^{4}}}$ and the exact answer is shown as $\\omega=3.516 \\sqrt{\\frac{E I}{\\mu s^{4}}}$\n",
    "\n",
    "#### Compare model with the answer for one assumed shape in bending"
   ]
  },
  {
   "cell_type": "code",
   "execution_count": 138,
   "metadata": {},
   "outputs": [
    {
     "data": {
      "image/png": "[encoded data removed]",
      "text/latex": [
       "$\\displaystyle 2 \\sqrt{5} \\sqrt{\\frac{EI}{c m_{w} s_{w}^{4}}}$"
      ],
      "text/plain": [
       "          ____________\n",
       "         ╱     EI     \n",
       "2⋅√5⋅   ╱  ────────── \n",
       "       ╱            4 \n",
       "     ╲╱    c⋅m_w⋅s_w  "
      ]
     },
     "execution_count": 138,
     "metadata": {},
     "output_type": "execute_result"
    }
   ],
   "source": [
    "# create generalised coordinates\n",
    "q0 = me.dynamicsymbols('q0') \n",
    "q = sym.Matrix([q0])\n",
    "\n",
    "# create instance of Fwt parameters\n",
    "p = AssumedShapes.FwtParameters()\n",
    "p.ThetaLocked = True\n",
    "\n",
    "# define shape Functions\n",
    "z_w = q0*y**2\n",
    "alpha_w = sym.Rational(0,1)\n",
    "\n",
    "# FWT is locked so is parrallel to the end of the main wing\n",
    "z_t = z_w.subs(y,p.s_w) + z_w.diff(t).subs(y,p.s_w)*y\n",
    "alpha_t = alpha_w.subs(y,p.s_w)\n",
    "\n",
    "# create the model\n",
    "sModel = AssumedShapes.SymbolicModel(q,z_w,alpha_w,z_t,alpha_t,p)\n",
    "sModel.GenerateEoM()\n",
    "\n",
    "eSet = (sModel.M**-1*sModel.K).eigenvals()\n",
    "eVal = sym.sqrt(((eSet.popitem())[0]).subs({p.k_theta:0,p.s_t:0}))\n",
    "eVal"
   ]
  },
  {
   "cell_type": "markdown",
   "metadata": {},
   "source": [
    "#### What about 2 shapes for bending"
   ]
  },
  {
   "cell_type": "code",
   "execution_count": 131,
   "metadata": {},
   "outputs": [
    {
     "data": {
      "image/png": "[encoded data removed]",
      "text/latex": [
       "$\\displaystyle \\left[ 2 \\sqrt{3} \\sqrt{\\frac{EI \\left(51 m_{w} s_{w} - 8 \\sqrt{39} \\sqrt{m_{w}^{2} s_{w}^{2}}\\right)}{c m_{w}^{2} s_{w}^{5}}}, \\  2 \\sqrt{3} \\sqrt{\\frac{EI \\left(51 m_{w} s_{w} + 8 \\sqrt{39} \\sqrt{m_{w}^{2} s_{w}^{2}}\\right)}{c m_{w}^{2} s_{w}^{5}}}\\right]$"
      ],
      "text/plain": [
       "⎡            ________________________________________              ___________\n",
       "⎢           ╱    ⎛                      ___________⎞              ╱    ⎛      \n",
       "⎢          ╱     ⎜                     ╱    2    2 ⎟             ╱     ⎜      \n",
       "⎢         ╱   EI⋅⎝51⋅m_w⋅s_w - 8⋅√39⋅╲╱  m_w ⋅s_w  ⎠            ╱   EI⋅⎝51⋅m_w\n",
       "⎢2⋅√3⋅   ╱    ────────────────────────────────────── , 2⋅√3⋅   ╱    ──────────\n",
       "⎢       ╱                       2    5                        ╱               \n",
       "⎣     ╲╱                   c⋅m_w ⋅s_w                       ╲╱                \n",
       "\n",
       "_____________________________⎤\n",
       "                ___________⎞ ⎥\n",
       "               ╱    2    2 ⎟ ⎥\n",
       "⋅s_w + 8⋅√39⋅╲╱  m_w ⋅s_w  ⎠ ⎥\n",
       "──────────────────────────── ⎥\n",
       "        2    5               ⎥\n",
       "   c⋅m_w ⋅s_w                ⎦"
      ]
     },
     "execution_count": 131,
     "metadata": {},
     "output_type": "execute_result"
    }
   ],
   "source": [
    "# create generalised coordinates\n",
    "q0,q1 = me.dynamicsymbols('q0,q1') \n",
    "q = sym.Matrix([q0,q1])\n",
    "\n",
    "# create instance of Fwt parameters\n",
    "p = AssumedShapes.FwtParameters()\n",
    "p.ThetaLocked = True\n",
    "\n",
    "# define shape Functions\n",
    "z_w = q0*y**2+q1*y**3\n",
    "alpha_w = sym.Rational(0,1)\n",
    "\n",
    "# FWT is locked so is parrallel to the end of the main wing\n",
    "z_t = z_w.subs(y,p.s_w) + z_w.diff(t).subs(y,p.s_w)*y\n",
    "alpha_t = alpha_w.subs(y,p.s_w)\n",
    "\n",
    "# create the model\n",
    "sModel = AssumedShapes.SymbolicModel(q,z_w,alpha_w,z_t,alpha_t,p)\n",
    "sModel.GenerateEoM()\n",
    "\n",
    "\n",
    "\n",
    "eSet = (sModel.M**-1*sModel.K).eigenvals()\n",
    "freqs = []\n",
    "for key,value in eSet.items():\n",
    "    freqs.append(sym.simplify(sym.sqrt(key.subs({p.k_theta:0,p.s_t:0}))))\n",
    "freqs"
   ]
  },
  {
   "cell_type": "markdown",
   "metadata": {},
   "source": [
    "Thats getting more complicated and doesnt really simplify well. So lets swap to numerical analysis.\n",
    "\n",
    "\n",
    "If we set $E,I,m_w,s_w,c$ to 1 the frequecy of the lowest mode shape should start at 4.47 and tend to 3.516"
   ]
  },
  {
   "cell_type": "code",
   "execution_count": 132,
   "metadata": {},
   "outputs": [],
   "source": [
    "# create generalised coordinates\n",
    "q0,q1,q2 = me.dynamicsymbols('q:3') \n",
    "q = sym.Matrix([q0,q1,q2])\n",
    "\n",
    "# create instance of Fwt parameters\n",
    "p = AssumedShapes.FwtParameters()\n",
    "p.ThetaLocked = True\n",
    "p.EI.value = 1\n",
    "p.m_w.value = 1\n",
    "p.s_w.value = 1\n",
    "p.c.value = 1\n",
    "\n",
    "\n",
    "# created assumed shapes for ever higher order models then create a numerical model and find the minimium modal frequency\n",
    "Freqs = []\n",
    "Vecs = []\n",
    "Df = pd.DataFrame();\n",
    "for i in np.arange(0,3):\n",
    "    # define shape Functions\n",
    "    z_w = sym.Rational(0,1)\n",
    "    for j in np.arange(0,i+1):\n",
    "        z_w = z_w + q[j]*y**(2+j)\n",
    "\n",
    "    alpha_w = sym.Rational(0,1)\n",
    "\n",
    "    # FWT is locked so is parrallel to the end of the main wing\n",
    "    z_t = z_w.subs(y,p.s_w) + z_w.diff(t).subs(y,p.s_w)*y\n",
    "    alpha_t = alpha_w.subs(y,p.s_w)\n",
    "\n",
    "    # create the model\n",
    "    sModel = AssumedShapes.SymbolicModel(q,z_w,alpha_w,z_t,alpha_t,p)\n",
    "    sModel.GenerateEoM()\n",
    "\n",
    "    nModel = sModel.createNumericInstance()\n",
    "\n",
    "    df = nModel.FreeVibrationValsPd()\n",
    "    withS = 's' if i>0 else ''\n",
    "    df['Shapes'] = f'{i+1} Shape{withS}'\n",
    "    df['Mode'] = df.index\n",
    "    Df = pd.concat((Df,df),axis=0)"
   ]
  },
  {
   "cell_type": "code",
   "execution_count": 133,
   "metadata": {},
   "outputs": [],
   "source": [
    "pd.options.display.float_format = '{:,.2f}'.format\n",
    "Df['% Error'] = ((Df['Freq'] / 3.516) -1)*100"
   ]
  },
  {
   "cell_type": "code",
   "execution_count": 134,
   "metadata": {},
   "outputs": [
    {
     "data": {
      "text/plain": [
       "<matplotlib.axes._subplots.AxesSubplot at 0x22ec6690d08>"
      ]
     },
     "execution_count": 134,
     "metadata": {},
     "output_type": "execute_result"
    },
    {
     "data": {
      "image/png": "[encoded data removed]",
      "text/plain": [
       "<Figure size 432x288 with 1 Axes>"
      ]
     },
     "metadata": {},
     "output_type": "display_data"
    }
   ],
   "source": [
    "# plot mode shapes\n",
    "import seaborn as sns; sns.set()\n",
    "import matplotlib.pyplot as plt\n",
    "\n",
    "# make a data frame to calulaate the positon at each y station\n",
    "ModeDf = pd.DataFrame()\n",
    "ModeDf['y'] = np.linspace(0,1,100)\n",
    "ShapeDf = Df[Df['Mode']==0].reset_index(drop=True)\n",
    "# make a new series for each MOde shape to show as a combination of the values in ShapeDf\n",
    "for i in np.arange(0,3):\n",
    "    ModeDf[f'Mode Shape ({i+1} Shape)'] = ModeDf['y'] **2 * ShapeDf['Comp 0'][i] + ModeDf['y'] **3 * ShapeDf['Comp 1'][i] + ModeDf['y'] **4 * ShapeDf['Comp 2'][i]\n",
    "\n",
    "# set the index of the data frame\n",
    "ModeDf = ModeDf.set_index('y')\n",
    "\n",
    "# ensure the end of the beam is deflecting up\n",
    "cols = list(ModeDf)\n",
    "for i in range(0,len(cols)):\n",
    "    if ModeDf[cols[i]].iloc[-1] < 0:\n",
    "        ModeDf[cols[i]] = ModeDf[cols[i]]*-1\n",
    "\n",
    "#normalise shapes to max value\n",
    "ModeDf = ModeDf.apply(lambda x : x/x.max())\n",
    "\n",
    "sns.lineplot(data = ModeDf)\n"
   ]
  }
 ],
 "metadata": {
  "kernelspec": {
   "display_name": "Python 3.7.6 64-bit ('base': conda)",
   "language": "python",
   "name": "python37664bitbasecondac656017b161743c29c94367edc1c83c4"
  },
  "language_info": {
   "codemirror_mode": {
    "name": "ipython",
    "version": 3
   },
   "file_extension": ".py",
   "mimetype": "text/x-python",
   "name": "python",
   "nbconvert_exporter": "python",
   "pygments_lexer": "ipython3",
   "version": "3.7.6"
  }
 },
 "nbformat": 4,
 "nbformat_minor": 2
}
