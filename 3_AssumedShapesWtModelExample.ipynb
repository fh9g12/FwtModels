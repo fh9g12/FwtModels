{
 "cells": [
  {
   "cell_type": "code",
   "execution_count": 1,
   "metadata": {},
   "outputs": [],
   "source": [
    "from FwtModels import AssumedShapes\n",
    "import numpy as np\n",
    "import sympy as sym\n",
    "import sympy.physics.mechanics as me\n",
    "from sympy.abc import y,x,t\n",
    "import pandas as pd\n",
    "\n",
    "import seaborn as sns; sns.set()\n",
    "import matplotlib.pyplot as plt\n",
    "from scipy.linalg import eig\n",
    "\n",
    "plt.style.use('seaborn')"
   ]
  },
  {
   "cell_type": "markdown",
   "metadata": {},
   "source": [
    "# Create Model of the WT model using Assumed Shapes\n",
    "\n",
    "Want to create a model of the wing using in the WT tests (flexible wing with a FWT) using assumed shapes, within this notebook we:\n",
    "1. Define the WT Model parameters\n",
    "2. Look at the free vibrations of the fixed hinge case (modeling FWT as both flexible and rigid)\n",
    "3. Aeroelastic behaviour of this wing\n",
    "4. Look at the free vibrations of the free hinge case (with spring stiffness)\n",
    "5. Aeroelastic behaviour of the fwt\n",
    "\n",
    "    ## Model Definition\n",
    "\n",
    "Will use parameter from the wing used in the WTT's in December, it had a span of 1.345m and the structural properties closely match those of the steel beam at its quarter-cord (5mm x 30mm cross section, 310L stainless steel). Assume a uniform mass distribution and a total weight of 2.75Kg. (the FWT took up 29% of the wetted area, but for now we are modelling as a continous beam)"
   ]
  },
  {
   "cell_type": "code",
   "execution_count": 2,
   "metadata": {},
   "outputs": [],
   "source": [
    "semiSpan = 1.345  # semi-span of the wing\n",
    "ratioFwt = 0   # ratio of the wing semi span that is fwt\n",
    "wingMass = 2.75   # mass of entire semi-span wing\n",
    "chord = 0.15\n",
    "\n",
    "mu = wingMass/(chord*semiSpan) # mass density of the wing"
   ]
  },
  {
   "cell_type": "markdown",
   "metadata": {},
   "source": [
    "modeling the structural properties of a rectangular bar"
   ]
  },
  {
   "cell_type": "code",
   "execution_count": 3,
   "metadata": {},
   "outputs": [],
   "source": [
    "# with width b and hieght h\n",
    "h = 0.005 # hieght of bar\n",
    "b = 0.03 # width of bar\n",
    "I_xx = b*h**3/12\n",
    "I_yy = b**3*h/12\n",
    "J = I_xx + I_yy\n",
    "\n",
    "# Material properties\n",
    "E = 190e9\n",
    "G = 74e9"
   ]
  },
  {
   "cell_type": "code",
   "execution_count": 4,
   "metadata": {},
   "outputs": [],
   "source": [
    "# create an instance of the class holding all the properties for the FWT\n",
    "p = AssumedShapes.FwtParameters(m_w = mu,\n",
    "                        m_t = mu,\n",
    "                        x_f = 0.25,\n",
    "                        s_w = semiSpan*(1-ratioFwt),\n",
    "                        s_t = semiSpan*ratioFwt,\n",
    "                        c = chord,\n",
    "                        Lambda = np.deg2rad(10),\n",
    "                        EI = E*I_xx,\n",
    "                        GJ = G*J,\n",
    "                        k_theta = 0,\n",
    "                        rho = 1.225,\n",
    "                        V = 10,\n",
    "                        a_w = 2*np.pi,\n",
    "                        a_t = 2*np.pi,\n",
    "                        alpha_0 = 0,\n",
    "                        e = 0,\n",
    "                        Malphadot = -1.2,\n",
    "                        g = 9.81)"
   ]
  },
  {
   "cell_type": "markdown",
   "metadata": {},
   "source": [
    "## Free Vibrations of the Fixed Hinge Case\n",
    "\n",
    "### Consider Only z Bending with Multiple Shapes\n",
    "\n",
    "As noted in jonathan's book the natural frequency of a sDof contious beam is given by:\n",
    "\n",
    "$\\omega=3.516 \\sqrt{\\frac{E I}{\\mu s^{4}}}$\n",
    "\n",
    "this answer should approximate well the frequency of the first bending moment of this wing\n",
    "\n",
    "Find the natural frequency and mode shapes using multiple shapes"
   ]
  },
  {
   "cell_type": "code",
   "execution_count": 8,
   "metadata": {},
   "outputs": [
    {
     "name": "stdout",
     "output_type": "stream",
     "text": [
      "Natural Frequency: 10.47 Hz\n"
     ]
    }
   ],
   "source": [
    "f = 3.516*np.sqrt(E*I_xx/(mu*chord*semiSpan**4))\n",
    "print(f'Natural Frequency: {f:.2f} Hz')"
   ]
  },
  {
   "cell_type": "markdown",
   "metadata": {},
   "source": [
    "Hence if we find the natural frequency of the beam using assumed shapes the 1st frequecny should approach this value"
   ]
  },
  {
   "cell_type": "code",
   "execution_count": 15,
   "metadata": {},
   "outputs": [],
   "source": [
    "# create generalised coordinates\n",
    "q0,q1,q2,q3 = me.dynamicsymbols('q:4') \n",
    "q = sym.Matrix([q0,q1,q2,q3])\n",
    "\n",
    "# created assumed shapes for ever higher order models then create a numerical model and find the minimium modal frequency\n",
    "Data = pd.DataFrame()\n",
    "for i in np.arange(0,len(q)):\n",
    "    # define shape Functions\n",
    "    z_w = sym.Rational(0,1)\n",
    "    for j in np.arange(0,i+1):\n",
    "        z_w = z_w + q[j]*y**(2+j)\n",
    "\n",
    "    alpha_w = sym.Rational(0,1)\n",
    "\n",
    "    # FWT is locked so is parrallel to the end of the main wing\n",
    "    z_t = z_w.subs(y,p.s_w) + z_w.diff(y).subs(y,p.s_w)*y\n",
    "    alpha_t = alpha_w.subs(y,p.s_w)\n",
    "\n",
    "    # create the model\n",
    "    sModel = AssumedShapes.SymbolicModel(q,z_w,alpha_w,z_t,alpha_t,p)\n",
    "    sModel.GenerateEoM()\n",
    "    \n",
    "    # create numeric Model\n",
    "    nModel = sModel.createNumericInstance()\n",
    "    \n",
    "    # Get Eigen values and vectors\n",
    "    df = nModel.FreeVibrationValsPd()\n",
    "    df['Mode'] = df.index\n",
    "    df['Shapes'] = i+1\n",
    "    df = df.set_index('Shapes')\n",
    "    Data = pd.concat([Data,df],axis =0)"
   ]
  },
  {
   "cell_type": "code",
   "execution_count": 16,
   "metadata": {},
   "outputs": [
    {
     "data": {
      "text/html": [
       "<div>\n",
       "<style scoped>\n",
       "    .dataframe tbody tr th:only-of-type {\n",
       "        vertical-align: middle;\n",
       "    }\n",
       "\n",
       "    .dataframe tbody tr th {\n",
       "        vertical-align: top;\n",
       "    }\n",
       "\n",
       "    .dataframe thead th {\n",
       "        text-align: right;\n",
       "    }\n",
       "</style>\n",
       "<table border=\"1\" class=\"dataframe\">\n",
       "  <thead>\n",
       "    <tr style=\"text-align: right;\">\n",
       "      <th></th>\n",
       "      <th>Freq</th>\n",
       "      <th>Comp 0</th>\n",
       "      <th>Comp 1</th>\n",
       "      <th>Comp 2</th>\n",
       "      <th>Comp 3</th>\n",
       "      <th>Mode</th>\n",
       "    </tr>\n",
       "    <tr>\n",
       "      <th>Shapes</th>\n",
       "      <th></th>\n",
       "      <th></th>\n",
       "      <th></th>\n",
       "      <th></th>\n",
       "      <th></th>\n",
       "      <th></th>\n",
       "    </tr>\n",
       "  </thead>\n",
       "  <tbody>\n",
       "    <tr>\n",
       "      <th>1</th>\n",
       "      <td>13.321927</td>\n",
       "      <td>1.000000</td>\n",
       "      <td>0.000000</td>\n",
       "      <td>0.000000</td>\n",
       "      <td>0.000000</td>\n",
       "      <td>0</td>\n",
       "    </tr>\n",
       "    <tr>\n",
       "      <th>2</th>\n",
       "      <td>10.523560</td>\n",
       "      <td>-0.961641</td>\n",
       "      <td>0.274312</td>\n",
       "      <td>-0.000000</td>\n",
       "      <td>-0.000000</td>\n",
       "      <td>0</td>\n",
       "    </tr>\n",
       "    <tr>\n",
       "      <th>3</th>\n",
       "      <td>10.476924</td>\n",
       "      <td>0.924234</td>\n",
       "      <td>-0.378189</td>\n",
       "      <td>0.052582</td>\n",
       "      <td>-0.000000</td>\n",
       "      <td>0</td>\n",
       "    </tr>\n",
       "    <tr>\n",
       "      <th>4</th>\n",
       "      <td>10.473780</td>\n",
       "      <td>-0.950127</td>\n",
       "      <td>0.309405</td>\n",
       "      <td>0.029685</td>\n",
       "      <td>-0.025418</td>\n",
       "      <td>0</td>\n",
       "    </tr>\n",
       "  </tbody>\n",
       "</table>\n",
       "</div>"
      ],
      "text/plain": [
       "             Freq    Comp 0    Comp 1    Comp 2    Comp 3  Mode\n",
       "Shapes                                                         \n",
       "1       13.321927  1.000000  0.000000  0.000000  0.000000     0\n",
       "2       10.523560 -0.961641  0.274312 -0.000000 -0.000000     0\n",
       "3       10.476924  0.924234 -0.378189  0.052582 -0.000000     0\n",
       "4       10.473780 -0.950127  0.309405  0.029685 -0.025418     0"
      ]
     },
     "execution_count": 16,
     "metadata": {},
     "output_type": "execute_result"
    }
   ],
   "source": [
    "# Show only the first mode for each shape\n",
    "Data[Data['Mode']==0]"
   ]
  },
  {
   "cell_type": "markdown",
   "metadata": {},
   "source": [
    "this confirms the same as before ( although with non-unity numbers) the the model tends to the exact answer. Albeit I was expecting this frequency to be a lot lower (<2Hz), which needs to be investigated\n",
    "\n",
    "#### Plot the mode shape of the lowest frequency mode for each model\n",
    "\n",
    "As an example of the mode shapes lets plot the mode shape of the first mode here. First we need to create a function to convert each row in this data table into a mode shape in y"
   ]
  },
  {
   "cell_type": "code",
   "execution_count": 17,
   "metadata": {},
   "outputs": [],
   "source": [
    "# define a function to convert the data frame above into mode shapes\n",
    "def ModeShapePd(y,df):\n",
    "    ySpanDf = pd.DataFrame()\n",
    "    ySpanDf['y'] = y\n",
    "    ySpanDf = ySpanDf.set_index('y')\n",
    "    \n",
    "    comps =[]   \n",
    "    for i in range(0,4):\n",
    "        comps.append(f'Comp {i}')\n",
    "    compsDf = df[comps]\n",
    "    \n",
    "    for i in range(0,len(df.index)):\n",
    "        valsAr = compsDf.iloc[i].to_numpy()\n",
    "        vals = tuple(valsAr)\n",
    "        f = df['Freq'].iloc[i]\n",
    "        s = f'Shapes {df.index[i]}, Freq {f:.2f}'\n",
    "        ySpanDf = sModel.Zpd(vals,0.15*0.25,ySpanDf,s)\n",
    "    return ySpanDf"
   ]
  },
  {
   "cell_type": "markdown",
   "metadata": {},
   "source": [
    "Now we can plot the first 4 mode shapes using"
   ]
  },
  {
   "cell_type": "code",
   "execution_count": 18,
   "metadata": {},
   "outputs": [
    {
     "data": {
      "text/plain": [
       "<matplotlib.axes._subplots.AxesSubplot at 0x21b8e24f5c8>"
      ]
     },
     "execution_count": 18,
     "metadata": {},
     "output_type": "execute_result"
    },
    {
     "data": {
      "image/png": "[encoded data removed]",
      "text/plain": [
       "<Figure size 576x396 with 1 Axes>"
      ]
     },
     "metadata": {},
     "output_type": "display_data"
    }
   ],
   "source": [
    "d = ModeShapePd(np.linspace(0,1.345,100),Data[Data['Mode']==0])\n",
    "sns.lineplot(data = d / d.max())"
   ]
  },
  {
   "cell_type": "markdown",
   "metadata": {},
   "source": [
    "the shape of the lowest mode has changed significantly for the 4 shapes varient.\n",
    "\n",
    "Plotting the 4 mode shapes for that model looks like the following:"
   ]
  },
  {
   "cell_type": "code",
   "execution_count": 19,
   "metadata": {},
   "outputs": [
    {
     "data": {
      "text/plain": [
       "<matplotlib.axes._subplots.AxesSubplot at 0x21b8c74a648>"
      ]
     },
     "execution_count": 19,
     "metadata": {},
     "output_type": "execute_result"
    },
    {
     "data": {
      "image/png": "[encoded data removed]",
      "text/plain": [
       "<Figure size 576x396 with 1 Axes>"
      ]
     },
     "metadata": {},
     "output_type": "display_data"
    }
   ],
   "source": [
    "d = ModeShapePd(np.linspace(0,1.345,100),Data[Data.index==4])\n",
    "sns.lineplot(data = d / d.max())"
   ]
  },
  {
   "cell_type": "code",
   "execution_count": 20,
   "metadata": {},
   "outputs": [
    {
     "data": {
      "text/plain": [
       "(array([7.03651828e+05+0.j, 3.56082369e+04+0.j, 4.35670930e+03+0.j,\n",
       "        1.09700073e+02+0.j]),\n",
       " array([[-0.16272816,  0.24243199, -0.49905693, -0.95012703],\n",
       "        [ 0.61721654, -0.70712759,  0.79307701,  0.30940482],\n",
       "        [-0.7223896 ,  0.63904684, -0.34684109,  0.02968488],\n",
       "        [ 0.26592586, -0.18115305,  0.04089367, -0.02541831]]))"
      ]
     },
     "execution_count": 20,
     "metadata": {},
     "output_type": "execute_result"
    }
   ],
   "source": [
    "eig(nModel.K,nModel.M)"
   ]
  },
  {
   "cell_type": "markdown",
   "metadata": {},
   "source": [
    "The higher frequency modes seem to have taken the shape of low frequency one?"
   ]
  },
  {
   "cell_type": "markdown",
   "metadata": {},
   "source": [
    "## Calculating the Complex modal frequencies 'By Hand'\n",
    "\n",
    "Will run through the generation of the complex modal frequencies and eigenvectors by hand to check what the answers should be, then will reproduce this values with the in-built function in the package\n",
    "\n",
    "Going back to the simple 1 Assumed shape, lets added the aero force matrices and see the effect to the frequencies\n"
   ]
  },
  {
   "cell_type": "code",
   "execution_count": 31,
   "metadata": {},
   "outputs": [],
   "source": [
    "sModel = AssumedShapes.SymbolicModel.B1_T0_RLFwt(p)\n",
    "sModel.GenerateEoM()"
   ]
  },
  {
   "cell_type": "markdown",
   "metadata": {},
   "source": [
    "Create the Mprime and Vprime matrices by hand to solve the flutter eigen value problem, as described in section 11.4 of Jonathans book\n",
    "\n",
    "$\\left[\\begin{array}{cc}{\\mathbf{I}} & {\\mathbf{0}} \\\\ {\\mathbf{0}} & {\\mathbf{A}}\\end{array}\\right]\\left\\{\\begin{array}{l}{\\dot{q}} \\\\ {\\ddot{q}}\\end{array}\\right\\}-\\left[\\begin{array}{cc}{\\mathbf{0}} & {\\mathbf{I}} \\\\ {-\\left(\\rho V^{2} \\mathbf{C}+\\mathbf{E}\\right)} & {-(\\rho V \\mathbf{B}+\\mathbf{D})}\\end{array}\\right]\\left\\{\\begin{array}{l}{q} \\\\ {\\dot{q}}\\end{array}\\right\\}=\\left\\{\\begin{array}{l}{0} \\\\ {0}\\end{array}\\right\\}$\n",
    "\n",
    "And then generate the Q matrix as shown below\n",
    "\n",
    "$\\left\\{\\begin{array}{l}{\\dot{q}} \\\\ {\\ddot{q}}\\end{array}\\right\\}-\\left[\\begin{array}{cc}{0} & {\\mathrm{I}} \\\\ {-\\mathrm{A}^{-1}\\left(\\rho V^{2} \\mathbf{C}+\\mathbf{E}\\right)} & {-\\mathbf{A}^{-1}(\\rho V \\mathbf{B}+\\mathbf{D})}\\end{array}\\right]\\left\\{\\begin{array}{l}{q} \\\\ {\\dot{q}}\\end{array}\\right\\}=0,    \\dot{x}-\\mathbf{Q} x=0$\n",
    "\n",
    "Note there is a differnce between what I've done and this so I'm creating\n",
    "\n",
    "$\\left\\{\\begin{array}{l}{\\dot{q}} \\\\ {\\ddot{q}}\\end{array}\\right\\}-\\left[\\begin{array}{cc}{0} & {\\mathrm{I}} \\\\ {-\\mathrm{A}^{-1}\\left(-\\rho V^{2} \\mathbf{C}+\\mathbf{E}\\right)} & {\\mathbf{A}^{-1}(\\rho V \\mathbf{B}-\\mathbf{D})}\\end{array}\\right]\\left\\{\\begin{array}{l}{q} \\\\ {\\dot{q}}\\end{array}\\right\\}=0,    \\dot{x}-\\mathbf{Q} x=0$"
   ]
  },
  {
   "cell_type": "code",
   "execution_count": 32,
   "metadata": {},
   "outputs": [
    {
     "data": {
      "text/latex": [
       "$\\displaystyle \\left[\\begin{matrix}1 & 0\\\\0 & \\frac{c m_{w} s_{w}^{5}}{5}\\end{matrix}\\right]$"
      ],
      "text/plain": [
       "⎡1      0     ⎤\n",
       "⎢             ⎥\n",
       "⎢            5⎥\n",
       "⎢   c⋅m_w⋅s_w ⎥\n",
       "⎢0  ──────────⎥\n",
       "⎣       5     ⎦"
      ]
     },
     "execution_count": 32,
     "metadata": {},
     "output_type": "execute_result"
    }
   ],
   "source": [
    "mPrime = sym.eye(2)\n",
    "mPrime[1,1] = sModel.M.subs(p.s_t,0)\n",
    "mPrime"
   ]
  },
  {
   "cell_type": "code",
   "execution_count": 33,
   "metadata": {},
   "outputs": [
    {
     "data": {
      "text/latex": [
       "$\\displaystyle \\left[\\begin{matrix}0 & 1\\\\- 4 EI s_{w} & - \\frac{V a_{w} c \\rho s_{w}^{5}}{10}\\end{matrix}\\right]$"
      ],
      "text/plain": [
       "⎡    0             1        ⎤\n",
       "⎢                           ⎥\n",
       "⎢                         5 ⎥\n",
       "⎢           -V⋅a_w⋅c⋅ρ⋅s_w  ⎥\n",
       "⎢-4⋅EI⋅s_w  ────────────────⎥\n",
       "⎣                  10       ⎦"
      ]
     },
     "execution_count": 33,
     "metadata": {},
     "output_type": "execute_result"
    }
   ],
   "source": [
    "kPrime = sym.zeros(2)\n",
    "kPrime[0,1] = 1\n",
    "kPrime[1,0] = -(sModel.C + sModel.K)\n",
    "kPrime[1,1] = sModel.B.subs(p.s_t,0) # D is zero is this case (no structural damping)\n",
    "\n",
    "kPrime"
   ]
  },
  {
   "cell_type": "code",
   "execution_count": 34,
   "metadata": {},
   "outputs": [
    {
     "data": {
      "text/latex": [
       "$\\displaystyle \\left[\\begin{matrix}0 & 1\\\\- \\frac{20 EI}{c m_{w} s_{w}^{4}} & - \\frac{V a_{w} \\rho}{2 m_{w}}\\end{matrix}\\right]$"
      ],
      "text/plain": [
       "⎡    0           1    ⎤\n",
       "⎢                     ⎥\n",
       "⎢ -20⋅EI     -V⋅a_w⋅ρ ⎥\n",
       "⎢──────────  ─────────⎥\n",
       "⎢         4    2⋅m_w  ⎥\n",
       "⎣c⋅m_w⋅s_w            ⎦"
      ]
     },
     "execution_count": 34,
     "metadata": {},
     "output_type": "execute_result"
    }
   ],
   "source": [
    "Q = mPrime**-1*kPrime\n",
    "Q"
   ]
  },
  {
   "cell_type": "markdown",
   "metadata": {},
   "source": [
    "Get the Eigenvalues of this matrix"
   ]
  },
  {
   "cell_type": "code",
   "execution_count": 35,
   "metadata": {},
   "outputs": [
    {
     "data": {
      "text/latex": [
       "$\\displaystyle \\left[\\begin{matrix}- \\frac{V a_{w} \\rho}{4 m_{w}} - \\frac{\\sqrt{c \\left(- 320 EI m_{w} + V^{2} a_{w}^{2} c \\rho^{2} s_{w}^{4}\\right)}}{4 c m_{w} s_{w}^{2}}\\\\- \\frac{V a_{w} \\rho}{4 m_{w}} + \\frac{\\sqrt{c \\left(- 320 EI m_{w} + V^{2} a_{w}^{2} c \\rho^{2} s_{w}^{4}\\right)}}{4 c m_{w} s_{w}^{2}}\\end{matrix}\\right]$"
      ],
      "text/plain": [
       "⎡               _____________________________________⎤\n",
       "⎢              ╱   ⎛               2    2    2    4⎞ ⎥\n",
       "⎢  V⋅a_w⋅ρ   ╲╱  c⋅⎝-320⋅EI⋅m_w + V ⋅a_w ⋅c⋅ρ ⋅s_w ⎠ ⎥\n",
       "⎢- ─────── - ────────────────────────────────────────⎥\n",
       "⎢   4⋅m_w                             2              ⎥\n",
       "⎢                          4⋅c⋅m_w⋅s_w               ⎥\n",
       "⎢                                                    ⎥\n",
       "⎢               _____________________________________⎥\n",
       "⎢              ╱   ⎛               2    2    2    4⎞ ⎥\n",
       "⎢  V⋅a_w⋅ρ   ╲╱  c⋅⎝-320⋅EI⋅m_w + V ⋅a_w ⋅c⋅ρ ⋅s_w ⎠ ⎥\n",
       "⎢- ─────── + ────────────────────────────────────────⎥\n",
       "⎢   4⋅m_w                             2              ⎥\n",
       "⎣                          4⋅c⋅m_w⋅s_w               ⎦"
      ]
     },
     "execution_count": 35,
     "metadata": {},
     "output_type": "execute_result"
    }
   ],
   "source": [
    "vals = sym.Matrix(list(Q.eigenvals().keys()))\n",
    "vals"
   ]
  },
  {
   "cell_type": "markdown",
   "metadata": {},
   "source": [
    "sub it all in except velocity"
   ]
  },
  {
   "cell_type": "code",
   "execution_count": 36,
   "metadata": {},
   "outputs": [
    {
     "data": {
      "image/png": "[encoded data removed]",
      "text/latex": [
       "$\\displaystyle - 0.141168179887388 V + 13.3219265765784 \\sqrt{0.000112289606296464 V^{2} - 1}$"
      ],
      "text/plain": [
       "                                           _____________________________\n",
       "                                          ╱                       2     \n",
       "-0.141168179887388⋅V + 13.3219265765784⋅╲╱  0.000112289606296464⋅V  - 1 "
      ]
     },
     "execution_count": 36,
     "metadata": {},
     "output_type": "execute_result"
    }
   ],
   "source": [
    "subs = dict((s,s.value) for s in p.GetTuple())\n",
    "subs.pop(p.V,None) # remove V from dict\n",
    "Vvals = vals.subs(subs)\n",
    "Vvals[1]"
   ]
  },
  {
   "cell_type": "markdown",
   "metadata": {},
   "source": [
    "We have imaginary components! Lets get values for many V's and see if I can get frequency and dampings\n",
    "\n",
    "Although these will never have a negative real component?"
   ]
  },
  {
   "cell_type": "code",
   "execution_count": 37,
   "metadata": {},
   "outputs": [
    {
     "data": {
      "text/plain": [
       "array([[-0.28233636-13.31893441j],\n",
       "       [-0.28233636+13.31893441j]])"
      ]
     },
     "execution_count": 37,
     "metadata": {},
     "output_type": "execute_result"
    }
   ],
   "source": [
    "f2 = sym.lambdify(p.V,Vvals,[{'sqrt':np.lib.scimath.sqrt},'numpy'])\n",
    "f2(2)"
   ]
  },
  {
   "cell_type": "code",
   "execution_count": 48,
   "metadata": {
    "scrolled": true
   },
   "outputs": [
    {
     "data": {
      "image/png": "[encoded data removed]",
      "text/plain": [
       "<Figure size 576x396 with 3 Axes>"
      ]
     },
     "metadata": {},
     "output_type": "display_data"
    }
   ],
   "source": [
    "# lets plot how freq and damping vary with velocity\n",
    "v = np.linspace(0,50,100)\n",
    "\n",
    "f = sym.lambdify(p.V,Vvals[1],[{'sqrt':np.lib.scimath.sqrt},'numpy'])\n",
    "\n",
    "vDf = pd.DataFrame(data=v,columns=['V'])\n",
    "\n",
    "def getFD(data):\n",
    "    mode = f(data['V'])\n",
    "    r = np.real(mode)\n",
    "    i = np.abs(np.abs(np.imag(mode)))\n",
    "    if i>0:\n",
    "        om = np.sqrt(i**2+np.abs(r)**2)\n",
    "        dam = r/om\n",
    "    else:\n",
    "        om = 0\n",
    "        dam = r\n",
    "    return pd.Series([r,i,om,dam])\n",
    "\n",
    "vDf[['Real','Imaginary','Freq','Damping']] = vDf.apply(getFD,axis=1)\n",
    "\n",
    "f, axes = plt.subplots(1, 3)\n",
    "sns.scatterplot(data = vDf, x='V',y='Freq',ax=axes[0],s=10,linewidth=0)\n",
    "sns.scatterplot(data = vDf, x='V',y='Damping',ax=axes[1],s=10,linewidth=0)\n",
    "sns.scatterplot(data = vDf, x='Real',y='Imaginary',hue='V',ax=axes[2],s=10,linewidth=0)\n",
    "axes[2].axis('equal')\n",
    "plt.show()"
   ]
  },
  {
   "cell_type": "markdown",
   "metadata": {},
   "source": [
    "So with a single mode there is no posibility of flutter as the as modes cannot interact, you can get divergence though...\n",
    "\n",
    "The divergence speed is when the freq goes and the real part of the eigen value is also zero, which happens >300m/s this may be the limit of this assumed shapes usefullness?\n",
    "\n",
    "Its a single DoF sytem what do I actually expect???\n",
    "\n",
    "\n",
    "### Compare the result of the symbolic model to that of the numeric model"
   ]
  },
  {
   "cell_type": "code",
   "execution_count": 45,
   "metadata": {},
   "outputs": [],
   "source": [
    "nModel = sModel.createNumericInstance()"
   ]
  },
  {
   "cell_type": "code",
   "execution_count": 46,
   "metadata": {},
   "outputs": [
    {
     "name": "stdout",
     "output_type": "stream",
     "text": [
      "Freq = 13.3219265765784, Damping = -0.10596679022055171\n"
     ]
    }
   ],
   "source": [
    "mode = nModel.AeroVibrations()[0][0]\n",
    "print(f'Freq = {np.abs(mode)}, Damping = {np.cos(np.angle(mode))}')\n"
   ]
  },
  {
   "cell_type": "markdown",
   "metadata": {},
   "source": [
    "seems good to me!"
   ]
  }
 ],
 "metadata": {
  "kernelspec": {
   "display_name": "Python 3.7.6 64-bit ('base': conda)",
   "language": "python",
   "name": "python37664bitbasecondac656017b161743c29c94367edc1c83c4"
  },
  "language_info": {
   "codemirror_mode": {
    "name": "ipython",
    "version": 3
   },
   "file_extension": ".py",
   "mimetype": "text/x-python",
   "name": "python",
   "nbconvert_exporter": "python",
   "pygments_lexer": "ipython3",
   "version": "3.7.6"
  }
 },
 "nbformat": 4,
 "nbformat_minor": 2
}
